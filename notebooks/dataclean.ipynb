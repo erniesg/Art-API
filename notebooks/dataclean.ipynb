{
 "cells": [
  {
   "cell_type": "code",
   "execution_count": 1,
   "id": "b712517f",
   "metadata": {
    "ExecuteTime": {
     "end_time": "2023-02-14T07:12:39.415584Z",
     "start_time": "2023-02-14T07:12:38.944780Z"
    }
   },
   "outputs": [],
   "source": [
    "import pandas as pd"
   ]
  },
  {
   "cell_type": "code",
   "execution_count": 2,
   "id": "d323e50c",
   "metadata": {
    "ExecuteTime": {
     "end_time": "2023-02-14T07:12:39.888755Z",
     "start_time": "2023-02-14T07:12:39.794283Z"
    }
   },
   "outputs": [],
   "source": [
    "df=pd.read_csv(\"../raw_data/df_10K_nhb_all.csv\", dtype='str')"
   ]
  },
  {
   "cell_type": "code",
   "execution_count": 3,
   "id": "6533deba",
   "metadata": {
    "ExecuteTime": {
     "end_time": "2023-02-14T07:12:40.126510Z",
     "start_time": "2023-02-14T07:12:40.104582Z"
    }
   },
   "outputs": [
    {
     "data": {
      "text/html": [
       "<div>\n",
       "<style scoped>\n",
       "    .dataframe tbody tr th:only-of-type {\n",
       "        vertical-align: middle;\n",
       "    }\n",
       "\n",
       "    .dataframe tbody tr th {\n",
       "        vertical-align: top;\n",
       "    }\n",
       "\n",
       "    .dataframe thead th {\n",
       "        text-align: right;\n",
       "    }\n",
       "</style>\n",
       "<table border=\"1\" class=\"dataframe\">\n",
       "  <thead>\n",
       "    <tr style=\"text-align: right;\">\n",
       "      <th></th>\n",
       "      <th>Unnamed: 0</th>\n",
       "      <th>documents_0_id</th>\n",
       "      <th>documents_0_title</th>\n",
       "      <th>documents_0_source</th>\n",
       "      <th>documents_0_path</th>\n",
       "      <th>documents_0_content</th>\n",
       "      <th>documents_0_lastModifiedDate</th>\n",
       "      <th>documents_0_metadata_rootsUuid</th>\n",
       "      <th>documents_0_metadata_date_period</th>\n",
       "      <th>documents_0_metadata_collection_of</th>\n",
       "      <th>...</th>\n",
       "      <th>documents_0_tags_subject_29</th>\n",
       "      <th>documents_0_tags_subject_30</th>\n",
       "      <th>documents_0_tags_subject_31</th>\n",
       "      <th>documents_0_tags_subject_32</th>\n",
       "      <th>documents_0_tags_subject_33</th>\n",
       "      <th>documents_0_tags_geobuildings_5</th>\n",
       "      <th>documents_0_tags_geobuildings_6</th>\n",
       "      <th>documents_0_tags_geobuildings_7</th>\n",
       "      <th>documents_0_metadata_scale_type</th>\n",
       "      <th>documents_0_metadata_material_5</th>\n",
       "    </tr>\n",
       "  </thead>\n",
       "  <tbody>\n",
       "    <tr>\n",
       "      <th>0</th>\n",
       "      <td>0</td>\n",
       "      <td>47E60712-DB30-42AE-BFDF-3C4918065A91</td>\n",
       "      <td>Handbill for the Cantonese movie, ‘Peach Bloss...</td>\n",
       "      <td>roots_collections</td>\n",
       "      <td>https://www.roots.gov.sg/Collection-Landing/li...</td>\n",
       "      <td>This handbill was used to advertise the Canton...</td>\n",
       "      <td>04/08/2021</td>\n",
       "      <td>47e60712db3042aebfdf3c4918065a91</td>\n",
       "      <td>1958</td>\n",
       "      <td>National Museum of Singapore</td>\n",
       "      <td>...</td>\n",
       "      <td>NaN</td>\n",
       "      <td>NaN</td>\n",
       "      <td>NaN</td>\n",
       "      <td>NaN</td>\n",
       "      <td>NaN</td>\n",
       "      <td>NaN</td>\n",
       "      <td>NaN</td>\n",
       "      <td>NaN</td>\n",
       "      <td>NaN</td>\n",
       "      <td>NaN</td>\n",
       "    </tr>\n",
       "    <tr>\n",
       "      <th>1</th>\n",
       "      <td>1</td>\n",
       "      <td>C13CCAE3-921C-4C4C-881F-E4AE4591F4F6</td>\n",
       "      <td>Abstract Series</td>\n",
       "      <td>roots_collections</td>\n",
       "      <td>https://www.roots.gov.sg/Collection-Landing/li...</td>\n",
       "      <td>Born in 1934 in Singapore, Chieu Shuey Fook gr...</td>\n",
       "      <td>04/08/2021</td>\n",
       "      <td>c13ccae3921c4c4c881fe4ae4591f4f6</td>\n",
       "      <td>1998</td>\n",
       "      <td>National Gallery Singapore</td>\n",
       "      <td>...</td>\n",
       "      <td>NaN</td>\n",
       "      <td>NaN</td>\n",
       "      <td>NaN</td>\n",
       "      <td>NaN</td>\n",
       "      <td>NaN</td>\n",
       "      <td>NaN</td>\n",
       "      <td>NaN</td>\n",
       "      <td>NaN</td>\n",
       "      <td>NaN</td>\n",
       "      <td>NaN</td>\n",
       "    </tr>\n",
       "    <tr>\n",
       "      <th>2</th>\n",
       "      <td>2</td>\n",
       "      <td>496F5795-5F20-4C9D-B63C-F21E3E187F92</td>\n",
       "      <td>Profile - Girl with ribbon</td>\n",
       "      <td>roots_collections</td>\n",
       "      <td>https://www.roots.gov.sg/Collection-Landing/li...</td>\n",
       "      <td>Tay Boon Pin (b.1936) received training at NAF...</td>\n",
       "      <td>06/08/2021</td>\n",
       "      <td>496f57955f204c9db63cf21e3e187f92</td>\n",
       "      <td>1963</td>\n",
       "      <td>National Gallery Singapore</td>\n",
       "      <td>...</td>\n",
       "      <td>NaN</td>\n",
       "      <td>NaN</td>\n",
       "      <td>NaN</td>\n",
       "      <td>NaN</td>\n",
       "      <td>NaN</td>\n",
       "      <td>NaN</td>\n",
       "      <td>NaN</td>\n",
       "      <td>NaN</td>\n",
       "      <td>NaN</td>\n",
       "      <td>NaN</td>\n",
       "    </tr>\n",
       "    <tr>\n",
       "      <th>3</th>\n",
       "      <td>3</td>\n",
       "      <td>30C350D9-CDA3-41FB-AE7A-220CE268751B</td>\n",
       "      <td>Farmer</td>\n",
       "      <td>roots_collections</td>\n",
       "      <td>https://www.roots.gov.sg/Collection-Landing/li...</td>\n",
       "      <td>Born in Fujian Province, Liu Kang (1911-2004) ...</td>\n",
       "      <td>04/08/2021</td>\n",
       "      <td>30c350d9cda341fbae7a220ce268751b</td>\n",
       "      <td>1987</td>\n",
       "      <td>National Gallery Singapore</td>\n",
       "      <td>...</td>\n",
       "      <td>NaN</td>\n",
       "      <td>NaN</td>\n",
       "      <td>NaN</td>\n",
       "      <td>NaN</td>\n",
       "      <td>NaN</td>\n",
       "      <td>NaN</td>\n",
       "      <td>NaN</td>\n",
       "      <td>NaN</td>\n",
       "      <td>NaN</td>\n",
       "      <td>NaN</td>\n",
       "    </tr>\n",
       "    <tr>\n",
       "      <th>4</th>\n",
       "      <td>4</td>\n",
       "      <td>DF923BAB-1130-4F18-8C0B-C9A428D5151E</td>\n",
       "      <td>Untitled</td>\n",
       "      <td>roots_collections</td>\n",
       "      <td>https://www.roots.gov.sg/Collection-Landing/li...</td>\n",
       "      <td>Tan Teng-Kee was born in Batu Pahat, Johor, Ma...</td>\n",
       "      <td>06/08/2021</td>\n",
       "      <td>df923bab11304f188c0bc9a428d5151e</td>\n",
       "      <td>1977</td>\n",
       "      <td>National Gallery Singapore</td>\n",
       "      <td>...</td>\n",
       "      <td>NaN</td>\n",
       "      <td>NaN</td>\n",
       "      <td>NaN</td>\n",
       "      <td>NaN</td>\n",
       "      <td>NaN</td>\n",
       "      <td>NaN</td>\n",
       "      <td>NaN</td>\n",
       "      <td>NaN</td>\n",
       "      <td>NaN</td>\n",
       "      <td>NaN</td>\n",
       "    </tr>\n",
       "    <tr>\n",
       "      <th>...</th>\n",
       "      <td>...</td>\n",
       "      <td>...</td>\n",
       "      <td>...</td>\n",
       "      <td>...</td>\n",
       "      <td>...</td>\n",
       "      <td>...</td>\n",
       "      <td>...</td>\n",
       "      <td>...</td>\n",
       "      <td>...</td>\n",
       "      <td>...</td>\n",
       "      <td>...</td>\n",
       "      <td>...</td>\n",
       "      <td>...</td>\n",
       "      <td>...</td>\n",
       "      <td>...</td>\n",
       "      <td>...</td>\n",
       "      <td>...</td>\n",
       "      <td>...</td>\n",
       "      <td>...</td>\n",
       "      <td>...</td>\n",
       "      <td>...</td>\n",
       "    </tr>\n",
       "    <tr>\n",
       "      <th>4375</th>\n",
       "      <td>4375</td>\n",
       "      <td>03FBF731-B9AE-44D2-BAC1-2533B34CDDEE</td>\n",
       "      <td>Ceremonial bag</td>\n",
       "      <td>roots_collections</td>\n",
       "      <td>https://www.roots.gov.sg/Collection-Landing/li...</td>\n",
       "      <td>NaN</td>\n",
       "      <td>04/08/2021</td>\n",
       "      <td>03fbf731b9ae44d2bac12533b34cddee</td>\n",
       "      <td>Early 20th century</td>\n",
       "      <td>Asian Civilisations Museum</td>\n",
       "      <td>...</td>\n",
       "      <td>NaN</td>\n",
       "      <td>NaN</td>\n",
       "      <td>NaN</td>\n",
       "      <td>NaN</td>\n",
       "      <td>NaN</td>\n",
       "      <td>NaN</td>\n",
       "      <td>NaN</td>\n",
       "      <td>NaN</td>\n",
       "      <td>NaN</td>\n",
       "      <td>NaN</td>\n",
       "    </tr>\n",
       "    <tr>\n",
       "      <th>4376</th>\n",
       "      <td>4376</td>\n",
       "      <td>F3085CA6-B148-4954-98D7-00F9B5C4FE3B</td>\n",
       "      <td>Miniature seal with monkey</td>\n",
       "      <td>roots_collections</td>\n",
       "      <td>https://www.roots.gov.sg/Collection-Landing/li...</td>\n",
       "      <td>This uncut seal has a carved monkey seated on ...</td>\n",
       "      <td>25/01/2022</td>\n",
       "      <td>f3085ca6b148495498d700f9b5c4fe3b</td>\n",
       "      <td>NaN</td>\n",
       "      <td>NaN</td>\n",
       "      <td>...</td>\n",
       "      <td>NaN</td>\n",
       "      <td>NaN</td>\n",
       "      <td>NaN</td>\n",
       "      <td>NaN</td>\n",
       "      <td>NaN</td>\n",
       "      <td>NaN</td>\n",
       "      <td>NaN</td>\n",
       "      <td>NaN</td>\n",
       "      <td>NaN</td>\n",
       "      <td>NaN</td>\n",
       "    </tr>\n",
       "    <tr>\n",
       "      <th>4377</th>\n",
       "      <td>4377</td>\n",
       "      <td>C5342626-5143-4CE4-8A18-FF028442A40B</td>\n",
       "      <td>Ornament</td>\n",
       "      <td>roots_collections</td>\n",
       "      <td>https://www.roots.gov.sg/Collection-Landing/li...</td>\n",
       "      <td>This silver gilt ornament would have been sewn...</td>\n",
       "      <td>04/08/2021</td>\n",
       "      <td>c534262651434ce48a18ff028442a40b</td>\n",
       "      <td>Early 20th century</td>\n",
       "      <td>Asian Civilisations Museum</td>\n",
       "      <td>...</td>\n",
       "      <td>NaN</td>\n",
       "      <td>NaN</td>\n",
       "      <td>NaN</td>\n",
       "      <td>NaN</td>\n",
       "      <td>NaN</td>\n",
       "      <td>NaN</td>\n",
       "      <td>NaN</td>\n",
       "      <td>NaN</td>\n",
       "      <td>NaN</td>\n",
       "      <td>NaN</td>\n",
       "    </tr>\n",
       "    <tr>\n",
       "      <th>4378</th>\n",
       "      <td>4378</td>\n",
       "      <td>38892231-F5E8-4E6F-A53C-53CF8CC3E132</td>\n",
       "      <td>Not titled (Tea vendor)</td>\n",
       "      <td>roots_collections</td>\n",
       "      <td>https://www.roots.gov.sg/Collection-Landing/li...</td>\n",
       "      <td>Nguyen Trung was born in in 1940, in Soc Trang...</td>\n",
       "      <td>06/08/2021</td>\n",
       "      <td>38892231f5e84e6fa53c53cf8cc3e132</td>\n",
       "      <td>1963</td>\n",
       "      <td>National Gallery Singapore</td>\n",
       "      <td>...</td>\n",
       "      <td>NaN</td>\n",
       "      <td>NaN</td>\n",
       "      <td>NaN</td>\n",
       "      <td>NaN</td>\n",
       "      <td>NaN</td>\n",
       "      <td>NaN</td>\n",
       "      <td>NaN</td>\n",
       "      <td>NaN</td>\n",
       "      <td>NaN</td>\n",
       "      <td>NaN</td>\n",
       "    </tr>\n",
       "    <tr>\n",
       "      <th>4379</th>\n",
       "      <td>4379</td>\n",
       "      <td>B43D8709-0104-4EEC-963A-6A5E9760981C</td>\n",
       "      <td>Caucasian Lady in Red Dress</td>\n",
       "      <td>roots_collections</td>\n",
       "      <td>https://www.roots.gov.sg/Collection-Landing/li...</td>\n",
       "      <td>Born in Fujian Province, Liu Kang (1911-2004) ...</td>\n",
       "      <td>04/08/2021</td>\n",
       "      <td>b43d870901044eec963a6a5e9760981c</td>\n",
       "      <td>1961</td>\n",
       "      <td>National Gallery Singapore</td>\n",
       "      <td>...</td>\n",
       "      <td>NaN</td>\n",
       "      <td>NaN</td>\n",
       "      <td>NaN</td>\n",
       "      <td>NaN</td>\n",
       "      <td>NaN</td>\n",
       "      <td>NaN</td>\n",
       "      <td>NaN</td>\n",
       "      <td>NaN</td>\n",
       "      <td>NaN</td>\n",
       "      <td>NaN</td>\n",
       "    </tr>\n",
       "  </tbody>\n",
       "</table>\n",
       "<p>4380 rows × 223 columns</p>\n",
       "</div>"
      ],
      "text/plain": [
       "     Unnamed: 0                        documents_0_id  \\\n",
       "0             0  47E60712-DB30-42AE-BFDF-3C4918065A91   \n",
       "1             1  C13CCAE3-921C-4C4C-881F-E4AE4591F4F6   \n",
       "2             2  496F5795-5F20-4C9D-B63C-F21E3E187F92   \n",
       "3             3  30C350D9-CDA3-41FB-AE7A-220CE268751B   \n",
       "4             4  DF923BAB-1130-4F18-8C0B-C9A428D5151E   \n",
       "...         ...                                   ...   \n",
       "4375       4375  03FBF731-B9AE-44D2-BAC1-2533B34CDDEE   \n",
       "4376       4376  F3085CA6-B148-4954-98D7-00F9B5C4FE3B   \n",
       "4377       4377  C5342626-5143-4CE4-8A18-FF028442A40B   \n",
       "4378       4378  38892231-F5E8-4E6F-A53C-53CF8CC3E132   \n",
       "4379       4379  B43D8709-0104-4EEC-963A-6A5E9760981C   \n",
       "\n",
       "                                      documents_0_title documents_0_source  \\\n",
       "0     Handbill for the Cantonese movie, ‘Peach Bloss...  roots_collections   \n",
       "1                                       Abstract Series  roots_collections   \n",
       "2                            Profile - Girl with ribbon  roots_collections   \n",
       "3                                                Farmer  roots_collections   \n",
       "4                                              Untitled  roots_collections   \n",
       "...                                                 ...                ...   \n",
       "4375                                     Ceremonial bag  roots_collections   \n",
       "4376                         Miniature seal with monkey  roots_collections   \n",
       "4377                                           Ornament  roots_collections   \n",
       "4378                            Not titled (Tea vendor)  roots_collections   \n",
       "4379                        Caucasian Lady in Red Dress  roots_collections   \n",
       "\n",
       "                                       documents_0_path  \\\n",
       "0     https://www.roots.gov.sg/Collection-Landing/li...   \n",
       "1     https://www.roots.gov.sg/Collection-Landing/li...   \n",
       "2     https://www.roots.gov.sg/Collection-Landing/li...   \n",
       "3     https://www.roots.gov.sg/Collection-Landing/li...   \n",
       "4     https://www.roots.gov.sg/Collection-Landing/li...   \n",
       "...                                                 ...   \n",
       "4375  https://www.roots.gov.sg/Collection-Landing/li...   \n",
       "4376  https://www.roots.gov.sg/Collection-Landing/li...   \n",
       "4377  https://www.roots.gov.sg/Collection-Landing/li...   \n",
       "4378  https://www.roots.gov.sg/Collection-Landing/li...   \n",
       "4379  https://www.roots.gov.sg/Collection-Landing/li...   \n",
       "\n",
       "                                    documents_0_content  \\\n",
       "0     This handbill was used to advertise the Canton...   \n",
       "1     Born in 1934 in Singapore, Chieu Shuey Fook gr...   \n",
       "2     Tay Boon Pin (b.1936) received training at NAF...   \n",
       "3     Born in Fujian Province, Liu Kang (1911-2004) ...   \n",
       "4     Tan Teng-Kee was born in Batu Pahat, Johor, Ma...   \n",
       "...                                                 ...   \n",
       "4375                                                NaN   \n",
       "4376  This uncut seal has a carved monkey seated on ...   \n",
       "4377  This silver gilt ornament would have been sewn...   \n",
       "4378  Nguyen Trung was born in in 1940, in Soc Trang...   \n",
       "4379  Born in Fujian Province, Liu Kang (1911-2004) ...   \n",
       "\n",
       "     documents_0_lastModifiedDate    documents_0_metadata_rootsUuid  \\\n",
       "0                      04/08/2021  47e60712db3042aebfdf3c4918065a91   \n",
       "1                      04/08/2021  c13ccae3921c4c4c881fe4ae4591f4f6   \n",
       "2                      06/08/2021  496f57955f204c9db63cf21e3e187f92   \n",
       "3                      04/08/2021  30c350d9cda341fbae7a220ce268751b   \n",
       "4                      06/08/2021  df923bab11304f188c0bc9a428d5151e   \n",
       "...                           ...                               ...   \n",
       "4375                   04/08/2021  03fbf731b9ae44d2bac12533b34cddee   \n",
       "4376                   25/01/2022  f3085ca6b148495498d700f9b5c4fe3b   \n",
       "4377                   04/08/2021  c534262651434ce48a18ff028442a40b   \n",
       "4378                   06/08/2021  38892231f5e84e6fa53c53cf8cc3e132   \n",
       "4379                   04/08/2021  b43d870901044eec963a6a5e9760981c   \n",
       "\n",
       "     documents_0_metadata_date_period documents_0_metadata_collection_of  ...  \\\n",
       "0                                1958       National Museum of Singapore  ...   \n",
       "1                                1998         National Gallery Singapore  ...   \n",
       "2                                1963         National Gallery Singapore  ...   \n",
       "3                                1987         National Gallery Singapore  ...   \n",
       "4                                1977         National Gallery Singapore  ...   \n",
       "...                               ...                                ...  ...   \n",
       "4375               Early 20th century         Asian Civilisations Museum  ...   \n",
       "4376                              NaN                                NaN  ...   \n",
       "4377               Early 20th century         Asian Civilisations Museum  ...   \n",
       "4378                             1963         National Gallery Singapore  ...   \n",
       "4379                             1961         National Gallery Singapore  ...   \n",
       "\n",
       "     documents_0_tags_subject_29 documents_0_tags_subject_30  \\\n",
       "0                            NaN                         NaN   \n",
       "1                            NaN                         NaN   \n",
       "2                            NaN                         NaN   \n",
       "3                            NaN                         NaN   \n",
       "4                            NaN                         NaN   \n",
       "...                          ...                         ...   \n",
       "4375                         NaN                         NaN   \n",
       "4376                         NaN                         NaN   \n",
       "4377                         NaN                         NaN   \n",
       "4378                         NaN                         NaN   \n",
       "4379                         NaN                         NaN   \n",
       "\n",
       "     documents_0_tags_subject_31 documents_0_tags_subject_32  \\\n",
       "0                            NaN                         NaN   \n",
       "1                            NaN                         NaN   \n",
       "2                            NaN                         NaN   \n",
       "3                            NaN                         NaN   \n",
       "4                            NaN                         NaN   \n",
       "...                          ...                         ...   \n",
       "4375                         NaN                         NaN   \n",
       "4376                         NaN                         NaN   \n",
       "4377                         NaN                         NaN   \n",
       "4378                         NaN                         NaN   \n",
       "4379                         NaN                         NaN   \n",
       "\n",
       "     documents_0_tags_subject_33 documents_0_tags_geobuildings_5  \\\n",
       "0                            NaN                             NaN   \n",
       "1                            NaN                             NaN   \n",
       "2                            NaN                             NaN   \n",
       "3                            NaN                             NaN   \n",
       "4                            NaN                             NaN   \n",
       "...                          ...                             ...   \n",
       "4375                         NaN                             NaN   \n",
       "4376                         NaN                             NaN   \n",
       "4377                         NaN                             NaN   \n",
       "4378                         NaN                             NaN   \n",
       "4379                         NaN                             NaN   \n",
       "\n",
       "     documents_0_tags_geobuildings_6 documents_0_tags_geobuildings_7  \\\n",
       "0                                NaN                             NaN   \n",
       "1                                NaN                             NaN   \n",
       "2                                NaN                             NaN   \n",
       "3                                NaN                             NaN   \n",
       "4                                NaN                             NaN   \n",
       "...                              ...                             ...   \n",
       "4375                             NaN                             NaN   \n",
       "4376                             NaN                             NaN   \n",
       "4377                             NaN                             NaN   \n",
       "4378                             NaN                             NaN   \n",
       "4379                             NaN                             NaN   \n",
       "\n",
       "     documents_0_metadata_scale_type documents_0_metadata_material_5  \n",
       "0                                NaN                             NaN  \n",
       "1                                NaN                             NaN  \n",
       "2                                NaN                             NaN  \n",
       "3                                NaN                             NaN  \n",
       "4                                NaN                             NaN  \n",
       "...                              ...                             ...  \n",
       "4375                             NaN                             NaN  \n",
       "4376                             NaN                             NaN  \n",
       "4377                             NaN                             NaN  \n",
       "4378                             NaN                             NaN  \n",
       "4379                             NaN                             NaN  \n",
       "\n",
       "[4380 rows x 223 columns]"
      ]
     },
     "execution_count": 3,
     "metadata": {},
     "output_type": "execute_result"
    }
   ],
   "source": [
    "df"
   ]
  },
  {
   "cell_type": "code",
   "execution_count": 4,
   "id": "0e078681",
   "metadata": {
    "ExecuteTime": {
     "end_time": "2023-02-14T07:12:42.539298Z",
     "start_time": "2023-02-14T07:12:42.468215Z"
    }
   },
   "outputs": [
    {
     "data": {
      "text/plain": [
       "800421"
      ]
     },
     "execution_count": 4,
     "metadata": {},
     "output_type": "execute_result"
    }
   ],
   "source": [
    "df.isnull().sum().sum()"
   ]
  },
  {
   "cell_type": "code",
   "execution_count": null,
   "id": "6792ffc7",
   "metadata": {
    "ExecuteTime": {
     "start_time": "2023-02-14T07:12:47.246Z"
    }
   },
   "outputs": [
    {
     "data": {
      "application/vnd.jupyter.widget-view+json": {
       "model_id": "4827fb365f934955ab422e1f4d2f81d5",
       "version_major": 2,
       "version_minor": 0
      },
      "text/plain": [
       "Summarize dataset:   0%|          | 0/5 [00:00<?, ?it/s]"
      ]
     },
     "metadata": {},
     "output_type": "display_data"
    },
    {
     "data": {
      "application/vnd.jupyter.widget-view+json": {
       "model_id": "48dc7787ccb94f10a0fb6c0cab0e5cc9",
       "version_major": 2,
       "version_minor": 0
      },
      "text/plain": [
       "Generate report structure:   0%|          | 0/1 [00:00<?, ?it/s]"
      ]
     },
     "metadata": {},
     "output_type": "display_data"
    }
   ],
   "source": [
    "import pandas_profiling\n",
    "df.profile_report()"
   ]
  },
  {
   "cell_type": "code",
   "execution_count": 19,
   "id": "fbba4260",
   "metadata": {
    "ExecuteTime": {
     "end_time": "2023-02-14T04:43:13.966274Z",
     "start_time": "2023-02-14T04:43:13.898574Z"
    }
   },
   "outputs": [
    {
     "data": {
      "text/plain": [
       "Unnamed: 0                         0.000000\n",
       "documents_0_id                     0.001826\n",
       "documents_0_title                  0.001826\n",
       "documents_0_source                 0.001826\n",
       "documents_0_path                   0.001826\n",
       "                                     ...   \n",
       "documents_0_tags_geobuildings_5    0.999543\n",
       "documents_0_tags_geobuildings_6    0.999543\n",
       "documents_0_tags_geobuildings_7    0.999543\n",
       "documents_0_metadata_scale_type    0.999772\n",
       "documents_0_metadata_material_5    0.999772\n",
       "Length: 223, dtype: float64"
      ]
     },
     "execution_count": 19,
     "metadata": {},
     "output_type": "execute_result"
    }
   ],
   "source": [
    "df.isna().sum()/len(df)"
   ]
  },
  {
   "cell_type": "code",
   "execution_count": 21,
   "id": "538bddc1",
   "metadata": {
    "ExecuteTime": {
     "end_time": "2023-02-14T04:45:00.078578Z",
     "start_time": "2023-02-14T04:45:00.074658Z"
    }
   },
   "outputs": [
    {
     "data": {
      "text/plain": [
       "0.4785388127853881"
      ]
     },
     "execution_count": 21,
     "metadata": {},
     "output_type": "execute_result"
    }
   ],
   "source": [
    "df['documents_0_metadata_creator'].isna().sum()/len(df)"
   ]
  },
  {
   "cell_type": "code",
   "execution_count": 22,
   "id": "e73a54e0",
   "metadata": {
    "ExecuteTime": {
     "end_time": "2023-02-14T04:45:36.515610Z",
     "start_time": "2023-02-14T04:45:36.512000Z"
    }
   },
   "outputs": [
    {
     "data": {
      "text/plain": [
       "0.5004566210045662"
      ]
     },
     "execution_count": 22,
     "metadata": {},
     "output_type": "execute_result"
    }
   ],
   "source": [
    "df['documents_0_tags_person_0'].isna().sum()/len(df)"
   ]
  },
  {
   "cell_type": "code",
   "execution_count": 40,
   "id": "04b832ed",
   "metadata": {
    "ExecuteTime": {
     "end_time": "2023-02-14T06:15:37.424999Z",
     "start_time": "2023-02-14T06:15:37.417846Z"
    }
   },
   "outputs": [
    {
     "data": {
      "text/html": [
       "<div>\n",
       "<style scoped>\n",
       "    .dataframe tbody tr th:only-of-type {\n",
       "        vertical-align: middle;\n",
       "    }\n",
       "\n",
       "    .dataframe tbody tr th {\n",
       "        vertical-align: top;\n",
       "    }\n",
       "\n",
       "    .dataframe thead th {\n",
       "        text-align: right;\n",
       "    }\n",
       "</style>\n",
       "<table border=\"1\" class=\"dataframe\">\n",
       "  <thead>\n",
       "    <tr style=\"text-align: right;\">\n",
       "      <th></th>\n",
       "      <th>documents_0_metadata_creator</th>\n",
       "      <th>documents_0_tags_person_0</th>\n",
       "    </tr>\n",
       "  </thead>\n",
       "  <tbody>\n",
       "    <tr>\n",
       "      <th>0</th>\n",
       "      <td>NaN</td>\n",
       "      <td>NaN</td>\n",
       "    </tr>\n",
       "    <tr>\n",
       "      <th>1</th>\n",
       "      <td>Chieu Shuey Fook</td>\n",
       "      <td>Chieu, Shuey Fook</td>\n",
       "    </tr>\n",
       "    <tr>\n",
       "      <th>2</th>\n",
       "      <td>Tay Boon Pin</td>\n",
       "      <td>Tay, Boon Pin</td>\n",
       "    </tr>\n",
       "    <tr>\n",
       "      <th>3</th>\n",
       "      <td>Liu Kang</td>\n",
       "      <td>Liu, Kang</td>\n",
       "    </tr>\n",
       "    <tr>\n",
       "      <th>4</th>\n",
       "      <td>Tan Teng Kee</td>\n",
       "      <td>Tan, Teng Kee</td>\n",
       "    </tr>\n",
       "    <tr>\n",
       "      <th>...</th>\n",
       "      <td>...</td>\n",
       "      <td>...</td>\n",
       "    </tr>\n",
       "    <tr>\n",
       "      <th>4375</th>\n",
       "      <td>NaN</td>\n",
       "      <td>NaN</td>\n",
       "    </tr>\n",
       "    <tr>\n",
       "      <th>4376</th>\n",
       "      <td>NaN</td>\n",
       "      <td>NaN</td>\n",
       "    </tr>\n",
       "    <tr>\n",
       "      <th>4377</th>\n",
       "      <td>NaN</td>\n",
       "      <td>NaN</td>\n",
       "    </tr>\n",
       "    <tr>\n",
       "      <th>4378</th>\n",
       "      <td>Nguyen Trung</td>\n",
       "      <td>Nguyen Trung</td>\n",
       "    </tr>\n",
       "    <tr>\n",
       "      <th>4379</th>\n",
       "      <td>Liu Kang</td>\n",
       "      <td>Liu, Kang</td>\n",
       "    </tr>\n",
       "  </tbody>\n",
       "</table>\n",
       "<p>4380 rows × 2 columns</p>\n",
       "</div>"
      ],
      "text/plain": [
       "     documents_0_metadata_creator documents_0_tags_person_0\n",
       "0                             NaN                       NaN\n",
       "1                Chieu Shuey Fook         Chieu, Shuey Fook\n",
       "2                    Tay Boon Pin             Tay, Boon Pin\n",
       "3                        Liu Kang                 Liu, Kang\n",
       "4                    Tan Teng Kee             Tan, Teng Kee\n",
       "...                           ...                       ...\n",
       "4375                          NaN                       NaN\n",
       "4376                          NaN                       NaN\n",
       "4377                          NaN                       NaN\n",
       "4378                 Nguyen Trung              Nguyen Trung\n",
       "4379                     Liu Kang                 Liu, Kang\n",
       "\n",
       "[4380 rows x 2 columns]"
      ]
     },
     "execution_count": 40,
     "metadata": {},
     "output_type": "execute_result"
    }
   ],
   "source": [
    "df[['documents_0_metadata_creator', 'documents_0_tags_person_0']]"
   ]
  },
  {
   "cell_type": "code",
   "execution_count": 27,
   "id": "47c4403c",
   "metadata": {
    "ExecuteTime": {
     "end_time": "2023-02-14T04:49:04.749361Z",
     "start_time": "2023-02-14T04:49:04.745064Z"
    }
   },
   "outputs": [],
   "source": [
    "df['que'] = df['documents_0_metadata_creator'][(df['documents_0_metadata_creator'] >= df['documents_0_tags_person_0'])]"
   ]
  },
  {
   "cell_type": "code",
   "execution_count": 28,
   "id": "b6378892",
   "metadata": {
    "ExecuteTime": {
     "end_time": "2023-02-14T04:49:08.836094Z",
     "start_time": "2023-02-14T04:49:08.832015Z"
    },
    "scrolled": true
   },
   "outputs": [
    {
     "data": {
      "text/plain": [
       "0                NaN\n",
       "1                NaN\n",
       "2                NaN\n",
       "3                NaN\n",
       "4                NaN\n",
       "            ...     \n",
       "4375             NaN\n",
       "4376             NaN\n",
       "4377             NaN\n",
       "4378    Nguyen Trung\n",
       "4379             NaN\n",
       "Name: que, Length: 4380, dtype: object"
      ]
     },
     "execution_count": 28,
     "metadata": {},
     "output_type": "execute_result"
    }
   ],
   "source": [
    "df['que']"
   ]
  },
  {
   "cell_type": "code",
   "execution_count": 35,
   "id": "0bdecadf",
   "metadata": {
    "ExecuteTime": {
     "end_time": "2023-02-14T04:52:56.134306Z",
     "start_time": "2023-02-14T04:52:56.124615Z"
    }
   },
   "outputs": [
    {
     "data": {
      "text/html": [
       "<div>\n",
       "<style scoped>\n",
       "    .dataframe tbody tr th:only-of-type {\n",
       "        vertical-align: middle;\n",
       "    }\n",
       "\n",
       "    .dataframe tbody tr th {\n",
       "        vertical-align: top;\n",
       "    }\n",
       "\n",
       "    .dataframe thead th {\n",
       "        text-align: right;\n",
       "    }\n",
       "</style>\n",
       "<table border=\"1\" class=\"dataframe\">\n",
       "  <thead>\n",
       "    <tr style=\"text-align: right;\">\n",
       "      <th></th>\n",
       "      <th>self</th>\n",
       "      <th>other</th>\n",
       "    </tr>\n",
       "  </thead>\n",
       "  <tbody>\n",
       "    <tr>\n",
       "      <th>1</th>\n",
       "      <td>Chieu Shuey Fook</td>\n",
       "      <td>Chieu, Shuey Fook</td>\n",
       "    </tr>\n",
       "    <tr>\n",
       "      <th>2</th>\n",
       "      <td>Tay Boon Pin</td>\n",
       "      <td>Tay, Boon Pin</td>\n",
       "    </tr>\n",
       "    <tr>\n",
       "      <th>3</th>\n",
       "      <td>Liu Kang</td>\n",
       "      <td>Liu, Kang</td>\n",
       "    </tr>\n",
       "    <tr>\n",
       "      <th>4</th>\n",
       "      <td>Tan Teng Kee</td>\n",
       "      <td>Tan, Teng Kee</td>\n",
       "    </tr>\n",
       "    <tr>\n",
       "      <th>5</th>\n",
       "      <td>Arthur Yap</td>\n",
       "      <td>Yap, Arthur</td>\n",
       "    </tr>\n",
       "    <tr>\n",
       "      <th>...</th>\n",
       "      <td>...</td>\n",
       "      <td>...</td>\n",
       "    </tr>\n",
       "    <tr>\n",
       "      <th>4366</th>\n",
       "      <td>Georgette Chen</td>\n",
       "      <td>Chen, Georgette</td>\n",
       "    </tr>\n",
       "    <tr>\n",
       "      <th>4368</th>\n",
       "      <td>Ang Ah Tee</td>\n",
       "      <td>Ang, Ah Tee</td>\n",
       "    </tr>\n",
       "    <tr>\n",
       "      <th>4371</th>\n",
       "      <td>Lim Tze Peng</td>\n",
       "      <td>Lim, Tze Peng</td>\n",
       "    </tr>\n",
       "    <tr>\n",
       "      <th>4374</th>\n",
       "      <td>Ang Ah Tee</td>\n",
       "      <td>Ang, Ah Tee</td>\n",
       "    </tr>\n",
       "    <tr>\n",
       "      <th>4379</th>\n",
       "      <td>Liu Kang</td>\n",
       "      <td>Liu, Kang</td>\n",
       "    </tr>\n",
       "  </tbody>\n",
       "</table>\n",
       "<p>1647 rows × 2 columns</p>\n",
       "</div>"
      ],
      "text/plain": [
       "                  self              other\n",
       "1     Chieu Shuey Fook  Chieu, Shuey Fook\n",
       "2         Tay Boon Pin      Tay, Boon Pin\n",
       "3             Liu Kang          Liu, Kang\n",
       "4         Tan Teng Kee      Tan, Teng Kee\n",
       "5           Arthur Yap        Yap, Arthur\n",
       "...                ...                ...\n",
       "4366    Georgette Chen    Chen, Georgette\n",
       "4368        Ang Ah Tee        Ang, Ah Tee\n",
       "4371      Lim Tze Peng      Lim, Tze Peng\n",
       "4374        Ang Ah Tee        Ang, Ah Tee\n",
       "4379          Liu Kang          Liu, Kang\n",
       "\n",
       "[1647 rows x 2 columns]"
      ]
     },
     "execution_count": 35,
     "metadata": {},
     "output_type": "execute_result"
    }
   ],
   "source": [
    "df['documents_0_metadata_creator'].compare(df['documents_0_tags_person_0'])"
   ]
  },
  {
   "cell_type": "code",
   "execution_count": 36,
   "id": "2a77bdb4",
   "metadata": {
    "ExecuteTime": {
     "end_time": "2023-02-14T04:54:56.905923Z",
     "start_time": "2023-02-14T04:54:56.902106Z"
    }
   },
   "outputs": [
    {
     "data": {
      "text/plain": [
       "0.7111872146118722"
      ]
     },
     "execution_count": 36,
     "metadata": {},
     "output_type": "execute_result"
    }
   ],
   "source": [
    "df['documents_0_tags_organisation_0'].isna().sum()/len(df)"
   ]
  },
  {
   "cell_type": "code",
   "execution_count": 39,
   "id": "7f9b0ff5",
   "metadata": {
    "ExecuteTime": {
     "end_time": "2023-02-14T04:58:11.731617Z",
     "start_time": "2023-02-14T04:58:11.726933Z"
    }
   },
   "outputs": [
    {
     "data": {
      "text/plain": [
       "0.2636986301369863"
      ]
     },
     "execution_count": 39,
     "metadata": {},
     "output_type": "execute_result"
    }
   ],
   "source": [
    "df['documents_0_content'].isna().sum()/len(df)"
   ]
  },
  {
   "cell_type": "code",
   "execution_count": null,
   "id": "1e6a4e55",
   "metadata": {},
   "outputs": [],
   "source": []
  }
 ],
 "metadata": {
  "kernelspec": {
   "display_name": "Python 3 (ipykernel)",
   "language": "python",
   "name": "python3"
  },
  "language_info": {
   "codemirror_mode": {
    "name": "ipython",
    "version": 3
   },
   "file_extension": ".py",
   "mimetype": "text/x-python",
   "name": "python",
   "nbconvert_exporter": "python",
   "pygments_lexer": "ipython3",
   "version": "3.8.12"
  },
  "toc": {
   "base_numbering": 1,
   "nav_menu": {},
   "number_sections": true,
   "sideBar": true,
   "skip_h1_title": false,
   "title_cell": "Table of Contents",
   "title_sidebar": "Contents",
   "toc_cell": false,
   "toc_position": {},
   "toc_section_display": true,
   "toc_window_display": false
  }
 },
 "nbformat": 4,
 "nbformat_minor": 5
}

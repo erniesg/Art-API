{
 "cells": [
  {
   "cell_type": "code",
   "execution_count": 8,
   "id": "bc723dd5",
   "metadata": {
    "ExecuteTime": {
     "end_time": "2023-03-09T09:04:27.991582Z",
     "start_time": "2023-03-09T09:04:27.989230Z"
    }
   },
   "outputs": [],
   "source": [
    "import pandas as pd\n",
    "import pathlib\n",
    "from tqdm import tqdm, tqdm_notebook\n",
    "import urllib\n",
    "import urllib.request"
   ]
  },
  {
   "cell_type": "code",
   "execution_count": 2,
   "id": "dd898df1",
   "metadata": {
    "ExecuteTime": {
     "end_time": "2023-03-09T09:03:34.272824Z",
     "start_time": "2023-03-09T09:03:34.258210Z"
    }
   },
   "outputs": [],
   "source": [
    "df = pd.read_csv('../raw_data/csv/collections.csv')"
   ]
  },
  {
   "cell_type": "code",
   "execution_count": 3,
   "id": "a435e540",
   "metadata": {
    "ExecuteTime": {
     "end_time": "2023-03-09T09:03:34.649622Z",
     "start_time": "2023-03-09T09:03:34.638205Z"
    }
   },
   "outputs": [
    {
     "data": {
      "text/html": [
       "<div>\n",
       "<style scoped>\n",
       "    .dataframe tbody tr th:only-of-type {\n",
       "        vertical-align: middle;\n",
       "    }\n",
       "\n",
       "    .dataframe tbody tr th {\n",
       "        vertical-align: top;\n",
       "    }\n",
       "\n",
       "    .dataframe thead th {\n",
       "        text-align: right;\n",
       "    }\n",
       "</style>\n",
       "<table border=\"1\" class=\"dataframe\">\n",
       "  <thead>\n",
       "    <tr style=\"text-align: right;\">\n",
       "      <th></th>\n",
       "      <th>img_url</th>\n",
       "      <th>work_url</th>\n",
       "    </tr>\n",
       "  </thead>\n",
       "  <tbody>\n",
       "    <tr>\n",
       "      <th>0</th>\n",
       "      <td>https://ngs-csp-prod.s3.ap-southeast-1.amazona...</td>\n",
       "      <td>https://collections.nationalgallery.sg/#/detai...</td>\n",
       "    </tr>\n",
       "    <tr>\n",
       "      <th>1</th>\n",
       "      <td>https://ngs-csp-prod.s3.ap-southeast-1.amazona...</td>\n",
       "      <td>https://collections.nationalgallery.sg/#/detai...</td>\n",
       "    </tr>\n",
       "    <tr>\n",
       "      <th>2</th>\n",
       "      <td>https://ngs-csp-prod.s3.ap-southeast-1.amazona...</td>\n",
       "      <td>https://collections.nationalgallery.sg/#/detai...</td>\n",
       "    </tr>\n",
       "    <tr>\n",
       "      <th>3</th>\n",
       "      <td>https://ngs-csp-prod.s3.ap-southeast-1.amazona...</td>\n",
       "      <td>https://collections.nationalgallery.sg/#/detai...</td>\n",
       "    </tr>\n",
       "    <tr>\n",
       "      <th>4</th>\n",
       "      <td>https://ngs-csp-prod.s3.ap-southeast-1.amazona...</td>\n",
       "      <td>https://collections.nationalgallery.sg/#/detai...</td>\n",
       "    </tr>\n",
       "  </tbody>\n",
       "</table>\n",
       "</div>"
      ],
      "text/plain": [
       "                                             img_url  \\\n",
       "0  https://ngs-csp-prod.s3.ap-southeast-1.amazona...   \n",
       "1  https://ngs-csp-prod.s3.ap-southeast-1.amazona...   \n",
       "2  https://ngs-csp-prod.s3.ap-southeast-1.amazona...   \n",
       "3  https://ngs-csp-prod.s3.ap-southeast-1.amazona...   \n",
       "4  https://ngs-csp-prod.s3.ap-southeast-1.amazona...   \n",
       "\n",
       "                                            work_url  \n",
       "0  https://collections.nationalgallery.sg/#/detai...  \n",
       "1  https://collections.nationalgallery.sg/#/detai...  \n",
       "2  https://collections.nationalgallery.sg/#/detai...  \n",
       "3  https://collections.nationalgallery.sg/#/detai...  \n",
       "4  https://collections.nationalgallery.sg/#/detai...  "
      ]
     },
     "execution_count": 3,
     "metadata": {},
     "output_type": "execute_result"
    }
   ],
   "source": [
    "df.head()"
   ]
  },
  {
   "cell_type": "code",
   "execution_count": 4,
   "id": "85df715c",
   "metadata": {
    "ExecuteTime": {
     "end_time": "2023-03-09T09:03:37.351031Z",
     "start_time": "2023-03-09T09:03:37.348602Z"
    }
   },
   "outputs": [],
   "source": [
    "PATH = pathlib.Path('../raw_data')\n",
    "images_path = PATH/'ngs_all'\n",
    "images_path.mkdir(parents=True, exist_ok=True)"
   ]
  },
  {
   "cell_type": "code",
   "execution_count": null,
   "id": "3d4d5b36",
   "metadata": {},
   "outputs": [],
   "source": []
  },
  {
   "cell_type": "code",
   "execution_count": 9,
   "id": "b4bf3c04",
   "metadata": {
    "ExecuteTime": {
     "end_time": "2023-03-09T09:04:40.425611Z",
     "start_time": "2023-03-09T09:04:40.422821Z"
    }
   },
   "outputs": [],
   "source": [
    "def download(path, urls):\n",
    "    for url in tqdm(urls):\n",
    "        opener = urllib.request.build_opener()\n",
    "        opener.addheaders = [('User-Agent', 'MyApp/1.0')]\n",
    "        urllib.request.install_opener(opener)\n",
    "        fname = url[url.rfind('/')+1:]\n",
    "        urllib.request.urlretrieve(url, path/fname)"
   ]
  },
  {
   "cell_type": "code",
   "execution_count": 6,
   "id": "167b1b5e",
   "metadata": {
    "ExecuteTime": {
     "end_time": "2023-03-09T09:03:39.506313Z",
     "start_time": "2023-03-09T09:03:39.502688Z"
    }
   },
   "outputs": [
    {
     "data": {
      "text/plain": [
       "['https://ngs-csp-prod.s3.ap-southeast-1.amazonaws.com/asset/Artwork/2013-00210_o3.jpg',\n",
       " 'https://ngs-csp-prod.s3.ap-southeast-1.amazonaws.com/asset/Artwork/361958.2010-04541_o3.jpg',\n",
       " 'https://ngs-csp-prod.s3.ap-southeast-1.amazonaws.com/asset/Artwork/2014-01440_o3.jpg',\n",
       " 'https://ngs-csp-prod.s3.ap-southeast-1.amazonaws.com/asset/Artwork/2019-00086_o3.jpg',\n",
       " 'https://ngs-csp-prod.s3.ap-southeast-1.amazonaws.com/asset/Artwork/2013-00202_o3.jpg']"
      ]
     },
     "execution_count": 6,
     "metadata": {},
     "output_type": "execute_result"
    }
   ],
   "source": [
    "urls = df['img_url'].tolist(); urls[:5]"
   ]
  },
  {
   "cell_type": "code",
   "execution_count": 44,
   "id": "5e2a3bac",
   "metadata": {
    "ExecuteTime": {
     "end_time": "2023-03-09T13:10:09.749427Z",
     "start_time": "2023-03-09T13:09:11.581686Z"
    }
   },
   "outputs": [
    {
     "name": "stderr",
     "output_type": "stream",
     "text": [
      "100%|███████████████████████████████████████████████████████████████████████████████| 1210/1210 [00:58<00:00, 20.80it/s]\n"
     ]
    }
   ],
   "source": [
    "download(images_path, urls[6000:])"
   ]
  },
  {
   "cell_type": "code",
   "execution_count": null,
   "id": "f47afeca",
   "metadata": {},
   "outputs": [],
   "source": []
  }
 ],
 "metadata": {
  "kernelspec": {
   "display_name": "Python 3 (ipykernel)",
   "language": "python",
   "name": "python3"
  },
  "language_info": {
   "codemirror_mode": {
    "name": "ipython",
    "version": 3
   },
   "file_extension": ".py",
   "mimetype": "text/x-python",
   "name": "python",
   "nbconvert_exporter": "python",
   "pygments_lexer": "ipython3",
   "version": "3.8.12"
  },
  "toc": {
   "base_numbering": 1,
   "nav_menu": {},
   "number_sections": true,
   "sideBar": true,
   "skip_h1_title": false,
   "title_cell": "Table of Contents",
   "title_sidebar": "Contents",
   "toc_cell": false,
   "toc_position": {},
   "toc_section_display": true,
   "toc_window_display": false
  }
 },
 "nbformat": 4,
 "nbformat_minor": 5
}

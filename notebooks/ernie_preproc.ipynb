{
 "cells": [
  {
   "cell_type": "code",
   "execution_count": 353,
   "id": "91b74510",
   "metadata": {
    "ExecuteTime": {
     "end_time": "2022-09-03T08:43:12.805341Z",
     "start_time": "2022-09-03T08:43:12.058967Z"
    }
   },
   "outputs": [
    {
     "name": "stdout",
     "output_type": "stream",
     "text": [
      "The autoreload extension is already loaded. To reload it, use:\n",
      "  %reload_ext autoreload\n"
     ]
    }
   ],
   "source": [
    "import pandas as pd\n",
    "from urllib.request import Request, urlopen, urlretrieve\n",
    "from pathlib import Path  \n",
    "import ssl\n",
    "import tqdm\n",
    "import os\n",
    "import re\n",
    "from sklearn.preprocessing import MultiLabelBinarizer\n",
    "%load_ext autoreload"
   ]
  },
  {
   "cell_type": "code",
   "execution_count": 152,
   "id": "a0b73946",
   "metadata": {
    "ExecuteTime": {
     "end_time": "2022-09-03T07:33:57.480755Z",
     "start_time": "2022-09-03T07:33:57.476172Z"
    }
   },
   "outputs": [],
   "source": [
    "BUCKET_NAME = 'art-api-sg'\n",
    "#BUCKET_TRAIN_DATA_PATH = 'data/train_1k.csv'\n",
    "BUCKET_TRAIN_DATA_PATH = 'yourpaintings'\n",
    "PATH = Path(\"../raw_data\")\n",
    "PATH_YOURPAINTINGS = PATH/\"yourpaintings\"\n",
    "MODEL_NAME = 'art-api'\n",
    "MODEL_VERSION = 'baseline'"
   ]
  },
  {
   "cell_type": "code",
   "execution_count": 345,
   "id": "8c0f5686",
   "metadata": {
    "ExecuteTime": {
     "end_time": "2022-09-03T08:37:46.022428Z",
     "start_time": "2022-09-03T08:37:41.805635Z"
    },
    "scrolled": true
   },
   "outputs": [
    {
     "data": {
      "text/html": [
       "<div>\n",
       "<style scoped>\n",
       "    .dataframe tbody tr th:only-of-type {\n",
       "        vertical-align: middle;\n",
       "    }\n",
       "\n",
       "    .dataframe tbody tr th {\n",
       "        vertical-align: top;\n",
       "    }\n",
       "\n",
       "    .dataframe thead th {\n",
       "        text-align: right;\n",
       "    }\n",
       "</style>\n",
       "<table border=\"1\" class=\"dataframe\">\n",
       "  <thead>\n",
       "    <tr style=\"text-align: right;\">\n",
       "      <th></th>\n",
       "      <th>Image URL</th>\n",
       "      <th>Web page URL</th>\n",
       "      <th>Subset</th>\n",
       "      <th>Labels</th>\n",
       "    </tr>\n",
       "  </thead>\n",
       "  <tbody>\n",
       "    <tr>\n",
       "      <th>15</th>\n",
       "      <td>https://d3d00swyhr67nd.cloudfront.net/w1200h12...</td>\n",
       "      <td>https://artuk.org/discover/artworks/a-seventee...</td>\n",
       "      <td>'test'</td>\n",
       "      <td>' chair diningtable dog'</td>\n",
       "    </tr>\n",
       "    <tr>\n",
       "      <th>16</th>\n",
       "      <td>https://d3d00swyhr67nd.cloudfront.net/w1200h12...</td>\n",
       "      <td>https://artuk.org/discover/artworks/a-20-havoc...</td>\n",
       "      <td>'test'</td>\n",
       "      <td>' aeroplane'</td>\n",
       "    </tr>\n",
       "    <tr>\n",
       "      <th>17</th>\n",
       "      <td>https://d3d00swyhr67nd.cloudfront.net/w1200h12...</td>\n",
       "      <td>https://artuk.org/discover/artworks/a-basket-o...</td>\n",
       "      <td>'train'</td>\n",
       "      <td>' bird dog'</td>\n",
       "    </tr>\n",
       "    <tr>\n",
       "      <th>18</th>\n",
       "      <td>https://d3d00swyhr67nd.cloudfront.net/w1200h12...</td>\n",
       "      <td>https://artuk.org/discover/artworks/a-basket-o...</td>\n",
       "      <td>'train'</td>\n",
       "      <td>' bird'</td>\n",
       "    </tr>\n",
       "    <tr>\n",
       "      <th>19</th>\n",
       "      <td>https://d3d00swyhr67nd.cloudfront.net/w1200h12...</td>\n",
       "      <td>https://artuk.org/discover/artworks/a-bather-7936</td>\n",
       "      <td>'test'</td>\n",
       "      <td>' chair'</td>\n",
       "    </tr>\n",
       "  </tbody>\n",
       "</table>\n",
       "</div>"
      ],
      "text/plain": [
       "                                            Image URL  \\\n",
       "15  https://d3d00swyhr67nd.cloudfront.net/w1200h12...   \n",
       "16  https://d3d00swyhr67nd.cloudfront.net/w1200h12...   \n",
       "17  https://d3d00swyhr67nd.cloudfront.net/w1200h12...   \n",
       "18  https://d3d00swyhr67nd.cloudfront.net/w1200h12...   \n",
       "19  https://d3d00swyhr67nd.cloudfront.net/w1200h12...   \n",
       "\n",
       "                                         Web page URL   Subset  \\\n",
       "15  https://artuk.org/discover/artworks/a-seventee...   'test'   \n",
       "16  https://artuk.org/discover/artworks/a-20-havoc...   'test'   \n",
       "17  https://artuk.org/discover/artworks/a-basket-o...  'train'   \n",
       "18  https://artuk.org/discover/artworks/a-basket-o...  'train'   \n",
       "19  https://artuk.org/discover/artworks/a-bather-7936   'test'   \n",
       "\n",
       "                      Labels  \n",
       "15  ' chair diningtable dog'  \n",
       "16              ' aeroplane'  \n",
       "17               ' bird dog'  \n",
       "18                   ' bird'  \n",
       "19                  ' chair'  "
      ]
     },
     "execution_count": 345,
     "metadata": {},
     "output_type": "execute_result"
    }
   ],
   "source": [
    "df_yourpaintings = pd.read_csv(\"https://www.robots.ox.ac.uk/~vgg/data/paintings/painting_dataset_2021.csv\")\n",
    "df_yourpaintings = df_yourpaintings.drop_duplicates()\n",
    "df_yourpaintings = df_yourpaintings.dropna()\n",
    "df_yourpaintings = df_yourpaintings[15:20]\n",
    "df_yourpaintings"
   ]
  },
  {
   "cell_type": "code",
   "execution_count": 346,
   "id": "d6f41a1f",
   "metadata": {
    "ExecuteTime": {
     "end_time": "2022-09-03T08:37:46.036914Z",
     "start_time": "2022-09-03T08:37:46.025082Z"
    }
   },
   "outputs": [
    {
     "data": {
      "text/html": [
       "<div>\n",
       "<style scoped>\n",
       "    .dataframe tbody tr th:only-of-type {\n",
       "        vertical-align: middle;\n",
       "    }\n",
       "\n",
       "    .dataframe tbody tr th {\n",
       "        vertical-align: top;\n",
       "    }\n",
       "\n",
       "    .dataframe thead th {\n",
       "        text-align: right;\n",
       "    }\n",
       "</style>\n",
       "<table border=\"1\" class=\"dataframe\">\n",
       "  <thead>\n",
       "    <tr style=\"text-align: right;\">\n",
       "      <th></th>\n",
       "      <th>Image URL</th>\n",
       "      <th>Web page URL</th>\n",
       "      <th>Subset</th>\n",
       "      <th>Labels</th>\n",
       "    </tr>\n",
       "  </thead>\n",
       "  <tbody>\n",
       "    <tr>\n",
       "      <th>0</th>\n",
       "      <td>https://d3d00swyhr67nd.cloudfront.net/w1200h12...</td>\n",
       "      <td>https://artuk.org/discover/artworks/a-seventee...</td>\n",
       "      <td>'test'</td>\n",
       "      <td>' chair diningtable dog'</td>\n",
       "    </tr>\n",
       "    <tr>\n",
       "      <th>1</th>\n",
       "      <td>https://d3d00swyhr67nd.cloudfront.net/w1200h12...</td>\n",
       "      <td>https://artuk.org/discover/artworks/a-20-havoc...</td>\n",
       "      <td>'test'</td>\n",
       "      <td>' aeroplane'</td>\n",
       "    </tr>\n",
       "    <tr>\n",
       "      <th>2</th>\n",
       "      <td>https://d3d00swyhr67nd.cloudfront.net/w1200h12...</td>\n",
       "      <td>https://artuk.org/discover/artworks/a-basket-o...</td>\n",
       "      <td>'train'</td>\n",
       "      <td>' bird dog'</td>\n",
       "    </tr>\n",
       "    <tr>\n",
       "      <th>3</th>\n",
       "      <td>https://d3d00swyhr67nd.cloudfront.net/w1200h12...</td>\n",
       "      <td>https://artuk.org/discover/artworks/a-basket-o...</td>\n",
       "      <td>'train'</td>\n",
       "      <td>' bird'</td>\n",
       "    </tr>\n",
       "    <tr>\n",
       "      <th>4</th>\n",
       "      <td>https://d3d00swyhr67nd.cloudfront.net/w1200h12...</td>\n",
       "      <td>https://artuk.org/discover/artworks/a-bather-7936</td>\n",
       "      <td>'test'</td>\n",
       "      <td>' chair'</td>\n",
       "    </tr>\n",
       "    <tr>\n",
       "      <th>5</th>\n",
       "      <td>http:// google.com</td>\n",
       "      <td>http://test.com</td>\n",
       "      <td>subset values</td>\n",
       "      <td>chair diningtable dog</td>\n",
       "    </tr>\n",
       "  </tbody>\n",
       "</table>\n",
       "</div>"
      ],
      "text/plain": [
       "                                           Image URL  \\\n",
       "0  https://d3d00swyhr67nd.cloudfront.net/w1200h12...   \n",
       "1  https://d3d00swyhr67nd.cloudfront.net/w1200h12...   \n",
       "2  https://d3d00swyhr67nd.cloudfront.net/w1200h12...   \n",
       "3  https://d3d00swyhr67nd.cloudfront.net/w1200h12...   \n",
       "4  https://d3d00swyhr67nd.cloudfront.net/w1200h12...   \n",
       "5                                 http:// google.com   \n",
       "\n",
       "                                        Web page URL         Subset  \\\n",
       "0  https://artuk.org/discover/artworks/a-seventee...         'test'   \n",
       "1  https://artuk.org/discover/artworks/a-20-havoc...         'test'   \n",
       "2  https://artuk.org/discover/artworks/a-basket-o...        'train'   \n",
       "3  https://artuk.org/discover/artworks/a-basket-o...        'train'   \n",
       "4  https://artuk.org/discover/artworks/a-bather-7936         'test'   \n",
       "5                                    http://test.com  subset values   \n",
       "\n",
       "                     Labels  \n",
       "0  ' chair diningtable dog'  \n",
       "1              ' aeroplane'  \n",
       "2               ' bird dog'  \n",
       "3                   ' bird'  \n",
       "4                  ' chair'  \n",
       "5     chair diningtable dog  "
      ]
     },
     "execution_count": 346,
     "metadata": {},
     "output_type": "execute_result"
    }
   ],
   "source": [
    "test = pd.DataFrame([{'Image URL': 'http:// google.com',\n",
    "                      'Web page URL': 'http://test.com',\n",
    "                      'Subset': 'subset values',\n",
    "                      'Labels': 'chair diningtable dog'}])\n",
    "\n",
    "df_yourpaintings = pd.concat([df_yourpaintings, test], axis=0, ignore_index=True)\n",
    "df_yourpaintings"
   ]
  },
  {
   "cell_type": "code",
   "execution_count": 347,
   "id": "4d9c2bef",
   "metadata": {
    "ExecuteTime": {
     "end_time": "2022-09-03T08:37:48.262064Z",
     "start_time": "2022-09-03T08:37:47.555299Z"
    }
   },
   "outputs": [],
   "source": [
    "# for every row, save images from working urls and drop rows with inaccessible images\n",
    "for index, row in df_yourpaintings.iterrows():\n",
    "    url = str(row[\"Image URL\"])\n",
    "    fname = url[url.rfind(\"/\")+1:]\n",
    "    try:\n",
    "        save_file = os.path.join(PATH_YOURPAINTINGS, fname)\n",
    "        urlretrieve(url, save_file)\n",
    "        df_yourpaintings.at[index, \"filename\"] = fname\n",
    "    except:\n",
    "        df_yourpaintings.drop(index=index, axis=0, inplace=True)"
   ]
  },
  {
   "cell_type": "code",
   "execution_count": 348,
   "id": "0add41c5",
   "metadata": {
    "ExecuteTime": {
     "end_time": "2022-09-03T08:37:54.481950Z",
     "start_time": "2022-09-03T08:37:54.471535Z"
    }
   },
   "outputs": [
    {
     "data": {
      "text/html": [
       "<div>\n",
       "<style scoped>\n",
       "    .dataframe tbody tr th:only-of-type {\n",
       "        vertical-align: middle;\n",
       "    }\n",
       "\n",
       "    .dataframe tbody tr th {\n",
       "        vertical-align: top;\n",
       "    }\n",
       "\n",
       "    .dataframe thead th {\n",
       "        text-align: right;\n",
       "    }\n",
       "</style>\n",
       "<table border=\"1\" class=\"dataframe\">\n",
       "  <thead>\n",
       "    <tr style=\"text-align: right;\">\n",
       "      <th></th>\n",
       "      <th>Image URL</th>\n",
       "      <th>Web page URL</th>\n",
       "      <th>Subset</th>\n",
       "      <th>Labels</th>\n",
       "      <th>filename</th>\n",
       "    </tr>\n",
       "  </thead>\n",
       "  <tbody>\n",
       "    <tr>\n",
       "      <th>0</th>\n",
       "      <td>https://d3d00swyhr67nd.cloudfront.net/w1200h12...</td>\n",
       "      <td>https://artuk.org/discover/artworks/a-seventee...</td>\n",
       "      <td>'test'</td>\n",
       "      <td>' chair diningtable dog'</td>\n",
       "      <td>NY_YAG_YORAG_326-001.jpg</td>\n",
       "    </tr>\n",
       "    <tr>\n",
       "      <th>1</th>\n",
       "      <td>https://d3d00swyhr67nd.cloudfront.net/w1200h12...</td>\n",
       "      <td>https://artuk.org/discover/artworks/a-20-havoc...</td>\n",
       "      <td>'test'</td>\n",
       "      <td>' aeroplane'</td>\n",
       "      <td>LNE_RAFM_FA03538-001.jpg</td>\n",
       "    </tr>\n",
       "    <tr>\n",
       "      <th>2</th>\n",
       "      <td>https://d3d00swyhr67nd.cloudfront.net/w1200h12...</td>\n",
       "      <td>https://artuk.org/discover/artworks/a-basket-o...</td>\n",
       "      <td>'train'</td>\n",
       "      <td>' bird dog'</td>\n",
       "      <td>DUR_DBM_770-001.jpg</td>\n",
       "    </tr>\n",
       "    <tr>\n",
       "      <th>3</th>\n",
       "      <td>https://d3d00swyhr67nd.cloudfront.net/w1200h12...</td>\n",
       "      <td>https://artuk.org/discover/artworks/a-basket-o...</td>\n",
       "      <td>'train'</td>\n",
       "      <td>' bird'</td>\n",
       "      <td>DUR_DBM_769-001.jpg</td>\n",
       "    </tr>\n",
       "    <tr>\n",
       "      <th>4</th>\n",
       "      <td>https://d3d00swyhr67nd.cloudfront.net/w1200h12...</td>\n",
       "      <td>https://artuk.org/discover/artworks/a-bather-7936</td>\n",
       "      <td>'test'</td>\n",
       "      <td>' chair'</td>\n",
       "      <td>NY_YAG_YORAG_66-001.jpg</td>\n",
       "    </tr>\n",
       "  </tbody>\n",
       "</table>\n",
       "</div>"
      ],
      "text/plain": [
       "                                           Image URL  \\\n",
       "0  https://d3d00swyhr67nd.cloudfront.net/w1200h12...   \n",
       "1  https://d3d00swyhr67nd.cloudfront.net/w1200h12...   \n",
       "2  https://d3d00swyhr67nd.cloudfront.net/w1200h12...   \n",
       "3  https://d3d00swyhr67nd.cloudfront.net/w1200h12...   \n",
       "4  https://d3d00swyhr67nd.cloudfront.net/w1200h12...   \n",
       "\n",
       "                                        Web page URL   Subset  \\\n",
       "0  https://artuk.org/discover/artworks/a-seventee...   'test'   \n",
       "1  https://artuk.org/discover/artworks/a-20-havoc...   'test'   \n",
       "2  https://artuk.org/discover/artworks/a-basket-o...  'train'   \n",
       "3  https://artuk.org/discover/artworks/a-basket-o...  'train'   \n",
       "4  https://artuk.org/discover/artworks/a-bather-7936   'test'   \n",
       "\n",
       "                     Labels                  filename  \n",
       "0  ' chair diningtable dog'  NY_YAG_YORAG_326-001.jpg  \n",
       "1              ' aeroplane'  LNE_RAFM_FA03538-001.jpg  \n",
       "2               ' bird dog'       DUR_DBM_770-001.jpg  \n",
       "3                   ' bird'       DUR_DBM_769-001.jpg  \n",
       "4                  ' chair'   NY_YAG_YORAG_66-001.jpg  "
      ]
     },
     "execution_count": 348,
     "metadata": {},
     "output_type": "execute_result"
    }
   ],
   "source": [
    "df_yourpaintings"
   ]
  },
  {
   "cell_type": "code",
   "execution_count": 349,
   "id": "2cad5186",
   "metadata": {
    "ExecuteTime": {
     "end_time": "2022-09-03T08:37:55.232165Z",
     "start_time": "2022-09-03T08:37:55.226086Z"
    }
   },
   "outputs": [],
   "source": [
    "# extract labels into a new column called 'label_classes'\n",
    "for index, row in df_yourpaintings.iterrows():\n",
    "    text = str(row[\"Labels\"])\n",
    "    words_list = re.findall(\"[a-z]+\", text, flags=re.IGNORECASE)\n",
    "    df_yourpaintings.loc[index, \"label_classes\"] = 'test'\n",
    "    df_yourpaintings.at[index, \"label_classes\"] = words_list"
   ]
  },
  {
   "cell_type": "code",
   "execution_count": 350,
   "id": "9cf97554",
   "metadata": {
    "ExecuteTime": {
     "end_time": "2022-09-03T08:37:56.433776Z",
     "start_time": "2022-09-03T08:37:56.420041Z"
    }
   },
   "outputs": [
    {
     "data": {
      "text/html": [
       "<div>\n",
       "<style scoped>\n",
       "    .dataframe tbody tr th:only-of-type {\n",
       "        vertical-align: middle;\n",
       "    }\n",
       "\n",
       "    .dataframe tbody tr th {\n",
       "        vertical-align: top;\n",
       "    }\n",
       "\n",
       "    .dataframe thead th {\n",
       "        text-align: right;\n",
       "    }\n",
       "</style>\n",
       "<table border=\"1\" class=\"dataframe\">\n",
       "  <thead>\n",
       "    <tr style=\"text-align: right;\">\n",
       "      <th></th>\n",
       "      <th>Image URL</th>\n",
       "      <th>Web page URL</th>\n",
       "      <th>Subset</th>\n",
       "      <th>Labels</th>\n",
       "      <th>filename</th>\n",
       "      <th>label_classes</th>\n",
       "    </tr>\n",
       "  </thead>\n",
       "  <tbody>\n",
       "    <tr>\n",
       "      <th>0</th>\n",
       "      <td>https://d3d00swyhr67nd.cloudfront.net/w1200h12...</td>\n",
       "      <td>https://artuk.org/discover/artworks/a-seventee...</td>\n",
       "      <td>'test'</td>\n",
       "      <td>' chair diningtable dog'</td>\n",
       "      <td>NY_YAG_YORAG_326-001.jpg</td>\n",
       "      <td>[chair, diningtable, dog]</td>\n",
       "    </tr>\n",
       "    <tr>\n",
       "      <th>1</th>\n",
       "      <td>https://d3d00swyhr67nd.cloudfront.net/w1200h12...</td>\n",
       "      <td>https://artuk.org/discover/artworks/a-20-havoc...</td>\n",
       "      <td>'test'</td>\n",
       "      <td>' aeroplane'</td>\n",
       "      <td>LNE_RAFM_FA03538-001.jpg</td>\n",
       "      <td>[aeroplane]</td>\n",
       "    </tr>\n",
       "    <tr>\n",
       "      <th>2</th>\n",
       "      <td>https://d3d00swyhr67nd.cloudfront.net/w1200h12...</td>\n",
       "      <td>https://artuk.org/discover/artworks/a-basket-o...</td>\n",
       "      <td>'train'</td>\n",
       "      <td>' bird dog'</td>\n",
       "      <td>DUR_DBM_770-001.jpg</td>\n",
       "      <td>[bird, dog]</td>\n",
       "    </tr>\n",
       "    <tr>\n",
       "      <th>3</th>\n",
       "      <td>https://d3d00swyhr67nd.cloudfront.net/w1200h12...</td>\n",
       "      <td>https://artuk.org/discover/artworks/a-basket-o...</td>\n",
       "      <td>'train'</td>\n",
       "      <td>' bird'</td>\n",
       "      <td>DUR_DBM_769-001.jpg</td>\n",
       "      <td>[bird]</td>\n",
       "    </tr>\n",
       "    <tr>\n",
       "      <th>4</th>\n",
       "      <td>https://d3d00swyhr67nd.cloudfront.net/w1200h12...</td>\n",
       "      <td>https://artuk.org/discover/artworks/a-bather-7936</td>\n",
       "      <td>'test'</td>\n",
       "      <td>' chair'</td>\n",
       "      <td>NY_YAG_YORAG_66-001.jpg</td>\n",
       "      <td>[chair]</td>\n",
       "    </tr>\n",
       "  </tbody>\n",
       "</table>\n",
       "</div>"
      ],
      "text/plain": [
       "                                           Image URL  \\\n",
       "0  https://d3d00swyhr67nd.cloudfront.net/w1200h12...   \n",
       "1  https://d3d00swyhr67nd.cloudfront.net/w1200h12...   \n",
       "2  https://d3d00swyhr67nd.cloudfront.net/w1200h12...   \n",
       "3  https://d3d00swyhr67nd.cloudfront.net/w1200h12...   \n",
       "4  https://d3d00swyhr67nd.cloudfront.net/w1200h12...   \n",
       "\n",
       "                                        Web page URL   Subset  \\\n",
       "0  https://artuk.org/discover/artworks/a-seventee...   'test'   \n",
       "1  https://artuk.org/discover/artworks/a-20-havoc...   'test'   \n",
       "2  https://artuk.org/discover/artworks/a-basket-o...  'train'   \n",
       "3  https://artuk.org/discover/artworks/a-basket-o...  'train'   \n",
       "4  https://artuk.org/discover/artworks/a-bather-7936   'test'   \n",
       "\n",
       "                     Labels                  filename  \\\n",
       "0  ' chair diningtable dog'  NY_YAG_YORAG_326-001.jpg   \n",
       "1              ' aeroplane'  LNE_RAFM_FA03538-001.jpg   \n",
       "2               ' bird dog'       DUR_DBM_770-001.jpg   \n",
       "3                   ' bird'       DUR_DBM_769-001.jpg   \n",
       "4                  ' chair'   NY_YAG_YORAG_66-001.jpg   \n",
       "\n",
       "               label_classes  \n",
       "0  [chair, diningtable, dog]  \n",
       "1                [aeroplane]  \n",
       "2                [bird, dog]  \n",
       "3                     [bird]  \n",
       "4                    [chair]  "
      ]
     },
     "execution_count": 350,
     "metadata": {},
     "output_type": "execute_result"
    }
   ],
   "source": [
    "df_yourpaintings"
   ]
  },
  {
   "cell_type": "code",
   "execution_count": 386,
   "id": "bf366f78",
   "metadata": {
    "ExecuteTime": {
     "end_time": "2022-09-03T08:50:44.569361Z",
     "start_time": "2022-09-03T08:50:44.563514Z"
    }
   },
   "outputs": [],
   "source": [
    "#save images that are successfuly downloaded into a clean csv\n",
    "filepath = Path(yourpaintings_path/\"df_yourpaintings.csv\")  \n",
    "filepath.parent.mkdir(parents=True, exist_ok=True)  \n",
    "df_yourpaintings.to_csv(filepath, index=False)"
   ]
  },
  {
   "cell_type": "code",
   "execution_count": 389,
   "id": "2ed20fcd",
   "metadata": {
    "ExecuteTime": {
     "end_time": "2022-09-03T08:51:27.407420Z",
     "start_time": "2022-09-03T08:51:27.392524Z"
    }
   },
   "outputs": [
    {
     "data": {
      "text/html": [
       "<div>\n",
       "<style scoped>\n",
       "    .dataframe tbody tr th:only-of-type {\n",
       "        vertical-align: middle;\n",
       "    }\n",
       "\n",
       "    .dataframe tbody tr th {\n",
       "        vertical-align: top;\n",
       "    }\n",
       "\n",
       "    .dataframe thead th {\n",
       "        text-align: right;\n",
       "    }\n",
       "</style>\n",
       "<table border=\"1\" class=\"dataframe\">\n",
       "  <thead>\n",
       "    <tr style=\"text-align: right;\">\n",
       "      <th></th>\n",
       "      <th>Image URL</th>\n",
       "      <th>Web page URL</th>\n",
       "      <th>Subset</th>\n",
       "      <th>Labels</th>\n",
       "      <th>filename</th>\n",
       "      <th>label_classes</th>\n",
       "    </tr>\n",
       "  </thead>\n",
       "  <tbody>\n",
       "    <tr>\n",
       "      <th>0</th>\n",
       "      <td>https://d3d00swyhr67nd.cloudfront.net/w1200h12...</td>\n",
       "      <td>https://artuk.org/discover/artworks/a-seventee...</td>\n",
       "      <td>'test'</td>\n",
       "      <td>' chair diningtable dog'</td>\n",
       "      <td>NY_YAG_YORAG_326-001.jpg</td>\n",
       "      <td>['chair', 'diningtable', 'dog']</td>\n",
       "    </tr>\n",
       "    <tr>\n",
       "      <th>1</th>\n",
       "      <td>https://d3d00swyhr67nd.cloudfront.net/w1200h12...</td>\n",
       "      <td>https://artuk.org/discover/artworks/a-20-havoc...</td>\n",
       "      <td>'test'</td>\n",
       "      <td>' aeroplane'</td>\n",
       "      <td>LNE_RAFM_FA03538-001.jpg</td>\n",
       "      <td>['aeroplane']</td>\n",
       "    </tr>\n",
       "    <tr>\n",
       "      <th>2</th>\n",
       "      <td>https://d3d00swyhr67nd.cloudfront.net/w1200h12...</td>\n",
       "      <td>https://artuk.org/discover/artworks/a-basket-o...</td>\n",
       "      <td>'train'</td>\n",
       "      <td>' bird dog'</td>\n",
       "      <td>DUR_DBM_770-001.jpg</td>\n",
       "      <td>['bird', 'dog']</td>\n",
       "    </tr>\n",
       "    <tr>\n",
       "      <th>3</th>\n",
       "      <td>https://d3d00swyhr67nd.cloudfront.net/w1200h12...</td>\n",
       "      <td>https://artuk.org/discover/artworks/a-basket-o...</td>\n",
       "      <td>'train'</td>\n",
       "      <td>' bird'</td>\n",
       "      <td>DUR_DBM_769-001.jpg</td>\n",
       "      <td>['bird']</td>\n",
       "    </tr>\n",
       "    <tr>\n",
       "      <th>4</th>\n",
       "      <td>https://d3d00swyhr67nd.cloudfront.net/w1200h12...</td>\n",
       "      <td>https://artuk.org/discover/artworks/a-bather-7936</td>\n",
       "      <td>'test'</td>\n",
       "      <td>' chair'</td>\n",
       "      <td>NY_YAG_YORAG_66-001.jpg</td>\n",
       "      <td>['chair']</td>\n",
       "    </tr>\n",
       "  </tbody>\n",
       "</table>\n",
       "</div>"
      ],
      "text/plain": [
       "                                           Image URL  \\\n",
       "0  https://d3d00swyhr67nd.cloudfront.net/w1200h12...   \n",
       "1  https://d3d00swyhr67nd.cloudfront.net/w1200h12...   \n",
       "2  https://d3d00swyhr67nd.cloudfront.net/w1200h12...   \n",
       "3  https://d3d00swyhr67nd.cloudfront.net/w1200h12...   \n",
       "4  https://d3d00swyhr67nd.cloudfront.net/w1200h12...   \n",
       "\n",
       "                                        Web page URL   Subset  \\\n",
       "0  https://artuk.org/discover/artworks/a-seventee...   'test'   \n",
       "1  https://artuk.org/discover/artworks/a-20-havoc...   'test'   \n",
       "2  https://artuk.org/discover/artworks/a-basket-o...  'train'   \n",
       "3  https://artuk.org/discover/artworks/a-basket-o...  'train'   \n",
       "4  https://artuk.org/discover/artworks/a-bather-7936   'test'   \n",
       "\n",
       "                     Labels                  filename  \\\n",
       "0  ' chair diningtable dog'  NY_YAG_YORAG_326-001.jpg   \n",
       "1              ' aeroplane'  LNE_RAFM_FA03538-001.jpg   \n",
       "2               ' bird dog'       DUR_DBM_770-001.jpg   \n",
       "3                   ' bird'       DUR_DBM_769-001.jpg   \n",
       "4                  ' chair'   NY_YAG_YORAG_66-001.jpg   \n",
       "\n",
       "                     label_classes  \n",
       "0  ['chair', 'diningtable', 'dog']  \n",
       "1                    ['aeroplane']  \n",
       "2                  ['bird', 'dog']  \n",
       "3                         ['bird']  \n",
       "4                        ['chair']  "
      ]
     },
     "execution_count": 389,
     "metadata": {},
     "output_type": "execute_result"
    }
   ],
   "source": [
    "df = pd.read_csv(filepath)\n",
    "df"
   ]
  },
  {
   "cell_type": "code",
   "execution_count": null,
   "id": "d7913698",
   "metadata": {},
   "outputs": [],
   "source": [
    "df[\"label_classes\"] = df[\"label_classes\"].astype(\"string\")"
   ]
  },
  {
   "cell_type": "code",
   "execution_count": 388,
   "id": "425904a6",
   "metadata": {
    "ExecuteTime": {
     "end_time": "2022-09-03T08:50:45.509236Z",
     "start_time": "2022-09-03T08:50:45.504634Z"
    }
   },
   "outputs": [
    {
     "data": {
      "text/plain": [
       "string[python]"
      ]
     },
     "execution_count": 388,
     "metadata": {},
     "output_type": "execute_result"
    }
   ],
   "source": [
    "#df['id'] = df['label_classes'].astype(\"string\")\n",
    "\n",
    "df['label_classes'].dtype"
   ]
  },
  {
   "cell_type": "markdown",
   "id": "2af589c2",
   "metadata": {},
   "source": [
    "# Build preprocessing pipeline to process images and encode in parallel"
   ]
  },
  {
   "cell_type": "code",
   "execution_count": 393,
   "id": "79a213c5",
   "metadata": {
    "ExecuteTime": {
     "end_time": "2022-09-03T08:51:48.740804Z",
     "start_time": "2022-09-03T08:51:48.734363Z"
    }
   },
   "outputs": [
    {
     "data": {
      "text/plain": [
       "(5, 19)"
      ]
     },
     "execution_count": 393,
     "metadata": {},
     "output_type": "execute_result"
    }
   ],
   "source": [
    "# mlb = MultiLabelBinarizer()\n",
    "\n",
    "# test = df['label_classes']\n",
    "\n",
    "# res = pd.DataFrame(mlb.fit_transform(df[\"label_classes\"]),\n",
    "#                    columns=mlb.classes_,\n",
    "#                    index=test.index)\n",
    "\n",
    "# res\n",
    "\n",
    "# mlb = MultiLabelBinarizer(sparse_output=True)\n",
    "\n",
    "# df = df.join(\n",
    "#             pd.DataFrame.sparse.from_spmatrix(\n",
    "#                 mlb.fit_transform(df[\"label_classes\"]),\n",
    "#                 index=df.index,\n",
    "#                 columns=mlb.classes_))\n",
    "\n",
    "mlb = MultiLabelBinarizer()\n",
    "\n",
    "test = df['label_classes']\n",
    "\n",
    "res = pd.DataFrame(mlb.fit_transform(test),\n",
    "                   columns=mlb.classes_,\n",
    "                   index=test.index)\n",
    "\n",
    "res.shape"
   ]
  },
  {
   "cell_type": "code",
   "execution_count": 392,
   "id": "f3cadba0",
   "metadata": {
    "ExecuteTime": {
     "end_time": "2022-09-03T08:51:44.358938Z",
     "start_time": "2022-09-03T08:51:44.346648Z"
    }
   },
   "outputs": [
    {
     "data": {
      "text/html": [
       "<div>\n",
       "<style scoped>\n",
       "    .dataframe tbody tr th:only-of-type {\n",
       "        vertical-align: middle;\n",
       "    }\n",
       "\n",
       "    .dataframe tbody tr th {\n",
       "        vertical-align: top;\n",
       "    }\n",
       "\n",
       "    .dataframe thead th {\n",
       "        text-align: right;\n",
       "    }\n",
       "</style>\n",
       "<table border=\"1\" class=\"dataframe\">\n",
       "  <thead>\n",
       "    <tr style=\"text-align: right;\">\n",
       "      <th></th>\n",
       "      <th></th>\n",
       "      <th>'</th>\n",
       "      <th>,</th>\n",
       "      <th>[</th>\n",
       "      <th>]</th>\n",
       "      <th>a</th>\n",
       "      <th>b</th>\n",
       "      <th>c</th>\n",
       "      <th>d</th>\n",
       "      <th>e</th>\n",
       "      <th>g</th>\n",
       "      <th>h</th>\n",
       "      <th>i</th>\n",
       "      <th>l</th>\n",
       "      <th>n</th>\n",
       "      <th>o</th>\n",
       "      <th>p</th>\n",
       "      <th>r</th>\n",
       "      <th>t</th>\n",
       "    </tr>\n",
       "  </thead>\n",
       "  <tbody>\n",
       "    <tr>\n",
       "      <th>0</th>\n",
       "      <td>1</td>\n",
       "      <td>1</td>\n",
       "      <td>1</td>\n",
       "      <td>1</td>\n",
       "      <td>1</td>\n",
       "      <td>1</td>\n",
       "      <td>1</td>\n",
       "      <td>1</td>\n",
       "      <td>1</td>\n",
       "      <td>1</td>\n",
       "      <td>1</td>\n",
       "      <td>1</td>\n",
       "      <td>1</td>\n",
       "      <td>1</td>\n",
       "      <td>1</td>\n",
       "      <td>1</td>\n",
       "      <td>0</td>\n",
       "      <td>1</td>\n",
       "      <td>1</td>\n",
       "    </tr>\n",
       "    <tr>\n",
       "      <th>1</th>\n",
       "      <td>0</td>\n",
       "      <td>1</td>\n",
       "      <td>0</td>\n",
       "      <td>1</td>\n",
       "      <td>1</td>\n",
       "      <td>1</td>\n",
       "      <td>0</td>\n",
       "      <td>0</td>\n",
       "      <td>0</td>\n",
       "      <td>1</td>\n",
       "      <td>0</td>\n",
       "      <td>0</td>\n",
       "      <td>0</td>\n",
       "      <td>1</td>\n",
       "      <td>1</td>\n",
       "      <td>1</td>\n",
       "      <td>1</td>\n",
       "      <td>1</td>\n",
       "      <td>0</td>\n",
       "    </tr>\n",
       "    <tr>\n",
       "      <th>2</th>\n",
       "      <td>1</td>\n",
       "      <td>1</td>\n",
       "      <td>1</td>\n",
       "      <td>1</td>\n",
       "      <td>1</td>\n",
       "      <td>0</td>\n",
       "      <td>1</td>\n",
       "      <td>0</td>\n",
       "      <td>1</td>\n",
       "      <td>0</td>\n",
       "      <td>1</td>\n",
       "      <td>0</td>\n",
       "      <td>1</td>\n",
       "      <td>0</td>\n",
       "      <td>0</td>\n",
       "      <td>1</td>\n",
       "      <td>0</td>\n",
       "      <td>1</td>\n",
       "      <td>0</td>\n",
       "    </tr>\n",
       "    <tr>\n",
       "      <th>3</th>\n",
       "      <td>0</td>\n",
       "      <td>1</td>\n",
       "      <td>0</td>\n",
       "      <td>1</td>\n",
       "      <td>1</td>\n",
       "      <td>0</td>\n",
       "      <td>1</td>\n",
       "      <td>0</td>\n",
       "      <td>1</td>\n",
       "      <td>0</td>\n",
       "      <td>0</td>\n",
       "      <td>0</td>\n",
       "      <td>1</td>\n",
       "      <td>0</td>\n",
       "      <td>0</td>\n",
       "      <td>0</td>\n",
       "      <td>0</td>\n",
       "      <td>1</td>\n",
       "      <td>0</td>\n",
       "    </tr>\n",
       "    <tr>\n",
       "      <th>4</th>\n",
       "      <td>0</td>\n",
       "      <td>1</td>\n",
       "      <td>0</td>\n",
       "      <td>1</td>\n",
       "      <td>1</td>\n",
       "      <td>1</td>\n",
       "      <td>0</td>\n",
       "      <td>1</td>\n",
       "      <td>0</td>\n",
       "      <td>0</td>\n",
       "      <td>0</td>\n",
       "      <td>1</td>\n",
       "      <td>1</td>\n",
       "      <td>0</td>\n",
       "      <td>0</td>\n",
       "      <td>0</td>\n",
       "      <td>0</td>\n",
       "      <td>1</td>\n",
       "      <td>0</td>\n",
       "    </tr>\n",
       "  </tbody>\n",
       "</table>\n",
       "</div>"
      ],
      "text/plain": [
       "      '  ,  [  ]  a  b  c  d  e  g  h  i  l  n  o  p  r  t\n",
       "0  1  1  1  1  1  1  1  1  1  1  1  1  1  1  1  1  0  1  1\n",
       "1  0  1  0  1  1  1  0  0  0  1  0  0  0  1  1  1  1  1  0\n",
       "2  1  1  1  1  1  0  1  0  1  0  1  0  1  0  0  1  0  1  0\n",
       "3  0  1  0  1  1  0  1  0  1  0  0  0  1  0  0  0  0  1  0\n",
       "4  0  1  0  1  1  1  0  1  0  0  0  1  1  0  0  0  0  1  0"
      ]
     },
     "execution_count": 392,
     "metadata": {},
     "output_type": "execute_result"
    }
   ],
   "source": [
    "res"
   ]
  },
  {
   "cell_type": "code",
   "execution_count": null,
   "id": "54617fba",
   "metadata": {},
   "outputs": [],
   "source": [
    "test = pd.Series([['a', 'b', 'e'], ['c', 'a'], ['d'], ['d'], ['e']])\n",
    "\n",
    "mlb = MultiLabelBinarizer()\n",
    "\n",
    "res = pd.DataFrame(mlb.fit_transform(test),\n",
    "                   columns=mlb.classes_,\n",
    "                   index=test.index)"
   ]
  },
  {
   "cell_type": "code",
   "execution_count": 5,
   "id": "85ce6ca3",
   "metadata": {
    "ExecuteTime": {
     "end_time": "2022-09-03T06:36:08.253502Z",
     "start_time": "2022-09-03T06:36:08.247192Z"
    }
   },
   "outputs": [],
   "source": [
    "def get_data():\n",
    "    \"\"\"method to get the training data (or a portion of it) from google cloud bucket\"\"\"\n",
    "    df = pd.read_csv(f\"gs://{BUCKET_NAME}/{BUCKET_TRAIN_DATA_PATH}\", nrows=1000)\n",
    "    return df"
   ]
  },
  {
   "cell_type": "code",
   "execution_count": null,
   "id": "176c5bf7",
   "metadata": {},
   "outputs": [],
   "source": [
    "def download(path, urls):\n",
    "    # ignore SSL errors\n",
    "    ssl._create_default_https_context = ssl._create_unverified_context\n",
    "    for url in tqdm(urls):\n",
    "        try:\n",
    "            fname = url[url.rfind('/')+1:]\n",
    "            downloaded_urls_lst.append(url)\n",
    "            urllib.request.urlretrieve(url, path/fname)\n",
    "        except Exception as e:\n",
    "            logging.error(traceback.format_exc())\n",
    "            \n",
    "download(yourpaintings_path, urls)"
   ]
  }
 ],
 "metadata": {
  "kernelspec": {
   "display_name": "Python 3 (ipykernel)",
   "language": "python",
   "name": "python3"
  },
  "language_info": {
   "codemirror_mode": {
    "name": "ipython",
    "version": 3
   },
   "file_extension": ".py",
   "mimetype": "text/x-python",
   "name": "python",
   "nbconvert_exporter": "python",
   "pygments_lexer": "ipython3",
   "version": "3.8.12"
  },
  "toc": {
   "base_numbering": 1,
   "nav_menu": {},
   "number_sections": true,
   "sideBar": true,
   "skip_h1_title": false,
   "title_cell": "Table of Contents",
   "title_sidebar": "Contents",
   "toc_cell": false,
   "toc_position": {},
   "toc_section_display": true,
   "toc_window_display": false
  }
 },
 "nbformat": 4,
 "nbformat_minor": 5
}

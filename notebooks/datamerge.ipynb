{
 "cells": [
  {
   "cell_type": "markdown",
   "id": "d8c76f4c",
   "metadata": {},
   "source": [
    "# Merge data from multiple sources using artwork ID"
   ]
  },
  {
   "cell_type": "code",
   "execution_count": 94,
   "id": "045ae082",
   "metadata": {
    "ExecuteTime": {
     "end_time": "2023-02-07T13:08:15.338585Z",
     "start_time": "2023-02-07T13:08:15.076313Z"
    }
   },
   "outputs": [
    {
     "name": "stdout",
     "output_type": "stream",
     "text": [
      "{\"documents\":[{\"id\":\"DAE5664A-11E6-4AA0-B166-08BCB764A6B7\",\"title\":\"Seaside\",\"source\":\"roots_collections\",\"path\":\"https://www.roots.gov.sg/Collection-Landing/listing/1031168\",\"content\":\"Born in Fujian Province, Liu Kang (1911-2004) received his formal training in Shanghai Academy of Fine Art, where he was exposed to Chinese paintings. In 1928, he went to Paris where he was influenced by art movements such as Fauvism and Post-Impressionism. Not only was he one of Singapore’s pioneer artists, he was also a leading figure in the Society of Chinese Artists and the Singapore Art Society. In 1970, he was awarded the Public Service Star for his contributions in the field of art.An accomplished oil and pastel artist, this is a rare watercolour by Liu. This work is also rare on another account—the unusually heavy linework. The multi-tiered roof structure in the distance suggests that the location is Bali.\",\"lastModifiedDate\":\"04/08/2021\",\"metadata\":{\"creator\":\"Liu Kang\",\"date_period\":\"1953\",\"image_url\":\"https://www.roots.gov.sg/CollectionImages/1031168.jpg\",\"accession_no\":\"2003-03474\",\"pageId\":\"1031168\",\"credit_line\":\"Gift of the artist’s family\",\"rootsUuid\":\"dae5664a11e64aa0b16608bcb764a6b7\",\"collection_of\":\"National Gallery Singapore\",\"material\":[\"Watercolour on paper\"],\"nlb_type\":\"Painting\",\"categories\":[\"\"],\"region\":\"Singapore\",\"dimension\":\"Image size: 39 x 56 cm Frame size: Unframed\"},\"docFormat\":\"html\",\"highlight\":\"\",\"tags\":{\"country\":[\"Singapore\"],\"material\":[\"Watercolour\",\"Paper\"],\"city\":[\"Singapore\"],\"subject\":[\"Training\",\"Liu, Kang, 1911-2004\",\"Art\",\"Paintings\",\"Work\",\"Chinese\",\"Artists\"],\"geographics\":[\"Pioneer\"],\"person\":[\"Liu, Kang\"],\"organisation\":[\"Singapore Art Society\",\"The Society of Chinese Artists\"],\"topic\":[\"country\",\"material\",\"city\",\"subject\",\"geographics\",\"person\",\"organisation\",\"singheritage\",\"collection\"],\"singheritage\":[\"Artists\"],\"collection\":[\"National Gallery Singapore\"]}}],\"id\":\"565758239\",\"total\":4706,\"size\":1}\n"
     ]
    }
   ],
   "source": [
    "import http.client\n",
    "import mimetypes\n",
    "from codecs import encode\n",
    "import re\n",
    "import pandas as pd\n",
    "\n",
    "conn = http.client.HTTPSConnection(\"www.roots.gov.sg\")\n",
    "dataList = []\n",
    "boundary = 'wL36Yn8afVp8Ag7AmP8qZ0SA4n1v9T'\n",
    "dataList.append(encode('--' + boundary))\n",
    "dataList.append(encode('Content-Disposition: form-data; name=id;'))\n",
    "\n",
    "dataList.append(encode('Content-Type: {}'.format('text/plain')))\n",
    "dataList.append(encode(''))\n",
    "\n",
    "dataList.append(encode(\"\"))\n",
    "dataList.append(encode('--' + boundary))\n",
    "dataList.append(encode('Content-Disposition: form-data; name=topicsQuery[not][0][field];'))\n",
    "\n",
    "dataList.append(encode('Content-Type: {}'.format('text/plain')))\n",
    "dataList.append(encode(''))\n",
    "\n",
    "dataList.append(encode(\"source\"))\n",
    "dataList.append(encode('--' + boundary))\n",
    "dataList.append(encode('Content-Disposition: form-data; name=topicsQuery[not][0][value];'))\n",
    "\n",
    "dataList.append(encode('Content-Type: {}'.format('text/plain')))\n",
    "dataList.append(encode(''))\n",
    "\n",
    "dataList.append(encode(\"CSV\"))\n",
    "dataList.append(encode('--' + boundary))\n",
    "dataList.append(encode('Content-Disposition: form-data; name=query;'))\n",
    "\n",
    "dataList.append(encode('Content-Type: {}'.format('text/plain')))\n",
    "dataList.append(encode(''))\n",
    "\n",
    "dataList.append(encode(\"2003-03474\"))\n",
    "dataList.append(encode('--' + boundary))\n",
    "dataList.append(encode('Content-Disposition: form-data; name=from;'))\n",
    "\n",
    "dataList.append(encode('Content-Type: {}'.format('text/plain')))\n",
    "dataList.append(encode(''))\n",
    "\n",
    "dataList.append(encode(\"0\"))\n",
    "dataList.append(encode('--' + boundary))\n",
    "dataList.append(encode('Content-Disposition: form-data; name=size;'))\n",
    "\n",
    "dataList.append(encode('Content-Type: {}'.format('text/plain')))\n",
    "dataList.append(encode(''))\n",
    "\n",
    "dataList.append(encode(\"1\"))\n",
    "dataList.append(encode('--' + boundary))\n",
    "dataList.append(encode('Content-Disposition: form-data; name=searchMode;'))\n",
    "\n",
    "dataList.append(encode('Content-Type: {}'.format('text/plain')))\n",
    "dataList.append(encode(''))\n",
    "\n",
    "dataList.append(encode(\"NEW\"))\n",
    "dataList.append(encode('--'+boundary+'--'))\n",
    "dataList.append(encode(''))\n",
    "body = b'\\r\\n'.join(dataList)\n",
    "payload = body\n",
    "headers = {\n",
    "  'Cookie': 'AWSALB=kwXo1w7AkGdiGhsyiL/zuRx0O7Pnw6jpL4mnpPLw8Zk2YQcBjyQ2jr8gPHjfCSNyasXpQ9fr2HHC1FK3W2ZqXgVJEKkCMbLqXoS0N9p4jP1h9ZwRksuWSso1IFQ8; AWSALBCORS=kwXo1w7AkGdiGhsyiL/zuRx0O7Pnw6jpL4mnpPLw8Zk2YQcBjyQ2jr8gPHjfCSNyasXpQ9fr2HHC1FK3W2ZqXgVJEKkCMbLqXoS0N9p4jP1h9ZwRksuWSso1IFQ8; rp_www.roots.gov.sg=61e6528f68cf95598f0445134011e409',\n",
    "  'Content-type': 'multipart/form-data; boundary={}'.format(boundary)\n",
    "}\n",
    "conn.request(\"POST\", \"/get-search-results\", payload, headers)\n",
    "res = conn.getresponse()\n",
    "data_http = res.read()\n",
    "print(data_http.decode(\"utf-8\"))"
   ]
  },
  {
   "cell_type": "code",
   "execution_count": 95,
   "id": "f73950d4",
   "metadata": {
    "ExecuteTime": {
     "end_time": "2023-02-07T13:08:16.930338Z",
     "start_time": "2023-02-07T13:08:16.927916Z"
    }
   },
   "outputs": [],
   "source": [
    "res_decoded = data_http.decode(\"utf-8\")"
   ]
  },
  {
   "cell_type": "code",
   "execution_count": 96,
   "id": "8f4a1cf8",
   "metadata": {
    "ExecuteTime": {
     "end_time": "2023-02-07T13:08:21.500223Z",
     "start_time": "2023-02-07T13:08:21.496880Z"
    }
   },
   "outputs": [
    {
     "data": {
      "text/plain": [
       "str"
      ]
     },
     "execution_count": 96,
     "metadata": {},
     "output_type": "execute_result"
    }
   ],
   "source": [
    "type(res_decoded)"
   ]
  },
  {
   "cell_type": "code",
   "execution_count": 97,
   "id": "58e799ba",
   "metadata": {
    "ExecuteTime": {
     "end_time": "2023-02-07T13:08:27.102114Z",
     "start_time": "2023-02-07T13:08:27.098726Z"
    }
   },
   "outputs": [
    {
     "data": {
      "text/plain": [
       "list"
      ]
     },
     "execution_count": 97,
     "metadata": {},
     "output_type": "execute_result"
    }
   ],
   "source": [
    "word_list = re.split(r'\",\"', res_decoded)\n",
    "type(word_list)"
   ]
  },
  {
   "cell_type": "markdown",
   "id": "6cbf8458",
   "metadata": {
    "ExecuteTime": {
     "end_time": "2023-02-06T15:15:30.784377Z",
     "start_time": "2023-02-06T15:15:30.781780Z"
    }
   },
   "source": [
    "Save the following attributes of interest:\n",
    "* title\n",
    "* content\n",
    "* metadata[creator]\n",
    "* metadata[date_period]\n",
    "* metadata[materials]\n",
    "* metadata[region]\n",
    "* tags[country]\n",
    "* tags[material]\n",
    "* tags[city]\n",
    "* tags[subject]\n",
    "* tags[geographics]\n",
    "* tags[person]\n",
    "* tags[organisation]\n",
    "* tags[topic]"
   ]
  },
  {
   "cell_type": "code",
   "execution_count": 112,
   "id": "344381cd",
   "metadata": {
    "ExecuteTime": {
     "end_time": "2023-02-07T13:14:26.748513Z",
     "start_time": "2023-02-07T13:14:26.746117Z"
    }
   },
   "outputs": [],
   "source": [
    "test_str = str(word_list)"
   ]
  },
  {
   "cell_type": "code",
   "execution_count": 116,
   "id": "650a41c7",
   "metadata": {
    "ExecuteTime": {
     "end_time": "2023-02-07T13:14:51.559510Z",
     "start_time": "2023-02-07T13:14:51.555814Z"
    }
   },
   "outputs": [
    {
     "data": {
      "text/plain": [
       "(182, 189)"
      ]
     },
     "execution_count": 116,
     "metadata": {},
     "output_type": "execute_result"
    }
   ],
   "source": [
    "re.search(r'\\bcontent\\b',test_str).span()"
   ]
  },
  {
   "cell_type": "code",
   "execution_count": 117,
   "id": "1b441c6d",
   "metadata": {
    "ExecuteTime": {
     "end_time": "2023-02-07T13:14:58.699112Z",
     "start_time": "2023-02-07T13:14:58.695907Z"
    }
   },
   "outputs": [
    {
     "data": {
      "text/plain": [
       "'content'"
      ]
     },
     "execution_count": 117,
     "metadata": {},
     "output_type": "execute_result"
    }
   ],
   "source": [
    "test_str[182:189]"
   ]
  },
  {
   "cell_type": "code",
   "execution_count": 109,
   "id": "805b4b03",
   "metadata": {
    "ExecuteTime": {
     "end_time": "2023-02-07T13:13:54.435908Z",
     "start_time": "2023-02-07T13:13:54.432645Z"
    }
   },
   "outputs": [
    {
     "data": {
      "text/plain": [
       "36"
      ]
     },
     "execution_count": 109,
     "metadata": {},
     "output_type": "execute_result"
    }
   ],
   "source": [
    "len(word_list)"
   ]
  },
  {
   "cell_type": "code",
   "execution_count": 98,
   "id": "182becf5",
   "metadata": {
    "ExecuteTime": {
     "end_time": "2023-02-07T13:08:31.045864Z",
     "start_time": "2023-02-07T13:08:31.042459Z"
    }
   },
   "outputs": [
    {
     "data": {
      "text/plain": [
       "'title\":\"Seaside'"
      ]
     },
     "execution_count": 98,
     "metadata": {},
     "output_type": "execute_result"
    }
   ],
   "source": [
    "word_list[1]"
   ]
  },
  {
   "cell_type": "code",
   "execution_count": 99,
   "id": "a51fb796",
   "metadata": {
    "ExecuteTime": {
     "end_time": "2023-02-07T13:08:32.167213Z",
     "start_time": "2023-02-07T13:08:32.163655Z"
    }
   },
   "outputs": [
    {
     "data": {
      "text/plain": [
       "(0, 5)"
      ]
     },
     "execution_count": 99,
     "metadata": {},
     "output_type": "execute_result"
    }
   ],
   "source": [
    "re.search(r'\\btitle\\b',word_list[1]).span()"
   ]
  },
  {
   "cell_type": "markdown",
   "id": "11ca8441",
   "metadata": {},
   "source": [
    "# Load artwork IDs, extract desired information and append to dataframe"
   ]
  },
  {
   "cell_type": "code",
   "execution_count": 190,
   "id": "32e1c8c6",
   "metadata": {
    "ExecuteTime": {
     "end_time": "2023-02-07T13:46:25.135256Z",
     "start_time": "2023-02-07T13:46:25.124214Z"
    }
   },
   "outputs": [],
   "source": [
    "df = pd.read_csv('../raw_data/df_10K_copy.csv')"
   ]
  },
  {
   "cell_type": "code",
   "execution_count": 191,
   "id": "e8f93db0",
   "metadata": {
    "ExecuteTime": {
     "end_time": "2023-02-07T13:46:25.141369Z",
     "start_time": "2023-02-07T13:46:25.137347Z"
    }
   },
   "outputs": [
    {
     "data": {
      "text/plain": [
       "0       2012-00335\n",
       "1       2010-01385\n",
       "2       2015-00358\n",
       "3       2002-00783\n",
       "4       2016-00456\n",
       "           ...    \n",
       "4375    2012-00261\n",
       "4376    2009-03342\n",
       "4377    2010-04023\n",
       "4378    2016-00196\n",
       "4379    2003-03695\n",
       "Name: id, Length: 4380, dtype: object"
      ]
     },
     "execution_count": 191,
     "metadata": {},
     "output_type": "execute_result"
    }
   ],
   "source": [
    "df['id']"
   ]
  },
  {
   "cell_type": "code",
   "execution_count": 192,
   "id": "b8fb644d",
   "metadata": {
    "ExecuteTime": {
     "end_time": "2023-02-07T13:46:25.150301Z",
     "start_time": "2023-02-07T13:46:25.143276Z"
    }
   },
   "outputs": [],
   "source": [
    "def save_response():\n",
    "    resList = []\n",
    "    for i in df['id'][:10]:\n",
    "        conn = http.client.HTTPSConnection(\"www.roots.gov.sg\")\n",
    "        dataList = []\n",
    "        boundary = 'wL36Yn8afVp8Ag7AmP8qZ0SA4n1v9T'\n",
    "        dataList.append(encode('--' + boundary))\n",
    "        dataList.append(encode('Content-Disposition: form-data; name=id;'))\n",
    "\n",
    "        dataList.append(encode('Content-Type: {}'.format('text/plain')))\n",
    "        dataList.append(encode(''))\n",
    "\n",
    "        dataList.append(encode(\"\"))\n",
    "        dataList.append(encode('--' + boundary))\n",
    "        dataList.append(encode('Content-Disposition: form-data; name=topicsQuery[not][0][field];'))\n",
    "\n",
    "        dataList.append(encode('Content-Type: {}'.format('text/plain')))\n",
    "        dataList.append(encode(''))\n",
    "\n",
    "        dataList.append(encode(\"source\"))\n",
    "        dataList.append(encode('--' + boundary))\n",
    "        dataList.append(encode('Content-Disposition: form-data; name=topicsQuery[not][0][value];'))\n",
    "\n",
    "        dataList.append(encode('Content-Type: {}'.format('text/plain')))\n",
    "        dataList.append(encode(''))\n",
    "\n",
    "        dataList.append(encode(\"CSV\"))\n",
    "        dataList.append(encode('--' + boundary))\n",
    "        dataList.append(encode('Content-Disposition: form-data; name=query;'))\n",
    "\n",
    "        dataList.append(encode('Content-Type: {}'.format('text/plain')))\n",
    "        dataList.append(encode(''))\n",
    "\n",
    "        dataList.append(encode(i))\n",
    "        dataList.append(encode('--' + boundary))\n",
    "        dataList.append(encode('Content-Disposition: form-data; name=from;'))\n",
    "\n",
    "        dataList.append(encode('Content-Type: {}'.format('text/plain')))\n",
    "        dataList.append(encode(''))\n",
    "\n",
    "        dataList.append(encode(\"0\"))\n",
    "        dataList.append(encode('--' + boundary))\n",
    "        dataList.append(encode('Content-Disposition: form-data; name=size;'))\n",
    "\n",
    "        dataList.append(encode('Content-Type: {}'.format('text/plain')))\n",
    "        dataList.append(encode(''))\n",
    "\n",
    "        dataList.append(encode(\"1\"))\n",
    "        dataList.append(encode('--' + boundary))\n",
    "        dataList.append(encode('Content-Disposition: form-data; name=searchMode;'))\n",
    "\n",
    "        dataList.append(encode('Content-Type: {}'.format('text/plain')))\n",
    "        dataList.append(encode(''))\n",
    "\n",
    "        dataList.append(encode(\"NEW\"))\n",
    "        dataList.append(encode('--'+boundary+'--'))\n",
    "        dataList.append(encode(''))\n",
    "        body = b'\\r\\n'.join(dataList)\n",
    "        payload = body\n",
    "        headers = {\n",
    "          'Cookie': 'AWSALB=kwXo1w7AkGdiGhsyiL/zuRx0O7Pnw6jpL4mnpPLw8Zk2YQcBjyQ2jr8gPHjfCSNyasXpQ9fr2HHC1FK3W2ZqXgVJEKkCMbLqXoS0N9p4jP1h9ZwRksuWSso1IFQ8; AWSALBCORS=kwXo1w7AkGdiGhsyiL/zuRx0O7Pnw6jpL4mnpPLw8Zk2YQcBjyQ2jr8gPHjfCSNyasXpQ9fr2HHC1FK3W2ZqXgVJEKkCMbLqXoS0N9p4jP1h9ZwRksuWSso1IFQ8; rp_www.roots.gov.sg=61e6528f68cf95598f0445134011e409',\n",
    "          'Content-type': 'multipart/form-data; boundary={}'.format(boundary)\n",
    "        }\n",
    "        conn.request(\"POST\", \"/get-search-results\", payload, headers)\n",
    "        res = conn.getresponse()\n",
    "        data_http = res.read()\n",
    "        res_decoded = data_http.decode(\"utf-8\")\n",
    "        resList.append(re.split(r'\",\"', res_decoded))\n",
    "        print(resList)\n",
    "    return resList"
   ]
  },
  {
   "cell_type": "code",
   "execution_count": 193,
   "id": "c5984cbb",
   "metadata": {
    "ExecuteTime": {
     "end_time": "2023-02-07T13:46:38.543856Z",
     "start_time": "2023-02-07T13:46:25.152488Z"
    }
   },
   "outputs": [
    {
     "name": "stdout",
     "output_type": "stream",
     "text": [
      "[['{\"documents\":[{\"id\":\"47E60712-DB30-42AE-BFDF-3C4918065A91', 'title\":\"Handbill for the Cantonese movie, ‘Peach Blossom Crossing’', 'source\":\"roots_collections', 'path\":\"https://www.roots.gov.sg/Collection-Landing/listing/1142557', 'content\":\"This handbill was used to advertise the Cantonese movie, ‘Peach Blossom Crossing’ (桃花搭渡, Taohuadadu). During its Singapore run, the movie was screened at the Oriental (东方, Dongfang) and Grand (大光, Daguang) cinemas.Between the 1950s and 1960s, most Mandarin, Cantonese and other Chinese-dialect movies were made in Hong Kong by film production companies with financial support from Singapore-based film studios such as Shaw Brothers, Cathay and Kong Ngee (光艺, Guanyi). These studios were also involved in the distribution and exhibition of these movies in Singapore and the rest of Southeast Asia through their network of cinemas. In the early 1970s, Mandarin movies from Taiwan became popular, but by the late 1970s, Hong Kong movies were dominant once more.', 'lastModifiedDate\":\"04/08/2021', 'metadata\":{\"rootsUuid\":\"47e60712db3042aebfdf3c4918065a91', 'date_period\":\"1958', 'collection_of\":\"National Museum of Singapore', 'material\":[\"Paper\"],\"image_url\":\"https://www.roots.gov.sg/CollectionImages/1142557.jpg', 'accession_no\":\"2007-00335', 'nlb_type\":\"Document', 'categories\":[\"\"],\"region\":\"Singapore', 'pageId\":\"1142557', 'dimension\":\"Object size: 19.5 x 27.2 cm\"},\"docFormat\":\"html', 'highlight\":\"', 'tags\":{}}],\"id\":\"962323583', 'total\":1835,\"size\":1}']]\n",
      "[['{\"documents\":[{\"id\":\"47E60712-DB30-42AE-BFDF-3C4918065A91', 'title\":\"Handbill for the Cantonese movie, ‘Peach Blossom Crossing’', 'source\":\"roots_collections', 'path\":\"https://www.roots.gov.sg/Collection-Landing/listing/1142557', 'content\":\"This handbill was used to advertise the Cantonese movie, ‘Peach Blossom Crossing’ (桃花搭渡, Taohuadadu). During its Singapore run, the movie was screened at the Oriental (东方, Dongfang) and Grand (大光, Daguang) cinemas.Between the 1950s and 1960s, most Mandarin, Cantonese and other Chinese-dialect movies were made in Hong Kong by film production companies with financial support from Singapore-based film studios such as Shaw Brothers, Cathay and Kong Ngee (光艺, Guanyi). These studios were also involved in the distribution and exhibition of these movies in Singapore and the rest of Southeast Asia through their network of cinemas. In the early 1970s, Mandarin movies from Taiwan became popular, but by the late 1970s, Hong Kong movies were dominant once more.', 'lastModifiedDate\":\"04/08/2021', 'metadata\":{\"rootsUuid\":\"47e60712db3042aebfdf3c4918065a91', 'date_period\":\"1958', 'collection_of\":\"National Museum of Singapore', 'material\":[\"Paper\"],\"image_url\":\"https://www.roots.gov.sg/CollectionImages/1142557.jpg', 'accession_no\":\"2007-00335', 'nlb_type\":\"Document', 'categories\":[\"\"],\"region\":\"Singapore', 'pageId\":\"1142557', 'dimension\":\"Object size: 19.5 x 27.2 cm\"},\"docFormat\":\"html', 'highlight\":\"', 'tags\":{}}],\"id\":\"962323583', 'total\":1835,\"size\":1}'], ['{\"documents\":[{\"id\":\"C13CCAE3-921C-4C4C-881F-E4AE4591F4F6', 'title\":\"Abstract Series', 'source\":\"roots_collections', 'path\":\"https://www.roots.gov.sg/Collection-Landing/listing/1010683', 'content\":\"Born in 1934 in Singapore, Chieu Shuey Fook graduated from Nanyang Academy of Fine Arts in 1953. Initially a batik artist, he became intrigued by chemical reactions on metal and has since made a name for himself in metal relief art; his works are known for their rich textural qualities. He has held solo exhibitions and participated in important group exhibitions both in Singapore and in Germany, Australia, France, Japan, Malaysia and Taiwan. Chieu, a recepient of numerous awards, among which is the top prize in the Instant Asia Art Competition in 1970, also received major art commissions.‘Abstract Series’ is one of Chieu’s important works in his oeuvre as it won him an art prize. It appropriates the form of a bird with a kaleidescope of colours, textures and patterns to denote diversity and progress.', 'lastModifiedDate\":\"04/08/2021', 'metadata\":{\"creator\":\"Chieu Shuey Fook', 'date_period\":\"1998', 'image_url\":\"https://www.roots.gov.sg/CollectionImages/1010683.jpg', 'accession_no\":\"2010-01385', 'pageId\":\"1010683', 'rootsUuid\":\"c13ccae3921c4c4c881fe4ae4591f4f6', 'collection_of\":\"National Gallery Singapore', 'material\":[\"Metal Relief\"],\"nlb_type\":\"Painting', 'categories\":[\"\"],\"region\":\"Singapore', 'dimension\":\"Image size: H152 x W 122 x D5 cm\"},\"docFormat\":\"html', 'highlight\":\"', 'tags\":{\"country\":[\"Singapore\"],\"material\":[\"Metal\"],\"city\":[\"Singapore\"],\"subject\":[\"Relief (art)', 'Art', 'Singapore', 'Abstract', 'Japan', 'Malaysia', 'Awards', 'Asia', 'Taiwan', 'Batik', 'Exhibitions', 'France', 'Australia', 'Art Commissions\"],\"person\":[\"Chieu, Shuey Fook\"],\"topic\":[\"country', 'material', 'city', 'subject', 'person', 'organisation', 'collection\"],\"organisation\":[\"Nanyang Academy of Fine Arts\"],\"collection\":[\"National Gallery Singapore\"]}}],\"id\":\"1889685179', 'total\":3884,\"size\":1}']]\n",
      "[['{\"documents\":[{\"id\":\"47E60712-DB30-42AE-BFDF-3C4918065A91', 'title\":\"Handbill for the Cantonese movie, ‘Peach Blossom Crossing’', 'source\":\"roots_collections', 'path\":\"https://www.roots.gov.sg/Collection-Landing/listing/1142557', 'content\":\"This handbill was used to advertise the Cantonese movie, ‘Peach Blossom Crossing’ (桃花搭渡, Taohuadadu). During its Singapore run, the movie was screened at the Oriental (东方, Dongfang) and Grand (大光, Daguang) cinemas.Between the 1950s and 1960s, most Mandarin, Cantonese and other Chinese-dialect movies were made in Hong Kong by film production companies with financial support from Singapore-based film studios such as Shaw Brothers, Cathay and Kong Ngee (光艺, Guanyi). These studios were also involved in the distribution and exhibition of these movies in Singapore and the rest of Southeast Asia through their network of cinemas. In the early 1970s, Mandarin movies from Taiwan became popular, but by the late 1970s, Hong Kong movies were dominant once more.', 'lastModifiedDate\":\"04/08/2021', 'metadata\":{\"rootsUuid\":\"47e60712db3042aebfdf3c4918065a91', 'date_period\":\"1958', 'collection_of\":\"National Museum of Singapore', 'material\":[\"Paper\"],\"image_url\":\"https://www.roots.gov.sg/CollectionImages/1142557.jpg', 'accession_no\":\"2007-00335', 'nlb_type\":\"Document', 'categories\":[\"\"],\"region\":\"Singapore', 'pageId\":\"1142557', 'dimension\":\"Object size: 19.5 x 27.2 cm\"},\"docFormat\":\"html', 'highlight\":\"', 'tags\":{}}],\"id\":\"962323583', 'total\":1835,\"size\":1}'], ['{\"documents\":[{\"id\":\"C13CCAE3-921C-4C4C-881F-E4AE4591F4F6', 'title\":\"Abstract Series', 'source\":\"roots_collections', 'path\":\"https://www.roots.gov.sg/Collection-Landing/listing/1010683', 'content\":\"Born in 1934 in Singapore, Chieu Shuey Fook graduated from Nanyang Academy of Fine Arts in 1953. Initially a batik artist, he became intrigued by chemical reactions on metal and has since made a name for himself in metal relief art; his works are known for their rich textural qualities. He has held solo exhibitions and participated in important group exhibitions both in Singapore and in Germany, Australia, France, Japan, Malaysia and Taiwan. Chieu, a recepient of numerous awards, among which is the top prize in the Instant Asia Art Competition in 1970, also received major art commissions.‘Abstract Series’ is one of Chieu’s important works in his oeuvre as it won him an art prize. It appropriates the form of a bird with a kaleidescope of colours, textures and patterns to denote diversity and progress.', 'lastModifiedDate\":\"04/08/2021', 'metadata\":{\"creator\":\"Chieu Shuey Fook', 'date_period\":\"1998', 'image_url\":\"https://www.roots.gov.sg/CollectionImages/1010683.jpg', 'accession_no\":\"2010-01385', 'pageId\":\"1010683', 'rootsUuid\":\"c13ccae3921c4c4c881fe4ae4591f4f6', 'collection_of\":\"National Gallery Singapore', 'material\":[\"Metal Relief\"],\"nlb_type\":\"Painting', 'categories\":[\"\"],\"region\":\"Singapore', 'dimension\":\"Image size: H152 x W 122 x D5 cm\"},\"docFormat\":\"html', 'highlight\":\"', 'tags\":{\"country\":[\"Singapore\"],\"material\":[\"Metal\"],\"city\":[\"Singapore\"],\"subject\":[\"Relief (art)', 'Art', 'Singapore', 'Abstract', 'Japan', 'Malaysia', 'Awards', 'Asia', 'Taiwan', 'Batik', 'Exhibitions', 'France', 'Australia', 'Art Commissions\"],\"person\":[\"Chieu, Shuey Fook\"],\"topic\":[\"country', 'material', 'city', 'subject', 'person', 'organisation', 'collection\"],\"organisation\":[\"Nanyang Academy of Fine Arts\"],\"collection\":[\"National Gallery Singapore\"]}}],\"id\":\"1889685179', 'total\":3884,\"size\":1}'], ['{\"documents\":[{\"id\":\"496F5795-5F20-4C9D-B63C-F21E3E187F92', 'title\":\"Profile - Girl with ribbon', 'source\":\"roots_collections', 'path\":\"https://www.roots.gov.sg/Collection-Landing/listing/1323149', 'content\":\"Tay Boon Pin (b.1936) received training at NAFA, graduating in 1956. Prior to that, he was a student at Chung Cheng High School. Tay was invited to participate in the Singapore Chinese High Schools’ Graduates of 1953 Arts Association travelling exhibition in 1955, and was one of the early members of the Equator Art Society (EAS).This body of sketches produced by the artist is significant to the understanding of the development of social realist movement in Singapore, particularly the ways in which EAS practised art during its early years in the 1950s and 1960s. The works also aid in our understanding of the methodology which EAS utilised in its approach towards realism during that time.', 'lastModifiedDate\":\"06/08/2021', 'metadata\":{\"creator\":\"Tay Boon Pin', 'date_period\":\"1963', 'image_url\":\"https://www.roots.gov.sg/CollectionImages/1323149.jpg', 'accession_no\":\"2015-00358', 'pageId\":\"1323149', 'rootsUuid\":\"496f57955f204c9db63cf21e3e187f92', 'collection_of\":\"National Gallery Singapore', 'material\":[\"Pencil on paper\"],\"nlb_type\":\"Painting', 'categories\":[\"\"],\"region\":\"Singapore', 'dimension\":\"Image size: 50 x 32.5 cm\"},\"docFormat\":\"html', 'highlight\":\"', 'tags\":{\"country\":[\"Singapore\"],\"material\":[\"Paper', 'Pencils\"],\"city\":[\"Singapore\"],\"subject\":[\"Training', 'Art', 'Singapore', 'High Schools', 'Graduates', 'Chinese', 'Time', 'Student', 'Sketches', 'Members\"],\"person\":[\"Tay, Boon Pin\"],\"organisation\":[\"Equator Art Society', 'Chung Cheng High School', 'Nanyang Academy of Fine Arts\"],\"topic\":[\"country', 'material', 'city', 'subject', 'person', 'organisation', 'singheritage', 'collection\"],\"singheritage\":[\"Arts\"],\"collection\":[\"National Gallery Singapore\"]}}],\"id\":\"1278167513', 'total\":3033,\"size\":1}']]\n"
     ]
    },
    {
     "name": "stdout",
     "output_type": "stream",
     "text": [
      "[['{\"documents\":[{\"id\":\"47E60712-DB30-42AE-BFDF-3C4918065A91', 'title\":\"Handbill for the Cantonese movie, ‘Peach Blossom Crossing’', 'source\":\"roots_collections', 'path\":\"https://www.roots.gov.sg/Collection-Landing/listing/1142557', 'content\":\"This handbill was used to advertise the Cantonese movie, ‘Peach Blossom Crossing’ (桃花搭渡, Taohuadadu). During its Singapore run, the movie was screened at the Oriental (东方, Dongfang) and Grand (大光, Daguang) cinemas.Between the 1950s and 1960s, most Mandarin, Cantonese and other Chinese-dialect movies were made in Hong Kong by film production companies with financial support from Singapore-based film studios such as Shaw Brothers, Cathay and Kong Ngee (光艺, Guanyi). These studios were also involved in the distribution and exhibition of these movies in Singapore and the rest of Southeast Asia through their network of cinemas. In the early 1970s, Mandarin movies from Taiwan became popular, but by the late 1970s, Hong Kong movies were dominant once more.', 'lastModifiedDate\":\"04/08/2021', 'metadata\":{\"rootsUuid\":\"47e60712db3042aebfdf3c4918065a91', 'date_period\":\"1958', 'collection_of\":\"National Museum of Singapore', 'material\":[\"Paper\"],\"image_url\":\"https://www.roots.gov.sg/CollectionImages/1142557.jpg', 'accession_no\":\"2007-00335', 'nlb_type\":\"Document', 'categories\":[\"\"],\"region\":\"Singapore', 'pageId\":\"1142557', 'dimension\":\"Object size: 19.5 x 27.2 cm\"},\"docFormat\":\"html', 'highlight\":\"', 'tags\":{}}],\"id\":\"962323583', 'total\":1835,\"size\":1}'], ['{\"documents\":[{\"id\":\"C13CCAE3-921C-4C4C-881F-E4AE4591F4F6', 'title\":\"Abstract Series', 'source\":\"roots_collections', 'path\":\"https://www.roots.gov.sg/Collection-Landing/listing/1010683', 'content\":\"Born in 1934 in Singapore, Chieu Shuey Fook graduated from Nanyang Academy of Fine Arts in 1953. Initially a batik artist, he became intrigued by chemical reactions on metal and has since made a name for himself in metal relief art; his works are known for their rich textural qualities. He has held solo exhibitions and participated in important group exhibitions both in Singapore and in Germany, Australia, France, Japan, Malaysia and Taiwan. Chieu, a recepient of numerous awards, among which is the top prize in the Instant Asia Art Competition in 1970, also received major art commissions.‘Abstract Series’ is one of Chieu’s important works in his oeuvre as it won him an art prize. It appropriates the form of a bird with a kaleidescope of colours, textures and patterns to denote diversity and progress.', 'lastModifiedDate\":\"04/08/2021', 'metadata\":{\"creator\":\"Chieu Shuey Fook', 'date_period\":\"1998', 'image_url\":\"https://www.roots.gov.sg/CollectionImages/1010683.jpg', 'accession_no\":\"2010-01385', 'pageId\":\"1010683', 'rootsUuid\":\"c13ccae3921c4c4c881fe4ae4591f4f6', 'collection_of\":\"National Gallery Singapore', 'material\":[\"Metal Relief\"],\"nlb_type\":\"Painting', 'categories\":[\"\"],\"region\":\"Singapore', 'dimension\":\"Image size: H152 x W 122 x D5 cm\"},\"docFormat\":\"html', 'highlight\":\"', 'tags\":{\"country\":[\"Singapore\"],\"material\":[\"Metal\"],\"city\":[\"Singapore\"],\"subject\":[\"Relief (art)', 'Art', 'Singapore', 'Abstract', 'Japan', 'Malaysia', 'Awards', 'Asia', 'Taiwan', 'Batik', 'Exhibitions', 'France', 'Australia', 'Art Commissions\"],\"person\":[\"Chieu, Shuey Fook\"],\"topic\":[\"country', 'material', 'city', 'subject', 'person', 'organisation', 'collection\"],\"organisation\":[\"Nanyang Academy of Fine Arts\"],\"collection\":[\"National Gallery Singapore\"]}}],\"id\":\"1889685179', 'total\":3884,\"size\":1}'], ['{\"documents\":[{\"id\":\"496F5795-5F20-4C9D-B63C-F21E3E187F92', 'title\":\"Profile - Girl with ribbon', 'source\":\"roots_collections', 'path\":\"https://www.roots.gov.sg/Collection-Landing/listing/1323149', 'content\":\"Tay Boon Pin (b.1936) received training at NAFA, graduating in 1956. Prior to that, he was a student at Chung Cheng High School. Tay was invited to participate in the Singapore Chinese High Schools’ Graduates of 1953 Arts Association travelling exhibition in 1955, and was one of the early members of the Equator Art Society (EAS).This body of sketches produced by the artist is significant to the understanding of the development of social realist movement in Singapore, particularly the ways in which EAS practised art during its early years in the 1950s and 1960s. The works also aid in our understanding of the methodology which EAS utilised in its approach towards realism during that time.', 'lastModifiedDate\":\"06/08/2021', 'metadata\":{\"creator\":\"Tay Boon Pin', 'date_period\":\"1963', 'image_url\":\"https://www.roots.gov.sg/CollectionImages/1323149.jpg', 'accession_no\":\"2015-00358', 'pageId\":\"1323149', 'rootsUuid\":\"496f57955f204c9db63cf21e3e187f92', 'collection_of\":\"National Gallery Singapore', 'material\":[\"Pencil on paper\"],\"nlb_type\":\"Painting', 'categories\":[\"\"],\"region\":\"Singapore', 'dimension\":\"Image size: 50 x 32.5 cm\"},\"docFormat\":\"html', 'highlight\":\"', 'tags\":{\"country\":[\"Singapore\"],\"material\":[\"Paper', 'Pencils\"],\"city\":[\"Singapore\"],\"subject\":[\"Training', 'Art', 'Singapore', 'High Schools', 'Graduates', 'Chinese', 'Time', 'Student', 'Sketches', 'Members\"],\"person\":[\"Tay, Boon Pin\"],\"organisation\":[\"Equator Art Society', 'Chung Cheng High School', 'Nanyang Academy of Fine Arts\"],\"topic\":[\"country', 'material', 'city', 'subject', 'person', 'organisation', 'singheritage', 'collection\"],\"singheritage\":[\"Arts\"],\"collection\":[\"National Gallery Singapore\"]}}],\"id\":\"1278167513', 'total\":3033,\"size\":1}'], ['{\"documents\":[{\"id\":\"30C350D9-CDA3-41FB-AE7A-220CE268751B', 'title\":\"Farmer', 'source\":\"roots_collections', 'path\":\"https://www.roots.gov.sg/Collection-Landing/listing/1030190', 'content\":\"Born in Fujian Province, Liu Kang (1911-2004) received his formal training in Shanghai Academy of Fine Art, where he was exposed to Chinese paintings. In 1928, he went to Paris where he was influenced by art movements such as Fauvism and Post-Impressionism. Not only was he one of Singapore’s pioneer artists, he was also a leading figure in the Society of Chinese Artists and the Singapore Art Society. In 1970, he was awarded the Public Service Star for his contributions in the field of art.Mainly an oil painter, Liu started using pastel during the Japanese Occupation (1942-1945) as oil paints were unavailable then. He was subsequently attracted by the luminosity of pastel and preferred it to oil for his later depictions of the human figure.', 'lastModifiedDate\":\"04/08/2021', 'metadata\":{\"creator\":\"Liu Kang', 'date_period\":\"1987', 'image_url\":\"https://www.roots.gov.sg/CollectionImages/1030190.jpg', 'accession_no\":\"2002-00783', 'pageId\":\"1030190', 'credit_line\":\"Donated by Liu Kang', 'rootsUuid\":\"30c350d9cda341fbae7a220ce268751b', 'collection_of\":\"National Gallery Singapore', 'material\":[\"Pastel on paper\"],\"nlb_type\":\"Painting', 'categories\":[\"\"],\"region\":\"Singapore', 'dimension\":\"Frame size: 83.6 x 63.5 cm Image size: 63.7 x 48.3 cm Image size: Mounting 86.9 x 60.4 cm\"},\"docFormat\":\"html', 'highlight\":\"', 'tags\":{\"country\":[\"Singapore\"],\"material\":[\"Paper', 'Pastel\"],\"city\":[\"Singapore\"],\"subject\":[\"Training', 'Liu, Kang, 1911-2004', 'Art', 'Paintings', 'Chinese', 'Artists\"],\"geographics\":[\"Pioneer\"],\"person\":[\"Liu, Kang\"],\"organisation\":[\"Singapore Art Society', 'The Society of Chinese Artists\"],\"topic\":[\"country', 'material', 'city', 'subject', 'geographics', 'person', 'organisation', 'singheritage', 'collection\"],\"singheritage\":[\"Artists\"],\"collection\":[\"National Gallery Singapore\"]}}],\"id\":\"1675008182', 'total\":2216,\"size\":1}']]\n",
      "[['{\"documents\":[{\"id\":\"47E60712-DB30-42AE-BFDF-3C4918065A91', 'title\":\"Handbill for the Cantonese movie, ‘Peach Blossom Crossing’', 'source\":\"roots_collections', 'path\":\"https://www.roots.gov.sg/Collection-Landing/listing/1142557', 'content\":\"This handbill was used to advertise the Cantonese movie, ‘Peach Blossom Crossing’ (桃花搭渡, Taohuadadu). During its Singapore run, the movie was screened at the Oriental (东方, Dongfang) and Grand (大光, Daguang) cinemas.Between the 1950s and 1960s, most Mandarin, Cantonese and other Chinese-dialect movies were made in Hong Kong by film production companies with financial support from Singapore-based film studios such as Shaw Brothers, Cathay and Kong Ngee (光艺, Guanyi). These studios were also involved in the distribution and exhibition of these movies in Singapore and the rest of Southeast Asia through their network of cinemas. In the early 1970s, Mandarin movies from Taiwan became popular, but by the late 1970s, Hong Kong movies were dominant once more.', 'lastModifiedDate\":\"04/08/2021', 'metadata\":{\"rootsUuid\":\"47e60712db3042aebfdf3c4918065a91', 'date_period\":\"1958', 'collection_of\":\"National Museum of Singapore', 'material\":[\"Paper\"],\"image_url\":\"https://www.roots.gov.sg/CollectionImages/1142557.jpg', 'accession_no\":\"2007-00335', 'nlb_type\":\"Document', 'categories\":[\"\"],\"region\":\"Singapore', 'pageId\":\"1142557', 'dimension\":\"Object size: 19.5 x 27.2 cm\"},\"docFormat\":\"html', 'highlight\":\"', 'tags\":{}}],\"id\":\"962323583', 'total\":1835,\"size\":1}'], ['{\"documents\":[{\"id\":\"C13CCAE3-921C-4C4C-881F-E4AE4591F4F6', 'title\":\"Abstract Series', 'source\":\"roots_collections', 'path\":\"https://www.roots.gov.sg/Collection-Landing/listing/1010683', 'content\":\"Born in 1934 in Singapore, Chieu Shuey Fook graduated from Nanyang Academy of Fine Arts in 1953. Initially a batik artist, he became intrigued by chemical reactions on metal and has since made a name for himself in metal relief art; his works are known for their rich textural qualities. He has held solo exhibitions and participated in important group exhibitions both in Singapore and in Germany, Australia, France, Japan, Malaysia and Taiwan. Chieu, a recepient of numerous awards, among which is the top prize in the Instant Asia Art Competition in 1970, also received major art commissions.‘Abstract Series’ is one of Chieu’s important works in his oeuvre as it won him an art prize. It appropriates the form of a bird with a kaleidescope of colours, textures and patterns to denote diversity and progress.', 'lastModifiedDate\":\"04/08/2021', 'metadata\":{\"creator\":\"Chieu Shuey Fook', 'date_period\":\"1998', 'image_url\":\"https://www.roots.gov.sg/CollectionImages/1010683.jpg', 'accession_no\":\"2010-01385', 'pageId\":\"1010683', 'rootsUuid\":\"c13ccae3921c4c4c881fe4ae4591f4f6', 'collection_of\":\"National Gallery Singapore', 'material\":[\"Metal Relief\"],\"nlb_type\":\"Painting', 'categories\":[\"\"],\"region\":\"Singapore', 'dimension\":\"Image size: H152 x W 122 x D5 cm\"},\"docFormat\":\"html', 'highlight\":\"', 'tags\":{\"country\":[\"Singapore\"],\"material\":[\"Metal\"],\"city\":[\"Singapore\"],\"subject\":[\"Relief (art)', 'Art', 'Singapore', 'Abstract', 'Japan', 'Malaysia', 'Awards', 'Asia', 'Taiwan', 'Batik', 'Exhibitions', 'France', 'Australia', 'Art Commissions\"],\"person\":[\"Chieu, Shuey Fook\"],\"topic\":[\"country', 'material', 'city', 'subject', 'person', 'organisation', 'collection\"],\"organisation\":[\"Nanyang Academy of Fine Arts\"],\"collection\":[\"National Gallery Singapore\"]}}],\"id\":\"1889685179', 'total\":3884,\"size\":1}'], ['{\"documents\":[{\"id\":\"496F5795-5F20-4C9D-B63C-F21E3E187F92', 'title\":\"Profile - Girl with ribbon', 'source\":\"roots_collections', 'path\":\"https://www.roots.gov.sg/Collection-Landing/listing/1323149', 'content\":\"Tay Boon Pin (b.1936) received training at NAFA, graduating in 1956. Prior to that, he was a student at Chung Cheng High School. Tay was invited to participate in the Singapore Chinese High Schools’ Graduates of 1953 Arts Association travelling exhibition in 1955, and was one of the early members of the Equator Art Society (EAS).This body of sketches produced by the artist is significant to the understanding of the development of social realist movement in Singapore, particularly the ways in which EAS practised art during its early years in the 1950s and 1960s. The works also aid in our understanding of the methodology which EAS utilised in its approach towards realism during that time.', 'lastModifiedDate\":\"06/08/2021', 'metadata\":{\"creator\":\"Tay Boon Pin', 'date_period\":\"1963', 'image_url\":\"https://www.roots.gov.sg/CollectionImages/1323149.jpg', 'accession_no\":\"2015-00358', 'pageId\":\"1323149', 'rootsUuid\":\"496f57955f204c9db63cf21e3e187f92', 'collection_of\":\"National Gallery Singapore', 'material\":[\"Pencil on paper\"],\"nlb_type\":\"Painting', 'categories\":[\"\"],\"region\":\"Singapore', 'dimension\":\"Image size: 50 x 32.5 cm\"},\"docFormat\":\"html', 'highlight\":\"', 'tags\":{\"country\":[\"Singapore\"],\"material\":[\"Paper', 'Pencils\"],\"city\":[\"Singapore\"],\"subject\":[\"Training', 'Art', 'Singapore', 'High Schools', 'Graduates', 'Chinese', 'Time', 'Student', 'Sketches', 'Members\"],\"person\":[\"Tay, Boon Pin\"],\"organisation\":[\"Equator Art Society', 'Chung Cheng High School', 'Nanyang Academy of Fine Arts\"],\"topic\":[\"country', 'material', 'city', 'subject', 'person', 'organisation', 'singheritage', 'collection\"],\"singheritage\":[\"Arts\"],\"collection\":[\"National Gallery Singapore\"]}}],\"id\":\"1278167513', 'total\":3033,\"size\":1}'], ['{\"documents\":[{\"id\":\"30C350D9-CDA3-41FB-AE7A-220CE268751B', 'title\":\"Farmer', 'source\":\"roots_collections', 'path\":\"https://www.roots.gov.sg/Collection-Landing/listing/1030190', 'content\":\"Born in Fujian Province, Liu Kang (1911-2004) received his formal training in Shanghai Academy of Fine Art, where he was exposed to Chinese paintings. In 1928, he went to Paris where he was influenced by art movements such as Fauvism and Post-Impressionism. Not only was he one of Singapore’s pioneer artists, he was also a leading figure in the Society of Chinese Artists and the Singapore Art Society. In 1970, he was awarded the Public Service Star for his contributions in the field of art.Mainly an oil painter, Liu started using pastel during the Japanese Occupation (1942-1945) as oil paints were unavailable then. He was subsequently attracted by the luminosity of pastel and preferred it to oil for his later depictions of the human figure.', 'lastModifiedDate\":\"04/08/2021', 'metadata\":{\"creator\":\"Liu Kang', 'date_period\":\"1987', 'image_url\":\"https://www.roots.gov.sg/CollectionImages/1030190.jpg', 'accession_no\":\"2002-00783', 'pageId\":\"1030190', 'credit_line\":\"Donated by Liu Kang', 'rootsUuid\":\"30c350d9cda341fbae7a220ce268751b', 'collection_of\":\"National Gallery Singapore', 'material\":[\"Pastel on paper\"],\"nlb_type\":\"Painting', 'categories\":[\"\"],\"region\":\"Singapore', 'dimension\":\"Frame size: 83.6 x 63.5 cm Image size: 63.7 x 48.3 cm Image size: Mounting 86.9 x 60.4 cm\"},\"docFormat\":\"html', 'highlight\":\"', 'tags\":{\"country\":[\"Singapore\"],\"material\":[\"Paper', 'Pastel\"],\"city\":[\"Singapore\"],\"subject\":[\"Training', 'Liu, Kang, 1911-2004', 'Art', 'Paintings', 'Chinese', 'Artists\"],\"geographics\":[\"Pioneer\"],\"person\":[\"Liu, Kang\"],\"organisation\":[\"Singapore Art Society', 'The Society of Chinese Artists\"],\"topic\":[\"country', 'material', 'city', 'subject', 'geographics', 'person', 'organisation', 'singheritage', 'collection\"],\"singheritage\":[\"Artists\"],\"collection\":[\"National Gallery Singapore\"]}}],\"id\":\"1675008182', 'total\":2216,\"size\":1}'], ['{\"documents\":[{\"id\":\"DF923BAB-1130-4F18-8C0B-C9A428D5151E', 'title\":\"Untitled', 'source\":\"roots_collections', 'path\":\"https://www.roots.gov.sg/Collection-Landing/listing/1343272', 'content\":\"Tan Teng-Kee was born in Batu Pahat, Johor, Malaysia, in 1937. He studied Chinese and Western painting at the New Asia College, Hong Kong (1958-62) and after a few years living and working in Paris, studied metal sculpture (under renowned sculptor Norbert Kricke) and printmaking at the Staatliche Kunstakademie in Düsseldorf, Germany (1967-70).', 'lastModifiedDate\":\"06/08/2021', 'metadata\":{\"creator\":\"Tan Teng Kee', 'date_period\":\"1977', 'image_url\":\"https://www.roots.gov.sg/CollectionImages/1343272.jpg', 'accession_no\":\"2016-00456', 'pageId\":\"1343272', 'rootsUuid\":\"df923bab11304f188c0bc9a428d5151e', 'collection_of\":\"National Gallery Singapore', 'material\":[\"Ink on paper\"],\"nlb_type\":\"Painting', 'categories\":[\"\"],\"region\":\"Singapore', 'dimension\":\"Image size: 37.9 x 27.4 cm Frame size: 50.1 x 39.9 x 3.8 cm\"},\"docFormat\":\"html', 'highlight\":\"', 'tags\":{\"country\":[\"Singapore\"],\"material\":[\"Ink', 'Paper\"],\"city\":[\"Singapore\"],\"subject\":[\"Johor (Malaysia)', 'Working', 'Printmaking', 'Hong Kong', 'Asia', 'Metal Sculpture', 'Chinese', 'Painting\"],\"person\":[\"Tan, Teng Kee\"],\"topic\":[\"country', 'material', 'city', 'subject', 'person', 'singheritage', 'collection\"],\"singheritage\":[\"Painting\"],\"collection\":[\"National Gallery Singapore\"]}}],\"id\":\"656875389', 'total\":2227,\"size\":1}']]\n"
     ]
    },
    {
     "name": "stdout",
     "output_type": "stream",
     "text": [
      "[['{\"documents\":[{\"id\":\"47E60712-DB30-42AE-BFDF-3C4918065A91', 'title\":\"Handbill for the Cantonese movie, ‘Peach Blossom Crossing’', 'source\":\"roots_collections', 'path\":\"https://www.roots.gov.sg/Collection-Landing/listing/1142557', 'content\":\"This handbill was used to advertise the Cantonese movie, ‘Peach Blossom Crossing’ (桃花搭渡, Taohuadadu). During its Singapore run, the movie was screened at the Oriental (东方, Dongfang) and Grand (大光, Daguang) cinemas.Between the 1950s and 1960s, most Mandarin, Cantonese and other Chinese-dialect movies were made in Hong Kong by film production companies with financial support from Singapore-based film studios such as Shaw Brothers, Cathay and Kong Ngee (光艺, Guanyi). These studios were also involved in the distribution and exhibition of these movies in Singapore and the rest of Southeast Asia through their network of cinemas. In the early 1970s, Mandarin movies from Taiwan became popular, but by the late 1970s, Hong Kong movies were dominant once more.', 'lastModifiedDate\":\"04/08/2021', 'metadata\":{\"rootsUuid\":\"47e60712db3042aebfdf3c4918065a91', 'date_period\":\"1958', 'collection_of\":\"National Museum of Singapore', 'material\":[\"Paper\"],\"image_url\":\"https://www.roots.gov.sg/CollectionImages/1142557.jpg', 'accession_no\":\"2007-00335', 'nlb_type\":\"Document', 'categories\":[\"\"],\"region\":\"Singapore', 'pageId\":\"1142557', 'dimension\":\"Object size: 19.5 x 27.2 cm\"},\"docFormat\":\"html', 'highlight\":\"', 'tags\":{}}],\"id\":\"962323583', 'total\":1835,\"size\":1}'], ['{\"documents\":[{\"id\":\"C13CCAE3-921C-4C4C-881F-E4AE4591F4F6', 'title\":\"Abstract Series', 'source\":\"roots_collections', 'path\":\"https://www.roots.gov.sg/Collection-Landing/listing/1010683', 'content\":\"Born in 1934 in Singapore, Chieu Shuey Fook graduated from Nanyang Academy of Fine Arts in 1953. Initially a batik artist, he became intrigued by chemical reactions on metal and has since made a name for himself in metal relief art; his works are known for their rich textural qualities. He has held solo exhibitions and participated in important group exhibitions both in Singapore and in Germany, Australia, France, Japan, Malaysia and Taiwan. Chieu, a recepient of numerous awards, among which is the top prize in the Instant Asia Art Competition in 1970, also received major art commissions.‘Abstract Series’ is one of Chieu’s important works in his oeuvre as it won him an art prize. It appropriates the form of a bird with a kaleidescope of colours, textures and patterns to denote diversity and progress.', 'lastModifiedDate\":\"04/08/2021', 'metadata\":{\"creator\":\"Chieu Shuey Fook', 'date_period\":\"1998', 'image_url\":\"https://www.roots.gov.sg/CollectionImages/1010683.jpg', 'accession_no\":\"2010-01385', 'pageId\":\"1010683', 'rootsUuid\":\"c13ccae3921c4c4c881fe4ae4591f4f6', 'collection_of\":\"National Gallery Singapore', 'material\":[\"Metal Relief\"],\"nlb_type\":\"Painting', 'categories\":[\"\"],\"region\":\"Singapore', 'dimension\":\"Image size: H152 x W 122 x D5 cm\"},\"docFormat\":\"html', 'highlight\":\"', 'tags\":{\"country\":[\"Singapore\"],\"material\":[\"Metal\"],\"city\":[\"Singapore\"],\"subject\":[\"Relief (art)', 'Art', 'Singapore', 'Abstract', 'Japan', 'Malaysia', 'Awards', 'Asia', 'Taiwan', 'Batik', 'Exhibitions', 'France', 'Australia', 'Art Commissions\"],\"person\":[\"Chieu, Shuey Fook\"],\"topic\":[\"country', 'material', 'city', 'subject', 'person', 'organisation', 'collection\"],\"organisation\":[\"Nanyang Academy of Fine Arts\"],\"collection\":[\"National Gallery Singapore\"]}}],\"id\":\"1889685179', 'total\":3884,\"size\":1}'], ['{\"documents\":[{\"id\":\"496F5795-5F20-4C9D-B63C-F21E3E187F92', 'title\":\"Profile - Girl with ribbon', 'source\":\"roots_collections', 'path\":\"https://www.roots.gov.sg/Collection-Landing/listing/1323149', 'content\":\"Tay Boon Pin (b.1936) received training at NAFA, graduating in 1956. Prior to that, he was a student at Chung Cheng High School. Tay was invited to participate in the Singapore Chinese High Schools’ Graduates of 1953 Arts Association travelling exhibition in 1955, and was one of the early members of the Equator Art Society (EAS).This body of sketches produced by the artist is significant to the understanding of the development of social realist movement in Singapore, particularly the ways in which EAS practised art during its early years in the 1950s and 1960s. The works also aid in our understanding of the methodology which EAS utilised in its approach towards realism during that time.', 'lastModifiedDate\":\"06/08/2021', 'metadata\":{\"creator\":\"Tay Boon Pin', 'date_period\":\"1963', 'image_url\":\"https://www.roots.gov.sg/CollectionImages/1323149.jpg', 'accession_no\":\"2015-00358', 'pageId\":\"1323149', 'rootsUuid\":\"496f57955f204c9db63cf21e3e187f92', 'collection_of\":\"National Gallery Singapore', 'material\":[\"Pencil on paper\"],\"nlb_type\":\"Painting', 'categories\":[\"\"],\"region\":\"Singapore', 'dimension\":\"Image size: 50 x 32.5 cm\"},\"docFormat\":\"html', 'highlight\":\"', 'tags\":{\"country\":[\"Singapore\"],\"material\":[\"Paper', 'Pencils\"],\"city\":[\"Singapore\"],\"subject\":[\"Training', 'Art', 'Singapore', 'High Schools', 'Graduates', 'Chinese', 'Time', 'Student', 'Sketches', 'Members\"],\"person\":[\"Tay, Boon Pin\"],\"organisation\":[\"Equator Art Society', 'Chung Cheng High School', 'Nanyang Academy of Fine Arts\"],\"topic\":[\"country', 'material', 'city', 'subject', 'person', 'organisation', 'singheritage', 'collection\"],\"singheritage\":[\"Arts\"],\"collection\":[\"National Gallery Singapore\"]}}],\"id\":\"1278167513', 'total\":3033,\"size\":1}'], ['{\"documents\":[{\"id\":\"30C350D9-CDA3-41FB-AE7A-220CE268751B', 'title\":\"Farmer', 'source\":\"roots_collections', 'path\":\"https://www.roots.gov.sg/Collection-Landing/listing/1030190', 'content\":\"Born in Fujian Province, Liu Kang (1911-2004) received his formal training in Shanghai Academy of Fine Art, where he was exposed to Chinese paintings. In 1928, he went to Paris where he was influenced by art movements such as Fauvism and Post-Impressionism. Not only was he one of Singapore’s pioneer artists, he was also a leading figure in the Society of Chinese Artists and the Singapore Art Society. In 1970, he was awarded the Public Service Star for his contributions in the field of art.Mainly an oil painter, Liu started using pastel during the Japanese Occupation (1942-1945) as oil paints were unavailable then. He was subsequently attracted by the luminosity of pastel and preferred it to oil for his later depictions of the human figure.', 'lastModifiedDate\":\"04/08/2021', 'metadata\":{\"creator\":\"Liu Kang', 'date_period\":\"1987', 'image_url\":\"https://www.roots.gov.sg/CollectionImages/1030190.jpg', 'accession_no\":\"2002-00783', 'pageId\":\"1030190', 'credit_line\":\"Donated by Liu Kang', 'rootsUuid\":\"30c350d9cda341fbae7a220ce268751b', 'collection_of\":\"National Gallery Singapore', 'material\":[\"Pastel on paper\"],\"nlb_type\":\"Painting', 'categories\":[\"\"],\"region\":\"Singapore', 'dimension\":\"Frame size: 83.6 x 63.5 cm Image size: 63.7 x 48.3 cm Image size: Mounting 86.9 x 60.4 cm\"},\"docFormat\":\"html', 'highlight\":\"', 'tags\":{\"country\":[\"Singapore\"],\"material\":[\"Paper', 'Pastel\"],\"city\":[\"Singapore\"],\"subject\":[\"Training', 'Liu, Kang, 1911-2004', 'Art', 'Paintings', 'Chinese', 'Artists\"],\"geographics\":[\"Pioneer\"],\"person\":[\"Liu, Kang\"],\"organisation\":[\"Singapore Art Society', 'The Society of Chinese Artists\"],\"topic\":[\"country', 'material', 'city', 'subject', 'geographics', 'person', 'organisation', 'singheritage', 'collection\"],\"singheritage\":[\"Artists\"],\"collection\":[\"National Gallery Singapore\"]}}],\"id\":\"1675008182', 'total\":2216,\"size\":1}'], ['{\"documents\":[{\"id\":\"DF923BAB-1130-4F18-8C0B-C9A428D5151E', 'title\":\"Untitled', 'source\":\"roots_collections', 'path\":\"https://www.roots.gov.sg/Collection-Landing/listing/1343272', 'content\":\"Tan Teng-Kee was born in Batu Pahat, Johor, Malaysia, in 1937. He studied Chinese and Western painting at the New Asia College, Hong Kong (1958-62) and after a few years living and working in Paris, studied metal sculpture (under renowned sculptor Norbert Kricke) and printmaking at the Staatliche Kunstakademie in Düsseldorf, Germany (1967-70).', 'lastModifiedDate\":\"06/08/2021', 'metadata\":{\"creator\":\"Tan Teng Kee', 'date_period\":\"1977', 'image_url\":\"https://www.roots.gov.sg/CollectionImages/1343272.jpg', 'accession_no\":\"2016-00456', 'pageId\":\"1343272', 'rootsUuid\":\"df923bab11304f188c0bc9a428d5151e', 'collection_of\":\"National Gallery Singapore', 'material\":[\"Ink on paper\"],\"nlb_type\":\"Painting', 'categories\":[\"\"],\"region\":\"Singapore', 'dimension\":\"Image size: 37.9 x 27.4 cm Frame size: 50.1 x 39.9 x 3.8 cm\"},\"docFormat\":\"html', 'highlight\":\"', 'tags\":{\"country\":[\"Singapore\"],\"material\":[\"Ink', 'Paper\"],\"city\":[\"Singapore\"],\"subject\":[\"Johor (Malaysia)', 'Working', 'Printmaking', 'Hong Kong', 'Asia', 'Metal Sculpture', 'Chinese', 'Painting\"],\"person\":[\"Tan, Teng Kee\"],\"topic\":[\"country', 'material', 'city', 'subject', 'person', 'singheritage', 'collection\"],\"singheritage\":[\"Painting\"],\"collection\":[\"National Gallery Singapore\"]}}],\"id\":\"656875389', 'total\":2227,\"size\":1}'], ['{\"documents\":[{\"id\":\"2603CD9A-497C-4899-8282-56F2D9264859', 'title\":\"Evening (Petang)', 'source\":\"roots_collections', 'path\":\"https://www.roots.gov.sg/Collection-Landing/listing/1236910', 'content\":\"Born in Singapore, Arthur Yap (1943-2006) painted more frequently only after he graduated from the University of Singapore in 1965. A self-taught artist, he learnt through art magazines, exhibitions and trips to Europe in the 1970s. At the same time, he participated actively in the local art scene, holding six solo exhibitions and exhibiting in numerous group shows from 1968. In 1972, he was one of the Singapore representatives to the Adelaide Festival of Arts. Recognized as one of the country’s foremost poets with three published collections of poems, Yap was awarded the Cultural Medallion for literature by the Singapore government in 1983.‘Evening (Petang)’ demonstrates Yap’s early style which shows a preference for clean and hard edges, with clear influences from Lyrical Abstraction: wavy ribbons and structured bands in different hues of beige, blue, green and grey. Yap alternates between chaos and order: the shapes sometimes overlap, and sometimes stack neatly on top of one another.', 'lastModifiedDate\":\"06/08/2021', 'metadata\":{\"creator\":\"Arthur Yap', 'date_period\":\"1968', 'image_url\":\"https://www.roots.gov.sg/CollectionImages/1236910.jpg', 'accession_no\":\"2010-00754', 'pageId\":\"1236910', 'credit_line\":\"Gift of Fanny, Jenny and Alice Yap', 'rootsUuid\":\"2603cd9a497c4899828256f2d9264859', 'collection_of\":\"National Gallery Singapore', 'material\":[\"Acrylic on canvas\"],\"nlb_type\":\"Painting', 'categories\":[\"\"],\"region\":\"Singapore', 'dimension\":\"Frame size: H83 x W83.2 x D2.5 cm Image size: 80.5 x 80.7 cm\"},\"docFormat\":\"html', 'highlight\":\"', 'tags\":{\"country\":[\"Singapore\"],\"color\":[\"blue (color)', 'green (color)\"],\"material\":[\"Canvas', 'Acrylic\"],\"city\":[\"Singapore\"],\"subject\":[\"Chaos', 'University Of Singapore', 'Bands', 'Art', 'Ribbons', 'Singapore', 'Poems', 'Exhibiting', 'Exhibitions', 'Time', 'Abstraction', 'Poets\"],\"awards\":[\"Cultural Medallion\"],\"person\":[\"Yap, Arthur\"],\"topic\":[\"country', 'color', 'material', 'city', 'subject', 'awards', 'person', 'singheritage', 'organisation', 'collection\"],\"singheritage\":[\"Literature', 'Arts\"],\"organisation\":[\"University of Singapore\"],\"collection\":[\"National Gallery Singapore\"]}}],\"id\":\"1882780963', 'total\":3886,\"size\":1}']]\n"
     ]
    },
    {
     "name": "stdout",
     "output_type": "stream",
     "text": [
      "[['{\"documents\":[{\"id\":\"47E60712-DB30-42AE-BFDF-3C4918065A91', 'title\":\"Handbill for the Cantonese movie, ‘Peach Blossom Crossing’', 'source\":\"roots_collections', 'path\":\"https://www.roots.gov.sg/Collection-Landing/listing/1142557', 'content\":\"This handbill was used to advertise the Cantonese movie, ‘Peach Blossom Crossing’ (桃花搭渡, Taohuadadu). During its Singapore run, the movie was screened at the Oriental (东方, Dongfang) and Grand (大光, Daguang) cinemas.Between the 1950s and 1960s, most Mandarin, Cantonese and other Chinese-dialect movies were made in Hong Kong by film production companies with financial support from Singapore-based film studios such as Shaw Brothers, Cathay and Kong Ngee (光艺, Guanyi). These studios were also involved in the distribution and exhibition of these movies in Singapore and the rest of Southeast Asia through their network of cinemas. In the early 1970s, Mandarin movies from Taiwan became popular, but by the late 1970s, Hong Kong movies were dominant once more.', 'lastModifiedDate\":\"04/08/2021', 'metadata\":{\"rootsUuid\":\"47e60712db3042aebfdf3c4918065a91', 'date_period\":\"1958', 'collection_of\":\"National Museum of Singapore', 'material\":[\"Paper\"],\"image_url\":\"https://www.roots.gov.sg/CollectionImages/1142557.jpg', 'accession_no\":\"2007-00335', 'nlb_type\":\"Document', 'categories\":[\"\"],\"region\":\"Singapore', 'pageId\":\"1142557', 'dimension\":\"Object size: 19.5 x 27.2 cm\"},\"docFormat\":\"html', 'highlight\":\"', 'tags\":{}}],\"id\":\"962323583', 'total\":1835,\"size\":1}'], ['{\"documents\":[{\"id\":\"C13CCAE3-921C-4C4C-881F-E4AE4591F4F6', 'title\":\"Abstract Series', 'source\":\"roots_collections', 'path\":\"https://www.roots.gov.sg/Collection-Landing/listing/1010683', 'content\":\"Born in 1934 in Singapore, Chieu Shuey Fook graduated from Nanyang Academy of Fine Arts in 1953. Initially a batik artist, he became intrigued by chemical reactions on metal and has since made a name for himself in metal relief art; his works are known for their rich textural qualities. He has held solo exhibitions and participated in important group exhibitions both in Singapore and in Germany, Australia, France, Japan, Malaysia and Taiwan. Chieu, a recepient of numerous awards, among which is the top prize in the Instant Asia Art Competition in 1970, also received major art commissions.‘Abstract Series’ is one of Chieu’s important works in his oeuvre as it won him an art prize. It appropriates the form of a bird with a kaleidescope of colours, textures and patterns to denote diversity and progress.', 'lastModifiedDate\":\"04/08/2021', 'metadata\":{\"creator\":\"Chieu Shuey Fook', 'date_period\":\"1998', 'image_url\":\"https://www.roots.gov.sg/CollectionImages/1010683.jpg', 'accession_no\":\"2010-01385', 'pageId\":\"1010683', 'rootsUuid\":\"c13ccae3921c4c4c881fe4ae4591f4f6', 'collection_of\":\"National Gallery Singapore', 'material\":[\"Metal Relief\"],\"nlb_type\":\"Painting', 'categories\":[\"\"],\"region\":\"Singapore', 'dimension\":\"Image size: H152 x W 122 x D5 cm\"},\"docFormat\":\"html', 'highlight\":\"', 'tags\":{\"country\":[\"Singapore\"],\"material\":[\"Metal\"],\"city\":[\"Singapore\"],\"subject\":[\"Relief (art)', 'Art', 'Singapore', 'Abstract', 'Japan', 'Malaysia', 'Awards', 'Asia', 'Taiwan', 'Batik', 'Exhibitions', 'France', 'Australia', 'Art Commissions\"],\"person\":[\"Chieu, Shuey Fook\"],\"topic\":[\"country', 'material', 'city', 'subject', 'person', 'organisation', 'collection\"],\"organisation\":[\"Nanyang Academy of Fine Arts\"],\"collection\":[\"National Gallery Singapore\"]}}],\"id\":\"1889685179', 'total\":3884,\"size\":1}'], ['{\"documents\":[{\"id\":\"496F5795-5F20-4C9D-B63C-F21E3E187F92', 'title\":\"Profile - Girl with ribbon', 'source\":\"roots_collections', 'path\":\"https://www.roots.gov.sg/Collection-Landing/listing/1323149', 'content\":\"Tay Boon Pin (b.1936) received training at NAFA, graduating in 1956. Prior to that, he was a student at Chung Cheng High School. Tay was invited to participate in the Singapore Chinese High Schools’ Graduates of 1953 Arts Association travelling exhibition in 1955, and was one of the early members of the Equator Art Society (EAS).This body of sketches produced by the artist is significant to the understanding of the development of social realist movement in Singapore, particularly the ways in which EAS practised art during its early years in the 1950s and 1960s. The works also aid in our understanding of the methodology which EAS utilised in its approach towards realism during that time.', 'lastModifiedDate\":\"06/08/2021', 'metadata\":{\"creator\":\"Tay Boon Pin', 'date_period\":\"1963', 'image_url\":\"https://www.roots.gov.sg/CollectionImages/1323149.jpg', 'accession_no\":\"2015-00358', 'pageId\":\"1323149', 'rootsUuid\":\"496f57955f204c9db63cf21e3e187f92', 'collection_of\":\"National Gallery Singapore', 'material\":[\"Pencil on paper\"],\"nlb_type\":\"Painting', 'categories\":[\"\"],\"region\":\"Singapore', 'dimension\":\"Image size: 50 x 32.5 cm\"},\"docFormat\":\"html', 'highlight\":\"', 'tags\":{\"country\":[\"Singapore\"],\"material\":[\"Paper', 'Pencils\"],\"city\":[\"Singapore\"],\"subject\":[\"Training', 'Art', 'Singapore', 'High Schools', 'Graduates', 'Chinese', 'Time', 'Student', 'Sketches', 'Members\"],\"person\":[\"Tay, Boon Pin\"],\"organisation\":[\"Equator Art Society', 'Chung Cheng High School', 'Nanyang Academy of Fine Arts\"],\"topic\":[\"country', 'material', 'city', 'subject', 'person', 'organisation', 'singheritage', 'collection\"],\"singheritage\":[\"Arts\"],\"collection\":[\"National Gallery Singapore\"]}}],\"id\":\"1278167513', 'total\":3033,\"size\":1}'], ['{\"documents\":[{\"id\":\"30C350D9-CDA3-41FB-AE7A-220CE268751B', 'title\":\"Farmer', 'source\":\"roots_collections', 'path\":\"https://www.roots.gov.sg/Collection-Landing/listing/1030190', 'content\":\"Born in Fujian Province, Liu Kang (1911-2004) received his formal training in Shanghai Academy of Fine Art, where he was exposed to Chinese paintings. In 1928, he went to Paris where he was influenced by art movements such as Fauvism and Post-Impressionism. Not only was he one of Singapore’s pioneer artists, he was also a leading figure in the Society of Chinese Artists and the Singapore Art Society. In 1970, he was awarded the Public Service Star for his contributions in the field of art.Mainly an oil painter, Liu started using pastel during the Japanese Occupation (1942-1945) as oil paints were unavailable then. He was subsequently attracted by the luminosity of pastel and preferred it to oil for his later depictions of the human figure.', 'lastModifiedDate\":\"04/08/2021', 'metadata\":{\"creator\":\"Liu Kang', 'date_period\":\"1987', 'image_url\":\"https://www.roots.gov.sg/CollectionImages/1030190.jpg', 'accession_no\":\"2002-00783', 'pageId\":\"1030190', 'credit_line\":\"Donated by Liu Kang', 'rootsUuid\":\"30c350d9cda341fbae7a220ce268751b', 'collection_of\":\"National Gallery Singapore', 'material\":[\"Pastel on paper\"],\"nlb_type\":\"Painting', 'categories\":[\"\"],\"region\":\"Singapore', 'dimension\":\"Frame size: 83.6 x 63.5 cm Image size: 63.7 x 48.3 cm Image size: Mounting 86.9 x 60.4 cm\"},\"docFormat\":\"html', 'highlight\":\"', 'tags\":{\"country\":[\"Singapore\"],\"material\":[\"Paper', 'Pastel\"],\"city\":[\"Singapore\"],\"subject\":[\"Training', 'Liu, Kang, 1911-2004', 'Art', 'Paintings', 'Chinese', 'Artists\"],\"geographics\":[\"Pioneer\"],\"person\":[\"Liu, Kang\"],\"organisation\":[\"Singapore Art Society', 'The Society of Chinese Artists\"],\"topic\":[\"country', 'material', 'city', 'subject', 'geographics', 'person', 'organisation', 'singheritage', 'collection\"],\"singheritage\":[\"Artists\"],\"collection\":[\"National Gallery Singapore\"]}}],\"id\":\"1675008182', 'total\":2216,\"size\":1}'], ['{\"documents\":[{\"id\":\"DF923BAB-1130-4F18-8C0B-C9A428D5151E', 'title\":\"Untitled', 'source\":\"roots_collections', 'path\":\"https://www.roots.gov.sg/Collection-Landing/listing/1343272', 'content\":\"Tan Teng-Kee was born in Batu Pahat, Johor, Malaysia, in 1937. He studied Chinese and Western painting at the New Asia College, Hong Kong (1958-62) and after a few years living and working in Paris, studied metal sculpture (under renowned sculptor Norbert Kricke) and printmaking at the Staatliche Kunstakademie in Düsseldorf, Germany (1967-70).', 'lastModifiedDate\":\"06/08/2021', 'metadata\":{\"creator\":\"Tan Teng Kee', 'date_period\":\"1977', 'image_url\":\"https://www.roots.gov.sg/CollectionImages/1343272.jpg', 'accession_no\":\"2016-00456', 'pageId\":\"1343272', 'rootsUuid\":\"df923bab11304f188c0bc9a428d5151e', 'collection_of\":\"National Gallery Singapore', 'material\":[\"Ink on paper\"],\"nlb_type\":\"Painting', 'categories\":[\"\"],\"region\":\"Singapore', 'dimension\":\"Image size: 37.9 x 27.4 cm Frame size: 50.1 x 39.9 x 3.8 cm\"},\"docFormat\":\"html', 'highlight\":\"', 'tags\":{\"country\":[\"Singapore\"],\"material\":[\"Ink', 'Paper\"],\"city\":[\"Singapore\"],\"subject\":[\"Johor (Malaysia)', 'Working', 'Printmaking', 'Hong Kong', 'Asia', 'Metal Sculpture', 'Chinese', 'Painting\"],\"person\":[\"Tan, Teng Kee\"],\"topic\":[\"country', 'material', 'city', 'subject', 'person', 'singheritage', 'collection\"],\"singheritage\":[\"Painting\"],\"collection\":[\"National Gallery Singapore\"]}}],\"id\":\"656875389', 'total\":2227,\"size\":1}'], ['{\"documents\":[{\"id\":\"2603CD9A-497C-4899-8282-56F2D9264859', 'title\":\"Evening (Petang)', 'source\":\"roots_collections', 'path\":\"https://www.roots.gov.sg/Collection-Landing/listing/1236910', 'content\":\"Born in Singapore, Arthur Yap (1943-2006) painted more frequently only after he graduated from the University of Singapore in 1965. A self-taught artist, he learnt through art magazines, exhibitions and trips to Europe in the 1970s. At the same time, he participated actively in the local art scene, holding six solo exhibitions and exhibiting in numerous group shows from 1968. In 1972, he was one of the Singapore representatives to the Adelaide Festival of Arts. Recognized as one of the country’s foremost poets with three published collections of poems, Yap was awarded the Cultural Medallion for literature by the Singapore government in 1983.‘Evening (Petang)’ demonstrates Yap’s early style which shows a preference for clean and hard edges, with clear influences from Lyrical Abstraction: wavy ribbons and structured bands in different hues of beige, blue, green and grey. Yap alternates between chaos and order: the shapes sometimes overlap, and sometimes stack neatly on top of one another.', 'lastModifiedDate\":\"06/08/2021', 'metadata\":{\"creator\":\"Arthur Yap', 'date_period\":\"1968', 'image_url\":\"https://www.roots.gov.sg/CollectionImages/1236910.jpg', 'accession_no\":\"2010-00754', 'pageId\":\"1236910', 'credit_line\":\"Gift of Fanny, Jenny and Alice Yap', 'rootsUuid\":\"2603cd9a497c4899828256f2d9264859', 'collection_of\":\"National Gallery Singapore', 'material\":[\"Acrylic on canvas\"],\"nlb_type\":\"Painting', 'categories\":[\"\"],\"region\":\"Singapore', 'dimension\":\"Frame size: H83 x W83.2 x D2.5 cm Image size: 80.5 x 80.7 cm\"},\"docFormat\":\"html', 'highlight\":\"', 'tags\":{\"country\":[\"Singapore\"],\"color\":[\"blue (color)', 'green (color)\"],\"material\":[\"Canvas', 'Acrylic\"],\"city\":[\"Singapore\"],\"subject\":[\"Chaos', 'University Of Singapore', 'Bands', 'Art', 'Ribbons', 'Singapore', 'Poems', 'Exhibiting', 'Exhibitions', 'Time', 'Abstraction', 'Poets\"],\"awards\":[\"Cultural Medallion\"],\"person\":[\"Yap, Arthur\"],\"topic\":[\"country', 'color', 'material', 'city', 'subject', 'awards', 'person', 'singheritage', 'organisation', 'collection\"],\"singheritage\":[\"Literature', 'Arts\"],\"organisation\":[\"University of Singapore\"],\"collection\":[\"National Gallery Singapore\"]}}],\"id\":\"1882780963', 'total\":3886,\"size\":1}'], ['{\"documents\":[{\"id\":\"68177CA8-DCD4-411C-A3F9-3BB8019E794C', 'title\":\"Sarong', 'source\":\"roots_collections', 'path\":\"https://www.roots.gov.sg/Collection-Landing/listing/1091981', 'content\":\"', 'lastModifiedDate\":\"04/08/2021', 'metadata\":{\"date_period\":\"c.1910', 'image_url\":\"https://www.roots.gov.sg/CollectionImages/1091981.jpg', 'technique\":[\"warp ikat\"],\"accession_no\":\"T-0033', 'pageId\":\"1091981', 'rootsUuid\":\"68177ca8dcd4411ca3f93bb8019e794c', 'collection_of\":\"Asian Civilisations Museum', 'material\":[\"Cotton\"],\"nlb_type\":\"Textile', 'categories\":[\"\"],\"region\":\"Kisar, Southern Moluccas, Indonesian Archipelago', 'dimension\":\"Object size: 76 x 70 cm\"},\"docFormat\":\"html', 'highlight\":\"', 'tags\":{\"material\":[\"Cotton\"],\"topic\":[\"material', 'collection\"],\"collection\":[\"Asian Civilisations Museum\"]}}],\"id\":\"399482053', 'total\":176,\"size\":1}']]\n",
      "[['{\"documents\":[{\"id\":\"47E60712-DB30-42AE-BFDF-3C4918065A91', 'title\":\"Handbill for the Cantonese movie, ‘Peach Blossom Crossing’', 'source\":\"roots_collections', 'path\":\"https://www.roots.gov.sg/Collection-Landing/listing/1142557', 'content\":\"This handbill was used to advertise the Cantonese movie, ‘Peach Blossom Crossing’ (桃花搭渡, Taohuadadu). During its Singapore run, the movie was screened at the Oriental (东方, Dongfang) and Grand (大光, Daguang) cinemas.Between the 1950s and 1960s, most Mandarin, Cantonese and other Chinese-dialect movies were made in Hong Kong by film production companies with financial support from Singapore-based film studios such as Shaw Brothers, Cathay and Kong Ngee (光艺, Guanyi). These studios were also involved in the distribution and exhibition of these movies in Singapore and the rest of Southeast Asia through their network of cinemas. In the early 1970s, Mandarin movies from Taiwan became popular, but by the late 1970s, Hong Kong movies were dominant once more.', 'lastModifiedDate\":\"04/08/2021', 'metadata\":{\"rootsUuid\":\"47e60712db3042aebfdf3c4918065a91', 'date_period\":\"1958', 'collection_of\":\"National Museum of Singapore', 'material\":[\"Paper\"],\"image_url\":\"https://www.roots.gov.sg/CollectionImages/1142557.jpg', 'accession_no\":\"2007-00335', 'nlb_type\":\"Document', 'categories\":[\"\"],\"region\":\"Singapore', 'pageId\":\"1142557', 'dimension\":\"Object size: 19.5 x 27.2 cm\"},\"docFormat\":\"html', 'highlight\":\"', 'tags\":{}}],\"id\":\"962323583', 'total\":1835,\"size\":1}'], ['{\"documents\":[{\"id\":\"C13CCAE3-921C-4C4C-881F-E4AE4591F4F6', 'title\":\"Abstract Series', 'source\":\"roots_collections', 'path\":\"https://www.roots.gov.sg/Collection-Landing/listing/1010683', 'content\":\"Born in 1934 in Singapore, Chieu Shuey Fook graduated from Nanyang Academy of Fine Arts in 1953. Initially a batik artist, he became intrigued by chemical reactions on metal and has since made a name for himself in metal relief art; his works are known for their rich textural qualities. He has held solo exhibitions and participated in important group exhibitions both in Singapore and in Germany, Australia, France, Japan, Malaysia and Taiwan. Chieu, a recepient of numerous awards, among which is the top prize in the Instant Asia Art Competition in 1970, also received major art commissions.‘Abstract Series’ is one of Chieu’s important works in his oeuvre as it won him an art prize. It appropriates the form of a bird with a kaleidescope of colours, textures and patterns to denote diversity and progress.', 'lastModifiedDate\":\"04/08/2021', 'metadata\":{\"creator\":\"Chieu Shuey Fook', 'date_period\":\"1998', 'image_url\":\"https://www.roots.gov.sg/CollectionImages/1010683.jpg', 'accession_no\":\"2010-01385', 'pageId\":\"1010683', 'rootsUuid\":\"c13ccae3921c4c4c881fe4ae4591f4f6', 'collection_of\":\"National Gallery Singapore', 'material\":[\"Metal Relief\"],\"nlb_type\":\"Painting', 'categories\":[\"\"],\"region\":\"Singapore', 'dimension\":\"Image size: H152 x W 122 x D5 cm\"},\"docFormat\":\"html', 'highlight\":\"', 'tags\":{\"country\":[\"Singapore\"],\"material\":[\"Metal\"],\"city\":[\"Singapore\"],\"subject\":[\"Relief (art)', 'Art', 'Singapore', 'Abstract', 'Japan', 'Malaysia', 'Awards', 'Asia', 'Taiwan', 'Batik', 'Exhibitions', 'France', 'Australia', 'Art Commissions\"],\"person\":[\"Chieu, Shuey Fook\"],\"topic\":[\"country', 'material', 'city', 'subject', 'person', 'organisation', 'collection\"],\"organisation\":[\"Nanyang Academy of Fine Arts\"],\"collection\":[\"National Gallery Singapore\"]}}],\"id\":\"1889685179', 'total\":3884,\"size\":1}'], ['{\"documents\":[{\"id\":\"496F5795-5F20-4C9D-B63C-F21E3E187F92', 'title\":\"Profile - Girl with ribbon', 'source\":\"roots_collections', 'path\":\"https://www.roots.gov.sg/Collection-Landing/listing/1323149', 'content\":\"Tay Boon Pin (b.1936) received training at NAFA, graduating in 1956. Prior to that, he was a student at Chung Cheng High School. Tay was invited to participate in the Singapore Chinese High Schools’ Graduates of 1953 Arts Association travelling exhibition in 1955, and was one of the early members of the Equator Art Society (EAS).This body of sketches produced by the artist is significant to the understanding of the development of social realist movement in Singapore, particularly the ways in which EAS practised art during its early years in the 1950s and 1960s. The works also aid in our understanding of the methodology which EAS utilised in its approach towards realism during that time.', 'lastModifiedDate\":\"06/08/2021', 'metadata\":{\"creator\":\"Tay Boon Pin', 'date_period\":\"1963', 'image_url\":\"https://www.roots.gov.sg/CollectionImages/1323149.jpg', 'accession_no\":\"2015-00358', 'pageId\":\"1323149', 'rootsUuid\":\"496f57955f204c9db63cf21e3e187f92', 'collection_of\":\"National Gallery Singapore', 'material\":[\"Pencil on paper\"],\"nlb_type\":\"Painting', 'categories\":[\"\"],\"region\":\"Singapore', 'dimension\":\"Image size: 50 x 32.5 cm\"},\"docFormat\":\"html', 'highlight\":\"', 'tags\":{\"country\":[\"Singapore\"],\"material\":[\"Paper', 'Pencils\"],\"city\":[\"Singapore\"],\"subject\":[\"Training', 'Art', 'Singapore', 'High Schools', 'Graduates', 'Chinese', 'Time', 'Student', 'Sketches', 'Members\"],\"person\":[\"Tay, Boon Pin\"],\"organisation\":[\"Equator Art Society', 'Chung Cheng High School', 'Nanyang Academy of Fine Arts\"],\"topic\":[\"country', 'material', 'city', 'subject', 'person', 'organisation', 'singheritage', 'collection\"],\"singheritage\":[\"Arts\"],\"collection\":[\"National Gallery Singapore\"]}}],\"id\":\"1278167513', 'total\":3033,\"size\":1}'], ['{\"documents\":[{\"id\":\"30C350D9-CDA3-41FB-AE7A-220CE268751B', 'title\":\"Farmer', 'source\":\"roots_collections', 'path\":\"https://www.roots.gov.sg/Collection-Landing/listing/1030190', 'content\":\"Born in Fujian Province, Liu Kang (1911-2004) received his formal training in Shanghai Academy of Fine Art, where he was exposed to Chinese paintings. In 1928, he went to Paris where he was influenced by art movements such as Fauvism and Post-Impressionism. Not only was he one of Singapore’s pioneer artists, he was also a leading figure in the Society of Chinese Artists and the Singapore Art Society. In 1970, he was awarded the Public Service Star for his contributions in the field of art.Mainly an oil painter, Liu started using pastel during the Japanese Occupation (1942-1945) as oil paints were unavailable then. He was subsequently attracted by the luminosity of pastel and preferred it to oil for his later depictions of the human figure.', 'lastModifiedDate\":\"04/08/2021', 'metadata\":{\"creator\":\"Liu Kang', 'date_period\":\"1987', 'image_url\":\"https://www.roots.gov.sg/CollectionImages/1030190.jpg', 'accession_no\":\"2002-00783', 'pageId\":\"1030190', 'credit_line\":\"Donated by Liu Kang', 'rootsUuid\":\"30c350d9cda341fbae7a220ce268751b', 'collection_of\":\"National Gallery Singapore', 'material\":[\"Pastel on paper\"],\"nlb_type\":\"Painting', 'categories\":[\"\"],\"region\":\"Singapore', 'dimension\":\"Frame size: 83.6 x 63.5 cm Image size: 63.7 x 48.3 cm Image size: Mounting 86.9 x 60.4 cm\"},\"docFormat\":\"html', 'highlight\":\"', 'tags\":{\"country\":[\"Singapore\"],\"material\":[\"Paper', 'Pastel\"],\"city\":[\"Singapore\"],\"subject\":[\"Training', 'Liu, Kang, 1911-2004', 'Art', 'Paintings', 'Chinese', 'Artists\"],\"geographics\":[\"Pioneer\"],\"person\":[\"Liu, Kang\"],\"organisation\":[\"Singapore Art Society', 'The Society of Chinese Artists\"],\"topic\":[\"country', 'material', 'city', 'subject', 'geographics', 'person', 'organisation', 'singheritage', 'collection\"],\"singheritage\":[\"Artists\"],\"collection\":[\"National Gallery Singapore\"]}}],\"id\":\"1675008182', 'total\":2216,\"size\":1}'], ['{\"documents\":[{\"id\":\"DF923BAB-1130-4F18-8C0B-C9A428D5151E', 'title\":\"Untitled', 'source\":\"roots_collections', 'path\":\"https://www.roots.gov.sg/Collection-Landing/listing/1343272', 'content\":\"Tan Teng-Kee was born in Batu Pahat, Johor, Malaysia, in 1937. He studied Chinese and Western painting at the New Asia College, Hong Kong (1958-62) and after a few years living and working in Paris, studied metal sculpture (under renowned sculptor Norbert Kricke) and printmaking at the Staatliche Kunstakademie in Düsseldorf, Germany (1967-70).', 'lastModifiedDate\":\"06/08/2021', 'metadata\":{\"creator\":\"Tan Teng Kee', 'date_period\":\"1977', 'image_url\":\"https://www.roots.gov.sg/CollectionImages/1343272.jpg', 'accession_no\":\"2016-00456', 'pageId\":\"1343272', 'rootsUuid\":\"df923bab11304f188c0bc9a428d5151e', 'collection_of\":\"National Gallery Singapore', 'material\":[\"Ink on paper\"],\"nlb_type\":\"Painting', 'categories\":[\"\"],\"region\":\"Singapore', 'dimension\":\"Image size: 37.9 x 27.4 cm Frame size: 50.1 x 39.9 x 3.8 cm\"},\"docFormat\":\"html', 'highlight\":\"', 'tags\":{\"country\":[\"Singapore\"],\"material\":[\"Ink', 'Paper\"],\"city\":[\"Singapore\"],\"subject\":[\"Johor (Malaysia)', 'Working', 'Printmaking', 'Hong Kong', 'Asia', 'Metal Sculpture', 'Chinese', 'Painting\"],\"person\":[\"Tan, Teng Kee\"],\"topic\":[\"country', 'material', 'city', 'subject', 'person', 'singheritage', 'collection\"],\"singheritage\":[\"Painting\"],\"collection\":[\"National Gallery Singapore\"]}}],\"id\":\"656875389', 'total\":2227,\"size\":1}'], ['{\"documents\":[{\"id\":\"2603CD9A-497C-4899-8282-56F2D9264859', 'title\":\"Evening (Petang)', 'source\":\"roots_collections', 'path\":\"https://www.roots.gov.sg/Collection-Landing/listing/1236910', 'content\":\"Born in Singapore, Arthur Yap (1943-2006) painted more frequently only after he graduated from the University of Singapore in 1965. A self-taught artist, he learnt through art magazines, exhibitions and trips to Europe in the 1970s. At the same time, he participated actively in the local art scene, holding six solo exhibitions and exhibiting in numerous group shows from 1968. In 1972, he was one of the Singapore representatives to the Adelaide Festival of Arts. Recognized as one of the country’s foremost poets with three published collections of poems, Yap was awarded the Cultural Medallion for literature by the Singapore government in 1983.‘Evening (Petang)’ demonstrates Yap’s early style which shows a preference for clean and hard edges, with clear influences from Lyrical Abstraction: wavy ribbons and structured bands in different hues of beige, blue, green and grey. Yap alternates between chaos and order: the shapes sometimes overlap, and sometimes stack neatly on top of one another.', 'lastModifiedDate\":\"06/08/2021', 'metadata\":{\"creator\":\"Arthur Yap', 'date_period\":\"1968', 'image_url\":\"https://www.roots.gov.sg/CollectionImages/1236910.jpg', 'accession_no\":\"2010-00754', 'pageId\":\"1236910', 'credit_line\":\"Gift of Fanny, Jenny and Alice Yap', 'rootsUuid\":\"2603cd9a497c4899828256f2d9264859', 'collection_of\":\"National Gallery Singapore', 'material\":[\"Acrylic on canvas\"],\"nlb_type\":\"Painting', 'categories\":[\"\"],\"region\":\"Singapore', 'dimension\":\"Frame size: H83 x W83.2 x D2.5 cm Image size: 80.5 x 80.7 cm\"},\"docFormat\":\"html', 'highlight\":\"', 'tags\":{\"country\":[\"Singapore\"],\"color\":[\"blue (color)', 'green (color)\"],\"material\":[\"Canvas', 'Acrylic\"],\"city\":[\"Singapore\"],\"subject\":[\"Chaos', 'University Of Singapore', 'Bands', 'Art', 'Ribbons', 'Singapore', 'Poems', 'Exhibiting', 'Exhibitions', 'Time', 'Abstraction', 'Poets\"],\"awards\":[\"Cultural Medallion\"],\"person\":[\"Yap, Arthur\"],\"topic\":[\"country', 'color', 'material', 'city', 'subject', 'awards', 'person', 'singheritage', 'organisation', 'collection\"],\"singheritage\":[\"Literature', 'Arts\"],\"organisation\":[\"University of Singapore\"],\"collection\":[\"National Gallery Singapore\"]}}],\"id\":\"1882780963', 'total\":3886,\"size\":1}'], ['{\"documents\":[{\"id\":\"68177CA8-DCD4-411C-A3F9-3BB8019E794C', 'title\":\"Sarong', 'source\":\"roots_collections', 'path\":\"https://www.roots.gov.sg/Collection-Landing/listing/1091981', 'content\":\"', 'lastModifiedDate\":\"04/08/2021', 'metadata\":{\"date_period\":\"c.1910', 'image_url\":\"https://www.roots.gov.sg/CollectionImages/1091981.jpg', 'technique\":[\"warp ikat\"],\"accession_no\":\"T-0033', 'pageId\":\"1091981', 'rootsUuid\":\"68177ca8dcd4411ca3f93bb8019e794c', 'collection_of\":\"Asian Civilisations Museum', 'material\":[\"Cotton\"],\"nlb_type\":\"Textile', 'categories\":[\"\"],\"region\":\"Kisar, Southern Moluccas, Indonesian Archipelago', 'dimension\":\"Object size: 76 x 70 cm\"},\"docFormat\":\"html', 'highlight\":\"', 'tags\":{\"material\":[\"Cotton\"],\"topic\":[\"material', 'collection\"],\"collection\":[\"Asian Civilisations Museum\"]}}],\"id\":\"399482053', 'total\":176,\"size\":1}'], ['{\"documents\":[{\"id\":\"3D32A487-36FC-4B59-AA8B-A55FF31908C3', 'title\":\"Menenun (Weaving)', 'source\":\"roots_collections', 'path\":\"https://www.roots.gov.sg/Collection-Landing/listing/1327547', 'content\":\"This work continues Apin’s exploration in the print technique. However beyond the print medium, there are also photographic and abstraction elements, combined with his lifelong study of the nude body. Hence this is a strong, confident work of an artist who is at the peak of his practice. To add to the multi-layered aspect of this work, the title Menenun which translates to Weaving also touches on the long-standing textile tradition in Indonesian besides of course, summarizing the technique of this work.', 'lastModifiedDate\":\"06/08/2021', 'metadata\":{\"technique\":[\"Block Print\"],\"accession_no\":\"2017-00480', 'materials_name\":\"Paper (fiber Product)', 'creation_place_original_location\":\"Bandung (indonesia)', 'collection_of\":\"National Gallery Singapore', 'subject_terms_3\":\"Visual Arts. Batik', 'subject_terms_1\":\"Graphic Arts. Batik Art. Nudes (representations). Abstraction', 'subject_terms_2\":\"Graphic Arts. Batik. Female Nude In Art. Arts, Indonesian. Abstraction', 'accession_no_csv\":\"2017-00480', 'categories\":[\"\"],\"dimension\":\"Frame size: 68.0 x 72.0 x 3.0 cm Image size: 46.9 x 51.0 cm', 'techniques_name\":\"Block Printing (relief Printing Process)', 'creator\":\"Mochtar Apin', 'date_period\":\"1975', 'shape\":\"Square', 'image_url\":\"https://www.roots.gov.sg/CollectionImages/1327547.jpg', 'object_colour\":\"Multicoloured', 'preference\":\"Main', 'sgcool_label_text\":\"This Work Continues Apin’s Exploration In The Print Technique. However Beyond The Print Medium, There Are Also Photographic And Abstraction Elements, Combined With His Lifelong Study Of The Nude Body. Hence This Is A Strong, Confident Work Of An Artist Who Is At The Peak Of His Practice. To Add To The Multi-layered Aspect Of This Work, The Title Menenun Which Translates To Weaving Also Touches On The Long-standing Textile Tradition In Indonesian Besides Of Course, Summarizing The Technique Of This Work.', 'edition_description\":\"10th Edition', 'creation_date\":\"1975', 'pageId\":\"1327547', 'creator_role\":\"Artists (visual Artists)', 'creator_2\":\"Mochtar Apin', 'creator_1\":\"Apin, Mochtar', 'rootsUuid\":\"3d32a48736fc4b59aa8ba55ff31908c3', 'object_work_type\":\"Color Prints (prints)', 'material\":[\"Prints\"],\"styles_periods_indexing_terms\":\"Indonesian (culture Or Style)', 'title_text\":\"Menenun (weaving)', 'nlb_type\":\"Painting', 'region\":\"Bandung, Indonesia', 'physical_appearance\":\"The Image Captures A Girl Seated With Her Right Leg Folded And Right Leg Outstretched. Not Donning Any Clothes, She Wears Her Long Hair Down And Kept Behind Her Shoulders.\"},\"docFormat\":\"html', 'highlight\":\"', 'tags\":{\"country\":[\"Indonesia\"],\"material\":[\"Paper (Fiber Product)\"],\"city\":[\"Bandung\"],\"person\":[\"Mochtar Apin\"],\"subject\":[\"Graphic Arts', 'Batik Art', 'Visual Arts', 'Nudes (representations)', 'Batik', 'Female Nude In Art', 'Arts, Indonesian', 'Abstraction\"],\"topic\":[\"country', 'material', 'city', 'person', 'subject', 'technique', 'singheritage', 'collection', 'objecttype\"],\"technique\":[\"Block Printing (Relief Printing Process)\"],\"singheritage\":[\"Visual Arts\"],\"collection\":[\"National Gallery Singapore\"],\"objecttype\":[\"color prints', 'color prints (prints)\"]}}],\"id\":\"1116066353', 'total\":1649,\"size\":1}']]\n"
     ]
    },
    {
     "name": "stdout",
     "output_type": "stream",
     "text": [
      "[['{\"documents\":[{\"id\":\"47E60712-DB30-42AE-BFDF-3C4918065A91', 'title\":\"Handbill for the Cantonese movie, ‘Peach Blossom Crossing’', 'source\":\"roots_collections', 'path\":\"https://www.roots.gov.sg/Collection-Landing/listing/1142557', 'content\":\"This handbill was used to advertise the Cantonese movie, ‘Peach Blossom Crossing’ (桃花搭渡, Taohuadadu). During its Singapore run, the movie was screened at the Oriental (东方, Dongfang) and Grand (大光, Daguang) cinemas.Between the 1950s and 1960s, most Mandarin, Cantonese and other Chinese-dialect movies were made in Hong Kong by film production companies with financial support from Singapore-based film studios such as Shaw Brothers, Cathay and Kong Ngee (光艺, Guanyi). These studios were also involved in the distribution and exhibition of these movies in Singapore and the rest of Southeast Asia through their network of cinemas. In the early 1970s, Mandarin movies from Taiwan became popular, but by the late 1970s, Hong Kong movies were dominant once more.', 'lastModifiedDate\":\"04/08/2021', 'metadata\":{\"rootsUuid\":\"47e60712db3042aebfdf3c4918065a91', 'date_period\":\"1958', 'collection_of\":\"National Museum of Singapore', 'material\":[\"Paper\"],\"image_url\":\"https://www.roots.gov.sg/CollectionImages/1142557.jpg', 'accession_no\":\"2007-00335', 'nlb_type\":\"Document', 'categories\":[\"\"],\"region\":\"Singapore', 'pageId\":\"1142557', 'dimension\":\"Object size: 19.5 x 27.2 cm\"},\"docFormat\":\"html', 'highlight\":\"', 'tags\":{}}],\"id\":\"962323583', 'total\":1835,\"size\":1}'], ['{\"documents\":[{\"id\":\"C13CCAE3-921C-4C4C-881F-E4AE4591F4F6', 'title\":\"Abstract Series', 'source\":\"roots_collections', 'path\":\"https://www.roots.gov.sg/Collection-Landing/listing/1010683', 'content\":\"Born in 1934 in Singapore, Chieu Shuey Fook graduated from Nanyang Academy of Fine Arts in 1953. Initially a batik artist, he became intrigued by chemical reactions on metal and has since made a name for himself in metal relief art; his works are known for their rich textural qualities. He has held solo exhibitions and participated in important group exhibitions both in Singapore and in Germany, Australia, France, Japan, Malaysia and Taiwan. Chieu, a recepient of numerous awards, among which is the top prize in the Instant Asia Art Competition in 1970, also received major art commissions.‘Abstract Series’ is one of Chieu’s important works in his oeuvre as it won him an art prize. It appropriates the form of a bird with a kaleidescope of colours, textures and patterns to denote diversity and progress.', 'lastModifiedDate\":\"04/08/2021', 'metadata\":{\"creator\":\"Chieu Shuey Fook', 'date_period\":\"1998', 'image_url\":\"https://www.roots.gov.sg/CollectionImages/1010683.jpg', 'accession_no\":\"2010-01385', 'pageId\":\"1010683', 'rootsUuid\":\"c13ccae3921c4c4c881fe4ae4591f4f6', 'collection_of\":\"National Gallery Singapore', 'material\":[\"Metal Relief\"],\"nlb_type\":\"Painting', 'categories\":[\"\"],\"region\":\"Singapore', 'dimension\":\"Image size: H152 x W 122 x D5 cm\"},\"docFormat\":\"html', 'highlight\":\"', 'tags\":{\"country\":[\"Singapore\"],\"material\":[\"Metal\"],\"city\":[\"Singapore\"],\"subject\":[\"Relief (art)', 'Art', 'Singapore', 'Abstract', 'Japan', 'Malaysia', 'Awards', 'Asia', 'Taiwan', 'Batik', 'Exhibitions', 'France', 'Australia', 'Art Commissions\"],\"person\":[\"Chieu, Shuey Fook\"],\"topic\":[\"country', 'material', 'city', 'subject', 'person', 'organisation', 'collection\"],\"organisation\":[\"Nanyang Academy of Fine Arts\"],\"collection\":[\"National Gallery Singapore\"]}}],\"id\":\"1889685179', 'total\":3884,\"size\":1}'], ['{\"documents\":[{\"id\":\"496F5795-5F20-4C9D-B63C-F21E3E187F92', 'title\":\"Profile - Girl with ribbon', 'source\":\"roots_collections', 'path\":\"https://www.roots.gov.sg/Collection-Landing/listing/1323149', 'content\":\"Tay Boon Pin (b.1936) received training at NAFA, graduating in 1956. Prior to that, he was a student at Chung Cheng High School. Tay was invited to participate in the Singapore Chinese High Schools’ Graduates of 1953 Arts Association travelling exhibition in 1955, and was one of the early members of the Equator Art Society (EAS).This body of sketches produced by the artist is significant to the understanding of the development of social realist movement in Singapore, particularly the ways in which EAS practised art during its early years in the 1950s and 1960s. The works also aid in our understanding of the methodology which EAS utilised in its approach towards realism during that time.', 'lastModifiedDate\":\"06/08/2021', 'metadata\":{\"creator\":\"Tay Boon Pin', 'date_period\":\"1963', 'image_url\":\"https://www.roots.gov.sg/CollectionImages/1323149.jpg', 'accession_no\":\"2015-00358', 'pageId\":\"1323149', 'rootsUuid\":\"496f57955f204c9db63cf21e3e187f92', 'collection_of\":\"National Gallery Singapore', 'material\":[\"Pencil on paper\"],\"nlb_type\":\"Painting', 'categories\":[\"\"],\"region\":\"Singapore', 'dimension\":\"Image size: 50 x 32.5 cm\"},\"docFormat\":\"html', 'highlight\":\"', 'tags\":{\"country\":[\"Singapore\"],\"material\":[\"Paper', 'Pencils\"],\"city\":[\"Singapore\"],\"subject\":[\"Training', 'Art', 'Singapore', 'High Schools', 'Graduates', 'Chinese', 'Time', 'Student', 'Sketches', 'Members\"],\"person\":[\"Tay, Boon Pin\"],\"organisation\":[\"Equator Art Society', 'Chung Cheng High School', 'Nanyang Academy of Fine Arts\"],\"topic\":[\"country', 'material', 'city', 'subject', 'person', 'organisation', 'singheritage', 'collection\"],\"singheritage\":[\"Arts\"],\"collection\":[\"National Gallery Singapore\"]}}],\"id\":\"1278167513', 'total\":3033,\"size\":1}'], ['{\"documents\":[{\"id\":\"30C350D9-CDA3-41FB-AE7A-220CE268751B', 'title\":\"Farmer', 'source\":\"roots_collections', 'path\":\"https://www.roots.gov.sg/Collection-Landing/listing/1030190', 'content\":\"Born in Fujian Province, Liu Kang (1911-2004) received his formal training in Shanghai Academy of Fine Art, where he was exposed to Chinese paintings. In 1928, he went to Paris where he was influenced by art movements such as Fauvism and Post-Impressionism. Not only was he one of Singapore’s pioneer artists, he was also a leading figure in the Society of Chinese Artists and the Singapore Art Society. In 1970, he was awarded the Public Service Star for his contributions in the field of art.Mainly an oil painter, Liu started using pastel during the Japanese Occupation (1942-1945) as oil paints were unavailable then. He was subsequently attracted by the luminosity of pastel and preferred it to oil for his later depictions of the human figure.', 'lastModifiedDate\":\"04/08/2021', 'metadata\":{\"creator\":\"Liu Kang', 'date_period\":\"1987', 'image_url\":\"https://www.roots.gov.sg/CollectionImages/1030190.jpg', 'accession_no\":\"2002-00783', 'pageId\":\"1030190', 'credit_line\":\"Donated by Liu Kang', 'rootsUuid\":\"30c350d9cda341fbae7a220ce268751b', 'collection_of\":\"National Gallery Singapore', 'material\":[\"Pastel on paper\"],\"nlb_type\":\"Painting', 'categories\":[\"\"],\"region\":\"Singapore', 'dimension\":\"Frame size: 83.6 x 63.5 cm Image size: 63.7 x 48.3 cm Image size: Mounting 86.9 x 60.4 cm\"},\"docFormat\":\"html', 'highlight\":\"', 'tags\":{\"country\":[\"Singapore\"],\"material\":[\"Paper', 'Pastel\"],\"city\":[\"Singapore\"],\"subject\":[\"Training', 'Liu, Kang, 1911-2004', 'Art', 'Paintings', 'Chinese', 'Artists\"],\"geographics\":[\"Pioneer\"],\"person\":[\"Liu, Kang\"],\"organisation\":[\"Singapore Art Society', 'The Society of Chinese Artists\"],\"topic\":[\"country', 'material', 'city', 'subject', 'geographics', 'person', 'organisation', 'singheritage', 'collection\"],\"singheritage\":[\"Artists\"],\"collection\":[\"National Gallery Singapore\"]}}],\"id\":\"1675008182', 'total\":2216,\"size\":1}'], ['{\"documents\":[{\"id\":\"DF923BAB-1130-4F18-8C0B-C9A428D5151E', 'title\":\"Untitled', 'source\":\"roots_collections', 'path\":\"https://www.roots.gov.sg/Collection-Landing/listing/1343272', 'content\":\"Tan Teng-Kee was born in Batu Pahat, Johor, Malaysia, in 1937. He studied Chinese and Western painting at the New Asia College, Hong Kong (1958-62) and after a few years living and working in Paris, studied metal sculpture (under renowned sculptor Norbert Kricke) and printmaking at the Staatliche Kunstakademie in Düsseldorf, Germany (1967-70).', 'lastModifiedDate\":\"06/08/2021', 'metadata\":{\"creator\":\"Tan Teng Kee', 'date_period\":\"1977', 'image_url\":\"https://www.roots.gov.sg/CollectionImages/1343272.jpg', 'accession_no\":\"2016-00456', 'pageId\":\"1343272', 'rootsUuid\":\"df923bab11304f188c0bc9a428d5151e', 'collection_of\":\"National Gallery Singapore', 'material\":[\"Ink on paper\"],\"nlb_type\":\"Painting', 'categories\":[\"\"],\"region\":\"Singapore', 'dimension\":\"Image size: 37.9 x 27.4 cm Frame size: 50.1 x 39.9 x 3.8 cm\"},\"docFormat\":\"html', 'highlight\":\"', 'tags\":{\"country\":[\"Singapore\"],\"material\":[\"Ink', 'Paper\"],\"city\":[\"Singapore\"],\"subject\":[\"Johor (Malaysia)', 'Working', 'Printmaking', 'Hong Kong', 'Asia', 'Metal Sculpture', 'Chinese', 'Painting\"],\"person\":[\"Tan, Teng Kee\"],\"topic\":[\"country', 'material', 'city', 'subject', 'person', 'singheritage', 'collection\"],\"singheritage\":[\"Painting\"],\"collection\":[\"National Gallery Singapore\"]}}],\"id\":\"656875389', 'total\":2227,\"size\":1}'], ['{\"documents\":[{\"id\":\"2603CD9A-497C-4899-8282-56F2D9264859', 'title\":\"Evening (Petang)', 'source\":\"roots_collections', 'path\":\"https://www.roots.gov.sg/Collection-Landing/listing/1236910', 'content\":\"Born in Singapore, Arthur Yap (1943-2006) painted more frequently only after he graduated from the University of Singapore in 1965. A self-taught artist, he learnt through art magazines, exhibitions and trips to Europe in the 1970s. At the same time, he participated actively in the local art scene, holding six solo exhibitions and exhibiting in numerous group shows from 1968. In 1972, he was one of the Singapore representatives to the Adelaide Festival of Arts. Recognized as one of the country’s foremost poets with three published collections of poems, Yap was awarded the Cultural Medallion for literature by the Singapore government in 1983.‘Evening (Petang)’ demonstrates Yap’s early style which shows a preference for clean and hard edges, with clear influences from Lyrical Abstraction: wavy ribbons and structured bands in different hues of beige, blue, green and grey. Yap alternates between chaos and order: the shapes sometimes overlap, and sometimes stack neatly on top of one another.', 'lastModifiedDate\":\"06/08/2021', 'metadata\":{\"creator\":\"Arthur Yap', 'date_period\":\"1968', 'image_url\":\"https://www.roots.gov.sg/CollectionImages/1236910.jpg', 'accession_no\":\"2010-00754', 'pageId\":\"1236910', 'credit_line\":\"Gift of Fanny, Jenny and Alice Yap', 'rootsUuid\":\"2603cd9a497c4899828256f2d9264859', 'collection_of\":\"National Gallery Singapore', 'material\":[\"Acrylic on canvas\"],\"nlb_type\":\"Painting', 'categories\":[\"\"],\"region\":\"Singapore', 'dimension\":\"Frame size: H83 x W83.2 x D2.5 cm Image size: 80.5 x 80.7 cm\"},\"docFormat\":\"html', 'highlight\":\"', 'tags\":{\"country\":[\"Singapore\"],\"color\":[\"blue (color)', 'green (color)\"],\"material\":[\"Canvas', 'Acrylic\"],\"city\":[\"Singapore\"],\"subject\":[\"Chaos', 'University Of Singapore', 'Bands', 'Art', 'Ribbons', 'Singapore', 'Poems', 'Exhibiting', 'Exhibitions', 'Time', 'Abstraction', 'Poets\"],\"awards\":[\"Cultural Medallion\"],\"person\":[\"Yap, Arthur\"],\"topic\":[\"country', 'color', 'material', 'city', 'subject', 'awards', 'person', 'singheritage', 'organisation', 'collection\"],\"singheritage\":[\"Literature', 'Arts\"],\"organisation\":[\"University of Singapore\"],\"collection\":[\"National Gallery Singapore\"]}}],\"id\":\"1882780963', 'total\":3886,\"size\":1}'], ['{\"documents\":[{\"id\":\"68177CA8-DCD4-411C-A3F9-3BB8019E794C', 'title\":\"Sarong', 'source\":\"roots_collections', 'path\":\"https://www.roots.gov.sg/Collection-Landing/listing/1091981', 'content\":\"', 'lastModifiedDate\":\"04/08/2021', 'metadata\":{\"date_period\":\"c.1910', 'image_url\":\"https://www.roots.gov.sg/CollectionImages/1091981.jpg', 'technique\":[\"warp ikat\"],\"accession_no\":\"T-0033', 'pageId\":\"1091981', 'rootsUuid\":\"68177ca8dcd4411ca3f93bb8019e794c', 'collection_of\":\"Asian Civilisations Museum', 'material\":[\"Cotton\"],\"nlb_type\":\"Textile', 'categories\":[\"\"],\"region\":\"Kisar, Southern Moluccas, Indonesian Archipelago', 'dimension\":\"Object size: 76 x 70 cm\"},\"docFormat\":\"html', 'highlight\":\"', 'tags\":{\"material\":[\"Cotton\"],\"topic\":[\"material', 'collection\"],\"collection\":[\"Asian Civilisations Museum\"]}}],\"id\":\"399482053', 'total\":176,\"size\":1}'], ['{\"documents\":[{\"id\":\"3D32A487-36FC-4B59-AA8B-A55FF31908C3', 'title\":\"Menenun (Weaving)', 'source\":\"roots_collections', 'path\":\"https://www.roots.gov.sg/Collection-Landing/listing/1327547', 'content\":\"This work continues Apin’s exploration in the print technique. However beyond the print medium, there are also photographic and abstraction elements, combined with his lifelong study of the nude body. Hence this is a strong, confident work of an artist who is at the peak of his practice. To add to the multi-layered aspect of this work, the title Menenun which translates to Weaving also touches on the long-standing textile tradition in Indonesian besides of course, summarizing the technique of this work.', 'lastModifiedDate\":\"06/08/2021', 'metadata\":{\"technique\":[\"Block Print\"],\"accession_no\":\"2017-00480', 'materials_name\":\"Paper (fiber Product)', 'creation_place_original_location\":\"Bandung (indonesia)', 'collection_of\":\"National Gallery Singapore', 'subject_terms_3\":\"Visual Arts. Batik', 'subject_terms_1\":\"Graphic Arts. Batik Art. Nudes (representations). Abstraction', 'subject_terms_2\":\"Graphic Arts. Batik. Female Nude In Art. Arts, Indonesian. Abstraction', 'accession_no_csv\":\"2017-00480', 'categories\":[\"\"],\"dimension\":\"Frame size: 68.0 x 72.0 x 3.0 cm Image size: 46.9 x 51.0 cm', 'techniques_name\":\"Block Printing (relief Printing Process)', 'creator\":\"Mochtar Apin', 'date_period\":\"1975', 'shape\":\"Square', 'image_url\":\"https://www.roots.gov.sg/CollectionImages/1327547.jpg', 'object_colour\":\"Multicoloured', 'preference\":\"Main', 'sgcool_label_text\":\"This Work Continues Apin’s Exploration In The Print Technique. However Beyond The Print Medium, There Are Also Photographic And Abstraction Elements, Combined With His Lifelong Study Of The Nude Body. Hence This Is A Strong, Confident Work Of An Artist Who Is At The Peak Of His Practice. To Add To The Multi-layered Aspect Of This Work, The Title Menenun Which Translates To Weaving Also Touches On The Long-standing Textile Tradition In Indonesian Besides Of Course, Summarizing The Technique Of This Work.', 'edition_description\":\"10th Edition', 'creation_date\":\"1975', 'pageId\":\"1327547', 'creator_role\":\"Artists (visual Artists)', 'creator_2\":\"Mochtar Apin', 'creator_1\":\"Apin, Mochtar', 'rootsUuid\":\"3d32a48736fc4b59aa8ba55ff31908c3', 'object_work_type\":\"Color Prints (prints)', 'material\":[\"Prints\"],\"styles_periods_indexing_terms\":\"Indonesian (culture Or Style)', 'title_text\":\"Menenun (weaving)', 'nlb_type\":\"Painting', 'region\":\"Bandung, Indonesia', 'physical_appearance\":\"The Image Captures A Girl Seated With Her Right Leg Folded And Right Leg Outstretched. Not Donning Any Clothes, She Wears Her Long Hair Down And Kept Behind Her Shoulders.\"},\"docFormat\":\"html', 'highlight\":\"', 'tags\":{\"country\":[\"Indonesia\"],\"material\":[\"Paper (Fiber Product)\"],\"city\":[\"Bandung\"],\"person\":[\"Mochtar Apin\"],\"subject\":[\"Graphic Arts', 'Batik Art', 'Visual Arts', 'Nudes (representations)', 'Batik', 'Female Nude In Art', 'Arts, Indonesian', 'Abstraction\"],\"topic\":[\"country', 'material', 'city', 'person', 'subject', 'technique', 'singheritage', 'collection', 'objecttype\"],\"technique\":[\"Block Printing (Relief Printing Process)\"],\"singheritage\":[\"Visual Arts\"],\"collection\":[\"National Gallery Singapore\"],\"objecttype\":[\"color prints', 'color prints (prints)\"]}}],\"id\":\"1116066353', 'total\":1649,\"size\":1}'], ['{\"documents\":[{\"id\":\"4AA5B004-9F37-4ADA-A62A-B50B58EC175C', 'title\":\"\\'Kampong in Pasir Panjang\\'', 'source\":\"roots_collections', 'path\":\"https://www.roots.gov.sg/Collection-Landing/listing/1127347', 'content\":\"', 'lastModifiedDate\":\"04/08/2021', 'metadata\":{\"creator\":\"Foo Chee San', 'rootsUuid\":\"4aa5b0049f374adaa62ab50b58ec175c', 'date_period\":\"1966', 'collection_of\":\"National Museum of Singapore', 'image_url\":\"https://www.roots.gov.sg/CollectionImages/1127347.jpg', 'accession_no\":\"1999-00812', 'nlb_type\":\"Print', 'categories\":[\"\"],\"region\":\"Singapore', 'pageId\":\"1127347', 'dimension\":\"Image size: L:71.5 x W:45.4 cm\"},\"docFormat\":\"html', 'highlight\":\"', 'tags\":{}}],\"id\":\"487440702', 'total\":1645,\"size\":1}']]\n",
      "[['{\"documents\":[{\"id\":\"47E60712-DB30-42AE-BFDF-3C4918065A91', 'title\":\"Handbill for the Cantonese movie, ‘Peach Blossom Crossing’', 'source\":\"roots_collections', 'path\":\"https://www.roots.gov.sg/Collection-Landing/listing/1142557', 'content\":\"This handbill was used to advertise the Cantonese movie, ‘Peach Blossom Crossing’ (桃花搭渡, Taohuadadu). During its Singapore run, the movie was screened at the Oriental (东方, Dongfang) and Grand (大光, Daguang) cinemas.Between the 1950s and 1960s, most Mandarin, Cantonese and other Chinese-dialect movies were made in Hong Kong by film production companies with financial support from Singapore-based film studios such as Shaw Brothers, Cathay and Kong Ngee (光艺, Guanyi). These studios were also involved in the distribution and exhibition of these movies in Singapore and the rest of Southeast Asia through their network of cinemas. In the early 1970s, Mandarin movies from Taiwan became popular, but by the late 1970s, Hong Kong movies were dominant once more.', 'lastModifiedDate\":\"04/08/2021', 'metadata\":{\"rootsUuid\":\"47e60712db3042aebfdf3c4918065a91', 'date_period\":\"1958', 'collection_of\":\"National Museum of Singapore', 'material\":[\"Paper\"],\"image_url\":\"https://www.roots.gov.sg/CollectionImages/1142557.jpg', 'accession_no\":\"2007-00335', 'nlb_type\":\"Document', 'categories\":[\"\"],\"region\":\"Singapore', 'pageId\":\"1142557', 'dimension\":\"Object size: 19.5 x 27.2 cm\"},\"docFormat\":\"html', 'highlight\":\"', 'tags\":{}}],\"id\":\"962323583', 'total\":1835,\"size\":1}'], ['{\"documents\":[{\"id\":\"C13CCAE3-921C-4C4C-881F-E4AE4591F4F6', 'title\":\"Abstract Series', 'source\":\"roots_collections', 'path\":\"https://www.roots.gov.sg/Collection-Landing/listing/1010683', 'content\":\"Born in 1934 in Singapore, Chieu Shuey Fook graduated from Nanyang Academy of Fine Arts in 1953. Initially a batik artist, he became intrigued by chemical reactions on metal and has since made a name for himself in metal relief art; his works are known for their rich textural qualities. He has held solo exhibitions and participated in important group exhibitions both in Singapore and in Germany, Australia, France, Japan, Malaysia and Taiwan. Chieu, a recepient of numerous awards, among which is the top prize in the Instant Asia Art Competition in 1970, also received major art commissions.‘Abstract Series’ is one of Chieu’s important works in his oeuvre as it won him an art prize. It appropriates the form of a bird with a kaleidescope of colours, textures and patterns to denote diversity and progress.', 'lastModifiedDate\":\"04/08/2021', 'metadata\":{\"creator\":\"Chieu Shuey Fook', 'date_period\":\"1998', 'image_url\":\"https://www.roots.gov.sg/CollectionImages/1010683.jpg', 'accession_no\":\"2010-01385', 'pageId\":\"1010683', 'rootsUuid\":\"c13ccae3921c4c4c881fe4ae4591f4f6', 'collection_of\":\"National Gallery Singapore', 'material\":[\"Metal Relief\"],\"nlb_type\":\"Painting', 'categories\":[\"\"],\"region\":\"Singapore', 'dimension\":\"Image size: H152 x W 122 x D5 cm\"},\"docFormat\":\"html', 'highlight\":\"', 'tags\":{\"country\":[\"Singapore\"],\"material\":[\"Metal\"],\"city\":[\"Singapore\"],\"subject\":[\"Relief (art)', 'Art', 'Singapore', 'Abstract', 'Japan', 'Malaysia', 'Awards', 'Asia', 'Taiwan', 'Batik', 'Exhibitions', 'France', 'Australia', 'Art Commissions\"],\"person\":[\"Chieu, Shuey Fook\"],\"topic\":[\"country', 'material', 'city', 'subject', 'person', 'organisation', 'collection\"],\"organisation\":[\"Nanyang Academy of Fine Arts\"],\"collection\":[\"National Gallery Singapore\"]}}],\"id\":\"1889685179', 'total\":3884,\"size\":1}'], ['{\"documents\":[{\"id\":\"496F5795-5F20-4C9D-B63C-F21E3E187F92', 'title\":\"Profile - Girl with ribbon', 'source\":\"roots_collections', 'path\":\"https://www.roots.gov.sg/Collection-Landing/listing/1323149', 'content\":\"Tay Boon Pin (b.1936) received training at NAFA, graduating in 1956. Prior to that, he was a student at Chung Cheng High School. Tay was invited to participate in the Singapore Chinese High Schools’ Graduates of 1953 Arts Association travelling exhibition in 1955, and was one of the early members of the Equator Art Society (EAS).This body of sketches produced by the artist is significant to the understanding of the development of social realist movement in Singapore, particularly the ways in which EAS practised art during its early years in the 1950s and 1960s. The works also aid in our understanding of the methodology which EAS utilised in its approach towards realism during that time.', 'lastModifiedDate\":\"06/08/2021', 'metadata\":{\"creator\":\"Tay Boon Pin', 'date_period\":\"1963', 'image_url\":\"https://www.roots.gov.sg/CollectionImages/1323149.jpg', 'accession_no\":\"2015-00358', 'pageId\":\"1323149', 'rootsUuid\":\"496f57955f204c9db63cf21e3e187f92', 'collection_of\":\"National Gallery Singapore', 'material\":[\"Pencil on paper\"],\"nlb_type\":\"Painting', 'categories\":[\"\"],\"region\":\"Singapore', 'dimension\":\"Image size: 50 x 32.5 cm\"},\"docFormat\":\"html', 'highlight\":\"', 'tags\":{\"country\":[\"Singapore\"],\"material\":[\"Paper', 'Pencils\"],\"city\":[\"Singapore\"],\"subject\":[\"Training', 'Art', 'Singapore', 'High Schools', 'Graduates', 'Chinese', 'Time', 'Student', 'Sketches', 'Members\"],\"person\":[\"Tay, Boon Pin\"],\"organisation\":[\"Equator Art Society', 'Chung Cheng High School', 'Nanyang Academy of Fine Arts\"],\"topic\":[\"country', 'material', 'city', 'subject', 'person', 'organisation', 'singheritage', 'collection\"],\"singheritage\":[\"Arts\"],\"collection\":[\"National Gallery Singapore\"]}}],\"id\":\"1278167513', 'total\":3033,\"size\":1}'], ['{\"documents\":[{\"id\":\"30C350D9-CDA3-41FB-AE7A-220CE268751B', 'title\":\"Farmer', 'source\":\"roots_collections', 'path\":\"https://www.roots.gov.sg/Collection-Landing/listing/1030190', 'content\":\"Born in Fujian Province, Liu Kang (1911-2004) received his formal training in Shanghai Academy of Fine Art, where he was exposed to Chinese paintings. In 1928, he went to Paris where he was influenced by art movements such as Fauvism and Post-Impressionism. Not only was he one of Singapore’s pioneer artists, he was also a leading figure in the Society of Chinese Artists and the Singapore Art Society. In 1970, he was awarded the Public Service Star for his contributions in the field of art.Mainly an oil painter, Liu started using pastel during the Japanese Occupation (1942-1945) as oil paints were unavailable then. He was subsequently attracted by the luminosity of pastel and preferred it to oil for his later depictions of the human figure.', 'lastModifiedDate\":\"04/08/2021', 'metadata\":{\"creator\":\"Liu Kang', 'date_period\":\"1987', 'image_url\":\"https://www.roots.gov.sg/CollectionImages/1030190.jpg', 'accession_no\":\"2002-00783', 'pageId\":\"1030190', 'credit_line\":\"Donated by Liu Kang', 'rootsUuid\":\"30c350d9cda341fbae7a220ce268751b', 'collection_of\":\"National Gallery Singapore', 'material\":[\"Pastel on paper\"],\"nlb_type\":\"Painting', 'categories\":[\"\"],\"region\":\"Singapore', 'dimension\":\"Frame size: 83.6 x 63.5 cm Image size: 63.7 x 48.3 cm Image size: Mounting 86.9 x 60.4 cm\"},\"docFormat\":\"html', 'highlight\":\"', 'tags\":{\"country\":[\"Singapore\"],\"material\":[\"Paper', 'Pastel\"],\"city\":[\"Singapore\"],\"subject\":[\"Training', 'Liu, Kang, 1911-2004', 'Art', 'Paintings', 'Chinese', 'Artists\"],\"geographics\":[\"Pioneer\"],\"person\":[\"Liu, Kang\"],\"organisation\":[\"Singapore Art Society', 'The Society of Chinese Artists\"],\"topic\":[\"country', 'material', 'city', 'subject', 'geographics', 'person', 'organisation', 'singheritage', 'collection\"],\"singheritage\":[\"Artists\"],\"collection\":[\"National Gallery Singapore\"]}}],\"id\":\"1675008182', 'total\":2216,\"size\":1}'], ['{\"documents\":[{\"id\":\"DF923BAB-1130-4F18-8C0B-C9A428D5151E', 'title\":\"Untitled', 'source\":\"roots_collections', 'path\":\"https://www.roots.gov.sg/Collection-Landing/listing/1343272', 'content\":\"Tan Teng-Kee was born in Batu Pahat, Johor, Malaysia, in 1937. He studied Chinese and Western painting at the New Asia College, Hong Kong (1958-62) and after a few years living and working in Paris, studied metal sculpture (under renowned sculptor Norbert Kricke) and printmaking at the Staatliche Kunstakademie in Düsseldorf, Germany (1967-70).', 'lastModifiedDate\":\"06/08/2021', 'metadata\":{\"creator\":\"Tan Teng Kee', 'date_period\":\"1977', 'image_url\":\"https://www.roots.gov.sg/CollectionImages/1343272.jpg', 'accession_no\":\"2016-00456', 'pageId\":\"1343272', 'rootsUuid\":\"df923bab11304f188c0bc9a428d5151e', 'collection_of\":\"National Gallery Singapore', 'material\":[\"Ink on paper\"],\"nlb_type\":\"Painting', 'categories\":[\"\"],\"region\":\"Singapore', 'dimension\":\"Image size: 37.9 x 27.4 cm Frame size: 50.1 x 39.9 x 3.8 cm\"},\"docFormat\":\"html', 'highlight\":\"', 'tags\":{\"country\":[\"Singapore\"],\"material\":[\"Ink', 'Paper\"],\"city\":[\"Singapore\"],\"subject\":[\"Johor (Malaysia)', 'Working', 'Printmaking', 'Hong Kong', 'Asia', 'Metal Sculpture', 'Chinese', 'Painting\"],\"person\":[\"Tan, Teng Kee\"],\"topic\":[\"country', 'material', 'city', 'subject', 'person', 'singheritage', 'collection\"],\"singheritage\":[\"Painting\"],\"collection\":[\"National Gallery Singapore\"]}}],\"id\":\"656875389', 'total\":2227,\"size\":1}'], ['{\"documents\":[{\"id\":\"2603CD9A-497C-4899-8282-56F2D9264859', 'title\":\"Evening (Petang)', 'source\":\"roots_collections', 'path\":\"https://www.roots.gov.sg/Collection-Landing/listing/1236910', 'content\":\"Born in Singapore, Arthur Yap (1943-2006) painted more frequently only after he graduated from the University of Singapore in 1965. A self-taught artist, he learnt through art magazines, exhibitions and trips to Europe in the 1970s. At the same time, he participated actively in the local art scene, holding six solo exhibitions and exhibiting in numerous group shows from 1968. In 1972, he was one of the Singapore representatives to the Adelaide Festival of Arts. Recognized as one of the country’s foremost poets with three published collections of poems, Yap was awarded the Cultural Medallion for literature by the Singapore government in 1983.‘Evening (Petang)’ demonstrates Yap’s early style which shows a preference for clean and hard edges, with clear influences from Lyrical Abstraction: wavy ribbons and structured bands in different hues of beige, blue, green and grey. Yap alternates between chaos and order: the shapes sometimes overlap, and sometimes stack neatly on top of one another.', 'lastModifiedDate\":\"06/08/2021', 'metadata\":{\"creator\":\"Arthur Yap', 'date_period\":\"1968', 'image_url\":\"https://www.roots.gov.sg/CollectionImages/1236910.jpg', 'accession_no\":\"2010-00754', 'pageId\":\"1236910', 'credit_line\":\"Gift of Fanny, Jenny and Alice Yap', 'rootsUuid\":\"2603cd9a497c4899828256f2d9264859', 'collection_of\":\"National Gallery Singapore', 'material\":[\"Acrylic on canvas\"],\"nlb_type\":\"Painting', 'categories\":[\"\"],\"region\":\"Singapore', 'dimension\":\"Frame size: H83 x W83.2 x D2.5 cm Image size: 80.5 x 80.7 cm\"},\"docFormat\":\"html', 'highlight\":\"', 'tags\":{\"country\":[\"Singapore\"],\"color\":[\"blue (color)', 'green (color)\"],\"material\":[\"Canvas', 'Acrylic\"],\"city\":[\"Singapore\"],\"subject\":[\"Chaos', 'University Of Singapore', 'Bands', 'Art', 'Ribbons', 'Singapore', 'Poems', 'Exhibiting', 'Exhibitions', 'Time', 'Abstraction', 'Poets\"],\"awards\":[\"Cultural Medallion\"],\"person\":[\"Yap, Arthur\"],\"topic\":[\"country', 'color', 'material', 'city', 'subject', 'awards', 'person', 'singheritage', 'organisation', 'collection\"],\"singheritage\":[\"Literature', 'Arts\"],\"organisation\":[\"University of Singapore\"],\"collection\":[\"National Gallery Singapore\"]}}],\"id\":\"1882780963', 'total\":3886,\"size\":1}'], ['{\"documents\":[{\"id\":\"68177CA8-DCD4-411C-A3F9-3BB8019E794C', 'title\":\"Sarong', 'source\":\"roots_collections', 'path\":\"https://www.roots.gov.sg/Collection-Landing/listing/1091981', 'content\":\"', 'lastModifiedDate\":\"04/08/2021', 'metadata\":{\"date_period\":\"c.1910', 'image_url\":\"https://www.roots.gov.sg/CollectionImages/1091981.jpg', 'technique\":[\"warp ikat\"],\"accession_no\":\"T-0033', 'pageId\":\"1091981', 'rootsUuid\":\"68177ca8dcd4411ca3f93bb8019e794c', 'collection_of\":\"Asian Civilisations Museum', 'material\":[\"Cotton\"],\"nlb_type\":\"Textile', 'categories\":[\"\"],\"region\":\"Kisar, Southern Moluccas, Indonesian Archipelago', 'dimension\":\"Object size: 76 x 70 cm\"},\"docFormat\":\"html', 'highlight\":\"', 'tags\":{\"material\":[\"Cotton\"],\"topic\":[\"material', 'collection\"],\"collection\":[\"Asian Civilisations Museum\"]}}],\"id\":\"399482053', 'total\":176,\"size\":1}'], ['{\"documents\":[{\"id\":\"3D32A487-36FC-4B59-AA8B-A55FF31908C3', 'title\":\"Menenun (Weaving)', 'source\":\"roots_collections', 'path\":\"https://www.roots.gov.sg/Collection-Landing/listing/1327547', 'content\":\"This work continues Apin’s exploration in the print technique. However beyond the print medium, there are also photographic and abstraction elements, combined with his lifelong study of the nude body. Hence this is a strong, confident work of an artist who is at the peak of his practice. To add to the multi-layered aspect of this work, the title Menenun which translates to Weaving also touches on the long-standing textile tradition in Indonesian besides of course, summarizing the technique of this work.', 'lastModifiedDate\":\"06/08/2021', 'metadata\":{\"technique\":[\"Block Print\"],\"accession_no\":\"2017-00480', 'materials_name\":\"Paper (fiber Product)', 'creation_place_original_location\":\"Bandung (indonesia)', 'collection_of\":\"National Gallery Singapore', 'subject_terms_3\":\"Visual Arts. Batik', 'subject_terms_1\":\"Graphic Arts. Batik Art. Nudes (representations). Abstraction', 'subject_terms_2\":\"Graphic Arts. Batik. Female Nude In Art. Arts, Indonesian. Abstraction', 'accession_no_csv\":\"2017-00480', 'categories\":[\"\"],\"dimension\":\"Frame size: 68.0 x 72.0 x 3.0 cm Image size: 46.9 x 51.0 cm', 'techniques_name\":\"Block Printing (relief Printing Process)', 'creator\":\"Mochtar Apin', 'date_period\":\"1975', 'shape\":\"Square', 'image_url\":\"https://www.roots.gov.sg/CollectionImages/1327547.jpg', 'object_colour\":\"Multicoloured', 'preference\":\"Main', 'sgcool_label_text\":\"This Work Continues Apin’s Exploration In The Print Technique. However Beyond The Print Medium, There Are Also Photographic And Abstraction Elements, Combined With His Lifelong Study Of The Nude Body. Hence This Is A Strong, Confident Work Of An Artist Who Is At The Peak Of His Practice. To Add To The Multi-layered Aspect Of This Work, The Title Menenun Which Translates To Weaving Also Touches On The Long-standing Textile Tradition In Indonesian Besides Of Course, Summarizing The Technique Of This Work.', 'edition_description\":\"10th Edition', 'creation_date\":\"1975', 'pageId\":\"1327547', 'creator_role\":\"Artists (visual Artists)', 'creator_2\":\"Mochtar Apin', 'creator_1\":\"Apin, Mochtar', 'rootsUuid\":\"3d32a48736fc4b59aa8ba55ff31908c3', 'object_work_type\":\"Color Prints (prints)', 'material\":[\"Prints\"],\"styles_periods_indexing_terms\":\"Indonesian (culture Or Style)', 'title_text\":\"Menenun (weaving)', 'nlb_type\":\"Painting', 'region\":\"Bandung, Indonesia', 'physical_appearance\":\"The Image Captures A Girl Seated With Her Right Leg Folded And Right Leg Outstretched. Not Donning Any Clothes, She Wears Her Long Hair Down And Kept Behind Her Shoulders.\"},\"docFormat\":\"html', 'highlight\":\"', 'tags\":{\"country\":[\"Indonesia\"],\"material\":[\"Paper (Fiber Product)\"],\"city\":[\"Bandung\"],\"person\":[\"Mochtar Apin\"],\"subject\":[\"Graphic Arts', 'Batik Art', 'Visual Arts', 'Nudes (representations)', 'Batik', 'Female Nude In Art', 'Arts, Indonesian', 'Abstraction\"],\"topic\":[\"country', 'material', 'city', 'person', 'subject', 'technique', 'singheritage', 'collection', 'objecttype\"],\"technique\":[\"Block Printing (Relief Printing Process)\"],\"singheritage\":[\"Visual Arts\"],\"collection\":[\"National Gallery Singapore\"],\"objecttype\":[\"color prints', 'color prints (prints)\"]}}],\"id\":\"1116066353', 'total\":1649,\"size\":1}'], ['{\"documents\":[{\"id\":\"4AA5B004-9F37-4ADA-A62A-B50B58EC175C', 'title\":\"\\'Kampong in Pasir Panjang\\'', 'source\":\"roots_collections', 'path\":\"https://www.roots.gov.sg/Collection-Landing/listing/1127347', 'content\":\"', 'lastModifiedDate\":\"04/08/2021', 'metadata\":{\"creator\":\"Foo Chee San', 'rootsUuid\":\"4aa5b0049f374adaa62ab50b58ec175c', 'date_period\":\"1966', 'collection_of\":\"National Museum of Singapore', 'image_url\":\"https://www.roots.gov.sg/CollectionImages/1127347.jpg', 'accession_no\":\"1999-00812', 'nlb_type\":\"Print', 'categories\":[\"\"],\"region\":\"Singapore', 'pageId\":\"1127347', 'dimension\":\"Image size: L:71.5 x W:45.4 cm\"},\"docFormat\":\"html', 'highlight\":\"', 'tags\":{}}],\"id\":\"487440702', 'total\":1645,\"size\":1}'], ['{\"documents\":[{\"id\":\"333BA3E9-C1F1-4B94-9F04-C8CE32935416', 'title\":\"Title unknown (Evidences series)', 'source\":\"roots_collections', 'path\":\"https://www.roots.gov.sg/Collection-Landing/listing/1350660', 'content\":\"A project intended to span one year, the Evidences series shows the artist taking images of himself in various banal situations, such as being beside dancers, playing “Wings” on the piano with Cecile Reyes, lighting sparklers on New Year’s Eve, among others. Some photos show Johnny Manahan glancing at the watch on his left hand, “marking time,” while the other holds the plunger connecting to the camera’s shutter. The photographs include the image of the film’s perforations, highlighting the camera as a device to record perceived reality in time and space.', 'lastModifiedDate\":\"06/08/2021', 'metadata\":{\"creator\":\"Johnny Manahan', 'date_period\":\"c. 1974', 'image_url\":\"https://www.roots.gov.sg/CollectionImages/1350660.jpg', 'accession_no\":\"2017-00857', 'pageId\":\"1350660', 'credit_line\":\"Gift of the Manahan Family', 'rootsUuid\":\"333ba3e9c1f14b949f04c8ce32935416', 'collection_of\":\"National Gallery Singapore', 'material\":[\"16 pieces satin silver gelatin photographs\"],\"nlb_type\":\"Painting', 'categories\":[\"\"],\"region\":\"Philippines', 'dimension\":\"Image size: 12.7 x 14.1 cm (each) Frame size: 76.1 x 86.2 x 4.0 cm Image size: 12.5 x 15.5 cm\"},\"docFormat\":\"html', 'highlight\":\"', 'tags\":{\"country\":[\"Philippines\"],\"material\":[\"Silver', 'Satin', 'Gelatin\"],\"subject\":[\"Piano', 'Wings', 'Films', 'Lighting', 'Cameras', 'Time', 'Photographs', 'Dancers\"],\"person\":[\"Johnny Manahan\"],\"topic\":[\"country', 'material', 'subject', 'person', 'singheritage', 'collection\"],\"singheritage\":[\"Films\"],\"collection\":[\"National Gallery Singapore\"]}}],\"id\":\"592671230', 'total\":1642,\"size\":1}']]\n"
     ]
    }
   ],
   "source": [
    "resList = save_response()"
   ]
  },
  {
   "cell_type": "code",
   "execution_count": 194,
   "id": "2be5f71b",
   "metadata": {
    "ExecuteTime": {
     "end_time": "2023-02-07T13:46:38.549336Z",
     "start_time": "2023-02-07T13:46:38.545741Z"
    }
   },
   "outputs": [
    {
     "data": {
      "text/plain": [
       "10"
      ]
     },
     "execution_count": 194,
     "metadata": {},
     "output_type": "execute_result"
    }
   ],
   "source": [
    "len(resList)"
   ]
  },
  {
   "cell_type": "code",
   "execution_count": 201,
   "id": "e9ebd2b2",
   "metadata": {
    "ExecuteTime": {
     "end_time": "2023-02-07T13:47:40.868510Z",
     "start_time": "2023-02-07T13:47:40.864890Z"
    },
    "scrolled": true
   },
   "outputs": [
    {
     "data": {
      "text/plain": [
       "['{\"documents\":[{\"id\":\"333BA3E9-C1F1-4B94-9F04-C8CE32935416',\n",
       " 'title\":\"Title unknown (Evidences series)',\n",
       " 'source\":\"roots_collections',\n",
       " 'path\":\"https://www.roots.gov.sg/Collection-Landing/listing/1350660',\n",
       " 'content\":\"A project intended to span one year, the Evidences series shows the artist taking images of himself in various banal situations, such as being beside dancers, playing “Wings” on the piano with Cecile Reyes, lighting sparklers on New Year’s Eve, among others. Some photos show Johnny Manahan glancing at the watch on his left hand, “marking time,” while the other holds the plunger connecting to the camera’s shutter. The photographs include the image of the film’s perforations, highlighting the camera as a device to record perceived reality in time and space.',\n",
       " 'lastModifiedDate\":\"06/08/2021',\n",
       " 'metadata\":{\"creator\":\"Johnny Manahan',\n",
       " 'date_period\":\"c. 1974',\n",
       " 'image_url\":\"https://www.roots.gov.sg/CollectionImages/1350660.jpg',\n",
       " 'accession_no\":\"2017-00857',\n",
       " 'pageId\":\"1350660',\n",
       " 'credit_line\":\"Gift of the Manahan Family',\n",
       " 'rootsUuid\":\"333ba3e9c1f14b949f04c8ce32935416',\n",
       " 'collection_of\":\"National Gallery Singapore',\n",
       " 'material\":[\"16 pieces satin silver gelatin photographs\"],\"nlb_type\":\"Painting',\n",
       " 'categories\":[\"\"],\"region\":\"Philippines',\n",
       " 'dimension\":\"Image size: 12.7 x 14.1 cm (each) Frame size: 76.1 x 86.2 x 4.0 cm Image size: 12.5 x 15.5 cm\"},\"docFormat\":\"html',\n",
       " 'highlight\":\"',\n",
       " 'tags\":{\"country\":[\"Philippines\"],\"material\":[\"Silver',\n",
       " 'Satin',\n",
       " 'Gelatin\"],\"subject\":[\"Piano',\n",
       " 'Wings',\n",
       " 'Films',\n",
       " 'Lighting',\n",
       " 'Cameras',\n",
       " 'Time',\n",
       " 'Photographs',\n",
       " 'Dancers\"],\"person\":[\"Johnny Manahan\"],\"topic\":[\"country',\n",
       " 'material',\n",
       " 'subject',\n",
       " 'person',\n",
       " 'singheritage',\n",
       " 'collection\"],\"singheritage\":[\"Films\"],\"collection\":[\"National Gallery Singapore\"]}}],\"id\":\"592671230',\n",
       " 'total\":1642,\"size\":1}']"
      ]
     },
     "execution_count": 201,
     "metadata": {},
     "output_type": "execute_result"
    }
   ],
   "source": [
    "resList[9]"
   ]
  },
  {
   "cell_type": "markdown",
   "id": "d4b7955f",
   "metadata": {},
   "source": [
    "## Save the following attributes of interest:\n",
    "\n",
    "title, content, metadata[creator], metadata[date_period], metadata[materials], metadata[region], tags[country], tags[city], tags[subject], tags[person], tags[organisation]\n",
    "\n",
    "tags[material] is largely similar to material, so we will not retrieve it"
   ]
  },
  {
   "cell_type": "markdown",
   "id": "86f97349",
   "metadata": {
    "ExecuteTime": {
     "end_time": "2023-02-07T13:01:43.313689Z",
     "start_time": "2023-02-07T13:01:43.311328Z"
    }
   },
   "source": [
    "### Find index positions of desired attributes"
   ]
  },
  {
   "cell_type": "code",
   "execution_count": 196,
   "id": "eb0b901b",
   "metadata": {
    "ExecuteTime": {
     "end_time": "2023-02-07T13:46:38.559132Z",
     "start_time": "2023-02-07T13:46:38.556148Z"
    }
   },
   "outputs": [
    {
     "data": {
      "text/plain": [
       "10"
      ]
     },
     "execution_count": 196,
     "metadata": {},
     "output_type": "execute_result"
    }
   ],
   "source": [
    "len(resList)"
   ]
  },
  {
   "cell_type": "code",
   "execution_count": 197,
   "id": "03db1a39",
   "metadata": {
    "ExecuteTime": {
     "end_time": "2023-02-07T13:46:38.564519Z",
     "start_time": "2023-02-07T13:46:38.561058Z"
    }
   },
   "outputs": [
    {
     "data": {
      "text/plain": [
       "'title\":\"Handbill for the Cantonese movie, ‘Peach Blossom Crossing’'"
      ]
     },
     "execution_count": 197,
     "metadata": {},
     "output_type": "execute_result"
    }
   ],
   "source": [
    "resList[0][1]"
   ]
  },
  {
   "cell_type": "code",
   "execution_count": 255,
   "id": "81b23704",
   "metadata": {
    "ExecuteTime": {
     "end_time": "2023-02-07T16:18:06.180878Z",
     "start_time": "2023-02-07T16:18:06.177607Z"
    }
   },
   "outputs": [
    {
     "data": {
      "text/plain": [
       "['{\"documents\":[{\"id\":\"47E60712-DB30-42AE-BFDF-3C4918065A91',\n",
       " 'title\":\"Handbill for the Cantonese movie, ‘Peach Blossom Crossing’',\n",
       " 'source\":\"roots_collections',\n",
       " 'path\":\"https://www.roots.gov.sg/Collection-Landing/listing/1142557',\n",
       " 'content\":\"This handbill was used to advertise the Cantonese movie, ‘Peach Blossom Crossing’ (桃花搭渡, Taohuadadu). During its Singapore run, the movie was screened at the Oriental (东方, Dongfang) and Grand (大光, Daguang) cinemas.Between the 1950s and 1960s, most Mandarin, Cantonese and other Chinese-dialect movies were made in Hong Kong by film production companies with financial support from Singapore-based film studios such as Shaw Brothers, Cathay and Kong Ngee (光艺, Guanyi). These studios were also involved in the distribution and exhibition of these movies in Singapore and the rest of Southeast Asia through their network of cinemas. In the early 1970s, Mandarin movies from Taiwan became popular, but by the late 1970s, Hong Kong movies were dominant once more.',\n",
       " 'lastModifiedDate\":\"04/08/2021',\n",
       " 'metadata\":{\"rootsUuid\":\"47e60712db3042aebfdf3c4918065a91',\n",
       " 'date_period\":\"1958',\n",
       " 'collection_of\":\"National Museum of Singapore',\n",
       " 'material\":[\"Paper\"],\"image_url\":\"https://www.roots.gov.sg/CollectionImages/1142557.jpg',\n",
       " 'accession_no\":\"2007-00335',\n",
       " 'nlb_type\":\"Document',\n",
       " 'categories\":[\"\"],\"region\":\"Singapore',\n",
       " 'pageId\":\"1142557',\n",
       " 'dimension\":\"Object size: 19.5 x 27.2 cm\"},\"docFormat\":\"html',\n",
       " 'highlight\":\"',\n",
       " 'tags\":{}}],\"id\":\"962323583',\n",
       " 'total\":1835,\"size\":1}']"
      ]
     },
     "execution_count": 255,
     "metadata": {},
     "output_type": "execute_result"
    }
   ],
   "source": [
    "resList[0]"
   ]
  },
  {
   "cell_type": "code",
   "execution_count": 249,
   "id": "f8738ff5",
   "metadata": {
    "ExecuteTime": {
     "end_time": "2023-02-07T16:14:50.970326Z",
     "start_time": "2023-02-07T16:14:50.967949Z"
    }
   },
   "outputs": [],
   "source": [
    "attr = ['title\":\"', 'content\":\"', '\"creator\":\"', 'date_period\":\"', 'accession_no\":\"', 'material\":[\"', '\"region\":\"', '\"country\":[\"', '\"city\":[\"', 'subject\":[\"', 'person\":[\"', 'organisation\":[\"']"
   ]
  },
  {
   "cell_type": "code",
   "execution_count": 329,
   "id": "f8e5f5a0",
   "metadata": {
    "ExecuteTime": {
     "end_time": "2023-02-07T17:14:51.318845Z",
     "start_time": "2023-02-07T17:14:51.315160Z"
    }
   },
   "outputs": [
    {
     "data": {
      "text/plain": [
       "['{\"documents\":[{\"id\":\"47E60712-DB30-42AE-BFDF-3C4918065A91',\n",
       " 'title\":\"Handbill for the Cantonese movie, ‘Peach Blossom Crossing’',\n",
       " 'source\":\"roots_collections',\n",
       " 'path\":\"https://www.roots.gov.sg/Collection-Landing/listing/1142557',\n",
       " 'content\":\"This handbill was used to advertise the Cantonese movie, ‘Peach Blossom Crossing’ (桃花搭渡, Taohuadadu). During its Singapore run, the movie was screened at the Oriental (东方, Dongfang) and Grand (大光, Daguang) cinemas.Between the 1950s and 1960s, most Mandarin, Cantonese and other Chinese-dialect movies were made in Hong Kong by film production companies with financial support from Singapore-based film studios such as Shaw Brothers, Cathay and Kong Ngee (光艺, Guanyi). These studios were also involved in the distribution and exhibition of these movies in Singapore and the rest of Southeast Asia through their network of cinemas. In the early 1970s, Mandarin movies from Taiwan became popular, but by the late 1970s, Hong Kong movies were dominant once more.',\n",
       " 'lastModifiedDate\":\"04/08/2021',\n",
       " 'metadata\":{\"rootsUuid\":\"47e60712db3042aebfdf3c4918065a91',\n",
       " 'date_period\":\"1958',\n",
       " 'collection_of\":\"National Museum of Singapore',\n",
       " 'material\":[\"Paper\"],\"image_url\":\"https://www.roots.gov.sg/CollectionImages/1142557.jpg',\n",
       " 'accession_no\":\"2007-00335',\n",
       " 'nlb_type\":\"Document',\n",
       " 'categories\":[\"\"],\"region\":\"Singapore',\n",
       " 'pageId\":\"1142557',\n",
       " 'dimension\":\"Object size: 19.5 x 27.2 cm\"},\"docFormat\":\"html',\n",
       " 'highlight\":\"',\n",
       " 'tags\":{}}],\"id\":\"962323583',\n",
       " 'total\":1835,\"size\":1}']"
      ]
     },
     "execution_count": 329,
     "metadata": {},
     "output_type": "execute_result"
    }
   ],
   "source": [
    "resList[0]"
   ]
  },
  {
   "cell_type": "code",
   "execution_count": 331,
   "id": "ee8833ba",
   "metadata": {
    "ExecuteTime": {
     "end_time": "2023-02-07T17:14:57.841412Z",
     "start_time": "2023-02-07T17:14:57.838206Z"
    }
   },
   "outputs": [
    {
     "name": "stdout",
     "output_type": "stream",
     "text": [
      "()\n"
     ]
    }
   ],
   "source": [
    "m = re.search('(?<=title).*', resList[0][1])\n",
    "print(m.groups())"
   ]
  },
  {
   "cell_type": "code",
   "execution_count": 314,
   "id": "6014aed1",
   "metadata": {
    "ExecuteTime": {
     "end_time": "2023-02-07T17:09:49.874490Z",
     "start_time": "2023-02-07T17:09:49.871591Z"
    }
   },
   "outputs": [
    {
     "name": "stdout",
     "output_type": "stream",
     "text": [
      "()\n"
     ]
    }
   ],
   "source": [
    "#m = re.search('\\title', )\n",
    "m=re.search(r\"(?<=title).*\", resList[0][1])\n",
    "print(m.groups())"
   ]
  },
  {
   "cell_type": "code",
   "execution_count": 315,
   "id": "34f90975",
   "metadata": {
    "ExecuteTime": {
     "end_time": "2023-02-07T17:10:27.924126Z",
     "start_time": "2023-02-07T17:10:27.911908Z"
    }
   },
   "outputs": [],
   "source": [
    "import regex"
   ]
  },
  {
   "cell_type": "code",
   "execution_count": 322,
   "id": "2e52279e",
   "metadata": {
    "ExecuteTime": {
     "end_time": "2023-02-07T17:11:19.674429Z",
     "start_time": "2023-02-07T17:11:19.670811Z"
    }
   },
   "outputs": [
    {
     "name": "stdout",
     "output_type": "stream",
     "text": [
      "()\n"
     ]
    }
   ],
   "source": [
    "m=regex.search(r'(?<=title\\W\\P{L}).*', resList[0][1])\n",
    "print(m.groups())"
   ]
  },
  {
   "cell_type": "code",
   "execution_count": 264,
   "id": "1b47293a",
   "metadata": {
    "ExecuteTime": {
     "end_time": "2023-02-07T16:23:52.850421Z",
     "start_time": "2023-02-07T16:23:52.848028Z"
    }
   },
   "outputs": [],
   "source": []
  },
  {
   "cell_type": "code",
   "execution_count": 258,
   "id": "930086a1",
   "metadata": {
    "ExecuteTime": {
     "end_time": "2023-02-07T16:22:06.930982Z",
     "start_time": "2023-02-07T16:22:06.927538Z"
    }
   },
   "outputs": [
    {
     "data": {
      "text/plain": [
       "'title\":\"Handbill for the Cantonese movie, ‘Peach Blossom Crossing’'"
      ]
     },
     "execution_count": 258,
     "metadata": {},
     "output_type": "execute_result"
    }
   ],
   "source": [
    "resList[0][1]"
   ]
  },
  {
   "cell_type": "code",
   "execution_count": 257,
   "id": "9b0e212c",
   "metadata": {
    "ExecuteTime": {
     "end_time": "2023-02-07T16:21:36.886105Z",
     "start_time": "2023-02-07T16:21:36.883457Z"
    }
   },
   "outputs": [
    {
     "name": "stdout",
     "output_type": "stream",
     "text": [
      "None\n"
     ]
    }
   ],
   "source": [
    "print(re.search(r'(?<=title :)[^,]*',resList[0][1]))"
   ]
  },
  {
   "cell_type": "code",
   "execution_count": 251,
   "id": "b1ca66c4",
   "metadata": {
    "ExecuteTime": {
     "end_time": "2023-02-07T16:14:52.290377Z",
     "start_time": "2023-02-07T16:14:52.286048Z"
    }
   },
   "outputs": [
    {
     "name": "stdout",
     "output_type": "stream",
     "text": [
      "\n",
      "title\":\"\n",
      "title\":\" is found in title\":\"Handbill for the Cantonese movie, ‘Peach Blossom Crossing’\n",
      "\n",
      "title\":\" is found in title\":\"Abstract Series\n",
      "\n",
      "title\":\" is found in title\":\"Profile - Girl with ribbon\n",
      "\n",
      "title\":\" is found in title\":\"Farmer\n",
      "\n",
      "title\":\" is found in title\":\"Untitled\n",
      "\n",
      "title\":\" is found in title\":\"Evening (Petang)\n",
      "\n",
      "title\":\" is found in title\":\"Sarong\n",
      "\n",
      "title\":\" is found in title\":\"Menenun (Weaving)\n",
      "\n",
      "title\":\" is found in title\":\"'Kampong in Pasir Panjang'\n",
      "\n",
      "title\":\" is found in title\":\"Title unknown (Evidences series)\n",
      "\n",
      "\n",
      "content\":\"\n",
      "content\":\" is found in content\":\"This handbill was used to advertise the Cantonese movie, ‘Peach Blossom Crossing’ (桃花搭渡, Taohuadadu). During its Singapore run, the movie was screened at the Oriental (东方, Dongfang) and Grand (大光, Daguang) cinemas.Between the 1950s and 1960s, most Mandarin, Cantonese and other Chinese-dialect movies were made in Hong Kong by film production companies with financial support from Singapore-based film studios such as Shaw Brothers, Cathay and Kong Ngee (光艺, Guanyi). These studios were also involved in the distribution and exhibition of these movies in Singapore and the rest of Southeast Asia through their network of cinemas. In the early 1970s, Mandarin movies from Taiwan became popular, but by the late 1970s, Hong Kong movies were dominant once more.\n",
      "\n",
      "content\":\" is found in content\":\"Born in 1934 in Singapore, Chieu Shuey Fook graduated from Nanyang Academy of Fine Arts in 1953. Initially a batik artist, he became intrigued by chemical reactions on metal and has since made a name for himself in metal relief art; his works are known for their rich textural qualities. He has held solo exhibitions and participated in important group exhibitions both in Singapore and in Germany, Australia, France, Japan, Malaysia and Taiwan. Chieu, a recepient of numerous awards, among which is the top prize in the Instant Asia Art Competition in 1970, also received major art commissions.‘Abstract Series’ is one of Chieu’s important works in his oeuvre as it won him an art prize. It appropriates the form of a bird with a kaleidescope of colours, textures and patterns to denote diversity and progress.\n",
      "\n",
      "content\":\" is found in content\":\"Tay Boon Pin (b.1936) received training at NAFA, graduating in 1956. Prior to that, he was a student at Chung Cheng High School. Tay was invited to participate in the Singapore Chinese High Schools’ Graduates of 1953 Arts Association travelling exhibition in 1955, and was one of the early members of the Equator Art Society (EAS).This body of sketches produced by the artist is significant to the understanding of the development of social realist movement in Singapore, particularly the ways in which EAS practised art during its early years in the 1950s and 1960s. The works also aid in our understanding of the methodology which EAS utilised in its approach towards realism during that time.\n",
      "\n",
      "content\":\" is found in content\":\"Born in Fujian Province, Liu Kang (1911-2004) received his formal training in Shanghai Academy of Fine Art, where he was exposed to Chinese paintings. In 1928, he went to Paris where he was influenced by art movements such as Fauvism and Post-Impressionism. Not only was he one of Singapore’s pioneer artists, he was also a leading figure in the Society of Chinese Artists and the Singapore Art Society. In 1970, he was awarded the Public Service Star for his contributions in the field of art.Mainly an oil painter, Liu started using pastel during the Japanese Occupation (1942-1945) as oil paints were unavailable then. He was subsequently attracted by the luminosity of pastel and preferred it to oil for his later depictions of the human figure.\n",
      "\n",
      "content\":\" is found in content\":\"Tan Teng-Kee was born in Batu Pahat, Johor, Malaysia, in 1937. He studied Chinese and Western painting at the New Asia College, Hong Kong (1958-62) and after a few years living and working in Paris, studied metal sculpture (under renowned sculptor Norbert Kricke) and printmaking at the Staatliche Kunstakademie in Düsseldorf, Germany (1967-70).\n",
      "\n",
      "content\":\" is found in content\":\"Born in Singapore, Arthur Yap (1943-2006) painted more frequently only after he graduated from the University of Singapore in 1965. A self-taught artist, he learnt through art magazines, exhibitions and trips to Europe in the 1970s. At the same time, he participated actively in the local art scene, holding six solo exhibitions and exhibiting in numerous group shows from 1968. In 1972, he was one of the Singapore representatives to the Adelaide Festival of Arts. Recognized as one of the country’s foremost poets with three published collections of poems, Yap was awarded the Cultural Medallion for literature by the Singapore government in 1983.‘Evening (Petang)’ demonstrates Yap’s early style which shows a preference for clean and hard edges, with clear influences from Lyrical Abstraction: wavy ribbons and structured bands in different hues of beige, blue, green and grey. Yap alternates between chaos and order: the shapes sometimes overlap, and sometimes stack neatly on top of one another.\n",
      "\n",
      "content\":\" is found in content\":\"\n",
      "\n",
      "content\":\" is found in content\":\"This work continues Apin’s exploration in the print technique. However beyond the print medium, there are also photographic and abstraction elements, combined with his lifelong study of the nude body. Hence this is a strong, confident work of an artist who is at the peak of his practice. To add to the multi-layered aspect of this work, the title Menenun which translates to Weaving also touches on the long-standing textile tradition in Indonesian besides of course, summarizing the technique of this work.\n",
      "\n",
      "content\":\" is found in content\":\"\n",
      "\n",
      "content\":\" is found in content\":\"A project intended to span one year, the Evidences series shows the artist taking images of himself in various banal situations, such as being beside dancers, playing “Wings” on the piano with Cecile Reyes, lighting sparklers on New Year’s Eve, among others. Some photos show Johnny Manahan glancing at the watch on his left hand, “marking time,” while the other holds the plunger connecting to the camera’s shutter. The photographs include the image of the film’s perforations, highlighting the camera as a device to record perceived reality in time and space.\n",
      "\n",
      "\n",
      "\"creator\":\"\n",
      "\"creator\":\" is found in metadata\":{\"creator\":\"Chieu Shuey Fook\n",
      "\n",
      "\"creator\":\" is found in metadata\":{\"creator\":\"Tay Boon Pin\n",
      "\n",
      "\"creator\":\" is found in metadata\":{\"creator\":\"Liu Kang\n",
      "\n",
      "\"creator\":\" is found in metadata\":{\"creator\":\"Tan Teng Kee\n",
      "\n",
      "\"creator\":\" is found in metadata\":{\"creator\":\"Arthur Yap\n",
      "\n",
      "\"creator\":\" is found in metadata\":{\"creator\":\"Foo Chee San\n",
      "\n",
      "\"creator\":\" is found in metadata\":{\"creator\":\"Johnny Manahan\n",
      "\n",
      "\n",
      "date_period\":\"\n",
      "date_period\":\" is found in date_period\":\"1958\n",
      "\n",
      "date_period\":\" is found in date_period\":\"1998\n",
      "\n",
      "date_period\":\" is found in date_period\":\"1963\n",
      "\n",
      "date_period\":\" is found in date_period\":\"1987\n",
      "\n",
      "date_period\":\" is found in date_period\":\"1977\n",
      "\n",
      "date_period\":\" is found in date_period\":\"1968\n",
      "\n",
      "date_period\":\" is found in metadata\":{\"date_period\":\"c.1910\n",
      "\n",
      "date_period\":\" is found in date_period\":\"1975\n",
      "\n",
      "date_period\":\" is found in date_period\":\"1966\n",
      "\n",
      "date_period\":\" is found in date_period\":\"c. 1974\n",
      "\n",
      "\n",
      "accession_no\":\"\n",
      "accession_no\":\" is found in accession_no\":\"2007-00335\n",
      "\n",
      "accession_no\":\" is found in accession_no\":\"2010-01385\n",
      "\n",
      "accession_no\":\" is found in accession_no\":\"2015-00358\n",
      "\n",
      "accession_no\":\" is found in accession_no\":\"2002-00783\n",
      "\n",
      "accession_no\":\" is found in accession_no\":\"2016-00456\n",
      "\n",
      "accession_no\":\" is found in accession_no\":\"2010-00754\n",
      "\n",
      "accession_no\":\" is found in technique\":[\"warp ikat\"],\"accession_no\":\"T-0033\n",
      "\n",
      "accession_no\":\" is found in metadata\":{\"technique\":[\"Block Print\"],\"accession_no\":\"2017-00480\n",
      "\n",
      "accession_no\":\" is found in accession_no\":\"1999-00812\n",
      "\n",
      "accession_no\":\" is found in accession_no\":\"2017-00857\n",
      "\n",
      "\n",
      "material\":[\"\n",
      "material\":[\" is found in material\":[\"Paper\"],\"image_url\":\"https://www.roots.gov.sg/CollectionImages/1142557.jpg\n",
      "\n",
      "material\":[\" is found in material\":[\"Metal Relief\"],\"nlb_type\":\"Painting\n",
      "\n",
      "material\":[\" is found in tags\":{\"country\":[\"Singapore\"],\"material\":[\"Metal\"],\"city\":[\"Singapore\"],\"subject\":[\"Relief (art)\n",
      "\n",
      "material\":[\" is found in material\":[\"Pencil on paper\"],\"nlb_type\":\"Painting\n",
      "\n",
      "material\":[\" is found in tags\":{\"country\":[\"Singapore\"],\"material\":[\"Paper\n",
      "\n",
      "material\":[\" is found in material\":[\"Pastel on paper\"],\"nlb_type\":\"Painting\n",
      "\n",
      "material\":[\" is found in tags\":{\"country\":[\"Singapore\"],\"material\":[\"Paper\n",
      "\n",
      "material\":[\" is found in material\":[\"Ink on paper\"],\"nlb_type\":\"Painting\n",
      "\n",
      "material\":[\" is found in tags\":{\"country\":[\"Singapore\"],\"material\":[\"Ink\n",
      "\n",
      "material\":[\" is found in material\":[\"Acrylic on canvas\"],\"nlb_type\":\"Painting\n",
      "\n",
      "material\":[\" is found in green (color)\"],\"material\":[\"Canvas\n",
      "\n",
      "material\":[\" is found in material\":[\"Cotton\"],\"nlb_type\":\"Textile\n",
      "\n",
      "material\":[\" is found in tags\":{\"material\":[\"Cotton\"],\"topic\":[\"material\n",
      "\n",
      "material\":[\" is found in material\":[\"Prints\"],\"styles_periods_indexing_terms\":\"Indonesian (culture Or Style)\n",
      "\n",
      "material\":[\" is found in tags\":{\"country\":[\"Indonesia\"],\"material\":[\"Paper (Fiber Product)\"],\"city\":[\"Bandung\"],\"person\":[\"Mochtar Apin\"],\"subject\":[\"Graphic Arts\n",
      "\n",
      "material\":[\" is found in material\":[\"16 pieces satin silver gelatin photographs\"],\"nlb_type\":\"Painting\n",
      "\n",
      "material\":[\" is found in tags\":{\"country\":[\"Philippines\"],\"material\":[\"Silver\n",
      "\n",
      "\n",
      "\"region\":\"\n",
      "\"region\":\" is found in categories\":[\"\"],\"region\":\"Singapore\n",
      "\n",
      "\"region\":\" is found in categories\":[\"\"],\"region\":\"Singapore\n",
      "\n",
      "\"region\":\" is found in categories\":[\"\"],\"region\":\"Singapore\n",
      "\n",
      "\"region\":\" is found in categories\":[\"\"],\"region\":\"Singapore\n",
      "\n",
      "\"region\":\" is found in categories\":[\"\"],\"region\":\"Singapore\n",
      "\n",
      "\"region\":\" is found in categories\":[\"\"],\"region\":\"Singapore\n",
      "\n",
      "\"region\":\" is found in categories\":[\"\"],\"region\":\"Kisar, Southern Moluccas, Indonesian Archipelago\n",
      "\n",
      "\"region\":\" is found in categories\":[\"\"],\"region\":\"Singapore\n",
      "\n",
      "\"region\":\" is found in categories\":[\"\"],\"region\":\"Philippines\n",
      "\n",
      "\n",
      "\"country\":[\"\n",
      "\"country\":[\" is found in tags\":{\"country\":[\"Singapore\"],\"material\":[\"Metal\"],\"city\":[\"Singapore\"],\"subject\":[\"Relief (art)\n",
      "\n",
      "\"country\":[\" is found in tags\":{\"country\":[\"Singapore\"],\"material\":[\"Paper\n",
      "\n",
      "\"country\":[\" is found in tags\":{\"country\":[\"Singapore\"],\"material\":[\"Paper\n",
      "\n",
      "\"country\":[\" is found in tags\":{\"country\":[\"Singapore\"],\"material\":[\"Ink\n",
      "\n",
      "\"country\":[\" is found in tags\":{\"country\":[\"Singapore\"],\"color\":[\"blue (color)\n",
      "\n",
      "\"country\":[\" is found in tags\":{\"country\":[\"Indonesia\"],\"material\":[\"Paper (Fiber Product)\"],\"city\":[\"Bandung\"],\"person\":[\"Mochtar Apin\"],\"subject\":[\"Graphic Arts\n",
      "\n",
      "\"country\":[\" is found in tags\":{\"country\":[\"Philippines\"],\"material\":[\"Silver\n",
      "\n",
      "\n",
      "\"city\":[\"\n",
      "\"city\":[\" is found in tags\":{\"country\":[\"Singapore\"],\"material\":[\"Metal\"],\"city\":[\"Singapore\"],\"subject\":[\"Relief (art)\n",
      "\n",
      "\"city\":[\" is found in Pencils\"],\"city\":[\"Singapore\"],\"subject\":[\"Training\n",
      "\n",
      "\"city\":[\" is found in Pastel\"],\"city\":[\"Singapore\"],\"subject\":[\"Training\n",
      "\n",
      "\"city\":[\" is found in Paper\"],\"city\":[\"Singapore\"],\"subject\":[\"Johor (Malaysia)\n",
      "\n",
      "\"city\":[\" is found in Acrylic\"],\"city\":[\"Singapore\"],\"subject\":[\"Chaos\n",
      "\n",
      "\"city\":[\" is found in tags\":{\"country\":[\"Indonesia\"],\"material\":[\"Paper (Fiber Product)\"],\"city\":[\"Bandung\"],\"person\":[\"Mochtar Apin\"],\"subject\":[\"Graphic Arts\n",
      "\n",
      "\n",
      "subject\":[\"\n",
      "subject\":[\" is found in tags\":{\"country\":[\"Singapore\"],\"material\":[\"Metal\"],\"city\":[\"Singapore\"],\"subject\":[\"Relief (art)\n",
      "\n",
      "subject\":[\" is found in Pencils\"],\"city\":[\"Singapore\"],\"subject\":[\"Training\n",
      "\n",
      "subject\":[\" is found in Pastel\"],\"city\":[\"Singapore\"],\"subject\":[\"Training\n",
      "\n",
      "subject\":[\" is found in Paper\"],\"city\":[\"Singapore\"],\"subject\":[\"Johor (Malaysia)\n",
      "\n",
      "subject\":[\" is found in Acrylic\"],\"city\":[\"Singapore\"],\"subject\":[\"Chaos\n",
      "\n",
      "subject\":[\" is found in tags\":{\"country\":[\"Indonesia\"],\"material\":[\"Paper (Fiber Product)\"],\"city\":[\"Bandung\"],\"person\":[\"Mochtar Apin\"],\"subject\":[\"Graphic Arts\n",
      "\n",
      "subject\":[\" is found in Gelatin\"],\"subject\":[\"Piano\n",
      "\n",
      "\n",
      "person\":[\"\n",
      "person\":[\" is found in Art Commissions\"],\"person\":[\"Chieu, Shuey Fook\"],\"topic\":[\"country\n",
      "\n",
      "person\":[\" is found in Members\"],\"person\":[\"Tay, Boon Pin\"],\"organisation\":[\"Equator Art Society\n",
      "\n",
      "person\":[\" is found in Artists\"],\"geographics\":[\"Pioneer\"],\"person\":[\"Liu, Kang\"],\"organisation\":[\"Singapore Art Society\n",
      "\n",
      "person\":[\" is found in Painting\"],\"person\":[\"Tan, Teng Kee\"],\"topic\":[\"country\n",
      "\n",
      "person\":[\" is found in Poets\"],\"awards\":[\"Cultural Medallion\"],\"person\":[\"Yap, Arthur\"],\"topic\":[\"country\n",
      "\n",
      "person\":[\" is found in tags\":{\"country\":[\"Indonesia\"],\"material\":[\"Paper (Fiber Product)\"],\"city\":[\"Bandung\"],\"person\":[\"Mochtar Apin\"],\"subject\":[\"Graphic Arts\n",
      "\n",
      "person\":[\" is found in Dancers\"],\"person\":[\"Johnny Manahan\"],\"topic\":[\"country\n",
      "\n",
      "\n",
      "organisation\":[\"\n",
      "organisation\":[\" is found in collection\"],\"organisation\":[\"Nanyang Academy of Fine Arts\"],\"collection\":[\"National Gallery Singapore\"]}}],\"id\":\"1889685179\n",
      "\n",
      "organisation\":[\" is found in Members\"],\"person\":[\"Tay, Boon Pin\"],\"organisation\":[\"Equator Art Society\n",
      "\n",
      "organisation\":[\" is found in Artists\"],\"geographics\":[\"Pioneer\"],\"person\":[\"Liu, Kang\"],\"organisation\":[\"Singapore Art Society\n",
      "\n",
      "organisation\":[\" is found in Arts\"],\"organisation\":[\"University of Singapore\"],\"collection\":[\"National Gallery Singapore\"]}}],\"id\":\"1882780963\n",
      "\n"
     ]
    }
   ],
   "source": [
    "for i in attr:\n",
    "    print(f\"\\n{i}\")\n",
    "    for x in range(len(resList)):\n",
    "        for y in range(len(resList[x])):\n",
    "            #print(f\"x is {x}, y is {y}, value is {resList[x][y]}\")\n",
    "            if i in resList[x][y]:\n",
    "                print(f\"{i} is found in {resList[x][y]}\\n\")"
   ]
  },
  {
   "cell_type": "code",
   "execution_count": 147,
   "id": "deb15cd9",
   "metadata": {
    "ExecuteTime": {
     "end_time": "2023-02-07T13:31:29.213476Z",
     "start_time": "2023-02-07T13:31:29.210604Z"
    }
   },
   "outputs": [
    {
     "name": "stdout",
     "output_type": "stream",
     "text": [
      "title is found in title\":\"Handbill for the Cantonese movie, ‘Peach Blossom Crossing’\n",
      "title is found in title\":\"Abstract Series\n",
      "title is found in title\":\"Profile - Girl with ribbon\n",
      "title is found in title\":\"Farmer\n",
      "title is found in title\":\"Untitled\n"
     ]
    }
   ],
   "source": [
    "for x in range(len(resList)):\n",
    "    for y in range(len(resList[x])):\n",
    "        #print(f\"x is {x}, y is {y}, value is {resList[x][y]}\")\n",
    "        if 'title' in resList[x][y]:\n",
    "            print(f\"title is found in {resList[x][y]}\")\n",
    "        #    print(f'title found' in {resList[x][y]})"
   ]
  },
  {
   "cell_type": "code",
   "execution_count": 126,
   "id": "d258de1b",
   "metadata": {
    "ExecuteTime": {
     "end_time": "2023-02-07T13:15:58.811529Z",
     "start_time": "2023-02-07T13:15:58.808180Z"
    }
   },
   "outputs": [
    {
     "name": "stdout",
     "output_type": "stream",
     "text": [
      "0\n",
      "240\n",
      "1\n",
      "197\n",
      "2\n",
      "208\n",
      "3\n",
      "188\n",
      "4\n",
      "190\n"
     ]
    }
   ],
   "source": [
    "for i in range(len(resList)):\n",
    "    print(i)\n",
    "    #item = str(resList[i])\n",
    "    item = re.search(r'\\bcontent\\b',str(resList[i])).end()\n",
    "    #item = resList[i]\n",
    "    print(item)"
   ]
  },
  {
   "cell_type": "code",
   "execution_count": null,
   "id": "c683d206",
   "metadata": {},
   "outputs": [],
   "source": []
  },
  {
   "cell_type": "code",
   "execution_count": null,
   "id": "d592db28",
   "metadata": {},
   "outputs": [],
   "source": []
  },
  {
   "cell_type": "markdown",
   "id": "ba674ecd",
   "metadata": {},
   "source": [
    "Extracting title"
   ]
  },
  {
   "cell_type": "code",
   "execution_count": 93,
   "id": "04ddded1",
   "metadata": {
    "ExecuteTime": {
     "end_time": "2023-02-07T13:07:49.199674Z",
     "start_time": "2023-02-07T13:07:49.196535Z"
    }
   },
   "outputs": [
    {
     "data": {
      "text/plain": [
       "'Abstract Series'"
      ]
     },
     "execution_count": 93,
     "metadata": {},
     "output_type": "execute_result"
    }
   ],
   "source": [
    "resList[1][1][8:]"
   ]
  },
  {
   "cell_type": "markdown",
   "id": "3fa69c7a",
   "metadata": {
    "ExecuteTime": {
     "end_time": "2023-02-06T16:13:07.643339Z",
     "start_time": "2023-02-06T16:13:07.640482Z"
    }
   },
   "source": [
    "Extracting content"
   ]
  },
  {
   "cell_type": "code",
   "execution_count": 195,
   "id": "40c268de",
   "metadata": {
    "ExecuteTime": {
     "end_time": "2023-02-06T16:24:30.280789Z",
     "start_time": "2023-02-06T16:24:30.277181Z"
    },
    "scrolled": true
   },
   "outputs": [
    {
     "data": {
      "text/plain": [
       "(0, 7)"
      ]
     },
     "execution_count": 195,
     "metadata": {},
     "output_type": "execute_result"
    }
   ],
   "source": [
    "re.search(r'\\bcontent\\b',word_list[4]).span()"
   ]
  },
  {
   "cell_type": "code",
   "execution_count": 196,
   "id": "3cbf070b",
   "metadata": {
    "ExecuteTime": {
     "end_time": "2023-02-06T16:24:30.961267Z",
     "start_time": "2023-02-06T16:24:30.957921Z"
    }
   },
   "outputs": [
    {
     "data": {
      "text/plain": [
       "'Born in Fujian Province, Liu Kang (1911-2004) received his formal training in Shanghai Academy of Fine Art, where he was exposed to Chinese paintings. In 1928, he went to Paris where he was influenced by art movements such as Fauvism and Post-Impressionism. Not only was he one of Singapore’s pioneer artists, he was also a leading figure in the Society of Chinese Artists and the Singapore Art Society. In 1970, he was awarded the Public Service Star for his contributions in the field of art.An accomplished oil and pastel artist, this is a rare watercolour by Liu. This work is also rare on another account—the unusually heavy linework. The multi-tiered roof structure in the distance suggests that the location is Bali.'"
      ]
     },
     "execution_count": 196,
     "metadata": {},
     "output_type": "execute_result"
    }
   ],
   "source": [
    "word_list[4][10:]"
   ]
  },
  {
   "cell_type": "markdown",
   "id": "82adae54",
   "metadata": {
    "ExecuteTime": {
     "end_time": "2023-02-06T16:17:14.277342Z",
     "start_time": "2023-02-06T16:17:14.273990Z"
    }
   },
   "source": [
    "Extracting metadata[creator], metadata[date_period], metadata[materials] and metadata[region]"
   ]
  },
  {
   "cell_type": "code",
   "execution_count": 197,
   "id": "8646a8fb",
   "metadata": {
    "ExecuteTime": {
     "end_time": "2023-02-06T16:24:32.373082Z",
     "start_time": "2023-02-06T16:24:32.369581Z"
    }
   },
   "outputs": [
    {
     "data": {
      "text/plain": [
       "(12, 19)"
      ]
     },
     "execution_count": 197,
     "metadata": {},
     "output_type": "execute_result"
    }
   ],
   "source": [
    "re.search(r'\\bcreator\\b',word_list[6]).span()"
   ]
  },
  {
   "cell_type": "code",
   "execution_count": 198,
   "id": "0411fc55",
   "metadata": {
    "ExecuteTime": {
     "end_time": "2023-02-06T16:24:33.101153Z",
     "start_time": "2023-02-06T16:24:33.097859Z"
    }
   },
   "outputs": [
    {
     "data": {
      "text/plain": [
       "'Liu Kang'"
      ]
     },
     "execution_count": 198,
     "metadata": {},
     "output_type": "execute_result"
    }
   ],
   "source": [
    "word_list[6][22:]"
   ]
  },
  {
   "cell_type": "code",
   "execution_count": 200,
   "id": "4878766b",
   "metadata": {
    "ExecuteTime": {
     "end_time": "2023-02-06T16:25:36.096623Z",
     "start_time": "2023-02-06T16:25:36.093047Z"
    },
    "scrolled": true
   },
   "outputs": [
    {
     "data": {
      "text/plain": [
       "(0, 11)"
      ]
     },
     "execution_count": 200,
     "metadata": {},
     "output_type": "execute_result"
    }
   ],
   "source": [
    "re.search(r'\\bdate_period\\b',word_list[7]).span()"
   ]
  },
  {
   "cell_type": "code",
   "execution_count": 201,
   "id": "92f80402",
   "metadata": {
    "ExecuteTime": {
     "end_time": "2023-02-06T16:25:39.943212Z",
     "start_time": "2023-02-06T16:25:39.939906Z"
    }
   },
   "outputs": [
    {
     "data": {
      "text/plain": [
       "'1953'"
      ]
     },
     "execution_count": 201,
     "metadata": {},
     "output_type": "execute_result"
    }
   ],
   "source": [
    "word_list[7][14:]"
   ]
  },
  {
   "cell_type": "code",
   "execution_count": null,
   "id": "8bfd23f5",
   "metadata": {},
   "outputs": [],
   "source": []
  },
  {
   "cell_type": "code",
   "execution_count": 166,
   "id": "a3b38f37",
   "metadata": {
    "ExecuteTime": {
     "end_time": "2023-02-06T16:06:04.922734Z",
     "start_time": "2023-02-06T16:06:04.919733Z"
    },
    "scrolled": true
   },
   "outputs": [
    {
     "name": "stdout",
     "output_type": "stream",
     "text": [
      "{\"documents\":[{\"id\":\"DAE5664A-11E6-4AA0-B166-08BCB764A6B7\n",
      "title\":\"Seaside\n",
      "source\":\"roots_collections\n",
      "path\":\"https://www.roots.gov.sg/Collection-Landing/listing/1031168\n",
      "content\":\"Born in Fujian Province, Liu Kang (1911-2004) received his formal training in Shanghai Academy of Fine Art, where he was exposed to Chinese paintings. In 1928, he went to Paris where he was influenced by art movements such as Fauvism and Post-Impressionism. Not only was he one of Singapore’s pioneer artists, he was also a leading figure in the Society of Chinese Artists and the Singapore Art Society. In 1970, he was awarded the Public Service Star for his contributions in the field of art.An accomplished oil and pastel artist, this is a rare watercolour by Liu. This work is also rare on another account—the unusually heavy linework. The multi-tiered roof structure in the distance suggests that the location is Bali.\n",
      "lastModifiedDate\":\"04/08/2021\n",
      "metadata\":{\"creator\":\"Liu Kang\n",
      "date_period\":\"1953\n",
      "image_url\":\"https://www.roots.gov.sg/CollectionImages/1031168.jpg\n",
      "accession_no\":\"2003-03474\n",
      "pageId\":\"1031168\n",
      "credit_line\":\"Gift of the artist’s family\n",
      "rootsUuid\":\"dae5664a11e64aa0b16608bcb764a6b7\n",
      "collection_of\":\"National Gallery Singapore\n",
      "material\":[\"Watercolour on paper\"],\"nlb_type\":\"Painting\n",
      "categories\":[\"\"],\"region\":\"Singapore\n",
      "dimension\":\"Image size: 39 x 56 cm Frame size: Unframed\"},\"docFormat\":\"html\n",
      "highlight\":\"\n",
      "tags\":{\"country\":[\"Singapore\"],\"material\":[\"Watercolour\n",
      "Paper\"],\"city\":[\"Singapore\"],\"subject\":[\"Training\n",
      "Liu, Kang, 1911-2004\n",
      "Art\n",
      "Paintings\n",
      "Work\n",
      "Chinese\n",
      "Artists\"],\"geographics\":[\"Pioneer\"],\"person\":[\"Liu, Kang\"],\"organisation\":[\"Singapore Art Society\n",
      "The Society of Chinese Artists\"],\"topic\":[\"country\n",
      "material\n",
      "city\n",
      "subject\n",
      "geographics\n",
      "person\n",
      "organisation\n",
      "singheritage\n",
      "collection\"],\"singheritage\":[\"Artists\"],\"collection\":[\"National Gallery Singapore\"]}}],\"id\":\"623613506\n",
      "total\":4706,\"size\":1}\n"
     ]
    }
   ],
   "source": [
    "for i in word_list:\n",
    "    print(i)"
   ]
  },
  {
   "cell_type": "code",
   "execution_count": 171,
   "id": "26045772",
   "metadata": {
    "ExecuteTime": {
     "end_time": "2023-02-06T16:09:00.141724Z",
     "start_time": "2023-02-06T16:09:00.138566Z"
    }
   },
   "outputs": [
    {
     "name": "stdout",
     "output_type": "stream",
     "text": [
      "[]\n"
     ]
    }
   ],
   "source": [
    "sub = 'title'\n",
    "matches = [match for match in word_list if res_decoded.split()[0] == sub]\n",
    "\n",
    "print(matches)"
   ]
  },
  {
   "cell_type": "code",
   "execution_count": 164,
   "id": "1b5bca9c",
   "metadata": {
    "ExecuteTime": {
     "end_time": "2023-02-06T16:04:48.303801Z",
     "start_time": "2023-02-06T16:04:48.286875Z"
    },
    "scrolled": true
   },
   "outputs": [
    {
     "ename": "TypeError",
     "evalue": "expected string or bytes-like object",
     "output_type": "error",
     "traceback": [
      "\u001b[0;31m---------------------------------------------------------------------------\u001b[0m",
      "\u001b[0;31mTypeError\u001b[0m                                 Traceback (most recent call last)",
      "Input \u001b[0;32mIn [164]\u001b[0m, in \u001b[0;36m<cell line: 1>\u001b[0;34m()\u001b[0m\n\u001b[0;32m----> 1\u001b[0m \u001b[43mre\u001b[49m\u001b[38;5;241;43m.\u001b[39;49m\u001b[43mfindall\u001b[49m\u001b[43m(\u001b[49m\u001b[38;5;124;43mr\u001b[39;49m\u001b[38;5;124;43m\"\u001b[39;49m\u001b[38;5;124;43m(?=(\u001b[39;49m\u001b[38;5;124;43m\"\u001b[39;49m\u001b[38;5;241;43m+\u001b[39;49m\u001b[38;5;124;43m'\u001b[39;49m\u001b[38;5;124;43m|\u001b[39;49m\u001b[38;5;124;43m'\u001b[39;49m\u001b[38;5;241;43m.\u001b[39;49m\u001b[43mjoin\u001b[49m\u001b[43m(\u001b[49m\u001b[43mkeyword_lst\u001b[49m\u001b[43m)\u001b[49m\u001b[38;5;241;43m+\u001b[39;49m\u001b[38;5;124;43mr\u001b[39;49m\u001b[38;5;124;43m\"\u001b[39;49m\u001b[38;5;124;43m))\u001b[39;49m\u001b[38;5;124;43m\"\u001b[39;49m\u001b[43m,\u001b[49m\u001b[43m \u001b[49m\u001b[43mword_list\u001b[49m\u001b[43m)\u001b[49m\n",
      "File \u001b[0;32m~/.pyenv/versions/3.8.12/lib/python3.8/re.py:241\u001b[0m, in \u001b[0;36mfindall\u001b[0;34m(pattern, string, flags)\u001b[0m\n\u001b[1;32m    233\u001b[0m \u001b[38;5;28;01mdef\u001b[39;00m \u001b[38;5;21mfindall\u001b[39m(pattern, string, flags\u001b[38;5;241m=\u001b[39m\u001b[38;5;241m0\u001b[39m):\n\u001b[1;32m    234\u001b[0m     \u001b[38;5;124;03m\"\"\"Return a list of all non-overlapping matches in the string.\u001b[39;00m\n\u001b[1;32m    235\u001b[0m \n\u001b[1;32m    236\u001b[0m \u001b[38;5;124;03m    If one or more capturing groups are present in the pattern, return\u001b[39;00m\n\u001b[0;32m   (...)\u001b[0m\n\u001b[1;32m    239\u001b[0m \n\u001b[1;32m    240\u001b[0m \u001b[38;5;124;03m    Empty matches are included in the result.\"\"\"\u001b[39;00m\n\u001b[0;32m--> 241\u001b[0m     \u001b[38;5;28;01mreturn\u001b[39;00m \u001b[43m_compile\u001b[49m\u001b[43m(\u001b[49m\u001b[43mpattern\u001b[49m\u001b[43m,\u001b[49m\u001b[43m \u001b[49m\u001b[43mflags\u001b[49m\u001b[43m)\u001b[49m\u001b[38;5;241;43m.\u001b[39;49m\u001b[43mfindall\u001b[49m\u001b[43m(\u001b[49m\u001b[43mstring\u001b[49m\u001b[43m)\u001b[49m\n",
      "\u001b[0;31mTypeError\u001b[0m: expected string or bytes-like object"
     ]
    }
   ],
   "source": [
    "sentences = [word.lower() for word in sentences if re.match('^[a-zA-Z]+', word)]  "
   ]
  },
  {
   "cell_type": "code",
   "execution_count": 161,
   "id": "3dd7e61f",
   "metadata": {
    "ExecuteTime": {
     "end_time": "2023-02-06T16:03:21.401763Z",
     "start_time": "2023-02-06T16:03:21.398287Z"
    }
   },
   "outputs": [
    {
     "data": {
      "text/plain": [
       "list"
      ]
     },
     "execution_count": 161,
     "metadata": {},
     "output_type": "execute_result"
    }
   ],
   "source": [
    "type(word_list)"
   ]
  },
  {
   "cell_type": "markdown",
   "id": "eb471537",
   "metadata": {},
   "source": [
    "- With artwork ID as identifier, query and fetch relevant data from NHB\n",
    "- Save to .csv"
   ]
  },
  {
   "cell_type": "code",
   "execution_count": 1,
   "id": "e471eed3",
   "metadata": {
    "ExecuteTime": {
     "end_time": "2023-02-06T14:55:58.491963Z",
     "start_time": "2023-02-06T14:55:58.007492Z"
    }
   },
   "outputs": [],
   "source": [
    "import pandas as pd"
   ]
  },
  {
   "cell_type": "code",
   "execution_count": 185,
   "id": "80419d89",
   "metadata": {
    "ExecuteTime": {
     "end_time": "2023-02-07T13:45:34.624909Z",
     "start_time": "2023-02-07T13:45:34.457646Z"
    },
    "scrolled": true
   },
   "outputs": [
    {
     "name": "stdout",
     "output_type": "stream",
     "text": [
      "<class 'dict'>\n"
     ]
    }
   ],
   "source": [
    "import requests\n",
    "\n",
    "url = \"https://www.roots.gov.sg/get-search-results\"\n",
    "\n",
    "payload={'id': '',\n",
    "'topicsQuery[not][0][field]': 'source',\n",
    "'topicsQuery[not][0][value]': 'CSV',\n",
    "'query': '2003-03474',\n",
    "'from': '0',\n",
    "'size': '1',\n",
    "'searchMode': 'NEW'}\n",
    "files=[\n",
    "\n",
    "]\n",
    "headers = {\n",
    "  'Cookie': 'AWSALB=kwXo1w7AkGdiGhsyiL/zuRx0O7Pnw6jpL4mnpPLw8Zk2YQcBjyQ2jr8gPHjfCSNyasXpQ9fr2HHC1FK3W2ZqXgVJEKkCMbLqXoS0N9p4jP1h9ZwRksuWSso1IFQ8; AWSALBCORS=kwXo1w7AkGdiGhsyiL/zuRx0O7Pnw6jpL4mnpPLw8Zk2YQcBjyQ2jr8gPHjfCSNyasXpQ9fr2HHC1FK3W2ZqXgVJEKkCMbLqXoS0N9p4jP1h9ZwRksuWSso1IFQ8; rp_www.roots.gov.sg=61e6528f68cf95598f0445134011e409'\n",
    "}\n",
    "\n",
    "response = requests.request(\"POST\", url, headers=headers, data=payload, files=files)\n",
    "data = response.json()\n",
    "\n",
    "print(type(data))\n",
    "# print(data.keys())\n",
    "# print(data.values())"
   ]
  },
  {
   "cell_type": "code",
   "execution_count": 182,
   "id": "fbe7b814",
   "metadata": {
    "ExecuteTime": {
     "end_time": "2023-02-07T13:42:48.913305Z",
     "start_time": "2023-02-07T13:42:48.910583Z"
    }
   },
   "outputs": [
    {
     "name": "stdout",
     "output_type": "stream",
     "text": [
      "{\n",
      "    \"documents\": [\n",
      "        {\n",
      "            \"id\": \"DAE5664A-11E6-4AA0-B166-08BCB764A6B7\",\n",
      "            \"title\": \"Seaside\",\n",
      "            \"source\": \"roots_collections\",\n",
      "            \"path\": \"https://www.roots.gov.sg/Collection-Landing/listing/1031168\",\n",
      "            \"content\": \"Born in Fujian Province, Liu Kang (1911-2004) received his formal training in Shanghai Academy of Fine Art, where he was exposed to Chinese paintings. In 1928, he went to Paris where he was influenced by art movements such as Fauvism and Post-Impressionism. Not only was he one of Singapore\\u2019s pioneer artists, he was also a leading figure in the Society of Chinese Artists and the Singapore Art Society. In 1970, he was awarded the Public Service Star for his contributions in the field of art.An accomplished oil and pastel artist, this is a rare watercolour by Liu. This work is also rare on another account\\u2014the unusually heavy linework. The multi-tiered roof structure in the distance suggests that the location is Bali.\",\n",
      "            \"lastModifiedDate\": \"04/08/2021\",\n",
      "            \"metadata\": {\n",
      "                \"creator\": \"Liu Kang\",\n",
      "                \"date_period\": \"1953\",\n",
      "                \"image_url\": \"https://www.roots.gov.sg/CollectionImages/1031168.jpg\",\n",
      "                \"accession_no\": \"2003-03474\",\n",
      "                \"pageId\": \"1031168\",\n",
      "                \"credit_line\": \"Gift of the artist\\u2019s family\",\n",
      "                \"rootsUuid\": \"dae5664a11e64aa0b16608bcb764a6b7\",\n",
      "                \"collection_of\": \"National Gallery Singapore\",\n",
      "                \"material\": [\n",
      "                    \"Watercolour on paper\"\n",
      "                ],\n",
      "                \"nlb_type\": \"Painting\",\n",
      "                \"categories\": [\n",
      "                    \"\"\n",
      "                ],\n",
      "                \"region\": \"Singapore\",\n",
      "                \"dimension\": \"Image size: 39 x 56 cm Frame size: Unframed\"\n",
      "            },\n",
      "            \"docFormat\": \"html\",\n",
      "            \"highlight\": \"\",\n",
      "            \"tags\": {\n",
      "                \"country\": [\n",
      "                    \"Singapore\"\n",
      "                ],\n",
      "                \"material\": [\n",
      "                    \"Watercolour\",\n",
      "                    \"Paper\"\n",
      "                ],\n",
      "                \"city\": [\n",
      "                    \"Singapore\"\n",
      "                ],\n",
      "                \"subject\": [\n",
      "                    \"Training\",\n",
      "                    \"Liu, Kang, 1911-2004\",\n",
      "                    \"Art\",\n",
      "                    \"Paintings\",\n",
      "                    \"Work\",\n",
      "                    \"Chinese\",\n",
      "                    \"Artists\"\n",
      "                ],\n",
      "                \"geographics\": [\n",
      "                    \"Pioneer\"\n",
      "                ],\n",
      "                \"person\": [\n",
      "                    \"Liu, Kang\"\n",
      "                ],\n",
      "                \"organisation\": [\n",
      "                    \"Singapore Art Society\",\n",
      "                    \"The Society of Chinese Artists\"\n",
      "                ],\n",
      "                \"topic\": [\n",
      "                    \"country\",\n",
      "                    \"material\",\n",
      "                    \"city\",\n",
      "                    \"subject\",\n",
      "                    \"geographics\",\n",
      "                    \"person\",\n",
      "                    \"organisation\",\n",
      "                    \"singheritage\",\n",
      "                    \"collection\"\n",
      "                ],\n",
      "                \"singheritage\": [\n",
      "                    \"Artists\"\n",
      "                ],\n",
      "                \"collection\": [\n",
      "                    \"National Gallery Singapore\"\n",
      "                ]\n",
      "            }\n",
      "        }\n",
      "    ],\n",
      "    \"id\": \"875069682\",\n",
      "    \"total\": 4706,\n",
      "    \"size\": 1\n",
      "}\n"
     ]
    }
   ],
   "source": [
    "import json\n",
    "\n",
    "res_json = json.dumps(data, indent=4)\n",
    "print(res_json)"
   ]
  },
  {
   "cell_type": "code",
   "execution_count": 189,
   "id": "2340476d",
   "metadata": {
    "ExecuteTime": {
     "end_time": "2023-02-07T13:46:03.646349Z",
     "start_time": "2023-02-07T13:46:03.636530Z"
    }
   },
   "outputs": [
    {
     "ename": "TypeError",
     "evalue": "list indices must be integers or slices, not str",
     "output_type": "error",
     "traceback": [
      "\u001b[0;31m---------------------------------------------------------------------------\u001b[0m",
      "\u001b[0;31mTypeError\u001b[0m                                 Traceback (most recent call last)",
      "Input \u001b[0;32mIn [189]\u001b[0m, in \u001b[0;36m<cell line: 1>\u001b[0;34m()\u001b[0m\n\u001b[0;32m----> 1\u001b[0m \u001b[43mdata\u001b[49m\u001b[43m[\u001b[49m\u001b[38;5;124;43m'\u001b[39;49m\u001b[38;5;124;43mdocuments\u001b[39;49m\u001b[38;5;124;43m'\u001b[39;49m\u001b[43m]\u001b[49m\u001b[43m[\u001b[49m\u001b[38;5;124;43m'\u001b[39;49m\u001b[38;5;124;43mid\u001b[39;49m\u001b[38;5;124;43m'\u001b[39;49m\u001b[43m]\u001b[49m\n",
      "\u001b[0;31mTypeError\u001b[0m: list indices must be integers or slices, not str"
     ]
    }
   ],
   "source": [
    "data['documents']['id']"
   ]
  },
  {
   "cell_type": "code",
   "execution_count": 187,
   "id": "ef8e2221",
   "metadata": {
    "ExecuteTime": {
     "end_time": "2023-02-07T13:45:50.728534Z",
     "start_time": "2023-02-07T13:45:50.722353Z"
    }
   },
   "outputs": [
    {
     "name": "stdout",
     "output_type": "stream",
     "text": [
      "                                     id    title             source  \\\n",
      "0  DAE5664A-11E6-4AA0-B166-08BCB764A6B7  Seaside  roots_collections   \n",
      "\n",
      "                                                path  \\\n",
      "0  https://www.roots.gov.sg/Collection-Landing/li...   \n",
      "\n",
      "                                             content lastModifiedDate  \\\n",
      "0  Born in Fujian Province, Liu Kang (1911-2004) ...       04/08/2021   \n",
      "\n",
      "                                            metadata docFormat highlight  \\\n",
      "0  {'creator': 'Liu Kang', 'date_period': '1953',...      html             \n",
      "\n",
      "                                                tags  \n",
      "0  {'country': ['Singapore'], 'material': ['Water...  \n"
     ]
    }
   ],
   "source": [
    "df = pd.DataFrame(data['documents'])\n",
    "print(df)"
   ]
  },
  {
   "cell_type": "code",
   "execution_count": 179,
   "id": "faa1d7e1",
   "metadata": {
    "ExecuteTime": {
     "end_time": "2023-02-07T13:40:37.629489Z",
     "start_time": "2023-02-07T13:40:37.626160Z"
    }
   },
   "outputs": [
    {
     "data": {
      "text/plain": [
       "'s'"
      ]
     },
     "execution_count": 179,
     "metadata": {},
     "output_type": "execute_result"
    }
   ],
   "source": [
    "res_json[10]"
   ]
  },
  {
   "cell_type": "code",
   "execution_count": 115,
   "id": "286bb77f",
   "metadata": {
    "ExecuteTime": {
     "end_time": "2023-02-06T15:43:57.411925Z",
     "start_time": "2023-02-06T15:43:57.409588Z"
    }
   },
   "outputs": [],
   "source": [
    "s = data['documents']"
   ]
  },
  {
   "cell_type": "code",
   "execution_count": 120,
   "id": "5fcadb84",
   "metadata": {
    "ExecuteTime": {
     "end_time": "2023-02-06T15:44:50.240232Z",
     "start_time": "2023-02-06T15:44:50.229585Z"
    }
   },
   "outputs": [
    {
     "ename": "NameError",
     "evalue": "name 'reduce' is not defined",
     "output_type": "error",
     "traceback": [
      "\u001b[0;31m---------------------------------------------------------------------------\u001b[0m",
      "\u001b[0;31mNameError\u001b[0m                                 Traceback (most recent call last)",
      "Input \u001b[0;32mIn [120]\u001b[0m, in \u001b[0;36m<cell line: 1>\u001b[0;34m()\u001b[0m\n\u001b[0;32m----> 1\u001b[0m listToStr \u001b[38;5;241m=\u001b[39m \u001b[43mreduce\u001b[49m(\u001b[38;5;28;01mlambda\u001b[39;00m a, b : a\u001b[38;5;241m+\u001b[39m \u001b[38;5;124m\"\u001b[39m\u001b[38;5;124m \u001b[39m\u001b[38;5;124m\"\u001b[39m \u001b[38;5;241m+\u001b[39m\u001b[38;5;28mstr\u001b[39m(b), s)\n\u001b[1;32m      3\u001b[0m \u001b[38;5;28mprint\u001b[39m(listToStr)\n",
      "\u001b[0;31mNameError\u001b[0m: name 'reduce' is not defined"
     ]
    }
   ],
   "source": [
    "listToStr = reduce(lambda a, b : a+ \" \" +str(b), s)\n",
    " \n",
    "print(listToStr)"
   ]
  },
  {
   "cell_type": "code",
   "execution_count": 93,
   "id": "9d475c12",
   "metadata": {
    "ExecuteTime": {
     "end_time": "2023-02-06T15:35:34.067831Z",
     "start_time": "2023-02-06T15:35:34.056619Z"
    }
   },
   "outputs": [
    {
     "ename": "AttributeError",
     "evalue": "'dict' object has no attribute 'strip'",
     "output_type": "error",
     "traceback": [
      "\u001b[0;31m---------------------------------------------------------------------------\u001b[0m",
      "\u001b[0;31mAttributeError\u001b[0m                            Traceback (most recent call last)",
      "Input \u001b[0;32mIn [93]\u001b[0m, in \u001b[0;36m<cell line: 1>\u001b[0;34m()\u001b[0m\n\u001b[1;32m      1\u001b[0m \u001b[38;5;28;01mfor\u001b[39;00m line \u001b[38;5;129;01min\u001b[39;00m data[\u001b[38;5;124m'\u001b[39m\u001b[38;5;124mdocuments\u001b[39m\u001b[38;5;124m'\u001b[39m]:    \n\u001b[0;32m----> 2\u001b[0m     line \u001b[38;5;241m=\u001b[39m \u001b[43mline\u001b[49m\u001b[38;5;241;43m.\u001b[39;49m\u001b[43mstrip\u001b[49m()\n\u001b[1;32m      3\u001b[0m     lst\u001b[38;5;241m.\u001b[39mextend(line\u001b[38;5;241m.\u001b[39msplit())\n",
      "\u001b[0;31mAttributeError\u001b[0m: 'dict' object has no attribute 'strip'"
     ]
    }
   ],
   "source": [
    "for line in data['documents']:    \n",
    "    line = line.strip()\n",
    "    lst.extend(line.split())"
   ]
  },
  {
   "cell_type": "code",
   "execution_count": null,
   "id": "b27a7583",
   "metadata": {},
   "outputs": [],
   "source": []
  },
  {
   "cell_type": "code",
   "execution_count": 90,
   "id": "65025098",
   "metadata": {
    "ExecuteTime": {
     "end_time": "2023-02-06T15:33:41.167105Z",
     "start_time": "2023-02-06T15:33:41.164345Z"
    }
   },
   "outputs": [
    {
     "name": "stdout",
     "output_type": "stream",
     "text": [
      "[{'id': 'DAE5664A-11E6-4AA0-B166-08BCB764A6B7', 'title': 'Seaside', 'source': 'roots_collections', 'path': 'https://www.roots.gov.sg/Collection-Landing/listing/1031168', 'content': 'Born in Fujian Province, Liu Kang (1911-2004) received his formal training in Shanghai Academy of Fine Art, where he was exposed to Chinese paintings. In 1928, he went to Paris where he was influenced by art movements such as Fauvism and Post-Impressionism. Not only was he one of Singapore’s pioneer artists, he was also a leading figure in the Society of Chinese Artists and the Singapore Art Society. In 1970, he was awarded the Public Service Star for his contributions in the field of art.An accomplished oil and pastel artist, this is a rare watercolour by Liu. This work is also rare on another account—the unusually heavy linework. The multi-tiered roof structure in the distance suggests that the location is Bali.', 'lastModifiedDate': '04/08/2021', 'metadata': {'creator': 'Liu Kang', 'date_period': '1953', 'image_url': 'https://www.roots.gov.sg/CollectionImages/1031168.jpg', 'accession_no': '2003-03474', 'pageId': '1031168', 'credit_line': 'Gift of the artist’s family', 'rootsUuid': 'dae5664a11e64aa0b16608bcb764a6b7', 'collection_of': 'National Gallery Singapore', 'material': ['Watercolour on paper'], 'nlb_type': 'Painting', 'categories': [''], 'region': 'Singapore', 'dimension': 'Image size: 39 x 56 cm Frame size: Unframed'}, 'docFormat': 'html', 'highlight': '', 'tags': {'country': ['Singapore'], 'material': ['Watercolour', 'Paper'], 'city': ['Singapore'], 'subject': ['Training', 'Liu, Kang, 1911-2004', 'Art', 'Paintings', 'Work', 'Chinese', 'Artists'], 'geographics': ['Pioneer'], 'person': ['Liu, Kang'], 'organisation': ['Singapore Art Society', 'The Society of Chinese Artists'], 'topic': ['country', 'material', 'city', 'subject', 'geographics', 'person', 'organisation', 'singheritage', 'collection'], 'singheritage': ['Artists'], 'collection': ['National Gallery Singapore']}}]\n"
     ]
    }
   ],
   "source": [
    "matches = [match for match in test_lst if \"title\" in match]\n",
    " \n",
    "print(matches)"
   ]
  },
  {
   "cell_type": "code",
   "execution_count": null,
   "id": "3928fdec",
   "metadata": {},
   "outputs": [],
   "source": [
    "filter_object = filter(lambda a: 'title' in a, ls)\n",
    " \n",
    "# Convert the filter object to list\n",
    "print(list(filter_object))"
   ]
  },
  {
   "cell_type": "code",
   "execution_count": 89,
   "id": "54ccee92",
   "metadata": {
    "ExecuteTime": {
     "end_time": "2023-02-06T15:32:13.697380Z",
     "start_time": "2023-02-06T15:32:13.694648Z"
    }
   },
   "outputs": [
    {
     "name": "stdout",
     "output_type": "stream",
     "text": [
      "'AskPython' is there inside the list!\n"
     ]
    }
   ],
   "source": [
    "if any(\"title\" in word for word in test_lst):\n",
    "    print('\\'AskPython\\' is there inside the list!')\n",
    "else:\n",
    "    print('\\'AskPython\\' is not there inside the list')"
   ]
  },
  {
   "cell_type": "code",
   "execution_count": 88,
   "id": "18099a40",
   "metadata": {
    "ExecuteTime": {
     "end_time": "2023-02-06T15:31:42.376704Z",
     "start_time": "2023-02-06T15:31:42.366468Z"
    }
   },
   "outputs": [
    {
     "ename": "AttributeError",
     "evalue": "'list' object has no attribute 'find'",
     "output_type": "error",
     "traceback": [
      "\u001b[0;31m---------------------------------------------------------------------------\u001b[0m",
      "\u001b[0;31mAttributeError\u001b[0m                            Traceback (most recent call last)",
      "Input \u001b[0;32mIn [88]\u001b[0m, in \u001b[0;36m<cell line: 1>\u001b[0;34m()\u001b[0m\n\u001b[0;32m----> 1\u001b[0m search_fave_phrase \u001b[38;5;241m=\u001b[39m \u001b[43mtest_lst\u001b[49m\u001b[38;5;241;43m.\u001b[39;49m\u001b[43mfind\u001b[49m(\u001b[38;5;124m\"\u001b[39m\u001b[38;5;124mtitle\u001b[39m\u001b[38;5;124m\"\u001b[39m)\n\u001b[1;32m      3\u001b[0m \u001b[38;5;28mprint\u001b[39m(search_fave_phrase)\n",
      "\u001b[0;31mAttributeError\u001b[0m: 'list' object has no attribute 'find'"
     ]
    }
   ],
   "source": [
    "search_fave_phrase = test_lst.find(\"title\")\n",
    "\n",
    "print(search_fave_phrase)"
   ]
  },
  {
   "cell_type": "code",
   "execution_count": null,
   "id": "d8554708",
   "metadata": {},
   "outputs": [],
   "source": [
    "import re\n",
    "errors = []\n",
    "linenum = 0\n",
    "pattern = re.compile(\"title\", re.IGNORECASE)  # Compile a case-insensitive regex\n",
    "with open ('logfile.txt', 'rt') as myfile:    \n",
    "    for line in myfile:\n",
    "        linenum += 1\n",
    "        if pattern.search(line) != None:      # If a match is found \n",
    "            errors.append((linenum, line.rstrip('\\n')))\n",
    "for err in errors:                            # Iterate over the list of tuples\n",
    "    print(\"Line \" + str(err[0]) + \": \" + err[1])"
   ]
  },
  {
   "cell_type": "code",
   "execution_count": 73,
   "id": "4645fd04",
   "metadata": {
    "ExecuteTime": {
     "end_time": "2023-02-06T15:24:49.520861Z",
     "start_time": "2023-02-06T15:24:49.517846Z"
    }
   },
   "outputs": [
    {
     "data": {
      "text/plain": [
       "'E'"
      ]
     },
     "execution_count": 73,
     "metadata": {},
     "output_type": "execute_result"
    }
   ],
   "source": [
    "str[20]"
   ]
  },
  {
   "cell_type": "code",
   "execution_count": 51,
   "id": "e3393f05",
   "metadata": {
    "ExecuteTime": {
     "end_time": "2023-02-06T15:14:56.927497Z",
     "start_time": "2023-02-06T15:14:56.922018Z"
    },
    "scrolled": true
   },
   "outputs": [
    {
     "data": {
      "text/plain": [
       "0    {'id': 'DAE5664A-11E6-4AA0-B166-08BCB764A6B7',...\n",
       "Name: documents, dtype: object"
      ]
     },
     "execution_count": 51,
     "metadata": {},
     "output_type": "execute_result"
    }
   ],
   "source": [
    "response_df['documents']"
   ]
  },
  {
   "cell_type": "code",
   "execution_count": 49,
   "id": "9bbd32fa",
   "metadata": {
    "ExecuteTime": {
     "end_time": "2023-02-06T15:14:31.837223Z",
     "start_time": "2023-02-06T15:14:31.833221Z"
    }
   },
   "outputs": [
    {
     "data": {
      "text/plain": [
       "[{'id': 'DAE5664A-11E6-4AA0-B166-08BCB764A6B7',\n",
       "  'title': 'Seaside',\n",
       "  'source': 'roots_collections',\n",
       "  'path': 'https://www.roots.gov.sg/Collection-Landing/listing/1031168',\n",
       "  'content': 'Born in Fujian Province, Liu Kang (1911-2004) received his formal training in Shanghai Academy of Fine Art, where he was exposed to Chinese paintings. In 1928, he went to Paris where he was influenced by art movements such as Fauvism and Post-Impressionism. Not only was he one of Singapore’s pioneer artists, he was also a leading figure in the Society of Chinese Artists and the Singapore Art Society. In 1970, he was awarded the Public Service Star for his contributions in the field of art.An accomplished oil and pastel artist, this is a rare watercolour by Liu. This work is also rare on another account—the unusually heavy linework. The multi-tiered roof structure in the distance suggests that the location is Bali.',\n",
       "  'lastModifiedDate': '04/08/2021',\n",
       "  'metadata': {'creator': 'Liu Kang',\n",
       "   'date_period': '1953',\n",
       "   'image_url': 'https://www.roots.gov.sg/CollectionImages/1031168.jpg',\n",
       "   'accession_no': '2003-03474',\n",
       "   'pageId': '1031168',\n",
       "   'credit_line': 'Gift of the artist’s family',\n",
       "   'rootsUuid': 'dae5664a11e64aa0b16608bcb764a6b7',\n",
       "   'collection_of': 'National Gallery Singapore',\n",
       "   'material': ['Watercolour on paper'],\n",
       "   'nlb_type': 'Painting',\n",
       "   'categories': [''],\n",
       "   'region': 'Singapore',\n",
       "   'dimension': 'Image size: 39 x 56 cm Frame size: Unframed'},\n",
       "  'docFormat': 'html',\n",
       "  'highlight': '',\n",
       "  'tags': {'country': ['Singapore'],\n",
       "   'material': ['Watercolour', 'Paper'],\n",
       "   'city': ['Singapore'],\n",
       "   'subject': ['Training',\n",
       "    'Liu, Kang, 1911-2004',\n",
       "    'Art',\n",
       "    'Paintings',\n",
       "    'Work',\n",
       "    'Chinese',\n",
       "    'Artists'],\n",
       "   'geographics': ['Pioneer'],\n",
       "   'person': ['Liu, Kang'],\n",
       "   'organisation': ['Singapore Art Society', 'The Society of Chinese Artists'],\n",
       "   'topic': ['country',\n",
       "    'material',\n",
       "    'city',\n",
       "    'subject',\n",
       "    'geographics',\n",
       "    'person',\n",
       "    'organisation',\n",
       "    'singheritage',\n",
       "    'collection'],\n",
       "   'singheritage': ['Artists'],\n",
       "   'collection': ['National Gallery Singapore']}}]"
      ]
     },
     "execution_count": 49,
     "metadata": {},
     "output_type": "execute_result"
    }
   ],
   "source": [
    "data['documents']"
   ]
  },
  {
   "cell_type": "code",
   "execution_count": 31,
   "id": "e78c82c6",
   "metadata": {
    "ExecuteTime": {
     "end_time": "2023-02-06T15:06:09.388858Z",
     "start_time": "2023-02-06T15:06:09.385209Z"
    },
    "scrolled": true
   },
   "outputs": [
    {
     "data": {
      "text/plain": [
       "'{\"documents\":[{\"id\":\"DAE5664A-11E6-4AA0-B166-08BCB764A6B7\",\"title\":\"Seaside\",\"source\":\"roots_collections\",\"path\":\"https://www.roots.gov.sg/Collection-Landing/listing/1031168\",\"content\":\"Born in Fujian Province, Liu Kang (1911-2004) received his formal training in Shanghai Academy of Fine Art, where he was exposed to Chinese paintings. In 1928, he went to Paris where he was influenced by art movements such as Fauvism and Post-Impressionism. Not only was he one of Singapore’s pioneer artists, he was also a leading figure in the Society of Chinese Artists and the Singapore Art Society. In 1970, he was awarded the Public Service Star for his contributions in the field of art.An accomplished oil and pastel artist, this is a rare watercolour by Liu. This work is also rare on another account—the unusually heavy linework. The multi-tiered roof structure in the distance suggests that the location is Bali.\",\"lastModifiedDate\":\"04/08/2021\",\"metadata\":{\"creator\":\"Liu Kang\",\"date_period\":\"1953\",\"image_url\":\"https://www.roots.gov.sg/CollectionImages/1031168.jpg\",\"accession_no\":\"2003-03474\",\"pageId\":\"1031168\",\"credit_line\":\"Gift of the artist’s family\",\"rootsUuid\":\"dae5664a11e64aa0b16608bcb764a6b7\",\"collection_of\":\"National Gallery Singapore\",\"material\":[\"Watercolour on paper\"],\"nlb_type\":\"Painting\",\"categories\":[\"\"],\"region\":\"Singapore\",\"dimension\":\"Image size: 39 x 56 cm Frame size: Unframed\"},\"docFormat\":\"html\",\"highlight\":\"\",\"tags\":{\"country\":[\"Singapore\"],\"material\":[\"Watercolour\",\"Paper\"],\"city\":[\"Singapore\"],\"subject\":[\"Training\",\"Liu, Kang, 1911-2004\",\"Art\",\"Paintings\",\"Work\",\"Chinese\",\"Artists\"],\"geographics\":[\"Pioneer\"],\"person\":[\"Liu, Kang\"],\"organisation\":[\"Singapore Art Society\",\"The Society of Chinese Artists\"],\"topic\":[\"country\",\"material\",\"city\",\"subject\",\"geographics\",\"person\",\"organisation\",\"singheritage\",\"collection\"],\"singheritage\":[\"Artists\"],\"collection\":[\"National Gallery Singapore\"]}}],\"id\":\"254026342\",\"total\":4706,\"size\":1}'"
      ]
     },
     "execution_count": 31,
     "metadata": {},
     "output_type": "execute_result"
    }
   ],
   "source": [
    "response.text"
   ]
  },
  {
   "cell_type": "code",
   "execution_count": 9,
   "id": "d8fe5cd1",
   "metadata": {
    "ExecuteTime": {
     "end_time": "2023-02-06T15:01:23.412138Z",
     "start_time": "2023-02-06T15:01:23.401001Z"
    }
   },
   "outputs": [],
   "source": [
    "df = pd.read_csv('../raw_data/df_10K_copy.csv')"
   ]
  },
  {
   "cell_type": "code",
   "execution_count": 10,
   "id": "1e2b46b7",
   "metadata": {
    "ExecuteTime": {
     "end_time": "2023-02-06T15:01:29.037494Z",
     "start_time": "2023-02-06T15:01:29.019859Z"
    }
   },
   "outputs": [
    {
     "data": {
      "text/html": [
       "<div>\n",
       "<style scoped>\n",
       "    .dataframe tbody tr th:only-of-type {\n",
       "        vertical-align: middle;\n",
       "    }\n",
       "\n",
       "    .dataframe tbody tr th {\n",
       "        vertical-align: top;\n",
       "    }\n",
       "\n",
       "    .dataframe thead th {\n",
       "        text-align: right;\n",
       "    }\n",
       "</style>\n",
       "<table border=\"1\" class=\"dataframe\">\n",
       "  <thead>\n",
       "    <tr style=\"text-align: right;\">\n",
       "      <th></th>\n",
       "      <th>id</th>\n",
       "      <th>0</th>\n",
       "      <th>1</th>\n",
       "      <th>2</th>\n",
       "      <th>3</th>\n",
       "      <th>4</th>\n",
       "      <th>5</th>\n",
       "    </tr>\n",
       "  </thead>\n",
       "  <tbody>\n",
       "    <tr>\n",
       "      <th>0</th>\n",
       "      <td>2012-00335</td>\n",
       "      <td>#c6b089</td>\n",
       "      <td>#6f6457</td>\n",
       "      <td>#dfc499</td>\n",
       "      <td>#9f8871</td>\n",
       "      <td>NaN</td>\n",
       "      <td>NaN</td>\n",
       "    </tr>\n",
       "    <tr>\n",
       "      <th>1</th>\n",
       "      <td>2010-01385</td>\n",
       "      <td>#656559</td>\n",
       "      <td>#d9bd3f</td>\n",
       "      <td>#383d37</td>\n",
       "      <td>#136949</td>\n",
       "      <td>#b0726b</td>\n",
       "      <td>NaN</td>\n",
       "    </tr>\n",
       "    <tr>\n",
       "      <th>2</th>\n",
       "      <td>2015-00358</td>\n",
       "      <td>#ebb87e</td>\n",
       "      <td>#534332</td>\n",
       "      <td>#c59962</td>\n",
       "      <td>#8d6e47</td>\n",
       "      <td>NaN</td>\n",
       "      <td>NaN</td>\n",
       "    </tr>\n",
       "    <tr>\n",
       "      <th>3</th>\n",
       "      <td>2002-00783</td>\n",
       "      <td>#aeafa7</td>\n",
       "      <td>#7f665e</td>\n",
       "      <td>#5c514e</td>\n",
       "      <td>#99887c</td>\n",
       "      <td>NaN</td>\n",
       "      <td>NaN</td>\n",
       "    </tr>\n",
       "    <tr>\n",
       "      <th>4</th>\n",
       "      <td>2016-00456</td>\n",
       "      <td>#3d3a36</td>\n",
       "      <td>#e3dbd0</td>\n",
       "      <td>#857e74</td>\n",
       "      <td>#c1b9ae</td>\n",
       "      <td>NaN</td>\n",
       "      <td>NaN</td>\n",
       "    </tr>\n",
       "    <tr>\n",
       "      <th>...</th>\n",
       "      <td>...</td>\n",
       "      <td>...</td>\n",
       "      <td>...</td>\n",
       "      <td>...</td>\n",
       "      <td>...</td>\n",
       "      <td>...</td>\n",
       "      <td>...</td>\n",
       "    </tr>\n",
       "    <tr>\n",
       "      <th>4375</th>\n",
       "      <td>2012-00261</td>\n",
       "      <td>#484a49</td>\n",
       "      <td>#f0ece3</td>\n",
       "      <td>#80807d</td>\n",
       "      <td>#bbbbb6</td>\n",
       "      <td>NaN</td>\n",
       "      <td>NaN</td>\n",
       "    </tr>\n",
       "    <tr>\n",
       "      <th>4376</th>\n",
       "      <td>2009-03342</td>\n",
       "      <td>#dcceb8</td>\n",
       "      <td>#9d917e</td>\n",
       "      <td>#baae99</td>\n",
       "      <td>#827668</td>\n",
       "      <td>NaN</td>\n",
       "      <td>NaN</td>\n",
       "    </tr>\n",
       "    <tr>\n",
       "      <th>4377</th>\n",
       "      <td>2010-04023</td>\n",
       "      <td>#201c20</td>\n",
       "      <td>#c0ab92</td>\n",
       "      <td>#8b7059</td>\n",
       "      <td>#ae9478</td>\n",
       "      <td>NaN</td>\n",
       "      <td>NaN</td>\n",
       "    </tr>\n",
       "    <tr>\n",
       "      <th>4378</th>\n",
       "      <td>2016-00196</td>\n",
       "      <td>#202626</td>\n",
       "      <td>#627677</td>\n",
       "      <td>#394544</td>\n",
       "      <td>#151717</td>\n",
       "      <td>NaN</td>\n",
       "      <td>NaN</td>\n",
       "    </tr>\n",
       "    <tr>\n",
       "      <th>4379</th>\n",
       "      <td>2003-03695</td>\n",
       "      <td>#adb3aa</td>\n",
       "      <td>#776259</td>\n",
       "      <td>#b9645d</td>\n",
       "      <td>#d2c0ac</td>\n",
       "      <td>#81908f</td>\n",
       "      <td>#c7977d</td>\n",
       "    </tr>\n",
       "  </tbody>\n",
       "</table>\n",
       "<p>4380 rows × 7 columns</p>\n",
       "</div>"
      ],
      "text/plain": [
       "              id        0        1        2        3        4        5\n",
       "0     2012-00335  #c6b089  #6f6457  #dfc499  #9f8871      NaN      NaN\n",
       "1     2010-01385  #656559  #d9bd3f  #383d37  #136949  #b0726b      NaN\n",
       "2     2015-00358  #ebb87e  #534332  #c59962  #8d6e47      NaN      NaN\n",
       "3     2002-00783  #aeafa7  #7f665e  #5c514e  #99887c      NaN      NaN\n",
       "4     2016-00456  #3d3a36  #e3dbd0  #857e74  #c1b9ae      NaN      NaN\n",
       "...          ...      ...      ...      ...      ...      ...      ...\n",
       "4375  2012-00261  #484a49  #f0ece3  #80807d  #bbbbb6      NaN      NaN\n",
       "4376  2009-03342  #dcceb8  #9d917e  #baae99  #827668      NaN      NaN\n",
       "4377  2010-04023  #201c20  #c0ab92  #8b7059  #ae9478      NaN      NaN\n",
       "4378  2016-00196  #202626  #627677  #394544  #151717      NaN      NaN\n",
       "4379  2003-03695  #adb3aa  #776259  #b9645d  #d2c0ac  #81908f  #c7977d\n",
       "\n",
       "[4380 rows x 7 columns]"
      ]
     },
     "execution_count": 10,
     "metadata": {},
     "output_type": "execute_result"
    }
   ],
   "source": [
    "df"
   ]
  },
  {
   "cell_type": "code",
   "execution_count": 134,
   "id": "c5672e1b",
   "metadata": {
    "ExecuteTime": {
     "end_time": "2023-02-06T15:49:10.979102Z",
     "start_time": "2023-02-06T15:49:10.976256Z"
    }
   },
   "outputs": [],
   "source": [
    "import re\n",
    "\n",
    "rx_dict = {\n",
    "    'title': re.compile(r'Title = (?P<title>.*)\\n'),\n",
    "    'content': re.compile(r'Content = (?P<content>\\d+)\\n'),\n",
    "}"
   ]
  },
  {
   "cell_type": "code",
   "execution_count": 139,
   "id": "46897d3f",
   "metadata": {
    "ExecuteTime": {
     "end_time": "2023-02-06T15:51:06.189501Z",
     "start_time": "2023-02-06T15:51:06.186226Z"
    },
    "scrolled": true
   },
   "outputs": [
    {
     "data": {
      "text/plain": [
       "{'title': re.compile(r'Title = (?P<title>.*)\\n', re.UNICODE),\n",
       " 'content': re.compile(r'Content = (?P<content>\\d+)\\n', re.UNICODE)}"
      ]
     },
     "execution_count": 139,
     "metadata": {},
     "output_type": "execute_result"
    }
   ],
   "source": [
    "rx_dict"
   ]
  },
  {
   "cell_type": "code",
   "execution_count": 143,
   "id": "a9c4fb45",
   "metadata": {
    "ExecuteTime": {
     "end_time": "2023-02-06T15:51:56.115417Z",
     "start_time": "2023-02-06T15:51:56.112582Z"
    }
   },
   "outputs": [
    {
     "name": "stdout",
     "output_type": "stream",
     "text": [
      "None\n",
      "None\n"
     ]
    }
   ],
   "source": [
    "for key, rx in rx_dict.items():\n",
    "    match = rx.search(res_decoded)\n",
    "    print(match)"
   ]
  },
  {
   "cell_type": "code",
   "execution_count": 140,
   "id": "f93e823f",
   "metadata": {
    "ExecuteTime": {
     "end_time": "2023-02-06T15:51:22.804009Z",
     "start_time": "2023-02-06T15:51:22.801141Z"
    }
   },
   "outputs": [],
   "source": [
    "def parse_line(line):\n",
    "    \"\"\"\n",
    "    Do a regex search against all defined regexes and\n",
    "    return the key and match result of the first matching regex\n",
    "\n",
    "    \"\"\"\n",
    "\n",
    "    for key, rx in rx_dict.items():\n",
    "        match = rx.search(line)\n",
    "        if match:\n",
    "            return key, match\n",
    "    # if there are no matches\n",
    "    return None, None"
   ]
  },
  {
   "cell_type": "code",
   "execution_count": 141,
   "id": "6f788885",
   "metadata": {
    "ExecuteTime": {
     "end_time": "2023-02-06T15:51:23.114440Z",
     "start_time": "2023-02-06T15:51:23.110954Z"
    }
   },
   "outputs": [
    {
     "data": {
      "text/plain": [
       "(None, None)"
      ]
     },
     "execution_count": 141,
     "metadata": {},
     "output_type": "execute_result"
    }
   ],
   "source": [
    "parse_line(res_decoded)"
   ]
  },
  {
   "cell_type": "code",
   "execution_count": 136,
   "id": "19fe30df",
   "metadata": {
    "ExecuteTime": {
     "end_time": "2023-02-06T15:50:02.655415Z",
     "start_time": "2023-02-06T15:50:02.650587Z"
    }
   },
   "outputs": [],
   "source": [
    "def parse_file(filepath):\n",
    "    \"\"\"\n",
    "    Parse text at given filepath\n",
    "\n",
    "    Parameters\n",
    "    ----------\n",
    "    filepath : str\n",
    "        Filepath for file_object to be parsed\n",
    "\n",
    "    Returns\n",
    "    -------\n",
    "    data : pd.DataFrame\n",
    "        Parsed data\n",
    "\n",
    "    \"\"\"\n",
    "\n",
    "    data = []  # create an empty list to collect the data\n",
    "    # open the file and read through it line by line\n",
    "    with open(filepath, 'r') as file_object:\n",
    "        line = file_object.readline()\n",
    "        while line:\n",
    "            # at each line check for a match with a regex\n",
    "            key, match = _parse_line(line)\n",
    "\n",
    "            # extract school name\n",
    "            if key == 'school':\n",
    "                school = match.group('school')\n",
    "\n",
    "            # extract grade\n",
    "            if key == 'grade':\n",
    "                grade = match.group('grade')\n",
    "                grade = int(grade)\n",
    "\n",
    "            # identify a table header \n",
    "            if key == 'name_score':\n",
    "                # extract type of table, i.e., Name or Score\n",
    "                value_type = match.group('name_score')\n",
    "                line = file_object.readline()\n",
    "                # read each line of the table until a blank line\n",
    "                while line.strip():\n",
    "                    # extract number and value\n",
    "                    number, value = line.strip().split(',')\n",
    "                    value = value.strip()\n",
    "                    # create a dictionary containing this row of data\n",
    "                    row = {\n",
    "                        'School': school,\n",
    "                        'Grade': grade,\n",
    "                        'Student number': number,\n",
    "                        value_type: value\n",
    "                    }\n",
    "                    # append the dictionary to the data list\n",
    "                    data.append(row)\n",
    "                    line = file_object.readline()\n",
    "\n",
    "            line = file_object.readline()\n",
    "\n",
    "        # create a pandas DataFrame from the list of dicts\n",
    "        data = pd.DataFrame(data)\n",
    "        # set the School, Grade, and Student number as the index\n",
    "        data.set_index(['School', 'Grade', 'Student number'], inplace=True)\n",
    "        # consolidate df to remove nans\n",
    "        data = data.groupby(level=data.index.names).first()\n",
    "        # upgrade Score from float to integer\n",
    "        data = data.apply(pd.to_numeric, errors='ignore')\n",
    "    return data"
   ]
  },
  {
   "cell_type": "code",
   "execution_count": 137,
   "id": "fd2c2a60",
   "metadata": {
    "ExecuteTime": {
     "end_time": "2023-02-06T15:50:03.931607Z",
     "start_time": "2023-02-06T15:50:03.920719Z"
    }
   },
   "outputs": [
    {
     "ename": "NameError",
     "evalue": "name 'parse' is not defined",
     "output_type": "error",
     "traceback": [
      "\u001b[0;31m---------------------------------------------------------------------------\u001b[0m",
      "\u001b[0;31mNameError\u001b[0m                                 Traceback (most recent call last)",
      "Input \u001b[0;32mIn [137]\u001b[0m, in \u001b[0;36m<cell line: 1>\u001b[0;34m()\u001b[0m\n\u001b[1;32m      1\u001b[0m \u001b[38;5;28;01mif\u001b[39;00m \u001b[38;5;18m__name__\u001b[39m \u001b[38;5;241m==\u001b[39m \u001b[38;5;124m'\u001b[39m\u001b[38;5;124m__main__\u001b[39m\u001b[38;5;124m'\u001b[39m:\n\u001b[1;32m      2\u001b[0m     filepath \u001b[38;5;241m=\u001b[39m \u001b[38;5;124m'\u001b[39m\u001b[38;5;124msample.txt\u001b[39m\u001b[38;5;124m'\u001b[39m\n\u001b[0;32m----> 3\u001b[0m     data \u001b[38;5;241m=\u001b[39m \u001b[43mparse\u001b[49m(filepath)\n\u001b[1;32m      4\u001b[0m     \u001b[38;5;28mprint\u001b[39m(data)\n",
      "\u001b[0;31mNameError\u001b[0m: name 'parse' is not defined"
     ]
    }
   ],
   "source": [
    "if __name__ == '__main__':\n",
    "    filepath = 'sample.txt'\n",
    "    data = parse(filepath)\n",
    "    print(data)"
   ]
  },
  {
   "cell_type": "code",
   "execution_count": null,
   "id": "df2068de",
   "metadata": {},
   "outputs": [],
   "source": []
  }
 ],
 "metadata": {
  "kernelspec": {
   "display_name": "Python 3 (ipykernel)",
   "language": "python",
   "name": "python3"
  },
  "language_info": {
   "codemirror_mode": {
    "name": "ipython",
    "version": 3
   },
   "file_extension": ".py",
   "mimetype": "text/x-python",
   "name": "python",
   "nbconvert_exporter": "python",
   "pygments_lexer": "ipython3",
   "version": "3.8.12"
  },
  "toc": {
   "base_numbering": 1,
   "nav_menu": {},
   "number_sections": true,
   "sideBar": true,
   "skip_h1_title": false,
   "title_cell": "Table of Contents",
   "title_sidebar": "Contents",
   "toc_cell": false,
   "toc_position": {},
   "toc_section_display": true,
   "toc_window_display": false
  }
 },
 "nbformat": 4,
 "nbformat_minor": 5
}

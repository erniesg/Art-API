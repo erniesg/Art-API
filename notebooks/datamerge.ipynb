{
 "cells": [
  {
   "cell_type": "markdown",
   "id": "d8c76f4c",
   "metadata": {},
   "source": [
    "# Merge data from multiple sources using artwork ID"
   ]
  },
  {
   "cell_type": "code",
   "execution_count": 121,
   "id": "045ae082",
   "metadata": {
    "ExecuteTime": {
     "end_time": "2023-02-06T15:46:06.350485Z",
     "start_time": "2023-02-06T15:46:06.035153Z"
    }
   },
   "outputs": [
    {
     "name": "stdout",
     "output_type": "stream",
     "text": [
      "{\"documents\":[{\"id\":\"DAE5664A-11E6-4AA0-B166-08BCB764A6B7\",\"title\":\"Seaside\",\"source\":\"roots_collections\",\"path\":\"https://www.roots.gov.sg/Collection-Landing/listing/1031168\",\"content\":\"Born in Fujian Province, Liu Kang (1911-2004) received his formal training in Shanghai Academy of Fine Art, where he was exposed to Chinese paintings. In 1928, he went to Paris where he was influenced by art movements such as Fauvism and Post-Impressionism. Not only was he one of Singapore’s pioneer artists, he was also a leading figure in the Society of Chinese Artists and the Singapore Art Society. In 1970, he was awarded the Public Service Star for his contributions in the field of art.An accomplished oil and pastel artist, this is a rare watercolour by Liu. This work is also rare on another account—the unusually heavy linework. The multi-tiered roof structure in the distance suggests that the location is Bali.\",\"lastModifiedDate\":\"04/08/2021\",\"metadata\":{\"creator\":\"Liu Kang\",\"date_period\":\"1953\",\"image_url\":\"https://www.roots.gov.sg/CollectionImages/1031168.jpg\",\"accession_no\":\"2003-03474\",\"pageId\":\"1031168\",\"credit_line\":\"Gift of the artist’s family\",\"rootsUuid\":\"dae5664a11e64aa0b16608bcb764a6b7\",\"collection_of\":\"National Gallery Singapore\",\"material\":[\"Watercolour on paper\"],\"nlb_type\":\"Painting\",\"categories\":[\"\"],\"region\":\"Singapore\",\"dimension\":\"Image size: 39 x 56 cm Frame size: Unframed\"},\"docFormat\":\"html\",\"highlight\":\"\",\"tags\":{\"country\":[\"Singapore\"],\"material\":[\"Watercolour\",\"Paper\"],\"city\":[\"Singapore\"],\"subject\":[\"Training\",\"Liu, Kang, 1911-2004\",\"Art\",\"Paintings\",\"Work\",\"Chinese\",\"Artists\"],\"geographics\":[\"Pioneer\"],\"person\":[\"Liu, Kang\"],\"organisation\":[\"Singapore Art Society\",\"The Society of Chinese Artists\"],\"topic\":[\"country\",\"material\",\"city\",\"subject\",\"geographics\",\"person\",\"organisation\",\"singheritage\",\"collection\"],\"singheritage\":[\"Artists\"],\"collection\":[\"National Gallery Singapore\"]}}],\"id\":\"623613506\",\"total\":4706,\"size\":1}\n"
     ]
    }
   ],
   "source": [
    "import http.client\n",
    "import mimetypes\n",
    "from codecs import encode\n",
    "\n",
    "conn = http.client.HTTPSConnection(\"www.roots.gov.sg\")\n",
    "dataList = []\n",
    "boundary = 'wL36Yn8afVp8Ag7AmP8qZ0SA4n1v9T'\n",
    "dataList.append(encode('--' + boundary))\n",
    "dataList.append(encode('Content-Disposition: form-data; name=id;'))\n",
    "\n",
    "dataList.append(encode('Content-Type: {}'.format('text/plain')))\n",
    "dataList.append(encode(''))\n",
    "\n",
    "dataList.append(encode(\"\"))\n",
    "dataList.append(encode('--' + boundary))\n",
    "dataList.append(encode('Content-Disposition: form-data; name=topicsQuery[not][0][field];'))\n",
    "\n",
    "dataList.append(encode('Content-Type: {}'.format('text/plain')))\n",
    "dataList.append(encode(''))\n",
    "\n",
    "dataList.append(encode(\"source\"))\n",
    "dataList.append(encode('--' + boundary))\n",
    "dataList.append(encode('Content-Disposition: form-data; name=topicsQuery[not][0][value];'))\n",
    "\n",
    "dataList.append(encode('Content-Type: {}'.format('text/plain')))\n",
    "dataList.append(encode(''))\n",
    "\n",
    "dataList.append(encode(\"CSV\"))\n",
    "dataList.append(encode('--' + boundary))\n",
    "dataList.append(encode('Content-Disposition: form-data; name=query;'))\n",
    "\n",
    "dataList.append(encode('Content-Type: {}'.format('text/plain')))\n",
    "dataList.append(encode(''))\n",
    "\n",
    "dataList.append(encode(\"2003-03474\"))\n",
    "dataList.append(encode('--' + boundary))\n",
    "dataList.append(encode('Content-Disposition: form-data; name=from;'))\n",
    "\n",
    "dataList.append(encode('Content-Type: {}'.format('text/plain')))\n",
    "dataList.append(encode(''))\n",
    "\n",
    "dataList.append(encode(\"0\"))\n",
    "dataList.append(encode('--' + boundary))\n",
    "dataList.append(encode('Content-Disposition: form-data; name=size;'))\n",
    "\n",
    "dataList.append(encode('Content-Type: {}'.format('text/plain')))\n",
    "dataList.append(encode(''))\n",
    "\n",
    "dataList.append(encode(\"1\"))\n",
    "dataList.append(encode('--' + boundary))\n",
    "dataList.append(encode('Content-Disposition: form-data; name=searchMode;'))\n",
    "\n",
    "dataList.append(encode('Content-Type: {}'.format('text/plain')))\n",
    "dataList.append(encode(''))\n",
    "\n",
    "dataList.append(encode(\"NEW\"))\n",
    "dataList.append(encode('--'+boundary+'--'))\n",
    "dataList.append(encode(''))\n",
    "body = b'\\r\\n'.join(dataList)\n",
    "payload = body\n",
    "headers = {\n",
    "  'Cookie': 'AWSALB=kwXo1w7AkGdiGhsyiL/zuRx0O7Pnw6jpL4mnpPLw8Zk2YQcBjyQ2jr8gPHjfCSNyasXpQ9fr2HHC1FK3W2ZqXgVJEKkCMbLqXoS0N9p4jP1h9ZwRksuWSso1IFQ8; AWSALBCORS=kwXo1w7AkGdiGhsyiL/zuRx0O7Pnw6jpL4mnpPLw8Zk2YQcBjyQ2jr8gPHjfCSNyasXpQ9fr2HHC1FK3W2ZqXgVJEKkCMbLqXoS0N9p4jP1h9ZwRksuWSso1IFQ8; rp_www.roots.gov.sg=61e6528f68cf95598f0445134011e409',\n",
    "  'Content-type': 'multipart/form-data; boundary={}'.format(boundary)\n",
    "}\n",
    "conn.request(\"POST\", \"/get-search-results\", payload, headers)\n",
    "res = conn.getresponse()\n",
    "data_http = res.read()\n",
    "print(data_http.decode(\"utf-8\"))"
   ]
  },
  {
   "cell_type": "code",
   "execution_count": 127,
   "id": "f73950d4",
   "metadata": {
    "ExecuteTime": {
     "end_time": "2023-02-06T15:46:53.452823Z",
     "start_time": "2023-02-06T15:46:53.450342Z"
    }
   },
   "outputs": [],
   "source": [
    "res_decoded = data_http.decode(\"utf-8\")"
   ]
  },
  {
   "cell_type": "code",
   "execution_count": 169,
   "id": "8f4a1cf8",
   "metadata": {
    "ExecuteTime": {
     "end_time": "2023-02-06T16:08:45.784808Z",
     "start_time": "2023-02-06T16:08:45.781312Z"
    }
   },
   "outputs": [
    {
     "data": {
      "text/plain": [
       "'{\"documents\":[{\"id\":\"DAE5664A-11E6-4AA0-B166-08BCB764A6B7\",\"title\":\"Seaside\",\"source\":\"roots_collections\",\"path\":\"https://www.roots.gov.sg/Collection-Landing/listing/1031168\",\"content\":\"Born in Fujian Province, Liu Kang (1911-2004) received his formal training in Shanghai Academy of Fine Art, where he was exposed to Chinese paintings. In 1928, he went to Paris where he was influenced by art movements such as Fauvism and Post-Impressionism. Not only was he one of Singapore’s pioneer artists, he was also a leading figure in the Society of Chinese Artists and the Singapore Art Society. In 1970, he was awarded the Public Service Star for his contributions in the field of art.An accomplished oil and pastel artist, this is a rare watercolour by Liu. This work is also rare on another account—the unusually heavy linework. The multi-tiered roof structure in the distance suggests that the location is Bali.\",\"lastModifiedDate\":\"04/08/2021\",\"metadata\":{\"creator\":\"Liu Kang\",\"date_period\":\"1953\",\"image_url\":\"https://www.roots.gov.sg/CollectionImages/1031168.jpg\",\"accession_no\":\"2003-03474\",\"pageId\":\"1031168\",\"credit_line\":\"Gift of the artist’s family\",\"rootsUuid\":\"dae5664a11e64aa0b16608bcb764a6b7\",\"collection_of\":\"National Gallery Singapore\",\"material\":[\"Watercolour on paper\"],\"nlb_type\":\"Painting\",\"categories\":[\"\"],\"region\":\"Singapore\",\"dimension\":\"Image size: 39 x 56 cm Frame size: Unframed\"},\"docFormat\":\"html\",\"highlight\":\"\",\"tags\":{\"country\":[\"Singapore\"],\"material\":[\"Watercolour\",\"Paper\"],\"city\":[\"Singapore\"],\"subject\":[\"Training\",\"Liu, Kang, 1911-2004\",\"Art\",\"Paintings\",\"Work\",\"Chinese\",\"Artists\"],\"geographics\":[\"Pioneer\"],\"person\":[\"Liu, Kang\"],\"organisation\":[\"Singapore Art Society\",\"The Society of Chinese Artists\"],\"topic\":[\"country\",\"material\",\"city\",\"subject\",\"geographics\",\"person\",\"organisation\",\"singheritage\",\"collection\"],\"singheritage\":[\"Artists\"],\"collection\":[\"National Gallery Singapore\"]}}],\"id\":\"623613506\",\"total\":4706,\"size\":1}'"
      ]
     },
     "execution_count": 169,
     "metadata": {},
     "output_type": "execute_result"
    }
   ],
   "source": [
    "res_decoded"
   ]
  },
  {
   "cell_type": "code",
   "execution_count": 146,
   "id": "f671a5d4",
   "metadata": {
    "ExecuteTime": {
     "end_time": "2023-02-06T15:54:17.657167Z",
     "start_time": "2023-02-06T15:54:17.653877Z"
    }
   },
   "outputs": [
    {
     "data": {
      "text/plain": [
       "(60, 65)"
      ]
     },
     "execution_count": 146,
     "metadata": {},
     "output_type": "execute_result"
    }
   ],
   "source": [
    "re.search(r'\\btitle\\b',res_decoded).span()"
   ]
  },
  {
   "cell_type": "code",
   "execution_count": 157,
   "id": "58e799ba",
   "metadata": {
    "ExecuteTime": {
     "end_time": "2023-02-06T16:00:13.060300Z",
     "start_time": "2023-02-06T16:00:13.057908Z"
    }
   },
   "outputs": [
    {
     "name": "stdout",
     "output_type": "stream",
     "text": [
      "['{\"documents\":[{\"id\":\"DAE5664A-11E6-4AA0-B166-08BCB764A6B7', 'title\":\"Seaside', 'source\":\"roots_collections', 'path\":\"https://www.roots.gov.sg/Collection-Landing/listing/1031168', 'content\":\"Born in Fujian Province, Liu Kang (1911-2004) received his formal training in Shanghai Academy of Fine Art, where he was exposed to Chinese paintings. In 1928, he went to Paris where he was influenced by art movements such as Fauvism and Post-Impressionism. Not only was he one of Singapore’s pioneer artists, he was also a leading figure in the Society of Chinese Artists and the Singapore Art Society. In 1970, he was awarded the Public Service Star for his contributions in the field of art.An accomplished oil and pastel artist, this is a rare watercolour by Liu. This work is also rare on another account—the unusually heavy linework. The multi-tiered roof structure in the distance suggests that the location is Bali.', 'lastModifiedDate\":\"04/08/2021', 'metadata\":{\"creator\":\"Liu Kang', 'date_period\":\"1953', 'image_url\":\"https://www.roots.gov.sg/CollectionImages/1031168.jpg', 'accession_no\":\"2003-03474', 'pageId\":\"1031168', 'credit_line\":\"Gift of the artist’s family', 'rootsUuid\":\"dae5664a11e64aa0b16608bcb764a6b7', 'collection_of\":\"National Gallery Singapore', 'material\":[\"Watercolour on paper\"],\"nlb_type\":\"Painting', 'categories\":[\"\"],\"region\":\"Singapore', 'dimension\":\"Image size: 39 x 56 cm Frame size: Unframed\"},\"docFormat\":\"html', 'highlight\":\"', 'tags\":{\"country\":[\"Singapore\"],\"material\":[\"Watercolour', 'Paper\"],\"city\":[\"Singapore\"],\"subject\":[\"Training', 'Liu, Kang, 1911-2004', 'Art', 'Paintings', 'Work', 'Chinese', 'Artists\"],\"geographics\":[\"Pioneer\"],\"person\":[\"Liu, Kang\"],\"organisation\":[\"Singapore Art Society', 'The Society of Chinese Artists\"],\"topic\":[\"country', 'material', 'city', 'subject', 'geographics', 'person', 'organisation', 'singheritage', 'collection\"],\"singheritage\":[\"Artists\"],\"collection\":[\"National Gallery Singapore\"]}}],\"id\":\"623613506', 'total\":4706,\"size\":1}']\n"
     ]
    }
   ],
   "source": [
    "word_list = re.split(r'\",\"', res_decoded)\n",
    "print(word_list)"
   ]
  },
  {
   "cell_type": "code",
   "execution_count": 167,
   "id": "fcefba33",
   "metadata": {
    "ExecuteTime": {
     "end_time": "2023-02-06T16:06:06.636409Z",
     "start_time": "2023-02-06T16:06:06.633078Z"
    }
   },
   "outputs": [
    {
     "data": {
      "text/plain": [
       "36"
      ]
     },
     "execution_count": 167,
     "metadata": {},
     "output_type": "execute_result"
    }
   ],
   "source": [
    "len(word_list)"
   ]
  },
  {
   "cell_type": "code",
   "execution_count": 173,
   "id": "182becf5",
   "metadata": {
    "ExecuteTime": {
     "end_time": "2023-02-06T16:10:32.333099Z",
     "start_time": "2023-02-06T16:10:32.329847Z"
    }
   },
   "outputs": [
    {
     "data": {
      "text/plain": [
       "'title\":\"Seaside'"
      ]
     },
     "execution_count": 173,
     "metadata": {},
     "output_type": "execute_result"
    }
   ],
   "source": [
    "word_list[1]"
   ]
  },
  {
   "cell_type": "code",
   "execution_count": 176,
   "id": "a51fb796",
   "metadata": {
    "ExecuteTime": {
     "end_time": "2023-02-06T16:11:23.527178Z",
     "start_time": "2023-02-06T16:11:23.523757Z"
    }
   },
   "outputs": [
    {
     "data": {
      "text/plain": [
       "(0, 5)"
      ]
     },
     "execution_count": 176,
     "metadata": {},
     "output_type": "execute_result"
    }
   ],
   "source": [
    "re.search(r'\\btitle\\b',word_list[1]).span()"
   ]
  },
  {
   "cell_type": "markdown",
   "id": "ba674ecd",
   "metadata": {},
   "source": [
    "Extracting title"
   ]
  },
  {
   "cell_type": "code",
   "execution_count": 181,
   "id": "04ddded1",
   "metadata": {
    "ExecuteTime": {
     "end_time": "2023-02-06T16:12:17.089776Z",
     "start_time": "2023-02-06T16:12:17.086288Z"
    }
   },
   "outputs": [
    {
     "data": {
      "text/plain": [
       "'Seaside'"
      ]
     },
     "execution_count": 181,
     "metadata": {},
     "output_type": "execute_result"
    }
   ],
   "source": [
    "word_list[1][8:]"
   ]
  },
  {
   "cell_type": "markdown",
   "id": "3fa69c7a",
   "metadata": {
    "ExecuteTime": {
     "end_time": "2023-02-06T16:13:07.643339Z",
     "start_time": "2023-02-06T16:13:07.640482Z"
    }
   },
   "source": [
    "Extracting content"
   ]
  },
  {
   "cell_type": "code",
   "execution_count": 195,
   "id": "40c268de",
   "metadata": {
    "ExecuteTime": {
     "end_time": "2023-02-06T16:24:30.280789Z",
     "start_time": "2023-02-06T16:24:30.277181Z"
    },
    "scrolled": true
   },
   "outputs": [
    {
     "data": {
      "text/plain": [
       "(0, 7)"
      ]
     },
     "execution_count": 195,
     "metadata": {},
     "output_type": "execute_result"
    }
   ],
   "source": [
    "re.search(r'\\bcontent\\b',word_list[4]).span()"
   ]
  },
  {
   "cell_type": "code",
   "execution_count": 196,
   "id": "3cbf070b",
   "metadata": {
    "ExecuteTime": {
     "end_time": "2023-02-06T16:24:30.961267Z",
     "start_time": "2023-02-06T16:24:30.957921Z"
    }
   },
   "outputs": [
    {
     "data": {
      "text/plain": [
       "'Born in Fujian Province, Liu Kang (1911-2004) received his formal training in Shanghai Academy of Fine Art, where he was exposed to Chinese paintings. In 1928, he went to Paris where he was influenced by art movements such as Fauvism and Post-Impressionism. Not only was he one of Singapore’s pioneer artists, he was also a leading figure in the Society of Chinese Artists and the Singapore Art Society. In 1970, he was awarded the Public Service Star for his contributions in the field of art.An accomplished oil and pastel artist, this is a rare watercolour by Liu. This work is also rare on another account—the unusually heavy linework. The multi-tiered roof structure in the distance suggests that the location is Bali.'"
      ]
     },
     "execution_count": 196,
     "metadata": {},
     "output_type": "execute_result"
    }
   ],
   "source": [
    "word_list[4][10:]"
   ]
  },
  {
   "cell_type": "markdown",
   "id": "82adae54",
   "metadata": {
    "ExecuteTime": {
     "end_time": "2023-02-06T16:17:14.277342Z",
     "start_time": "2023-02-06T16:17:14.273990Z"
    }
   },
   "source": [
    "Extracting metadata[creator], metadata[date_period], metadata[materials] and metadata[region]"
   ]
  },
  {
   "cell_type": "code",
   "execution_count": 197,
   "id": "8646a8fb",
   "metadata": {
    "ExecuteTime": {
     "end_time": "2023-02-06T16:24:32.373082Z",
     "start_time": "2023-02-06T16:24:32.369581Z"
    }
   },
   "outputs": [
    {
     "data": {
      "text/plain": [
       "(12, 19)"
      ]
     },
     "execution_count": 197,
     "metadata": {},
     "output_type": "execute_result"
    }
   ],
   "source": [
    "re.search(r'\\bcreator\\b',word_list[6]).span()"
   ]
  },
  {
   "cell_type": "code",
   "execution_count": 198,
   "id": "0411fc55",
   "metadata": {
    "ExecuteTime": {
     "end_time": "2023-02-06T16:24:33.101153Z",
     "start_time": "2023-02-06T16:24:33.097859Z"
    }
   },
   "outputs": [
    {
     "data": {
      "text/plain": [
       "'Liu Kang'"
      ]
     },
     "execution_count": 198,
     "metadata": {},
     "output_type": "execute_result"
    }
   ],
   "source": [
    "word_list[6][22:]"
   ]
  },
  {
   "cell_type": "code",
   "execution_count": 200,
   "id": "4878766b",
   "metadata": {
    "ExecuteTime": {
     "end_time": "2023-02-06T16:25:36.096623Z",
     "start_time": "2023-02-06T16:25:36.093047Z"
    },
    "scrolled": true
   },
   "outputs": [
    {
     "data": {
      "text/plain": [
       "(0, 11)"
      ]
     },
     "execution_count": 200,
     "metadata": {},
     "output_type": "execute_result"
    }
   ],
   "source": [
    "re.search(r'\\bdate_period\\b',word_list[7]).span()"
   ]
  },
  {
   "cell_type": "code",
   "execution_count": 201,
   "id": "92f80402",
   "metadata": {
    "ExecuteTime": {
     "end_time": "2023-02-06T16:25:39.943212Z",
     "start_time": "2023-02-06T16:25:39.939906Z"
    }
   },
   "outputs": [
    {
     "data": {
      "text/plain": [
       "'1953'"
      ]
     },
     "execution_count": 201,
     "metadata": {},
     "output_type": "execute_result"
    }
   ],
   "source": [
    "word_list[7][14:]"
   ]
  },
  {
   "cell_type": "code",
   "execution_count": 166,
   "id": "a3b38f37",
   "metadata": {
    "ExecuteTime": {
     "end_time": "2023-02-06T16:06:04.922734Z",
     "start_time": "2023-02-06T16:06:04.919733Z"
    },
    "scrolled": true
   },
   "outputs": [
    {
     "name": "stdout",
     "output_type": "stream",
     "text": [
      "{\"documents\":[{\"id\":\"DAE5664A-11E6-4AA0-B166-08BCB764A6B7\n",
      "title\":\"Seaside\n",
      "source\":\"roots_collections\n",
      "path\":\"https://www.roots.gov.sg/Collection-Landing/listing/1031168\n",
      "content\":\"Born in Fujian Province, Liu Kang (1911-2004) received his formal training in Shanghai Academy of Fine Art, where he was exposed to Chinese paintings. In 1928, he went to Paris where he was influenced by art movements such as Fauvism and Post-Impressionism. Not only was he one of Singapore’s pioneer artists, he was also a leading figure in the Society of Chinese Artists and the Singapore Art Society. In 1970, he was awarded the Public Service Star for his contributions in the field of art.An accomplished oil and pastel artist, this is a rare watercolour by Liu. This work is also rare on another account—the unusually heavy linework. The multi-tiered roof structure in the distance suggests that the location is Bali.\n",
      "lastModifiedDate\":\"04/08/2021\n",
      "metadata\":{\"creator\":\"Liu Kang\n",
      "date_period\":\"1953\n",
      "image_url\":\"https://www.roots.gov.sg/CollectionImages/1031168.jpg\n",
      "accession_no\":\"2003-03474\n",
      "pageId\":\"1031168\n",
      "credit_line\":\"Gift of the artist’s family\n",
      "rootsUuid\":\"dae5664a11e64aa0b16608bcb764a6b7\n",
      "collection_of\":\"National Gallery Singapore\n",
      "material\":[\"Watercolour on paper\"],\"nlb_type\":\"Painting\n",
      "categories\":[\"\"],\"region\":\"Singapore\n",
      "dimension\":\"Image size: 39 x 56 cm Frame size: Unframed\"},\"docFormat\":\"html\n",
      "highlight\":\"\n",
      "tags\":{\"country\":[\"Singapore\"],\"material\":[\"Watercolour\n",
      "Paper\"],\"city\":[\"Singapore\"],\"subject\":[\"Training\n",
      "Liu, Kang, 1911-2004\n",
      "Art\n",
      "Paintings\n",
      "Work\n",
      "Chinese\n",
      "Artists\"],\"geographics\":[\"Pioneer\"],\"person\":[\"Liu, Kang\"],\"organisation\":[\"Singapore Art Society\n",
      "The Society of Chinese Artists\"],\"topic\":[\"country\n",
      "material\n",
      "city\n",
      "subject\n",
      "geographics\n",
      "person\n",
      "organisation\n",
      "singheritage\n",
      "collection\"],\"singheritage\":[\"Artists\"],\"collection\":[\"National Gallery Singapore\"]}}],\"id\":\"623613506\n",
      "total\":4706,\"size\":1}\n"
     ]
    }
   ],
   "source": [
    "for i in word_list:\n",
    "    print(i)"
   ]
  },
  {
   "cell_type": "code",
   "execution_count": 171,
   "id": "26045772",
   "metadata": {
    "ExecuteTime": {
     "end_time": "2023-02-06T16:09:00.141724Z",
     "start_time": "2023-02-06T16:09:00.138566Z"
    }
   },
   "outputs": [
    {
     "name": "stdout",
     "output_type": "stream",
     "text": [
      "[]\n"
     ]
    }
   ],
   "source": [
    "sub = 'title'\n",
    "matches = [match for match in word_list if res_decoded.split()[0] == sub]\n",
    "\n",
    "print(matches)"
   ]
  },
  {
   "cell_type": "code",
   "execution_count": 164,
   "id": "1b5bca9c",
   "metadata": {
    "ExecuteTime": {
     "end_time": "2023-02-06T16:04:48.303801Z",
     "start_time": "2023-02-06T16:04:48.286875Z"
    },
    "scrolled": true
   },
   "outputs": [
    {
     "ename": "TypeError",
     "evalue": "expected string or bytes-like object",
     "output_type": "error",
     "traceback": [
      "\u001b[0;31m---------------------------------------------------------------------------\u001b[0m",
      "\u001b[0;31mTypeError\u001b[0m                                 Traceback (most recent call last)",
      "Input \u001b[0;32mIn [164]\u001b[0m, in \u001b[0;36m<cell line: 1>\u001b[0;34m()\u001b[0m\n\u001b[0;32m----> 1\u001b[0m \u001b[43mre\u001b[49m\u001b[38;5;241;43m.\u001b[39;49m\u001b[43mfindall\u001b[49m\u001b[43m(\u001b[49m\u001b[38;5;124;43mr\u001b[39;49m\u001b[38;5;124;43m\"\u001b[39;49m\u001b[38;5;124;43m(?=(\u001b[39;49m\u001b[38;5;124;43m\"\u001b[39;49m\u001b[38;5;241;43m+\u001b[39;49m\u001b[38;5;124;43m'\u001b[39;49m\u001b[38;5;124;43m|\u001b[39;49m\u001b[38;5;124;43m'\u001b[39;49m\u001b[38;5;241;43m.\u001b[39;49m\u001b[43mjoin\u001b[49m\u001b[43m(\u001b[49m\u001b[43mkeyword_lst\u001b[49m\u001b[43m)\u001b[49m\u001b[38;5;241;43m+\u001b[39;49m\u001b[38;5;124;43mr\u001b[39;49m\u001b[38;5;124;43m\"\u001b[39;49m\u001b[38;5;124;43m))\u001b[39;49m\u001b[38;5;124;43m\"\u001b[39;49m\u001b[43m,\u001b[49m\u001b[43m \u001b[49m\u001b[43mword_list\u001b[49m\u001b[43m)\u001b[49m\n",
      "File \u001b[0;32m~/.pyenv/versions/3.8.12/lib/python3.8/re.py:241\u001b[0m, in \u001b[0;36mfindall\u001b[0;34m(pattern, string, flags)\u001b[0m\n\u001b[1;32m    233\u001b[0m \u001b[38;5;28;01mdef\u001b[39;00m \u001b[38;5;21mfindall\u001b[39m(pattern, string, flags\u001b[38;5;241m=\u001b[39m\u001b[38;5;241m0\u001b[39m):\n\u001b[1;32m    234\u001b[0m     \u001b[38;5;124;03m\"\"\"Return a list of all non-overlapping matches in the string.\u001b[39;00m\n\u001b[1;32m    235\u001b[0m \n\u001b[1;32m    236\u001b[0m \u001b[38;5;124;03m    If one or more capturing groups are present in the pattern, return\u001b[39;00m\n\u001b[0;32m   (...)\u001b[0m\n\u001b[1;32m    239\u001b[0m \n\u001b[1;32m    240\u001b[0m \u001b[38;5;124;03m    Empty matches are included in the result.\"\"\"\u001b[39;00m\n\u001b[0;32m--> 241\u001b[0m     \u001b[38;5;28;01mreturn\u001b[39;00m \u001b[43m_compile\u001b[49m\u001b[43m(\u001b[49m\u001b[43mpattern\u001b[49m\u001b[43m,\u001b[49m\u001b[43m \u001b[49m\u001b[43mflags\u001b[49m\u001b[43m)\u001b[49m\u001b[38;5;241;43m.\u001b[39;49m\u001b[43mfindall\u001b[49m\u001b[43m(\u001b[49m\u001b[43mstring\u001b[49m\u001b[43m)\u001b[49m\n",
      "\u001b[0;31mTypeError\u001b[0m: expected string or bytes-like object"
     ]
    }
   ],
   "source": [
    "sentences = [word.lower() for word in sentences if re.match('^[a-zA-Z]+', word)]  "
   ]
  },
  {
   "cell_type": "code",
   "execution_count": 161,
   "id": "3dd7e61f",
   "metadata": {
    "ExecuteTime": {
     "end_time": "2023-02-06T16:03:21.401763Z",
     "start_time": "2023-02-06T16:03:21.398287Z"
    }
   },
   "outputs": [
    {
     "data": {
      "text/plain": [
       "list"
      ]
     },
     "execution_count": 161,
     "metadata": {},
     "output_type": "execute_result"
    }
   ],
   "source": [
    "type(word_list)"
   ]
  },
  {
   "cell_type": "markdown",
   "id": "6cbf8458",
   "metadata": {
    "ExecuteTime": {
     "end_time": "2023-02-06T15:15:30.784377Z",
     "start_time": "2023-02-06T15:15:30.781780Z"
    }
   },
   "source": [
    "Save the following attributes of interest:\n",
    "* title\n",
    "* content\n",
    "* metadata[creator]\n",
    "* metadata[date_period]\n",
    "* metadata[materials]\n",
    "* metadata[region]\n",
    "* tags[country]\n",
    "* tags[material]\n",
    "* tags[city]\n",
    "* tags[subject]\n",
    "* tags[geographics]\n",
    "* tags[person]\n",
    "* tags[organisation]\n",
    "* tags[topic]"
   ]
  },
  {
   "cell_type": "markdown",
   "id": "eb471537",
   "metadata": {},
   "source": [
    "- With artwork ID as identifier, query and fetch relevant data from NHB\n",
    "- Save to .csv"
   ]
  },
  {
   "cell_type": "code",
   "execution_count": 1,
   "id": "e471eed3",
   "metadata": {
    "ExecuteTime": {
     "end_time": "2023-02-06T14:55:58.491963Z",
     "start_time": "2023-02-06T14:55:58.007492Z"
    }
   },
   "outputs": [],
   "source": [
    "import pandas as pd"
   ]
  },
  {
   "cell_type": "code",
   "execution_count": 104,
   "id": "80419d89",
   "metadata": {
    "ExecuteTime": {
     "end_time": "2023-02-06T15:39:38.655673Z",
     "start_time": "2023-02-06T15:39:36.989237Z"
    },
    "scrolled": true
   },
   "outputs": [
    {
     "name": "stdout",
     "output_type": "stream",
     "text": [
      "dict_keys(['documents', 'id', 'total', 'size'])\n",
      "dict_values([[{'id': 'DAE5664A-11E6-4AA0-B166-08BCB764A6B7', 'title': 'Seaside', 'source': 'roots_collections', 'path': 'https://www.roots.gov.sg/Collection-Landing/listing/1031168', 'content': 'Born in Fujian Province, Liu Kang (1911-2004) received his formal training in Shanghai Academy of Fine Art, where he was exposed to Chinese paintings. In 1928, he went to Paris where he was influenced by art movements such as Fauvism and Post-Impressionism. Not only was he one of Singapore’s pioneer artists, he was also a leading figure in the Society of Chinese Artists and the Singapore Art Society. In 1970, he was awarded the Public Service Star for his contributions in the field of art.An accomplished oil and pastel artist, this is a rare watercolour by Liu. This work is also rare on another account—the unusually heavy linework. The multi-tiered roof structure in the distance suggests that the location is Bali.', 'lastModifiedDate': '04/08/2021', 'metadata': {'creator': 'Liu Kang', 'date_period': '1953', 'image_url': 'https://www.roots.gov.sg/CollectionImages/1031168.jpg', 'accession_no': '2003-03474', 'pageId': '1031168', 'credit_line': 'Gift of the artist’s family', 'rootsUuid': 'dae5664a11e64aa0b16608bcb764a6b7', 'collection_of': 'National Gallery Singapore', 'material': ['Watercolour on paper'], 'nlb_type': 'Painting', 'categories': [''], 'region': 'Singapore', 'dimension': 'Image size: 39 x 56 cm Frame size: Unframed'}, 'docFormat': 'html', 'highlight': '', 'tags': {'country': ['Singapore'], 'material': ['Watercolour', 'Paper'], 'city': ['Singapore'], 'subject': ['Training', 'Liu, Kang, 1911-2004', 'Art', 'Paintings', 'Work', 'Chinese', 'Artists'], 'geographics': ['Pioneer'], 'person': ['Liu, Kang'], 'organisation': ['Singapore Art Society', 'The Society of Chinese Artists'], 'topic': ['country', 'material', 'city', 'subject', 'geographics', 'person', 'organisation', 'singheritage', 'collection'], 'singheritage': ['Artists'], 'collection': ['National Gallery Singapore']}}], '1208824040', 4706, 1])\n"
     ]
    }
   ],
   "source": [
    "import requests\n",
    "\n",
    "url = \"https://www.roots.gov.sg/get-search-results\"\n",
    "\n",
    "payload={'id': '',\n",
    "'topicsQuery[not][0][field]': 'source',\n",
    "'topicsQuery[not][0][value]': 'CSV',\n",
    "'query': '2003-03474',\n",
    "'from': '0',\n",
    "'size': '1',\n",
    "'searchMode': 'NEW'}\n",
    "files=[\n",
    "\n",
    "]\n",
    "headers = {\n",
    "  'Cookie': 'AWSALB=kwXo1w7AkGdiGhsyiL/zuRx0O7Pnw6jpL4mnpPLw8Zk2YQcBjyQ2jr8gPHjfCSNyasXpQ9fr2HHC1FK3W2ZqXgVJEKkCMbLqXoS0N9p4jP1h9ZwRksuWSso1IFQ8; AWSALBCORS=kwXo1w7AkGdiGhsyiL/zuRx0O7Pnw6jpL4mnpPLw8Zk2YQcBjyQ2jr8gPHjfCSNyasXpQ9fr2HHC1FK3W2ZqXgVJEKkCMbLqXoS0N9p4jP1h9ZwRksuWSso1IFQ8; rp_www.roots.gov.sg=61e6528f68cf95598f0445134011e409'\n",
    "}\n",
    "\n",
    "response = requests.request(\"POST\", url, headers=headers, data=payload, files=files)\n",
    "data = response.json()\n",
    "\n",
    "#print(response.text)\n",
    "print(data.keys())\n",
    "print(data.values())"
   ]
  },
  {
   "cell_type": "code",
   "execution_count": 115,
   "id": "286bb77f",
   "metadata": {
    "ExecuteTime": {
     "end_time": "2023-02-06T15:43:57.411925Z",
     "start_time": "2023-02-06T15:43:57.409588Z"
    }
   },
   "outputs": [],
   "source": [
    "s = data['documents']"
   ]
  },
  {
   "cell_type": "code",
   "execution_count": 120,
   "id": "5fcadb84",
   "metadata": {
    "ExecuteTime": {
     "end_time": "2023-02-06T15:44:50.240232Z",
     "start_time": "2023-02-06T15:44:50.229585Z"
    }
   },
   "outputs": [
    {
     "ename": "NameError",
     "evalue": "name 'reduce' is not defined",
     "output_type": "error",
     "traceback": [
      "\u001b[0;31m---------------------------------------------------------------------------\u001b[0m",
      "\u001b[0;31mNameError\u001b[0m                                 Traceback (most recent call last)",
      "Input \u001b[0;32mIn [120]\u001b[0m, in \u001b[0;36m<cell line: 1>\u001b[0;34m()\u001b[0m\n\u001b[0;32m----> 1\u001b[0m listToStr \u001b[38;5;241m=\u001b[39m \u001b[43mreduce\u001b[49m(\u001b[38;5;28;01mlambda\u001b[39;00m a, b : a\u001b[38;5;241m+\u001b[39m \u001b[38;5;124m\"\u001b[39m\u001b[38;5;124m \u001b[39m\u001b[38;5;124m\"\u001b[39m \u001b[38;5;241m+\u001b[39m\u001b[38;5;28mstr\u001b[39m(b), s)\n\u001b[1;32m      3\u001b[0m \u001b[38;5;28mprint\u001b[39m(listToStr)\n",
      "\u001b[0;31mNameError\u001b[0m: name 'reduce' is not defined"
     ]
    }
   ],
   "source": [
    "listToStr = reduce(lambda a, b : a+ \" \" +str(b), s)\n",
    " \n",
    "print(listToStr)"
   ]
  },
  {
   "cell_type": "code",
   "execution_count": 93,
   "id": "9d475c12",
   "metadata": {
    "ExecuteTime": {
     "end_time": "2023-02-06T15:35:34.067831Z",
     "start_time": "2023-02-06T15:35:34.056619Z"
    }
   },
   "outputs": [
    {
     "ename": "AttributeError",
     "evalue": "'dict' object has no attribute 'strip'",
     "output_type": "error",
     "traceback": [
      "\u001b[0;31m---------------------------------------------------------------------------\u001b[0m",
      "\u001b[0;31mAttributeError\u001b[0m                            Traceback (most recent call last)",
      "Input \u001b[0;32mIn [93]\u001b[0m, in \u001b[0;36m<cell line: 1>\u001b[0;34m()\u001b[0m\n\u001b[1;32m      1\u001b[0m \u001b[38;5;28;01mfor\u001b[39;00m line \u001b[38;5;129;01min\u001b[39;00m data[\u001b[38;5;124m'\u001b[39m\u001b[38;5;124mdocuments\u001b[39m\u001b[38;5;124m'\u001b[39m]:    \n\u001b[0;32m----> 2\u001b[0m     line \u001b[38;5;241m=\u001b[39m \u001b[43mline\u001b[49m\u001b[38;5;241;43m.\u001b[39;49m\u001b[43mstrip\u001b[49m()\n\u001b[1;32m      3\u001b[0m     lst\u001b[38;5;241m.\u001b[39mextend(line\u001b[38;5;241m.\u001b[39msplit())\n",
      "\u001b[0;31mAttributeError\u001b[0m: 'dict' object has no attribute 'strip'"
     ]
    }
   ],
   "source": [
    "for line in data['documents']:    \n",
    "    line = line.strip()\n",
    "    lst.extend(line.split())"
   ]
  },
  {
   "cell_type": "code",
   "execution_count": null,
   "id": "b27a7583",
   "metadata": {},
   "outputs": [],
   "source": []
  },
  {
   "cell_type": "code",
   "execution_count": 90,
   "id": "65025098",
   "metadata": {
    "ExecuteTime": {
     "end_time": "2023-02-06T15:33:41.167105Z",
     "start_time": "2023-02-06T15:33:41.164345Z"
    }
   },
   "outputs": [
    {
     "name": "stdout",
     "output_type": "stream",
     "text": [
      "[{'id': 'DAE5664A-11E6-4AA0-B166-08BCB764A6B7', 'title': 'Seaside', 'source': 'roots_collections', 'path': 'https://www.roots.gov.sg/Collection-Landing/listing/1031168', 'content': 'Born in Fujian Province, Liu Kang (1911-2004) received his formal training in Shanghai Academy of Fine Art, where he was exposed to Chinese paintings. In 1928, he went to Paris where he was influenced by art movements such as Fauvism and Post-Impressionism. Not only was he one of Singapore’s pioneer artists, he was also a leading figure in the Society of Chinese Artists and the Singapore Art Society. In 1970, he was awarded the Public Service Star for his contributions in the field of art.An accomplished oil and pastel artist, this is a rare watercolour by Liu. This work is also rare on another account—the unusually heavy linework. The multi-tiered roof structure in the distance suggests that the location is Bali.', 'lastModifiedDate': '04/08/2021', 'metadata': {'creator': 'Liu Kang', 'date_period': '1953', 'image_url': 'https://www.roots.gov.sg/CollectionImages/1031168.jpg', 'accession_no': '2003-03474', 'pageId': '1031168', 'credit_line': 'Gift of the artist’s family', 'rootsUuid': 'dae5664a11e64aa0b16608bcb764a6b7', 'collection_of': 'National Gallery Singapore', 'material': ['Watercolour on paper'], 'nlb_type': 'Painting', 'categories': [''], 'region': 'Singapore', 'dimension': 'Image size: 39 x 56 cm Frame size: Unframed'}, 'docFormat': 'html', 'highlight': '', 'tags': {'country': ['Singapore'], 'material': ['Watercolour', 'Paper'], 'city': ['Singapore'], 'subject': ['Training', 'Liu, Kang, 1911-2004', 'Art', 'Paintings', 'Work', 'Chinese', 'Artists'], 'geographics': ['Pioneer'], 'person': ['Liu, Kang'], 'organisation': ['Singapore Art Society', 'The Society of Chinese Artists'], 'topic': ['country', 'material', 'city', 'subject', 'geographics', 'person', 'organisation', 'singheritage', 'collection'], 'singheritage': ['Artists'], 'collection': ['National Gallery Singapore']}}]\n"
     ]
    }
   ],
   "source": [
    "matches = [match for match in test_lst if \"title\" in match]\n",
    " \n",
    "print(matches)"
   ]
  },
  {
   "cell_type": "code",
   "execution_count": null,
   "id": "3928fdec",
   "metadata": {},
   "outputs": [],
   "source": [
    "filter_object = filter(lambda a: 'title' in a, ls)\n",
    " \n",
    "# Convert the filter object to list\n",
    "print(list(filter_object))"
   ]
  },
  {
   "cell_type": "code",
   "execution_count": 89,
   "id": "54ccee92",
   "metadata": {
    "ExecuteTime": {
     "end_time": "2023-02-06T15:32:13.697380Z",
     "start_time": "2023-02-06T15:32:13.694648Z"
    }
   },
   "outputs": [
    {
     "name": "stdout",
     "output_type": "stream",
     "text": [
      "'AskPython' is there inside the list!\n"
     ]
    }
   ],
   "source": [
    "if any(\"title\" in word for word in test_lst):\n",
    "    print('\\'AskPython\\' is there inside the list!')\n",
    "else:\n",
    "    print('\\'AskPython\\' is not there inside the list')"
   ]
  },
  {
   "cell_type": "code",
   "execution_count": 88,
   "id": "18099a40",
   "metadata": {
    "ExecuteTime": {
     "end_time": "2023-02-06T15:31:42.376704Z",
     "start_time": "2023-02-06T15:31:42.366468Z"
    }
   },
   "outputs": [
    {
     "ename": "AttributeError",
     "evalue": "'list' object has no attribute 'find'",
     "output_type": "error",
     "traceback": [
      "\u001b[0;31m---------------------------------------------------------------------------\u001b[0m",
      "\u001b[0;31mAttributeError\u001b[0m                            Traceback (most recent call last)",
      "Input \u001b[0;32mIn [88]\u001b[0m, in \u001b[0;36m<cell line: 1>\u001b[0;34m()\u001b[0m\n\u001b[0;32m----> 1\u001b[0m search_fave_phrase \u001b[38;5;241m=\u001b[39m \u001b[43mtest_lst\u001b[49m\u001b[38;5;241;43m.\u001b[39;49m\u001b[43mfind\u001b[49m(\u001b[38;5;124m\"\u001b[39m\u001b[38;5;124mtitle\u001b[39m\u001b[38;5;124m\"\u001b[39m)\n\u001b[1;32m      3\u001b[0m \u001b[38;5;28mprint\u001b[39m(search_fave_phrase)\n",
      "\u001b[0;31mAttributeError\u001b[0m: 'list' object has no attribute 'find'"
     ]
    }
   ],
   "source": [
    "search_fave_phrase = test_lst.find(\"title\")\n",
    "\n",
    "print(search_fave_phrase)"
   ]
  },
  {
   "cell_type": "code",
   "execution_count": null,
   "id": "d8554708",
   "metadata": {},
   "outputs": [],
   "source": [
    "import re\n",
    "errors = []\n",
    "linenum = 0\n",
    "pattern = re.compile(\"title\", re.IGNORECASE)  # Compile a case-insensitive regex\n",
    "with open ('logfile.txt', 'rt') as myfile:    \n",
    "    for line in myfile:\n",
    "        linenum += 1\n",
    "        if pattern.search(line) != None:      # If a match is found \n",
    "            errors.append((linenum, line.rstrip('\\n')))\n",
    "for err in errors:                            # Iterate over the list of tuples\n",
    "    print(\"Line \" + str(err[0]) + \": \" + err[1])"
   ]
  },
  {
   "cell_type": "code",
   "execution_count": 73,
   "id": "4645fd04",
   "metadata": {
    "ExecuteTime": {
     "end_time": "2023-02-06T15:24:49.520861Z",
     "start_time": "2023-02-06T15:24:49.517846Z"
    }
   },
   "outputs": [
    {
     "data": {
      "text/plain": [
       "'E'"
      ]
     },
     "execution_count": 73,
     "metadata": {},
     "output_type": "execute_result"
    }
   ],
   "source": [
    "str[20]"
   ]
  },
  {
   "cell_type": "code",
   "execution_count": 51,
   "id": "e3393f05",
   "metadata": {
    "ExecuteTime": {
     "end_time": "2023-02-06T15:14:56.927497Z",
     "start_time": "2023-02-06T15:14:56.922018Z"
    },
    "scrolled": true
   },
   "outputs": [
    {
     "data": {
      "text/plain": [
       "0    {'id': 'DAE5664A-11E6-4AA0-B166-08BCB764A6B7',...\n",
       "Name: documents, dtype: object"
      ]
     },
     "execution_count": 51,
     "metadata": {},
     "output_type": "execute_result"
    }
   ],
   "source": [
    "response_df['documents']"
   ]
  },
  {
   "cell_type": "code",
   "execution_count": 49,
   "id": "9bbd32fa",
   "metadata": {
    "ExecuteTime": {
     "end_time": "2023-02-06T15:14:31.837223Z",
     "start_time": "2023-02-06T15:14:31.833221Z"
    }
   },
   "outputs": [
    {
     "data": {
      "text/plain": [
       "[{'id': 'DAE5664A-11E6-4AA0-B166-08BCB764A6B7',\n",
       "  'title': 'Seaside',\n",
       "  'source': 'roots_collections',\n",
       "  'path': 'https://www.roots.gov.sg/Collection-Landing/listing/1031168',\n",
       "  'content': 'Born in Fujian Province, Liu Kang (1911-2004) received his formal training in Shanghai Academy of Fine Art, where he was exposed to Chinese paintings. In 1928, he went to Paris where he was influenced by art movements such as Fauvism and Post-Impressionism. Not only was he one of Singapore’s pioneer artists, he was also a leading figure in the Society of Chinese Artists and the Singapore Art Society. In 1970, he was awarded the Public Service Star for his contributions in the field of art.An accomplished oil and pastel artist, this is a rare watercolour by Liu. This work is also rare on another account—the unusually heavy linework. The multi-tiered roof structure in the distance suggests that the location is Bali.',\n",
       "  'lastModifiedDate': '04/08/2021',\n",
       "  'metadata': {'creator': 'Liu Kang',\n",
       "   'date_period': '1953',\n",
       "   'image_url': 'https://www.roots.gov.sg/CollectionImages/1031168.jpg',\n",
       "   'accession_no': '2003-03474',\n",
       "   'pageId': '1031168',\n",
       "   'credit_line': 'Gift of the artist’s family',\n",
       "   'rootsUuid': 'dae5664a11e64aa0b16608bcb764a6b7',\n",
       "   'collection_of': 'National Gallery Singapore',\n",
       "   'material': ['Watercolour on paper'],\n",
       "   'nlb_type': 'Painting',\n",
       "   'categories': [''],\n",
       "   'region': 'Singapore',\n",
       "   'dimension': 'Image size: 39 x 56 cm Frame size: Unframed'},\n",
       "  'docFormat': 'html',\n",
       "  'highlight': '',\n",
       "  'tags': {'country': ['Singapore'],\n",
       "   'material': ['Watercolour', 'Paper'],\n",
       "   'city': ['Singapore'],\n",
       "   'subject': ['Training',\n",
       "    'Liu, Kang, 1911-2004',\n",
       "    'Art',\n",
       "    'Paintings',\n",
       "    'Work',\n",
       "    'Chinese',\n",
       "    'Artists'],\n",
       "   'geographics': ['Pioneer'],\n",
       "   'person': ['Liu, Kang'],\n",
       "   'organisation': ['Singapore Art Society', 'The Society of Chinese Artists'],\n",
       "   'topic': ['country',\n",
       "    'material',\n",
       "    'city',\n",
       "    'subject',\n",
       "    'geographics',\n",
       "    'person',\n",
       "    'organisation',\n",
       "    'singheritage',\n",
       "    'collection'],\n",
       "   'singheritage': ['Artists'],\n",
       "   'collection': ['National Gallery Singapore']}}]"
      ]
     },
     "execution_count": 49,
     "metadata": {},
     "output_type": "execute_result"
    }
   ],
   "source": [
    "data['documents']"
   ]
  },
  {
   "cell_type": "code",
   "execution_count": 31,
   "id": "e78c82c6",
   "metadata": {
    "ExecuteTime": {
     "end_time": "2023-02-06T15:06:09.388858Z",
     "start_time": "2023-02-06T15:06:09.385209Z"
    },
    "scrolled": true
   },
   "outputs": [
    {
     "data": {
      "text/plain": [
       "'{\"documents\":[{\"id\":\"DAE5664A-11E6-4AA0-B166-08BCB764A6B7\",\"title\":\"Seaside\",\"source\":\"roots_collections\",\"path\":\"https://www.roots.gov.sg/Collection-Landing/listing/1031168\",\"content\":\"Born in Fujian Province, Liu Kang (1911-2004) received his formal training in Shanghai Academy of Fine Art, where he was exposed to Chinese paintings. In 1928, he went to Paris where he was influenced by art movements such as Fauvism and Post-Impressionism. Not only was he one of Singapore’s pioneer artists, he was also a leading figure in the Society of Chinese Artists and the Singapore Art Society. In 1970, he was awarded the Public Service Star for his contributions in the field of art.An accomplished oil and pastel artist, this is a rare watercolour by Liu. This work is also rare on another account—the unusually heavy linework. The multi-tiered roof structure in the distance suggests that the location is Bali.\",\"lastModifiedDate\":\"04/08/2021\",\"metadata\":{\"creator\":\"Liu Kang\",\"date_period\":\"1953\",\"image_url\":\"https://www.roots.gov.sg/CollectionImages/1031168.jpg\",\"accession_no\":\"2003-03474\",\"pageId\":\"1031168\",\"credit_line\":\"Gift of the artist’s family\",\"rootsUuid\":\"dae5664a11e64aa0b16608bcb764a6b7\",\"collection_of\":\"National Gallery Singapore\",\"material\":[\"Watercolour on paper\"],\"nlb_type\":\"Painting\",\"categories\":[\"\"],\"region\":\"Singapore\",\"dimension\":\"Image size: 39 x 56 cm Frame size: Unframed\"},\"docFormat\":\"html\",\"highlight\":\"\",\"tags\":{\"country\":[\"Singapore\"],\"material\":[\"Watercolour\",\"Paper\"],\"city\":[\"Singapore\"],\"subject\":[\"Training\",\"Liu, Kang, 1911-2004\",\"Art\",\"Paintings\",\"Work\",\"Chinese\",\"Artists\"],\"geographics\":[\"Pioneer\"],\"person\":[\"Liu, Kang\"],\"organisation\":[\"Singapore Art Society\",\"The Society of Chinese Artists\"],\"topic\":[\"country\",\"material\",\"city\",\"subject\",\"geographics\",\"person\",\"organisation\",\"singheritage\",\"collection\"],\"singheritage\":[\"Artists\"],\"collection\":[\"National Gallery Singapore\"]}}],\"id\":\"254026342\",\"total\":4706,\"size\":1}'"
      ]
     },
     "execution_count": 31,
     "metadata": {},
     "output_type": "execute_result"
    }
   ],
   "source": [
    "response.text"
   ]
  },
  {
   "cell_type": "code",
   "execution_count": 9,
   "id": "d8fe5cd1",
   "metadata": {
    "ExecuteTime": {
     "end_time": "2023-02-06T15:01:23.412138Z",
     "start_time": "2023-02-06T15:01:23.401001Z"
    }
   },
   "outputs": [],
   "source": [
    "df = pd.read_csv('../raw_data/df_10K_copy.csv')"
   ]
  },
  {
   "cell_type": "code",
   "execution_count": 10,
   "id": "1e2b46b7",
   "metadata": {
    "ExecuteTime": {
     "end_time": "2023-02-06T15:01:29.037494Z",
     "start_time": "2023-02-06T15:01:29.019859Z"
    }
   },
   "outputs": [
    {
     "data": {
      "text/html": [
       "<div>\n",
       "<style scoped>\n",
       "    .dataframe tbody tr th:only-of-type {\n",
       "        vertical-align: middle;\n",
       "    }\n",
       "\n",
       "    .dataframe tbody tr th {\n",
       "        vertical-align: top;\n",
       "    }\n",
       "\n",
       "    .dataframe thead th {\n",
       "        text-align: right;\n",
       "    }\n",
       "</style>\n",
       "<table border=\"1\" class=\"dataframe\">\n",
       "  <thead>\n",
       "    <tr style=\"text-align: right;\">\n",
       "      <th></th>\n",
       "      <th>id</th>\n",
       "      <th>0</th>\n",
       "      <th>1</th>\n",
       "      <th>2</th>\n",
       "      <th>3</th>\n",
       "      <th>4</th>\n",
       "      <th>5</th>\n",
       "    </tr>\n",
       "  </thead>\n",
       "  <tbody>\n",
       "    <tr>\n",
       "      <th>0</th>\n",
       "      <td>2012-00335</td>\n",
       "      <td>#c6b089</td>\n",
       "      <td>#6f6457</td>\n",
       "      <td>#dfc499</td>\n",
       "      <td>#9f8871</td>\n",
       "      <td>NaN</td>\n",
       "      <td>NaN</td>\n",
       "    </tr>\n",
       "    <tr>\n",
       "      <th>1</th>\n",
       "      <td>2010-01385</td>\n",
       "      <td>#656559</td>\n",
       "      <td>#d9bd3f</td>\n",
       "      <td>#383d37</td>\n",
       "      <td>#136949</td>\n",
       "      <td>#b0726b</td>\n",
       "      <td>NaN</td>\n",
       "    </tr>\n",
       "    <tr>\n",
       "      <th>2</th>\n",
       "      <td>2015-00358</td>\n",
       "      <td>#ebb87e</td>\n",
       "      <td>#534332</td>\n",
       "      <td>#c59962</td>\n",
       "      <td>#8d6e47</td>\n",
       "      <td>NaN</td>\n",
       "      <td>NaN</td>\n",
       "    </tr>\n",
       "    <tr>\n",
       "      <th>3</th>\n",
       "      <td>2002-00783</td>\n",
       "      <td>#aeafa7</td>\n",
       "      <td>#7f665e</td>\n",
       "      <td>#5c514e</td>\n",
       "      <td>#99887c</td>\n",
       "      <td>NaN</td>\n",
       "      <td>NaN</td>\n",
       "    </tr>\n",
       "    <tr>\n",
       "      <th>4</th>\n",
       "      <td>2016-00456</td>\n",
       "      <td>#3d3a36</td>\n",
       "      <td>#e3dbd0</td>\n",
       "      <td>#857e74</td>\n",
       "      <td>#c1b9ae</td>\n",
       "      <td>NaN</td>\n",
       "      <td>NaN</td>\n",
       "    </tr>\n",
       "    <tr>\n",
       "      <th>...</th>\n",
       "      <td>...</td>\n",
       "      <td>...</td>\n",
       "      <td>...</td>\n",
       "      <td>...</td>\n",
       "      <td>...</td>\n",
       "      <td>...</td>\n",
       "      <td>...</td>\n",
       "    </tr>\n",
       "    <tr>\n",
       "      <th>4375</th>\n",
       "      <td>2012-00261</td>\n",
       "      <td>#484a49</td>\n",
       "      <td>#f0ece3</td>\n",
       "      <td>#80807d</td>\n",
       "      <td>#bbbbb6</td>\n",
       "      <td>NaN</td>\n",
       "      <td>NaN</td>\n",
       "    </tr>\n",
       "    <tr>\n",
       "      <th>4376</th>\n",
       "      <td>2009-03342</td>\n",
       "      <td>#dcceb8</td>\n",
       "      <td>#9d917e</td>\n",
       "      <td>#baae99</td>\n",
       "      <td>#827668</td>\n",
       "      <td>NaN</td>\n",
       "      <td>NaN</td>\n",
       "    </tr>\n",
       "    <tr>\n",
       "      <th>4377</th>\n",
       "      <td>2010-04023</td>\n",
       "      <td>#201c20</td>\n",
       "      <td>#c0ab92</td>\n",
       "      <td>#8b7059</td>\n",
       "      <td>#ae9478</td>\n",
       "      <td>NaN</td>\n",
       "      <td>NaN</td>\n",
       "    </tr>\n",
       "    <tr>\n",
       "      <th>4378</th>\n",
       "      <td>2016-00196</td>\n",
       "      <td>#202626</td>\n",
       "      <td>#627677</td>\n",
       "      <td>#394544</td>\n",
       "      <td>#151717</td>\n",
       "      <td>NaN</td>\n",
       "      <td>NaN</td>\n",
       "    </tr>\n",
       "    <tr>\n",
       "      <th>4379</th>\n",
       "      <td>2003-03695</td>\n",
       "      <td>#adb3aa</td>\n",
       "      <td>#776259</td>\n",
       "      <td>#b9645d</td>\n",
       "      <td>#d2c0ac</td>\n",
       "      <td>#81908f</td>\n",
       "      <td>#c7977d</td>\n",
       "    </tr>\n",
       "  </tbody>\n",
       "</table>\n",
       "<p>4380 rows × 7 columns</p>\n",
       "</div>"
      ],
      "text/plain": [
       "              id        0        1        2        3        4        5\n",
       "0     2012-00335  #c6b089  #6f6457  #dfc499  #9f8871      NaN      NaN\n",
       "1     2010-01385  #656559  #d9bd3f  #383d37  #136949  #b0726b      NaN\n",
       "2     2015-00358  #ebb87e  #534332  #c59962  #8d6e47      NaN      NaN\n",
       "3     2002-00783  #aeafa7  #7f665e  #5c514e  #99887c      NaN      NaN\n",
       "4     2016-00456  #3d3a36  #e3dbd0  #857e74  #c1b9ae      NaN      NaN\n",
       "...          ...      ...      ...      ...      ...      ...      ...\n",
       "4375  2012-00261  #484a49  #f0ece3  #80807d  #bbbbb6      NaN      NaN\n",
       "4376  2009-03342  #dcceb8  #9d917e  #baae99  #827668      NaN      NaN\n",
       "4377  2010-04023  #201c20  #c0ab92  #8b7059  #ae9478      NaN      NaN\n",
       "4378  2016-00196  #202626  #627677  #394544  #151717      NaN      NaN\n",
       "4379  2003-03695  #adb3aa  #776259  #b9645d  #d2c0ac  #81908f  #c7977d\n",
       "\n",
       "[4380 rows x 7 columns]"
      ]
     },
     "execution_count": 10,
     "metadata": {},
     "output_type": "execute_result"
    }
   ],
   "source": [
    "df"
   ]
  },
  {
   "cell_type": "code",
   "execution_count": 134,
   "id": "c5672e1b",
   "metadata": {
    "ExecuteTime": {
     "end_time": "2023-02-06T15:49:10.979102Z",
     "start_time": "2023-02-06T15:49:10.976256Z"
    }
   },
   "outputs": [],
   "source": [
    "import re\n",
    "\n",
    "rx_dict = {\n",
    "    'title': re.compile(r'Title = (?P<title>.*)\\n'),\n",
    "    'content': re.compile(r'Content = (?P<content>\\d+)\\n'),\n",
    "}"
   ]
  },
  {
   "cell_type": "code",
   "execution_count": 139,
   "id": "46897d3f",
   "metadata": {
    "ExecuteTime": {
     "end_time": "2023-02-06T15:51:06.189501Z",
     "start_time": "2023-02-06T15:51:06.186226Z"
    },
    "scrolled": true
   },
   "outputs": [
    {
     "data": {
      "text/plain": [
       "{'title': re.compile(r'Title = (?P<title>.*)\\n', re.UNICODE),\n",
       " 'content': re.compile(r'Content = (?P<content>\\d+)\\n', re.UNICODE)}"
      ]
     },
     "execution_count": 139,
     "metadata": {},
     "output_type": "execute_result"
    }
   ],
   "source": [
    "rx_dict"
   ]
  },
  {
   "cell_type": "code",
   "execution_count": 143,
   "id": "a9c4fb45",
   "metadata": {
    "ExecuteTime": {
     "end_time": "2023-02-06T15:51:56.115417Z",
     "start_time": "2023-02-06T15:51:56.112582Z"
    }
   },
   "outputs": [
    {
     "name": "stdout",
     "output_type": "stream",
     "text": [
      "None\n",
      "None\n"
     ]
    }
   ],
   "source": [
    "for key, rx in rx_dict.items():\n",
    "    match = rx.search(res_decoded)\n",
    "    print(match)"
   ]
  },
  {
   "cell_type": "code",
   "execution_count": 140,
   "id": "f93e823f",
   "metadata": {
    "ExecuteTime": {
     "end_time": "2023-02-06T15:51:22.804009Z",
     "start_time": "2023-02-06T15:51:22.801141Z"
    }
   },
   "outputs": [],
   "source": [
    "def parse_line(line):\n",
    "    \"\"\"\n",
    "    Do a regex search against all defined regexes and\n",
    "    return the key and match result of the first matching regex\n",
    "\n",
    "    \"\"\"\n",
    "\n",
    "    for key, rx in rx_dict.items():\n",
    "        match = rx.search(line)\n",
    "        if match:\n",
    "            return key, match\n",
    "    # if there are no matches\n",
    "    return None, None"
   ]
  },
  {
   "cell_type": "code",
   "execution_count": 141,
   "id": "6f788885",
   "metadata": {
    "ExecuteTime": {
     "end_time": "2023-02-06T15:51:23.114440Z",
     "start_time": "2023-02-06T15:51:23.110954Z"
    }
   },
   "outputs": [
    {
     "data": {
      "text/plain": [
       "(None, None)"
      ]
     },
     "execution_count": 141,
     "metadata": {},
     "output_type": "execute_result"
    }
   ],
   "source": [
    "parse_line(res_decoded)"
   ]
  },
  {
   "cell_type": "code",
   "execution_count": 136,
   "id": "19fe30df",
   "metadata": {
    "ExecuteTime": {
     "end_time": "2023-02-06T15:50:02.655415Z",
     "start_time": "2023-02-06T15:50:02.650587Z"
    }
   },
   "outputs": [],
   "source": [
    "def parse_file(filepath):\n",
    "    \"\"\"\n",
    "    Parse text at given filepath\n",
    "\n",
    "    Parameters\n",
    "    ----------\n",
    "    filepath : str\n",
    "        Filepath for file_object to be parsed\n",
    "\n",
    "    Returns\n",
    "    -------\n",
    "    data : pd.DataFrame\n",
    "        Parsed data\n",
    "\n",
    "    \"\"\"\n",
    "\n",
    "    data = []  # create an empty list to collect the data\n",
    "    # open the file and read through it line by line\n",
    "    with open(filepath, 'r') as file_object:\n",
    "        line = file_object.readline()\n",
    "        while line:\n",
    "            # at each line check for a match with a regex\n",
    "            key, match = _parse_line(line)\n",
    "\n",
    "            # extract school name\n",
    "            if key == 'school':\n",
    "                school = match.group('school')\n",
    "\n",
    "            # extract grade\n",
    "            if key == 'grade':\n",
    "                grade = match.group('grade')\n",
    "                grade = int(grade)\n",
    "\n",
    "            # identify a table header \n",
    "            if key == 'name_score':\n",
    "                # extract type of table, i.e., Name or Score\n",
    "                value_type = match.group('name_score')\n",
    "                line = file_object.readline()\n",
    "                # read each line of the table until a blank line\n",
    "                while line.strip():\n",
    "                    # extract number and value\n",
    "                    number, value = line.strip().split(',')\n",
    "                    value = value.strip()\n",
    "                    # create a dictionary containing this row of data\n",
    "                    row = {\n",
    "                        'School': school,\n",
    "                        'Grade': grade,\n",
    "                        'Student number': number,\n",
    "                        value_type: value\n",
    "                    }\n",
    "                    # append the dictionary to the data list\n",
    "                    data.append(row)\n",
    "                    line = file_object.readline()\n",
    "\n",
    "            line = file_object.readline()\n",
    "\n",
    "        # create a pandas DataFrame from the list of dicts\n",
    "        data = pd.DataFrame(data)\n",
    "        # set the School, Grade, and Student number as the index\n",
    "        data.set_index(['School', 'Grade', 'Student number'], inplace=True)\n",
    "        # consolidate df to remove nans\n",
    "        data = data.groupby(level=data.index.names).first()\n",
    "        # upgrade Score from float to integer\n",
    "        data = data.apply(pd.to_numeric, errors='ignore')\n",
    "    return data"
   ]
  },
  {
   "cell_type": "code",
   "execution_count": 137,
   "id": "fd2c2a60",
   "metadata": {
    "ExecuteTime": {
     "end_time": "2023-02-06T15:50:03.931607Z",
     "start_time": "2023-02-06T15:50:03.920719Z"
    }
   },
   "outputs": [
    {
     "ename": "NameError",
     "evalue": "name 'parse' is not defined",
     "output_type": "error",
     "traceback": [
      "\u001b[0;31m---------------------------------------------------------------------------\u001b[0m",
      "\u001b[0;31mNameError\u001b[0m                                 Traceback (most recent call last)",
      "Input \u001b[0;32mIn [137]\u001b[0m, in \u001b[0;36m<cell line: 1>\u001b[0;34m()\u001b[0m\n\u001b[1;32m      1\u001b[0m \u001b[38;5;28;01mif\u001b[39;00m \u001b[38;5;18m__name__\u001b[39m \u001b[38;5;241m==\u001b[39m \u001b[38;5;124m'\u001b[39m\u001b[38;5;124m__main__\u001b[39m\u001b[38;5;124m'\u001b[39m:\n\u001b[1;32m      2\u001b[0m     filepath \u001b[38;5;241m=\u001b[39m \u001b[38;5;124m'\u001b[39m\u001b[38;5;124msample.txt\u001b[39m\u001b[38;5;124m'\u001b[39m\n\u001b[0;32m----> 3\u001b[0m     data \u001b[38;5;241m=\u001b[39m \u001b[43mparse\u001b[49m(filepath)\n\u001b[1;32m      4\u001b[0m     \u001b[38;5;28mprint\u001b[39m(data)\n",
      "\u001b[0;31mNameError\u001b[0m: name 'parse' is not defined"
     ]
    }
   ],
   "source": [
    "if __name__ == '__main__':\n",
    "    filepath = 'sample.txt'\n",
    "    data = parse(filepath)\n",
    "    print(data)"
   ]
  },
  {
   "cell_type": "code",
   "execution_count": null,
   "id": "df2068de",
   "metadata": {},
   "outputs": [],
   "source": []
  }
 ],
 "metadata": {
  "kernelspec": {
   "display_name": "Python 3 (ipykernel)",
   "language": "python",
   "name": "python3"
  },
  "language_info": {
   "codemirror_mode": {
    "name": "ipython",
    "version": 3
   },
   "file_extension": ".py",
   "mimetype": "text/x-python",
   "name": "python",
   "nbconvert_exporter": "python",
   "pygments_lexer": "ipython3",
   "version": "3.8.12"
  },
  "toc": {
   "base_numbering": 1,
   "nav_menu": {},
   "number_sections": true,
   "sideBar": true,
   "skip_h1_title": false,
   "title_cell": "Table of Contents",
   "title_sidebar": "Contents",
   "toc_cell": false,
   "toc_position": {},
   "toc_section_display": true,
   "toc_window_display": false
  }
 },
 "nbformat": 4,
 "nbformat_minor": 5
}

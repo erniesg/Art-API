{
 "cells": [
  {
   "cell_type": "code",
   "execution_count": 1,
   "id": "33df684d",
   "metadata": {
    "ExecuteTime": {
     "end_time": "2022-09-01T12:54:13.187320Z",
     "start_time": "2022-09-01T12:54:13.185290Z"
    }
   },
   "outputs": [],
   "source": [
    "import sqlite3\n"
   ]
  },
  {
   "cell_type": "code",
   "execution_count": 4,
   "id": "3120b1b6",
   "metadata": {
    "ExecuteTime": {
     "end_time": "2022-09-01T12:54:57.913378Z",
     "start_time": "2022-09-01T12:54:57.911583Z"
    }
   },
   "outputs": [],
   "source": [
    "SQLITE_PATH = \"../raw_data/20171214-behance-styles-crowd-only-images-R4OHZduT.sqlite\""
   ]
  },
  {
   "cell_type": "code",
   "execution_count": 5,
   "id": "6a94f675",
   "metadata": {
    "ExecuteTime": {
     "end_time": "2022-09-01T12:55:07.488358Z",
     "start_time": "2022-09-01T12:55:07.486326Z"
    }
   },
   "outputs": [],
   "source": [
    "con = sqlite3.Connection(SQLITE_PATH)\n",
    "cur = con.cursor()"
   ]
  },
  {
   "cell_type": "code",
   "execution_count": 6,
   "id": "a28711dc",
   "metadata": {
    "ExecuteTime": {
     "end_time": "2022-09-01T12:55:17.246871Z",
     "start_time": "2022-09-01T12:55:17.244538Z"
    }
   },
   "outputs": [
    {
     "ename": "SyntaxError",
     "evalue": "invalid syntax (2282268328.py, line 1)",
     "output_type": "error",
     "traceback": [
      "\u001b[0;36m  File \u001b[0;32m\"/tmp/ipykernel_18729/2282268328.py\"\u001b[0;36m, line \u001b[0;32m1\u001b[0m\n\u001b[0;31m    sqlite3 bam.sqlite .schema\u001b[0m\n\u001b[0m            ^\u001b[0m\n\u001b[0;31mSyntaxError\u001b[0m\u001b[0;31m:\u001b[0m invalid syntax\n"
     ]
    }
   ],
   "source": [
    "sqlite3 bam.sqlite .schema"
   ]
  },
  {
   "cell_type": "code",
   "execution_count": 1,
   "id": "2872b82a",
   "metadata": {
    "ExecuteTime": {
     "end_time": "2022-09-01T17:37:15.360782Z",
     "start_time": "2022-09-01T17:37:12.891102Z"
    }
   },
   "outputs": [
    {
     "name": "stdout",
     "output_type": "stream",
     "text": [
      "11.2 8\n"
     ]
    },
    {
     "name": "stderr",
     "output_type": "stream",
     "text": [
      "2022-09-02 01:37:15.314380: I tensorflow/stream_executor/cuda/cuda_gpu_executor.cc:925] could not open file to read NUMA node: /sys/bus/pci/devices/0000:06:00.0/numa_node\n",
      "Your kernel may have been built without NUMA support.\n",
      "2022-09-02 01:37:15.358490: W tensorflow/stream_executor/platform/default/dso_loader.cc:64] Could not load dynamic library 'libcudnn.so.8'; dlerror: libcudnn.so.8: cannot open shared object file: No such file or directory\n",
      "2022-09-02 01:37:15.358502: W tensorflow/core/common_runtime/gpu/gpu_device.cc:1850] Cannot dlopen some GPU libraries. Please make sure the missing libraries mentioned above are installed properly if you would like to use GPU. Follow the guide at https://www.tensorflow.org/install/gpu for how to download and setup the required libraries for your platform.\n",
      "Skipping registering GPU devices...\n"
     ]
    }
   ],
   "source": [
    "import tensorflow as tf\n",
    "tf.config.list_physical_devices('GPU')\n",
    "sys_details = tf.sysconfig.get_build_info()\n",
    "cuda = sys_details[\"cuda_version\"]\n",
    "cudnn = sys_details[\"cudnn_version\"]\n",
    "print(cuda, cudnn)"
   ]
  },
  {
   "cell_type": "code",
   "execution_count": 2,
   "id": "17756d20",
   "metadata": {
    "ExecuteTime": {
     "end_time": "2022-09-01T18:42:08.592615Z",
     "start_time": "2022-09-01T18:42:08.590409Z"
    }
   },
   "outputs": [],
   "source": [
    "from tensorflow.python.client import device_lib\n",
    "\n",
    "def get_available_gpus():\n",
    "    local_device_protos = device_lib.list_local_devices()\n",
    "    return [x.name for x in local_device_protos]\n",
    "    print(get_available_gpus())"
   ]
  },
  {
   "cell_type": "code",
   "execution_count": 3,
   "id": "762f7739",
   "metadata": {
    "ExecuteTime": {
     "end_time": "2022-09-01T18:42:11.937313Z",
     "start_time": "2022-09-01T18:42:11.930213Z"
    }
   },
   "outputs": [
    {
     "name": "stderr",
     "output_type": "stream",
     "text": [
      "2022-09-02 02:42:11.931317: I tensorflow/stream_executor/cuda/cuda_gpu_executor.cc:961] could not open file to read NUMA node: /sys/bus/pci/devices/0000:06:00.0/numa_node\n",
      "Your kernel may have been built without NUMA support.\n",
      "2022-09-02 02:42:11.931351: W tensorflow/core/common_runtime/gpu/gpu_device.cc:1850] Cannot dlopen some GPU libraries. Please make sure the missing libraries mentioned above are installed properly if you would like to use GPU. Follow the guide at https://www.tensorflow.org/install/gpu for how to download and setup the required libraries for your platform.\n",
      "Skipping registering GPU devices...\n"
     ]
    },
    {
     "data": {
      "text/plain": [
       "['/device:CPU:0']"
      ]
     },
     "execution_count": 3,
     "metadata": {},
     "output_type": "execute_result"
    }
   ],
   "source": [
    "get_available_gpus()"
   ]
  },
  {
   "cell_type": "code",
   "execution_count": 4,
   "id": "de6a6cb8",
   "metadata": {
    "ExecuteTime": {
     "end_time": "2022-09-01T18:42:13.413952Z",
     "start_time": "2022-09-01T18:42:13.410933Z"
    }
   },
   "outputs": [
    {
     "name": "stdout",
     "output_type": "stream",
     "text": [
      "[name: \"/device:CPU:0\"\n",
      "device_type: \"CPU\"\n",
      "memory_limit: 268435456\n",
      "locality {\n",
      "}\n",
      "incarnation: 16393769485372866897\n",
      "xla_global_id: -1\n",
      "]\n"
     ]
    },
    {
     "name": "stderr",
     "output_type": "stream",
     "text": [
      "2022-09-02 02:42:13.412025: I tensorflow/stream_executor/cuda/cuda_gpu_executor.cc:961] could not open file to read NUMA node: /sys/bus/pci/devices/0000:06:00.0/numa_node\n",
      "Your kernel may have been built without NUMA support.\n",
      "2022-09-02 02:42:13.412064: W tensorflow/core/common_runtime/gpu/gpu_device.cc:1850] Cannot dlopen some GPU libraries. Please make sure the missing libraries mentioned above are installed properly if you would like to use GPU. Follow the guide at https://www.tensorflow.org/install/gpu for how to download and setup the required libraries for your platform.\n",
      "Skipping registering GPU devices...\n"
     ]
    }
   ],
   "source": [
    "\n",
    "from tensorflow.python.client import device_lib\n",
    "print(device_lib.list_local_devices())"
   ]
  },
  {
   "cell_type": "code",
   "execution_count": 5,
   "id": "1fab2fe4",
   "metadata": {
    "ExecuteTime": {
     "end_time": "2022-09-01T18:42:15.732030Z",
     "start_time": "2022-09-01T18:42:15.728984Z"
    }
   },
   "outputs": [
    {
     "name": "stdout",
     "output_type": "stream",
     "text": [
      "Num GPUs Available:  0\n"
     ]
    },
    {
     "name": "stderr",
     "output_type": "stream",
     "text": [
      "2022-09-02 02:42:15.730073: I tensorflow/stream_executor/cuda/cuda_gpu_executor.cc:961] could not open file to read NUMA node: /sys/bus/pci/devices/0000:06:00.0/numa_node\n",
      "Your kernel may have been built without NUMA support.\n",
      "2022-09-02 02:42:15.730113: W tensorflow/core/common_runtime/gpu/gpu_device.cc:1850] Cannot dlopen some GPU libraries. Please make sure the missing libraries mentioned above are installed properly if you would like to use GPU. Follow the guide at https://www.tensorflow.org/install/gpu for how to download and setup the required libraries for your platform.\n",
      "Skipping registering GPU devices...\n"
     ]
    }
   ],
   "source": [
    "import tensorflow as tf\n",
    "print(\"Num GPUs Available: \", len(tf.config.list_physical_devices('GPU')))"
   ]
  },
  {
   "cell_type": "code",
   "execution_count": 7,
   "id": "10b2b0a0",
   "metadata": {
    "ExecuteTime": {
     "end_time": "2022-09-01T18:42:28.608421Z",
     "start_time": "2022-09-01T18:42:28.605904Z"
    }
   },
   "outputs": [
    {
     "name": "stdout",
     "output_type": "stream",
     "text": [
      "[]\n"
     ]
    }
   ],
   "source": [
    "import tensorflow as tf; print(tf.config.list_physical_devices('GPU'))"
   ]
  },
  {
   "cell_type": "code",
   "execution_count": null,
   "id": "679d0f29",
   "metadata": {},
   "outputs": [],
   "source": []
  }
 ],
 "metadata": {
  "kernelspec": {
   "display_name": "Python 3 (ipykernel)",
   "language": "python",
   "name": "python3"
  },
  "language_info": {
   "codemirror_mode": {
    "name": "ipython",
    "version": 3
   },
   "file_extension": ".py",
   "mimetype": "text/x-python",
   "name": "python",
   "nbconvert_exporter": "python",
   "pygments_lexer": "ipython3",
   "version": "3.8.12"
  },
  "toc": {
   "base_numbering": 1,
   "nav_menu": {},
   "number_sections": true,
   "sideBar": true,
   "skip_h1_title": false,
   "title_cell": "Table of Contents",
   "title_sidebar": "Contents",
   "toc_cell": false,
   "toc_position": {},
   "toc_section_display": true,
   "toc_window_display": false
  }
 },
 "nbformat": 4,
 "nbformat_minor": 5
}

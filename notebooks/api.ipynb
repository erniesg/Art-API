{
 "cells": [
  {
   "cell_type": "code",
   "execution_count": 9,
   "id": "14e72185",
   "metadata": {
    "ExecuteTime": {
     "end_time": "2022-09-17T07:40:27.368203Z",
     "start_time": "2022-09-17T07:40:27.354317Z"
    }
   },
   "outputs": [],
   "source": [
    "PATH_USERS = '../raw_data/users'"
   ]
  },
  {
   "cell_type": "code",
   "execution_count": 6,
   "id": "177c74ef",
   "metadata": {
    "ExecuteTime": {
     "end_time": "2022-09-17T07:40:08.232331Z",
     "start_time": "2022-09-17T07:40:08.220487Z"
    }
   },
   "outputs": [],
   "source": [
    "from fastapi import FastAPI\n",
    "from fastapi.middleware.cors import CORSMiddleware\n",
    "#from TaxiFareModel.trainer import Trainer\n",
    "from datetime import datetime\n",
    "import pytz\n",
    "import pandas as pd\n",
    "import joblib\n",
    "import os\n",
    "import pandas as pd\n",
    "\n",
    "app = FastAPI()\n",
    "\n",
    "app.add_middleware(\n",
    "    CORSMiddleware,\n",
    "    allow_origins=[\"*\"],  # Allows all origins\n",
    "    allow_credentials=True,\n",
    "    allow_methods=[\"*\"],  # Allows all methods\n",
    "    allow_headers=[\"*\"],  # Allows all headers\n",
    ")\n",
    "\n",
    "@app.get(\"/\")\n",
    "def index():\n",
    "    return {\"greeting\": \"Hello world\"}\n",
    "\n",
    "@app.get(\"/post\")\n",
    "def post(id, input):\n",
    "    \n",
    "    params = dict(\n",
    "        id=id,\n",
    "        input=input)\n",
    "    \n",
    "    X_user = pd.DataFrame(data=params, index=[0])\n",
    "    X_user.to_csv(os.path.join(PATH_USERS, \"users.csv\"))\n",
    "    return X_user"
   ]
  },
  {
   "cell_type": "code",
   "execution_count": 11,
   "id": "5f5a4dfe",
   "metadata": {
    "ExecuteTime": {
     "end_time": "2022-09-17T08:02:06.138438Z",
     "start_time": "2022-09-17T08:02:06.110379Z"
    }
   },
   "outputs": [],
   "source": [
    "id = '123'\n",
    "input = 'test'"
   ]
  },
  {
   "cell_type": "code",
   "execution_count": 12,
   "id": "d98ef093",
   "metadata": {
    "ExecuteTime": {
     "end_time": "2022-09-17T08:02:07.057003Z",
     "start_time": "2022-09-17T08:02:07.023754Z"
    }
   },
   "outputs": [],
   "source": [
    "params = dict(\n",
    "    id=id,\n",
    "    input=input)\n",
    "    \n",
    "X_user = pd.DataFrame(data=params, index=[0])\n",
    "X_user.to_csv(os.path.join(PATH_USERS, \"users.csv\"))"
   ]
  },
  {
   "cell_type": "code",
   "execution_count": null,
   "id": "198ee1a2",
   "metadata": {},
   "outputs": [],
   "source": []
  }
 ],
 "metadata": {
  "kernelspec": {
   "display_name": "Python 3 (ipykernel)",
   "language": "python",
   "name": "python3"
  },
  "language_info": {
   "codemirror_mode": {
    "name": "ipython",
    "version": 3
   },
   "file_extension": ".py",
   "mimetype": "text/x-python",
   "name": "python",
   "nbconvert_exporter": "python",
   "pygments_lexer": "ipython3",
   "version": "3.8.12"
  },
  "toc": {
   "base_numbering": 1,
   "nav_menu": {},
   "number_sections": true,
   "sideBar": true,
   "skip_h1_title": false,
   "title_cell": "Table of Contents",
   "title_sidebar": "Contents",
   "toc_cell": false,
   "toc_position": {},
   "toc_section_display": true,
   "toc_window_display": false
  }
 },
 "nbformat": 4,
 "nbformat_minor": 5
}

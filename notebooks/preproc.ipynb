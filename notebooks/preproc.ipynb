{
 "cells": [
  {
   "cell_type": "code",
   "execution_count": 15,
   "id": "5219318d",
   "metadata": {
    "ExecuteTime": {
     "end_time": "2022-09-22T13:50:39.065524Z",
     "start_time": "2022-09-22T13:50:39.063381Z"
    }
   },
   "outputs": [],
   "source": [
    "from art_api import data, config\n",
    "import pandas as pd"
   ]
  },
  {
   "cell_type": "code",
   "execution_count": 189,
   "id": "fbacc229",
   "metadata": {
    "ExecuteTime": {
     "end_time": "2022-09-22T14:42:40.088030Z",
     "start_time": "2022-09-22T14:42:39.800979Z"
    }
   },
   "outputs": [],
   "source": [
    "df = pd.read_csv(f\"gs://{config.BUCKET_NAME}/{config.BUCKET_TRAIN_DATA_PATH}/{config.BUCKET_TRAIN_DATA_FILE}\")\n",
    "df.drop_duplicates(subset=[\"filename\"], inplace=True)"
   ]
  },
  {
   "cell_type": "code",
   "execution_count": 190,
   "id": "6fcc1566",
   "metadata": {
    "ExecuteTime": {
     "end_time": "2022-09-22T14:42:40.238451Z",
     "start_time": "2022-09-22T14:42:40.226832Z"
    }
   },
   "outputs": [
    {
     "name": "stdout",
     "output_type": "stream",
     "text": [
      "<class 'pandas.core.frame.DataFrame'>\n",
      "Int64Index: 8255 entries, 0 to 8295\n",
      "Data columns (total 17 columns):\n",
      " #   Column        Non-Null Count  Dtype \n",
      "---  ------        --------------  ----- \n",
      " 0   index         8255 non-null   int64 \n",
      " 1   Image URL     8255 non-null   object\n",
      " 2   Web page URL  8255 non-null   object\n",
      " 3   Subset        8255 non-null   object\n",
      " 4   Labels        8255 non-null   object\n",
      " 5   filename      8255 non-null   object\n",
      " 6   labels        8255 non-null   object\n",
      " 7   aeroplane     8255 non-null   int64 \n",
      " 8   bird          8255 non-null   int64 \n",
      " 9   boat          8255 non-null   int64 \n",
      " 10  chair         8255 non-null   int64 \n",
      " 11  cow           8255 non-null   int64 \n",
      " 12  diningtable   8255 non-null   int64 \n",
      " 13  dog           8255 non-null   int64 \n",
      " 14  horse         8255 non-null   int64 \n",
      " 15  sheep         8255 non-null   int64 \n",
      " 16  train         8255 non-null   int64 \n",
      "dtypes: int64(11), object(6)\n",
      "memory usage: 1.1+ MB\n"
     ]
    }
   ],
   "source": [
    "df.info()"
   ]
  },
  {
   "cell_type": "code",
   "execution_count": 177,
   "id": "5e33077b",
   "metadata": {
    "ExecuteTime": {
     "end_time": "2022-09-22T14:31:37.021159Z",
     "start_time": "2022-09-22T14:31:37.012440Z"
    }
   },
   "outputs": [],
   "source": [
    "import os\n",
    "from PIL import Image\n",
    "import numpy as np\n",
    "from tqdm import tqdm"
   ]
  },
  {
   "cell_type": "code",
   "execution_count": 179,
   "id": "363f4bd5",
   "metadata": {
    "ExecuteTime": {
     "end_time": "2022-09-22T14:32:16.066977Z",
     "start_time": "2022-09-22T14:32:16.063380Z"
    }
   },
   "outputs": [
    {
     "data": {
      "text/plain": [
       "Index(['index', 'Image URL', 'Web page URL', 'Subset', 'Labels', 'filename',\n",
       "       'labels', 'aeroplane', 'bird', 'boat', 'chair', 'cow', 'diningtable',\n",
       "       'dog', 'horse', 'sheep', 'train'],\n",
       "      dtype='object')"
      ]
     },
     "execution_count": 179,
     "metadata": {},
     "output_type": "execute_result"
    }
   ],
   "source": [
    "df_sample.columns"
   ]
  },
  {
   "cell_type": "code",
   "execution_count": 191,
   "id": "7d5fd76d",
   "metadata": {
    "ExecuteTime": {
     "end_time": "2022-09-22T14:43:04.747312Z",
     "start_time": "2022-09-22T14:43:04.743740Z"
    }
   },
   "outputs": [],
   "source": [
    "def save_array(df):\n",
    "    \"\"\"Save a numpy array from df\n",
    "    Args:\n",
    "    df - dataframe to be read\n",
    "    npy_file - name of numpy file\n",
    "    Returns:\n",
    "    .npy saved to raw_data directory based on npy_file\n",
    "    \"\"\"\n",
    "    imgs = []\n",
    "    for index, row in tqdm(df.iterrows()):\n",
    "        img_file = str(row[\"filename\"])\n",
    "        image = Image.open(os.path.join(config.PATH_YOURPAINTINGS_SM, img_file))   \n",
    "        imgs.append(np.array(image))\n",
    "        X = np.array(imgs)\n",
    "        np.save(\"../raw_data/X_array.npy\", X)\n",
    "        X.shape\n",
    "        y = df.drop(columns=['index', 'Image URL', 'Web page URL', 'Subset', 'Labels', 'filename', 'labels'])\n",
    "        y.shape\n",
    "    return X, y"
   ]
  },
  {
   "cell_type": "code",
   "execution_count": 192,
   "id": "aef8a440",
   "metadata": {
    "ExecuteTime": {
     "end_time": "2022-09-22T15:49:17.888746Z",
     "start_time": "2022-09-22T14:43:06.057019Z"
    }
   },
   "outputs": [
    {
     "name": "stderr",
     "output_type": "stream",
     "text": [
      "8255it [1:06:11,  2.08it/s]\n"
     ]
    }
   ],
   "source": [
    "X, y = save_array(df)"
   ]
  },
  {
   "cell_type": "code",
   "execution_count": 168,
   "id": "f92586b8",
   "metadata": {
    "ExecuteTime": {
     "end_time": "2022-09-22T14:23:31.047634Z",
     "start_time": "2022-09-22T14:23:31.043987Z"
    }
   },
   "outputs": [],
   "source": [
    "def sample(df):\n",
    "    '''Pass in any dataframe, and be able to sample based on defined classes [can be pre-defined list] and number of samples\n",
    "    Args:\n",
    "    df - pass in the dataframe to be sampled\n",
    "    \n",
    "    Returns:\n",
    "    df_sample - randomly select df w/ min_sample_num which is obtained from \n",
    "    '''\n",
    "    min_sample_num = df.select_dtypes(include=\"number\").sum().min()\n",
    "    \n",
    "    df_sample = pd.DataFrame()\n",
    "    \n",
    "    for cls in config.CLASSES:\n",
    "        df_cls = df.query(f\"{cls} == 1\").sample(n=min_sample_num)\n",
    "        df_sample = pd.concat([df_sample, df_cls])\n",
    "        print(f\"{min_sample_num} sampled per {cls}\")\n",
    "    print(\"\\ndropping duplicates based on filename\\n\")    \n",
    "    df_sample.drop_duplicates(subset=[\"filename\"], inplace=True)\n",
    "    print(f\"After sampling, number of positive labels per class as follows:\\n {df_sample.select_dtypes(include='number').sum()}, \\n\\nnumber of records in df_sample = {len(df_sample)}\")\n",
    "    \n",
    "    return df_sample"
   ]
  },
  {
   "cell_type": "code",
   "execution_count": 169,
   "id": "9c603645",
   "metadata": {
    "ExecuteTime": {
     "end_time": "2022-09-22T14:23:31.353071Z",
     "start_time": "2022-09-22T14:23:31.331391Z"
    }
   },
   "outputs": [
    {
     "name": "stdout",
     "output_type": "stream",
     "text": [
      "193 sampled per aeroplane\n",
      "193 sampled per bird\n",
      "193 sampled per boat\n",
      "193 sampled per chair\n",
      "193 sampled per cow\n",
      "193 sampled per diningtable\n",
      "193 sampled per dog\n",
      "193 sampled per horse\n",
      "193 sampled per sheep\n",
      "193 sampled per train\n",
      "\n",
      "dropping duplicates based on filename\n",
      "\n",
      "After sampling, number of positive labels per class as follows:\n",
      " index          8075558\n",
      "aeroplane          193\n",
      "bird               236\n",
      "boat               236\n",
      "chair              263\n",
      "cow                224\n",
      "diningtable        263\n",
      "dog                266\n",
      "horse              248\n",
      "sheep              227\n",
      "train              199\n",
      "dtype: int64, \n",
      "\n",
      "number of records in df_sample = 1884\n"
     ]
    }
   ],
   "source": [
    "df_sample = sample(df)"
   ]
  },
  {
   "cell_type": "code",
   "execution_count": 193,
   "id": "5b768f06",
   "metadata": {
    "ExecuteTime": {
     "end_time": "2022-09-22T15:49:17.903502Z",
     "start_time": "2022-09-22T15:49:17.890905Z"
    }
   },
   "outputs": [
    {
     "data": {
      "text/html": [
       "<div>\n",
       "<style scoped>\n",
       "    .dataframe tbody tr th:only-of-type {\n",
       "        vertical-align: middle;\n",
       "    }\n",
       "\n",
       "    .dataframe tbody tr th {\n",
       "        vertical-align: top;\n",
       "    }\n",
       "\n",
       "    .dataframe thead th {\n",
       "        text-align: right;\n",
       "    }\n",
       "</style>\n",
       "<table border=\"1\" class=\"dataframe\">\n",
       "  <thead>\n",
       "    <tr style=\"text-align: right;\">\n",
       "      <th></th>\n",
       "      <th>index</th>\n",
       "      <th>Image URL</th>\n",
       "      <th>Web page URL</th>\n",
       "      <th>Subset</th>\n",
       "      <th>Labels</th>\n",
       "      <th>filename</th>\n",
       "      <th>labels</th>\n",
       "      <th>aeroplane</th>\n",
       "      <th>bird</th>\n",
       "      <th>boat</th>\n",
       "      <th>chair</th>\n",
       "      <th>cow</th>\n",
       "      <th>diningtable</th>\n",
       "      <th>dog</th>\n",
       "      <th>horse</th>\n",
       "      <th>sheep</th>\n",
       "      <th>train</th>\n",
       "    </tr>\n",
       "  </thead>\n",
       "  <tbody>\n",
       "    <tr>\n",
       "      <th>5689</th>\n",
       "      <td>5846</td>\n",
       "      <td>https://d3d00swyhr67nd.cloudfront.net/w1200h12...</td>\n",
       "      <td>https://artuk.org/discover/artworks/shankar-at...</td>\n",
       "      <td>'train'</td>\n",
       "      <td>' aeroplane bird diningtable'</td>\n",
       "      <td>ABD_AAG_AG002362-001.jpg</td>\n",
       "      <td>['aeroplane', 'bird', 'diningtable']</td>\n",
       "      <td>1</td>\n",
       "      <td>1</td>\n",
       "      <td>0</td>\n",
       "      <td>0</td>\n",
       "      <td>0</td>\n",
       "      <td>1</td>\n",
       "      <td>0</td>\n",
       "      <td>0</td>\n",
       "      <td>0</td>\n",
       "      <td>0</td>\n",
       "    </tr>\n",
       "    <tr>\n",
       "      <th>5576</th>\n",
       "      <td>5724</td>\n",
       "      <td>https://d3d00swyhr67nd.cloudfront.net/w1200h12...</td>\n",
       "      <td>https://artuk.org/discover/artworks/scuttling-...</td>\n",
       "      <td>'test'</td>\n",
       "      <td>' aeroplane'</td>\n",
       "      <td>IWM_IWM_LD_7488-001.jpg</td>\n",
       "      <td>['aeroplane']</td>\n",
       "      <td>1</td>\n",
       "      <td>0</td>\n",
       "      <td>0</td>\n",
       "      <td>0</td>\n",
       "      <td>0</td>\n",
       "      <td>0</td>\n",
       "      <td>0</td>\n",
       "      <td>0</td>\n",
       "      <td>0</td>\n",
       "      <td>0</td>\n",
       "    </tr>\n",
       "    <tr>\n",
       "      <th>661</th>\n",
       "      <td>669</td>\n",
       "      <td>https://d3d00swyhr67nd.cloudfront.net/w944h944...</td>\n",
       "      <td>https://artuk.org/discover/artworks/aircraft-r...</td>\n",
       "      <td>'train'</td>\n",
       "      <td>' aeroplane'</td>\n",
       "      <td>NWM_PST_AC2011_A_0024-001.jpg</td>\n",
       "      <td>['aeroplane']</td>\n",
       "      <td>1</td>\n",
       "      <td>0</td>\n",
       "      <td>0</td>\n",
       "      <td>0</td>\n",
       "      <td>0</td>\n",
       "      <td>0</td>\n",
       "      <td>0</td>\n",
       "      <td>0</td>\n",
       "      <td>0</td>\n",
       "      <td>0</td>\n",
       "    </tr>\n",
       "    <tr>\n",
       "      <th>1057</th>\n",
       "      <td>1071</td>\n",
       "      <td>https://d3d00swyhr67nd.cloudfront.net/w1200h12...</td>\n",
       "      <td>https://artuk.org/discover/artworks/blitz-plan...</td>\n",
       "      <td>'train'</td>\n",
       "      <td>' aeroplane'</td>\n",
       "      <td>TATE_TATE_T11790_10-001.jpg</td>\n",
       "      <td>['aeroplane']</td>\n",
       "      <td>1</td>\n",
       "      <td>0</td>\n",
       "      <td>0</td>\n",
       "      <td>0</td>\n",
       "      <td>0</td>\n",
       "      <td>0</td>\n",
       "      <td>0</td>\n",
       "      <td>0</td>\n",
       "      <td>0</td>\n",
       "      <td>0</td>\n",
       "    </tr>\n",
       "    <tr>\n",
       "      <th>896</th>\n",
       "      <td>906</td>\n",
       "      <td>https://d3d00swyhr67nd.cloudfront.net/w944h944...</td>\n",
       "      <td>https://artuk.org/discover/artworks/beach-scen...</td>\n",
       "      <td>'test'</td>\n",
       "      <td>' aeroplane boat'</td>\n",
       "      <td>DOR_WVH_PCF1-001.jpg</td>\n",
       "      <td>['aeroplane', 'boat']</td>\n",
       "      <td>1</td>\n",
       "      <td>0</td>\n",
       "      <td>1</td>\n",
       "      <td>0</td>\n",
       "      <td>0</td>\n",
       "      <td>0</td>\n",
       "      <td>0</td>\n",
       "      <td>0</td>\n",
       "      <td>0</td>\n",
       "      <td>0</td>\n",
       "    </tr>\n",
       "    <tr>\n",
       "      <th>...</th>\n",
       "      <td>...</td>\n",
       "      <td>...</td>\n",
       "      <td>...</td>\n",
       "      <td>...</td>\n",
       "      <td>...</td>\n",
       "      <td>...</td>\n",
       "      <td>...</td>\n",
       "      <td>...</td>\n",
       "      <td>...</td>\n",
       "      <td>...</td>\n",
       "      <td>...</td>\n",
       "      <td>...</td>\n",
       "      <td>...</td>\n",
       "      <td>...</td>\n",
       "      <td>...</td>\n",
       "      <td>...</td>\n",
       "      <td>...</td>\n",
       "    </tr>\n",
       "    <tr>\n",
       "      <th>4478</th>\n",
       "      <td>4583</td>\n",
       "      <td>https://d3d00swyhr67nd.cloudfront.net/w1200h12...</td>\n",
       "      <td>https://artuk.org/discover/artworks/midland-an...</td>\n",
       "      <td>'validation'</td>\n",
       "      <td>' train'</td>\n",
       "      <td>NY_NRM_1996_7369-001.jpg</td>\n",
       "      <td>['train']</td>\n",
       "      <td>0</td>\n",
       "      <td>0</td>\n",
       "      <td>0</td>\n",
       "      <td>0</td>\n",
       "      <td>0</td>\n",
       "      <td>0</td>\n",
       "      <td>0</td>\n",
       "      <td>0</td>\n",
       "      <td>0</td>\n",
       "      <td>1</td>\n",
       "    </tr>\n",
       "    <tr>\n",
       "      <th>4257</th>\n",
       "      <td>4348</td>\n",
       "      <td>https://d3d00swyhr67nd.cloudfront.net/w1200h12...</td>\n",
       "      <td>https://artuk.org/discover/artworks/locomotive...</td>\n",
       "      <td>'test'</td>\n",
       "      <td>' train'</td>\n",
       "      <td>NY_NRM_1998_10348-001.jpg</td>\n",
       "      <td>['train']</td>\n",
       "      <td>0</td>\n",
       "      <td>0</td>\n",
       "      <td>0</td>\n",
       "      <td>0</td>\n",
       "      <td>0</td>\n",
       "      <td>0</td>\n",
       "      <td>0</td>\n",
       "      <td>0</td>\n",
       "      <td>0</td>\n",
       "      <td>1</td>\n",
       "    </tr>\n",
       "    <tr>\n",
       "      <th>7171</th>\n",
       "      <td>7425</td>\n",
       "      <td>https://d3d00swyhr67nd.cloudfront.net/w1200h12...</td>\n",
       "      <td>https://artuk.org/discover/artworks/the-southb...</td>\n",
       "      <td>'test'</td>\n",
       "      <td>' train'</td>\n",
       "      <td>NY_NRM_1978_1320-001.jpg</td>\n",
       "      <td>['train']</td>\n",
       "      <td>0</td>\n",
       "      <td>0</td>\n",
       "      <td>0</td>\n",
       "      <td>0</td>\n",
       "      <td>0</td>\n",
       "      <td>0</td>\n",
       "      <td>0</td>\n",
       "      <td>0</td>\n",
       "      <td>0</td>\n",
       "      <td>1</td>\n",
       "    </tr>\n",
       "    <tr>\n",
       "      <th>3038</th>\n",
       "      <td>3103</td>\n",
       "      <td>https://d3d00swyhr67nd.cloudfront.net/w1200h12...</td>\n",
       "      <td>https://artuk.org/discover/artworks/great-west...</td>\n",
       "      <td>'validation'</td>\n",
       "      <td>' train'</td>\n",
       "      <td>NY_NRM_1986_9435-001.jpg</td>\n",
       "      <td>['train']</td>\n",
       "      <td>0</td>\n",
       "      <td>0</td>\n",
       "      <td>0</td>\n",
       "      <td>0</td>\n",
       "      <td>0</td>\n",
       "      <td>0</td>\n",
       "      <td>0</td>\n",
       "      <td>0</td>\n",
       "      <td>0</td>\n",
       "      <td>1</td>\n",
       "    </tr>\n",
       "    <tr>\n",
       "      <th>6158</th>\n",
       "      <td>6355</td>\n",
       "      <td>https://d3d00swyhr67nd.cloudfront.net/w1200h12...</td>\n",
       "      <td>https://artuk.org/discover/artworks/st-pancras...</td>\n",
       "      <td>'train'</td>\n",
       "      <td>' train'</td>\n",
       "      <td>NY_NRM_1985_8915-001.jpg</td>\n",
       "      <td>['train']</td>\n",
       "      <td>0</td>\n",
       "      <td>0</td>\n",
       "      <td>0</td>\n",
       "      <td>0</td>\n",
       "      <td>0</td>\n",
       "      <td>0</td>\n",
       "      <td>0</td>\n",
       "      <td>0</td>\n",
       "      <td>0</td>\n",
       "      <td>1</td>\n",
       "    </tr>\n",
       "  </tbody>\n",
       "</table>\n",
       "<p>1884 rows × 17 columns</p>\n",
       "</div>"
      ],
      "text/plain": [
       "      index                                          Image URL  \\\n",
       "5689   5846  https://d3d00swyhr67nd.cloudfront.net/w1200h12...   \n",
       "5576   5724  https://d3d00swyhr67nd.cloudfront.net/w1200h12...   \n",
       "661     669  https://d3d00swyhr67nd.cloudfront.net/w944h944...   \n",
       "1057   1071  https://d3d00swyhr67nd.cloudfront.net/w1200h12...   \n",
       "896     906  https://d3d00swyhr67nd.cloudfront.net/w944h944...   \n",
       "...     ...                                                ...   \n",
       "4478   4583  https://d3d00swyhr67nd.cloudfront.net/w1200h12...   \n",
       "4257   4348  https://d3d00swyhr67nd.cloudfront.net/w1200h12...   \n",
       "7171   7425  https://d3d00swyhr67nd.cloudfront.net/w1200h12...   \n",
       "3038   3103  https://d3d00swyhr67nd.cloudfront.net/w1200h12...   \n",
       "6158   6355  https://d3d00swyhr67nd.cloudfront.net/w1200h12...   \n",
       "\n",
       "                                           Web page URL        Subset  \\\n",
       "5689  https://artuk.org/discover/artworks/shankar-at...       'train'   \n",
       "5576  https://artuk.org/discover/artworks/scuttling-...        'test'   \n",
       "661   https://artuk.org/discover/artworks/aircraft-r...       'train'   \n",
       "1057  https://artuk.org/discover/artworks/blitz-plan...       'train'   \n",
       "896   https://artuk.org/discover/artworks/beach-scen...        'test'   \n",
       "...                                                 ...           ...   \n",
       "4478  https://artuk.org/discover/artworks/midland-an...  'validation'   \n",
       "4257  https://artuk.org/discover/artworks/locomotive...        'test'   \n",
       "7171  https://artuk.org/discover/artworks/the-southb...        'test'   \n",
       "3038  https://artuk.org/discover/artworks/great-west...  'validation'   \n",
       "6158  https://artuk.org/discover/artworks/st-pancras...       'train'   \n",
       "\n",
       "                             Labels                       filename  \\\n",
       "5689  ' aeroplane bird diningtable'       ABD_AAG_AG002362-001.jpg   \n",
       "5576                   ' aeroplane'        IWM_IWM_LD_7488-001.jpg   \n",
       "661                    ' aeroplane'  NWM_PST_AC2011_A_0024-001.jpg   \n",
       "1057                   ' aeroplane'    TATE_TATE_T11790_10-001.jpg   \n",
       "896               ' aeroplane boat'           DOR_WVH_PCF1-001.jpg   \n",
       "...                             ...                            ...   \n",
       "4478                       ' train'       NY_NRM_1996_7369-001.jpg   \n",
       "4257                       ' train'      NY_NRM_1998_10348-001.jpg   \n",
       "7171                       ' train'       NY_NRM_1978_1320-001.jpg   \n",
       "3038                       ' train'       NY_NRM_1986_9435-001.jpg   \n",
       "6158                       ' train'       NY_NRM_1985_8915-001.jpg   \n",
       "\n",
       "                                    labels  aeroplane  bird  boat  chair  cow  \\\n",
       "5689  ['aeroplane', 'bird', 'diningtable']          1     1     0      0    0   \n",
       "5576                         ['aeroplane']          1     0     0      0    0   \n",
       "661                          ['aeroplane']          1     0     0      0    0   \n",
       "1057                         ['aeroplane']          1     0     0      0    0   \n",
       "896                  ['aeroplane', 'boat']          1     0     1      0    0   \n",
       "...                                    ...        ...   ...   ...    ...  ...   \n",
       "4478                             ['train']          0     0     0      0    0   \n",
       "4257                             ['train']          0     0     0      0    0   \n",
       "7171                             ['train']          0     0     0      0    0   \n",
       "3038                             ['train']          0     0     0      0    0   \n",
       "6158                             ['train']          0     0     0      0    0   \n",
       "\n",
       "      diningtable  dog  horse  sheep  train  \n",
       "5689            1    0      0      0      0  \n",
       "5576            0    0      0      0      0  \n",
       "661             0    0      0      0      0  \n",
       "1057            0    0      0      0      0  \n",
       "896             0    0      0      0      0  \n",
       "...           ...  ...    ...    ...    ...  \n",
       "4478            0    0      0      0      1  \n",
       "4257            0    0      0      0      1  \n",
       "7171            0    0      0      0      1  \n",
       "3038            0    0      0      0      1  \n",
       "6158            0    0      0      0      1  \n",
       "\n",
       "[1884 rows x 17 columns]"
      ]
     },
     "execution_count": 193,
     "metadata": {},
     "output_type": "execute_result"
    }
   ],
   "source": [
    "df_sample"
   ]
  },
  {
   "cell_type": "code",
   "execution_count": null,
   "id": "2af49b25",
   "metadata": {},
   "outputs": [],
   "source": []
  }
 ],
 "metadata": {
  "kernelspec": {
   "display_name": "Python 3 (ipykernel)",
   "language": "python",
   "name": "python3"
  },
  "language_info": {
   "codemirror_mode": {
    "name": "ipython",
    "version": 3
   },
   "file_extension": ".py",
   "mimetype": "text/x-python",
   "name": "python",
   "nbconvert_exporter": "python",
   "pygments_lexer": "ipython3",
   "version": "3.8.12"
  },
  "toc": {
   "base_numbering": 1,
   "nav_menu": {},
   "number_sections": true,
   "sideBar": true,
   "skip_h1_title": false,
   "title_cell": "Table of Contents",
   "title_sidebar": "Contents",
   "toc_cell": false,
   "toc_position": {},
   "toc_section_display": true,
   "toc_window_display": false
  }
 },
 "nbformat": 4,
 "nbformat_minor": 5
}

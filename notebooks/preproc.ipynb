{
 "cells": [
  {
   "cell_type": "code",
   "execution_count": 15,
   "id": "769407a0",
   "metadata": {
    "ExecuteTime": {
     "end_time": "2022-09-22T13:50:39.065524Z",
     "start_time": "2022-09-22T13:50:39.063381Z"
    }
   },
   "outputs": [],
   "source": [
    "from art_api import data, config\n",
    "import pandas as pd"
   ]
  },
  {
   "cell_type": "code",
   "execution_count": 189,
   "id": "beeeb4e7",
   "metadata": {
    "ExecuteTime": {
     "end_time": "2022-09-22T14:42:40.088030Z",
     "start_time": "2022-09-22T14:42:39.800979Z"
    }
   },
   "outputs": [],
   "source": [
    "df = pd.read_csv(f\"gs://{config.BUCKET_NAME}/{config.BUCKET_TRAIN_DATA_PATH}/{config.BUCKET_TRAIN_DATA_FILE}\")\n",
    "df.drop_duplicates(subset=[\"filename\"], inplace=True)"
   ]
  },
  {
   "cell_type": "code",
   "execution_count": 190,
   "id": "7edeec37",
   "metadata": {
    "ExecuteTime": {
     "end_time": "2022-09-22T14:42:40.238451Z",
     "start_time": "2022-09-22T14:42:40.226832Z"
    }
   },
   "outputs": [
    {
     "name": "stdout",
     "output_type": "stream",
     "text": [
      "<class 'pandas.core.frame.DataFrame'>\n",
      "Int64Index: 8255 entries, 0 to 8295\n",
      "Data columns (total 17 columns):\n",
      " #   Column        Non-Null Count  Dtype \n",
      "---  ------        --------------  ----- \n",
      " 0   index         8255 non-null   int64 \n",
      " 1   Image URL     8255 non-null   object\n",
      " 2   Web page URL  8255 non-null   object\n",
      " 3   Subset        8255 non-null   object\n",
      " 4   Labels        8255 non-null   object\n",
      " 5   filename      8255 non-null   object\n",
      " 6   labels        8255 non-null   object\n",
      " 7   aeroplane     8255 non-null   int64 \n",
      " 8   bird          8255 non-null   int64 \n",
      " 9   boat          8255 non-null   int64 \n",
      " 10  chair         8255 non-null   int64 \n",
      " 11  cow           8255 non-null   int64 \n",
      " 12  diningtable   8255 non-null   int64 \n",
      " 13  dog           8255 non-null   int64 \n",
      " 14  horse         8255 non-null   int64 \n",
      " 15  sheep         8255 non-null   int64 \n",
      " 16  train         8255 non-null   int64 \n",
      "dtypes: int64(11), object(6)\n",
      "memory usage: 1.1+ MB\n"
     ]
    }
   ],
   "source": [
    "df.info()"
   ]
  },
  {
   "cell_type": "code",
   "execution_count": 177,
   "id": "1fa60340",
   "metadata": {
    "ExecuteTime": {
     "end_time": "2022-09-22T14:31:37.021159Z",
     "start_time": "2022-09-22T14:31:37.012440Z"
    }
   },
   "outputs": [],
   "source": [
    "import os\n",
    "from PIL import Image\n",
    "import numpy as np\n",
    "from tqdm import tqdm"
   ]
  },
  {
   "cell_type": "code",
   "execution_count": 179,
   "id": "070618f8",
   "metadata": {
    "ExecuteTime": {
     "end_time": "2022-09-22T14:32:16.066977Z",
     "start_time": "2022-09-22T14:32:16.063380Z"
    }
   },
   "outputs": [
    {
     "data": {
      "text/plain": [
       "Index(['index', 'Image URL', 'Web page URL', 'Subset', 'Labels', 'filename',\n",
       "       'labels', 'aeroplane', 'bird', 'boat', 'chair', 'cow', 'diningtable',\n",
       "       'dog', 'horse', 'sheep', 'train'],\n",
       "      dtype='object')"
      ]
     },
     "execution_count": 179,
     "metadata": {},
     "output_type": "execute_result"
    }
   ],
   "source": [
    "df_sample.columns"
   ]
  },
  {
   "cell_type": "code",
   "execution_count": 191,
   "id": "0a76b366",
   "metadata": {
    "ExecuteTime": {
     "end_time": "2022-09-22T14:43:04.747312Z",
     "start_time": "2022-09-22T14:43:04.743740Z"
    }
   },
   "outputs": [],
   "source": [
    "def save_array(df):\n",
    "    \"\"\"Save a numpy array from df\n",
    "    Args:\n",
    "    df - dataframe to be read\n",
    "    npy_file - name of numpy file\n",
    "    Returns:\n",
    "    .npy saved to raw_data directory based on npy_file\n",
    "    \"\"\"\n",
    "    imgs = []\n",
    "    for index, row in tqdm(df.iterrows()):\n",
    "        img_file = str(row[\"filename\"])\n",
    "        image = Image.open(os.path.join(config.PATH_YOURPAINTINGS_SM, img_file))   \n",
    "        imgs.append(np.array(image))\n",
    "        X = np.array(imgs)\n",
    "        np.save(\"../raw_data/X_array.npy\", X)\n",
    "        X.shape\n",
    "        y = df.drop(columns=['index', 'Image URL', 'Web page URL', 'Subset', 'Labels', 'filename', 'labels'])\n",
    "        y.shape\n",
    "    return X, y"
   ]
  },
  {
   "cell_type": "code",
   "execution_count": null,
   "id": "00c07de2",
   "metadata": {
    "ExecuteTime": {
     "start_time": "2022-09-22T14:43:06.053Z"
    }
   },
   "outputs": [
    {
     "name": "stderr",
     "output_type": "stream",
     "text": [
      "5432it [28:04,  1.47it/s]"
     ]
    }
   ],
   "source": [
    "X, y = save_array(df)"
   ]
  },
  {
   "cell_type": "code",
   "execution_count": 168,
   "id": "160a92cc",
   "metadata": {
    "ExecuteTime": {
     "end_time": "2022-09-22T14:23:31.047634Z",
     "start_time": "2022-09-22T14:23:31.043987Z"
    }
   },
   "outputs": [],
   "source": [
    "def sample(df):\n",
    "    '''Pass in any dataframe, and be able to sample based on defined classes [can be pre-defined list] and number of samples\n",
    "    Args:\n",
    "    df - pass in the dataframe to be sampled\n",
    "    \n",
    "    Returns:\n",
    "    df_sample - randomly select df w/ min_sample_num which is obtained from \n",
    "    '''\n",
    "    min_sample_num = df.select_dtypes(include=\"number\").sum().min()\n",
    "    \n",
    "    df_sample = pd.DataFrame()\n",
    "    \n",
    "    for cls in config.CLASSES:\n",
    "        df_cls = df.query(f\"{cls} == 1\").sample(n=min_sample_num)\n",
    "        df_sample = pd.concat([df_sample, df_cls])\n",
    "        print(f\"{min_sample_num} sampled per {cls}\")\n",
    "    print(\"\\ndropping duplicates based on filename\\n\")    \n",
    "    df_sample.drop_duplicates(subset=[\"filename\"], inplace=True)\n",
    "    print(f\"After sampling, number of positive labels per class as follows:\\n {df_sample.select_dtypes(include='number').sum()}, \\n\\nnumber of records in df_sample = {len(df_sample)}\")\n",
    "    \n",
    "    return df_sample"
   ]
  },
  {
   "cell_type": "code",
   "execution_count": 169,
   "id": "709badba",
   "metadata": {
    "ExecuteTime": {
     "end_time": "2022-09-22T14:23:31.353071Z",
     "start_time": "2022-09-22T14:23:31.331391Z"
    }
   },
   "outputs": [
    {
     "name": "stdout",
     "output_type": "stream",
     "text": [
      "193 sampled per aeroplane\n",
      "193 sampled per bird\n",
      "193 sampled per boat\n",
      "193 sampled per chair\n",
      "193 sampled per cow\n",
      "193 sampled per diningtable\n",
      "193 sampled per dog\n",
      "193 sampled per horse\n",
      "193 sampled per sheep\n",
      "193 sampled per train\n",
      "\n",
      "dropping duplicates based on filename\n",
      "\n",
      "After sampling, number of positive labels per class as follows:\n",
      " index          8075558\n",
      "aeroplane          193\n",
      "bird               236\n",
      "boat               236\n",
      "chair              263\n",
      "cow                224\n",
      "diningtable        263\n",
      "dog                266\n",
      "horse              248\n",
      "sheep              227\n",
      "train              199\n",
      "dtype: int64, \n",
      "\n",
      "number of records in df_sample = 1884\n"
     ]
    }
   ],
   "source": [
    "df_sample = sample(df)"
   ]
  },
  {
   "cell_type": "code",
   "execution_count": null,
   "id": "6f5222d8",
   "metadata": {
    "ExecuteTime": {
     "start_time": "2022-09-22T14:50:19.234Z"
    }
   },
   "outputs": [],
   "source": [
    "df_sample"
   ]
  },
  {
   "cell_type": "code",
   "execution_count": null,
   "id": "a3908476",
   "metadata": {},
   "outputs": [],
   "source": []
  }
 ],
 "metadata": {
  "kernelspec": {
   "display_name": "Python 3 (ipykernel)",
   "language": "python",
   "name": "python3"
  },
  "language_info": {
   "codemirror_mode": {
    "name": "ipython",
    "version": 3
   },
   "file_extension": ".py",
   "mimetype": "text/x-python",
   "name": "python",
   "nbconvert_exporter": "python",
   "pygments_lexer": "ipython3",
   "version": "3.8.12"
  },
  "toc": {
   "base_numbering": 1,
   "nav_menu": {},
   "number_sections": true,
   "sideBar": true,
   "skip_h1_title": false,
   "title_cell": "Table of Contents",
   "title_sidebar": "Contents",
   "toc_cell": false,
   "toc_position": {},
   "toc_section_display": true,
   "toc_window_display": false
  }
 },
 "nbformat": 4,
 "nbformat_minor": 5
}

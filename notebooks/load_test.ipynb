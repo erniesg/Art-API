{
 "cells": [
  {
   "cell_type": "code",
   "execution_count": 1,
   "id": "db45eba4",
   "metadata": {
    "ExecuteTime": {
     "end_time": "2023-04-14T15:05:18.461742Z",
     "start_time": "2023-04-14T15:05:18.064673Z"
    }
   },
   "outputs": [],
   "source": [
    "import pandas as pd"
   ]
  },
  {
   "cell_type": "code",
   "execution_count": 8,
   "id": "5fa922fd",
   "metadata": {
    "ExecuteTime": {
     "end_time": "2023-04-14T15:13:28.137554Z",
     "start_time": "2023-04-14T15:13:26.367100Z"
    }
   },
   "outputs": [],
   "source": [
    "df = pd.read_excel(\"../raw_data/csv/Artplus 220808 List of Gallery works.xlsx\")"
   ]
  },
  {
   "cell_type": "code",
   "execution_count": 9,
   "id": "f27257dc",
   "metadata": {
    "ExecuteTime": {
     "end_time": "2023-04-14T15:15:11.163820Z",
     "start_time": "2023-04-14T15:15:11.096838Z"
    }
   },
   "outputs": [],
   "source": [
    "df.to_csv('../raw_data/csv/ngs_artplus_utf8sig.csv', encoding='utf-8-sig')"
   ]
  },
  {
   "cell_type": "code",
   "execution_count": 2,
   "id": "dfb8c7fd",
   "metadata": {
    "ExecuteTime": {
     "end_time": "2023-04-14T15:05:37.072940Z",
     "start_time": "2023-04-14T15:05:37.042814Z"
    }
   },
   "outputs": [],
   "source": [
    "df = pd.read_csv('../raw_data/csv/ngs_artplus.csv')"
   ]
  },
  {
   "cell_type": "code",
   "execution_count": 6,
   "id": "c3cfb462",
   "metadata": {
    "ExecuteTime": {
     "end_time": "2023-04-14T15:07:38.114054Z",
     "start_time": "2023-04-14T15:07:38.109463Z"
    }
   },
   "outputs": [
    {
     "data": {
      "text/plain": [
       "array(['CF - copyright documents received, full copyright granted:',\n",
       "       'CL - copyright documents received, limited copyright:', nan,\n",
       "       'CL - copyright documents received, limited copyright: ; Non-Exclusive Licence:',\n",
       "       'CF - copyright documents received, full copyright granted: ; CF - copyright documents received, full copyright granted:',\n",
       "       'NC - no contact (cannot find contact details, after at least 2 attempts to find contact details from different sources):',\n",
       "       'D - copyright denied: ; CL - copyright documents received, limited copyright:',\n",
       "       'N2 - no response after 2nd attempt (at least 6 weeks after 2nd letter sent):',\n",
       "       'D - copyright denied:', 'P - processing:',\n",
       "       'CE - copyright expired (no need to ask):',\n",
       "       'CL - copyright documents received, limited copyright (amended Schedule 2):',\n",
       "       'CF - copyright documents received; full copyright granted:',\n",
       "       'Non-Exclusive Licence: ; CF - copyright documents received, full copyright granted:',\n",
       "       'DP - Declines to sign schedule 2, must ask permission each time image is used:',\n",
       "       'CF - copyright documents received, full copyright granted: CC gave a copy of Schedule 2 to the grandson of Popo Iskandar, Anton Susanto, curator of Griya Seni Popo Iskandar in September 2013 during a research trip to Bandung. Susanto indicated they would review and the form needs to be signed by his father, the representative among the children of Popo Iskandar. CC followed up with an email on 14 October 2013 but did not receive a response.',\n",
       "       \"P - processing: Family has amendments to copyright form. Need to follow-up discussion for clearance with NHB legal counsel and Gallery's legal counsel.\",\n",
       "       \"N2 - no response after 2nd attempt (at least 6 weeks after 2nd letter sent): Copyright form was given to Annie Sarthou, Ben's partner, as Ben was out of town. The signed form will be collected at a later work trip to the Philippines. Annie noted Ben said that the medium was wrong for two of the works (1993-01355 and 1993-01356). These are not lithographs but etchings. CC tried to meet with them during their visit to Singapore in October 2013 for the Singapore biennale but they did not respond to her email suggesting appointment date.\",\n",
       "       'P - processing: Email was sent on 26 Aug 2013 for a meeting in person to discuss copyright. No response.',\n",
       "       'CE - copyright expired (no need to ask): Copyright has possibly expired (if following Indonesian copyright law).',\n",
       "       'CE - copyright expired (no need to ask): Copyright has expired',\n",
       "       'CE?: .',\n",
       "       'CF - copyright documents received, full copyright granted: Amendment to artwork details for \"Blood Law\" work. Artist has changed the title to \"Blood of War\".',\n",
       "       'CF - copyright documents received, full copyright granted: Vu Giang Huong: Amendment to artwork details - material. Note on form reiterates that copyright clearance applies to \"Ho Chi Minh Trail\" artwork only. Nguyen Thu: Amendment to artwork details.',\n",
       "       'CF - copyright documents received, full copyright granted: Note on form reiterates that form only applies to \"Landscape of Cho Bo\" artwork.',\n",
       "       'CF - copyright documents received, full copyright granted: The artist is still alive but not in a state to sign legal documents. Schedule 2 and its translation were signed by his daughter who has power-of-attorney.',\n",
       "       'CF - copyright documents received, full copyright granted: Copyright, NHB SAM 2.B. Vol.4(B)',\n",
       "       'CF - copyright documents received, full copyright granted: Copyright, NHB SAM 2.B Vol.5(B)',\n",
       "       'CL - copyright documents received, limited copyright (amended Schedule 2): NHB SAM 8.A Vol. 14',\n",
       "       'CL - copyright documents received; limited copyright (amended Schedule 2):',\n",
       "       'CE - copyright expired (no need to ask): ; D - copyright denied:',\n",
       "       'Non-Exclusive Licence:',\n",
       "       'Non-Exclusive Licence: ; CL - copyright documents received, limited copyright:',\n",
       "       'Copyright : research purpose only: ; Non-Exclusive Licence: ; CL - copyright documents received, limited copyright:',\n",
       "       'Exclusive Licence: ; CF - copyright documents received, full copyright granted:',\n",
       "       'Copyright : research purpose only: ; Non-Exclusive Licence:',\n",
       "       'Copyright : research purpose only:',\n",
       "       'NC - no contact (cannot find contact details, after at least 2 attempts to find contact details from different sources): ; P - processing:',\n",
       "       'Non-Exclusive Licence: ; CE - copyright expired (no need to ask):',\n",
       "       'Full transfer of rights:', 'Exclusive Licence:',\n",
       "       'Copyright : research purpose only: ; Non-Exclusive Licence: ; CL - copyright documents received, limited copyright: ; CL - copyright documents received, limited copyright:',\n",
       "       'Copyright : research purpose only: ; CL - copyright documents received, limited copyright:',\n",
       "       'Non-Exclusive Licence: ; CF - copyright documents received; full copyright granted:',\n",
       "       'Exclusive Licence: ; CL - copyright documents received, limited copyright:',\n",
       "       'Copyright: ; Copyright:',\n",
       "       'Copyright : research purpose only: ; CL - copyright documents received, limited copyright: ; Non-Exclusive Licence:',\n",
       "       'Non-Exclusive Licence: ; CL - copyright documents received, limited copyright: ; P - processing:',\n",
       "       'Out of IP protection:', 'Copyright:',\n",
       "       'P - processing: ; NC - no contact (cannot find contact details, after at least 2 attempts to find contact details from different sources):'],\n",
       "      dtype=object)"
      ]
     },
     "execution_count": 6,
     "metadata": {},
     "output_type": "execute_result"
    }
   ],
   "source": [
    "df['Rights'].unique()"
   ]
  },
  {
   "cell_type": "code",
   "execution_count": 7,
   "id": "c6795741",
   "metadata": {
    "ExecuteTime": {
     "end_time": "2023-04-14T15:09:03.913335Z",
     "start_time": "2023-04-14T15:09:03.910472Z"
    }
   },
   "outputs": [
    {
     "ename": "SyntaxError",
     "evalue": "unexpected EOF while parsing (3545656021.py, line 1)",
     "output_type": "error",
     "traceback": [
      "\u001b[0;36m  Input \u001b[0;32mIn [7]\u001b[0;36m\u001b[0m\n\u001b[0;31m    df[df['Rights'] != ['NC - no contact (cannot find contact details, after at least 2 attempts to find contact details from different sources):', 'D - copyright denied: ; CL - copyright documents received, limited copyright:']\u001b[0m\n\u001b[0m                                                                                                                                                                                                                                    ^\u001b[0m\n\u001b[0;31mSyntaxError\u001b[0m\u001b[0;31m:\u001b[0m unexpected EOF while parsing\n"
     ]
    }
   ],
   "source": [
    "df[df['Rights'] != ['NC - no contact (cannot find contact details, after at least 2 attempts to find contact details from different sources):', 'D - copyright denied: ; CL - copyright documents received, limited copyright:']"
   ]
  },
  {
   "cell_type": "code",
   "execution_count": null,
   "id": "c3b810a9",
   "metadata": {},
   "outputs": [],
   "source": []
  }
 ],
 "metadata": {
  "kernelspec": {
   "display_name": "Python 3 (ipykernel)",
   "language": "python",
   "name": "python3"
  },
  "language_info": {
   "codemirror_mode": {
    "name": "ipython",
    "version": 3
   },
   "file_extension": ".py",
   "mimetype": "text/x-python",
   "name": "python",
   "nbconvert_exporter": "python",
   "pygments_lexer": "ipython3",
   "version": "3.8.12"
  },
  "toc": {
   "base_numbering": 1,
   "nav_menu": {},
   "number_sections": true,
   "sideBar": true,
   "skip_h1_title": false,
   "title_cell": "Table of Contents",
   "title_sidebar": "Contents",
   "toc_cell": false,
   "toc_position": {},
   "toc_section_display": true,
   "toc_window_display": false
  }
 },
 "nbformat": 4,
 "nbformat_minor": 5
}

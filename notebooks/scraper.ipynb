{
 "cells": [
  {
   "cell_type": "code",
   "execution_count": 45,
   "id": "b5a1ad86",
   "metadata": {
    "ExecuteTime": {
     "end_time": "2023-03-08T21:25:37.555753Z",
     "start_time": "2023-03-08T20:01:37.358781Z"
    }
   },
   "outputs": [
    {
     "name": "stdout",
     "output_type": "stream",
     "text": [
      "clicked on artworks\n",
      "Total images - 7210\n"
     ]
    }
   ],
   "source": [
    "import time\n",
    "import base64\n",
    "from io import BytesIO\n",
    "import re\n",
    "import os\n",
    "\n",
    "from selenium import webdriver\n",
    "from selenium.webdriver.chrome.service import Service\n",
    "from selenium.webdriver.common.by import By\n",
    "from selenium.webdriver.common.keys import Keys\n",
    "from selenium.common.exceptions import ElementClickInterceptedException\n",
    "from selenium.webdriver.support.wait import WebDriverWait\n",
    "from selenium.webdriver.support import expected_conditions as EC\n",
    "from webdriver_manager.chrome import ChromeDriverManager\n",
    "import requests\n",
    "from PIL import Image\n",
    "from selenium.webdriver.chrome.options import Options\n",
    "import urllib\n",
    "import pandas as pd\n",
    "import csv\n",
    "import numpy as np\n",
    "\n",
    "# instance of Options class allows\n",
    "# us to configure Headless Chrome\n",
    "options = Options()\n",
    "  \n",
    "# this parameter tells Chrome that\n",
    "# it should be run without UI (Headless)\n",
    "options.headless = True\n",
    "  \n",
    "# initializing webdriver for Chrome with our options\n",
    "#driver = webdriver.Chrome()\n",
    "\n",
    "cwd = os.getcwd()\n",
    "IMAGE_FOLDER = 'ngs_all'\n",
    "os.makedirs(\n",
    "    name=f'{cwd}/{IMAGE_FOLDER}',\n",
    "    exist_ok=True\n",
    ")\n",
    "\n",
    "service = Service(ChromeDriverManager().install())\n",
    "# driver = webdriver.Chrome(\n",
    "#     service=service,\n",
    "#     options=options\n",
    "# )\n",
    "options = Options()\n",
    "options.headless = True\n",
    "driver = webdriver.Chrome('/usr/local/bin/chromedriver', options=options)\n",
    "\n",
    "SLEEP_TIME = 10\n",
    "\n",
    "driver.get('https://collections.nationalgallery.sg')\n",
    "wait = WebDriverWait(driver, 10)\n",
    "artwork = wait.until(EC.element_to_be_clickable((By.PARTIAL_LINK_TEXT,\"ARTWORK\")))\n",
    "artwork.click()\n",
    "print(\"clicked on artworks\")\n",
    "element = driver.find_element_by_tag_name(\"body\")\n",
    "time.sleep(3)\n",
    "previous_height = driver.execute_script('return document.body.scrollHeight')\n",
    "\n",
    "while True:\n",
    "    driver.execute_script('window.scrollTo(0, document.body.scrollHeight);')\n",
    "    time.sleep(10)\n",
    "    new_height = driver.execute_script('return document.body.scrollHeight')\n",
    "    if new_height == previous_height:\n",
    "        img_results = driver.find_elements(by=By.XPATH, value=\"//img[contains(@class,'grid-img image-responsive')]\")\n",
    "\n",
    "        total_images = len(img_results)\n",
    "\n",
    "        print(f'Total images - {total_images}')\n",
    "        src = []\n",
    "        links = []\n",
    "\n",
    "        for img_result in img_results:\n",
    "            url = img_result.get_attribute(\"src\")\n",
    "            src.append(url)\n",
    "        np.savetxt(\"img_url.csv\", src, fmt='%s')\n",
    "            \n",
    "        time.sleep(10)\n",
    "\n",
    "        lnks = driver.find_elements_by_tag_name(\"a\")\n",
    "        # traverse list\n",
    "        for lnk in lnks:\n",
    "            url = lnk.get_attribute(\"href\")\n",
    "            links.append(url)\n",
    "        np.savetxt(\"links_url.csv\", links, fmt='%s')\n",
    "        time.sleep(10)\n",
    "        break\n",
    "    previous_height = new_height\n",
    "\n",
    "    \n",
    "# element.send_keys(Keys.PAGE_DOWN)\n",
    "\n",
    "# element.send_keys(Keys.PAGE_DOWN)\n",
    "# time.sleep(3)\n",
    "\n",
    "# time.sleep(5)\n",
    "# wait = WebDriverWait(driver, 10)\n",
    "# # links = wait.until(EC.presence_of_all_elements_located((By.CSS_SELECTOR,\"div.col-md-12 collection pt-4\")))\n",
    "# # for link in links:\n",
    "# #     print(link.get_attribute(\"href\"))\n",
    "# for elem in div:\n",
    "#     print(elem.get_attribute(\"href\"))\n"
   ]
  },
  {
   "cell_type": "code",
   "execution_count": null,
   "id": "49694017",
   "metadata": {},
   "outputs": [],
   "source": [
    "#     img_results = driver.find_elements(\n",
    "#         by=By.XPATH,\n",
    "#         value=\"//img[contains(@class,'rg_i Q4LuWd')]\"\n",
    "#     )\n",
    "\n",
    "#     total_images = len(img_results)\n",
    "\n",
    "#     print(f'Total images - {total_images}')"
   ]
  },
  {
   "cell_type": "code",
   "execution_count": 1,
   "id": "120a02bd",
   "metadata": {
    "ExecuteTime": {
     "end_time": "2023-03-08T17:33:53.865920Z",
     "start_time": "2023-03-08T17:33:53.840068Z"
    }
   },
   "outputs": [],
   "source": [
    "from selenium import webdriver\n",
    "from selenium.webdriver.chrome.service import Service"
   ]
  },
  {
   "cell_type": "code",
   "execution_count": 27,
   "id": "6d2b79fe",
   "metadata": {
    "ExecuteTime": {
     "end_time": "2023-03-08T17:57:29.164311Z",
     "start_time": "2023-03-08T17:57:00.928872Z"
    },
    "scrolled": false
   },
   "outputs": [
    {
     "ename": "TimeoutException",
     "evalue": "Message: \n",
     "output_type": "error",
     "traceback": [
      "\u001b[0;31m---------------------------------------------------------------------------\u001b[0m",
      "\u001b[0;31mTimeoutException\u001b[0m                          Traceback (most recent call last)",
      "Input \u001b[0;32mIn [27]\u001b[0m, in \u001b[0;36m<cell line: 14>\u001b[0;34m()\u001b[0m\n\u001b[1;32m     12\u001b[0m d\u001b[38;5;241m.\u001b[39mget(\u001b[38;5;124m'\u001b[39m\u001b[38;5;124mhttps://webscraper.io/test-sites/e-commerce/allinone\u001b[39m\u001b[38;5;124m'\u001b[39m)\n\u001b[1;32m     13\u001b[0m wait \u001b[38;5;241m=\u001b[39m WebDriverWait(d, \u001b[38;5;241m10\u001b[39m)\n\u001b[0;32m---> 14\u001b[0m artwork \u001b[38;5;241m=\u001b[39m \u001b[43mwait\u001b[49m\u001b[38;5;241;43m.\u001b[39;49m\u001b[43muntil\u001b[49m\u001b[43m(\u001b[49m\u001b[43mEC\u001b[49m\u001b[38;5;241;43m.\u001b[39;49m\u001b[43melement_to_be_clickable\u001b[49m\u001b[43m(\u001b[49m\u001b[43m(\u001b[49m\u001b[43mBy\u001b[49m\u001b[38;5;241;43m.\u001b[39;49m\u001b[43mLINK_TEXT\u001b[49m\u001b[43m,\u001b[49m\u001b[38;5;124;43m\"\u001b[39;49m\u001b[38;5;124;43mPrestigio SmartBook 133S Gold\u001b[39;49m\u001b[38;5;124;43m\"\u001b[39;49m\u001b[43m)\u001b[49m\u001b[43m)\u001b[49m\u001b[43m)\u001b[49m\n\u001b[1;32m     15\u001b[0m element\u001b[38;5;241m.\u001b[39mclick()\n\u001b[1;32m     16\u001b[0m \u001b[38;5;28mprint\u001b[39m(\u001b[38;5;124m\"\u001b[39m\u001b[38;5;124mclicked on artworks\u001b[39m\u001b[38;5;124m\"\u001b[39m)\n",
      "File \u001b[0;32m~/.pyenv/versions/3.8.12/envs/lewagon/lib/python3.8/site-packages/selenium/webdriver/support/wait.py:80\u001b[0m, in \u001b[0;36mWebDriverWait.until\u001b[0;34m(self, method, message)\u001b[0m\n\u001b[1;32m     78\u001b[0m     \u001b[38;5;28;01mif\u001b[39;00m time\u001b[38;5;241m.\u001b[39mtime() \u001b[38;5;241m>\u001b[39m end_time:\n\u001b[1;32m     79\u001b[0m         \u001b[38;5;28;01mbreak\u001b[39;00m\n\u001b[0;32m---> 80\u001b[0m \u001b[38;5;28;01mraise\u001b[39;00m TimeoutException(message, screen, stacktrace)\n",
      "\u001b[0;31mTimeoutException\u001b[0m: Message: \n"
     ]
    }
   ],
   "source": [
    "import time\n",
    "from selenium import webdriver\n",
    "from selenium.webdriver.chrome.options import Options\n",
    "from selenium.webdriver.common.by import By\n",
    "from selenium.webdriver.support.ui import WebDriverWait\n",
    "from selenium.webdriver.support import expected_conditions as EC\n",
    "\n",
    "chrome_options = Options()\n",
    "chrome_options.add_argument('--headless')\n",
    "#chrome_options.add_argument('--no-sandbox')\n",
    "chrome_options.add_argument('--disable-dev-shm-usage')\n",
    "d = webdriver.Chrome('/usr/local/bin/chromedriver',options=chrome_options)\n",
    "d.get('https://webscraper.io/test-sites/e-commerce/allinone')\n",
    "wait = WebDriverWait(d, 10)\n",
    "artwork = wait.until(EC.element_to_be_clickable((By.LINK_TEXT,\"Prestigio SmartBook 133S Gold\")))\n",
    "element.click()\n",
    "print(\"clicked on artworks\")\n",
    "# try:\n",
    "#     element = WebDriverWait(d, 10).until(\n",
    "#         EC.presence_of_element_located((By.CLASS_NAME, \"p-3 ng-binding\"))\n",
    "#     )\n",
    "#     element.click()\n",
    "#     print(\"clicked on artworks\")\n",
    "\n",
    "# finally:\n",
    "#     d.quit()"
   ]
  },
  {
   "cell_type": "code",
   "execution_count": 2,
   "id": "e41141bc",
   "metadata": {
    "ExecuteTime": {
     "end_time": "2023-03-08T17:33:58.883742Z",
     "start_time": "2023-03-08T17:33:58.358755Z"
    }
   },
   "outputs": [
    {
     "ename": "TypeError",
     "evalue": "__init__() got an unexpected keyword argument 'service'",
     "output_type": "error",
     "traceback": [
      "\u001b[0;31m---------------------------------------------------------------------------\u001b[0m",
      "\u001b[0;31mTypeError\u001b[0m                                 Traceback (most recent call last)",
      "Input \u001b[0;32mIn [2]\u001b[0m, in \u001b[0;36m<cell line: 18>\u001b[0;34m()\u001b[0m\n\u001b[1;32m     15\u001b[0m webdriver_service \u001b[38;5;241m=\u001b[39m Service(\u001b[38;5;124mf\u001b[39m\u001b[38;5;124m\"\u001b[39m\u001b[38;5;132;01m{\u001b[39;00mhomedir\u001b[38;5;132;01m}\u001b[39;00m\u001b[38;5;124m/chromedriver/stable/chromedriver\u001b[39m\u001b[38;5;124m\"\u001b[39m)\n\u001b[1;32m     17\u001b[0m \u001b[38;5;66;03m# Choose Chrome Browser\u001b[39;00m\n\u001b[0;32m---> 18\u001b[0m browser \u001b[38;5;241m=\u001b[39m \u001b[43mwebdriver\u001b[49m\u001b[38;5;241;43m.\u001b[39;49m\u001b[43mChrome\u001b[49m\u001b[43m(\u001b[49m\u001b[43mservice\u001b[49m\u001b[38;5;241;43m=\u001b[39;49m\u001b[43mwebdriver_service\u001b[49m\u001b[43m,\u001b[49m\u001b[43m \u001b[49m\u001b[43moptions\u001b[49m\u001b[38;5;241;43m=\u001b[39;49m\u001b[43mchrome_options\u001b[49m\u001b[43m)\u001b[49m\n\u001b[1;32m     20\u001b[0m \u001b[38;5;66;03m# Get page\u001b[39;00m\n\u001b[1;32m     21\u001b[0m browser\u001b[38;5;241m.\u001b[39mget(\u001b[38;5;124m\"\u001b[39m\u001b[38;5;124mhttps://cloudbytes.dev\u001b[39m\u001b[38;5;124m\"\u001b[39m)\n",
      "\u001b[0;31mTypeError\u001b[0m: __init__() got an unexpected keyword argument 'service'"
     ]
    }
   ],
   "source": [
    "import time\n",
    "import os.path\n",
    "from selenium import webdriver\n",
    "from selenium.webdriver.chrome.service import Service\n",
    "from selenium.webdriver.common.by import By\n",
    "from selenium.webdriver.chrome.options import Options\n",
    "\n",
    "## Setup chrome options\n",
    "chrome_options = Options()\n",
    "chrome_options.add_argument(\"--headless\") # Ensure GUI is off\n",
    "chrome_options.add_argument(\"--no-sandbox\")\n",
    "\n",
    "# Set path to chromedriver as per your configuration\n",
    "homedir = os.path.expanduser(\"~\")\n",
    "webdriver_service = Service(f\"{homedir}/chromedriver/stable/chromedriver\")\n",
    "\n",
    "# Choose Chrome Browser\n",
    "browser = webdriver.Chrome(service=webdriver_service, options=chrome_options)\n",
    "\n",
    "# Get page\n",
    "browser.get(\"https://cloudbytes.dev\")\n",
    "\n",
    "# Extract description from page and print\n",
    "description = browser.find_element(By.NAME, \"description\").get_attribute(\"content\")\n",
    "print(f\"{description}\")\n",
    "\n",
    "#Wait for 10 seconds\n",
    "time.sleep(10)\n",
    "browser.quit()"
   ]
  },
  {
   "cell_type": "code",
   "execution_count": null,
   "id": "02c2b67e",
   "metadata": {},
   "outputs": [],
   "source": []
  }
 ],
 "metadata": {
  "kernelspec": {
   "display_name": "Python 3 (ipykernel)",
   "language": "python",
   "name": "python3"
  },
  "language_info": {
   "codemirror_mode": {
    "name": "ipython",
    "version": 3
   },
   "file_extension": ".py",
   "mimetype": "text/x-python",
   "name": "python",
   "nbconvert_exporter": "python",
   "pygments_lexer": "ipython3",
   "version": "3.8.12"
  },
  "toc": {
   "base_numbering": 1,
   "nav_menu": {},
   "number_sections": true,
   "sideBar": true,
   "skip_h1_title": false,
   "title_cell": "Table of Contents",
   "title_sidebar": "Contents",
   "toc_cell": false,
   "toc_position": {},
   "toc_section_display": true,
   "toc_window_display": false
  }
 },
 "nbformat": 4,
 "nbformat_minor": 5
}

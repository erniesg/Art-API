{
 "cells": [
  {
   "cell_type": "code",
   "execution_count": 1,
   "id": "4c64036e",
   "metadata": {
    "ExecuteTime": {
     "end_time": "2022-08-30T12:24:11.035285Z",
     "start_time": "2022-08-30T12:24:04.660787Z"
    }
   },
   "outputs": [],
   "source": [
    "import pandas as pd\n",
    "import glob\n",
    "import os\n",
    "import re\n",
    "import numpy as np\n",
    "import pathlib\n",
    "from PIL import Image\n",
    "from sklearn.preprocessing import MultiLabelBinarizer\n",
    "from tensorflow.keras import Sequential, layers\n",
    "from tensorflow.keras import optimizers\n",
    "from tensorflow.keras.callbacks import EarlyStopping\n",
    "from tensorflow.keras.layers.experimental.preprocessing import Rescaling\n",
    "%load_ext autoreload"
   ]
  },
  {
   "cell_type": "code",
   "execution_count": 2,
   "id": "13b4a09b",
   "metadata": {
    "ExecuteTime": {
     "end_time": "2022-08-30T12:24:11.080458Z",
     "start_time": "2022-08-30T12:24:11.038246Z"
    }
   },
   "outputs": [],
   "source": [
    "df_yourpaintings = pd.read_csv(\"../raw_data/yourpaintings/painting_dataset_2021.csv\")"
   ]
  },
  {
   "cell_type": "code",
   "execution_count": 3,
   "id": "88871d4a",
   "metadata": {
    "ExecuteTime": {
     "end_time": "2022-08-30T12:24:11.101335Z",
     "start_time": "2022-08-30T12:24:11.084699Z"
    }
   },
   "outputs": [
    {
     "data": {
      "text/html": [
       "<div>\n",
       "<style scoped>\n",
       "    .dataframe tbody tr th:only-of-type {\n",
       "        vertical-align: middle;\n",
       "    }\n",
       "\n",
       "    .dataframe tbody tr th {\n",
       "        vertical-align: top;\n",
       "    }\n",
       "\n",
       "    .dataframe thead th {\n",
       "        text-align: right;\n",
       "    }\n",
       "</style>\n",
       "<table border=\"1\" class=\"dataframe\">\n",
       "  <thead>\n",
       "    <tr style=\"text-align: right;\">\n",
       "      <th></th>\n",
       "      <th>Image URL</th>\n",
       "      <th>Web page URL</th>\n",
       "      <th>Subset</th>\n",
       "      <th>Labels</th>\n",
       "    </tr>\n",
       "  </thead>\n",
       "  <tbody>\n",
       "    <tr>\n",
       "      <th>0</th>\n",
       "      <td>https://d3d00swyhr67nd.cloudfront.net/w1200h12...</td>\n",
       "      <td>https://artuk.org/discover/artworks/and-the-co...</td>\n",
       "      <td>'test'</td>\n",
       "      <td>' cow'</td>\n",
       "    </tr>\n",
       "    <tr>\n",
       "      <th>1</th>\n",
       "      <td>https://d3d00swyhr67nd.cloudfront.net/w1200h12...</td>\n",
       "      <td>https://artuk.org/discover/artworks/0-6-00-6-0...</td>\n",
       "      <td>'train'</td>\n",
       "      <td>' train'</td>\n",
       "    </tr>\n",
       "    <tr>\n",
       "      <th>2</th>\n",
       "      <td>https://d3d00swyhr67nd.cloudfront.net/w1200h12...</td>\n",
       "      <td>https://artuk.org/discover/artworks/044t-locom...</td>\n",
       "      <td>'train'</td>\n",
       "      <td>' train'</td>\n",
       "    </tr>\n",
       "    <tr>\n",
       "      <th>3</th>\n",
       "      <td>https://d3d00swyhr67nd.cloudfront.net/w1200h12...</td>\n",
       "      <td>https://artuk.org/discover/artworks/080-locomo...</td>\n",
       "      <td>'test'</td>\n",
       "      <td>' train'</td>\n",
       "    </tr>\n",
       "    <tr>\n",
       "      <th>4</th>\n",
       "      <td>https://d3d00swyhr67nd.cloudfront.net/w1200h12...</td>\n",
       "      <td>https://artuk.org/discover/artworks/17th-and-2...</td>\n",
       "      <td>'test'</td>\n",
       "      <td>' horse'</td>\n",
       "    </tr>\n",
       "  </tbody>\n",
       "</table>\n",
       "</div>"
      ],
      "text/plain": [
       "                                           Image URL  \\\n",
       "0  https://d3d00swyhr67nd.cloudfront.net/w1200h12...   \n",
       "1  https://d3d00swyhr67nd.cloudfront.net/w1200h12...   \n",
       "2  https://d3d00swyhr67nd.cloudfront.net/w1200h12...   \n",
       "3  https://d3d00swyhr67nd.cloudfront.net/w1200h12...   \n",
       "4  https://d3d00swyhr67nd.cloudfront.net/w1200h12...   \n",
       "\n",
       "                                        Web page URL   Subset    Labels  \n",
       "0  https://artuk.org/discover/artworks/and-the-co...   'test'    ' cow'  \n",
       "1  https://artuk.org/discover/artworks/0-6-00-6-0...  'train'  ' train'  \n",
       "2  https://artuk.org/discover/artworks/044t-locom...  'train'  ' train'  \n",
       "3  https://artuk.org/discover/artworks/080-locomo...   'test'  ' train'  \n",
       "4  https://artuk.org/discover/artworks/17th-and-2...   'test'  ' horse'  "
      ]
     },
     "execution_count": 3,
     "metadata": {},
     "output_type": "execute_result"
    }
   ],
   "source": [
    "df_yourpaintings.head()"
   ]
  },
  {
   "cell_type": "code",
   "execution_count": 4,
   "id": "0cf3aaad",
   "metadata": {
    "ExecuteTime": {
     "end_time": "2022-08-30T12:24:11.116616Z",
     "start_time": "2022-08-30T12:24:11.108275Z"
    }
   },
   "outputs": [
    {
     "data": {
      "text/plain": [
       "89"
      ]
     },
     "execution_count": 4,
     "metadata": {},
     "output_type": "execute_result"
    }
   ],
   "source": [
    "df_yourpaintings['Labels'].nunique()"
   ]
  },
  {
   "cell_type": "markdown",
   "id": "684d6128",
   "metadata": {},
   "source": [
    "# Try to find number of unique classes"
   ]
  },
  {
   "cell_type": "code",
   "execution_count": 5,
   "id": "6cdf214b",
   "metadata": {
    "ExecuteTime": {
     "end_time": "2022-08-30T12:24:11.568719Z",
     "start_time": "2022-08-30T12:24:11.119572Z"
    },
    "scrolled": false
   },
   "outputs": [
    {
     "name": "stdout",
     "output_type": "stream",
     "text": [
      "The list of unique class labels contains 10 labels, namely: {'bird', 'diningtable', 'dog', 'aeroplane', 'horse', 'train', 'boat', 'cow', 'sheep', 'chair'}\n"
     ]
    }
   ],
   "source": [
    "classes_list = []\n",
    "words_pattern = '[a-z]+'\n",
    "\n",
    "for index, row in df_yourpaintings.iterrows():\n",
    "    text = row[\"Labels\"]\n",
    "    words_list = re.findall(words_pattern, text, flags=re.IGNORECASE)\n",
    "    for word in words_list:\n",
    "        classes_list.append(word)\n",
    "\n",
    "unique_classes = set(classes_list)\n",
    "print(f\"The list of unique class labels contains {len(unique_classes)} labels, namely: {unique_classes}\")"
   ]
  },
  {
   "cell_type": "markdown",
   "id": "0727998f",
   "metadata": {},
   "source": [
    "## Encode data for the relevant categories"
   ]
  },
  {
   "cell_type": "markdown",
   "id": "dba71c4e",
   "metadata": {
    "ExecuteTime": {
     "end_time": "2022-08-27T08:59:24.334130Z",
     "start_time": "2022-08-27T08:59:24.331197Z"
    }
   },
   "source": [
    "### Start by adding the list of labels to a `label_classes` column"
   ]
  },
  {
   "cell_type": "code",
   "execution_count": 6,
   "id": "5e57ada6",
   "metadata": {
    "ExecuteTime": {
     "end_time": "2022-08-30T12:24:12.133322Z",
     "start_time": "2022-08-30T12:24:11.571088Z"
    }
   },
   "outputs": [],
   "source": [
    "for index, row in df_yourpaintings.iterrows():\n",
    "    text = row[\"Labels\"]\n",
    "    words_list = re.findall(words_pattern, text, flags=re.IGNORECASE)\n",
    "    df_yourpaintings.at[index, \"label_classes\"] = words_list"
   ]
  },
  {
   "cell_type": "code",
   "execution_count": 7,
   "id": "87acbc66",
   "metadata": {
    "ExecuteTime": {
     "end_time": "2022-08-30T12:24:12.149026Z",
     "start_time": "2022-08-30T12:24:12.136008Z"
    },
    "scrolled": true
   },
   "outputs": [
    {
     "name": "stdout",
     "output_type": "stream",
     "text": [
      "<class 'list'>\n",
      "['aeroplane', 'horse']\n",
      "['chair', 'diningtable', 'dog']\n"
     ]
    }
   ],
   "source": [
    "print(type(df_yourpaintings.loc[10]['label_classes']))\n",
    "print(df_yourpaintings.loc[10]['label_classes'])\n",
    "print(df_yourpaintings.loc[15]['label_classes'])"
   ]
  },
  {
   "cell_type": "markdown",
   "id": "7667d9cd",
   "metadata": {},
   "source": [
    "### Apply MultipleLabelBinarizer on the `label_classes` column"
   ]
  },
  {
   "cell_type": "code",
   "execution_count": 8,
   "id": "0a4005b1",
   "metadata": {
    "ExecuteTime": {
     "end_time": "2022-08-30T12:24:12.184209Z",
     "start_time": "2022-08-30T12:24:12.155894Z"
    },
    "scrolled": true
   },
   "outputs": [
    {
     "data": {
      "text/html": [
       "<div>\n",
       "<style scoped>\n",
       "    .dataframe tbody tr th:only-of-type {\n",
       "        vertical-align: middle;\n",
       "    }\n",
       "\n",
       "    .dataframe tbody tr th {\n",
       "        vertical-align: top;\n",
       "    }\n",
       "\n",
       "    .dataframe thead th {\n",
       "        text-align: right;\n",
       "    }\n",
       "</style>\n",
       "<table border=\"1\" class=\"dataframe\">\n",
       "  <thead>\n",
       "    <tr style=\"text-align: right;\">\n",
       "      <th></th>\n",
       "      <th>aeroplane</th>\n",
       "      <th>bird</th>\n",
       "      <th>boat</th>\n",
       "      <th>chair</th>\n",
       "      <th>cow</th>\n",
       "      <th>diningtable</th>\n",
       "      <th>dog</th>\n",
       "      <th>horse</th>\n",
       "      <th>sheep</th>\n",
       "      <th>train</th>\n",
       "    </tr>\n",
       "  </thead>\n",
       "  <tbody>\n",
       "    <tr>\n",
       "      <th>0</th>\n",
       "      <td>0</td>\n",
       "      <td>0</td>\n",
       "      <td>0</td>\n",
       "      <td>0</td>\n",
       "      <td>1</td>\n",
       "      <td>0</td>\n",
       "      <td>0</td>\n",
       "      <td>0</td>\n",
       "      <td>0</td>\n",
       "      <td>0</td>\n",
       "    </tr>\n",
       "    <tr>\n",
       "      <th>1</th>\n",
       "      <td>0</td>\n",
       "      <td>0</td>\n",
       "      <td>0</td>\n",
       "      <td>0</td>\n",
       "      <td>0</td>\n",
       "      <td>0</td>\n",
       "      <td>0</td>\n",
       "      <td>0</td>\n",
       "      <td>0</td>\n",
       "      <td>1</td>\n",
       "    </tr>\n",
       "    <tr>\n",
       "      <th>2</th>\n",
       "      <td>0</td>\n",
       "      <td>0</td>\n",
       "      <td>0</td>\n",
       "      <td>0</td>\n",
       "      <td>0</td>\n",
       "      <td>0</td>\n",
       "      <td>0</td>\n",
       "      <td>0</td>\n",
       "      <td>0</td>\n",
       "      <td>1</td>\n",
       "    </tr>\n",
       "    <tr>\n",
       "      <th>3</th>\n",
       "      <td>0</td>\n",
       "      <td>0</td>\n",
       "      <td>0</td>\n",
       "      <td>0</td>\n",
       "      <td>0</td>\n",
       "      <td>0</td>\n",
       "      <td>0</td>\n",
       "      <td>0</td>\n",
       "      <td>0</td>\n",
       "      <td>1</td>\n",
       "    </tr>\n",
       "    <tr>\n",
       "      <th>4</th>\n",
       "      <td>0</td>\n",
       "      <td>0</td>\n",
       "      <td>0</td>\n",
       "      <td>0</td>\n",
       "      <td>0</td>\n",
       "      <td>0</td>\n",
       "      <td>0</td>\n",
       "      <td>1</td>\n",
       "      <td>0</td>\n",
       "      <td>0</td>\n",
       "    </tr>\n",
       "    <tr>\n",
       "      <th>...</th>\n",
       "      <td>...</td>\n",
       "      <td>...</td>\n",
       "      <td>...</td>\n",
       "      <td>...</td>\n",
       "      <td>...</td>\n",
       "      <td>...</td>\n",
       "      <td>...</td>\n",
       "      <td>...</td>\n",
       "      <td>...</td>\n",
       "      <td>...</td>\n",
       "    </tr>\n",
       "    <tr>\n",
       "      <th>8624</th>\n",
       "      <td>0</td>\n",
       "      <td>0</td>\n",
       "      <td>1</td>\n",
       "      <td>0</td>\n",
       "      <td>0</td>\n",
       "      <td>0</td>\n",
       "      <td>0</td>\n",
       "      <td>0</td>\n",
       "      <td>0</td>\n",
       "      <td>0</td>\n",
       "    </tr>\n",
       "    <tr>\n",
       "      <th>8625</th>\n",
       "      <td>0</td>\n",
       "      <td>0</td>\n",
       "      <td>1</td>\n",
       "      <td>0</td>\n",
       "      <td>0</td>\n",
       "      <td>0</td>\n",
       "      <td>0</td>\n",
       "      <td>0</td>\n",
       "      <td>0</td>\n",
       "      <td>0</td>\n",
       "    </tr>\n",
       "    <tr>\n",
       "      <th>8626</th>\n",
       "      <td>0</td>\n",
       "      <td>1</td>\n",
       "      <td>0</td>\n",
       "      <td>0</td>\n",
       "      <td>0</td>\n",
       "      <td>0</td>\n",
       "      <td>0</td>\n",
       "      <td>0</td>\n",
       "      <td>0</td>\n",
       "      <td>0</td>\n",
       "    </tr>\n",
       "    <tr>\n",
       "      <th>8627</th>\n",
       "      <td>0</td>\n",
       "      <td>1</td>\n",
       "      <td>0</td>\n",
       "      <td>0</td>\n",
       "      <td>0</td>\n",
       "      <td>0</td>\n",
       "      <td>0</td>\n",
       "      <td>0</td>\n",
       "      <td>0</td>\n",
       "      <td>0</td>\n",
       "    </tr>\n",
       "    <tr>\n",
       "      <th>8628</th>\n",
       "      <td>0</td>\n",
       "      <td>1</td>\n",
       "      <td>0</td>\n",
       "      <td>0</td>\n",
       "      <td>0</td>\n",
       "      <td>0</td>\n",
       "      <td>0</td>\n",
       "      <td>0</td>\n",
       "      <td>0</td>\n",
       "      <td>0</td>\n",
       "    </tr>\n",
       "  </tbody>\n",
       "</table>\n",
       "<p>8629 rows × 10 columns</p>\n",
       "</div>"
      ],
      "text/plain": [
       "      aeroplane  bird  boat  chair  cow  diningtable  dog  horse  sheep  train\n",
       "0             0     0     0      0    1            0    0      0      0      0\n",
       "1             0     0     0      0    0            0    0      0      0      1\n",
       "2             0     0     0      0    0            0    0      0      0      1\n",
       "3             0     0     0      0    0            0    0      0      0      1\n",
       "4             0     0     0      0    0            0    0      1      0      0\n",
       "...         ...   ...   ...    ...  ...          ...  ...    ...    ...    ...\n",
       "8624          0     0     1      0    0            0    0      0      0      0\n",
       "8625          0     0     1      0    0            0    0      0      0      0\n",
       "8626          0     1     0      0    0            0    0      0      0      0\n",
       "8627          0     1     0      0    0            0    0      0      0      0\n",
       "8628          0     1     0      0    0            0    0      0      0      0\n",
       "\n",
       "[8629 rows x 10 columns]"
      ]
     },
     "execution_count": 8,
     "metadata": {},
     "output_type": "execute_result"
    }
   ],
   "source": [
    "mlb = MultiLabelBinarizer()\n",
    "\n",
    "test = df_yourpaintings['label_classes']\n",
    "\n",
    "res = pd.DataFrame(mlb.fit_transform(test),\n",
    "                   columns=mlb.classes_,\n",
    "                   index=test.index)\n",
    "\n",
    "res"
   ]
  },
  {
   "cell_type": "markdown",
   "id": "7678b572",
   "metadata": {
    "ExecuteTime": {
     "end_time": "2022-08-30T11:48:19.262303Z",
     "start_time": "2022-08-30T11:48:19.258305Z"
    }
   },
   "source": [
    "# Preprocess the images"
   ]
  },
  {
   "cell_type": "code",
   "execution_count": null,
   "id": "624c074c",
   "metadata": {
    "ExecuteTime": {
     "start_time": "2022-08-30T12:25:58.436Z"
    }
   },
   "outputs": [],
   "source": [
    "#make sure images are all of the same size and apply some basic preprocessing\n",
    "\n",
    "#os.chdir(\"../raw_data/yourpaintings\")\n",
    "\n",
    "imgs = []\n",
    "img_path = \"../raw_data/yourpaintings\"\n",
    "\n",
    "for file in os.listdir(img_path):\n",
    "    if file.endswith(\".jpg\"):\n",
    "        image = Image.open(os.path.join(img_path, file))\n",
    "        image = image.resize((256, 256))\n",
    "        imgs.append(np.array(image))"
   ]
  },
  {
   "cell_type": "code",
   "execution_count": null,
   "id": "f1600202",
   "metadata": {
    "ExecuteTime": {
     "end_time": "2022-08-30T12:24:13.279962Z",
     "start_time": "2022-08-30T12:24:13.279945Z"
    }
   },
   "outputs": [],
   "source": [
    "\n",
    "#os.chdir(\"../raw_data/yourpaintings\")\n",
    "#for file in glob.glob(\"*.jpg\"):\n",
    "#    print(file)\n",
    "data_path = \"../raw_data/yourpaintings\"\n",
    "images_path = [elt for elt in os.listdir(os.path.join(data_path, cl)) if elt.find('.jpg')>0]\n",
    "classes = {'daisy':0, 'dandelion':1, 'rose':2}\n",
    "imgs = []\n",
    "labels = []\n",
    "# for (cl, i) in classes.items():\n",
    "#     images_path = [elt for elt in os.listdir(os.path.join(data_path, cl)) if elt.find('.jpg')>0]\n",
    "#     for img in tqdm(images_path[:300]):\n",
    "#         path = os.path.join(data_path, cl, img)\n",
    "#         if os.path.exists(path):\n",
    "#             image = Image.open(path)\n",
    "#             image = image.resize((256, 256))\n",
    "#             imgs.append(np.array(image))\n",
    "#             labels.append(i)\n",
    "\n",
    "# X = np.array(imgs)\n",
    "# num_classes = len(set(labels))\n",
    "# y = to_categorical(labels, num_classes)\n",
    "\n",
    "# # Finally we shuffle:\n",
    "# p = np.random.permutation(len(X))\n",
    "# X, y = X[p], y[p]\n",
    "\n",
    "# first_split = int(len(imgs) /6.)\n",
    "# second_split = first_split + int(len(imgs) * 0.2)\n",
    "# X_test, X_val, X_train = X[:first_split], X[first_split:second_split], X[second_split:]\n",
    "# y_test, y_val, y_train = y[:first_split], y[first_split:second_split], y[second_split:]\n",
    "    \n",
    "# return X_train, y_train, X_val, y_val, X_test, y_test, num_classes"
   ]
  },
  {
   "cell_type": "markdown",
   "id": "0e3c2e78",
   "metadata": {
    "ExecuteTime": {
     "end_time": "2022-08-27T09:41:57.900060Z",
     "start_time": "2022-08-27T09:41:57.896306Z"
    }
   },
   "source": [
    "# Build a basic CNN architecture for benchmarking"
   ]
  },
  {
   "cell_type": "code",
   "execution_count": null,
   "id": "f6174179",
   "metadata": {
    "ExecuteTime": {
     "end_time": "2022-08-30T12:24:13.281689Z",
     "start_time": "2022-08-30T12:24:13.281672Z"
    }
   },
   "outputs": [],
   "source": [
    "#random architecture\n",
    "benchmark_model = Sequential()\n",
    "# Input here is 4D array (batchsize, height, width, channels) - we have already created the train_generator with batch size 32\n",
    "# 32 Images of size each 150x150 with 3 color channels will be input into this layer\n",
    "benchmark_model.add(layers.Conv2D(128, kernel_size=7, activation='relu', input_shape=(150,150,3)))\n",
    "benchmark_model.add(layers.MaxPooling2D(pool_size=(4,4), strides=(2,2)))\n",
    "benchmark_model.add(layers.Conv2D(64, kernel_size=5, activation='relu'))\n",
    "benchmark_model.add(layers.MaxPooling2D(pool_size=(4,4), strides=(2,2)))\n",
    "benchmark_model.add(layers.Flatten())\n",
    "benchmark_model.add(layers.Dense(128,activation='relu'))\n",
    "benchmark_model.add(layers.Dense(6,activation='softmax'))\n",
    "benchmark_model.compile(optimizer='adam', loss='categorical_crossentropy', metrics=['acc'])\n",
    "benchmark_model.summary()"
   ]
  },
  {
   "cell_type": "markdown",
   "id": "493e0b77",
   "metadata": {},
   "source": [
    "## Load VGG16 as baseline model"
   ]
  },
  {
   "cell_type": "code",
   "execution_count": null,
   "id": "f5432057",
   "metadata": {
    "ExecuteTime": {
     "end_time": "2022-08-30T12:24:13.283448Z",
     "start_time": "2022-08-30T12:24:13.283423Z"
    }
   },
   "outputs": [],
   "source": [
    "def load_own_model():\n",
    "\n",
    "    model = Sequential()\n",
    "    model.add(Rescaling(1./255, input_shape=(256,256,3)))\n",
    "\n",
    "    model.add(layers.Conv2D(16, kernel_size=10, activation='relu'))\n",
    "    model.add(layers.MaxPooling2D(3))\n",
    "    \n",
    "    model.add(layers.Conv2D(32, kernel_size=8, activation=\"relu\"))\n",
    "    model.add(layers.MaxPooling2D(3))\n",
    "\n",
    "    model.add(layers.Conv2D(32, kernel_size=6, activation=\"relu\"))\n",
    "    model.add(layers.MaxPooling2D(3))\n",
    "    \n",
    "    model.add(layers.Flatten())\n",
    "    model.add(layers.Dense(100, activation='relu'))\n",
    "    model.add(layers.Dense(3, activation='softmax'))\n",
    "    \n",
    "    opt = optimizers.Adam(learning_rate=1e-4)\n",
    "    model.compile(loss='categorical_crossentropy',\n",
    "                  optimizer=opt,\n",
    "                  metrics=['accuracy'])\n",
    "    \n",
    "    return model"
   ]
  },
  {
   "cell_type": "code",
   "execution_count": null,
   "id": "40d80445",
   "metadata": {
    "ExecuteTime": {
     "end_time": "2022-08-30T12:24:13.285561Z",
     "start_time": "2022-08-30T12:24:13.285527Z"
    }
   },
   "outputs": [],
   "source": [
    "model_homemade = load_own_model()\n",
    "model_homemade.summary()"
   ]
  },
  {
   "cell_type": "code",
   "execution_count": null,
   "id": "c08ce81f",
   "metadata": {
    "ExecuteTime": {
     "end_time": "2022-08-30T12:24:13.289482Z",
     "start_time": "2022-08-30T12:24:13.289457Z"
    }
   },
   "outputs": [],
   "source": [
    "es = EarlyStopping(monitor = 'val_accuracy', \n",
    "                   mode = 'max', \n",
    "                   patience = 5, \n",
    "                   verbose = 1, \n",
    "                   restore_best_weights = True)\n",
    "\n",
    "history = model_homemade.fit(X_train, y_train,\n",
    "                             validation_data = (X_val, y_val),\n",
    "                             batch_size = 16, \n",
    "                             epochs = 100, \n",
    "                             callbacks=[es])"
   ]
  },
  {
   "cell_type": "code",
   "execution_count": null,
   "id": "b733a48f",
   "metadata": {
    "ExecuteTime": {
     "end_time": "2022-08-30T12:24:13.291675Z",
     "start_time": "2022-08-30T12:24:13.291650Z"
    }
   },
   "outputs": [],
   "source": [
    "res = model_homemade.evaluate(X_test, y_test)\n",
    "res"
   ]
  },
  {
   "cell_type": "code",
   "execution_count": null,
   "id": "bdbbf3b2",
   "metadata": {
    "ExecuteTime": {
     "end_time": "2022-08-30T12:24:13.294664Z",
     "start_time": "2022-08-30T12:24:13.294628Z"
    }
   },
   "outputs": [],
   "source": [
    "test_accuracy = res[-1]\n",
    "print(f\"test_accuracy = {round(test_accuracy,2)*100} %\")"
   ]
  },
  {
   "cell_type": "code",
   "execution_count": null,
   "id": "80c08f47",
   "metadata": {},
   "outputs": [],
   "source": []
  }
 ],
 "metadata": {
  "kernelspec": {
   "display_name": "Python 3 (ipykernel)",
   "language": "python",
   "name": "python3"
  },
  "language_info": {
   "codemirror_mode": {
    "name": "ipython",
    "version": 3
   },
   "file_extension": ".py",
   "mimetype": "text/x-python",
   "name": "python",
   "nbconvert_exporter": "python",
   "pygments_lexer": "ipython3",
   "version": "3.8.12"
  },
  "toc": {
   "base_numbering": 1,
   "nav_menu": {},
   "number_sections": true,
   "sideBar": true,
   "skip_h1_title": false,
   "title_cell": "Table of Contents",
   "title_sidebar": "Contents",
   "toc_cell": false,
   "toc_position": {},
   "toc_section_display": true,
   "toc_window_display": false
  }
 },
 "nbformat": 4,
 "nbformat_minor": 5
}

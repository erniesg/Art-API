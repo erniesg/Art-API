{
 "cells": [
  {
   "cell_type": "code",
   "execution_count": 1,
   "id": "4c64036e",
   "metadata": {
    "ExecuteTime": {
     "end_time": "2022-08-30T12:39:44.661775Z",
     "start_time": "2022-08-30T12:39:38.259187Z"
    }
   },
   "outputs": [],
   "source": [
    "import pandas as pd\n",
    "import glob\n",
    "import os\n",
    "import re\n",
    "import numpy as np\n",
    "import pathlib\n",
    "from PIL import Image\n",
    "from sklearn.preprocessing import MultiLabelBinarizer\n",
    "from tensorflow.keras import Sequential, layers\n",
    "from tensorflow.keras import optimizers\n",
    "from tensorflow.keras.callbacks import EarlyStopping\n",
    "from tensorflow.keras.layers.experimental.preprocessing import Rescaling\n",
    "%load_ext autoreload"
   ]
  },
  {
   "cell_type": "code",
   "execution_count": 2,
   "id": "13b4a09b",
   "metadata": {
    "ExecuteTime": {
     "end_time": "2022-08-30T12:39:44.703353Z",
     "start_time": "2022-08-30T12:39:44.664968Z"
    }
   },
   "outputs": [],
   "source": [
    "df_yourpaintings = pd.read_csv(\"../raw_data/yourpaintings/painting_dataset_2021.csv\")"
   ]
  },
  {
   "cell_type": "code",
   "execution_count": 3,
   "id": "88871d4a",
   "metadata": {
    "ExecuteTime": {
     "end_time": "2022-08-30T12:39:44.724598Z",
     "start_time": "2022-08-30T12:39:44.707657Z"
    }
   },
   "outputs": [
    {
     "data": {
      "text/html": [
       "<div>\n",
       "<style scoped>\n",
       "    .dataframe tbody tr th:only-of-type {\n",
       "        vertical-align: middle;\n",
       "    }\n",
       "\n",
       "    .dataframe tbody tr th {\n",
       "        vertical-align: top;\n",
       "    }\n",
       "\n",
       "    .dataframe thead th {\n",
       "        text-align: right;\n",
       "    }\n",
       "</style>\n",
       "<table border=\"1\" class=\"dataframe\">\n",
       "  <thead>\n",
       "    <tr style=\"text-align: right;\">\n",
       "      <th></th>\n",
       "      <th>Image URL</th>\n",
       "      <th>Web page URL</th>\n",
       "      <th>Subset</th>\n",
       "      <th>Labels</th>\n",
       "    </tr>\n",
       "  </thead>\n",
       "  <tbody>\n",
       "    <tr>\n",
       "      <th>0</th>\n",
       "      <td>https://d3d00swyhr67nd.cloudfront.net/w1200h12...</td>\n",
       "      <td>https://artuk.org/discover/artworks/and-the-co...</td>\n",
       "      <td>'test'</td>\n",
       "      <td>' cow'</td>\n",
       "    </tr>\n",
       "    <tr>\n",
       "      <th>1</th>\n",
       "      <td>https://d3d00swyhr67nd.cloudfront.net/w1200h12...</td>\n",
       "      <td>https://artuk.org/discover/artworks/0-6-00-6-0...</td>\n",
       "      <td>'train'</td>\n",
       "      <td>' train'</td>\n",
       "    </tr>\n",
       "    <tr>\n",
       "      <th>2</th>\n",
       "      <td>https://d3d00swyhr67nd.cloudfront.net/w1200h12...</td>\n",
       "      <td>https://artuk.org/discover/artworks/044t-locom...</td>\n",
       "      <td>'train'</td>\n",
       "      <td>' train'</td>\n",
       "    </tr>\n",
       "    <tr>\n",
       "      <th>3</th>\n",
       "      <td>https://d3d00swyhr67nd.cloudfront.net/w1200h12...</td>\n",
       "      <td>https://artuk.org/discover/artworks/080-locomo...</td>\n",
       "      <td>'test'</td>\n",
       "      <td>' train'</td>\n",
       "    </tr>\n",
       "    <tr>\n",
       "      <th>4</th>\n",
       "      <td>https://d3d00swyhr67nd.cloudfront.net/w1200h12...</td>\n",
       "      <td>https://artuk.org/discover/artworks/17th-and-2...</td>\n",
       "      <td>'test'</td>\n",
       "      <td>' horse'</td>\n",
       "    </tr>\n",
       "  </tbody>\n",
       "</table>\n",
       "</div>"
      ],
      "text/plain": [
       "                                           Image URL  \\\n",
       "0  https://d3d00swyhr67nd.cloudfront.net/w1200h12...   \n",
       "1  https://d3d00swyhr67nd.cloudfront.net/w1200h12...   \n",
       "2  https://d3d00swyhr67nd.cloudfront.net/w1200h12...   \n",
       "3  https://d3d00swyhr67nd.cloudfront.net/w1200h12...   \n",
       "4  https://d3d00swyhr67nd.cloudfront.net/w1200h12...   \n",
       "\n",
       "                                        Web page URL   Subset    Labels  \n",
       "0  https://artuk.org/discover/artworks/and-the-co...   'test'    ' cow'  \n",
       "1  https://artuk.org/discover/artworks/0-6-00-6-0...  'train'  ' train'  \n",
       "2  https://artuk.org/discover/artworks/044t-locom...  'train'  ' train'  \n",
       "3  https://artuk.org/discover/artworks/080-locomo...   'test'  ' train'  \n",
       "4  https://artuk.org/discover/artworks/17th-and-2...   'test'  ' horse'  "
      ]
     },
     "execution_count": 3,
     "metadata": {},
     "output_type": "execute_result"
    }
   ],
   "source": [
    "df_yourpaintings.head()"
   ]
  },
  {
   "cell_type": "code",
   "execution_count": 4,
   "id": "0cf3aaad",
   "metadata": {
    "ExecuteTime": {
     "end_time": "2022-08-30T12:39:44.734043Z",
     "start_time": "2022-08-30T12:39:44.727578Z"
    }
   },
   "outputs": [
    {
     "data": {
      "text/plain": [
       "89"
      ]
     },
     "execution_count": 4,
     "metadata": {},
     "output_type": "execute_result"
    }
   ],
   "source": [
    "df_yourpaintings['Labels'].nunique()"
   ]
  },
  {
   "cell_type": "markdown",
   "id": "684d6128",
   "metadata": {},
   "source": [
    "# Try to find number of unique classes"
   ]
  },
  {
   "cell_type": "code",
   "execution_count": 5,
   "id": "6cdf214b",
   "metadata": {
    "ExecuteTime": {
     "end_time": "2022-08-30T12:39:45.155018Z",
     "start_time": "2022-08-30T12:39:44.736594Z"
    },
    "scrolled": false
   },
   "outputs": [
    {
     "name": "stdout",
     "output_type": "stream",
     "text": [
      "The list of unique class labels contains 10 labels, namely: {'aeroplane', 'sheep', 'train', 'chair', 'dog', 'boat', 'diningtable', 'bird', 'horse', 'cow'}\n"
     ]
    }
   ],
   "source": [
    "classes_list = []\n",
    "words_pattern = '[a-z]+'\n",
    "\n",
    "for index, row in df_yourpaintings.iterrows():\n",
    "    text = row[\"Labels\"]\n",
    "    words_list = re.findall(words_pattern, text, flags=re.IGNORECASE)\n",
    "    for word in words_list:\n",
    "        classes_list.append(word)\n",
    "\n",
    "unique_classes = set(classes_list)\n",
    "print(f\"The list of unique class labels contains {len(unique_classes)} labels, namely: {unique_classes}\")"
   ]
  },
  {
   "cell_type": "markdown",
   "id": "0727998f",
   "metadata": {},
   "source": [
    "## Encode data for the relevant categories"
   ]
  },
  {
   "cell_type": "markdown",
   "id": "dba71c4e",
   "metadata": {
    "ExecuteTime": {
     "end_time": "2022-08-27T08:59:24.334130Z",
     "start_time": "2022-08-27T08:59:24.331197Z"
    }
   },
   "source": [
    "### Start by adding the list of labels to a `label_classes` column"
   ]
  },
  {
   "cell_type": "code",
   "execution_count": 6,
   "id": "5e57ada6",
   "metadata": {
    "ExecuteTime": {
     "end_time": "2022-08-30T12:39:45.716115Z",
     "start_time": "2022-08-30T12:39:45.157694Z"
    }
   },
   "outputs": [],
   "source": [
    "for index, row in df_yourpaintings.iterrows():\n",
    "    text = row[\"Labels\"]\n",
    "    words_list = re.findall(words_pattern, text, flags=re.IGNORECASE)\n",
    "    df_yourpaintings.at[index, \"label_classes\"] = words_list"
   ]
  },
  {
   "cell_type": "code",
   "execution_count": 7,
   "id": "87acbc66",
   "metadata": {
    "ExecuteTime": {
     "end_time": "2022-08-30T12:39:45.727155Z",
     "start_time": "2022-08-30T12:39:45.718693Z"
    },
    "scrolled": true
   },
   "outputs": [
    {
     "name": "stdout",
     "output_type": "stream",
     "text": [
      "<class 'list'>\n",
      "['aeroplane', 'horse']\n",
      "['chair', 'diningtable', 'dog']\n"
     ]
    }
   ],
   "source": [
    "print(type(df_yourpaintings.loc[10]['label_classes']))\n",
    "print(df_yourpaintings.loc[10]['label_classes'])\n",
    "print(df_yourpaintings.loc[15]['label_classes'])"
   ]
  },
  {
   "cell_type": "markdown",
   "id": "7667d9cd",
   "metadata": {},
   "source": [
    "### Apply MultipleLabelBinarizer on the `label_classes` column"
   ]
  },
  {
   "cell_type": "code",
   "execution_count": 8,
   "id": "0a4005b1",
   "metadata": {
    "ExecuteTime": {
     "end_time": "2022-08-30T12:39:45.752110Z",
     "start_time": "2022-08-30T12:39:45.729574Z"
    },
    "scrolled": true
   },
   "outputs": [
    {
     "data": {
      "text/html": [
       "<div>\n",
       "<style scoped>\n",
       "    .dataframe tbody tr th:only-of-type {\n",
       "        vertical-align: middle;\n",
       "    }\n",
       "\n",
       "    .dataframe tbody tr th {\n",
       "        vertical-align: top;\n",
       "    }\n",
       "\n",
       "    .dataframe thead th {\n",
       "        text-align: right;\n",
       "    }\n",
       "</style>\n",
       "<table border=\"1\" class=\"dataframe\">\n",
       "  <thead>\n",
       "    <tr style=\"text-align: right;\">\n",
       "      <th></th>\n",
       "      <th>aeroplane</th>\n",
       "      <th>bird</th>\n",
       "      <th>boat</th>\n",
       "      <th>chair</th>\n",
       "      <th>cow</th>\n",
       "      <th>diningtable</th>\n",
       "      <th>dog</th>\n",
       "      <th>horse</th>\n",
       "      <th>sheep</th>\n",
       "      <th>train</th>\n",
       "    </tr>\n",
       "  </thead>\n",
       "  <tbody>\n",
       "    <tr>\n",
       "      <th>0</th>\n",
       "      <td>0</td>\n",
       "      <td>0</td>\n",
       "      <td>0</td>\n",
       "      <td>0</td>\n",
       "      <td>1</td>\n",
       "      <td>0</td>\n",
       "      <td>0</td>\n",
       "      <td>0</td>\n",
       "      <td>0</td>\n",
       "      <td>0</td>\n",
       "    </tr>\n",
       "    <tr>\n",
       "      <th>1</th>\n",
       "      <td>0</td>\n",
       "      <td>0</td>\n",
       "      <td>0</td>\n",
       "      <td>0</td>\n",
       "      <td>0</td>\n",
       "      <td>0</td>\n",
       "      <td>0</td>\n",
       "      <td>0</td>\n",
       "      <td>0</td>\n",
       "      <td>1</td>\n",
       "    </tr>\n",
       "    <tr>\n",
       "      <th>2</th>\n",
       "      <td>0</td>\n",
       "      <td>0</td>\n",
       "      <td>0</td>\n",
       "      <td>0</td>\n",
       "      <td>0</td>\n",
       "      <td>0</td>\n",
       "      <td>0</td>\n",
       "      <td>0</td>\n",
       "      <td>0</td>\n",
       "      <td>1</td>\n",
       "    </tr>\n",
       "    <tr>\n",
       "      <th>3</th>\n",
       "      <td>0</td>\n",
       "      <td>0</td>\n",
       "      <td>0</td>\n",
       "      <td>0</td>\n",
       "      <td>0</td>\n",
       "      <td>0</td>\n",
       "      <td>0</td>\n",
       "      <td>0</td>\n",
       "      <td>0</td>\n",
       "      <td>1</td>\n",
       "    </tr>\n",
       "    <tr>\n",
       "      <th>4</th>\n",
       "      <td>0</td>\n",
       "      <td>0</td>\n",
       "      <td>0</td>\n",
       "      <td>0</td>\n",
       "      <td>0</td>\n",
       "      <td>0</td>\n",
       "      <td>0</td>\n",
       "      <td>1</td>\n",
       "      <td>0</td>\n",
       "      <td>0</td>\n",
       "    </tr>\n",
       "    <tr>\n",
       "      <th>...</th>\n",
       "      <td>...</td>\n",
       "      <td>...</td>\n",
       "      <td>...</td>\n",
       "      <td>...</td>\n",
       "      <td>...</td>\n",
       "      <td>...</td>\n",
       "      <td>...</td>\n",
       "      <td>...</td>\n",
       "      <td>...</td>\n",
       "      <td>...</td>\n",
       "    </tr>\n",
       "    <tr>\n",
       "      <th>8624</th>\n",
       "      <td>0</td>\n",
       "      <td>0</td>\n",
       "      <td>1</td>\n",
       "      <td>0</td>\n",
       "      <td>0</td>\n",
       "      <td>0</td>\n",
       "      <td>0</td>\n",
       "      <td>0</td>\n",
       "      <td>0</td>\n",
       "      <td>0</td>\n",
       "    </tr>\n",
       "    <tr>\n",
       "      <th>8625</th>\n",
       "      <td>0</td>\n",
       "      <td>0</td>\n",
       "      <td>1</td>\n",
       "      <td>0</td>\n",
       "      <td>0</td>\n",
       "      <td>0</td>\n",
       "      <td>0</td>\n",
       "      <td>0</td>\n",
       "      <td>0</td>\n",
       "      <td>0</td>\n",
       "    </tr>\n",
       "    <tr>\n",
       "      <th>8626</th>\n",
       "      <td>0</td>\n",
       "      <td>1</td>\n",
       "      <td>0</td>\n",
       "      <td>0</td>\n",
       "      <td>0</td>\n",
       "      <td>0</td>\n",
       "      <td>0</td>\n",
       "      <td>0</td>\n",
       "      <td>0</td>\n",
       "      <td>0</td>\n",
       "    </tr>\n",
       "    <tr>\n",
       "      <th>8627</th>\n",
       "      <td>0</td>\n",
       "      <td>1</td>\n",
       "      <td>0</td>\n",
       "      <td>0</td>\n",
       "      <td>0</td>\n",
       "      <td>0</td>\n",
       "      <td>0</td>\n",
       "      <td>0</td>\n",
       "      <td>0</td>\n",
       "      <td>0</td>\n",
       "    </tr>\n",
       "    <tr>\n",
       "      <th>8628</th>\n",
       "      <td>0</td>\n",
       "      <td>1</td>\n",
       "      <td>0</td>\n",
       "      <td>0</td>\n",
       "      <td>0</td>\n",
       "      <td>0</td>\n",
       "      <td>0</td>\n",
       "      <td>0</td>\n",
       "      <td>0</td>\n",
       "      <td>0</td>\n",
       "    </tr>\n",
       "  </tbody>\n",
       "</table>\n",
       "<p>8629 rows × 10 columns</p>\n",
       "</div>"
      ],
      "text/plain": [
       "      aeroplane  bird  boat  chair  cow  diningtable  dog  horse  sheep  train\n",
       "0             0     0     0      0    1            0    0      0      0      0\n",
       "1             0     0     0      0    0            0    0      0      0      1\n",
       "2             0     0     0      0    0            0    0      0      0      1\n",
       "3             0     0     0      0    0            0    0      0      0      1\n",
       "4             0     0     0      0    0            0    0      1      0      0\n",
       "...         ...   ...   ...    ...  ...          ...  ...    ...    ...    ...\n",
       "8624          0     0     1      0    0            0    0      0      0      0\n",
       "8625          0     0     1      0    0            0    0      0      0      0\n",
       "8626          0     1     0      0    0            0    0      0      0      0\n",
       "8627          0     1     0      0    0            0    0      0      0      0\n",
       "8628          0     1     0      0    0            0    0      0      0      0\n",
       "\n",
       "[8629 rows x 10 columns]"
      ]
     },
     "execution_count": 8,
     "metadata": {},
     "output_type": "execute_result"
    }
   ],
   "source": [
    "mlb = MultiLabelBinarizer()\n",
    "\n",
    "test = df_yourpaintings['label_classes']\n",
    "\n",
    "res = pd.DataFrame(mlb.fit_transform(test),\n",
    "                   columns=mlb.classes_,\n",
    "                   index=test.index)\n",
    "\n",
    "res"
   ]
  },
  {
   "cell_type": "markdown",
   "id": "473312ed",
   "metadata": {
    "ExecuteTime": {
     "end_time": "2022-08-30T11:48:19.262303Z",
     "start_time": "2022-08-30T11:48:19.258305Z"
    }
   },
   "source": [
    "# Preprocess the images"
   ]
  },
  {
   "cell_type": "code",
   "execution_count": 9,
   "id": "f629c1ee",
   "metadata": {
    "ExecuteTime": {
     "end_time": "2022-08-30T12:42:15.930934Z",
     "start_time": "2022-08-30T12:39:45.758474Z"
    }
   },
   "outputs": [],
   "source": [
    "#make sure images are all of the same size and apply some basic preprocessing\n",
    "\n",
    "#os.chdir(\"../raw_data/yourpaintings\")\n",
    "\n",
    "imgs = []\n",
    "img_path = \"../raw_data/yourpaintings\"\n",
    "\n",
    "for file in os.listdir(img_path):\n",
    "    if file.endswith(\".jpg\"):\n",
    "        image = Image.open(os.path.join(img_path, file))\n",
    "        image = image.resize((256, 256))\n",
    "        imgs.append(np.array(image))"
   ]
  },
  {
   "cell_type": "code",
   "execution_count": 33,
   "id": "eb9c46aa",
   "metadata": {
    "ExecuteTime": {
     "end_time": "2022-08-30T13:14:39.577094Z",
     "start_time": "2022-08-30T13:14:36.690338Z"
    }
   },
   "outputs": [
    {
     "data": {
      "text/plain": [
       "(8247, 256, 256, 3)"
      ]
     },
     "execution_count": 33,
     "metadata": {},
     "output_type": "execute_result"
    }
   ],
   "source": [
    "X = np.array(imgs)\n",
    "X.shape"
   ]
  },
  {
   "cell_type": "code",
   "execution_count": 14,
   "id": "f55a64a2",
   "metadata": {
    "ExecuteTime": {
     "end_time": "2022-08-30T12:44:56.241942Z",
     "start_time": "2022-08-30T12:44:56.233471Z"
    }
   },
   "outputs": [
    {
     "data": {
      "text/plain": [
       "0    https://d3d00swyhr67nd.cloudfront.net/w1200h12...\n",
       "1    https://d3d00swyhr67nd.cloudfront.net/w1200h12...\n",
       "2    https://d3d00swyhr67nd.cloudfront.net/w1200h12...\n",
       "3    https://d3d00swyhr67nd.cloudfront.net/w1200h12...\n",
       "4    https://d3d00swyhr67nd.cloudfront.net/w1200h12...\n",
       "Name: Image URL, dtype: object"
      ]
     },
     "execution_count": 14,
     "metadata": {},
     "output_type": "execute_result"
    }
   ],
   "source": [
    "merged = pd.concat([df_yourpaintings, res], axis=1)\n",
    "merged['Image URL']\n",
    "#fname = url[url.rfind('/')+1:]"
   ]
  },
  {
   "cell_type": "code",
   "execution_count": 20,
   "id": "5a123269",
   "metadata": {
    "ExecuteTime": {
     "end_time": "2022-08-30T12:52:06.928417Z",
     "start_time": "2022-08-30T12:52:06.922230Z"
    }
   },
   "outputs": [],
   "source": [
    "merged[\"Image URL\"] = merged[\"Image URL\"].map(str)"
   ]
  },
  {
   "cell_type": "code",
   "execution_count": 135,
   "id": "b435899d",
   "metadata": {
    "ExecuteTime": {
     "end_time": "2022-08-30T14:10:44.715325Z",
     "start_time": "2022-08-30T14:10:44.709355Z"
    }
   },
   "outputs": [
    {
     "data": {
      "text/plain": [
       "Index(['Image URL', 'Web page URL', 'Subset', 'Labels', 'label_classes',\n",
       "       'aeroplane', 'bird', 'boat', 'chair', 'cow', 'diningtable', 'dog',\n",
       "       'horse', 'sheep', 'train'],\n",
       "      dtype='object')"
      ]
     },
     "execution_count": 135,
     "metadata": {},
     "output_type": "execute_result"
    }
   ],
   "source": [
    "merged.columns"
   ]
  },
  {
   "cell_type": "code",
   "execution_count": 146,
   "id": "40775bcd",
   "metadata": {
    "ExecuteTime": {
     "end_time": "2022-08-30T14:22:21.289860Z",
     "start_time": "2022-08-30T14:22:21.285735Z"
    }
   },
   "outputs": [],
   "source": [
    "df_data = pd.DataFrame()"
   ]
  },
  {
   "cell_type": "code",
   "execution_count": null,
   "id": "fbfdc080",
   "metadata": {},
   "outputs": [],
   "source": [
    "# should just create a new column for X and y with filename.jpg"
   ]
  },
  {
   "cell_type": "code",
   "execution_count": 185,
   "id": "455e4c92",
   "metadata": {
    "ExecuteTime": {
     "end_time": "2022-08-30T14:57:56.921122Z",
     "start_time": "2022-08-30T14:57:56.909096Z"
    },
    "scrolled": true
   },
   "outputs": [
    {
     "name": "stdout",
     "output_type": "stream",
     "text": [
      "NID_QUB_QUB_264-001.jpg\n",
      "GMIII_MOSI_A1978_72_3-001.jpg\n",
      "NY_NRM_1979_7964-001.jpg\n",
      "CHE_CRHC_PCF40-001.jpg\n",
      "NOT_NTMAG_1997_31-001.jpg\n"
     ]
    },
    {
     "data": {
      "text/plain": [
       "0    https://d3d00swyhr67nd.cloudfront.net/w1200h12...\n",
       "1    https://d3d00swyhr67nd.cloudfront.net/w1200h12...\n",
       "2    https://d3d00swyhr67nd.cloudfront.net/w1200h12...\n",
       "3    https://d3d00swyhr67nd.cloudfront.net/w1200h12...\n",
       "4    https://d3d00swyhr67nd.cloudfront.net/w1200h12...\n",
       "Name: Image URL, dtype: string"
      ]
     },
     "execution_count": 185,
     "metadata": {},
     "output_type": "execute_result"
    }
   ],
   "source": [
    "def get_your_paintings():\n",
    "    PATH = pathlib.Path(\"../raw_data\")\n",
    "    yourpaintings_path = PATH/\"yourpaintings\"\n",
    "    yourpaintings_path.mkdir(parents=True, exist_ok=True)\n",
    "    urls = df_yourpaintings['Image URL'].tolist(); urls[:5]\n",
    "    for url in urls[:5]:\n",
    "        fname = url[url.rfind('/')+1:]\n",
    "        print(fname)\n",
    "    return urls, yourpaintings_path\n",
    "\n",
    "urls, yourpaintings_path = get_your_paintings()\n",
    "urls[:20]\n",
    "urls = pd.Series(df_yourpaintings['Image URL'], dtype=\"string\")\n",
    "urls.dtype\n",
    "urls.head()"
   ]
  },
  {
   "cell_type": "code",
   "execution_count": 194,
   "id": "f1d133e1",
   "metadata": {
    "ExecuteTime": {
     "end_time": "2022-08-30T15:03:00.521218Z",
     "start_time": "2022-08-30T15:03:00.515869Z"
    }
   },
   "outputs": [
    {
     "name": "stdout",
     "output_type": "stream",
     "text": [
      "(8629, 5)\n"
     ]
    }
   ],
   "source": [
    "df_yourpaintings['Image URL'] = df_yourpaintings['Image URL'].astype(\"str\")\n",
    "print(df_yourpaintings.shape)"
   ]
  },
  {
   "cell_type": "code",
   "execution_count": 193,
   "id": "77da548e",
   "metadata": {
    "ExecuteTime": {
     "end_time": "2022-08-30T15:02:14.323818Z",
     "start_time": "2022-08-30T15:02:14.312276Z"
    }
   },
   "outputs": [
    {
     "data": {
      "text/plain": [
       "https://d3d00swyhr67nd.cloudfront.net/w1200h1200/collection/OU/BLLI/OU_BLLI_4-001.jpg               193\n",
       "nan                                                                                                 176\n",
       "https://d3d00swyhr67nd.cloudfront.net/w1200h1200/collection/NID/QUB/NID_QUB_QUB_264-001.jpg           1\n",
       "https://d3d00swyhr67nd.cloudfront.net/w1200h1200/collection/BCN/BHT/BCN_BHT_04-001.jpg                1\n",
       "https://d3d00swyhr67nd.cloudfront.net/w1200h1200/collection/NY/MAG/NY_MAG_HARAG_41-001.jpg            1\n",
       "                                                                                                   ... \n",
       "https://d3d00swyhr67nd.cloudfront.net/w944h944/collection/GAC/GAC/GAC_GAC_14965-001.jpg               1\n",
       "https://d3d00swyhr67nd.cloudfront.net/w944h944/collection/STF/STKMG/STF_STKMG_1967_FA_37-001.jpg      1\n",
       "https://d3d00swyhr67nd.cloudfront.net/w944h944/collection/TATE/TATE/TATE_TATE_T06878_10-001.jpg       1\n",
       "https://d3d00swyhr67nd.cloudfront.net/w800h800/collection/STC/EDS/STC_EDS_MINAG_1998_25-001.jpg       1\n",
       "https://d3d00swyhr67nd.cloudfront.net/w944h944/collection/EDII/AIH/EDII_AIH_P_858_R-001.jpg           1\n",
       "Name: Image URL, Length: 8262, dtype: int64"
      ]
     },
     "execution_count": 193,
     "metadata": {},
     "output_type": "execute_result"
    }
   ],
   "source": [
    "df_yourpaintings['Image URL'].value_counts()"
   ]
  },
  {
   "cell_type": "code",
   "execution_count": 171,
   "id": "b23c5fbc",
   "metadata": {
    "ExecuteTime": {
     "end_time": "2022-08-30T14:41:42.442549Z",
     "start_time": "2022-08-30T14:41:42.433176Z"
    }
   },
   "outputs": [
    {
     "name": "stdout",
     "output_type": "stream",
     "text": [
      "8629\n"
     ]
    }
   ],
   "source": [
    "test_lst = []\n",
    "for url in urls:\n",
    "    fname = url[url.rfind('/')+1:]\n",
    "    test_lst.append(url)\n",
    "    \n",
    "print(len(test_lst))"
   ]
  },
  {
   "cell_type": "code",
   "execution_count": 195,
   "id": "ad10df3f",
   "metadata": {
    "ExecuteTime": {
     "end_time": "2022-08-30T16:28:35.725909Z",
     "start_time": "2022-08-30T16:28:35.707612Z"
    }
   },
   "outputs": [
    {
     "name": "stdout",
     "output_type": "stream",
     "text": [
      "<class 'str'>\n",
      "8247\n"
     ]
    }
   ],
   "source": [
    "files_lst = []\n",
    "for file in os.listdir(img_path):\n",
    "    if file.endswith(\".jpg\"):\n",
    "        files_lst.append(file)\n",
    "        \n",
    "print(type(files_lst[0]))\n",
    "print(len(files_lst))"
   ]
  },
  {
   "cell_type": "code",
   "execution_count": 153,
   "id": "4be39870",
   "metadata": {
    "ExecuteTime": {
     "end_time": "2022-08-30T14:26:12.742940Z",
     "start_time": "2022-08-30T14:25:36.181972Z"
    }
   },
   "outputs": [],
   "source": [
    "for i in range(len(files_lst)):\n",
    "    row = merged[merged['Image URL'].str.contains(files_lst[i])]\n",
    "    df_data = pd.concat([df_data, row], axis=0, ignore_index=True)"
   ]
  },
  {
   "cell_type": "code",
   "execution_count": 157,
   "id": "05395bee",
   "metadata": {
    "ExecuteTime": {
     "end_time": "2022-08-30T14:30:35.659634Z",
     "start_time": "2022-08-30T14:30:35.637590Z"
    }
   },
   "outputs": [
    {
     "data": {
      "text/html": [
       "<div>\n",
       "<style scoped>\n",
       "    .dataframe tbody tr th:only-of-type {\n",
       "        vertical-align: middle;\n",
       "    }\n",
       "\n",
       "    .dataframe tbody tr th {\n",
       "        vertical-align: top;\n",
       "    }\n",
       "\n",
       "    .dataframe thead th {\n",
       "        text-align: right;\n",
       "    }\n",
       "</style>\n",
       "<table border=\"1\" class=\"dataframe\">\n",
       "  <thead>\n",
       "    <tr style=\"text-align: right;\">\n",
       "      <th></th>\n",
       "      <th>Image URL</th>\n",
       "      <th>Web page URL</th>\n",
       "      <th>Subset</th>\n",
       "      <th>Labels</th>\n",
       "      <th>label_classes</th>\n",
       "      <th>aeroplane</th>\n",
       "      <th>bird</th>\n",
       "      <th>boat</th>\n",
       "      <th>chair</th>\n",
       "      <th>cow</th>\n",
       "      <th>diningtable</th>\n",
       "      <th>dog</th>\n",
       "      <th>horse</th>\n",
       "      <th>sheep</th>\n",
       "      <th>train</th>\n",
       "    </tr>\n",
       "  </thead>\n",
       "  <tbody>\n",
       "    <tr>\n",
       "      <th>0</th>\n",
       "      <td>https://d3d00swyhr67nd.cloudfront.net/w1200h12...</td>\n",
       "      <td>https://artuk.org/discover/artworks/the-bridge...</td>\n",
       "      <td>'test'</td>\n",
       "      <td>' cow'</td>\n",
       "      <td>[cow]</td>\n",
       "      <td>0</td>\n",
       "      <td>0</td>\n",
       "      <td>0</td>\n",
       "      <td>0</td>\n",
       "      <td>1</td>\n",
       "      <td>0</td>\n",
       "      <td>0</td>\n",
       "      <td>0</td>\n",
       "      <td>0</td>\n",
       "      <td>0</td>\n",
       "    </tr>\n",
       "    <tr>\n",
       "      <th>1</th>\n",
       "      <td>https://d3d00swyhr67nd.cloudfront.net/w944h944...</td>\n",
       "      <td>https://artuk.org/discover/artworks/horses-in-...</td>\n",
       "      <td>'test'</td>\n",
       "      <td>' horse'</td>\n",
       "      <td>[horse]</td>\n",
       "      <td>0</td>\n",
       "      <td>0</td>\n",
       "      <td>0</td>\n",
       "      <td>0</td>\n",
       "      <td>0</td>\n",
       "      <td>0</td>\n",
       "      <td>0</td>\n",
       "      <td>1</td>\n",
       "      <td>0</td>\n",
       "      <td>0</td>\n",
       "    </tr>\n",
       "    <tr>\n",
       "      <th>2</th>\n",
       "      <td>https://d3d00swyhr67nd.cloudfront.net/w1200h12...</td>\n",
       "      <td>https://artuk.org/discover/artworks/an-enormou...</td>\n",
       "      <td>'test'</td>\n",
       "      <td>' sheep'</td>\n",
       "      <td>[sheep]</td>\n",
       "      <td>0</td>\n",
       "      <td>0</td>\n",
       "      <td>0</td>\n",
       "      <td>0</td>\n",
       "      <td>0</td>\n",
       "      <td>0</td>\n",
       "      <td>0</td>\n",
       "      <td>0</td>\n",
       "      <td>1</td>\n",
       "      <td>0</td>\n",
       "    </tr>\n",
       "    <tr>\n",
       "      <th>3</th>\n",
       "      <td>https://d3d00swyhr67nd.cloudfront.net/w944h944...</td>\n",
       "      <td>https://artuk.org/discover/artworks/still-life...</td>\n",
       "      <td>'test'</td>\n",
       "      <td>' diningtable'</td>\n",
       "      <td>[diningtable]</td>\n",
       "      <td>0</td>\n",
       "      <td>0</td>\n",
       "      <td>0</td>\n",
       "      <td>0</td>\n",
       "      <td>0</td>\n",
       "      <td>1</td>\n",
       "      <td>0</td>\n",
       "      <td>0</td>\n",
       "      <td>0</td>\n",
       "      <td>0</td>\n",
       "    </tr>\n",
       "    <tr>\n",
       "      <th>4</th>\n",
       "      <td>https://d3d00swyhr67nd.cloudfront.net/w944h944...</td>\n",
       "      <td>https://artuk.org/discover/artworks/chinese-bo...</td>\n",
       "      <td>'test'</td>\n",
       "      <td>' boat'</td>\n",
       "      <td>[boat]</td>\n",
       "      <td>0</td>\n",
       "      <td>0</td>\n",
       "      <td>1</td>\n",
       "      <td>0</td>\n",
       "      <td>0</td>\n",
       "      <td>0</td>\n",
       "      <td>0</td>\n",
       "      <td>0</td>\n",
       "      <td>0</td>\n",
       "      <td>0</td>\n",
       "    </tr>\n",
       "    <tr>\n",
       "      <th>...</th>\n",
       "      <td>...</td>\n",
       "      <td>...</td>\n",
       "      <td>...</td>\n",
       "      <td>...</td>\n",
       "      <td>...</td>\n",
       "      <td>...</td>\n",
       "      <td>...</td>\n",
       "      <td>...</td>\n",
       "      <td>...</td>\n",
       "      <td>...</td>\n",
       "      <td>...</td>\n",
       "      <td>...</td>\n",
       "      <td>...</td>\n",
       "      <td>...</td>\n",
       "      <td>...</td>\n",
       "    </tr>\n",
       "    <tr>\n",
       "      <th>8434</th>\n",
       "      <td>https://d3d00swyhr67nd.cloudfront.net/w1200h12...</td>\n",
       "      <td>https://artuk.org/discover/artworks/landscape-...</td>\n",
       "      <td>'validation'</td>\n",
       "      <td>' sheep'</td>\n",
       "      <td>[sheep]</td>\n",
       "      <td>0</td>\n",
       "      <td>0</td>\n",
       "      <td>0</td>\n",
       "      <td>0</td>\n",
       "      <td>0</td>\n",
       "      <td>0</td>\n",
       "      <td>0</td>\n",
       "      <td>0</td>\n",
       "      <td>1</td>\n",
       "      <td>0</td>\n",
       "    </tr>\n",
       "    <tr>\n",
       "      <th>8435</th>\n",
       "      <td>https://d3d00swyhr67nd.cloudfront.net/w944h944...</td>\n",
       "      <td>https://artuk.org/discover/artworks/study-for-...</td>\n",
       "      <td>'test'</td>\n",
       "      <td>' horse'</td>\n",
       "      <td>[horse]</td>\n",
       "      <td>0</td>\n",
       "      <td>0</td>\n",
       "      <td>0</td>\n",
       "      <td>0</td>\n",
       "      <td>0</td>\n",
       "      <td>0</td>\n",
       "      <td>0</td>\n",
       "      <td>1</td>\n",
       "      <td>0</td>\n",
       "      <td>0</td>\n",
       "    </tr>\n",
       "    <tr>\n",
       "      <th>8436</th>\n",
       "      <td>https://d3d00swyhr67nd.cloudfront.net/w1200h12...</td>\n",
       "      <td>https://artuk.org/discover/artworks/still-life...</td>\n",
       "      <td>'test'</td>\n",
       "      <td>' diningtable'</td>\n",
       "      <td>[diningtable]</td>\n",
       "      <td>0</td>\n",
       "      <td>0</td>\n",
       "      <td>0</td>\n",
       "      <td>0</td>\n",
       "      <td>0</td>\n",
       "      <td>1</td>\n",
       "      <td>0</td>\n",
       "      <td>0</td>\n",
       "      <td>0</td>\n",
       "      <td>0</td>\n",
       "    </tr>\n",
       "    <tr>\n",
       "      <th>8437</th>\n",
       "      <td>https://d3d00swyhr67nd.cloudfront.net/w944h944...</td>\n",
       "      <td>https://artuk.org/discover/artworks/horse-in-a...</td>\n",
       "      <td>'train'</td>\n",
       "      <td>' horse'</td>\n",
       "      <td>[horse]</td>\n",
       "      <td>0</td>\n",
       "      <td>0</td>\n",
       "      <td>0</td>\n",
       "      <td>0</td>\n",
       "      <td>0</td>\n",
       "      <td>0</td>\n",
       "      <td>0</td>\n",
       "      <td>1</td>\n",
       "      <td>0</td>\n",
       "      <td>0</td>\n",
       "    </tr>\n",
       "    <tr>\n",
       "      <th>8438</th>\n",
       "      <td>https://d3d00swyhr67nd.cloudfront.net/w944h944...</td>\n",
       "      <td>https://artuk.org/discover/artworks/boat-and-t...</td>\n",
       "      <td>'test'</td>\n",
       "      <td>' boat'</td>\n",
       "      <td>[boat]</td>\n",
       "      <td>0</td>\n",
       "      <td>0</td>\n",
       "      <td>1</td>\n",
       "      <td>0</td>\n",
       "      <td>0</td>\n",
       "      <td>0</td>\n",
       "      <td>0</td>\n",
       "      <td>0</td>\n",
       "      <td>0</td>\n",
       "      <td>0</td>\n",
       "    </tr>\n",
       "  </tbody>\n",
       "</table>\n",
       "<p>8439 rows × 15 columns</p>\n",
       "</div>"
      ],
      "text/plain": [
       "                                              Image URL  \\\n",
       "0     https://d3d00swyhr67nd.cloudfront.net/w1200h12...   \n",
       "1     https://d3d00swyhr67nd.cloudfront.net/w944h944...   \n",
       "2     https://d3d00swyhr67nd.cloudfront.net/w1200h12...   \n",
       "3     https://d3d00swyhr67nd.cloudfront.net/w944h944...   \n",
       "4     https://d3d00swyhr67nd.cloudfront.net/w944h944...   \n",
       "...                                                 ...   \n",
       "8434  https://d3d00swyhr67nd.cloudfront.net/w1200h12...   \n",
       "8435  https://d3d00swyhr67nd.cloudfront.net/w944h944...   \n",
       "8436  https://d3d00swyhr67nd.cloudfront.net/w1200h12...   \n",
       "8437  https://d3d00swyhr67nd.cloudfront.net/w944h944...   \n",
       "8438  https://d3d00swyhr67nd.cloudfront.net/w944h944...   \n",
       "\n",
       "                                           Web page URL        Subset  \\\n",
       "0     https://artuk.org/discover/artworks/the-bridge...        'test'   \n",
       "1     https://artuk.org/discover/artworks/horses-in-...        'test'   \n",
       "2     https://artuk.org/discover/artworks/an-enormou...        'test'   \n",
       "3     https://artuk.org/discover/artworks/still-life...        'test'   \n",
       "4     https://artuk.org/discover/artworks/chinese-bo...        'test'   \n",
       "...                                                 ...           ...   \n",
       "8434  https://artuk.org/discover/artworks/landscape-...  'validation'   \n",
       "8435  https://artuk.org/discover/artworks/study-for-...        'test'   \n",
       "8436  https://artuk.org/discover/artworks/still-life...        'test'   \n",
       "8437  https://artuk.org/discover/artworks/horse-in-a...       'train'   \n",
       "8438  https://artuk.org/discover/artworks/boat-and-t...        'test'   \n",
       "\n",
       "              Labels  label_classes  aeroplane  bird  boat  chair  cow  \\\n",
       "0             ' cow'          [cow]          0     0     0      0    1   \n",
       "1           ' horse'        [horse]          0     0     0      0    0   \n",
       "2           ' sheep'        [sheep]          0     0     0      0    0   \n",
       "3     ' diningtable'  [diningtable]          0     0     0      0    0   \n",
       "4            ' boat'         [boat]          0     0     1      0    0   \n",
       "...              ...            ...        ...   ...   ...    ...  ...   \n",
       "8434        ' sheep'        [sheep]          0     0     0      0    0   \n",
       "8435        ' horse'        [horse]          0     0     0      0    0   \n",
       "8436  ' diningtable'  [diningtable]          0     0     0      0    0   \n",
       "8437        ' horse'        [horse]          0     0     0      0    0   \n",
       "8438         ' boat'         [boat]          0     0     1      0    0   \n",
       "\n",
       "      diningtable  dog  horse  sheep  train  \n",
       "0               0    0      0      0      0  \n",
       "1               0    0      1      0      0  \n",
       "2               0    0      0      1      0  \n",
       "3               1    0      0      0      0  \n",
       "4               0    0      0      0      0  \n",
       "...           ...  ...    ...    ...    ...  \n",
       "8434            0    0      0      1      0  \n",
       "8435            0    0      1      0      0  \n",
       "8436            1    0      0      0      0  \n",
       "8437            0    0      1      0      0  \n",
       "8438            0    0      0      0      0  \n",
       "\n",
       "[8439 rows x 15 columns]"
      ]
     },
     "execution_count": 157,
     "metadata": {},
     "output_type": "execute_result"
    }
   ],
   "source": [
    "df_data"
   ]
  },
  {
   "cell_type": "code",
   "execution_count": 156,
   "id": "0c84ac75",
   "metadata": {
    "ExecuteTime": {
     "end_time": "2022-08-30T14:29:39.797504Z",
     "start_time": "2022-08-30T14:29:39.792326Z"
    },
    "scrolled": true
   },
   "outputs": [
    {
     "name": "stdout",
     "output_type": "stream",
     "text": [
      "(8439, 15)\n",
      "(8247, 256, 256, 3)\n",
      "8247\n"
     ]
    }
   ],
   "source": [
    "#df_data = pd.DataFrame()\n",
    "df_data\n",
    "print(df_data.shape)\n",
    "print(X.shape)\n",
    "print(len(files_lst))"
   ]
  },
  {
   "cell_type": "code",
   "execution_count": null,
   "id": "ca301cdc",
   "metadata": {},
   "outputs": [],
   "source": [
    "from sklearn.model_selection import train_test_split\n",
    "X_train, X_test, y_train, y_test = train_test_split(X, y, test_size=0.3)"
   ]
  },
  {
   "cell_type": "code",
   "execution_count": 11,
   "id": "a483b512",
   "metadata": {
    "ExecuteTime": {
     "end_time": "2022-08-30T12:42:19.379471Z",
     "start_time": "2022-08-30T12:42:18.377201Z"
    },
    "scrolled": true
   },
   "outputs": [
    {
     "ename": "NameError",
     "evalue": "name 'cl' is not defined",
     "output_type": "error",
     "traceback": [
      "\u001b[0;31m---------------------------------------------------------------------------\u001b[0m",
      "\u001b[0;31mNameError\u001b[0m                                 Traceback (most recent call last)",
      "Input \u001b[0;32mIn [11]\u001b[0m, in \u001b[0;36m<cell line: 5>\u001b[0;34m()\u001b[0m\n\u001b[1;32m      1\u001b[0m \u001b[38;5;66;03m#os.chdir(\"../raw_data/yourpaintings\")\u001b[39;00m\n\u001b[1;32m      2\u001b[0m \u001b[38;5;66;03m#for file in glob.glob(\"*.jpg\"):\u001b[39;00m\n\u001b[1;32m      3\u001b[0m \u001b[38;5;66;03m#    print(file)\u001b[39;00m\n\u001b[1;32m      4\u001b[0m data_path \u001b[38;5;241m=\u001b[39m \u001b[38;5;124m\"\u001b[39m\u001b[38;5;124m../raw_data/yourpaintings\u001b[39m\u001b[38;5;124m\"\u001b[39m\n\u001b[0;32m----> 5\u001b[0m images_path \u001b[38;5;241m=\u001b[39m [elt \u001b[38;5;28;01mfor\u001b[39;00m elt \u001b[38;5;129;01min\u001b[39;00m os\u001b[38;5;241m.\u001b[39mlistdir(os\u001b[38;5;241m.\u001b[39mpath\u001b[38;5;241m.\u001b[39mjoin(data_path, \u001b[43mcl\u001b[49m)) \u001b[38;5;28;01mif\u001b[39;00m elt\u001b[38;5;241m.\u001b[39mfind(\u001b[38;5;124m'\u001b[39m\u001b[38;5;124m.jpg\u001b[39m\u001b[38;5;124m'\u001b[39m)\u001b[38;5;241m>\u001b[39m\u001b[38;5;241m0\u001b[39m]\n\u001b[1;32m      6\u001b[0m classes \u001b[38;5;241m=\u001b[39m {\u001b[38;5;124m'\u001b[39m\u001b[38;5;124mdaisy\u001b[39m\u001b[38;5;124m'\u001b[39m:\u001b[38;5;241m0\u001b[39m, \u001b[38;5;124m'\u001b[39m\u001b[38;5;124mdandelion\u001b[39m\u001b[38;5;124m'\u001b[39m:\u001b[38;5;241m1\u001b[39m, \u001b[38;5;124m'\u001b[39m\u001b[38;5;124mrose\u001b[39m\u001b[38;5;124m'\u001b[39m:\u001b[38;5;241m2\u001b[39m}\n\u001b[1;32m      7\u001b[0m imgs \u001b[38;5;241m=\u001b[39m []\n",
      "\u001b[0;31mNameError\u001b[0m: name 'cl' is not defined"
     ]
    }
   ],
   "source": [
    "def load_own_model():\n",
    "\n",
    "    model = Sequential()\n",
    "    model.add(Rescaling(1./255, input_shape=(256,256,3)))\n",
    "\n",
    "    model.add(layers.Conv2D(16, kernel_size=10, activation='relu'))\n",
    "    model.add(layers.MaxPooling2D(3))\n",
    "    \n",
    "    model.add(layers.Conv2D(32, kernel_size=8, activation=\"relu\"))\n",
    "    model.add(layers.MaxPooling2D(3))\n",
    "\n",
    "    model.add(layers.Conv2D(32, kernel_size=6, activation=\"relu\"))\n",
    "    model.add(layers.MaxPooling2D(3))\n",
    "    \n",
    "    model.add(layers.Flatten())\n",
    "    model.add(layers.Dense(100, activation='relu'))\n",
    "    model.add(layers.Dense(10, activation='sigmoid'))\n",
    "    \n",
    "    opt = optimizers.Adam(learning_rate=1e-4)\n",
    "    model.compile(loss='binary_crossentropy',\n",
    "                  optimizer=opt,\n",
    "                  metrics=['accuracy'])\n",
    "    \n",
    "    return model\n",
    "\n",
    "#model.fit(X_train, y_train, verbose=0, epochs=100, validation_split=0.2)\n",
    "\n",
    "es = EarlyStopping(monitor = 'val_accuracy', \n",
    "                   mode = 'max', \n",
    "                   patience = 5, \n",
    "                   verbose = 1, \n",
    "                   restore_best_weights = True)\n",
    "\n",
    "history = model.fit(X_train, y_train,\n",
    "                             validation_split=0.2,\n",
    "                             batch_size = 16, \n",
    "                             epochs = 100, \n",
    "                             callbacks=[es])"
   ]
  },
  {
   "cell_type": "code",
   "execution_count": null,
   "id": "f47bf34c",
   "metadata": {},
   "outputs": [],
   "source": [
    "from sklearn.metrics import accuracy_score\n",
    "yhat = model.predict(X_test)\n",
    "yhat = yhat.round()\n",
    "# calculate accuracy\n",
    "acc = accuracy_score(y_test, yhat)\n",
    "# store result\n",
    "print('>%.3f' % acc)\n",
    "results.append(acc)"
   ]
  },
  {
   "cell_type": "markdown",
   "id": "0e3c2e78",
   "metadata": {
    "ExecuteTime": {
     "end_time": "2022-08-27T09:41:57.900060Z",
     "start_time": "2022-08-27T09:41:57.896306Z"
    }
   },
   "source": [
    "# Build a basic CNN architecture for benchmarking"
   ]
  },
  {
   "cell_type": "code",
   "execution_count": null,
   "id": "f6174179",
   "metadata": {
    "ExecuteTime": {
     "end_time": "2022-08-30T12:42:19.381830Z",
     "start_time": "2022-08-30T12:42:19.381812Z"
    }
   },
   "outputs": [],
   "source": [
    "#random architecture\n",
    "benchmark_model = Sequential()\n",
    "# Input here is 4D array (batchsize, height, width, channels) - we have already created the train_generator with batch size 32\n",
    "# 32 Images of size each 150x150 with 3 color channels will be input into this layer\n",
    "benchmark_model.add(layers.Conv2D(128, kernel_size=7, activation='relu', input_shape=(150,150,3)))\n",
    "benchmark_model.add(layers.MaxPooling2D(pool_size=(4,4), strides=(2,2)))\n",
    "benchmark_model.add(layers.Conv2D(64, kernel_size=5, activation='relu'))\n",
    "benchmark_model.add(layers.MaxPooling2D(pool_size=(4,4), strides=(2,2)))\n",
    "benchmark_model.add(layers.Flatten())\n",
    "benchmark_model.add(layers.Dense(128,activation='relu'))\n",
    "benchmark_model.add(layers.Dense(6,activation='softmax'))\n",
    "benchmark_model.compile(optimizer='adam', loss='categorical_crossentropy', metrics=['acc'])\n",
    "benchmark_model.summary()"
   ]
  },
  {
   "cell_type": "markdown",
   "id": "493e0b77",
   "metadata": {},
   "source": [
    "## Load VGG16 as baseline model"
   ]
  },
  {
   "cell_type": "code",
   "execution_count": null,
   "id": "f5432057",
   "metadata": {
    "ExecuteTime": {
     "end_time": "2022-08-30T12:42:19.384609Z",
     "start_time": "2022-08-30T12:42:19.384593Z"
    }
   },
   "outputs": [],
   "source": [
    "def load_own_model():\n",
    "\n",
    "    model = Sequential()\n",
    "    model.add(Rescaling(1./255, input_shape=(256,256,3)))\n",
    "\n",
    "    model.add(layers.Conv2D(16, kernel_size=10, activation='relu'))\n",
    "    model.add(layers.MaxPooling2D(3))\n",
    "    \n",
    "    model.add(layers.Conv2D(32, kernel_size=8, activation=\"relu\"))\n",
    "    model.add(layers.MaxPooling2D(3))\n",
    "\n",
    "    model.add(layers.Conv2D(32, kernel_size=6, activation=\"relu\"))\n",
    "    model.add(layers.MaxPooling2D(3))\n",
    "    \n",
    "    model.add(layers.Flatten())\n",
    "    model.add(layers.Dense(100, activation='relu'))\n",
    "    model.add(layers.Dense(3, activation='softmax'))\n",
    "    \n",
    "    opt = optimizers.Adam(learning_rate=1e-4)\n",
    "    model.compile(loss='categorical_crossentropy',\n",
    "                  optimizer=opt,\n",
    "                  metrics=['accuracy'])\n",
    "    \n",
    "    return model"
   ]
  },
  {
   "cell_type": "code",
   "execution_count": null,
   "id": "40d80445",
   "metadata": {
    "ExecuteTime": {
     "end_time": "2022-08-30T12:42:19.386453Z",
     "start_time": "2022-08-30T12:42:19.386437Z"
    }
   },
   "outputs": [],
   "source": [
    "model_homemade = load_own_model()\n",
    "model_homemade.summary()"
   ]
  },
  {
   "cell_type": "code",
   "execution_count": null,
   "id": "c08ce81f",
   "metadata": {
    "ExecuteTime": {
     "end_time": "2022-08-30T12:42:19.388901Z",
     "start_time": "2022-08-30T12:42:19.388862Z"
    }
   },
   "outputs": [],
   "source": [
    "es = EarlyStopping(monitor = 'val_accuracy', \n",
    "                   mode = 'max', \n",
    "                   patience = 5, \n",
    "                   verbose = 1, \n",
    "                   restore_best_weights = True)\n",
    "\n",
    "history = model_homemade.fit(X_train, y_train,\n",
    "                             validation_data = (X_val, y_val),\n",
    "                             batch_size = 16, \n",
    "                             epochs = 100, \n",
    "                             callbacks=[es])"
   ]
  },
  {
   "cell_type": "code",
   "execution_count": null,
   "id": "b733a48f",
   "metadata": {
    "ExecuteTime": {
     "end_time": "2022-08-30T12:42:19.391463Z",
     "start_time": "2022-08-30T12:42:19.391433Z"
    }
   },
   "outputs": [],
   "source": [
    "res = model_homemade.evaluate(X_test, y_test)\n",
    "res"
   ]
  },
  {
   "cell_type": "code",
   "execution_count": null,
   "id": "bdbbf3b2",
   "metadata": {
    "ExecuteTime": {
     "end_time": "2022-08-30T12:42:19.394279Z",
     "start_time": "2022-08-30T12:42:19.394240Z"
    }
   },
   "outputs": [],
   "source": [
    "test_accuracy = res[-1]\n",
    "print(f\"test_accuracy = {round(test_accuracy,2)*100} %\")"
   ]
  },
  {
   "cell_type": "code",
   "execution_count": null,
   "id": "80c08f47",
   "metadata": {},
   "outputs": [],
   "source": []
  }
 ],
 "metadata": {
  "kernelspec": {
   "display_name": "Python 3 (ipykernel)",
   "language": "python",
   "name": "python3"
  },
  "language_info": {
   "codemirror_mode": {
    "name": "ipython",
    "version": 3
   },
   "file_extension": ".py",
   "mimetype": "text/x-python",
   "name": "python",
   "nbconvert_exporter": "python",
   "pygments_lexer": "ipython3",
   "version": "3.8.12"
  },
  "toc": {
   "base_numbering": 1,
   "nav_menu": {},
   "number_sections": true,
   "sideBar": true,
   "skip_h1_title": false,
   "title_cell": "Table of Contents",
   "title_sidebar": "Contents",
   "toc_cell": false,
   "toc_position": {},
   "toc_section_display": true,
   "toc_window_display": false
  }
 },
 "nbformat": 4,
 "nbformat_minor": 5
}

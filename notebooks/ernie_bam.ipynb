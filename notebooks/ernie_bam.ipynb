{
 "cells": [
  {
   "cell_type": "code",
   "execution_count": null,
   "id": "1b3e4ecb",
   "metadata": {
    "ExecuteTime": {
     "end_time": "2022-09-03T08:41:40.574624Z",
     "start_time": "2022-09-03T08:41:40.574604Z"
    }
   },
   "outputs": [],
   "source": [
    "import pandas as pd\n",
    "import numpy as np\n",
    "from urllib.request import Request, urlopen\n",
    "from sklearn.pipeline import Pipeline\n",
    "\n",
    "%load_ext autoreload"
   ]
  },
  {
   "cell_type": "markdown",
   "id": "50887806",
   "metadata": {
    "ExecuteTime": {
     "end_time": "2022-09-03T03:34:17.318168Z",
     "start_time": "2022-09-03T03:34:17.313574Z"
    }
   },
   "source": [
    "# Load the data"
   ]
  },
  {
   "cell_type": "markdown",
   "id": "caab97f0",
   "metadata": {},
   "source": [
    "We need to remove duplicates and NA, look for outliers."
   ]
  },
  {
   "cell_type": "code",
   "execution_count": null,
   "id": "158dab5f",
   "metadata": {
    "ExecuteTime": {
     "end_time": "2022-09-03T08:41:40.565751Z",
     "start_time": "2022-09-03T08:41:40.565727Z"
    }
   },
   "outputs": [],
   "source": [
    "df_yourpaintings = pd.read_csv(\"https://www.robots.ox.ac.uk/~vgg/data/paintings/painting_dataset_2021.csv\")"
   ]
  },
  {
   "cell_type": "markdown",
   "id": "81f68d7b",
   "metadata": {},
   "source": [
    "# Explore the data"
   ]
  },
  {
   "cell_type": "code",
   "execution_count": 3,
   "id": "ba9ed2bd",
   "metadata": {
    "ExecuteTime": {
     "end_time": "2022-09-03T06:12:12.759752Z",
     "start_time": "2022-09-03T06:12:12.749282Z"
    }
   },
   "outputs": [
    {
     "data": {
      "text/plain": [
       "8629"
      ]
     },
     "execution_count": 3,
     "metadata": {},
     "output_type": "execute_result"
    }
   ],
   "source": [
    "len(df_yourpaintings)"
   ]
  },
  {
   "cell_type": "code",
   "execution_count": 4,
   "id": "a16dd8d3",
   "metadata": {
    "ExecuteTime": {
     "end_time": "2022-09-03T06:12:12.793220Z",
     "start_time": "2022-09-03T06:12:12.763011Z"
    }
   },
   "outputs": [
    {
     "data": {
      "text/html": [
       "<div>\n",
       "<style scoped>\n",
       "    .dataframe tbody tr th:only-of-type {\n",
       "        vertical-align: middle;\n",
       "    }\n",
       "\n",
       "    .dataframe tbody tr th {\n",
       "        vertical-align: top;\n",
       "    }\n",
       "\n",
       "    .dataframe thead th {\n",
       "        text-align: right;\n",
       "    }\n",
       "</style>\n",
       "<table border=\"1\" class=\"dataframe\">\n",
       "  <thead>\n",
       "    <tr style=\"text-align: right;\">\n",
       "      <th></th>\n",
       "      <th>Image URL</th>\n",
       "      <th>Web page URL</th>\n",
       "      <th>Subset</th>\n",
       "      <th>Labels</th>\n",
       "    </tr>\n",
       "  </thead>\n",
       "  <tbody>\n",
       "    <tr>\n",
       "      <th>count</th>\n",
       "      <td>8453</td>\n",
       "      <td>8608</td>\n",
       "      <td>8629</td>\n",
       "      <td>8629</td>\n",
       "    </tr>\n",
       "    <tr>\n",
       "      <th>unique</th>\n",
       "      <td>8261</td>\n",
       "      <td>8416</td>\n",
       "      <td>3</td>\n",
       "      <td>89</td>\n",
       "    </tr>\n",
       "    <tr>\n",
       "      <th>top</th>\n",
       "      <td>https://d3d00swyhr67nd.cloudfront.net/w1200h12...</td>\n",
       "      <td>https://artuk.org/discover/artworks/richard-je...</td>\n",
       "      <td>'test'</td>\n",
       "      <td>' boat'</td>\n",
       "    </tr>\n",
       "    <tr>\n",
       "      <th>freq</th>\n",
       "      <td>193</td>\n",
       "      <td>193</td>\n",
       "      <td>4301</td>\n",
       "      <td>1962</td>\n",
       "    </tr>\n",
       "  </tbody>\n",
       "</table>\n",
       "</div>"
      ],
      "text/plain": [
       "                                                Image URL  \\\n",
       "count                                                8453   \n",
       "unique                                               8261   \n",
       "top     https://d3d00swyhr67nd.cloudfront.net/w1200h12...   \n",
       "freq                                                  193   \n",
       "\n",
       "                                             Web page URL  Subset   Labels  \n",
       "count                                                8608    8629     8629  \n",
       "unique                                               8416       3       89  \n",
       "top     https://artuk.org/discover/artworks/richard-je...  'test'  ' boat'  \n",
       "freq                                                  193    4301     1962  "
      ]
     },
     "execution_count": 4,
     "metadata": {},
     "output_type": "execute_result"
    }
   ],
   "source": [
    "df_yourpaintings.describe()"
   ]
  },
  {
   "cell_type": "markdown",
   "id": "7788c4e8",
   "metadata": {},
   "source": [
    "# Clean up data by dropping duplicates and missing data"
   ]
  },
  {
   "cell_type": "code",
   "execution_count": 5,
   "id": "e62d46b7",
   "metadata": {
    "ExecuteTime": {
     "end_time": "2022-09-03T06:12:12.810818Z",
     "start_time": "2022-09-03T06:12:12.795793Z"
    }
   },
   "outputs": [
    {
     "data": {
      "text/plain": [
       "156"
      ]
     },
     "execution_count": 5,
     "metadata": {},
     "output_type": "execute_result"
    }
   ],
   "source": [
    "df_yourpaintings.duplicated().sum()"
   ]
  },
  {
   "cell_type": "code",
   "execution_count": 6,
   "id": "765b31af",
   "metadata": {
    "ExecuteTime": {
     "end_time": "2022-09-03T06:12:12.849301Z",
     "start_time": "2022-09-03T06:12:12.815061Z"
    },
    "scrolled": true
   },
   "outputs": [
    {
     "data": {
      "text/html": [
       "<div>\n",
       "<style scoped>\n",
       "    .dataframe tbody tr th:only-of-type {\n",
       "        vertical-align: middle;\n",
       "    }\n",
       "\n",
       "    .dataframe tbody tr th {\n",
       "        vertical-align: top;\n",
       "    }\n",
       "\n",
       "    .dataframe thead th {\n",
       "        text-align: right;\n",
       "    }\n",
       "</style>\n",
       "<table border=\"1\" class=\"dataframe\">\n",
       "  <thead>\n",
       "    <tr style=\"text-align: right;\">\n",
       "      <th></th>\n",
       "      <th>Image URL</th>\n",
       "      <th>Web page URL</th>\n",
       "      <th>Subset</th>\n",
       "      <th>Labels</th>\n",
       "    </tr>\n",
       "  </thead>\n",
       "  <tbody>\n",
       "    <tr>\n",
       "      <th>count</th>\n",
       "      <td>8302</td>\n",
       "      <td>8457</td>\n",
       "      <td>8473</td>\n",
       "      <td>8473</td>\n",
       "    </tr>\n",
       "    <tr>\n",
       "      <th>unique</th>\n",
       "      <td>8261</td>\n",
       "      <td>8416</td>\n",
       "      <td>3</td>\n",
       "      <td>89</td>\n",
       "    </tr>\n",
       "    <tr>\n",
       "      <th>top</th>\n",
       "      <td>https://d3d00swyhr67nd.cloudfront.net/w1200h12...</td>\n",
       "      <td>https://artuk.org/discover/artworks/richard-je...</td>\n",
       "      <td>'test'</td>\n",
       "      <td>' boat'</td>\n",
       "    </tr>\n",
       "    <tr>\n",
       "      <th>freq</th>\n",
       "      <td>42</td>\n",
       "      <td>42</td>\n",
       "      <td>4224</td>\n",
       "      <td>1921</td>\n",
       "    </tr>\n",
       "  </tbody>\n",
       "</table>\n",
       "</div>"
      ],
      "text/plain": [
       "                                                Image URL  \\\n",
       "count                                                8302   \n",
       "unique                                               8261   \n",
       "top     https://d3d00swyhr67nd.cloudfront.net/w1200h12...   \n",
       "freq                                                   42   \n",
       "\n",
       "                                             Web page URL  Subset   Labels  \n",
       "count                                                8457    8473     8473  \n",
       "unique                                               8416       3       89  \n",
       "top     https://artuk.org/discover/artworks/richard-je...  'test'  ' boat'  \n",
       "freq                                                   42    4224     1921  "
      ]
     },
     "execution_count": 6,
     "metadata": {},
     "output_type": "execute_result"
    }
   ],
   "source": [
    "df_yourpaintings = df_yourpaintings.drop_duplicates()\n",
    "df_yourpaintings.describe()"
   ]
  },
  {
   "cell_type": "code",
   "execution_count": 7,
   "id": "0b61b271",
   "metadata": {
    "ExecuteTime": {
     "end_time": "2022-09-03T06:12:12.860027Z",
     "start_time": "2022-09-03T06:12:12.852735Z"
    }
   },
   "outputs": [
    {
     "data": {
      "text/plain": [
       "8473"
      ]
     },
     "execution_count": 7,
     "metadata": {},
     "output_type": "execute_result"
    }
   ],
   "source": [
    "len(df_yourpaintings)"
   ]
  },
  {
   "cell_type": "code",
   "execution_count": 8,
   "id": "5fd0a140",
   "metadata": {
    "ExecuteTime": {
     "end_time": "2022-09-03T06:12:12.886249Z",
     "start_time": "2022-09-03T06:12:12.864319Z"
    }
   },
   "outputs": [
    {
     "data": {
      "text/plain": [
       "Image URL       2.018175\n",
       "Web page URL    0.188835\n",
       "Subset          0.000000\n",
       "Labels          0.000000\n",
       "dtype: float64"
      ]
     },
     "execution_count": 8,
     "metadata": {},
     "output_type": "execute_result"
    }
   ],
   "source": [
    "(df_yourpaintings.isnull().sum()/len(df_yourpaintings))*100"
   ]
  },
  {
   "cell_type": "code",
   "execution_count": 9,
   "id": "a40eac34",
   "metadata": {
    "ExecuteTime": {
     "end_time": "2022-09-03T06:12:12.906447Z",
     "start_time": "2022-09-03T06:12:12.894228Z"
    }
   },
   "outputs": [],
   "source": [
    "df_yourpaintings = df_yourpaintings.dropna()"
   ]
  },
  {
   "cell_type": "code",
   "execution_count": 10,
   "id": "b11d6995",
   "metadata": {
    "ExecuteTime": {
     "end_time": "2022-09-03T06:12:12.915323Z",
     "start_time": "2022-09-03T06:12:12.909115Z"
    }
   },
   "outputs": [
    {
     "data": {
      "text/plain": [
       "8302"
      ]
     },
     "execution_count": 10,
     "metadata": {},
     "output_type": "execute_result"
    }
   ],
   "source": [
    "len(df_yourpaintings)"
   ]
  },
  {
   "cell_type": "code",
   "execution_count": 11,
   "id": "7c26c78c",
   "metadata": {
    "ExecuteTime": {
     "end_time": "2022-09-03T06:12:12.953219Z",
     "start_time": "2022-09-03T06:12:12.918035Z"
    },
    "scrolled": true
   },
   "outputs": [
    {
     "data": {
      "text/html": [
       "<div>\n",
       "<style scoped>\n",
       "    .dataframe tbody tr th:only-of-type {\n",
       "        vertical-align: middle;\n",
       "    }\n",
       "\n",
       "    .dataframe tbody tr th {\n",
       "        vertical-align: top;\n",
       "    }\n",
       "\n",
       "    .dataframe thead th {\n",
       "        text-align: right;\n",
       "    }\n",
       "</style>\n",
       "<table border=\"1\" class=\"dataframe\">\n",
       "  <thead>\n",
       "    <tr style=\"text-align: right;\">\n",
       "      <th></th>\n",
       "      <th>Image URL</th>\n",
       "      <th>Web page URL</th>\n",
       "      <th>Subset</th>\n",
       "      <th>Labels</th>\n",
       "    </tr>\n",
       "  </thead>\n",
       "  <tbody>\n",
       "    <tr>\n",
       "      <th>count</th>\n",
       "      <td>8302</td>\n",
       "      <td>8302</td>\n",
       "      <td>8302</td>\n",
       "      <td>8302</td>\n",
       "    </tr>\n",
       "    <tr>\n",
       "      <th>unique</th>\n",
       "      <td>8261</td>\n",
       "      <td>8261</td>\n",
       "      <td>3</td>\n",
       "      <td>89</td>\n",
       "    </tr>\n",
       "    <tr>\n",
       "      <th>top</th>\n",
       "      <td>https://d3d00swyhr67nd.cloudfront.net/w1200h12...</td>\n",
       "      <td>https://artuk.org/discover/artworks/richard-je...</td>\n",
       "      <td>'test'</td>\n",
       "      <td>' boat'</td>\n",
       "    </tr>\n",
       "    <tr>\n",
       "      <th>freq</th>\n",
       "      <td>42</td>\n",
       "      <td>42</td>\n",
       "      <td>4132</td>\n",
       "      <td>1871</td>\n",
       "    </tr>\n",
       "  </tbody>\n",
       "</table>\n",
       "</div>"
      ],
      "text/plain": [
       "                                                Image URL  \\\n",
       "count                                                8302   \n",
       "unique                                               8261   \n",
       "top     https://d3d00swyhr67nd.cloudfront.net/w1200h12...   \n",
       "freq                                                   42   \n",
       "\n",
       "                                             Web page URL  Subset   Labels  \n",
       "count                                                8302    8302     8302  \n",
       "unique                                               8261       3       89  \n",
       "top     https://artuk.org/discover/artworks/richard-je...  'test'  ' boat'  \n",
       "freq                                                   42    4132     1871  "
      ]
     },
     "execution_count": 11,
     "metadata": {},
     "output_type": "execute_result"
    }
   ],
   "source": [
    "df_yourpaintings.describe()"
   ]
  },
  {
   "cell_type": "markdown",
   "id": "ec124833",
   "metadata": {},
   "source": [
    "For rows with working links, save image to desired path and save `filename` in a column. Then drop rows with inaccessible URLS/images."
   ]
  },
  {
   "cell_type": "code",
   "execution_count": null,
   "id": "e7c42cf8",
   "metadata": {
    "ExecuteTime": {
     "end_time": "2022-09-03T08:41:40.567818Z",
     "start_time": "2022-09-03T08:41:40.567787Z"
    }
   },
   "outputs": [],
   "source": [
    "for index, row in df_yourpaintings.iterrows():\n",
    "    url = row[\"Image URL\"]\n",
    "    req = Request(url)\n",
    "    try:\n",
    "        response = urlopen(req)\n",
    "    except:\n",
    "        df_yourpaintings.drop(labels=index, inplace=True, axis=0)"
   ]
  },
  {
   "cell_type": "code",
   "execution_count": null,
   "id": "abfdcdf1",
   "metadata": {
    "ExecuteTime": {
     "end_time": "2022-09-03T08:41:40.569722Z",
     "start_time": "2022-09-03T08:41:40.569697Z"
    }
   },
   "outputs": [],
   "source": [
    "df_yourpaintings.describe()"
   ]
  },
  {
   "cell_type": "markdown",
   "id": "9abe333f",
   "metadata": {},
   "source": [
    "# Build the preprocessing pipe"
   ]
  },
  {
   "cell_type": "markdown",
   "id": "66ed2d52",
   "metadata": {},
   "source": [
    "First load the image data."
   ]
  },
  {
   "cell_type": "code",
   "execution_count": null,
   "id": "ac53be50",
   "metadata": {
    "ExecuteTime": {
     "end_time": "2022-09-03T08:41:40.572486Z",
     "start_time": "2022-09-03T08:41:40.572460Z"
    }
   },
   "outputs": [],
   "source": []
  },
  {
   "cell_type": "code",
   "execution_count": null,
   "id": "b42c2fdb",
   "metadata": {},
   "outputs": [],
   "source": [
    "def get_data():\n",
    "    \"\"\"method to get the training data (or a portion of it) from google cloud bucket\"\"\"\n",
    "    df = pd.read_csv(f\"gs://{BUCKET_NAME}/{BUCKET_TRAIN_DATA_PATH}\", nrows=1000)\n",
    "    return df"
   ]
  },
  {
   "cell_type": "code",
   "execution_count": 13,
   "id": "3aa54bf7",
   "metadata": {
    "ExecuteTime": {
     "end_time": "2022-09-03T08:41:40.562323Z",
     "start_time": "2022-09-03T08:41:40.553058Z"
    }
   },
   "outputs": [
    {
     "ename": "SyntaxError",
     "evalue": "invalid syntax (3226722706.py, line 1)",
     "output_type": "error",
     "traceback": [
      "\u001b[0;36m  Input \u001b[0;32mIn [13]\u001b[0;36m\u001b[0m\n\u001b[0;31m    preprocessing_pipe =\u001b[0m\n\u001b[0m                         ^\u001b[0m\n\u001b[0;31mSyntaxError\u001b[0m\u001b[0;31m:\u001b[0m invalid syntax\n"
     ]
    }
   ],
   "source": [
    "preprocessing_pipe = "
   ]
  },
  {
   "cell_type": "markdown",
   "id": "c15c1a44",
   "metadata": {},
   "source": [
    "For images, apply the following standard preprocessing:\n",
    "* Resize\n",
    "* Crop\n",
    "* Rotate\n",
    "* Compression\n",
    "* Grayscale: Optional\n",
    "\n",
    "Other steps that may apply:\n",
    "* Perform data augmentation\n",
    "* Normalise data by / 255"
   ]
  },
  {
   "cell_type": "markdown",
   "id": "0b0f0610",
   "metadata": {
    "ExecuteTime": {
     "end_time": "2022-09-03T03:35:55.082637Z",
     "start_time": "2022-09-03T03:35:55.079448Z"
    }
   },
   "source": [
    "# Scaling functions"
   ]
  },
  {
   "cell_type": "code",
   "execution_count": null,
   "id": "92b28dca",
   "metadata": {},
   "outputs": [],
   "source": []
  },
  {
   "cell_type": "markdown",
   "id": "f66a9cdc",
   "metadata": {},
   "source": [
    "# Sampling"
   ]
  },
  {
   "cell_type": "code",
   "execution_count": null,
   "id": "65d27062",
   "metadata": {},
   "outputs": [],
   "source": []
  },
  {
   "cell_type": "markdown",
   "id": "3b1d5326",
   "metadata": {
    "ExecuteTime": {
     "end_time": "2022-09-03T03:37:01.458008Z",
     "start_time": "2022-09-03T03:37:01.454837Z"
    }
   },
   "source": [
    "# Encoding"
   ]
  },
  {
   "cell_type": "code",
   "execution_count": null,
   "id": "31523a1b",
   "metadata": {},
   "outputs": [],
   "source": []
  }
 ],
 "metadata": {
  "kernelspec": {
   "display_name": "Python 3 (ipykernel)",
   "language": "python",
   "name": "python3"
  },
  "language_info": {
   "codemirror_mode": {
    "name": "ipython",
    "version": 3
   },
   "file_extension": ".py",
   "mimetype": "text/x-python",
   "name": "python",
   "nbconvert_exporter": "python",
   "pygments_lexer": "ipython3",
   "version": "3.8.12"
  },
  "toc": {
   "base_numbering": 1,
   "nav_menu": {},
   "number_sections": true,
   "sideBar": true,
   "skip_h1_title": false,
   "title_cell": "Table of Contents",
   "title_sidebar": "Contents",
   "toc_cell": false,
   "toc_position": {},
   "toc_section_display": true,
   "toc_window_display": false
  }
 },
 "nbformat": 4,
 "nbformat_minor": 5
}

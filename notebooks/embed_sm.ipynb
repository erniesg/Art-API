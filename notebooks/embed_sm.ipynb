{
 "cells": [
  {
   "cell_type": "code",
   "execution_count": 2,
   "id": "f2ee7bcc",
   "metadata": {
    "ExecuteTime": {
     "end_time": "2023-03-09T14:10:40.075315Z",
     "start_time": "2023-03-09T14:10:39.830887Z"
    }
   },
   "outputs": [],
   "source": [
    "from docarray import DocumentArray, Document"
   ]
  },
  {
   "cell_type": "code",
   "execution_count": 9,
   "id": "54159737",
   "metadata": {
    "ExecuteTime": {
     "end_time": "2023-03-09T14:11:27.128276Z",
     "start_time": "2023-03-09T14:11:26.385166Z"
    }
   },
   "outputs": [
    {
     "data": {
      "text/html": [
       "<pre style=\"white-space:pre;overflow-x:auto;line-height:normal;font-family:Menlo,'DejaVu Sans Mono',consolas,'Courier New',monospace\">\n",
       "</pre>\n"
      ],
      "text/plain": [
       "\n"
      ]
     },
     "metadata": {},
     "output_type": "display_data"
    }
   ],
   "source": [
    "da = DocumentArray.from_files('../raw_data/aws_sm_500/*.jpg')\n",
    "da.plot_image_sprites('500_sprites.png')"
   ]
  },
  {
   "cell_type": "code",
   "execution_count": 10,
   "id": "cbbdf4a4",
   "metadata": {
    "ExecuteTime": {
     "end_time": "2023-03-09T14:11:28.345275Z",
     "start_time": "2023-03-09T14:11:28.329623Z"
    }
   },
   "outputs": [
    {
     "data": {
      "text/html": [
       "<pre style=\"white-space:pre;overflow-x:auto;line-height:normal;font-family:Menlo,'DejaVu Sans Mono',consolas,'Courier New',monospace\">╭────────────────── Documents Summary ──────────────────╮\n",
       "│                                                       │\n",
       "│   Type                   DocumentArrayInMemory        │\n",
       "│   Length                 <span style=\"color: #008080; text-decoration-color: #008080; font-weight: bold\">500</span>                          │\n",
       "│   Homogenous Documents   <span style=\"color: #00ff00; text-decoration-color: #00ff00; font-style: italic\">True</span>                         │\n",
       "│   Common Attributes      <span style=\"font-weight: bold\">(</span><span style=\"color: #008000; text-decoration-color: #008000\">'id'</span>, <span style=\"color: #008000; text-decoration-color: #008000\">'mime_type'</span>, <span style=\"color: #008000; text-decoration-color: #008000\">'uri'</span><span style=\"font-weight: bold\">)</span>   │\n",
       "│   Multimodal dataclass   <span style=\"color: #ff0000; text-decoration-color: #ff0000; font-style: italic\">False</span>                        │\n",
       "│                                                       │\n",
       "╰───────────────────────────────────────────────────────╯\n",
       "╭───────────────────── Attributes Summary ─────────────────────╮\n",
       "│                                                              │\n",
       "│  <span style=\"font-weight: bold\"> Attribute </span> <span style=\"font-weight: bold\"> Data type </span> <span style=\"font-weight: bold\"> #Unique values </span> <span style=\"font-weight: bold\"> Has empty value </span>  │\n",
       "│  ──────────────────────────────────────────────────────────  │\n",
       "│   id          <span style=\"font-weight: bold\">(</span><span style=\"color: #008000; text-decoration-color: #008000\">'str'</span>,<span style=\"font-weight: bold\">)</span>    <span style=\"color: #008080; text-decoration-color: #008080; font-weight: bold\">500</span>              <span style=\"color: #ff0000; text-decoration-color: #ff0000; font-style: italic\">False</span>             │\n",
       "│   mime_type   <span style=\"font-weight: bold\">(</span><span style=\"color: #008000; text-decoration-color: #008000\">'str'</span>,<span style=\"font-weight: bold\">)</span>    <span style=\"color: #008080; text-decoration-color: #008080; font-weight: bold\">1</span>                <span style=\"color: #ff0000; text-decoration-color: #ff0000; font-style: italic\">False</span>             │\n",
       "│   uri         <span style=\"font-weight: bold\">(</span><span style=\"color: #008000; text-decoration-color: #008000\">'str'</span>,<span style=\"font-weight: bold\">)</span>    <span style=\"color: #008080; text-decoration-color: #008080; font-weight: bold\">500</span>              <span style=\"color: #ff0000; text-decoration-color: #ff0000; font-style: italic\">False</span>             │\n",
       "│                                                              │\n",
       "╰──────────────────────────────────────────────────────────────╯\n",
       "</pre>\n"
      ],
      "text/plain": [
       "╭────────────────── Documents Summary ──────────────────╮\n",
       "│                                                       │\n",
       "│   Type                   DocumentArrayInMemory        │\n",
       "│   Length                 \u001b[1;36m500\u001b[0m                          │\n",
       "│   Homogenous Documents   \u001b[3;92mTrue\u001b[0m                         │\n",
       "│   Common Attributes      \u001b[1m(\u001b[0m\u001b[32m'id'\u001b[0m, \u001b[32m'mime_type'\u001b[0m, \u001b[32m'uri'\u001b[0m\u001b[1m)\u001b[0m   │\n",
       "│   Multimodal dataclass   \u001b[3;91mFalse\u001b[0m                        │\n",
       "│                                                       │\n",
       "╰───────────────────────────────────────────────────────╯\n",
       "╭───────────────────── Attributes Summary ─────────────────────╮\n",
       "│                                                              │\n",
       "│  \u001b[1m \u001b[0m\u001b[1mAttribute\u001b[0m\u001b[1m \u001b[0m \u001b[1m \u001b[0m\u001b[1mData type\u001b[0m\u001b[1m \u001b[0m \u001b[1m \u001b[0m\u001b[1m#Unique values\u001b[0m\u001b[1m \u001b[0m \u001b[1m \u001b[0m\u001b[1mHas empty value\u001b[0m\u001b[1m \u001b[0m  │\n",
       "│  ──────────────────────────────────────────────────────────  │\n",
       "│   id          \u001b[1m(\u001b[0m\u001b[32m'str'\u001b[0m,\u001b[1m)\u001b[0m    \u001b[1;36m500\u001b[0m              \u001b[3;91mFalse\u001b[0m             │\n",
       "│   mime_type   \u001b[1m(\u001b[0m\u001b[32m'str'\u001b[0m,\u001b[1m)\u001b[0m    \u001b[1;36m1\u001b[0m                \u001b[3;91mFalse\u001b[0m             │\n",
       "│   uri         \u001b[1m(\u001b[0m\u001b[32m'str'\u001b[0m,\u001b[1m)\u001b[0m    \u001b[1;36m500\u001b[0m              \u001b[3;91mFalse\u001b[0m             │\n",
       "│                                                              │\n",
       "╰──────────────────────────────────────────────────────────────╯\n"
      ]
     },
     "metadata": {},
     "output_type": "display_data"
    }
   ],
   "source": [
    "da"
   ]
  },
  {
   "cell_type": "code",
   "execution_count": 11,
   "id": "b4d04392",
   "metadata": {
    "ExecuteTime": {
     "end_time": "2023-03-09T14:11:49.027976Z",
     "start_time": "2023-03-09T14:11:38.387126Z"
    }
   },
   "outputs": [
    {
     "data": {
      "application/vnd.jupyter.widget-view+json": {
       "model_id": "e60ab895394243cc9f22d02bbb760bef",
       "version_major": 2,
       "version_minor": 0
      },
      "text/plain": [
       "Output()"
      ]
     },
     "metadata": {},
     "output_type": "display_data"
    },
    {
     "data": {
      "text/html": [
       "<pre style=\"white-space:pre;overflow-x:auto;line-height:normal;font-family:Menlo,'DejaVu Sans Mono',consolas,'Courier New',monospace\"><span style=\"color: #808000; text-decoration-color: #808000; font-weight: bold\">DeprecationWarning: Kernel._parent_header is deprecated in ipykernel 6. Use .get_parent()</span> <span style=\"color: #000000; text-decoration-color: #000000; font-weight: bold\">(raised from </span>\n",
       "<span style=\"color: #000000; text-decoration-color: #000000; font-weight: bold\">/home/erniesg/.pyenv/versions/3.8.12/envs/lewagon/lib/python3.8/site-packages/ipywidgets/widgets/widget_output.py:1</span>\n",
       "<span style=\"color: #000000; text-decoration-color: #000000; font-weight: bold\">11)</span>\n",
       "</pre>\n"
      ],
      "text/plain": [
       "\u001b[1;33mDeprecationWarning: Kernel._parent_header is deprecated in ipykernel 6. Use .get_parent()\u001b[0m \u001b[1;30m(raised from \u001b[0m\n",
       "\u001b[1;30m/home/erniesg/.pyenv/versions/3.8.12/envs/lewagon/lib/python3.8/site-packages/ipywidgets/widgets/widget_output.py:1\u001b[0m\n",
       "\u001b[1;30m11)\u001b[0m\n"
      ]
     },
     "metadata": {},
     "output_type": "display_data"
    },
    {
     "data": {
      "text/html": [
       "<pre style=\"white-space:pre;overflow-x:auto;line-height:normal;font-family:Menlo,'DejaVu Sans Mono',consolas,'Courier New',monospace\"><span style=\"color: #808000; text-decoration-color: #808000; font-weight: bold\">DeprecationWarning: Kernel._parent_header is deprecated in ipykernel 6. Use .get_parent()</span> <span style=\"color: #000000; text-decoration-color: #000000; font-weight: bold\">(raised from </span>\n",
       "<span style=\"color: #000000; text-decoration-color: #000000; font-weight: bold\">/home/erniesg/.pyenv/versions/3.8.12/envs/lewagon/lib/python3.8/site-packages/ipywidgets/widgets/widget_output.py:1</span>\n",
       "<span style=\"color: #000000; text-decoration-color: #000000; font-weight: bold\">12)</span>\n",
       "</pre>\n"
      ],
      "text/plain": [
       "\u001b[1;33mDeprecationWarning: Kernel._parent_header is deprecated in ipykernel 6. Use .get_parent()\u001b[0m \u001b[1;30m(raised from \u001b[0m\n",
       "\u001b[1;30m/home/erniesg/.pyenv/versions/3.8.12/envs/lewagon/lib/python3.8/site-packages/ipywidgets/widgets/widget_output.py:1\u001b[0m\n",
       "\u001b[1;30m12)\u001b[0m\n"
      ]
     },
     "metadata": {},
     "output_type": "display_data"
    },
    {
     "data": {
      "text/html": [
       "<pre style=\"white-space:pre;overflow-x:auto;line-height:normal;font-family:Menlo,'DejaVu Sans Mono',consolas,'Courier New',monospace\"><span style=\"color: #808000; text-decoration-color: #808000; font-weight: bold\">DeprecationWarning: Kernel._parent_header is deprecated in ipykernel 6. Use .get_parent()</span> <span style=\"color: #000000; text-decoration-color: #000000; font-weight: bold\">(raised from </span>\n",
       "<span style=\"color: #000000; text-decoration-color: #000000; font-weight: bold\">/home/erniesg/.pyenv/versions/3.8.12/envs/lewagon/lib/python3.8/site-packages/ipywidgets/widgets/widget_output.py:1</span>\n",
       "<span style=\"color: #000000; text-decoration-color: #000000; font-weight: bold\">11)</span>\n",
       "</pre>\n"
      ],
      "text/plain": [
       "\u001b[1;33mDeprecationWarning: Kernel._parent_header is deprecated in ipykernel 6. Use .get_parent()\u001b[0m \u001b[1;30m(raised from \u001b[0m\n",
       "\u001b[1;30m/home/erniesg/.pyenv/versions/3.8.12/envs/lewagon/lib/python3.8/site-packages/ipywidgets/widgets/widget_output.py:1\u001b[0m\n",
       "\u001b[1;30m11)\u001b[0m\n"
      ]
     },
     "metadata": {},
     "output_type": "display_data"
    },
    {
     "data": {
      "text/html": [
       "<pre style=\"white-space:pre;overflow-x:auto;line-height:normal;font-family:Menlo,'DejaVu Sans Mono',consolas,'Courier New',monospace\"><span style=\"color: #808000; text-decoration-color: #808000; font-weight: bold\">DeprecationWarning: Kernel._parent_header is deprecated in ipykernel 6. Use .get_parent()</span> <span style=\"color: #000000; text-decoration-color: #000000; font-weight: bold\">(raised from </span>\n",
       "<span style=\"color: #000000; text-decoration-color: #000000; font-weight: bold\">/home/erniesg/.pyenv/versions/3.8.12/envs/lewagon/lib/python3.8/site-packages/ipywidgets/widgets/widget_output.py:1</span>\n",
       "<span style=\"color: #000000; text-decoration-color: #000000; font-weight: bold\">12)</span>\n",
       "</pre>\n"
      ],
      "text/plain": [
       "\u001b[1;33mDeprecationWarning: Kernel._parent_header is deprecated in ipykernel 6. Use .get_parent()\u001b[0m \u001b[1;30m(raised from \u001b[0m\n",
       "\u001b[1;30m/home/erniesg/.pyenv/versions/3.8.12/envs/lewagon/lib/python3.8/site-packages/ipywidgets/widgets/widget_output.py:1\u001b[0m\n",
       "\u001b[1;30m12)\u001b[0m\n"
      ]
     },
     "metadata": {},
     "output_type": "display_data"
    },
    {
     "data": {
      "text/html": [
       "<pre style=\"white-space:pre;overflow-x:auto;line-height:normal;font-family:Menlo,'DejaVu Sans Mono',consolas,'Courier New',monospace\"><span style=\"color: #808000; text-decoration-color: #808000; font-weight: bold\">DeprecationWarning: Kernel._parent_header is deprecated in ipykernel 6. Use .get_parent()</span> <span style=\"color: #000000; text-decoration-color: #000000; font-weight: bold\">(raised from </span>\n",
       "<span style=\"color: #000000; text-decoration-color: #000000; font-weight: bold\">/home/erniesg/.pyenv/versions/3.8.12/envs/lewagon/lib/python3.8/site-packages/ipywidgets/widgets/widget_output.py:1</span>\n",
       "<span style=\"color: #000000; text-decoration-color: #000000; font-weight: bold\">11)</span>\n",
       "</pre>\n"
      ],
      "text/plain": [
       "\u001b[1;33mDeprecationWarning: Kernel._parent_header is deprecated in ipykernel 6. Use .get_parent()\u001b[0m \u001b[1;30m(raised from \u001b[0m\n",
       "\u001b[1;30m/home/erniesg/.pyenv/versions/3.8.12/envs/lewagon/lib/python3.8/site-packages/ipywidgets/widgets/widget_output.py:1\u001b[0m\n",
       "\u001b[1;30m11)\u001b[0m\n"
      ]
     },
     "metadata": {},
     "output_type": "display_data"
    },
    {
     "data": {
      "text/html": [
       "<pre style=\"white-space:pre;overflow-x:auto;line-height:normal;font-family:Menlo,'DejaVu Sans Mono',consolas,'Courier New',monospace\"><span style=\"color: #808000; text-decoration-color: #808000; font-weight: bold\">DeprecationWarning: Kernel._parent_header is deprecated in ipykernel 6. Use .get_parent()</span> <span style=\"color: #000000; text-decoration-color: #000000; font-weight: bold\">(raised from </span>\n",
       "<span style=\"color: #000000; text-decoration-color: #000000; font-weight: bold\">/home/erniesg/.pyenv/versions/3.8.12/envs/lewagon/lib/python3.8/site-packages/ipywidgets/widgets/widget_output.py:1</span>\n",
       "<span style=\"color: #000000; text-decoration-color: #000000; font-weight: bold\">12)</span>\n",
       "</pre>\n"
      ],
      "text/plain": [
       "\u001b[1;33mDeprecationWarning: Kernel._parent_header is deprecated in ipykernel 6. Use .get_parent()\u001b[0m \u001b[1;30m(raised from \u001b[0m\n",
       "\u001b[1;30m/home/erniesg/.pyenv/versions/3.8.12/envs/lewagon/lib/python3.8/site-packages/ipywidgets/widgets/widget_output.py:1\u001b[0m\n",
       "\u001b[1;30m12)\u001b[0m\n"
      ]
     },
     "metadata": {},
     "output_type": "display_data"
    },
    {
     "data": {
      "text/html": [
       "<pre style=\"white-space:pre;overflow-x:auto;line-height:normal;font-family:Menlo,'DejaVu Sans Mono',consolas,'Courier New',monospace\"><span style=\"color: #808000; text-decoration-color: #808000; font-weight: bold\">DeprecationWarning: Kernel._parent_header is deprecated in ipykernel 6. Use .get_parent()</span> <span style=\"color: #000000; text-decoration-color: #000000; font-weight: bold\">(raised from </span>\n",
       "<span style=\"color: #000000; text-decoration-color: #000000; font-weight: bold\">/home/erniesg/.pyenv/versions/3.8.12/envs/lewagon/lib/python3.8/site-packages/ipywidgets/widgets/widget_output.py:1</span>\n",
       "<span style=\"color: #000000; text-decoration-color: #000000; font-weight: bold\">11)</span>\n",
       "</pre>\n"
      ],
      "text/plain": [
       "\u001b[1;33mDeprecationWarning: Kernel._parent_header is deprecated in ipykernel 6. Use .get_parent()\u001b[0m \u001b[1;30m(raised from \u001b[0m\n",
       "\u001b[1;30m/home/erniesg/.pyenv/versions/3.8.12/envs/lewagon/lib/python3.8/site-packages/ipywidgets/widgets/widget_output.py:1\u001b[0m\n",
       "\u001b[1;30m11)\u001b[0m\n"
      ]
     },
     "metadata": {},
     "output_type": "display_data"
    },
    {
     "data": {
      "text/html": [
       "<pre style=\"white-space:pre;overflow-x:auto;line-height:normal;font-family:Menlo,'DejaVu Sans Mono',consolas,'Courier New',monospace\"><span style=\"color: #808000; text-decoration-color: #808000; font-weight: bold\">DeprecationWarning: Kernel._parent_header is deprecated in ipykernel 6. Use .get_parent()</span> <span style=\"color: #000000; text-decoration-color: #000000; font-weight: bold\">(raised from </span>\n",
       "<span style=\"color: #000000; text-decoration-color: #000000; font-weight: bold\">/home/erniesg/.pyenv/versions/3.8.12/envs/lewagon/lib/python3.8/site-packages/ipywidgets/widgets/widget_output.py:1</span>\n",
       "<span style=\"color: #000000; text-decoration-color: #000000; font-weight: bold\">12)</span>\n",
       "</pre>\n"
      ],
      "text/plain": [
       "\u001b[1;33mDeprecationWarning: Kernel._parent_header is deprecated in ipykernel 6. Use .get_parent()\u001b[0m \u001b[1;30m(raised from \u001b[0m\n",
       "\u001b[1;30m/home/erniesg/.pyenv/versions/3.8.12/envs/lewagon/lib/python3.8/site-packages/ipywidgets/widgets/widget_output.py:1\u001b[0m\n",
       "\u001b[1;30m12)\u001b[0m\n"
      ]
     },
     "metadata": {},
     "output_type": "display_data"
    },
    {
     "data": {
      "text/html": [
       "<pre style=\"white-space:pre;overflow-x:auto;line-height:normal;font-family:Menlo,'DejaVu Sans Mono',consolas,'Courier New',monospace\"><span style=\"color: #808000; text-decoration-color: #808000; font-weight: bold\">DeprecationWarning: Kernel._parent_header is deprecated in ipykernel 6. Use .get_parent()</span> <span style=\"color: #000000; text-decoration-color: #000000; font-weight: bold\">(raised from </span>\n",
       "<span style=\"color: #000000; text-decoration-color: #000000; font-weight: bold\">/home/erniesg/.pyenv/versions/3.8.12/envs/lewagon/lib/python3.8/site-packages/ipywidgets/widgets/widget_output.py:1</span>\n",
       "<span style=\"color: #000000; text-decoration-color: #000000; font-weight: bold\">11)</span>\n",
       "</pre>\n"
      ],
      "text/plain": [
       "\u001b[1;33mDeprecationWarning: Kernel._parent_header is deprecated in ipykernel 6. Use .get_parent()\u001b[0m \u001b[1;30m(raised from \u001b[0m\n",
       "\u001b[1;30m/home/erniesg/.pyenv/versions/3.8.12/envs/lewagon/lib/python3.8/site-packages/ipywidgets/widgets/widget_output.py:1\u001b[0m\n",
       "\u001b[1;30m11)\u001b[0m\n"
      ]
     },
     "metadata": {},
     "output_type": "display_data"
    },
    {
     "data": {
      "text/html": [
       "<pre style=\"white-space:pre;overflow-x:auto;line-height:normal;font-family:Menlo,'DejaVu Sans Mono',consolas,'Courier New',monospace\"><span style=\"color: #808000; text-decoration-color: #808000; font-weight: bold\">DeprecationWarning: Kernel._parent_header is deprecated in ipykernel 6. Use .get_parent()</span> <span style=\"color: #000000; text-decoration-color: #000000; font-weight: bold\">(raised from </span>\n",
       "<span style=\"color: #000000; text-decoration-color: #000000; font-weight: bold\">/home/erniesg/.pyenv/versions/3.8.12/envs/lewagon/lib/python3.8/site-packages/ipywidgets/widgets/widget_output.py:1</span>\n",
       "<span style=\"color: #000000; text-decoration-color: #000000; font-weight: bold\">12)</span>\n",
       "</pre>\n"
      ],
      "text/plain": [
       "\u001b[1;33mDeprecationWarning: Kernel._parent_header is deprecated in ipykernel 6. Use .get_parent()\u001b[0m \u001b[1;30m(raised from \u001b[0m\n",
       "\u001b[1;30m/home/erniesg/.pyenv/versions/3.8.12/envs/lewagon/lib/python3.8/site-packages/ipywidgets/widgets/widget_output.py:1\u001b[0m\n",
       "\u001b[1;30m12)\u001b[0m\n"
      ]
     },
     "metadata": {},
     "output_type": "display_data"
    },
    {
     "data": {
      "text/html": [
       "<pre style=\"white-space:pre;overflow-x:auto;line-height:normal;font-family:Menlo,'DejaVu Sans Mono',consolas,'Courier New',monospace\"><span style=\"color: #808000; text-decoration-color: #808000; font-weight: bold\">DeprecationWarning: Kernel._parent_header is deprecated in ipykernel 6. Use .get_parent()</span> <span style=\"color: #000000; text-decoration-color: #000000; font-weight: bold\">(raised from </span>\n",
       "<span style=\"color: #000000; text-decoration-color: #000000; font-weight: bold\">/home/erniesg/.pyenv/versions/3.8.12/envs/lewagon/lib/python3.8/site-packages/ipywidgets/widgets/widget_output.py:1</span>\n",
       "<span style=\"color: #000000; text-decoration-color: #000000; font-weight: bold\">11)</span>\n",
       "</pre>\n"
      ],
      "text/plain": [
       "\u001b[1;33mDeprecationWarning: Kernel._parent_header is deprecated in ipykernel 6. Use .get_parent()\u001b[0m \u001b[1;30m(raised from \u001b[0m\n",
       "\u001b[1;30m/home/erniesg/.pyenv/versions/3.8.12/envs/lewagon/lib/python3.8/site-packages/ipywidgets/widgets/widget_output.py:1\u001b[0m\n",
       "\u001b[1;30m11)\u001b[0m\n"
      ]
     },
     "metadata": {},
     "output_type": "display_data"
    },
    {
     "data": {
      "text/html": [
       "<pre style=\"white-space:pre;overflow-x:auto;line-height:normal;font-family:Menlo,'DejaVu Sans Mono',consolas,'Courier New',monospace\"><span style=\"color: #808000; text-decoration-color: #808000; font-weight: bold\">DeprecationWarning: Kernel._parent_header is deprecated in ipykernel 6. Use .get_parent()</span> <span style=\"color: #000000; text-decoration-color: #000000; font-weight: bold\">(raised from </span>\n",
       "<span style=\"color: #000000; text-decoration-color: #000000; font-weight: bold\">/home/erniesg/.pyenv/versions/3.8.12/envs/lewagon/lib/python3.8/site-packages/ipywidgets/widgets/widget_output.py:1</span>\n",
       "<span style=\"color: #000000; text-decoration-color: #000000; font-weight: bold\">12)</span>\n",
       "</pre>\n"
      ],
      "text/plain": [
       "\u001b[1;33mDeprecationWarning: Kernel._parent_header is deprecated in ipykernel 6. Use .get_parent()\u001b[0m \u001b[1;30m(raised from \u001b[0m\n",
       "\u001b[1;30m/home/erniesg/.pyenv/versions/3.8.12/envs/lewagon/lib/python3.8/site-packages/ipywidgets/widgets/widget_output.py:1\u001b[0m\n",
       "\u001b[1;30m12)\u001b[0m\n"
      ]
     },
     "metadata": {},
     "output_type": "display_data"
    },
    {
     "data": {
      "text/html": [
       "<pre style=\"white-space:pre;overflow-x:auto;line-height:normal;font-family:Menlo,'DejaVu Sans Mono',consolas,'Courier New',monospace\"><span style=\"color: #808000; text-decoration-color: #808000; font-weight: bold\">DeprecationWarning: Kernel._parent_header is deprecated in ipykernel 6. Use .get_parent()</span> <span style=\"color: #000000; text-decoration-color: #000000; font-weight: bold\">(raised from </span>\n",
       "<span style=\"color: #000000; text-decoration-color: #000000; font-weight: bold\">/home/erniesg/.pyenv/versions/3.8.12/envs/lewagon/lib/python3.8/site-packages/ipywidgets/widgets/widget_output.py:1</span>\n",
       "<span style=\"color: #000000; text-decoration-color: #000000; font-weight: bold\">11)</span>\n",
       "</pre>\n"
      ],
      "text/plain": [
       "\u001b[1;33mDeprecationWarning: Kernel._parent_header is deprecated in ipykernel 6. Use .get_parent()\u001b[0m \u001b[1;30m(raised from \u001b[0m\n",
       "\u001b[1;30m/home/erniesg/.pyenv/versions/3.8.12/envs/lewagon/lib/python3.8/site-packages/ipywidgets/widgets/widget_output.py:1\u001b[0m\n",
       "\u001b[1;30m11)\u001b[0m\n"
      ]
     },
     "metadata": {},
     "output_type": "display_data"
    },
    {
     "data": {
      "text/html": [
       "<pre style=\"white-space:pre;overflow-x:auto;line-height:normal;font-family:Menlo,'DejaVu Sans Mono',consolas,'Courier New',monospace\"><span style=\"color: #808000; text-decoration-color: #808000; font-weight: bold\">DeprecationWarning: Kernel._parent_header is deprecated in ipykernel 6. Use .get_parent()</span> <span style=\"color: #000000; text-decoration-color: #000000; font-weight: bold\">(raised from </span>\n",
       "<span style=\"color: #000000; text-decoration-color: #000000; font-weight: bold\">/home/erniesg/.pyenv/versions/3.8.12/envs/lewagon/lib/python3.8/site-packages/ipywidgets/widgets/widget_output.py:1</span>\n",
       "<span style=\"color: #000000; text-decoration-color: #000000; font-weight: bold\">12)</span>\n",
       "</pre>\n"
      ],
      "text/plain": [
       "\u001b[1;33mDeprecationWarning: Kernel._parent_header is deprecated in ipykernel 6. Use .get_parent()\u001b[0m \u001b[1;30m(raised from \u001b[0m\n",
       "\u001b[1;30m/home/erniesg/.pyenv/versions/3.8.12/envs/lewagon/lib/python3.8/site-packages/ipywidgets/widgets/widget_output.py:1\u001b[0m\n",
       "\u001b[1;30m12)\u001b[0m\n"
      ]
     },
     "metadata": {},
     "output_type": "display_data"
    },
    {
     "data": {
      "text/html": [
       "<pre style=\"white-space:pre;overflow-x:auto;line-height:normal;font-family:Menlo,'DejaVu Sans Mono',consolas,'Courier New',monospace\"><span style=\"color: #808000; text-decoration-color: #808000; font-weight: bold\">DeprecationWarning: Kernel._parent_header is deprecated in ipykernel 6. Use .get_parent()</span> <span style=\"color: #000000; text-decoration-color: #000000; font-weight: bold\">(raised from </span>\n",
       "<span style=\"color: #000000; text-decoration-color: #000000; font-weight: bold\">/home/erniesg/.pyenv/versions/3.8.12/envs/lewagon/lib/python3.8/site-packages/ipywidgets/widgets/widget_output.py:1</span>\n",
       "<span style=\"color: #000000; text-decoration-color: #000000; font-weight: bold\">11)</span>\n",
       "</pre>\n"
      ],
      "text/plain": [
       "\u001b[1;33mDeprecationWarning: Kernel._parent_header is deprecated in ipykernel 6. Use .get_parent()\u001b[0m \u001b[1;30m(raised from \u001b[0m\n",
       "\u001b[1;30m/home/erniesg/.pyenv/versions/3.8.12/envs/lewagon/lib/python3.8/site-packages/ipywidgets/widgets/widget_output.py:1\u001b[0m\n",
       "\u001b[1;30m11)\u001b[0m\n"
      ]
     },
     "metadata": {},
     "output_type": "display_data"
    },
    {
     "data": {
      "text/html": [
       "<pre style=\"white-space:pre;overflow-x:auto;line-height:normal;font-family:Menlo,'DejaVu Sans Mono',consolas,'Courier New',monospace\"><span style=\"color: #808000; text-decoration-color: #808000; font-weight: bold\">DeprecationWarning: Kernel._parent_header is deprecated in ipykernel 6. Use .get_parent()</span> <span style=\"color: #000000; text-decoration-color: #000000; font-weight: bold\">(raised from </span>\n",
       "<span style=\"color: #000000; text-decoration-color: #000000; font-weight: bold\">/home/erniesg/.pyenv/versions/3.8.12/envs/lewagon/lib/python3.8/site-packages/ipywidgets/widgets/widget_output.py:1</span>\n",
       "<span style=\"color: #000000; text-decoration-color: #000000; font-weight: bold\">12)</span>\n",
       "</pre>\n"
      ],
      "text/plain": [
       "\u001b[1;33mDeprecationWarning: Kernel._parent_header is deprecated in ipykernel 6. Use .get_parent()\u001b[0m \u001b[1;30m(raised from \u001b[0m\n",
       "\u001b[1;30m/home/erniesg/.pyenv/versions/3.8.12/envs/lewagon/lib/python3.8/site-packages/ipywidgets/widgets/widget_output.py:1\u001b[0m\n",
       "\u001b[1;30m12)\u001b[0m\n"
      ]
     },
     "metadata": {},
     "output_type": "display_data"
    },
    {
     "data": {
      "text/html": [
       "<pre style=\"white-space:pre;overflow-x:auto;line-height:normal;font-family:Menlo,'DejaVu Sans Mono',consolas,'Courier New',monospace\"><span style=\"color: #808000; text-decoration-color: #808000; font-weight: bold\">DeprecationWarning: Kernel._parent_header is deprecated in ipykernel 6. Use .get_parent()</span> <span style=\"color: #000000; text-decoration-color: #000000; font-weight: bold\">(raised from </span>\n",
       "<span style=\"color: #000000; text-decoration-color: #000000; font-weight: bold\">/home/erniesg/.pyenv/versions/3.8.12/envs/lewagon/lib/python3.8/site-packages/ipywidgets/widgets/widget_output.py:1</span>\n",
       "<span style=\"color: #000000; text-decoration-color: #000000; font-weight: bold\">11)</span>\n",
       "</pre>\n"
      ],
      "text/plain": [
       "\u001b[1;33mDeprecationWarning: Kernel._parent_header is deprecated in ipykernel 6. Use .get_parent()\u001b[0m \u001b[1;30m(raised from \u001b[0m\n",
       "\u001b[1;30m/home/erniesg/.pyenv/versions/3.8.12/envs/lewagon/lib/python3.8/site-packages/ipywidgets/widgets/widget_output.py:1\u001b[0m\n",
       "\u001b[1;30m11)\u001b[0m\n"
      ]
     },
     "metadata": {},
     "output_type": "display_data"
    },
    {
     "data": {
      "text/html": [
       "<pre style=\"white-space:pre;overflow-x:auto;line-height:normal;font-family:Menlo,'DejaVu Sans Mono',consolas,'Courier New',monospace\"><span style=\"color: #808000; text-decoration-color: #808000; font-weight: bold\">DeprecationWarning: Kernel._parent_header is deprecated in ipykernel 6. Use .get_parent()</span> <span style=\"color: #000000; text-decoration-color: #000000; font-weight: bold\">(raised from </span>\n",
       "<span style=\"color: #000000; text-decoration-color: #000000; font-weight: bold\">/home/erniesg/.pyenv/versions/3.8.12/envs/lewagon/lib/python3.8/site-packages/ipywidgets/widgets/widget_output.py:1</span>\n",
       "<span style=\"color: #000000; text-decoration-color: #000000; font-weight: bold\">12)</span>\n",
       "</pre>\n"
      ],
      "text/plain": [
       "\u001b[1;33mDeprecationWarning: Kernel._parent_header is deprecated in ipykernel 6. Use .get_parent()\u001b[0m \u001b[1;30m(raised from \u001b[0m\n",
       "\u001b[1;30m/home/erniesg/.pyenv/versions/3.8.12/envs/lewagon/lib/python3.8/site-packages/ipywidgets/widgets/widget_output.py:1\u001b[0m\n",
       "\u001b[1;30m12)\u001b[0m\n"
      ]
     },
     "metadata": {},
     "output_type": "display_data"
    },
    {
     "data": {
      "text/html": [
       "<pre style=\"white-space:pre;overflow-x:auto;line-height:normal;font-family:Menlo,'DejaVu Sans Mono',consolas,'Courier New',monospace\"><span style=\"color: #808000; text-decoration-color: #808000; font-weight: bold\">DeprecationWarning: Kernel._parent_header is deprecated in ipykernel 6. Use .get_parent()</span> <span style=\"color: #000000; text-decoration-color: #000000; font-weight: bold\">(raised from </span>\n",
       "<span style=\"color: #000000; text-decoration-color: #000000; font-weight: bold\">/home/erniesg/.pyenv/versions/3.8.12/envs/lewagon/lib/python3.8/site-packages/ipywidgets/widgets/widget_output.py:1</span>\n",
       "<span style=\"color: #000000; text-decoration-color: #000000; font-weight: bold\">11)</span>\n",
       "</pre>\n"
      ],
      "text/plain": [
       "\u001b[1;33mDeprecationWarning: Kernel._parent_header is deprecated in ipykernel 6. Use .get_parent()\u001b[0m \u001b[1;30m(raised from \u001b[0m\n",
       "\u001b[1;30m/home/erniesg/.pyenv/versions/3.8.12/envs/lewagon/lib/python3.8/site-packages/ipywidgets/widgets/widget_output.py:1\u001b[0m\n",
       "\u001b[1;30m11)\u001b[0m\n"
      ]
     },
     "metadata": {},
     "output_type": "display_data"
    },
    {
     "data": {
      "text/html": [
       "<pre style=\"white-space:pre;overflow-x:auto;line-height:normal;font-family:Menlo,'DejaVu Sans Mono',consolas,'Courier New',monospace\"><span style=\"color: #808000; text-decoration-color: #808000; font-weight: bold\">DeprecationWarning: Kernel._parent_header is deprecated in ipykernel 6. Use .get_parent()</span> <span style=\"color: #000000; text-decoration-color: #000000; font-weight: bold\">(raised from </span>\n",
       "<span style=\"color: #000000; text-decoration-color: #000000; font-weight: bold\">/home/erniesg/.pyenv/versions/3.8.12/envs/lewagon/lib/python3.8/site-packages/ipywidgets/widgets/widget_output.py:1</span>\n",
       "<span style=\"color: #000000; text-decoration-color: #000000; font-weight: bold\">12)</span>\n",
       "</pre>\n"
      ],
      "text/plain": [
       "\u001b[1;33mDeprecationWarning: Kernel._parent_header is deprecated in ipykernel 6. Use .get_parent()\u001b[0m \u001b[1;30m(raised from \u001b[0m\n",
       "\u001b[1;30m/home/erniesg/.pyenv/versions/3.8.12/envs/lewagon/lib/python3.8/site-packages/ipywidgets/widgets/widget_output.py:1\u001b[0m\n",
       "\u001b[1;30m12)\u001b[0m\n"
      ]
     },
     "metadata": {},
     "output_type": "display_data"
    },
    {
     "data": {
      "text/html": [
       "<pre style=\"white-space:pre;overflow-x:auto;line-height:normal;font-family:Menlo,'DejaVu Sans Mono',consolas,'Courier New',monospace\"><span style=\"color: #808000; text-decoration-color: #808000; font-weight: bold\">DeprecationWarning: Kernel._parent_header is deprecated in ipykernel 6. Use .get_parent()</span> <span style=\"color: #000000; text-decoration-color: #000000; font-weight: bold\">(raised from </span>\n",
       "<span style=\"color: #000000; text-decoration-color: #000000; font-weight: bold\">/home/erniesg/.pyenv/versions/3.8.12/envs/lewagon/lib/python3.8/site-packages/ipywidgets/widgets/widget_output.py:1</span>\n",
       "<span style=\"color: #000000; text-decoration-color: #000000; font-weight: bold\">11)</span>\n",
       "</pre>\n"
      ],
      "text/plain": [
       "\u001b[1;33mDeprecationWarning: Kernel._parent_header is deprecated in ipykernel 6. Use .get_parent()\u001b[0m \u001b[1;30m(raised from \u001b[0m\n",
       "\u001b[1;30m/home/erniesg/.pyenv/versions/3.8.12/envs/lewagon/lib/python3.8/site-packages/ipywidgets/widgets/widget_output.py:1\u001b[0m\n",
       "\u001b[1;30m11)\u001b[0m\n"
      ]
     },
     "metadata": {},
     "output_type": "display_data"
    },
    {
     "data": {
      "text/html": [
       "<pre style=\"white-space:pre;overflow-x:auto;line-height:normal;font-family:Menlo,'DejaVu Sans Mono',consolas,'Courier New',monospace\"><span style=\"color: #808000; text-decoration-color: #808000; font-weight: bold\">DeprecationWarning: Kernel._parent_header is deprecated in ipykernel 6. Use .get_parent()</span> <span style=\"color: #000000; text-decoration-color: #000000; font-weight: bold\">(raised from </span>\n",
       "<span style=\"color: #000000; text-decoration-color: #000000; font-weight: bold\">/home/erniesg/.pyenv/versions/3.8.12/envs/lewagon/lib/python3.8/site-packages/ipywidgets/widgets/widget_output.py:1</span>\n",
       "<span style=\"color: #000000; text-decoration-color: #000000; font-weight: bold\">12)</span>\n",
       "</pre>\n"
      ],
      "text/plain": [
       "\u001b[1;33mDeprecationWarning: Kernel._parent_header is deprecated in ipykernel 6. Use .get_parent()\u001b[0m \u001b[1;30m(raised from \u001b[0m\n",
       "\u001b[1;30m/home/erniesg/.pyenv/versions/3.8.12/envs/lewagon/lib/python3.8/site-packages/ipywidgets/widgets/widget_output.py:1\u001b[0m\n",
       "\u001b[1;30m12)\u001b[0m\n"
      ]
     },
     "metadata": {},
     "output_type": "display_data"
    },
    {
     "data": {
      "text/html": [
       "<pre style=\"white-space:pre;overflow-x:auto;line-height:normal;font-family:Menlo,'DejaVu Sans Mono',consolas,'Courier New',monospace\"><span style=\"color: #808000; text-decoration-color: #808000; font-weight: bold\">DeprecationWarning: Kernel._parent_header is deprecated in ipykernel 6. Use .get_parent()</span> <span style=\"color: #000000; text-decoration-color: #000000; font-weight: bold\">(raised from </span>\n",
       "<span style=\"color: #000000; text-decoration-color: #000000; font-weight: bold\">/home/erniesg/.pyenv/versions/3.8.12/envs/lewagon/lib/python3.8/site-packages/ipywidgets/widgets/widget_output.py:1</span>\n",
       "<span style=\"color: #000000; text-decoration-color: #000000; font-weight: bold\">11)</span>\n",
       "</pre>\n"
      ],
      "text/plain": [
       "\u001b[1;33mDeprecationWarning: Kernel._parent_header is deprecated in ipykernel 6. Use .get_parent()\u001b[0m \u001b[1;30m(raised from \u001b[0m\n",
       "\u001b[1;30m/home/erniesg/.pyenv/versions/3.8.12/envs/lewagon/lib/python3.8/site-packages/ipywidgets/widgets/widget_output.py:1\u001b[0m\n",
       "\u001b[1;30m11)\u001b[0m\n"
      ]
     },
     "metadata": {},
     "output_type": "display_data"
    },
    {
     "data": {
      "text/html": [
       "<pre style=\"white-space:pre;overflow-x:auto;line-height:normal;font-family:Menlo,'DejaVu Sans Mono',consolas,'Courier New',monospace\"><span style=\"color: #808000; text-decoration-color: #808000; font-weight: bold\">DeprecationWarning: Kernel._parent_header is deprecated in ipykernel 6. Use .get_parent()</span> <span style=\"color: #000000; text-decoration-color: #000000; font-weight: bold\">(raised from </span>\n",
       "<span style=\"color: #000000; text-decoration-color: #000000; font-weight: bold\">/home/erniesg/.pyenv/versions/3.8.12/envs/lewagon/lib/python3.8/site-packages/ipywidgets/widgets/widget_output.py:1</span>\n",
       "<span style=\"color: #000000; text-decoration-color: #000000; font-weight: bold\">12)</span>\n",
       "</pre>\n"
      ],
      "text/plain": [
       "\u001b[1;33mDeprecationWarning: Kernel._parent_header is deprecated in ipykernel 6. Use .get_parent()\u001b[0m \u001b[1;30m(raised from \u001b[0m\n",
       "\u001b[1;30m/home/erniesg/.pyenv/versions/3.8.12/envs/lewagon/lib/python3.8/site-packages/ipywidgets/widgets/widget_output.py:1\u001b[0m\n",
       "\u001b[1;30m12)\u001b[0m\n"
      ]
     },
     "metadata": {},
     "output_type": "display_data"
    },
    {
     "data": {
      "text/html": [
       "<pre style=\"white-space:pre;overflow-x:auto;line-height:normal;font-family:Menlo,'DejaVu Sans Mono',consolas,'Courier New',monospace\"><span style=\"color: #808000; text-decoration-color: #808000; font-weight: bold\">DeprecationWarning: Kernel._parent_header is deprecated in ipykernel 6. Use .get_parent()</span> <span style=\"color: #000000; text-decoration-color: #000000; font-weight: bold\">(raised from </span>\n",
       "<span style=\"color: #000000; text-decoration-color: #000000; font-weight: bold\">/home/erniesg/.pyenv/versions/3.8.12/envs/lewagon/lib/python3.8/site-packages/ipywidgets/widgets/widget_output.py:1</span>\n",
       "<span style=\"color: #000000; text-decoration-color: #000000; font-weight: bold\">11)</span>\n",
       "</pre>\n"
      ],
      "text/plain": [
       "\u001b[1;33mDeprecationWarning: Kernel._parent_header is deprecated in ipykernel 6. Use .get_parent()\u001b[0m \u001b[1;30m(raised from \u001b[0m\n",
       "\u001b[1;30m/home/erniesg/.pyenv/versions/3.8.12/envs/lewagon/lib/python3.8/site-packages/ipywidgets/widgets/widget_output.py:1\u001b[0m\n",
       "\u001b[1;30m11)\u001b[0m\n"
      ]
     },
     "metadata": {},
     "output_type": "display_data"
    },
    {
     "data": {
      "text/html": [
       "<pre style=\"white-space:pre;overflow-x:auto;line-height:normal;font-family:Menlo,'DejaVu Sans Mono',consolas,'Courier New',monospace\"><span style=\"color: #808000; text-decoration-color: #808000; font-weight: bold\">DeprecationWarning: Kernel._parent_header is deprecated in ipykernel 6. Use .get_parent()</span> <span style=\"color: #000000; text-decoration-color: #000000; font-weight: bold\">(raised from </span>\n",
       "<span style=\"color: #000000; text-decoration-color: #000000; font-weight: bold\">/home/erniesg/.pyenv/versions/3.8.12/envs/lewagon/lib/python3.8/site-packages/ipywidgets/widgets/widget_output.py:1</span>\n",
       "<span style=\"color: #000000; text-decoration-color: #000000; font-weight: bold\">12)</span>\n",
       "</pre>\n"
      ],
      "text/plain": [
       "\u001b[1;33mDeprecationWarning: Kernel._parent_header is deprecated in ipykernel 6. Use .get_parent()\u001b[0m \u001b[1;30m(raised from \u001b[0m\n",
       "\u001b[1;30m/home/erniesg/.pyenv/versions/3.8.12/envs/lewagon/lib/python3.8/site-packages/ipywidgets/widgets/widget_output.py:1\u001b[0m\n",
       "\u001b[1;30m12)\u001b[0m\n"
      ]
     },
     "metadata": {},
     "output_type": "display_data"
    },
    {
     "data": {
      "text/html": [
       "<pre style=\"white-space:pre;overflow-x:auto;line-height:normal;font-family:Menlo,'DejaVu Sans Mono',consolas,'Courier New',monospace\"><span style=\"color: #808000; text-decoration-color: #808000; font-weight: bold\">DeprecationWarning: Kernel._parent_header is deprecated in ipykernel 6. Use .get_parent()</span> <span style=\"color: #000000; text-decoration-color: #000000; font-weight: bold\">(raised from </span>\n",
       "<span style=\"color: #000000; text-decoration-color: #000000; font-weight: bold\">/home/erniesg/.pyenv/versions/3.8.12/envs/lewagon/lib/python3.8/site-packages/ipywidgets/widgets/widget_output.py:1</span>\n",
       "<span style=\"color: #000000; text-decoration-color: #000000; font-weight: bold\">11)</span>\n",
       "</pre>\n"
      ],
      "text/plain": [
       "\u001b[1;33mDeprecationWarning: Kernel._parent_header is deprecated in ipykernel 6. Use .get_parent()\u001b[0m \u001b[1;30m(raised from \u001b[0m\n",
       "\u001b[1;30m/home/erniesg/.pyenv/versions/3.8.12/envs/lewagon/lib/python3.8/site-packages/ipywidgets/widgets/widget_output.py:1\u001b[0m\n",
       "\u001b[1;30m11)\u001b[0m\n"
      ]
     },
     "metadata": {},
     "output_type": "display_data"
    },
    {
     "data": {
      "text/html": [
       "<pre style=\"white-space:pre;overflow-x:auto;line-height:normal;font-family:Menlo,'DejaVu Sans Mono',consolas,'Courier New',monospace\"><span style=\"color: #808000; text-decoration-color: #808000; font-weight: bold\">DeprecationWarning: Kernel._parent_header is deprecated in ipykernel 6. Use .get_parent()</span> <span style=\"color: #000000; text-decoration-color: #000000; font-weight: bold\">(raised from </span>\n",
       "<span style=\"color: #000000; text-decoration-color: #000000; font-weight: bold\">/home/erniesg/.pyenv/versions/3.8.12/envs/lewagon/lib/python3.8/site-packages/ipywidgets/widgets/widget_output.py:1</span>\n",
       "<span style=\"color: #000000; text-decoration-color: #000000; font-weight: bold\">12)</span>\n",
       "</pre>\n"
      ],
      "text/plain": [
       "\u001b[1;33mDeprecationWarning: Kernel._parent_header is deprecated in ipykernel 6. Use .get_parent()\u001b[0m \u001b[1;30m(raised from \u001b[0m\n",
       "\u001b[1;30m/home/erniesg/.pyenv/versions/3.8.12/envs/lewagon/lib/python3.8/site-packages/ipywidgets/widgets/widget_output.py:1\u001b[0m\n",
       "\u001b[1;30m12)\u001b[0m\n"
      ]
     },
     "metadata": {},
     "output_type": "display_data"
    },
    {
     "data": {
      "text/html": [
       "<pre style=\"white-space:pre;overflow-x:auto;line-height:normal;font-family:Menlo,'DejaVu Sans Mono',consolas,'Courier New',monospace\"><span style=\"color: #808000; text-decoration-color: #808000; font-weight: bold\">DeprecationWarning: Kernel._parent_header is deprecated in ipykernel 6. Use .get_parent()</span> <span style=\"color: #000000; text-decoration-color: #000000; font-weight: bold\">(raised from </span>\n",
       "<span style=\"color: #000000; text-decoration-color: #000000; font-weight: bold\">/home/erniesg/.pyenv/versions/3.8.12/envs/lewagon/lib/python3.8/site-packages/ipywidgets/widgets/widget_output.py:1</span>\n",
       "<span style=\"color: #000000; text-decoration-color: #000000; font-weight: bold\">11)</span>\n",
       "</pre>\n"
      ],
      "text/plain": [
       "\u001b[1;33mDeprecationWarning: Kernel._parent_header is deprecated in ipykernel 6. Use .get_parent()\u001b[0m \u001b[1;30m(raised from \u001b[0m\n",
       "\u001b[1;30m/home/erniesg/.pyenv/versions/3.8.12/envs/lewagon/lib/python3.8/site-packages/ipywidgets/widgets/widget_output.py:1\u001b[0m\n",
       "\u001b[1;30m11)\u001b[0m\n"
      ]
     },
     "metadata": {},
     "output_type": "display_data"
    },
    {
     "data": {
      "text/html": [
       "<pre style=\"white-space:pre;overflow-x:auto;line-height:normal;font-family:Menlo,'DejaVu Sans Mono',consolas,'Courier New',monospace\"><span style=\"color: #808000; text-decoration-color: #808000; font-weight: bold\">DeprecationWarning: Kernel._parent_header is deprecated in ipykernel 6. Use .get_parent()</span> <span style=\"color: #000000; text-decoration-color: #000000; font-weight: bold\">(raised from </span>\n",
       "<span style=\"color: #000000; text-decoration-color: #000000; font-weight: bold\">/home/erniesg/.pyenv/versions/3.8.12/envs/lewagon/lib/python3.8/site-packages/ipywidgets/widgets/widget_output.py:1</span>\n",
       "<span style=\"color: #000000; text-decoration-color: #000000; font-weight: bold\">12)</span>\n",
       "</pre>\n"
      ],
      "text/plain": [
       "\u001b[1;33mDeprecationWarning: Kernel._parent_header is deprecated in ipykernel 6. Use .get_parent()\u001b[0m \u001b[1;30m(raised from \u001b[0m\n",
       "\u001b[1;30m/home/erniesg/.pyenv/versions/3.8.12/envs/lewagon/lib/python3.8/site-packages/ipywidgets/widgets/widget_output.py:1\u001b[0m\n",
       "\u001b[1;30m12)\u001b[0m\n"
      ]
     },
     "metadata": {},
     "output_type": "display_data"
    },
    {
     "data": {
      "text/html": [
       "<pre style=\"white-space:pre;overflow-x:auto;line-height:normal;font-family:Menlo,'DejaVu Sans Mono',consolas,'Courier New',monospace\"><span style=\"color: #808000; text-decoration-color: #808000; font-weight: bold\">DeprecationWarning: Kernel._parent_header is deprecated in ipykernel 6. Use .get_parent()</span> <span style=\"color: #000000; text-decoration-color: #000000; font-weight: bold\">(raised from </span>\n",
       "<span style=\"color: #000000; text-decoration-color: #000000; font-weight: bold\">/home/erniesg/.pyenv/versions/3.8.12/envs/lewagon/lib/python3.8/site-packages/ipywidgets/widgets/widget_output.py:1</span>\n",
       "<span style=\"color: #000000; text-decoration-color: #000000; font-weight: bold\">11)</span>\n",
       "</pre>\n"
      ],
      "text/plain": [
       "\u001b[1;33mDeprecationWarning: Kernel._parent_header is deprecated in ipykernel 6. Use .get_parent()\u001b[0m \u001b[1;30m(raised from \u001b[0m\n",
       "\u001b[1;30m/home/erniesg/.pyenv/versions/3.8.12/envs/lewagon/lib/python3.8/site-packages/ipywidgets/widgets/widget_output.py:1\u001b[0m\n",
       "\u001b[1;30m11)\u001b[0m\n"
      ]
     },
     "metadata": {},
     "output_type": "display_data"
    },
    {
     "data": {
      "text/html": [
       "<pre style=\"white-space:pre;overflow-x:auto;line-height:normal;font-family:Menlo,'DejaVu Sans Mono',consolas,'Courier New',monospace\"><span style=\"color: #808000; text-decoration-color: #808000; font-weight: bold\">DeprecationWarning: Kernel._parent_header is deprecated in ipykernel 6. Use .get_parent()</span> <span style=\"color: #000000; text-decoration-color: #000000; font-weight: bold\">(raised from </span>\n",
       "<span style=\"color: #000000; text-decoration-color: #000000; font-weight: bold\">/home/erniesg/.pyenv/versions/3.8.12/envs/lewagon/lib/python3.8/site-packages/ipywidgets/widgets/widget_output.py:1</span>\n",
       "<span style=\"color: #000000; text-decoration-color: #000000; font-weight: bold\">12)</span>\n",
       "</pre>\n"
      ],
      "text/plain": [
       "\u001b[1;33mDeprecationWarning: Kernel._parent_header is deprecated in ipykernel 6. Use .get_parent()\u001b[0m \u001b[1;30m(raised from \u001b[0m\n",
       "\u001b[1;30m/home/erniesg/.pyenv/versions/3.8.12/envs/lewagon/lib/python3.8/site-packages/ipywidgets/widgets/widget_output.py:1\u001b[0m\n",
       "\u001b[1;30m12)\u001b[0m\n"
      ]
     },
     "metadata": {},
     "output_type": "display_data"
    },
    {
     "data": {
      "text/html": [
       "<pre style=\"white-space:pre;overflow-x:auto;line-height:normal;font-family:Menlo,'DejaVu Sans Mono',consolas,'Courier New',monospace\"><span style=\"color: #808000; text-decoration-color: #808000; font-weight: bold\">DeprecationWarning: Kernel._parent_header is deprecated in ipykernel 6. Use .get_parent()</span> <span style=\"color: #000000; text-decoration-color: #000000; font-weight: bold\">(raised from </span>\n",
       "<span style=\"color: #000000; text-decoration-color: #000000; font-weight: bold\">/home/erniesg/.pyenv/versions/3.8.12/envs/lewagon/lib/python3.8/site-packages/ipywidgets/widgets/widget_output.py:1</span>\n",
       "<span style=\"color: #000000; text-decoration-color: #000000; font-weight: bold\">11)</span>\n",
       "</pre>\n"
      ],
      "text/plain": [
       "\u001b[1;33mDeprecationWarning: Kernel._parent_header is deprecated in ipykernel 6. Use .get_parent()\u001b[0m \u001b[1;30m(raised from \u001b[0m\n",
       "\u001b[1;30m/home/erniesg/.pyenv/versions/3.8.12/envs/lewagon/lib/python3.8/site-packages/ipywidgets/widgets/widget_output.py:1\u001b[0m\n",
       "\u001b[1;30m11)\u001b[0m\n"
      ]
     },
     "metadata": {},
     "output_type": "display_data"
    },
    {
     "data": {
      "text/html": [
       "<pre style=\"white-space:pre;overflow-x:auto;line-height:normal;font-family:Menlo,'DejaVu Sans Mono',consolas,'Courier New',monospace\"><span style=\"color: #808000; text-decoration-color: #808000; font-weight: bold\">DeprecationWarning: Kernel._parent_header is deprecated in ipykernel 6. Use .get_parent()</span> <span style=\"color: #000000; text-decoration-color: #000000; font-weight: bold\">(raised from </span>\n",
       "<span style=\"color: #000000; text-decoration-color: #000000; font-weight: bold\">/home/erniesg/.pyenv/versions/3.8.12/envs/lewagon/lib/python3.8/site-packages/ipywidgets/widgets/widget_output.py:1</span>\n",
       "<span style=\"color: #000000; text-decoration-color: #000000; font-weight: bold\">12)</span>\n",
       "</pre>\n"
      ],
      "text/plain": [
       "\u001b[1;33mDeprecationWarning: Kernel._parent_header is deprecated in ipykernel 6. Use .get_parent()\u001b[0m \u001b[1;30m(raised from \u001b[0m\n",
       "\u001b[1;30m/home/erniesg/.pyenv/versions/3.8.12/envs/lewagon/lib/python3.8/site-packages/ipywidgets/widgets/widget_output.py:1\u001b[0m\n",
       "\u001b[1;30m12)\u001b[0m\n"
      ]
     },
     "metadata": {},
     "output_type": "display_data"
    },
    {
     "data": {
      "text/html": [
       "<pre style=\"white-space:pre;overflow-x:auto;line-height:normal;font-family:Menlo,'DejaVu Sans Mono',consolas,'Courier New',monospace\"><span style=\"color: #808000; text-decoration-color: #808000; font-weight: bold\">DeprecationWarning: Kernel._parent_header is deprecated in ipykernel 6. Use .get_parent()</span> <span style=\"color: #000000; text-decoration-color: #000000; font-weight: bold\">(raised from </span>\n",
       "<span style=\"color: #000000; text-decoration-color: #000000; font-weight: bold\">/home/erniesg/.pyenv/versions/3.8.12/envs/lewagon/lib/python3.8/site-packages/ipywidgets/widgets/widget_output.py:1</span>\n",
       "<span style=\"color: #000000; text-decoration-color: #000000; font-weight: bold\">11)</span>\n",
       "</pre>\n"
      ],
      "text/plain": [
       "\u001b[1;33mDeprecationWarning: Kernel._parent_header is deprecated in ipykernel 6. Use .get_parent()\u001b[0m \u001b[1;30m(raised from \u001b[0m\n",
       "\u001b[1;30m/home/erniesg/.pyenv/versions/3.8.12/envs/lewagon/lib/python3.8/site-packages/ipywidgets/widgets/widget_output.py:1\u001b[0m\n",
       "\u001b[1;30m11)\u001b[0m\n"
      ]
     },
     "metadata": {},
     "output_type": "display_data"
    },
    {
     "data": {
      "text/html": [
       "<pre style=\"white-space:pre;overflow-x:auto;line-height:normal;font-family:Menlo,'DejaVu Sans Mono',consolas,'Courier New',monospace\"><span style=\"color: #808000; text-decoration-color: #808000; font-weight: bold\">DeprecationWarning: Kernel._parent_header is deprecated in ipykernel 6. Use .get_parent()</span> <span style=\"color: #000000; text-decoration-color: #000000; font-weight: bold\">(raised from </span>\n",
       "<span style=\"color: #000000; text-decoration-color: #000000; font-weight: bold\">/home/erniesg/.pyenv/versions/3.8.12/envs/lewagon/lib/python3.8/site-packages/ipywidgets/widgets/widget_output.py:1</span>\n",
       "<span style=\"color: #000000; text-decoration-color: #000000; font-weight: bold\">12)</span>\n",
       "</pre>\n"
      ],
      "text/plain": [
       "\u001b[1;33mDeprecationWarning: Kernel._parent_header is deprecated in ipykernel 6. Use .get_parent()\u001b[0m \u001b[1;30m(raised from \u001b[0m\n",
       "\u001b[1;30m/home/erniesg/.pyenv/versions/3.8.12/envs/lewagon/lib/python3.8/site-packages/ipywidgets/widgets/widget_output.py:1\u001b[0m\n",
       "\u001b[1;30m12)\u001b[0m\n"
      ]
     },
     "metadata": {},
     "output_type": "display_data"
    },
    {
     "data": {
      "text/html": [
       "<pre style=\"white-space:pre;overflow-x:auto;line-height:normal;font-family:Menlo,'DejaVu Sans Mono',consolas,'Courier New',monospace\"><span style=\"color: #808000; text-decoration-color: #808000; font-weight: bold\">DeprecationWarning: Kernel._parent_header is deprecated in ipykernel 6. Use .get_parent()</span> <span style=\"color: #000000; text-decoration-color: #000000; font-weight: bold\">(raised from </span>\n",
       "<span style=\"color: #000000; text-decoration-color: #000000; font-weight: bold\">/home/erniesg/.pyenv/versions/3.8.12/envs/lewagon/lib/python3.8/site-packages/ipywidgets/widgets/widget_output.py:1</span>\n",
       "<span style=\"color: #000000; text-decoration-color: #000000; font-weight: bold\">11)</span>\n",
       "</pre>\n"
      ],
      "text/plain": [
       "\u001b[1;33mDeprecationWarning: Kernel._parent_header is deprecated in ipykernel 6. Use .get_parent()\u001b[0m \u001b[1;30m(raised from \u001b[0m\n",
       "\u001b[1;30m/home/erniesg/.pyenv/versions/3.8.12/envs/lewagon/lib/python3.8/site-packages/ipywidgets/widgets/widget_output.py:1\u001b[0m\n",
       "\u001b[1;30m11)\u001b[0m\n"
      ]
     },
     "metadata": {},
     "output_type": "display_data"
    },
    {
     "data": {
      "text/html": [
       "<pre style=\"white-space:pre;overflow-x:auto;line-height:normal;font-family:Menlo,'DejaVu Sans Mono',consolas,'Courier New',monospace\"><span style=\"color: #808000; text-decoration-color: #808000; font-weight: bold\">DeprecationWarning: Kernel._parent_header is deprecated in ipykernel 6. Use .get_parent()</span> <span style=\"color: #000000; text-decoration-color: #000000; font-weight: bold\">(raised from </span>\n",
       "<span style=\"color: #000000; text-decoration-color: #000000; font-weight: bold\">/home/erniesg/.pyenv/versions/3.8.12/envs/lewagon/lib/python3.8/site-packages/ipywidgets/widgets/widget_output.py:1</span>\n",
       "<span style=\"color: #000000; text-decoration-color: #000000; font-weight: bold\">12)</span>\n",
       "</pre>\n"
      ],
      "text/plain": [
       "\u001b[1;33mDeprecationWarning: Kernel._parent_header is deprecated in ipykernel 6. Use .get_parent()\u001b[0m \u001b[1;30m(raised from \u001b[0m\n",
       "\u001b[1;30m/home/erniesg/.pyenv/versions/3.8.12/envs/lewagon/lib/python3.8/site-packages/ipywidgets/widgets/widget_output.py:1\u001b[0m\n",
       "\u001b[1;30m12)\u001b[0m\n"
      ]
     },
     "metadata": {},
     "output_type": "display_data"
    },
    {
     "data": {
      "text/html": [
       "<pre style=\"white-space:pre;overflow-x:auto;line-height:normal;font-family:Menlo,'DejaVu Sans Mono',consolas,'Courier New',monospace\"><span style=\"color: #808000; text-decoration-color: #808000; font-weight: bold\">DeprecationWarning: Kernel._parent_header is deprecated in ipykernel 6. Use .get_parent()</span> <span style=\"color: #000000; text-decoration-color: #000000; font-weight: bold\">(raised from </span>\n",
       "<span style=\"color: #000000; text-decoration-color: #000000; font-weight: bold\">/home/erniesg/.pyenv/versions/3.8.12/envs/lewagon/lib/python3.8/site-packages/ipywidgets/widgets/widget_output.py:1</span>\n",
       "<span style=\"color: #000000; text-decoration-color: #000000; font-weight: bold\">11)</span>\n",
       "</pre>\n"
      ],
      "text/plain": [
       "\u001b[1;33mDeprecationWarning: Kernel._parent_header is deprecated in ipykernel 6. Use .get_parent()\u001b[0m \u001b[1;30m(raised from \u001b[0m\n",
       "\u001b[1;30m/home/erniesg/.pyenv/versions/3.8.12/envs/lewagon/lib/python3.8/site-packages/ipywidgets/widgets/widget_output.py:1\u001b[0m\n",
       "\u001b[1;30m11)\u001b[0m\n"
      ]
     },
     "metadata": {},
     "output_type": "display_data"
    },
    {
     "data": {
      "text/html": [
       "<pre style=\"white-space:pre;overflow-x:auto;line-height:normal;font-family:Menlo,'DejaVu Sans Mono',consolas,'Courier New',monospace\"><span style=\"color: #808000; text-decoration-color: #808000; font-weight: bold\">DeprecationWarning: Kernel._parent_header is deprecated in ipykernel 6. Use .get_parent()</span> <span style=\"color: #000000; text-decoration-color: #000000; font-weight: bold\">(raised from </span>\n",
       "<span style=\"color: #000000; text-decoration-color: #000000; font-weight: bold\">/home/erniesg/.pyenv/versions/3.8.12/envs/lewagon/lib/python3.8/site-packages/ipywidgets/widgets/widget_output.py:1</span>\n",
       "<span style=\"color: #000000; text-decoration-color: #000000; font-weight: bold\">12)</span>\n",
       "</pre>\n"
      ],
      "text/plain": [
       "\u001b[1;33mDeprecationWarning: Kernel._parent_header is deprecated in ipykernel 6. Use .get_parent()\u001b[0m \u001b[1;30m(raised from \u001b[0m\n",
       "\u001b[1;30m/home/erniesg/.pyenv/versions/3.8.12/envs/lewagon/lib/python3.8/site-packages/ipywidgets/widgets/widget_output.py:1\u001b[0m\n",
       "\u001b[1;30m12)\u001b[0m\n"
      ]
     },
     "metadata": {},
     "output_type": "display_data"
    },
    {
     "data": {
      "text/html": [
       "<pre style=\"white-space:pre;overflow-x:auto;line-height:normal;font-family:Menlo,'DejaVu Sans Mono',consolas,'Courier New',monospace\"><span style=\"color: #808000; text-decoration-color: #808000; font-weight: bold\">DeprecationWarning: Kernel._parent_header is deprecated in ipykernel 6. Use .get_parent()</span> <span style=\"color: #000000; text-decoration-color: #000000; font-weight: bold\">(raised from </span>\n",
       "<span style=\"color: #000000; text-decoration-color: #000000; font-weight: bold\">/home/erniesg/.pyenv/versions/3.8.12/envs/lewagon/lib/python3.8/site-packages/ipywidgets/widgets/widget_output.py:1</span>\n",
       "<span style=\"color: #000000; text-decoration-color: #000000; font-weight: bold\">11)</span>\n",
       "</pre>\n"
      ],
      "text/plain": [
       "\u001b[1;33mDeprecationWarning: Kernel._parent_header is deprecated in ipykernel 6. Use .get_parent()\u001b[0m \u001b[1;30m(raised from \u001b[0m\n",
       "\u001b[1;30m/home/erniesg/.pyenv/versions/3.8.12/envs/lewagon/lib/python3.8/site-packages/ipywidgets/widgets/widget_output.py:1\u001b[0m\n",
       "\u001b[1;30m11)\u001b[0m\n"
      ]
     },
     "metadata": {},
     "output_type": "display_data"
    },
    {
     "data": {
      "text/html": [
       "<pre style=\"white-space:pre;overflow-x:auto;line-height:normal;font-family:Menlo,'DejaVu Sans Mono',consolas,'Courier New',monospace\"><span style=\"color: #808000; text-decoration-color: #808000; font-weight: bold\">DeprecationWarning: Kernel._parent_header is deprecated in ipykernel 6. Use .get_parent()</span> <span style=\"color: #000000; text-decoration-color: #000000; font-weight: bold\">(raised from </span>\n",
       "<span style=\"color: #000000; text-decoration-color: #000000; font-weight: bold\">/home/erniesg/.pyenv/versions/3.8.12/envs/lewagon/lib/python3.8/site-packages/ipywidgets/widgets/widget_output.py:1</span>\n",
       "<span style=\"color: #000000; text-decoration-color: #000000; font-weight: bold\">12)</span>\n",
       "</pre>\n"
      ],
      "text/plain": [
       "\u001b[1;33mDeprecationWarning: Kernel._parent_header is deprecated in ipykernel 6. Use .get_parent()\u001b[0m \u001b[1;30m(raised from \u001b[0m\n",
       "\u001b[1;30m/home/erniesg/.pyenv/versions/3.8.12/envs/lewagon/lib/python3.8/site-packages/ipywidgets/widgets/widget_output.py:1\u001b[0m\n",
       "\u001b[1;30m12)\u001b[0m\n"
      ]
     },
     "metadata": {},
     "output_type": "display_data"
    },
    {
     "data": {
      "text/html": [
       "<pre style=\"white-space:pre;overflow-x:auto;line-height:normal;font-family:Menlo,'DejaVu Sans Mono',consolas,'Courier New',monospace\"><span style=\"color: #808000; text-decoration-color: #808000; font-weight: bold\">DeprecationWarning: Kernel._parent_header is deprecated in ipykernel 6. Use .get_parent()</span> <span style=\"color: #000000; text-decoration-color: #000000; font-weight: bold\">(raised from </span>\n",
       "<span style=\"color: #000000; text-decoration-color: #000000; font-weight: bold\">/home/erniesg/.pyenv/versions/3.8.12/envs/lewagon/lib/python3.8/site-packages/ipywidgets/widgets/widget_output.py:1</span>\n",
       "<span style=\"color: #000000; text-decoration-color: #000000; font-weight: bold\">11)</span>\n",
       "</pre>\n"
      ],
      "text/plain": [
       "\u001b[1;33mDeprecationWarning: Kernel._parent_header is deprecated in ipykernel 6. Use .get_parent()\u001b[0m \u001b[1;30m(raised from \u001b[0m\n",
       "\u001b[1;30m/home/erniesg/.pyenv/versions/3.8.12/envs/lewagon/lib/python3.8/site-packages/ipywidgets/widgets/widget_output.py:1\u001b[0m\n",
       "\u001b[1;30m11)\u001b[0m\n"
      ]
     },
     "metadata": {},
     "output_type": "display_data"
    },
    {
     "data": {
      "text/html": [
       "<pre style=\"white-space:pre;overflow-x:auto;line-height:normal;font-family:Menlo,'DejaVu Sans Mono',consolas,'Courier New',monospace\"><span style=\"color: #808000; text-decoration-color: #808000; font-weight: bold\">DeprecationWarning: Kernel._parent_header is deprecated in ipykernel 6. Use .get_parent()</span> <span style=\"color: #000000; text-decoration-color: #000000; font-weight: bold\">(raised from </span>\n",
       "<span style=\"color: #000000; text-decoration-color: #000000; font-weight: bold\">/home/erniesg/.pyenv/versions/3.8.12/envs/lewagon/lib/python3.8/site-packages/ipywidgets/widgets/widget_output.py:1</span>\n",
       "<span style=\"color: #000000; text-decoration-color: #000000; font-weight: bold\">12)</span>\n",
       "</pre>\n"
      ],
      "text/plain": [
       "\u001b[1;33mDeprecationWarning: Kernel._parent_header is deprecated in ipykernel 6. Use .get_parent()\u001b[0m \u001b[1;30m(raised from \u001b[0m\n",
       "\u001b[1;30m/home/erniesg/.pyenv/versions/3.8.12/envs/lewagon/lib/python3.8/site-packages/ipywidgets/widgets/widget_output.py:1\u001b[0m\n",
       "\u001b[1;30m12)\u001b[0m\n"
      ]
     },
     "metadata": {},
     "output_type": "display_data"
    },
    {
     "data": {
      "text/html": [
       "<pre style=\"white-space:pre;overflow-x:auto;line-height:normal;font-family:Menlo,'DejaVu Sans Mono',consolas,'Courier New',monospace\"><span style=\"color: #808000; text-decoration-color: #808000; font-weight: bold\">DeprecationWarning: Kernel._parent_header is deprecated in ipykernel 6. Use .get_parent()</span> <span style=\"color: #000000; text-decoration-color: #000000; font-weight: bold\">(raised from </span>\n",
       "<span style=\"color: #000000; text-decoration-color: #000000; font-weight: bold\">/home/erniesg/.pyenv/versions/3.8.12/envs/lewagon/lib/python3.8/site-packages/ipywidgets/widgets/widget_output.py:1</span>\n",
       "<span style=\"color: #000000; text-decoration-color: #000000; font-weight: bold\">11)</span>\n",
       "</pre>\n"
      ],
      "text/plain": [
       "\u001b[1;33mDeprecationWarning: Kernel._parent_header is deprecated in ipykernel 6. Use .get_parent()\u001b[0m \u001b[1;30m(raised from \u001b[0m\n",
       "\u001b[1;30m/home/erniesg/.pyenv/versions/3.8.12/envs/lewagon/lib/python3.8/site-packages/ipywidgets/widgets/widget_output.py:1\u001b[0m\n",
       "\u001b[1;30m11)\u001b[0m\n"
      ]
     },
     "metadata": {},
     "output_type": "display_data"
    },
    {
     "data": {
      "text/html": [
       "<pre style=\"white-space:pre;overflow-x:auto;line-height:normal;font-family:Menlo,'DejaVu Sans Mono',consolas,'Courier New',monospace\"><span style=\"color: #808000; text-decoration-color: #808000; font-weight: bold\">DeprecationWarning: Kernel._parent_header is deprecated in ipykernel 6. Use .get_parent()</span> <span style=\"color: #000000; text-decoration-color: #000000; font-weight: bold\">(raised from </span>\n",
       "<span style=\"color: #000000; text-decoration-color: #000000; font-weight: bold\">/home/erniesg/.pyenv/versions/3.8.12/envs/lewagon/lib/python3.8/site-packages/ipywidgets/widgets/widget_output.py:1</span>\n",
       "<span style=\"color: #000000; text-decoration-color: #000000; font-weight: bold\">12)</span>\n",
       "</pre>\n"
      ],
      "text/plain": [
       "\u001b[1;33mDeprecationWarning: Kernel._parent_header is deprecated in ipykernel 6. Use .get_parent()\u001b[0m \u001b[1;30m(raised from \u001b[0m\n",
       "\u001b[1;30m/home/erniesg/.pyenv/versions/3.8.12/envs/lewagon/lib/python3.8/site-packages/ipywidgets/widgets/widget_output.py:1\u001b[0m\n",
       "\u001b[1;30m12)\u001b[0m\n"
      ]
     },
     "metadata": {},
     "output_type": "display_data"
    },
    {
     "data": {
      "text/html": [
       "<pre style=\"white-space:pre;overflow-x:auto;line-height:normal;font-family:Menlo,'DejaVu Sans Mono',consolas,'Courier New',monospace\"><span style=\"color: #808000; text-decoration-color: #808000; font-weight: bold\">DeprecationWarning: Kernel._parent_header is deprecated in ipykernel 6. Use .get_parent()</span> <span style=\"color: #000000; text-decoration-color: #000000; font-weight: bold\">(raised from </span>\n",
       "<span style=\"color: #000000; text-decoration-color: #000000; font-weight: bold\">/home/erniesg/.pyenv/versions/3.8.12/envs/lewagon/lib/python3.8/site-packages/ipywidgets/widgets/widget_output.py:1</span>\n",
       "<span style=\"color: #000000; text-decoration-color: #000000; font-weight: bold\">11)</span>\n",
       "</pre>\n"
      ],
      "text/plain": [
       "\u001b[1;33mDeprecationWarning: Kernel._parent_header is deprecated in ipykernel 6. Use .get_parent()\u001b[0m \u001b[1;30m(raised from \u001b[0m\n",
       "\u001b[1;30m/home/erniesg/.pyenv/versions/3.8.12/envs/lewagon/lib/python3.8/site-packages/ipywidgets/widgets/widget_output.py:1\u001b[0m\n",
       "\u001b[1;30m11)\u001b[0m\n"
      ]
     },
     "metadata": {},
     "output_type": "display_data"
    },
    {
     "data": {
      "text/html": [
       "<pre style=\"white-space:pre;overflow-x:auto;line-height:normal;font-family:Menlo,'DejaVu Sans Mono',consolas,'Courier New',monospace\"><span style=\"color: #808000; text-decoration-color: #808000; font-weight: bold\">DeprecationWarning: Kernel._parent_header is deprecated in ipykernel 6. Use .get_parent()</span> <span style=\"color: #000000; text-decoration-color: #000000; font-weight: bold\">(raised from </span>\n",
       "<span style=\"color: #000000; text-decoration-color: #000000; font-weight: bold\">/home/erniesg/.pyenv/versions/3.8.12/envs/lewagon/lib/python3.8/site-packages/ipywidgets/widgets/widget_output.py:1</span>\n",
       "<span style=\"color: #000000; text-decoration-color: #000000; font-weight: bold\">12)</span>\n",
       "</pre>\n"
      ],
      "text/plain": [
       "\u001b[1;33mDeprecationWarning: Kernel._parent_header is deprecated in ipykernel 6. Use .get_parent()\u001b[0m \u001b[1;30m(raised from \u001b[0m\n",
       "\u001b[1;30m/home/erniesg/.pyenv/versions/3.8.12/envs/lewagon/lib/python3.8/site-packages/ipywidgets/widgets/widget_output.py:1\u001b[0m\n",
       "\u001b[1;30m12)\u001b[0m\n"
      ]
     },
     "metadata": {},
     "output_type": "display_data"
    },
    {
     "data": {
      "text/html": [
       "<pre style=\"white-space:pre;overflow-x:auto;line-height:normal;font-family:Menlo,'DejaVu Sans Mono',consolas,'Courier New',monospace\"><span style=\"color: #808000; text-decoration-color: #808000; font-weight: bold\">DeprecationWarning: Kernel._parent_header is deprecated in ipykernel 6. Use .get_parent()</span> <span style=\"color: #000000; text-decoration-color: #000000; font-weight: bold\">(raised from </span>\n",
       "<span style=\"color: #000000; text-decoration-color: #000000; font-weight: bold\">/home/erniesg/.pyenv/versions/3.8.12/envs/lewagon/lib/python3.8/site-packages/ipywidgets/widgets/widget_output.py:1</span>\n",
       "<span style=\"color: #000000; text-decoration-color: #000000; font-weight: bold\">11)</span>\n",
       "</pre>\n"
      ],
      "text/plain": [
       "\u001b[1;33mDeprecationWarning: Kernel._parent_header is deprecated in ipykernel 6. Use .get_parent()\u001b[0m \u001b[1;30m(raised from \u001b[0m\n",
       "\u001b[1;30m/home/erniesg/.pyenv/versions/3.8.12/envs/lewagon/lib/python3.8/site-packages/ipywidgets/widgets/widget_output.py:1\u001b[0m\n",
       "\u001b[1;30m11)\u001b[0m\n"
      ]
     },
     "metadata": {},
     "output_type": "display_data"
    },
    {
     "data": {
      "text/html": [
       "<pre style=\"white-space:pre;overflow-x:auto;line-height:normal;font-family:Menlo,'DejaVu Sans Mono',consolas,'Courier New',monospace\"><span style=\"color: #808000; text-decoration-color: #808000; font-weight: bold\">DeprecationWarning: Kernel._parent_header is deprecated in ipykernel 6. Use .get_parent()</span> <span style=\"color: #000000; text-decoration-color: #000000; font-weight: bold\">(raised from </span>\n",
       "<span style=\"color: #000000; text-decoration-color: #000000; font-weight: bold\">/home/erniesg/.pyenv/versions/3.8.12/envs/lewagon/lib/python3.8/site-packages/ipywidgets/widgets/widget_output.py:1</span>\n",
       "<span style=\"color: #000000; text-decoration-color: #000000; font-weight: bold\">12)</span>\n",
       "</pre>\n"
      ],
      "text/plain": [
       "\u001b[1;33mDeprecationWarning: Kernel._parent_header is deprecated in ipykernel 6. Use .get_parent()\u001b[0m \u001b[1;30m(raised from \u001b[0m\n",
       "\u001b[1;30m/home/erniesg/.pyenv/versions/3.8.12/envs/lewagon/lib/python3.8/site-packages/ipywidgets/widgets/widget_output.py:1\u001b[0m\n",
       "\u001b[1;30m12)\u001b[0m\n"
      ]
     },
     "metadata": {},
     "output_type": "display_data"
    },
    {
     "data": {
      "text/html": [
       "<pre style=\"white-space:pre;overflow-x:auto;line-height:normal;font-family:Menlo,'DejaVu Sans Mono',consolas,'Courier New',monospace\"><span style=\"color: #808000; text-decoration-color: #808000; font-weight: bold\">DeprecationWarning: Kernel._parent_header is deprecated in ipykernel 6. Use .get_parent()</span> <span style=\"color: #000000; text-decoration-color: #000000; font-weight: bold\">(raised from </span>\n",
       "<span style=\"color: #000000; text-decoration-color: #000000; font-weight: bold\">/home/erniesg/.pyenv/versions/3.8.12/envs/lewagon/lib/python3.8/site-packages/ipywidgets/widgets/widget_output.py:1</span>\n",
       "<span style=\"color: #000000; text-decoration-color: #000000; font-weight: bold\">11)</span>\n",
       "</pre>\n"
      ],
      "text/plain": [
       "\u001b[1;33mDeprecationWarning: Kernel._parent_header is deprecated in ipykernel 6. Use .get_parent()\u001b[0m \u001b[1;30m(raised from \u001b[0m\n",
       "\u001b[1;30m/home/erniesg/.pyenv/versions/3.8.12/envs/lewagon/lib/python3.8/site-packages/ipywidgets/widgets/widget_output.py:1\u001b[0m\n",
       "\u001b[1;30m11)\u001b[0m\n"
      ]
     },
     "metadata": {},
     "output_type": "display_data"
    },
    {
     "data": {
      "text/html": [
       "<pre style=\"white-space:pre;overflow-x:auto;line-height:normal;font-family:Menlo,'DejaVu Sans Mono',consolas,'Courier New',monospace\"><span style=\"color: #808000; text-decoration-color: #808000; font-weight: bold\">DeprecationWarning: Kernel._parent_header is deprecated in ipykernel 6. Use .get_parent()</span> <span style=\"color: #000000; text-decoration-color: #000000; font-weight: bold\">(raised from </span>\n",
       "<span style=\"color: #000000; text-decoration-color: #000000; font-weight: bold\">/home/erniesg/.pyenv/versions/3.8.12/envs/lewagon/lib/python3.8/site-packages/ipywidgets/widgets/widget_output.py:1</span>\n",
       "<span style=\"color: #000000; text-decoration-color: #000000; font-weight: bold\">12)</span>\n",
       "</pre>\n"
      ],
      "text/plain": [
       "\u001b[1;33mDeprecationWarning: Kernel._parent_header is deprecated in ipykernel 6. Use .get_parent()\u001b[0m \u001b[1;30m(raised from \u001b[0m\n",
       "\u001b[1;30m/home/erniesg/.pyenv/versions/3.8.12/envs/lewagon/lib/python3.8/site-packages/ipywidgets/widgets/widget_output.py:1\u001b[0m\n",
       "\u001b[1;30m12)\u001b[0m\n"
      ]
     },
     "metadata": {},
     "output_type": "display_data"
    },
    {
     "data": {
      "text/html": [
       "<pre style=\"white-space:pre;overflow-x:auto;line-height:normal;font-family:Menlo,'DejaVu Sans Mono',consolas,'Courier New',monospace\"><span style=\"color: #808000; text-decoration-color: #808000; font-weight: bold\">DeprecationWarning: Kernel._parent_header is deprecated in ipykernel 6. Use .get_parent()</span> <span style=\"color: #000000; text-decoration-color: #000000; font-weight: bold\">(raised from </span>\n",
       "<span style=\"color: #000000; text-decoration-color: #000000; font-weight: bold\">/home/erniesg/.pyenv/versions/3.8.12/envs/lewagon/lib/python3.8/site-packages/ipywidgets/widgets/widget_output.py:1</span>\n",
       "<span style=\"color: #000000; text-decoration-color: #000000; font-weight: bold\">11)</span>\n",
       "</pre>\n"
      ],
      "text/plain": [
       "\u001b[1;33mDeprecationWarning: Kernel._parent_header is deprecated in ipykernel 6. Use .get_parent()\u001b[0m \u001b[1;30m(raised from \u001b[0m\n",
       "\u001b[1;30m/home/erniesg/.pyenv/versions/3.8.12/envs/lewagon/lib/python3.8/site-packages/ipywidgets/widgets/widget_output.py:1\u001b[0m\n",
       "\u001b[1;30m11)\u001b[0m\n"
      ]
     },
     "metadata": {},
     "output_type": "display_data"
    },
    {
     "data": {
      "text/html": [
       "<pre style=\"white-space:pre;overflow-x:auto;line-height:normal;font-family:Menlo,'DejaVu Sans Mono',consolas,'Courier New',monospace\"><span style=\"color: #808000; text-decoration-color: #808000; font-weight: bold\">DeprecationWarning: Kernel._parent_header is deprecated in ipykernel 6. Use .get_parent()</span> <span style=\"color: #000000; text-decoration-color: #000000; font-weight: bold\">(raised from </span>\n",
       "<span style=\"color: #000000; text-decoration-color: #000000; font-weight: bold\">/home/erniesg/.pyenv/versions/3.8.12/envs/lewagon/lib/python3.8/site-packages/ipywidgets/widgets/widget_output.py:1</span>\n",
       "<span style=\"color: #000000; text-decoration-color: #000000; font-weight: bold\">12)</span>\n",
       "</pre>\n"
      ],
      "text/plain": [
       "\u001b[1;33mDeprecationWarning: Kernel._parent_header is deprecated in ipykernel 6. Use .get_parent()\u001b[0m \u001b[1;30m(raised from \u001b[0m\n",
       "\u001b[1;30m/home/erniesg/.pyenv/versions/3.8.12/envs/lewagon/lib/python3.8/site-packages/ipywidgets/widgets/widget_output.py:1\u001b[0m\n",
       "\u001b[1;30m12)\u001b[0m\n"
      ]
     },
     "metadata": {},
     "output_type": "display_data"
    },
    {
     "data": {
      "text/html": [
       "<pre style=\"white-space:pre;overflow-x:auto;line-height:normal;font-family:Menlo,'DejaVu Sans Mono',consolas,'Courier New',monospace\"><span style=\"color: #808000; text-decoration-color: #808000; font-weight: bold\">DeprecationWarning: Kernel._parent_header is deprecated in ipykernel 6. Use .get_parent()</span> <span style=\"color: #000000; text-decoration-color: #000000; font-weight: bold\">(raised from </span>\n",
       "<span style=\"color: #000000; text-decoration-color: #000000; font-weight: bold\">/home/erniesg/.pyenv/versions/3.8.12/envs/lewagon/lib/python3.8/site-packages/ipywidgets/widgets/widget_output.py:1</span>\n",
       "<span style=\"color: #000000; text-decoration-color: #000000; font-weight: bold\">11)</span>\n",
       "</pre>\n"
      ],
      "text/plain": [
       "\u001b[1;33mDeprecationWarning: Kernel._parent_header is deprecated in ipykernel 6. Use .get_parent()\u001b[0m \u001b[1;30m(raised from \u001b[0m\n",
       "\u001b[1;30m/home/erniesg/.pyenv/versions/3.8.12/envs/lewagon/lib/python3.8/site-packages/ipywidgets/widgets/widget_output.py:1\u001b[0m\n",
       "\u001b[1;30m11)\u001b[0m\n"
      ]
     },
     "metadata": {},
     "output_type": "display_data"
    },
    {
     "data": {
      "text/html": [
       "<pre style=\"white-space:pre;overflow-x:auto;line-height:normal;font-family:Menlo,'DejaVu Sans Mono',consolas,'Courier New',monospace\"><span style=\"color: #808000; text-decoration-color: #808000; font-weight: bold\">DeprecationWarning: Kernel._parent_header is deprecated in ipykernel 6. Use .get_parent()</span> <span style=\"color: #000000; text-decoration-color: #000000; font-weight: bold\">(raised from </span>\n",
       "<span style=\"color: #000000; text-decoration-color: #000000; font-weight: bold\">/home/erniesg/.pyenv/versions/3.8.12/envs/lewagon/lib/python3.8/site-packages/ipywidgets/widgets/widget_output.py:1</span>\n",
       "<span style=\"color: #000000; text-decoration-color: #000000; font-weight: bold\">12)</span>\n",
       "</pre>\n"
      ],
      "text/plain": [
       "\u001b[1;33mDeprecationWarning: Kernel._parent_header is deprecated in ipykernel 6. Use .get_parent()\u001b[0m \u001b[1;30m(raised from \u001b[0m\n",
       "\u001b[1;30m/home/erniesg/.pyenv/versions/3.8.12/envs/lewagon/lib/python3.8/site-packages/ipywidgets/widgets/widget_output.py:1\u001b[0m\n",
       "\u001b[1;30m12)\u001b[0m\n"
      ]
     },
     "metadata": {},
     "output_type": "display_data"
    },
    {
     "data": {
      "text/html": [
       "<pre style=\"white-space:pre;overflow-x:auto;line-height:normal;font-family:Menlo,'DejaVu Sans Mono',consolas,'Courier New',monospace\"><span style=\"color: #808000; text-decoration-color: #808000; font-weight: bold\">DeprecationWarning: Kernel._parent_header is deprecated in ipykernel 6. Use .get_parent()</span> <span style=\"color: #000000; text-decoration-color: #000000; font-weight: bold\">(raised from </span>\n",
       "<span style=\"color: #000000; text-decoration-color: #000000; font-weight: bold\">/home/erniesg/.pyenv/versions/3.8.12/envs/lewagon/lib/python3.8/site-packages/ipywidgets/widgets/widget_output.py:1</span>\n",
       "<span style=\"color: #000000; text-decoration-color: #000000; font-weight: bold\">11)</span>\n",
       "</pre>\n"
      ],
      "text/plain": [
       "\u001b[1;33mDeprecationWarning: Kernel._parent_header is deprecated in ipykernel 6. Use .get_parent()\u001b[0m \u001b[1;30m(raised from \u001b[0m\n",
       "\u001b[1;30m/home/erniesg/.pyenv/versions/3.8.12/envs/lewagon/lib/python3.8/site-packages/ipywidgets/widgets/widget_output.py:1\u001b[0m\n",
       "\u001b[1;30m11)\u001b[0m\n"
      ]
     },
     "metadata": {},
     "output_type": "display_data"
    },
    {
     "data": {
      "text/html": [
       "<pre style=\"white-space:pre;overflow-x:auto;line-height:normal;font-family:Menlo,'DejaVu Sans Mono',consolas,'Courier New',monospace\"><span style=\"color: #808000; text-decoration-color: #808000; font-weight: bold\">DeprecationWarning: Kernel._parent_header is deprecated in ipykernel 6. Use .get_parent()</span> <span style=\"color: #000000; text-decoration-color: #000000; font-weight: bold\">(raised from </span>\n",
       "<span style=\"color: #000000; text-decoration-color: #000000; font-weight: bold\">/home/erniesg/.pyenv/versions/3.8.12/envs/lewagon/lib/python3.8/site-packages/ipywidgets/widgets/widget_output.py:1</span>\n",
       "<span style=\"color: #000000; text-decoration-color: #000000; font-weight: bold\">12)</span>\n",
       "</pre>\n"
      ],
      "text/plain": [
       "\u001b[1;33mDeprecationWarning: Kernel._parent_header is deprecated in ipykernel 6. Use .get_parent()\u001b[0m \u001b[1;30m(raised from \u001b[0m\n",
       "\u001b[1;30m/home/erniesg/.pyenv/versions/3.8.12/envs/lewagon/lib/python3.8/site-packages/ipywidgets/widgets/widget_output.py:1\u001b[0m\n",
       "\u001b[1;30m12)\u001b[0m\n"
      ]
     },
     "metadata": {},
     "output_type": "display_data"
    },
    {
     "data": {
      "text/html": [
       "<pre style=\"white-space:pre;overflow-x:auto;line-height:normal;font-family:Menlo,'DejaVu Sans Mono',consolas,'Courier New',monospace\"><span style=\"color: #808000; text-decoration-color: #808000; font-weight: bold\">DeprecationWarning: Kernel._parent_header is deprecated in ipykernel 6. Use .get_parent()</span> <span style=\"color: #000000; text-decoration-color: #000000; font-weight: bold\">(raised from </span>\n",
       "<span style=\"color: #000000; text-decoration-color: #000000; font-weight: bold\">/home/erniesg/.pyenv/versions/3.8.12/envs/lewagon/lib/python3.8/site-packages/ipywidgets/widgets/widget_output.py:1</span>\n",
       "<span style=\"color: #000000; text-decoration-color: #000000; font-weight: bold\">11)</span>\n",
       "</pre>\n"
      ],
      "text/plain": [
       "\u001b[1;33mDeprecationWarning: Kernel._parent_header is deprecated in ipykernel 6. Use .get_parent()\u001b[0m \u001b[1;30m(raised from \u001b[0m\n",
       "\u001b[1;30m/home/erniesg/.pyenv/versions/3.8.12/envs/lewagon/lib/python3.8/site-packages/ipywidgets/widgets/widget_output.py:1\u001b[0m\n",
       "\u001b[1;30m11)\u001b[0m\n"
      ]
     },
     "metadata": {},
     "output_type": "display_data"
    },
    {
     "data": {
      "text/html": [
       "<pre style=\"white-space:pre;overflow-x:auto;line-height:normal;font-family:Menlo,'DejaVu Sans Mono',consolas,'Courier New',monospace\"><span style=\"color: #808000; text-decoration-color: #808000; font-weight: bold\">DeprecationWarning: Kernel._parent_header is deprecated in ipykernel 6. Use .get_parent()</span> <span style=\"color: #000000; text-decoration-color: #000000; font-weight: bold\">(raised from </span>\n",
       "<span style=\"color: #000000; text-decoration-color: #000000; font-weight: bold\">/home/erniesg/.pyenv/versions/3.8.12/envs/lewagon/lib/python3.8/site-packages/ipywidgets/widgets/widget_output.py:1</span>\n",
       "<span style=\"color: #000000; text-decoration-color: #000000; font-weight: bold\">12)</span>\n",
       "</pre>\n"
      ],
      "text/plain": [
       "\u001b[1;33mDeprecationWarning: Kernel._parent_header is deprecated in ipykernel 6. Use .get_parent()\u001b[0m \u001b[1;30m(raised from \u001b[0m\n",
       "\u001b[1;30m/home/erniesg/.pyenv/versions/3.8.12/envs/lewagon/lib/python3.8/site-packages/ipywidgets/widgets/widget_output.py:1\u001b[0m\n",
       "\u001b[1;30m12)\u001b[0m\n"
      ]
     },
     "metadata": {},
     "output_type": "display_data"
    },
    {
     "data": {
      "text/html": [
       "<pre style=\"white-space:pre;overflow-x:auto;line-height:normal;font-family:Menlo,'DejaVu Sans Mono',consolas,'Courier New',monospace\"><span style=\"color: #808000; text-decoration-color: #808000; font-weight: bold\">DeprecationWarning: Kernel._parent_header is deprecated in ipykernel 6. Use .get_parent()</span> <span style=\"color: #000000; text-decoration-color: #000000; font-weight: bold\">(raised from </span>\n",
       "<span style=\"color: #000000; text-decoration-color: #000000; font-weight: bold\">/home/erniesg/.pyenv/versions/3.8.12/envs/lewagon/lib/python3.8/site-packages/ipywidgets/widgets/widget_output.py:1</span>\n",
       "<span style=\"color: #000000; text-decoration-color: #000000; font-weight: bold\">11)</span>\n",
       "</pre>\n"
      ],
      "text/plain": [
       "\u001b[1;33mDeprecationWarning: Kernel._parent_header is deprecated in ipykernel 6. Use .get_parent()\u001b[0m \u001b[1;30m(raised from \u001b[0m\n",
       "\u001b[1;30m/home/erniesg/.pyenv/versions/3.8.12/envs/lewagon/lib/python3.8/site-packages/ipywidgets/widgets/widget_output.py:1\u001b[0m\n",
       "\u001b[1;30m11)\u001b[0m\n"
      ]
     },
     "metadata": {},
     "output_type": "display_data"
    },
    {
     "data": {
      "text/html": [
       "<pre style=\"white-space:pre;overflow-x:auto;line-height:normal;font-family:Menlo,'DejaVu Sans Mono',consolas,'Courier New',monospace\"><span style=\"color: #808000; text-decoration-color: #808000; font-weight: bold\">DeprecationWarning: Kernel._parent_header is deprecated in ipykernel 6. Use .get_parent()</span> <span style=\"color: #000000; text-decoration-color: #000000; font-weight: bold\">(raised from </span>\n",
       "<span style=\"color: #000000; text-decoration-color: #000000; font-weight: bold\">/home/erniesg/.pyenv/versions/3.8.12/envs/lewagon/lib/python3.8/site-packages/ipywidgets/widgets/widget_output.py:1</span>\n",
       "<span style=\"color: #000000; text-decoration-color: #000000; font-weight: bold\">12)</span>\n",
       "</pre>\n"
      ],
      "text/plain": [
       "\u001b[1;33mDeprecationWarning: Kernel._parent_header is deprecated in ipykernel 6. Use .get_parent()\u001b[0m \u001b[1;30m(raised from \u001b[0m\n",
       "\u001b[1;30m/home/erniesg/.pyenv/versions/3.8.12/envs/lewagon/lib/python3.8/site-packages/ipywidgets/widgets/widget_output.py:1\u001b[0m\n",
       "\u001b[1;30m12)\u001b[0m\n"
      ]
     },
     "metadata": {},
     "output_type": "display_data"
    },
    {
     "data": {
      "text/html": [
       "<pre style=\"white-space:pre;overflow-x:auto;line-height:normal;font-family:Menlo,'DejaVu Sans Mono',consolas,'Courier New',monospace\"><span style=\"color: #808000; text-decoration-color: #808000; font-weight: bold\">DeprecationWarning: Kernel._parent_header is deprecated in ipykernel 6. Use .get_parent()</span> <span style=\"color: #000000; text-decoration-color: #000000; font-weight: bold\">(raised from </span>\n",
       "<span style=\"color: #000000; text-decoration-color: #000000; font-weight: bold\">/home/erniesg/.pyenv/versions/3.8.12/envs/lewagon/lib/python3.8/site-packages/ipywidgets/widgets/widget_output.py:1</span>\n",
       "<span style=\"color: #000000; text-decoration-color: #000000; font-weight: bold\">11)</span>\n",
       "</pre>\n"
      ],
      "text/plain": [
       "\u001b[1;33mDeprecationWarning: Kernel._parent_header is deprecated in ipykernel 6. Use .get_parent()\u001b[0m \u001b[1;30m(raised from \u001b[0m\n",
       "\u001b[1;30m/home/erniesg/.pyenv/versions/3.8.12/envs/lewagon/lib/python3.8/site-packages/ipywidgets/widgets/widget_output.py:1\u001b[0m\n",
       "\u001b[1;30m11)\u001b[0m\n"
      ]
     },
     "metadata": {},
     "output_type": "display_data"
    },
    {
     "data": {
      "text/html": [
       "<pre style=\"white-space:pre;overflow-x:auto;line-height:normal;font-family:Menlo,'DejaVu Sans Mono',consolas,'Courier New',monospace\"><span style=\"color: #808000; text-decoration-color: #808000; font-weight: bold\">DeprecationWarning: Kernel._parent_header is deprecated in ipykernel 6. Use .get_parent()</span> <span style=\"color: #000000; text-decoration-color: #000000; font-weight: bold\">(raised from </span>\n",
       "<span style=\"color: #000000; text-decoration-color: #000000; font-weight: bold\">/home/erniesg/.pyenv/versions/3.8.12/envs/lewagon/lib/python3.8/site-packages/ipywidgets/widgets/widget_output.py:1</span>\n",
       "<span style=\"color: #000000; text-decoration-color: #000000; font-weight: bold\">12)</span>\n",
       "</pre>\n"
      ],
      "text/plain": [
       "\u001b[1;33mDeprecationWarning: Kernel._parent_header is deprecated in ipykernel 6. Use .get_parent()\u001b[0m \u001b[1;30m(raised from \u001b[0m\n",
       "\u001b[1;30m/home/erniesg/.pyenv/versions/3.8.12/envs/lewagon/lib/python3.8/site-packages/ipywidgets/widgets/widget_output.py:1\u001b[0m\n",
       "\u001b[1;30m12)\u001b[0m\n"
      ]
     },
     "metadata": {},
     "output_type": "display_data"
    },
    {
     "data": {
      "text/html": [
       "<pre style=\"white-space:pre;overflow-x:auto;line-height:normal;font-family:Menlo,'DejaVu Sans Mono',consolas,'Courier New',monospace\"><span style=\"color: #808000; text-decoration-color: #808000; font-weight: bold\">DeprecationWarning: Kernel._parent_header is deprecated in ipykernel 6. Use .get_parent()</span> <span style=\"color: #000000; text-decoration-color: #000000; font-weight: bold\">(raised from </span>\n",
       "<span style=\"color: #000000; text-decoration-color: #000000; font-weight: bold\">/home/erniesg/.pyenv/versions/3.8.12/envs/lewagon/lib/python3.8/site-packages/ipywidgets/widgets/widget_output.py:1</span>\n",
       "<span style=\"color: #000000; text-decoration-color: #000000; font-weight: bold\">11)</span>\n",
       "</pre>\n"
      ],
      "text/plain": [
       "\u001b[1;33mDeprecationWarning: Kernel._parent_header is deprecated in ipykernel 6. Use .get_parent()\u001b[0m \u001b[1;30m(raised from \u001b[0m\n",
       "\u001b[1;30m/home/erniesg/.pyenv/versions/3.8.12/envs/lewagon/lib/python3.8/site-packages/ipywidgets/widgets/widget_output.py:1\u001b[0m\n",
       "\u001b[1;30m11)\u001b[0m\n"
      ]
     },
     "metadata": {},
     "output_type": "display_data"
    },
    {
     "data": {
      "text/html": [
       "<pre style=\"white-space:pre;overflow-x:auto;line-height:normal;font-family:Menlo,'DejaVu Sans Mono',consolas,'Courier New',monospace\"><span style=\"color: #808000; text-decoration-color: #808000; font-weight: bold\">DeprecationWarning: Kernel._parent_header is deprecated in ipykernel 6. Use .get_parent()</span> <span style=\"color: #000000; text-decoration-color: #000000; font-weight: bold\">(raised from </span>\n",
       "<span style=\"color: #000000; text-decoration-color: #000000; font-weight: bold\">/home/erniesg/.pyenv/versions/3.8.12/envs/lewagon/lib/python3.8/site-packages/ipywidgets/widgets/widget_output.py:1</span>\n",
       "<span style=\"color: #000000; text-decoration-color: #000000; font-weight: bold\">12)</span>\n",
       "</pre>\n"
      ],
      "text/plain": [
       "\u001b[1;33mDeprecationWarning: Kernel._parent_header is deprecated in ipykernel 6. Use .get_parent()\u001b[0m \u001b[1;30m(raised from \u001b[0m\n",
       "\u001b[1;30m/home/erniesg/.pyenv/versions/3.8.12/envs/lewagon/lib/python3.8/site-packages/ipywidgets/widgets/widget_output.py:1\u001b[0m\n",
       "\u001b[1;30m12)\u001b[0m\n"
      ]
     },
     "metadata": {},
     "output_type": "display_data"
    },
    {
     "data": {
      "text/html": [
       "<pre style=\"white-space:pre;overflow-x:auto;line-height:normal;font-family:Menlo,'DejaVu Sans Mono',consolas,'Courier New',monospace\"><span style=\"color: #808000; text-decoration-color: #808000; font-weight: bold\">DeprecationWarning: Kernel._parent_header is deprecated in ipykernel 6. Use .get_parent()</span> <span style=\"color: #000000; text-decoration-color: #000000; font-weight: bold\">(raised from </span>\n",
       "<span style=\"color: #000000; text-decoration-color: #000000; font-weight: bold\">/home/erniesg/.pyenv/versions/3.8.12/envs/lewagon/lib/python3.8/site-packages/ipywidgets/widgets/widget_output.py:1</span>\n",
       "<span style=\"color: #000000; text-decoration-color: #000000; font-weight: bold\">11)</span>\n",
       "</pre>\n"
      ],
      "text/plain": [
       "\u001b[1;33mDeprecationWarning: Kernel._parent_header is deprecated in ipykernel 6. Use .get_parent()\u001b[0m \u001b[1;30m(raised from \u001b[0m\n",
       "\u001b[1;30m/home/erniesg/.pyenv/versions/3.8.12/envs/lewagon/lib/python3.8/site-packages/ipywidgets/widgets/widget_output.py:1\u001b[0m\n",
       "\u001b[1;30m11)\u001b[0m\n"
      ]
     },
     "metadata": {},
     "output_type": "display_data"
    },
    {
     "data": {
      "text/html": [
       "<pre style=\"white-space:pre;overflow-x:auto;line-height:normal;font-family:Menlo,'DejaVu Sans Mono',consolas,'Courier New',monospace\"><span style=\"color: #808000; text-decoration-color: #808000; font-weight: bold\">DeprecationWarning: Kernel._parent_header is deprecated in ipykernel 6. Use .get_parent()</span> <span style=\"color: #000000; text-decoration-color: #000000; font-weight: bold\">(raised from </span>\n",
       "<span style=\"color: #000000; text-decoration-color: #000000; font-weight: bold\">/home/erniesg/.pyenv/versions/3.8.12/envs/lewagon/lib/python3.8/site-packages/ipywidgets/widgets/widget_output.py:1</span>\n",
       "<span style=\"color: #000000; text-decoration-color: #000000; font-weight: bold\">12)</span>\n",
       "</pre>\n"
      ],
      "text/plain": [
       "\u001b[1;33mDeprecationWarning: Kernel._parent_header is deprecated in ipykernel 6. Use .get_parent()\u001b[0m \u001b[1;30m(raised from \u001b[0m\n",
       "\u001b[1;30m/home/erniesg/.pyenv/versions/3.8.12/envs/lewagon/lib/python3.8/site-packages/ipywidgets/widgets/widget_output.py:1\u001b[0m\n",
       "\u001b[1;30m12)\u001b[0m\n"
      ]
     },
     "metadata": {},
     "output_type": "display_data"
    },
    {
     "data": {
      "text/html": [
       "<pre style=\"white-space:pre;overflow-x:auto;line-height:normal;font-family:Menlo,'DejaVu Sans Mono',consolas,'Courier New',monospace\"><span style=\"color: #808000; text-decoration-color: #808000; font-weight: bold\">DeprecationWarning: Kernel._parent_header is deprecated in ipykernel 6. Use .get_parent()</span> <span style=\"color: #000000; text-decoration-color: #000000; font-weight: bold\">(raised from </span>\n",
       "<span style=\"color: #000000; text-decoration-color: #000000; font-weight: bold\">/home/erniesg/.pyenv/versions/3.8.12/envs/lewagon/lib/python3.8/site-packages/ipywidgets/widgets/widget_output.py:1</span>\n",
       "<span style=\"color: #000000; text-decoration-color: #000000; font-weight: bold\">11)</span>\n",
       "</pre>\n"
      ],
      "text/plain": [
       "\u001b[1;33mDeprecationWarning: Kernel._parent_header is deprecated in ipykernel 6. Use .get_parent()\u001b[0m \u001b[1;30m(raised from \u001b[0m\n",
       "\u001b[1;30m/home/erniesg/.pyenv/versions/3.8.12/envs/lewagon/lib/python3.8/site-packages/ipywidgets/widgets/widget_output.py:1\u001b[0m\n",
       "\u001b[1;30m11)\u001b[0m\n"
      ]
     },
     "metadata": {},
     "output_type": "display_data"
    },
    {
     "data": {
      "text/html": [
       "<pre style=\"white-space:pre;overflow-x:auto;line-height:normal;font-family:Menlo,'DejaVu Sans Mono',consolas,'Courier New',monospace\"><span style=\"color: #808000; text-decoration-color: #808000; font-weight: bold\">DeprecationWarning: Kernel._parent_header is deprecated in ipykernel 6. Use .get_parent()</span> <span style=\"color: #000000; text-decoration-color: #000000; font-weight: bold\">(raised from </span>\n",
       "<span style=\"color: #000000; text-decoration-color: #000000; font-weight: bold\">/home/erniesg/.pyenv/versions/3.8.12/envs/lewagon/lib/python3.8/site-packages/ipywidgets/widgets/widget_output.py:1</span>\n",
       "<span style=\"color: #000000; text-decoration-color: #000000; font-weight: bold\">12)</span>\n",
       "</pre>\n"
      ],
      "text/plain": [
       "\u001b[1;33mDeprecationWarning: Kernel._parent_header is deprecated in ipykernel 6. Use .get_parent()\u001b[0m \u001b[1;30m(raised from \u001b[0m\n",
       "\u001b[1;30m/home/erniesg/.pyenv/versions/3.8.12/envs/lewagon/lib/python3.8/site-packages/ipywidgets/widgets/widget_output.py:1\u001b[0m\n",
       "\u001b[1;30m12)\u001b[0m\n"
      ]
     },
     "metadata": {},
     "output_type": "display_data"
    },
    {
     "data": {
      "text/html": [
       "<pre style=\"white-space:pre;overflow-x:auto;line-height:normal;font-family:Menlo,'DejaVu Sans Mono',consolas,'Courier New',monospace\"><span style=\"color: #808000; text-decoration-color: #808000; font-weight: bold\">DeprecationWarning: Kernel._parent_header is deprecated in ipykernel 6. Use .get_parent()</span> <span style=\"color: #000000; text-decoration-color: #000000; font-weight: bold\">(raised from </span>\n",
       "<span style=\"color: #000000; text-decoration-color: #000000; font-weight: bold\">/home/erniesg/.pyenv/versions/3.8.12/envs/lewagon/lib/python3.8/site-packages/ipywidgets/widgets/widget_output.py:1</span>\n",
       "<span style=\"color: #000000; text-decoration-color: #000000; font-weight: bold\">11)</span>\n",
       "</pre>\n"
      ],
      "text/plain": [
       "\u001b[1;33mDeprecationWarning: Kernel._parent_header is deprecated in ipykernel 6. Use .get_parent()\u001b[0m \u001b[1;30m(raised from \u001b[0m\n",
       "\u001b[1;30m/home/erniesg/.pyenv/versions/3.8.12/envs/lewagon/lib/python3.8/site-packages/ipywidgets/widgets/widget_output.py:1\u001b[0m\n",
       "\u001b[1;30m11)\u001b[0m\n"
      ]
     },
     "metadata": {},
     "output_type": "display_data"
    },
    {
     "data": {
      "text/html": [
       "<pre style=\"white-space:pre;overflow-x:auto;line-height:normal;font-family:Menlo,'DejaVu Sans Mono',consolas,'Courier New',monospace\"><span style=\"color: #808000; text-decoration-color: #808000; font-weight: bold\">DeprecationWarning: Kernel._parent_header is deprecated in ipykernel 6. Use .get_parent()</span> <span style=\"color: #000000; text-decoration-color: #000000; font-weight: bold\">(raised from </span>\n",
       "<span style=\"color: #000000; text-decoration-color: #000000; font-weight: bold\">/home/erniesg/.pyenv/versions/3.8.12/envs/lewagon/lib/python3.8/site-packages/ipywidgets/widgets/widget_output.py:1</span>\n",
       "<span style=\"color: #000000; text-decoration-color: #000000; font-weight: bold\">12)</span>\n",
       "</pre>\n"
      ],
      "text/plain": [
       "\u001b[1;33mDeprecationWarning: Kernel._parent_header is deprecated in ipykernel 6. Use .get_parent()\u001b[0m \u001b[1;30m(raised from \u001b[0m\n",
       "\u001b[1;30m/home/erniesg/.pyenv/versions/3.8.12/envs/lewagon/lib/python3.8/site-packages/ipywidgets/widgets/widget_output.py:1\u001b[0m\n",
       "\u001b[1;30m12)\u001b[0m\n"
      ]
     },
     "metadata": {},
     "output_type": "display_data"
    },
    {
     "data": {
      "text/html": [
       "<pre style=\"white-space:pre;overflow-x:auto;line-height:normal;font-family:Menlo,'DejaVu Sans Mono',consolas,'Courier New',monospace\"><span style=\"color: #808000; text-decoration-color: #808000; font-weight: bold\">DeprecationWarning: Kernel._parent_header is deprecated in ipykernel 6. Use .get_parent()</span> <span style=\"color: #000000; text-decoration-color: #000000; font-weight: bold\">(raised from </span>\n",
       "<span style=\"color: #000000; text-decoration-color: #000000; font-weight: bold\">/home/erniesg/.pyenv/versions/3.8.12/envs/lewagon/lib/python3.8/site-packages/ipywidgets/widgets/widget_output.py:1</span>\n",
       "<span style=\"color: #000000; text-decoration-color: #000000; font-weight: bold\">11)</span>\n",
       "</pre>\n"
      ],
      "text/plain": [
       "\u001b[1;33mDeprecationWarning: Kernel._parent_header is deprecated in ipykernel 6. Use .get_parent()\u001b[0m \u001b[1;30m(raised from \u001b[0m\n",
       "\u001b[1;30m/home/erniesg/.pyenv/versions/3.8.12/envs/lewagon/lib/python3.8/site-packages/ipywidgets/widgets/widget_output.py:1\u001b[0m\n",
       "\u001b[1;30m11)\u001b[0m\n"
      ]
     },
     "metadata": {},
     "output_type": "display_data"
    },
    {
     "data": {
      "text/html": [
       "<pre style=\"white-space:pre;overflow-x:auto;line-height:normal;font-family:Menlo,'DejaVu Sans Mono',consolas,'Courier New',monospace\"><span style=\"color: #808000; text-decoration-color: #808000; font-weight: bold\">DeprecationWarning: Kernel._parent_header is deprecated in ipykernel 6. Use .get_parent()</span> <span style=\"color: #000000; text-decoration-color: #000000; font-weight: bold\">(raised from </span>\n",
       "<span style=\"color: #000000; text-decoration-color: #000000; font-weight: bold\">/home/erniesg/.pyenv/versions/3.8.12/envs/lewagon/lib/python3.8/site-packages/ipywidgets/widgets/widget_output.py:1</span>\n",
       "<span style=\"color: #000000; text-decoration-color: #000000; font-weight: bold\">12)</span>\n",
       "</pre>\n"
      ],
      "text/plain": [
       "\u001b[1;33mDeprecationWarning: Kernel._parent_header is deprecated in ipykernel 6. Use .get_parent()\u001b[0m \u001b[1;30m(raised from \u001b[0m\n",
       "\u001b[1;30m/home/erniesg/.pyenv/versions/3.8.12/envs/lewagon/lib/python3.8/site-packages/ipywidgets/widgets/widget_output.py:1\u001b[0m\n",
       "\u001b[1;30m12)\u001b[0m\n"
      ]
     },
     "metadata": {},
     "output_type": "display_data"
    },
    {
     "data": {
      "text/html": [
       "<pre style=\"white-space:pre;overflow-x:auto;line-height:normal;font-family:Menlo,'DejaVu Sans Mono',consolas,'Courier New',monospace\"><span style=\"color: #808000; text-decoration-color: #808000; font-weight: bold\">DeprecationWarning: Kernel._parent_header is deprecated in ipykernel 6. Use .get_parent()</span> <span style=\"color: #000000; text-decoration-color: #000000; font-weight: bold\">(raised from </span>\n",
       "<span style=\"color: #000000; text-decoration-color: #000000; font-weight: bold\">/home/erniesg/.pyenv/versions/3.8.12/envs/lewagon/lib/python3.8/site-packages/ipywidgets/widgets/widget_output.py:1</span>\n",
       "<span style=\"color: #000000; text-decoration-color: #000000; font-weight: bold\">11)</span>\n",
       "</pre>\n"
      ],
      "text/plain": [
       "\u001b[1;33mDeprecationWarning: Kernel._parent_header is deprecated in ipykernel 6. Use .get_parent()\u001b[0m \u001b[1;30m(raised from \u001b[0m\n",
       "\u001b[1;30m/home/erniesg/.pyenv/versions/3.8.12/envs/lewagon/lib/python3.8/site-packages/ipywidgets/widgets/widget_output.py:1\u001b[0m\n",
       "\u001b[1;30m11)\u001b[0m\n"
      ]
     },
     "metadata": {},
     "output_type": "display_data"
    },
    {
     "data": {
      "text/html": [
       "<pre style=\"white-space:pre;overflow-x:auto;line-height:normal;font-family:Menlo,'DejaVu Sans Mono',consolas,'Courier New',monospace\"><span style=\"color: #808000; text-decoration-color: #808000; font-weight: bold\">DeprecationWarning: Kernel._parent_header is deprecated in ipykernel 6. Use .get_parent()</span> <span style=\"color: #000000; text-decoration-color: #000000; font-weight: bold\">(raised from </span>\n",
       "<span style=\"color: #000000; text-decoration-color: #000000; font-weight: bold\">/home/erniesg/.pyenv/versions/3.8.12/envs/lewagon/lib/python3.8/site-packages/ipywidgets/widgets/widget_output.py:1</span>\n",
       "<span style=\"color: #000000; text-decoration-color: #000000; font-weight: bold\">12)</span>\n",
       "</pre>\n"
      ],
      "text/plain": [
       "\u001b[1;33mDeprecationWarning: Kernel._parent_header is deprecated in ipykernel 6. Use .get_parent()\u001b[0m \u001b[1;30m(raised from \u001b[0m\n",
       "\u001b[1;30m/home/erniesg/.pyenv/versions/3.8.12/envs/lewagon/lib/python3.8/site-packages/ipywidgets/widgets/widget_output.py:1\u001b[0m\n",
       "\u001b[1;30m12)\u001b[0m\n"
      ]
     },
     "metadata": {},
     "output_type": "display_data"
    },
    {
     "data": {
      "text/html": [
       "<pre style=\"white-space:pre;overflow-x:auto;line-height:normal;font-family:Menlo,'DejaVu Sans Mono',consolas,'Courier New',monospace\"><span style=\"color: #808000; text-decoration-color: #808000; font-weight: bold\">DeprecationWarning: Kernel._parent_header is deprecated in ipykernel 6. Use .get_parent()</span> <span style=\"color: #000000; text-decoration-color: #000000; font-weight: bold\">(raised from </span>\n",
       "<span style=\"color: #000000; text-decoration-color: #000000; font-weight: bold\">/home/erniesg/.pyenv/versions/3.8.12/envs/lewagon/lib/python3.8/site-packages/ipywidgets/widgets/widget_output.py:1</span>\n",
       "<span style=\"color: #000000; text-decoration-color: #000000; font-weight: bold\">11)</span>\n",
       "</pre>\n"
      ],
      "text/plain": [
       "\u001b[1;33mDeprecationWarning: Kernel._parent_header is deprecated in ipykernel 6. Use .get_parent()\u001b[0m \u001b[1;30m(raised from \u001b[0m\n",
       "\u001b[1;30m/home/erniesg/.pyenv/versions/3.8.12/envs/lewagon/lib/python3.8/site-packages/ipywidgets/widgets/widget_output.py:1\u001b[0m\n",
       "\u001b[1;30m11)\u001b[0m\n"
      ]
     },
     "metadata": {},
     "output_type": "display_data"
    },
    {
     "data": {
      "text/html": [
       "<pre style=\"white-space:pre;overflow-x:auto;line-height:normal;font-family:Menlo,'DejaVu Sans Mono',consolas,'Courier New',monospace\"><span style=\"color: #808000; text-decoration-color: #808000; font-weight: bold\">DeprecationWarning: Kernel._parent_header is deprecated in ipykernel 6. Use .get_parent()</span> <span style=\"color: #000000; text-decoration-color: #000000; font-weight: bold\">(raised from </span>\n",
       "<span style=\"color: #000000; text-decoration-color: #000000; font-weight: bold\">/home/erniesg/.pyenv/versions/3.8.12/envs/lewagon/lib/python3.8/site-packages/ipywidgets/widgets/widget_output.py:1</span>\n",
       "<span style=\"color: #000000; text-decoration-color: #000000; font-weight: bold\">12)</span>\n",
       "</pre>\n"
      ],
      "text/plain": [
       "\u001b[1;33mDeprecationWarning: Kernel._parent_header is deprecated in ipykernel 6. Use .get_parent()\u001b[0m \u001b[1;30m(raised from \u001b[0m\n",
       "\u001b[1;30m/home/erniesg/.pyenv/versions/3.8.12/envs/lewagon/lib/python3.8/site-packages/ipywidgets/widgets/widget_output.py:1\u001b[0m\n",
       "\u001b[1;30m12)\u001b[0m\n"
      ]
     },
     "metadata": {},
     "output_type": "display_data"
    },
    {
     "data": {
      "text/html": [
       "<pre style=\"white-space:pre;overflow-x:auto;line-height:normal;font-family:Menlo,'DejaVu Sans Mono',consolas,'Courier New',monospace\"><span style=\"color: #808000; text-decoration-color: #808000; font-weight: bold\">DeprecationWarning: Kernel._parent_header is deprecated in ipykernel 6. Use .get_parent()</span> <span style=\"color: #000000; text-decoration-color: #000000; font-weight: bold\">(raised from </span>\n",
       "<span style=\"color: #000000; text-decoration-color: #000000; font-weight: bold\">/home/erniesg/.pyenv/versions/3.8.12/envs/lewagon/lib/python3.8/site-packages/ipywidgets/widgets/widget_output.py:1</span>\n",
       "<span style=\"color: #000000; text-decoration-color: #000000; font-weight: bold\">11)</span>\n",
       "</pre>\n"
      ],
      "text/plain": [
       "\u001b[1;33mDeprecationWarning: Kernel._parent_header is deprecated in ipykernel 6. Use .get_parent()\u001b[0m \u001b[1;30m(raised from \u001b[0m\n",
       "\u001b[1;30m/home/erniesg/.pyenv/versions/3.8.12/envs/lewagon/lib/python3.8/site-packages/ipywidgets/widgets/widget_output.py:1\u001b[0m\n",
       "\u001b[1;30m11)\u001b[0m\n"
      ]
     },
     "metadata": {},
     "output_type": "display_data"
    },
    {
     "data": {
      "text/html": [
       "<pre style=\"white-space:pre;overflow-x:auto;line-height:normal;font-family:Menlo,'DejaVu Sans Mono',consolas,'Courier New',monospace\"><span style=\"color: #808000; text-decoration-color: #808000; font-weight: bold\">DeprecationWarning: Kernel._parent_header is deprecated in ipykernel 6. Use .get_parent()</span> <span style=\"color: #000000; text-decoration-color: #000000; font-weight: bold\">(raised from </span>\n",
       "<span style=\"color: #000000; text-decoration-color: #000000; font-weight: bold\">/home/erniesg/.pyenv/versions/3.8.12/envs/lewagon/lib/python3.8/site-packages/ipywidgets/widgets/widget_output.py:1</span>\n",
       "<span style=\"color: #000000; text-decoration-color: #000000; font-weight: bold\">12)</span>\n",
       "</pre>\n"
      ],
      "text/plain": [
       "\u001b[1;33mDeprecationWarning: Kernel._parent_header is deprecated in ipykernel 6. Use .get_parent()\u001b[0m \u001b[1;30m(raised from \u001b[0m\n",
       "\u001b[1;30m/home/erniesg/.pyenv/versions/3.8.12/envs/lewagon/lib/python3.8/site-packages/ipywidgets/widgets/widget_output.py:1\u001b[0m\n",
       "\u001b[1;30m12)\u001b[0m\n"
      ]
     },
     "metadata": {},
     "output_type": "display_data"
    },
    {
     "data": {
      "text/html": [
       "<pre style=\"white-space:pre;overflow-x:auto;line-height:normal;font-family:Menlo,'DejaVu Sans Mono',consolas,'Courier New',monospace\"><span style=\"color: #808000; text-decoration-color: #808000; font-weight: bold\">DeprecationWarning: Kernel._parent_header is deprecated in ipykernel 6. Use .get_parent()</span> <span style=\"color: #000000; text-decoration-color: #000000; font-weight: bold\">(raised from </span>\n",
       "<span style=\"color: #000000; text-decoration-color: #000000; font-weight: bold\">/home/erniesg/.pyenv/versions/3.8.12/envs/lewagon/lib/python3.8/site-packages/ipywidgets/widgets/widget_output.py:1</span>\n",
       "<span style=\"color: #000000; text-decoration-color: #000000; font-weight: bold\">11)</span>\n",
       "</pre>\n"
      ],
      "text/plain": [
       "\u001b[1;33mDeprecationWarning: Kernel._parent_header is deprecated in ipykernel 6. Use .get_parent()\u001b[0m \u001b[1;30m(raised from \u001b[0m\n",
       "\u001b[1;30m/home/erniesg/.pyenv/versions/3.8.12/envs/lewagon/lib/python3.8/site-packages/ipywidgets/widgets/widget_output.py:1\u001b[0m\n",
       "\u001b[1;30m11)\u001b[0m\n"
      ]
     },
     "metadata": {},
     "output_type": "display_data"
    },
    {
     "data": {
      "text/html": [
       "<pre style=\"white-space:pre;overflow-x:auto;line-height:normal;font-family:Menlo,'DejaVu Sans Mono',consolas,'Courier New',monospace\"><span style=\"color: #808000; text-decoration-color: #808000; font-weight: bold\">DeprecationWarning: Kernel._parent_header is deprecated in ipykernel 6. Use .get_parent()</span> <span style=\"color: #000000; text-decoration-color: #000000; font-weight: bold\">(raised from </span>\n",
       "<span style=\"color: #000000; text-decoration-color: #000000; font-weight: bold\">/home/erniesg/.pyenv/versions/3.8.12/envs/lewagon/lib/python3.8/site-packages/ipywidgets/widgets/widget_output.py:1</span>\n",
       "<span style=\"color: #000000; text-decoration-color: #000000; font-weight: bold\">12)</span>\n",
       "</pre>\n"
      ],
      "text/plain": [
       "\u001b[1;33mDeprecationWarning: Kernel._parent_header is deprecated in ipykernel 6. Use .get_parent()\u001b[0m \u001b[1;30m(raised from \u001b[0m\n",
       "\u001b[1;30m/home/erniesg/.pyenv/versions/3.8.12/envs/lewagon/lib/python3.8/site-packages/ipywidgets/widgets/widget_output.py:1\u001b[0m\n",
       "\u001b[1;30m12)\u001b[0m\n"
      ]
     },
     "metadata": {},
     "output_type": "display_data"
    },
    {
     "data": {
      "text/html": [
       "<pre style=\"white-space:pre;overflow-x:auto;line-height:normal;font-family:Menlo,'DejaVu Sans Mono',consolas,'Courier New',monospace\"><span style=\"color: #808000; text-decoration-color: #808000; font-weight: bold\">DeprecationWarning: Kernel._parent_header is deprecated in ipykernel 6. Use .get_parent()</span> <span style=\"color: #000000; text-decoration-color: #000000; font-weight: bold\">(raised from </span>\n",
       "<span style=\"color: #000000; text-decoration-color: #000000; font-weight: bold\">/home/erniesg/.pyenv/versions/3.8.12/envs/lewagon/lib/python3.8/site-packages/ipywidgets/widgets/widget_output.py:1</span>\n",
       "<span style=\"color: #000000; text-decoration-color: #000000; font-weight: bold\">11)</span>\n",
       "</pre>\n"
      ],
      "text/plain": [
       "\u001b[1;33mDeprecationWarning: Kernel._parent_header is deprecated in ipykernel 6. Use .get_parent()\u001b[0m \u001b[1;30m(raised from \u001b[0m\n",
       "\u001b[1;30m/home/erniesg/.pyenv/versions/3.8.12/envs/lewagon/lib/python3.8/site-packages/ipywidgets/widgets/widget_output.py:1\u001b[0m\n",
       "\u001b[1;30m11)\u001b[0m\n"
      ]
     },
     "metadata": {},
     "output_type": "display_data"
    },
    {
     "data": {
      "text/html": [
       "<pre style=\"white-space:pre;overflow-x:auto;line-height:normal;font-family:Menlo,'DejaVu Sans Mono',consolas,'Courier New',monospace\"><span style=\"color: #808000; text-decoration-color: #808000; font-weight: bold\">DeprecationWarning: Kernel._parent_header is deprecated in ipykernel 6. Use .get_parent()</span> <span style=\"color: #000000; text-decoration-color: #000000; font-weight: bold\">(raised from </span>\n",
       "<span style=\"color: #000000; text-decoration-color: #000000; font-weight: bold\">/home/erniesg/.pyenv/versions/3.8.12/envs/lewagon/lib/python3.8/site-packages/ipywidgets/widgets/widget_output.py:1</span>\n",
       "<span style=\"color: #000000; text-decoration-color: #000000; font-weight: bold\">12)</span>\n",
       "</pre>\n"
      ],
      "text/plain": [
       "\u001b[1;33mDeprecationWarning: Kernel._parent_header is deprecated in ipykernel 6. Use .get_parent()\u001b[0m \u001b[1;30m(raised from \u001b[0m\n",
       "\u001b[1;30m/home/erniesg/.pyenv/versions/3.8.12/envs/lewagon/lib/python3.8/site-packages/ipywidgets/widgets/widget_output.py:1\u001b[0m\n",
       "\u001b[1;30m12)\u001b[0m\n"
      ]
     },
     "metadata": {},
     "output_type": "display_data"
    },
    {
     "data": {
      "text/html": [
       "<pre style=\"white-space:pre;overflow-x:auto;line-height:normal;font-family:Menlo,'DejaVu Sans Mono',consolas,'Courier New',monospace\"><span style=\"color: #808000; text-decoration-color: #808000; font-weight: bold\">DeprecationWarning: Kernel._parent_header is deprecated in ipykernel 6. Use .get_parent()</span> <span style=\"color: #000000; text-decoration-color: #000000; font-weight: bold\">(raised from </span>\n",
       "<span style=\"color: #000000; text-decoration-color: #000000; font-weight: bold\">/home/erniesg/.pyenv/versions/3.8.12/envs/lewagon/lib/python3.8/site-packages/ipywidgets/widgets/widget_output.py:1</span>\n",
       "<span style=\"color: #000000; text-decoration-color: #000000; font-weight: bold\">11)</span>\n",
       "</pre>\n"
      ],
      "text/plain": [
       "\u001b[1;33mDeprecationWarning: Kernel._parent_header is deprecated in ipykernel 6. Use .get_parent()\u001b[0m \u001b[1;30m(raised from \u001b[0m\n",
       "\u001b[1;30m/home/erniesg/.pyenv/versions/3.8.12/envs/lewagon/lib/python3.8/site-packages/ipywidgets/widgets/widget_output.py:1\u001b[0m\n",
       "\u001b[1;30m11)\u001b[0m\n"
      ]
     },
     "metadata": {},
     "output_type": "display_data"
    },
    {
     "data": {
      "text/html": [
       "<pre style=\"white-space:pre;overflow-x:auto;line-height:normal;font-family:Menlo,'DejaVu Sans Mono',consolas,'Courier New',monospace\"><span style=\"color: #808000; text-decoration-color: #808000; font-weight: bold\">DeprecationWarning: Kernel._parent_header is deprecated in ipykernel 6. Use .get_parent()</span> <span style=\"color: #000000; text-decoration-color: #000000; font-weight: bold\">(raised from </span>\n",
       "<span style=\"color: #000000; text-decoration-color: #000000; font-weight: bold\">/home/erniesg/.pyenv/versions/3.8.12/envs/lewagon/lib/python3.8/site-packages/ipywidgets/widgets/widget_output.py:1</span>\n",
       "<span style=\"color: #000000; text-decoration-color: #000000; font-weight: bold\">12)</span>\n",
       "</pre>\n"
      ],
      "text/plain": [
       "\u001b[1;33mDeprecationWarning: Kernel._parent_header is deprecated in ipykernel 6. Use .get_parent()\u001b[0m \u001b[1;30m(raised from \u001b[0m\n",
       "\u001b[1;30m/home/erniesg/.pyenv/versions/3.8.12/envs/lewagon/lib/python3.8/site-packages/ipywidgets/widgets/widget_output.py:1\u001b[0m\n",
       "\u001b[1;30m12)\u001b[0m\n"
      ]
     },
     "metadata": {},
     "output_type": "display_data"
    },
    {
     "data": {
      "text/html": [
       "<pre style=\"white-space:pre;overflow-x:auto;line-height:normal;font-family:Menlo,'DejaVu Sans Mono',consolas,'Courier New',monospace\"><span style=\"color: #808000; text-decoration-color: #808000; font-weight: bold\">DeprecationWarning: Kernel._parent_header is deprecated in ipykernel 6. Use .get_parent()</span> <span style=\"color: #000000; text-decoration-color: #000000; font-weight: bold\">(raised from </span>\n",
       "<span style=\"color: #000000; text-decoration-color: #000000; font-weight: bold\">/home/erniesg/.pyenv/versions/3.8.12/envs/lewagon/lib/python3.8/site-packages/ipywidgets/widgets/widget_output.py:1</span>\n",
       "<span style=\"color: #000000; text-decoration-color: #000000; font-weight: bold\">11)</span>\n",
       "</pre>\n"
      ],
      "text/plain": [
       "\u001b[1;33mDeprecationWarning: Kernel._parent_header is deprecated in ipykernel 6. Use .get_parent()\u001b[0m \u001b[1;30m(raised from \u001b[0m\n",
       "\u001b[1;30m/home/erniesg/.pyenv/versions/3.8.12/envs/lewagon/lib/python3.8/site-packages/ipywidgets/widgets/widget_output.py:1\u001b[0m\n",
       "\u001b[1;30m11)\u001b[0m\n"
      ]
     },
     "metadata": {},
     "output_type": "display_data"
    },
    {
     "data": {
      "text/html": [
       "<pre style=\"white-space:pre;overflow-x:auto;line-height:normal;font-family:Menlo,'DejaVu Sans Mono',consolas,'Courier New',monospace\"><span style=\"color: #808000; text-decoration-color: #808000; font-weight: bold\">DeprecationWarning: Kernel._parent_header is deprecated in ipykernel 6. Use .get_parent()</span> <span style=\"color: #000000; text-decoration-color: #000000; font-weight: bold\">(raised from </span>\n",
       "<span style=\"color: #000000; text-decoration-color: #000000; font-weight: bold\">/home/erniesg/.pyenv/versions/3.8.12/envs/lewagon/lib/python3.8/site-packages/ipywidgets/widgets/widget_output.py:1</span>\n",
       "<span style=\"color: #000000; text-decoration-color: #000000; font-weight: bold\">12)</span>\n",
       "</pre>\n"
      ],
      "text/plain": [
       "\u001b[1;33mDeprecationWarning: Kernel._parent_header is deprecated in ipykernel 6. Use .get_parent()\u001b[0m \u001b[1;30m(raised from \u001b[0m\n",
       "\u001b[1;30m/home/erniesg/.pyenv/versions/3.8.12/envs/lewagon/lib/python3.8/site-packages/ipywidgets/widgets/widget_output.py:1\u001b[0m\n",
       "\u001b[1;30m12)\u001b[0m\n"
      ]
     },
     "metadata": {},
     "output_type": "display_data"
    },
    {
     "data": {
      "text/html": [
       "<pre style=\"white-space:pre;overflow-x:auto;line-height:normal;font-family:Menlo,'DejaVu Sans Mono',consolas,'Courier New',monospace\"><span style=\"color: #808000; text-decoration-color: #808000; font-weight: bold\">DeprecationWarning: Kernel._parent_header is deprecated in ipykernel 6. Use .get_parent()</span> <span style=\"color: #000000; text-decoration-color: #000000; font-weight: bold\">(raised from </span>\n",
       "<span style=\"color: #000000; text-decoration-color: #000000; font-weight: bold\">/home/erniesg/.pyenv/versions/3.8.12/envs/lewagon/lib/python3.8/site-packages/ipywidgets/widgets/widget_output.py:1</span>\n",
       "<span style=\"color: #000000; text-decoration-color: #000000; font-weight: bold\">11)</span>\n",
       "</pre>\n"
      ],
      "text/plain": [
       "\u001b[1;33mDeprecationWarning: Kernel._parent_header is deprecated in ipykernel 6. Use .get_parent()\u001b[0m \u001b[1;30m(raised from \u001b[0m\n",
       "\u001b[1;30m/home/erniesg/.pyenv/versions/3.8.12/envs/lewagon/lib/python3.8/site-packages/ipywidgets/widgets/widget_output.py:1\u001b[0m\n",
       "\u001b[1;30m11)\u001b[0m\n"
      ]
     },
     "metadata": {},
     "output_type": "display_data"
    },
    {
     "data": {
      "text/html": [
       "<pre style=\"white-space:pre;overflow-x:auto;line-height:normal;font-family:Menlo,'DejaVu Sans Mono',consolas,'Courier New',monospace\"><span style=\"color: #808000; text-decoration-color: #808000; font-weight: bold\">DeprecationWarning: Kernel._parent_header is deprecated in ipykernel 6. Use .get_parent()</span> <span style=\"color: #000000; text-decoration-color: #000000; font-weight: bold\">(raised from </span>\n",
       "<span style=\"color: #000000; text-decoration-color: #000000; font-weight: bold\">/home/erniesg/.pyenv/versions/3.8.12/envs/lewagon/lib/python3.8/site-packages/ipywidgets/widgets/widget_output.py:1</span>\n",
       "<span style=\"color: #000000; text-decoration-color: #000000; font-weight: bold\">12)</span>\n",
       "</pre>\n"
      ],
      "text/plain": [
       "\u001b[1;33mDeprecationWarning: Kernel._parent_header is deprecated in ipykernel 6. Use .get_parent()\u001b[0m \u001b[1;30m(raised from \u001b[0m\n",
       "\u001b[1;30m/home/erniesg/.pyenv/versions/3.8.12/envs/lewagon/lib/python3.8/site-packages/ipywidgets/widgets/widget_output.py:1\u001b[0m\n",
       "\u001b[1;30m12)\u001b[0m\n"
      ]
     },
     "metadata": {},
     "output_type": "display_data"
    },
    {
     "data": {
      "text/html": [
       "<pre style=\"white-space:pre;overflow-x:auto;line-height:normal;font-family:Menlo,'DejaVu Sans Mono',consolas,'Courier New',monospace\"><span style=\"color: #808000; text-decoration-color: #808000; font-weight: bold\">DeprecationWarning: Kernel._parent_header is deprecated in ipykernel 6. Use .get_parent()</span> <span style=\"color: #000000; text-decoration-color: #000000; font-weight: bold\">(raised from </span>\n",
       "<span style=\"color: #000000; text-decoration-color: #000000; font-weight: bold\">/home/erniesg/.pyenv/versions/3.8.12/envs/lewagon/lib/python3.8/site-packages/ipywidgets/widgets/widget_output.py:1</span>\n",
       "<span style=\"color: #000000; text-decoration-color: #000000; font-weight: bold\">11)</span>\n",
       "</pre>\n"
      ],
      "text/plain": [
       "\u001b[1;33mDeprecationWarning: Kernel._parent_header is deprecated in ipykernel 6. Use .get_parent()\u001b[0m \u001b[1;30m(raised from \u001b[0m\n",
       "\u001b[1;30m/home/erniesg/.pyenv/versions/3.8.12/envs/lewagon/lib/python3.8/site-packages/ipywidgets/widgets/widget_output.py:1\u001b[0m\n",
       "\u001b[1;30m11)\u001b[0m\n"
      ]
     },
     "metadata": {},
     "output_type": "display_data"
    },
    {
     "data": {
      "text/html": [
       "<pre style=\"white-space:pre;overflow-x:auto;line-height:normal;font-family:Menlo,'DejaVu Sans Mono',consolas,'Courier New',monospace\"><span style=\"color: #808000; text-decoration-color: #808000; font-weight: bold\">DeprecationWarning: Kernel._parent_header is deprecated in ipykernel 6. Use .get_parent()</span> <span style=\"color: #000000; text-decoration-color: #000000; font-weight: bold\">(raised from </span>\n",
       "<span style=\"color: #000000; text-decoration-color: #000000; font-weight: bold\">/home/erniesg/.pyenv/versions/3.8.12/envs/lewagon/lib/python3.8/site-packages/ipywidgets/widgets/widget_output.py:1</span>\n",
       "<span style=\"color: #000000; text-decoration-color: #000000; font-weight: bold\">12)</span>\n",
       "</pre>\n"
      ],
      "text/plain": [
       "\u001b[1;33mDeprecationWarning: Kernel._parent_header is deprecated in ipykernel 6. Use .get_parent()\u001b[0m \u001b[1;30m(raised from \u001b[0m\n",
       "\u001b[1;30m/home/erniesg/.pyenv/versions/3.8.12/envs/lewagon/lib/python3.8/site-packages/ipywidgets/widgets/widget_output.py:1\u001b[0m\n",
       "\u001b[1;30m12)\u001b[0m\n"
      ]
     },
     "metadata": {},
     "output_type": "display_data"
    },
    {
     "data": {
      "text/html": [
       "<pre style=\"white-space:pre;overflow-x:auto;line-height:normal;font-family:Menlo,'DejaVu Sans Mono',consolas,'Courier New',monospace\"><span style=\"color: #808000; text-decoration-color: #808000; font-weight: bold\">DeprecationWarning: Kernel._parent_header is deprecated in ipykernel 6. Use .get_parent()</span> <span style=\"color: #000000; text-decoration-color: #000000; font-weight: bold\">(raised from </span>\n",
       "<span style=\"color: #000000; text-decoration-color: #000000; font-weight: bold\">/home/erniesg/.pyenv/versions/3.8.12/envs/lewagon/lib/python3.8/site-packages/ipywidgets/widgets/widget_output.py:1</span>\n",
       "<span style=\"color: #000000; text-decoration-color: #000000; font-weight: bold\">11)</span>\n",
       "</pre>\n"
      ],
      "text/plain": [
       "\u001b[1;33mDeprecationWarning: Kernel._parent_header is deprecated in ipykernel 6. Use .get_parent()\u001b[0m \u001b[1;30m(raised from \u001b[0m\n",
       "\u001b[1;30m/home/erniesg/.pyenv/versions/3.8.12/envs/lewagon/lib/python3.8/site-packages/ipywidgets/widgets/widget_output.py:1\u001b[0m\n",
       "\u001b[1;30m11)\u001b[0m\n"
      ]
     },
     "metadata": {},
     "output_type": "display_data"
    },
    {
     "data": {
      "text/html": [
       "<pre style=\"white-space:pre;overflow-x:auto;line-height:normal;font-family:Menlo,'DejaVu Sans Mono',consolas,'Courier New',monospace\"><span style=\"color: #808000; text-decoration-color: #808000; font-weight: bold\">DeprecationWarning: Kernel._parent_header is deprecated in ipykernel 6. Use .get_parent()</span> <span style=\"color: #000000; text-decoration-color: #000000; font-weight: bold\">(raised from </span>\n",
       "<span style=\"color: #000000; text-decoration-color: #000000; font-weight: bold\">/home/erniesg/.pyenv/versions/3.8.12/envs/lewagon/lib/python3.8/site-packages/ipywidgets/widgets/widget_output.py:1</span>\n",
       "<span style=\"color: #000000; text-decoration-color: #000000; font-weight: bold\">12)</span>\n",
       "</pre>\n"
      ],
      "text/plain": [
       "\u001b[1;33mDeprecationWarning: Kernel._parent_header is deprecated in ipykernel 6. Use .get_parent()\u001b[0m \u001b[1;30m(raised from \u001b[0m\n",
       "\u001b[1;30m/home/erniesg/.pyenv/versions/3.8.12/envs/lewagon/lib/python3.8/site-packages/ipywidgets/widgets/widget_output.py:1\u001b[0m\n",
       "\u001b[1;30m12)\u001b[0m\n"
      ]
     },
     "metadata": {},
     "output_type": "display_data"
    },
    {
     "data": {
      "text/html": [
       "<pre style=\"white-space:pre;overflow-x:auto;line-height:normal;font-family:Menlo,'DejaVu Sans Mono',consolas,'Courier New',monospace\"><span style=\"color: #808000; text-decoration-color: #808000; font-weight: bold\">DeprecationWarning: Kernel._parent_header is deprecated in ipykernel 6. Use .get_parent()</span> <span style=\"color: #000000; text-decoration-color: #000000; font-weight: bold\">(raised from </span>\n",
       "<span style=\"color: #000000; text-decoration-color: #000000; font-weight: bold\">/home/erniesg/.pyenv/versions/3.8.12/envs/lewagon/lib/python3.8/site-packages/ipywidgets/widgets/widget_output.py:1</span>\n",
       "<span style=\"color: #000000; text-decoration-color: #000000; font-weight: bold\">11)</span>\n",
       "</pre>\n"
      ],
      "text/plain": [
       "\u001b[1;33mDeprecationWarning: Kernel._parent_header is deprecated in ipykernel 6. Use .get_parent()\u001b[0m \u001b[1;30m(raised from \u001b[0m\n",
       "\u001b[1;30m/home/erniesg/.pyenv/versions/3.8.12/envs/lewagon/lib/python3.8/site-packages/ipywidgets/widgets/widget_output.py:1\u001b[0m\n",
       "\u001b[1;30m11)\u001b[0m\n"
      ]
     },
     "metadata": {},
     "output_type": "display_data"
    },
    {
     "data": {
      "text/html": [
       "<pre style=\"white-space:pre;overflow-x:auto;line-height:normal;font-family:Menlo,'DejaVu Sans Mono',consolas,'Courier New',monospace\"><span style=\"color: #808000; text-decoration-color: #808000; font-weight: bold\">DeprecationWarning: Kernel._parent_header is deprecated in ipykernel 6. Use .get_parent()</span> <span style=\"color: #000000; text-decoration-color: #000000; font-weight: bold\">(raised from </span>\n",
       "<span style=\"color: #000000; text-decoration-color: #000000; font-weight: bold\">/home/erniesg/.pyenv/versions/3.8.12/envs/lewagon/lib/python3.8/site-packages/ipywidgets/widgets/widget_output.py:1</span>\n",
       "<span style=\"color: #000000; text-decoration-color: #000000; font-weight: bold\">12)</span>\n",
       "</pre>\n"
      ],
      "text/plain": [
       "\u001b[1;33mDeprecationWarning: Kernel._parent_header is deprecated in ipykernel 6. Use .get_parent()\u001b[0m \u001b[1;30m(raised from \u001b[0m\n",
       "\u001b[1;30m/home/erniesg/.pyenv/versions/3.8.12/envs/lewagon/lib/python3.8/site-packages/ipywidgets/widgets/widget_output.py:1\u001b[0m\n",
       "\u001b[1;30m12)\u001b[0m\n"
      ]
     },
     "metadata": {},
     "output_type": "display_data"
    },
    {
     "data": {
      "text/html": [
       "<pre style=\"white-space:pre;overflow-x:auto;line-height:normal;font-family:Menlo,'DejaVu Sans Mono',consolas,'Courier New',monospace\"><span style=\"color: #808000; text-decoration-color: #808000; font-weight: bold\">DeprecationWarning: Kernel._parent_header is deprecated in ipykernel 6. Use .get_parent()</span> <span style=\"color: #000000; text-decoration-color: #000000; font-weight: bold\">(raised from </span>\n",
       "<span style=\"color: #000000; text-decoration-color: #000000; font-weight: bold\">/home/erniesg/.pyenv/versions/3.8.12/envs/lewagon/lib/python3.8/site-packages/ipywidgets/widgets/widget_output.py:1</span>\n",
       "<span style=\"color: #000000; text-decoration-color: #000000; font-weight: bold\">11)</span>\n",
       "</pre>\n"
      ],
      "text/plain": [
       "\u001b[1;33mDeprecationWarning: Kernel._parent_header is deprecated in ipykernel 6. Use .get_parent()\u001b[0m \u001b[1;30m(raised from \u001b[0m\n",
       "\u001b[1;30m/home/erniesg/.pyenv/versions/3.8.12/envs/lewagon/lib/python3.8/site-packages/ipywidgets/widgets/widget_output.py:1\u001b[0m\n",
       "\u001b[1;30m11)\u001b[0m\n"
      ]
     },
     "metadata": {},
     "output_type": "display_data"
    },
    {
     "data": {
      "text/html": [
       "<pre style=\"white-space:pre;overflow-x:auto;line-height:normal;font-family:Menlo,'DejaVu Sans Mono',consolas,'Courier New',monospace\"><span style=\"color: #808000; text-decoration-color: #808000; font-weight: bold\">DeprecationWarning: Kernel._parent_header is deprecated in ipykernel 6. Use .get_parent()</span> <span style=\"color: #000000; text-decoration-color: #000000; font-weight: bold\">(raised from </span>\n",
       "<span style=\"color: #000000; text-decoration-color: #000000; font-weight: bold\">/home/erniesg/.pyenv/versions/3.8.12/envs/lewagon/lib/python3.8/site-packages/ipywidgets/widgets/widget_output.py:1</span>\n",
       "<span style=\"color: #000000; text-decoration-color: #000000; font-weight: bold\">12)</span>\n",
       "</pre>\n"
      ],
      "text/plain": [
       "\u001b[1;33mDeprecationWarning: Kernel._parent_header is deprecated in ipykernel 6. Use .get_parent()\u001b[0m \u001b[1;30m(raised from \u001b[0m\n",
       "\u001b[1;30m/home/erniesg/.pyenv/versions/3.8.12/envs/lewagon/lib/python3.8/site-packages/ipywidgets/widgets/widget_output.py:1\u001b[0m\n",
       "\u001b[1;30m12)\u001b[0m\n"
      ]
     },
     "metadata": {},
     "output_type": "display_data"
    },
    {
     "data": {
      "text/html": [
       "<pre style=\"white-space:pre;overflow-x:auto;line-height:normal;font-family:Menlo,'DejaVu Sans Mono',consolas,'Courier New',monospace\"><span style=\"color: #808000; text-decoration-color: #808000; font-weight: bold\">DeprecationWarning: Kernel._parent_header is deprecated in ipykernel 6. Use .get_parent()</span> <span style=\"color: #000000; text-decoration-color: #000000; font-weight: bold\">(raised from </span>\n",
       "<span style=\"color: #000000; text-decoration-color: #000000; font-weight: bold\">/home/erniesg/.pyenv/versions/3.8.12/envs/lewagon/lib/python3.8/site-packages/ipywidgets/widgets/widget_output.py:1</span>\n",
       "<span style=\"color: #000000; text-decoration-color: #000000; font-weight: bold\">11)</span>\n",
       "</pre>\n"
      ],
      "text/plain": [
       "\u001b[1;33mDeprecationWarning: Kernel._parent_header is deprecated in ipykernel 6. Use .get_parent()\u001b[0m \u001b[1;30m(raised from \u001b[0m\n",
       "\u001b[1;30m/home/erniesg/.pyenv/versions/3.8.12/envs/lewagon/lib/python3.8/site-packages/ipywidgets/widgets/widget_output.py:1\u001b[0m\n",
       "\u001b[1;30m11)\u001b[0m\n"
      ]
     },
     "metadata": {},
     "output_type": "display_data"
    },
    {
     "data": {
      "text/html": [
       "<pre style=\"white-space:pre;overflow-x:auto;line-height:normal;font-family:Menlo,'DejaVu Sans Mono',consolas,'Courier New',monospace\"><span style=\"color: #808000; text-decoration-color: #808000; font-weight: bold\">DeprecationWarning: Kernel._parent_header is deprecated in ipykernel 6. Use .get_parent()</span> <span style=\"color: #000000; text-decoration-color: #000000; font-weight: bold\">(raised from </span>\n",
       "<span style=\"color: #000000; text-decoration-color: #000000; font-weight: bold\">/home/erniesg/.pyenv/versions/3.8.12/envs/lewagon/lib/python3.8/site-packages/ipywidgets/widgets/widget_output.py:1</span>\n",
       "<span style=\"color: #000000; text-decoration-color: #000000; font-weight: bold\">12)</span>\n",
       "</pre>\n"
      ],
      "text/plain": [
       "\u001b[1;33mDeprecationWarning: Kernel._parent_header is deprecated in ipykernel 6. Use .get_parent()\u001b[0m \u001b[1;30m(raised from \u001b[0m\n",
       "\u001b[1;30m/home/erniesg/.pyenv/versions/3.8.12/envs/lewagon/lib/python3.8/site-packages/ipywidgets/widgets/widget_output.py:1\u001b[0m\n",
       "\u001b[1;30m12)\u001b[0m\n"
      ]
     },
     "metadata": {},
     "output_type": "display_data"
    },
    {
     "data": {
      "text/html": [
       "<pre style=\"white-space:pre;overflow-x:auto;line-height:normal;font-family:Menlo,'DejaVu Sans Mono',consolas,'Courier New',monospace\"><span style=\"color: #808000; text-decoration-color: #808000; font-weight: bold\">DeprecationWarning: Kernel._parent_header is deprecated in ipykernel 6. Use .get_parent()</span> <span style=\"color: #000000; text-decoration-color: #000000; font-weight: bold\">(raised from </span>\n",
       "<span style=\"color: #000000; text-decoration-color: #000000; font-weight: bold\">/home/erniesg/.pyenv/versions/3.8.12/envs/lewagon/lib/python3.8/site-packages/ipywidgets/widgets/widget_output.py:1</span>\n",
       "<span style=\"color: #000000; text-decoration-color: #000000; font-weight: bold\">11)</span>\n",
       "</pre>\n"
      ],
      "text/plain": [
       "\u001b[1;33mDeprecationWarning: Kernel._parent_header is deprecated in ipykernel 6. Use .get_parent()\u001b[0m \u001b[1;30m(raised from \u001b[0m\n",
       "\u001b[1;30m/home/erniesg/.pyenv/versions/3.8.12/envs/lewagon/lib/python3.8/site-packages/ipywidgets/widgets/widget_output.py:1\u001b[0m\n",
       "\u001b[1;30m11)\u001b[0m\n"
      ]
     },
     "metadata": {},
     "output_type": "display_data"
    },
    {
     "data": {
      "text/html": [
       "<pre style=\"white-space:pre;overflow-x:auto;line-height:normal;font-family:Menlo,'DejaVu Sans Mono',consolas,'Courier New',monospace\"><span style=\"color: #808000; text-decoration-color: #808000; font-weight: bold\">DeprecationWarning: Kernel._parent_header is deprecated in ipykernel 6. Use .get_parent()</span> <span style=\"color: #000000; text-decoration-color: #000000; font-weight: bold\">(raised from </span>\n",
       "<span style=\"color: #000000; text-decoration-color: #000000; font-weight: bold\">/home/erniesg/.pyenv/versions/3.8.12/envs/lewagon/lib/python3.8/site-packages/ipywidgets/widgets/widget_output.py:1</span>\n",
       "<span style=\"color: #000000; text-decoration-color: #000000; font-weight: bold\">12)</span>\n",
       "</pre>\n"
      ],
      "text/plain": [
       "\u001b[1;33mDeprecationWarning: Kernel._parent_header is deprecated in ipykernel 6. Use .get_parent()\u001b[0m \u001b[1;30m(raised from \u001b[0m\n",
       "\u001b[1;30m/home/erniesg/.pyenv/versions/3.8.12/envs/lewagon/lib/python3.8/site-packages/ipywidgets/widgets/widget_output.py:1\u001b[0m\n",
       "\u001b[1;30m12)\u001b[0m\n"
      ]
     },
     "metadata": {},
     "output_type": "display_data"
    },
    {
     "data": {
      "text/html": [
       "<pre style=\"white-space:pre;overflow-x:auto;line-height:normal;font-family:Menlo,'DejaVu Sans Mono',consolas,'Courier New',monospace\"><span style=\"color: #808000; text-decoration-color: #808000; font-weight: bold\">DeprecationWarning: Kernel._parent_header is deprecated in ipykernel 6. Use .get_parent()</span> <span style=\"color: #000000; text-decoration-color: #000000; font-weight: bold\">(raised from </span>\n",
       "<span style=\"color: #000000; text-decoration-color: #000000; font-weight: bold\">/home/erniesg/.pyenv/versions/3.8.12/envs/lewagon/lib/python3.8/site-packages/ipywidgets/widgets/widget_output.py:1</span>\n",
       "<span style=\"color: #000000; text-decoration-color: #000000; font-weight: bold\">11)</span>\n",
       "</pre>\n"
      ],
      "text/plain": [
       "\u001b[1;33mDeprecationWarning: Kernel._parent_header is deprecated in ipykernel 6. Use .get_parent()\u001b[0m \u001b[1;30m(raised from \u001b[0m\n",
       "\u001b[1;30m/home/erniesg/.pyenv/versions/3.8.12/envs/lewagon/lib/python3.8/site-packages/ipywidgets/widgets/widget_output.py:1\u001b[0m\n",
       "\u001b[1;30m11)\u001b[0m\n"
      ]
     },
     "metadata": {},
     "output_type": "display_data"
    },
    {
     "data": {
      "text/html": [
       "<pre style=\"white-space:pre;overflow-x:auto;line-height:normal;font-family:Menlo,'DejaVu Sans Mono',consolas,'Courier New',monospace\"><span style=\"color: #808000; text-decoration-color: #808000; font-weight: bold\">DeprecationWarning: Kernel._parent_header is deprecated in ipykernel 6. Use .get_parent()</span> <span style=\"color: #000000; text-decoration-color: #000000; font-weight: bold\">(raised from </span>\n",
       "<span style=\"color: #000000; text-decoration-color: #000000; font-weight: bold\">/home/erniesg/.pyenv/versions/3.8.12/envs/lewagon/lib/python3.8/site-packages/ipywidgets/widgets/widget_output.py:1</span>\n",
       "<span style=\"color: #000000; text-decoration-color: #000000; font-weight: bold\">12)</span>\n",
       "</pre>\n"
      ],
      "text/plain": [
       "\u001b[1;33mDeprecationWarning: Kernel._parent_header is deprecated in ipykernel 6. Use .get_parent()\u001b[0m \u001b[1;30m(raised from \u001b[0m\n",
       "\u001b[1;30m/home/erniesg/.pyenv/versions/3.8.12/envs/lewagon/lib/python3.8/site-packages/ipywidgets/widgets/widget_output.py:1\u001b[0m\n",
       "\u001b[1;30m12)\u001b[0m\n"
      ]
     },
     "metadata": {},
     "output_type": "display_data"
    },
    {
     "data": {
      "text/html": [
       "<pre style=\"white-space:pre;overflow-x:auto;line-height:normal;font-family:Menlo,'DejaVu Sans Mono',consolas,'Courier New',monospace\"><span style=\"color: #808000; text-decoration-color: #808000; font-weight: bold\">DeprecationWarning: Kernel._parent_header is deprecated in ipykernel 6. Use .get_parent()</span> <span style=\"color: #000000; text-decoration-color: #000000; font-weight: bold\">(raised from </span>\n",
       "<span style=\"color: #000000; text-decoration-color: #000000; font-weight: bold\">/home/erniesg/.pyenv/versions/3.8.12/envs/lewagon/lib/python3.8/site-packages/ipywidgets/widgets/widget_output.py:1</span>\n",
       "<span style=\"color: #000000; text-decoration-color: #000000; font-weight: bold\">11)</span>\n",
       "</pre>\n"
      ],
      "text/plain": [
       "\u001b[1;33mDeprecationWarning: Kernel._parent_header is deprecated in ipykernel 6. Use .get_parent()\u001b[0m \u001b[1;30m(raised from \u001b[0m\n",
       "\u001b[1;30m/home/erniesg/.pyenv/versions/3.8.12/envs/lewagon/lib/python3.8/site-packages/ipywidgets/widgets/widget_output.py:1\u001b[0m\n",
       "\u001b[1;30m11)\u001b[0m\n"
      ]
     },
     "metadata": {},
     "output_type": "display_data"
    },
    {
     "data": {
      "text/html": [
       "<pre style=\"white-space:pre;overflow-x:auto;line-height:normal;font-family:Menlo,'DejaVu Sans Mono',consolas,'Courier New',monospace\"><span style=\"color: #808000; text-decoration-color: #808000; font-weight: bold\">DeprecationWarning: Kernel._parent_header is deprecated in ipykernel 6. Use .get_parent()</span> <span style=\"color: #000000; text-decoration-color: #000000; font-weight: bold\">(raised from </span>\n",
       "<span style=\"color: #000000; text-decoration-color: #000000; font-weight: bold\">/home/erniesg/.pyenv/versions/3.8.12/envs/lewagon/lib/python3.8/site-packages/ipywidgets/widgets/widget_output.py:1</span>\n",
       "<span style=\"color: #000000; text-decoration-color: #000000; font-weight: bold\">12)</span>\n",
       "</pre>\n"
      ],
      "text/plain": [
       "\u001b[1;33mDeprecationWarning: Kernel._parent_header is deprecated in ipykernel 6. Use .get_parent()\u001b[0m \u001b[1;30m(raised from \u001b[0m\n",
       "\u001b[1;30m/home/erniesg/.pyenv/versions/3.8.12/envs/lewagon/lib/python3.8/site-packages/ipywidgets/widgets/widget_output.py:1\u001b[0m\n",
       "\u001b[1;30m12)\u001b[0m\n"
      ]
     },
     "metadata": {},
     "output_type": "display_data"
    },
    {
     "data": {
      "text/html": [
       "<pre style=\"white-space:pre;overflow-x:auto;line-height:normal;font-family:Menlo,'DejaVu Sans Mono',consolas,'Courier New',monospace\"><span style=\"color: #808000; text-decoration-color: #808000; font-weight: bold\">DeprecationWarning: Kernel._parent_header is deprecated in ipykernel 6. Use .get_parent()</span> <span style=\"color: #000000; text-decoration-color: #000000; font-weight: bold\">(raised from </span>\n",
       "<span style=\"color: #000000; text-decoration-color: #000000; font-weight: bold\">/home/erniesg/.pyenv/versions/3.8.12/envs/lewagon/lib/python3.8/site-packages/ipywidgets/widgets/widget_output.py:1</span>\n",
       "<span style=\"color: #000000; text-decoration-color: #000000; font-weight: bold\">11)</span>\n",
       "</pre>\n"
      ],
      "text/plain": [
       "\u001b[1;33mDeprecationWarning: Kernel._parent_header is deprecated in ipykernel 6. Use .get_parent()\u001b[0m \u001b[1;30m(raised from \u001b[0m\n",
       "\u001b[1;30m/home/erniesg/.pyenv/versions/3.8.12/envs/lewagon/lib/python3.8/site-packages/ipywidgets/widgets/widget_output.py:1\u001b[0m\n",
       "\u001b[1;30m11)\u001b[0m\n"
      ]
     },
     "metadata": {},
     "output_type": "display_data"
    },
    {
     "data": {
      "text/html": [
       "<pre style=\"white-space:pre;overflow-x:auto;line-height:normal;font-family:Menlo,'DejaVu Sans Mono',consolas,'Courier New',monospace\"><span style=\"color: #808000; text-decoration-color: #808000; font-weight: bold\">DeprecationWarning: Kernel._parent_header is deprecated in ipykernel 6. Use .get_parent()</span> <span style=\"color: #000000; text-decoration-color: #000000; font-weight: bold\">(raised from </span>\n",
       "<span style=\"color: #000000; text-decoration-color: #000000; font-weight: bold\">/home/erniesg/.pyenv/versions/3.8.12/envs/lewagon/lib/python3.8/site-packages/ipywidgets/widgets/widget_output.py:1</span>\n",
       "<span style=\"color: #000000; text-decoration-color: #000000; font-weight: bold\">12)</span>\n",
       "</pre>\n"
      ],
      "text/plain": [
       "\u001b[1;33mDeprecationWarning: Kernel._parent_header is deprecated in ipykernel 6. Use .get_parent()\u001b[0m \u001b[1;30m(raised from \u001b[0m\n",
       "\u001b[1;30m/home/erniesg/.pyenv/versions/3.8.12/envs/lewagon/lib/python3.8/site-packages/ipywidgets/widgets/widget_output.py:1\u001b[0m\n",
       "\u001b[1;30m12)\u001b[0m\n"
      ]
     },
     "metadata": {},
     "output_type": "display_data"
    },
    {
     "data": {
      "text/html": [
       "<pre style=\"white-space:pre;overflow-x:auto;line-height:normal;font-family:Menlo,'DejaVu Sans Mono',consolas,'Courier New',monospace\"><span style=\"color: #808000; text-decoration-color: #808000; font-weight: bold\">DeprecationWarning: Kernel._parent_header is deprecated in ipykernel 6. Use .get_parent()</span> <span style=\"color: #000000; text-decoration-color: #000000; font-weight: bold\">(raised from </span>\n",
       "<span style=\"color: #000000; text-decoration-color: #000000; font-weight: bold\">/home/erniesg/.pyenv/versions/3.8.12/envs/lewagon/lib/python3.8/site-packages/ipywidgets/widgets/widget_output.py:1</span>\n",
       "<span style=\"color: #000000; text-decoration-color: #000000; font-weight: bold\">11)</span>\n",
       "</pre>\n"
      ],
      "text/plain": [
       "\u001b[1;33mDeprecationWarning: Kernel._parent_header is deprecated in ipykernel 6. Use .get_parent()\u001b[0m \u001b[1;30m(raised from \u001b[0m\n",
       "\u001b[1;30m/home/erniesg/.pyenv/versions/3.8.12/envs/lewagon/lib/python3.8/site-packages/ipywidgets/widgets/widget_output.py:1\u001b[0m\n",
       "\u001b[1;30m11)\u001b[0m\n"
      ]
     },
     "metadata": {},
     "output_type": "display_data"
    },
    {
     "data": {
      "text/html": [
       "<pre style=\"white-space:pre;overflow-x:auto;line-height:normal;font-family:Menlo,'DejaVu Sans Mono',consolas,'Courier New',monospace\"><span style=\"color: #808000; text-decoration-color: #808000; font-weight: bold\">DeprecationWarning: Kernel._parent_header is deprecated in ipykernel 6. Use .get_parent()</span> <span style=\"color: #000000; text-decoration-color: #000000; font-weight: bold\">(raised from </span>\n",
       "<span style=\"color: #000000; text-decoration-color: #000000; font-weight: bold\">/home/erniesg/.pyenv/versions/3.8.12/envs/lewagon/lib/python3.8/site-packages/ipywidgets/widgets/widget_output.py:1</span>\n",
       "<span style=\"color: #000000; text-decoration-color: #000000; font-weight: bold\">12)</span>\n",
       "</pre>\n"
      ],
      "text/plain": [
       "\u001b[1;33mDeprecationWarning: Kernel._parent_header is deprecated in ipykernel 6. Use .get_parent()\u001b[0m \u001b[1;30m(raised from \u001b[0m\n",
       "\u001b[1;30m/home/erniesg/.pyenv/versions/3.8.12/envs/lewagon/lib/python3.8/site-packages/ipywidgets/widgets/widget_output.py:1\u001b[0m\n",
       "\u001b[1;30m12)\u001b[0m\n"
      ]
     },
     "metadata": {},
     "output_type": "display_data"
    },
    {
     "data": {
      "text/html": [
       "<pre style=\"white-space:pre;overflow-x:auto;line-height:normal;font-family:Menlo,'DejaVu Sans Mono',consolas,'Courier New',monospace\"><span style=\"color: #808000; text-decoration-color: #808000; font-weight: bold\">DeprecationWarning: Kernel._parent_header is deprecated in ipykernel 6. Use .get_parent()</span> <span style=\"color: #000000; text-decoration-color: #000000; font-weight: bold\">(raised from </span>\n",
       "<span style=\"color: #000000; text-decoration-color: #000000; font-weight: bold\">/home/erniesg/.pyenv/versions/3.8.12/envs/lewagon/lib/python3.8/site-packages/ipywidgets/widgets/widget_output.py:1</span>\n",
       "<span style=\"color: #000000; text-decoration-color: #000000; font-weight: bold\">11)</span>\n",
       "</pre>\n"
      ],
      "text/plain": [
       "\u001b[1;33mDeprecationWarning: Kernel._parent_header is deprecated in ipykernel 6. Use .get_parent()\u001b[0m \u001b[1;30m(raised from \u001b[0m\n",
       "\u001b[1;30m/home/erniesg/.pyenv/versions/3.8.12/envs/lewagon/lib/python3.8/site-packages/ipywidgets/widgets/widget_output.py:1\u001b[0m\n",
       "\u001b[1;30m11)\u001b[0m\n"
      ]
     },
     "metadata": {},
     "output_type": "display_data"
    },
    {
     "data": {
      "text/html": [
       "<pre style=\"white-space:pre;overflow-x:auto;line-height:normal;font-family:Menlo,'DejaVu Sans Mono',consolas,'Courier New',monospace\"><span style=\"color: #808000; text-decoration-color: #808000; font-weight: bold\">DeprecationWarning: Kernel._parent_header is deprecated in ipykernel 6. Use .get_parent()</span> <span style=\"color: #000000; text-decoration-color: #000000; font-weight: bold\">(raised from </span>\n",
       "<span style=\"color: #000000; text-decoration-color: #000000; font-weight: bold\">/home/erniesg/.pyenv/versions/3.8.12/envs/lewagon/lib/python3.8/site-packages/ipywidgets/widgets/widget_output.py:1</span>\n",
       "<span style=\"color: #000000; text-decoration-color: #000000; font-weight: bold\">12)</span>\n",
       "</pre>\n"
      ],
      "text/plain": [
       "\u001b[1;33mDeprecationWarning: Kernel._parent_header is deprecated in ipykernel 6. Use .get_parent()\u001b[0m \u001b[1;30m(raised from \u001b[0m\n",
       "\u001b[1;30m/home/erniesg/.pyenv/versions/3.8.12/envs/lewagon/lib/python3.8/site-packages/ipywidgets/widgets/widget_output.py:1\u001b[0m\n",
       "\u001b[1;30m12)\u001b[0m\n"
      ]
     },
     "metadata": {},
     "output_type": "display_data"
    },
    {
     "data": {
      "text/html": [
       "<pre style=\"white-space:pre;overflow-x:auto;line-height:normal;font-family:Menlo,'DejaVu Sans Mono',consolas,'Courier New',monospace\"><span style=\"color: #808000; text-decoration-color: #808000; font-weight: bold\">DeprecationWarning: Kernel._parent_header is deprecated in ipykernel 6. Use .get_parent()</span> <span style=\"color: #000000; text-decoration-color: #000000; font-weight: bold\">(raised from </span>\n",
       "<span style=\"color: #000000; text-decoration-color: #000000; font-weight: bold\">/home/erniesg/.pyenv/versions/3.8.12/envs/lewagon/lib/python3.8/site-packages/ipywidgets/widgets/widget_output.py:1</span>\n",
       "<span style=\"color: #000000; text-decoration-color: #000000; font-weight: bold\">11)</span>\n",
       "</pre>\n"
      ],
      "text/plain": [
       "\u001b[1;33mDeprecationWarning: Kernel._parent_header is deprecated in ipykernel 6. Use .get_parent()\u001b[0m \u001b[1;30m(raised from \u001b[0m\n",
       "\u001b[1;30m/home/erniesg/.pyenv/versions/3.8.12/envs/lewagon/lib/python3.8/site-packages/ipywidgets/widgets/widget_output.py:1\u001b[0m\n",
       "\u001b[1;30m11)\u001b[0m\n"
      ]
     },
     "metadata": {},
     "output_type": "display_data"
    },
    {
     "data": {
      "text/html": [
       "<pre style=\"white-space:pre;overflow-x:auto;line-height:normal;font-family:Menlo,'DejaVu Sans Mono',consolas,'Courier New',monospace\"><span style=\"color: #808000; text-decoration-color: #808000; font-weight: bold\">DeprecationWarning: Kernel._parent_header is deprecated in ipykernel 6. Use .get_parent()</span> <span style=\"color: #000000; text-decoration-color: #000000; font-weight: bold\">(raised from </span>\n",
       "<span style=\"color: #000000; text-decoration-color: #000000; font-weight: bold\">/home/erniesg/.pyenv/versions/3.8.12/envs/lewagon/lib/python3.8/site-packages/ipywidgets/widgets/widget_output.py:1</span>\n",
       "<span style=\"color: #000000; text-decoration-color: #000000; font-weight: bold\">12)</span>\n",
       "</pre>\n"
      ],
      "text/plain": [
       "\u001b[1;33mDeprecationWarning: Kernel._parent_header is deprecated in ipykernel 6. Use .get_parent()\u001b[0m \u001b[1;30m(raised from \u001b[0m\n",
       "\u001b[1;30m/home/erniesg/.pyenv/versions/3.8.12/envs/lewagon/lib/python3.8/site-packages/ipywidgets/widgets/widget_output.py:1\u001b[0m\n",
       "\u001b[1;30m12)\u001b[0m\n"
      ]
     },
     "metadata": {},
     "output_type": "display_data"
    },
    {
     "data": {
      "text/html": [
       "<pre style=\"white-space:pre;overflow-x:auto;line-height:normal;font-family:Menlo,'DejaVu Sans Mono',consolas,'Courier New',monospace\"><span style=\"color: #808000; text-decoration-color: #808000; font-weight: bold\">DeprecationWarning: Kernel._parent_header is deprecated in ipykernel 6. Use .get_parent()</span> <span style=\"color: #000000; text-decoration-color: #000000; font-weight: bold\">(raised from </span>\n",
       "<span style=\"color: #000000; text-decoration-color: #000000; font-weight: bold\">/home/erniesg/.pyenv/versions/3.8.12/envs/lewagon/lib/python3.8/site-packages/ipywidgets/widgets/widget_output.py:1</span>\n",
       "<span style=\"color: #000000; text-decoration-color: #000000; font-weight: bold\">11)</span>\n",
       "</pre>\n"
      ],
      "text/plain": [
       "\u001b[1;33mDeprecationWarning: Kernel._parent_header is deprecated in ipykernel 6. Use .get_parent()\u001b[0m \u001b[1;30m(raised from \u001b[0m\n",
       "\u001b[1;30m/home/erniesg/.pyenv/versions/3.8.12/envs/lewagon/lib/python3.8/site-packages/ipywidgets/widgets/widget_output.py:1\u001b[0m\n",
       "\u001b[1;30m11)\u001b[0m\n"
      ]
     },
     "metadata": {},
     "output_type": "display_data"
    },
    {
     "data": {
      "text/html": [
       "<pre style=\"white-space:pre;overflow-x:auto;line-height:normal;font-family:Menlo,'DejaVu Sans Mono',consolas,'Courier New',monospace\"><span style=\"color: #808000; text-decoration-color: #808000; font-weight: bold\">DeprecationWarning: Kernel._parent_header is deprecated in ipykernel 6. Use .get_parent()</span> <span style=\"color: #000000; text-decoration-color: #000000; font-weight: bold\">(raised from </span>\n",
       "<span style=\"color: #000000; text-decoration-color: #000000; font-weight: bold\">/home/erniesg/.pyenv/versions/3.8.12/envs/lewagon/lib/python3.8/site-packages/ipywidgets/widgets/widget_output.py:1</span>\n",
       "<span style=\"color: #000000; text-decoration-color: #000000; font-weight: bold\">12)</span>\n",
       "</pre>\n"
      ],
      "text/plain": [
       "\u001b[1;33mDeprecationWarning: Kernel._parent_header is deprecated in ipykernel 6. Use .get_parent()\u001b[0m \u001b[1;30m(raised from \u001b[0m\n",
       "\u001b[1;30m/home/erniesg/.pyenv/versions/3.8.12/envs/lewagon/lib/python3.8/site-packages/ipywidgets/widgets/widget_output.py:1\u001b[0m\n",
       "\u001b[1;30m12)\u001b[0m\n"
      ]
     },
     "metadata": {},
     "output_type": "display_data"
    },
    {
     "data": {
      "text/html": [
       "<pre style=\"white-space:pre;overflow-x:auto;line-height:normal;font-family:Menlo,'DejaVu Sans Mono',consolas,'Courier New',monospace\"><span style=\"color: #808000; text-decoration-color: #808000; font-weight: bold\">DeprecationWarning: Kernel._parent_header is deprecated in ipykernel 6. Use .get_parent()</span> <span style=\"color: #000000; text-decoration-color: #000000; font-weight: bold\">(raised from </span>\n",
       "<span style=\"color: #000000; text-decoration-color: #000000; font-weight: bold\">/home/erniesg/.pyenv/versions/3.8.12/envs/lewagon/lib/python3.8/site-packages/ipywidgets/widgets/widget_output.py:1</span>\n",
       "<span style=\"color: #000000; text-decoration-color: #000000; font-weight: bold\">11)</span>\n",
       "</pre>\n"
      ],
      "text/plain": [
       "\u001b[1;33mDeprecationWarning: Kernel._parent_header is deprecated in ipykernel 6. Use .get_parent()\u001b[0m \u001b[1;30m(raised from \u001b[0m\n",
       "\u001b[1;30m/home/erniesg/.pyenv/versions/3.8.12/envs/lewagon/lib/python3.8/site-packages/ipywidgets/widgets/widget_output.py:1\u001b[0m\n",
       "\u001b[1;30m11)\u001b[0m\n"
      ]
     },
     "metadata": {},
     "output_type": "display_data"
    },
    {
     "data": {
      "text/html": [
       "<pre style=\"white-space:pre;overflow-x:auto;line-height:normal;font-family:Menlo,'DejaVu Sans Mono',consolas,'Courier New',monospace\"><span style=\"color: #808000; text-decoration-color: #808000; font-weight: bold\">DeprecationWarning: Kernel._parent_header is deprecated in ipykernel 6. Use .get_parent()</span> <span style=\"color: #000000; text-decoration-color: #000000; font-weight: bold\">(raised from </span>\n",
       "<span style=\"color: #000000; text-decoration-color: #000000; font-weight: bold\">/home/erniesg/.pyenv/versions/3.8.12/envs/lewagon/lib/python3.8/site-packages/ipywidgets/widgets/widget_output.py:1</span>\n",
       "<span style=\"color: #000000; text-decoration-color: #000000; font-weight: bold\">12)</span>\n",
       "</pre>\n"
      ],
      "text/plain": [
       "\u001b[1;33mDeprecationWarning: Kernel._parent_header is deprecated in ipykernel 6. Use .get_parent()\u001b[0m \u001b[1;30m(raised from \u001b[0m\n",
       "\u001b[1;30m/home/erniesg/.pyenv/versions/3.8.12/envs/lewagon/lib/python3.8/site-packages/ipywidgets/widgets/widget_output.py:1\u001b[0m\n",
       "\u001b[1;30m12)\u001b[0m\n"
      ]
     },
     "metadata": {},
     "output_type": "display_data"
    },
    {
     "data": {
      "text/html": [
       "<pre style=\"white-space:pre;overflow-x:auto;line-height:normal;font-family:Menlo,'DejaVu Sans Mono',consolas,'Courier New',monospace\"><span style=\"color: #808000; text-decoration-color: #808000; font-weight: bold\">DeprecationWarning: Kernel._parent_header is deprecated in ipykernel 6. Use .get_parent()</span> <span style=\"color: #000000; text-decoration-color: #000000; font-weight: bold\">(raised from </span>\n",
       "<span style=\"color: #000000; text-decoration-color: #000000; font-weight: bold\">/home/erniesg/.pyenv/versions/3.8.12/envs/lewagon/lib/python3.8/site-packages/ipywidgets/widgets/widget_output.py:1</span>\n",
       "<span style=\"color: #000000; text-decoration-color: #000000; font-weight: bold\">11)</span>\n",
       "</pre>\n"
      ],
      "text/plain": [
       "\u001b[1;33mDeprecationWarning: Kernel._parent_header is deprecated in ipykernel 6. Use .get_parent()\u001b[0m \u001b[1;30m(raised from \u001b[0m\n",
       "\u001b[1;30m/home/erniesg/.pyenv/versions/3.8.12/envs/lewagon/lib/python3.8/site-packages/ipywidgets/widgets/widget_output.py:1\u001b[0m\n",
       "\u001b[1;30m11)\u001b[0m\n"
      ]
     },
     "metadata": {},
     "output_type": "display_data"
    },
    {
     "data": {
      "text/html": [
       "<pre style=\"white-space:pre;overflow-x:auto;line-height:normal;font-family:Menlo,'DejaVu Sans Mono',consolas,'Courier New',monospace\"><span style=\"color: #808000; text-decoration-color: #808000; font-weight: bold\">DeprecationWarning: Kernel._parent_header is deprecated in ipykernel 6. Use .get_parent()</span> <span style=\"color: #000000; text-decoration-color: #000000; font-weight: bold\">(raised from </span>\n",
       "<span style=\"color: #000000; text-decoration-color: #000000; font-weight: bold\">/home/erniesg/.pyenv/versions/3.8.12/envs/lewagon/lib/python3.8/site-packages/ipywidgets/widgets/widget_output.py:1</span>\n",
       "<span style=\"color: #000000; text-decoration-color: #000000; font-weight: bold\">12)</span>\n",
       "</pre>\n"
      ],
      "text/plain": [
       "\u001b[1;33mDeprecationWarning: Kernel._parent_header is deprecated in ipykernel 6. Use .get_parent()\u001b[0m \u001b[1;30m(raised from \u001b[0m\n",
       "\u001b[1;30m/home/erniesg/.pyenv/versions/3.8.12/envs/lewagon/lib/python3.8/site-packages/ipywidgets/widgets/widget_output.py:1\u001b[0m\n",
       "\u001b[1;30m12)\u001b[0m\n"
      ]
     },
     "metadata": {},
     "output_type": "display_data"
    },
    {
     "data": {
      "text/html": [
       "<pre style=\"white-space:pre;overflow-x:auto;line-height:normal;font-family:Menlo,'DejaVu Sans Mono',consolas,'Courier New',monospace\"><span style=\"color: #808000; text-decoration-color: #808000; font-weight: bold\">DeprecationWarning: Kernel._parent_header is deprecated in ipykernel 6. Use .get_parent()</span> <span style=\"color: #000000; text-decoration-color: #000000; font-weight: bold\">(raised from </span>\n",
       "<span style=\"color: #000000; text-decoration-color: #000000; font-weight: bold\">/home/erniesg/.pyenv/versions/3.8.12/envs/lewagon/lib/python3.8/site-packages/ipywidgets/widgets/widget_output.py:1</span>\n",
       "<span style=\"color: #000000; text-decoration-color: #000000; font-weight: bold\">11)</span>\n",
       "</pre>\n"
      ],
      "text/plain": [
       "\u001b[1;33mDeprecationWarning: Kernel._parent_header is deprecated in ipykernel 6. Use .get_parent()\u001b[0m \u001b[1;30m(raised from \u001b[0m\n",
       "\u001b[1;30m/home/erniesg/.pyenv/versions/3.8.12/envs/lewagon/lib/python3.8/site-packages/ipywidgets/widgets/widget_output.py:1\u001b[0m\n",
       "\u001b[1;30m11)\u001b[0m\n"
      ]
     },
     "metadata": {},
     "output_type": "display_data"
    },
    {
     "data": {
      "text/html": [
       "<pre style=\"white-space:pre;overflow-x:auto;line-height:normal;font-family:Menlo,'DejaVu Sans Mono',consolas,'Courier New',monospace\"><span style=\"color: #808000; text-decoration-color: #808000; font-weight: bold\">DeprecationWarning: Kernel._parent_header is deprecated in ipykernel 6. Use .get_parent()</span> <span style=\"color: #000000; text-decoration-color: #000000; font-weight: bold\">(raised from </span>\n",
       "<span style=\"color: #000000; text-decoration-color: #000000; font-weight: bold\">/home/erniesg/.pyenv/versions/3.8.12/envs/lewagon/lib/python3.8/site-packages/ipywidgets/widgets/widget_output.py:1</span>\n",
       "<span style=\"color: #000000; text-decoration-color: #000000; font-weight: bold\">12)</span>\n",
       "</pre>\n"
      ],
      "text/plain": [
       "\u001b[1;33mDeprecationWarning: Kernel._parent_header is deprecated in ipykernel 6. Use .get_parent()\u001b[0m \u001b[1;30m(raised from \u001b[0m\n",
       "\u001b[1;30m/home/erniesg/.pyenv/versions/3.8.12/envs/lewagon/lib/python3.8/site-packages/ipywidgets/widgets/widget_output.py:1\u001b[0m\n",
       "\u001b[1;30m12)\u001b[0m\n"
      ]
     },
     "metadata": {},
     "output_type": "display_data"
    },
    {
     "data": {
      "text/html": [
       "<pre style=\"white-space:pre;overflow-x:auto;line-height:normal;font-family:Menlo,'DejaVu Sans Mono',consolas,'Courier New',monospace\"><span style=\"color: #808000; text-decoration-color: #808000; font-weight: bold\">DeprecationWarning: Kernel._parent_header is deprecated in ipykernel 6. Use .get_parent()</span> <span style=\"color: #000000; text-decoration-color: #000000; font-weight: bold\">(raised from </span>\n",
       "<span style=\"color: #000000; text-decoration-color: #000000; font-weight: bold\">/home/erniesg/.pyenv/versions/3.8.12/envs/lewagon/lib/python3.8/site-packages/ipywidgets/widgets/widget_output.py:1</span>\n",
       "<span style=\"color: #000000; text-decoration-color: #000000; font-weight: bold\">11)</span>\n",
       "</pre>\n"
      ],
      "text/plain": [
       "\u001b[1;33mDeprecationWarning: Kernel._parent_header is deprecated in ipykernel 6. Use .get_parent()\u001b[0m \u001b[1;30m(raised from \u001b[0m\n",
       "\u001b[1;30m/home/erniesg/.pyenv/versions/3.8.12/envs/lewagon/lib/python3.8/site-packages/ipywidgets/widgets/widget_output.py:1\u001b[0m\n",
       "\u001b[1;30m11)\u001b[0m\n"
      ]
     },
     "metadata": {},
     "output_type": "display_data"
    },
    {
     "data": {
      "text/html": [
       "<pre style=\"white-space:pre;overflow-x:auto;line-height:normal;font-family:Menlo,'DejaVu Sans Mono',consolas,'Courier New',monospace\"><span style=\"color: #808000; text-decoration-color: #808000; font-weight: bold\">DeprecationWarning: Kernel._parent_header is deprecated in ipykernel 6. Use .get_parent()</span> <span style=\"color: #000000; text-decoration-color: #000000; font-weight: bold\">(raised from </span>\n",
       "<span style=\"color: #000000; text-decoration-color: #000000; font-weight: bold\">/home/erniesg/.pyenv/versions/3.8.12/envs/lewagon/lib/python3.8/site-packages/ipywidgets/widgets/widget_output.py:1</span>\n",
       "<span style=\"color: #000000; text-decoration-color: #000000; font-weight: bold\">12)</span>\n",
       "</pre>\n"
      ],
      "text/plain": [
       "\u001b[1;33mDeprecationWarning: Kernel._parent_header is deprecated in ipykernel 6. Use .get_parent()\u001b[0m \u001b[1;30m(raised from \u001b[0m\n",
       "\u001b[1;30m/home/erniesg/.pyenv/versions/3.8.12/envs/lewagon/lib/python3.8/site-packages/ipywidgets/widgets/widget_output.py:1\u001b[0m\n",
       "\u001b[1;30m12)\u001b[0m\n"
      ]
     },
     "metadata": {},
     "output_type": "display_data"
    },
    {
     "data": {
      "text/html": [
       "<pre style=\"white-space:pre;overflow-x:auto;line-height:normal;font-family:Menlo,'DejaVu Sans Mono',consolas,'Courier New',monospace\"><span style=\"color: #808000; text-decoration-color: #808000; font-weight: bold\">DeprecationWarning: Kernel._parent_header is deprecated in ipykernel 6. Use .get_parent()</span> <span style=\"color: #000000; text-decoration-color: #000000; font-weight: bold\">(raised from </span>\n",
       "<span style=\"color: #000000; text-decoration-color: #000000; font-weight: bold\">/home/erniesg/.pyenv/versions/3.8.12/envs/lewagon/lib/python3.8/site-packages/ipywidgets/widgets/widget_output.py:1</span>\n",
       "<span style=\"color: #000000; text-decoration-color: #000000; font-weight: bold\">11)</span>\n",
       "</pre>\n"
      ],
      "text/plain": [
       "\u001b[1;33mDeprecationWarning: Kernel._parent_header is deprecated in ipykernel 6. Use .get_parent()\u001b[0m \u001b[1;30m(raised from \u001b[0m\n",
       "\u001b[1;30m/home/erniesg/.pyenv/versions/3.8.12/envs/lewagon/lib/python3.8/site-packages/ipywidgets/widgets/widget_output.py:1\u001b[0m\n",
       "\u001b[1;30m11)\u001b[0m\n"
      ]
     },
     "metadata": {},
     "output_type": "display_data"
    },
    {
     "data": {
      "text/html": [
       "<pre style=\"white-space:pre;overflow-x:auto;line-height:normal;font-family:Menlo,'DejaVu Sans Mono',consolas,'Courier New',monospace\"><span style=\"color: #808000; text-decoration-color: #808000; font-weight: bold\">DeprecationWarning: Kernel._parent_header is deprecated in ipykernel 6. Use .get_parent()</span> <span style=\"color: #000000; text-decoration-color: #000000; font-weight: bold\">(raised from </span>\n",
       "<span style=\"color: #000000; text-decoration-color: #000000; font-weight: bold\">/home/erniesg/.pyenv/versions/3.8.12/envs/lewagon/lib/python3.8/site-packages/ipywidgets/widgets/widget_output.py:1</span>\n",
       "<span style=\"color: #000000; text-decoration-color: #000000; font-weight: bold\">12)</span>\n",
       "</pre>\n"
      ],
      "text/plain": [
       "\u001b[1;33mDeprecationWarning: Kernel._parent_header is deprecated in ipykernel 6. Use .get_parent()\u001b[0m \u001b[1;30m(raised from \u001b[0m\n",
       "\u001b[1;30m/home/erniesg/.pyenv/versions/3.8.12/envs/lewagon/lib/python3.8/site-packages/ipywidgets/widgets/widget_output.py:1\u001b[0m\n",
       "\u001b[1;30m12)\u001b[0m\n"
      ]
     },
     "metadata": {},
     "output_type": "display_data"
    },
    {
     "data": {
      "text/html": [
       "<pre style=\"white-space:pre;overflow-x:auto;line-height:normal;font-family:Menlo,'DejaVu Sans Mono',consolas,'Courier New',monospace\"><span style=\"color: #808000; text-decoration-color: #808000; font-weight: bold\">DeprecationWarning: Kernel._parent_header is deprecated in ipykernel 6. Use .get_parent()</span> <span style=\"color: #000000; text-decoration-color: #000000; font-weight: bold\">(raised from </span>\n",
       "<span style=\"color: #000000; text-decoration-color: #000000; font-weight: bold\">/home/erniesg/.pyenv/versions/3.8.12/envs/lewagon/lib/python3.8/site-packages/ipywidgets/widgets/widget_output.py:1</span>\n",
       "<span style=\"color: #000000; text-decoration-color: #000000; font-weight: bold\">11)</span>\n",
       "</pre>\n"
      ],
      "text/plain": [
       "\u001b[1;33mDeprecationWarning: Kernel._parent_header is deprecated in ipykernel 6. Use .get_parent()\u001b[0m \u001b[1;30m(raised from \u001b[0m\n",
       "\u001b[1;30m/home/erniesg/.pyenv/versions/3.8.12/envs/lewagon/lib/python3.8/site-packages/ipywidgets/widgets/widget_output.py:1\u001b[0m\n",
       "\u001b[1;30m11)\u001b[0m\n"
      ]
     },
     "metadata": {},
     "output_type": "display_data"
    },
    {
     "data": {
      "text/html": [
       "<pre style=\"white-space:pre;overflow-x:auto;line-height:normal;font-family:Menlo,'DejaVu Sans Mono',consolas,'Courier New',monospace\"><span style=\"color: #808000; text-decoration-color: #808000; font-weight: bold\">DeprecationWarning: Kernel._parent_header is deprecated in ipykernel 6. Use .get_parent()</span> <span style=\"color: #000000; text-decoration-color: #000000; font-weight: bold\">(raised from </span>\n",
       "<span style=\"color: #000000; text-decoration-color: #000000; font-weight: bold\">/home/erniesg/.pyenv/versions/3.8.12/envs/lewagon/lib/python3.8/site-packages/ipywidgets/widgets/widget_output.py:1</span>\n",
       "<span style=\"color: #000000; text-decoration-color: #000000; font-weight: bold\">12)</span>\n",
       "</pre>\n"
      ],
      "text/plain": [
       "\u001b[1;33mDeprecationWarning: Kernel._parent_header is deprecated in ipykernel 6. Use .get_parent()\u001b[0m \u001b[1;30m(raised from \u001b[0m\n",
       "\u001b[1;30m/home/erniesg/.pyenv/versions/3.8.12/envs/lewagon/lib/python3.8/site-packages/ipywidgets/widgets/widget_output.py:1\u001b[0m\n",
       "\u001b[1;30m12)\u001b[0m\n"
      ]
     },
     "metadata": {},
     "output_type": "display_data"
    },
    {
     "data": {
      "text/html": [
       "<pre style=\"white-space:pre;overflow-x:auto;line-height:normal;font-family:Menlo,'DejaVu Sans Mono',consolas,'Courier New',monospace\"><span style=\"color: #808000; text-decoration-color: #808000; font-weight: bold\">DeprecationWarning: Kernel._parent_header is deprecated in ipykernel 6. Use .get_parent()</span> <span style=\"color: #000000; text-decoration-color: #000000; font-weight: bold\">(raised from </span>\n",
       "<span style=\"color: #000000; text-decoration-color: #000000; font-weight: bold\">/home/erniesg/.pyenv/versions/3.8.12/envs/lewagon/lib/python3.8/site-packages/ipywidgets/widgets/widget_output.py:1</span>\n",
       "<span style=\"color: #000000; text-decoration-color: #000000; font-weight: bold\">11)</span>\n",
       "</pre>\n"
      ],
      "text/plain": [
       "\u001b[1;33mDeprecationWarning: Kernel._parent_header is deprecated in ipykernel 6. Use .get_parent()\u001b[0m \u001b[1;30m(raised from \u001b[0m\n",
       "\u001b[1;30m/home/erniesg/.pyenv/versions/3.8.12/envs/lewagon/lib/python3.8/site-packages/ipywidgets/widgets/widget_output.py:1\u001b[0m\n",
       "\u001b[1;30m11)\u001b[0m\n"
      ]
     },
     "metadata": {},
     "output_type": "display_data"
    },
    {
     "data": {
      "text/html": [
       "<pre style=\"white-space:pre;overflow-x:auto;line-height:normal;font-family:Menlo,'DejaVu Sans Mono',consolas,'Courier New',monospace\"><span style=\"color: #808000; text-decoration-color: #808000; font-weight: bold\">DeprecationWarning: Kernel._parent_header is deprecated in ipykernel 6. Use .get_parent()</span> <span style=\"color: #000000; text-decoration-color: #000000; font-weight: bold\">(raised from </span>\n",
       "<span style=\"color: #000000; text-decoration-color: #000000; font-weight: bold\">/home/erniesg/.pyenv/versions/3.8.12/envs/lewagon/lib/python3.8/site-packages/ipywidgets/widgets/widget_output.py:1</span>\n",
       "<span style=\"color: #000000; text-decoration-color: #000000; font-weight: bold\">12)</span>\n",
       "</pre>\n"
      ],
      "text/plain": [
       "\u001b[1;33mDeprecationWarning: Kernel._parent_header is deprecated in ipykernel 6. Use .get_parent()\u001b[0m \u001b[1;30m(raised from \u001b[0m\n",
       "\u001b[1;30m/home/erniesg/.pyenv/versions/3.8.12/envs/lewagon/lib/python3.8/site-packages/ipywidgets/widgets/widget_output.py:1\u001b[0m\n",
       "\u001b[1;30m12)\u001b[0m\n"
      ]
     },
     "metadata": {},
     "output_type": "display_data"
    },
    {
     "data": {
      "text/html": [
       "<pre style=\"white-space:pre;overflow-x:auto;line-height:normal;font-family:Menlo,'DejaVu Sans Mono',consolas,'Courier New',monospace\"><span style=\"color: #808000; text-decoration-color: #808000; font-weight: bold\">DeprecationWarning: Kernel._parent_header is deprecated in ipykernel 6. Use .get_parent()</span> <span style=\"color: #000000; text-decoration-color: #000000; font-weight: bold\">(raised from </span>\n",
       "<span style=\"color: #000000; text-decoration-color: #000000; font-weight: bold\">/home/erniesg/.pyenv/versions/3.8.12/envs/lewagon/lib/python3.8/site-packages/ipywidgets/widgets/widget_output.py:1</span>\n",
       "<span style=\"color: #000000; text-decoration-color: #000000; font-weight: bold\">11)</span>\n",
       "</pre>\n"
      ],
      "text/plain": [
       "\u001b[1;33mDeprecationWarning: Kernel._parent_header is deprecated in ipykernel 6. Use .get_parent()\u001b[0m \u001b[1;30m(raised from \u001b[0m\n",
       "\u001b[1;30m/home/erniesg/.pyenv/versions/3.8.12/envs/lewagon/lib/python3.8/site-packages/ipywidgets/widgets/widget_output.py:1\u001b[0m\n",
       "\u001b[1;30m11)\u001b[0m\n"
      ]
     },
     "metadata": {},
     "output_type": "display_data"
    },
    {
     "data": {
      "text/html": [
       "<pre style=\"white-space:pre;overflow-x:auto;line-height:normal;font-family:Menlo,'DejaVu Sans Mono',consolas,'Courier New',monospace\"><span style=\"color: #808000; text-decoration-color: #808000; font-weight: bold\">DeprecationWarning: Kernel._parent_header is deprecated in ipykernel 6. Use .get_parent()</span> <span style=\"color: #000000; text-decoration-color: #000000; font-weight: bold\">(raised from </span>\n",
       "<span style=\"color: #000000; text-decoration-color: #000000; font-weight: bold\">/home/erniesg/.pyenv/versions/3.8.12/envs/lewagon/lib/python3.8/site-packages/ipywidgets/widgets/widget_output.py:1</span>\n",
       "<span style=\"color: #000000; text-decoration-color: #000000; font-weight: bold\">12)</span>\n",
       "</pre>\n"
      ],
      "text/plain": [
       "\u001b[1;33mDeprecationWarning: Kernel._parent_header is deprecated in ipykernel 6. Use .get_parent()\u001b[0m \u001b[1;30m(raised from \u001b[0m\n",
       "\u001b[1;30m/home/erniesg/.pyenv/versions/3.8.12/envs/lewagon/lib/python3.8/site-packages/ipywidgets/widgets/widget_output.py:1\u001b[0m\n",
       "\u001b[1;30m12)\u001b[0m\n"
      ]
     },
     "metadata": {},
     "output_type": "display_data"
    },
    {
     "data": {
      "text/html": [
       "<pre style=\"white-space:pre;overflow-x:auto;line-height:normal;font-family:Menlo,'DejaVu Sans Mono',consolas,'Courier New',monospace\"><span style=\"color: #808000; text-decoration-color: #808000; font-weight: bold\">DeprecationWarning: Kernel._parent_header is deprecated in ipykernel 6. Use .get_parent()</span> <span style=\"color: #000000; text-decoration-color: #000000; font-weight: bold\">(raised from </span>\n",
       "<span style=\"color: #000000; text-decoration-color: #000000; font-weight: bold\">/home/erniesg/.pyenv/versions/3.8.12/envs/lewagon/lib/python3.8/site-packages/ipywidgets/widgets/widget_output.py:1</span>\n",
       "<span style=\"color: #000000; text-decoration-color: #000000; font-weight: bold\">11)</span>\n",
       "</pre>\n"
      ],
      "text/plain": [
       "\u001b[1;33mDeprecationWarning: Kernel._parent_header is deprecated in ipykernel 6. Use .get_parent()\u001b[0m \u001b[1;30m(raised from \u001b[0m\n",
       "\u001b[1;30m/home/erniesg/.pyenv/versions/3.8.12/envs/lewagon/lib/python3.8/site-packages/ipywidgets/widgets/widget_output.py:1\u001b[0m\n",
       "\u001b[1;30m11)\u001b[0m\n"
      ]
     },
     "metadata": {},
     "output_type": "display_data"
    },
    {
     "data": {
      "text/html": [
       "<pre style=\"white-space:pre;overflow-x:auto;line-height:normal;font-family:Menlo,'DejaVu Sans Mono',consolas,'Courier New',monospace\"><span style=\"color: #808000; text-decoration-color: #808000; font-weight: bold\">DeprecationWarning: Kernel._parent_header is deprecated in ipykernel 6. Use .get_parent()</span> <span style=\"color: #000000; text-decoration-color: #000000; font-weight: bold\">(raised from </span>\n",
       "<span style=\"color: #000000; text-decoration-color: #000000; font-weight: bold\">/home/erniesg/.pyenv/versions/3.8.12/envs/lewagon/lib/python3.8/site-packages/ipywidgets/widgets/widget_output.py:1</span>\n",
       "<span style=\"color: #000000; text-decoration-color: #000000; font-weight: bold\">12)</span>\n",
       "</pre>\n"
      ],
      "text/plain": [
       "\u001b[1;33mDeprecationWarning: Kernel._parent_header is deprecated in ipykernel 6. Use .get_parent()\u001b[0m \u001b[1;30m(raised from \u001b[0m\n",
       "\u001b[1;30m/home/erniesg/.pyenv/versions/3.8.12/envs/lewagon/lib/python3.8/site-packages/ipywidgets/widgets/widget_output.py:1\u001b[0m\n",
       "\u001b[1;30m12)\u001b[0m\n"
      ]
     },
     "metadata": {},
     "output_type": "display_data"
    },
    {
     "data": {
      "text/html": [
       "<pre style=\"white-space:pre;overflow-x:auto;line-height:normal;font-family:Menlo,'DejaVu Sans Mono',consolas,'Courier New',monospace\"><span style=\"color: #808000; text-decoration-color: #808000; font-weight: bold\">DeprecationWarning: Kernel._parent_header is deprecated in ipykernel 6. Use .get_parent()</span> <span style=\"color: #000000; text-decoration-color: #000000; font-weight: bold\">(raised from </span>\n",
       "<span style=\"color: #000000; text-decoration-color: #000000; font-weight: bold\">/home/erniesg/.pyenv/versions/3.8.12/envs/lewagon/lib/python3.8/site-packages/ipywidgets/widgets/widget_output.py:1</span>\n",
       "<span style=\"color: #000000; text-decoration-color: #000000; font-weight: bold\">11)</span>\n",
       "</pre>\n"
      ],
      "text/plain": [
       "\u001b[1;33mDeprecationWarning: Kernel._parent_header is deprecated in ipykernel 6. Use .get_parent()\u001b[0m \u001b[1;30m(raised from \u001b[0m\n",
       "\u001b[1;30m/home/erniesg/.pyenv/versions/3.8.12/envs/lewagon/lib/python3.8/site-packages/ipywidgets/widgets/widget_output.py:1\u001b[0m\n",
       "\u001b[1;30m11)\u001b[0m\n"
      ]
     },
     "metadata": {},
     "output_type": "display_data"
    },
    {
     "data": {
      "text/html": [
       "<pre style=\"white-space:pre;overflow-x:auto;line-height:normal;font-family:Menlo,'DejaVu Sans Mono',consolas,'Courier New',monospace\"><span style=\"color: #808000; text-decoration-color: #808000; font-weight: bold\">DeprecationWarning: Kernel._parent_header is deprecated in ipykernel 6. Use .get_parent()</span> <span style=\"color: #000000; text-decoration-color: #000000; font-weight: bold\">(raised from </span>\n",
       "<span style=\"color: #000000; text-decoration-color: #000000; font-weight: bold\">/home/erniesg/.pyenv/versions/3.8.12/envs/lewagon/lib/python3.8/site-packages/ipywidgets/widgets/widget_output.py:1</span>\n",
       "<span style=\"color: #000000; text-decoration-color: #000000; font-weight: bold\">12)</span>\n",
       "</pre>\n"
      ],
      "text/plain": [
       "\u001b[1;33mDeprecationWarning: Kernel._parent_header is deprecated in ipykernel 6. Use .get_parent()\u001b[0m \u001b[1;30m(raised from \u001b[0m\n",
       "\u001b[1;30m/home/erniesg/.pyenv/versions/3.8.12/envs/lewagon/lib/python3.8/site-packages/ipywidgets/widgets/widget_output.py:1\u001b[0m\n",
       "\u001b[1;30m12)\u001b[0m\n"
      ]
     },
     "metadata": {},
     "output_type": "display_data"
    },
    {
     "data": {
      "text/html": [
       "<pre style=\"white-space:pre;overflow-x:auto;line-height:normal;font-family:Menlo,'DejaVu Sans Mono',consolas,'Courier New',monospace\"><span style=\"color: #808000; text-decoration-color: #808000; font-weight: bold\">DeprecationWarning: Kernel._parent_header is deprecated in ipykernel 6. Use .get_parent()</span> <span style=\"color: #000000; text-decoration-color: #000000; font-weight: bold\">(raised from </span>\n",
       "<span style=\"color: #000000; text-decoration-color: #000000; font-weight: bold\">/home/erniesg/.pyenv/versions/3.8.12/envs/lewagon/lib/python3.8/site-packages/ipywidgets/widgets/widget_output.py:1</span>\n",
       "<span style=\"color: #000000; text-decoration-color: #000000; font-weight: bold\">11)</span>\n",
       "</pre>\n"
      ],
      "text/plain": [
       "\u001b[1;33mDeprecationWarning: Kernel._parent_header is deprecated in ipykernel 6. Use .get_parent()\u001b[0m \u001b[1;30m(raised from \u001b[0m\n",
       "\u001b[1;30m/home/erniesg/.pyenv/versions/3.8.12/envs/lewagon/lib/python3.8/site-packages/ipywidgets/widgets/widget_output.py:1\u001b[0m\n",
       "\u001b[1;30m11)\u001b[0m\n"
      ]
     },
     "metadata": {},
     "output_type": "display_data"
    },
    {
     "data": {
      "text/html": [
       "<pre style=\"white-space:pre;overflow-x:auto;line-height:normal;font-family:Menlo,'DejaVu Sans Mono',consolas,'Courier New',monospace\"><span style=\"color: #808000; text-decoration-color: #808000; font-weight: bold\">DeprecationWarning: Kernel._parent_header is deprecated in ipykernel 6. Use .get_parent()</span> <span style=\"color: #000000; text-decoration-color: #000000; font-weight: bold\">(raised from </span>\n",
       "<span style=\"color: #000000; text-decoration-color: #000000; font-weight: bold\">/home/erniesg/.pyenv/versions/3.8.12/envs/lewagon/lib/python3.8/site-packages/ipywidgets/widgets/widget_output.py:1</span>\n",
       "<span style=\"color: #000000; text-decoration-color: #000000; font-weight: bold\">12)</span>\n",
       "</pre>\n"
      ],
      "text/plain": [
       "\u001b[1;33mDeprecationWarning: Kernel._parent_header is deprecated in ipykernel 6. Use .get_parent()\u001b[0m \u001b[1;30m(raised from \u001b[0m\n",
       "\u001b[1;30m/home/erniesg/.pyenv/versions/3.8.12/envs/lewagon/lib/python3.8/site-packages/ipywidgets/widgets/widget_output.py:1\u001b[0m\n",
       "\u001b[1;30m12)\u001b[0m\n"
      ]
     },
     "metadata": {},
     "output_type": "display_data"
    },
    {
     "data": {
      "text/html": [
       "<pre style=\"white-space:pre;overflow-x:auto;line-height:normal;font-family:Menlo,'DejaVu Sans Mono',consolas,'Courier New',monospace\"><span style=\"color: #808000; text-decoration-color: #808000; font-weight: bold\">DeprecationWarning: Kernel._parent_header is deprecated in ipykernel 6. Use .get_parent()</span> <span style=\"color: #000000; text-decoration-color: #000000; font-weight: bold\">(raised from </span>\n",
       "<span style=\"color: #000000; text-decoration-color: #000000; font-weight: bold\">/home/erniesg/.pyenv/versions/3.8.12/envs/lewagon/lib/python3.8/site-packages/ipywidgets/widgets/widget_output.py:1</span>\n",
       "<span style=\"color: #000000; text-decoration-color: #000000; font-weight: bold\">11)</span>\n",
       "</pre>\n"
      ],
      "text/plain": [
       "\u001b[1;33mDeprecationWarning: Kernel._parent_header is deprecated in ipykernel 6. Use .get_parent()\u001b[0m \u001b[1;30m(raised from \u001b[0m\n",
       "\u001b[1;30m/home/erniesg/.pyenv/versions/3.8.12/envs/lewagon/lib/python3.8/site-packages/ipywidgets/widgets/widget_output.py:1\u001b[0m\n",
       "\u001b[1;30m11)\u001b[0m\n"
      ]
     },
     "metadata": {},
     "output_type": "display_data"
    },
    {
     "data": {
      "text/html": [
       "<pre style=\"white-space:pre;overflow-x:auto;line-height:normal;font-family:Menlo,'DejaVu Sans Mono',consolas,'Courier New',monospace\"><span style=\"color: #808000; text-decoration-color: #808000; font-weight: bold\">DeprecationWarning: Kernel._parent_header is deprecated in ipykernel 6. Use .get_parent()</span> <span style=\"color: #000000; text-decoration-color: #000000; font-weight: bold\">(raised from </span>\n",
       "<span style=\"color: #000000; text-decoration-color: #000000; font-weight: bold\">/home/erniesg/.pyenv/versions/3.8.12/envs/lewagon/lib/python3.8/site-packages/ipywidgets/widgets/widget_output.py:1</span>\n",
       "<span style=\"color: #000000; text-decoration-color: #000000; font-weight: bold\">12)</span>\n",
       "</pre>\n"
      ],
      "text/plain": [
       "\u001b[1;33mDeprecationWarning: Kernel._parent_header is deprecated in ipykernel 6. Use .get_parent()\u001b[0m \u001b[1;30m(raised from \u001b[0m\n",
       "\u001b[1;30m/home/erniesg/.pyenv/versions/3.8.12/envs/lewagon/lib/python3.8/site-packages/ipywidgets/widgets/widget_output.py:1\u001b[0m\n",
       "\u001b[1;30m12)\u001b[0m\n"
      ]
     },
     "metadata": {},
     "output_type": "display_data"
    },
    {
     "data": {
      "text/html": [
       "<pre style=\"white-space:pre;overflow-x:auto;line-height:normal;font-family:Menlo,'DejaVu Sans Mono',consolas,'Courier New',monospace\"><span style=\"color: #808000; text-decoration-color: #808000; font-weight: bold\">DeprecationWarning: Kernel._parent_header is deprecated in ipykernel 6. Use .get_parent()</span> <span style=\"color: #000000; text-decoration-color: #000000; font-weight: bold\">(raised from </span>\n",
       "<span style=\"color: #000000; text-decoration-color: #000000; font-weight: bold\">/home/erniesg/.pyenv/versions/3.8.12/envs/lewagon/lib/python3.8/site-packages/ipywidgets/widgets/widget_output.py:1</span>\n",
       "<span style=\"color: #000000; text-decoration-color: #000000; font-weight: bold\">11)</span>\n",
       "</pre>\n"
      ],
      "text/plain": [
       "\u001b[1;33mDeprecationWarning: Kernel._parent_header is deprecated in ipykernel 6. Use .get_parent()\u001b[0m \u001b[1;30m(raised from \u001b[0m\n",
       "\u001b[1;30m/home/erniesg/.pyenv/versions/3.8.12/envs/lewagon/lib/python3.8/site-packages/ipywidgets/widgets/widget_output.py:1\u001b[0m\n",
       "\u001b[1;30m11)\u001b[0m\n"
      ]
     },
     "metadata": {},
     "output_type": "display_data"
    },
    {
     "data": {
      "text/html": [
       "<pre style=\"white-space:pre;overflow-x:auto;line-height:normal;font-family:Menlo,'DejaVu Sans Mono',consolas,'Courier New',monospace\"><span style=\"color: #808000; text-decoration-color: #808000; font-weight: bold\">DeprecationWarning: Kernel._parent_header is deprecated in ipykernel 6. Use .get_parent()</span> <span style=\"color: #000000; text-decoration-color: #000000; font-weight: bold\">(raised from </span>\n",
       "<span style=\"color: #000000; text-decoration-color: #000000; font-weight: bold\">/home/erniesg/.pyenv/versions/3.8.12/envs/lewagon/lib/python3.8/site-packages/ipywidgets/widgets/widget_output.py:1</span>\n",
       "<span style=\"color: #000000; text-decoration-color: #000000; font-weight: bold\">12)</span>\n",
       "</pre>\n"
      ],
      "text/plain": [
       "\u001b[1;33mDeprecationWarning: Kernel._parent_header is deprecated in ipykernel 6. Use .get_parent()\u001b[0m \u001b[1;30m(raised from \u001b[0m\n",
       "\u001b[1;30m/home/erniesg/.pyenv/versions/3.8.12/envs/lewagon/lib/python3.8/site-packages/ipywidgets/widgets/widget_output.py:1\u001b[0m\n",
       "\u001b[1;30m12)\u001b[0m\n"
      ]
     },
     "metadata": {},
     "output_type": "display_data"
    },
    {
     "data": {
      "text/html": [
       "<pre style=\"white-space:pre;overflow-x:auto;line-height:normal;font-family:Menlo,'DejaVu Sans Mono',consolas,'Courier New',monospace\"><span style=\"color: #808000; text-decoration-color: #808000; font-weight: bold\">DeprecationWarning: Kernel._parent_header is deprecated in ipykernel 6. Use .get_parent()</span> <span style=\"color: #000000; text-decoration-color: #000000; font-weight: bold\">(raised from </span>\n",
       "<span style=\"color: #000000; text-decoration-color: #000000; font-weight: bold\">/home/erniesg/.pyenv/versions/3.8.12/envs/lewagon/lib/python3.8/site-packages/ipywidgets/widgets/widget_output.py:1</span>\n",
       "<span style=\"color: #000000; text-decoration-color: #000000; font-weight: bold\">11)</span>\n",
       "</pre>\n"
      ],
      "text/plain": [
       "\u001b[1;33mDeprecationWarning: Kernel._parent_header is deprecated in ipykernel 6. Use .get_parent()\u001b[0m \u001b[1;30m(raised from \u001b[0m\n",
       "\u001b[1;30m/home/erniesg/.pyenv/versions/3.8.12/envs/lewagon/lib/python3.8/site-packages/ipywidgets/widgets/widget_output.py:1\u001b[0m\n",
       "\u001b[1;30m11)\u001b[0m\n"
      ]
     },
     "metadata": {},
     "output_type": "display_data"
    },
    {
     "data": {
      "text/html": [
       "<pre style=\"white-space:pre;overflow-x:auto;line-height:normal;font-family:Menlo,'DejaVu Sans Mono',consolas,'Courier New',monospace\"><span style=\"color: #808000; text-decoration-color: #808000; font-weight: bold\">DeprecationWarning: Kernel._parent_header is deprecated in ipykernel 6. Use .get_parent()</span> <span style=\"color: #000000; text-decoration-color: #000000; font-weight: bold\">(raised from </span>\n",
       "<span style=\"color: #000000; text-decoration-color: #000000; font-weight: bold\">/home/erniesg/.pyenv/versions/3.8.12/envs/lewagon/lib/python3.8/site-packages/ipywidgets/widgets/widget_output.py:1</span>\n",
       "<span style=\"color: #000000; text-decoration-color: #000000; font-weight: bold\">12)</span>\n",
       "</pre>\n"
      ],
      "text/plain": [
       "\u001b[1;33mDeprecationWarning: Kernel._parent_header is deprecated in ipykernel 6. Use .get_parent()\u001b[0m \u001b[1;30m(raised from \u001b[0m\n",
       "\u001b[1;30m/home/erniesg/.pyenv/versions/3.8.12/envs/lewagon/lib/python3.8/site-packages/ipywidgets/widgets/widget_output.py:1\u001b[0m\n",
       "\u001b[1;30m12)\u001b[0m\n"
      ]
     },
     "metadata": {},
     "output_type": "display_data"
    },
    {
     "data": {
      "text/html": [
       "<pre style=\"white-space:pre;overflow-x:auto;line-height:normal;font-family:Menlo,'DejaVu Sans Mono',consolas,'Courier New',monospace\"><span style=\"color: #808000; text-decoration-color: #808000; font-weight: bold\">DeprecationWarning: Kernel._parent_header is deprecated in ipykernel 6. Use .get_parent()</span> <span style=\"color: #000000; text-decoration-color: #000000; font-weight: bold\">(raised from </span>\n",
       "<span style=\"color: #000000; text-decoration-color: #000000; font-weight: bold\">/home/erniesg/.pyenv/versions/3.8.12/envs/lewagon/lib/python3.8/site-packages/ipywidgets/widgets/widget_output.py:1</span>\n",
       "<span style=\"color: #000000; text-decoration-color: #000000; font-weight: bold\">11)</span>\n",
       "</pre>\n"
      ],
      "text/plain": [
       "\u001b[1;33mDeprecationWarning: Kernel._parent_header is deprecated in ipykernel 6. Use .get_parent()\u001b[0m \u001b[1;30m(raised from \u001b[0m\n",
       "\u001b[1;30m/home/erniesg/.pyenv/versions/3.8.12/envs/lewagon/lib/python3.8/site-packages/ipywidgets/widgets/widget_output.py:1\u001b[0m\n",
       "\u001b[1;30m11)\u001b[0m\n"
      ]
     },
     "metadata": {},
     "output_type": "display_data"
    },
    {
     "data": {
      "text/html": [
       "<pre style=\"white-space:pre;overflow-x:auto;line-height:normal;font-family:Menlo,'DejaVu Sans Mono',consolas,'Courier New',monospace\"><span style=\"color: #808000; text-decoration-color: #808000; font-weight: bold\">DeprecationWarning: Kernel._parent_header is deprecated in ipykernel 6. Use .get_parent()</span> <span style=\"color: #000000; text-decoration-color: #000000; font-weight: bold\">(raised from </span>\n",
       "<span style=\"color: #000000; text-decoration-color: #000000; font-weight: bold\">/home/erniesg/.pyenv/versions/3.8.12/envs/lewagon/lib/python3.8/site-packages/ipywidgets/widgets/widget_output.py:1</span>\n",
       "<span style=\"color: #000000; text-decoration-color: #000000; font-weight: bold\">12)</span>\n",
       "</pre>\n"
      ],
      "text/plain": [
       "\u001b[1;33mDeprecationWarning: Kernel._parent_header is deprecated in ipykernel 6. Use .get_parent()\u001b[0m \u001b[1;30m(raised from \u001b[0m\n",
       "\u001b[1;30m/home/erniesg/.pyenv/versions/3.8.12/envs/lewagon/lib/python3.8/site-packages/ipywidgets/widgets/widget_output.py:1\u001b[0m\n",
       "\u001b[1;30m12)\u001b[0m\n"
      ]
     },
     "metadata": {},
     "output_type": "display_data"
    },
    {
     "data": {
      "text/html": [
       "<pre style=\"white-space:pre;overflow-x:auto;line-height:normal;font-family:Menlo,'DejaVu Sans Mono',consolas,'Courier New',monospace\"><span style=\"color: #808000; text-decoration-color: #808000; font-weight: bold\">DeprecationWarning: Kernel._parent_header is deprecated in ipykernel 6. Use .get_parent()</span> <span style=\"color: #000000; text-decoration-color: #000000; font-weight: bold\">(raised from </span>\n",
       "<span style=\"color: #000000; text-decoration-color: #000000; font-weight: bold\">/home/erniesg/.pyenv/versions/3.8.12/envs/lewagon/lib/python3.8/site-packages/ipywidgets/widgets/widget_output.py:1</span>\n",
       "<span style=\"color: #000000; text-decoration-color: #000000; font-weight: bold\">11)</span>\n",
       "</pre>\n"
      ],
      "text/plain": [
       "\u001b[1;33mDeprecationWarning: Kernel._parent_header is deprecated in ipykernel 6. Use .get_parent()\u001b[0m \u001b[1;30m(raised from \u001b[0m\n",
       "\u001b[1;30m/home/erniesg/.pyenv/versions/3.8.12/envs/lewagon/lib/python3.8/site-packages/ipywidgets/widgets/widget_output.py:1\u001b[0m\n",
       "\u001b[1;30m11)\u001b[0m\n"
      ]
     },
     "metadata": {},
     "output_type": "display_data"
    },
    {
     "data": {
      "text/html": [
       "<pre style=\"white-space:pre;overflow-x:auto;line-height:normal;font-family:Menlo,'DejaVu Sans Mono',consolas,'Courier New',monospace\"><span style=\"color: #808000; text-decoration-color: #808000; font-weight: bold\">DeprecationWarning: Kernel._parent_header is deprecated in ipykernel 6. Use .get_parent()</span> <span style=\"color: #000000; text-decoration-color: #000000; font-weight: bold\">(raised from </span>\n",
       "<span style=\"color: #000000; text-decoration-color: #000000; font-weight: bold\">/home/erniesg/.pyenv/versions/3.8.12/envs/lewagon/lib/python3.8/site-packages/ipywidgets/widgets/widget_output.py:1</span>\n",
       "<span style=\"color: #000000; text-decoration-color: #000000; font-weight: bold\">12)</span>\n",
       "</pre>\n"
      ],
      "text/plain": [
       "\u001b[1;33mDeprecationWarning: Kernel._parent_header is deprecated in ipykernel 6. Use .get_parent()\u001b[0m \u001b[1;30m(raised from \u001b[0m\n",
       "\u001b[1;30m/home/erniesg/.pyenv/versions/3.8.12/envs/lewagon/lib/python3.8/site-packages/ipywidgets/widgets/widget_output.py:1\u001b[0m\n",
       "\u001b[1;30m12)\u001b[0m\n"
      ]
     },
     "metadata": {},
     "output_type": "display_data"
    },
    {
     "data": {
      "text/html": [
       "<pre style=\"white-space:pre;overflow-x:auto;line-height:normal;font-family:Menlo,'DejaVu Sans Mono',consolas,'Courier New',monospace\"><span style=\"color: #808000; text-decoration-color: #808000; font-weight: bold\">DeprecationWarning: Kernel._parent_header is deprecated in ipykernel 6. Use .get_parent()</span> <span style=\"color: #000000; text-decoration-color: #000000; font-weight: bold\">(raised from </span>\n",
       "<span style=\"color: #000000; text-decoration-color: #000000; font-weight: bold\">/home/erniesg/.pyenv/versions/3.8.12/envs/lewagon/lib/python3.8/site-packages/ipywidgets/widgets/widget_output.py:1</span>\n",
       "<span style=\"color: #000000; text-decoration-color: #000000; font-weight: bold\">11)</span>\n",
       "</pre>\n"
      ],
      "text/plain": [
       "\u001b[1;33mDeprecationWarning: Kernel._parent_header is deprecated in ipykernel 6. Use .get_parent()\u001b[0m \u001b[1;30m(raised from \u001b[0m\n",
       "\u001b[1;30m/home/erniesg/.pyenv/versions/3.8.12/envs/lewagon/lib/python3.8/site-packages/ipywidgets/widgets/widget_output.py:1\u001b[0m\n",
       "\u001b[1;30m11)\u001b[0m\n"
      ]
     },
     "metadata": {},
     "output_type": "display_data"
    },
    {
     "data": {
      "text/html": [
       "<pre style=\"white-space:pre;overflow-x:auto;line-height:normal;font-family:Menlo,'DejaVu Sans Mono',consolas,'Courier New',monospace\"><span style=\"color: #808000; text-decoration-color: #808000; font-weight: bold\">DeprecationWarning: Kernel._parent_header is deprecated in ipykernel 6. Use .get_parent()</span> <span style=\"color: #000000; text-decoration-color: #000000; font-weight: bold\">(raised from </span>\n",
       "<span style=\"color: #000000; text-decoration-color: #000000; font-weight: bold\">/home/erniesg/.pyenv/versions/3.8.12/envs/lewagon/lib/python3.8/site-packages/ipywidgets/widgets/widget_output.py:1</span>\n",
       "<span style=\"color: #000000; text-decoration-color: #000000; font-weight: bold\">12)</span>\n",
       "</pre>\n"
      ],
      "text/plain": [
       "\u001b[1;33mDeprecationWarning: Kernel._parent_header is deprecated in ipykernel 6. Use .get_parent()\u001b[0m \u001b[1;30m(raised from \u001b[0m\n",
       "\u001b[1;30m/home/erniesg/.pyenv/versions/3.8.12/envs/lewagon/lib/python3.8/site-packages/ipywidgets/widgets/widget_output.py:1\u001b[0m\n",
       "\u001b[1;30m12)\u001b[0m\n"
      ]
     },
     "metadata": {},
     "output_type": "display_data"
    },
    {
     "data": {
      "text/html": [
       "<pre style=\"white-space:pre;overflow-x:auto;line-height:normal;font-family:Menlo,'DejaVu Sans Mono',consolas,'Courier New',monospace\"><span style=\"color: #808000; text-decoration-color: #808000; font-weight: bold\">DeprecationWarning: Kernel._parent_header is deprecated in ipykernel 6. Use .get_parent()</span> <span style=\"color: #000000; text-decoration-color: #000000; font-weight: bold\">(raised from </span>\n",
       "<span style=\"color: #000000; text-decoration-color: #000000; font-weight: bold\">/home/erniesg/.pyenv/versions/3.8.12/envs/lewagon/lib/python3.8/site-packages/ipywidgets/widgets/widget_output.py:1</span>\n",
       "<span style=\"color: #000000; text-decoration-color: #000000; font-weight: bold\">11)</span>\n",
       "</pre>\n"
      ],
      "text/plain": [
       "\u001b[1;33mDeprecationWarning: Kernel._parent_header is deprecated in ipykernel 6. Use .get_parent()\u001b[0m \u001b[1;30m(raised from \u001b[0m\n",
       "\u001b[1;30m/home/erniesg/.pyenv/versions/3.8.12/envs/lewagon/lib/python3.8/site-packages/ipywidgets/widgets/widget_output.py:1\u001b[0m\n",
       "\u001b[1;30m11)\u001b[0m\n"
      ]
     },
     "metadata": {},
     "output_type": "display_data"
    },
    {
     "data": {
      "text/html": [
       "<pre style=\"white-space:pre;overflow-x:auto;line-height:normal;font-family:Menlo,'DejaVu Sans Mono',consolas,'Courier New',monospace\"><span style=\"color: #808000; text-decoration-color: #808000; font-weight: bold\">DeprecationWarning: Kernel._parent_header is deprecated in ipykernel 6. Use .get_parent()</span> <span style=\"color: #000000; text-decoration-color: #000000; font-weight: bold\">(raised from </span>\n",
       "<span style=\"color: #000000; text-decoration-color: #000000; font-weight: bold\">/home/erniesg/.pyenv/versions/3.8.12/envs/lewagon/lib/python3.8/site-packages/ipywidgets/widgets/widget_output.py:1</span>\n",
       "<span style=\"color: #000000; text-decoration-color: #000000; font-weight: bold\">12)</span>\n",
       "</pre>\n"
      ],
      "text/plain": [
       "\u001b[1;33mDeprecationWarning: Kernel._parent_header is deprecated in ipykernel 6. Use .get_parent()\u001b[0m \u001b[1;30m(raised from \u001b[0m\n",
       "\u001b[1;30m/home/erniesg/.pyenv/versions/3.8.12/envs/lewagon/lib/python3.8/site-packages/ipywidgets/widgets/widget_output.py:1\u001b[0m\n",
       "\u001b[1;30m12)\u001b[0m\n"
      ]
     },
     "metadata": {},
     "output_type": "display_data"
    },
    {
     "data": {
      "text/html": [
       "<pre style=\"white-space:pre;overflow-x:auto;line-height:normal;font-family:Menlo,'DejaVu Sans Mono',consolas,'Courier New',monospace\"><span style=\"color: #808000; text-decoration-color: #808000; font-weight: bold\">DeprecationWarning: Kernel._parent_header is deprecated in ipykernel 6. Use .get_parent()</span> <span style=\"color: #000000; text-decoration-color: #000000; font-weight: bold\">(raised from </span>\n",
       "<span style=\"color: #000000; text-decoration-color: #000000; font-weight: bold\">/home/erniesg/.pyenv/versions/3.8.12/envs/lewagon/lib/python3.8/site-packages/ipywidgets/widgets/widget_output.py:1</span>\n",
       "<span style=\"color: #000000; text-decoration-color: #000000; font-weight: bold\">11)</span>\n",
       "</pre>\n"
      ],
      "text/plain": [
       "\u001b[1;33mDeprecationWarning: Kernel._parent_header is deprecated in ipykernel 6. Use .get_parent()\u001b[0m \u001b[1;30m(raised from \u001b[0m\n",
       "\u001b[1;30m/home/erniesg/.pyenv/versions/3.8.12/envs/lewagon/lib/python3.8/site-packages/ipywidgets/widgets/widget_output.py:1\u001b[0m\n",
       "\u001b[1;30m11)\u001b[0m\n"
      ]
     },
     "metadata": {},
     "output_type": "display_data"
    },
    {
     "data": {
      "text/html": [
       "<pre style=\"white-space:pre;overflow-x:auto;line-height:normal;font-family:Menlo,'DejaVu Sans Mono',consolas,'Courier New',monospace\"><span style=\"color: #808000; text-decoration-color: #808000; font-weight: bold\">DeprecationWarning: Kernel._parent_header is deprecated in ipykernel 6. Use .get_parent()</span> <span style=\"color: #000000; text-decoration-color: #000000; font-weight: bold\">(raised from </span>\n",
       "<span style=\"color: #000000; text-decoration-color: #000000; font-weight: bold\">/home/erniesg/.pyenv/versions/3.8.12/envs/lewagon/lib/python3.8/site-packages/ipywidgets/widgets/widget_output.py:1</span>\n",
       "<span style=\"color: #000000; text-decoration-color: #000000; font-weight: bold\">12)</span>\n",
       "</pre>\n"
      ],
      "text/plain": [
       "\u001b[1;33mDeprecationWarning: Kernel._parent_header is deprecated in ipykernel 6. Use .get_parent()\u001b[0m \u001b[1;30m(raised from \u001b[0m\n",
       "\u001b[1;30m/home/erniesg/.pyenv/versions/3.8.12/envs/lewagon/lib/python3.8/site-packages/ipywidgets/widgets/widget_output.py:1\u001b[0m\n",
       "\u001b[1;30m12)\u001b[0m\n"
      ]
     },
     "metadata": {},
     "output_type": "display_data"
    },
    {
     "data": {
      "text/html": [
       "<pre style=\"white-space:pre;overflow-x:auto;line-height:normal;font-family:Menlo,'DejaVu Sans Mono',consolas,'Courier New',monospace\"><span style=\"color: #808000; text-decoration-color: #808000; font-weight: bold\">DeprecationWarning: Kernel._parent_header is deprecated in ipykernel 6. Use .get_parent()</span> <span style=\"color: #000000; text-decoration-color: #000000; font-weight: bold\">(raised from </span>\n",
       "<span style=\"color: #000000; text-decoration-color: #000000; font-weight: bold\">/home/erniesg/.pyenv/versions/3.8.12/envs/lewagon/lib/python3.8/site-packages/ipywidgets/widgets/widget_output.py:1</span>\n",
       "<span style=\"color: #000000; text-decoration-color: #000000; font-weight: bold\">11)</span>\n",
       "</pre>\n"
      ],
      "text/plain": [
       "\u001b[1;33mDeprecationWarning: Kernel._parent_header is deprecated in ipykernel 6. Use .get_parent()\u001b[0m \u001b[1;30m(raised from \u001b[0m\n",
       "\u001b[1;30m/home/erniesg/.pyenv/versions/3.8.12/envs/lewagon/lib/python3.8/site-packages/ipywidgets/widgets/widget_output.py:1\u001b[0m\n",
       "\u001b[1;30m11)\u001b[0m\n"
      ]
     },
     "metadata": {},
     "output_type": "display_data"
    },
    {
     "data": {
      "text/html": [
       "<pre style=\"white-space:pre;overflow-x:auto;line-height:normal;font-family:Menlo,'DejaVu Sans Mono',consolas,'Courier New',monospace\"><span style=\"color: #808000; text-decoration-color: #808000; font-weight: bold\">DeprecationWarning: Kernel._parent_header is deprecated in ipykernel 6. Use .get_parent()</span> <span style=\"color: #000000; text-decoration-color: #000000; font-weight: bold\">(raised from </span>\n",
       "<span style=\"color: #000000; text-decoration-color: #000000; font-weight: bold\">/home/erniesg/.pyenv/versions/3.8.12/envs/lewagon/lib/python3.8/site-packages/ipywidgets/widgets/widget_output.py:1</span>\n",
       "<span style=\"color: #000000; text-decoration-color: #000000; font-weight: bold\">12)</span>\n",
       "</pre>\n"
      ],
      "text/plain": [
       "\u001b[1;33mDeprecationWarning: Kernel._parent_header is deprecated in ipykernel 6. Use .get_parent()\u001b[0m \u001b[1;30m(raised from \u001b[0m\n",
       "\u001b[1;30m/home/erniesg/.pyenv/versions/3.8.12/envs/lewagon/lib/python3.8/site-packages/ipywidgets/widgets/widget_output.py:1\u001b[0m\n",
       "\u001b[1;30m12)\u001b[0m\n"
      ]
     },
     "metadata": {},
     "output_type": "display_data"
    },
    {
     "data": {
      "text/html": [
       "<pre style=\"white-space:pre;overflow-x:auto;line-height:normal;font-family:Menlo,'DejaVu Sans Mono',consolas,'Courier New',monospace\"><span style=\"color: #808000; text-decoration-color: #808000; font-weight: bold\">DeprecationWarning: Kernel._parent_header is deprecated in ipykernel 6. Use .get_parent()</span> <span style=\"color: #000000; text-decoration-color: #000000; font-weight: bold\">(raised from </span>\n",
       "<span style=\"color: #000000; text-decoration-color: #000000; font-weight: bold\">/home/erniesg/.pyenv/versions/3.8.12/envs/lewagon/lib/python3.8/site-packages/ipywidgets/widgets/widget_output.py:1</span>\n",
       "<span style=\"color: #000000; text-decoration-color: #000000; font-weight: bold\">11)</span>\n",
       "</pre>\n"
      ],
      "text/plain": [
       "\u001b[1;33mDeprecationWarning: Kernel._parent_header is deprecated in ipykernel 6. Use .get_parent()\u001b[0m \u001b[1;30m(raised from \u001b[0m\n",
       "\u001b[1;30m/home/erniesg/.pyenv/versions/3.8.12/envs/lewagon/lib/python3.8/site-packages/ipywidgets/widgets/widget_output.py:1\u001b[0m\n",
       "\u001b[1;30m11)\u001b[0m\n"
      ]
     },
     "metadata": {},
     "output_type": "display_data"
    },
    {
     "data": {
      "text/html": [
       "<pre style=\"white-space:pre;overflow-x:auto;line-height:normal;font-family:Menlo,'DejaVu Sans Mono',consolas,'Courier New',monospace\"><span style=\"color: #808000; text-decoration-color: #808000; font-weight: bold\">DeprecationWarning: Kernel._parent_header is deprecated in ipykernel 6. Use .get_parent()</span> <span style=\"color: #000000; text-decoration-color: #000000; font-weight: bold\">(raised from </span>\n",
       "<span style=\"color: #000000; text-decoration-color: #000000; font-weight: bold\">/home/erniesg/.pyenv/versions/3.8.12/envs/lewagon/lib/python3.8/site-packages/ipywidgets/widgets/widget_output.py:1</span>\n",
       "<span style=\"color: #000000; text-decoration-color: #000000; font-weight: bold\">12)</span>\n",
       "</pre>\n"
      ],
      "text/plain": [
       "\u001b[1;33mDeprecationWarning: Kernel._parent_header is deprecated in ipykernel 6. Use .get_parent()\u001b[0m \u001b[1;30m(raised from \u001b[0m\n",
       "\u001b[1;30m/home/erniesg/.pyenv/versions/3.8.12/envs/lewagon/lib/python3.8/site-packages/ipywidgets/widgets/widget_output.py:1\u001b[0m\n",
       "\u001b[1;30m12)\u001b[0m\n"
      ]
     },
     "metadata": {},
     "output_type": "display_data"
    },
    {
     "data": {
      "text/html": [
       "<pre style=\"white-space:pre;overflow-x:auto;line-height:normal;font-family:Menlo,'DejaVu Sans Mono',consolas,'Courier New',monospace\"><span style=\"color: #808000; text-decoration-color: #808000; font-weight: bold\">DeprecationWarning: Kernel._parent_header is deprecated in ipykernel 6. Use .get_parent()</span> <span style=\"color: #000000; text-decoration-color: #000000; font-weight: bold\">(raised from </span>\n",
       "<span style=\"color: #000000; text-decoration-color: #000000; font-weight: bold\">/home/erniesg/.pyenv/versions/3.8.12/envs/lewagon/lib/python3.8/site-packages/ipywidgets/widgets/widget_output.py:1</span>\n",
       "<span style=\"color: #000000; text-decoration-color: #000000; font-weight: bold\">11)</span>\n",
       "</pre>\n"
      ],
      "text/plain": [
       "\u001b[1;33mDeprecationWarning: Kernel._parent_header is deprecated in ipykernel 6. Use .get_parent()\u001b[0m \u001b[1;30m(raised from \u001b[0m\n",
       "\u001b[1;30m/home/erniesg/.pyenv/versions/3.8.12/envs/lewagon/lib/python3.8/site-packages/ipywidgets/widgets/widget_output.py:1\u001b[0m\n",
       "\u001b[1;30m11)\u001b[0m\n"
      ]
     },
     "metadata": {},
     "output_type": "display_data"
    },
    {
     "data": {
      "text/html": [
       "<pre style=\"white-space:pre;overflow-x:auto;line-height:normal;font-family:Menlo,'DejaVu Sans Mono',consolas,'Courier New',monospace\"><span style=\"color: #808000; text-decoration-color: #808000; font-weight: bold\">DeprecationWarning: Kernel._parent_header is deprecated in ipykernel 6. Use .get_parent()</span> <span style=\"color: #000000; text-decoration-color: #000000; font-weight: bold\">(raised from </span>\n",
       "<span style=\"color: #000000; text-decoration-color: #000000; font-weight: bold\">/home/erniesg/.pyenv/versions/3.8.12/envs/lewagon/lib/python3.8/site-packages/ipywidgets/widgets/widget_output.py:1</span>\n",
       "<span style=\"color: #000000; text-decoration-color: #000000; font-weight: bold\">12)</span>\n",
       "</pre>\n"
      ],
      "text/plain": [
       "\u001b[1;33mDeprecationWarning: Kernel._parent_header is deprecated in ipykernel 6. Use .get_parent()\u001b[0m \u001b[1;30m(raised from \u001b[0m\n",
       "\u001b[1;30m/home/erniesg/.pyenv/versions/3.8.12/envs/lewagon/lib/python3.8/site-packages/ipywidgets/widgets/widget_output.py:1\u001b[0m\n",
       "\u001b[1;30m12)\u001b[0m\n"
      ]
     },
     "metadata": {},
     "output_type": "display_data"
    },
    {
     "data": {
      "text/html": [
       "<pre style=\"white-space:pre;overflow-x:auto;line-height:normal;font-family:Menlo,'DejaVu Sans Mono',consolas,'Courier New',monospace\"><span style=\"color: #808000; text-decoration-color: #808000; font-weight: bold\">DeprecationWarning: Kernel._parent_header is deprecated in ipykernel 6. Use .get_parent()</span> <span style=\"color: #000000; text-decoration-color: #000000; font-weight: bold\">(raised from </span>\n",
       "<span style=\"color: #000000; text-decoration-color: #000000; font-weight: bold\">/home/erniesg/.pyenv/versions/3.8.12/envs/lewagon/lib/python3.8/site-packages/ipywidgets/widgets/widget_output.py:1</span>\n",
       "<span style=\"color: #000000; text-decoration-color: #000000; font-weight: bold\">11)</span>\n",
       "</pre>\n"
      ],
      "text/plain": [
       "\u001b[1;33mDeprecationWarning: Kernel._parent_header is deprecated in ipykernel 6. Use .get_parent()\u001b[0m \u001b[1;30m(raised from \u001b[0m\n",
       "\u001b[1;30m/home/erniesg/.pyenv/versions/3.8.12/envs/lewagon/lib/python3.8/site-packages/ipywidgets/widgets/widget_output.py:1\u001b[0m\n",
       "\u001b[1;30m11)\u001b[0m\n"
      ]
     },
     "metadata": {},
     "output_type": "display_data"
    },
    {
     "data": {
      "text/html": [
       "<pre style=\"white-space:pre;overflow-x:auto;line-height:normal;font-family:Menlo,'DejaVu Sans Mono',consolas,'Courier New',monospace\"><span style=\"color: #808000; text-decoration-color: #808000; font-weight: bold\">DeprecationWarning: Kernel._parent_header is deprecated in ipykernel 6. Use .get_parent()</span> <span style=\"color: #000000; text-decoration-color: #000000; font-weight: bold\">(raised from </span>\n",
       "<span style=\"color: #000000; text-decoration-color: #000000; font-weight: bold\">/home/erniesg/.pyenv/versions/3.8.12/envs/lewagon/lib/python3.8/site-packages/ipywidgets/widgets/widget_output.py:1</span>\n",
       "<span style=\"color: #000000; text-decoration-color: #000000; font-weight: bold\">12)</span>\n",
       "</pre>\n"
      ],
      "text/plain": [
       "\u001b[1;33mDeprecationWarning: Kernel._parent_header is deprecated in ipykernel 6. Use .get_parent()\u001b[0m \u001b[1;30m(raised from \u001b[0m\n",
       "\u001b[1;30m/home/erniesg/.pyenv/versions/3.8.12/envs/lewagon/lib/python3.8/site-packages/ipywidgets/widgets/widget_output.py:1\u001b[0m\n",
       "\u001b[1;30m12)\u001b[0m\n"
      ]
     },
     "metadata": {},
     "output_type": "display_data"
    },
    {
     "data": {
      "text/html": [
       "<pre style=\"white-space:pre;overflow-x:auto;line-height:normal;font-family:Menlo,'DejaVu Sans Mono',consolas,'Courier New',monospace\"><span style=\"color: #808000; text-decoration-color: #808000; font-weight: bold\">DeprecationWarning: Kernel._parent_header is deprecated in ipykernel 6. Use .get_parent()</span> <span style=\"color: #000000; text-decoration-color: #000000; font-weight: bold\">(raised from </span>\n",
       "<span style=\"color: #000000; text-decoration-color: #000000; font-weight: bold\">/home/erniesg/.pyenv/versions/3.8.12/envs/lewagon/lib/python3.8/site-packages/ipywidgets/widgets/widget_output.py:1</span>\n",
       "<span style=\"color: #000000; text-decoration-color: #000000; font-weight: bold\">11)</span>\n",
       "</pre>\n"
      ],
      "text/plain": [
       "\u001b[1;33mDeprecationWarning: Kernel._parent_header is deprecated in ipykernel 6. Use .get_parent()\u001b[0m \u001b[1;30m(raised from \u001b[0m\n",
       "\u001b[1;30m/home/erniesg/.pyenv/versions/3.8.12/envs/lewagon/lib/python3.8/site-packages/ipywidgets/widgets/widget_output.py:1\u001b[0m\n",
       "\u001b[1;30m11)\u001b[0m\n"
      ]
     },
     "metadata": {},
     "output_type": "display_data"
    },
    {
     "data": {
      "text/html": [
       "<pre style=\"white-space:pre;overflow-x:auto;line-height:normal;font-family:Menlo,'DejaVu Sans Mono',consolas,'Courier New',monospace\"><span style=\"color: #808000; text-decoration-color: #808000; font-weight: bold\">DeprecationWarning: Kernel._parent_header is deprecated in ipykernel 6. Use .get_parent()</span> <span style=\"color: #000000; text-decoration-color: #000000; font-weight: bold\">(raised from </span>\n",
       "<span style=\"color: #000000; text-decoration-color: #000000; font-weight: bold\">/home/erniesg/.pyenv/versions/3.8.12/envs/lewagon/lib/python3.8/site-packages/ipywidgets/widgets/widget_output.py:1</span>\n",
       "<span style=\"color: #000000; text-decoration-color: #000000; font-weight: bold\">12)</span>\n",
       "</pre>\n"
      ],
      "text/plain": [
       "\u001b[1;33mDeprecationWarning: Kernel._parent_header is deprecated in ipykernel 6. Use .get_parent()\u001b[0m \u001b[1;30m(raised from \u001b[0m\n",
       "\u001b[1;30m/home/erniesg/.pyenv/versions/3.8.12/envs/lewagon/lib/python3.8/site-packages/ipywidgets/widgets/widget_output.py:1\u001b[0m\n",
       "\u001b[1;30m12)\u001b[0m\n"
      ]
     },
     "metadata": {},
     "output_type": "display_data"
    },
    {
     "data": {
      "text/html": [
       "<pre style=\"white-space:pre;overflow-x:auto;line-height:normal;font-family:Menlo,'DejaVu Sans Mono',consolas,'Courier New',monospace\"><span style=\"color: #808000; text-decoration-color: #808000; font-weight: bold\">DeprecationWarning: Kernel._parent_header is deprecated in ipykernel 6. Use .get_parent()</span> <span style=\"color: #000000; text-decoration-color: #000000; font-weight: bold\">(raised from </span>\n",
       "<span style=\"color: #000000; text-decoration-color: #000000; font-weight: bold\">/home/erniesg/.pyenv/versions/3.8.12/envs/lewagon/lib/python3.8/site-packages/ipywidgets/widgets/widget_output.py:1</span>\n",
       "<span style=\"color: #000000; text-decoration-color: #000000; font-weight: bold\">11)</span>\n",
       "</pre>\n"
      ],
      "text/plain": [
       "\u001b[1;33mDeprecationWarning: Kernel._parent_header is deprecated in ipykernel 6. Use .get_parent()\u001b[0m \u001b[1;30m(raised from \u001b[0m\n",
       "\u001b[1;30m/home/erniesg/.pyenv/versions/3.8.12/envs/lewagon/lib/python3.8/site-packages/ipywidgets/widgets/widget_output.py:1\u001b[0m\n",
       "\u001b[1;30m11)\u001b[0m\n"
      ]
     },
     "metadata": {},
     "output_type": "display_data"
    },
    {
     "data": {
      "text/html": [
       "<pre style=\"white-space:pre;overflow-x:auto;line-height:normal;font-family:Menlo,'DejaVu Sans Mono',consolas,'Courier New',monospace\"><span style=\"color: #808000; text-decoration-color: #808000; font-weight: bold\">DeprecationWarning: Kernel._parent_header is deprecated in ipykernel 6. Use .get_parent()</span> <span style=\"color: #000000; text-decoration-color: #000000; font-weight: bold\">(raised from </span>\n",
       "<span style=\"color: #000000; text-decoration-color: #000000; font-weight: bold\">/home/erniesg/.pyenv/versions/3.8.12/envs/lewagon/lib/python3.8/site-packages/ipywidgets/widgets/widget_output.py:1</span>\n",
       "<span style=\"color: #000000; text-decoration-color: #000000; font-weight: bold\">12)</span>\n",
       "</pre>\n"
      ],
      "text/plain": [
       "\u001b[1;33mDeprecationWarning: Kernel._parent_header is deprecated in ipykernel 6. Use .get_parent()\u001b[0m \u001b[1;30m(raised from \u001b[0m\n",
       "\u001b[1;30m/home/erniesg/.pyenv/versions/3.8.12/envs/lewagon/lib/python3.8/site-packages/ipywidgets/widgets/widget_output.py:1\u001b[0m\n",
       "\u001b[1;30m12)\u001b[0m\n"
      ]
     },
     "metadata": {},
     "output_type": "display_data"
    },
    {
     "data": {
      "text/html": [
       "<pre style=\"white-space:pre;overflow-x:auto;line-height:normal;font-family:Menlo,'DejaVu Sans Mono',consolas,'Courier New',monospace\"><span style=\"color: #808000; text-decoration-color: #808000; font-weight: bold\">DeprecationWarning: Kernel._parent_header is deprecated in ipykernel 6. Use .get_parent()</span> <span style=\"color: #000000; text-decoration-color: #000000; font-weight: bold\">(raised from </span>\n",
       "<span style=\"color: #000000; text-decoration-color: #000000; font-weight: bold\">/home/erniesg/.pyenv/versions/3.8.12/envs/lewagon/lib/python3.8/site-packages/ipywidgets/widgets/widget_output.py:1</span>\n",
       "<span style=\"color: #000000; text-decoration-color: #000000; font-weight: bold\">11)</span>\n",
       "</pre>\n"
      ],
      "text/plain": [
       "\u001b[1;33mDeprecationWarning: Kernel._parent_header is deprecated in ipykernel 6. Use .get_parent()\u001b[0m \u001b[1;30m(raised from \u001b[0m\n",
       "\u001b[1;30m/home/erniesg/.pyenv/versions/3.8.12/envs/lewagon/lib/python3.8/site-packages/ipywidgets/widgets/widget_output.py:1\u001b[0m\n",
       "\u001b[1;30m11)\u001b[0m\n"
      ]
     },
     "metadata": {},
     "output_type": "display_data"
    },
    {
     "data": {
      "text/html": [
       "<pre style=\"white-space:pre;overflow-x:auto;line-height:normal;font-family:Menlo,'DejaVu Sans Mono',consolas,'Courier New',monospace\"><span style=\"color: #808000; text-decoration-color: #808000; font-weight: bold\">DeprecationWarning: Kernel._parent_header is deprecated in ipykernel 6. Use .get_parent()</span> <span style=\"color: #000000; text-decoration-color: #000000; font-weight: bold\">(raised from </span>\n",
       "<span style=\"color: #000000; text-decoration-color: #000000; font-weight: bold\">/home/erniesg/.pyenv/versions/3.8.12/envs/lewagon/lib/python3.8/site-packages/ipywidgets/widgets/widget_output.py:1</span>\n",
       "<span style=\"color: #000000; text-decoration-color: #000000; font-weight: bold\">12)</span>\n",
       "</pre>\n"
      ],
      "text/plain": [
       "\u001b[1;33mDeprecationWarning: Kernel._parent_header is deprecated in ipykernel 6. Use .get_parent()\u001b[0m \u001b[1;30m(raised from \u001b[0m\n",
       "\u001b[1;30m/home/erniesg/.pyenv/versions/3.8.12/envs/lewagon/lib/python3.8/site-packages/ipywidgets/widgets/widget_output.py:1\u001b[0m\n",
       "\u001b[1;30m12)\u001b[0m\n"
      ]
     },
     "metadata": {},
     "output_type": "display_data"
    },
    {
     "data": {
      "text/html": [
       "<pre style=\"white-space:pre;overflow-x:auto;line-height:normal;font-family:Menlo,'DejaVu Sans Mono',consolas,'Courier New',monospace\"><span style=\"color: #808000; text-decoration-color: #808000; font-weight: bold\">DeprecationWarning: Kernel._parent_header is deprecated in ipykernel 6. Use .get_parent()</span> <span style=\"color: #000000; text-decoration-color: #000000; font-weight: bold\">(raised from </span>\n",
       "<span style=\"color: #000000; text-decoration-color: #000000; font-weight: bold\">/home/erniesg/.pyenv/versions/3.8.12/envs/lewagon/lib/python3.8/site-packages/ipywidgets/widgets/widget_output.py:1</span>\n",
       "<span style=\"color: #000000; text-decoration-color: #000000; font-weight: bold\">11)</span>\n",
       "</pre>\n"
      ],
      "text/plain": [
       "\u001b[1;33mDeprecationWarning: Kernel._parent_header is deprecated in ipykernel 6. Use .get_parent()\u001b[0m \u001b[1;30m(raised from \u001b[0m\n",
       "\u001b[1;30m/home/erniesg/.pyenv/versions/3.8.12/envs/lewagon/lib/python3.8/site-packages/ipywidgets/widgets/widget_output.py:1\u001b[0m\n",
       "\u001b[1;30m11)\u001b[0m\n"
      ]
     },
     "metadata": {},
     "output_type": "display_data"
    },
    {
     "data": {
      "text/html": [
       "<pre style=\"white-space:pre;overflow-x:auto;line-height:normal;font-family:Menlo,'DejaVu Sans Mono',consolas,'Courier New',monospace\"><span style=\"color: #808000; text-decoration-color: #808000; font-weight: bold\">DeprecationWarning: Kernel._parent_header is deprecated in ipykernel 6. Use .get_parent()</span> <span style=\"color: #000000; text-decoration-color: #000000; font-weight: bold\">(raised from </span>\n",
       "<span style=\"color: #000000; text-decoration-color: #000000; font-weight: bold\">/home/erniesg/.pyenv/versions/3.8.12/envs/lewagon/lib/python3.8/site-packages/ipywidgets/widgets/widget_output.py:1</span>\n",
       "<span style=\"color: #000000; text-decoration-color: #000000; font-weight: bold\">12)</span>\n",
       "</pre>\n"
      ],
      "text/plain": [
       "\u001b[1;33mDeprecationWarning: Kernel._parent_header is deprecated in ipykernel 6. Use .get_parent()\u001b[0m \u001b[1;30m(raised from \u001b[0m\n",
       "\u001b[1;30m/home/erniesg/.pyenv/versions/3.8.12/envs/lewagon/lib/python3.8/site-packages/ipywidgets/widgets/widget_output.py:1\u001b[0m\n",
       "\u001b[1;30m12)\u001b[0m\n"
      ]
     },
     "metadata": {},
     "output_type": "display_data"
    },
    {
     "data": {
      "text/html": [
       "<pre style=\"white-space:pre;overflow-x:auto;line-height:normal;font-family:Menlo,'DejaVu Sans Mono',consolas,'Courier New',monospace\"><span style=\"color: #808000; text-decoration-color: #808000; font-weight: bold\">DeprecationWarning: Kernel._parent_header is deprecated in ipykernel 6. Use .get_parent()</span> <span style=\"color: #000000; text-decoration-color: #000000; font-weight: bold\">(raised from </span>\n",
       "<span style=\"color: #000000; text-decoration-color: #000000; font-weight: bold\">/home/erniesg/.pyenv/versions/3.8.12/envs/lewagon/lib/python3.8/site-packages/ipywidgets/widgets/widget_output.py:1</span>\n",
       "<span style=\"color: #000000; text-decoration-color: #000000; font-weight: bold\">11)</span>\n",
       "</pre>\n"
      ],
      "text/plain": [
       "\u001b[1;33mDeprecationWarning: Kernel._parent_header is deprecated in ipykernel 6. Use .get_parent()\u001b[0m \u001b[1;30m(raised from \u001b[0m\n",
       "\u001b[1;30m/home/erniesg/.pyenv/versions/3.8.12/envs/lewagon/lib/python3.8/site-packages/ipywidgets/widgets/widget_output.py:1\u001b[0m\n",
       "\u001b[1;30m11)\u001b[0m\n"
      ]
     },
     "metadata": {},
     "output_type": "display_data"
    },
    {
     "data": {
      "text/html": [
       "<pre style=\"white-space:pre;overflow-x:auto;line-height:normal;font-family:Menlo,'DejaVu Sans Mono',consolas,'Courier New',monospace\"><span style=\"color: #808000; text-decoration-color: #808000; font-weight: bold\">DeprecationWarning: Kernel._parent_header is deprecated in ipykernel 6. Use .get_parent()</span> <span style=\"color: #000000; text-decoration-color: #000000; font-weight: bold\">(raised from </span>\n",
       "<span style=\"color: #000000; text-decoration-color: #000000; font-weight: bold\">/home/erniesg/.pyenv/versions/3.8.12/envs/lewagon/lib/python3.8/site-packages/ipywidgets/widgets/widget_output.py:1</span>\n",
       "<span style=\"color: #000000; text-decoration-color: #000000; font-weight: bold\">12)</span>\n",
       "</pre>\n"
      ],
      "text/plain": [
       "\u001b[1;33mDeprecationWarning: Kernel._parent_header is deprecated in ipykernel 6. Use .get_parent()\u001b[0m \u001b[1;30m(raised from \u001b[0m\n",
       "\u001b[1;30m/home/erniesg/.pyenv/versions/3.8.12/envs/lewagon/lib/python3.8/site-packages/ipywidgets/widgets/widget_output.py:1\u001b[0m\n",
       "\u001b[1;30m12)\u001b[0m\n"
      ]
     },
     "metadata": {},
     "output_type": "display_data"
    },
    {
     "data": {
      "text/html": [
       "<pre style=\"white-space:pre;overflow-x:auto;line-height:normal;font-family:Menlo,'DejaVu Sans Mono',consolas,'Courier New',monospace\"><span style=\"color: #808000; text-decoration-color: #808000; font-weight: bold\">DeprecationWarning: Kernel._parent_header is deprecated in ipykernel 6. Use .get_parent()</span> <span style=\"color: #000000; text-decoration-color: #000000; font-weight: bold\">(raised from </span>\n",
       "<span style=\"color: #000000; text-decoration-color: #000000; font-weight: bold\">/home/erniesg/.pyenv/versions/3.8.12/envs/lewagon/lib/python3.8/site-packages/ipywidgets/widgets/widget_output.py:1</span>\n",
       "<span style=\"color: #000000; text-decoration-color: #000000; font-weight: bold\">11)</span>\n",
       "</pre>\n"
      ],
      "text/plain": [
       "\u001b[1;33mDeprecationWarning: Kernel._parent_header is deprecated in ipykernel 6. Use .get_parent()\u001b[0m \u001b[1;30m(raised from \u001b[0m\n",
       "\u001b[1;30m/home/erniesg/.pyenv/versions/3.8.12/envs/lewagon/lib/python3.8/site-packages/ipywidgets/widgets/widget_output.py:1\u001b[0m\n",
       "\u001b[1;30m11)\u001b[0m\n"
      ]
     },
     "metadata": {},
     "output_type": "display_data"
    },
    {
     "data": {
      "text/html": [
       "<pre style=\"white-space:pre;overflow-x:auto;line-height:normal;font-family:Menlo,'DejaVu Sans Mono',consolas,'Courier New',monospace\"><span style=\"color: #808000; text-decoration-color: #808000; font-weight: bold\">DeprecationWarning: Kernel._parent_header is deprecated in ipykernel 6. Use .get_parent()</span> <span style=\"color: #000000; text-decoration-color: #000000; font-weight: bold\">(raised from </span>\n",
       "<span style=\"color: #000000; text-decoration-color: #000000; font-weight: bold\">/home/erniesg/.pyenv/versions/3.8.12/envs/lewagon/lib/python3.8/site-packages/ipywidgets/widgets/widget_output.py:1</span>\n",
       "<span style=\"color: #000000; text-decoration-color: #000000; font-weight: bold\">12)</span>\n",
       "</pre>\n"
      ],
      "text/plain": [
       "\u001b[1;33mDeprecationWarning: Kernel._parent_header is deprecated in ipykernel 6. Use .get_parent()\u001b[0m \u001b[1;30m(raised from \u001b[0m\n",
       "\u001b[1;30m/home/erniesg/.pyenv/versions/3.8.12/envs/lewagon/lib/python3.8/site-packages/ipywidgets/widgets/widget_output.py:1\u001b[0m\n",
       "\u001b[1;30m12)\u001b[0m\n"
      ]
     },
     "metadata": {},
     "output_type": "display_data"
    },
    {
     "data": {
      "text/html": [
       "<pre style=\"white-space:pre;overflow-x:auto;line-height:normal;font-family:Menlo,'DejaVu Sans Mono',consolas,'Courier New',monospace\"><span style=\"color: #808000; text-decoration-color: #808000; font-weight: bold\">DeprecationWarning: Kernel._parent_header is deprecated in ipykernel 6. Use .get_parent()</span> <span style=\"color: #000000; text-decoration-color: #000000; font-weight: bold\">(raised from </span>\n",
       "<span style=\"color: #000000; text-decoration-color: #000000; font-weight: bold\">/home/erniesg/.pyenv/versions/3.8.12/envs/lewagon/lib/python3.8/site-packages/ipywidgets/widgets/widget_output.py:1</span>\n",
       "<span style=\"color: #000000; text-decoration-color: #000000; font-weight: bold\">11)</span>\n",
       "</pre>\n"
      ],
      "text/plain": [
       "\u001b[1;33mDeprecationWarning: Kernel._parent_header is deprecated in ipykernel 6. Use .get_parent()\u001b[0m \u001b[1;30m(raised from \u001b[0m\n",
       "\u001b[1;30m/home/erniesg/.pyenv/versions/3.8.12/envs/lewagon/lib/python3.8/site-packages/ipywidgets/widgets/widget_output.py:1\u001b[0m\n",
       "\u001b[1;30m11)\u001b[0m\n"
      ]
     },
     "metadata": {},
     "output_type": "display_data"
    },
    {
     "data": {
      "text/html": [
       "<pre style=\"white-space:pre;overflow-x:auto;line-height:normal;font-family:Menlo,'DejaVu Sans Mono',consolas,'Courier New',monospace\"><span style=\"color: #808000; text-decoration-color: #808000; font-weight: bold\">DeprecationWarning: Kernel._parent_header is deprecated in ipykernel 6. Use .get_parent()</span> <span style=\"color: #000000; text-decoration-color: #000000; font-weight: bold\">(raised from </span>\n",
       "<span style=\"color: #000000; text-decoration-color: #000000; font-weight: bold\">/home/erniesg/.pyenv/versions/3.8.12/envs/lewagon/lib/python3.8/site-packages/ipywidgets/widgets/widget_output.py:1</span>\n",
       "<span style=\"color: #000000; text-decoration-color: #000000; font-weight: bold\">12)</span>\n",
       "</pre>\n"
      ],
      "text/plain": [
       "\u001b[1;33mDeprecationWarning: Kernel._parent_header is deprecated in ipykernel 6. Use .get_parent()\u001b[0m \u001b[1;30m(raised from \u001b[0m\n",
       "\u001b[1;30m/home/erniesg/.pyenv/versions/3.8.12/envs/lewagon/lib/python3.8/site-packages/ipywidgets/widgets/widget_output.py:1\u001b[0m\n",
       "\u001b[1;30m12)\u001b[0m\n"
      ]
     },
     "metadata": {},
     "output_type": "display_data"
    },
    {
     "data": {
      "text/html": [
       "<pre style=\"white-space:pre;overflow-x:auto;line-height:normal;font-family:Menlo,'DejaVu Sans Mono',consolas,'Courier New',monospace\"><span style=\"color: #808000; text-decoration-color: #808000; font-weight: bold\">DeprecationWarning: Kernel._parent_header is deprecated in ipykernel 6. Use .get_parent()</span> <span style=\"color: #000000; text-decoration-color: #000000; font-weight: bold\">(raised from </span>\n",
       "<span style=\"color: #000000; text-decoration-color: #000000; font-weight: bold\">/home/erniesg/.pyenv/versions/3.8.12/envs/lewagon/lib/python3.8/site-packages/ipywidgets/widgets/widget_output.py:1</span>\n",
       "<span style=\"color: #000000; text-decoration-color: #000000; font-weight: bold\">11)</span>\n",
       "</pre>\n"
      ],
      "text/plain": [
       "\u001b[1;33mDeprecationWarning: Kernel._parent_header is deprecated in ipykernel 6. Use .get_parent()\u001b[0m \u001b[1;30m(raised from \u001b[0m\n",
       "\u001b[1;30m/home/erniesg/.pyenv/versions/3.8.12/envs/lewagon/lib/python3.8/site-packages/ipywidgets/widgets/widget_output.py:1\u001b[0m\n",
       "\u001b[1;30m11)\u001b[0m\n"
      ]
     },
     "metadata": {},
     "output_type": "display_data"
    },
    {
     "data": {
      "text/html": [
       "<pre style=\"white-space:pre;overflow-x:auto;line-height:normal;font-family:Menlo,'DejaVu Sans Mono',consolas,'Courier New',monospace\"><span style=\"color: #808000; text-decoration-color: #808000; font-weight: bold\">DeprecationWarning: Kernel._parent_header is deprecated in ipykernel 6. Use .get_parent()</span> <span style=\"color: #000000; text-decoration-color: #000000; font-weight: bold\">(raised from </span>\n",
       "<span style=\"color: #000000; text-decoration-color: #000000; font-weight: bold\">/home/erniesg/.pyenv/versions/3.8.12/envs/lewagon/lib/python3.8/site-packages/ipywidgets/widgets/widget_output.py:1</span>\n",
       "<span style=\"color: #000000; text-decoration-color: #000000; font-weight: bold\">12)</span>\n",
       "</pre>\n"
      ],
      "text/plain": [
       "\u001b[1;33mDeprecationWarning: Kernel._parent_header is deprecated in ipykernel 6. Use .get_parent()\u001b[0m \u001b[1;30m(raised from \u001b[0m\n",
       "\u001b[1;30m/home/erniesg/.pyenv/versions/3.8.12/envs/lewagon/lib/python3.8/site-packages/ipywidgets/widgets/widget_output.py:1\u001b[0m\n",
       "\u001b[1;30m12)\u001b[0m\n"
      ]
     },
     "metadata": {},
     "output_type": "display_data"
    },
    {
     "data": {
      "text/html": [
       "<pre style=\"white-space:pre;overflow-x:auto;line-height:normal;font-family:Menlo,'DejaVu Sans Mono',consolas,'Courier New',monospace\"><span style=\"color: #808000; text-decoration-color: #808000; font-weight: bold\">DeprecationWarning: Kernel._parent_header is deprecated in ipykernel 6. Use .get_parent()</span> <span style=\"color: #000000; text-decoration-color: #000000; font-weight: bold\">(raised from </span>\n",
       "<span style=\"color: #000000; text-decoration-color: #000000; font-weight: bold\">/home/erniesg/.pyenv/versions/3.8.12/envs/lewagon/lib/python3.8/site-packages/ipywidgets/widgets/widget_output.py:1</span>\n",
       "<span style=\"color: #000000; text-decoration-color: #000000; font-weight: bold\">11)</span>\n",
       "</pre>\n"
      ],
      "text/plain": [
       "\u001b[1;33mDeprecationWarning: Kernel._parent_header is deprecated in ipykernel 6. Use .get_parent()\u001b[0m \u001b[1;30m(raised from \u001b[0m\n",
       "\u001b[1;30m/home/erniesg/.pyenv/versions/3.8.12/envs/lewagon/lib/python3.8/site-packages/ipywidgets/widgets/widget_output.py:1\u001b[0m\n",
       "\u001b[1;30m11)\u001b[0m\n"
      ]
     },
     "metadata": {},
     "output_type": "display_data"
    },
    {
     "data": {
      "text/html": [
       "<pre style=\"white-space:pre;overflow-x:auto;line-height:normal;font-family:Menlo,'DejaVu Sans Mono',consolas,'Courier New',monospace\"><span style=\"color: #808000; text-decoration-color: #808000; font-weight: bold\">DeprecationWarning: Kernel._parent_header is deprecated in ipykernel 6. Use .get_parent()</span> <span style=\"color: #000000; text-decoration-color: #000000; font-weight: bold\">(raised from </span>\n",
       "<span style=\"color: #000000; text-decoration-color: #000000; font-weight: bold\">/home/erniesg/.pyenv/versions/3.8.12/envs/lewagon/lib/python3.8/site-packages/ipywidgets/widgets/widget_output.py:1</span>\n",
       "<span style=\"color: #000000; text-decoration-color: #000000; font-weight: bold\">12)</span>\n",
       "</pre>\n"
      ],
      "text/plain": [
       "\u001b[1;33mDeprecationWarning: Kernel._parent_header is deprecated in ipykernel 6. Use .get_parent()\u001b[0m \u001b[1;30m(raised from \u001b[0m\n",
       "\u001b[1;30m/home/erniesg/.pyenv/versions/3.8.12/envs/lewagon/lib/python3.8/site-packages/ipywidgets/widgets/widget_output.py:1\u001b[0m\n",
       "\u001b[1;30m12)\u001b[0m\n"
      ]
     },
     "metadata": {},
     "output_type": "display_data"
    },
    {
     "data": {
      "text/html": [
       "<pre style=\"white-space:pre;overflow-x:auto;line-height:normal;font-family:Menlo,'DejaVu Sans Mono',consolas,'Courier New',monospace\"><span style=\"color: #808000; text-decoration-color: #808000; font-weight: bold\">DeprecationWarning: Kernel._parent_header is deprecated in ipykernel 6. Use .get_parent()</span> <span style=\"color: #000000; text-decoration-color: #000000; font-weight: bold\">(raised from </span>\n",
       "<span style=\"color: #000000; text-decoration-color: #000000; font-weight: bold\">/home/erniesg/.pyenv/versions/3.8.12/envs/lewagon/lib/python3.8/site-packages/ipywidgets/widgets/widget_output.py:1</span>\n",
       "<span style=\"color: #000000; text-decoration-color: #000000; font-weight: bold\">11)</span>\n",
       "</pre>\n"
      ],
      "text/plain": [
       "\u001b[1;33mDeprecationWarning: Kernel._parent_header is deprecated in ipykernel 6. Use .get_parent()\u001b[0m \u001b[1;30m(raised from \u001b[0m\n",
       "\u001b[1;30m/home/erniesg/.pyenv/versions/3.8.12/envs/lewagon/lib/python3.8/site-packages/ipywidgets/widgets/widget_output.py:1\u001b[0m\n",
       "\u001b[1;30m11)\u001b[0m\n"
      ]
     },
     "metadata": {},
     "output_type": "display_data"
    },
    {
     "data": {
      "text/html": [
       "<pre style=\"white-space:pre;overflow-x:auto;line-height:normal;font-family:Menlo,'DejaVu Sans Mono',consolas,'Courier New',monospace\"><span style=\"color: #808000; text-decoration-color: #808000; font-weight: bold\">DeprecationWarning: Kernel._parent_header is deprecated in ipykernel 6. Use .get_parent()</span> <span style=\"color: #000000; text-decoration-color: #000000; font-weight: bold\">(raised from </span>\n",
       "<span style=\"color: #000000; text-decoration-color: #000000; font-weight: bold\">/home/erniesg/.pyenv/versions/3.8.12/envs/lewagon/lib/python3.8/site-packages/ipywidgets/widgets/widget_output.py:1</span>\n",
       "<span style=\"color: #000000; text-decoration-color: #000000; font-weight: bold\">12)</span>\n",
       "</pre>\n"
      ],
      "text/plain": [
       "\u001b[1;33mDeprecationWarning: Kernel._parent_header is deprecated in ipykernel 6. Use .get_parent()\u001b[0m \u001b[1;30m(raised from \u001b[0m\n",
       "\u001b[1;30m/home/erniesg/.pyenv/versions/3.8.12/envs/lewagon/lib/python3.8/site-packages/ipywidgets/widgets/widget_output.py:1\u001b[0m\n",
       "\u001b[1;30m12)\u001b[0m\n"
      ]
     },
     "metadata": {},
     "output_type": "display_data"
    },
    {
     "data": {
      "text/html": [
       "<pre style=\"white-space:pre;overflow-x:auto;line-height:normal;font-family:Menlo,'DejaVu Sans Mono',consolas,'Courier New',monospace\"><span style=\"color: #808000; text-decoration-color: #808000; font-weight: bold\">DeprecationWarning: Kernel._parent_header is deprecated in ipykernel 6. Use .get_parent()</span> <span style=\"color: #000000; text-decoration-color: #000000; font-weight: bold\">(raised from </span>\n",
       "<span style=\"color: #000000; text-decoration-color: #000000; font-weight: bold\">/home/erniesg/.pyenv/versions/3.8.12/envs/lewagon/lib/python3.8/site-packages/ipywidgets/widgets/widget_output.py:1</span>\n",
       "<span style=\"color: #000000; text-decoration-color: #000000; font-weight: bold\">11)</span>\n",
       "</pre>\n"
      ],
      "text/plain": [
       "\u001b[1;33mDeprecationWarning: Kernel._parent_header is deprecated in ipykernel 6. Use .get_parent()\u001b[0m \u001b[1;30m(raised from \u001b[0m\n",
       "\u001b[1;30m/home/erniesg/.pyenv/versions/3.8.12/envs/lewagon/lib/python3.8/site-packages/ipywidgets/widgets/widget_output.py:1\u001b[0m\n",
       "\u001b[1;30m11)\u001b[0m\n"
      ]
     },
     "metadata": {},
     "output_type": "display_data"
    },
    {
     "data": {
      "text/html": [
       "<pre style=\"white-space:pre;overflow-x:auto;line-height:normal;font-family:Menlo,'DejaVu Sans Mono',consolas,'Courier New',monospace\"><span style=\"color: #808000; text-decoration-color: #808000; font-weight: bold\">DeprecationWarning: Kernel._parent_header is deprecated in ipykernel 6. Use .get_parent()</span> <span style=\"color: #000000; text-decoration-color: #000000; font-weight: bold\">(raised from </span>\n",
       "<span style=\"color: #000000; text-decoration-color: #000000; font-weight: bold\">/home/erniesg/.pyenv/versions/3.8.12/envs/lewagon/lib/python3.8/site-packages/ipywidgets/widgets/widget_output.py:1</span>\n",
       "<span style=\"color: #000000; text-decoration-color: #000000; font-weight: bold\">12)</span>\n",
       "</pre>\n"
      ],
      "text/plain": [
       "\u001b[1;33mDeprecationWarning: Kernel._parent_header is deprecated in ipykernel 6. Use .get_parent()\u001b[0m \u001b[1;30m(raised from \u001b[0m\n",
       "\u001b[1;30m/home/erniesg/.pyenv/versions/3.8.12/envs/lewagon/lib/python3.8/site-packages/ipywidgets/widgets/widget_output.py:1\u001b[0m\n",
       "\u001b[1;30m12)\u001b[0m\n"
      ]
     },
     "metadata": {},
     "output_type": "display_data"
    },
    {
     "data": {
      "text/html": [
       "<pre style=\"white-space:pre;overflow-x:auto;line-height:normal;font-family:Menlo,'DejaVu Sans Mono',consolas,'Courier New',monospace\"><span style=\"color: #808000; text-decoration-color: #808000; font-weight: bold\">DeprecationWarning: Kernel._parent_header is deprecated in ipykernel 6. Use .get_parent()</span> <span style=\"color: #000000; text-decoration-color: #000000; font-weight: bold\">(raised from </span>\n",
       "<span style=\"color: #000000; text-decoration-color: #000000; font-weight: bold\">/home/erniesg/.pyenv/versions/3.8.12/envs/lewagon/lib/python3.8/site-packages/ipywidgets/widgets/widget_output.py:1</span>\n",
       "<span style=\"color: #000000; text-decoration-color: #000000; font-weight: bold\">11)</span>\n",
       "</pre>\n"
      ],
      "text/plain": [
       "\u001b[1;33mDeprecationWarning: Kernel._parent_header is deprecated in ipykernel 6. Use .get_parent()\u001b[0m \u001b[1;30m(raised from \u001b[0m\n",
       "\u001b[1;30m/home/erniesg/.pyenv/versions/3.8.12/envs/lewagon/lib/python3.8/site-packages/ipywidgets/widgets/widget_output.py:1\u001b[0m\n",
       "\u001b[1;30m11)\u001b[0m\n"
      ]
     },
     "metadata": {},
     "output_type": "display_data"
    },
    {
     "data": {
      "text/html": [
       "<pre style=\"white-space:pre;overflow-x:auto;line-height:normal;font-family:Menlo,'DejaVu Sans Mono',consolas,'Courier New',monospace\"><span style=\"color: #808000; text-decoration-color: #808000; font-weight: bold\">DeprecationWarning: Kernel._parent_header is deprecated in ipykernel 6. Use .get_parent()</span> <span style=\"color: #000000; text-decoration-color: #000000; font-weight: bold\">(raised from </span>\n",
       "<span style=\"color: #000000; text-decoration-color: #000000; font-weight: bold\">/home/erniesg/.pyenv/versions/3.8.12/envs/lewagon/lib/python3.8/site-packages/ipywidgets/widgets/widget_output.py:1</span>\n",
       "<span style=\"color: #000000; text-decoration-color: #000000; font-weight: bold\">12)</span>\n",
       "</pre>\n"
      ],
      "text/plain": [
       "\u001b[1;33mDeprecationWarning: Kernel._parent_header is deprecated in ipykernel 6. Use .get_parent()\u001b[0m \u001b[1;30m(raised from \u001b[0m\n",
       "\u001b[1;30m/home/erniesg/.pyenv/versions/3.8.12/envs/lewagon/lib/python3.8/site-packages/ipywidgets/widgets/widget_output.py:1\u001b[0m\n",
       "\u001b[1;30m12)\u001b[0m\n"
      ]
     },
     "metadata": {},
     "output_type": "display_data"
    },
    {
     "data": {
      "text/html": [
       "<pre style=\"white-space:pre;overflow-x:auto;line-height:normal;font-family:Menlo,'DejaVu Sans Mono',consolas,'Courier New',monospace\"><span style=\"color: #808000; text-decoration-color: #808000; font-weight: bold\">DeprecationWarning: Kernel._parent_header is deprecated in ipykernel 6. Use .get_parent()</span> <span style=\"color: #000000; text-decoration-color: #000000; font-weight: bold\">(raised from </span>\n",
       "<span style=\"color: #000000; text-decoration-color: #000000; font-weight: bold\">/home/erniesg/.pyenv/versions/3.8.12/envs/lewagon/lib/python3.8/site-packages/ipywidgets/widgets/widget_output.py:1</span>\n",
       "<span style=\"color: #000000; text-decoration-color: #000000; font-weight: bold\">11)</span>\n",
       "</pre>\n"
      ],
      "text/plain": [
       "\u001b[1;33mDeprecationWarning: Kernel._parent_header is deprecated in ipykernel 6. Use .get_parent()\u001b[0m \u001b[1;30m(raised from \u001b[0m\n",
       "\u001b[1;30m/home/erniesg/.pyenv/versions/3.8.12/envs/lewagon/lib/python3.8/site-packages/ipywidgets/widgets/widget_output.py:1\u001b[0m\n",
       "\u001b[1;30m11)\u001b[0m\n"
      ]
     },
     "metadata": {},
     "output_type": "display_data"
    },
    {
     "data": {
      "text/html": [
       "<pre style=\"white-space:pre;overflow-x:auto;line-height:normal;font-family:Menlo,'DejaVu Sans Mono',consolas,'Courier New',monospace\"><span style=\"color: #808000; text-decoration-color: #808000; font-weight: bold\">DeprecationWarning: Kernel._parent_header is deprecated in ipykernel 6. Use .get_parent()</span> <span style=\"color: #000000; text-decoration-color: #000000; font-weight: bold\">(raised from </span>\n",
       "<span style=\"color: #000000; text-decoration-color: #000000; font-weight: bold\">/home/erniesg/.pyenv/versions/3.8.12/envs/lewagon/lib/python3.8/site-packages/ipywidgets/widgets/widget_output.py:1</span>\n",
       "<span style=\"color: #000000; text-decoration-color: #000000; font-weight: bold\">12)</span>\n",
       "</pre>\n"
      ],
      "text/plain": [
       "\u001b[1;33mDeprecationWarning: Kernel._parent_header is deprecated in ipykernel 6. Use .get_parent()\u001b[0m \u001b[1;30m(raised from \u001b[0m\n",
       "\u001b[1;30m/home/erniesg/.pyenv/versions/3.8.12/envs/lewagon/lib/python3.8/site-packages/ipywidgets/widgets/widget_output.py:1\u001b[0m\n",
       "\u001b[1;30m12)\u001b[0m\n"
      ]
     },
     "metadata": {},
     "output_type": "display_data"
    },
    {
     "data": {
      "text/html": [
       "<pre style=\"white-space:pre;overflow-x:auto;line-height:normal;font-family:Menlo,'DejaVu Sans Mono',consolas,'Courier New',monospace\"><span style=\"color: #808000; text-decoration-color: #808000; font-weight: bold\">DeprecationWarning: Kernel._parent_header is deprecated in ipykernel 6. Use .get_parent()</span> <span style=\"color: #000000; text-decoration-color: #000000; font-weight: bold\">(raised from </span>\n",
       "<span style=\"color: #000000; text-decoration-color: #000000; font-weight: bold\">/home/erniesg/.pyenv/versions/3.8.12/envs/lewagon/lib/python3.8/site-packages/ipywidgets/widgets/widget_output.py:1</span>\n",
       "<span style=\"color: #000000; text-decoration-color: #000000; font-weight: bold\">11)</span>\n",
       "</pre>\n"
      ],
      "text/plain": [
       "\u001b[1;33mDeprecationWarning: Kernel._parent_header is deprecated in ipykernel 6. Use .get_parent()\u001b[0m \u001b[1;30m(raised from \u001b[0m\n",
       "\u001b[1;30m/home/erniesg/.pyenv/versions/3.8.12/envs/lewagon/lib/python3.8/site-packages/ipywidgets/widgets/widget_output.py:1\u001b[0m\n",
       "\u001b[1;30m11)\u001b[0m\n"
      ]
     },
     "metadata": {},
     "output_type": "display_data"
    },
    {
     "data": {
      "text/html": [
       "<pre style=\"white-space:pre;overflow-x:auto;line-height:normal;font-family:Menlo,'DejaVu Sans Mono',consolas,'Courier New',monospace\"><span style=\"color: #808000; text-decoration-color: #808000; font-weight: bold\">DeprecationWarning: Kernel._parent_header is deprecated in ipykernel 6. Use .get_parent()</span> <span style=\"color: #000000; text-decoration-color: #000000; font-weight: bold\">(raised from </span>\n",
       "<span style=\"color: #000000; text-decoration-color: #000000; font-weight: bold\">/home/erniesg/.pyenv/versions/3.8.12/envs/lewagon/lib/python3.8/site-packages/ipywidgets/widgets/widget_output.py:1</span>\n",
       "<span style=\"color: #000000; text-decoration-color: #000000; font-weight: bold\">12)</span>\n",
       "</pre>\n"
      ],
      "text/plain": [
       "\u001b[1;33mDeprecationWarning: Kernel._parent_header is deprecated in ipykernel 6. Use .get_parent()\u001b[0m \u001b[1;30m(raised from \u001b[0m\n",
       "\u001b[1;30m/home/erniesg/.pyenv/versions/3.8.12/envs/lewagon/lib/python3.8/site-packages/ipywidgets/widgets/widget_output.py:1\u001b[0m\n",
       "\u001b[1;30m12)\u001b[0m\n"
      ]
     },
     "metadata": {},
     "output_type": "display_data"
    },
    {
     "data": {
      "text/html": [
       "<pre style=\"white-space:pre;overflow-x:auto;line-height:normal;font-family:Menlo,'DejaVu Sans Mono',consolas,'Courier New',monospace\"><span style=\"color: #808000; text-decoration-color: #808000; font-weight: bold\">DeprecationWarning: Kernel._parent_header is deprecated in ipykernel 6. Use .get_parent()</span> <span style=\"color: #000000; text-decoration-color: #000000; font-weight: bold\">(raised from </span>\n",
       "<span style=\"color: #000000; text-decoration-color: #000000; font-weight: bold\">/home/erniesg/.pyenv/versions/3.8.12/envs/lewagon/lib/python3.8/site-packages/ipywidgets/widgets/widget_output.py:1</span>\n",
       "<span style=\"color: #000000; text-decoration-color: #000000; font-weight: bold\">11)</span>\n",
       "</pre>\n"
      ],
      "text/plain": [
       "\u001b[1;33mDeprecationWarning: Kernel._parent_header is deprecated in ipykernel 6. Use .get_parent()\u001b[0m \u001b[1;30m(raised from \u001b[0m\n",
       "\u001b[1;30m/home/erniesg/.pyenv/versions/3.8.12/envs/lewagon/lib/python3.8/site-packages/ipywidgets/widgets/widget_output.py:1\u001b[0m\n",
       "\u001b[1;30m11)\u001b[0m\n"
      ]
     },
     "metadata": {},
     "output_type": "display_data"
    },
    {
     "data": {
      "text/html": [
       "<pre style=\"white-space:pre;overflow-x:auto;line-height:normal;font-family:Menlo,'DejaVu Sans Mono',consolas,'Courier New',monospace\"><span style=\"color: #808000; text-decoration-color: #808000; font-weight: bold\">DeprecationWarning: Kernel._parent_header is deprecated in ipykernel 6. Use .get_parent()</span> <span style=\"color: #000000; text-decoration-color: #000000; font-weight: bold\">(raised from </span>\n",
       "<span style=\"color: #000000; text-decoration-color: #000000; font-weight: bold\">/home/erniesg/.pyenv/versions/3.8.12/envs/lewagon/lib/python3.8/site-packages/ipywidgets/widgets/widget_output.py:1</span>\n",
       "<span style=\"color: #000000; text-decoration-color: #000000; font-weight: bold\">12)</span>\n",
       "</pre>\n"
      ],
      "text/plain": [
       "\u001b[1;33mDeprecationWarning: Kernel._parent_header is deprecated in ipykernel 6. Use .get_parent()\u001b[0m \u001b[1;30m(raised from \u001b[0m\n",
       "\u001b[1;30m/home/erniesg/.pyenv/versions/3.8.12/envs/lewagon/lib/python3.8/site-packages/ipywidgets/widgets/widget_output.py:1\u001b[0m\n",
       "\u001b[1;30m12)\u001b[0m\n"
      ]
     },
     "metadata": {},
     "output_type": "display_data"
    },
    {
     "data": {
      "text/html": [
       "<pre style=\"white-space:pre;overflow-x:auto;line-height:normal;font-family:Menlo,'DejaVu Sans Mono',consolas,'Courier New',monospace\"><span style=\"color: #808000; text-decoration-color: #808000; font-weight: bold\">DeprecationWarning: Kernel._parent_header is deprecated in ipykernel 6. Use .get_parent()</span> <span style=\"color: #000000; text-decoration-color: #000000; font-weight: bold\">(raised from </span>\n",
       "<span style=\"color: #000000; text-decoration-color: #000000; font-weight: bold\">/home/erniesg/.pyenv/versions/3.8.12/envs/lewagon/lib/python3.8/site-packages/ipywidgets/widgets/widget_output.py:1</span>\n",
       "<span style=\"color: #000000; text-decoration-color: #000000; font-weight: bold\">11)</span>\n",
       "</pre>\n"
      ],
      "text/plain": [
       "\u001b[1;33mDeprecationWarning: Kernel._parent_header is deprecated in ipykernel 6. Use .get_parent()\u001b[0m \u001b[1;30m(raised from \u001b[0m\n",
       "\u001b[1;30m/home/erniesg/.pyenv/versions/3.8.12/envs/lewagon/lib/python3.8/site-packages/ipywidgets/widgets/widget_output.py:1\u001b[0m\n",
       "\u001b[1;30m11)\u001b[0m\n"
      ]
     },
     "metadata": {},
     "output_type": "display_data"
    },
    {
     "data": {
      "text/html": [
       "<pre style=\"white-space:pre;overflow-x:auto;line-height:normal;font-family:Menlo,'DejaVu Sans Mono',consolas,'Courier New',monospace\"><span style=\"color: #808000; text-decoration-color: #808000; font-weight: bold\">DeprecationWarning: Kernel._parent_header is deprecated in ipykernel 6. Use .get_parent()</span> <span style=\"color: #000000; text-decoration-color: #000000; font-weight: bold\">(raised from </span>\n",
       "<span style=\"color: #000000; text-decoration-color: #000000; font-weight: bold\">/home/erniesg/.pyenv/versions/3.8.12/envs/lewagon/lib/python3.8/site-packages/ipywidgets/widgets/widget_output.py:1</span>\n",
       "<span style=\"color: #000000; text-decoration-color: #000000; font-weight: bold\">12)</span>\n",
       "</pre>\n"
      ],
      "text/plain": [
       "\u001b[1;33mDeprecationWarning: Kernel._parent_header is deprecated in ipykernel 6. Use .get_parent()\u001b[0m \u001b[1;30m(raised from \u001b[0m\n",
       "\u001b[1;30m/home/erniesg/.pyenv/versions/3.8.12/envs/lewagon/lib/python3.8/site-packages/ipywidgets/widgets/widget_output.py:1\u001b[0m\n",
       "\u001b[1;30m12)\u001b[0m\n"
      ]
     },
     "metadata": {},
     "output_type": "display_data"
    },
    {
     "data": {
      "text/html": [
       "<pre style=\"white-space:pre;overflow-x:auto;line-height:normal;font-family:Menlo,'DejaVu Sans Mono',consolas,'Courier New',monospace\"><span style=\"color: #808000; text-decoration-color: #808000; font-weight: bold\">DeprecationWarning: Kernel._parent_header is deprecated in ipykernel 6. Use .get_parent()</span> <span style=\"color: #000000; text-decoration-color: #000000; font-weight: bold\">(raised from </span>\n",
       "<span style=\"color: #000000; text-decoration-color: #000000; font-weight: bold\">/home/erniesg/.pyenv/versions/3.8.12/envs/lewagon/lib/python3.8/site-packages/ipywidgets/widgets/widget_output.py:1</span>\n",
       "<span style=\"color: #000000; text-decoration-color: #000000; font-weight: bold\">11)</span>\n",
       "</pre>\n"
      ],
      "text/plain": [
       "\u001b[1;33mDeprecationWarning: Kernel._parent_header is deprecated in ipykernel 6. Use .get_parent()\u001b[0m \u001b[1;30m(raised from \u001b[0m\n",
       "\u001b[1;30m/home/erniesg/.pyenv/versions/3.8.12/envs/lewagon/lib/python3.8/site-packages/ipywidgets/widgets/widget_output.py:1\u001b[0m\n",
       "\u001b[1;30m11)\u001b[0m\n"
      ]
     },
     "metadata": {},
     "output_type": "display_data"
    },
    {
     "data": {
      "text/html": [
       "<pre style=\"white-space:pre;overflow-x:auto;line-height:normal;font-family:Menlo,'DejaVu Sans Mono',consolas,'Courier New',monospace\"><span style=\"color: #808000; text-decoration-color: #808000; font-weight: bold\">DeprecationWarning: Kernel._parent_header is deprecated in ipykernel 6. Use .get_parent()</span> <span style=\"color: #000000; text-decoration-color: #000000; font-weight: bold\">(raised from </span>\n",
       "<span style=\"color: #000000; text-decoration-color: #000000; font-weight: bold\">/home/erniesg/.pyenv/versions/3.8.12/envs/lewagon/lib/python3.8/site-packages/ipywidgets/widgets/widget_output.py:1</span>\n",
       "<span style=\"color: #000000; text-decoration-color: #000000; font-weight: bold\">12)</span>\n",
       "</pre>\n"
      ],
      "text/plain": [
       "\u001b[1;33mDeprecationWarning: Kernel._parent_header is deprecated in ipykernel 6. Use .get_parent()\u001b[0m \u001b[1;30m(raised from \u001b[0m\n",
       "\u001b[1;30m/home/erniesg/.pyenv/versions/3.8.12/envs/lewagon/lib/python3.8/site-packages/ipywidgets/widgets/widget_output.py:1\u001b[0m\n",
       "\u001b[1;30m12)\u001b[0m\n"
      ]
     },
     "metadata": {},
     "output_type": "display_data"
    },
    {
     "data": {
      "text/html": [
       "<pre style=\"white-space:pre;overflow-x:auto;line-height:normal;font-family:Menlo,'DejaVu Sans Mono',consolas,'Courier New',monospace\"><span style=\"color: #808000; text-decoration-color: #808000; font-weight: bold\">DeprecationWarning: Kernel._parent_header is deprecated in ipykernel 6. Use .get_parent()</span> <span style=\"color: #000000; text-decoration-color: #000000; font-weight: bold\">(raised from </span>\n",
       "<span style=\"color: #000000; text-decoration-color: #000000; font-weight: bold\">/home/erniesg/.pyenv/versions/3.8.12/envs/lewagon/lib/python3.8/site-packages/ipywidgets/widgets/widget_output.py:1</span>\n",
       "<span style=\"color: #000000; text-decoration-color: #000000; font-weight: bold\">11)</span>\n",
       "</pre>\n"
      ],
      "text/plain": [
       "\u001b[1;33mDeprecationWarning: Kernel._parent_header is deprecated in ipykernel 6. Use .get_parent()\u001b[0m \u001b[1;30m(raised from \u001b[0m\n",
       "\u001b[1;30m/home/erniesg/.pyenv/versions/3.8.12/envs/lewagon/lib/python3.8/site-packages/ipywidgets/widgets/widget_output.py:1\u001b[0m\n",
       "\u001b[1;30m11)\u001b[0m\n"
      ]
     },
     "metadata": {},
     "output_type": "display_data"
    },
    {
     "data": {
      "text/html": [
       "<pre style=\"white-space:pre;overflow-x:auto;line-height:normal;font-family:Menlo,'DejaVu Sans Mono',consolas,'Courier New',monospace\"><span style=\"color: #808000; text-decoration-color: #808000; font-weight: bold\">DeprecationWarning: Kernel._parent_header is deprecated in ipykernel 6. Use .get_parent()</span> <span style=\"color: #000000; text-decoration-color: #000000; font-weight: bold\">(raised from </span>\n",
       "<span style=\"color: #000000; text-decoration-color: #000000; font-weight: bold\">/home/erniesg/.pyenv/versions/3.8.12/envs/lewagon/lib/python3.8/site-packages/ipywidgets/widgets/widget_output.py:1</span>\n",
       "<span style=\"color: #000000; text-decoration-color: #000000; font-weight: bold\">12)</span>\n",
       "</pre>\n"
      ],
      "text/plain": [
       "\u001b[1;33mDeprecationWarning: Kernel._parent_header is deprecated in ipykernel 6. Use .get_parent()\u001b[0m \u001b[1;30m(raised from \u001b[0m\n",
       "\u001b[1;30m/home/erniesg/.pyenv/versions/3.8.12/envs/lewagon/lib/python3.8/site-packages/ipywidgets/widgets/widget_output.py:1\u001b[0m\n",
       "\u001b[1;30m12)\u001b[0m\n"
      ]
     },
     "metadata": {},
     "output_type": "display_data"
    },
    {
     "data": {
      "text/html": [
       "<pre style=\"white-space:pre;overflow-x:auto;line-height:normal;font-family:Menlo,'DejaVu Sans Mono',consolas,'Courier New',monospace\"><span style=\"color: #808000; text-decoration-color: #808000; font-weight: bold\">DeprecationWarning: Kernel._parent_header is deprecated in ipykernel 6. Use .get_parent()</span> <span style=\"color: #000000; text-decoration-color: #000000; font-weight: bold\">(raised from </span>\n",
       "<span style=\"color: #000000; text-decoration-color: #000000; font-weight: bold\">/home/erniesg/.pyenv/versions/3.8.12/envs/lewagon/lib/python3.8/site-packages/ipywidgets/widgets/widget_output.py:1</span>\n",
       "<span style=\"color: #000000; text-decoration-color: #000000; font-weight: bold\">11)</span>\n",
       "</pre>\n"
      ],
      "text/plain": [
       "\u001b[1;33mDeprecationWarning: Kernel._parent_header is deprecated in ipykernel 6. Use .get_parent()\u001b[0m \u001b[1;30m(raised from \u001b[0m\n",
       "\u001b[1;30m/home/erniesg/.pyenv/versions/3.8.12/envs/lewagon/lib/python3.8/site-packages/ipywidgets/widgets/widget_output.py:1\u001b[0m\n",
       "\u001b[1;30m11)\u001b[0m\n"
      ]
     },
     "metadata": {},
     "output_type": "display_data"
    },
    {
     "data": {
      "text/html": [
       "<pre style=\"white-space:pre;overflow-x:auto;line-height:normal;font-family:Menlo,'DejaVu Sans Mono',consolas,'Courier New',monospace\"><span style=\"color: #808000; text-decoration-color: #808000; font-weight: bold\">DeprecationWarning: Kernel._parent_header is deprecated in ipykernel 6. Use .get_parent()</span> <span style=\"color: #000000; text-decoration-color: #000000; font-weight: bold\">(raised from </span>\n",
       "<span style=\"color: #000000; text-decoration-color: #000000; font-weight: bold\">/home/erniesg/.pyenv/versions/3.8.12/envs/lewagon/lib/python3.8/site-packages/ipywidgets/widgets/widget_output.py:1</span>\n",
       "<span style=\"color: #000000; text-decoration-color: #000000; font-weight: bold\">12)</span>\n",
       "</pre>\n"
      ],
      "text/plain": [
       "\u001b[1;33mDeprecationWarning: Kernel._parent_header is deprecated in ipykernel 6. Use .get_parent()\u001b[0m \u001b[1;30m(raised from \u001b[0m\n",
       "\u001b[1;30m/home/erniesg/.pyenv/versions/3.8.12/envs/lewagon/lib/python3.8/site-packages/ipywidgets/widgets/widget_output.py:1\u001b[0m\n",
       "\u001b[1;30m12)\u001b[0m\n"
      ]
     },
     "metadata": {},
     "output_type": "display_data"
    },
    {
     "data": {
      "text/html": [
       "<pre style=\"white-space:pre;overflow-x:auto;line-height:normal;font-family:Menlo,'DejaVu Sans Mono',consolas,'Courier New',monospace\">\n",
       "</pre>\n"
      ],
      "text/plain": [
       "\n"
      ]
     },
     "metadata": {},
     "output_type": "display_data"
    },
    {
     "data": {
      "text/html": [
       "<pre style=\"white-space:pre;overflow-x:auto;line-height:normal;font-family:Menlo,'DejaVu Sans Mono',consolas,'Courier New',monospace\"></pre>\n"
      ],
      "text/plain": []
     },
     "metadata": {},
     "output_type": "display_data"
    },
    {
     "data": {
      "text/html": [
       "<pre style=\"white-space:pre;overflow-x:auto;line-height:normal;font-family:Menlo,'DejaVu Sans Mono',consolas,'Courier New',monospace\">\n",
       "</pre>\n"
      ],
      "text/plain": [
       "\n"
      ]
     },
     "metadata": {},
     "output_type": "display_data"
    }
   ],
   "source": [
    "from clip_client import Client\n",
    "\n",
    "c = Client('grpcs://api.clip.jina.ai:2096',\n",
    "            credential={'Authorization': '3d2c29a5ed5884013c37a96fb18fad87'})\n",
    "\n",
    "encoded_da = c.encode(da, show_progress=True)"
   ]
  },
  {
   "cell_type": "code",
   "execution_count": null,
   "id": "248f93fa",
   "metadata": {
    "ExecuteTime": {
     "start_time": "2023-03-09T14:11:51.765Z"
    }
   },
   "outputs": [
    {
     "data": {
      "text/html": [
       "<pre style=\"white-space:pre;overflow-x:auto;line-height:normal;font-family:Menlo,'DejaVu Sans Mono',consolas,'Courier New',monospace\">\n",
       "</pre>\n"
      ],
      "text/plain": [
       "\n"
      ]
     },
     "metadata": {},
     "output_type": "display_data"
    },
    {
     "data": {
      "text/html": [
       "\n",
       "        <iframe\n",
       "            width=\"100%\"\n",
       "            height=\"600\"\n",
       "            src=\"http://127.0.0.1:59717/static/index.html?config=config.json\"\n",
       "            frameborder=\"0\"\n",
       "            allowfullscreen\n",
       "            \n",
       "        ></iframe>\n",
       "        "
      ],
      "text/plain": [
       "<IPython.lib.display.IFrame at 0x7fb6c07b7a30>"
      ]
     },
     "metadata": {},
     "output_type": "display_data"
    },
    {
     "name": "stderr",
     "output_type": "stream",
     "text": [
      "\u001b[1;33mUserWarning: Showing iframe in cell, you may want to open http://127.0.0.1:59717/static/index.html?config=config.json in a new tab for better experience. Also, `localhost` may need to be changed to the IP address if your jupyter is running remotely. Click \"stop\" button in the toolbar to move to the next cell.\u001b[0m \u001b[1;30m(raised from /home/erniesg/.pyenv/versions/3.8.12/envs/lewagon/lib/python3.8/site-packages/docarray/array/mixins/plot.py:277)\u001b[0m\n"
     ]
    }
   ],
   "source": [
    "encoded_da.plot_embeddings(image_sprites=True)"
   ]
  },
  {
   "cell_type": "code",
   "execution_count": null,
   "id": "5c8062c4",
   "metadata": {},
   "outputs": [],
   "source": []
  }
 ],
 "metadata": {
  "kernelspec": {
   "display_name": "Python 3 (ipykernel)",
   "language": "python",
   "name": "python3"
  },
  "language_info": {
   "codemirror_mode": {
    "name": "ipython",
    "version": 3
   },
   "file_extension": ".py",
   "mimetype": "text/x-python",
   "name": "python",
   "nbconvert_exporter": "python",
   "pygments_lexer": "ipython3",
   "version": "3.8.12"
  },
  "toc": {
   "base_numbering": 1,
   "nav_menu": {},
   "number_sections": true,
   "sideBar": true,
   "skip_h1_title": false,
   "title_cell": "Table of Contents",
   "title_sidebar": "Contents",
   "toc_cell": false,
   "toc_position": {},
   "toc_section_display": true,
   "toc_window_display": false
  }
 },
 "nbformat": 4,
 "nbformat_minor": 5
}

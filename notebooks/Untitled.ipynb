{
 "cells": [
  {
   "cell_type": "code",
   "execution_count": 1,
   "id": "72292e35",
   "metadata": {
    "ExecuteTime": {
     "end_time": "2023-04-14T16:39:11.194401Z",
     "start_time": "2023-04-14T16:38:56.664058Z"
    }
   },
   "outputs": [
    {
     "name": "stderr",
     "output_type": "stream",
     "text": [
      "/tmp/ipykernel_2889/4254743473.py:18: DeprecationWarning: ANTIALIAS is deprecated and will be removed in Pillow 10 (2023-07-01). Use Resampling.LANCZOS instead.\n",
      "  resized_img = img.resize((new_width, new_height), Image.ANTIALIAS)\n"
     ]
    }
   ],
   "source": [
    "from PIL import Image\n",
    "import os\n",
    "\n",
    "# Define input and output folder paths\n",
    "input_folder = \"../raw_data/ngs_search_ocsp\"\n",
    "output_folder = \"../raw_data/ngs_search\"\n",
    "\n",
    "# Loop through all files in input folder\n",
    "for filename in os.listdir(input_folder):\n",
    "    # Open the image using Pillow\n",
    "    with Image.open(os.path.join(input_folder, filename)) as img:\n",
    "        # Calculate new width and height while keeping the aspect ratio\n",
    "        width, height = img.size\n",
    "        new_width = int(width * 0.5)\n",
    "        new_height = int(height * 0.5)\n",
    "\n",
    "        # Resize the image using Pillow\n",
    "        resized_img = img.resize((new_width, new_height), Image.ANTIALIAS)\n",
    "\n",
    "        # Save the resized image with the same filename to the output folder\n",
    "        resized_img.save(os.path.join(output_folder, filename))"
   ]
  },
  {
   "cell_type": "code",
   "execution_count": null,
   "id": "e9448f9b",
   "metadata": {},
   "outputs": [],
   "source": []
  }
 ],
 "metadata": {
  "kernelspec": {
   "display_name": "Python 3 (ipykernel)",
   "language": "python",
   "name": "python3"
  },
  "language_info": {
   "codemirror_mode": {
    "name": "ipython",
    "version": 3
   },
   "file_extension": ".py",
   "mimetype": "text/x-python",
   "name": "python",
   "nbconvert_exporter": "python",
   "pygments_lexer": "ipython3",
   "version": "3.8.12"
  },
  "toc": {
   "base_numbering": 1,
   "nav_menu": {},
   "number_sections": true,
   "sideBar": true,
   "skip_h1_title": false,
   "title_cell": "Table of Contents",
   "title_sidebar": "Contents",
   "toc_cell": false,
   "toc_position": {},
   "toc_section_display": true,
   "toc_window_display": false
  }
 },
 "nbformat": 4,
 "nbformat_minor": 5
}

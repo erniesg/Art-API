{
 "cells": [
  {
   "cell_type": "code",
   "execution_count": 2,
   "id": "9991afd3",
   "metadata": {
    "ExecuteTime": {
     "end_time": "2022-11-05T08:35:52.800689Z",
     "start_time": "2022-11-05T08:35:49.965140Z"
    }
   },
   "outputs": [],
   "source": [
    "# Import necessary libraries\n",
    "from enum import auto\n",
    "import json\n",
    "import joblib\n",
    "import os\n",
    "import streamlit as st\n",
    "from itertools import cycle\n",
    "from sklearn.cluster import KMeans\n",
    "import matplotlib.pyplot as plt\n",
    "import numpy as np\n",
    "import cv2\n",
    "from collections import Counter\n",
    "from skimage.color import rgb2lab, deltaE_cie76\n",
    "import os\n",
    "import urllib\n",
    "from skimage import io\n",
    "import pdb\n",
    "#*** added\n",
    "from PIL import Image\n",
    "import webcolors\n",
    "#***\n",
    "import seaborn as sns\n",
    "import pandas as pd\n",
    "import base64\n",
    "from art_api import utils\n",
    "%matplotlib inline\n",
    "%reload_ext autoreload\n",
    "%autoreload 2"
   ]
  },
  {
   "cell_type": "markdown",
   "id": "9353b25c",
   "metadata": {},
   "source": [
    "# Predict colour"
   ]
  },
  {
   "cell_type": "markdown",
   "id": "233e741d",
   "metadata": {},
   "source": [
    "1. Obtain image from user\n",
    "2. Resize image and store in dir_sm as img_sm\n",
    "4. Read img_sm from dir_sm\n",
    "5. Get colours from image_sm\n",
    "6. Use yellowbrick to generate optimal K\n",
    "7. Optimal K used to generate df of up to 7 optimal colours per image\n",
    "8. Display to user\n",
    "9. Save to CSV"
   ]
  },
  {
   "cell_type": "code",
   "execution_count": null,
   "id": "6946e25b",
   "metadata": {},
   "outputs": [],
   "source": []
  }
 ],
 "metadata": {
  "kernelspec": {
   "display_name": "Python 3 (ipykernel)",
   "language": "python",
   "name": "python3"
  },
  "language_info": {
   "codemirror_mode": {
    "name": "ipython",
    "version": 3
   },
   "file_extension": ".py",
   "mimetype": "text/x-python",
   "name": "python",
   "nbconvert_exporter": "python",
   "pygments_lexer": "ipython3",
   "version": "3.8.12"
  },
  "toc": {
   "base_numbering": 1,
   "nav_menu": {},
   "number_sections": true,
   "sideBar": true,
   "skip_h1_title": false,
   "title_cell": "Table of Contents",
   "title_sidebar": "Contents",
   "toc_cell": false,
   "toc_position": {},
   "toc_section_display": true,
   "toc_window_display": false
  }
 },
 "nbformat": 4,
 "nbformat_minor": 5
}

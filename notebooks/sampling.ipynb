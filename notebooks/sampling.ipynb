{
 "cells": [
  {
   "cell_type": "code",
   "execution_count": 37,
   "id": "a1aebc1e",
   "metadata": {
    "ExecuteTime": {
     "end_time": "2022-09-10T05:58:08.723324Z",
     "start_time": "2022-09-10T05:58:08.715719Z"
    }
   },
   "outputs": [
    {
     "name": "stdout",
     "output_type": "stream",
     "text": [
      "The autoreload extension is already loaded. To reload it, use:\n",
      "  %reload_ext autoreload\n"
     ]
    }
   ],
   "source": [
    "import pandas as pd\n",
    "from art_api import config\n",
    "from art_api import mlsmote\n",
    "from art_api import utils\n",
    "\n",
    "%load_ext autoreload"
   ]
  },
  {
   "cell_type": "code",
   "execution_count": 34,
   "id": "2f6f0429",
   "metadata": {
    "ExecuteTime": {
     "end_time": "2022-09-10T05:58:01.933935Z",
     "start_time": "2022-09-10T05:58:01.929916Z"
    }
   },
   "outputs": [
    {
     "name": "stdout",
     "output_type": "stream",
     "text": [
      "../raw_data/yourpaintings_sm\n"
     ]
    }
   ],
   "source": [
    "print(config.PATH_YOURPAINTINGS_SM)"
   ]
  },
  {
   "cell_type": "code",
   "execution_count": 38,
   "id": "949059c2",
   "metadata": {
    "ExecuteTime": {
     "end_time": "2022-09-10T05:58:10.604144Z",
     "start_time": "2022-09-10T05:58:10.583339Z"
    }
   },
   "outputs": [
    {
     "ename": "NameError",
     "evalue": "name 'PATH_FILE' is not defined",
     "output_type": "error",
     "traceback": [
      "\u001b[0;31m---------------------------------------------------------------------------\u001b[0m",
      "\u001b[0;31mNameError\u001b[0m                                 Traceback (most recent call last)",
      "Input \u001b[0;32mIn [38]\u001b[0m, in \u001b[0;36m<cell line: 1>\u001b[0;34m()\u001b[0m\n\u001b[0;32m----> 1\u001b[0m X, y \u001b[38;5;241m=\u001b[39m \u001b[43mutils\u001b[49m\u001b[38;5;241;43m.\u001b[39;49m\u001b[43mload_data\u001b[49m\u001b[43m(\u001b[49m\u001b[43m)\u001b[49m\n",
      "File \u001b[0;32m~/code/erniesg/art_api/art_api/utils.py:18\u001b[0m, in \u001b[0;36mload_data\u001b[0;34m()\u001b[0m\n\u001b[1;32m     16\u001b[0m \n\u001b[1;32m     17\u001b[0m imgs = []\n\u001b[0;32m---> 18\u001b[0m df = pd.read_csv(PATH_FILE)\n\u001b[1;32m     19\u001b[0m \n\u001b[1;32m     20\u001b[0m for index, row in df.iterrows():\n",
      "\u001b[0;31mNameError\u001b[0m: name 'PATH_FILE' is not defined"
     ]
    }
   ],
   "source": [
    "X, y = utils.load_data()"
   ]
  },
  {
   "cell_type": "code",
   "execution_count": 16,
   "id": "07d2a1e2",
   "metadata": {
    "ExecuteTime": {
     "end_time": "2022-09-10T04:12:31.106803Z",
     "start_time": "2022-09-10T04:12:31.077324Z"
    }
   },
   "outputs": [
    {
     "data": {
      "text/plain": [
       "aeroplane       195\n",
       "bird            781\n",
       "boat           2050\n",
       "chair          1147\n",
       "cow             603\n",
       "diningtable    1161\n",
       "dog            1108\n",
       "horse          1448\n",
       "sheep           721\n",
       "train           324\n",
       "dtype: int64"
      ]
     },
     "execution_count": 16,
     "metadata": {},
     "output_type": "execute_result"
    }
   ],
   "source": [
    "df.drop(columns=['Image URL', 'Web page URL', 'Subset', 'Labels', 'filename',\n",
    "       'labels']).sum()"
   ]
  },
  {
   "cell_type": "code",
   "execution_count": 15,
   "id": "993d5f46",
   "metadata": {
    "ExecuteTime": {
     "end_time": "2022-09-10T03:23:18.954313Z",
     "start_time": "2022-09-10T03:23:18.924689Z"
    }
   },
   "outputs": [
    {
     "data": {
      "text/plain": [
       "['Image URL', 'Web page URL', 'filename']"
      ]
     },
     "execution_count": 15,
     "metadata": {},
     "output_type": "execute_result"
    }
   ],
   "source": [
    "mlsmote.get_tail_label(df)"
   ]
  },
  {
   "cell_type": "code",
   "execution_count": 23,
   "id": "f957cccc",
   "metadata": {
    "ExecuteTime": {
     "end_time": "2022-09-10T05:48:47.327676Z",
     "start_time": "2022-09-10T05:48:47.320729Z"
    }
   },
   "outputs": [],
   "source": [
    "X, y = mlsmote.create_dataset()"
   ]
  },
  {
   "cell_type": "code",
   "execution_count": 25,
   "id": "55f7430d",
   "metadata": {
    "ExecuteTime": {
     "end_time": "2022-09-10T05:48:55.373575Z",
     "start_time": "2022-09-10T05:48:55.364787Z"
    }
   },
   "outputs": [
    {
     "data": {
      "text/plain": [
       "(1000, 10)"
      ]
     },
     "execution_count": 25,
     "metadata": {},
     "output_type": "execute_result"
    }
   ],
   "source": [
    "X.shape"
   ]
  },
  {
   "cell_type": "code",
   "execution_count": 26,
   "id": "a9835bbc",
   "metadata": {
    "ExecuteTime": {
     "end_time": "2022-09-10T05:48:57.570508Z",
     "start_time": "2022-09-10T05:48:57.559160Z"
    }
   },
   "outputs": [
    {
     "data": {
      "text/html": [
       "<div>\n",
       "<style scoped>\n",
       "    .dataframe tbody tr th:only-of-type {\n",
       "        vertical-align: middle;\n",
       "    }\n",
       "\n",
       "    .dataframe tbody tr th {\n",
       "        vertical-align: top;\n",
       "    }\n",
       "\n",
       "    .dataframe thead th {\n",
       "        text-align: right;\n",
       "    }\n",
       "</style>\n",
       "<table border=\"1\" class=\"dataframe\">\n",
       "  <thead>\n",
       "    <tr style=\"text-align: right;\">\n",
       "      <th></th>\n",
       "      <th>class_0</th>\n",
       "      <th>class_1</th>\n",
       "      <th>class_2</th>\n",
       "      <th>class_3</th>\n",
       "      <th>class_4</th>\n",
       "    </tr>\n",
       "  </thead>\n",
       "  <tbody>\n",
       "    <tr>\n",
       "      <th>0</th>\n",
       "      <td>0</td>\n",
       "      <td>0</td>\n",
       "      <td>0</td>\n",
       "      <td>0</td>\n",
       "      <td>1</td>\n",
       "    </tr>\n",
       "    <tr>\n",
       "      <th>1</th>\n",
       "      <td>0</td>\n",
       "      <td>0</td>\n",
       "      <td>1</td>\n",
       "      <td>0</td>\n",
       "      <td>0</td>\n",
       "    </tr>\n",
       "    <tr>\n",
       "      <th>2</th>\n",
       "      <td>0</td>\n",
       "      <td>0</td>\n",
       "      <td>0</td>\n",
       "      <td>0</td>\n",
       "      <td>1</td>\n",
       "    </tr>\n",
       "    <tr>\n",
       "      <th>3</th>\n",
       "      <td>0</td>\n",
       "      <td>0</td>\n",
       "      <td>1</td>\n",
       "      <td>0</td>\n",
       "      <td>0</td>\n",
       "    </tr>\n",
       "    <tr>\n",
       "      <th>4</th>\n",
       "      <td>0</td>\n",
       "      <td>0</td>\n",
       "      <td>0</td>\n",
       "      <td>0</td>\n",
       "      <td>1</td>\n",
       "    </tr>\n",
       "    <tr>\n",
       "      <th>...</th>\n",
       "      <td>...</td>\n",
       "      <td>...</td>\n",
       "      <td>...</td>\n",
       "      <td>...</td>\n",
       "      <td>...</td>\n",
       "    </tr>\n",
       "    <tr>\n",
       "      <th>995</th>\n",
       "      <td>1</td>\n",
       "      <td>0</td>\n",
       "      <td>0</td>\n",
       "      <td>0</td>\n",
       "      <td>0</td>\n",
       "    </tr>\n",
       "    <tr>\n",
       "      <th>996</th>\n",
       "      <td>0</td>\n",
       "      <td>1</td>\n",
       "      <td>0</td>\n",
       "      <td>0</td>\n",
       "      <td>0</td>\n",
       "    </tr>\n",
       "    <tr>\n",
       "      <th>997</th>\n",
       "      <td>0</td>\n",
       "      <td>0</td>\n",
       "      <td>0</td>\n",
       "      <td>0</td>\n",
       "      <td>1</td>\n",
       "    </tr>\n",
       "    <tr>\n",
       "      <th>998</th>\n",
       "      <td>0</td>\n",
       "      <td>0</td>\n",
       "      <td>0</td>\n",
       "      <td>0</td>\n",
       "      <td>1</td>\n",
       "    </tr>\n",
       "    <tr>\n",
       "      <th>999</th>\n",
       "      <td>1</td>\n",
       "      <td>0</td>\n",
       "      <td>0</td>\n",
       "      <td>0</td>\n",
       "      <td>0</td>\n",
       "    </tr>\n",
       "  </tbody>\n",
       "</table>\n",
       "<p>1000 rows × 5 columns</p>\n",
       "</div>"
      ],
      "text/plain": [
       "     class_0  class_1  class_2  class_3  class_4\n",
       "0          0        0        0        0        1\n",
       "1          0        0        1        0        0\n",
       "2          0        0        0        0        1\n",
       "3          0        0        1        0        0\n",
       "4          0        0        0        0        1\n",
       "..       ...      ...      ...      ...      ...\n",
       "995        1        0        0        0        0\n",
       "996        0        1        0        0        0\n",
       "997        0        0        0        0        1\n",
       "998        0        0        0        0        1\n",
       "999        1        0        0        0        0\n",
       "\n",
       "[1000 rows x 5 columns]"
      ]
     },
     "execution_count": 26,
     "metadata": {},
     "output_type": "execute_result"
    }
   ],
   "source": [
    "y"
   ]
  },
  {
   "cell_type": "code",
   "execution_count": 28,
   "id": "07f2ba46",
   "metadata": {
    "ExecuteTime": {
     "end_time": "2022-09-10T05:49:29.228569Z",
     "start_time": "2022-09-10T05:49:29.183285Z"
    }
   },
   "outputs": [
    {
     "data": {
      "text/plain": [
       "['class_1', 'class_3']"
      ]
     },
     "execution_count": 28,
     "metadata": {},
     "output_type": "execute_result"
    }
   ],
   "source": [
    "mlsmote.get_tail_label(y)"
   ]
  },
  {
   "cell_type": "code",
   "execution_count": null,
   "id": "3eded1d9",
   "metadata": {},
   "outputs": [],
   "source": []
  }
 ],
 "metadata": {
  "kernelspec": {
   "display_name": "Python 3 (ipykernel)",
   "language": "python",
   "name": "python3"
  },
  "language_info": {
   "codemirror_mode": {
    "name": "ipython",
    "version": 3
   },
   "file_extension": ".py",
   "mimetype": "text/x-python",
   "name": "python",
   "nbconvert_exporter": "python",
   "pygments_lexer": "ipython3",
   "version": "3.8.12"
  },
  "toc": {
   "base_numbering": 1,
   "nav_menu": {},
   "number_sections": true,
   "sideBar": true,
   "skip_h1_title": false,
   "title_cell": "Table of Contents",
   "title_sidebar": "Contents",
   "toc_cell": false,
   "toc_position": {},
   "toc_section_display": true,
   "toc_window_display": false
  }
 },
 "nbformat": 4,
 "nbformat_minor": 5
}

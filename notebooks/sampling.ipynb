{
 "cells": [
  {
   "cell_type": "code",
   "execution_count": 1,
   "id": "a1aebc1e",
   "metadata": {
    "ExecuteTime": {
     "end_time": "2022-09-16T21:09:04.878426Z",
     "start_time": "2022-09-16T21:08:59.864721Z"
    }
   },
   "outputs": [],
   "source": [
    "import pandas as pd\n",
    "from art_api import config, utils\n",
    "import wandb\n",
    "import os\n",
    "from google.cloud import storage\n",
    "from IPython.display import Image\n",
    "import tensorflow as tf\n",
    "from tensorflow.keras.layers.experimental.preprocessing import Rescaling\n",
    "from tensorflow.keras import optimizers\n",
    "from tensorflow.keras.callbacks import EarlyStopping\n",
    "from tensorflow.keras import Sequential, layers, models\n",
    "from sklearn.model_selection import train_test_split\n",
    "import numpy as np\n",
    "from pathlib import Path\n",
    "from wandb.keras import WandbCallback\n",
    "from matplotlib import pyplot as plt\n",
    "from tensorflow.keras.applications.vgg16 import preprocess_input\n",
    "from tensorflow.keras.applications.vgg16 import VGG16\n",
    "from tensorflow.keras.applications.vgg19 import VGG19\n",
    "from tensorflow.keras.applications.resnet50 import ResNet50\n",
    "from tensorflow.keras.applications.resnet import ResNet152\n",
    "from tensorflow.keras.applications.resnet_v2 import ResNet152V2\n",
    "from tensorflow.keras.applications.inception_v3 import InceptionV3 \n",
    "from tensorflow.keras.applications import InceptionResNetV2\n",
    "from tensorflow.keras.applications import Xception\n",
    "\n",
    "%load_ext autoreload"
   ]
  },
  {
   "cell_type": "code",
   "execution_count": 2,
   "id": "c160a9d3",
   "metadata": {
    "ExecuteTime": {
     "end_time": "2022-09-16T19:25:23.194719Z",
     "start_time": "2022-09-16T19:25:23.191697Z"
    }
   },
   "outputs": [],
   "source": [
    "os.environ['WANDB_NOTEBOOK_NAME'] = 'baseline'"
   ]
  },
  {
   "cell_type": "markdown",
   "id": "7032e541",
   "metadata": {},
   "source": [
    "# Load dataset as artifact"
   ]
  },
  {
   "cell_type": "code",
   "execution_count": 21,
   "id": "df948ea1",
   "metadata": {
    "ExecuteTime": {
     "end_time": "2022-09-16T15:12:42.205954Z",
     "start_time": "2022-09-16T15:09:48.554879Z"
    },
    "scrolled": true
   },
   "outputs": [
    {
     "data": {
      "text/html": [
       "Finishing last run (ID:1wgq5md3) before initializing another..."
      ],
      "text/plain": [
       "<IPython.core.display.HTML object>"
      ]
     },
     "metadata": {},
     "output_type": "display_data"
    },
    {
     "data": {
      "text/html": [
       "Waiting for W&B process to finish... <strong style=\"color:green\">(success).</strong>"
      ],
      "text/plain": [
       "<IPython.core.display.HTML object>"
      ]
     },
     "metadata": {},
     "output_type": "display_data"
    },
    {
     "data": {
      "application/vnd.jupyter.widget-view+json": {
       "model_id": "",
       "version_major": 2,
       "version_minor": 0
      },
      "text/plain": [
       "VBox(children=(Label(value='0.001 MB of 0.001 MB uploaded (0.000 MB deduped)\\r'), FloatProgress(value=1.0, max…"
      ]
     },
     "metadata": {},
     "output_type": "display_data"
    },
    {
     "data": {
      "text/html": [
       "Synced <strong style=\"color:#cdcd00\">stoic-wood-2</strong>: <a href=\"https://wandb.ai/art_api/art_api/runs/1wgq5md3\" target=\"_blank\">https://wandb.ai/art_api/art_api/runs/1wgq5md3</a><br/>Synced 4 W&B file(s), 0 media file(s), 0 artifact file(s) and 0 other file(s)"
      ],
      "text/plain": [
       "<IPython.core.display.HTML object>"
      ]
     },
     "metadata": {},
     "output_type": "display_data"
    },
    {
     "data": {
      "text/html": [
       "Find logs at: <code>./wandb/run-20220916_230924-1wgq5md3/logs</code>"
      ],
      "text/plain": [
       "<IPython.core.display.HTML object>"
      ]
     },
     "metadata": {},
     "output_type": "display_data"
    },
    {
     "data": {
      "text/html": [
       "Successfully finished last run (ID:1wgq5md3). Initializing new run:<br/>"
      ],
      "text/plain": [
       "<IPython.core.display.HTML object>"
      ]
     },
     "metadata": {},
     "output_type": "display_data"
    },
    {
     "data": {
      "application/vnd.jupyter.widget-view+json": {
       "model_id": "205af6d56bbb4c5f8fc92d15f34ed2d6",
       "version_major": 2,
       "version_minor": 0
      },
      "text/plain": [
       "VBox(children=(Label(value='Waiting for wandb.init()...\\r'), FloatProgress(value=0.0333374818166097, max=1.0))…"
      ]
     },
     "metadata": {},
     "output_type": "display_data"
    },
    {
     "data": {
      "text/html": [
       "Tracking run with wandb version 0.13.3"
      ],
      "text/plain": [
       "<IPython.core.display.HTML object>"
      ]
     },
     "metadata": {},
     "output_type": "display_data"
    },
    {
     "data": {
      "text/html": [
       "Run data is saved locally in <code>/home/erniesg/code/erniesg/art_api/notebooks/wandb/run-20220916_230948-3qyz6hrc</code>"
      ],
      "text/plain": [
       "<IPython.core.display.HTML object>"
      ]
     },
     "metadata": {},
     "output_type": "display_data"
    },
    {
     "data": {
      "text/html": [
       "Syncing run <strong><a href=\"https://wandb.ai/art_api/art_api/runs/3qyz6hrc\" target=\"_blank\">upbeat-leaf-3</a></strong> to <a href=\"https://wandb.ai/art_api/art_api\" target=\"_blank\">Weights & Biases</a> (<a href=\"https://wandb.me/run\" target=\"_blank\">docs</a>)<br/>"
      ],
      "text/plain": [
       "<IPython.core.display.HTML object>"
      ]
     },
     "metadata": {},
     "output_type": "display_data"
    },
    {
     "name": "stderr",
     "output_type": "stream",
     "text": [
      "\u001b[34m\u001b[1mwandb\u001b[0m: Adding directory to artifact (./../raw_data/yourpaintings_sm)... Done. 6.5s\n"
     ]
    },
    {
     "data": {
      "text/html": [
       "Waiting for W&B process to finish... <strong style=\"color:green\">(success).</strong>"
      ],
      "text/plain": [
       "<IPython.core.display.HTML object>"
      ]
     },
     "metadata": {},
     "output_type": "display_data"
    },
    {
     "data": {
      "application/vnd.jupyter.widget-view+json": {
       "model_id": "",
       "version_major": 2,
       "version_minor": 0
      },
      "text/plain": [
       "VBox(children=(Label(value='98.318 MB of 98.318 MB uploaded (0.000 MB deduped)\\r'), FloatProgress(value=1.0, m…"
      ]
     },
     "metadata": {},
     "output_type": "display_data"
    },
    {
     "data": {
      "text/html": [
       "Synced <strong style=\"color:#cdcd00\">upbeat-leaf-3</strong>: <a href=\"https://wandb.ai/art_api/art_api/runs/3qyz6hrc\" target=\"_blank\">https://wandb.ai/art_api/art_api/runs/3qyz6hrc</a><br/>Synced 5 W&B file(s), 0 media file(s), 8255 artifact file(s) and 0 other file(s)"
      ],
      "text/plain": [
       "<IPython.core.display.HTML object>"
      ]
     },
     "metadata": {},
     "output_type": "display_data"
    },
    {
     "data": {
      "text/html": [
       "Find logs at: <code>./wandb/run-20220916_230948-3qyz6hrc/logs</code>"
      ],
      "text/plain": [
       "<IPython.core.display.HTML object>"
      ]
     },
     "metadata": {},
     "output_type": "display_data"
    }
   ],
   "source": [
    "# 1. Log a dataset version as an artifact\n",
    "\n",
    "# Initialize a new W&B run to track this job\n",
    "run = wandb.init(project=\"art_api\", job_type=\"dataset-creation\")\n",
    "yourpaintings_sm_data = wandb.Artifact(\"yourpaintings_df\",\n",
    "                                       type=\"raw_data\",\n",
    "                                      description=\"YourPaintings dataset sm\")\n",
    "yourpaintings_sm_data.add_dir(config.PATH_YOURPAINTINGS_SM)\n",
    "run.log_artifact(yourpaintings_sm_data)\n",
    "\n",
    "wandb.finish()"
   ]
  },
  {
   "cell_type": "code",
   "execution_count": 2,
   "id": "1d89daf6",
   "metadata": {
    "ExecuteTime": {
     "end_time": "2022-09-16T21:22:25.570986Z",
     "start_time": "2022-09-16T21:09:08.339686Z"
    }
   },
   "outputs": [],
   "source": [
    "X, y = utils.load_data()"
   ]
  },
  {
   "cell_type": "code",
   "execution_count": 3,
   "id": "97f3c6ff",
   "metadata": {
    "ExecuteTime": {
     "end_time": "2022-09-16T21:22:25.791383Z",
     "start_time": "2022-09-16T21:22:25.573362Z"
    }
   },
   "outputs": [],
   "source": [
    "X_train, X_test, y_train, y_test = train_test_split(X, y, test_size=0.3)\n",
    "X_test, X_val, y_test, y_val = train_test_split(X_test, y_test, test_size=0.5)"
   ]
  },
  {
   "cell_type": "markdown",
   "id": "e4e6b29e",
   "metadata": {},
   "source": [
    "# Load baseline model"
   ]
  },
  {
   "cell_type": "code",
   "execution_count": 40,
   "id": "0df8f636",
   "metadata": {
    "ExecuteTime": {
     "end_time": "2022-09-16T16:04:05.141437Z",
     "start_time": "2022-09-16T16:04:05.137070Z"
    }
   },
   "outputs": [],
   "source": [
    "def load_baseline_model():\n",
    "\n",
    "    model = Sequential()\n",
    "    model.add(Rescaling(1./255, input_shape=(256,256,3)))\n",
    "\n",
    "    model.add(layers.Conv2D(16, kernel_size=10, activation='relu'))\n",
    "    model.add(layers.MaxPooling2D(3))\n",
    "    \n",
    "    model.add(layers.Conv2D(32, kernel_size=8, activation=\"relu\"))\n",
    "    model.add(layers.MaxPooling2D(3))\n",
    "\n",
    "    model.add(layers.Conv2D(32, kernel_size=6, activation=\"relu\"))\n",
    "    model.add(layers.MaxPooling2D(3))\n",
    "    \n",
    "    model.add(layers.Flatten())\n",
    "    model.add(layers.Dense(100, activation='relu'))\n",
    "    model.add(layers.Dense(10, activation='sigmoid'))\n",
    "    \n",
    "    opt = optimizers.Adam(learning_rate=1e-4)\n",
    "    model.compile(loss='binary_crossentropy',\n",
    "                  optimizer=opt,\n",
    "                  metrics=['accuracy'])\n",
    "    \n",
    "    return model"
   ]
  },
  {
   "cell_type": "code",
   "execution_count": 46,
   "id": "9bc733b9",
   "metadata": {
    "ExecuteTime": {
     "end_time": "2022-09-16T16:15:15.623024Z",
     "start_time": "2022-09-16T16:15:14.939398Z"
    }
   },
   "outputs": [
    {
     "data": {
      "text/html": [
       "Changes to your `wandb` environment variables will be ignored because your `wandb` session has already started. For more information on how to modify your settings with `wandb.init()` arguments, please refer to <a href=\"https://wandb.me/wandb-init\" target=\"_blank\">the W&B docs</a>."
      ],
      "text/plain": [
       "<IPython.core.display.HTML object>"
      ]
     },
     "metadata": {},
     "output_type": "display_data"
    },
    {
     "data": {
      "text/html": [
       "Tracking run with wandb version 0.13.3"
      ],
      "text/plain": [
       "<IPython.core.display.HTML object>"
      ]
     },
     "metadata": {},
     "output_type": "display_data"
    },
    {
     "data": {
      "text/html": [
       "Run data is saved locally in <code>/home/erniesg/code/erniesg/art_api/notebooks/wandb/run-20220917_001514-16gm28ii</code>"
      ],
      "text/plain": [
       "<IPython.core.display.HTML object>"
      ]
     },
     "metadata": {},
     "output_type": "display_data"
    },
    {
     "data": {
      "text/html": [
       "Syncing run <strong><a href=\"https://wandb.ai/art_api/art_api/runs/16gm28ii\" target=\"_blank\">copper-sea-13</a></strong> to <a href=\"https://wandb.ai/art_api/art_api\" target=\"_blank\">Weights & Biases</a> (<a href=\"https://wandb.me/run\" target=\"_blank\">docs</a>)<br/>"
      ],
      "text/plain": [
       "<IPython.core.display.HTML object>"
      ]
     },
     "metadata": {},
     "output_type": "display_data"
    }
   ],
   "source": [
    "run = wandb.init(project=\"art_api\", job_type=\"training\")"
   ]
  },
  {
   "cell_type": "code",
   "execution_count": 49,
   "id": "8aaae5e9",
   "metadata": {
    "ExecuteTime": {
     "end_time": "2022-09-16T16:20:18.395006Z",
     "start_time": "2022-09-16T16:20:18.390440Z"
    }
   },
   "outputs": [],
   "source": [
    "def log_model():\n",
    "    #run = wandb.init(project=“project=\"art_api\", job_type=\"training\")\n",
    "    \n",
    "    with wandb.init(project=\"art_api\") as run:\n",
    "        \n",
    "        baseline_model = wandb.Artifact(\n",
    "            name = \"baseline\",\n",
    "            type=\"model\",\n",
    "            description = \"Simple baseline model\")\n",
    "    \n",
    "        es = EarlyStopping(monitor = 'val_accuracy', \n",
    "                       mode = 'max', \n",
    "                       patience = 5, \n",
    "                       verbose = 1, \n",
    "                       restore_best_weights = True)\n",
    "        \n",
    "        # Define WandbCallback for experiment tracking\n",
    "        wandb_callback = WandbCallback(monitor='val_loss',\n",
    "                                       log_weights=True,\n",
    "                                       log_evaluation=True,\n",
    "                                       validation_steps=5)\n",
    "\n",
    "        callbacks = [es, wandb_callback]\n",
    "\n",
    "        model = load_baseline_model()\n",
    "\n",
    "        model.fit(X_train, y_train,  validation_data=(X_test, y_test),\n",
    "              callbacks=[callbacks], verbose=1, epochs=50)\n",
    "\n",
    "        filename = os.path.join(Path(\"../models\"), \"baseline\")\n",
    "        model.save(filename)\n",
    "        \n",
    "        loss, acc = model.evaluate(X_test, y_test)\n",
    "        wandb.log({'evaluate/accuracy': acc})"
   ]
  },
  {
   "cell_type": "code",
   "execution_count": 50,
   "id": "402a0723",
   "metadata": {
    "ExecuteTime": {
     "end_time": "2022-09-16T16:22:17.228437Z",
     "start_time": "2022-09-16T16:20:21.289843Z"
    }
   },
   "outputs": [
    {
     "data": {
      "text/html": [
       "Changes to your `wandb` environment variables will be ignored because your `wandb` session has already started. For more information on how to modify your settings with `wandb.init()` arguments, please refer to <a href=\"https://wandb.me/wandb-init\" target=\"_blank\">the W&B docs</a>."
      ],
      "text/plain": [
       "<IPython.core.display.HTML object>"
      ]
     },
     "metadata": {},
     "output_type": "display_data"
    },
    {
     "data": {
      "text/html": [
       "Tracking run with wandb version 0.13.3"
      ],
      "text/plain": [
       "<IPython.core.display.HTML object>"
      ]
     },
     "metadata": {},
     "output_type": "display_data"
    },
    {
     "data": {
      "text/html": [
       "Run data is saved locally in <code>/home/erniesg/code/erniesg/art_api/notebooks/wandb/run-20220917_002021-1krtnfto</code>"
      ],
      "text/plain": [
       "<IPython.core.display.HTML object>"
      ]
     },
     "metadata": {},
     "output_type": "display_data"
    },
    {
     "data": {
      "text/html": [
       "Syncing run <strong><a href=\"https://wandb.ai/art_api/art_api/runs/1krtnfto\" target=\"_blank\">vague-deluge-15</a></strong> to <a href=\"https://wandb.ai/art_api/art_api\" target=\"_blank\">Weights & Biases</a> (<a href=\"https://wandb.me/run\" target=\"_blank\">docs</a>)<br/>"
      ],
      "text/plain": [
       "<IPython.core.display.HTML object>"
      ]
     },
     "metadata": {},
     "output_type": "display_data"
    },
    {
     "name": "stderr",
     "output_type": "stream",
     "text": [
      "\u001b[34m\u001b[1mwandb\u001b[0m: \u001b[33mWARNING\u001b[0m The save_model argument by default saves the model in the HDF5 format that cannot save custom objects like subclassed models and custom layers. This behavior will be deprecated in a future release in favor of the SavedModel format. Meanwhile, the HDF5 model is saved as W&B files and the SavedModel as W&B Artifacts.\n",
      "\u001b[34m\u001b[1mwandb\u001b[0m: \u001b[33mWARNING\u001b[0m WandbCallback is unable to read validation_data from trainer and therefore cannot log validation data. Ensure Keras is properly patched by calling `from wandb.keras import WandbCallback` at the top of your script.\n"
     ]
    },
    {
     "name": "stdout",
     "output_type": "stream",
     "text": [
      "WARNING:tensorflow:From /home/erniesg/.pyenv/versions/3.8.12/envs/lewagon/lib/python3.8/site-packages/tensorflow/python/profiler/internal/flops_registry.py:138: tensor_shape_from_node_def_name (from tensorflow.python.framework.graph_util_impl) is deprecated and will be removed in a future version.\n",
      "Instructions for updating:\n",
      "Use `tf.compat.v1.graph_util.tensor_shape_from_node_def_name`\n"
     ]
    },
    {
     "name": "stderr",
     "output_type": "stream",
     "text": [
      "2022-09-17 00:20:22.771033: I tensorflow/stream_executor/cuda/cuda_gpu_executor.cc:961] could not open file to read NUMA node: /sys/bus/pci/devices/0000:06:00.0/numa_node\n",
      "Your kernel may have been built without NUMA support.\n",
      "2022-09-17 00:20:22.771088: I tensorflow/core/grappler/devices.cc:66] Number of eligible GPUs (core count >= 8, compute capability >= 0.0): 1\n",
      "2022-09-17 00:20:22.771239: I tensorflow/core/grappler/clusters/single_machine.cc:358] Starting new session\n",
      "2022-09-17 00:20:22.771913: I tensorflow/stream_executor/cuda/cuda_gpu_executor.cc:961] could not open file to read NUMA node: /sys/bus/pci/devices/0000:06:00.0/numa_node\n",
      "Your kernel may have been built without NUMA support.\n",
      "2022-09-17 00:20:22.772278: I tensorflow/stream_executor/cuda/cuda_gpu_executor.cc:961] could not open file to read NUMA node: /sys/bus/pci/devices/0000:06:00.0/numa_node\n",
      "Your kernel may have been built without NUMA support.\n",
      "2022-09-17 00:20:22.772572: I tensorflow/stream_executor/cuda/cuda_gpu_executor.cc:961] could not open file to read NUMA node: /sys/bus/pci/devices/0000:06:00.0/numa_node\n",
      "Your kernel may have been built without NUMA support.\n",
      "2022-09-17 00:20:22.773405: I tensorflow/stream_executor/cuda/cuda_gpu_executor.cc:961] could not open file to read NUMA node: /sys/bus/pci/devices/0000:06:00.0/numa_node\n",
      "Your kernel may have been built without NUMA support.\n",
      "2022-09-17 00:20:22.773417: I tensorflow/core/common_runtime/gpu/gpu_device.cc:1616] Could not identify NUMA node of platform GPU id 0, defaulting to 0.  Your kernel may not have been built with NUMA support.\n",
      "2022-09-17 00:20:22.773739: I tensorflow/stream_executor/cuda/cuda_gpu_executor.cc:961] could not open file to read NUMA node: /sys/bus/pci/devices/0000:06:00.0/numa_node\n",
      "Your kernel may have been built without NUMA support.\n",
      "2022-09-17 00:20:22.773764: I tensorflow/core/common_runtime/gpu/gpu_device.cc:1532] Created device /job:localhost/replica:0/task:0/device:GPU:0 with 5423 MB memory:  -> device: 0, name: NVIDIA GeForce RTX 3070, pci bus id: 0000:06:00.0, compute capability: 8.6\n",
      "WARNING:tensorflow:From /home/erniesg/.pyenv/versions/3.8.12/envs/lewagon/lib/python3.8/site-packages/tensorflow/python/profiler/internal/flops_registry.py:138: tensor_shape_from_node_def_name (from tensorflow.python.framework.graph_util_impl) is deprecated and will be removed in a future version.\n",
      "Instructions for updating:\n",
      "Use `tf.compat.v1.graph_util.tensor_shape_from_node_def_name`\n"
     ]
    },
    {
     "name": "stdout",
     "output_type": "stream",
     "text": [
      "Epoch 1/50\n",
      "181/182 [============================>.] - ETA: 0s - loss: 0.3647 - accuracy: 0.2490"
     ]
    },
    {
     "name": "stderr",
     "output_type": "stream",
     "text": [
      "WARNING:absl:Found untraced functions such as _jit_compiled_convolution_op, _jit_compiled_convolution_op, _jit_compiled_convolution_op while saving (showing 3 of 3). These functions will not be directly callable after loading.\n"
     ]
    },
    {
     "name": "stdout",
     "output_type": "stream",
     "text": [
      "INFO:tensorflow:Assets written to: /home/erniesg/code/erniesg/art_api/notebooks/wandb/run-20220917_002021-1krtnfto/files/model-best/assets\n"
     ]
    },
    {
     "name": "stderr",
     "output_type": "stream",
     "text": [
      "INFO:tensorflow:Assets written to: /home/erniesg/code/erniesg/art_api/notebooks/wandb/run-20220917_002021-1krtnfto/files/model-best/assets\n",
      "\u001b[34m\u001b[1mwandb\u001b[0m: Adding directory to artifact (/home/erniesg/code/erniesg/art_api/notebooks/wandb/run-20220917_002021-1krtnfto/files/model-best)... Done. 0.0s\n"
     ]
    },
    {
     "name": "stdout",
     "output_type": "stream",
     "text": [
      "182/182 [==============================] - 5s 28ms/step - loss: 0.3645 - accuracy: 0.2490 - val_loss: 0.3182 - val_accuracy: 0.3031\n",
      "Epoch 2/50\n",
      "181/182 [============================>.] - ETA: 0s - loss: 0.3203 - accuracy: 0.3099"
     ]
    },
    {
     "name": "stderr",
     "output_type": "stream",
     "text": [
      "WARNING:absl:Found untraced functions such as _jit_compiled_convolution_op, _jit_compiled_convolution_op, _jit_compiled_convolution_op while saving (showing 3 of 3). These functions will not be directly callable after loading.\n"
     ]
    },
    {
     "name": "stdout",
     "output_type": "stream",
     "text": [
      "INFO:tensorflow:Assets written to: /home/erniesg/code/erniesg/art_api/notebooks/wandb/run-20220917_002021-1krtnfto/files/model-best/assets\n"
     ]
    },
    {
     "name": "stderr",
     "output_type": "stream",
     "text": [
      "INFO:tensorflow:Assets written to: /home/erniesg/code/erniesg/art_api/notebooks/wandb/run-20220917_002021-1krtnfto/files/model-best/assets\n",
      "\u001b[34m\u001b[1mwandb\u001b[0m: Adding directory to artifact (/home/erniesg/code/erniesg/art_api/notebooks/wandb/run-20220917_002021-1krtnfto/files/model-best)... Done. 0.0s\n"
     ]
    },
    {
     "name": "stdout",
     "output_type": "stream",
     "text": [
      "182/182 [==============================] - 5s 27ms/step - loss: 0.3201 - accuracy: 0.3098 - val_loss: 0.3020 - val_accuracy: 0.3392\n",
      "Epoch 3/50\n",
      "181/182 [============================>.] - ETA: 0s - loss: 0.3095 - accuracy: 0.3308"
     ]
    },
    {
     "name": "stderr",
     "output_type": "stream",
     "text": [
      "WARNING:absl:Found untraced functions such as _jit_compiled_convolution_op, _jit_compiled_convolution_op, _jit_compiled_convolution_op while saving (showing 3 of 3). These functions will not be directly callable after loading.\n"
     ]
    },
    {
     "name": "stdout",
     "output_type": "stream",
     "text": [
      "INFO:tensorflow:Assets written to: /home/erniesg/code/erniesg/art_api/notebooks/wandb/run-20220917_002021-1krtnfto/files/model-best/assets\n"
     ]
    },
    {
     "name": "stderr",
     "output_type": "stream",
     "text": [
      "INFO:tensorflow:Assets written to: /home/erniesg/code/erniesg/art_api/notebooks/wandb/run-20220917_002021-1krtnfto/files/model-best/assets\n",
      "\u001b[34m\u001b[1mwandb\u001b[0m: Adding directory to artifact (/home/erniesg/code/erniesg/art_api/notebooks/wandb/run-20220917_002021-1krtnfto/files/model-best)... Done. 0.0s\n"
     ]
    },
    {
     "name": "stdout",
     "output_type": "stream",
     "text": [
      "182/182 [==============================] - 5s 27ms/step - loss: 0.3094 - accuracy: 0.3312 - val_loss: 0.2991 - val_accuracy: 0.3625\n",
      "Epoch 4/50\n",
      "181/182 [============================>.] - ETA: 0s - loss: 0.3020 - accuracy: 0.3522"
     ]
    },
    {
     "name": "stderr",
     "output_type": "stream",
     "text": [
      "WARNING:absl:Found untraced functions such as _jit_compiled_convolution_op, _jit_compiled_convolution_op, _jit_compiled_convolution_op while saving (showing 3 of 3). These functions will not be directly callable after loading.\n"
     ]
    },
    {
     "name": "stdout",
     "output_type": "stream",
     "text": [
      "INFO:tensorflow:Assets written to: /home/erniesg/code/erniesg/art_api/notebooks/wandb/run-20220917_002021-1krtnfto/files/model-best/assets\n"
     ]
    },
    {
     "name": "stderr",
     "output_type": "stream",
     "text": [
      "INFO:tensorflow:Assets written to: /home/erniesg/code/erniesg/art_api/notebooks/wandb/run-20220917_002021-1krtnfto/files/model-best/assets\n",
      "\u001b[34m\u001b[1mwandb\u001b[0m: Adding directory to artifact (/home/erniesg/code/erniesg/art_api/notebooks/wandb/run-20220917_002021-1krtnfto/files/model-best)... Done. 0.0s\n"
     ]
    },
    {
     "name": "stdout",
     "output_type": "stream",
     "text": [
      "182/182 [==============================] - 5s 27ms/step - loss: 0.3020 - accuracy: 0.3525 - val_loss: 0.2927 - val_accuracy: 0.3987\n",
      "Epoch 5/50\n",
      "181/182 [============================>.] - ETA: 0s - loss: 0.2967 - accuracy: 0.3581"
     ]
    },
    {
     "name": "stderr",
     "output_type": "stream",
     "text": [
      "WARNING:absl:Found untraced functions such as _jit_compiled_convolution_op, _jit_compiled_convolution_op, _jit_compiled_convolution_op while saving (showing 3 of 3). These functions will not be directly callable after loading.\n"
     ]
    },
    {
     "name": "stdout",
     "output_type": "stream",
     "text": [
      "INFO:tensorflow:Assets written to: /home/erniesg/code/erniesg/art_api/notebooks/wandb/run-20220917_002021-1krtnfto/files/model-best/assets\n"
     ]
    },
    {
     "name": "stderr",
     "output_type": "stream",
     "text": [
      "INFO:tensorflow:Assets written to: /home/erniesg/code/erniesg/art_api/notebooks/wandb/run-20220917_002021-1krtnfto/files/model-best/assets\n",
      "\u001b[34m\u001b[1mwandb\u001b[0m: Adding directory to artifact (/home/erniesg/code/erniesg/art_api/notebooks/wandb/run-20220917_002021-1krtnfto/files/model-best)... Done. 0.0s\n"
     ]
    },
    {
     "name": "stdout",
     "output_type": "stream",
     "text": [
      "182/182 [==============================] - 5s 27ms/step - loss: 0.2968 - accuracy: 0.3580 - val_loss: 0.2915 - val_accuracy: 0.3778\n",
      "Epoch 6/50\n",
      "181/182 [============================>.] - ETA: 0s - loss: 0.2925 - accuracy: 0.3677"
     ]
    },
    {
     "name": "stderr",
     "output_type": "stream",
     "text": [
      "WARNING:absl:Found untraced functions such as _jit_compiled_convolution_op, _jit_compiled_convolution_op, _jit_compiled_convolution_op while saving (showing 3 of 3). These functions will not be directly callable after loading.\n"
     ]
    },
    {
     "name": "stdout",
     "output_type": "stream",
     "text": [
      "INFO:tensorflow:Assets written to: /home/erniesg/code/erniesg/art_api/notebooks/wandb/run-20220917_002021-1krtnfto/files/model-best/assets\n"
     ]
    },
    {
     "name": "stderr",
     "output_type": "stream",
     "text": [
      "INFO:tensorflow:Assets written to: /home/erniesg/code/erniesg/art_api/notebooks/wandb/run-20220917_002021-1krtnfto/files/model-best/assets\n",
      "\u001b[34m\u001b[1mwandb\u001b[0m: Adding directory to artifact (/home/erniesg/code/erniesg/art_api/notebooks/wandb/run-20220917_002021-1krtnfto/files/model-best)... Done. 0.0s\n"
     ]
    },
    {
     "name": "stdout",
     "output_type": "stream",
     "text": [
      "182/182 [==============================] - 5s 28ms/step - loss: 0.2925 - accuracy: 0.3675 - val_loss: 0.2865 - val_accuracy: 0.3979\n",
      "Epoch 7/50\n",
      "180/182 [============================>.] - ETA: 0s - loss: 0.2892 - accuracy: 0.3800"
     ]
    },
    {
     "name": "stderr",
     "output_type": "stream",
     "text": [
      "WARNING:absl:Found untraced functions such as _jit_compiled_convolution_op, _jit_compiled_convolution_op, _jit_compiled_convolution_op while saving (showing 3 of 3). These functions will not be directly callable after loading.\n"
     ]
    },
    {
     "name": "stdout",
     "output_type": "stream",
     "text": [
      "INFO:tensorflow:Assets written to: /home/erniesg/code/erniesg/art_api/notebooks/wandb/run-20220917_002021-1krtnfto/files/model-best/assets\n"
     ]
    },
    {
     "name": "stderr",
     "output_type": "stream",
     "text": [
      "INFO:tensorflow:Assets written to: /home/erniesg/code/erniesg/art_api/notebooks/wandb/run-20220917_002021-1krtnfto/files/model-best/assets\n",
      "\u001b[34m\u001b[1mwandb\u001b[0m: Adding directory to artifact (/home/erniesg/code/erniesg/art_api/notebooks/wandb/run-20220917_002021-1krtnfto/files/model-best)... Done. 0.0s\n"
     ]
    },
    {
     "name": "stdout",
     "output_type": "stream",
     "text": [
      "182/182 [==============================] - 5s 29ms/step - loss: 0.2894 - accuracy: 0.3794 - val_loss: 0.2853 - val_accuracy: 0.4019\n",
      "Epoch 8/50\n",
      "181/182 [============================>.] - ETA: 0s - loss: 0.2865 - accuracy: 0.3902"
     ]
    },
    {
     "name": "stderr",
     "output_type": "stream",
     "text": [
      "WARNING:absl:Found untraced functions such as _jit_compiled_convolution_op, _jit_compiled_convolution_op, _jit_compiled_convolution_op while saving (showing 3 of 3). These functions will not be directly callable after loading.\n"
     ]
    },
    {
     "name": "stdout",
     "output_type": "stream",
     "text": [
      "INFO:tensorflow:Assets written to: /home/erniesg/code/erniesg/art_api/notebooks/wandb/run-20220917_002021-1krtnfto/files/model-best/assets\n"
     ]
    },
    {
     "name": "stderr",
     "output_type": "stream",
     "text": [
      "INFO:tensorflow:Assets written to: /home/erniesg/code/erniesg/art_api/notebooks/wandb/run-20220917_002021-1krtnfto/files/model-best/assets\n",
      "\u001b[34m\u001b[1mwandb\u001b[0m: Adding directory to artifact (/home/erniesg/code/erniesg/art_api/notebooks/wandb/run-20220917_002021-1krtnfto/files/model-best)... Done. 0.0s\n"
     ]
    },
    {
     "name": "stdout",
     "output_type": "stream",
     "text": [
      "182/182 [==============================] - 5s 27ms/step - loss: 0.2864 - accuracy: 0.3904 - val_loss: 0.2830 - val_accuracy: 0.4019\n",
      "Epoch 9/50\n",
      "182/182 [==============================] - 4s 22ms/step - loss: 0.2821 - accuracy: 0.3976 - val_loss: 0.2856 - val_accuracy: 0.3891\n",
      "Epoch 10/50\n",
      "181/182 [============================>.] - ETA: 0s - loss: 0.2796 - accuracy: 0.4102"
     ]
    },
    {
     "name": "stderr",
     "output_type": "stream",
     "text": [
      "WARNING:absl:Found untraced functions such as _jit_compiled_convolution_op, _jit_compiled_convolution_op, _jit_compiled_convolution_op while saving (showing 3 of 3). These functions will not be directly callable after loading.\n"
     ]
    },
    {
     "name": "stdout",
     "output_type": "stream",
     "text": [
      "INFO:tensorflow:Assets written to: /home/erniesg/code/erniesg/art_api/notebooks/wandb/run-20220917_002021-1krtnfto/files/model-best/assets\n"
     ]
    },
    {
     "name": "stderr",
     "output_type": "stream",
     "text": [
      "INFO:tensorflow:Assets written to: /home/erniesg/code/erniesg/art_api/notebooks/wandb/run-20220917_002021-1krtnfto/files/model-best/assets\n",
      "\u001b[34m\u001b[1mwandb\u001b[0m: Adding directory to artifact (/home/erniesg/code/erniesg/art_api/notebooks/wandb/run-20220917_002021-1krtnfto/files/model-best)... Done. 0.0s\n"
     ]
    },
    {
     "name": "stdout",
     "output_type": "stream",
     "text": [
      "182/182 [==============================] - 5s 27ms/step - loss: 0.2797 - accuracy: 0.4105 - val_loss: 0.2805 - val_accuracy: 0.4140\n",
      "Epoch 11/50\n",
      "181/182 [============================>.] - ETA: 0s - loss: 0.2776 - accuracy: 0.4104"
     ]
    },
    {
     "name": "stderr",
     "output_type": "stream",
     "text": [
      "WARNING:absl:Found untraced functions such as _jit_compiled_convolution_op, _jit_compiled_convolution_op, _jit_compiled_convolution_op while saving (showing 3 of 3). These functions will not be directly callable after loading.\n"
     ]
    },
    {
     "name": "stdout",
     "output_type": "stream",
     "text": [
      "INFO:tensorflow:Assets written to: /home/erniesg/code/erniesg/art_api/notebooks/wandb/run-20220917_002021-1krtnfto/files/model-best/assets\n"
     ]
    },
    {
     "name": "stderr",
     "output_type": "stream",
     "text": [
      "INFO:tensorflow:Assets written to: /home/erniesg/code/erniesg/art_api/notebooks/wandb/run-20220917_002021-1krtnfto/files/model-best/assets\n",
      "\u001b[34m\u001b[1mwandb\u001b[0m: Adding directory to artifact (/home/erniesg/code/erniesg/art_api/notebooks/wandb/run-20220917_002021-1krtnfto/files/model-best)... Done. 0.0s\n"
     ]
    },
    {
     "name": "stdout",
     "output_type": "stream",
     "text": [
      "182/182 [==============================] - 5s 27ms/step - loss: 0.2776 - accuracy: 0.4107 - val_loss: 0.2802 - val_accuracy: 0.4003\n",
      "Epoch 12/50\n",
      "181/182 [============================>.] - ETA: 0s - loss: 0.2739 - accuracy: 0.4197"
     ]
    },
    {
     "name": "stderr",
     "output_type": "stream",
     "text": [
      "WARNING:absl:Found untraced functions such as _jit_compiled_convolution_op, _jit_compiled_convolution_op, _jit_compiled_convolution_op while saving (showing 3 of 3). These functions will not be directly callable after loading.\n"
     ]
    },
    {
     "name": "stdout",
     "output_type": "stream",
     "text": [
      "INFO:tensorflow:Assets written to: /home/erniesg/code/erniesg/art_api/notebooks/wandb/run-20220917_002021-1krtnfto/files/model-best/assets\n"
     ]
    },
    {
     "name": "stderr",
     "output_type": "stream",
     "text": [
      "INFO:tensorflow:Assets written to: /home/erniesg/code/erniesg/art_api/notebooks/wandb/run-20220917_002021-1krtnfto/files/model-best/assets\n",
      "\u001b[34m\u001b[1mwandb\u001b[0m: Adding directory to artifact (/home/erniesg/code/erniesg/art_api/notebooks/wandb/run-20220917_002021-1krtnfto/files/model-best)... Done. 0.0s\n"
     ]
    },
    {
     "name": "stdout",
     "output_type": "stream",
     "text": [
      "182/182 [==============================] - 5s 27ms/step - loss: 0.2740 - accuracy: 0.4193 - val_loss: 0.2801 - val_accuracy: 0.4188\n",
      "Epoch 13/50\n",
      "182/182 [==============================] - 4s 22ms/step - loss: 0.2713 - accuracy: 0.4255 - val_loss: 0.2814 - val_accuracy: 0.3963\n",
      "Epoch 14/50\n",
      "181/182 [============================>.] - ETA: 0s - loss: 0.2689 - accuracy: 0.4308"
     ]
    },
    {
     "name": "stderr",
     "output_type": "stream",
     "text": [
      "WARNING:absl:Found untraced functions such as _jit_compiled_convolution_op, _jit_compiled_convolution_op, _jit_compiled_convolution_op while saving (showing 3 of 3). These functions will not be directly callable after loading.\n"
     ]
    },
    {
     "name": "stdout",
     "output_type": "stream",
     "text": [
      "INFO:tensorflow:Assets written to: /home/erniesg/code/erniesg/art_api/notebooks/wandb/run-20220917_002021-1krtnfto/files/model-best/assets\n"
     ]
    },
    {
     "name": "stderr",
     "output_type": "stream",
     "text": [
      "INFO:tensorflow:Assets written to: /home/erniesg/code/erniesg/art_api/notebooks/wandb/run-20220917_002021-1krtnfto/files/model-best/assets\n",
      "\u001b[34m\u001b[1mwandb\u001b[0m: Adding directory to artifact (/home/erniesg/code/erniesg/art_api/notebooks/wandb/run-20220917_002021-1krtnfto/files/model-best)... Done. 0.0s\n"
     ]
    },
    {
     "name": "stdout",
     "output_type": "stream",
     "text": [
      "182/182 [==============================] - 5s 27ms/step - loss: 0.2688 - accuracy: 0.4315 - val_loss: 0.2787 - val_accuracy: 0.4172\n",
      "Epoch 15/50\n",
      "182/182 [==============================] - 4s 22ms/step - loss: 0.2650 - accuracy: 0.4407 - val_loss: 0.2846 - val_accuracy: 0.3947\n",
      "Epoch 16/50\n",
      "181/182 [============================>.] - ETA: 0s - loss: 0.2626 - accuracy: 0.4460"
     ]
    },
    {
     "name": "stderr",
     "output_type": "stream",
     "text": [
      "WARNING:absl:Found untraced functions such as _jit_compiled_convolution_op, _jit_compiled_convolution_op, _jit_compiled_convolution_op while saving (showing 3 of 3). These functions will not be directly callable after loading.\n"
     ]
    },
    {
     "name": "stdout",
     "output_type": "stream",
     "text": [
      "INFO:tensorflow:Assets written to: /home/erniesg/code/erniesg/art_api/notebooks/wandb/run-20220917_002021-1krtnfto/files/model-best/assets\n"
     ]
    },
    {
     "name": "stderr",
     "output_type": "stream",
     "text": [
      "INFO:tensorflow:Assets written to: /home/erniesg/code/erniesg/art_api/notebooks/wandb/run-20220917_002021-1krtnfto/files/model-best/assets\n",
      "\u001b[34m\u001b[1mwandb\u001b[0m: Adding directory to artifact (/home/erniesg/code/erniesg/art_api/notebooks/wandb/run-20220917_002021-1krtnfto/files/model-best)... Done. 0.0s\n"
     ]
    },
    {
     "name": "stdout",
     "output_type": "stream",
     "text": [
      "182/182 [==============================] - 5s 27ms/step - loss: 0.2625 - accuracy: 0.4464 - val_loss: 0.2777 - val_accuracy: 0.4019\n",
      "Epoch 17/50\n",
      "181/182 [============================>.] - ETA: 0s - loss: 0.2583 - accuracy: 0.4591"
     ]
    },
    {
     "name": "stderr",
     "output_type": "stream",
     "text": [
      "WARNING:absl:Found untraced functions such as _jit_compiled_convolution_op, _jit_compiled_convolution_op, _jit_compiled_convolution_op while saving (showing 3 of 3). These functions will not be directly callable after loading.\n"
     ]
    },
    {
     "name": "stdout",
     "output_type": "stream",
     "text": [
      "INFO:tensorflow:Assets written to: /home/erniesg/code/erniesg/art_api/notebooks/wandb/run-20220917_002021-1krtnfto/files/model-best/assets\n"
     ]
    },
    {
     "name": "stderr",
     "output_type": "stream",
     "text": [
      "INFO:tensorflow:Assets written to: /home/erniesg/code/erniesg/art_api/notebooks/wandb/run-20220917_002021-1krtnfto/files/model-best/assets\n",
      "\u001b[34m\u001b[1mwandb\u001b[0m: Adding directory to artifact (/home/erniesg/code/erniesg/art_api/notebooks/wandb/run-20220917_002021-1krtnfto/files/model-best)... Done. 0.0s\n"
     ]
    },
    {
     "name": "stdout",
     "output_type": "stream",
     "text": [
      "182/182 [==============================] - 5s 27ms/step - loss: 0.2582 - accuracy: 0.4593 - val_loss: 0.2763 - val_accuracy: 0.4212\n",
      "Epoch 18/50\n",
      "182/182 [==============================] - 4s 22ms/step - loss: 0.2542 - accuracy: 0.4693 - val_loss: 0.2787 - val_accuracy: 0.4293\n",
      "Epoch 19/50\n",
      "182/182 [==============================] - 4s 22ms/step - loss: 0.2527 - accuracy: 0.4753 - val_loss: 0.2782 - val_accuracy: 0.4108\n",
      "Epoch 20/50\n",
      "182/182 [==============================] - 4s 22ms/step - loss: 0.2465 - accuracy: 0.4953 - val_loss: 0.2866 - val_accuracy: 0.3746\n",
      "Epoch 21/50\n",
      "182/182 [==============================] - 4s 23ms/step - loss: 0.2435 - accuracy: 0.5028 - val_loss: 0.2832 - val_accuracy: 0.4108\n",
      "Epoch 22/50\n",
      "182/182 [==============================] - 4s 22ms/step - loss: 0.2395 - accuracy: 0.5059 - val_loss: 0.2795 - val_accuracy: 0.4196\n",
      "Epoch 23/50\n",
      "181/182 [============================>.] - ETA: 0s - loss: 0.2361 - accuracy: 0.5129Restoring model weights from the end of the best epoch: 18.\n",
      "182/182 [==============================] - 4s 22ms/step - loss: 0.2362 - accuracy: 0.5130 - val_loss: 0.2817 - val_accuracy: 0.4132\n",
      "Epoch 23: early stopping\n"
     ]
    },
    {
     "name": "stderr",
     "output_type": "stream",
     "text": [
      "WARNING:absl:Found untraced functions such as _jit_compiled_convolution_op, _jit_compiled_convolution_op, _jit_compiled_convolution_op while saving (showing 3 of 3). These functions will not be directly callable after loading.\n"
     ]
    },
    {
     "name": "stdout",
     "output_type": "stream",
     "text": [
      "INFO:tensorflow:Assets written to: ../models/baseline/assets\n"
     ]
    },
    {
     "name": "stderr",
     "output_type": "stream",
     "text": [
      "INFO:tensorflow:Assets written to: ../models/baseline/assets\n"
     ]
    },
    {
     "name": "stdout",
     "output_type": "stream",
     "text": [
      "39/39 [==============================] - 0s 10ms/step - loss: 0.2787 - accuracy: 0.4293\n"
     ]
    },
    {
     "data": {
      "text/html": [
       "Waiting for W&B process to finish... <strong style=\"color:green\">(success).</strong>"
      ],
      "text/plain": [
       "<IPython.core.display.HTML object>"
      ]
     },
     "metadata": {},
     "output_type": "display_data"
    },
    {
     "data": {
      "application/vnd.jupyter.widget-view+json": {
       "model_id": "",
       "version_major": 2,
       "version_minor": 0
      },
      "text/plain": [
       "VBox(children=(Label(value='35.295 MB of 35.295 MB uploaded (0.019 MB deduped)\\r'), FloatProgress(value=1.0, m…"
      ]
     },
     "metadata": {},
     "output_type": "display_data"
    },
    {
     "data": {
      "text/html": [
       "<style>\n",
       "    table.wandb td:nth-child(1) { padding: 0 10px; text-align: left ; width: auto;} td:nth-child(2) {text-align: left ; width: 100%}\n",
       "    .wandb-row { display: flex; flex-direction: row; flex-wrap: wrap; justify-content: flex-start; width: 100% }\n",
       "    .wandb-col { display: flex; flex-direction: column; flex-basis: 100%; flex: 1; padding: 10px; }\n",
       "    </style>\n",
       "<div class=\"wandb-row\"><div class=\"wandb-col\"><h3>Run history:</h3><br/><table class=\"wandb\"><tr><td>accuracy</td><td>▁▃▃▄▄▄▄▅▅▅▅▆▆▆▆▆▇▇▇████</td></tr><tr><td>epoch</td><td>▁▁▂▂▂▃▃▃▄▄▄▅▅▅▅▆▆▆▇▇▇██</td></tr><tr><td>evaluate/accuracy</td><td>▁</td></tr><tr><td>loss</td><td>█▆▅▅▄▄▄▄▄▃▃▃▃▃▃▂▂▂▂▂▁▁▁</td></tr><tr><td>val_accuracy</td><td>▁▃▄▆▅▆▆▆▆▇▆▇▆▇▆▆██▇▅▇▇▇</td></tr><tr><td>val_loss</td><td>█▅▅▄▄▃▃▂▃▂▂▂▂▁▂▁▁▁▁▃▂▂▂</td></tr></table><br/></div><div class=\"wandb-col\"><h3>Run summary:</h3><br/><table class=\"wandb\"><tr><td>GFLOPs</td><td>0.49329</td></tr><tr><td>accuracy</td><td>0.513</td></tr><tr><td>best_epoch</td><td>16</td></tr><tr><td>best_val_loss</td><td>0.27628</td></tr><tr><td>epoch</td><td>22</td></tr><tr><td>evaluate/accuracy</td><td>0.42926</td></tr><tr><td>loss</td><td>0.23617</td></tr><tr><td>val_accuracy</td><td>0.41318</td></tr><tr><td>val_loss</td><td>0.28173</td></tr></table><br/></div></div>"
      ],
      "text/plain": [
       "<IPython.core.display.HTML object>"
      ]
     },
     "metadata": {},
     "output_type": "display_data"
    },
    {
     "data": {
      "text/html": [
       "Synced <strong style=\"color:#cdcd00\">vague-deluge-15</strong>: <a href=\"https://wandb.ai/art_api/art_api/runs/1krtnfto\" target=\"_blank\">https://wandb.ai/art_api/art_api/runs/1krtnfto</a><br/>Synced 5 W&B file(s), 1 media file(s), 43 artifact file(s) and 1 other file(s)"
      ],
      "text/plain": [
       "<IPython.core.display.HTML object>"
      ]
     },
     "metadata": {},
     "output_type": "display_data"
    },
    {
     "data": {
      "text/html": [
       "Find logs at: <code>./wandb/run-20220917_002021-1krtnfto/logs</code>"
      ],
      "text/plain": [
       "<IPython.core.display.HTML object>"
      ]
     },
     "metadata": {},
     "output_type": "display_data"
    }
   ],
   "source": [
    "log_model()"
   ]
  },
  {
   "cell_type": "markdown",
   "id": "6fae8c5f",
   "metadata": {},
   "source": [
    "# Sampling method 1: random undersampling"
   ]
  },
  {
   "cell_type": "code",
   "execution_count": 4,
   "id": "46066850",
   "metadata": {
    "ExecuteTime": {
     "end_time": "2022-09-16T21:22:26.017917Z",
     "start_time": "2022-09-16T21:22:25.793458Z"
    }
   },
   "outputs": [],
   "source": [
    "imgs, df = utils.init()"
   ]
  },
  {
   "cell_type": "code",
   "execution_count": 5,
   "id": "2094ae3d",
   "metadata": {
    "ExecuteTime": {
     "end_time": "2022-09-16T21:22:26.030402Z",
     "start_time": "2022-09-16T21:22:26.021180Z"
    }
   },
   "outputs": [
    {
     "data": {
      "text/plain": [
       "195"
      ]
     },
     "execution_count": 5,
     "metadata": {},
     "output_type": "execute_result"
    }
   ],
   "source": [
    "undersample_num = y.sum().min()\n",
    "undersample_num"
   ]
  },
  {
   "cell_type": "code",
   "execution_count": 6,
   "id": "93441d89",
   "metadata": {
    "ExecuteTime": {
     "end_time": "2022-09-16T21:22:26.035353Z",
     "start_time": "2022-09-16T21:22:26.032558Z"
    }
   },
   "outputs": [],
   "source": [
    "classes = ['aeroplane', 'bird', 'boat', 'chair', 'cow', 'diningtable', 'dog', 'horse', 'sheep', 'train']"
   ]
  },
  {
   "cell_type": "code",
   "execution_count": 7,
   "id": "c84565d6",
   "metadata": {
    "ExecuteTime": {
     "end_time": "2022-09-16T21:22:26.041130Z",
     "start_time": "2022-09-16T21:22:26.037447Z"
    }
   },
   "outputs": [],
   "source": [
    "y_sub = df.loc[:, ['aeroplane', 'bird', 'boat', 'chair', 'cow', 'diningtable',\n",
    "       'dog', 'horse', 'sheep', 'train']]"
   ]
  },
  {
   "cell_type": "code",
   "execution_count": 8,
   "id": "bb41be48",
   "metadata": {
    "ExecuteTime": {
     "end_time": "2022-09-16T21:22:26.055224Z",
     "start_time": "2022-09-16T21:22:26.043229Z"
    }
   },
   "outputs": [
    {
     "data": {
      "text/html": [
       "<div>\n",
       "<style scoped>\n",
       "    .dataframe tbody tr th:only-of-type {\n",
       "        vertical-align: middle;\n",
       "    }\n",
       "\n",
       "    .dataframe tbody tr th {\n",
       "        vertical-align: top;\n",
       "    }\n",
       "\n",
       "    .dataframe thead th {\n",
       "        text-align: right;\n",
       "    }\n",
       "</style>\n",
       "<table border=\"1\" class=\"dataframe\">\n",
       "  <thead>\n",
       "    <tr style=\"text-align: right;\">\n",
       "      <th></th>\n",
       "      <th>aeroplane</th>\n",
       "      <th>bird</th>\n",
       "      <th>boat</th>\n",
       "      <th>chair</th>\n",
       "      <th>cow</th>\n",
       "      <th>diningtable</th>\n",
       "      <th>dog</th>\n",
       "      <th>horse</th>\n",
       "      <th>sheep</th>\n",
       "      <th>train</th>\n",
       "    </tr>\n",
       "  </thead>\n",
       "  <tbody>\n",
       "    <tr>\n",
       "      <th>0</th>\n",
       "      <td>0</td>\n",
       "      <td>0</td>\n",
       "      <td>0</td>\n",
       "      <td>0</td>\n",
       "      <td>1</td>\n",
       "      <td>0</td>\n",
       "      <td>0</td>\n",
       "      <td>0</td>\n",
       "      <td>0</td>\n",
       "      <td>0</td>\n",
       "    </tr>\n",
       "    <tr>\n",
       "      <th>1</th>\n",
       "      <td>0</td>\n",
       "      <td>0</td>\n",
       "      <td>0</td>\n",
       "      <td>0</td>\n",
       "      <td>0</td>\n",
       "      <td>0</td>\n",
       "      <td>0</td>\n",
       "      <td>0</td>\n",
       "      <td>0</td>\n",
       "      <td>1</td>\n",
       "    </tr>\n",
       "    <tr>\n",
       "      <th>2</th>\n",
       "      <td>0</td>\n",
       "      <td>0</td>\n",
       "      <td>0</td>\n",
       "      <td>0</td>\n",
       "      <td>0</td>\n",
       "      <td>0</td>\n",
       "      <td>0</td>\n",
       "      <td>0</td>\n",
       "      <td>0</td>\n",
       "      <td>1</td>\n",
       "    </tr>\n",
       "    <tr>\n",
       "      <th>3</th>\n",
       "      <td>0</td>\n",
       "      <td>0</td>\n",
       "      <td>0</td>\n",
       "      <td>0</td>\n",
       "      <td>0</td>\n",
       "      <td>0</td>\n",
       "      <td>0</td>\n",
       "      <td>0</td>\n",
       "      <td>0</td>\n",
       "      <td>1</td>\n",
       "    </tr>\n",
       "    <tr>\n",
       "      <th>4</th>\n",
       "      <td>0</td>\n",
       "      <td>0</td>\n",
       "      <td>0</td>\n",
       "      <td>0</td>\n",
       "      <td>0</td>\n",
       "      <td>0</td>\n",
       "      <td>0</td>\n",
       "      <td>1</td>\n",
       "      <td>0</td>\n",
       "      <td>0</td>\n",
       "    </tr>\n",
       "    <tr>\n",
       "      <th>...</th>\n",
       "      <td>...</td>\n",
       "      <td>...</td>\n",
       "      <td>...</td>\n",
       "      <td>...</td>\n",
       "      <td>...</td>\n",
       "      <td>...</td>\n",
       "      <td>...</td>\n",
       "      <td>...</td>\n",
       "      <td>...</td>\n",
       "      <td>...</td>\n",
       "    </tr>\n",
       "    <tr>\n",
       "      <th>8291</th>\n",
       "      <td>0</td>\n",
       "      <td>0</td>\n",
       "      <td>0</td>\n",
       "      <td>0</td>\n",
       "      <td>0</td>\n",
       "      <td>1</td>\n",
       "      <td>0</td>\n",
       "      <td>0</td>\n",
       "      <td>0</td>\n",
       "      <td>0</td>\n",
       "    </tr>\n",
       "    <tr>\n",
       "      <th>8292</th>\n",
       "      <td>0</td>\n",
       "      <td>0</td>\n",
       "      <td>1</td>\n",
       "      <td>0</td>\n",
       "      <td>0</td>\n",
       "      <td>0</td>\n",
       "      <td>0</td>\n",
       "      <td>0</td>\n",
       "      <td>0</td>\n",
       "      <td>0</td>\n",
       "    </tr>\n",
       "    <tr>\n",
       "      <th>8293</th>\n",
       "      <td>0</td>\n",
       "      <td>1</td>\n",
       "      <td>0</td>\n",
       "      <td>0</td>\n",
       "      <td>0</td>\n",
       "      <td>0</td>\n",
       "      <td>0</td>\n",
       "      <td>0</td>\n",
       "      <td>0</td>\n",
       "      <td>0</td>\n",
       "    </tr>\n",
       "    <tr>\n",
       "      <th>8294</th>\n",
       "      <td>0</td>\n",
       "      <td>1</td>\n",
       "      <td>0</td>\n",
       "      <td>0</td>\n",
       "      <td>0</td>\n",
       "      <td>0</td>\n",
       "      <td>0</td>\n",
       "      <td>0</td>\n",
       "      <td>0</td>\n",
       "      <td>0</td>\n",
       "    </tr>\n",
       "    <tr>\n",
       "      <th>8295</th>\n",
       "      <td>0</td>\n",
       "      <td>1</td>\n",
       "      <td>0</td>\n",
       "      <td>0</td>\n",
       "      <td>0</td>\n",
       "      <td>0</td>\n",
       "      <td>0</td>\n",
       "      <td>0</td>\n",
       "      <td>0</td>\n",
       "      <td>0</td>\n",
       "    </tr>\n",
       "  </tbody>\n",
       "</table>\n",
       "<p>8296 rows × 10 columns</p>\n",
       "</div>"
      ],
      "text/plain": [
       "      aeroplane  bird  boat  chair  cow  diningtable  dog  horse  sheep  train\n",
       "0             0     0     0      0    1            0    0      0      0      0\n",
       "1             0     0     0      0    0            0    0      0      0      1\n",
       "2             0     0     0      0    0            0    0      0      0      1\n",
       "3             0     0     0      0    0            0    0      0      0      1\n",
       "4             0     0     0      0    0            0    0      1      0      0\n",
       "...         ...   ...   ...    ...  ...          ...  ...    ...    ...    ...\n",
       "8291          0     0     0      0    0            1    0      0      0      0\n",
       "8292          0     0     1      0    0            0    0      0      0      0\n",
       "8293          0     1     0      0    0            0    0      0      0      0\n",
       "8294          0     1     0      0    0            0    0      0      0      0\n",
       "8295          0     1     0      0    0            0    0      0      0      0\n",
       "\n",
       "[8296 rows x 10 columns]"
      ]
     },
     "execution_count": 8,
     "metadata": {},
     "output_type": "execute_result"
    }
   ],
   "source": [
    "y_sub"
   ]
  },
  {
   "cell_type": "code",
   "execution_count": 9,
   "id": "43ba7915",
   "metadata": {
    "ExecuteTime": {
     "end_time": "2022-09-16T21:22:26.064034Z",
     "start_time": "2022-09-16T21:22:26.057020Z"
    }
   },
   "outputs": [],
   "source": [
    "df_aeroplane, df_bird, df_boat, df_chair, df_cow, df_diningtable, df_dog, df_horse, df_sheep, df_train = [y_sub[y_sub[cls] == 1] for cls in classes]"
   ]
  },
  {
   "cell_type": "code",
   "execution_count": 10,
   "id": "91ad7efa",
   "metadata": {
    "ExecuteTime": {
     "end_time": "2022-09-16T21:22:26.070438Z",
     "start_time": "2022-09-16T21:22:26.066161Z"
    }
   },
   "outputs": [],
   "source": [
    "def undersample(n, cls_df):\n",
    "    '''This function will undersample all other classes based on the minority class\n",
    "    Args:\n",
    "    n = number of samples to obtain\n",
    "    X = class df, containing images from only 1 class\n",
    "    y = target df\n",
    "    Returns:\n",
    "    '''\n",
    "    cls_df = cls_df.sample(n)\n",
    "    cls_X = X[cls_df.index]\n",
    "    print(cls_df.index)\n",
    "\n",
    "    return cls_df, cls_X"
   ]
  },
  {
   "cell_type": "code",
   "execution_count": 11,
   "id": "8fd1f4fc",
   "metadata": {
    "ExecuteTime": {
     "end_time": "2022-09-16T21:22:26.128414Z",
     "start_time": "2022-09-16T21:22:26.073663Z"
    }
   },
   "outputs": [
    {
     "name": "stdout",
     "output_type": "stream",
     "text": [
      "Int64Index([ 662, 5224, 2221, 5584, 2971, 7630, 6419, 3851, 3148, 2964,\n",
      "            ...\n",
      "            3849, 3855, 3850, 2037, 4204, 2977, 5888,  548,  661, 5930],\n",
      "           dtype='int64', length=195)\n",
      "Int64Index([2726, 1687, 7094, 5368, 1683, 6376, 4994, 4850, 5950, 4770,\n",
      "            ...\n",
      "             264, 8049,  982, 7695, 4711, 4450,  993, 4771, 8056, 7244],\n",
      "           dtype='int64', length=195)\n",
      "Int64Index([ 483, 1084, 2659, 1288,  631, 4288, 3267, 4735, 7868, 1243,\n",
      "            ...\n",
      "             615, 1234,  741, 3619, 4796, 1278, 7323, 2813, 4882, 6807],\n",
      "           dtype='int64', length=195)\n",
      "Int64Index([4631,  678, 7793, 5970, 5098, 4513, 8114, 2254, 2894, 2900,\n",
      "            ...\n",
      "            2800, 2954, 6006, 5526, 2995, 2117, 5073, 3713,  810, 4592],\n",
      "           dtype='int64', length=195)\n",
      "Int64Index([ 825, 6622, 3984, 3231,  441, 1934,  207, 4004, 1907, 3234,\n",
      "            ...\n",
      "             815, 1847, 2417, 1879, 1851, 7817, 1857, 1834,  431, 1924],\n",
      "           dtype='int64', length=195)\n",
      "Int64Index([7099, 7024, 6459, 2922, 2731, 3654, 5251, 6319, 5145, 7199,\n",
      "            ...\n",
      "            1966, 5245, 6235, 6408, 6671, 6299, 7775,  804, 7792,  704],\n",
      "           dtype='int64', length=195)\n",
      "Int64Index([1398, 7039, 6735,  124, 6250, 4210, 6057, 6808, 6029, 3061,\n",
      "            ...\n",
      "            1048, 6775, 3053, 7933, 5258, 1491, 3771, 7545, 2790, 3752],\n",
      "           dtype='int64', length=195)\n",
      "Int64Index([6902,  715,  317, 3482, 1815, 3491, 3185, 3465, 6479,  215,\n",
      "            ...\n",
      "            6002,   78, 2831, 3390, 6142, 4035, 4922, 7052, 7017, 6856],\n",
      "           dtype='int64', length=195)\n",
      "Int64Index([3954, 5793, 5735, 5766, 1652, 2156, 5743, 1872, 4153, 5768,\n",
      "            ...\n",
      "            5861, 7374, 5163, 2426, 5843, 5396, 1424, 7174, 5770, 4124],\n",
      "           dtype='int64', length=195)\n",
      "Int64Index([ 448,  624, 3029,   12, 6842, 3030, 7429, 5885, 4726, 3261,\n",
      "            ...\n",
      "            6796, 3033, 4395, 5152, 3038, 5151, 7432, 1312, 2042, 3634],\n",
      "           dtype='int64', length=195)\n"
     ]
    }
   ],
   "source": [
    "cls_aeroplane, aeroplane_X = undersample(195, df_aeroplane)\n",
    "cls_bird, bird_X = undersample(195, df_bird)\n",
    "cls_boat, boat_X = undersample(195, df_boat)\n",
    "cls_chair, chair_X = undersample(195, df_chair)\n",
    "cls_cow, cow_X = undersample(195, df_cow)\n",
    "cls_diningtable, diningtable_X = undersample(195, df_diningtable)\n",
    "cls_dog, dog_X = undersample(195, df_dog)\n",
    "cls_horse, horse_X = undersample(195, df_horse)\n",
    "cls_sheep, sheep_X = undersample(195, df_sheep)\n",
    "cls_train, train_X = undersample(195, df_train)"
   ]
  },
  {
   "cell_type": "code",
   "execution_count": 12,
   "id": "27645ad9",
   "metadata": {
    "ExecuteTime": {
     "end_time": "2022-09-16T21:22:26.180338Z",
     "start_time": "2022-09-16T21:22:26.130594Z"
    }
   },
   "outputs": [],
   "source": [
    "X_under = np.concatenate((aeroplane_X, bird_X, boat_X, chair_X, cow_X, diningtable_X, dog_X, horse_X, sheep_X, train_X), axis=0)"
   ]
  },
  {
   "cell_type": "code",
   "execution_count": 13,
   "id": "55545355",
   "metadata": {
    "ExecuteTime": {
     "end_time": "2022-09-16T21:22:26.188431Z",
     "start_time": "2022-09-16T21:22:26.183068Z"
    }
   },
   "outputs": [],
   "source": [
    "y_under = pd.concat([cls_aeroplane, cls_bird, cls_boat, cls_chair, cls_cow, cls_diningtable, cls_dog, cls_horse, cls_sheep, cls_train])"
   ]
  },
  {
   "cell_type": "code",
   "execution_count": 14,
   "id": "5e3670d7",
   "metadata": {
    "ExecuteTime": {
     "end_time": "2022-09-16T21:22:26.199449Z",
     "start_time": "2022-09-16T21:22:26.190522Z"
    }
   },
   "outputs": [
    {
     "data": {
      "text/html": [
       "<div>\n",
       "<style scoped>\n",
       "    .dataframe tbody tr th:only-of-type {\n",
       "        vertical-align: middle;\n",
       "    }\n",
       "\n",
       "    .dataframe tbody tr th {\n",
       "        vertical-align: top;\n",
       "    }\n",
       "\n",
       "    .dataframe thead th {\n",
       "        text-align: right;\n",
       "    }\n",
       "</style>\n",
       "<table border=\"1\" class=\"dataframe\">\n",
       "  <thead>\n",
       "    <tr style=\"text-align: right;\">\n",
       "      <th></th>\n",
       "      <th>aeroplane</th>\n",
       "      <th>bird</th>\n",
       "      <th>boat</th>\n",
       "      <th>chair</th>\n",
       "      <th>cow</th>\n",
       "      <th>diningtable</th>\n",
       "      <th>dog</th>\n",
       "      <th>horse</th>\n",
       "      <th>sheep</th>\n",
       "      <th>train</th>\n",
       "    </tr>\n",
       "  </thead>\n",
       "  <tbody>\n",
       "    <tr>\n",
       "      <th>662</th>\n",
       "      <td>1</td>\n",
       "      <td>0</td>\n",
       "      <td>0</td>\n",
       "      <td>0</td>\n",
       "      <td>0</td>\n",
       "      <td>0</td>\n",
       "      <td>0</td>\n",
       "      <td>0</td>\n",
       "      <td>0</td>\n",
       "      <td>0</td>\n",
       "    </tr>\n",
       "    <tr>\n",
       "      <th>5224</th>\n",
       "      <td>1</td>\n",
       "      <td>0</td>\n",
       "      <td>0</td>\n",
       "      <td>0</td>\n",
       "      <td>0</td>\n",
       "      <td>0</td>\n",
       "      <td>0</td>\n",
       "      <td>0</td>\n",
       "      <td>0</td>\n",
       "      <td>0</td>\n",
       "    </tr>\n",
       "    <tr>\n",
       "      <th>2221</th>\n",
       "      <td>1</td>\n",
       "      <td>0</td>\n",
       "      <td>0</td>\n",
       "      <td>0</td>\n",
       "      <td>0</td>\n",
       "      <td>0</td>\n",
       "      <td>0</td>\n",
       "      <td>0</td>\n",
       "      <td>0</td>\n",
       "      <td>0</td>\n",
       "    </tr>\n",
       "    <tr>\n",
       "      <th>5584</th>\n",
       "      <td>1</td>\n",
       "      <td>0</td>\n",
       "      <td>0</td>\n",
       "      <td>0</td>\n",
       "      <td>0</td>\n",
       "      <td>0</td>\n",
       "      <td>0</td>\n",
       "      <td>0</td>\n",
       "      <td>0</td>\n",
       "      <td>0</td>\n",
       "    </tr>\n",
       "    <tr>\n",
       "      <th>2971</th>\n",
       "      <td>1</td>\n",
       "      <td>0</td>\n",
       "      <td>0</td>\n",
       "      <td>0</td>\n",
       "      <td>0</td>\n",
       "      <td>0</td>\n",
       "      <td>0</td>\n",
       "      <td>0</td>\n",
       "      <td>0</td>\n",
       "      <td>0</td>\n",
       "    </tr>\n",
       "    <tr>\n",
       "      <th>...</th>\n",
       "      <td>...</td>\n",
       "      <td>...</td>\n",
       "      <td>...</td>\n",
       "      <td>...</td>\n",
       "      <td>...</td>\n",
       "      <td>...</td>\n",
       "      <td>...</td>\n",
       "      <td>...</td>\n",
       "      <td>...</td>\n",
       "      <td>...</td>\n",
       "    </tr>\n",
       "    <tr>\n",
       "      <th>5151</th>\n",
       "      <td>0</td>\n",
       "      <td>0</td>\n",
       "      <td>0</td>\n",
       "      <td>0</td>\n",
       "      <td>0</td>\n",
       "      <td>0</td>\n",
       "      <td>0</td>\n",
       "      <td>0</td>\n",
       "      <td>0</td>\n",
       "      <td>1</td>\n",
       "    </tr>\n",
       "    <tr>\n",
       "      <th>7432</th>\n",
       "      <td>0</td>\n",
       "      <td>1</td>\n",
       "      <td>0</td>\n",
       "      <td>0</td>\n",
       "      <td>0</td>\n",
       "      <td>0</td>\n",
       "      <td>0</td>\n",
       "      <td>0</td>\n",
       "      <td>0</td>\n",
       "      <td>1</td>\n",
       "    </tr>\n",
       "    <tr>\n",
       "      <th>1312</th>\n",
       "      <td>0</td>\n",
       "      <td>0</td>\n",
       "      <td>0</td>\n",
       "      <td>0</td>\n",
       "      <td>0</td>\n",
       "      <td>0</td>\n",
       "      <td>0</td>\n",
       "      <td>0</td>\n",
       "      <td>0</td>\n",
       "      <td>1</td>\n",
       "    </tr>\n",
       "    <tr>\n",
       "      <th>2042</th>\n",
       "      <td>0</td>\n",
       "      <td>0</td>\n",
       "      <td>0</td>\n",
       "      <td>0</td>\n",
       "      <td>0</td>\n",
       "      <td>0</td>\n",
       "      <td>0</td>\n",
       "      <td>0</td>\n",
       "      <td>0</td>\n",
       "      <td>1</td>\n",
       "    </tr>\n",
       "    <tr>\n",
       "      <th>3634</th>\n",
       "      <td>0</td>\n",
       "      <td>0</td>\n",
       "      <td>0</td>\n",
       "      <td>0</td>\n",
       "      <td>0</td>\n",
       "      <td>0</td>\n",
       "      <td>0</td>\n",
       "      <td>0</td>\n",
       "      <td>0</td>\n",
       "      <td>1</td>\n",
       "    </tr>\n",
       "  </tbody>\n",
       "</table>\n",
       "<p>1950 rows × 10 columns</p>\n",
       "</div>"
      ],
      "text/plain": [
       "      aeroplane  bird  boat  chair  cow  diningtable  dog  horse  sheep  train\n",
       "662           1     0     0      0    0            0    0      0      0      0\n",
       "5224          1     0     0      0    0            0    0      0      0      0\n",
       "2221          1     0     0      0    0            0    0      0      0      0\n",
       "5584          1     0     0      0    0            0    0      0      0      0\n",
       "2971          1     0     0      0    0            0    0      0      0      0\n",
       "...         ...   ...   ...    ...  ...          ...  ...    ...    ...    ...\n",
       "5151          0     0     0      0    0            0    0      0      0      1\n",
       "7432          0     1     0      0    0            0    0      0      0      1\n",
       "1312          0     0     0      0    0            0    0      0      0      1\n",
       "2042          0     0     0      0    0            0    0      0      0      1\n",
       "3634          0     0     0      0    0            0    0      0      0      1\n",
       "\n",
       "[1950 rows x 10 columns]"
      ]
     },
     "execution_count": 14,
     "metadata": {},
     "output_type": "execute_result"
    }
   ],
   "source": [
    "y_under"
   ]
  },
  {
   "cell_type": "code",
   "execution_count": 15,
   "id": "7c9733f5",
   "metadata": {
    "ExecuteTime": {
     "end_time": "2022-09-16T21:22:26.204983Z",
     "start_time": "2022-09-16T21:22:26.201780Z"
    }
   },
   "outputs": [
    {
     "name": "stdout",
     "output_type": "stream",
     "text": [
      "(1950, 256, 256, 3)\n",
      "(1950, 10)\n"
     ]
    }
   ],
   "source": [
    "print(X_under.shape)\n",
    "print(y_under.shape)"
   ]
  },
  {
   "cell_type": "code",
   "execution_count": 16,
   "id": "449db813",
   "metadata": {
    "ExecuteTime": {
     "end_time": "2022-09-16T21:22:26.210068Z",
     "start_time": "2022-09-16T21:22:26.206844Z"
    }
   },
   "outputs": [],
   "source": [
    "input_shape = X_train.shape[1:]"
   ]
  },
  {
   "cell_type": "markdown",
   "id": "c627db09",
   "metadata": {
    "ExecuteTime": {
     "end_time": "2022-09-16T16:49:49.178440Z",
     "start_time": "2022-09-16T16:49:49.175483Z"
    }
   },
   "source": [
    "# Train baseline with balanced dataset"
   ]
  },
  {
   "cell_type": "code",
   "execution_count": 19,
   "id": "94948f5d",
   "metadata": {
    "ExecuteTime": {
     "end_time": "2022-09-16T18:54:06.079687Z",
     "start_time": "2022-09-16T18:54:05.997343Z"
    }
   },
   "outputs": [],
   "source": [
    "X_train, X_test, y_train, y_test = train_test_split(X_under, y_under, test_size=0.3)\n",
    "X_test, X_val, y_test, y_val = train_test_split(X_test, y_test, test_size=0.5)"
   ]
  },
  {
   "cell_type": "code",
   "execution_count": 104,
   "id": "8778cc44",
   "metadata": {
    "ExecuteTime": {
     "end_time": "2022-09-16T16:51:11.511450Z",
     "start_time": "2022-09-16T16:51:11.506541Z"
    }
   },
   "outputs": [],
   "source": [
    "def log_model():\n",
    "    #run = wandb.init(project=“project=\"art_api\", job_type=\"training\")\n",
    "    \n",
    "    with wandb.init(project=\"art_api\") as run:\n",
    "        \n",
    "        baseline_model = wandb.Artifact(\n",
    "            name = \"baseline-balanced\",\n",
    "            type=\"model\",\n",
    "            description = \"Simple baseline model on balanced dataset\")\n",
    "    \n",
    "        es = EarlyStopping(monitor = 'val_accuracy', \n",
    "                       mode = 'max', \n",
    "                       patience = 5, \n",
    "                       verbose = 1, \n",
    "                       restore_best_weights = True)\n",
    "        \n",
    "        # Define WandbCallback for experiment tracking\n",
    "        wandb_callback = WandbCallback(monitor='val_loss',\n",
    "                                       log_weights=True,\n",
    "                                       log_evaluation=True,\n",
    "                                       validation_steps=5)\n",
    "\n",
    "        callbacks = [es, wandb_callback]\n",
    "\n",
    "        model = load_baseline_model()\n",
    "\n",
    "        model.fit(X_train, y_train,  validation_data=(X_test, y_test),\n",
    "              callbacks=[callbacks], verbose=1, epochs=50)\n",
    "\n",
    "        filename = os.path.join(Path(\"../models\"), \"baseline_bal\")\n",
    "        model.save(filename)\n",
    "        \n",
    "        loss, acc = model.evaluate(X_test, y_test)\n",
    "        wandb.log({'evaluate/accuracy': acc})"
   ]
  },
  {
   "cell_type": "code",
   "execution_count": 105,
   "id": "9cab3c15",
   "metadata": {
    "ExecuteTime": {
     "end_time": "2022-09-16T16:52:07.934547Z",
     "start_time": "2022-09-16T16:51:12.495012Z"
    }
   },
   "outputs": [
    {
     "data": {
      "text/html": [
       "Changes to your `wandb` environment variables will be ignored because your `wandb` session has already started. For more information on how to modify your settings with `wandb.init()` arguments, please refer to <a href=\"https://wandb.me/wandb-init\" target=\"_blank\">the W&B docs</a>."
      ],
      "text/plain": [
       "<IPython.core.display.HTML object>"
      ]
     },
     "metadata": {},
     "output_type": "display_data"
    },
    {
     "data": {
      "text/html": [
       "Tracking run with wandb version 0.13.3"
      ],
      "text/plain": [
       "<IPython.core.display.HTML object>"
      ]
     },
     "metadata": {},
     "output_type": "display_data"
    },
    {
     "data": {
      "text/html": [
       "Run data is saved locally in <code>/home/erniesg/code/erniesg/art_api/notebooks/wandb/run-20220917_005112-j06u1plu</code>"
      ],
      "text/plain": [
       "<IPython.core.display.HTML object>"
      ]
     },
     "metadata": {},
     "output_type": "display_data"
    },
    {
     "data": {
      "text/html": [
       "Syncing run <strong><a href=\"https://wandb.ai/art_api/art_api/runs/j06u1plu\" target=\"_blank\">confused-yogurt-17</a></strong> to <a href=\"https://wandb.ai/art_api/art_api\" target=\"_blank\">Weights & Biases</a> (<a href=\"https://wandb.me/run\" target=\"_blank\">docs</a>)<br/>"
      ],
      "text/plain": [
       "<IPython.core.display.HTML object>"
      ]
     },
     "metadata": {},
     "output_type": "display_data"
    },
    {
     "name": "stderr",
     "output_type": "stream",
     "text": [
      "\u001b[34m\u001b[1mwandb\u001b[0m: \u001b[33mWARNING\u001b[0m WandbCallback is unable to read validation_data from trainer and therefore cannot log validation data. Ensure Keras is properly patched by calling `from wandb.keras import WandbCallback` at the top of your script.\n"
     ]
    },
    {
     "name": "stdout",
     "output_type": "stream",
     "text": [
      "Epoch 1/50\n"
     ]
    },
    {
     "name": "stderr",
     "output_type": "stream",
     "text": [
      "2022-09-17 00:51:13.538903: I tensorflow/stream_executor/cuda/cuda_gpu_executor.cc:961] could not open file to read NUMA node: /sys/bus/pci/devices/0000:06:00.0/numa_node\n",
      "Your kernel may have been built without NUMA support.\n",
      "2022-09-17 00:51:13.538964: I tensorflow/core/grappler/devices.cc:66] Number of eligible GPUs (core count >= 8, compute capability >= 0.0): 1\n",
      "2022-09-17 00:51:13.539088: I tensorflow/core/grappler/clusters/single_machine.cc:358] Starting new session\n",
      "2022-09-17 00:51:13.539750: I tensorflow/stream_executor/cuda/cuda_gpu_executor.cc:961] could not open file to read NUMA node: /sys/bus/pci/devices/0000:06:00.0/numa_node\n",
      "Your kernel may have been built without NUMA support.\n",
      "2022-09-17 00:51:13.540172: I tensorflow/stream_executor/cuda/cuda_gpu_executor.cc:961] could not open file to read NUMA node: /sys/bus/pci/devices/0000:06:00.0/numa_node\n",
      "Your kernel may have been built without NUMA support.\n",
      "2022-09-17 00:51:13.540615: I tensorflow/stream_executor/cuda/cuda_gpu_executor.cc:961] could not open file to read NUMA node: /sys/bus/pci/devices/0000:06:00.0/numa_node\n",
      "Your kernel may have been built without NUMA support.\n",
      "2022-09-17 00:51:13.541281: I tensorflow/stream_executor/cuda/cuda_gpu_executor.cc:961] could not open file to read NUMA node: /sys/bus/pci/devices/0000:06:00.0/numa_node\n",
      "Your kernel may have been built without NUMA support.\n",
      "2022-09-17 00:51:13.541293: I tensorflow/core/common_runtime/gpu/gpu_device.cc:1616] Could not identify NUMA node of platform GPU id 0, defaulting to 0.  Your kernel may not have been built with NUMA support.\n",
      "2022-09-17 00:51:13.541626: I tensorflow/stream_executor/cuda/cuda_gpu_executor.cc:961] could not open file to read NUMA node: /sys/bus/pci/devices/0000:06:00.0/numa_node\n",
      "Your kernel may have been built without NUMA support.\n",
      "2022-09-17 00:51:13.541659: I tensorflow/core/common_runtime/gpu/gpu_device.cc:1532] Created device /job:localhost/replica:0/task:0/device:GPU:0 with 5423 MB memory:  -> device: 0, name: NVIDIA GeForce RTX 3070, pci bus id: 0000:06:00.0, compute capability: 8.6\n"
     ]
    },
    {
     "name": "stdout",
     "output_type": "stream",
     "text": [
      " 6/43 [===>..........................] - ETA: 0s - loss: 0.6731 - accuracy: 0.0729WARNING:tensorflow:Callback method `on_train_batch_end` is slow compared to the batch time (batch time: 0.0169s vs `on_train_batch_end` time: 0.0268s). Check your callbacks.\n"
     ]
    },
    {
     "name": "stderr",
     "output_type": "stream",
     "text": [
      "WARNING:tensorflow:Callback method `on_train_batch_end` is slow compared to the batch time (batch time: 0.0169s vs `on_train_batch_end` time: 0.0268s). Check your callbacks.\n"
     ]
    },
    {
     "name": "stdout",
     "output_type": "stream",
     "text": [
      "43/43 [==============================] - ETA: 0s - loss: 0.4861 - accuracy: 0.1128"
     ]
    },
    {
     "name": "stderr",
     "output_type": "stream",
     "text": [
      "WARNING:absl:Found untraced functions such as _jit_compiled_convolution_op, _jit_compiled_convolution_op, _jit_compiled_convolution_op while saving (showing 3 of 3). These functions will not be directly callable after loading.\n"
     ]
    },
    {
     "name": "stdout",
     "output_type": "stream",
     "text": [
      "INFO:tensorflow:Assets written to: /home/erniesg/code/erniesg/art_api/notebooks/wandb/run-20220917_005112-j06u1plu/files/model-best/assets\n"
     ]
    },
    {
     "name": "stderr",
     "output_type": "stream",
     "text": [
      "INFO:tensorflow:Assets written to: /home/erniesg/code/erniesg/art_api/notebooks/wandb/run-20220917_005112-j06u1plu/files/model-best/assets\n",
      "\u001b[34m\u001b[1mwandb\u001b[0m: Adding directory to artifact (/home/erniesg/code/erniesg/art_api/notebooks/wandb/run-20220917_005112-j06u1plu/files/model-best)... Done. 0.0s\n"
     ]
    },
    {
     "name": "stdout",
     "output_type": "stream",
     "text": [
      "43/43 [==============================] - 3s 54ms/step - loss: 0.4861 - accuracy: 0.1128 - val_loss: 0.3999 - val_accuracy: 0.0685\n",
      "Epoch 2/50\n",
      "43/43 [==============================] - ETA: 0s - loss: 0.3950 - accuracy: 0.1150"
     ]
    },
    {
     "name": "stderr",
     "output_type": "stream",
     "text": [
      "WARNING:absl:Found untraced functions such as _jit_compiled_convolution_op, _jit_compiled_convolution_op, _jit_compiled_convolution_op while saving (showing 3 of 3). These functions will not be directly callable after loading.\n"
     ]
    },
    {
     "name": "stdout",
     "output_type": "stream",
     "text": [
      "INFO:tensorflow:Assets written to: /home/erniesg/code/erniesg/art_api/notebooks/wandb/run-20220917_005112-j06u1plu/files/model-best/assets\n"
     ]
    },
    {
     "name": "stderr",
     "output_type": "stream",
     "text": [
      "INFO:tensorflow:Assets written to: /home/erniesg/code/erniesg/art_api/notebooks/wandb/run-20220917_005112-j06u1plu/files/model-best/assets\n",
      "\u001b[34m\u001b[1mwandb\u001b[0m: Adding directory to artifact (/home/erniesg/code/erniesg/art_api/notebooks/wandb/run-20220917_005112-j06u1plu/files/model-best)... Done. 0.0s\n"
     ]
    },
    {
     "name": "stdout",
     "output_type": "stream",
     "text": [
      "43/43 [==============================] - 2s 43ms/step - loss: 0.3950 - accuracy: 0.1150 - val_loss: 0.3943 - val_accuracy: 0.0890\n",
      "Epoch 3/50\n",
      "43/43 [==============================] - ETA: 0s - loss: 0.3897 - accuracy: 0.1267"
     ]
    },
    {
     "name": "stderr",
     "output_type": "stream",
     "text": [
      "WARNING:absl:Found untraced functions such as _jit_compiled_convolution_op, _jit_compiled_convolution_op, _jit_compiled_convolution_op while saving (showing 3 of 3). These functions will not be directly callable after loading.\n"
     ]
    },
    {
     "name": "stdout",
     "output_type": "stream",
     "text": [
      "INFO:tensorflow:Assets written to: /home/erniesg/code/erniesg/art_api/notebooks/wandb/run-20220917_005112-j06u1plu/files/model-best/assets\n"
     ]
    },
    {
     "name": "stderr",
     "output_type": "stream",
     "text": [
      "INFO:tensorflow:Assets written to: /home/erniesg/code/erniesg/art_api/notebooks/wandb/run-20220917_005112-j06u1plu/files/model-best/assets\n",
      "\u001b[34m\u001b[1mwandb\u001b[0m: Adding directory to artifact (/home/erniesg/code/erniesg/art_api/notebooks/wandb/run-20220917_005112-j06u1plu/files/model-best)... Done. 0.0s\n"
     ]
    },
    {
     "name": "stdout",
     "output_type": "stream",
     "text": [
      "43/43 [==============================] - 2s 43ms/step - loss: 0.3897 - accuracy: 0.1267 - val_loss: 0.3891 - val_accuracy: 0.1473\n",
      "Epoch 4/50\n",
      "43/43 [==============================] - ETA: 0s - loss: 0.3832 - accuracy: 0.1582"
     ]
    },
    {
     "name": "stderr",
     "output_type": "stream",
     "text": [
      "WARNING:absl:Found untraced functions such as _jit_compiled_convolution_op, _jit_compiled_convolution_op, _jit_compiled_convolution_op while saving (showing 3 of 3). These functions will not be directly callable after loading.\n"
     ]
    },
    {
     "name": "stdout",
     "output_type": "stream",
     "text": [
      "INFO:tensorflow:Assets written to: /home/erniesg/code/erniesg/art_api/notebooks/wandb/run-20220917_005112-j06u1plu/files/model-best/assets\n"
     ]
    },
    {
     "name": "stderr",
     "output_type": "stream",
     "text": [
      "INFO:tensorflow:Assets written to: /home/erniesg/code/erniesg/art_api/notebooks/wandb/run-20220917_005112-j06u1plu/files/model-best/assets\n",
      "\u001b[34m\u001b[1mwandb\u001b[0m: Adding directory to artifact (/home/erniesg/code/erniesg/art_api/notebooks/wandb/run-20220917_005112-j06u1plu/files/model-best)... Done. 0.0s\n"
     ]
    },
    {
     "name": "stdout",
     "output_type": "stream",
     "text": [
      "43/43 [==============================] - 2s 51ms/step - loss: 0.3832 - accuracy: 0.1582 - val_loss: 0.3815 - val_accuracy: 0.1301\n",
      "Epoch 5/50\n",
      "43/43 [==============================] - ETA: 0s - loss: 0.3721 - accuracy: 0.1985"
     ]
    },
    {
     "name": "stderr",
     "output_type": "stream",
     "text": [
      "WARNING:absl:Found untraced functions such as _jit_compiled_convolution_op, _jit_compiled_convolution_op, _jit_compiled_convolution_op while saving (showing 3 of 3). These functions will not be directly callable after loading.\n"
     ]
    },
    {
     "name": "stdout",
     "output_type": "stream",
     "text": [
      "INFO:tensorflow:Assets written to: /home/erniesg/code/erniesg/art_api/notebooks/wandb/run-20220917_005112-j06u1plu/files/model-best/assets\n"
     ]
    },
    {
     "name": "stderr",
     "output_type": "stream",
     "text": [
      "INFO:tensorflow:Assets written to: /home/erniesg/code/erniesg/art_api/notebooks/wandb/run-20220917_005112-j06u1plu/files/model-best/assets\n",
      "\u001b[34m\u001b[1mwandb\u001b[0m: Adding directory to artifact (/home/erniesg/code/erniesg/art_api/notebooks/wandb/run-20220917_005112-j06u1plu/files/model-best)... Done. 0.0s\n"
     ]
    },
    {
     "name": "stdout",
     "output_type": "stream",
     "text": [
      "43/43 [==============================] - 2s 44ms/step - loss: 0.3721 - accuracy: 0.1985 - val_loss: 0.3693 - val_accuracy: 0.1747\n",
      "Epoch 6/50\n",
      "43/43 [==============================] - ETA: 0s - loss: 0.3615 - accuracy: 0.2491"
     ]
    },
    {
     "name": "stderr",
     "output_type": "stream",
     "text": [
      "WARNING:absl:Found untraced functions such as _jit_compiled_convolution_op, _jit_compiled_convolution_op, _jit_compiled_convolution_op while saving (showing 3 of 3). These functions will not be directly callable after loading.\n"
     ]
    },
    {
     "name": "stdout",
     "output_type": "stream",
     "text": [
      "INFO:tensorflow:Assets written to: /home/erniesg/code/erniesg/art_api/notebooks/wandb/run-20220917_005112-j06u1plu/files/model-best/assets\n"
     ]
    },
    {
     "name": "stderr",
     "output_type": "stream",
     "text": [
      "INFO:tensorflow:Assets written to: /home/erniesg/code/erniesg/art_api/notebooks/wandb/run-20220917_005112-j06u1plu/files/model-best/assets\n",
      "\u001b[34m\u001b[1mwandb\u001b[0m: Adding directory to artifact (/home/erniesg/code/erniesg/art_api/notebooks/wandb/run-20220917_005112-j06u1plu/files/model-best)... Done. 0.0s\n"
     ]
    },
    {
     "name": "stdout",
     "output_type": "stream",
     "text": [
      "43/43 [==============================] - 2s 44ms/step - loss: 0.3615 - accuracy: 0.2491 - val_loss: 0.3585 - val_accuracy: 0.2363\n",
      "Epoch 7/50\n",
      "43/43 [==============================] - ETA: 0s - loss: 0.3515 - accuracy: 0.2711"
     ]
    },
    {
     "name": "stderr",
     "output_type": "stream",
     "text": [
      "WARNING:absl:Found untraced functions such as _jit_compiled_convolution_op, _jit_compiled_convolution_op, _jit_compiled_convolution_op while saving (showing 3 of 3). These functions will not be directly callable after loading.\n"
     ]
    },
    {
     "name": "stdout",
     "output_type": "stream",
     "text": [
      "INFO:tensorflow:Assets written to: /home/erniesg/code/erniesg/art_api/notebooks/wandb/run-20220917_005112-j06u1plu/files/model-best/assets\n"
     ]
    },
    {
     "name": "stderr",
     "output_type": "stream",
     "text": [
      "INFO:tensorflow:Assets written to: /home/erniesg/code/erniesg/art_api/notebooks/wandb/run-20220917_005112-j06u1plu/files/model-best/assets\n",
      "\u001b[34m\u001b[1mwandb\u001b[0m: Adding directory to artifact (/home/erniesg/code/erniesg/art_api/notebooks/wandb/run-20220917_005112-j06u1plu/files/model-best)... Done. 0.0s\n"
     ]
    },
    {
     "name": "stdout",
     "output_type": "stream",
     "text": [
      "43/43 [==============================] - 2s 44ms/step - loss: 0.3515 - accuracy: 0.2711 - val_loss: 0.3543 - val_accuracy: 0.2466\n",
      "Epoch 8/50\n",
      "43/43 [==============================] - ETA: 0s - loss: 0.3534 - accuracy: 0.2777"
     ]
    },
    {
     "name": "stderr",
     "output_type": "stream",
     "text": [
      "WARNING:absl:Found untraced functions such as _jit_compiled_convolution_op, _jit_compiled_convolution_op, _jit_compiled_convolution_op while saving (showing 3 of 3). These functions will not be directly callable after loading.\n"
     ]
    },
    {
     "name": "stdout",
     "output_type": "stream",
     "text": [
      "INFO:tensorflow:Assets written to: /home/erniesg/code/erniesg/art_api/notebooks/wandb/run-20220917_005112-j06u1plu/files/model-best/assets\n"
     ]
    },
    {
     "name": "stderr",
     "output_type": "stream",
     "text": [
      "INFO:tensorflow:Assets written to: /home/erniesg/code/erniesg/art_api/notebooks/wandb/run-20220917_005112-j06u1plu/files/model-best/assets\n",
      "\u001b[34m\u001b[1mwandb\u001b[0m: Adding directory to artifact (/home/erniesg/code/erniesg/art_api/notebooks/wandb/run-20220917_005112-j06u1plu/files/model-best)... Done. 0.0s\n"
     ]
    },
    {
     "name": "stdout",
     "output_type": "stream",
     "text": [
      "43/43 [==============================] - 2s 44ms/step - loss: 0.3534 - accuracy: 0.2777 - val_loss: 0.3538 - val_accuracy: 0.2534\n",
      "Epoch 9/50\n",
      "43/43 [==============================] - ETA: 0s - loss: 0.3398 - accuracy: 0.3048"
     ]
    },
    {
     "name": "stderr",
     "output_type": "stream",
     "text": [
      "WARNING:absl:Found untraced functions such as _jit_compiled_convolution_op, _jit_compiled_convolution_op, _jit_compiled_convolution_op while saving (showing 3 of 3). These functions will not be directly callable after loading.\n"
     ]
    },
    {
     "name": "stdout",
     "output_type": "stream",
     "text": [
      "INFO:tensorflow:Assets written to: /home/erniesg/code/erniesg/art_api/notebooks/wandb/run-20220917_005112-j06u1plu/files/model-best/assets\n"
     ]
    },
    {
     "name": "stderr",
     "output_type": "stream",
     "text": [
      "INFO:tensorflow:Assets written to: /home/erniesg/code/erniesg/art_api/notebooks/wandb/run-20220917_005112-j06u1plu/files/model-best/assets\n",
      "\u001b[34m\u001b[1mwandb\u001b[0m: Adding directory to artifact (/home/erniesg/code/erniesg/art_api/notebooks/wandb/run-20220917_005112-j06u1plu/files/model-best)... Done. 0.0s\n"
     ]
    },
    {
     "name": "stdout",
     "output_type": "stream",
     "text": [
      "43/43 [==============================] - 2s 44ms/step - loss: 0.3398 - accuracy: 0.3048 - val_loss: 0.3486 - val_accuracy: 0.2466\n",
      "Epoch 10/50\n",
      "43/43 [==============================] - ETA: 0s - loss: 0.3358 - accuracy: 0.3011"
     ]
    },
    {
     "name": "stderr",
     "output_type": "stream",
     "text": [
      "WARNING:absl:Found untraced functions such as _jit_compiled_convolution_op, _jit_compiled_convolution_op, _jit_compiled_convolution_op while saving (showing 3 of 3). These functions will not be directly callable after loading.\n"
     ]
    },
    {
     "name": "stdout",
     "output_type": "stream",
     "text": [
      "INFO:tensorflow:Assets written to: /home/erniesg/code/erniesg/art_api/notebooks/wandb/run-20220917_005112-j06u1plu/files/model-best/assets\n"
     ]
    },
    {
     "name": "stderr",
     "output_type": "stream",
     "text": [
      "INFO:tensorflow:Assets written to: /home/erniesg/code/erniesg/art_api/notebooks/wandb/run-20220917_005112-j06u1plu/files/model-best/assets\n",
      "\u001b[34m\u001b[1mwandb\u001b[0m: Adding directory to artifact (/home/erniesg/code/erniesg/art_api/notebooks/wandb/run-20220917_005112-j06u1plu/files/model-best)... Done. 0.0s\n"
     ]
    },
    {
     "name": "stdout",
     "output_type": "stream",
     "text": [
      "43/43 [==============================] - 2s 43ms/step - loss: 0.3358 - accuracy: 0.3011 - val_loss: 0.3478 - val_accuracy: 0.2877\n",
      "Epoch 11/50\n",
      "43/43 [==============================] - ETA: 0s - loss: 0.3319 - accuracy: 0.3128"
     ]
    },
    {
     "name": "stderr",
     "output_type": "stream",
     "text": [
      "WARNING:absl:Found untraced functions such as _jit_compiled_convolution_op, _jit_compiled_convolution_op, _jit_compiled_convolution_op while saving (showing 3 of 3). These functions will not be directly callable after loading.\n"
     ]
    },
    {
     "name": "stdout",
     "output_type": "stream",
     "text": [
      "INFO:tensorflow:Assets written to: /home/erniesg/code/erniesg/art_api/notebooks/wandb/run-20220917_005112-j06u1plu/files/model-best/assets\n"
     ]
    },
    {
     "name": "stderr",
     "output_type": "stream",
     "text": [
      "INFO:tensorflow:Assets written to: /home/erniesg/code/erniesg/art_api/notebooks/wandb/run-20220917_005112-j06u1plu/files/model-best/assets\n",
      "\u001b[34m\u001b[1mwandb\u001b[0m: Adding directory to artifact (/home/erniesg/code/erniesg/art_api/notebooks/wandb/run-20220917_005112-j06u1plu/files/model-best)... Done. 0.0s\n"
     ]
    },
    {
     "name": "stdout",
     "output_type": "stream",
     "text": [
      "43/43 [==============================] - 2s 44ms/step - loss: 0.3319 - accuracy: 0.3128 - val_loss: 0.3414 - val_accuracy: 0.2911\n",
      "Epoch 12/50\n",
      "43/43 [==============================] - ETA: 0s - loss: 0.3281 - accuracy: 0.3209"
     ]
    },
    {
     "name": "stderr",
     "output_type": "stream",
     "text": [
      "WARNING:absl:Found untraced functions such as _jit_compiled_convolution_op, _jit_compiled_convolution_op, _jit_compiled_convolution_op while saving (showing 3 of 3). These functions will not be directly callable after loading.\n"
     ]
    },
    {
     "name": "stdout",
     "output_type": "stream",
     "text": [
      "INFO:tensorflow:Assets written to: /home/erniesg/code/erniesg/art_api/notebooks/wandb/run-20220917_005112-j06u1plu/files/model-best/assets\n"
     ]
    },
    {
     "name": "stderr",
     "output_type": "stream",
     "text": [
      "INFO:tensorflow:Assets written to: /home/erniesg/code/erniesg/art_api/notebooks/wandb/run-20220917_005112-j06u1plu/files/model-best/assets\n",
      "\u001b[34m\u001b[1mwandb\u001b[0m: Adding directory to artifact (/home/erniesg/code/erniesg/art_api/notebooks/wandb/run-20220917_005112-j06u1plu/files/model-best)... Done. 0.0s\n"
     ]
    },
    {
     "name": "stdout",
     "output_type": "stream",
     "text": [
      "43/43 [==============================] - 2s 51ms/step - loss: 0.3281 - accuracy: 0.3209 - val_loss: 0.3409 - val_accuracy: 0.2705\n",
      "Epoch 13/50\n",
      "43/43 [==============================] - ETA: 0s - loss: 0.3274 - accuracy: 0.3223"
     ]
    },
    {
     "name": "stderr",
     "output_type": "stream",
     "text": [
      "WARNING:absl:Found untraced functions such as _jit_compiled_convolution_op, _jit_compiled_convolution_op, _jit_compiled_convolution_op while saving (showing 3 of 3). These functions will not be directly callable after loading.\n"
     ]
    },
    {
     "name": "stdout",
     "output_type": "stream",
     "text": [
      "INFO:tensorflow:Assets written to: /home/erniesg/code/erniesg/art_api/notebooks/wandb/run-20220917_005112-j06u1plu/files/model-best/assets\n"
     ]
    },
    {
     "name": "stderr",
     "output_type": "stream",
     "text": [
      "INFO:tensorflow:Assets written to: /home/erniesg/code/erniesg/art_api/notebooks/wandb/run-20220917_005112-j06u1plu/files/model-best/assets\n",
      "\u001b[34m\u001b[1mwandb\u001b[0m: Adding directory to artifact (/home/erniesg/code/erniesg/art_api/notebooks/wandb/run-20220917_005112-j06u1plu/files/model-best)... Done. 0.0s\n"
     ]
    },
    {
     "name": "stdout",
     "output_type": "stream",
     "text": [
      "43/43 [==============================] - 2s 44ms/step - loss: 0.3274 - accuracy: 0.3223 - val_loss: 0.3398 - val_accuracy: 0.2877\n",
      "Epoch 14/50\n",
      "43/43 [==============================] - 1s 23ms/step - loss: 0.3219 - accuracy: 0.3282 - val_loss: 0.3447 - val_accuracy: 0.2568\n",
      "Epoch 15/50\n",
      "43/43 [==============================] - 1s 24ms/step - loss: 0.3182 - accuracy: 0.3480 - val_loss: 0.3404 - val_accuracy: 0.2808\n",
      "Epoch 16/50\n",
      "43/43 [==============================] - ETA: 0s - loss: 0.3136 - accuracy: 0.3619Restoring model weights from the end of the best epoch: 11.\n",
      "43/43 [==============================] - 1s 24ms/step - loss: 0.3136 - accuracy: 0.3619 - val_loss: 0.3442 - val_accuracy: 0.2295\n",
      "Epoch 16: early stopping\n"
     ]
    },
    {
     "name": "stderr",
     "output_type": "stream",
     "text": [
      "WARNING:absl:Found untraced functions such as _jit_compiled_convolution_op, _jit_compiled_convolution_op, _jit_compiled_convolution_op while saving (showing 3 of 3). These functions will not be directly callable after loading.\n"
     ]
    },
    {
     "name": "stdout",
     "output_type": "stream",
     "text": [
      "INFO:tensorflow:Assets written to: ../models/baseline_bal/assets\n"
     ]
    },
    {
     "name": "stderr",
     "output_type": "stream",
     "text": [
      "INFO:tensorflow:Assets written to: ../models/baseline_bal/assets\n"
     ]
    },
    {
     "name": "stdout",
     "output_type": "stream",
     "text": [
      "10/10 [==============================] - 0s 10ms/step - loss: 0.3414 - accuracy: 0.2911\n"
     ]
    },
    {
     "data": {
      "text/html": [
       "Waiting for W&B process to finish... <strong style=\"color:green\">(success).</strong>"
      ],
      "text/plain": [
       "<IPython.core.display.HTML object>"
      ]
     },
     "metadata": {},
     "output_type": "display_data"
    },
    {
     "data": {
      "application/vnd.jupyter.widget-view+json": {
       "model_id": "",
       "version_major": 2,
       "version_minor": 0
      },
      "text/plain": [
       "VBox(children=(Label(value='32.911 MB of 32.911 MB uploaded (0.019 MB deduped)\\r'), FloatProgress(value=1.0, m…"
      ]
     },
     "metadata": {},
     "output_type": "display_data"
    },
    {
     "data": {
      "text/html": [
       "<style>\n",
       "    table.wandb td:nth-child(1) { padding: 0 10px; text-align: left ; width: auto;} td:nth-child(2) {text-align: left ; width: 100%}\n",
       "    .wandb-row { display: flex; flex-direction: row; flex-wrap: wrap; justify-content: flex-start; width: 100% }\n",
       "    .wandb-col { display: flex; flex-direction: column; flex-basis: 100%; flex: 1; padding: 10px; }\n",
       "    </style>\n",
       "<div class=\"wandb-row\"><div class=\"wandb-col\"><h3>Run history:</h3><br/><table class=\"wandb\"><tr><td>accuracy</td><td>▁▁▁▂▃▅▅▆▆▆▇▇▇▇██</td></tr><tr><td>epoch</td><td>▁▁▂▂▃▃▄▄▅▅▆▆▇▇██</td></tr><tr><td>evaluate/accuracy</td><td>▁</td></tr><tr><td>loss</td><td>█▄▄▄▃▃▃▃▂▂▂▂▂▁▁▁</td></tr><tr><td>val_accuracy</td><td>▁▂▃▃▄▆▇▇▇██▇█▇█▆</td></tr><tr><td>val_loss</td><td>█▇▇▆▄▃▃▃▂▂▁▁▁▂▁▂</td></tr></table><br/></div><div class=\"wandb-col\"><h3>Run summary:</h3><br/><table class=\"wandb\"><tr><td>GFLOPs</td><td>0.49329</td></tr><tr><td>accuracy</td><td>0.3619</td></tr><tr><td>best_epoch</td><td>12</td></tr><tr><td>best_val_loss</td><td>0.3398</td></tr><tr><td>epoch</td><td>15</td></tr><tr><td>evaluate/accuracy</td><td>0.2911</td></tr><tr><td>loss</td><td>0.31356</td></tr><tr><td>val_accuracy</td><td>0.22945</td></tr><tr><td>val_loss</td><td>0.34424</td></tr></table><br/></div></div>"
      ],
      "text/plain": [
       "<IPython.core.display.HTML object>"
      ]
     },
     "metadata": {},
     "output_type": "display_data"
    },
    {
     "data": {
      "text/html": [
       "Synced <strong style=\"color:#cdcd00\">confused-yogurt-17</strong>: <a href=\"https://wandb.ai/art_api/art_api/runs/j06u1plu\" target=\"_blank\">https://wandb.ai/art_api/art_api/runs/j06u1plu</a><br/>Synced 5 W&B file(s), 1 media file(s), 40 artifact file(s) and 1 other file(s)"
      ],
      "text/plain": [
       "<IPython.core.display.HTML object>"
      ]
     },
     "metadata": {},
     "output_type": "display_data"
    },
    {
     "data": {
      "text/html": [
       "Find logs at: <code>./wandb/run-20220917_005112-j06u1plu/logs</code>"
      ],
      "text/plain": [
       "<IPython.core.display.HTML object>"
      ]
     },
     "metadata": {},
     "output_type": "display_data"
    }
   ],
   "source": [
    "log_model()"
   ]
  },
  {
   "cell_type": "markdown",
   "id": "488d2f9a",
   "metadata": {
    "ExecuteTime": {
     "end_time": "2022-09-16T16:48:40.036395Z",
     "start_time": "2022-09-16T16:48:40.033315Z"
    }
   },
   "source": [
    "# Train on VGG16"
   ]
  },
  {
   "cell_type": "code",
   "execution_count": 125,
   "id": "cda13c7b",
   "metadata": {
    "ExecuteTime": {
     "end_time": "2022-09-16T17:02:55.688813Z",
     "start_time": "2022-09-16T17:02:55.683490Z"
    }
   },
   "outputs": [],
   "source": [
    "def load_model():\n",
    "        \n",
    "    model = VGG16(weights=\"imagenet\", include_top=False, input_shape=input_shape)\n",
    "        \n",
    "    return model\n",
    "\n",
    "def set_nontrainable_layers(model):\n",
    "    \n",
    "    # Set the first layers to be untrainable\n",
    "    model.trainable = False\n",
    "        \n",
    "    return model\n",
    "\n",
    "def add_last_layers(model):\n",
    "    '''Take a pre-trained model, set its parameters as non-trainable, and add additional trainable layers on top'''\n",
    "    base_model = set_nontrainable_layers(model)\n",
    "    rescale_layer = layers.Rescaling(1./255, input_shape=(256,256,3))\n",
    "    flatten_layer = layers.Flatten()\n",
    "    dense_layer = layers.Dense(500, activation='relu')\n",
    "    prediction_layer = layers.Dense(10, activation='sigmoid')\n",
    "    \n",
    "    model = models.Sequential([\n",
    "        base_model,\n",
    "        rescale_layer,\n",
    "        flatten_layer,\n",
    "        dense_layer,\n",
    "        prediction_layer\n",
    "    ])\n",
    "\n",
    "    return model"
   ]
  },
  {
   "cell_type": "code",
   "execution_count": 126,
   "id": "e7387bdd",
   "metadata": {
    "ExecuteTime": {
     "end_time": "2022-09-16T17:02:56.791424Z",
     "start_time": "2022-09-16T17:02:56.787640Z"
    }
   },
   "outputs": [],
   "source": [
    "def build_model():\n",
    "\n",
    "    model = load_model()\n",
    "    model = add_last_layers(model)\n",
    "    \n",
    "    model.compile(loss='binary_crossentropy',\n",
    "                  optimizer=optimizers.Adam(learning_rate=1e-4),\n",
    "                  metrics=['accuracy'])\n",
    "    return model"
   ]
  },
  {
   "cell_type": "code",
   "execution_count": 127,
   "id": "2985fd73",
   "metadata": {
    "ExecuteTime": {
     "end_time": "2022-09-16T17:03:13.518916Z",
     "start_time": "2022-09-16T17:02:57.942204Z"
    }
   },
   "outputs": [],
   "source": [
    "X_train = preprocess_input(X_train) \n",
    "X_val = preprocess_input(X_val)\n",
    "X_test = preprocess_input(X_test)"
   ]
  },
  {
   "cell_type": "code",
   "execution_count": 128,
   "id": "b8c400b6",
   "metadata": {
    "ExecuteTime": {
     "end_time": "2022-09-16T17:03:55.914322Z",
     "start_time": "2022-09-16T17:03:55.909506Z"
    }
   },
   "outputs": [],
   "source": [
    "def log_model():\n",
    "    #run = wandb.init(project=“project=\"art_api\", job_type=\"training\")\n",
    "    \n",
    "    with wandb.init(project=\"art_api\") as run:\n",
    "        \n",
    "        baseline_model = wandb.Artifact(\n",
    "            name = \"vgg16-balanced\",\n",
    "            type=\"model\",\n",
    "            description = \"VGG16 model on balanced, preprocessed dataset\")\n",
    "    \n",
    "        es = EarlyStopping(monitor = 'val_accuracy', \n",
    "                       mode = 'max', \n",
    "                       patience = 5, \n",
    "                       verbose = 1, \n",
    "                       restore_best_weights = True)\n",
    "        \n",
    "        # Define WandbCallback for experiment tracking\n",
    "        wandb_callback = WandbCallback(monitor='val_loss',\n",
    "                                       log_weights=True,\n",
    "                                       log_evaluation=True,\n",
    "                                       validation_steps=5)\n",
    "\n",
    "        callbacks = [es, wandb_callback]\n",
    "\n",
    "        model = build_model()\n",
    "\n",
    "        model.fit(X_train, y_train,  validation_data=(X_test, y_test),\n",
    "              callbacks=[callbacks], verbose=1, epochs=50)\n",
    "\n",
    "        filename = os.path.join(Path(\"../models\"), \"vgg16_bal\")\n",
    "        model.save(filename)\n",
    "        \n",
    "        loss, acc = model.evaluate(X_test, y_test)\n",
    "        wandb.log({'evaluate/accuracy': acc})"
   ]
  },
  {
   "cell_type": "code",
   "execution_count": 129,
   "id": "4eb2ae85",
   "metadata": {
    "ExecuteTime": {
     "end_time": "2022-09-16T17:07:29.958298Z",
     "start_time": "2022-09-16T17:03:57.087838Z"
    }
   },
   "outputs": [
    {
     "data": {
      "text/html": [
       "Changes to your `wandb` environment variables will be ignored because your `wandb` session has already started. For more information on how to modify your settings with `wandb.init()` arguments, please refer to <a href=\"https://wandb.me/wandb-init\" target=\"_blank\">the W&B docs</a>."
      ],
      "text/plain": [
       "<IPython.core.display.HTML object>"
      ]
     },
     "metadata": {},
     "output_type": "display_data"
    },
    {
     "data": {
      "text/html": [
       "Tracking run with wandb version 0.13.3"
      ],
      "text/plain": [
       "<IPython.core.display.HTML object>"
      ]
     },
     "metadata": {},
     "output_type": "display_data"
    },
    {
     "data": {
      "text/html": [
       "Run data is saved locally in <code>/home/erniesg/code/erniesg/art_api/notebooks/wandb/run-20220917_010357-2pbccv5b</code>"
      ],
      "text/plain": [
       "<IPython.core.display.HTML object>"
      ]
     },
     "metadata": {},
     "output_type": "display_data"
    },
    {
     "data": {
      "text/html": [
       "Syncing run <strong><a href=\"https://wandb.ai/art_api/art_api/runs/2pbccv5b\" target=\"_blank\">daily-water-18</a></strong> to <a href=\"https://wandb.ai/art_api/art_api\" target=\"_blank\">Weights & Biases</a> (<a href=\"https://wandb.me/run\" target=\"_blank\">docs</a>)<br/>"
      ],
      "text/plain": [
       "<IPython.core.display.HTML object>"
      ]
     },
     "metadata": {},
     "output_type": "display_data"
    },
    {
     "name": "stderr",
     "output_type": "stream",
     "text": [
      "\u001b[34m\u001b[1mwandb\u001b[0m: \u001b[33mWARNING\u001b[0m WandbCallback is unable to read validation_data from trainer and therefore cannot log validation data. Ensure Keras is properly patched by calling `from wandb.keras import WandbCallback` at the top of your script.\n",
      "2022-09-17 01:04:00.937319: I tensorflow/stream_executor/cuda/cuda_gpu_executor.cc:961] could not open file to read NUMA node: /sys/bus/pci/devices/0000:06:00.0/numa_node\n",
      "Your kernel may have been built without NUMA support.\n",
      "2022-09-17 01:04:00.937372: I tensorflow/core/grappler/devices.cc:66] Number of eligible GPUs (core count >= 8, compute capability >= 0.0): 1\n",
      "2022-09-17 01:04:00.937498: I tensorflow/core/grappler/clusters/single_machine.cc:358] Starting new session\n",
      "2022-09-17 01:04:00.938151: I tensorflow/stream_executor/cuda/cuda_gpu_executor.cc:961] could not open file to read NUMA node: /sys/bus/pci/devices/0000:06:00.0/numa_node\n",
      "Your kernel may have been built without NUMA support.\n",
      "2022-09-17 01:04:00.938463: I tensorflow/stream_executor/cuda/cuda_gpu_executor.cc:961] could not open file to read NUMA node: /sys/bus/pci/devices/0000:06:00.0/numa_node\n",
      "Your kernel may have been built without NUMA support.\n",
      "2022-09-17 01:04:00.938844: I tensorflow/stream_executor/cuda/cuda_gpu_executor.cc:961] could not open file to read NUMA node: /sys/bus/pci/devices/0000:06:00.0/numa_node\n",
      "Your kernel may have been built without NUMA support.\n",
      "2022-09-17 01:04:00.941027: I tensorflow/stream_executor/cuda/cuda_gpu_executor.cc:961] could not open file to read NUMA node: /sys/bus/pci/devices/0000:06:00.0/numa_node\n",
      "Your kernel may have been built without NUMA support.\n",
      "2022-09-17 01:04:00.941039: I tensorflow/core/common_runtime/gpu/gpu_device.cc:1616] Could not identify NUMA node of platform GPU id 0, defaulting to 0.  Your kernel may not have been built with NUMA support.\n",
      "2022-09-17 01:04:00.941387: I tensorflow/stream_executor/cuda/cuda_gpu_executor.cc:961] could not open file to read NUMA node: /sys/bus/pci/devices/0000:06:00.0/numa_node\n",
      "Your kernel may have been built without NUMA support.\n",
      "2022-09-17 01:04:00.941412: I tensorflow/core/common_runtime/gpu/gpu_device.cc:1532] Created device /job:localhost/replica:0/task:0/device:GPU:0 with 5423 MB memory:  -> device: 0, name: NVIDIA GeForce RTX 3070, pci bus id: 0000:06:00.0, compute capability: 8.6\n"
     ]
    },
    {
     "name": "stdout",
     "output_type": "stream",
     "text": [
      "Epoch 1/50\n"
     ]
    },
    {
     "name": "stderr",
     "output_type": "stream",
     "text": [
      "2022-09-17 01:04:02.778778: W tensorflow/core/common_runtime/bfc_allocator.cc:290] Allocator (GPU_0_bfc) ran out of memory trying to allocate 2.27GiB with freed_by_count=0. The caller indicates that this is not a failure, but this may mean that there could be performance gains if more memory were available.\n",
      "2022-09-17 01:04:02.778835: W tensorflow/core/common_runtime/bfc_allocator.cc:290] Allocator (GPU_0_bfc) ran out of memory trying to allocate 2.27GiB with freed_by_count=0. The caller indicates that this is not a failure, but this may mean that there could be performance gains if more memory were available.\n"
     ]
    },
    {
     "name": "stdout",
     "output_type": "stream",
     "text": [
      "42/43 [============================>.] - ETA: 0s - loss: 0.4550 - accuracy: 0.3356"
     ]
    },
    {
     "name": "stderr",
     "output_type": "stream",
     "text": [
      "2022-09-17 01:04:07.778951: W tensorflow/core/common_runtime/bfc_allocator.cc:290] Allocator (GPU_0_bfc) ran out of memory trying to allocate 2.97GiB with freed_by_count=0. The caller indicates that this is not a failure, but this may mean that there could be performance gains if more memory were available.\n",
      "2022-09-17 01:04:07.779000: W tensorflow/core/common_runtime/bfc_allocator.cc:290] Allocator (GPU_0_bfc) ran out of memory trying to allocate 2.97GiB with freed_by_count=0. The caller indicates that this is not a failure, but this may mean that there could be performance gains if more memory were available.\n",
      "2022-09-17 01:04:07.819646: W tensorflow/core/common_runtime/bfc_allocator.cc:290] Allocator (GPU_0_bfc) ran out of memory trying to allocate 2.27GiB with freed_by_count=0. The caller indicates that this is not a failure, but this may mean that there could be performance gains if more memory were available.\n",
      "2022-09-17 01:04:07.819684: W tensorflow/core/common_runtime/bfc_allocator.cc:290] Allocator (GPU_0_bfc) ran out of memory trying to allocate 2.27GiB with freed_by_count=0. The caller indicates that this is not a failure, but this may mean that there could be performance gains if more memory were available.\n"
     ]
    },
    {
     "name": "stdout",
     "output_type": "stream",
     "text": [
      "\b\b\b\b\b\b\b\b\b\b\b\b\b\b\b\b\b\b\b\b\b\b\b\b\b\b\b\b\b\b\b\b\b\b\b\b\b\b\b\b\b\b\b\b\b\b\b\b\b\b\b\b\b\b\b\b\b\b\b\b\b\b\b\b\b\b\b\b\b\b\b\b\b\b\b\b\b\b\b\b\b\b\r",
      "43/43 [==============================] - ETA: 0s - loss: 0.4529 - accuracy: 0.3363"
     ]
    },
    {
     "name": "stderr",
     "output_type": "stream",
     "text": [
      "WARNING:absl:Found untraced functions such as _jit_compiled_convolution_op, _jit_compiled_convolution_op, _jit_compiled_convolution_op, _jit_compiled_convolution_op, _jit_compiled_convolution_op while saving (showing 5 of 13). These functions will not be directly callable after loading.\n"
     ]
    },
    {
     "name": "stdout",
     "output_type": "stream",
     "text": [
      "INFO:tensorflow:Assets written to: /home/erniesg/code/erniesg/art_api/notebooks/wandb/run-20220917_010357-2pbccv5b/files/model-best/assets\n"
     ]
    },
    {
     "name": "stderr",
     "output_type": "stream",
     "text": [
      "INFO:tensorflow:Assets written to: /home/erniesg/code/erniesg/art_api/notebooks/wandb/run-20220917_010357-2pbccv5b/files/model-best/assets\n",
      "\u001b[34m\u001b[1mwandb\u001b[0m: Adding directory to artifact (/home/erniesg/code/erniesg/art_api/notebooks/wandb/run-20220917_010357-2pbccv5b/files/model-best)... Done. 0.5s\n"
     ]
    },
    {
     "name": "stdout",
     "output_type": "stream",
     "text": [
      "43/43 [==============================] - 12s 233ms/step - loss: 0.4529 - accuracy: 0.3363 - val_loss: 0.3577 - val_accuracy: 0.4007\n",
      "Epoch 2/50\n",
      "43/43 [==============================] - ETA: 0s - loss: 0.3152 - accuracy: 0.5355"
     ]
    },
    {
     "name": "stderr",
     "output_type": "stream",
     "text": [
      "WARNING:absl:Found untraced functions such as _jit_compiled_convolution_op, _jit_compiled_convolution_op, _jit_compiled_convolution_op, _jit_compiled_convolution_op, _jit_compiled_convolution_op while saving (showing 5 of 13). These functions will not be directly callable after loading.\n"
     ]
    },
    {
     "name": "stdout",
     "output_type": "stream",
     "text": [
      "INFO:tensorflow:Assets written to: /home/erniesg/code/erniesg/art_api/notebooks/wandb/run-20220917_010357-2pbccv5b/files/model-best/assets\n"
     ]
    },
    {
     "name": "stderr",
     "output_type": "stream",
     "text": [
      "INFO:tensorflow:Assets written to: /home/erniesg/code/erniesg/art_api/notebooks/wandb/run-20220917_010357-2pbccv5b/files/model-best/assets\n",
      "\u001b[34m\u001b[1mwandb\u001b[0m: Adding directory to artifact (/home/erniesg/code/erniesg/art_api/notebooks/wandb/run-20220917_010357-2pbccv5b/files/model-best)... Done. 0.5s\n"
     ]
    },
    {
     "name": "stdout",
     "output_type": "stream",
     "text": [
      "43/43 [==============================] - 10s 221ms/step - loss: 0.3152 - accuracy: 0.5355 - val_loss: 0.3060 - val_accuracy: 0.5342\n",
      "Epoch 3/50\n",
      "43/43 [==============================] - ETA: 0s - loss: 0.2575 - accuracy: 0.6989"
     ]
    },
    {
     "name": "stderr",
     "output_type": "stream",
     "text": [
      "WARNING:absl:Found untraced functions such as _jit_compiled_convolution_op, _jit_compiled_convolution_op, _jit_compiled_convolution_op, _jit_compiled_convolution_op, _jit_compiled_convolution_op while saving (showing 5 of 13). These functions will not be directly callable after loading.\n"
     ]
    },
    {
     "name": "stdout",
     "output_type": "stream",
     "text": [
      "INFO:tensorflow:Assets written to: /home/erniesg/code/erniesg/art_api/notebooks/wandb/run-20220917_010357-2pbccv5b/files/model-best/assets\n"
     ]
    },
    {
     "name": "stderr",
     "output_type": "stream",
     "text": [
      "INFO:tensorflow:Assets written to: /home/erniesg/code/erniesg/art_api/notebooks/wandb/run-20220917_010357-2pbccv5b/files/model-best/assets\n",
      "\u001b[34m\u001b[1mwandb\u001b[0m: Adding directory to artifact (/home/erniesg/code/erniesg/art_api/notebooks/wandb/run-20220917_010357-2pbccv5b/files/model-best)... Done. 0.5s\n"
     ]
    },
    {
     "name": "stdout",
     "output_type": "stream",
     "text": [
      "43/43 [==============================] - 8s 192ms/step - loss: 0.2575 - accuracy: 0.6989 - val_loss: 0.2763 - val_accuracy: 0.5240\n",
      "Epoch 4/50\n",
      "43/43 [==============================] - ETA: 0s - loss: 0.2186 - accuracy: 0.7289"
     ]
    },
    {
     "name": "stderr",
     "output_type": "stream",
     "text": [
      "WARNING:absl:Found untraced functions such as _jit_compiled_convolution_op, _jit_compiled_convolution_op, _jit_compiled_convolution_op, _jit_compiled_convolution_op, _jit_compiled_convolution_op while saving (showing 5 of 13). These functions will not be directly callable after loading.\n"
     ]
    },
    {
     "name": "stdout",
     "output_type": "stream",
     "text": [
      "INFO:tensorflow:Assets written to: /home/erniesg/code/erniesg/art_api/notebooks/wandb/run-20220917_010357-2pbccv5b/files/model-best/assets\n"
     ]
    },
    {
     "name": "stderr",
     "output_type": "stream",
     "text": [
      "INFO:tensorflow:Assets written to: /home/erniesg/code/erniesg/art_api/notebooks/wandb/run-20220917_010357-2pbccv5b/files/model-best/assets\n",
      "\u001b[34m\u001b[1mwandb\u001b[0m: Adding directory to artifact (/home/erniesg/code/erniesg/art_api/notebooks/wandb/run-20220917_010357-2pbccv5b/files/model-best)... Done. 0.5s\n"
     ]
    },
    {
     "name": "stdout",
     "output_type": "stream",
     "text": [
      "43/43 [==============================] - 8s 193ms/step - loss: 0.2186 - accuracy: 0.7289 - val_loss: 0.2599 - val_accuracy: 0.5445\n",
      "Epoch 5/50\n",
      "43/43 [==============================] - ETA: 0s - loss: 0.1895 - accuracy: 0.7619"
     ]
    },
    {
     "name": "stderr",
     "output_type": "stream",
     "text": [
      "WARNING:absl:Found untraced functions such as _jit_compiled_convolution_op, _jit_compiled_convolution_op, _jit_compiled_convolution_op, _jit_compiled_convolution_op, _jit_compiled_convolution_op while saving (showing 5 of 13). These functions will not be directly callable after loading.\n"
     ]
    },
    {
     "name": "stdout",
     "output_type": "stream",
     "text": [
      "INFO:tensorflow:Assets written to: /home/erniesg/code/erniesg/art_api/notebooks/wandb/run-20220917_010357-2pbccv5b/files/model-best/assets\n"
     ]
    },
    {
     "name": "stderr",
     "output_type": "stream",
     "text": [
      "INFO:tensorflow:Assets written to: /home/erniesg/code/erniesg/art_api/notebooks/wandb/run-20220917_010357-2pbccv5b/files/model-best/assets\n",
      "\u001b[34m\u001b[1mwandb\u001b[0m: Adding directory to artifact (/home/erniesg/code/erniesg/art_api/notebooks/wandb/run-20220917_010357-2pbccv5b/files/model-best)... Done. 0.5s\n"
     ]
    },
    {
     "name": "stdout",
     "output_type": "stream",
     "text": [
      "43/43 [==============================] - 8s 185ms/step - loss: 0.1895 - accuracy: 0.7619 - val_loss: 0.2480 - val_accuracy: 0.5616\n",
      "Epoch 6/50\n",
      "43/43 [==============================] - ETA: 0s - loss: 0.1657 - accuracy: 0.8029"
     ]
    },
    {
     "name": "stderr",
     "output_type": "stream",
     "text": [
      "WARNING:absl:Found untraced functions such as _jit_compiled_convolution_op, _jit_compiled_convolution_op, _jit_compiled_convolution_op, _jit_compiled_convolution_op, _jit_compiled_convolution_op while saving (showing 5 of 13). These functions will not be directly callable after loading.\n"
     ]
    },
    {
     "name": "stdout",
     "output_type": "stream",
     "text": [
      "INFO:tensorflow:Assets written to: /home/erniesg/code/erniesg/art_api/notebooks/wandb/run-20220917_010357-2pbccv5b/files/model-best/assets\n"
     ]
    },
    {
     "name": "stderr",
     "output_type": "stream",
     "text": [
      "INFO:tensorflow:Assets written to: /home/erniesg/code/erniesg/art_api/notebooks/wandb/run-20220917_010357-2pbccv5b/files/model-best/assets\n",
      "\u001b[34m\u001b[1mwandb\u001b[0m: Adding directory to artifact (/home/erniesg/code/erniesg/art_api/notebooks/wandb/run-20220917_010357-2pbccv5b/files/model-best)... Done. 3.8s\n"
     ]
    },
    {
     "name": "stdout",
     "output_type": "stream",
     "text": [
      "43/43 [==============================] - 12s 278ms/step - loss: 0.1657 - accuracy: 0.8029 - val_loss: 0.2402 - val_accuracy: 0.5685\n",
      "Epoch 7/50\n",
      "43/43 [==============================] - ETA: 0s - loss: 0.1461 - accuracy: 0.8161"
     ]
    },
    {
     "name": "stderr",
     "output_type": "stream",
     "text": [
      "WARNING:absl:Found untraced functions such as _jit_compiled_convolution_op, _jit_compiled_convolution_op, _jit_compiled_convolution_op, _jit_compiled_convolution_op, _jit_compiled_convolution_op while saving (showing 5 of 13). These functions will not be directly callable after loading.\n"
     ]
    },
    {
     "name": "stdout",
     "output_type": "stream",
     "text": [
      "INFO:tensorflow:Assets written to: /home/erniesg/code/erniesg/art_api/notebooks/wandb/run-20220917_010357-2pbccv5b/files/model-best/assets\n"
     ]
    },
    {
     "name": "stderr",
     "output_type": "stream",
     "text": [
      "INFO:tensorflow:Assets written to: /home/erniesg/code/erniesg/art_api/notebooks/wandb/run-20220917_010357-2pbccv5b/files/model-best/assets\n",
      "\u001b[34m\u001b[1mwandb\u001b[0m: Adding directory to artifact (/home/erniesg/code/erniesg/art_api/notebooks/wandb/run-20220917_010357-2pbccv5b/files/model-best)... Done. 0.7s\n"
     ]
    },
    {
     "name": "stdout",
     "output_type": "stream",
     "text": [
      "43/43 [==============================] - 18s 430ms/step - loss: 0.1461 - accuracy: 0.8161 - val_loss: 0.2344 - val_accuracy: 0.5685\n",
      "Epoch 8/50\n",
      "43/43 [==============================] - ETA: 0s - loss: 0.1296 - accuracy: 0.8205"
     ]
    },
    {
     "name": "stderr",
     "output_type": "stream",
     "text": [
      "WARNING:absl:Found untraced functions such as _jit_compiled_convolution_op, _jit_compiled_convolution_op, _jit_compiled_convolution_op, _jit_compiled_convolution_op, _jit_compiled_convolution_op while saving (showing 5 of 13). These functions will not be directly callable after loading.\n"
     ]
    },
    {
     "name": "stdout",
     "output_type": "stream",
     "text": [
      "INFO:tensorflow:Assets written to: /home/erniesg/code/erniesg/art_api/notebooks/wandb/run-20220917_010357-2pbccv5b/files/model-best/assets\n"
     ]
    },
    {
     "name": "stderr",
     "output_type": "stream",
     "text": [
      "INFO:tensorflow:Assets written to: /home/erniesg/code/erniesg/art_api/notebooks/wandb/run-20220917_010357-2pbccv5b/files/model-best/assets\n",
      "\u001b[34m\u001b[1mwandb\u001b[0m: Adding directory to artifact (/home/erniesg/code/erniesg/art_api/notebooks/wandb/run-20220917_010357-2pbccv5b/files/model-best)... Done. 0.7s\n"
     ]
    },
    {
     "name": "stdout",
     "output_type": "stream",
     "text": [
      "43/43 [==============================] - 15s 352ms/step - loss: 0.1296 - accuracy: 0.8205 - val_loss: 0.2316 - val_accuracy: 0.5719\n",
      "Epoch 9/50\n",
      "43/43 [==============================] - ETA: 0s - loss: 0.1154 - accuracy: 0.8366"
     ]
    },
    {
     "name": "stderr",
     "output_type": "stream",
     "text": [
      "WARNING:absl:Found untraced functions such as _jit_compiled_convolution_op, _jit_compiled_convolution_op, _jit_compiled_convolution_op, _jit_compiled_convolution_op, _jit_compiled_convolution_op while saving (showing 5 of 13). These functions will not be directly callable after loading.\n"
     ]
    },
    {
     "name": "stdout",
     "output_type": "stream",
     "text": [
      "INFO:tensorflow:Assets written to: /home/erniesg/code/erniesg/art_api/notebooks/wandb/run-20220917_010357-2pbccv5b/files/model-best/assets\n"
     ]
    },
    {
     "name": "stderr",
     "output_type": "stream",
     "text": [
      "INFO:tensorflow:Assets written to: /home/erniesg/code/erniesg/art_api/notebooks/wandb/run-20220917_010357-2pbccv5b/files/model-best/assets\n",
      "\u001b[34m\u001b[1mwandb\u001b[0m: Adding directory to artifact (/home/erniesg/code/erniesg/art_api/notebooks/wandb/run-20220917_010357-2pbccv5b/files/model-best)... Done. 0.7s\n"
     ]
    },
    {
     "name": "stdout",
     "output_type": "stream",
     "text": [
      "43/43 [==============================] - 9s 195ms/step - loss: 0.1154 - accuracy: 0.8366 - val_loss: 0.2290 - val_accuracy: 0.5788\n",
      "Epoch 10/50\n",
      "43/43 [==============================] - ETA: 0s - loss: 0.1034 - accuracy: 0.8498"
     ]
    },
    {
     "name": "stderr",
     "output_type": "stream",
     "text": [
      "WARNING:absl:Found untraced functions such as _jit_compiled_convolution_op, _jit_compiled_convolution_op, _jit_compiled_convolution_op, _jit_compiled_convolution_op, _jit_compiled_convolution_op while saving (showing 5 of 13). These functions will not be directly callable after loading.\n"
     ]
    },
    {
     "name": "stdout",
     "output_type": "stream",
     "text": [
      "INFO:tensorflow:Assets written to: /home/erniesg/code/erniesg/art_api/notebooks/wandb/run-20220917_010357-2pbccv5b/files/model-best/assets\n"
     ]
    },
    {
     "name": "stderr",
     "output_type": "stream",
     "text": [
      "INFO:tensorflow:Assets written to: /home/erniesg/code/erniesg/art_api/notebooks/wandb/run-20220917_010357-2pbccv5b/files/model-best/assets\n",
      "\u001b[34m\u001b[1mwandb\u001b[0m: Adding directory to artifact (/home/erniesg/code/erniesg/art_api/notebooks/wandb/run-20220917_010357-2pbccv5b/files/model-best)... Done. 5.0s\n"
     ]
    },
    {
     "name": "stdout",
     "output_type": "stream",
     "text": [
      "43/43 [==============================] - 23s 534ms/step - loss: 0.1034 - accuracy: 0.8498 - val_loss: 0.2262 - val_accuracy: 0.5788\n",
      "Epoch 11/50\n",
      "43/43 [==============================] - ETA: 0s - loss: 0.0928 - accuracy: 0.8469"
     ]
    },
    {
     "name": "stderr",
     "output_type": "stream",
     "text": [
      "WARNING:absl:Found untraced functions such as _jit_compiled_convolution_op, _jit_compiled_convolution_op, _jit_compiled_convolution_op, _jit_compiled_convolution_op, _jit_compiled_convolution_op while saving (showing 5 of 13). These functions will not be directly callable after loading.\n"
     ]
    },
    {
     "name": "stdout",
     "output_type": "stream",
     "text": [
      "INFO:tensorflow:Assets written to: /home/erniesg/code/erniesg/art_api/notebooks/wandb/run-20220917_010357-2pbccv5b/files/model-best/assets\n"
     ]
    },
    {
     "name": "stderr",
     "output_type": "stream",
     "text": [
      "INFO:tensorflow:Assets written to: /home/erniesg/code/erniesg/art_api/notebooks/wandb/run-20220917_010357-2pbccv5b/files/model-best/assets\n",
      "\u001b[34m\u001b[1mwandb\u001b[0m: Adding directory to artifact (/home/erniesg/code/erniesg/art_api/notebooks/wandb/run-20220917_010357-2pbccv5b/files/model-best)... Done. 0.7s\n"
     ]
    },
    {
     "name": "stdout",
     "output_type": "stream",
     "text": [
      "43/43 [==============================] - 8s 194ms/step - loss: 0.0928 - accuracy: 0.8469 - val_loss: 0.2257 - val_accuracy: 0.5788\n",
      "Epoch 12/50\n",
      "43/43 [==============================] - ETA: 0s - loss: 0.0834 - accuracy: 0.8593"
     ]
    },
    {
     "name": "stderr",
     "output_type": "stream",
     "text": [
      "WARNING:absl:Found untraced functions such as _jit_compiled_convolution_op, _jit_compiled_convolution_op, _jit_compiled_convolution_op, _jit_compiled_convolution_op, _jit_compiled_convolution_op while saving (showing 5 of 13). These functions will not be directly callable after loading.\n"
     ]
    },
    {
     "name": "stdout",
     "output_type": "stream",
     "text": [
      "INFO:tensorflow:Assets written to: /home/erniesg/code/erniesg/art_api/notebooks/wandb/run-20220917_010357-2pbccv5b/files/model-best/assets\n"
     ]
    },
    {
     "name": "stderr",
     "output_type": "stream",
     "text": [
      "INFO:tensorflow:Assets written to: /home/erniesg/code/erniesg/art_api/notebooks/wandb/run-20220917_010357-2pbccv5b/files/model-best/assets\n",
      "\u001b[34m\u001b[1mwandb\u001b[0m: Adding directory to artifact (/home/erniesg/code/erniesg/art_api/notebooks/wandb/run-20220917_010357-2pbccv5b/files/model-best)... Done. 0.7s\n"
     ]
    },
    {
     "name": "stdout",
     "output_type": "stream",
     "text": [
      "43/43 [==============================] - 10s 229ms/step - loss: 0.0834 - accuracy: 0.8593 - val_loss: 0.2246 - val_accuracy: 0.5856\n",
      "Epoch 13/50\n",
      "43/43 [==============================] - 6s 132ms/step - loss: 0.0755 - accuracy: 0.8564 - val_loss: 0.2252 - val_accuracy: 0.6027\n",
      "Epoch 14/50\n",
      "43/43 [==============================] - 5s 122ms/step - loss: 0.0686 - accuracy: 0.8630 - val_loss: 0.2261 - val_accuracy: 0.5753\n",
      "Epoch 15/50\n",
      "43/43 [==============================] - 7s 171ms/step - loss: 0.0624 - accuracy: 0.8586 - val_loss: 0.2256 - val_accuracy: 0.5719\n",
      "Epoch 16/50\n",
      "43/43 [==============================] - 5s 121ms/step - loss: 0.0570 - accuracy: 0.8630 - val_loss: 0.2268 - val_accuracy: 0.5959\n",
      "Epoch 17/50\n",
      "43/43 [==============================] - 5s 123ms/step - loss: 0.0521 - accuracy: 0.8608 - val_loss: 0.2275 - val_accuracy: 0.5788\n",
      "Epoch 18/50\n",
      "43/43 [==============================] - ETA: 0s - loss: 0.0478 - accuracy: 0.8623Restoring model weights from the end of the best epoch: 13.\n",
      "43/43 [==============================] - 5s 122ms/step - loss: 0.0478 - accuracy: 0.8623 - val_loss: 0.2292 - val_accuracy: 0.5856\n",
      "Epoch 18: early stopping\n"
     ]
    },
    {
     "name": "stderr",
     "output_type": "stream",
     "text": [
      "WARNING:absl:Found untraced functions such as _jit_compiled_convolution_op, _jit_compiled_convolution_op, _jit_compiled_convolution_op, _jit_compiled_convolution_op, _jit_compiled_convolution_op while saving (showing 5 of 13). These functions will not be directly callable after loading.\n"
     ]
    },
    {
     "name": "stdout",
     "output_type": "stream",
     "text": [
      "INFO:tensorflow:Assets written to: ../models/vgg16_bal/assets\n"
     ]
    },
    {
     "name": "stderr",
     "output_type": "stream",
     "text": [
      "INFO:tensorflow:Assets written to: ../models/vgg16_bal/assets\n"
     ]
    },
    {
     "name": "stdout",
     "output_type": "stream",
     "text": [
      "10/10 [==============================] - 1s 87ms/step - loss: 0.2252 - accuracy: 0.6027\n"
     ]
    },
    {
     "data": {
      "text/html": [
       "Waiting for W&B process to finish... <strong style=\"color:green\">(success).</strong>"
      ],
      "text/plain": [
       "<IPython.core.display.HTML object>"
      ]
     },
     "metadata": {},
     "output_type": "display_data"
    },
    {
     "data": {
      "application/vnd.jupyter.widget-view+json": {
       "model_id": "",
       "version_major": 2,
       "version_minor": 0
      },
      "text/plain": [
       "VBox(children=(Label(value='3173.016 MB of 3173.016 MB uploaded (0.075 MB deduped)\\r'), FloatProgress(value=1.…"
      ]
     },
     "metadata": {},
     "output_type": "display_data"
    },
    {
     "data": {
      "text/html": [
       "<style>\n",
       "    table.wandb td:nth-child(1) { padding: 0 10px; text-align: left ; width: auto;} td:nth-child(2) {text-align: left ; width: 100%}\n",
       "    .wandb-row { display: flex; flex-direction: row; flex-wrap: wrap; justify-content: flex-start; width: 100% }\n",
       "    .wandb-col { display: flex; flex-direction: column; flex-basis: 100%; flex: 1; padding: 10px; }\n",
       "    </style>\n",
       "<div class=\"wandb-row\"><div class=\"wandb-col\"><h3>Run history:</h3><br/><table class=\"wandb\"><tr><td>accuracy</td><td>▁▄▆▆▇▇▇▇██████████</td></tr><tr><td>epoch</td><td>▁▁▂▂▃▃▃▄▄▅▅▆▆▆▇▇██</td></tr><tr><td>evaluate/accuracy</td><td>▁</td></tr><tr><td>loss</td><td>█▆▅▄▃▃▃▂▂▂▂▂▁▁▁▁▁▁</td></tr><tr><td>val_accuracy</td><td>▁▆▅▆▇▇▇▇▇▇▇▇█▇▇█▇▇</td></tr><tr><td>val_loss</td><td>█▅▄▃▂▂▂▁▁▁▁▁▁▁▁▁▁▁</td></tr></table><br/></div><div class=\"wandb-col\"><h3>Run summary:</h3><br/><table class=\"wandb\"><tr><td>GFLOPs</td><td>20.07383</td></tr><tr><td>accuracy</td><td>0.86227</td></tr><tr><td>best_epoch</td><td>11</td></tr><tr><td>best_val_loss</td><td>0.22464</td></tr><tr><td>epoch</td><td>17</td></tr><tr><td>evaluate/accuracy</td><td>0.60274</td></tr><tr><td>loss</td><td>0.04783</td></tr><tr><td>val_accuracy</td><td>0.58562</td></tr><tr><td>val_loss</td><td>0.22922</td></tr></table><br/></div></div>"
      ],
      "text/plain": [
       "<IPython.core.display.HTML object>"
      ]
     },
     "metadata": {},
     "output_type": "display_data"
    },
    {
     "data": {
      "text/html": [
       "Synced <strong style=\"color:#cdcd00\">daily-water-18</strong>: <a href=\"https://wandb.ai/art_api/art_api/runs/2pbccv5b\" target=\"_blank\">https://wandb.ai/art_api/art_api/runs/2pbccv5b</a><br/>Synced 5 W&B file(s), 1 media file(s), 37 artifact file(s) and 1 other file(s)"
      ],
      "text/plain": [
       "<IPython.core.display.HTML object>"
      ]
     },
     "metadata": {},
     "output_type": "display_data"
    },
    {
     "data": {
      "text/html": [
       "Find logs at: <code>./wandb/run-20220917_010357-2pbccv5b/logs</code>"
      ],
      "text/plain": [
       "<IPython.core.display.HTML object>"
      ]
     },
     "metadata": {},
     "output_type": "display_data"
    }
   ],
   "source": [
    "log_model()"
   ]
  },
  {
   "cell_type": "markdown",
   "id": "0c7c77fe",
   "metadata": {},
   "source": [
    "# Train on VGG19"
   ]
  },
  {
   "cell_type": "code",
   "execution_count": 132,
   "id": "701ff5b8",
   "metadata": {
    "ExecuteTime": {
     "end_time": "2022-09-16T17:09:46.817819Z",
     "start_time": "2022-09-16T17:09:46.813555Z"
    }
   },
   "outputs": [],
   "source": [
    "def load_vgg19_model():\n",
    "        \n",
    "    model = VGG19(weights=\"imagenet\", include_top=False, input_shape=input_shape)\n",
    "        \n",
    "    return model\n",
    "\n",
    "def set_nontrainable_layers(model):\n",
    "    \n",
    "    # Set the first layers to be untrainable\n",
    "    model.trainable = False\n",
    "        \n",
    "    return model\n",
    "\n",
    "def add_last_layers(model):\n",
    "    '''Take a pre-trained model, set its parameters as non-trainable, and add additional trainable layers on top'''\n",
    "    base_model = set_nontrainable_layers(model)\n",
    "    rescale_layer = layers.Rescaling(1./255, input_shape=(256,256,3))\n",
    "    flatten_layer = layers.Flatten()\n",
    "    dense_layer = layers.Dense(500, activation='relu')\n",
    "    prediction_layer = layers.Dense(10, activation='sigmoid')\n",
    "    \n",
    "    model = models.Sequential([\n",
    "        base_model,\n",
    "        rescale_layer,\n",
    "        flatten_layer,\n",
    "        dense_layer,\n",
    "        prediction_layer\n",
    "    ])\n",
    "\n",
    "    return model"
   ]
  },
  {
   "cell_type": "code",
   "execution_count": 133,
   "id": "26135a4a",
   "metadata": {
    "ExecuteTime": {
     "end_time": "2022-09-16T17:09:47.525897Z",
     "start_time": "2022-09-16T17:09:47.522432Z"
    }
   },
   "outputs": [],
   "source": [
    "def build_vgg19_model():\n",
    "\n",
    "    model = load_vgg19_model()\n",
    "    model = add_last_layers(model)\n",
    "    \n",
    "    model.compile(loss='binary_crossentropy',\n",
    "                  optimizer=optimizers.Adam(learning_rate=1e-4),\n",
    "                  metrics=['accuracy'])\n",
    "    return model"
   ]
  },
  {
   "cell_type": "code",
   "execution_count": 135,
   "id": "1dfd9d6a",
   "metadata": {
    "ExecuteTime": {
     "end_time": "2022-09-16T17:09:58.214870Z",
     "start_time": "2022-09-16T17:09:58.210037Z"
    }
   },
   "outputs": [],
   "source": [
    "def log_model():\n",
    "    #run = wandb.init(project=“project=\"art_api\", job_type=\"training\")\n",
    "    \n",
    "    with wandb.init(project=\"art_api\") as run:\n",
    "        \n",
    "        baseline_model = wandb.Artifact(\n",
    "            name = \"vgg19-balanced\",\n",
    "            type=\"model\",\n",
    "            description = \"VGG19 model on balanced, preprocessed dataset\")\n",
    "    \n",
    "        es = EarlyStopping(monitor = 'val_accuracy', \n",
    "                       mode = 'max', \n",
    "                       patience = 5, \n",
    "                       verbose = 1, \n",
    "                       restore_best_weights = True)\n",
    "        \n",
    "        # Define WandbCallback for experiment tracking\n",
    "        wandb_callback = WandbCallback(monitor='val_loss',\n",
    "                                       log_weights=True,\n",
    "                                       log_evaluation=True,\n",
    "                                       validation_steps=5)\n",
    "\n",
    "        callbacks = [es, wandb_callback]\n",
    "\n",
    "        model = build_vgg19_model()\n",
    "\n",
    "        model.fit(X_train, y_train,  validation_data=(X_test, y_test),\n",
    "              callbacks=[callbacks], verbose=1, epochs=50)\n",
    "\n",
    "        filename = os.path.join(Path(\"../models\"), \"vgg19_bal\")\n",
    "        model.save(filename)\n",
    "        \n",
    "        loss, acc = model.evaluate(X_test, y_test)\n",
    "        wandb.log({'evaluate/accuracy': acc})"
   ]
  },
  {
   "cell_type": "code",
   "execution_count": 136,
   "id": "de095ef2",
   "metadata": {
    "ExecuteTime": {
     "end_time": "2022-09-16T17:15:20.184634Z",
     "start_time": "2022-09-16T17:09:59.007867Z"
    }
   },
   "outputs": [
    {
     "data": {
      "text/html": [
       "Changes to your `wandb` environment variables will be ignored because your `wandb` session has already started. For more information on how to modify your settings with `wandb.init()` arguments, please refer to <a href=\"https://wandb.me/wandb-init\" target=\"_blank\">the W&B docs</a>."
      ],
      "text/plain": [
       "<IPython.core.display.HTML object>"
      ]
     },
     "metadata": {},
     "output_type": "display_data"
    },
    {
     "data": {
      "text/html": [
       "Tracking run with wandb version 0.13.3"
      ],
      "text/plain": [
       "<IPython.core.display.HTML object>"
      ]
     },
     "metadata": {},
     "output_type": "display_data"
    },
    {
     "data": {
      "text/html": [
       "Run data is saved locally in <code>/home/erniesg/code/erniesg/art_api/notebooks/wandb/run-20220917_010959-3o1zk2j4</code>"
      ],
      "text/plain": [
       "<IPython.core.display.HTML object>"
      ]
     },
     "metadata": {},
     "output_type": "display_data"
    },
    {
     "data": {
      "text/html": [
       "Syncing run <strong><a href=\"https://wandb.ai/art_api/art_api/runs/3o1zk2j4\" target=\"_blank\">pleasant-energy-19</a></strong> to <a href=\"https://wandb.ai/art_api/art_api\" target=\"_blank\">Weights & Biases</a> (<a href=\"https://wandb.me/run\" target=\"_blank\">docs</a>)<br/>"
      ],
      "text/plain": [
       "<IPython.core.display.HTML object>"
      ]
     },
     "metadata": {},
     "output_type": "display_data"
    },
    {
     "name": "stdout",
     "output_type": "stream",
     "text": [
      "Downloading data from https://storage.googleapis.com/tensorflow/keras-applications/vgg19/vgg19_weights_tf_dim_ordering_tf_kernels_notop.h5\n",
      "80134624/80134624 [==============================] - 2s 0us/step\n"
     ]
    },
    {
     "name": "stderr",
     "output_type": "stream",
     "text": [
      "\u001b[34m\u001b[1mwandb\u001b[0m: \u001b[33mWARNING\u001b[0m WandbCallback is unable to read validation_data from trainer and therefore cannot log validation data. Ensure Keras is properly patched by calling `from wandb.keras import WandbCallback` at the top of your script.\n",
      "2022-09-17 01:11:19.247039: I tensorflow/stream_executor/cuda/cuda_gpu_executor.cc:961] could not open file to read NUMA node: /sys/bus/pci/devices/0000:06:00.0/numa_node\n",
      "Your kernel may have been built without NUMA support.\n",
      "2022-09-17 01:11:19.247088: I tensorflow/core/grappler/devices.cc:66] Number of eligible GPUs (core count >= 8, compute capability >= 0.0): 1\n",
      "2022-09-17 01:11:19.247206: I tensorflow/core/grappler/clusters/single_machine.cc:358] Starting new session\n",
      "2022-09-17 01:11:19.247867: I tensorflow/stream_executor/cuda/cuda_gpu_executor.cc:961] could not open file to read NUMA node: /sys/bus/pci/devices/0000:06:00.0/numa_node\n",
      "Your kernel may have been built without NUMA support.\n",
      "2022-09-17 01:11:19.248197: I tensorflow/stream_executor/cuda/cuda_gpu_executor.cc:961] could not open file to read NUMA node: /sys/bus/pci/devices/0000:06:00.0/numa_node\n",
      "Your kernel may have been built without NUMA support.\n",
      "2022-09-17 01:11:19.248500: I tensorflow/stream_executor/cuda/cuda_gpu_executor.cc:961] could not open file to read NUMA node: /sys/bus/pci/devices/0000:06:00.0/numa_node\n",
      "Your kernel may have been built without NUMA support.\n",
      "2022-09-17 01:11:19.250646: I tensorflow/stream_executor/cuda/cuda_gpu_executor.cc:961] could not open file to read NUMA node: /sys/bus/pci/devices/0000:06:00.0/numa_node\n",
      "Your kernel may have been built without NUMA support.\n",
      "2022-09-17 01:11:19.250656: I tensorflow/core/common_runtime/gpu/gpu_device.cc:1616] Could not identify NUMA node of platform GPU id 0, defaulting to 0.  Your kernel may not have been built with NUMA support.\n",
      "2022-09-17 01:11:19.250962: I tensorflow/stream_executor/cuda/cuda_gpu_executor.cc:961] could not open file to read NUMA node: /sys/bus/pci/devices/0000:06:00.0/numa_node\n",
      "Your kernel may have been built without NUMA support.\n",
      "2022-09-17 01:11:19.250992: I tensorflow/core/common_runtime/gpu/gpu_device.cc:1532] Created device /job:localhost/replica:0/task:0/device:GPU:0 with 5423 MB memory:  -> device: 0, name: NVIDIA GeForce RTX 3070, pci bus id: 0000:06:00.0, compute capability: 8.6\n"
     ]
    },
    {
     "name": "stdout",
     "output_type": "stream",
     "text": [
      "Epoch 1/50\n",
      "43/43 [==============================] - ETA: 0s - loss: 0.4475 - accuracy: 0.2864"
     ]
    },
    {
     "name": "stderr",
     "output_type": "stream",
     "text": [
      "WARNING:absl:Found untraced functions such as _jit_compiled_convolution_op, _jit_compiled_convolution_op, _jit_compiled_convolution_op, _jit_compiled_convolution_op, _jit_compiled_convolution_op while saving (showing 5 of 16). These functions will not be directly callable after loading.\n"
     ]
    },
    {
     "name": "stdout",
     "output_type": "stream",
     "text": [
      "INFO:tensorflow:Assets written to: /home/erniesg/code/erniesg/art_api/notebooks/wandb/run-20220917_010959-3o1zk2j4/files/model-best/assets\n"
     ]
    },
    {
     "name": "stderr",
     "output_type": "stream",
     "text": [
      "INFO:tensorflow:Assets written to: /home/erniesg/code/erniesg/art_api/notebooks/wandb/run-20220917_010959-3o1zk2j4/files/model-best/assets\n",
      "\u001b[34m\u001b[1mwandb\u001b[0m: Adding directory to artifact (/home/erniesg/code/erniesg/art_api/notebooks/wandb/run-20220917_010959-3o1zk2j4/files/model-best)... Done. 0.5s\n"
     ]
    },
    {
     "name": "stdout",
     "output_type": "stream",
     "text": [
      "43/43 [==============================] - 15s 331ms/step - loss: 0.4475 - accuracy: 0.2864 - val_loss: 0.3610 - val_accuracy: 0.4521\n",
      "Epoch 2/50\n",
      "43/43 [==============================] - ETA: 0s - loss: 0.3177 - accuracy: 0.5780"
     ]
    },
    {
     "name": "stderr",
     "output_type": "stream",
     "text": [
      "WARNING:absl:Found untraced functions such as _jit_compiled_convolution_op, _jit_compiled_convolution_op, _jit_compiled_convolution_op, _jit_compiled_convolution_op, _jit_compiled_convolution_op while saving (showing 5 of 16). These functions will not be directly callable after loading.\n"
     ]
    },
    {
     "name": "stdout",
     "output_type": "stream",
     "text": [
      "INFO:tensorflow:Assets written to: /home/erniesg/code/erniesg/art_api/notebooks/wandb/run-20220917_010959-3o1zk2j4/files/model-best/assets\n"
     ]
    },
    {
     "name": "stderr",
     "output_type": "stream",
     "text": [
      "INFO:tensorflow:Assets written to: /home/erniesg/code/erniesg/art_api/notebooks/wandb/run-20220917_010959-3o1zk2j4/files/model-best/assets\n",
      "\u001b[34m\u001b[1mwandb\u001b[0m: Adding directory to artifact (/home/erniesg/code/erniesg/art_api/notebooks/wandb/run-20220917_010959-3o1zk2j4/files/model-best)... Done. 0.8s\n"
     ]
    },
    {
     "name": "stdout",
     "output_type": "stream",
     "text": [
      "43/43 [==============================] - 13s 302ms/step - loss: 0.3177 - accuracy: 0.5780 - val_loss: 0.3094 - val_accuracy: 0.5377\n",
      "Epoch 3/50\n",
      "43/43 [==============================] - ETA: 0s - loss: 0.2624 - accuracy: 0.6828"
     ]
    },
    {
     "name": "stderr",
     "output_type": "stream",
     "text": [
      "WARNING:absl:Found untraced functions such as _jit_compiled_convolution_op, _jit_compiled_convolution_op, _jit_compiled_convolution_op, _jit_compiled_convolution_op, _jit_compiled_convolution_op while saving (showing 5 of 16). These functions will not be directly callable after loading.\n"
     ]
    },
    {
     "name": "stdout",
     "output_type": "stream",
     "text": [
      "INFO:tensorflow:Assets written to: /home/erniesg/code/erniesg/art_api/notebooks/wandb/run-20220917_010959-3o1zk2j4/files/model-best/assets\n"
     ]
    },
    {
     "name": "stderr",
     "output_type": "stream",
     "text": [
      "INFO:tensorflow:Assets written to: /home/erniesg/code/erniesg/art_api/notebooks/wandb/run-20220917_010959-3o1zk2j4/files/model-best/assets\n",
      "\u001b[34m\u001b[1mwandb\u001b[0m: Adding directory to artifact (/home/erniesg/code/erniesg/art_api/notebooks/wandb/run-20220917_010959-3o1zk2j4/files/model-best)... Done. 0.5s\n"
     ]
    },
    {
     "name": "stdout",
     "output_type": "stream",
     "text": [
      "43/43 [==============================] - 10s 228ms/step - loss: 0.2624 - accuracy: 0.6828 - val_loss: 0.2794 - val_accuracy: 0.5479\n",
      "Epoch 4/50\n",
      "43/43 [==============================] - ETA: 0s - loss: 0.2229 - accuracy: 0.7216"
     ]
    },
    {
     "name": "stderr",
     "output_type": "stream",
     "text": [
      "WARNING:absl:Found untraced functions such as _jit_compiled_convolution_op, _jit_compiled_convolution_op, _jit_compiled_convolution_op, _jit_compiled_convolution_op, _jit_compiled_convolution_op while saving (showing 5 of 16). These functions will not be directly callable after loading.\n"
     ]
    },
    {
     "name": "stdout",
     "output_type": "stream",
     "text": [
      "INFO:tensorflow:Assets written to: /home/erniesg/code/erniesg/art_api/notebooks/wandb/run-20220917_010959-3o1zk2j4/files/model-best/assets\n"
     ]
    },
    {
     "name": "stderr",
     "output_type": "stream",
     "text": [
      "INFO:tensorflow:Assets written to: /home/erniesg/code/erniesg/art_api/notebooks/wandb/run-20220917_010959-3o1zk2j4/files/model-best/assets\n",
      "\u001b[34m\u001b[1mwandb\u001b[0m: Adding directory to artifact (/home/erniesg/code/erniesg/art_api/notebooks/wandb/run-20220917_010959-3o1zk2j4/files/model-best)... Done. 7.1s\n"
     ]
    },
    {
     "name": "stdout",
     "output_type": "stream",
     "text": [
      "43/43 [==============================] - 17s 399ms/step - loss: 0.2229 - accuracy: 0.7216 - val_loss: 0.2625 - val_accuracy: 0.5788\n",
      "Epoch 5/50\n",
      "43/43 [==============================] - ETA: 0s - loss: 0.1929 - accuracy: 0.7641"
     ]
    },
    {
     "name": "stderr",
     "output_type": "stream",
     "text": [
      "WARNING:absl:Found untraced functions such as _jit_compiled_convolution_op, _jit_compiled_convolution_op, _jit_compiled_convolution_op, _jit_compiled_convolution_op, _jit_compiled_convolution_op while saving (showing 5 of 16). These functions will not be directly callable after loading.\n"
     ]
    },
    {
     "name": "stdout",
     "output_type": "stream",
     "text": [
      "INFO:tensorflow:Assets written to: /home/erniesg/code/erniesg/art_api/notebooks/wandb/run-20220917_010959-3o1zk2j4/files/model-best/assets\n"
     ]
    },
    {
     "name": "stderr",
     "output_type": "stream",
     "text": [
      "INFO:tensorflow:Assets written to: /home/erniesg/code/erniesg/art_api/notebooks/wandb/run-20220917_010959-3o1zk2j4/files/model-best/assets\n",
      "\u001b[34m\u001b[1mwandb\u001b[0m: Adding directory to artifact (/home/erniesg/code/erniesg/art_api/notebooks/wandb/run-20220917_010959-3o1zk2j4/files/model-best)... Done. 0.5s\n"
     ]
    },
    {
     "name": "stdout",
     "output_type": "stream",
     "text": [
      "43/43 [==============================] - 15s 350ms/step - loss: 0.1929 - accuracy: 0.7641 - val_loss: 0.2508 - val_accuracy: 0.5753\n",
      "Epoch 6/50\n",
      "43/43 [==============================] - ETA: 0s - loss: 0.1695 - accuracy: 0.7868"
     ]
    },
    {
     "name": "stderr",
     "output_type": "stream",
     "text": [
      "WARNING:absl:Found untraced functions such as _jit_compiled_convolution_op, _jit_compiled_convolution_op, _jit_compiled_convolution_op, _jit_compiled_convolution_op, _jit_compiled_convolution_op while saving (showing 5 of 16). These functions will not be directly callable after loading.\n"
     ]
    },
    {
     "name": "stdout",
     "output_type": "stream",
     "text": [
      "INFO:tensorflow:Assets written to: /home/erniesg/code/erniesg/art_api/notebooks/wandb/run-20220917_010959-3o1zk2j4/files/model-best/assets\n"
     ]
    },
    {
     "name": "stderr",
     "output_type": "stream",
     "text": [
      "INFO:tensorflow:Assets written to: /home/erniesg/code/erniesg/art_api/notebooks/wandb/run-20220917_010959-3o1zk2j4/files/model-best/assets\n",
      "\u001b[34m\u001b[1mwandb\u001b[0m: Adding directory to artifact (/home/erniesg/code/erniesg/art_api/notebooks/wandb/run-20220917_010959-3o1zk2j4/files/model-best)... Done. 0.5s\n"
     ]
    },
    {
     "name": "stdout",
     "output_type": "stream",
     "text": [
      "43/43 [==============================] - 14s 321ms/step - loss: 0.1695 - accuracy: 0.7868 - val_loss: 0.2423 - val_accuracy: 0.5925\n",
      "Epoch 7/50\n",
      "43/43 [==============================] - ETA: 0s - loss: 0.1501 - accuracy: 0.8066"
     ]
    },
    {
     "name": "stderr",
     "output_type": "stream",
     "text": [
      "WARNING:absl:Found untraced functions such as _jit_compiled_convolution_op, _jit_compiled_convolution_op, _jit_compiled_convolution_op, _jit_compiled_convolution_op, _jit_compiled_convolution_op while saving (showing 5 of 16). These functions will not be directly callable after loading.\n"
     ]
    },
    {
     "name": "stdout",
     "output_type": "stream",
     "text": [
      "INFO:tensorflow:Assets written to: /home/erniesg/code/erniesg/art_api/notebooks/wandb/run-20220917_010959-3o1zk2j4/files/model-best/assets\n"
     ]
    },
    {
     "name": "stderr",
     "output_type": "stream",
     "text": [
      "INFO:tensorflow:Assets written to: /home/erniesg/code/erniesg/art_api/notebooks/wandb/run-20220917_010959-3o1zk2j4/files/model-best/assets\n",
      "\u001b[34m\u001b[1mwandb\u001b[0m: Adding directory to artifact (/home/erniesg/code/erniesg/art_api/notebooks/wandb/run-20220917_010959-3o1zk2j4/files/model-best)... Done. 0.7s\n"
     ]
    },
    {
     "name": "stdout",
     "output_type": "stream",
     "text": [
      "43/43 [==============================] - 9s 211ms/step - loss: 0.1501 - accuracy: 0.8066 - val_loss: 0.2368 - val_accuracy: 0.5890\n",
      "Epoch 8/50\n",
      "43/43 [==============================] - ETA: 0s - loss: 0.1330 - accuracy: 0.8234"
     ]
    },
    {
     "name": "stderr",
     "output_type": "stream",
     "text": [
      "WARNING:absl:Found untraced functions such as _jit_compiled_convolution_op, _jit_compiled_convolution_op, _jit_compiled_convolution_op, _jit_compiled_convolution_op, _jit_compiled_convolution_op while saving (showing 5 of 16). These functions will not be directly callable after loading.\n"
     ]
    },
    {
     "name": "stdout",
     "output_type": "stream",
     "text": [
      "INFO:tensorflow:Assets written to: /home/erniesg/code/erniesg/art_api/notebooks/wandb/run-20220917_010959-3o1zk2j4/files/model-best/assets\n"
     ]
    },
    {
     "name": "stderr",
     "output_type": "stream",
     "text": [
      "INFO:tensorflow:Assets written to: /home/erniesg/code/erniesg/art_api/notebooks/wandb/run-20220917_010959-3o1zk2j4/files/model-best/assets\n",
      "\u001b[34m\u001b[1mwandb\u001b[0m: Adding directory to artifact (/home/erniesg/code/erniesg/art_api/notebooks/wandb/run-20220917_010959-3o1zk2j4/files/model-best)... Done. 0.7s\n"
     ]
    },
    {
     "name": "stdout",
     "output_type": "stream",
     "text": [
      "43/43 [==============================] - 10s 222ms/step - loss: 0.1330 - accuracy: 0.8234 - val_loss: 0.2318 - val_accuracy: 0.5856\n",
      "Epoch 9/50\n",
      "43/43 [==============================] - ETA: 0s - loss: 0.1183 - accuracy: 0.8366"
     ]
    },
    {
     "name": "stderr",
     "output_type": "stream",
     "text": [
      "WARNING:absl:Found untraced functions such as _jit_compiled_convolution_op, _jit_compiled_convolution_op, _jit_compiled_convolution_op, _jit_compiled_convolution_op, _jit_compiled_convolution_op while saving (showing 5 of 16). These functions will not be directly callable after loading.\n"
     ]
    },
    {
     "name": "stdout",
     "output_type": "stream",
     "text": [
      "INFO:tensorflow:Assets written to: /home/erniesg/code/erniesg/art_api/notebooks/wandb/run-20220917_010959-3o1zk2j4/files/model-best/assets\n"
     ]
    },
    {
     "name": "stderr",
     "output_type": "stream",
     "text": [
      "INFO:tensorflow:Assets written to: /home/erniesg/code/erniesg/art_api/notebooks/wandb/run-20220917_010959-3o1zk2j4/files/model-best/assets\n",
      "\u001b[34m\u001b[1mwandb\u001b[0m: Adding directory to artifact (/home/erniesg/code/erniesg/art_api/notebooks/wandb/run-20220917_010959-3o1zk2j4/files/model-best)... Done. 0.7s\n"
     ]
    },
    {
     "name": "stdout",
     "output_type": "stream",
     "text": [
      "43/43 [==============================] - 11s 266ms/step - loss: 0.1183 - accuracy: 0.8366 - val_loss: 0.2290 - val_accuracy: 0.5856\n",
      "Epoch 10/50\n",
      "43/43 [==============================] - ETA: 0s - loss: 0.1059 - accuracy: 0.8440"
     ]
    },
    {
     "name": "stderr",
     "output_type": "stream",
     "text": [
      "WARNING:absl:Found untraced functions such as _jit_compiled_convolution_op, _jit_compiled_convolution_op, _jit_compiled_convolution_op, _jit_compiled_convolution_op, _jit_compiled_convolution_op while saving (showing 5 of 16). These functions will not be directly callable after loading.\n"
     ]
    },
    {
     "name": "stdout",
     "output_type": "stream",
     "text": [
      "INFO:tensorflow:Assets written to: /home/erniesg/code/erniesg/art_api/notebooks/wandb/run-20220917_010959-3o1zk2j4/files/model-best/assets\n"
     ]
    },
    {
     "name": "stderr",
     "output_type": "stream",
     "text": [
      "INFO:tensorflow:Assets written to: /home/erniesg/code/erniesg/art_api/notebooks/wandb/run-20220917_010959-3o1zk2j4/files/model-best/assets\n",
      "\u001b[34m\u001b[1mwandb\u001b[0m: Adding directory to artifact (/home/erniesg/code/erniesg/art_api/notebooks/wandb/run-20220917_010959-3o1zk2j4/files/model-best)... Done. 0.8s\n"
     ]
    },
    {
     "name": "stdout",
     "output_type": "stream",
     "text": [
      "43/43 [==============================] - 13s 308ms/step - loss: 0.1059 - accuracy: 0.8440 - val_loss: 0.2288 - val_accuracy: 0.6062\n",
      "Epoch 11/50\n",
      "43/43 [==============================] - ETA: 0s - loss: 0.0950 - accuracy: 0.8520"
     ]
    },
    {
     "name": "stderr",
     "output_type": "stream",
     "text": [
      "WARNING:absl:Found untraced functions such as _jit_compiled_convolution_op, _jit_compiled_convolution_op, _jit_compiled_convolution_op, _jit_compiled_convolution_op, _jit_compiled_convolution_op while saving (showing 5 of 16). These functions will not be directly callable after loading.\n"
     ]
    },
    {
     "name": "stdout",
     "output_type": "stream",
     "text": [
      "INFO:tensorflow:Assets written to: /home/erniesg/code/erniesg/art_api/notebooks/wandb/run-20220917_010959-3o1zk2j4/files/model-best/assets\n"
     ]
    },
    {
     "name": "stderr",
     "output_type": "stream",
     "text": [
      "INFO:tensorflow:Assets written to: /home/erniesg/code/erniesg/art_api/notebooks/wandb/run-20220917_010959-3o1zk2j4/files/model-best/assets\n",
      "\u001b[34m\u001b[1mwandb\u001b[0m: Adding directory to artifact (/home/erniesg/code/erniesg/art_api/notebooks/wandb/run-20220917_010959-3o1zk2j4/files/model-best)... Done. 0.7s\n"
     ]
    },
    {
     "name": "stdout",
     "output_type": "stream",
     "text": [
      "43/43 [==============================] - 9s 215ms/step - loss: 0.0950 - accuracy: 0.8520 - val_loss: 0.2261 - val_accuracy: 0.6062\n",
      "Epoch 12/50\n",
      "43/43 [==============================] - ETA: 0s - loss: 0.0855 - accuracy: 0.8630"
     ]
    },
    {
     "name": "stderr",
     "output_type": "stream",
     "text": [
      "WARNING:absl:Found untraced functions such as _jit_compiled_convolution_op, _jit_compiled_convolution_op, _jit_compiled_convolution_op, _jit_compiled_convolution_op, _jit_compiled_convolution_op while saving (showing 5 of 16). These functions will not be directly callable after loading.\n"
     ]
    },
    {
     "name": "stdout",
     "output_type": "stream",
     "text": [
      "INFO:tensorflow:Assets written to: /home/erniesg/code/erniesg/art_api/notebooks/wandb/run-20220917_010959-3o1zk2j4/files/model-best/assets\n"
     ]
    },
    {
     "name": "stderr",
     "output_type": "stream",
     "text": [
      "INFO:tensorflow:Assets written to: /home/erniesg/code/erniesg/art_api/notebooks/wandb/run-20220917_010959-3o1zk2j4/files/model-best/assets\n",
      "\u001b[34m\u001b[1mwandb\u001b[0m: Adding directory to artifact (/home/erniesg/code/erniesg/art_api/notebooks/wandb/run-20220917_010959-3o1zk2j4/files/model-best)... Done. 0.7s\n"
     ]
    },
    {
     "name": "stdout",
     "output_type": "stream",
     "text": [
      "43/43 [==============================] - 10s 227ms/step - loss: 0.0855 - accuracy: 0.8630 - val_loss: 0.2246 - val_accuracy: 0.5959\n",
      "Epoch 13/50\n",
      "43/43 [==============================] - 15s 348ms/step - loss: 0.0773 - accuracy: 0.8571 - val_loss: 0.2261 - val_accuracy: 0.6027\n",
      "Epoch 14/50\n",
      "43/43 [==============================] - 8s 170ms/step - loss: 0.0702 - accuracy: 0.8689 - val_loss: 0.2260 - val_accuracy: 0.6130\n",
      "Epoch 15/50\n",
      "43/43 [==============================] - 6s 143ms/step - loss: 0.0640 - accuracy: 0.8659 - val_loss: 0.2282 - val_accuracy: 0.6096\n",
      "Epoch 16/50\n",
      "43/43 [==============================] - 6s 142ms/step - loss: 0.0583 - accuracy: 0.8652 - val_loss: 0.2281 - val_accuracy: 0.5925\n",
      "Epoch 17/50\n",
      "43/43 [==============================] - 7s 166ms/step - loss: 0.0534 - accuracy: 0.8725 - val_loss: 0.2290 - val_accuracy: 0.6027\n",
      "Epoch 18/50\n",
      "43/43 [==============================] - 6s 138ms/step - loss: 0.0490 - accuracy: 0.8652 - val_loss: 0.2315 - val_accuracy: 0.5993\n",
      "Epoch 19/50\n",
      "43/43 [==============================] - ETA: 0s - loss: 0.0453 - accuracy: 0.8674Restoring model weights from the end of the best epoch: 14.\n",
      "43/43 [==============================] - 14s 328ms/step - loss: 0.0453 - accuracy: 0.8674 - val_loss: 0.2327 - val_accuracy: 0.6027\n",
      "Epoch 19: early stopping\n"
     ]
    },
    {
     "name": "stderr",
     "output_type": "stream",
     "text": [
      "WARNING:absl:Found untraced functions such as _jit_compiled_convolution_op, _jit_compiled_convolution_op, _jit_compiled_convolution_op, _jit_compiled_convolution_op, _jit_compiled_convolution_op while saving (showing 5 of 16). These functions will not be directly callable after loading.\n"
     ]
    },
    {
     "name": "stdout",
     "output_type": "stream",
     "text": [
      "INFO:tensorflow:Assets written to: ../models/vgg19_bal/assets\n"
     ]
    },
    {
     "name": "stderr",
     "output_type": "stream",
     "text": [
      "INFO:tensorflow:Assets written to: ../models/vgg19_bal/assets\n"
     ]
    },
    {
     "name": "stdout",
     "output_type": "stream",
     "text": [
      "10/10 [==============================] - 1s 103ms/step - loss: 0.2260 - accuracy: 0.6130\n"
     ]
    },
    {
     "data": {
      "text/html": [
       "Waiting for W&B process to finish... <strong style=\"color:green\">(success).</strong>"
      ],
      "text/plain": [
       "<IPython.core.display.HTML object>"
      ]
     },
     "metadata": {},
     "output_type": "display_data"
    },
    {
     "data": {
      "application/vnd.jupyter.widget-view+json": {
       "model_id": "",
       "version_major": 2,
       "version_minor": 0
      },
      "text/plain": [
       "VBox(children=(Label(value='3437.081 MB of 3437.081 MB uploaded (0.088 MB deduped)\\r'), FloatProgress(value=1.…"
      ]
     },
     "metadata": {},
     "output_type": "display_data"
    },
    {
     "data": {
      "text/html": [
       "<style>\n",
       "    table.wandb td:nth-child(1) { padding: 0 10px; text-align: left ; width: auto;} td:nth-child(2) {text-align: left ; width: 100%}\n",
       "    .wandb-row { display: flex; flex-direction: row; flex-wrap: wrap; justify-content: flex-start; width: 100% }\n",
       "    .wandb-col { display: flex; flex-direction: column; flex-basis: 100%; flex: 1; padding: 10px; }\n",
       "    </style>\n",
       "<div class=\"wandb-row\"><div class=\"wandb-col\"><h3>Run history:</h3><br/><table class=\"wandb\"><tr><td>accuracy</td><td>▁▄▆▆▇▇▇▇███████████</td></tr><tr><td>epoch</td><td>▁▁▂▂▃▃▃▄▄▅▅▅▆▆▆▇▇██</td></tr><tr><td>evaluate/accuracy</td><td>▁</td></tr><tr><td>loss</td><td>█▆▅▄▄▃▃▃▂▂▂▂▂▁▁▁▁▁▁</td></tr><tr><td>val_accuracy</td><td>▁▅▅▇▆▇▇▇▇██▇███▇█▇█</td></tr><tr><td>val_loss</td><td>█▅▄▃▂▂▂▁▁▁▁▁▁▁▁▁▁▁▁</td></tr></table><br/></div><div class=\"wandb-col\"><h3>Run summary:</h3><br/><table class=\"wandb\"><tr><td>GFLOPs</td><td>25.5105</td></tr><tr><td>accuracy</td><td>0.8674</td></tr><tr><td>best_epoch</td><td>11</td></tr><tr><td>best_val_loss</td><td>0.22462</td></tr><tr><td>epoch</td><td>18</td></tr><tr><td>evaluate/accuracy</td><td>0.61301</td></tr><tr><td>loss</td><td>0.04527</td></tr><tr><td>val_accuracy</td><td>0.60274</td></tr><tr><td>val_loss</td><td>0.23268</td></tr></table><br/></div></div>"
      ],
      "text/plain": [
       "<IPython.core.display.HTML object>"
      ]
     },
     "metadata": {},
     "output_type": "display_data"
    },
    {
     "data": {
      "text/html": [
       "Synced <strong style=\"color:#cdcd00\">pleasant-energy-19</strong>: <a href=\"https://wandb.ai/art_api/art_api/runs/3o1zk2j4\" target=\"_blank\">https://wandb.ai/art_api/art_api/runs/3o1zk2j4</a><br/>Synced 5 W&B file(s), 1 media file(s), 37 artifact file(s) and 1 other file(s)"
      ],
      "text/plain": [
       "<IPython.core.display.HTML object>"
      ]
     },
     "metadata": {},
     "output_type": "display_data"
    },
    {
     "data": {
      "text/html": [
       "Find logs at: <code>./wandb/run-20220917_010959-3o1zk2j4/logs</code>"
      ],
      "text/plain": [
       "<IPython.core.display.HTML object>"
      ]
     },
     "metadata": {},
     "output_type": "display_data"
    }
   ],
   "source": [
    "log_model()"
   ]
  },
  {
   "cell_type": "markdown",
   "id": "f04029af",
   "metadata": {},
   "source": [
    "# Train on ResNet50"
   ]
  },
  {
   "cell_type": "code",
   "execution_count": 18,
   "id": "ddd93fc6",
   "metadata": {
    "ExecuteTime": {
     "end_time": "2022-09-16T19:39:55.121263Z",
     "start_time": "2022-09-16T19:39:55.117737Z"
    }
   },
   "outputs": [],
   "source": [
    "from tensorflow.keras.applications.resnet import preprocess_input"
   ]
  },
  {
   "cell_type": "code",
   "execution_count": 19,
   "id": "26aa079e",
   "metadata": {
    "ExecuteTime": {
     "end_time": "2022-09-16T19:39:55.197380Z",
     "start_time": "2022-09-16T19:39:55.122898Z"
    }
   },
   "outputs": [],
   "source": [
    "X_train, X_test, y_train, y_test = train_test_split(X_under, y_under, test_size=0.3)\n",
    "X_test, X_val, y_test, y_val = train_test_split(X_test, y_test, test_size=0.5)"
   ]
  },
  {
   "cell_type": "code",
   "execution_count": 20,
   "id": "1762dc11",
   "metadata": {
    "ExecuteTime": {
     "end_time": "2022-09-16T19:39:55.652303Z",
     "start_time": "2022-09-16T19:39:55.199093Z"
    }
   },
   "outputs": [],
   "source": [
    "X_train = preprocess_input(X_train) \n",
    "X_val = preprocess_input(X_val)\n",
    "X_test = preprocess_input(X_test)"
   ]
  },
  {
   "cell_type": "code",
   "execution_count": 149,
   "id": "39fa4182",
   "metadata": {
    "ExecuteTime": {
     "end_time": "2022-09-16T17:19:55.787321Z",
     "start_time": "2022-09-16T17:19:55.780576Z"
    }
   },
   "outputs": [],
   "source": [
    "def load_resnet_model():\n",
    "    \n",
    "    model = ResNet50(weights='imagenet', include_top=False, input_shape=input_shape, classes=10)\n",
    "    \n",
    "    model.compile(loss='binary_crossentropy',\n",
    "                  optimizer=optimizers.Adam(learning_rate=1e-4),\n",
    "                  metrics=['accuracy'])\n",
    "    \n",
    "    return model\n",
    "\n",
    "def set_nontrainable_layers(model):\n",
    "    \n",
    "    # Set the first layers to be untrainable\n",
    "    model.trainable = False\n",
    "        \n",
    "    return model\n",
    "\n",
    "def add_last_layers(model):\n",
    "    '''Take a pre-trained model, set its parameters as non-trainable, and add additional trainable layers on top'''\n",
    "    base_model = set_nontrainable_layers(model)\n",
    "    rescale_layer = layers.Rescaling(1./255, input_shape=input_shape)\n",
    "    flatten_layer = layers.Flatten()\n",
    "    dense_layer = layers.Dense(500, activation='relu')\n",
    "    prediction_layer = layers.Dense(10, activation='sigmoid')\n",
    "    \n",
    "    model = models.Sequential([\n",
    "        base_model,\n",
    "        rescale_layer,\n",
    "        flatten_layer,\n",
    "        dense_layer,\n",
    "        prediction_layer\n",
    "    ])\n",
    "\n",
    "    return model"
   ]
  },
  {
   "cell_type": "code",
   "execution_count": 150,
   "id": "24ee8232",
   "metadata": {
    "ExecuteTime": {
     "end_time": "2022-09-16T17:19:57.172462Z",
     "start_time": "2022-09-16T17:19:57.167411Z"
    }
   },
   "outputs": [],
   "source": [
    "def build_model():\n",
    "\n",
    "    model = load_resnet_model()\n",
    "    model = add_last_layers(model)\n",
    "    \n",
    "    model.compile(loss='binary_crossentropy',\n",
    "                  optimizer=optimizers.Adam(learning_rate=1e-4),\n",
    "                  metrics=['accuracy'])\n",
    "    return model"
   ]
  },
  {
   "cell_type": "code",
   "execution_count": 151,
   "id": "e7a1e73c",
   "metadata": {
    "ExecuteTime": {
     "end_time": "2022-09-16T17:19:57.809062Z",
     "start_time": "2022-09-16T17:19:57.803033Z"
    }
   },
   "outputs": [],
   "source": [
    "def log_model():\n",
    "    #run = wandb.init(project=“project=\"art_api\", job_type=\"training\")\n",
    "    \n",
    "    with wandb.init(project=\"art_api\") as run:\n",
    "        \n",
    "        baseline_model = wandb.Artifact(\n",
    "            name = \"resnet50-balanced\",\n",
    "            type=\"model\",\n",
    "            description = \"ResNet50 model on balanced, preprocessed dataset\")\n",
    "    \n",
    "        es = EarlyStopping(monitor = 'val_accuracy', \n",
    "                       mode = 'max', \n",
    "                       patience = 5, \n",
    "                       verbose = 1, \n",
    "                       restore_best_weights = True)\n",
    "        \n",
    "        # Define WandbCallback for experiment tracking\n",
    "        wandb_callback = WandbCallback(monitor='val_loss',\n",
    "                                       log_weights=True,\n",
    "                                       log_evaluation=True,\n",
    "                                       validation_steps=5)\n",
    "\n",
    "        callbacks = [es, wandb_callback]\n",
    "\n",
    "        model = build_model()\n",
    "\n",
    "        model.fit(X_train, y_train,  validation_data=(X_test, y_test),\n",
    "              callbacks=[callbacks], verbose=1, epochs=50)\n",
    "\n",
    "        filename = os.path.join(Path(\"../models\"), \"resnet50_bal\")\n",
    "        model.save(filename)\n",
    "        \n",
    "        loss, acc = model.evaluate(X_test, y_test)\n",
    "        wandb.log({'evaluate/accuracy': acc})"
   ]
  },
  {
   "cell_type": "code",
   "execution_count": 152,
   "id": "607850e3",
   "metadata": {
    "ExecuteTime": {
     "end_time": "2022-09-16T17:37:30.717064Z",
     "start_time": "2022-09-16T17:19:58.703150Z"
    },
    "scrolled": true
   },
   "outputs": [
    {
     "data": {
      "text/html": [
       "Changes to your `wandb` environment variables will be ignored because your `wandb` session has already started. For more information on how to modify your settings with `wandb.init()` arguments, please refer to <a href=\"https://wandb.me/wandb-init\" target=\"_blank\">the W&B docs</a>."
      ],
      "text/plain": [
       "<IPython.core.display.HTML object>"
      ]
     },
     "metadata": {},
     "output_type": "display_data"
    },
    {
     "data": {
      "text/html": [
       "Tracking run with wandb version 0.13.3"
      ],
      "text/plain": [
       "<IPython.core.display.HTML object>"
      ]
     },
     "metadata": {},
     "output_type": "display_data"
    },
    {
     "data": {
      "text/html": [
       "Run data is saved locally in <code>/home/erniesg/code/erniesg/art_api/notebooks/wandb/run-20220917_011958-89su9kk6</code>"
      ],
      "text/plain": [
       "<IPython.core.display.HTML object>"
      ]
     },
     "metadata": {},
     "output_type": "display_data"
    },
    {
     "data": {
      "text/html": [
       "Syncing run <strong><a href=\"https://wandb.ai/art_api/art_api/runs/89su9kk6\" target=\"_blank\">sandy-disco-21</a></strong> to <a href=\"https://wandb.ai/art_api/art_api\" target=\"_blank\">Weights & Biases</a> (<a href=\"https://wandb.me/run\" target=\"_blank\">docs</a>)<br/>"
      ],
      "text/plain": [
       "<IPython.core.display.HTML object>"
      ]
     },
     "metadata": {},
     "output_type": "display_data"
    },
    {
     "name": "stderr",
     "output_type": "stream",
     "text": [
      "\u001b[34m\u001b[1mwandb\u001b[0m: \u001b[33mWARNING\u001b[0m WandbCallback is unable to read validation_data from trainer and therefore cannot log validation data. Ensure Keras is properly patched by calling `from wandb.keras import WandbCallback` at the top of your script.\n",
      "2022-09-17 01:20:03.731347: I tensorflow/stream_executor/cuda/cuda_gpu_executor.cc:961] could not open file to read NUMA node: /sys/bus/pci/devices/0000:06:00.0/numa_node\n",
      "Your kernel may have been built without NUMA support.\n",
      "2022-09-17 01:20:03.731404: I tensorflow/core/grappler/devices.cc:66] Number of eligible GPUs (core count >= 8, compute capability >= 0.0): 1\n",
      "2022-09-17 01:20:03.731475: I tensorflow/core/grappler/clusters/single_machine.cc:358] Starting new session\n",
      "2022-09-17 01:20:03.732064: I tensorflow/stream_executor/cuda/cuda_gpu_executor.cc:961] could not open file to read NUMA node: /sys/bus/pci/devices/0000:06:00.0/numa_node\n",
      "Your kernel may have been built without NUMA support.\n",
      "2022-09-17 01:20:03.732349: I tensorflow/stream_executor/cuda/cuda_gpu_executor.cc:961] could not open file to read NUMA node: /sys/bus/pci/devices/0000:06:00.0/numa_node\n",
      "Your kernel may have been built without NUMA support.\n",
      "2022-09-17 01:20:03.732617: I tensorflow/stream_executor/cuda/cuda_gpu_executor.cc:961] could not open file to read NUMA node: /sys/bus/pci/devices/0000:06:00.0/numa_node\n",
      "Your kernel may have been built without NUMA support.\n",
      "2022-09-17 01:20:03.734962: I tensorflow/stream_executor/cuda/cuda_gpu_executor.cc:961] could not open file to read NUMA node: /sys/bus/pci/devices/0000:06:00.0/numa_node\n",
      "Your kernel may have been built without NUMA support.\n",
      "2022-09-17 01:20:03.734973: I tensorflow/core/common_runtime/gpu/gpu_device.cc:1616] Could not identify NUMA node of platform GPU id 0, defaulting to 0.  Your kernel may not have been built with NUMA support.\n",
      "2022-09-17 01:20:03.735301: I tensorflow/stream_executor/cuda/cuda_gpu_executor.cc:961] could not open file to read NUMA node: /sys/bus/pci/devices/0000:06:00.0/numa_node\n",
      "Your kernel may have been built without NUMA support.\n",
      "2022-09-17 01:20:03.735340: I tensorflow/core/common_runtime/gpu/gpu_device.cc:1532] Created device /job:localhost/replica:0/task:0/device:GPU:0 with 5423 MB memory:  -> device: 0, name: NVIDIA GeForce RTX 3070, pci bus id: 0000:06:00.0, compute capability: 8.6\n"
     ]
    },
    {
     "name": "stdout",
     "output_type": "stream",
     "text": [
      "Epoch 1/50\n",
      " 3/43 [=>............................] - ETA: 2s - loss: 0.6706 - accuracy: 0.1250"
     ]
    },
    {
     "name": "stderr",
     "output_type": "stream",
     "text": [
      "2022-09-17 01:20:21.674694: W tensorflow/core/common_runtime/bfc_allocator.cc:290] Allocator (GPU_0_bfc) ran out of memory trying to allocate 2.30GiB with freed_by_count=0. The caller indicates that this is not a failure, but this may mean that there could be performance gains if more memory were available.\n",
      "2022-09-17 01:20:21.674757: W tensorflow/core/common_runtime/bfc_allocator.cc:290] Allocator (GPU_0_bfc) ran out of memory trying to allocate 2.30GiB with freed_by_count=0. The caller indicates that this is not a failure, but this may mean that there could be performance gains if more memory were available.\n",
      "2022-09-17 01:20:21.690196: W tensorflow/core/common_runtime/bfc_allocator.cc:290] Allocator (GPU_0_bfc) ran out of memory trying to allocate 2.41GiB with freed_by_count=0. The caller indicates that this is not a failure, but this may mean that there could be performance gains if more memory were available.\n",
      "2022-09-17 01:20:21.690262: W tensorflow/core/common_runtime/bfc_allocator.cc:290] Allocator (GPU_0_bfc) ran out of memory trying to allocate 2.41GiB with freed_by_count=0. The caller indicates that this is not a failure, but this may mean that there could be performance gains if more memory were available.\n"
     ]
    },
    {
     "name": "stdout",
     "output_type": "stream",
     "text": [
      "43/43 [==============================] - ETA: 0s - loss: 0.4341 - accuracy: 0.3267"
     ]
    },
    {
     "name": "stderr",
     "output_type": "stream",
     "text": [
      "WARNING:absl:Found untraced functions such as _jit_compiled_convolution_op, _jit_compiled_convolution_op, _jit_compiled_convolution_op, _jit_compiled_convolution_op, _jit_compiled_convolution_op while saving (showing 5 of 53). These functions will not be directly callable after loading.\n"
     ]
    },
    {
     "name": "stdout",
     "output_type": "stream",
     "text": [
      "INFO:tensorflow:Assets written to: /home/erniesg/code/erniesg/art_api/notebooks/wandb/run-20220917_011958-89su9kk6/files/model-best/assets\n"
     ]
    },
    {
     "name": "stderr",
     "output_type": "stream",
     "text": [
      "INFO:tensorflow:Assets written to: /home/erniesg/code/erniesg/art_api/notebooks/wandb/run-20220917_011958-89su9kk6/files/model-best/assets\n",
      "\u001b[34m\u001b[1mwandb\u001b[0m: Adding directory to artifact (/home/erniesg/code/erniesg/art_api/notebooks/wandb/run-20220917_011958-89su9kk6/files/model-best)... Done. 1.5s\n"
     ]
    },
    {
     "name": "stdout",
     "output_type": "stream",
     "text": [
      "43/43 [==============================] - 27s 591ms/step - loss: 0.4341 - accuracy: 0.3267 - val_loss: 0.3543 - val_accuracy: 0.4452\n",
      "Epoch 2/50\n",
      "43/43 [==============================] - ETA: 0s - loss: 0.3193 - accuracy: 0.5531"
     ]
    },
    {
     "name": "stderr",
     "output_type": "stream",
     "text": [
      "WARNING:absl:Found untraced functions such as _jit_compiled_convolution_op, _jit_compiled_convolution_op, _jit_compiled_convolution_op, _jit_compiled_convolution_op, _jit_compiled_convolution_op while saving (showing 5 of 53). These functions will not be directly callable after loading.\n"
     ]
    },
    {
     "name": "stdout",
     "output_type": "stream",
     "text": [
      "INFO:tensorflow:Assets written to: /home/erniesg/code/erniesg/art_api/notebooks/wandb/run-20220917_011958-89su9kk6/files/model-best/assets\n"
     ]
    },
    {
     "name": "stderr",
     "output_type": "stream",
     "text": [
      "INFO:tensorflow:Assets written to: /home/erniesg/code/erniesg/art_api/notebooks/wandb/run-20220917_011958-89su9kk6/files/model-best/assets\n",
      "\u001b[34m\u001b[1mwandb\u001b[0m: Adding directory to artifact (/home/erniesg/code/erniesg/art_api/notebooks/wandb/run-20220917_011958-89su9kk6/files/model-best)... Done. 1.6s\n"
     ]
    },
    {
     "name": "stdout",
     "output_type": "stream",
     "text": [
      "43/43 [==============================] - 23s 532ms/step - loss: 0.3193 - accuracy: 0.5531 - val_loss: 0.3078 - val_accuracy: 0.5651\n",
      "Epoch 3/50\n",
      "42/43 [============================>.] - ETA: 0s - loss: 0.2721 - accuracy: 0.6622"
     ]
    },
    {
     "name": "stderr",
     "output_type": "stream",
     "text": [
      "WARNING:absl:Found untraced functions such as _jit_compiled_convolution_op, _jit_compiled_convolution_op, _jit_compiled_convolution_op, _jit_compiled_convolution_op, _jit_compiled_convolution_op while saving (showing 5 of 53). These functions will not be directly callable after loading.\n"
     ]
    },
    {
     "name": "stdout",
     "output_type": "stream",
     "text": [
      "INFO:tensorflow:Assets written to: /home/erniesg/code/erniesg/art_api/notebooks/wandb/run-20220917_011958-89su9kk6/files/model-best/assets\n"
     ]
    },
    {
     "name": "stderr",
     "output_type": "stream",
     "text": [
      "INFO:tensorflow:Assets written to: /home/erniesg/code/erniesg/art_api/notebooks/wandb/run-20220917_011958-89su9kk6/files/model-best/assets\n",
      "\u001b[34m\u001b[1mwandb\u001b[0m: Adding directory to artifact (/home/erniesg/code/erniesg/art_api/notebooks/wandb/run-20220917_011958-89su9kk6/files/model-best)... Done. 1.6s\n"
     ]
    },
    {
     "name": "stdout",
     "output_type": "stream",
     "text": [
      "43/43 [==============================] - 22s 522ms/step - loss: 0.2722 - accuracy: 0.6601 - val_loss: 0.2773 - val_accuracy: 0.5479\n",
      "Epoch 4/50\n",
      "43/43 [==============================] - ETA: 0s - loss: 0.2367 - accuracy: 0.6886"
     ]
    },
    {
     "name": "stderr",
     "output_type": "stream",
     "text": [
      "WARNING:absl:Found untraced functions such as _jit_compiled_convolution_op, _jit_compiled_convolution_op, _jit_compiled_convolution_op, _jit_compiled_convolution_op, _jit_compiled_convolution_op while saving (showing 5 of 53). These functions will not be directly callable after loading.\n"
     ]
    },
    {
     "name": "stdout",
     "output_type": "stream",
     "text": [
      "INFO:tensorflow:Assets written to: /home/erniesg/code/erniesg/art_api/notebooks/wandb/run-20220917_011958-89su9kk6/files/model-best/assets\n"
     ]
    },
    {
     "name": "stderr",
     "output_type": "stream",
     "text": [
      "INFO:tensorflow:Assets written to: /home/erniesg/code/erniesg/art_api/notebooks/wandb/run-20220917_011958-89su9kk6/files/model-best/assets\n",
      "\u001b[34m\u001b[1mwandb\u001b[0m: Adding directory to artifact (/home/erniesg/code/erniesg/art_api/notebooks/wandb/run-20220917_011958-89su9kk6/files/model-best)... Done. 1.6s\n"
     ]
    },
    {
     "name": "stdout",
     "output_type": "stream",
     "text": [
      "43/43 [==============================] - 23s 531ms/step - loss: 0.2367 - accuracy: 0.6886 - val_loss: 0.2593 - val_accuracy: 0.5719\n",
      "Epoch 5/50\n",
      "43/43 [==============================] - ETA: 0s - loss: 0.2080 - accuracy: 0.7348"
     ]
    },
    {
     "name": "stderr",
     "output_type": "stream",
     "text": [
      "WARNING:absl:Found untraced functions such as _jit_compiled_convolution_op, _jit_compiled_convolution_op, _jit_compiled_convolution_op, _jit_compiled_convolution_op, _jit_compiled_convolution_op while saving (showing 5 of 53). These functions will not be directly callable after loading.\n"
     ]
    },
    {
     "name": "stdout",
     "output_type": "stream",
     "text": [
      "INFO:tensorflow:Assets written to: /home/erniesg/code/erniesg/art_api/notebooks/wandb/run-20220917_011958-89su9kk6/files/model-best/assets\n"
     ]
    },
    {
     "name": "stderr",
     "output_type": "stream",
     "text": [
      "INFO:tensorflow:Assets written to: /home/erniesg/code/erniesg/art_api/notebooks/wandb/run-20220917_011958-89su9kk6/files/model-best/assets\n",
      "\u001b[34m\u001b[1mwandb\u001b[0m: Adding directory to artifact (/home/erniesg/code/erniesg/art_api/notebooks/wandb/run-20220917_011958-89su9kk6/files/model-best)... Done. 1.6s\n"
     ]
    },
    {
     "name": "stdout",
     "output_type": "stream",
     "text": [
      "43/43 [==============================] - 22s 527ms/step - loss: 0.2080 - accuracy: 0.7348 - val_loss: 0.2444 - val_accuracy: 0.5890\n",
      "Epoch 6/50\n",
      "43/43 [==============================] - ETA: 0s - loss: 0.1853 - accuracy: 0.7678"
     ]
    },
    {
     "name": "stderr",
     "output_type": "stream",
     "text": [
      "WARNING:absl:Found untraced functions such as _jit_compiled_convolution_op, _jit_compiled_convolution_op, _jit_compiled_convolution_op, _jit_compiled_convolution_op, _jit_compiled_convolution_op while saving (showing 5 of 53). These functions will not be directly callable after loading.\n"
     ]
    },
    {
     "name": "stdout",
     "output_type": "stream",
     "text": [
      "INFO:tensorflow:Assets written to: /home/erniesg/code/erniesg/art_api/notebooks/wandb/run-20220917_011958-89su9kk6/files/model-best/assets\n"
     ]
    },
    {
     "name": "stderr",
     "output_type": "stream",
     "text": [
      "INFO:tensorflow:Assets written to: /home/erniesg/code/erniesg/art_api/notebooks/wandb/run-20220917_011958-89su9kk6/files/model-best/assets\n",
      "\u001b[34m\u001b[1mwandb\u001b[0m: Adding directory to artifact (/home/erniesg/code/erniesg/art_api/notebooks/wandb/run-20220917_011958-89su9kk6/files/model-best)... Done. 1.6s\n"
     ]
    },
    {
     "name": "stdout",
     "output_type": "stream",
     "text": [
      "43/43 [==============================] - 22s 512ms/step - loss: 0.1853 - accuracy: 0.7678 - val_loss: 0.2355 - val_accuracy: 0.5959\n",
      "Epoch 7/50\n",
      "42/43 [============================>.] - ETA: 0s - loss: 0.1659 - accuracy: 0.7976"
     ]
    },
    {
     "name": "stderr",
     "output_type": "stream",
     "text": [
      "WARNING:absl:Found untraced functions such as _jit_compiled_convolution_op, _jit_compiled_convolution_op, _jit_compiled_convolution_op, _jit_compiled_convolution_op, _jit_compiled_convolution_op while saving (showing 5 of 53). These functions will not be directly callable after loading.\n"
     ]
    },
    {
     "name": "stdout",
     "output_type": "stream",
     "text": [
      "INFO:tensorflow:Assets written to: /home/erniesg/code/erniesg/art_api/notebooks/wandb/run-20220917_011958-89su9kk6/files/model-best/assets\n"
     ]
    },
    {
     "name": "stderr",
     "output_type": "stream",
     "text": [
      "INFO:tensorflow:Assets written to: /home/erniesg/code/erniesg/art_api/notebooks/wandb/run-20220917_011958-89su9kk6/files/model-best/assets\n",
      "\u001b[34m\u001b[1mwandb\u001b[0m: Adding directory to artifact (/home/erniesg/code/erniesg/art_api/notebooks/wandb/run-20220917_011958-89su9kk6/files/model-best)... Done. 4.5s\n"
     ]
    },
    {
     "name": "stdout",
     "output_type": "stream",
     "text": [
      "43/43 [==============================] - 27s 636ms/step - loss: 0.1663 - accuracy: 0.7956 - val_loss: 0.2302 - val_accuracy: 0.5959\n",
      "Epoch 8/50\n",
      "43/43 [==============================] - ETA: 0s - loss: 0.1497 - accuracy: 0.8081"
     ]
    },
    {
     "name": "stderr",
     "output_type": "stream",
     "text": [
      "WARNING:absl:Found untraced functions such as _jit_compiled_convolution_op, _jit_compiled_convolution_op, _jit_compiled_convolution_op, _jit_compiled_convolution_op, _jit_compiled_convolution_op while saving (showing 5 of 53). These functions will not be directly callable after loading.\n"
     ]
    },
    {
     "name": "stdout",
     "output_type": "stream",
     "text": [
      "INFO:tensorflow:Assets written to: /home/erniesg/code/erniesg/art_api/notebooks/wandb/run-20220917_011958-89su9kk6/files/model-best/assets\n"
     ]
    },
    {
     "name": "stderr",
     "output_type": "stream",
     "text": [
      "INFO:tensorflow:Assets written to: /home/erniesg/code/erniesg/art_api/notebooks/wandb/run-20220917_011958-89su9kk6/files/model-best/assets\n",
      "\u001b[34m\u001b[1mwandb\u001b[0m: Adding directory to artifact (/home/erniesg/code/erniesg/art_api/notebooks/wandb/run-20220917_011958-89su9kk6/files/model-best)... Done. 1.5s\n"
     ]
    },
    {
     "name": "stdout",
     "output_type": "stream",
     "text": [
      "43/43 [==============================] - 25s 579ms/step - loss: 0.1497 - accuracy: 0.8081 - val_loss: 0.2255 - val_accuracy: 0.6062\n",
      "Epoch 9/50\n",
      "43/43 [==============================] - ETA: 0s - loss: 0.1353 - accuracy: 0.8234"
     ]
    },
    {
     "name": "stderr",
     "output_type": "stream",
     "text": [
      "WARNING:absl:Found untraced functions such as _jit_compiled_convolution_op, _jit_compiled_convolution_op, _jit_compiled_convolution_op, _jit_compiled_convolution_op, _jit_compiled_convolution_op while saving (showing 5 of 53). These functions will not be directly callable after loading.\n"
     ]
    },
    {
     "name": "stdout",
     "output_type": "stream",
     "text": [
      "INFO:tensorflow:Assets written to: /home/erniesg/code/erniesg/art_api/notebooks/wandb/run-20220917_011958-89su9kk6/files/model-best/assets\n"
     ]
    },
    {
     "name": "stderr",
     "output_type": "stream",
     "text": [
      "INFO:tensorflow:Assets written to: /home/erniesg/code/erniesg/art_api/notebooks/wandb/run-20220917_011958-89su9kk6/files/model-best/assets\n",
      "\u001b[34m\u001b[1mwandb\u001b[0m: Adding directory to artifact (/home/erniesg/code/erniesg/art_api/notebooks/wandb/run-20220917_011958-89su9kk6/files/model-best)... Done. 14.9s\n"
     ]
    },
    {
     "name": "stdout",
     "output_type": "stream",
     "text": [
      "43/43 [==============================] - 39s 926ms/step - loss: 0.1353 - accuracy: 0.8234 - val_loss: 0.2215 - val_accuracy: 0.6062\n",
      "Epoch 10/50\n",
      "42/43 [============================>.] - ETA: 0s - loss: 0.1221 - accuracy: 0.8423"
     ]
    },
    {
     "name": "stderr",
     "output_type": "stream",
     "text": [
      "WARNING:absl:Found untraced functions such as _jit_compiled_convolution_op, _jit_compiled_convolution_op, _jit_compiled_convolution_op, _jit_compiled_convolution_op, _jit_compiled_convolution_op while saving (showing 5 of 53). These functions will not be directly callable after loading.\n"
     ]
    },
    {
     "name": "stdout",
     "output_type": "stream",
     "text": [
      "INFO:tensorflow:Assets written to: /home/erniesg/code/erniesg/art_api/notebooks/wandb/run-20220917_011958-89su9kk6/files/model-best/assets\n"
     ]
    },
    {
     "name": "stderr",
     "output_type": "stream",
     "text": [
      "INFO:tensorflow:Assets written to: /home/erniesg/code/erniesg/art_api/notebooks/wandb/run-20220917_011958-89su9kk6/files/model-best/assets\n",
      "\u001b[34m\u001b[1mwandb\u001b[0m: Adding directory to artifact (/home/erniesg/code/erniesg/art_api/notebooks/wandb/run-20220917_011958-89su9kk6/files/model-best)... Done. 1.7s\n"
     ]
    },
    {
     "name": "stdout",
     "output_type": "stream",
     "text": [
      "43/43 [==============================] - 32s 754ms/step - loss: 0.1225 - accuracy: 0.8418 - val_loss: 0.2175 - val_accuracy: 0.5993\n",
      "Epoch 11/50\n",
      "42/43 [============================>.] - ETA: 0s - loss: 0.1112 - accuracy: 0.8400"
     ]
    },
    {
     "name": "stderr",
     "output_type": "stream",
     "text": [
      "WARNING:absl:Found untraced functions such as _jit_compiled_convolution_op, _jit_compiled_convolution_op, _jit_compiled_convolution_op, _jit_compiled_convolution_op, _jit_compiled_convolution_op while saving (showing 5 of 53). These functions will not be directly callable after loading.\n"
     ]
    },
    {
     "name": "stdout",
     "output_type": "stream",
     "text": [
      "INFO:tensorflow:Assets written to: /home/erniesg/code/erniesg/art_api/notebooks/wandb/run-20220917_011958-89su9kk6/files/model-best/assets\n"
     ]
    },
    {
     "name": "stderr",
     "output_type": "stream",
     "text": [
      "INFO:tensorflow:Assets written to: /home/erniesg/code/erniesg/art_api/notebooks/wandb/run-20220917_011958-89su9kk6/files/model-best/assets\n",
      "\u001b[34m\u001b[1mwandb\u001b[0m: Adding directory to artifact (/home/erniesg/code/erniesg/art_api/notebooks/wandb/run-20220917_011958-89su9kk6/files/model-best)... Done. 2.4s\n"
     ]
    },
    {
     "name": "stdout",
     "output_type": "stream",
     "text": [
      "43/43 [==============================] - 29s 686ms/step - loss: 0.1111 - accuracy: 0.8410 - val_loss: 0.2153 - val_accuracy: 0.6027\n",
      "Epoch 12/50\n",
      "43/43 [==============================] - ETA: 0s - loss: 0.1010 - accuracy: 0.8557"
     ]
    },
    {
     "name": "stderr",
     "output_type": "stream",
     "text": [
      "WARNING:absl:Found untraced functions such as _jit_compiled_convolution_op, _jit_compiled_convolution_op, _jit_compiled_convolution_op, _jit_compiled_convolution_op, _jit_compiled_convolution_op while saving (showing 5 of 53). These functions will not be directly callable after loading.\n"
     ]
    },
    {
     "name": "stdout",
     "output_type": "stream",
     "text": [
      "INFO:tensorflow:Assets written to: /home/erniesg/code/erniesg/art_api/notebooks/wandb/run-20220917_011958-89su9kk6/files/model-best/assets\n"
     ]
    },
    {
     "name": "stderr",
     "output_type": "stream",
     "text": [
      "INFO:tensorflow:Assets written to: /home/erniesg/code/erniesg/art_api/notebooks/wandb/run-20220917_011958-89su9kk6/files/model-best/assets\n",
      "\u001b[34m\u001b[1mwandb\u001b[0m: Adding directory to artifact (/home/erniesg/code/erniesg/art_api/notebooks/wandb/run-20220917_011958-89su9kk6/files/model-best)... Done. 2.9s\n"
     ]
    },
    {
     "name": "stdout",
     "output_type": "stream",
     "text": [
      "43/43 [==============================] - 26s 612ms/step - loss: 0.1010 - accuracy: 0.8557 - val_loss: 0.2133 - val_accuracy: 0.6027\n",
      "Epoch 13/50\n",
      "42/43 [============================>.] - ETA: 0s - loss: 0.0917 - accuracy: 0.8564"
     ]
    },
    {
     "name": "stderr",
     "output_type": "stream",
     "text": [
      "WARNING:absl:Found untraced functions such as _jit_compiled_convolution_op, _jit_compiled_convolution_op, _jit_compiled_convolution_op, _jit_compiled_convolution_op, _jit_compiled_convolution_op while saving (showing 5 of 53). These functions will not be directly callable after loading.\n"
     ]
    },
    {
     "name": "stdout",
     "output_type": "stream",
     "text": [
      "INFO:tensorflow:Assets written to: /home/erniesg/code/erniesg/art_api/notebooks/wandb/run-20220917_011958-89su9kk6/files/model-best/assets\n"
     ]
    },
    {
     "name": "stderr",
     "output_type": "stream",
     "text": [
      "INFO:tensorflow:Assets written to: /home/erniesg/code/erniesg/art_api/notebooks/wandb/run-20220917_011958-89su9kk6/files/model-best/assets\n",
      "\u001b[34m\u001b[1mwandb\u001b[0m: Adding directory to artifact (/home/erniesg/code/erniesg/art_api/notebooks/wandb/run-20220917_011958-89su9kk6/files/model-best)... Done. 2.4s\n"
     ]
    },
    {
     "name": "stdout",
     "output_type": "stream",
     "text": [
      "43/43 [==============================] - 28s 671ms/step - loss: 0.0916 - accuracy: 0.8571 - val_loss: 0.2126 - val_accuracy: 0.6130\n",
      "Epoch 14/50\n",
      "43/43 [==============================] - ETA: 0s - loss: 0.0835 - accuracy: 0.8659"
     ]
    },
    {
     "name": "stderr",
     "output_type": "stream",
     "text": [
      "WARNING:absl:Found untraced functions such as _jit_compiled_convolution_op, _jit_compiled_convolution_op, _jit_compiled_convolution_op, _jit_compiled_convolution_op, _jit_compiled_convolution_op while saving (showing 5 of 53). These functions will not be directly callable after loading.\n"
     ]
    },
    {
     "name": "stdout",
     "output_type": "stream",
     "text": [
      "INFO:tensorflow:Assets written to: /home/erniesg/code/erniesg/art_api/notebooks/wandb/run-20220917_011958-89su9kk6/files/model-best/assets\n"
     ]
    },
    {
     "name": "stderr",
     "output_type": "stream",
     "text": [
      "INFO:tensorflow:Assets written to: /home/erniesg/code/erniesg/art_api/notebooks/wandb/run-20220917_011958-89su9kk6/files/model-best/assets\n",
      "\u001b[34m\u001b[1mwandb\u001b[0m: Adding directory to artifact (/home/erniesg/code/erniesg/art_api/notebooks/wandb/run-20220917_011958-89su9kk6/files/model-best)... Done. 1.9s\n"
     ]
    },
    {
     "name": "stdout",
     "output_type": "stream",
     "text": [
      "43/43 [==============================] - 23s 539ms/step - loss: 0.0835 - accuracy: 0.8659 - val_loss: 0.2122 - val_accuracy: 0.6130\n",
      "Epoch 15/50\n",
      "43/43 [==============================] - ETA: 0s - loss: 0.0762 - accuracy: 0.8623"
     ]
    },
    {
     "name": "stderr",
     "output_type": "stream",
     "text": [
      "WARNING:absl:Found untraced functions such as _jit_compiled_convolution_op, _jit_compiled_convolution_op, _jit_compiled_convolution_op, _jit_compiled_convolution_op, _jit_compiled_convolution_op while saving (showing 5 of 53). These functions will not be directly callable after loading.\n"
     ]
    },
    {
     "name": "stdout",
     "output_type": "stream",
     "text": [
      "INFO:tensorflow:Assets written to: /home/erniesg/code/erniesg/art_api/notebooks/wandb/run-20220917_011958-89su9kk6/files/model-best/assets\n"
     ]
    },
    {
     "name": "stderr",
     "output_type": "stream",
     "text": [
      "INFO:tensorflow:Assets written to: /home/erniesg/code/erniesg/art_api/notebooks/wandb/run-20220917_011958-89su9kk6/files/model-best/assets\n",
      "\u001b[34m\u001b[1mwandb\u001b[0m: Adding directory to artifact (/home/erniesg/code/erniesg/art_api/notebooks/wandb/run-20220917_011958-89su9kk6/files/model-best)... Done. 5.0s\n"
     ]
    },
    {
     "name": "stdout",
     "output_type": "stream",
     "text": [
      "43/43 [==============================] - 26s 626ms/step - loss: 0.0762 - accuracy: 0.8623 - val_loss: 0.2110 - val_accuracy: 0.6164\n",
      "Epoch 16/50\n",
      "43/43 [==============================] - ETA: 0s - loss: 0.0696 - accuracy: 0.8652"
     ]
    },
    {
     "name": "stderr",
     "output_type": "stream",
     "text": [
      "WARNING:absl:Found untraced functions such as _jit_compiled_convolution_op, _jit_compiled_convolution_op, _jit_compiled_convolution_op, _jit_compiled_convolution_op, _jit_compiled_convolution_op while saving (showing 5 of 53). These functions will not be directly callable after loading.\n"
     ]
    },
    {
     "name": "stdout",
     "output_type": "stream",
     "text": [
      "INFO:tensorflow:Assets written to: /home/erniesg/code/erniesg/art_api/notebooks/wandb/run-20220917_011958-89su9kk6/files/model-best/assets\n"
     ]
    },
    {
     "name": "stderr",
     "output_type": "stream",
     "text": [
      "INFO:tensorflow:Assets written to: /home/erniesg/code/erniesg/art_api/notebooks/wandb/run-20220917_011958-89su9kk6/files/model-best/assets\n",
      "\u001b[34m\u001b[1mwandb\u001b[0m: Adding directory to artifact (/home/erniesg/code/erniesg/art_api/notebooks/wandb/run-20220917_011958-89su9kk6/files/model-best)... Done. 2.4s\n"
     ]
    },
    {
     "name": "stdout",
     "output_type": "stream",
     "text": [
      "43/43 [==============================] - 61s 1s/step - loss: 0.0696 - accuracy: 0.8652 - val_loss: 0.2107 - val_accuracy: 0.6130\n",
      "Epoch 17/50\n",
      "43/43 [==============================] - ETA: 0s - loss: 0.0638 - accuracy: 0.8674"
     ]
    },
    {
     "name": "stderr",
     "output_type": "stream",
     "text": [
      "WARNING:absl:Found untraced functions such as _jit_compiled_convolution_op, _jit_compiled_convolution_op, _jit_compiled_convolution_op, _jit_compiled_convolution_op, _jit_compiled_convolution_op while saving (showing 5 of 53). These functions will not be directly callable after loading.\n"
     ]
    },
    {
     "name": "stdout",
     "output_type": "stream",
     "text": [
      "INFO:tensorflow:Assets written to: /home/erniesg/code/erniesg/art_api/notebooks/wandb/run-20220917_011958-89su9kk6/files/model-best/assets\n"
     ]
    },
    {
     "name": "stderr",
     "output_type": "stream",
     "text": [
      "INFO:tensorflow:Assets written to: /home/erniesg/code/erniesg/art_api/notebooks/wandb/run-20220917_011958-89su9kk6/files/model-best/assets\n",
      "\u001b[34m\u001b[1mwandb\u001b[0m: Adding directory to artifact (/home/erniesg/code/erniesg/art_api/notebooks/wandb/run-20220917_011958-89su9kk6/files/model-best)... Done. 2.5s\n"
     ]
    },
    {
     "name": "stdout",
     "output_type": "stream",
     "text": [
      "43/43 [==============================] - 42s 992ms/step - loss: 0.0638 - accuracy: 0.8674 - val_loss: 0.2106 - val_accuracy: 0.6062\n",
      "Epoch 18/50\n",
      "43/43 [==============================] - 5s 103ms/step - loss: 0.0583 - accuracy: 0.8696 - val_loss: 0.2131 - val_accuracy: 0.6096\n",
      "Epoch 19/50\n",
      "43/43 [==============================] - 6s 148ms/step - loss: 0.0536 - accuracy: 0.8718 - val_loss: 0.2131 - val_accuracy: 0.6130\n",
      "Epoch 20/50\n",
      "43/43 [==============================] - ETA: 0s - loss: 0.0494 - accuracy: 0.8696Restoring model weights from the end of the best epoch: 15.\n",
      "43/43 [==============================] - 5s 107ms/step - loss: 0.0494 - accuracy: 0.8696 - val_loss: 0.2129 - val_accuracy: 0.6164\n",
      "Epoch 20: early stopping\n"
     ]
    },
    {
     "name": "stderr",
     "output_type": "stream",
     "text": [
      "WARNING:absl:Found untraced functions such as _jit_compiled_convolution_op, _jit_compiled_convolution_op, _jit_compiled_convolution_op, _jit_compiled_convolution_op, _jit_compiled_convolution_op while saving (showing 5 of 53). These functions will not be directly callable after loading.\n"
     ]
    },
    {
     "name": "stdout",
     "output_type": "stream",
     "text": [
      "INFO:tensorflow:Assets written to: ../models/resnet50_bal/assets\n"
     ]
    },
    {
     "name": "stderr",
     "output_type": "stream",
     "text": [
      "INFO:tensorflow:Assets written to: ../models/resnet50_bal/assets\n"
     ]
    },
    {
     "name": "stdout",
     "output_type": "stream",
     "text": [
      "10/10 [==============================] - 1s 55ms/step - loss: 0.2110 - accuracy: 0.6164\n"
     ]
    },
    {
     "data": {
      "text/html": [
       "Waiting for W&B process to finish... <strong style=\"color:green\">(success).</strong>"
      ],
      "text/plain": [
       "<IPython.core.display.HTML object>"
      ]
     },
     "metadata": {},
     "output_type": "display_data"
    },
    {
     "data": {
      "application/vnd.jupyter.widget-view+json": {
       "model_id": "",
       "version_major": 2,
       "version_minor": 0
      },
      "text/plain": [
       "VBox(children=(Label(value='14684.168 MB of 14684.168 MB uploaded (0.531 MB deduped)\\r'), FloatProgress(value=…"
      ]
     },
     "metadata": {},
     "output_type": "display_data"
    },
    {
     "data": {
      "text/html": [
       "<style>\n",
       "    table.wandb td:nth-child(1) { padding: 0 10px; text-align: left ; width: auto;} td:nth-child(2) {text-align: left ; width: 100%}\n",
       "    .wandb-row { display: flex; flex-direction: row; flex-wrap: wrap; justify-content: flex-start; width: 100% }\n",
       "    .wandb-col { display: flex; flex-direction: column; flex-basis: 100%; flex: 1; padding: 10px; }\n",
       "    </style>\n",
       "<div class=\"wandb-row\"><div class=\"wandb-col\"><h3>Run history:</h3><br/><table class=\"wandb\"><tr><td>accuracy</td><td>▁▄▅▆▆▇▇▇▇███████████</td></tr><tr><td>epoch</td><td>▁▁▂▂▂▃▃▄▄▄▅▅▅▆▆▇▇▇██</td></tr><tr><td>evaluate/accuracy</td><td>▁</td></tr><tr><td>loss</td><td>█▆▅▄▄▃▃▃▃▂▂▂▂▂▁▁▁▁▁▁</td></tr><tr><td>val_accuracy</td><td>▁▆▅▆▇▇▇██▇▇▇████████</td></tr><tr><td>val_loss</td><td>█▆▄▃▃▂▂▂▂▁▁▁▁▁▁▁▁▁▁▁</td></tr></table><br/></div><div class=\"wandb-col\"><h3>Run summary:</h3><br/><table class=\"wandb\"><tr><td>GFLOPs</td><td>5.11001</td></tr><tr><td>accuracy</td><td>0.8696</td></tr><tr><td>best_epoch</td><td>16</td></tr><tr><td>best_val_loss</td><td>0.21055</td></tr><tr><td>epoch</td><td>19</td></tr><tr><td>evaluate/accuracy</td><td>0.61644</td></tr><tr><td>loss</td><td>0.0494</td></tr><tr><td>val_accuracy</td><td>0.61644</td></tr><tr><td>val_loss</td><td>0.21295</td></tr></table><br/></div></div>"
      ],
      "text/plain": [
       "<IPython.core.display.HTML object>"
      ]
     },
     "metadata": {},
     "output_type": "display_data"
    },
    {
     "data": {
      "text/html": [
       "Synced <strong style=\"color:#cdcd00\">sandy-disco-21</strong>: <a href=\"https://wandb.ai/art_api/art_api/runs/89su9kk6\" target=\"_blank\">https://wandb.ai/art_api/art_api/runs/89su9kk6</a><br/>Synced 5 W&B file(s), 1 media file(s), 52 artifact file(s) and 1 other file(s)"
      ],
      "text/plain": [
       "<IPython.core.display.HTML object>"
      ]
     },
     "metadata": {},
     "output_type": "display_data"
    },
    {
     "data": {
      "text/html": [
       "Find logs at: <code>./wandb/run-20220917_011958-89su9kk6/logs</code>"
      ],
      "text/plain": [
       "<IPython.core.display.HTML object>"
      ]
     },
     "metadata": {},
     "output_type": "display_data"
    }
   ],
   "source": [
    "log_model()"
   ]
  },
  {
   "cell_type": "markdown",
   "id": "c3c6dd73",
   "metadata": {},
   "source": [
    "# Train on ResNet152"
   ]
  },
  {
   "cell_type": "code",
   "execution_count": 31,
   "id": "57671a41",
   "metadata": {
    "ExecuteTime": {
     "end_time": "2022-09-16T18:55:09.629566Z",
     "start_time": "2022-09-16T18:55:09.624418Z"
    }
   },
   "outputs": [],
   "source": [
    "def load_resnet152_model():\n",
    "    \n",
    "    model = ResNet152(weights='imagenet', include_top=False, input_shape=input_shape, classes=10)\n",
    "    \n",
    "    model.compile(loss='binary_crossentropy',\n",
    "                  optimizer=optimizers.Adam(learning_rate=1e-4),\n",
    "                  metrics=['accuracy'])\n",
    "    \n",
    "    return model\n",
    "\n",
    "def set_nontrainable_layers(model):\n",
    "    \n",
    "    # Set the first layers to be untrainable\n",
    "    model.trainable = False\n",
    "        \n",
    "    return model\n",
    "\n",
    "def add_last_layers(model):\n",
    "    '''Take a pre-trained model, set its parameters as non-trainable, and add additional trainable layers on top'''\n",
    "    base_model = set_nontrainable_layers(model)\n",
    "    rescale_layer = layers.Rescaling(1./255, input_shape=input_shape)\n",
    "    flatten_layer = layers.Flatten()\n",
    "    dense_layer = layers.Dense(500, activation='relu')\n",
    "    prediction_layer = layers.Dense(10, activation='sigmoid')\n",
    "    \n",
    "    model = models.Sequential([\n",
    "        base_model,\n",
    "        rescale_layer,\n",
    "        flatten_layer,\n",
    "        dense_layer,\n",
    "        prediction_layer\n",
    "    ])\n",
    "\n",
    "    return model"
   ]
  },
  {
   "cell_type": "code",
   "execution_count": 32,
   "id": "0e7bf239",
   "metadata": {
    "ExecuteTime": {
     "end_time": "2022-09-16T18:55:10.573251Z",
     "start_time": "2022-09-16T18:55:10.569769Z"
    }
   },
   "outputs": [],
   "source": [
    "def build_model():\n",
    "\n",
    "    model = load_resnet152_model()\n",
    "    model = add_last_layers(model)\n",
    "    \n",
    "    model.compile(loss='binary_crossentropy',\n",
    "                  optimizer=optimizers.Adam(learning_rate=1e-4),\n",
    "                  metrics=['accuracy'])\n",
    "    return model"
   ]
  },
  {
   "cell_type": "code",
   "execution_count": 33,
   "id": "4f63fdf8",
   "metadata": {
    "ExecuteTime": {
     "end_time": "2022-09-16T18:55:10.976690Z",
     "start_time": "2022-09-16T18:55:10.971629Z"
    }
   },
   "outputs": [],
   "source": [
    "def log_model():\n",
    "    #run = wandb.init(project=“project=\"art_api\", job_type=\"training\")\n",
    "    \n",
    "    with wandb.init(project=\"art_api\") as run:\n",
    "        \n",
    "        baseline_model = wandb.Artifact(\n",
    "            name = \"resnet152-balanced\",\n",
    "            type=\"model\",\n",
    "            description = \"ResNet152 model on balanced, preprocessed dataset\")\n",
    "    \n",
    "        es = EarlyStopping(monitor = 'val_accuracy', \n",
    "                       mode = 'max', \n",
    "                       patience = 5, \n",
    "                       verbose = 1, \n",
    "                       restore_best_weights = True)\n",
    "        \n",
    "        # Define WandbCallback for experiment tracking\n",
    "        wandb_callback = WandbCallback(monitor='val_loss',\n",
    "                                       log_weights=True,\n",
    "                                       log_evaluation=True,\n",
    "                                       validation_steps=5)\n",
    "\n",
    "        callbacks = [es, wandb_callback]\n",
    "\n",
    "        model = build_model()\n",
    "\n",
    "        model.fit(X_train, y_train,  validation_data=(X_test, y_test),\n",
    "              callbacks=[callbacks], verbose=1, epochs=50)\n",
    "\n",
    "        filename = os.path.join(Path(\"../models\"), \"resnet152_bal\")\n",
    "        model.save(filename)\n",
    "        \n",
    "        loss, acc = model.evaluate(X_test, y_test)\n",
    "        wandb.log({'evaluate/accuracy': acc})"
   ]
  },
  {
   "cell_type": "code",
   "execution_count": 34,
   "id": "0c228453",
   "metadata": {
    "ExecuteTime": {
     "end_time": "2022-09-16T19:08:58.919954Z",
     "start_time": "2022-09-16T18:55:11.874376Z"
    },
    "scrolled": true
   },
   "outputs": [
    {
     "data": {
      "text/html": [
       "Tracking run with wandb version 0.13.3"
      ],
      "text/plain": [
       "<IPython.core.display.HTML object>"
      ]
     },
     "metadata": {},
     "output_type": "display_data"
    },
    {
     "data": {
      "text/html": [
       "Run data is saved locally in <code>/home/erniesg/code/erniesg/art_api/notebooks/wandb/run-20220917_025511-7qqmoygg</code>"
      ],
      "text/plain": [
       "<IPython.core.display.HTML object>"
      ]
     },
     "metadata": {},
     "output_type": "display_data"
    },
    {
     "data": {
      "text/html": [
       "Syncing run <strong><a href=\"https://wandb.ai/art_api/art_api/runs/7qqmoygg\" target=\"_blank\">rose-music-24</a></strong> to <a href=\"https://wandb.ai/art_api/art_api\" target=\"_blank\">Weights & Biases</a> (<a href=\"https://wandb.me/run\" target=\"_blank\">docs</a>)<br/>"
      ],
      "text/plain": [
       "<IPython.core.display.HTML object>"
      ]
     },
     "metadata": {},
     "output_type": "display_data"
    },
    {
     "name": "stderr",
     "output_type": "stream",
     "text": [
      "2022-09-17 02:55:12.828843: I tensorflow/stream_executor/cuda/cuda_gpu_executor.cc:961] could not open file to read NUMA node: /sys/bus/pci/devices/0000:06:00.0/numa_node\n",
      "Your kernel may have been built without NUMA support.\n",
      "2022-09-17 02:55:12.893222: I tensorflow/stream_executor/cuda/cuda_gpu_executor.cc:961] could not open file to read NUMA node: /sys/bus/pci/devices/0000:06:00.0/numa_node\n",
      "Your kernel may have been built without NUMA support.\n",
      "2022-09-17 02:55:12.893585: I tensorflow/stream_executor/cuda/cuda_gpu_executor.cc:961] could not open file to read NUMA node: /sys/bus/pci/devices/0000:06:00.0/numa_node\n",
      "Your kernel may have been built without NUMA support.\n",
      "2022-09-17 02:55:12.894430: I tensorflow/core/platform/cpu_feature_guard.cc:193] This TensorFlow binary is optimized with oneAPI Deep Neural Network Library (oneDNN) to use the following CPU instructions in performance-critical operations:  AVX2 FMA\n",
      "To enable them in other operations, rebuild TensorFlow with the appropriate compiler flags.\n",
      "2022-09-17 02:55:12.895364: I tensorflow/stream_executor/cuda/cuda_gpu_executor.cc:961] could not open file to read NUMA node: /sys/bus/pci/devices/0000:06:00.0/numa_node\n",
      "Your kernel may have been built without NUMA support.\n",
      "2022-09-17 02:55:12.895713: I tensorflow/stream_executor/cuda/cuda_gpu_executor.cc:961] could not open file to read NUMA node: /sys/bus/pci/devices/0000:06:00.0/numa_node\n",
      "Your kernel may have been built without NUMA support.\n",
      "2022-09-17 02:55:12.896037: I tensorflow/stream_executor/cuda/cuda_gpu_executor.cc:961] could not open file to read NUMA node: /sys/bus/pci/devices/0000:06:00.0/numa_node\n",
      "Your kernel may have been built without NUMA support.\n",
      "2022-09-17 02:55:13.757983: I tensorflow/stream_executor/cuda/cuda_gpu_executor.cc:961] could not open file to read NUMA node: /sys/bus/pci/devices/0000:06:00.0/numa_node\n",
      "Your kernel may have been built without NUMA support.\n",
      "2022-09-17 02:55:13.758326: I tensorflow/stream_executor/cuda/cuda_gpu_executor.cc:961] could not open file to read NUMA node: /sys/bus/pci/devices/0000:06:00.0/numa_node\n",
      "Your kernel may have been built without NUMA support.\n",
      "2022-09-17 02:55:13.758337: I tensorflow/core/common_runtime/gpu/gpu_device.cc:1616] Could not identify NUMA node of platform GPU id 0, defaulting to 0.  Your kernel may not have been built with NUMA support.\n",
      "2022-09-17 02:55:13.758665: I tensorflow/stream_executor/cuda/cuda_gpu_executor.cc:961] could not open file to read NUMA node: /sys/bus/pci/devices/0000:06:00.0/numa_node\n",
      "Your kernel may have been built without NUMA support.\n",
      "2022-09-17 02:55:13.758706: I tensorflow/core/common_runtime/gpu/gpu_device.cc:1532] Created device /job:localhost/replica:0/task:0/device:GPU:0 with 5423 MB memory:  -> device: 0, name: NVIDIA GeForce RTX 3070, pci bus id: 0000:06:00.0, compute capability: 8.6\n",
      "2022-09-17 02:55:18.531762: W tensorflow/core/framework/cpu_allocator_impl.cc:82] Allocation of 1073479680 exceeds 10% of free system memory.\n",
      "2022-09-17 02:55:19.018680: W tensorflow/core/framework/cpu_allocator_impl.cc:82] Allocation of 1073479680 exceeds 10% of free system memory.\n",
      "\u001b[34m\u001b[1mwandb\u001b[0m: \u001b[33mWARNING\u001b[0m WandbCallback is unable to read validation_data from trainer and therefore cannot log validation data. Ensure Keras is properly patched by calling `from wandb.keras import WandbCallback` at the top of your script.\n",
      "2022-09-17 02:55:23.828266: I tensorflow/stream_executor/cuda/cuda_gpu_executor.cc:961] could not open file to read NUMA node: /sys/bus/pci/devices/0000:06:00.0/numa_node\n",
      "Your kernel may have been built without NUMA support.\n",
      "2022-09-17 02:55:23.828312: I tensorflow/core/grappler/devices.cc:66] Number of eligible GPUs (core count >= 8, compute capability >= 0.0): 1\n",
      "2022-09-17 02:55:23.829303: I tensorflow/core/grappler/clusters/single_machine.cc:358] Starting new session\n",
      "2022-09-17 02:55:23.830470: I tensorflow/stream_executor/cuda/cuda_gpu_executor.cc:961] could not open file to read NUMA node: /sys/bus/pci/devices/0000:06:00.0/numa_node\n",
      "Your kernel may have been built without NUMA support.\n",
      "2022-09-17 02:55:23.830907: I tensorflow/stream_executor/cuda/cuda_gpu_executor.cc:961] could not open file to read NUMA node: /sys/bus/pci/devices/0000:06:00.0/numa_node\n",
      "Your kernel may have been built without NUMA support.\n",
      "2022-09-17 02:55:23.831321: I tensorflow/stream_executor/cuda/cuda_gpu_executor.cc:961] could not open file to read NUMA node: /sys/bus/pci/devices/0000:06:00.0/numa_node\n",
      "Your kernel may have been built without NUMA support.\n",
      "2022-09-17 02:55:23.831960: I tensorflow/stream_executor/cuda/cuda_gpu_executor.cc:961] could not open file to read NUMA node: /sys/bus/pci/devices/0000:06:00.0/numa_node\n",
      "Your kernel may have been built without NUMA support.\n",
      "2022-09-17 02:55:23.831971: I tensorflow/core/common_runtime/gpu/gpu_device.cc:1616] Could not identify NUMA node of platform GPU id 0, defaulting to 0.  Your kernel may not have been built with NUMA support.\n",
      "2022-09-17 02:55:23.832401: I tensorflow/stream_executor/cuda/cuda_gpu_executor.cc:961] could not open file to read NUMA node: /sys/bus/pci/devices/0000:06:00.0/numa_node\n",
      "Your kernel may have been built without NUMA support.\n",
      "2022-09-17 02:55:23.832431: I tensorflow/core/common_runtime/gpu/gpu_device.cc:1532] Created device /job:localhost/replica:0/task:0/device:GPU:0 with 5423 MB memory:  -> device: 0, name: NVIDIA GeForce RTX 3070, pci bus id: 0000:06:00.0, compute capability: 8.6\n"
     ]
    },
    {
     "name": "stdout",
     "output_type": "stream",
     "text": [
      "WARNING:tensorflow:From /home/erniesg/.pyenv/versions/3.8.12/envs/lewagon/lib/python3.8/site-packages/tensorflow/python/ops/nn_ops.py:5219: tensor_shape_from_node_def_name (from tensorflow.python.framework.graph_util_impl) is deprecated and will be removed in a future version.\n",
      "Instructions for updating:\n",
      "Use `tf.compat.v1.graph_util.tensor_shape_from_node_def_name`\n",
      "Epoch 1/50\n"
     ]
    },
    {
     "name": "stderr",
     "output_type": "stream",
     "text": [
      "2022-09-17 02:55:42.365797: I tensorflow/stream_executor/cuda/cuda_dnn.cc:384] Loaded cuDNN version 8500\n",
      "2022-09-17 02:55:43.811475: W tensorflow/stream_executor/gpu/asm_compiler.cc:111] *** WARNING *** You are using ptxas 10.1.243, which is older than 11.1. ptxas before 11.1 is known to miscompile XLA code, leading to incorrect results or invalid-address errors.\n",
      "\n",
      "You may not need to update to CUDA 11.1; cherry-picking the ptxas binary is often sufficient.\n",
      "2022-09-17 02:55:43.812483: W tensorflow/stream_executor/gpu/asm_compiler.cc:230] Falling back to the CUDA driver for PTX compilation; ptxas does not support CC 8.6\n",
      "2022-09-17 02:55:43.812504: W tensorflow/stream_executor/gpu/asm_compiler.cc:233] Used ptxas at ptxas\n",
      "2022-09-17 02:55:43.812544: W tensorflow/stream_executor/gpu/redzone_allocator.cc:314] UNIMPLEMENTED: ptxas ptxas too old. Falling back to the driver to compile.\n",
      "Relying on driver to perform ptx compilation. \n",
      "Modify $PATH to customize ptxas location.\n",
      "This message will be only logged once.\n"
     ]
    },
    {
     "name": "stdout",
     "output_type": "stream",
     "text": [
      " 2/43 [>.............................] - ETA: 5s - loss: 0.6833 - accuracy: 0.1250  "
     ]
    },
    {
     "name": "stderr",
     "output_type": "stream",
     "text": [
      "2022-09-17 02:55:44.563773: I tensorflow/stream_executor/cuda/cuda_blas.cc:1786] TensorFloat-32 will be used for the matrix multiplication. This will only be logged once.\n"
     ]
    },
    {
     "name": "stdout",
     "output_type": "stream",
     "text": [
      "43/43 [==============================] - ETA: 0s - loss: 0.4400 - accuracy: 0.1919"
     ]
    },
    {
     "name": "stderr",
     "output_type": "stream",
     "text": [
      "WARNING:absl:Found untraced functions such as _jit_compiled_convolution_op, _jit_compiled_convolution_op, _jit_compiled_convolution_op, _jit_compiled_convolution_op, _jit_compiled_convolution_op while saving (showing 5 of 155). These functions will not be directly callable after loading.\n"
     ]
    },
    {
     "name": "stdout",
     "output_type": "stream",
     "text": [
      "INFO:tensorflow:Assets written to: /home/erniesg/code/erniesg/art_api/notebooks/wandb/run-20220917_025511-7qqmoygg/files/model-best/assets\n"
     ]
    },
    {
     "name": "stderr",
     "output_type": "stream",
     "text": [
      "INFO:tensorflow:Assets written to: /home/erniesg/code/erniesg/art_api/notebooks/wandb/run-20220917_025511-7qqmoygg/files/model-best/assets\n",
      "\u001b[34m\u001b[1mwandb\u001b[0m: Adding directory to artifact (/home/erniesg/code/erniesg/art_api/notebooks/wandb/run-20220917_025511-7qqmoygg/files/model-best)... Done. 2.1s\n"
     ]
    },
    {
     "name": "stdout",
     "output_type": "stream",
     "text": [
      "43/43 [==============================] - 64s 1s/step - loss: 0.4400 - accuracy: 0.1919 - val_loss: 0.3547 - val_accuracy: 0.4041\n",
      "Epoch 2/50\n",
      "43/43 [==============================] - ETA: 0s - loss: 0.3106 - accuracy: 0.5956"
     ]
    },
    {
     "name": "stderr",
     "output_type": "stream",
     "text": [
      "WARNING:absl:Found untraced functions such as _jit_compiled_convolution_op, _jit_compiled_convolution_op, _jit_compiled_convolution_op, _jit_compiled_convolution_op, _jit_compiled_convolution_op while saving (showing 5 of 155). These functions will not be directly callable after loading.\n"
     ]
    },
    {
     "name": "stdout",
     "output_type": "stream",
     "text": [
      "INFO:tensorflow:Assets written to: /home/erniesg/code/erniesg/art_api/notebooks/wandb/run-20220917_025511-7qqmoygg/files/model-best/assets\n"
     ]
    },
    {
     "name": "stderr",
     "output_type": "stream",
     "text": [
      "INFO:tensorflow:Assets written to: /home/erniesg/code/erniesg/art_api/notebooks/wandb/run-20220917_025511-7qqmoygg/files/model-best/assets\n",
      "\u001b[34m\u001b[1mwandb\u001b[0m: Adding directory to artifact (/home/erniesg/code/erniesg/art_api/notebooks/wandb/run-20220917_025511-7qqmoygg/files/model-best)... Done. 5.7s\n"
     ]
    },
    {
     "name": "stdout",
     "output_type": "stream",
     "text": [
      "43/43 [==============================] - 60s 1s/step - loss: 0.3106 - accuracy: 0.5956 - val_loss: 0.3097 - val_accuracy: 0.5000\n",
      "Epoch 3/50\n",
      "43/43 [==============================] - ETA: 0s - loss: 0.2609 - accuracy: 0.6615"
     ]
    },
    {
     "name": "stderr",
     "output_type": "stream",
     "text": [
      "WARNING:absl:Found untraced functions such as _jit_compiled_convolution_op, _jit_compiled_convolution_op, _jit_compiled_convolution_op, _jit_compiled_convolution_op, _jit_compiled_convolution_op while saving (showing 5 of 155). These functions will not be directly callable after loading.\n"
     ]
    },
    {
     "name": "stdout",
     "output_type": "stream",
     "text": [
      "INFO:tensorflow:Assets written to: /home/erniesg/code/erniesg/art_api/notebooks/wandb/run-20220917_025511-7qqmoygg/files/model-best/assets\n"
     ]
    },
    {
     "name": "stderr",
     "output_type": "stream",
     "text": [
      "INFO:tensorflow:Assets written to: /home/erniesg/code/erniesg/art_api/notebooks/wandb/run-20220917_025511-7qqmoygg/files/model-best/assets\n",
      "\u001b[34m\u001b[1mwandb\u001b[0m: Adding directory to artifact (/home/erniesg/code/erniesg/art_api/notebooks/wandb/run-20220917_025511-7qqmoygg/files/model-best)... Done. 5.0s\n"
     ]
    },
    {
     "name": "stdout",
     "output_type": "stream",
     "text": [
      "43/43 [==============================] - 61s 1s/step - loss: 0.2609 - accuracy: 0.6615 - val_loss: 0.2805 - val_accuracy: 0.5377\n",
      "Epoch 4/50\n",
      "43/43 [==============================] - ETA: 0s - loss: 0.2242 - accuracy: 0.7136"
     ]
    },
    {
     "name": "stderr",
     "output_type": "stream",
     "text": [
      "WARNING:absl:Found untraced functions such as _jit_compiled_convolution_op, _jit_compiled_convolution_op, _jit_compiled_convolution_op, _jit_compiled_convolution_op, _jit_compiled_convolution_op while saving (showing 5 of 155). These functions will not be directly callable after loading.\n"
     ]
    },
    {
     "name": "stdout",
     "output_type": "stream",
     "text": [
      "INFO:tensorflow:Assets written to: /home/erniesg/code/erniesg/art_api/notebooks/wandb/run-20220917_025511-7qqmoygg/files/model-best/assets\n"
     ]
    },
    {
     "name": "stderr",
     "output_type": "stream",
     "text": [
      "INFO:tensorflow:Assets written to: /home/erniesg/code/erniesg/art_api/notebooks/wandb/run-20220917_025511-7qqmoygg/files/model-best/assets\n",
      "\u001b[34m\u001b[1mwandb\u001b[0m: Adding directory to artifact (/home/erniesg/code/erniesg/art_api/notebooks/wandb/run-20220917_025511-7qqmoygg/files/model-best)... Done. 2.7s\n"
     ]
    },
    {
     "name": "stdout",
     "output_type": "stream",
     "text": [
      "43/43 [==============================] - 62s 1s/step - loss: 0.2242 - accuracy: 0.7136 - val_loss: 0.2620 - val_accuracy: 0.5651\n",
      "Epoch 5/50\n",
      "43/43 [==============================] - ETA: 0s - loss: 0.1953 - accuracy: 0.7582"
     ]
    },
    {
     "name": "stderr",
     "output_type": "stream",
     "text": [
      "WARNING:absl:Found untraced functions such as _jit_compiled_convolution_op, _jit_compiled_convolution_op, _jit_compiled_convolution_op, _jit_compiled_convolution_op, _jit_compiled_convolution_op while saving (showing 5 of 155). These functions will not be directly callable after loading.\n"
     ]
    },
    {
     "name": "stdout",
     "output_type": "stream",
     "text": [
      "INFO:tensorflow:Assets written to: /home/erniesg/code/erniesg/art_api/notebooks/wandb/run-20220917_025511-7qqmoygg/files/model-best/assets\n"
     ]
    },
    {
     "name": "stderr",
     "output_type": "stream",
     "text": [
      "INFO:tensorflow:Assets written to: /home/erniesg/code/erniesg/art_api/notebooks/wandb/run-20220917_025511-7qqmoygg/files/model-best/assets\n",
      "\u001b[34m\u001b[1mwandb\u001b[0m: Adding directory to artifact (/home/erniesg/code/erniesg/art_api/notebooks/wandb/run-20220917_025511-7qqmoygg/files/model-best)... Done. 4.3s\n"
     ]
    },
    {
     "name": "stdout",
     "output_type": "stream",
     "text": [
      "43/43 [==============================] - 57s 1s/step - loss: 0.1953 - accuracy: 0.7582 - val_loss: 0.2496 - val_accuracy: 0.5685\n",
      "Epoch 6/50\n",
      "43/43 [==============================] - ETA: 0s - loss: 0.1722 - accuracy: 0.7839"
     ]
    },
    {
     "name": "stderr",
     "output_type": "stream",
     "text": [
      "WARNING:absl:Found untraced functions such as _jit_compiled_convolution_op, _jit_compiled_convolution_op, _jit_compiled_convolution_op, _jit_compiled_convolution_op, _jit_compiled_convolution_op while saving (showing 5 of 155). These functions will not be directly callable after loading.\n"
     ]
    },
    {
     "name": "stdout",
     "output_type": "stream",
     "text": [
      "INFO:tensorflow:Assets written to: /home/erniesg/code/erniesg/art_api/notebooks/wandb/run-20220917_025511-7qqmoygg/files/model-best/assets\n"
     ]
    },
    {
     "name": "stderr",
     "output_type": "stream",
     "text": [
      "INFO:tensorflow:Assets written to: /home/erniesg/code/erniesg/art_api/notebooks/wandb/run-20220917_025511-7qqmoygg/files/model-best/assets\n",
      "\u001b[34m\u001b[1mwandb\u001b[0m: Adding directory to artifact (/home/erniesg/code/erniesg/art_api/notebooks/wandb/run-20220917_025511-7qqmoygg/files/model-best)... Done. 3.3s\n"
     ]
    },
    {
     "name": "stdout",
     "output_type": "stream",
     "text": [
      "43/43 [==============================] - 68s 2s/step - loss: 0.1722 - accuracy: 0.7839 - val_loss: 0.2433 - val_accuracy: 0.5788\n",
      "Epoch 7/50\n",
      "43/43 [==============================] - ETA: 0s - loss: 0.1524 - accuracy: 0.8022"
     ]
    },
    {
     "name": "stderr",
     "output_type": "stream",
     "text": [
      "WARNING:absl:Found untraced functions such as _jit_compiled_convolution_op, _jit_compiled_convolution_op, _jit_compiled_convolution_op, _jit_compiled_convolution_op, _jit_compiled_convolution_op while saving (showing 5 of 155). These functions will not be directly callable after loading.\n"
     ]
    },
    {
     "name": "stdout",
     "output_type": "stream",
     "text": [
      "INFO:tensorflow:Assets written to: /home/erniesg/code/erniesg/art_api/notebooks/wandb/run-20220917_025511-7qqmoygg/files/model-best/assets\n"
     ]
    },
    {
     "name": "stderr",
     "output_type": "stream",
     "text": [
      "INFO:tensorflow:Assets written to: /home/erniesg/code/erniesg/art_api/notebooks/wandb/run-20220917_025511-7qqmoygg/files/model-best/assets\n",
      "\u001b[34m\u001b[1mwandb\u001b[0m: Adding directory to artifact (/home/erniesg/code/erniesg/art_api/notebooks/wandb/run-20220917_025511-7qqmoygg/files/model-best)... Done. 3.0s\n"
     ]
    },
    {
     "name": "stdout",
     "output_type": "stream",
     "text": [
      "43/43 [==============================] - 61s 1s/step - loss: 0.1524 - accuracy: 0.8022 - val_loss: 0.2353 - val_accuracy: 0.6096\n",
      "Epoch 8/50\n",
      "43/43 [==============================] - ETA: 0s - loss: 0.1357 - accuracy: 0.8234"
     ]
    },
    {
     "name": "stderr",
     "output_type": "stream",
     "text": [
      "WARNING:absl:Found untraced functions such as _jit_compiled_convolution_op, _jit_compiled_convolution_op, _jit_compiled_convolution_op, _jit_compiled_convolution_op, _jit_compiled_convolution_op while saving (showing 5 of 155). These functions will not be directly callable after loading.\n"
     ]
    },
    {
     "name": "stdout",
     "output_type": "stream",
     "text": [
      "INFO:tensorflow:Assets written to: /home/erniesg/code/erniesg/art_api/notebooks/wandb/run-20220917_025511-7qqmoygg/files/model-best/assets\n"
     ]
    },
    {
     "name": "stderr",
     "output_type": "stream",
     "text": [
      "INFO:tensorflow:Assets written to: /home/erniesg/code/erniesg/art_api/notebooks/wandb/run-20220917_025511-7qqmoygg/files/model-best/assets\n",
      "\u001b[34m\u001b[1mwandb\u001b[0m: Adding directory to artifact (/home/erniesg/code/erniesg/art_api/notebooks/wandb/run-20220917_025511-7qqmoygg/files/model-best)... Done. 3.8s\n"
     ]
    },
    {
     "name": "stdout",
     "output_type": "stream",
     "text": [
      "43/43 [==============================] - 56s 1s/step - loss: 0.1357 - accuracy: 0.8234 - val_loss: 0.2299 - val_accuracy: 0.5685\n",
      "Epoch 9/50\n",
      "43/43 [==============================] - ETA: 0s - loss: 0.1216 - accuracy: 0.8256"
     ]
    },
    {
     "name": "stderr",
     "output_type": "stream",
     "text": [
      "WARNING:absl:Found untraced functions such as _jit_compiled_convolution_op, _jit_compiled_convolution_op, _jit_compiled_convolution_op, _jit_compiled_convolution_op, _jit_compiled_convolution_op while saving (showing 5 of 155). These functions will not be directly callable after loading.\n"
     ]
    },
    {
     "name": "stdout",
     "output_type": "stream",
     "text": [
      "INFO:tensorflow:Assets written to: /home/erniesg/code/erniesg/art_api/notebooks/wandb/run-20220917_025511-7qqmoygg/files/model-best/assets\n"
     ]
    },
    {
     "name": "stderr",
     "output_type": "stream",
     "text": [
      "INFO:tensorflow:Assets written to: /home/erniesg/code/erniesg/art_api/notebooks/wandb/run-20220917_025511-7qqmoygg/files/model-best/assets\n",
      "\u001b[34m\u001b[1mwandb\u001b[0m: Adding directory to artifact (/home/erniesg/code/erniesg/art_api/notebooks/wandb/run-20220917_025511-7qqmoygg/files/model-best)... Done. 3.5s\n"
     ]
    },
    {
     "name": "stdout",
     "output_type": "stream",
     "text": [
      "43/43 [==============================] - 74s 2s/step - loss: 0.1216 - accuracy: 0.8256 - val_loss: 0.2274 - val_accuracy: 0.5993\n",
      "Epoch 10/50\n",
      "43/43 [==============================] - ETA: 0s - loss: 0.1087 - accuracy: 0.8403"
     ]
    },
    {
     "name": "stderr",
     "output_type": "stream",
     "text": [
      "WARNING:absl:Found untraced functions such as _jit_compiled_convolution_op, _jit_compiled_convolution_op, _jit_compiled_convolution_op, _jit_compiled_convolution_op, _jit_compiled_convolution_op while saving (showing 5 of 155). These functions will not be directly callable after loading.\n"
     ]
    },
    {
     "name": "stdout",
     "output_type": "stream",
     "text": [
      "INFO:tensorflow:Assets written to: /home/erniesg/code/erniesg/art_api/notebooks/wandb/run-20220917_025511-7qqmoygg/files/model-best/assets\n"
     ]
    },
    {
     "name": "stderr",
     "output_type": "stream",
     "text": [
      "INFO:tensorflow:Assets written to: /home/erniesg/code/erniesg/art_api/notebooks/wandb/run-20220917_025511-7qqmoygg/files/model-best/assets\n",
      "\u001b[34m\u001b[1mwandb\u001b[0m: Adding directory to artifact (/home/erniesg/code/erniesg/art_api/notebooks/wandb/run-20220917_025511-7qqmoygg/files/model-best)... Done. 3.6s\n"
     ]
    },
    {
     "name": "stdout",
     "output_type": "stream",
     "text": [
      "43/43 [==============================] - 60s 1s/step - loss: 0.1087 - accuracy: 0.8403 - val_loss: 0.2239 - val_accuracy: 0.5890\n",
      "Epoch 11/50\n",
      "43/43 [==============================] - ETA: 0s - loss: 0.0974 - accuracy: 0.8484"
     ]
    },
    {
     "name": "stderr",
     "output_type": "stream",
     "text": [
      "WARNING:absl:Found untraced functions such as _jit_compiled_convolution_op, _jit_compiled_convolution_op, _jit_compiled_convolution_op, _jit_compiled_convolution_op, _jit_compiled_convolution_op while saving (showing 5 of 155). These functions will not be directly callable after loading.\n"
     ]
    },
    {
     "name": "stdout",
     "output_type": "stream",
     "text": [
      "INFO:tensorflow:Assets written to: /home/erniesg/code/erniesg/art_api/notebooks/wandb/run-20220917_025511-7qqmoygg/files/model-best/assets\n"
     ]
    },
    {
     "name": "stderr",
     "output_type": "stream",
     "text": [
      "INFO:tensorflow:Assets written to: /home/erniesg/code/erniesg/art_api/notebooks/wandb/run-20220917_025511-7qqmoygg/files/model-best/assets\n",
      "\u001b[34m\u001b[1mwandb\u001b[0m: Adding directory to artifact (/home/erniesg/code/erniesg/art_api/notebooks/wandb/run-20220917_025511-7qqmoygg/files/model-best)... Done. 1.8s\n"
     ]
    },
    {
     "name": "stdout",
     "output_type": "stream",
     "text": [
      "43/43 [==============================] - 74s 2s/step - loss: 0.0974 - accuracy: 0.8484 - val_loss: 0.2225 - val_accuracy: 0.5753\n",
      "Epoch 12/50\n",
      "43/43 [==============================] - ETA: 0s - loss: 0.0875 - accuracy: 0.8505Restoring model weights from the end of the best epoch: 7.\n",
      "43/43 [==============================] - 9s 200ms/step - loss: 0.0875 - accuracy: 0.8505 - val_loss: 0.2227 - val_accuracy: 0.5925\n",
      "Epoch 12: early stopping\n"
     ]
    },
    {
     "name": "stderr",
     "output_type": "stream",
     "text": [
      "WARNING:absl:Found untraced functions such as _jit_compiled_convolution_op, _jit_compiled_convolution_op, _jit_compiled_convolution_op, _jit_compiled_convolution_op, _jit_compiled_convolution_op while saving (showing 5 of 155). These functions will not be directly callable after loading.\n"
     ]
    },
    {
     "name": "stdout",
     "output_type": "stream",
     "text": [
      "INFO:tensorflow:Assets written to: ../models/resnet152_bal/assets\n"
     ]
    },
    {
     "name": "stderr",
     "output_type": "stream",
     "text": [
      "INFO:tensorflow:Assets written to: ../models/resnet152_bal/assets\n"
     ]
    },
    {
     "name": "stdout",
     "output_type": "stream",
     "text": [
      "10/10 [==============================] - 1s 117ms/step - loss: 0.2353 - accuracy: 0.6096\n"
     ]
    },
    {
     "data": {
      "text/html": [
       "Waiting for W&B process to finish... <strong style=\"color:green\">(success).</strong>"
      ],
      "text/plain": [
       "<IPython.core.display.HTML object>"
      ]
     },
     "metadata": {},
     "output_type": "display_data"
    },
    {
     "data": {
      "application/vnd.jupyter.widget-view+json": {
       "model_id": "",
       "version_major": 2,
       "version_minor": 0
      },
      "text/plain": [
       "VBox(children=(Label(value='11292.932 MB of 11292.932 MB uploaded (1.542 MB deduped)\\r'), FloatProgress(value=…"
      ]
     },
     "metadata": {},
     "output_type": "display_data"
    },
    {
     "data": {
      "text/html": [
       "<style>\n",
       "    table.wandb td:nth-child(1) { padding: 0 10px; text-align: left ; width: auto;} td:nth-child(2) {text-align: left ; width: 100%}\n",
       "    .wandb-row { display: flex; flex-direction: row; flex-wrap: wrap; justify-content: flex-start; width: 100% }\n",
       "    .wandb-col { display: flex; flex-direction: column; flex-basis: 100%; flex: 1; padding: 10px; }\n",
       "    </style>\n",
       "<div class=\"wandb-row\"><div class=\"wandb-col\"><h3>Run history:</h3><br/><table class=\"wandb\"><tr><td>accuracy</td><td>▁▅▆▇▇▇▇█████</td></tr><tr><td>epoch</td><td>▁▂▂▃▄▄▅▅▆▇▇█</td></tr><tr><td>evaluate/accuracy</td><td>▁</td></tr><tr><td>loss</td><td>█▅▄▄▃▃▂▂▂▁▁▁</td></tr><tr><td>val_accuracy</td><td>▁▄▆▆▇▇█▇█▇▇▇</td></tr><tr><td>val_loss</td><td>█▆▄▃▂▂▂▁▁▁▁▁</td></tr></table><br/></div><div class=\"wandb-col\"><h3>Run summary:</h3><br/><table class=\"wandb\"><tr><td>GFLOPs</td><td>14.81471</td></tr><tr><td>accuracy</td><td>0.85055</td></tr><tr><td>best_epoch</td><td>10</td></tr><tr><td>best_val_loss</td><td>0.22246</td></tr><tr><td>epoch</td><td>11</td></tr><tr><td>evaluate/accuracy</td><td>0.60959</td></tr><tr><td>loss</td><td>0.08749</td></tr><tr><td>val_accuracy</td><td>0.59247</td></tr><tr><td>val_loss</td><td>0.22266</td></tr></table><br/></div></div>"
      ],
      "text/plain": [
       "<IPython.core.display.HTML object>"
      ]
     },
     "metadata": {},
     "output_type": "display_data"
    },
    {
     "data": {
      "text/html": [
       "Synced <strong style=\"color:#cdcd00\">rose-music-24</strong>: <a href=\"https://wandb.ai/art_api/art_api/runs/7qqmoygg\" target=\"_blank\">https://wandb.ai/art_api/art_api/runs/7qqmoygg</a><br/>Synced 5 W&B file(s), 1 media file(s), 34 artifact file(s) and 1 other file(s)"
      ],
      "text/plain": [
       "<IPython.core.display.HTML object>"
      ]
     },
     "metadata": {},
     "output_type": "display_data"
    },
    {
     "data": {
      "text/html": [
       "Find logs at: <code>./wandb/run-20220917_025511-7qqmoygg/logs</code>"
      ],
      "text/plain": [
       "<IPython.core.display.HTML object>"
      ]
     },
     "metadata": {},
     "output_type": "display_data"
    }
   ],
   "source": [
    "log_model()"
   ]
  },
  {
   "cell_type": "markdown",
   "id": "21f659b2",
   "metadata": {},
   "source": [
    "# Train on ResNet152V2"
   ]
  },
  {
   "cell_type": "code",
   "execution_count": 21,
   "id": "583ad70b",
   "metadata": {
    "ExecuteTime": {
     "end_time": "2022-09-16T19:39:55.659043Z",
     "start_time": "2022-09-16T19:39:55.653978Z"
    }
   },
   "outputs": [],
   "source": [
    "def load_resnet152v2_model():\n",
    "    \n",
    "    model = ResNet152V2(weights='imagenet', include_top=False, input_shape=input_shape, classes=10)\n",
    "    \n",
    "    model.compile(loss='binary_crossentropy',\n",
    "                  optimizer=optimizers.Adam(learning_rate=1e-4),\n",
    "                  metrics=['accuracy'])\n",
    "    \n",
    "    return model\n",
    "\n",
    "def set_nontrainable_layers(model):\n",
    "    \n",
    "    # Set the first layers to be untrainable\n",
    "    model.trainable = False\n",
    "        \n",
    "    return model\n",
    "\n",
    "def add_last_layers(model):\n",
    "    '''Take a pre-trained model, set its parameters as non-trainable, and add additional trainable layers on top'''\n",
    "    base_model = set_nontrainable_layers(model)\n",
    "    rescale_layer = layers.Rescaling(1./255, input_shape=input_shape)\n",
    "    flatten_layer = layers.Flatten()\n",
    "    dense_layer = layers.Dense(500, activation='relu')\n",
    "    prediction_layer = layers.Dense(10, activation='sigmoid')\n",
    "    \n",
    "    model = models.Sequential([\n",
    "        base_model,\n",
    "        rescale_layer,\n",
    "        flatten_layer,\n",
    "        dense_layer,\n",
    "        prediction_layer\n",
    "    ])\n",
    "\n",
    "    return model"
   ]
  },
  {
   "cell_type": "code",
   "execution_count": 22,
   "id": "68ede6ee",
   "metadata": {
    "ExecuteTime": {
     "end_time": "2022-09-16T19:39:55.665291Z",
     "start_time": "2022-09-16T19:39:55.661264Z"
    }
   },
   "outputs": [],
   "source": [
    "def build_model():\n",
    "\n",
    "    model = load_resnet152v2_model()\n",
    "    model = add_last_layers(model)\n",
    "    \n",
    "    model.compile(loss='binary_crossentropy',\n",
    "                  optimizer=optimizers.Adam(learning_rate=1e-4),\n",
    "                  metrics=['accuracy'])\n",
    "    return model"
   ]
  },
  {
   "cell_type": "code",
   "execution_count": 23,
   "id": "d2b4e900",
   "metadata": {
    "ExecuteTime": {
     "end_time": "2022-09-16T19:39:55.671639Z",
     "start_time": "2022-09-16T19:39:55.667049Z"
    }
   },
   "outputs": [],
   "source": [
    "def log_model():\n",
    "    #run = wandb.init(project=“project=\"art_api\", job_type=\"training\")\n",
    "    \n",
    "    with wandb.init(project=\"art_api\") as run:\n",
    "        \n",
    "        baseline_model = wandb.Artifact(\n",
    "            name = \"resnet152v2-balanced\",\n",
    "            type=\"model\",\n",
    "            description = \"ResNet152v2 model on balanced, preprocessed dataset\")\n",
    "    \n",
    "        es = EarlyStopping(monitor = 'val_accuracy', \n",
    "                       mode = 'max', \n",
    "                       patience = 5, \n",
    "                       verbose = 1, \n",
    "                       restore_best_weights = True)\n",
    "        \n",
    "        # Define WandbCallback for experiment tracking\n",
    "        wandb_callback = WandbCallback(monitor='val_loss',\n",
    "                                       log_weights=True,\n",
    "                                       log_evaluation=True,\n",
    "                                       validation_steps=5)\n",
    "\n",
    "        callbacks = [es, wandb_callback]\n",
    "\n",
    "        model = build_model()\n",
    "\n",
    "        model.fit(X_train, y_train,  validation_data=(X_test, y_test),\n",
    "              callbacks=[callbacks], verbose=1, epochs=50)\n",
    "\n",
    "        filename = os.path.join(Path(\"../models\"), \"resnet152v2_bal\")\n",
    "        model.save(filename)\n",
    "        \n",
    "        loss, acc = model.evaluate(X_test, y_test)\n",
    "        wandb.log({'evaluate/accuracy': acc})"
   ]
  },
  {
   "cell_type": "code",
   "execution_count": 24,
   "id": "85da80bb",
   "metadata": {
    "ExecuteTime": {
     "end_time": "2022-09-16T19:49:03.214249Z",
     "start_time": "2022-09-16T19:39:55.673517Z"
    },
    "scrolled": false
   },
   "outputs": [
    {
     "name": "stderr",
     "output_type": "stream",
     "text": [
      "\u001b[34m\u001b[1mwandb\u001b[0m: \u001b[33mWARNING\u001b[0m WANDB_NOTEBOOK_NAME should be a path to a notebook file, couldn't find baseline.\n",
      "\u001b[34m\u001b[1mwandb\u001b[0m: Currently logged in as: \u001b[33merniesg\u001b[0m (\u001b[33mart_api\u001b[0m). Use \u001b[1m`wandb login --relogin`\u001b[0m to force relogin\n"
     ]
    },
    {
     "data": {
      "text/html": [
       "Tracking run with wandb version 0.13.3"
      ],
      "text/plain": [
       "<IPython.core.display.HTML object>"
      ]
     },
     "metadata": {},
     "output_type": "display_data"
    },
    {
     "data": {
      "text/html": [
       "Run data is saved locally in <code>/home/erniesg/code/erniesg/art_api/notebooks/wandb/run-20220917_033956-kx4xbgfd</code>"
      ],
      "text/plain": [
       "<IPython.core.display.HTML object>"
      ]
     },
     "metadata": {},
     "output_type": "display_data"
    },
    {
     "data": {
      "text/html": [
       "Syncing run <strong><a href=\"https://wandb.ai/art_api/art_api/runs/kx4xbgfd\" target=\"_blank\">swift-energy-26</a></strong> to <a href=\"https://wandb.ai/art_api/art_api\" target=\"_blank\">Weights & Biases</a> (<a href=\"https://wandb.me/run\" target=\"_blank\">docs</a>)<br/>"
      ],
      "text/plain": [
       "<IPython.core.display.HTML object>"
      ]
     },
     "metadata": {},
     "output_type": "display_data"
    },
    {
     "name": "stderr",
     "output_type": "stream",
     "text": [
      "\u001b[34m\u001b[1mwandb\u001b[0m: \u001b[33mWARNING\u001b[0m The save_model argument by default saves the model in the HDF5 format that cannot save custom objects like subclassed models and custom layers. This behavior will be deprecated in a future release in favor of the SavedModel format. Meanwhile, the HDF5 model is saved as W&B files and the SavedModel as W&B Artifacts.\n",
      "2022-09-17 03:39:58.094231: I tensorflow/stream_executor/cuda/cuda_gpu_executor.cc:961] could not open file to read NUMA node: /sys/bus/pci/devices/0000:06:00.0/numa_node\n",
      "Your kernel may have been built without NUMA support.\n",
      "2022-09-17 03:39:58.154764: I tensorflow/stream_executor/cuda/cuda_gpu_executor.cc:961] could not open file to read NUMA node: /sys/bus/pci/devices/0000:06:00.0/numa_node\n",
      "Your kernel may have been built without NUMA support.\n",
      "2022-09-17 03:39:58.155123: I tensorflow/stream_executor/cuda/cuda_gpu_executor.cc:961] could not open file to read NUMA node: /sys/bus/pci/devices/0000:06:00.0/numa_node\n",
      "Your kernel may have been built without NUMA support.\n",
      "2022-09-17 03:39:58.156598: I tensorflow/core/platform/cpu_feature_guard.cc:193] This TensorFlow binary is optimized with oneAPI Deep Neural Network Library (oneDNN) to use the following CPU instructions in performance-critical operations:  AVX2 FMA\n",
      "To enable them in other operations, rebuild TensorFlow with the appropriate compiler flags.\n",
      "2022-09-17 03:39:58.157247: I tensorflow/stream_executor/cuda/cuda_gpu_executor.cc:961] could not open file to read NUMA node: /sys/bus/pci/devices/0000:06:00.0/numa_node\n",
      "Your kernel may have been built without NUMA support.\n",
      "2022-09-17 03:39:58.157627: I tensorflow/stream_executor/cuda/cuda_gpu_executor.cc:961] could not open file to read NUMA node: /sys/bus/pci/devices/0000:06:00.0/numa_node\n",
      "Your kernel may have been built without NUMA support.\n",
      "2022-09-17 03:39:58.157933: I tensorflow/stream_executor/cuda/cuda_gpu_executor.cc:961] could not open file to read NUMA node: /sys/bus/pci/devices/0000:06:00.0/numa_node\n",
      "Your kernel may have been built without NUMA support.\n",
      "2022-09-17 03:39:59.034517: I tensorflow/stream_executor/cuda/cuda_gpu_executor.cc:961] could not open file to read NUMA node: /sys/bus/pci/devices/0000:06:00.0/numa_node\n",
      "Your kernel may have been built without NUMA support.\n",
      "2022-09-17 03:39:59.034842: I tensorflow/stream_executor/cuda/cuda_gpu_executor.cc:961] could not open file to read NUMA node: /sys/bus/pci/devices/0000:06:00.0/numa_node\n",
      "Your kernel may have been built without NUMA support.\n",
      "2022-09-17 03:39:59.034854: I tensorflow/core/common_runtime/gpu/gpu_device.cc:1616] Could not identify NUMA node of platform GPU id 0, defaulting to 0.  Your kernel may not have been built with NUMA support.\n",
      "2022-09-17 03:39:59.035156: I tensorflow/stream_executor/cuda/cuda_gpu_executor.cc:961] could not open file to read NUMA node: /sys/bus/pci/devices/0000:06:00.0/numa_node\n",
      "Your kernel may have been built without NUMA support.\n",
      "2022-09-17 03:39:59.036433: I tensorflow/core/common_runtime/gpu/gpu_device.cc:1532] Created device /job:localhost/replica:0/task:0/device:GPU:0 with 5423 MB memory:  -> device: 0, name: NVIDIA GeForce RTX 3070, pci bus id: 0000:06:00.0, compute capability: 8.6\n",
      "2022-09-17 03:40:03.599447: W tensorflow/core/framework/cpu_allocator_impl.cc:82] Allocation of 1073479680 exceeds 10% of free system memory.\n",
      "2022-09-17 03:40:23.548181: W tensorflow/core/framework/cpu_allocator_impl.cc:82] Allocation of 1073479680 exceeds 10% of free system memory.\n",
      "\u001b[34m\u001b[1mwandb\u001b[0m: \u001b[33mWARNING\u001b[0m WandbCallback is unable to read validation_data from trainer and therefore cannot log validation data. Ensure Keras is properly patched by calling `from wandb.keras import WandbCallback` at the top of your script.\n",
      "2022-09-17 03:40:24.628801: I tensorflow/stream_executor/cuda/cuda_gpu_executor.cc:961] could not open file to read NUMA node: /sys/bus/pci/devices/0000:06:00.0/numa_node\n",
      "Your kernel may have been built without NUMA support.\n",
      "2022-09-17 03:40:24.628838: I tensorflow/core/grappler/devices.cc:66] Number of eligible GPUs (core count >= 8, compute capability >= 0.0): 1\n",
      "2022-09-17 03:40:24.628923: I tensorflow/core/grappler/clusters/single_machine.cc:358] Starting new session\n",
      "2022-09-17 03:40:24.629609: I tensorflow/stream_executor/cuda/cuda_gpu_executor.cc:961] could not open file to read NUMA node: /sys/bus/pci/devices/0000:06:00.0/numa_node\n",
      "Your kernel may have been built without NUMA support.\n",
      "2022-09-17 03:40:24.629924: I tensorflow/stream_executor/cuda/cuda_gpu_executor.cc:961] could not open file to read NUMA node: /sys/bus/pci/devices/0000:06:00.0/numa_node\n",
      "Your kernel may have been built without NUMA support.\n",
      "2022-09-17 03:40:24.630253: I tensorflow/stream_executor/cuda/cuda_gpu_executor.cc:961] could not open file to read NUMA node: /sys/bus/pci/devices/0000:06:00.0/numa_node\n",
      "Your kernel may have been built without NUMA support.\n",
      "2022-09-17 03:40:24.630692: I tensorflow/stream_executor/cuda/cuda_gpu_executor.cc:961] could not open file to read NUMA node: /sys/bus/pci/devices/0000:06:00.0/numa_node\n",
      "Your kernel may have been built without NUMA support.\n",
      "2022-09-17 03:40:24.630703: I tensorflow/core/common_runtime/gpu/gpu_device.cc:1616] Could not identify NUMA node of platform GPU id 0, defaulting to 0.  Your kernel may not have been built with NUMA support.\n",
      "2022-09-17 03:40:24.630997: I tensorflow/stream_executor/cuda/cuda_gpu_executor.cc:961] could not open file to read NUMA node: /sys/bus/pci/devices/0000:06:00.0/numa_node\n",
      "Your kernel may have been built without NUMA support.\n",
      "2022-09-17 03:40:24.631019: I tensorflow/core/common_runtime/gpu/gpu_device.cc:1532] Created device /job:localhost/replica:0/task:0/device:GPU:0 with 5423 MB memory:  -> device: 0, name: NVIDIA GeForce RTX 3070, pci bus id: 0000:06:00.0, compute capability: 8.6\n"
     ]
    },
    {
     "name": "stdout",
     "output_type": "stream",
     "text": [
      "WARNING:tensorflow:From /home/erniesg/.pyenv/versions/3.8.12/envs/lewagon/lib/python3.8/site-packages/tensorflow/python/ops/nn_ops.py:5219: tensor_shape_from_node_def_name (from tensorflow.python.framework.graph_util_impl) is deprecated and will be removed in a future version.\n",
      "Instructions for updating:\n",
      "Use `tf.compat.v1.graph_util.tensor_shape_from_node_def_name`\n",
      "Epoch 1/50\n"
     ]
    },
    {
     "name": "stderr",
     "output_type": "stream",
     "text": [
      "2022-09-17 03:40:55.071910: I tensorflow/stream_executor/cuda/cuda_dnn.cc:384] Loaded cuDNN version 8500\n",
      "2022-09-17 03:41:00.536504: W tensorflow/stream_executor/gpu/asm_compiler.cc:111] *** WARNING *** You are using ptxas 10.1.243, which is older than 11.1. ptxas before 11.1 is known to miscompile XLA code, leading to incorrect results or invalid-address errors.\n",
      "\n",
      "You may not need to update to CUDA 11.1; cherry-picking the ptxas binary is often sufficient.\n",
      "2022-09-17 03:41:00.537458: W tensorflow/stream_executor/gpu/asm_compiler.cc:230] Falling back to the CUDA driver for PTX compilation; ptxas does not support CC 8.6\n",
      "2022-09-17 03:41:00.537479: W tensorflow/stream_executor/gpu/asm_compiler.cc:233] Used ptxas at ptxas\n",
      "2022-09-17 03:41:00.538042: W tensorflow/stream_executor/gpu/redzone_allocator.cc:314] UNIMPLEMENTED: ptxas ptxas too old. Falling back to the driver to compile.\n",
      "Relying on driver to perform ptx compilation. \n",
      "Modify $PATH to customize ptxas location.\n",
      "This message will be only logged once.\n"
     ]
    },
    {
     "name": "stdout",
     "output_type": "stream",
     "text": [
      " 2/43 [>.............................] - ETA: 5s - loss: 2.0697 - accuracy: 0.1250  "
     ]
    },
    {
     "name": "stderr",
     "output_type": "stream",
     "text": [
      "2022-09-17 03:41:01.564634: I tensorflow/stream_executor/cuda/cuda_blas.cc:1786] TensorFloat-32 will be used for the matrix multiplication. This will only be logged once.\n"
     ]
    },
    {
     "name": "stdout",
     "output_type": "stream",
     "text": [
      "43/43 [==============================] - ETA: 0s - loss: 1.1965 - accuracy: 0.1465"
     ]
    },
    {
     "name": "stderr",
     "output_type": "stream",
     "text": [
      "WARNING:absl:Found untraced functions such as _jit_compiled_convolution_op, _jit_compiled_convolution_op, _jit_compiled_convolution_op, _jit_compiled_convolution_op, _jit_compiled_convolution_op while saving (showing 5 of 155). These functions will not be directly callable after loading.\n"
     ]
    },
    {
     "name": "stdout",
     "output_type": "stream",
     "text": [
      "INFO:tensorflow:Assets written to: /home/erniesg/code/erniesg/art_api/notebooks/wandb/run-20220917_033956-kx4xbgfd/files/model-best/assets\n"
     ]
    },
    {
     "name": "stderr",
     "output_type": "stream",
     "text": [
      "INFO:tensorflow:Assets written to: /home/erniesg/code/erniesg/art_api/notebooks/wandb/run-20220917_033956-kx4xbgfd/files/model-best/assets\n",
      "\u001b[34m\u001b[1mwandb\u001b[0m: Adding directory to artifact (/home/erniesg/code/erniesg/art_api/notebooks/wandb/run-20220917_033956-kx4xbgfd/files/model-best)... Done. 1.8s\n"
     ]
    },
    {
     "name": "stdout",
     "output_type": "stream",
     "text": [
      "43/43 [==============================] - 69s 1s/step - loss: 1.1965 - accuracy: 0.1465 - val_loss: 0.4813 - val_accuracy: 0.1541\n",
      "Epoch 2/50\n",
      "43/43 [==============================] - ETA: 0s - loss: 0.4263 - accuracy: 0.2476"
     ]
    },
    {
     "name": "stderr",
     "output_type": "stream",
     "text": [
      "WARNING:absl:Found untraced functions such as _jit_compiled_convolution_op, _jit_compiled_convolution_op, _jit_compiled_convolution_op, _jit_compiled_convolution_op, _jit_compiled_convolution_op while saving (showing 5 of 155). These functions will not be directly callable after loading.\n"
     ]
    },
    {
     "name": "stdout",
     "output_type": "stream",
     "text": [
      "INFO:tensorflow:Assets written to: /home/erniesg/code/erniesg/art_api/notebooks/wandb/run-20220917_033956-kx4xbgfd/files/model-best/assets\n"
     ]
    },
    {
     "name": "stderr",
     "output_type": "stream",
     "text": [
      "INFO:tensorflow:Assets written to: /home/erniesg/code/erniesg/art_api/notebooks/wandb/run-20220917_033956-kx4xbgfd/files/model-best/assets\n",
      "\u001b[34m\u001b[1mwandb\u001b[0m: Adding directory to artifact (/home/erniesg/code/erniesg/art_api/notebooks/wandb/run-20220917_033956-kx4xbgfd/files/model-best)... Done. 2.0s\n"
     ]
    },
    {
     "name": "stdout",
     "output_type": "stream",
     "text": [
      "43/43 [==============================] - 53s 1s/step - loss: 0.4263 - accuracy: 0.2476 - val_loss: 0.4197 - val_accuracy: 0.2021\n",
      "Epoch 3/50\n",
      "43/43 [==============================] - ETA: 0s - loss: 0.3734 - accuracy: 0.3026"
     ]
    },
    {
     "name": "stderr",
     "output_type": "stream",
     "text": [
      "WARNING:absl:Found untraced functions such as _jit_compiled_convolution_op, _jit_compiled_convolution_op, _jit_compiled_convolution_op, _jit_compiled_convolution_op, _jit_compiled_convolution_op while saving (showing 5 of 155). These functions will not be directly callable after loading.\n"
     ]
    },
    {
     "name": "stdout",
     "output_type": "stream",
     "text": [
      "INFO:tensorflow:Assets written to: /home/erniesg/code/erniesg/art_api/notebooks/wandb/run-20220917_033956-kx4xbgfd/files/model-best/assets\n"
     ]
    },
    {
     "name": "stderr",
     "output_type": "stream",
     "text": [
      "INFO:tensorflow:Assets written to: /home/erniesg/code/erniesg/art_api/notebooks/wandb/run-20220917_033956-kx4xbgfd/files/model-best/assets\n",
      "\u001b[34m\u001b[1mwandb\u001b[0m: Adding directory to artifact (/home/erniesg/code/erniesg/art_api/notebooks/wandb/run-20220917_033956-kx4xbgfd/files/model-best)... Done. 1.8s\n"
     ]
    },
    {
     "name": "stdout",
     "output_type": "stream",
     "text": [
      "43/43 [==============================] - 50s 1s/step - loss: 0.3734 - accuracy: 0.3026 - val_loss: 0.3857 - val_accuracy: 0.3014\n",
      "Epoch 4/50\n",
      "43/43 [==============================] - ETA: 0s - loss: 0.3541 - accuracy: 0.3201"
     ]
    },
    {
     "name": "stderr",
     "output_type": "stream",
     "text": [
      "WARNING:absl:Found untraced functions such as _jit_compiled_convolution_op, _jit_compiled_convolution_op, _jit_compiled_convolution_op, _jit_compiled_convolution_op, _jit_compiled_convolution_op while saving (showing 5 of 155). These functions will not be directly callable after loading.\n"
     ]
    },
    {
     "name": "stdout",
     "output_type": "stream",
     "text": [
      "INFO:tensorflow:Assets written to: /home/erniesg/code/erniesg/art_api/notebooks/wandb/run-20220917_033956-kx4xbgfd/files/model-best/assets\n"
     ]
    },
    {
     "name": "stderr",
     "output_type": "stream",
     "text": [
      "INFO:tensorflow:Assets written to: /home/erniesg/code/erniesg/art_api/notebooks/wandb/run-20220917_033956-kx4xbgfd/files/model-best/assets\n",
      "\u001b[34m\u001b[1mwandb\u001b[0m: Adding directory to artifact (/home/erniesg/code/erniesg/art_api/notebooks/wandb/run-20220917_033956-kx4xbgfd/files/model-best)... Done. 2.1s\n"
     ]
    },
    {
     "name": "stdout",
     "output_type": "stream",
     "text": [
      "43/43 [==============================] - 61s 1s/step - loss: 0.3541 - accuracy: 0.3201 - val_loss: 0.3768 - val_accuracy: 0.2911\n",
      "Epoch 5/50\n",
      "43/43 [==============================] - 8s 178ms/step - loss: 0.3266 - accuracy: 0.3685 - val_loss: 0.3800 - val_accuracy: 0.2705\n",
      "Epoch 6/50\n",
      "43/43 [==============================] - 8s 198ms/step - loss: 0.3069 - accuracy: 0.3985 - val_loss: 0.3856 - val_accuracy: 0.3185\n",
      "Epoch 7/50\n",
      "43/43 [==============================] - ETA: 0s - loss: 0.3192 - accuracy: 0.4044"
     ]
    },
    {
     "name": "stderr",
     "output_type": "stream",
     "text": [
      "WARNING:absl:Found untraced functions such as _jit_compiled_convolution_op, _jit_compiled_convolution_op, _jit_compiled_convolution_op, _jit_compiled_convolution_op, _jit_compiled_convolution_op while saving (showing 5 of 155). These functions will not be directly callable after loading.\n"
     ]
    },
    {
     "name": "stdout",
     "output_type": "stream",
     "text": [
      "INFO:tensorflow:Assets written to: /home/erniesg/code/erniesg/art_api/notebooks/wandb/run-20220917_033956-kx4xbgfd/files/model-best/assets\n"
     ]
    },
    {
     "name": "stderr",
     "output_type": "stream",
     "text": [
      "INFO:tensorflow:Assets written to: /home/erniesg/code/erniesg/art_api/notebooks/wandb/run-20220917_033956-kx4xbgfd/files/model-best/assets\n",
      "\u001b[34m\u001b[1mwandb\u001b[0m: Adding directory to artifact (/home/erniesg/code/erniesg/art_api/notebooks/wandb/run-20220917_033956-kx4xbgfd/files/model-best)... Done. 1.8s\n"
     ]
    },
    {
     "name": "stdout",
     "output_type": "stream",
     "text": [
      "43/43 [==============================] - 55s 1s/step - loss: 0.3192 - accuracy: 0.4044 - val_loss: 0.3711 - val_accuracy: 0.2808\n",
      "Epoch 8/50\n",
      "43/43 [==============================] - ETA: 0s - loss: 0.2933 - accuracy: 0.4081"
     ]
    },
    {
     "name": "stderr",
     "output_type": "stream",
     "text": [
      "WARNING:absl:Found untraced functions such as _jit_compiled_convolution_op, _jit_compiled_convolution_op, _jit_compiled_convolution_op, _jit_compiled_convolution_op, _jit_compiled_convolution_op while saving (showing 5 of 155). These functions will not be directly callable after loading.\n"
     ]
    },
    {
     "name": "stdout",
     "output_type": "stream",
     "text": [
      "INFO:tensorflow:Assets written to: /home/erniesg/code/erniesg/art_api/notebooks/wandb/run-20220917_033956-kx4xbgfd/files/model-best/assets\n"
     ]
    },
    {
     "name": "stderr",
     "output_type": "stream",
     "text": [
      "INFO:tensorflow:Assets written to: /home/erniesg/code/erniesg/art_api/notebooks/wandb/run-20220917_033956-kx4xbgfd/files/model-best/assets\n",
      "\u001b[34m\u001b[1mwandb\u001b[0m: Adding directory to artifact (/home/erniesg/code/erniesg/art_api/notebooks/wandb/run-20220917_033956-kx4xbgfd/files/model-best)... Done. 1.9s\n"
     ]
    },
    {
     "name": "stdout",
     "output_type": "stream",
     "text": [
      "43/43 [==============================] - 68s 2s/step - loss: 0.2933 - accuracy: 0.4081 - val_loss: 0.3610 - val_accuracy: 0.3390\n",
      "Epoch 9/50\n",
      "43/43 [==============================] - 8s 183ms/step - loss: 0.2912 - accuracy: 0.4381 - val_loss: 0.4281 - val_accuracy: 0.2774\n",
      "Epoch 10/50\n",
      "43/43 [==============================] - 9s 220ms/step - loss: 0.2625 - accuracy: 0.4923 - val_loss: 0.4086 - val_accuracy: 0.2637\n",
      "Epoch 11/50\n",
      "43/43 [==============================] - 8s 184ms/step - loss: 0.2626 - accuracy: 0.4938 - val_loss: 0.4168 - val_accuracy: 0.3185\n",
      "Epoch 12/50\n",
      "43/43 [==============================] - 8s 176ms/step - loss: 0.2544 - accuracy: 0.5143 - val_loss: 0.3859 - val_accuracy: 0.2979\n",
      "Epoch 13/50\n",
      "43/43 [==============================] - ETA: 0s - loss: 0.2668 - accuracy: 0.5106Restoring model weights from the end of the best epoch: 8.\n",
      "43/43 [==============================] - 8s 193ms/step - loss: 0.2668 - accuracy: 0.5106 - val_loss: 0.3934 - val_accuracy: 0.3288\n",
      "Epoch 13: early stopping\n"
     ]
    },
    {
     "name": "stderr",
     "output_type": "stream",
     "text": [
      "WARNING:absl:Found untraced functions such as _jit_compiled_convolution_op, _jit_compiled_convolution_op, _jit_compiled_convolution_op, _jit_compiled_convolution_op, _jit_compiled_convolution_op while saving (showing 5 of 155). These functions will not be directly callable after loading.\n"
     ]
    },
    {
     "name": "stdout",
     "output_type": "stream",
     "text": [
      "INFO:tensorflow:Assets written to: ../models/resnet152v2_bal/assets\n"
     ]
    },
    {
     "name": "stderr",
     "output_type": "stream",
     "text": [
      "INFO:tensorflow:Assets written to: ../models/resnet152v2_bal/assets\n"
     ]
    },
    {
     "name": "stdout",
     "output_type": "stream",
     "text": [
      "10/10 [==============================] - 1s 115ms/step - loss: 0.3610 - accuracy: 0.3390\n"
     ]
    },
    {
     "data": {
      "text/html": [
       "Waiting for W&B process to finish... <strong style=\"color:green\">(success).</strong>"
      ],
      "text/plain": [
       "<IPython.core.display.HTML object>"
      ]
     },
     "metadata": {},
     "output_type": "display_data"
    },
    {
     "data": {
      "application/vnd.jupyter.widget-view+json": {
       "model_id": "",
       "version_major": 2,
       "version_minor": 0
      },
      "text/plain": [
       "VBox(children=(Label(value='6873.577 MB of 6873.577 MB uploaded (1.654 MB deduped)\\r'), FloatProgress(value=1.…"
      ]
     },
     "metadata": {},
     "output_type": "display_data"
    },
    {
     "data": {
      "text/html": [
       "<style>\n",
       "    table.wandb td:nth-child(1) { padding: 0 10px; text-align: left ; width: auto;} td:nth-child(2) {text-align: left ; width: 100%}\n",
       "    .wandb-row { display: flex; flex-direction: row; flex-wrap: wrap; justify-content: flex-start; width: 100% }\n",
       "    .wandb-col { display: flex; flex-direction: column; flex-basis: 100%; flex: 1; padding: 10px; }\n",
       "    </style>\n",
       "<div class=\"wandb-row\"><div class=\"wandb-col\"><h3>Run history:</h3><br/><table class=\"wandb\"><tr><td>accuracy</td><td>▁▃▄▄▅▆▆▆▇████</td></tr><tr><td>epoch</td><td>▁▂▂▃▃▄▅▅▆▆▇▇█</td></tr><tr><td>evaluate/accuracy</td><td>▁</td></tr><tr><td>loss</td><td>█▂▂▂▂▁▁▁▁▁▁▁▁</td></tr><tr><td>val_accuracy</td><td>▁▃▇▆▅▇▆█▆▅▇▆█</td></tr><tr><td>val_loss</td><td>█▄▂▂▂▂▂▁▅▄▄▂▃</td></tr></table><br/></div><div class=\"wandb-col\"><h3>Run summary:</h3><br/><table class=\"wandb\"><tr><td>GFLOPs</td><td>14.31923</td></tr><tr><td>accuracy</td><td>0.51062</td></tr><tr><td>best_epoch</td><td>7</td></tr><tr><td>best_val_loss</td><td>0.36096</td></tr><tr><td>epoch</td><td>12</td></tr><tr><td>evaluate/accuracy</td><td>0.33904</td></tr><tr><td>loss</td><td>0.26679</td></tr><tr><td>val_accuracy</td><td>0.32877</td></tr><tr><td>val_loss</td><td>0.39341</td></tr></table><br/></div></div>"
      ],
      "text/plain": [
       "<IPython.core.display.HTML object>"
      ]
     },
     "metadata": {},
     "output_type": "display_data"
    },
    {
     "data": {
      "text/html": [
       "Synced <strong style=\"color:#cdcd00\">swift-energy-26</strong>: <a href=\"https://wandb.ai/art_api/art_api/runs/kx4xbgfd\" target=\"_blank\">https://wandb.ai/art_api/art_api/runs/kx4xbgfd</a><br/>Synced 5 W&B file(s), 1 media file(s), 19 artifact file(s) and 1 other file(s)"
      ],
      "text/plain": [
       "<IPython.core.display.HTML object>"
      ]
     },
     "metadata": {},
     "output_type": "display_data"
    },
    {
     "data": {
      "text/html": [
       "Find logs at: <code>./wandb/run-20220917_033956-kx4xbgfd/logs</code>"
      ],
      "text/plain": [
       "<IPython.core.display.HTML object>"
      ]
     },
     "metadata": {},
     "output_type": "display_data"
    }
   ],
   "source": [
    "log_model()"
   ]
  },
  {
   "cell_type": "markdown",
   "id": "aa92b54e",
   "metadata": {},
   "source": [
    "# Train on InceptionV3 "
   ]
  },
  {
   "cell_type": "code",
   "execution_count": 17,
   "id": "345f0b33",
   "metadata": {
    "ExecuteTime": {
     "end_time": "2022-09-16T21:22:26.214922Z",
     "start_time": "2022-09-16T21:22:26.211836Z"
    }
   },
   "outputs": [],
   "source": [
    "from tensorflow.keras.applications.inception_v3 import preprocess_input"
   ]
  },
  {
   "cell_type": "code",
   "execution_count": 18,
   "id": "e2e6d56c",
   "metadata": {
    "ExecuteTime": {
     "end_time": "2022-09-16T21:22:26.279449Z",
     "start_time": "2022-09-16T21:22:26.216582Z"
    }
   },
   "outputs": [],
   "source": [
    "X_train, X_test, y_train, y_test = train_test_split(X_under, y_under, test_size=0.3)\n",
    "X_test, X_val, y_test, y_val = train_test_split(X_test, y_test, test_size=0.5)"
   ]
  },
  {
   "cell_type": "code",
   "execution_count": 19,
   "id": "c3eaa4ff",
   "metadata": {
    "ExecuteTime": {
     "end_time": "2022-09-16T21:22:26.622400Z",
     "start_time": "2022-09-16T21:22:26.281487Z"
    }
   },
   "outputs": [],
   "source": [
    "X_train = preprocess_input(X_train) \n",
    "X_val = preprocess_input(X_val)\n",
    "X_test = preprocess_input(X_test)"
   ]
  },
  {
   "cell_type": "code",
   "execution_count": 20,
   "id": "6a212e34",
   "metadata": {
    "ExecuteTime": {
     "end_time": "2022-09-16T21:22:26.629828Z",
     "start_time": "2022-09-16T21:22:26.624607Z"
    }
   },
   "outputs": [],
   "source": [
    "def load_inceptionv3_model():\n",
    "    \n",
    "    model = InceptionV3(weights='imagenet', include_top=False, input_shape=input_shape, classes=10)\n",
    "    \n",
    "    model.compile(loss='binary_crossentropy',\n",
    "                  optimizer=optimizers.Adam(learning_rate=1e-4),\n",
    "                  metrics=['accuracy'])\n",
    "    \n",
    "    return model\n",
    "\n",
    "def set_nontrainable_layers(model):\n",
    "    \n",
    "    # Set the first layers to be untrainable\n",
    "    model.trainable = False\n",
    "        \n",
    "    return model\n",
    "\n",
    "def add_last_layers(model):\n",
    "    '''Take a pre-trained model, set its parameters as non-trainable, and add additional trainable layers on top'''\n",
    "    base_model = set_nontrainable_layers(model)\n",
    "    rescale_layer = layers.Rescaling(1./255, input_shape=input_shape)\n",
    "    flatten_layer = layers.Flatten()\n",
    "    dense_layer = layers.Dense(500, activation='relu')\n",
    "    prediction_layer = layers.Dense(10, activation='sigmoid')\n",
    "    \n",
    "    model = models.Sequential([\n",
    "        base_model,\n",
    "        rescale_layer,\n",
    "        flatten_layer,\n",
    "        dense_layer,\n",
    "        prediction_layer\n",
    "    ])\n",
    "\n",
    "    return model"
   ]
  },
  {
   "cell_type": "code",
   "execution_count": 21,
   "id": "1d85f441",
   "metadata": {
    "ExecuteTime": {
     "end_time": "2022-09-16T21:22:26.635288Z",
     "start_time": "2022-09-16T21:22:26.631827Z"
    }
   },
   "outputs": [],
   "source": [
    "def build_model():\n",
    "\n",
    "    model = load_inceptionv3_model()\n",
    "    model = add_last_layers(model)\n",
    "    \n",
    "    model.compile(loss='binary_crossentropy',\n",
    "                  optimizer=optimizers.Adam(learning_rate=1e-4),\n",
    "                  metrics=['accuracy'])\n",
    "    return model"
   ]
  },
  {
   "cell_type": "code",
   "execution_count": 22,
   "id": "09f411d5",
   "metadata": {
    "ExecuteTime": {
     "end_time": "2022-09-16T21:22:26.642555Z",
     "start_time": "2022-09-16T21:22:26.637018Z"
    }
   },
   "outputs": [],
   "source": [
    "def log_model():\n",
    "    #run = wandb.init(project=“project=\"art_api\", job_type=\"training\")\n",
    "    \n",
    "    with wandb.init(project=\"art_api\") as run:\n",
    "        \n",
    "        baseline_model = wandb.Artifact(\n",
    "            name = \"inceptionv3-balanced\",\n",
    "            type=\"model\",\n",
    "            description = \"InceptionV3 model on balanced, preprocessed dataset\")\n",
    "    \n",
    "        es = EarlyStopping(monitor = 'val_accuracy', \n",
    "                       mode = 'max', \n",
    "                       patience = 5, \n",
    "                       verbose = 1, \n",
    "                       restore_best_weights = True)\n",
    "        \n",
    "        # Define WandbCallback for experiment tracking\n",
    "        wandb_callback = WandbCallback(monitor='val_loss',\n",
    "                                       log_weights=True,\n",
    "                                       log_evaluation=True,\n",
    "                                       validation_steps=5)\n",
    "\n",
    "        callbacks = [es, wandb_callback]\n",
    "\n",
    "        model = build_model()\n",
    "\n",
    "        model.fit(X_train, y_train,  validation_data=(X_test, y_test),\n",
    "              callbacks=[callbacks], verbose=1, epochs=50)\n",
    "\n",
    "        filename = os.path.join(Path(\"../models\"), \"inceptionv3_bal\")\n",
    "        model.save(filename)\n",
    "        \n",
    "        loss, acc = model.evaluate(X_test, y_test)\n",
    "        wandb.log({'evaluate/accuracy': acc})"
   ]
  },
  {
   "cell_type": "code",
   "execution_count": 23,
   "id": "7b8d6ec7",
   "metadata": {
    "ExecuteTime": {
     "end_time": "2022-09-16T21:32:28.348880Z",
     "start_time": "2022-09-16T21:22:31.986233Z"
    },
    "scrolled": true
   },
   "outputs": [
    {
     "name": "stderr",
     "output_type": "stream",
     "text": [
      "Failed to detect the name of this notebook, you can set it manually with the WANDB_NOTEBOOK_NAME environment variable to enable code saving.\n",
      "\u001b[34m\u001b[1mwandb\u001b[0m: Currently logged in as: \u001b[33merniesg\u001b[0m (\u001b[33mart_api\u001b[0m). Use \u001b[1m`wandb login --relogin`\u001b[0m to force relogin\n"
     ]
    },
    {
     "data": {
      "text/html": [
       "Tracking run with wandb version 0.13.3"
      ],
      "text/plain": [
       "<IPython.core.display.HTML object>"
      ]
     },
     "metadata": {},
     "output_type": "display_data"
    },
    {
     "data": {
      "text/html": [
       "Run data is saved locally in <code>/home/erniesg/code/erniesg/art_api/notebooks/wandb/run-20220917_052233-3euknryt</code>"
      ],
      "text/plain": [
       "<IPython.core.display.HTML object>"
      ]
     },
     "metadata": {},
     "output_type": "display_data"
    },
    {
     "data": {
      "text/html": [
       "Syncing run <strong><a href=\"https://wandb.ai/art_api/art_api/runs/3euknryt\" target=\"_blank\">vocal-pond-31</a></strong> to <a href=\"https://wandb.ai/art_api/art_api\" target=\"_blank\">Weights & Biases</a> (<a href=\"https://wandb.me/run\" target=\"_blank\">docs</a>)<br/>"
      ],
      "text/plain": [
       "<IPython.core.display.HTML object>"
      ]
     },
     "metadata": {},
     "output_type": "display_data"
    },
    {
     "name": "stderr",
     "output_type": "stream",
     "text": [
      "\u001b[34m\u001b[1mwandb\u001b[0m: \u001b[33mWARNING\u001b[0m The save_model argument by default saves the model in the HDF5 format that cannot save custom objects like subclassed models and custom layers. This behavior will be deprecated in a future release in favor of the SavedModel format. Meanwhile, the HDF5 model is saved as W&B files and the SavedModel as W&B Artifacts.\n",
      "2022-09-17 05:22:34.425525: I tensorflow/stream_executor/cuda/cuda_gpu_executor.cc:961] could not open file to read NUMA node: /sys/bus/pci/devices/0000:06:00.0/numa_node\n",
      "Your kernel may have been built without NUMA support.\n",
      "2022-09-17 05:22:34.484312: I tensorflow/stream_executor/cuda/cuda_gpu_executor.cc:961] could not open file to read NUMA node: /sys/bus/pci/devices/0000:06:00.0/numa_node\n",
      "Your kernel may have been built without NUMA support.\n",
      "2022-09-17 05:22:34.484574: I tensorflow/stream_executor/cuda/cuda_gpu_executor.cc:961] could not open file to read NUMA node: /sys/bus/pci/devices/0000:06:00.0/numa_node\n",
      "Your kernel may have been built without NUMA support.\n",
      "2022-09-17 05:22:34.485330: I tensorflow/core/platform/cpu_feature_guard.cc:193] This TensorFlow binary is optimized with oneAPI Deep Neural Network Library (oneDNN) to use the following CPU instructions in performance-critical operations:  AVX2 FMA\n",
      "To enable them in other operations, rebuild TensorFlow with the appropriate compiler flags.\n",
      "2022-09-17 05:22:34.486457: I tensorflow/stream_executor/cuda/cuda_gpu_executor.cc:961] could not open file to read NUMA node: /sys/bus/pci/devices/0000:06:00.0/numa_node\n",
      "Your kernel may have been built without NUMA support.\n",
      "2022-09-17 05:22:34.486717: I tensorflow/stream_executor/cuda/cuda_gpu_executor.cc:961] could not open file to read NUMA node: /sys/bus/pci/devices/0000:06:00.0/numa_node\n",
      "Your kernel may have been built without NUMA support.\n",
      "2022-09-17 05:22:34.486938: I tensorflow/stream_executor/cuda/cuda_gpu_executor.cc:961] could not open file to read NUMA node: /sys/bus/pci/devices/0000:06:00.0/numa_node\n",
      "Your kernel may have been built without NUMA support.\n",
      "2022-09-17 05:22:35.249605: I tensorflow/stream_executor/cuda/cuda_gpu_executor.cc:961] could not open file to read NUMA node: /sys/bus/pci/devices/0000:06:00.0/numa_node\n",
      "Your kernel may have been built without NUMA support.\n",
      "2022-09-17 05:22:35.249925: I tensorflow/stream_executor/cuda/cuda_gpu_executor.cc:961] could not open file to read NUMA node: /sys/bus/pci/devices/0000:06:00.0/numa_node\n",
      "Your kernel may have been built without NUMA support.\n",
      "2022-09-17 05:22:35.249935: I tensorflow/core/common_runtime/gpu/gpu_device.cc:1616] Could not identify NUMA node of platform GPU id 0, defaulting to 0.  Your kernel may not have been built with NUMA support.\n",
      "2022-09-17 05:22:35.250198: I tensorflow/stream_executor/cuda/cuda_gpu_executor.cc:961] could not open file to read NUMA node: /sys/bus/pci/devices/0000:06:00.0/numa_node\n",
      "Your kernel may have been built without NUMA support.\n",
      "2022-09-17 05:22:35.250891: I tensorflow/core/common_runtime/gpu/gpu_device.cc:1532] Created device /job:localhost/replica:0/task:0/device:GPU:0 with 5423 MB memory:  -> device: 0, name: NVIDIA GeForce RTX 3070, pci bus id: 0000:06:00.0, compute capability: 8.6\n",
      "2022-09-17 05:22:37.434051: W tensorflow/core/framework/cpu_allocator_impl.cc:82] Allocation of 1073479680 exceeds 10% of free system memory.\n",
      "2022-09-17 05:22:37.709933: W tensorflow/core/framework/cpu_allocator_impl.cc:82] Allocation of 1073479680 exceeds 10% of free system memory.\n",
      "\u001b[34m\u001b[1mwandb\u001b[0m: \u001b[33mWARNING\u001b[0m WandbCallback is unable to read validation_data from trainer and therefore cannot log validation data. Ensure Keras is properly patched by calling `from wandb.keras import WandbCallback` at the top of your script.\n",
      "2022-09-17 05:22:38.406780: I tensorflow/stream_executor/cuda/cuda_gpu_executor.cc:961] could not open file to read NUMA node: /sys/bus/pci/devices/0000:06:00.0/numa_node\n",
      "Your kernel may have been built without NUMA support.\n",
      "2022-09-17 05:22:38.406826: I tensorflow/core/grappler/devices.cc:66] Number of eligible GPUs (core count >= 8, compute capability >= 0.0): 1\n",
      "2022-09-17 05:22:38.407248: I tensorflow/core/grappler/clusters/single_machine.cc:358] Starting new session\n",
      "2022-09-17 05:22:38.408349: I tensorflow/stream_executor/cuda/cuda_gpu_executor.cc:961] could not open file to read NUMA node: /sys/bus/pci/devices/0000:06:00.0/numa_node\n",
      "Your kernel may have been built without NUMA support.\n",
      "2022-09-17 05:22:38.408672: I tensorflow/stream_executor/cuda/cuda_gpu_executor.cc:961] could not open file to read NUMA node: /sys/bus/pci/devices/0000:06:00.0/numa_node\n",
      "Your kernel may have been built without NUMA support.\n",
      "2022-09-17 05:22:38.408971: I tensorflow/stream_executor/cuda/cuda_gpu_executor.cc:961] could not open file to read NUMA node: /sys/bus/pci/devices/0000:06:00.0/numa_node\n",
      "Your kernel may have been built without NUMA support.\n",
      "2022-09-17 05:22:38.409462: I tensorflow/stream_executor/cuda/cuda_gpu_executor.cc:961] could not open file to read NUMA node: /sys/bus/pci/devices/0000:06:00.0/numa_node\n",
      "Your kernel may have been built without NUMA support.\n",
      "2022-09-17 05:22:38.409474: I tensorflow/core/common_runtime/gpu/gpu_device.cc:1616] Could not identify NUMA node of platform GPU id 0, defaulting to 0.  Your kernel may not have been built with NUMA support.\n",
      "2022-09-17 05:22:38.409777: I tensorflow/stream_executor/cuda/cuda_gpu_executor.cc:961] could not open file to read NUMA node: /sys/bus/pci/devices/0000:06:00.0/numa_node\n",
      "Your kernel may have been built without NUMA support.\n",
      "2022-09-17 05:22:38.409799: I tensorflow/core/common_runtime/gpu/gpu_device.cc:1532] Created device /job:localhost/replica:0/task:0/device:GPU:0 with 5423 MB memory:  -> device: 0, name: NVIDIA GeForce RTX 3070, pci bus id: 0000:06:00.0, compute capability: 8.6\n"
     ]
    },
    {
     "name": "stdout",
     "output_type": "stream",
     "text": [
      "WARNING:tensorflow:From /home/erniesg/.pyenv/versions/3.8.12/envs/lewagon/lib/python3.8/site-packages/tensorflow/python/ops/nn_ops.py:5219: tensor_shape_from_node_def_name (from tensorflow.python.framework.graph_util_impl) is deprecated and will be removed in a future version.\n",
      "Instructions for updating:\n",
      "Use `tf.compat.v1.graph_util.tensor_shape_from_node_def_name`\n",
      "Epoch 1/50\n"
     ]
    },
    {
     "name": "stderr",
     "output_type": "stream",
     "text": [
      "2022-09-17 05:22:44.840302: I tensorflow/stream_executor/cuda/cuda_dnn.cc:384] Loaded cuDNN version 8500\n",
      "2022-09-17 05:22:46.468281: W tensorflow/stream_executor/gpu/asm_compiler.cc:111] *** WARNING *** You are using ptxas 10.1.243, which is older than 11.1. ptxas before 11.1 is known to miscompile XLA code, leading to incorrect results or invalid-address errors.\n",
      "\n",
      "You may not need to update to CUDA 11.1; cherry-picking the ptxas binary is often sufficient.\n",
      "2022-09-17 05:22:46.469163: W tensorflow/stream_executor/gpu/asm_compiler.cc:230] Falling back to the CUDA driver for PTX compilation; ptxas does not support CC 8.6\n",
      "2022-09-17 05:22:46.469182: W tensorflow/stream_executor/gpu/asm_compiler.cc:233] Used ptxas at ptxas\n",
      "2022-09-17 05:22:46.469217: W tensorflow/stream_executor/gpu/redzone_allocator.cc:314] UNIMPLEMENTED: ptxas ptxas too old. Falling back to the driver to compile.\n",
      "Relying on driver to perform ptx compilation. \n",
      "Modify $PATH to customize ptxas location.\n",
      "This message will be only logged once.\n"
     ]
    },
    {
     "name": "stdout",
     "output_type": "stream",
     "text": [
      " 3/43 [=>............................] - ETA: 1s - loss: 0.6823 - accuracy: 0.0312      "
     ]
    },
    {
     "name": "stderr",
     "output_type": "stream",
     "text": [
      "2022-09-17 05:22:47.613687: I tensorflow/stream_executor/cuda/cuda_blas.cc:1786] TensorFloat-32 will be used for the matrix multiplication. This will only be logged once.\n"
     ]
    },
    {
     "name": "stdout",
     "output_type": "stream",
     "text": [
      "43/43 [==============================] - ETA: 0s - loss: 0.4957 - accuracy: 0.0960"
     ]
    },
    {
     "name": "stderr",
     "output_type": "stream",
     "text": [
      "WARNING:absl:Found untraced functions such as _jit_compiled_convolution_op, _jit_compiled_convolution_op, _jit_compiled_convolution_op, _jit_compiled_convolution_op, _jit_compiled_convolution_op while saving (showing 5 of 94). These functions will not be directly callable after loading.\n"
     ]
    },
    {
     "name": "stdout",
     "output_type": "stream",
     "text": [
      "INFO:tensorflow:Assets written to: /home/erniesg/code/erniesg/art_api/notebooks/wandb/run-20220917_052233-3euknryt/files/model-best/assets\n"
     ]
    },
    {
     "name": "stderr",
     "output_type": "stream",
     "text": [
      "INFO:tensorflow:Assets written to: /home/erniesg/code/erniesg/art_api/notebooks/wandb/run-20220917_052233-3euknryt/files/model-best/assets\n",
      "\u001b[34m\u001b[1mwandb\u001b[0m: Adding directory to artifact (/home/erniesg/code/erniesg/art_api/notebooks/wandb/run-20220917_052233-3euknryt/files/model-best)... Done. 1.5s\n"
     ]
    },
    {
     "name": "stdout",
     "output_type": "stream",
     "text": [
      "43/43 [==============================] - 51s 1s/step - loss: 0.4957 - accuracy: 0.0960 - val_loss: 0.3823 - val_accuracy: 0.0925\n",
      "Epoch 2/50\n",
      "43/43 [==============================] - ETA: 0s - loss: 0.3718 - accuracy: 0.2183"
     ]
    },
    {
     "name": "stderr",
     "output_type": "stream",
     "text": [
      "WARNING:absl:Found untraced functions such as _jit_compiled_convolution_op, _jit_compiled_convolution_op, _jit_compiled_convolution_op, _jit_compiled_convolution_op, _jit_compiled_convolution_op while saving (showing 5 of 94). These functions will not be directly callable after loading.\n"
     ]
    },
    {
     "name": "stdout",
     "output_type": "stream",
     "text": [
      "INFO:tensorflow:Assets written to: /home/erniesg/code/erniesg/art_api/notebooks/wandb/run-20220917_052233-3euknryt/files/model-best/assets\n"
     ]
    },
    {
     "name": "stderr",
     "output_type": "stream",
     "text": [
      "INFO:tensorflow:Assets written to: /home/erniesg/code/erniesg/art_api/notebooks/wandb/run-20220917_052233-3euknryt/files/model-best/assets\n",
      "\u001b[34m\u001b[1mwandb\u001b[0m: Adding directory to artifact (/home/erniesg/code/erniesg/art_api/notebooks/wandb/run-20220917_052233-3euknryt/files/model-best)... Done. 1.4s\n"
     ]
    },
    {
     "name": "stdout",
     "output_type": "stream",
     "text": [
      "43/43 [==============================] - 27s 632ms/step - loss: 0.3718 - accuracy: 0.2183 - val_loss: 0.3577 - val_accuracy: 0.3116\n",
      "Epoch 3/50\n",
      "43/43 [==============================] - ETA: 0s - loss: 0.3493 - accuracy: 0.4557"
     ]
    },
    {
     "name": "stderr",
     "output_type": "stream",
     "text": [
      "WARNING:absl:Found untraced functions such as _jit_compiled_convolution_op, _jit_compiled_convolution_op, _jit_compiled_convolution_op, _jit_compiled_convolution_op, _jit_compiled_convolution_op while saving (showing 5 of 94). These functions will not be directly callable after loading.\n"
     ]
    },
    {
     "name": "stdout",
     "output_type": "stream",
     "text": [
      "INFO:tensorflow:Assets written to: /home/erniesg/code/erniesg/art_api/notebooks/wandb/run-20220917_052233-3euknryt/files/model-best/assets\n"
     ]
    },
    {
     "name": "stderr",
     "output_type": "stream",
     "text": [
      "INFO:tensorflow:Assets written to: /home/erniesg/code/erniesg/art_api/notebooks/wandb/run-20220917_052233-3euknryt/files/model-best/assets\n",
      "\u001b[34m\u001b[1mwandb\u001b[0m: Adding directory to artifact (/home/erniesg/code/erniesg/art_api/notebooks/wandb/run-20220917_052233-3euknryt/files/model-best)... Done. 1.2s\n"
     ]
    },
    {
     "name": "stdout",
     "output_type": "stream",
     "text": [
      "43/43 [==============================] - 26s 610ms/step - loss: 0.3493 - accuracy: 0.4557 - val_loss: 0.3406 - val_accuracy: 0.4418\n",
      "Epoch 4/50\n",
      "43/43 [==============================] - ETA: 0s - loss: 0.3283 - accuracy: 0.5451"
     ]
    },
    {
     "name": "stderr",
     "output_type": "stream",
     "text": [
      "WARNING:absl:Found untraced functions such as _jit_compiled_convolution_op, _jit_compiled_convolution_op, _jit_compiled_convolution_op, _jit_compiled_convolution_op, _jit_compiled_convolution_op while saving (showing 5 of 94). These functions will not be directly callable after loading.\n"
     ]
    },
    {
     "name": "stdout",
     "output_type": "stream",
     "text": [
      "INFO:tensorflow:Assets written to: /home/erniesg/code/erniesg/art_api/notebooks/wandb/run-20220917_052233-3euknryt/files/model-best/assets\n"
     ]
    },
    {
     "name": "stderr",
     "output_type": "stream",
     "text": [
      "INFO:tensorflow:Assets written to: /home/erniesg/code/erniesg/art_api/notebooks/wandb/run-20220917_052233-3euknryt/files/model-best/assets\n",
      "\u001b[34m\u001b[1mwandb\u001b[0m: Adding directory to artifact (/home/erniesg/code/erniesg/art_api/notebooks/wandb/run-20220917_052233-3euknryt/files/model-best)... Done. 0.9s\n"
     ]
    },
    {
     "name": "stdout",
     "output_type": "stream",
     "text": [
      "43/43 [==============================] - 26s 614ms/step - loss: 0.3283 - accuracy: 0.5451 - val_loss: 0.3242 - val_accuracy: 0.4623\n",
      "Epoch 5/50\n",
      "43/43 [==============================] - ETA: 0s - loss: 0.3093 - accuracy: 0.5883"
     ]
    },
    {
     "name": "stderr",
     "output_type": "stream",
     "text": [
      "WARNING:absl:Found untraced functions such as _jit_compiled_convolution_op, _jit_compiled_convolution_op, _jit_compiled_convolution_op, _jit_compiled_convolution_op, _jit_compiled_convolution_op while saving (showing 5 of 94). These functions will not be directly callable after loading.\n"
     ]
    },
    {
     "name": "stdout",
     "output_type": "stream",
     "text": [
      "INFO:tensorflow:Assets written to: /home/erniesg/code/erniesg/art_api/notebooks/wandb/run-20220917_052233-3euknryt/files/model-best/assets\n"
     ]
    },
    {
     "name": "stderr",
     "output_type": "stream",
     "text": [
      "INFO:tensorflow:Assets written to: /home/erniesg/code/erniesg/art_api/notebooks/wandb/run-20220917_052233-3euknryt/files/model-best/assets\n",
      "\u001b[34m\u001b[1mwandb\u001b[0m: Adding directory to artifact (/home/erniesg/code/erniesg/art_api/notebooks/wandb/run-20220917_052233-3euknryt/files/model-best)... Done. 0.9s\n"
     ]
    },
    {
     "name": "stdout",
     "output_type": "stream",
     "text": [
      "43/43 [==============================] - 25s 600ms/step - loss: 0.3093 - accuracy: 0.5883 - val_loss: 0.3104 - val_accuracy: 0.5137\n",
      "Epoch 6/50\n",
      "43/43 [==============================] - ETA: 0s - loss: 0.2921 - accuracy: 0.6154"
     ]
    },
    {
     "name": "stderr",
     "output_type": "stream",
     "text": [
      "WARNING:absl:Found untraced functions such as _jit_compiled_convolution_op, _jit_compiled_convolution_op, _jit_compiled_convolution_op, _jit_compiled_convolution_op, _jit_compiled_convolution_op while saving (showing 5 of 94). These functions will not be directly callable after loading.\n"
     ]
    },
    {
     "name": "stdout",
     "output_type": "stream",
     "text": [
      "INFO:tensorflow:Assets written to: /home/erniesg/code/erniesg/art_api/notebooks/wandb/run-20220917_052233-3euknryt/files/model-best/assets\n"
     ]
    },
    {
     "name": "stderr",
     "output_type": "stream",
     "text": [
      "INFO:tensorflow:Assets written to: /home/erniesg/code/erniesg/art_api/notebooks/wandb/run-20220917_052233-3euknryt/files/model-best/assets\n",
      "\u001b[34m\u001b[1mwandb\u001b[0m: Adding directory to artifact (/home/erniesg/code/erniesg/art_api/notebooks/wandb/run-20220917_052233-3euknryt/files/model-best)... Done. 1.0s\n"
     ]
    },
    {
     "name": "stdout",
     "output_type": "stream",
     "text": [
      "43/43 [==============================] - 26s 613ms/step - loss: 0.2921 - accuracy: 0.6154 - val_loss: 0.2977 - val_accuracy: 0.5137\n",
      "Epoch 7/50\n",
      "43/43 [==============================] - ETA: 0s - loss: 0.2769 - accuracy: 0.6278"
     ]
    },
    {
     "name": "stderr",
     "output_type": "stream",
     "text": [
      "WARNING:absl:Found untraced functions such as _jit_compiled_convolution_op, _jit_compiled_convolution_op, _jit_compiled_convolution_op, _jit_compiled_convolution_op, _jit_compiled_convolution_op while saving (showing 5 of 94). These functions will not be directly callable after loading.\n"
     ]
    },
    {
     "name": "stdout",
     "output_type": "stream",
     "text": [
      "INFO:tensorflow:Assets written to: /home/erniesg/code/erniesg/art_api/notebooks/wandb/run-20220917_052233-3euknryt/files/model-best/assets\n"
     ]
    },
    {
     "name": "stderr",
     "output_type": "stream",
     "text": [
      "INFO:tensorflow:Assets written to: /home/erniesg/code/erniesg/art_api/notebooks/wandb/run-20220917_052233-3euknryt/files/model-best/assets\n",
      "\u001b[34m\u001b[1mwandb\u001b[0m: Adding directory to artifact (/home/erniesg/code/erniesg/art_api/notebooks/wandb/run-20220917_052233-3euknryt/files/model-best)... Done. 0.9s\n"
     ]
    },
    {
     "name": "stdout",
     "output_type": "stream",
     "text": [
      "43/43 [==============================] - 26s 617ms/step - loss: 0.2769 - accuracy: 0.6278 - val_loss: 0.2873 - val_accuracy: 0.5411\n",
      "Epoch 8/50\n",
      "43/43 [==============================] - ETA: 0s - loss: 0.2636 - accuracy: 0.6623"
     ]
    },
    {
     "name": "stderr",
     "output_type": "stream",
     "text": [
      "WARNING:absl:Found untraced functions such as _jit_compiled_convolution_op, _jit_compiled_convolution_op, _jit_compiled_convolution_op, _jit_compiled_convolution_op, _jit_compiled_convolution_op while saving (showing 5 of 94). These functions will not be directly callable after loading.\n"
     ]
    },
    {
     "name": "stdout",
     "output_type": "stream",
     "text": [
      "INFO:tensorflow:Assets written to: /home/erniesg/code/erniesg/art_api/notebooks/wandb/run-20220917_052233-3euknryt/files/model-best/assets\n"
     ]
    },
    {
     "name": "stderr",
     "output_type": "stream",
     "text": [
      "INFO:tensorflow:Assets written to: /home/erniesg/code/erniesg/art_api/notebooks/wandb/run-20220917_052233-3euknryt/files/model-best/assets\n",
      "\u001b[34m\u001b[1mwandb\u001b[0m: Adding directory to artifact (/home/erniesg/code/erniesg/art_api/notebooks/wandb/run-20220917_052233-3euknryt/files/model-best)... Done. 0.9s\n"
     ]
    },
    {
     "name": "stdout",
     "output_type": "stream",
     "text": [
      "43/43 [==============================] - 25s 587ms/step - loss: 0.2636 - accuracy: 0.6623 - val_loss: 0.2782 - val_accuracy: 0.5411\n",
      "Epoch 9/50\n",
      "42/43 [============================>.] - ETA: 0s - loss: 0.2524 - accuracy: 0.6592"
     ]
    },
    {
     "name": "stderr",
     "output_type": "stream",
     "text": [
      "WARNING:absl:Found untraced functions such as _jit_compiled_convolution_op, _jit_compiled_convolution_op, _jit_compiled_convolution_op, _jit_compiled_convolution_op, _jit_compiled_convolution_op while saving (showing 5 of 94). These functions will not be directly callable after loading.\n"
     ]
    },
    {
     "name": "stdout",
     "output_type": "stream",
     "text": [
      "INFO:tensorflow:Assets written to: /home/erniesg/code/erniesg/art_api/notebooks/wandb/run-20220917_052233-3euknryt/files/model-best/assets\n"
     ]
    },
    {
     "name": "stderr",
     "output_type": "stream",
     "text": [
      "INFO:tensorflow:Assets written to: /home/erniesg/code/erniesg/art_api/notebooks/wandb/run-20220917_052233-3euknryt/files/model-best/assets\n",
      "\u001b[34m\u001b[1mwandb\u001b[0m: Adding directory to artifact (/home/erniesg/code/erniesg/art_api/notebooks/wandb/run-20220917_052233-3euknryt/files/model-best)... Done. 0.9s\n"
     ]
    },
    {
     "name": "stdout",
     "output_type": "stream",
     "text": [
      "43/43 [==============================] - 25s 596ms/step - loss: 0.2522 - accuracy: 0.6593 - val_loss: 0.2706 - val_accuracy: 0.5514\n",
      "Epoch 10/50\n",
      "43/43 [==============================] - ETA: 0s - loss: 0.2418 - accuracy: 0.6674"
     ]
    },
    {
     "name": "stderr",
     "output_type": "stream",
     "text": [
      "WARNING:absl:Found untraced functions such as _jit_compiled_convolution_op, _jit_compiled_convolution_op, _jit_compiled_convolution_op, _jit_compiled_convolution_op, _jit_compiled_convolution_op while saving (showing 5 of 94). These functions will not be directly callable after loading.\n"
     ]
    },
    {
     "name": "stdout",
     "output_type": "stream",
     "text": [
      "INFO:tensorflow:Assets written to: /home/erniesg/code/erniesg/art_api/notebooks/wandb/run-20220917_052233-3euknryt/files/model-best/assets\n"
     ]
    },
    {
     "name": "stderr",
     "output_type": "stream",
     "text": [
      "INFO:tensorflow:Assets written to: /home/erniesg/code/erniesg/art_api/notebooks/wandb/run-20220917_052233-3euknryt/files/model-best/assets\n",
      "\u001b[34m\u001b[1mwandb\u001b[0m: Adding directory to artifact (/home/erniesg/code/erniesg/art_api/notebooks/wandb/run-20220917_052233-3euknryt/files/model-best)... Done. 0.9s\n"
     ]
    },
    {
     "name": "stdout",
     "output_type": "stream",
     "text": [
      "43/43 [==============================] - 25s 590ms/step - loss: 0.2418 - accuracy: 0.6674 - val_loss: 0.2636 - val_accuracy: 0.5719\n",
      "Epoch 11/50\n",
      "43/43 [==============================] - ETA: 0s - loss: 0.2323 - accuracy: 0.6850"
     ]
    },
    {
     "name": "stderr",
     "output_type": "stream",
     "text": [
      "WARNING:absl:Found untraced functions such as _jit_compiled_convolution_op, _jit_compiled_convolution_op, _jit_compiled_convolution_op, _jit_compiled_convolution_op, _jit_compiled_convolution_op while saving (showing 5 of 94). These functions will not be directly callable after loading.\n"
     ]
    },
    {
     "name": "stdout",
     "output_type": "stream",
     "text": [
      "INFO:tensorflow:Assets written to: /home/erniesg/code/erniesg/art_api/notebooks/wandb/run-20220917_052233-3euknryt/files/model-best/assets\n"
     ]
    },
    {
     "name": "stderr",
     "output_type": "stream",
     "text": [
      "INFO:tensorflow:Assets written to: /home/erniesg/code/erniesg/art_api/notebooks/wandb/run-20220917_052233-3euknryt/files/model-best/assets\n",
      "\u001b[34m\u001b[1mwandb\u001b[0m: Adding directory to artifact (/home/erniesg/code/erniesg/art_api/notebooks/wandb/run-20220917_052233-3euknryt/files/model-best)... Done. 0.9s\n"
     ]
    },
    {
     "name": "stdout",
     "output_type": "stream",
     "text": [
      "43/43 [==============================] - 25s 592ms/step - loss: 0.2323 - accuracy: 0.6850 - val_loss: 0.2580 - val_accuracy: 0.5582\n",
      "Epoch 12/50\n",
      "43/43 [==============================] - ETA: 0s - loss: 0.2238 - accuracy: 0.6894"
     ]
    },
    {
     "name": "stderr",
     "output_type": "stream",
     "text": [
      "WARNING:absl:Found untraced functions such as _jit_compiled_convolution_op, _jit_compiled_convolution_op, _jit_compiled_convolution_op, _jit_compiled_convolution_op, _jit_compiled_convolution_op while saving (showing 5 of 94). These functions will not be directly callable after loading.\n"
     ]
    },
    {
     "name": "stdout",
     "output_type": "stream",
     "text": [
      "INFO:tensorflow:Assets written to: /home/erniesg/code/erniesg/art_api/notebooks/wandb/run-20220917_052233-3euknryt/files/model-best/assets\n"
     ]
    },
    {
     "name": "stderr",
     "output_type": "stream",
     "text": [
      "INFO:tensorflow:Assets written to: /home/erniesg/code/erniesg/art_api/notebooks/wandb/run-20220917_052233-3euknryt/files/model-best/assets\n",
      "\u001b[34m\u001b[1mwandb\u001b[0m: Adding directory to artifact (/home/erniesg/code/erniesg/art_api/notebooks/wandb/run-20220917_052233-3euknryt/files/model-best)... Done. 1.2s\n"
     ]
    },
    {
     "name": "stdout",
     "output_type": "stream",
     "text": [
      "43/43 [==============================] - 26s 616ms/step - loss: 0.2238 - accuracy: 0.6894 - val_loss: 0.2534 - val_accuracy: 0.5719\n",
      "Epoch 13/50\n",
      "43/43 [==============================] - ETA: 0s - loss: 0.2159 - accuracy: 0.6945"
     ]
    },
    {
     "name": "stderr",
     "output_type": "stream",
     "text": [
      "WARNING:absl:Found untraced functions such as _jit_compiled_convolution_op, _jit_compiled_convolution_op, _jit_compiled_convolution_op, _jit_compiled_convolution_op, _jit_compiled_convolution_op while saving (showing 5 of 94). These functions will not be directly callable after loading.\n"
     ]
    },
    {
     "name": "stdout",
     "output_type": "stream",
     "text": [
      "INFO:tensorflow:Assets written to: /home/erniesg/code/erniesg/art_api/notebooks/wandb/run-20220917_052233-3euknryt/files/model-best/assets\n"
     ]
    },
    {
     "name": "stderr",
     "output_type": "stream",
     "text": [
      "INFO:tensorflow:Assets written to: /home/erniesg/code/erniesg/art_api/notebooks/wandb/run-20220917_052233-3euknryt/files/model-best/assets\n",
      "\u001b[34m\u001b[1mwandb\u001b[0m: Adding directory to artifact (/home/erniesg/code/erniesg/art_api/notebooks/wandb/run-20220917_052233-3euknryt/files/model-best)... Done. 1.4s\n"
     ]
    },
    {
     "name": "stdout",
     "output_type": "stream",
     "text": [
      "43/43 [==============================] - 27s 646ms/step - loss: 0.2159 - accuracy: 0.6945 - val_loss: 0.2482 - val_accuracy: 0.5719\n",
      "Epoch 14/50\n",
      "43/43 [==============================] - ETA: 0s - loss: 0.2090 - accuracy: 0.7099"
     ]
    },
    {
     "name": "stderr",
     "output_type": "stream",
     "text": [
      "WARNING:absl:Found untraced functions such as _jit_compiled_convolution_op, _jit_compiled_convolution_op, _jit_compiled_convolution_op, _jit_compiled_convolution_op, _jit_compiled_convolution_op while saving (showing 5 of 94). These functions will not be directly callable after loading.\n"
     ]
    },
    {
     "name": "stdout",
     "output_type": "stream",
     "text": [
      "INFO:tensorflow:Assets written to: /home/erniesg/code/erniesg/art_api/notebooks/wandb/run-20220917_052233-3euknryt/files/model-best/assets\n"
     ]
    },
    {
     "name": "stderr",
     "output_type": "stream",
     "text": [
      "INFO:tensorflow:Assets written to: /home/erniesg/code/erniesg/art_api/notebooks/wandb/run-20220917_052233-3euknryt/files/model-best/assets\n",
      "\u001b[34m\u001b[1mwandb\u001b[0m: Adding directory to artifact (/home/erniesg/code/erniesg/art_api/notebooks/wandb/run-20220917_052233-3euknryt/files/model-best)... Done. 1.0s\n"
     ]
    },
    {
     "name": "stdout",
     "output_type": "stream",
     "text": [
      "43/43 [==============================] - 26s 616ms/step - loss: 0.2090 - accuracy: 0.7099 - val_loss: 0.2446 - val_accuracy: 0.5685\n",
      "Epoch 15/50\n",
      "42/43 [============================>.] - ETA: 0s - loss: 0.2026 - accuracy: 0.7054"
     ]
    },
    {
     "name": "stderr",
     "output_type": "stream",
     "text": [
      "WARNING:absl:Found untraced functions such as _jit_compiled_convolution_op, _jit_compiled_convolution_op, _jit_compiled_convolution_op, _jit_compiled_convolution_op, _jit_compiled_convolution_op while saving (showing 5 of 94). These functions will not be directly callable after loading.\n"
     ]
    },
    {
     "name": "stdout",
     "output_type": "stream",
     "text": [
      "INFO:tensorflow:Assets written to: /home/erniesg/code/erniesg/art_api/notebooks/wandb/run-20220917_052233-3euknryt/files/model-best/assets\n"
     ]
    },
    {
     "name": "stderr",
     "output_type": "stream",
     "text": [
      "INFO:tensorflow:Assets written to: /home/erniesg/code/erniesg/art_api/notebooks/wandb/run-20220917_052233-3euknryt/files/model-best/assets\n",
      "\u001b[34m\u001b[1mwandb\u001b[0m: Adding directory to artifact (/home/erniesg/code/erniesg/art_api/notebooks/wandb/run-20220917_052233-3euknryt/files/model-best)... Done. 1.0s\n"
     ]
    },
    {
     "name": "stdout",
     "output_type": "stream",
     "text": [
      "43/43 [==============================] - 26s 618ms/step - loss: 0.2020 - accuracy: 0.7062 - val_loss: 0.2410 - val_accuracy: 0.5925\n",
      "Epoch 16/50\n",
      "43/43 [==============================] - ETA: 0s - loss: 0.1959 - accuracy: 0.7179"
     ]
    },
    {
     "name": "stderr",
     "output_type": "stream",
     "text": [
      "WARNING:absl:Found untraced functions such as _jit_compiled_convolution_op, _jit_compiled_convolution_op, _jit_compiled_convolution_op, _jit_compiled_convolution_op, _jit_compiled_convolution_op while saving (showing 5 of 94). These functions will not be directly callable after loading.\n"
     ]
    },
    {
     "name": "stdout",
     "output_type": "stream",
     "text": [
      "INFO:tensorflow:Assets written to: /home/erniesg/code/erniesg/art_api/notebooks/wandb/run-20220917_052233-3euknryt/files/model-best/assets\n"
     ]
    },
    {
     "name": "stderr",
     "output_type": "stream",
     "text": [
      "INFO:tensorflow:Assets written to: /home/erniesg/code/erniesg/art_api/notebooks/wandb/run-20220917_052233-3euknryt/files/model-best/assets\n",
      "\u001b[34m\u001b[1mwandb\u001b[0m: Adding directory to artifact (/home/erniesg/code/erniesg/art_api/notebooks/wandb/run-20220917_052233-3euknryt/files/model-best)... Done. 0.9s\n"
     ]
    },
    {
     "name": "stdout",
     "output_type": "stream",
     "text": [
      "43/43 [==============================] - 25s 598ms/step - loss: 0.1959 - accuracy: 0.7179 - val_loss: 0.2389 - val_accuracy: 0.5890\n",
      "Epoch 17/50\n",
      "43/43 [==============================] - ETA: 0s - loss: 0.1899 - accuracy: 0.7275"
     ]
    },
    {
     "name": "stderr",
     "output_type": "stream",
     "text": [
      "WARNING:absl:Found untraced functions such as _jit_compiled_convolution_op, _jit_compiled_convolution_op, _jit_compiled_convolution_op, _jit_compiled_convolution_op, _jit_compiled_convolution_op while saving (showing 5 of 94). These functions will not be directly callable after loading.\n"
     ]
    },
    {
     "name": "stdout",
     "output_type": "stream",
     "text": [
      "INFO:tensorflow:Assets written to: /home/erniesg/code/erniesg/art_api/notebooks/wandb/run-20220917_052233-3euknryt/files/model-best/assets\n"
     ]
    },
    {
     "name": "stderr",
     "output_type": "stream",
     "text": [
      "INFO:tensorflow:Assets written to: /home/erniesg/code/erniesg/art_api/notebooks/wandb/run-20220917_052233-3euknryt/files/model-best/assets\n",
      "\u001b[34m\u001b[1mwandb\u001b[0m: Adding directory to artifact (/home/erniesg/code/erniesg/art_api/notebooks/wandb/run-20220917_052233-3euknryt/files/model-best)... Done. 0.9s\n"
     ]
    },
    {
     "name": "stdout",
     "output_type": "stream",
     "text": [
      "43/43 [==============================] - 26s 604ms/step - loss: 0.1899 - accuracy: 0.7275 - val_loss: 0.2350 - val_accuracy: 0.5890\n",
      "Epoch 18/50\n",
      "42/43 [============================>.] - ETA: 0s - loss: 0.1844 - accuracy: 0.7254"
     ]
    },
    {
     "name": "stderr",
     "output_type": "stream",
     "text": [
      "WARNING:absl:Found untraced functions such as _jit_compiled_convolution_op, _jit_compiled_convolution_op, _jit_compiled_convolution_op, _jit_compiled_convolution_op, _jit_compiled_convolution_op while saving (showing 5 of 94). These functions will not be directly callable after loading.\n"
     ]
    },
    {
     "name": "stdout",
     "output_type": "stream",
     "text": [
      "INFO:tensorflow:Assets written to: /home/erniesg/code/erniesg/art_api/notebooks/wandb/run-20220917_052233-3euknryt/files/model-best/assets\n"
     ]
    },
    {
     "name": "stderr",
     "output_type": "stream",
     "text": [
      "INFO:tensorflow:Assets written to: /home/erniesg/code/erniesg/art_api/notebooks/wandb/run-20220917_052233-3euknryt/files/model-best/assets\n",
      "\u001b[34m\u001b[1mwandb\u001b[0m: Adding directory to artifact (/home/erniesg/code/erniesg/art_api/notebooks/wandb/run-20220917_052233-3euknryt/files/model-best)... Done. 0.9s\n"
     ]
    },
    {
     "name": "stdout",
     "output_type": "stream",
     "text": [
      "43/43 [==============================] - 25s 600ms/step - loss: 0.1840 - accuracy: 0.7282 - val_loss: 0.2329 - val_accuracy: 0.5925\n",
      "Epoch 19/50\n",
      "42/43 [============================>.] - ETA: 0s - loss: 0.1794 - accuracy: 0.7359"
     ]
    },
    {
     "name": "stderr",
     "output_type": "stream",
     "text": [
      "WARNING:absl:Found untraced functions such as _jit_compiled_convolution_op, _jit_compiled_convolution_op, _jit_compiled_convolution_op, _jit_compiled_convolution_op, _jit_compiled_convolution_op while saving (showing 5 of 94). These functions will not be directly callable after loading.\n"
     ]
    },
    {
     "name": "stdout",
     "output_type": "stream",
     "text": [
      "INFO:tensorflow:Assets written to: /home/erniesg/code/erniesg/art_api/notebooks/wandb/run-20220917_052233-3euknryt/files/model-best/assets\n"
     ]
    },
    {
     "name": "stderr",
     "output_type": "stream",
     "text": [
      "INFO:tensorflow:Assets written to: /home/erniesg/code/erniesg/art_api/notebooks/wandb/run-20220917_052233-3euknryt/files/model-best/assets\n",
      "\u001b[34m\u001b[1mwandb\u001b[0m: Adding directory to artifact (/home/erniesg/code/erniesg/art_api/notebooks/wandb/run-20220917_052233-3euknryt/files/model-best)... Done. 0.9s\n"
     ]
    },
    {
     "name": "stdout",
     "output_type": "stream",
     "text": [
      "43/43 [==============================] - 25s 584ms/step - loss: 0.1786 - accuracy: 0.7377 - val_loss: 0.2309 - val_accuracy: 0.5788\n",
      "Epoch 20/50\n",
      "43/43 [==============================] - ETA: 0s - loss: 0.1734 - accuracy: 0.7473Restoring model weights from the end of the best epoch: 15.\n"
     ]
    },
    {
     "name": "stderr",
     "output_type": "stream",
     "text": [
      "WARNING:absl:Found untraced functions such as _jit_compiled_convolution_op, _jit_compiled_convolution_op, _jit_compiled_convolution_op, _jit_compiled_convolution_op, _jit_compiled_convolution_op while saving (showing 5 of 94). These functions will not be directly callable after loading.\n"
     ]
    },
    {
     "name": "stdout",
     "output_type": "stream",
     "text": [
      "INFO:tensorflow:Assets written to: /home/erniesg/code/erniesg/art_api/notebooks/wandb/run-20220917_052233-3euknryt/files/model-best/assets\n"
     ]
    },
    {
     "name": "stderr",
     "output_type": "stream",
     "text": [
      "INFO:tensorflow:Assets written to: /home/erniesg/code/erniesg/art_api/notebooks/wandb/run-20220917_052233-3euknryt/files/model-best/assets\n",
      "\u001b[34m\u001b[1mwandb\u001b[0m: Adding directory to artifact (/home/erniesg/code/erniesg/art_api/notebooks/wandb/run-20220917_052233-3euknryt/files/model-best)... Done. 0.9s\n"
     ]
    },
    {
     "name": "stdout",
     "output_type": "stream",
     "text": [
      "43/43 [==============================] - 26s 606ms/step - loss: 0.1734 - accuracy: 0.7473 - val_loss: 0.2271 - val_accuracy: 0.5822\n",
      "Epoch 20: early stopping\n"
     ]
    },
    {
     "name": "stderr",
     "output_type": "stream",
     "text": [
      "WARNING:absl:Found untraced functions such as _jit_compiled_convolution_op, _jit_compiled_convolution_op, _jit_compiled_convolution_op, _jit_compiled_convolution_op, _jit_compiled_convolution_op while saving (showing 5 of 94). These functions will not be directly callable after loading.\n"
     ]
    },
    {
     "name": "stdout",
     "output_type": "stream",
     "text": [
      "INFO:tensorflow:Assets written to: ../models/inceptionv3_bal/assets\n"
     ]
    },
    {
     "name": "stderr",
     "output_type": "stream",
     "text": [
      "INFO:tensorflow:Assets written to: ../models/inceptionv3_bal/assets\n"
     ]
    },
    {
     "name": "stdout",
     "output_type": "stream",
     "text": [
      "10/10 [==============================] - 0s 38ms/step - loss: 0.2410 - accuracy: 0.5925\n"
     ]
    },
    {
     "data": {
      "text/html": [
       "Waiting for W&B process to finish... <strong style=\"color:green\">(success).</strong>"
      ],
      "text/plain": [
       "<IPython.core.display.HTML object>"
      ]
     },
     "metadata": {},
     "output_type": "display_data"
    },
    {
     "data": {
      "application/vnd.jupyter.widget-view+json": {
       "model_id": "",
       "version_major": 2,
       "version_minor": 0
      },
      "text/plain": [
       "VBox(children=(Label(value='10356.791 MB of 10356.791 MB uploaded (0.929 MB deduped)\\r'), FloatProgress(value=…"
      ]
     },
     "metadata": {},
     "output_type": "display_data"
    },
    {
     "data": {
      "text/html": [
       "<style>\n",
       "    table.wandb td:nth-child(1) { padding: 0 10px; text-align: left ; width: auto;} td:nth-child(2) {text-align: left ; width: 100%}\n",
       "    .wandb-row { display: flex; flex-direction: row; flex-wrap: wrap; justify-content: flex-start; width: 100% }\n",
       "    .wandb-col { display: flex; flex-direction: column; flex-basis: 100%; flex: 1; padding: 10px; }\n",
       "    </style>\n",
       "<div class=\"wandb-row\"><div class=\"wandb-col\"><h3>Run history:</h3><br/><table class=\"wandb\"><tr><td>accuracy</td><td>▁▂▅▆▆▇▇▇▇▇▇▇▇███████</td></tr><tr><td>epoch</td><td>▁▁▂▂▂▃▃▄▄▄▅▅▅▆▆▇▇▇██</td></tr><tr><td>evaluate/accuracy</td><td>▁</td></tr><tr><td>loss</td><td>█▅▅▄▄▄▃▃▃▂▂▂▂▂▂▁▁▁▁▁</td></tr><tr><td>val_accuracy</td><td>▁▄▆▆▇▇▇▇▇███████████</td></tr><tr><td>val_loss</td><td>█▇▆▅▅▄▄▃▃▃▂▂▂▂▂▂▁▁▁▁</td></tr></table><br/></div><div class=\"wandb-col\"><h3>Run summary:</h3><br/><table class=\"wandb\"><tr><td>GFLOPs</td><td>3.8927</td></tr><tr><td>accuracy</td><td>0.74725</td></tr><tr><td>best_epoch</td><td>19</td></tr><tr><td>best_val_loss</td><td>0.22708</td></tr><tr><td>epoch</td><td>19</td></tr><tr><td>evaluate/accuracy</td><td>0.59247</td></tr><tr><td>loss</td><td>0.17336</td></tr><tr><td>val_accuracy</td><td>0.58219</td></tr><tr><td>val_loss</td><td>0.22708</td></tr></table><br/></div></div>"
      ],
      "text/plain": [
       "<IPython.core.display.HTML object>"
      ]
     },
     "metadata": {},
     "output_type": "display_data"
    },
    {
     "data": {
      "text/html": [
       "Synced <strong style=\"color:#cdcd00\">vocal-pond-31</strong>: <a href=\"https://wandb.ai/art_api/art_api/runs/3euknryt\" target=\"_blank\">https://wandb.ai/art_api/art_api/runs/3euknryt</a><br/>Synced 5 W&B file(s), 1 media file(s), 61 artifact file(s) and 1 other file(s)"
      ],
      "text/plain": [
       "<IPython.core.display.HTML object>"
      ]
     },
     "metadata": {},
     "output_type": "display_data"
    },
    {
     "data": {
      "text/html": [
       "Find logs at: <code>./wandb/run-20220917_052233-3euknryt/logs</code>"
      ],
      "text/plain": [
       "<IPython.core.display.HTML object>"
      ]
     },
     "metadata": {},
     "output_type": "display_data"
    }
   ],
   "source": [
    "log_model()"
   ]
  },
  {
   "cell_type": "markdown",
   "id": "4a822887",
   "metadata": {},
   "source": [
    "# Train on InceptionResNetV2 "
   ]
  },
  {
   "cell_type": "code",
   "execution_count": 24,
   "id": "22e3626c",
   "metadata": {
    "ExecuteTime": {
     "end_time": "2022-09-16T21:35:41.848675Z",
     "start_time": "2022-09-16T21:35:41.838516Z"
    }
   },
   "outputs": [],
   "source": [
    "from tensorflow.keras.applications.inception_resnet_v2 import preprocess_input"
   ]
  },
  {
   "cell_type": "code",
   "execution_count": 25,
   "id": "c70f61f1",
   "metadata": {
    "ExecuteTime": {
     "end_time": "2022-09-16T21:35:42.699317Z",
     "start_time": "2022-09-16T21:35:42.622667Z"
    }
   },
   "outputs": [],
   "source": [
    "X_train, X_test, y_train, y_test = train_test_split(X_under, y_under, test_size=0.3)\n",
    "X_test, X_val, y_test, y_val = train_test_split(X_test, y_test, test_size=0.5)"
   ]
  },
  {
   "cell_type": "code",
   "execution_count": 26,
   "id": "40c8e7df",
   "metadata": {
    "ExecuteTime": {
     "end_time": "2022-09-16T21:35:43.592613Z",
     "start_time": "2022-09-16T21:35:43.279746Z"
    }
   },
   "outputs": [],
   "source": [
    "X_train = preprocess_input(X_train) \n",
    "X_val = preprocess_input(X_val)\n",
    "X_test = preprocess_input(X_test)"
   ]
  },
  {
   "cell_type": "code",
   "execution_count": 27,
   "id": "4ee47c8a",
   "metadata": {
    "ExecuteTime": {
     "end_time": "2022-09-16T21:35:45.113605Z",
     "start_time": "2022-09-16T21:35:45.109065Z"
    }
   },
   "outputs": [],
   "source": [
    "def load_inceptionresnetv2_model():\n",
    "    \n",
    "    model = InceptionResNetV2(weights='imagenet', include_top=False, input_shape=input_shape, classes=10)\n",
    "    \n",
    "    model.compile(loss='binary_crossentropy',\n",
    "                  optimizer=optimizers.Adam(learning_rate=1e-4),\n",
    "                  metrics=['accuracy'])\n",
    "    \n",
    "    return model\n",
    "\n",
    "def set_nontrainable_layers(model):\n",
    "    \n",
    "    # Set the first layers to be untrainable\n",
    "    model.trainable = False\n",
    "        \n",
    "    return model\n",
    "\n",
    "def add_last_layers(model):\n",
    "    '''Take a pre-trained model, set its parameters as non-trainable, and add additional trainable layers on top'''\n",
    "    base_model = set_nontrainable_layers(model)\n",
    "    rescale_layer = layers.Rescaling(1./255, input_shape=input_shape)\n",
    "    flatten_layer = layers.Flatten()\n",
    "    dense_layer = layers.Dense(500, activation='relu')\n",
    "    prediction_layer = layers.Dense(10, activation='sigmoid')\n",
    "    \n",
    "    model = models.Sequential([\n",
    "        base_model,\n",
    "        rescale_layer,\n",
    "        flatten_layer,\n",
    "        dense_layer,\n",
    "        prediction_layer\n",
    "    ])\n",
    "\n",
    "    return model"
   ]
  },
  {
   "cell_type": "code",
   "execution_count": 28,
   "id": "636a7e75",
   "metadata": {
    "ExecuteTime": {
     "end_time": "2022-09-16T21:35:45.701235Z",
     "start_time": "2022-09-16T21:35:45.698122Z"
    }
   },
   "outputs": [],
   "source": [
    "def build_model():\n",
    "\n",
    "    model = load_inceptionresnetv2_model()\n",
    "    model = add_last_layers(model)\n",
    "    \n",
    "    model.compile(loss='binary_crossentropy',\n",
    "                  optimizer=optimizers.Adam(learning_rate=1e-4),\n",
    "                  metrics=['accuracy'])\n",
    "    return model"
   ]
  },
  {
   "cell_type": "code",
   "execution_count": 29,
   "id": "0968dced",
   "metadata": {
    "ExecuteTime": {
     "end_time": "2022-09-16T21:35:46.789727Z",
     "start_time": "2022-09-16T21:35:46.783268Z"
    }
   },
   "outputs": [],
   "source": [
    "def log_model():\n",
    "    #run = wandb.init(project=“project=\"art_api\", job_type=\"training\")\n",
    "    \n",
    "    with wandb.init(project=\"art_api\") as run:\n",
    "        \n",
    "        baseline_model = wandb.Artifact(\n",
    "            name = \"inceptionresnetv2-balanced\",\n",
    "            type=\"model\",\n",
    "            description = \"InceptionResNetV2 model on balanced, preprocessed dataset\")\n",
    "    \n",
    "        es = EarlyStopping(monitor = 'val_accuracy', \n",
    "                       mode = 'max', \n",
    "                       patience = 5, \n",
    "                       verbose = 1, \n",
    "                       restore_best_weights = True)\n",
    "        \n",
    "        # Define WandbCallback for experiment tracking\n",
    "        wandb_callback = WandbCallback(monitor='val_loss',\n",
    "                                       log_weights=True,\n",
    "                                       log_evaluation=True,\n",
    "                                       validation_steps=5)\n",
    "\n",
    "        callbacks = [es, wandb_callback]\n",
    "\n",
    "        model = build_model()\n",
    "\n",
    "        model.fit(X_train, y_train,  validation_data=(X_test, y_test),\n",
    "              callbacks=[callbacks], verbose=1, epochs=50)\n",
    "\n",
    "        filename = os.path.join(Path(\"../models\"), \"inceptionresnetv2_bal\")\n",
    "        model.save(filename)\n",
    "        \n",
    "        loss, acc = model.evaluate(X_test, y_test)\n",
    "        wandb.log({'evaluate/accuracy': acc})"
   ]
  },
  {
   "cell_type": "code",
   "execution_count": 30,
   "id": "17f1d727",
   "metadata": {
    "ExecuteTime": {
     "end_time": "2022-09-16T21:59:17.365389Z",
     "start_time": "2022-09-16T21:35:48.426295Z"
    },
    "scrolled": true
   },
   "outputs": [
    {
     "data": {
      "text/html": [
       "Tracking run with wandb version 0.13.3"
      ],
      "text/plain": [
       "<IPython.core.display.HTML object>"
      ]
     },
     "metadata": {},
     "output_type": "display_data"
    },
    {
     "data": {
      "text/html": [
       "Run data is saved locally in <code>/home/erniesg/code/erniesg/art_api/notebooks/wandb/run-20220917_053548-3e1zn6pq</code>"
      ],
      "text/plain": [
       "<IPython.core.display.HTML object>"
      ]
     },
     "metadata": {},
     "output_type": "display_data"
    },
    {
     "data": {
      "text/html": [
       "Syncing run <strong><a href=\"https://wandb.ai/art_api/art_api/runs/3e1zn6pq\" target=\"_blank\">glamorous-universe-32</a></strong> to <a href=\"https://wandb.ai/art_api/art_api\" target=\"_blank\">Weights & Biases</a> (<a href=\"https://wandb.me/run\" target=\"_blank\">docs</a>)<br/>"
      ],
      "text/plain": [
       "<IPython.core.display.HTML object>"
      ]
     },
     "metadata": {},
     "output_type": "display_data"
    },
    {
     "name": "stdout",
     "output_type": "stream",
     "text": [
      "Downloading data from https://storage.googleapis.com/tensorflow/keras-applications/inception_resnet_v2/inception_resnet_v2_weights_tf_dim_ordering_tf_kernels_notop.h5\n",
      "219055592/219055592 [==============================] - 4s 0us/step\n"
     ]
    },
    {
     "name": "stderr",
     "output_type": "stream",
     "text": [
      "2022-09-17 05:35:58.342535: W tensorflow/core/framework/cpu_allocator_impl.cc:82] Allocation of 1073479680 exceeds 10% of free system memory.\n",
      "2022-09-17 05:35:58.837045: W tensorflow/core/framework/cpu_allocator_impl.cc:82] Allocation of 1073479680 exceeds 10% of free system memory.\n",
      "\u001b[34m\u001b[1mwandb\u001b[0m: \u001b[33mWARNING\u001b[0m WandbCallback is unable to read validation_data from trainer and therefore cannot log validation data. Ensure Keras is properly patched by calling `from wandb.keras import WandbCallback` at the top of your script.\n",
      "2022-09-17 05:36:00.126854: I tensorflow/stream_executor/cuda/cuda_gpu_executor.cc:961] could not open file to read NUMA node: /sys/bus/pci/devices/0000:06:00.0/numa_node\n",
      "Your kernel may have been built without NUMA support.\n",
      "2022-09-17 05:36:00.127531: I tensorflow/core/grappler/devices.cc:66] Number of eligible GPUs (core count >= 8, compute capability >= 0.0): 1\n",
      "2022-09-17 05:36:00.127628: I tensorflow/core/grappler/clusters/single_machine.cc:358] Starting new session\n",
      "2022-09-17 05:36:00.128562: I tensorflow/stream_executor/cuda/cuda_gpu_executor.cc:961] could not open file to read NUMA node: /sys/bus/pci/devices/0000:06:00.0/numa_node\n",
      "Your kernel may have been built without NUMA support.\n",
      "2022-09-17 05:36:00.128824: I tensorflow/stream_executor/cuda/cuda_gpu_executor.cc:961] could not open file to read NUMA node: /sys/bus/pci/devices/0000:06:00.0/numa_node\n",
      "Your kernel may have been built without NUMA support.\n",
      "2022-09-17 05:36:00.129061: I tensorflow/stream_executor/cuda/cuda_gpu_executor.cc:961] could not open file to read NUMA node: /sys/bus/pci/devices/0000:06:00.0/numa_node\n",
      "Your kernel may have been built without NUMA support.\n",
      "2022-09-17 05:36:00.130589: I tensorflow/stream_executor/cuda/cuda_gpu_executor.cc:961] could not open file to read NUMA node: /sys/bus/pci/devices/0000:06:00.0/numa_node\n",
      "Your kernel may have been built without NUMA support.\n",
      "2022-09-17 05:36:00.130600: I tensorflow/core/common_runtime/gpu/gpu_device.cc:1616] Could not identify NUMA node of platform GPU id 0, defaulting to 0.  Your kernel may not have been built with NUMA support.\n",
      "2022-09-17 05:36:00.130897: I tensorflow/stream_executor/cuda/cuda_gpu_executor.cc:961] could not open file to read NUMA node: /sys/bus/pci/devices/0000:06:00.0/numa_node\n",
      "Your kernel may have been built without NUMA support.\n",
      "2022-09-17 05:36:00.131123: I tensorflow/core/common_runtime/gpu/gpu_device.cc:1532] Created device /job:localhost/replica:0/task:0/device:GPU:0 with 5423 MB memory:  -> device: 0, name: NVIDIA GeForce RTX 3070, pci bus id: 0000:06:00.0, compute capability: 8.6\n"
     ]
    },
    {
     "name": "stdout",
     "output_type": "stream",
     "text": [
      "Epoch 1/50\n",
      "43/43 [==============================] - ETA: 0s - loss: 0.5237 - accuracy: 0.2755"
     ]
    },
    {
     "name": "stderr",
     "output_type": "stream",
     "text": [
      "WARNING:absl:Found untraced functions such as _jit_compiled_convolution_op, _jit_compiled_convolution_op, _jit_compiled_convolution_op, _jit_compiled_convolution_op, _jit_compiled_convolution_op while saving (showing 5 of 244). These functions will not be directly callable after loading.\n"
     ]
    },
    {
     "name": "stdout",
     "output_type": "stream",
     "text": [
      "INFO:tensorflow:Assets written to: /home/erniesg/code/erniesg/art_api/notebooks/wandb/run-20220917_053548-3e1zn6pq/files/model-best/assets\n"
     ]
    },
    {
     "name": "stderr",
     "output_type": "stream",
     "text": [
      "INFO:tensorflow:Assets written to: /home/erniesg/code/erniesg/art_api/notebooks/wandb/run-20220917_053548-3e1zn6pq/files/model-best/assets\n",
      "\u001b[34m\u001b[1mwandb\u001b[0m: Adding directory to artifact (/home/erniesg/code/erniesg/art_api/notebooks/wandb/run-20220917_053548-3e1zn6pq/files/model-best)... Done. 1.0s\n"
     ]
    },
    {
     "name": "stdout",
     "output_type": "stream",
     "text": [
      "43/43 [==============================] - 67s 1s/step - loss: 0.5237 - accuracy: 0.2755 - val_loss: 0.4048 - val_accuracy: 0.3870\n",
      "Epoch 2/50\n",
      "43/43 [==============================] - ETA: 0s - loss: 0.3772 - accuracy: 0.3971"
     ]
    },
    {
     "name": "stderr",
     "output_type": "stream",
     "text": [
      "WARNING:absl:Found untraced functions such as _jit_compiled_convolution_op, _jit_compiled_convolution_op, _jit_compiled_convolution_op, _jit_compiled_convolution_op, _jit_compiled_convolution_op while saving (showing 5 of 244). These functions will not be directly callable after loading.\n"
     ]
    },
    {
     "name": "stdout",
     "output_type": "stream",
     "text": [
      "INFO:tensorflow:Assets written to: /home/erniesg/code/erniesg/art_api/notebooks/wandb/run-20220917_053548-3e1zn6pq/files/model-best/assets\n"
     ]
    },
    {
     "name": "stderr",
     "output_type": "stream",
     "text": [
      "INFO:tensorflow:Assets written to: /home/erniesg/code/erniesg/art_api/notebooks/wandb/run-20220917_053548-3e1zn6pq/files/model-best/assets\n",
      "\u001b[34m\u001b[1mwandb\u001b[0m: Adding directory to artifact (/home/erniesg/code/erniesg/art_api/notebooks/wandb/run-20220917_053548-3e1zn6pq/files/model-best)... Done. 1.0s\n"
     ]
    },
    {
     "name": "stdout",
     "output_type": "stream",
     "text": [
      "43/43 [==============================] - 58s 1s/step - loss: 0.3772 - accuracy: 0.3971 - val_loss: 0.3648 - val_accuracy: 0.3356\n",
      "Epoch 3/50\n",
      "43/43 [==============================] - ETA: 0s - loss: 0.3487 - accuracy: 0.4220"
     ]
    },
    {
     "name": "stderr",
     "output_type": "stream",
     "text": [
      "WARNING:absl:Found untraced functions such as _jit_compiled_convolution_op, _jit_compiled_convolution_op, _jit_compiled_convolution_op, _jit_compiled_convolution_op, _jit_compiled_convolution_op while saving (showing 5 of 244). These functions will not be directly callable after loading.\n"
     ]
    },
    {
     "name": "stdout",
     "output_type": "stream",
     "text": [
      "INFO:tensorflow:Assets written to: /home/erniesg/code/erniesg/art_api/notebooks/wandb/run-20220917_053548-3e1zn6pq/files/model-best/assets\n"
     ]
    },
    {
     "name": "stderr",
     "output_type": "stream",
     "text": [
      "INFO:tensorflow:Assets written to: /home/erniesg/code/erniesg/art_api/notebooks/wandb/run-20220917_053548-3e1zn6pq/files/model-best/assets\n",
      "\u001b[34m\u001b[1mwandb\u001b[0m: Adding directory to artifact (/home/erniesg/code/erniesg/art_api/notebooks/wandb/run-20220917_053548-3e1zn6pq/files/model-best)... Done. 1.0s\n"
     ]
    },
    {
     "name": "stdout",
     "output_type": "stream",
     "text": [
      "43/43 [==============================] - 62s 1s/step - loss: 0.3487 - accuracy: 0.4220 - val_loss: 0.3429 - val_accuracy: 0.4795\n",
      "Epoch 4/50\n",
      "43/43 [==============================] - ETA: 0s - loss: 0.3254 - accuracy: 0.5165"
     ]
    },
    {
     "name": "stderr",
     "output_type": "stream",
     "text": [
      "WARNING:absl:Found untraced functions such as _jit_compiled_convolution_op, _jit_compiled_convolution_op, _jit_compiled_convolution_op, _jit_compiled_convolution_op, _jit_compiled_convolution_op while saving (showing 5 of 244). These functions will not be directly callable after loading.\n"
     ]
    },
    {
     "name": "stdout",
     "output_type": "stream",
     "text": [
      "INFO:tensorflow:Assets written to: /home/erniesg/code/erniesg/art_api/notebooks/wandb/run-20220917_053548-3e1zn6pq/files/model-best/assets\n"
     ]
    },
    {
     "name": "stderr",
     "output_type": "stream",
     "text": [
      "INFO:tensorflow:Assets written to: /home/erniesg/code/erniesg/art_api/notebooks/wandb/run-20220917_053548-3e1zn6pq/files/model-best/assets\n",
      "\u001b[34m\u001b[1mwandb\u001b[0m: Adding directory to artifact (/home/erniesg/code/erniesg/art_api/notebooks/wandb/run-20220917_053548-3e1zn6pq/files/model-best)... Done. 1.0s\n"
     ]
    },
    {
     "name": "stdout",
     "output_type": "stream",
     "text": [
      "43/43 [==============================] - 60s 1s/step - loss: 0.3254 - accuracy: 0.5165 - val_loss: 0.3242 - val_accuracy: 0.5103\n",
      "Epoch 5/50\n",
      "43/43 [==============================] - ETA: 0s - loss: 0.3046 - accuracy: 0.5663"
     ]
    },
    {
     "name": "stderr",
     "output_type": "stream",
     "text": [
      "WARNING:absl:Found untraced functions such as _jit_compiled_convolution_op, _jit_compiled_convolution_op, _jit_compiled_convolution_op, _jit_compiled_convolution_op, _jit_compiled_convolution_op while saving (showing 5 of 244). These functions will not be directly callable after loading.\n"
     ]
    },
    {
     "name": "stdout",
     "output_type": "stream",
     "text": [
      "INFO:tensorflow:Assets written to: /home/erniesg/code/erniesg/art_api/notebooks/wandb/run-20220917_053548-3e1zn6pq/files/model-best/assets\n"
     ]
    },
    {
     "name": "stderr",
     "output_type": "stream",
     "text": [
      "INFO:tensorflow:Assets written to: /home/erniesg/code/erniesg/art_api/notebooks/wandb/run-20220917_053548-3e1zn6pq/files/model-best/assets\n",
      "\u001b[34m\u001b[1mwandb\u001b[0m: Adding directory to artifact (/home/erniesg/code/erniesg/art_api/notebooks/wandb/run-20220917_053548-3e1zn6pq/files/model-best)... Done. 12.1s\n"
     ]
    },
    {
     "name": "stdout",
     "output_type": "stream",
     "text": [
      "43/43 [==============================] - 72s 2s/step - loss: 0.3046 - accuracy: 0.5663 - val_loss: 0.3087 - val_accuracy: 0.5342\n",
      "Epoch 6/50\n",
      "43/43 [==============================] - ETA: 0s - loss: 0.2873 - accuracy: 0.5810"
     ]
    },
    {
     "name": "stderr",
     "output_type": "stream",
     "text": [
      "WARNING:absl:Found untraced functions such as _jit_compiled_convolution_op, _jit_compiled_convolution_op, _jit_compiled_convolution_op, _jit_compiled_convolution_op, _jit_compiled_convolution_op while saving (showing 5 of 244). These functions will not be directly callable after loading.\n"
     ]
    },
    {
     "name": "stdout",
     "output_type": "stream",
     "text": [
      "INFO:tensorflow:Assets written to: /home/erniesg/code/erniesg/art_api/notebooks/wandb/run-20220917_053548-3e1zn6pq/files/model-best/assets\n"
     ]
    },
    {
     "name": "stderr",
     "output_type": "stream",
     "text": [
      "INFO:tensorflow:Assets written to: /home/erniesg/code/erniesg/art_api/notebooks/wandb/run-20220917_053548-3e1zn6pq/files/model-best/assets\n",
      "\u001b[34m\u001b[1mwandb\u001b[0m: Adding directory to artifact (/home/erniesg/code/erniesg/art_api/notebooks/wandb/run-20220917_053548-3e1zn6pq/files/model-best)... Done. 5.4s\n"
     ]
    },
    {
     "name": "stdout",
     "output_type": "stream",
     "text": [
      "43/43 [==============================] - 65s 2s/step - loss: 0.2873 - accuracy: 0.5810 - val_loss: 0.2947 - val_accuracy: 0.5582\n",
      "Epoch 7/50\n",
      "43/43 [==============================] - ETA: 0s - loss: 0.2721 - accuracy: 0.6059"
     ]
    },
    {
     "name": "stderr",
     "output_type": "stream",
     "text": [
      "WARNING:absl:Found untraced functions such as _jit_compiled_convolution_op, _jit_compiled_convolution_op, _jit_compiled_convolution_op, _jit_compiled_convolution_op, _jit_compiled_convolution_op while saving (showing 5 of 244). These functions will not be directly callable after loading.\n"
     ]
    },
    {
     "name": "stdout",
     "output_type": "stream",
     "text": [
      "INFO:tensorflow:Assets written to: /home/erniesg/code/erniesg/art_api/notebooks/wandb/run-20220917_053548-3e1zn6pq/files/model-best/assets\n"
     ]
    },
    {
     "name": "stderr",
     "output_type": "stream",
     "text": [
      "INFO:tensorflow:Assets written to: /home/erniesg/code/erniesg/art_api/notebooks/wandb/run-20220917_053548-3e1zn6pq/files/model-best/assets\n",
      "\u001b[34m\u001b[1mwandb\u001b[0m: Adding directory to artifact (/home/erniesg/code/erniesg/art_api/notebooks/wandb/run-20220917_053548-3e1zn6pq/files/model-best)... Done. 1.1s\n"
     ]
    },
    {
     "name": "stdout",
     "output_type": "stream",
     "text": [
      "43/43 [==============================] - 60s 1s/step - loss: 0.2721 - accuracy: 0.6059 - val_loss: 0.2834 - val_accuracy: 0.5685\n",
      "Epoch 8/50\n",
      "43/43 [==============================] - ETA: 0s - loss: 0.2595 - accuracy: 0.6132"
     ]
    },
    {
     "name": "stderr",
     "output_type": "stream",
     "text": [
      "WARNING:absl:Found untraced functions such as _jit_compiled_convolution_op, _jit_compiled_convolution_op, _jit_compiled_convolution_op, _jit_compiled_convolution_op, _jit_compiled_convolution_op while saving (showing 5 of 244). These functions will not be directly callable after loading.\n"
     ]
    },
    {
     "name": "stdout",
     "output_type": "stream",
     "text": [
      "INFO:tensorflow:Assets written to: /home/erniesg/code/erniesg/art_api/notebooks/wandb/run-20220917_053548-3e1zn6pq/files/model-best/assets\n"
     ]
    },
    {
     "name": "stderr",
     "output_type": "stream",
     "text": [
      "INFO:tensorflow:Assets written to: /home/erniesg/code/erniesg/art_api/notebooks/wandb/run-20220917_053548-3e1zn6pq/files/model-best/assets\n",
      "\u001b[34m\u001b[1mwandb\u001b[0m: Adding directory to artifact (/home/erniesg/code/erniesg/art_api/notebooks/wandb/run-20220917_053548-3e1zn6pq/files/model-best)... Done. 1.0s\n"
     ]
    },
    {
     "name": "stdout",
     "output_type": "stream",
     "text": [
      "43/43 [==============================] - 60s 1s/step - loss: 0.2595 - accuracy: 0.6132 - val_loss: 0.2739 - val_accuracy: 0.5890\n",
      "Epoch 9/50\n",
      "43/43 [==============================] - ETA: 0s - loss: 0.2484 - accuracy: 0.6293"
     ]
    },
    {
     "name": "stderr",
     "output_type": "stream",
     "text": [
      "WARNING:absl:Found untraced functions such as _jit_compiled_convolution_op, _jit_compiled_convolution_op, _jit_compiled_convolution_op, _jit_compiled_convolution_op, _jit_compiled_convolution_op while saving (showing 5 of 244). These functions will not be directly callable after loading.\n"
     ]
    },
    {
     "name": "stdout",
     "output_type": "stream",
     "text": [
      "INFO:tensorflow:Assets written to: /home/erniesg/code/erniesg/art_api/notebooks/wandb/run-20220917_053548-3e1zn6pq/files/model-best/assets\n"
     ]
    },
    {
     "name": "stderr",
     "output_type": "stream",
     "text": [
      "INFO:tensorflow:Assets written to: /home/erniesg/code/erniesg/art_api/notebooks/wandb/run-20220917_053548-3e1zn6pq/files/model-best/assets\n",
      "\u001b[34m\u001b[1mwandb\u001b[0m: Adding directory to artifact (/home/erniesg/code/erniesg/art_api/notebooks/wandb/run-20220917_053548-3e1zn6pq/files/model-best)... Done. 1.0s\n"
     ]
    },
    {
     "name": "stdout",
     "output_type": "stream",
     "text": [
      "43/43 [==============================] - 59s 1s/step - loss: 0.2484 - accuracy: 0.6293 - val_loss: 0.2662 - val_accuracy: 0.5925\n",
      "Epoch 10/50\n",
      "43/43 [==============================] - ETA: 0s - loss: 0.2388 - accuracy: 0.6300"
     ]
    },
    {
     "name": "stderr",
     "output_type": "stream",
     "text": [
      "WARNING:absl:Found untraced functions such as _jit_compiled_convolution_op, _jit_compiled_convolution_op, _jit_compiled_convolution_op, _jit_compiled_convolution_op, _jit_compiled_convolution_op while saving (showing 5 of 244). These functions will not be directly callable after loading.\n"
     ]
    },
    {
     "name": "stdout",
     "output_type": "stream",
     "text": [
      "INFO:tensorflow:Assets written to: /home/erniesg/code/erniesg/art_api/notebooks/wandb/run-20220917_053548-3e1zn6pq/files/model-best/assets\n"
     ]
    },
    {
     "name": "stderr",
     "output_type": "stream",
     "text": [
      "INFO:tensorflow:Assets written to: /home/erniesg/code/erniesg/art_api/notebooks/wandb/run-20220917_053548-3e1zn6pq/files/model-best/assets\n",
      "\u001b[34m\u001b[1mwandb\u001b[0m: Adding directory to artifact (/home/erniesg/code/erniesg/art_api/notebooks/wandb/run-20220917_053548-3e1zn6pq/files/model-best)... Done. 1.3s\n"
     ]
    },
    {
     "name": "stdout",
     "output_type": "stream",
     "text": [
      "43/43 [==============================] - 59s 1s/step - loss: 0.2388 - accuracy: 0.6300 - val_loss: 0.2589 - val_accuracy: 0.5959\n",
      "Epoch 11/50\n",
      "43/43 [==============================] - ETA: 0s - loss: 0.2300 - accuracy: 0.6462"
     ]
    },
    {
     "name": "stderr",
     "output_type": "stream",
     "text": [
      "WARNING:absl:Found untraced functions such as _jit_compiled_convolution_op, _jit_compiled_convolution_op, _jit_compiled_convolution_op, _jit_compiled_convolution_op, _jit_compiled_convolution_op while saving (showing 5 of 244). These functions will not be directly callable after loading.\n"
     ]
    },
    {
     "name": "stdout",
     "output_type": "stream",
     "text": [
      "INFO:tensorflow:Assets written to: /home/erniesg/code/erniesg/art_api/notebooks/wandb/run-20220917_053548-3e1zn6pq/files/model-best/assets\n"
     ]
    },
    {
     "name": "stderr",
     "output_type": "stream",
     "text": [
      "INFO:tensorflow:Assets written to: /home/erniesg/code/erniesg/art_api/notebooks/wandb/run-20220917_053548-3e1zn6pq/files/model-best/assets\n",
      "\u001b[34m\u001b[1mwandb\u001b[0m: Adding directory to artifact (/home/erniesg/code/erniesg/art_api/notebooks/wandb/run-20220917_053548-3e1zn6pq/files/model-best)... Done. 1.2s\n"
     ]
    },
    {
     "name": "stdout",
     "output_type": "stream",
     "text": [
      "43/43 [==============================] - 60s 1s/step - loss: 0.2300 - accuracy: 0.6462 - val_loss: 0.2534 - val_accuracy: 0.5856\n",
      "Epoch 12/50\n",
      "43/43 [==============================] - ETA: 0s - loss: 0.2224 - accuracy: 0.6484"
     ]
    },
    {
     "name": "stderr",
     "output_type": "stream",
     "text": [
      "WARNING:absl:Found untraced functions such as _jit_compiled_convolution_op, _jit_compiled_convolution_op, _jit_compiled_convolution_op, _jit_compiled_convolution_op, _jit_compiled_convolution_op while saving (showing 5 of 244). These functions will not be directly callable after loading.\n"
     ]
    },
    {
     "name": "stdout",
     "output_type": "stream",
     "text": [
      "INFO:tensorflow:Assets written to: /home/erniesg/code/erniesg/art_api/notebooks/wandb/run-20220917_053548-3e1zn6pq/files/model-best/assets\n"
     ]
    },
    {
     "name": "stderr",
     "output_type": "stream",
     "text": [
      "INFO:tensorflow:Assets written to: /home/erniesg/code/erniesg/art_api/notebooks/wandb/run-20220917_053548-3e1zn6pq/files/model-best/assets\n",
      "\u001b[34m\u001b[1mwandb\u001b[0m: Adding directory to artifact (/home/erniesg/code/erniesg/art_api/notebooks/wandb/run-20220917_053548-3e1zn6pq/files/model-best)... Done. 1.2s\n"
     ]
    },
    {
     "name": "stdout",
     "output_type": "stream",
     "text": [
      "43/43 [==============================] - 60s 1s/step - loss: 0.2224 - accuracy: 0.6484 - val_loss: 0.2486 - val_accuracy: 0.5959\n",
      "Epoch 13/50\n",
      "43/43 [==============================] - ETA: 0s - loss: 0.2152 - accuracy: 0.6549"
     ]
    },
    {
     "name": "stderr",
     "output_type": "stream",
     "text": [
      "WARNING:absl:Found untraced functions such as _jit_compiled_convolution_op, _jit_compiled_convolution_op, _jit_compiled_convolution_op, _jit_compiled_convolution_op, _jit_compiled_convolution_op while saving (showing 5 of 244). These functions will not be directly callable after loading.\n"
     ]
    },
    {
     "name": "stdout",
     "output_type": "stream",
     "text": [
      "INFO:tensorflow:Assets written to: /home/erniesg/code/erniesg/art_api/notebooks/wandb/run-20220917_053548-3e1zn6pq/files/model-best/assets\n"
     ]
    },
    {
     "name": "stderr",
     "output_type": "stream",
     "text": [
      "INFO:tensorflow:Assets written to: /home/erniesg/code/erniesg/art_api/notebooks/wandb/run-20220917_053548-3e1zn6pq/files/model-best/assets\n",
      "\u001b[34m\u001b[1mwandb\u001b[0m: Adding directory to artifact (/home/erniesg/code/erniesg/art_api/notebooks/wandb/run-20220917_053548-3e1zn6pq/files/model-best)... Done. 1.0s\n"
     ]
    },
    {
     "name": "stdout",
     "output_type": "stream",
     "text": [
      "43/43 [==============================] - 59s 1s/step - loss: 0.2152 - accuracy: 0.6549 - val_loss: 0.2444 - val_accuracy: 0.5925\n",
      "Epoch 14/50\n",
      "43/43 [==============================] - ETA: 0s - loss: 0.2087 - accuracy: 0.6615"
     ]
    },
    {
     "name": "stderr",
     "output_type": "stream",
     "text": [
      "WARNING:absl:Found untraced functions such as _jit_compiled_convolution_op, _jit_compiled_convolution_op, _jit_compiled_convolution_op, _jit_compiled_convolution_op, _jit_compiled_convolution_op while saving (showing 5 of 244). These functions will not be directly callable after loading.\n"
     ]
    },
    {
     "name": "stdout",
     "output_type": "stream",
     "text": [
      "INFO:tensorflow:Assets written to: /home/erniesg/code/erniesg/art_api/notebooks/wandb/run-20220917_053548-3e1zn6pq/files/model-best/assets\n"
     ]
    },
    {
     "name": "stderr",
     "output_type": "stream",
     "text": [
      "INFO:tensorflow:Assets written to: /home/erniesg/code/erniesg/art_api/notebooks/wandb/run-20220917_053548-3e1zn6pq/files/model-best/assets\n",
      "\u001b[34m\u001b[1mwandb\u001b[0m: Adding directory to artifact (/home/erniesg/code/erniesg/art_api/notebooks/wandb/run-20220917_053548-3e1zn6pq/files/model-best)... Done. 2.3s\n"
     ]
    },
    {
     "name": "stdout",
     "output_type": "stream",
     "text": [
      "43/43 [==============================] - 60s 1s/step - loss: 0.2087 - accuracy: 0.6615 - val_loss: 0.2404 - val_accuracy: 0.5925\n",
      "Epoch 15/50\n",
      "43/43 [==============================] - ETA: 0s - loss: 0.2026 - accuracy: 0.6733"
     ]
    },
    {
     "name": "stderr",
     "output_type": "stream",
     "text": [
      "WARNING:absl:Found untraced functions such as _jit_compiled_convolution_op, _jit_compiled_convolution_op, _jit_compiled_convolution_op, _jit_compiled_convolution_op, _jit_compiled_convolution_op while saving (showing 5 of 244). These functions will not be directly callable after loading.\n"
     ]
    },
    {
     "name": "stdout",
     "output_type": "stream",
     "text": [
      "INFO:tensorflow:Assets written to: /home/erniesg/code/erniesg/art_api/notebooks/wandb/run-20220917_053548-3e1zn6pq/files/model-best/assets\n"
     ]
    },
    {
     "name": "stderr",
     "output_type": "stream",
     "text": [
      "INFO:tensorflow:Assets written to: /home/erniesg/code/erniesg/art_api/notebooks/wandb/run-20220917_053548-3e1zn6pq/files/model-best/assets\n",
      "\u001b[34m\u001b[1mwandb\u001b[0m: Adding directory to artifact (/home/erniesg/code/erniesg/art_api/notebooks/wandb/run-20220917_053548-3e1zn6pq/files/model-best)... Done. 1.0s\n"
     ]
    },
    {
     "name": "stdout",
     "output_type": "stream",
     "text": [
      "43/43 [==============================] - 59s 1s/step - loss: 0.2026 - accuracy: 0.6733 - val_loss: 0.2374 - val_accuracy: 0.5993\n",
      "Epoch 16/50\n",
      "43/43 [==============================] - ETA: 0s - loss: 0.1971 - accuracy: 0.6762"
     ]
    },
    {
     "name": "stderr",
     "output_type": "stream",
     "text": [
      "WARNING:absl:Found untraced functions such as _jit_compiled_convolution_op, _jit_compiled_convolution_op, _jit_compiled_convolution_op, _jit_compiled_convolution_op, _jit_compiled_convolution_op while saving (showing 5 of 244). These functions will not be directly callable after loading.\n"
     ]
    },
    {
     "name": "stdout",
     "output_type": "stream",
     "text": [
      "INFO:tensorflow:Assets written to: /home/erniesg/code/erniesg/art_api/notebooks/wandb/run-20220917_053548-3e1zn6pq/files/model-best/assets\n"
     ]
    },
    {
     "name": "stderr",
     "output_type": "stream",
     "text": [
      "INFO:tensorflow:Assets written to: /home/erniesg/code/erniesg/art_api/notebooks/wandb/run-20220917_053548-3e1zn6pq/files/model-best/assets\n",
      "\u001b[34m\u001b[1mwandb\u001b[0m: Adding directory to artifact (/home/erniesg/code/erniesg/art_api/notebooks/wandb/run-20220917_053548-3e1zn6pq/files/model-best)... Done. 1.0s\n"
     ]
    },
    {
     "name": "stdout",
     "output_type": "stream",
     "text": [
      "43/43 [==============================] - 58s 1s/step - loss: 0.1971 - accuracy: 0.6762 - val_loss: 0.2344 - val_accuracy: 0.5925\n",
      "Epoch 17/50\n",
      "43/43 [==============================] - ETA: 0s - loss: 0.1918 - accuracy: 0.6872"
     ]
    },
    {
     "name": "stderr",
     "output_type": "stream",
     "text": [
      "WARNING:absl:Found untraced functions such as _jit_compiled_convolution_op, _jit_compiled_convolution_op, _jit_compiled_convolution_op, _jit_compiled_convolution_op, _jit_compiled_convolution_op while saving (showing 5 of 244). These functions will not be directly callable after loading.\n"
     ]
    },
    {
     "name": "stdout",
     "output_type": "stream",
     "text": [
      "INFO:tensorflow:Assets written to: /home/erniesg/code/erniesg/art_api/notebooks/wandb/run-20220917_053548-3e1zn6pq/files/model-best/assets\n"
     ]
    },
    {
     "name": "stderr",
     "output_type": "stream",
     "text": [
      "INFO:tensorflow:Assets written to: /home/erniesg/code/erniesg/art_api/notebooks/wandb/run-20220917_053548-3e1zn6pq/files/model-best/assets\n",
      "\u001b[34m\u001b[1mwandb\u001b[0m: Adding directory to artifact (/home/erniesg/code/erniesg/art_api/notebooks/wandb/run-20220917_053548-3e1zn6pq/files/model-best)... Done. 1.0s\n"
     ]
    },
    {
     "name": "stdout",
     "output_type": "stream",
     "text": [
      "43/43 [==============================] - 59s 1s/step - loss: 0.1918 - accuracy: 0.6872 - val_loss: 0.2318 - val_accuracy: 0.6062\n",
      "Epoch 18/50\n",
      "43/43 [==============================] - ETA: 0s - loss: 0.1865 - accuracy: 0.6916"
     ]
    },
    {
     "name": "stderr",
     "output_type": "stream",
     "text": [
      "WARNING:absl:Found untraced functions such as _jit_compiled_convolution_op, _jit_compiled_convolution_op, _jit_compiled_convolution_op, _jit_compiled_convolution_op, _jit_compiled_convolution_op while saving (showing 5 of 244). These functions will not be directly callable after loading.\n"
     ]
    },
    {
     "name": "stdout",
     "output_type": "stream",
     "text": [
      "INFO:tensorflow:Assets written to: /home/erniesg/code/erniesg/art_api/notebooks/wandb/run-20220917_053548-3e1zn6pq/files/model-best/assets\n"
     ]
    },
    {
     "name": "stderr",
     "output_type": "stream",
     "text": [
      "INFO:tensorflow:Assets written to: /home/erniesg/code/erniesg/art_api/notebooks/wandb/run-20220917_053548-3e1zn6pq/files/model-best/assets\n",
      "\u001b[34m\u001b[1mwandb\u001b[0m: Adding directory to artifact (/home/erniesg/code/erniesg/art_api/notebooks/wandb/run-20220917_053548-3e1zn6pq/files/model-best)... Done. 1.0s\n"
     ]
    },
    {
     "name": "stdout",
     "output_type": "stream",
     "text": [
      "43/43 [==============================] - 59s 1s/step - loss: 0.1865 - accuracy: 0.6916 - val_loss: 0.2299 - val_accuracy: 0.6062\n",
      "Epoch 19/50\n",
      "43/43 [==============================] - ETA: 0s - loss: 0.1819 - accuracy: 0.7040"
     ]
    },
    {
     "name": "stderr",
     "output_type": "stream",
     "text": [
      "WARNING:absl:Found untraced functions such as _jit_compiled_convolution_op, _jit_compiled_convolution_op, _jit_compiled_convolution_op, _jit_compiled_convolution_op, _jit_compiled_convolution_op while saving (showing 5 of 244). These functions will not be directly callable after loading.\n"
     ]
    },
    {
     "name": "stdout",
     "output_type": "stream",
     "text": [
      "INFO:tensorflow:Assets written to: /home/erniesg/code/erniesg/art_api/notebooks/wandb/run-20220917_053548-3e1zn6pq/files/model-best/assets\n"
     ]
    },
    {
     "name": "stderr",
     "output_type": "stream",
     "text": [
      "INFO:tensorflow:Assets written to: /home/erniesg/code/erniesg/art_api/notebooks/wandb/run-20220917_053548-3e1zn6pq/files/model-best/assets\n",
      "\u001b[34m\u001b[1mwandb\u001b[0m: Adding directory to artifact (/home/erniesg/code/erniesg/art_api/notebooks/wandb/run-20220917_053548-3e1zn6pq/files/model-best)... Done. 1.5s\n"
     ]
    },
    {
     "name": "stdout",
     "output_type": "stream",
     "text": [
      "43/43 [==============================] - 59s 1s/step - loss: 0.1819 - accuracy: 0.7040 - val_loss: 0.2273 - val_accuracy: 0.5993\n",
      "Epoch 20/50\n",
      "43/43 [==============================] - ETA: 0s - loss: 0.1774 - accuracy: 0.6996"
     ]
    },
    {
     "name": "stderr",
     "output_type": "stream",
     "text": [
      "WARNING:absl:Found untraced functions such as _jit_compiled_convolution_op, _jit_compiled_convolution_op, _jit_compiled_convolution_op, _jit_compiled_convolution_op, _jit_compiled_convolution_op while saving (showing 5 of 244). These functions will not be directly callable after loading.\n"
     ]
    },
    {
     "name": "stdout",
     "output_type": "stream",
     "text": [
      "INFO:tensorflow:Assets written to: /home/erniesg/code/erniesg/art_api/notebooks/wandb/run-20220917_053548-3e1zn6pq/files/model-best/assets\n"
     ]
    },
    {
     "name": "stderr",
     "output_type": "stream",
     "text": [
      "INFO:tensorflow:Assets written to: /home/erniesg/code/erniesg/art_api/notebooks/wandb/run-20220917_053548-3e1zn6pq/files/model-best/assets\n",
      "\u001b[34m\u001b[1mwandb\u001b[0m: Adding directory to artifact (/home/erniesg/code/erniesg/art_api/notebooks/wandb/run-20220917_053548-3e1zn6pq/files/model-best)... Done. 1.4s\n"
     ]
    },
    {
     "name": "stdout",
     "output_type": "stream",
     "text": [
      "43/43 [==============================] - 59s 1s/step - loss: 0.1774 - accuracy: 0.6996 - val_loss: 0.2257 - val_accuracy: 0.6027\n",
      "Epoch 21/50\n",
      "43/43 [==============================] - ETA: 0s - loss: 0.1728 - accuracy: 0.7114"
     ]
    },
    {
     "name": "stderr",
     "output_type": "stream",
     "text": [
      "WARNING:absl:Found untraced functions such as _jit_compiled_convolution_op, _jit_compiled_convolution_op, _jit_compiled_convolution_op, _jit_compiled_convolution_op, _jit_compiled_convolution_op while saving (showing 5 of 244). These functions will not be directly callable after loading.\n"
     ]
    },
    {
     "name": "stdout",
     "output_type": "stream",
     "text": [
      "INFO:tensorflow:Assets written to: /home/erniesg/code/erniesg/art_api/notebooks/wandb/run-20220917_053548-3e1zn6pq/files/model-best/assets\n"
     ]
    },
    {
     "name": "stderr",
     "output_type": "stream",
     "text": [
      "INFO:tensorflow:Assets written to: /home/erniesg/code/erniesg/art_api/notebooks/wandb/run-20220917_053548-3e1zn6pq/files/model-best/assets\n",
      "\u001b[34m\u001b[1mwandb\u001b[0m: Adding directory to artifact (/home/erniesg/code/erniesg/art_api/notebooks/wandb/run-20220917_053548-3e1zn6pq/files/model-best)... Done. 1.1s\n"
     ]
    },
    {
     "name": "stdout",
     "output_type": "stream",
     "text": [
      "43/43 [==============================] - 59s 1s/step - loss: 0.1728 - accuracy: 0.7114 - val_loss: 0.2244 - val_accuracy: 0.6062\n",
      "Epoch 22/50\n",
      "43/43 [==============================] - ETA: 0s - loss: 0.1688 - accuracy: 0.7172Restoring model weights from the end of the best epoch: 17.\n"
     ]
    },
    {
     "name": "stderr",
     "output_type": "stream",
     "text": [
      "WARNING:absl:Found untraced functions such as _jit_compiled_convolution_op, _jit_compiled_convolution_op, _jit_compiled_convolution_op, _jit_compiled_convolution_op, _jit_compiled_convolution_op while saving (showing 5 of 244). These functions will not be directly callable after loading.\n"
     ]
    },
    {
     "name": "stdout",
     "output_type": "stream",
     "text": [
      "INFO:tensorflow:Assets written to: /home/erniesg/code/erniesg/art_api/notebooks/wandb/run-20220917_053548-3e1zn6pq/files/model-best/assets\n"
     ]
    },
    {
     "name": "stderr",
     "output_type": "stream",
     "text": [
      "INFO:tensorflow:Assets written to: /home/erniesg/code/erniesg/art_api/notebooks/wandb/run-20220917_053548-3e1zn6pq/files/model-best/assets\n",
      "\u001b[34m\u001b[1mwandb\u001b[0m: Adding directory to artifact (/home/erniesg/code/erniesg/art_api/notebooks/wandb/run-20220917_053548-3e1zn6pq/files/model-best)... Done. 1.2s\n"
     ]
    },
    {
     "name": "stdout",
     "output_type": "stream",
     "text": [
      "43/43 [==============================] - 62s 1s/step - loss: 0.1688 - accuracy: 0.7172 - val_loss: 0.2222 - val_accuracy: 0.5993\n",
      "Epoch 22: early stopping\n"
     ]
    },
    {
     "name": "stderr",
     "output_type": "stream",
     "text": [
      "WARNING:absl:Found untraced functions such as _jit_compiled_convolution_op, _jit_compiled_convolution_op, _jit_compiled_convolution_op, _jit_compiled_convolution_op, _jit_compiled_convolution_op while saving (showing 5 of 244). These functions will not be directly callable after loading.\n"
     ]
    },
    {
     "name": "stdout",
     "output_type": "stream",
     "text": [
      "INFO:tensorflow:Assets written to: ../models/inceptionresnetv2_bal/assets\n"
     ]
    },
    {
     "name": "stderr",
     "output_type": "stream",
     "text": [
      "INFO:tensorflow:Assets written to: ../models/inceptionresnetv2_bal/assets\n"
     ]
    },
    {
     "name": "stdout",
     "output_type": "stream",
     "text": [
      "10/10 [==============================] - 1s 104ms/step - loss: 0.2318 - accuracy: 0.6062\n"
     ]
    },
    {
     "data": {
      "text/html": [
       "Waiting for W&B process to finish... <strong style=\"color:green\">(success).</strong>"
      ],
      "text/plain": [
       "<IPython.core.display.HTML object>"
      ]
     },
     "metadata": {},
     "output_type": "display_data"
    },
    {
     "data": {
      "application/vnd.jupyter.widget-view+json": {
       "model_id": "",
       "version_major": 2,
       "version_minor": 0
      },
      "text/plain": [
       "VBox(children=(Label(value='12356.657 MB of 12356.657 MB uploaded (2.359 MB deduped)\\r'), FloatProgress(value=…"
      ]
     },
     "metadata": {},
     "output_type": "display_data"
    },
    {
     "data": {
      "text/html": [
       "<style>\n",
       "    table.wandb td:nth-child(1) { padding: 0 10px; text-align: left ; width: auto;} td:nth-child(2) {text-align: left ; width: 100%}\n",
       "    .wandb-row { display: flex; flex-direction: row; flex-wrap: wrap; justify-content: flex-start; width: 100% }\n",
       "    .wandb-col { display: flex; flex-direction: column; flex-basis: 100%; flex: 1; padding: 10px; }\n",
       "    </style>\n",
       "<div class=\"wandb-row\"><div class=\"wandb-col\"><h3>Run history:</h3><br/><table class=\"wandb\"><tr><td>accuracy</td><td>▁▃▃▅▆▆▆▆▇▇▇▇▇▇▇▇██████</td></tr><tr><td>epoch</td><td>▁▁▂▂▂▃▃▃▄▄▄▅▅▅▆▆▆▇▇▇██</td></tr><tr><td>evaluate/accuracy</td><td>▁</td></tr><tr><td>loss</td><td>█▅▅▄▄▃▃▃▃▂▂▂▂▂▂▂▁▁▁▁▁▁</td></tr><tr><td>val_accuracy</td><td>▂▁▅▆▆▇▇███▇███████████</td></tr><tr><td>val_loss</td><td>█▆▆▅▄▄▃▃▃▂▂▂▂▂▂▁▁▁▁▁▁▁</td></tr></table><br/></div><div class=\"wandb-col\"><h3>Run summary:</h3><br/><table class=\"wandb\"><tr><td>GFLOPs</td><td>8.84396</td></tr><tr><td>accuracy</td><td>0.71722</td></tr><tr><td>best_epoch</td><td>21</td></tr><tr><td>best_val_loss</td><td>0.22224</td></tr><tr><td>epoch</td><td>21</td></tr><tr><td>evaluate/accuracy</td><td>0.60616</td></tr><tr><td>loss</td><td>0.16877</td></tr><tr><td>val_accuracy</td><td>0.59932</td></tr><tr><td>val_loss</td><td>0.22224</td></tr></table><br/></div></div>"
      ],
      "text/plain": [
       "<IPython.core.display.HTML object>"
      ]
     },
     "metadata": {},
     "output_type": "display_data"
    },
    {
     "data": {
      "text/html": [
       "Synced <strong style=\"color:#cdcd00\">glamorous-universe-32</strong>: <a href=\"https://wandb.ai/art_api/art_api/runs/3e1zn6pq\" target=\"_blank\">https://wandb.ai/art_api/art_api/runs/3e1zn6pq</a><br/>Synced 5 W&B file(s), 1 media file(s), 67 artifact file(s) and 1 other file(s)"
      ],
      "text/plain": [
       "<IPython.core.display.HTML object>"
      ]
     },
     "metadata": {},
     "output_type": "display_data"
    },
    {
     "data": {
      "text/html": [
       "Find logs at: <code>./wandb/run-20220917_053548-3e1zn6pq/logs</code>"
      ],
      "text/plain": [
       "<IPython.core.display.HTML object>"
      ]
     },
     "metadata": {},
     "output_type": "display_data"
    }
   ],
   "source": [
    "log_model()"
   ]
  },
  {
   "cell_type": "markdown",
   "id": "4c28465a",
   "metadata": {},
   "source": [
    "# Train on Xception "
   ]
  },
  {
   "cell_type": "code",
   "execution_count": 38,
   "id": "df9ce958",
   "metadata": {
    "ExecuteTime": {
     "end_time": "2022-09-16T22:08:16.062318Z",
     "start_time": "2022-09-16T22:08:16.059203Z"
    }
   },
   "outputs": [],
   "source": [
    "from tensorflow.keras.applications.xception import preprocess_input"
   ]
  },
  {
   "cell_type": "code",
   "execution_count": 39,
   "id": "79a3b075",
   "metadata": {
    "ExecuteTime": {
     "end_time": "2022-09-16T22:08:17.874323Z",
     "start_time": "2022-09-16T22:08:17.789933Z"
    }
   },
   "outputs": [],
   "source": [
    "X_train, X_test, y_train, y_test = train_test_split(X_under, y_under, test_size=0.3)\n",
    "X_test, X_val, y_test, y_val = train_test_split(X_test, y_test, test_size=0.5)"
   ]
  },
  {
   "cell_type": "code",
   "execution_count": 40,
   "id": "e30755c4",
   "metadata": {
    "ExecuteTime": {
     "end_time": "2022-09-16T22:08:18.553652Z",
     "start_time": "2022-09-16T22:08:18.263393Z"
    }
   },
   "outputs": [],
   "source": [
    "X_train = preprocess_input(X_train) \n",
    "X_val = preprocess_input(X_val)\n",
    "X_test = preprocess_input(X_test)"
   ]
  },
  {
   "cell_type": "code",
   "execution_count": 41,
   "id": "92c45645",
   "metadata": {
    "ExecuteTime": {
     "end_time": "2022-09-16T22:08:18.763932Z",
     "start_time": "2022-09-16T22:08:18.758826Z"
    }
   },
   "outputs": [],
   "source": [
    "def load_xception_model():\n",
    "    \n",
    "    model = Xception(weights='imagenet', include_top=False, input_shape=input_shape, classes=10)\n",
    "    \n",
    "    model.compile(loss='binary_crossentropy',\n",
    "                  optimizer=optimizers.Adam(learning_rate=1e-4),\n",
    "                  metrics=['accuracy'])\n",
    "    \n",
    "    return model\n",
    "\n",
    "def set_nontrainable_layers(model):\n",
    "    \n",
    "    # Set the first layers to be untrainable\n",
    "    model.trainable = False\n",
    "        \n",
    "    return model\n",
    "\n",
    "def add_last_layers(model):\n",
    "    '''Take a pre-trained model, set its parameters as non-trainable, and add additional trainable layers on top'''\n",
    "    base_model = set_nontrainable_layers(model)\n",
    "    rescale_layer = layers.Rescaling(1./255, input_shape=input_shape)\n",
    "    flatten_layer = layers.Flatten()\n",
    "    dense_layer = layers.Dense(500, activation='relu')\n",
    "    prediction_layer = layers.Dense(10, activation='sigmoid')\n",
    "    \n",
    "    model = models.Sequential([\n",
    "        base_model,\n",
    "        rescale_layer,\n",
    "        flatten_layer,\n",
    "        dense_layer,\n",
    "        prediction_layer\n",
    "    ])\n",
    "\n",
    "    return model"
   ]
  },
  {
   "cell_type": "code",
   "execution_count": 42,
   "id": "292395a8",
   "metadata": {
    "ExecuteTime": {
     "end_time": "2022-09-16T22:08:19.685519Z",
     "start_time": "2022-09-16T22:08:19.682041Z"
    }
   },
   "outputs": [],
   "source": [
    "def build_model():\n",
    "\n",
    "    model = load_xception_model()\n",
    "    model = add_last_layers(model)\n",
    "    \n",
    "    model.compile(loss='binary_crossentropy',\n",
    "                  optimizer=optimizers.Adam(learning_rate=1e-4),\n",
    "                  metrics=['accuracy'])\n",
    "    return model"
   ]
  },
  {
   "cell_type": "code",
   "execution_count": 43,
   "id": "19681915",
   "metadata": {
    "ExecuteTime": {
     "end_time": "2022-09-16T22:08:20.066925Z",
     "start_time": "2022-09-16T22:08:20.061744Z"
    }
   },
   "outputs": [],
   "source": [
    "def log_model():\n",
    "    #run = wandb.init(project=“project=\"art_api\", job_type=\"training\")\n",
    "    \n",
    "    with wandb.init(project=\"art_api\") as run:\n",
    "        \n",
    "        baseline_model = wandb.Artifact(\n",
    "            name = \"xception-balanced\",\n",
    "            type=\"model\",\n",
    "            description = \"Xception model on balanced, preprocessed dataset\")\n",
    "    \n",
    "        es = EarlyStopping(monitor = 'val_accuracy', \n",
    "                       mode = 'max', \n",
    "                       patience = 5, \n",
    "                       verbose = 1, \n",
    "                       restore_best_weights = True)\n",
    "        \n",
    "        # Define WandbCallback for experiment tracking\n",
    "        wandb_callback = WandbCallback(monitor='val_loss',\n",
    "                                       log_weights=True,\n",
    "                                       log_evaluation=True,\n",
    "                                       validation_steps=5)\n",
    "\n",
    "        callbacks = [es, wandb_callback]\n",
    "\n",
    "        model = build_model()\n",
    "\n",
    "        model.fit(X_train, y_train,  validation_data=(X_test, y_test),\n",
    "              callbacks=[callbacks], verbose=1, epochs=50)\n",
    "\n",
    "        filename = os.path.join(Path(\"../models\"), \"xception\")\n",
    "        model.save(filename)\n",
    "        \n",
    "        loss, acc = model.evaluate(X_test, y_test)\n",
    "        wandb.log({'evaluate/accuracy': acc})"
   ]
  },
  {
   "cell_type": "code",
   "execution_count": 44,
   "id": "d9ae3f4f",
   "metadata": {
    "ExecuteTime": {
     "end_time": "2022-09-16T22:08:26.237373Z",
     "start_time": "2022-09-16T22:08:22.568095Z"
    },
    "scrolled": true
   },
   "outputs": [
    {
     "name": "stdout",
     "output_type": "stream",
     "text": [
      "Problem at: /tmp/ipykernel_14510/2487830688.py 4 log_model\n"
     ]
    },
    {
     "name": "stderr",
     "output_type": "stream",
     "text": [
      "Traceback (most recent call last):\n",
      "  File \"/home/erniesg/.pyenv/versions/3.8.12/envs/lewagon/lib/python3.8/site-packages/wandb/sdk/wandb_init.py\", line 1076, in init\n",
      "    run = wi.init()\n",
      "  File \"/home/erniesg/.pyenv/versions/3.8.12/envs/lewagon/lib/python3.8/site-packages/wandb/sdk/wandb_init.py\", line 669, in init\n",
      "    backend.interface.publish_header()\n",
      "  File \"/home/erniesg/.pyenv/versions/3.8.12/envs/lewagon/lib/python3.8/site-packages/wandb/sdk/interface/interface.py\", line 94, in publish_header\n",
      "    self._publish_header(header)\n",
      "  File \"/home/erniesg/.pyenv/versions/3.8.12/envs/lewagon/lib/python3.8/site-packages/wandb/sdk/interface/interface_shared.py\", line 264, in _publish_header\n",
      "    self._publish(rec)\n",
      "  File \"/home/erniesg/.pyenv/versions/3.8.12/envs/lewagon/lib/python3.8/site-packages/wandb/sdk/interface/interface_sock.py\", line 51, in _publish\n",
      "    self._sock_client.send_record_publish(record)\n",
      "  File \"/home/erniesg/.pyenv/versions/3.8.12/envs/lewagon/lib/python3.8/site-packages/wandb/sdk/lib/sock_client.py\", line 221, in send_record_publish\n",
      "    self.send_server_request(server_req)\n",
      "  File \"/home/erniesg/.pyenv/versions/3.8.12/envs/lewagon/lib/python3.8/site-packages/wandb/sdk/lib/sock_client.py\", line 155, in send_server_request\n",
      "    self._send_message(msg)\n",
      "  File \"/home/erniesg/.pyenv/versions/3.8.12/envs/lewagon/lib/python3.8/site-packages/wandb/sdk/lib/sock_client.py\", line 152, in _send_message\n",
      "    self._sendall_with_error_handle(header + data)\n",
      "  File \"/home/erniesg/.pyenv/versions/3.8.12/envs/lewagon/lib/python3.8/site-packages/wandb/sdk/lib/sock_client.py\", line 130, in _sendall_with_error_handle\n",
      "    sent = self._sock.send(data)\n",
      "BrokenPipeError: [Errno 32] Broken pipe\n",
      "\u001b[34m\u001b[1mwandb\u001b[0m: \u001b[32m\u001b[41mERROR\u001b[0m Abnormal program exit\n"
     ]
    },
    {
     "ename": "Exception",
     "evalue": "problem",
     "output_type": "error",
     "traceback": [
      "\u001b[0;31m---------------------------------------------------------------------------\u001b[0m",
      "\u001b[0;31mBrokenPipeError\u001b[0m                           Traceback (most recent call last)",
      "File \u001b[0;32m~/.pyenv/versions/3.8.12/envs/lewagon/lib/python3.8/site-packages/wandb/sdk/wandb_init.py:1076\u001b[0m, in \u001b[0;36minit\u001b[0;34m(job_type, dir, config, project, entity, reinit, tags, group, name, notes, magic, config_exclude_keys, config_include_keys, anonymous, mode, allow_val_change, resume, force, tensorboard, sync_tensorboard, monitor_gym, save_code, id, settings)\u001b[0m\n\u001b[1;32m   1075\u001b[0m \u001b[38;5;28;01mtry\u001b[39;00m:\n\u001b[0;32m-> 1076\u001b[0m     run \u001b[38;5;241m=\u001b[39m \u001b[43mwi\u001b[49m\u001b[38;5;241;43m.\u001b[39;49m\u001b[43minit\u001b[49m\u001b[43m(\u001b[49m\u001b[43m)\u001b[49m\n\u001b[1;32m   1077\u001b[0m     except_exit \u001b[38;5;241m=\u001b[39m wi\u001b[38;5;241m.\u001b[39msettings\u001b[38;5;241m.\u001b[39m_except_exit\n",
      "File \u001b[0;32m~/.pyenv/versions/3.8.12/envs/lewagon/lib/python3.8/site-packages/wandb/sdk/wandb_init.py:669\u001b[0m, in \u001b[0;36m_WandbInit.init\u001b[0;34m(self)\u001b[0m\n\u001b[1;32m    668\u001b[0m \u001b[38;5;28;01massert\u001b[39;00m backend\u001b[38;5;241m.\u001b[39minterface\n\u001b[0;32m--> 669\u001b[0m \u001b[43mbackend\u001b[49m\u001b[38;5;241;43m.\u001b[39;49m\u001b[43minterface\u001b[49m\u001b[38;5;241;43m.\u001b[39;49m\u001b[43mpublish_header\u001b[49m\u001b[43m(\u001b[49m\u001b[43m)\u001b[49m\n\u001b[1;32m    671\u001b[0m \u001b[38;5;66;03m# Using GitRepo() blocks & can be slow, depending on user's current git setup.\u001b[39;00m\n\u001b[1;32m    672\u001b[0m \u001b[38;5;66;03m# We don't want to block run initialization/start request, so populate run's git\u001b[39;00m\n\u001b[1;32m    673\u001b[0m \u001b[38;5;66;03m# info beforehand.\u001b[39;00m\n",
      "File \u001b[0;32m~/.pyenv/versions/3.8.12/envs/lewagon/lib/python3.8/site-packages/wandb/sdk/interface/interface.py:94\u001b[0m, in \u001b[0;36mInterfaceBase.publish_header\u001b[0;34m(self)\u001b[0m\n\u001b[1;32m     93\u001b[0m header \u001b[38;5;241m=\u001b[39m pb\u001b[38;5;241m.\u001b[39mHeaderRecord()\n\u001b[0;32m---> 94\u001b[0m \u001b[38;5;28;43mself\u001b[39;49m\u001b[38;5;241;43m.\u001b[39;49m\u001b[43m_publish_header\u001b[49m\u001b[43m(\u001b[49m\u001b[43mheader\u001b[49m\u001b[43m)\u001b[49m\n",
      "File \u001b[0;32m~/.pyenv/versions/3.8.12/envs/lewagon/lib/python3.8/site-packages/wandb/sdk/interface/interface_shared.py:264\u001b[0m, in \u001b[0;36mInterfaceShared._publish_header\u001b[0;34m(self, header)\u001b[0m\n\u001b[1;32m    263\u001b[0m rec \u001b[38;5;241m=\u001b[39m \u001b[38;5;28mself\u001b[39m\u001b[38;5;241m.\u001b[39m_make_record(header\u001b[38;5;241m=\u001b[39mheader)\n\u001b[0;32m--> 264\u001b[0m \u001b[38;5;28;43mself\u001b[39;49m\u001b[38;5;241;43m.\u001b[39;49m\u001b[43m_publish\u001b[49m\u001b[43m(\u001b[49m\u001b[43mrec\u001b[49m\u001b[43m)\u001b[49m\n",
      "File \u001b[0;32m~/.pyenv/versions/3.8.12/envs/lewagon/lib/python3.8/site-packages/wandb/sdk/interface/interface_sock.py:51\u001b[0m, in \u001b[0;36mInterfaceSock._publish\u001b[0;34m(self, record, local)\u001b[0m\n\u001b[1;32m     50\u001b[0m \u001b[38;5;28mself\u001b[39m\u001b[38;5;241m.\u001b[39m_assign(record)\n\u001b[0;32m---> 51\u001b[0m \u001b[38;5;28;43mself\u001b[39;49m\u001b[38;5;241;43m.\u001b[39;49m\u001b[43m_sock_client\u001b[49m\u001b[38;5;241;43m.\u001b[39;49m\u001b[43msend_record_publish\u001b[49m\u001b[43m(\u001b[49m\u001b[43mrecord\u001b[49m\u001b[43m)\u001b[49m\n",
      "File \u001b[0;32m~/.pyenv/versions/3.8.12/envs/lewagon/lib/python3.8/site-packages/wandb/sdk/lib/sock_client.py:221\u001b[0m, in \u001b[0;36mSockClient.send_record_publish\u001b[0;34m(self, record)\u001b[0m\n\u001b[1;32m    220\u001b[0m server_req\u001b[38;5;241m.\u001b[39mrecord_publish\u001b[38;5;241m.\u001b[39mCopyFrom(record)\n\u001b[0;32m--> 221\u001b[0m \u001b[38;5;28;43mself\u001b[39;49m\u001b[38;5;241;43m.\u001b[39;49m\u001b[43msend_server_request\u001b[49m\u001b[43m(\u001b[49m\u001b[43mserver_req\u001b[49m\u001b[43m)\u001b[49m\n",
      "File \u001b[0;32m~/.pyenv/versions/3.8.12/envs/lewagon/lib/python3.8/site-packages/wandb/sdk/lib/sock_client.py:155\u001b[0m, in \u001b[0;36mSockClient.send_server_request\u001b[0;34m(self, msg)\u001b[0m\n\u001b[1;32m    154\u001b[0m \u001b[38;5;28;01mdef\u001b[39;00m \u001b[38;5;21msend_server_request\u001b[39m(\u001b[38;5;28mself\u001b[39m, msg: Any) \u001b[38;5;241m-\u001b[39m\u001b[38;5;241m>\u001b[39m \u001b[38;5;28;01mNone\u001b[39;00m:\n\u001b[0;32m--> 155\u001b[0m     \u001b[38;5;28;43mself\u001b[39;49m\u001b[38;5;241;43m.\u001b[39;49m\u001b[43m_send_message\u001b[49m\u001b[43m(\u001b[49m\u001b[43mmsg\u001b[49m\u001b[43m)\u001b[49m\n",
      "File \u001b[0;32m~/.pyenv/versions/3.8.12/envs/lewagon/lib/python3.8/site-packages/wandb/sdk/lib/sock_client.py:152\u001b[0m, in \u001b[0;36mSockClient._send_message\u001b[0;34m(self, msg)\u001b[0m\n\u001b[1;32m    151\u001b[0m \u001b[38;5;28;01mwith\u001b[39;00m \u001b[38;5;28mself\u001b[39m\u001b[38;5;241m.\u001b[39m_lock:\n\u001b[0;32m--> 152\u001b[0m     \u001b[38;5;28;43mself\u001b[39;49m\u001b[38;5;241;43m.\u001b[39;49m\u001b[43m_sendall_with_error_handle\u001b[49m\u001b[43m(\u001b[49m\u001b[43mheader\u001b[49m\u001b[43m \u001b[49m\u001b[38;5;241;43m+\u001b[39;49m\u001b[43m \u001b[49m\u001b[43mdata\u001b[49m\u001b[43m)\u001b[49m\n",
      "File \u001b[0;32m~/.pyenv/versions/3.8.12/envs/lewagon/lib/python3.8/site-packages/wandb/sdk/lib/sock_client.py:130\u001b[0m, in \u001b[0;36mSockClient._sendall_with_error_handle\u001b[0;34m(self, data)\u001b[0m\n\u001b[1;32m    129\u001b[0m \u001b[38;5;28;01mtry\u001b[39;00m:\n\u001b[0;32m--> 130\u001b[0m     sent \u001b[38;5;241m=\u001b[39m \u001b[38;5;28;43mself\u001b[39;49m\u001b[38;5;241;43m.\u001b[39;49m\u001b[43m_sock\u001b[49m\u001b[38;5;241;43m.\u001b[39;49m\u001b[43msend\u001b[49m\u001b[43m(\u001b[49m\u001b[43mdata\u001b[49m\u001b[43m)\u001b[49m\n\u001b[1;32m    131\u001b[0m     \u001b[38;5;66;03m# sent equal to 0 indicates a closed socket\u001b[39;00m\n",
      "\u001b[0;31mBrokenPipeError\u001b[0m: [Errno 32] Broken pipe",
      "\nThe above exception was the direct cause of the following exception:\n",
      "\u001b[0;31mException\u001b[0m                                 Traceback (most recent call last)",
      "Input \u001b[0;32mIn [44]\u001b[0m, in \u001b[0;36m<cell line: 1>\u001b[0;34m()\u001b[0m\n\u001b[0;32m----> 1\u001b[0m \u001b[43mlog_model\u001b[49m\u001b[43m(\u001b[49m\u001b[43m)\u001b[49m\n",
      "Input \u001b[0;32mIn [43]\u001b[0m, in \u001b[0;36mlog_model\u001b[0;34m()\u001b[0m\n\u001b[1;32m      1\u001b[0m \u001b[38;5;28;01mdef\u001b[39;00m \u001b[38;5;21mlog_model\u001b[39m():\n\u001b[1;32m      2\u001b[0m     \u001b[38;5;66;03m#run = wandb.init(project=“project=\"art_api\", job_type=\"training\")\u001b[39;00m\n\u001b[0;32m----> 4\u001b[0m     \u001b[38;5;28;01mwith\u001b[39;00m \u001b[43mwandb\u001b[49m\u001b[38;5;241;43m.\u001b[39;49m\u001b[43minit\u001b[49m\u001b[43m(\u001b[49m\u001b[43mproject\u001b[49m\u001b[38;5;241;43m=\u001b[39;49m\u001b[38;5;124;43m\"\u001b[39;49m\u001b[38;5;124;43mart_api\u001b[39;49m\u001b[38;5;124;43m\"\u001b[39;49m\u001b[43m)\u001b[49m \u001b[38;5;28;01mas\u001b[39;00m run:\n\u001b[1;32m      6\u001b[0m         baseline_model \u001b[38;5;241m=\u001b[39m wandb\u001b[38;5;241m.\u001b[39mArtifact(\n\u001b[1;32m      7\u001b[0m             name \u001b[38;5;241m=\u001b[39m \u001b[38;5;124m\"\u001b[39m\u001b[38;5;124mxception-balanced\u001b[39m\u001b[38;5;124m\"\u001b[39m,\n\u001b[1;32m      8\u001b[0m             \u001b[38;5;28mtype\u001b[39m\u001b[38;5;241m=\u001b[39m\u001b[38;5;124m\"\u001b[39m\u001b[38;5;124mmodel\u001b[39m\u001b[38;5;124m\"\u001b[39m,\n\u001b[1;32m      9\u001b[0m             description \u001b[38;5;241m=\u001b[39m \u001b[38;5;124m\"\u001b[39m\u001b[38;5;124mXception model on balanced, preprocessed dataset\u001b[39m\u001b[38;5;124m\"\u001b[39m)\n\u001b[1;32m     11\u001b[0m         es \u001b[38;5;241m=\u001b[39m EarlyStopping(monitor \u001b[38;5;241m=\u001b[39m \u001b[38;5;124m'\u001b[39m\u001b[38;5;124mval_accuracy\u001b[39m\u001b[38;5;124m'\u001b[39m, \n\u001b[1;32m     12\u001b[0m                        mode \u001b[38;5;241m=\u001b[39m \u001b[38;5;124m'\u001b[39m\u001b[38;5;124mmax\u001b[39m\u001b[38;5;124m'\u001b[39m, \n\u001b[1;32m     13\u001b[0m                        patience \u001b[38;5;241m=\u001b[39m \u001b[38;5;241m5\u001b[39m, \n\u001b[1;32m     14\u001b[0m                        verbose \u001b[38;5;241m=\u001b[39m \u001b[38;5;241m1\u001b[39m, \n\u001b[1;32m     15\u001b[0m                        restore_best_weights \u001b[38;5;241m=\u001b[39m \u001b[38;5;28;01mTrue\u001b[39;00m)\n",
      "File \u001b[0;32m~/.pyenv/versions/3.8.12/envs/lewagon/lib/python3.8/site-packages/wandb/sdk/wandb_init.py:1114\u001b[0m, in \u001b[0;36minit\u001b[0;34m(job_type, dir, config, project, entity, reinit, tags, group, name, notes, magic, config_exclude_keys, config_include_keys, anonymous, mode, allow_val_change, resume, force, tensorboard, sync_tensorboard, monitor_gym, save_code, id, settings)\u001b[0m\n\u001b[1;32m   1112\u001b[0m         \u001b[38;5;28;01mif\u001b[39;00m except_exit:\n\u001b[1;32m   1113\u001b[0m             os\u001b[38;5;241m.\u001b[39m_exit(\u001b[38;5;241m-\u001b[39m\u001b[38;5;241m1\u001b[39m)\n\u001b[0;32m-> 1114\u001b[0m         \u001b[38;5;28;01mraise\u001b[39;00m \u001b[38;5;167;01mException\u001b[39;00m(\u001b[38;5;124m\"\u001b[39m\u001b[38;5;124mproblem\u001b[39m\u001b[38;5;124m\"\u001b[39m) \u001b[38;5;28;01mfrom\u001b[39;00m \u001b[38;5;21;01merror_seen\u001b[39;00m\n\u001b[1;32m   1115\u001b[0m \u001b[38;5;28;01mreturn\u001b[39;00m run\n",
      "\u001b[0;31mException\u001b[0m: problem"
     ]
    }
   ],
   "source": [
    "log_model()"
   ]
  },
  {
   "cell_type": "code",
   "execution_count": null,
   "id": "173967de",
   "metadata": {},
   "outputs": [],
   "source": []
  },
  {
   "cell_type": "code",
   "execution_count": 72,
   "id": "9714064a",
   "metadata": {
    "ExecuteTime": {
     "end_time": "2022-09-11T16:32:49.424557Z",
     "start_time": "2022-09-11T16:32:49.420906Z"
    }
   },
   "outputs": [],
   "source": [
    "def sample_together(n, X, y):\n",
    "    X = X.sample(n)\n",
    "    return X, y.iloc[X.index]\n",
    "df_test, y_test = sample_together(195, df_bird, y)"
   ]
  },
  {
   "cell_type": "code",
   "execution_count": 76,
   "id": "dea4bb54",
   "metadata": {
    "ExecuteTime": {
     "end_time": "2022-09-11T16:37:47.341007Z",
     "start_time": "2022-09-11T16:37:47.332463Z"
    }
   },
   "outputs": [
    {
     "data": {
      "text/html": [
       "<div>\n",
       "<style scoped>\n",
       "    .dataframe tbody tr th:only-of-type {\n",
       "        vertical-align: middle;\n",
       "    }\n",
       "\n",
       "    .dataframe tbody tr th {\n",
       "        vertical-align: top;\n",
       "    }\n",
       "\n",
       "    .dataframe thead th {\n",
       "        text-align: right;\n",
       "    }\n",
       "</style>\n",
       "<table border=\"1\" class=\"dataframe\">\n",
       "  <thead>\n",
       "    <tr style=\"text-align: right;\">\n",
       "      <th></th>\n",
       "      <th>aeroplane</th>\n",
       "      <th>bird</th>\n",
       "      <th>boat</th>\n",
       "      <th>chair</th>\n",
       "      <th>cow</th>\n",
       "      <th>diningtable</th>\n",
       "      <th>dog</th>\n",
       "      <th>horse</th>\n",
       "      <th>sheep</th>\n",
       "      <th>train</th>\n",
       "    </tr>\n",
       "  </thead>\n",
       "  <tbody>\n",
       "    <tr>\n",
       "      <th>6166</th>\n",
       "      <td>0</td>\n",
       "      <td>1</td>\n",
       "      <td>0</td>\n",
       "      <td>0</td>\n",
       "      <td>0</td>\n",
       "      <td>0</td>\n",
       "      <td>0</td>\n",
       "      <td>0</td>\n",
       "      <td>0</td>\n",
       "      <td>0</td>\n",
       "    </tr>\n",
       "    <tr>\n",
       "      <th>3144</th>\n",
       "      <td>0</td>\n",
       "      <td>1</td>\n",
       "      <td>0</td>\n",
       "      <td>0</td>\n",
       "      <td>0</td>\n",
       "      <td>0</td>\n",
       "      <td>0</td>\n",
       "      <td>0</td>\n",
       "      <td>0</td>\n",
       "      <td>0</td>\n",
       "    </tr>\n",
       "    <tr>\n",
       "      <th>348</th>\n",
       "      <td>0</td>\n",
       "      <td>1</td>\n",
       "      <td>0</td>\n",
       "      <td>0</td>\n",
       "      <td>0</td>\n",
       "      <td>0</td>\n",
       "      <td>0</td>\n",
       "      <td>0</td>\n",
       "      <td>0</td>\n",
       "      <td>0</td>\n",
       "    </tr>\n",
       "    <tr>\n",
       "      <th>7841</th>\n",
       "      <td>0</td>\n",
       "      <td>1</td>\n",
       "      <td>0</td>\n",
       "      <td>0</td>\n",
       "      <td>0</td>\n",
       "      <td>0</td>\n",
       "      <td>0</td>\n",
       "      <td>0</td>\n",
       "      <td>0</td>\n",
       "      <td>0</td>\n",
       "    </tr>\n",
       "    <tr>\n",
       "      <th>3869</th>\n",
       "      <td>0</td>\n",
       "      <td>1</td>\n",
       "      <td>0</td>\n",
       "      <td>0</td>\n",
       "      <td>1</td>\n",
       "      <td>0</td>\n",
       "      <td>0</td>\n",
       "      <td>0</td>\n",
       "      <td>0</td>\n",
       "      <td>0</td>\n",
       "    </tr>\n",
       "    <tr>\n",
       "      <th>...</th>\n",
       "      <td>...</td>\n",
       "      <td>...</td>\n",
       "      <td>...</td>\n",
       "      <td>...</td>\n",
       "      <td>...</td>\n",
       "      <td>...</td>\n",
       "      <td>...</td>\n",
       "      <td>...</td>\n",
       "      <td>...</td>\n",
       "      <td>...</td>\n",
       "    </tr>\n",
       "    <tr>\n",
       "      <th>1386</th>\n",
       "      <td>0</td>\n",
       "      <td>1</td>\n",
       "      <td>0</td>\n",
       "      <td>0</td>\n",
       "      <td>0</td>\n",
       "      <td>0</td>\n",
       "      <td>0</td>\n",
       "      <td>0</td>\n",
       "      <td>0</td>\n",
       "      <td>0</td>\n",
       "    </tr>\n",
       "    <tr>\n",
       "      <th>932</th>\n",
       "      <td>0</td>\n",
       "      <td>1</td>\n",
       "      <td>0</td>\n",
       "      <td>0</td>\n",
       "      <td>0</td>\n",
       "      <td>0</td>\n",
       "      <td>0</td>\n",
       "      <td>0</td>\n",
       "      <td>0</td>\n",
       "      <td>0</td>\n",
       "    </tr>\n",
       "    <tr>\n",
       "      <th>5279</th>\n",
       "      <td>0</td>\n",
       "      <td>1</td>\n",
       "      <td>0</td>\n",
       "      <td>0</td>\n",
       "      <td>0</td>\n",
       "      <td>0</td>\n",
       "      <td>0</td>\n",
       "      <td>0</td>\n",
       "      <td>0</td>\n",
       "      <td>0</td>\n",
       "    </tr>\n",
       "    <tr>\n",
       "      <th>2751</th>\n",
       "      <td>0</td>\n",
       "      <td>1</td>\n",
       "      <td>0</td>\n",
       "      <td>0</td>\n",
       "      <td>0</td>\n",
       "      <td>0</td>\n",
       "      <td>0</td>\n",
       "      <td>0</td>\n",
       "      <td>0</td>\n",
       "      <td>0</td>\n",
       "    </tr>\n",
       "    <tr>\n",
       "      <th>2067</th>\n",
       "      <td>0</td>\n",
       "      <td>1</td>\n",
       "      <td>0</td>\n",
       "      <td>0</td>\n",
       "      <td>0</td>\n",
       "      <td>0</td>\n",
       "      <td>1</td>\n",
       "      <td>0</td>\n",
       "      <td>0</td>\n",
       "      <td>0</td>\n",
       "    </tr>\n",
       "  </tbody>\n",
       "</table>\n",
       "<p>195 rows × 10 columns</p>\n",
       "</div>"
      ],
      "text/plain": [
       "      aeroplane  bird  boat  chair  cow  diningtable  dog  horse  sheep  train\n",
       "6166          0     1     0      0    0            0    0      0      0      0\n",
       "3144          0     1     0      0    0            0    0      0      0      0\n",
       "348           0     1     0      0    0            0    0      0      0      0\n",
       "7841          0     1     0      0    0            0    0      0      0      0\n",
       "3869          0     1     0      0    1            0    0      0      0      0\n",
       "...         ...   ...   ...    ...  ...          ...  ...    ...    ...    ...\n",
       "1386          0     1     0      0    0            0    0      0      0      0\n",
       "932           0     1     0      0    0            0    0      0      0      0\n",
       "5279          0     1     0      0    0            0    0      0      0      0\n",
       "2751          0     1     0      0    0            0    0      0      0      0\n",
       "2067          0     1     0      0    0            0    1      0      0      0\n",
       "\n",
       "[195 rows x 10 columns]"
      ]
     },
     "execution_count": 76,
     "metadata": {},
     "output_type": "execute_result"
    }
   ],
   "source": [
    "df_test"
   ]
  },
  {
   "cell_type": "code",
   "execution_count": 77,
   "id": "cf33c3dd",
   "metadata": {
    "ExecuteTime": {
     "end_time": "2022-09-11T16:37:48.840726Z",
     "start_time": "2022-09-11T16:37:48.832276Z"
    }
   },
   "outputs": [
    {
     "data": {
      "text/html": [
       "<div>\n",
       "<style scoped>\n",
       "    .dataframe tbody tr th:only-of-type {\n",
       "        vertical-align: middle;\n",
       "    }\n",
       "\n",
       "    .dataframe tbody tr th {\n",
       "        vertical-align: top;\n",
       "    }\n",
       "\n",
       "    .dataframe thead th {\n",
       "        text-align: right;\n",
       "    }\n",
       "</style>\n",
       "<table border=\"1\" class=\"dataframe\">\n",
       "  <thead>\n",
       "    <tr style=\"text-align: right;\">\n",
       "      <th></th>\n",
       "      <th>aeroplane</th>\n",
       "      <th>bird</th>\n",
       "      <th>boat</th>\n",
       "      <th>chair</th>\n",
       "      <th>cow</th>\n",
       "      <th>diningtable</th>\n",
       "      <th>dog</th>\n",
       "      <th>horse</th>\n",
       "      <th>sheep</th>\n",
       "      <th>train</th>\n",
       "    </tr>\n",
       "  </thead>\n",
       "  <tbody>\n",
       "    <tr>\n",
       "      <th>17</th>\n",
       "      <td>0</td>\n",
       "      <td>1</td>\n",
       "      <td>0</td>\n",
       "      <td>0</td>\n",
       "      <td>0</td>\n",
       "      <td>0</td>\n",
       "      <td>1</td>\n",
       "      <td>0</td>\n",
       "      <td>0</td>\n",
       "      <td>0</td>\n",
       "    </tr>\n",
       "    <tr>\n",
       "      <th>18</th>\n",
       "      <td>0</td>\n",
       "      <td>1</td>\n",
       "      <td>0</td>\n",
       "      <td>0</td>\n",
       "      <td>0</td>\n",
       "      <td>0</td>\n",
       "      <td>0</td>\n",
       "      <td>0</td>\n",
       "      <td>0</td>\n",
       "      <td>0</td>\n",
       "    </tr>\n",
       "    <tr>\n",
       "      <th>40</th>\n",
       "      <td>0</td>\n",
       "      <td>1</td>\n",
       "      <td>0</td>\n",
       "      <td>0</td>\n",
       "      <td>0</td>\n",
       "      <td>0</td>\n",
       "      <td>0</td>\n",
       "      <td>0</td>\n",
       "      <td>0</td>\n",
       "      <td>0</td>\n",
       "    </tr>\n",
       "    <tr>\n",
       "      <th>41</th>\n",
       "      <td>0</td>\n",
       "      <td>1</td>\n",
       "      <td>0</td>\n",
       "      <td>0</td>\n",
       "      <td>0</td>\n",
       "      <td>0</td>\n",
       "      <td>0</td>\n",
       "      <td>0</td>\n",
       "      <td>0</td>\n",
       "      <td>0</td>\n",
       "    </tr>\n",
       "    <tr>\n",
       "      <th>42</th>\n",
       "      <td>0</td>\n",
       "      <td>1</td>\n",
       "      <td>0</td>\n",
       "      <td>0</td>\n",
       "      <td>0</td>\n",
       "      <td>0</td>\n",
       "      <td>0</td>\n",
       "      <td>0</td>\n",
       "      <td>0</td>\n",
       "      <td>0</td>\n",
       "    </tr>\n",
       "    <tr>\n",
       "      <th>...</th>\n",
       "      <td>...</td>\n",
       "      <td>...</td>\n",
       "      <td>...</td>\n",
       "      <td>...</td>\n",
       "      <td>...</td>\n",
       "      <td>...</td>\n",
       "      <td>...</td>\n",
       "      <td>...</td>\n",
       "      <td>...</td>\n",
       "      <td>...</td>\n",
       "    </tr>\n",
       "    <tr>\n",
       "      <th>8282</th>\n",
       "      <td>0</td>\n",
       "      <td>1</td>\n",
       "      <td>0</td>\n",
       "      <td>0</td>\n",
       "      <td>0</td>\n",
       "      <td>0</td>\n",
       "      <td>0</td>\n",
       "      <td>0</td>\n",
       "      <td>0</td>\n",
       "      <td>0</td>\n",
       "    </tr>\n",
       "    <tr>\n",
       "      <th>8283</th>\n",
       "      <td>0</td>\n",
       "      <td>1</td>\n",
       "      <td>1</td>\n",
       "      <td>0</td>\n",
       "      <td>0</td>\n",
       "      <td>0</td>\n",
       "      <td>0</td>\n",
       "      <td>0</td>\n",
       "      <td>0</td>\n",
       "      <td>0</td>\n",
       "    </tr>\n",
       "    <tr>\n",
       "      <th>8293</th>\n",
       "      <td>0</td>\n",
       "      <td>1</td>\n",
       "      <td>0</td>\n",
       "      <td>0</td>\n",
       "      <td>0</td>\n",
       "      <td>0</td>\n",
       "      <td>0</td>\n",
       "      <td>0</td>\n",
       "      <td>0</td>\n",
       "      <td>0</td>\n",
       "    </tr>\n",
       "    <tr>\n",
       "      <th>8294</th>\n",
       "      <td>0</td>\n",
       "      <td>1</td>\n",
       "      <td>0</td>\n",
       "      <td>0</td>\n",
       "      <td>0</td>\n",
       "      <td>0</td>\n",
       "      <td>0</td>\n",
       "      <td>0</td>\n",
       "      <td>0</td>\n",
       "      <td>0</td>\n",
       "    </tr>\n",
       "    <tr>\n",
       "      <th>8295</th>\n",
       "      <td>0</td>\n",
       "      <td>1</td>\n",
       "      <td>0</td>\n",
       "      <td>0</td>\n",
       "      <td>0</td>\n",
       "      <td>0</td>\n",
       "      <td>0</td>\n",
       "      <td>0</td>\n",
       "      <td>0</td>\n",
       "      <td>0</td>\n",
       "    </tr>\n",
       "  </tbody>\n",
       "</table>\n",
       "<p>781 rows × 10 columns</p>\n",
       "</div>"
      ],
      "text/plain": [
       "      aeroplane  bird  boat  chair  cow  diningtable  dog  horse  sheep  train\n",
       "17            0     1     0      0    0            0    1      0      0      0\n",
       "18            0     1     0      0    0            0    0      0      0      0\n",
       "40            0     1     0      0    0            0    0      0      0      0\n",
       "41            0     1     0      0    0            0    0      0      0      0\n",
       "42            0     1     0      0    0            0    0      0      0      0\n",
       "...         ...   ...   ...    ...  ...          ...  ...    ...    ...    ...\n",
       "8282          0     1     0      0    0            0    0      0      0      0\n",
       "8283          0     1     1      0    0            0    0      0      0      0\n",
       "8293          0     1     0      0    0            0    0      0      0      0\n",
       "8294          0     1     0      0    0            0    0      0      0      0\n",
       "8295          0     1     0      0    0            0    0      0      0      0\n",
       "\n",
       "[781 rows x 10 columns]"
      ]
     },
     "execution_count": 77,
     "metadata": {},
     "output_type": "execute_result"
    }
   ],
   "source": [
    "y_test"
   ]
  },
  {
   "cell_type": "code",
   "execution_count": 59,
   "id": "463fa1e8",
   "metadata": {
    "ExecuteTime": {
     "end_time": "2022-09-11T16:30:04.304208Z",
     "start_time": "2022-09-11T16:30:04.298873Z"
    }
   },
   "outputs": [],
   "source": [
    "sample_bird = df_bird.sample(undersample_num)\n",
    "y_bird = y.iloc[sample_bird.index]"
   ]
  },
  {
   "cell_type": "code",
   "execution_count": 61,
   "id": "e7eefab1",
   "metadata": {
    "ExecuteTime": {
     "end_time": "2022-09-11T16:30:16.564505Z",
     "start_time": "2022-09-11T16:30:16.559587Z"
    }
   },
   "outputs": [
    {
     "data": {
      "text/plain": [
       "RangeIndex(start=0, stop=8296, step=1)"
      ]
     },
     "execution_count": 61,
     "metadata": {},
     "output_type": "execute_result"
    }
   ],
   "source": [
    "y.index"
   ]
  },
  {
   "cell_type": "code",
   "execution_count": null,
   "id": "142fd54e",
   "metadata": {},
   "outputs": [],
   "source": [
    "df = df.sample(1000)\n",
    "target = target[df.index,]"
   ]
  },
  {
   "cell_type": "code",
   "execution_count": 58,
   "id": "be1f400a",
   "metadata": {
    "ExecuteTime": {
     "end_time": "2022-09-11T16:28:55.344277Z",
     "start_time": "2022-09-11T16:28:55.330516Z"
    }
   },
   "outputs": [
    {
     "data": {
      "text/html": [
       "<div>\n",
       "<style scoped>\n",
       "    .dataframe tbody tr th:only-of-type {\n",
       "        vertical-align: middle;\n",
       "    }\n",
       "\n",
       "    .dataframe tbody tr th {\n",
       "        vertical-align: top;\n",
       "    }\n",
       "\n",
       "    .dataframe thead th {\n",
       "        text-align: right;\n",
       "    }\n",
       "</style>\n",
       "<table border=\"1\" class=\"dataframe\">\n",
       "  <thead>\n",
       "    <tr style=\"text-align: right;\">\n",
       "      <th></th>\n",
       "      <th>aeroplane</th>\n",
       "      <th>bird</th>\n",
       "      <th>boat</th>\n",
       "      <th>chair</th>\n",
       "      <th>cow</th>\n",
       "      <th>diningtable</th>\n",
       "      <th>dog</th>\n",
       "      <th>horse</th>\n",
       "      <th>sheep</th>\n",
       "      <th>train</th>\n",
       "    </tr>\n",
       "  </thead>\n",
       "  <tbody>\n",
       "    <tr>\n",
       "      <th>55</th>\n",
       "      <td>0</td>\n",
       "      <td>0</td>\n",
       "      <td>1</td>\n",
       "      <td>0</td>\n",
       "      <td>0</td>\n",
       "      <td>0</td>\n",
       "      <td>0</td>\n",
       "      <td>0</td>\n",
       "      <td>0</td>\n",
       "      <td>0</td>\n",
       "    </tr>\n",
       "    <tr>\n",
       "      <th>359</th>\n",
       "      <td>0</td>\n",
       "      <td>0</td>\n",
       "      <td>0</td>\n",
       "      <td>0</td>\n",
       "      <td>0</td>\n",
       "      <td>0</td>\n",
       "      <td>0</td>\n",
       "      <td>0</td>\n",
       "      <td>1</td>\n",
       "      <td>0</td>\n",
       "    </tr>\n",
       "    <tr>\n",
       "      <th>680</th>\n",
       "      <td>0</td>\n",
       "      <td>0</td>\n",
       "      <td>0</td>\n",
       "      <td>1</td>\n",
       "      <td>0</td>\n",
       "      <td>1</td>\n",
       "      <td>0</td>\n",
       "      <td>0</td>\n",
       "      <td>0</td>\n",
       "      <td>0</td>\n",
       "    </tr>\n",
       "    <tr>\n",
       "      <th>452</th>\n",
       "      <td>0</td>\n",
       "      <td>0</td>\n",
       "      <td>0</td>\n",
       "      <td>0</td>\n",
       "      <td>0</td>\n",
       "      <td>0</td>\n",
       "      <td>1</td>\n",
       "      <td>0</td>\n",
       "      <td>0</td>\n",
       "      <td>0</td>\n",
       "    </tr>\n",
       "    <tr>\n",
       "      <th>129</th>\n",
       "      <td>0</td>\n",
       "      <td>0</td>\n",
       "      <td>0</td>\n",
       "      <td>1</td>\n",
       "      <td>0</td>\n",
       "      <td>0</td>\n",
       "      <td>0</td>\n",
       "      <td>0</td>\n",
       "      <td>0</td>\n",
       "      <td>0</td>\n",
       "    </tr>\n",
       "    <tr>\n",
       "      <th>...</th>\n",
       "      <td>...</td>\n",
       "      <td>...</td>\n",
       "      <td>...</td>\n",
       "      <td>...</td>\n",
       "      <td>...</td>\n",
       "      <td>...</td>\n",
       "      <td>...</td>\n",
       "      <td>...</td>\n",
       "      <td>...</td>\n",
       "      <td>...</td>\n",
       "    </tr>\n",
       "    <tr>\n",
       "      <th>485</th>\n",
       "      <td>0</td>\n",
       "      <td>0</td>\n",
       "      <td>1</td>\n",
       "      <td>0</td>\n",
       "      <td>0</td>\n",
       "      <td>0</td>\n",
       "      <td>0</td>\n",
       "      <td>0</td>\n",
       "      <td>0</td>\n",
       "      <td>0</td>\n",
       "    </tr>\n",
       "    <tr>\n",
       "      <th>534</th>\n",
       "      <td>0</td>\n",
       "      <td>0</td>\n",
       "      <td>0</td>\n",
       "      <td>0</td>\n",
       "      <td>0</td>\n",
       "      <td>0</td>\n",
       "      <td>0</td>\n",
       "      <td>0</td>\n",
       "      <td>1</td>\n",
       "      <td>0</td>\n",
       "    </tr>\n",
       "    <tr>\n",
       "      <th>701</th>\n",
       "      <td>0</td>\n",
       "      <td>0</td>\n",
       "      <td>0</td>\n",
       "      <td>0</td>\n",
       "      <td>1</td>\n",
       "      <td>0</td>\n",
       "      <td>0</td>\n",
       "      <td>0</td>\n",
       "      <td>0</td>\n",
       "      <td>0</td>\n",
       "    </tr>\n",
       "    <tr>\n",
       "      <th>77</th>\n",
       "      <td>0</td>\n",
       "      <td>0</td>\n",
       "      <td>1</td>\n",
       "      <td>0</td>\n",
       "      <td>0</td>\n",
       "      <td>0</td>\n",
       "      <td>0</td>\n",
       "      <td>0</td>\n",
       "      <td>0</td>\n",
       "      <td>0</td>\n",
       "    </tr>\n",
       "    <tr>\n",
       "      <th>15</th>\n",
       "      <td>0</td>\n",
       "      <td>0</td>\n",
       "      <td>0</td>\n",
       "      <td>1</td>\n",
       "      <td>0</td>\n",
       "      <td>1</td>\n",
       "      <td>1</td>\n",
       "      <td>0</td>\n",
       "      <td>0</td>\n",
       "      <td>0</td>\n",
       "    </tr>\n",
       "  </tbody>\n",
       "</table>\n",
       "<p>195 rows × 10 columns</p>\n",
       "</div>"
      ],
      "text/plain": [
       "     aeroplane  bird  boat  chair  cow  diningtable  dog  horse  sheep  train\n",
       "55           0     0     1      0    0            0    0      0      0      0\n",
       "359          0     0     0      0    0            0    0      0      1      0\n",
       "680          0     0     0      1    0            1    0      0      0      0\n",
       "452          0     0     0      0    0            0    1      0      0      0\n",
       "129          0     0     0      1    0            0    0      0      0      0\n",
       "..         ...   ...   ...    ...  ...          ...  ...    ...    ...    ...\n",
       "485          0     0     1      0    0            0    0      0      0      0\n",
       "534          0     0     0      0    0            0    0      0      1      0\n",
       "701          0     0     0      0    1            0    0      0      0      0\n",
       "77           0     0     1      0    0            0    0      0      0      0\n",
       "15           0     0     0      1    0            1    1      0      0      0\n",
       "\n",
       "[195 rows x 10 columns]"
      ]
     },
     "execution_count": 58,
     "metadata": {},
     "output_type": "execute_result"
    }
   ],
   "source": [
    "y_test"
   ]
  },
  {
   "cell_type": "code",
   "execution_count": null,
   "id": "7a0f0bc2",
   "metadata": {},
   "outputs": [],
   "source": [
    "def sample_together(195, X, y):\n",
    "    rows = random.sample(np.arange(0,len(X.index)).tolist(),n)\n",
    "    return X.iloc[rows,], y.iloc[rows,]\n",
    "  \n",
    "df_sample, target_sample = sample_together(195, df, target)"
   ]
  },
  {
   "cell_type": "code",
   "execution_count": null,
   "id": "13467a8b",
   "metadata": {},
   "outputs": [],
   "source": [
    "def sample_together(n, args):\n",
    "    rows = random.sample(np.arange(0,len(X.index)).tolist(),n)\n",
    "    return tuple(arg.iloc[rows,] for arg in args)\n",
    "\n",
    "df_sample, target_sample, target2_sample = sample_together(2, [df, target, target2])"
   ]
  },
  {
   "cell_type": "code",
   "execution_count": 46,
   "id": "e24df748",
   "metadata": {
    "ExecuteTime": {
     "end_time": "2022-09-11T16:22:13.198657Z",
     "start_time": "2022-09-11T16:22:13.192975Z"
    }
   },
   "outputs": [],
   "source": [
    "sample_bird = df_bird.sample(undersample_num)\n",
    "y_bird = y.iloc[sample_bird.index]"
   ]
  },
  {
   "cell_type": "code",
   "execution_count": 93,
   "id": "0c2e9752",
   "metadata": {
    "ExecuteTime": {
     "end_time": "2022-09-10T09:11:38.903611Z",
     "start_time": "2022-09-10T09:11:38.898144Z"
    }
   },
   "outputs": [
    {
     "ename": "SyntaxError",
     "evalue": "invalid syntax (3223910753.py, line 3)",
     "output_type": "error",
     "traceback": [
      "\u001b[0;36m  Input \u001b[0;32mIn [93]\u001b[0;36m\u001b[0m\n\u001b[0;31m    import google-cloud-storage\u001b[0m\n\u001b[0m                 ^\u001b[0m\n\u001b[0;31mSyntaxError\u001b[0m\u001b[0;31m:\u001b[0m invalid syntax\n"
     ]
    }
   ],
   "source": [
    "#from google.cloud import storage as gcs\n",
    "import cloudstorage as gcs\n",
    "import google-cloud-storage\n",
    "\n",
    "gcs_file = gcs.open(filename)\n",
    "contents = gcs_file.read()\n",
    "gcs_file.close()\n",
    "self.response.write(contents)"
   ]
  },
  {
   "cell_type": "code",
   "execution_count": 102,
   "id": "267997ca",
   "metadata": {
    "ExecuteTime": {
     "end_time": "2022-09-10T09:29:10.241512Z",
     "start_time": "2022-09-10T09:29:10.228424Z"
    }
   },
   "outputs": [
    {
     "data": {
      "text/html": [
       "<div>\n",
       "<style scoped>\n",
       "    .dataframe tbody tr th:only-of-type {\n",
       "        vertical-align: middle;\n",
       "    }\n",
       "\n",
       "    .dataframe tbody tr th {\n",
       "        vertical-align: top;\n",
       "    }\n",
       "\n",
       "    .dataframe thead th {\n",
       "        text-align: right;\n",
       "    }\n",
       "</style>\n",
       "<table border=\"1\" class=\"dataframe\">\n",
       "  <thead>\n",
       "    <tr style=\"text-align: right;\">\n",
       "      <th></th>\n",
       "      <th>filename</th>\n",
       "      <th>aeroplane</th>\n",
       "      <th>bird</th>\n",
       "      <th>boat</th>\n",
       "      <th>chair</th>\n",
       "      <th>cow</th>\n",
       "      <th>diningtable</th>\n",
       "      <th>dog</th>\n",
       "      <th>horse</th>\n",
       "      <th>sheep</th>\n",
       "      <th>train</th>\n",
       "    </tr>\n",
       "  </thead>\n",
       "  <tbody>\n",
       "    <tr>\n",
       "      <th>17</th>\n",
       "      <td>DUR_DBM_770-001.jpg</td>\n",
       "      <td>0</td>\n",
       "      <td>1</td>\n",
       "      <td>0</td>\n",
       "      <td>0</td>\n",
       "      <td>0</td>\n",
       "      <td>0</td>\n",
       "      <td>1</td>\n",
       "      <td>0</td>\n",
       "      <td>0</td>\n",
       "      <td>0</td>\n",
       "    </tr>\n",
       "    <tr>\n",
       "      <th>18</th>\n",
       "      <td>DUR_DBM_769-001.jpg</td>\n",
       "      <td>0</td>\n",
       "      <td>1</td>\n",
       "      <td>0</td>\n",
       "      <td>0</td>\n",
       "      <td>0</td>\n",
       "      <td>0</td>\n",
       "      <td>0</td>\n",
       "      <td>0</td>\n",
       "      <td>0</td>\n",
       "      <td>0</td>\n",
       "    </tr>\n",
       "    <tr>\n",
       "      <th>40</th>\n",
       "      <td>VA_PC_2007BP2389-001.jpg</td>\n",
       "      <td>0</td>\n",
       "      <td>1</td>\n",
       "      <td>0</td>\n",
       "      <td>0</td>\n",
       "      <td>0</td>\n",
       "      <td>0</td>\n",
       "      <td>0</td>\n",
       "      <td>0</td>\n",
       "      <td>0</td>\n",
       "      <td>0</td>\n",
       "    </tr>\n",
       "    <tr>\n",
       "      <th>41</th>\n",
       "      <td>LAN_TURT_PCF21-001.jpg</td>\n",
       "      <td>0</td>\n",
       "      <td>1</td>\n",
       "      <td>0</td>\n",
       "      <td>0</td>\n",
       "      <td>0</td>\n",
       "      <td>0</td>\n",
       "      <td>0</td>\n",
       "      <td>0</td>\n",
       "      <td>0</td>\n",
       "      <td>0</td>\n",
       "    </tr>\n",
       "    <tr>\n",
       "      <th>42</th>\n",
       "      <td>CDN_LBCN_426-001.jpg</td>\n",
       "      <td>0</td>\n",
       "      <td>1</td>\n",
       "      <td>0</td>\n",
       "      <td>0</td>\n",
       "      <td>0</td>\n",
       "      <td>0</td>\n",
       "      <td>0</td>\n",
       "      <td>0</td>\n",
       "      <td>0</td>\n",
       "      <td>0</td>\n",
       "    </tr>\n",
       "    <tr>\n",
       "      <th>...</th>\n",
       "      <td>...</td>\n",
       "      <td>...</td>\n",
       "      <td>...</td>\n",
       "      <td>...</td>\n",
       "      <td>...</td>\n",
       "      <td>...</td>\n",
       "      <td>...</td>\n",
       "      <td>...</td>\n",
       "      <td>...</td>\n",
       "      <td>...</td>\n",
       "      <td>...</td>\n",
       "    </tr>\n",
       "    <tr>\n",
       "      <th>8282</th>\n",
       "      <td>NY_YAG_YORAG_189-001.jpg</td>\n",
       "      <td>0</td>\n",
       "      <td>1</td>\n",
       "      <td>0</td>\n",
       "      <td>0</td>\n",
       "      <td>0</td>\n",
       "      <td>0</td>\n",
       "      <td>0</td>\n",
       "      <td>0</td>\n",
       "      <td>0</td>\n",
       "      <td>0</td>\n",
       "    </tr>\n",
       "    <tr>\n",
       "      <th>8283</th>\n",
       "      <td>NY_NRM_1976_9315-001.jpg</td>\n",
       "      <td>0</td>\n",
       "      <td>1</td>\n",
       "      <td>1</td>\n",
       "      <td>0</td>\n",
       "      <td>0</td>\n",
       "      <td>0</td>\n",
       "      <td>0</td>\n",
       "      <td>0</td>\n",
       "      <td>0</td>\n",
       "      <td>0</td>\n",
       "    </tr>\n",
       "    <tr>\n",
       "      <th>8293</th>\n",
       "      <td>NY_YAG_YORAG_1030-001.jpg</td>\n",
       "      <td>0</td>\n",
       "      <td>1</td>\n",
       "      <td>0</td>\n",
       "      <td>0</td>\n",
       "      <td>0</td>\n",
       "      <td>0</td>\n",
       "      <td>0</td>\n",
       "      <td>0</td>\n",
       "      <td>0</td>\n",
       "      <td>0</td>\n",
       "    </tr>\n",
       "    <tr>\n",
       "      <th>8294</th>\n",
       "      <td>GL_GM_A_1989_23_e-001.jpg</td>\n",
       "      <td>0</td>\n",
       "      <td>1</td>\n",
       "      <td>0</td>\n",
       "      <td>0</td>\n",
       "      <td>0</td>\n",
       "      <td>0</td>\n",
       "      <td>0</td>\n",
       "      <td>0</td>\n",
       "      <td>0</td>\n",
       "      <td>0</td>\n",
       "    </tr>\n",
       "    <tr>\n",
       "      <th>8295</th>\n",
       "      <td>EDII_AIH_P_858_R-001.jpg</td>\n",
       "      <td>0</td>\n",
       "      <td>1</td>\n",
       "      <td>0</td>\n",
       "      <td>0</td>\n",
       "      <td>0</td>\n",
       "      <td>0</td>\n",
       "      <td>0</td>\n",
       "      <td>0</td>\n",
       "      <td>0</td>\n",
       "      <td>0</td>\n",
       "    </tr>\n",
       "  </tbody>\n",
       "</table>\n",
       "<p>781 rows × 11 columns</p>\n",
       "</div>"
      ],
      "text/plain": [
       "                       filename  aeroplane  bird  boat  chair  cow  \\\n",
       "17          DUR_DBM_770-001.jpg          0     1     0      0    0   \n",
       "18          DUR_DBM_769-001.jpg          0     1     0      0    0   \n",
       "40     VA_PC_2007BP2389-001.jpg          0     1     0      0    0   \n",
       "41       LAN_TURT_PCF21-001.jpg          0     1     0      0    0   \n",
       "42         CDN_LBCN_426-001.jpg          0     1     0      0    0   \n",
       "...                         ...        ...   ...   ...    ...  ...   \n",
       "8282   NY_YAG_YORAG_189-001.jpg          0     1     0      0    0   \n",
       "8283   NY_NRM_1976_9315-001.jpg          0     1     1      0    0   \n",
       "8293  NY_YAG_YORAG_1030-001.jpg          0     1     0      0    0   \n",
       "8294  GL_GM_A_1989_23_e-001.jpg          0     1     0      0    0   \n",
       "8295   EDII_AIH_P_858_R-001.jpg          0     1     0      0    0   \n",
       "\n",
       "      diningtable  dog  horse  sheep  train  \n",
       "17              0    1      0      0      0  \n",
       "18              0    0      0      0      0  \n",
       "40              0    0      0      0      0  \n",
       "41              0    0      0      0      0  \n",
       "42              0    0      0      0      0  \n",
       "...           ...  ...    ...    ...    ...  \n",
       "8282            0    0      0      0      0  \n",
       "8283            0    0      0      0      0  \n",
       "8293            0    0      0      0      0  \n",
       "8294            0    0      0      0      0  \n",
       "8295            0    0      0      0      0  \n",
       "\n",
       "[781 rows x 11 columns]"
      ]
     },
     "execution_count": 102,
     "metadata": {},
     "output_type": "execute_result"
    }
   ],
   "source": [
    "cls2"
   ]
  },
  {
   "cell_type": "code",
   "execution_count": 104,
   "id": "3311208e",
   "metadata": {
    "ExecuteTime": {
     "end_time": "2022-09-10T09:29:18.363440Z",
     "start_time": "2022-09-10T09:29:18.341803Z"
    }
   },
   "outputs": [
    {
     "data": {
      "text/html": [
       "<div>\n",
       "<style scoped>\n",
       "    .dataframe tbody tr th:only-of-type {\n",
       "        vertical-align: middle;\n",
       "    }\n",
       "\n",
       "    .dataframe tbody tr th {\n",
       "        vertical-align: top;\n",
       "    }\n",
       "\n",
       "    .dataframe thead th {\n",
       "        text-align: right;\n",
       "    }\n",
       "</style>\n",
       "<table border=\"1\" class=\"dataframe\">\n",
       "  <thead>\n",
       "    <tr style=\"text-align: right;\">\n",
       "      <th></th>\n",
       "      <th>filename</th>\n",
       "      <th>aeroplane</th>\n",
       "      <th>bird</th>\n",
       "      <th>boat</th>\n",
       "      <th>chair</th>\n",
       "      <th>cow</th>\n",
       "      <th>diningtable</th>\n",
       "      <th>dog</th>\n",
       "      <th>horse</th>\n",
       "      <th>sheep</th>\n",
       "      <th>train</th>\n",
       "    </tr>\n",
       "  </thead>\n",
       "  <tbody>\n",
       "    <tr>\n",
       "      <th>21</th>\n",
       "      <td>SYO_CG_CP_TR_156-001.jpg</td>\n",
       "      <td>0</td>\n",
       "      <td>0</td>\n",
       "      <td>1</td>\n",
       "      <td>0</td>\n",
       "      <td>0</td>\n",
       "      <td>0</td>\n",
       "      <td>0</td>\n",
       "      <td>0</td>\n",
       "      <td>0</td>\n",
       "      <td>0</td>\n",
       "    </tr>\n",
       "    <tr>\n",
       "      <th>38</th>\n",
       "      <td>NG_NG_NG818-001.jpg</td>\n",
       "      <td>0</td>\n",
       "      <td>0</td>\n",
       "      <td>1</td>\n",
       "      <td>0</td>\n",
       "      <td>0</td>\n",
       "      <td>0</td>\n",
       "      <td>0</td>\n",
       "      <td>0</td>\n",
       "      <td>0</td>\n",
       "      <td>0</td>\n",
       "    </tr>\n",
       "    <tr>\n",
       "      <th>51</th>\n",
       "      <td>KT_MMB_06_014-001.jpg</td>\n",
       "      <td>0</td>\n",
       "      <td>0</td>\n",
       "      <td>1</td>\n",
       "      <td>0</td>\n",
       "      <td>0</td>\n",
       "      <td>0</td>\n",
       "      <td>0</td>\n",
       "      <td>0</td>\n",
       "      <td>0</td>\n",
       "      <td>0</td>\n",
       "    </tr>\n",
       "    <tr>\n",
       "      <th>52</th>\n",
       "      <td>NMM_NMMG_BHC1081-001.jpg</td>\n",
       "      <td>0</td>\n",
       "      <td>0</td>\n",
       "      <td>1</td>\n",
       "      <td>0</td>\n",
       "      <td>0</td>\n",
       "      <td>0</td>\n",
       "      <td>0</td>\n",
       "      <td>0</td>\n",
       "      <td>0</td>\n",
       "      <td>0</td>\n",
       "    </tr>\n",
       "    <tr>\n",
       "      <th>53</th>\n",
       "      <td>NWM_BSI_PCF2-001.jpg</td>\n",
       "      <td>0</td>\n",
       "      <td>0</td>\n",
       "      <td>1</td>\n",
       "      <td>0</td>\n",
       "      <td>0</td>\n",
       "      <td>0</td>\n",
       "      <td>0</td>\n",
       "      <td>0</td>\n",
       "      <td>0</td>\n",
       "      <td>0</td>\n",
       "    </tr>\n",
       "    <tr>\n",
       "      <th>...</th>\n",
       "      <td>...</td>\n",
       "      <td>...</td>\n",
       "      <td>...</td>\n",
       "      <td>...</td>\n",
       "      <td>...</td>\n",
       "      <td>...</td>\n",
       "      <td>...</td>\n",
       "      <td>...</td>\n",
       "      <td>...</td>\n",
       "      <td>...</td>\n",
       "      <td>...</td>\n",
       "    </tr>\n",
       "    <tr>\n",
       "      <th>8279</th>\n",
       "      <td>NY_YAG_YORAG_1263-001.jpg</td>\n",
       "      <td>0</td>\n",
       "      <td>0</td>\n",
       "      <td>1</td>\n",
       "      <td>0</td>\n",
       "      <td>0</td>\n",
       "      <td>0</td>\n",
       "      <td>0</td>\n",
       "      <td>0</td>\n",
       "      <td>0</td>\n",
       "      <td>0</td>\n",
       "    </tr>\n",
       "    <tr>\n",
       "      <th>8280</th>\n",
       "      <td>NY_YAG_YORAG_615-001.jpg</td>\n",
       "      <td>0</td>\n",
       "      <td>0</td>\n",
       "      <td>1</td>\n",
       "      <td>0</td>\n",
       "      <td>0</td>\n",
       "      <td>0</td>\n",
       "      <td>0</td>\n",
       "      <td>0</td>\n",
       "      <td>0</td>\n",
       "      <td>0</td>\n",
       "    </tr>\n",
       "    <tr>\n",
       "      <th>8283</th>\n",
       "      <td>NY_NRM_1976_9315-001.jpg</td>\n",
       "      <td>0</td>\n",
       "      <td>1</td>\n",
       "      <td>1</td>\n",
       "      <td>0</td>\n",
       "      <td>0</td>\n",
       "      <td>0</td>\n",
       "      <td>0</td>\n",
       "      <td>0</td>\n",
       "      <td>0</td>\n",
       "      <td>0</td>\n",
       "    </tr>\n",
       "    <tr>\n",
       "      <th>8285</th>\n",
       "      <td>NOT_NCMG_1946_258-001.jpg</td>\n",
       "      <td>0</td>\n",
       "      <td>0</td>\n",
       "      <td>1</td>\n",
       "      <td>0</td>\n",
       "      <td>0</td>\n",
       "      <td>0</td>\n",
       "      <td>0</td>\n",
       "      <td>0</td>\n",
       "      <td>0</td>\n",
       "      <td>0</td>\n",
       "    </tr>\n",
       "    <tr>\n",
       "      <th>8292</th>\n",
       "      <td>STF_STKMG_1965_FA_10-001.jpg</td>\n",
       "      <td>0</td>\n",
       "      <td>0</td>\n",
       "      <td>1</td>\n",
       "      <td>0</td>\n",
       "      <td>0</td>\n",
       "      <td>0</td>\n",
       "      <td>0</td>\n",
       "      <td>0</td>\n",
       "      <td>0</td>\n",
       "      <td>0</td>\n",
       "    </tr>\n",
       "  </tbody>\n",
       "</table>\n",
       "<p>2050 rows × 11 columns</p>\n",
       "</div>"
      ],
      "text/plain": [
       "                          filename  aeroplane  bird  boat  chair  cow  \\\n",
       "21        SYO_CG_CP_TR_156-001.jpg          0     0     1      0    0   \n",
       "38             NG_NG_NG818-001.jpg          0     0     1      0    0   \n",
       "51           KT_MMB_06_014-001.jpg          0     0     1      0    0   \n",
       "52        NMM_NMMG_BHC1081-001.jpg          0     0     1      0    0   \n",
       "53            NWM_BSI_PCF2-001.jpg          0     0     1      0    0   \n",
       "...                            ...        ...   ...   ...    ...  ...   \n",
       "8279     NY_YAG_YORAG_1263-001.jpg          0     0     1      0    0   \n",
       "8280      NY_YAG_YORAG_615-001.jpg          0     0     1      0    0   \n",
       "8283      NY_NRM_1976_9315-001.jpg          0     1     1      0    0   \n",
       "8285     NOT_NCMG_1946_258-001.jpg          0     0     1      0    0   \n",
       "8292  STF_STKMG_1965_FA_10-001.jpg          0     0     1      0    0   \n",
       "\n",
       "      diningtable  dog  horse  sheep  train  \n",
       "21              0    0      0      0      0  \n",
       "38              0    0      0      0      0  \n",
       "51              0    0      0      0      0  \n",
       "52              0    0      0      0      0  \n",
       "53              0    0      0      0      0  \n",
       "...           ...  ...    ...    ...    ...  \n",
       "8279            0    0      0      0      0  \n",
       "8280            0    0      0      0      0  \n",
       "8283            0    0      0      0      0  \n",
       "8285            0    0      0      0      0  \n",
       "8292            0    0      0      0      0  \n",
       "\n",
       "[2050 rows x 11 columns]"
      ]
     },
     "execution_count": 104,
     "metadata": {},
     "output_type": "execute_result"
    }
   ],
   "source": [
    "cls3"
   ]
  },
  {
   "cell_type": "code",
   "execution_count": 82,
   "id": "c21792b7",
   "metadata": {
    "ExecuteTime": {
     "end_time": "2022-09-10T08:53:27.237098Z",
     "start_time": "2022-09-10T08:53:27.212853Z"
    }
   },
   "outputs": [],
   "source": [
    "# Create individual dataframes per class\n",
    "\n",
    "df_aeroplane = y_sub[y_sub['aeroplane'] == 1]\n",
    "df_bird = y_sub[y_sub['bird'] == 1]\n",
    "df_boat = y_sub[y_sub['boat'] == 1]\n",
    "df_chair = y_sub[y_sub['chair'] == 1]\n",
    "df_cow = y_sub[y_sub['cow'] == 1]\n",
    "df_diningtable = y_sub[y_sub['diningtable'] == 1]\n",
    "df_dog = y_sub[y_sub['dog'] == 1]\n",
    "df_horse = y_sub[y_sub['horse'] == 1]\n",
    "df_sheep = y_sub[y_sub['sheep'] == 1]\n",
    "df_train = y_sub[y_sub['train'] == 1]\n",
    "\n",
    "x in lst for [loop]"
   ]
  },
  {
   "cell_type": "code",
   "execution_count": 86,
   "id": "ebeb2c93",
   "metadata": {
    "ExecuteTime": {
     "end_time": "2022-09-10T08:54:50.516204Z",
     "start_time": "2022-09-10T08:54:50.509185Z"
    }
   },
   "outputs": [
    {
     "data": {
      "text/plain": [
       "filename       NY_YAG_YORAG_326-001.jpg\n",
       "aeroplane                             0\n",
       "bird                                  0\n",
       "boat                                  0\n",
       "chair                                 1\n",
       "cow                                   0\n",
       "diningtable                           1\n",
       "dog                                   1\n",
       "horse                                 0\n",
       "sheep                                 0\n",
       "train                                 0\n",
       "Name: 15, dtype: object"
      ]
     },
     "execution_count": 86,
     "metadata": {},
     "output_type": "execute_result"
    }
   ],
   "source": [
    "df_dog.iloc[0]"
   ]
  },
  {
   "cell_type": "code",
   "execution_count": 87,
   "id": "d88b19ce",
   "metadata": {
    "ExecuteTime": {
     "end_time": "2022-09-10T08:56:00.356041Z",
     "start_time": "2022-09-10T08:56:00.329319Z"
    }
   },
   "outputs": [
    {
     "data": {
      "text/html": [
       "<div>\n",
       "<style scoped>\n",
       "    .dataframe tbody tr th:only-of-type {\n",
       "        vertical-align: middle;\n",
       "    }\n",
       "\n",
       "    .dataframe tbody tr th {\n",
       "        vertical-align: top;\n",
       "    }\n",
       "\n",
       "    .dataframe thead th {\n",
       "        text-align: right;\n",
       "    }\n",
       "</style>\n",
       "<table border=\"1\" class=\"dataframe\">\n",
       "  <thead>\n",
       "    <tr style=\"text-align: right;\">\n",
       "      <th></th>\n",
       "      <th>filename</th>\n",
       "      <th>aeroplane</th>\n",
       "      <th>bird</th>\n",
       "      <th>boat</th>\n",
       "      <th>chair</th>\n",
       "      <th>cow</th>\n",
       "      <th>diningtable</th>\n",
       "      <th>dog</th>\n",
       "      <th>horse</th>\n",
       "      <th>sheep</th>\n",
       "      <th>train</th>\n",
       "    </tr>\n",
       "  </thead>\n",
       "  <tbody>\n",
       "    <tr>\n",
       "      <th>4289</th>\n",
       "      <td>NY_NRM_1978_1319-001.jpg</td>\n",
       "      <td>0</td>\n",
       "      <td>0</td>\n",
       "      <td>0</td>\n",
       "      <td>0</td>\n",
       "      <td>0</td>\n",
       "      <td>0</td>\n",
       "      <td>0</td>\n",
       "      <td>0</td>\n",
       "      <td>0</td>\n",
       "      <td>1</td>\n",
       "    </tr>\n",
       "    <tr>\n",
       "      <th>6083</th>\n",
       "      <td>NY_NRM_1975_8504-001.jpg</td>\n",
       "      <td>0</td>\n",
       "      <td>0</td>\n",
       "      <td>0</td>\n",
       "      <td>0</td>\n",
       "      <td>0</td>\n",
       "      <td>0</td>\n",
       "      <td>0</td>\n",
       "      <td>0</td>\n",
       "      <td>0</td>\n",
       "      <td>1</td>\n",
       "    </tr>\n",
       "    <tr>\n",
       "      <th>3034</th>\n",
       "      <td>NY_NRM_1979_7953-001.jpg</td>\n",
       "      <td>0</td>\n",
       "      <td>0</td>\n",
       "      <td>0</td>\n",
       "      <td>0</td>\n",
       "      <td>0</td>\n",
       "      <td>0</td>\n",
       "      <td>0</td>\n",
       "      <td>0</td>\n",
       "      <td>0</td>\n",
       "      <td>1</td>\n",
       "    </tr>\n",
       "    <tr>\n",
       "      <th>4726</th>\n",
       "      <td>NY_NRM_1984_666-001.jpg</td>\n",
       "      <td>0</td>\n",
       "      <td>0</td>\n",
       "      <td>0</td>\n",
       "      <td>0</td>\n",
       "      <td>0</td>\n",
       "      <td>0</td>\n",
       "      <td>0</td>\n",
       "      <td>0</td>\n",
       "      <td>0</td>\n",
       "      <td>1</td>\n",
       "    </tr>\n",
       "    <tr>\n",
       "      <th>6842</th>\n",
       "      <td>DUR_DCC_772-001.jpg</td>\n",
       "      <td>0</td>\n",
       "      <td>0</td>\n",
       "      <td>0</td>\n",
       "      <td>0</td>\n",
       "      <td>0</td>\n",
       "      <td>0</td>\n",
       "      <td>0</td>\n",
       "      <td>0</td>\n",
       "      <td>0</td>\n",
       "      <td>1</td>\n",
       "    </tr>\n",
       "    <tr>\n",
       "      <th>...</th>\n",
       "      <td>...</td>\n",
       "      <td>...</td>\n",
       "      <td>...</td>\n",
       "      <td>...</td>\n",
       "      <td>...</td>\n",
       "      <td>...</td>\n",
       "      <td>...</td>\n",
       "      <td>...</td>\n",
       "      <td>...</td>\n",
       "      <td>...</td>\n",
       "      <td>...</td>\n",
       "    </tr>\n",
       "    <tr>\n",
       "      <th>6949</th>\n",
       "      <td>NML_MUL_RD00169-001.jpg</td>\n",
       "      <td>0</td>\n",
       "      <td>0</td>\n",
       "      <td>0</td>\n",
       "      <td>0</td>\n",
       "      <td>0</td>\n",
       "      <td>0</td>\n",
       "      <td>0</td>\n",
       "      <td>0</td>\n",
       "      <td>0</td>\n",
       "      <td>1</td>\n",
       "    </tr>\n",
       "    <tr>\n",
       "      <th>7014</th>\n",
       "      <td>NY_NRM_1975_8515-001.jpg</td>\n",
       "      <td>0</td>\n",
       "      <td>0</td>\n",
       "      <td>0</td>\n",
       "      <td>0</td>\n",
       "      <td>0</td>\n",
       "      <td>0</td>\n",
       "      <td>0</td>\n",
       "      <td>0</td>\n",
       "      <td>0</td>\n",
       "      <td>1</td>\n",
       "    </tr>\n",
       "    <tr>\n",
       "      <th>3039</th>\n",
       "      <td>NY_NRM_1975_8507-001.jpg</td>\n",
       "      <td>0</td>\n",
       "      <td>0</td>\n",
       "      <td>0</td>\n",
       "      <td>0</td>\n",
       "      <td>0</td>\n",
       "      <td>0</td>\n",
       "      <td>0</td>\n",
       "      <td>0</td>\n",
       "      <td>0</td>\n",
       "      <td>1</td>\n",
       "    </tr>\n",
       "    <tr>\n",
       "      <th>6956</th>\n",
       "      <td>NY_NRM_1975_8492-001.jpg</td>\n",
       "      <td>0</td>\n",
       "      <td>0</td>\n",
       "      <td>0</td>\n",
       "      <td>0</td>\n",
       "      <td>0</td>\n",
       "      <td>0</td>\n",
       "      <td>0</td>\n",
       "      <td>0</td>\n",
       "      <td>0</td>\n",
       "      <td>1</td>\n",
       "    </tr>\n",
       "    <tr>\n",
       "      <th>4268</th>\n",
       "      <td>NY_NRM_1976_9387-001.jpg</td>\n",
       "      <td>0</td>\n",
       "      <td>0</td>\n",
       "      <td>0</td>\n",
       "      <td>0</td>\n",
       "      <td>0</td>\n",
       "      <td>0</td>\n",
       "      <td>0</td>\n",
       "      <td>0</td>\n",
       "      <td>0</td>\n",
       "      <td>1</td>\n",
       "    </tr>\n",
       "  </tbody>\n",
       "</table>\n",
       "<p>195 rows × 11 columns</p>\n",
       "</div>"
      ],
      "text/plain": [
       "                      filename  aeroplane  bird  boat  chair  cow  \\\n",
       "4289  NY_NRM_1978_1319-001.jpg          0     0     0      0    0   \n",
       "6083  NY_NRM_1975_8504-001.jpg          0     0     0      0    0   \n",
       "3034  NY_NRM_1979_7953-001.jpg          0     0     0      0    0   \n",
       "4726   NY_NRM_1984_666-001.jpg          0     0     0      0    0   \n",
       "6842       DUR_DCC_772-001.jpg          0     0     0      0    0   \n",
       "...                        ...        ...   ...   ...    ...  ...   \n",
       "6949   NML_MUL_RD00169-001.jpg          0     0     0      0    0   \n",
       "7014  NY_NRM_1975_8515-001.jpg          0     0     0      0    0   \n",
       "3039  NY_NRM_1975_8507-001.jpg          0     0     0      0    0   \n",
       "6956  NY_NRM_1975_8492-001.jpg          0     0     0      0    0   \n",
       "4268  NY_NRM_1976_9387-001.jpg          0     0     0      0    0   \n",
       "\n",
       "      diningtable  dog  horse  sheep  train  \n",
       "4289            0    0      0      0      1  \n",
       "6083            0    0      0      0      1  \n",
       "3034            0    0      0      0      1  \n",
       "4726            0    0      0      0      1  \n",
       "6842            0    0      0      0      1  \n",
       "...           ...  ...    ...    ...    ...  \n",
       "6949            0    0      0      0      1  \n",
       "7014            0    0      0      0      1  \n",
       "3039            0    0      0      0      1  \n",
       "6956            0    0      0      0      1  \n",
       "4268            0    0      0      0      1  \n",
       "\n",
       "[195 rows x 11 columns]"
      ]
     },
     "execution_count": 87,
     "metadata": {},
     "output_type": "execute_result"
    }
   ],
   "source": [
    "sample_train = df_train.sample(195)"
   ]
  },
  {
   "cell_type": "code",
   "execution_count": null,
   "id": "0bdd91f2",
   "metadata": {},
   "outputs": [],
   "source": []
  },
  {
   "cell_type": "code",
   "execution_count": 76,
   "id": "a707b48d",
   "metadata": {
    "ExecuteTime": {
     "end_time": "2022-09-10T08:47:00.685854Z",
     "start_time": "2022-09-10T08:47:00.681112Z"
    }
   },
   "outputs": [],
   "source": [
    "cls = ['aeroplane', 'bird']\n",
    "classes = ['aeroplane', 'bird', 'boat', 'chair', 'cow', 'diningtable',\n",
    "       'dog', 'horse', 'sheep', 'train']"
   ]
  },
  {
   "cell_type": "code",
   "execution_count": 80,
   "id": "b1c6f8f9",
   "metadata": {
    "ExecuteTime": {
     "end_time": "2022-09-10T08:47:54.822130Z",
     "start_time": "2022-09-10T08:47:54.806085Z"
    }
   },
   "outputs": [
    {
     "data": {
      "text/html": [
       "<div>\n",
       "<style scoped>\n",
       "    .dataframe tbody tr th:only-of-type {\n",
       "        vertical-align: middle;\n",
       "    }\n",
       "\n",
       "    .dataframe tbody tr th {\n",
       "        vertical-align: top;\n",
       "    }\n",
       "\n",
       "    .dataframe thead th {\n",
       "        text-align: right;\n",
       "    }\n",
       "</style>\n",
       "<table border=\"1\" class=\"dataframe\">\n",
       "  <thead>\n",
       "    <tr style=\"text-align: right;\">\n",
       "      <th></th>\n",
       "      <th>filename</th>\n",
       "      <th>aeroplane</th>\n",
       "      <th>bird</th>\n",
       "      <th>boat</th>\n",
       "      <th>chair</th>\n",
       "      <th>cow</th>\n",
       "      <th>diningtable</th>\n",
       "      <th>dog</th>\n",
       "      <th>horse</th>\n",
       "      <th>sheep</th>\n",
       "      <th>train</th>\n",
       "    </tr>\n",
       "  </thead>\n",
       "  <tbody>\n",
       "    <tr>\n",
       "      <th>1</th>\n",
       "      <td>GMIII_MOSI_A1978_72_3-001.jpg</td>\n",
       "      <td>0</td>\n",
       "      <td>0</td>\n",
       "      <td>0</td>\n",
       "      <td>0</td>\n",
       "      <td>0</td>\n",
       "      <td>0</td>\n",
       "      <td>0</td>\n",
       "      <td>0</td>\n",
       "      <td>0</td>\n",
       "      <td>1</td>\n",
       "    </tr>\n",
       "    <tr>\n",
       "      <th>2</th>\n",
       "      <td>NY_NRM_1979_7964-001.jpg</td>\n",
       "      <td>0</td>\n",
       "      <td>0</td>\n",
       "      <td>0</td>\n",
       "      <td>0</td>\n",
       "      <td>0</td>\n",
       "      <td>0</td>\n",
       "      <td>0</td>\n",
       "      <td>0</td>\n",
       "      <td>0</td>\n",
       "      <td>1</td>\n",
       "    </tr>\n",
       "    <tr>\n",
       "      <th>3</th>\n",
       "      <td>CHE_CRHC_PCF40-001.jpg</td>\n",
       "      <td>0</td>\n",
       "      <td>0</td>\n",
       "      <td>0</td>\n",
       "      <td>0</td>\n",
       "      <td>0</td>\n",
       "      <td>0</td>\n",
       "      <td>0</td>\n",
       "      <td>0</td>\n",
       "      <td>0</td>\n",
       "      <td>1</td>\n",
       "    </tr>\n",
       "    <tr>\n",
       "      <th>6</th>\n",
       "      <td>NY_NRM_1986_9418-001.jpg</td>\n",
       "      <td>0</td>\n",
       "      <td>0</td>\n",
       "      <td>0</td>\n",
       "      <td>0</td>\n",
       "      <td>0</td>\n",
       "      <td>0</td>\n",
       "      <td>0</td>\n",
       "      <td>0</td>\n",
       "      <td>0</td>\n",
       "      <td>1</td>\n",
       "    </tr>\n",
       "    <tr>\n",
       "      <th>7</th>\n",
       "      <td>NY_NRM_2004_7349-001.jpg</td>\n",
       "      <td>0</td>\n",
       "      <td>0</td>\n",
       "      <td>0</td>\n",
       "      <td>0</td>\n",
       "      <td>0</td>\n",
       "      <td>0</td>\n",
       "      <td>0</td>\n",
       "      <td>0</td>\n",
       "      <td>0</td>\n",
       "      <td>1</td>\n",
       "    </tr>\n",
       "    <tr>\n",
       "      <th>...</th>\n",
       "      <td>...</td>\n",
       "      <td>...</td>\n",
       "      <td>...</td>\n",
       "      <td>...</td>\n",
       "      <td>...</td>\n",
       "      <td>...</td>\n",
       "      <td>...</td>\n",
       "      <td>...</td>\n",
       "      <td>...</td>\n",
       "      <td>...</td>\n",
       "      <td>...</td>\n",
       "    </tr>\n",
       "    <tr>\n",
       "      <th>8109</th>\n",
       "      <td>NY_NRM_1997_8476-001.jpg</td>\n",
       "      <td>0</td>\n",
       "      <td>0</td>\n",
       "      <td>0</td>\n",
       "      <td>0</td>\n",
       "      <td>0</td>\n",
       "      <td>0</td>\n",
       "      <td>0</td>\n",
       "      <td>0</td>\n",
       "      <td>0</td>\n",
       "      <td>1</td>\n",
       "    </tr>\n",
       "    <tr>\n",
       "      <th>8248</th>\n",
       "      <td>NY_NRM_1978_1526-001.jpg</td>\n",
       "      <td>0</td>\n",
       "      <td>0</td>\n",
       "      <td>0</td>\n",
       "      <td>0</td>\n",
       "      <td>0</td>\n",
       "      <td>0</td>\n",
       "      <td>0</td>\n",
       "      <td>0</td>\n",
       "      <td>0</td>\n",
       "      <td>1</td>\n",
       "    </tr>\n",
       "    <tr>\n",
       "      <th>8277</th>\n",
       "      <td>NY_NRM_1986_9410-001.jpg</td>\n",
       "      <td>0</td>\n",
       "      <td>0</td>\n",
       "      <td>0</td>\n",
       "      <td>0</td>\n",
       "      <td>0</td>\n",
       "      <td>0</td>\n",
       "      <td>0</td>\n",
       "      <td>0</td>\n",
       "      <td>0</td>\n",
       "      <td>1</td>\n",
       "    </tr>\n",
       "    <tr>\n",
       "      <th>8278</th>\n",
       "      <td>NY_NRM_1986_9413-001.jpg</td>\n",
       "      <td>0</td>\n",
       "      <td>0</td>\n",
       "      <td>0</td>\n",
       "      <td>0</td>\n",
       "      <td>0</td>\n",
       "      <td>0</td>\n",
       "      <td>0</td>\n",
       "      <td>0</td>\n",
       "      <td>0</td>\n",
       "      <td>1</td>\n",
       "    </tr>\n",
       "    <tr>\n",
       "      <th>8281</th>\n",
       "      <td>ACC_ACC_AC860-001.jpg</td>\n",
       "      <td>0</td>\n",
       "      <td>0</td>\n",
       "      <td>0</td>\n",
       "      <td>0</td>\n",
       "      <td>0</td>\n",
       "      <td>0</td>\n",
       "      <td>0</td>\n",
       "      <td>0</td>\n",
       "      <td>0</td>\n",
       "      <td>1</td>\n",
       "    </tr>\n",
       "  </tbody>\n",
       "</table>\n",
       "<p>324 rows × 11 columns</p>\n",
       "</div>"
      ],
      "text/plain": [
       "                           filename  aeroplane  bird  boat  chair  cow  \\\n",
       "1     GMIII_MOSI_A1978_72_3-001.jpg          0     0     0      0    0   \n",
       "2          NY_NRM_1979_7964-001.jpg          0     0     0      0    0   \n",
       "3            CHE_CRHC_PCF40-001.jpg          0     0     0      0    0   \n",
       "6          NY_NRM_1986_9418-001.jpg          0     0     0      0    0   \n",
       "7          NY_NRM_2004_7349-001.jpg          0     0     0      0    0   \n",
       "...                             ...        ...   ...   ...    ...  ...   \n",
       "8109       NY_NRM_1997_8476-001.jpg          0     0     0      0    0   \n",
       "8248       NY_NRM_1978_1526-001.jpg          0     0     0      0    0   \n",
       "8277       NY_NRM_1986_9410-001.jpg          0     0     0      0    0   \n",
       "8278       NY_NRM_1986_9413-001.jpg          0     0     0      0    0   \n",
       "8281          ACC_ACC_AC860-001.jpg          0     0     0      0    0   \n",
       "\n",
       "      diningtable  dog  horse  sheep  train  \n",
       "1               0    0      0      0      1  \n",
       "2               0    0      0      0      1  \n",
       "3               0    0      0      0      1  \n",
       "6               0    0      0      0      1  \n",
       "7               0    0      0      0      1  \n",
       "...           ...  ...    ...    ...    ...  \n",
       "8109            0    0      0      0      1  \n",
       "8248            0    0      0      0      1  \n",
       "8277            0    0      0      0      1  \n",
       "8278            0    0      0      0      1  \n",
       "8281            0    0      0      0      1  \n",
       "\n",
       "[324 rows x 11 columns]"
      ]
     },
     "execution_count": 80,
     "metadata": {},
     "output_type": "execute_result"
    }
   ],
   "source": [
    "cls"
   ]
  },
  {
   "cell_type": "code",
   "execution_count": 77,
   "id": "b9da7e1e",
   "metadata": {
    "ExecuteTime": {
     "end_time": "2022-09-10T08:47:02.387245Z",
     "start_time": "2022-09-10T08:47:02.365629Z"
    }
   },
   "outputs": [
    {
     "name": "stdout",
     "output_type": "stream",
     "text": [
      "aeroplane\n",
      "bird\n"
     ]
    },
    {
     "data": {
      "text/html": [
       "<div>\n",
       "<style scoped>\n",
       "    .dataframe tbody tr th:only-of-type {\n",
       "        vertical-align: middle;\n",
       "    }\n",
       "\n",
       "    .dataframe tbody tr th {\n",
       "        vertical-align: top;\n",
       "    }\n",
       "\n",
       "    .dataframe thead th {\n",
       "        text-align: right;\n",
       "    }\n",
       "</style>\n",
       "<table border=\"1\" class=\"dataframe\">\n",
       "  <thead>\n",
       "    <tr style=\"text-align: right;\">\n",
       "      <th></th>\n",
       "      <th>filename</th>\n",
       "      <th>aeroplane</th>\n",
       "      <th>bird</th>\n",
       "      <th>boat</th>\n",
       "      <th>chair</th>\n",
       "      <th>cow</th>\n",
       "      <th>diningtable</th>\n",
       "      <th>dog</th>\n",
       "      <th>horse</th>\n",
       "      <th>sheep</th>\n",
       "      <th>train</th>\n",
       "    </tr>\n",
       "  </thead>\n",
       "  <tbody>\n",
       "    <tr>\n",
       "      <th>17</th>\n",
       "      <td>DUR_DBM_770-001.jpg</td>\n",
       "      <td>0</td>\n",
       "      <td>1</td>\n",
       "      <td>0</td>\n",
       "      <td>0</td>\n",
       "      <td>0</td>\n",
       "      <td>0</td>\n",
       "      <td>1</td>\n",
       "      <td>0</td>\n",
       "      <td>0</td>\n",
       "      <td>0</td>\n",
       "    </tr>\n",
       "    <tr>\n",
       "      <th>18</th>\n",
       "      <td>DUR_DBM_769-001.jpg</td>\n",
       "      <td>0</td>\n",
       "      <td>1</td>\n",
       "      <td>0</td>\n",
       "      <td>0</td>\n",
       "      <td>0</td>\n",
       "      <td>0</td>\n",
       "      <td>0</td>\n",
       "      <td>0</td>\n",
       "      <td>0</td>\n",
       "      <td>0</td>\n",
       "    </tr>\n",
       "    <tr>\n",
       "      <th>40</th>\n",
       "      <td>VA_PC_2007BP2389-001.jpg</td>\n",
       "      <td>0</td>\n",
       "      <td>1</td>\n",
       "      <td>0</td>\n",
       "      <td>0</td>\n",
       "      <td>0</td>\n",
       "      <td>0</td>\n",
       "      <td>0</td>\n",
       "      <td>0</td>\n",
       "      <td>0</td>\n",
       "      <td>0</td>\n",
       "    </tr>\n",
       "    <tr>\n",
       "      <th>41</th>\n",
       "      <td>LAN_TURT_PCF21-001.jpg</td>\n",
       "      <td>0</td>\n",
       "      <td>1</td>\n",
       "      <td>0</td>\n",
       "      <td>0</td>\n",
       "      <td>0</td>\n",
       "      <td>0</td>\n",
       "      <td>0</td>\n",
       "      <td>0</td>\n",
       "      <td>0</td>\n",
       "      <td>0</td>\n",
       "    </tr>\n",
       "    <tr>\n",
       "      <th>42</th>\n",
       "      <td>CDN_LBCN_426-001.jpg</td>\n",
       "      <td>0</td>\n",
       "      <td>1</td>\n",
       "      <td>0</td>\n",
       "      <td>0</td>\n",
       "      <td>0</td>\n",
       "      <td>0</td>\n",
       "      <td>0</td>\n",
       "      <td>0</td>\n",
       "      <td>0</td>\n",
       "      <td>0</td>\n",
       "    </tr>\n",
       "    <tr>\n",
       "      <th>...</th>\n",
       "      <td>...</td>\n",
       "      <td>...</td>\n",
       "      <td>...</td>\n",
       "      <td>...</td>\n",
       "      <td>...</td>\n",
       "      <td>...</td>\n",
       "      <td>...</td>\n",
       "      <td>...</td>\n",
       "      <td>...</td>\n",
       "      <td>...</td>\n",
       "      <td>...</td>\n",
       "    </tr>\n",
       "    <tr>\n",
       "      <th>8282</th>\n",
       "      <td>NY_YAG_YORAG_189-001.jpg</td>\n",
       "      <td>0</td>\n",
       "      <td>1</td>\n",
       "      <td>0</td>\n",
       "      <td>0</td>\n",
       "      <td>0</td>\n",
       "      <td>0</td>\n",
       "      <td>0</td>\n",
       "      <td>0</td>\n",
       "      <td>0</td>\n",
       "      <td>0</td>\n",
       "    </tr>\n",
       "    <tr>\n",
       "      <th>8283</th>\n",
       "      <td>NY_NRM_1976_9315-001.jpg</td>\n",
       "      <td>0</td>\n",
       "      <td>1</td>\n",
       "      <td>1</td>\n",
       "      <td>0</td>\n",
       "      <td>0</td>\n",
       "      <td>0</td>\n",
       "      <td>0</td>\n",
       "      <td>0</td>\n",
       "      <td>0</td>\n",
       "      <td>0</td>\n",
       "    </tr>\n",
       "    <tr>\n",
       "      <th>8293</th>\n",
       "      <td>NY_YAG_YORAG_1030-001.jpg</td>\n",
       "      <td>0</td>\n",
       "      <td>1</td>\n",
       "      <td>0</td>\n",
       "      <td>0</td>\n",
       "      <td>0</td>\n",
       "      <td>0</td>\n",
       "      <td>0</td>\n",
       "      <td>0</td>\n",
       "      <td>0</td>\n",
       "      <td>0</td>\n",
       "    </tr>\n",
       "    <tr>\n",
       "      <th>8294</th>\n",
       "      <td>GL_GM_A_1989_23_e-001.jpg</td>\n",
       "      <td>0</td>\n",
       "      <td>1</td>\n",
       "      <td>0</td>\n",
       "      <td>0</td>\n",
       "      <td>0</td>\n",
       "      <td>0</td>\n",
       "      <td>0</td>\n",
       "      <td>0</td>\n",
       "      <td>0</td>\n",
       "      <td>0</td>\n",
       "    </tr>\n",
       "    <tr>\n",
       "      <th>8295</th>\n",
       "      <td>EDII_AIH_P_858_R-001.jpg</td>\n",
       "      <td>0</td>\n",
       "      <td>1</td>\n",
       "      <td>0</td>\n",
       "      <td>0</td>\n",
       "      <td>0</td>\n",
       "      <td>0</td>\n",
       "      <td>0</td>\n",
       "      <td>0</td>\n",
       "      <td>0</td>\n",
       "      <td>0</td>\n",
       "    </tr>\n",
       "  </tbody>\n",
       "</table>\n",
       "<p>781 rows × 11 columns</p>\n",
       "</div>"
      ],
      "text/plain": [
       "                       filename  aeroplane  bird  boat  chair  cow  \\\n",
       "17          DUR_DBM_770-001.jpg          0     1     0      0    0   \n",
       "18          DUR_DBM_769-001.jpg          0     1     0      0    0   \n",
       "40     VA_PC_2007BP2389-001.jpg          0     1     0      0    0   \n",
       "41       LAN_TURT_PCF21-001.jpg          0     1     0      0    0   \n",
       "42         CDN_LBCN_426-001.jpg          0     1     0      0    0   \n",
       "...                         ...        ...   ...   ...    ...  ...   \n",
       "8282   NY_YAG_YORAG_189-001.jpg          0     1     0      0    0   \n",
       "8283   NY_NRM_1976_9315-001.jpg          0     1     1      0    0   \n",
       "8293  NY_YAG_YORAG_1030-001.jpg          0     1     0      0    0   \n",
       "8294  GL_GM_A_1989_23_e-001.jpg          0     1     0      0    0   \n",
       "8295   EDII_AIH_P_858_R-001.jpg          0     1     0      0    0   \n",
       "\n",
       "      diningtable  dog  horse  sheep  train  \n",
       "17              0    1      0      0      0  \n",
       "18              0    0      0      0      0  \n",
       "40              0    0      0      0      0  \n",
       "41              0    0      0      0      0  \n",
       "42              0    0      0      0      0  \n",
       "...           ...  ...    ...    ...    ...  \n",
       "8282            0    0      0      0      0  \n",
       "8283            0    0      0      0      0  \n",
       "8293            0    0      0      0      0  \n",
       "8294            0    0      0      0      0  \n",
       "8295            0    0      0      0      0  \n",
       "\n",
       "[781 rows x 11 columns]"
      ]
     },
     "execution_count": 77,
     "metadata": {},
     "output_type": "execute_result"
    }
   ],
   "source": [
    "# df1, df2 = [x for _, x in df.groupby(df['Sales'] == 1)]\n",
    "# df.loc[lambda df: df['shield'] == 8]\n",
    "\n",
    "for x in cls:\n",
    "    print(x)\n",
    "    a = y_sub[y_sub[x] == 1]\n",
    "\n",
    "a"
   ]
  },
  {
   "cell_type": "code",
   "execution_count": null,
   "id": "8d2f2398",
   "metadata": {},
   "outputs": [],
   "source": [
    "df1, df2 = x for _, x in y_sub.loc(y_sub[x] == 1)"
   ]
  },
  {
   "cell_type": "code",
   "execution_count": null,
   "id": "565891a8",
   "metadata": {},
   "outputs": [],
   "source": [
    "# df1, df2 = [x for _, x in df.groupby(df['Sales'] == 1)]\n",
    "# df.loc[lambda df: df['shield'] == 8]"
   ]
  },
  {
   "cell_type": "code",
   "execution_count": 67,
   "id": "fd65ea32",
   "metadata": {
    "ExecuteTime": {
     "end_time": "2022-09-10T08:40:26.098091Z",
     "start_time": "2022-09-10T08:40:25.965908Z"
    }
   },
   "outputs": [
    {
     "name": "stdout",
     "output_type": "stream",
     "text": [
      "aeroplane\n"
     ]
    },
    {
     "ename": "KeyError",
     "evalue": "'[\"[\\'aeroplane\\', \\'bird\\', \\'boat\\', \\'chair\\', \\'cow\\', \\'diningtable\\', \\'dog\\', \\'horse\\', \\'sheep\\', \\'train\\']\"] not in index'",
     "output_type": "error",
     "traceback": [
      "\u001b[0;31m---------------------------------------------------------------------------\u001b[0m",
      "\u001b[0;31mKeyError\u001b[0m                                  Traceback (most recent call last)",
      "Input \u001b[0;32mIn [67]\u001b[0m, in \u001b[0;36m<cell line: 1>\u001b[0;34m()\u001b[0m\n\u001b[1;32m      2\u001b[0m     \u001b[38;5;28mprint\u001b[39m(i)\n\u001b[1;32m      3\u001b[0m     y_cls \u001b[38;5;241m=\u001b[39m y_sub\u001b[38;5;241m.\u001b[39mloc[:, [\u001b[38;5;124m'\u001b[39m\u001b[38;5;124mfilename\u001b[39m\u001b[38;5;124m'\u001b[39m, \u001b[38;5;124m'\u001b[39m\u001b[38;5;124maeroplane\u001b[39m\u001b[38;5;124m'\u001b[39m, \u001b[38;5;124m'\u001b[39m\u001b[38;5;124mbird\u001b[39m\u001b[38;5;124m'\u001b[39m, \u001b[38;5;124m'\u001b[39m\u001b[38;5;124mboat\u001b[39m\u001b[38;5;124m'\u001b[39m, \u001b[38;5;124m'\u001b[39m\u001b[38;5;124mchair\u001b[39m\u001b[38;5;124m'\u001b[39m, \u001b[38;5;124m'\u001b[39m\u001b[38;5;124mcow\u001b[39m\u001b[38;5;124m'\u001b[39m, \u001b[38;5;124m'\u001b[39m\u001b[38;5;124mdiningtable\u001b[39m\u001b[38;5;124m'\u001b[39m,\n\u001b[1;32m      4\u001b[0m        \u001b[38;5;124m'\u001b[39m\u001b[38;5;124mdog\u001b[39m\u001b[38;5;124m'\u001b[39m, \u001b[38;5;124m'\u001b[39m\u001b[38;5;124mhorse\u001b[39m\u001b[38;5;124m'\u001b[39m, \u001b[38;5;124m'\u001b[39m\u001b[38;5;124msheep\u001b[39m\u001b[38;5;124m'\u001b[39m, \u001b[38;5;124m'\u001b[39m\u001b[38;5;124mtrain\u001b[39m\u001b[38;5;124m'\u001b[39m]]\n\u001b[0;32m----> 5\u001b[0m     y_test \u001b[38;5;241m=\u001b[39m \u001b[43my_sub\u001b[49m\u001b[38;5;241;43m.\u001b[39;49m\u001b[43mloc\u001b[49m\u001b[43m[\u001b[49m\u001b[43m:\u001b[49m\u001b[43m,\u001b[49m\u001b[43m \u001b[49m\u001b[43m[\u001b[49m\u001b[38;5;124;43m'\u001b[39;49m\u001b[38;5;124;43mfilename\u001b[39;49m\u001b[38;5;124;43m'\u001b[39;49m\u001b[43m,\u001b[49m\u001b[43m \u001b[49m\u001b[38;5;28;43mstr\u001b[39;49m\u001b[43m(\u001b[49m\u001b[43mclasses\u001b[49m\u001b[43m)\u001b[49m\u001b[43m]\u001b[49m\u001b[43m]\u001b[49m\n\u001b[1;32m      7\u001b[0m y_cls\n",
      "File \u001b[0;32m~/.pyenv/versions/lewagon/lib/python3.8/site-packages/pandas/core/indexing.py:961\u001b[0m, in \u001b[0;36m_LocationIndexer.__getitem__\u001b[0;34m(self, key)\u001b[0m\n\u001b[1;32m    959\u001b[0m     \u001b[38;5;28;01mif\u001b[39;00m \u001b[38;5;28mself\u001b[39m\u001b[38;5;241m.\u001b[39m_is_scalar_access(key):\n\u001b[1;32m    960\u001b[0m         \u001b[38;5;28;01mreturn\u001b[39;00m \u001b[38;5;28mself\u001b[39m\u001b[38;5;241m.\u001b[39mobj\u001b[38;5;241m.\u001b[39m_get_value(\u001b[38;5;241m*\u001b[39mkey, takeable\u001b[38;5;241m=\u001b[39m\u001b[38;5;28mself\u001b[39m\u001b[38;5;241m.\u001b[39m_takeable)\n\u001b[0;32m--> 961\u001b[0m     \u001b[38;5;28;01mreturn\u001b[39;00m \u001b[38;5;28;43mself\u001b[39;49m\u001b[38;5;241;43m.\u001b[39;49m\u001b[43m_getitem_tuple\u001b[49m\u001b[43m(\u001b[49m\u001b[43mkey\u001b[49m\u001b[43m)\u001b[49m\n\u001b[1;32m    962\u001b[0m \u001b[38;5;28;01melse\u001b[39;00m:\n\u001b[1;32m    963\u001b[0m     \u001b[38;5;66;03m# we by definition only have the 0th axis\u001b[39;00m\n\u001b[1;32m    964\u001b[0m     axis \u001b[38;5;241m=\u001b[39m \u001b[38;5;28mself\u001b[39m\u001b[38;5;241m.\u001b[39maxis \u001b[38;5;129;01mor\u001b[39;00m \u001b[38;5;241m0\u001b[39m\n",
      "File \u001b[0;32m~/.pyenv/versions/lewagon/lib/python3.8/site-packages/pandas/core/indexing.py:1149\u001b[0m, in \u001b[0;36m_LocIndexer._getitem_tuple\u001b[0;34m(self, tup)\u001b[0m\n\u001b[1;32m   1146\u001b[0m \u001b[38;5;28;01mif\u001b[39;00m \u001b[38;5;28mself\u001b[39m\u001b[38;5;241m.\u001b[39m_multi_take_opportunity(tup):\n\u001b[1;32m   1147\u001b[0m     \u001b[38;5;28;01mreturn\u001b[39;00m \u001b[38;5;28mself\u001b[39m\u001b[38;5;241m.\u001b[39m_multi_take(tup)\n\u001b[0;32m-> 1149\u001b[0m \u001b[38;5;28;01mreturn\u001b[39;00m \u001b[38;5;28;43mself\u001b[39;49m\u001b[38;5;241;43m.\u001b[39;49m\u001b[43m_getitem_tuple_same_dim\u001b[49m\u001b[43m(\u001b[49m\u001b[43mtup\u001b[49m\u001b[43m)\u001b[49m\n",
      "File \u001b[0;32m~/.pyenv/versions/lewagon/lib/python3.8/site-packages/pandas/core/indexing.py:827\u001b[0m, in \u001b[0;36m_LocationIndexer._getitem_tuple_same_dim\u001b[0;34m(self, tup)\u001b[0m\n\u001b[1;32m    824\u001b[0m \u001b[38;5;28;01mif\u001b[39;00m com\u001b[38;5;241m.\u001b[39mis_null_slice(key):\n\u001b[1;32m    825\u001b[0m     \u001b[38;5;28;01mcontinue\u001b[39;00m\n\u001b[0;32m--> 827\u001b[0m retval \u001b[38;5;241m=\u001b[39m \u001b[38;5;28;43mgetattr\u001b[39;49m\u001b[43m(\u001b[49m\u001b[43mretval\u001b[49m\u001b[43m,\u001b[49m\u001b[43m \u001b[49m\u001b[38;5;28;43mself\u001b[39;49m\u001b[38;5;241;43m.\u001b[39;49m\u001b[43mname\u001b[49m\u001b[43m)\u001b[49m\u001b[38;5;241;43m.\u001b[39;49m\u001b[43m_getitem_axis\u001b[49m\u001b[43m(\u001b[49m\u001b[43mkey\u001b[49m\u001b[43m,\u001b[49m\u001b[43m \u001b[49m\u001b[43maxis\u001b[49m\u001b[38;5;241;43m=\u001b[39;49m\u001b[43mi\u001b[49m\u001b[43m)\u001b[49m\n\u001b[1;32m    828\u001b[0m \u001b[38;5;66;03m# We should never have retval.ndim < self.ndim, as that should\u001b[39;00m\n\u001b[1;32m    829\u001b[0m \u001b[38;5;66;03m#  be handled by the _getitem_lowerdim call above.\u001b[39;00m\n\u001b[1;32m    830\u001b[0m \u001b[38;5;28;01massert\u001b[39;00m retval\u001b[38;5;241m.\u001b[39mndim \u001b[38;5;241m==\u001b[39m \u001b[38;5;28mself\u001b[39m\u001b[38;5;241m.\u001b[39mndim\n",
      "File \u001b[0;32m~/.pyenv/versions/lewagon/lib/python3.8/site-packages/pandas/core/indexing.py:1191\u001b[0m, in \u001b[0;36m_LocIndexer._getitem_axis\u001b[0;34m(self, key, axis)\u001b[0m\n\u001b[1;32m   1188\u001b[0m     \u001b[38;5;28;01mif\u001b[39;00m \u001b[38;5;28mhasattr\u001b[39m(key, \u001b[38;5;124m\"\u001b[39m\u001b[38;5;124mndim\u001b[39m\u001b[38;5;124m\"\u001b[39m) \u001b[38;5;129;01mand\u001b[39;00m key\u001b[38;5;241m.\u001b[39mndim \u001b[38;5;241m>\u001b[39m \u001b[38;5;241m1\u001b[39m:\n\u001b[1;32m   1189\u001b[0m         \u001b[38;5;28;01mraise\u001b[39;00m \u001b[38;5;167;01mValueError\u001b[39;00m(\u001b[38;5;124m\"\u001b[39m\u001b[38;5;124mCannot index with multidimensional key\u001b[39m\u001b[38;5;124m\"\u001b[39m)\n\u001b[0;32m-> 1191\u001b[0m     \u001b[38;5;28;01mreturn\u001b[39;00m \u001b[38;5;28;43mself\u001b[39;49m\u001b[38;5;241;43m.\u001b[39;49m\u001b[43m_getitem_iterable\u001b[49m\u001b[43m(\u001b[49m\u001b[43mkey\u001b[49m\u001b[43m,\u001b[49m\u001b[43m \u001b[49m\u001b[43maxis\u001b[49m\u001b[38;5;241;43m=\u001b[39;49m\u001b[43maxis\u001b[49m\u001b[43m)\u001b[49m\n\u001b[1;32m   1193\u001b[0m \u001b[38;5;66;03m# nested tuple slicing\u001b[39;00m\n\u001b[1;32m   1194\u001b[0m \u001b[38;5;28;01mif\u001b[39;00m is_nested_tuple(key, labels):\n",
      "File \u001b[0;32m~/.pyenv/versions/lewagon/lib/python3.8/site-packages/pandas/core/indexing.py:1132\u001b[0m, in \u001b[0;36m_LocIndexer._getitem_iterable\u001b[0;34m(self, key, axis)\u001b[0m\n\u001b[1;32m   1129\u001b[0m \u001b[38;5;28mself\u001b[39m\u001b[38;5;241m.\u001b[39m_validate_key(key, axis)\n\u001b[1;32m   1131\u001b[0m \u001b[38;5;66;03m# A collection of keys\u001b[39;00m\n\u001b[0;32m-> 1132\u001b[0m keyarr, indexer \u001b[38;5;241m=\u001b[39m \u001b[38;5;28;43mself\u001b[39;49m\u001b[38;5;241;43m.\u001b[39;49m\u001b[43m_get_listlike_indexer\u001b[49m\u001b[43m(\u001b[49m\u001b[43mkey\u001b[49m\u001b[43m,\u001b[49m\u001b[43m \u001b[49m\u001b[43maxis\u001b[49m\u001b[43m)\u001b[49m\n\u001b[1;32m   1133\u001b[0m \u001b[38;5;28;01mreturn\u001b[39;00m \u001b[38;5;28mself\u001b[39m\u001b[38;5;241m.\u001b[39mobj\u001b[38;5;241m.\u001b[39m_reindex_with_indexers(\n\u001b[1;32m   1134\u001b[0m     {axis: [keyarr, indexer]}, copy\u001b[38;5;241m=\u001b[39m\u001b[38;5;28;01mTrue\u001b[39;00m, allow_dups\u001b[38;5;241m=\u001b[39m\u001b[38;5;28;01mTrue\u001b[39;00m\n\u001b[1;32m   1135\u001b[0m )\n",
      "File \u001b[0;32m~/.pyenv/versions/lewagon/lib/python3.8/site-packages/pandas/core/indexing.py:1327\u001b[0m, in \u001b[0;36m_LocIndexer._get_listlike_indexer\u001b[0;34m(self, key, axis)\u001b[0m\n\u001b[1;32m   1324\u001b[0m ax \u001b[38;5;241m=\u001b[39m \u001b[38;5;28mself\u001b[39m\u001b[38;5;241m.\u001b[39mobj\u001b[38;5;241m.\u001b[39m_get_axis(axis)\n\u001b[1;32m   1325\u001b[0m axis_name \u001b[38;5;241m=\u001b[39m \u001b[38;5;28mself\u001b[39m\u001b[38;5;241m.\u001b[39mobj\u001b[38;5;241m.\u001b[39m_get_axis_name(axis)\n\u001b[0;32m-> 1327\u001b[0m keyarr, indexer \u001b[38;5;241m=\u001b[39m \u001b[43max\u001b[49m\u001b[38;5;241;43m.\u001b[39;49m\u001b[43m_get_indexer_strict\u001b[49m\u001b[43m(\u001b[49m\u001b[43mkey\u001b[49m\u001b[43m,\u001b[49m\u001b[43m \u001b[49m\u001b[43maxis_name\u001b[49m\u001b[43m)\u001b[49m\n\u001b[1;32m   1329\u001b[0m \u001b[38;5;28;01mreturn\u001b[39;00m keyarr, indexer\n",
      "File \u001b[0;32m~/.pyenv/versions/lewagon/lib/python3.8/site-packages/pandas/core/indexes/base.py:5782\u001b[0m, in \u001b[0;36mIndex._get_indexer_strict\u001b[0;34m(self, key, axis_name)\u001b[0m\n\u001b[1;32m   5779\u001b[0m \u001b[38;5;28;01melse\u001b[39;00m:\n\u001b[1;32m   5780\u001b[0m     keyarr, indexer, new_indexer \u001b[38;5;241m=\u001b[39m \u001b[38;5;28mself\u001b[39m\u001b[38;5;241m.\u001b[39m_reindex_non_unique(keyarr)\n\u001b[0;32m-> 5782\u001b[0m \u001b[38;5;28;43mself\u001b[39;49m\u001b[38;5;241;43m.\u001b[39;49m\u001b[43m_raise_if_missing\u001b[49m\u001b[43m(\u001b[49m\u001b[43mkeyarr\u001b[49m\u001b[43m,\u001b[49m\u001b[43m \u001b[49m\u001b[43mindexer\u001b[49m\u001b[43m,\u001b[49m\u001b[43m \u001b[49m\u001b[43maxis_name\u001b[49m\u001b[43m)\u001b[49m\n\u001b[1;32m   5784\u001b[0m keyarr \u001b[38;5;241m=\u001b[39m \u001b[38;5;28mself\u001b[39m\u001b[38;5;241m.\u001b[39mtake(indexer)\n\u001b[1;32m   5785\u001b[0m \u001b[38;5;28;01mif\u001b[39;00m \u001b[38;5;28misinstance\u001b[39m(key, Index):\n\u001b[1;32m   5786\u001b[0m     \u001b[38;5;66;03m# GH 42790 - Preserve name from an Index\u001b[39;00m\n",
      "File \u001b[0;32m~/.pyenv/versions/lewagon/lib/python3.8/site-packages/pandas/core/indexes/base.py:5845\u001b[0m, in \u001b[0;36mIndex._raise_if_missing\u001b[0;34m(self, key, indexer, axis_name)\u001b[0m\n\u001b[1;32m   5842\u001b[0m     \u001b[38;5;28;01mraise\u001b[39;00m \u001b[38;5;167;01mKeyError\u001b[39;00m(\u001b[38;5;124mf\u001b[39m\u001b[38;5;124m\"\u001b[39m\u001b[38;5;124mNone of [\u001b[39m\u001b[38;5;132;01m{\u001b[39;00mkey\u001b[38;5;132;01m}\u001b[39;00m\u001b[38;5;124m] are in the [\u001b[39m\u001b[38;5;132;01m{\u001b[39;00maxis_name\u001b[38;5;132;01m}\u001b[39;00m\u001b[38;5;124m]\u001b[39m\u001b[38;5;124m\"\u001b[39m)\n\u001b[1;32m   5844\u001b[0m not_found \u001b[38;5;241m=\u001b[39m \u001b[38;5;28mlist\u001b[39m(ensure_index(key)[missing_mask\u001b[38;5;241m.\u001b[39mnonzero()[\u001b[38;5;241m0\u001b[39m]]\u001b[38;5;241m.\u001b[39munique())\n\u001b[0;32m-> 5845\u001b[0m \u001b[38;5;28;01mraise\u001b[39;00m \u001b[38;5;167;01mKeyError\u001b[39;00m(\u001b[38;5;124mf\u001b[39m\u001b[38;5;124m\"\u001b[39m\u001b[38;5;132;01m{\u001b[39;00mnot_found\u001b[38;5;132;01m}\u001b[39;00m\u001b[38;5;124m not in index\u001b[39m\u001b[38;5;124m\"\u001b[39m)\n",
      "\u001b[0;31mKeyError\u001b[0m: '[\"[\\'aeroplane\\', \\'bird\\', \\'boat\\', \\'chair\\', \\'cow\\', \\'diningtable\\', \\'dog\\', \\'horse\\', \\'sheep\\', \\'train\\']\"] not in index'"
     ]
    }
   ],
   "source": [
    "for i in classes:\n",
    "    print(i)\n",
    "    y_cls = y_sub.loc[:, ['filename', 'aeroplane', 'bird', 'boat', 'chair', 'cow', 'diningtable',\n",
    "       'dog', 'horse', 'sheep', 'train']]\n",
    "\n",
    "y_cls"
   ]
  },
  {
   "cell_type": "code",
   "execution_count": null,
   "id": "aeae5c7c",
   "metadata": {},
   "outputs": [],
   "source": [
    "df.loc[lambda df: df['shield'] == 8]"
   ]
  },
  {
   "cell_type": "code",
   "execution_count": 43,
   "id": "9e7c5449",
   "metadata": {
    "ExecuteTime": {
     "end_time": "2022-09-10T08:03:42.923002Z",
     "start_time": "2022-09-10T08:03:42.916754Z"
    }
   },
   "outputs": [
    {
     "data": {
      "text/plain": [
       "Index(['index', 'Image URL', 'Web page URL', 'Subset', 'Labels', 'filename',\n",
       "       'labels', 'aeroplane', 'bird', 'boat', 'chair', 'cow', 'diningtable',\n",
       "       'dog', 'horse', 'sheep', 'train'],\n",
       "      dtype='object')"
      ]
     },
     "execution_count": 43,
     "metadata": {},
     "output_type": "execute_result"
    }
   ],
   "source": [
    "df.columns"
   ]
  },
  {
   "cell_type": "code",
   "execution_count": 11,
   "id": "cd4b9af6",
   "metadata": {
    "ExecuteTime": {
     "end_time": "2022-09-10T07:18:43.531491Z",
     "start_time": "2022-09-10T07:18:43.489764Z"
    }
   },
   "outputs": [
    {
     "name": "stdout",
     "output_type": "stream",
     "text": [
      "(8296,)\n",
      "(8296, 10)\n"
     ]
    },
    {
     "data": {
      "text/html": [
       "<div>\n",
       "<style scoped>\n",
       "    .dataframe tbody tr th:only-of-type {\n",
       "        vertical-align: middle;\n",
       "    }\n",
       "\n",
       "    .dataframe tbody tr th {\n",
       "        vertical-align: top;\n",
       "    }\n",
       "\n",
       "    .dataframe thead th {\n",
       "        text-align: right;\n",
       "    }\n",
       "</style>\n",
       "<table border=\"1\" class=\"dataframe\">\n",
       "  <thead>\n",
       "    <tr style=\"text-align: right;\">\n",
       "      <th></th>\n",
       "      <th>aeroplane</th>\n",
       "      <th>bird</th>\n",
       "      <th>boat</th>\n",
       "      <th>chair</th>\n",
       "      <th>cow</th>\n",
       "      <th>diningtable</th>\n",
       "      <th>dog</th>\n",
       "      <th>horse</th>\n",
       "      <th>sheep</th>\n",
       "      <th>train</th>\n",
       "    </tr>\n",
       "  </thead>\n",
       "  <tbody>\n",
       "    <tr>\n",
       "      <th>0</th>\n",
       "      <td>0</td>\n",
       "      <td>0</td>\n",
       "      <td>0</td>\n",
       "      <td>0</td>\n",
       "      <td>1</td>\n",
       "      <td>0</td>\n",
       "      <td>0</td>\n",
       "      <td>0</td>\n",
       "      <td>0</td>\n",
       "      <td>0</td>\n",
       "    </tr>\n",
       "    <tr>\n",
       "      <th>1</th>\n",
       "      <td>0</td>\n",
       "      <td>0</td>\n",
       "      <td>0</td>\n",
       "      <td>0</td>\n",
       "      <td>0</td>\n",
       "      <td>0</td>\n",
       "      <td>0</td>\n",
       "      <td>0</td>\n",
       "      <td>0</td>\n",
       "      <td>1</td>\n",
       "    </tr>\n",
       "    <tr>\n",
       "      <th>2</th>\n",
       "      <td>0</td>\n",
       "      <td>0</td>\n",
       "      <td>0</td>\n",
       "      <td>0</td>\n",
       "      <td>0</td>\n",
       "      <td>0</td>\n",
       "      <td>0</td>\n",
       "      <td>0</td>\n",
       "      <td>0</td>\n",
       "      <td>1</td>\n",
       "    </tr>\n",
       "    <tr>\n",
       "      <th>3</th>\n",
       "      <td>0</td>\n",
       "      <td>0</td>\n",
       "      <td>0</td>\n",
       "      <td>0</td>\n",
       "      <td>0</td>\n",
       "      <td>0</td>\n",
       "      <td>0</td>\n",
       "      <td>0</td>\n",
       "      <td>0</td>\n",
       "      <td>1</td>\n",
       "    </tr>\n",
       "    <tr>\n",
       "      <th>4</th>\n",
       "      <td>0</td>\n",
       "      <td>0</td>\n",
       "      <td>0</td>\n",
       "      <td>0</td>\n",
       "      <td>0</td>\n",
       "      <td>0</td>\n",
       "      <td>0</td>\n",
       "      <td>1</td>\n",
       "      <td>0</td>\n",
       "      <td>0</td>\n",
       "    </tr>\n",
       "  </tbody>\n",
       "</table>\n",
       "</div>"
      ],
      "text/plain": [
       "   aeroplane  bird  boat  chair  cow  diningtable  dog  horse  sheep  train\n",
       "0          0     0     0      0    1            0    0      0      0      0\n",
       "1          0     0     0      0    0            0    0      0      0      1\n",
       "2          0     0     0      0    0            0    0      0      0      1\n",
       "3          0     0     0      0    0            0    0      0      0      1\n",
       "4          0     0     0      0    0            0    0      1      0      0"
      ]
     },
     "execution_count": 11,
     "metadata": {},
     "output_type": "execute_result"
    }
   ],
   "source": [
    "print(X.shape)\n",
    "print(y.shape)\n",
    "y.head()"
   ]
  },
  {
   "cell_type": "code",
   "execution_count": null,
   "id": "084a4f2d",
   "metadata": {
    "ExecuteTime": {
     "start_time": "2022-09-10T06:58:06.467Z"
    }
   },
   "outputs": [],
   "source": [
    "imgs = []\n",
    "df = pd.read_csv(f\"gs://{config.BUCKET_NAME}/{config.BUCKET_TRAIN_DATA_FILE}\")"
   ]
  },
  {
   "cell_type": "code",
   "execution_count": null,
   "id": "3083bac3",
   "metadata": {
    "ExecuteTime": {
     "start_time": "2022-09-10T06:56:58.294Z"
    }
   },
   "outputs": [],
   "source": [
    "for index, row in df.iterrows():\n",
    "    img_file = str(row[\"filename\"])\n",
    "    image = Image.open(os.path.join(f\"gs://{config.BUCKET_NAME}/{config.BUCKET_TRAIN_DATA_PATH}\", img_file))\n",
    "    image = image.resize((256, 256), Image.ANTIALIAS)\n",
    "    #image.save(os.path.join(config.PATH_YOURPAINTINGS_SM, img_file))\n",
    "    imgs.append(np.array(image))\n",
    "return imgs, df"
   ]
  },
  {
   "cell_type": "code",
   "execution_count": null,
   "id": "9d3a21f2",
   "metadata": {},
   "outputs": [],
   "source": [
    "def blur_offensive_images(data):\n",
    "    file_data = data\n",
    "\n",
    "    file_name = file_data[\"name\"]\n",
    "    bucket_name = file_data[\"bucket\"]\n",
    "\n",
    "    blob = storage_client.bucket(bucket_name).get_blob(file_name)\n",
    "    blob_uri = f\"gs://{bucket_name}/{file_name}\"\n",
    "    blob_source = vision.Image(source=vision.ImageSource(image_uri=blob_uri))"
   ]
  },
  {
   "cell_type": "code",
   "execution_count": 12,
   "id": "876fd265",
   "metadata": {
    "ExecuteTime": {
     "end_time": "2022-09-10T06:25:31.453419Z",
     "start_time": "2022-09-10T06:25:31.271323Z"
    }
   },
   "outputs": [
    {
     "name": "stdout",
     "output_type": "stream",
     "text": [
      "[Errno 2] No such file or directory: '../raw_data/yourpaintings_sm'\n",
      "/Users/enjiaochen/code/erniesg/art_api/raw_data/yourpaintings_sm\n",
      "ABD_AAG_002200-001.jpg\r\n",
      "ABD_AAG_002751-001.jpg\r\n",
      "ABD_AAG_003645-001.jpg\r\n",
      "ABD_AAG_003739-001.jpg\r\n",
      "ABD_AAG_003952-001.jpg\r\n",
      "ABD_AAG_005011-001.jpg\r\n",
      "ABD_AAG_010590-001.jpg\r\n",
      "ABD_AAG_013539-001.jpg\r\n",
      "ABD_AAG_2776-001.jpg\r\n",
      "ABD_AAG_2812-001.jpg\r\n",
      "ABD_AAG_2879-001.jpg\r\n",
      "ABD_AAG_ABDAG002249-001.jpg\r\n",
      "ABD_AAG_ABDAG003660-001.jpg\r\n",
      "ABD_AAG_ABDAG010584-001.jpg\r\n",
      "ABD_AAG_ABDAG013824-001.jpg\r\n",
      "ABD_AAG_AG002197-001.jpg\r\n",
      "ABD_AAG_AG002221-001.jpg\r\n",
      "ABD_AAG_AG002252-001.jpg\r\n",
      "ABD_AAG_AG002303-001.jpg\r\n",
      "ABD_AAG_AG002568-001.jpg\r\n",
      "ABD_AAG_AG002683.jpg\r\n",
      "ABD_AAG_AG002749-001.jpg\r\n",
      "ABD_AAG_AG003159-001.jpg\r\n",
      "ABD_AAG_AG003737a-001.jpg\r\n",
      "ABD_AAG_AG004478-001.jpg\r\n",
      "ABD_AAG_AG006583-001.jpg\r\n",
      "ABD_AAG_AG009637-001.jpg\r\n",
      "ABD_AAG_AG011574-001.jpg\r\n",
      "ABD_AAG_ag000003-001.jpg\r\n",
      "ABD_AAG_ag000687-001.jpg\r\n",
      "ABD_AAG_ag002220-001.jpg\r\n",
      "ABD_AAG_ag002253-001.jpg\r\n",
      "ABD_AAG_ag002290-001.jpg\r\n",
      "ABD_AAG_ag002357-001.jpg\r\n",
      "ABD_AAG_ag002423-001.jpg\r\n",
      "ABD_AAG_ag002532-001.jpg\r\n",
      "ABD_AAG_ag002637-001.jpg\r\n",
      "ABD_AAG_ag002867-001.jpg\r\n",
      "ABD_AAG_ag003119-001.jpg\r\n",
      "ABD_AAG_ag003361-001.jpg\r\n",
      "ABD_AAG_ag003518-001.jpg\r\n",
      "ABD_AAG_ag003643-001.jpg\r\n",
      "ABD_AAG_ag003732-001.jpg\r\n",
      "ABD_AAG_ag004071-001.jpg\r\n",
      "ABD_AAG_ag004413-001.jpg\r\n",
      "ABD_AAG_ag004430-001.jpg\r\n",
      "ABD_AAG_ag004525-001.jpg\r\n",
      "ABD_AAG_ag008403-001.jpg\r\n",
      "ABD_AAG_ag009575-001.jpg\r\n",
      "ABD_AAG_ag009580-001.jpg\r\n",
      "ABD_AAG_ag009607-001.jpg\r\n",
      "ABD_AAG_ag010591-001.jpg\r\n",
      "ABD_AAG_ag012121-001.jpg\r\n",
      "ABD_AAG_ag013608-001.jpg\r\n",
      "ABD_AAG_ag013657-001.jpg\r\n",
      "ABD_AAG_ag014134-001.jpg\r\n",
      "ABD_ARI_2001_103-001.jpg\r\n",
      "ABD_ARI_80214-001.jpg\r\n",
      "ABD_ARI_GHAT_94002-001.jpg\r\n",
      "ABD_ARI_GHAT_98258-001.jpg\r\n",
      "ABD_GHIM_005-001.jpg\r\n",
      "ABD_MHA_1002-001.jpg\r\n",
      "ABD_MMU_10201-001.jpg\r\n",
      "ABD_MMU_1262-001.jpg\r\n",
      "ABD_MMU_1264-001.jpg\r\n",
      "ABD_MMU_1265-001.jpg\r\n",
      "ABD_MMU_13092-001.jpg\r\n",
      "ABD_MMU_13229-001.jpg\r\n",
      "ABD_MMU_13231-001.jpg\r\n",
      "ABD_MMU_4557-001.jpg\r\n",
      "ABD_MMU_8015-001.jpg\r\n",
      "ABD_MMU_AG008017-001.jpg\r\n",
      "ABD_MMU_AG008040b-001.jpg\r\n",
      "ABD_MMU_ag001279-001.jpg\r\n",
      "ABD_MMU_ag008009-001.jpg\r\n",
      "ABD_MMU_ag013130-001.jpg\r\n",
      "ABD_MMU_ag013167_001-001.jpg\r\n",
      "ABD_MMU_ag013167_002-001.jpg\r\n",
      "ABD_RGU_10031-001.jpg\r\n",
      "ABD_RGU_10130-001.jpg\r\n",
      "ABD_RGU_101561.jpg\r\n",
      "ABD_RGU_10196-001.jpg\r\n",
      "ABD_RGU_153-001.jpg\r\n",
      "ABD_RGU_2006_16-001.jpg\r\n",
      "ABD_RGU_220-001.jpg\r\n",
      "ABD_RGU_351-001.jpg\r\n",
      "ABD_RGU_445-001.jpg\r\n",
      "ABD_RGU_556-001.jpg\r\n",
      "ABD_RGU_75-001.jpg\r\n",
      "ABD_RGU_DSCF0116-001.jpg\r\n",
      "ABD_RGU_DSCF0127-001.jpg\r\n",
      "ABD_RGU_DSCF2043-001.jpg\r\n",
      "ABD_RGU_DSCF2055-001.jpg\r\n",
      "ABD_RGU_DSCF2726-001.jpg\r\n",
      "ABD_RGU_DSCF4159-001.jpg\r\n",
      "ABD_RGU_DSCF7164-001.jpg\r\n",
      "ABD_RGU_DSCFA1954-001.jpg\r\n",
      "ABD_UA_30001-001.jpg\r\n",
      "ABD_UA_30007-001.jpg\r\n",
      "ABD_UA_30025-001.jpg\r\n",
      "ABD_UA_30027-001.jpg\r\n",
      "ABD_UA_30051-001.jpg\r\n",
      "ABD_UA_30058-001.jpg\r\n",
      "ABD_UA_30103-001.jpg\r\n",
      "ABD_UA_30115-001.jpg\r\n",
      "ABD_UA_30116-001.jpg\r\n",
      "ABD_UA_30120-001.jpg\r\n",
      "ABD_UA_30147-001.jpg\r\n",
      "ABD_UA_30150-001.jpg\r\n",
      "ABD_UA_30156-001.jpg\r\n",
      "ABD_UA_30160-001.jpg\r\n",
      "ABD_UA_30169-001.jpg\r\n",
      "ABD_UA_30189-001.jpg\r\n",
      "ABD_UA_30310-001.jpg\r\n",
      "ABD_UA_30480-001.jpg\r\n",
      "ABD_UA_30527-001.jpg\r\n",
      "ABD_UA_30611-001.jpg\r\n",
      "ABD_UA_30616-001.jpg\r\n",
      "ABD_UA_30638-001.jpg\r\n",
      "ABD_UA_30648-001.jpg\r\n",
      "ABD_UA_30671-001.jpg\r\n",
      "ABD_UA_30758-001.jpg\r\n",
      "ABD_UA_31085-001.jpg\r\n",
      "ABD_UA_31197-001.jpg\r\n",
      "ABD_UA_31860-001.jpg\r\n",
      "ABD_UA_31916-001.jpg\r\n",
      "ABD_UA_31920-001.jpg\r\n",
      "ABD_UA_32194-001.jpg\r\n",
      "ABD_UA_32199-001.jpg\r\n",
      "ACC_ACC_AC88-001.jpg\r\n",
      "ACC_ACC_ACA_58-001.jpg\r\n",
      "ACC_ACC_ACC10_1990-001.jpg\r\n",
      "ACC_ACC_ACC160_1998-001.jpg\r\n",
      "ACC_ACC_ACC16_2001-001.jpg\r\n",
      "ACC_ACC_ACC18_2001-001.jpg\r\n",
      "ACC_ACC_ACC19_2001-001.jpg\r\n",
      "ACC_ACC_ACC21_2001-001.jpg\r\n",
      "ACC_ACC_ACC234_1998-001.jpg\r\n",
      "ACC_ACC_ACC2_2003-001.jpg\r\n",
      "ACC_ACC_ACC38_1991-001.jpg\r\n",
      "ACC_ACC_ACC4_1951-001.jpg\r\n",
      "ACC_ACC_AC_107-001.jpg\r\n",
      "ACC_ACC_AC_108-001.jpg\r\n",
      "ACC_ACC_AC_1374-001.jpg\r\n",
      "ACC_ACC_AC_1431-001.jpg\r\n",
      "ACC_ACC_AC_1513-001.jpg\r\n",
      "ACC_ACC_AC_164-001.jpg\r\n",
      "ACC_ACC_AC_192-001.jpg\r\n",
      "ACC_ACC_AC_2039-001.jpg\r\n",
      "ACC_ACC_AC_2065-001.jpg\r\n",
      "ACC_ACC_AC_227-001.jpg\r\n",
      "ACC_ACC_AC_242-001.jpg\r\n",
      "ACC_ACC_AC_260-001.jpg\r\n",
      "ACC_ACC_AC_265-001.jpg\r\n",
      "ACC_ACC_AC_295-001.jpg\r\n",
      "ACC_ACC_AC_304-001.jpg\r\n",
      "ACC_ACC_AC_3057-001.jpg\r\n",
      "ACC_ACC_AC_3070-001.jpg\r\n",
      "ACC_ACC_AC_3081-001.jpg\r\n",
      "ACC_ACC_AC_3091-001.jpg\r\n",
      "ACC_ACC_AC_320-001.jpg\r\n",
      "ACC_ACC_AC_324-001.jpg\r\n",
      "ACC_ACC_AC_367-001.jpg\r\n",
      "ACC_ACC_AC_380-001.jpg\r\n",
      "ACC_ACC_AC_391-001.jpg\r\n",
      "ACC_ACC_AC_414-001.jpg\r\n",
      "ACC_ACC_AC_415-001.jpg\r\n",
      "ACC_ACC_AC_429-001.jpg\r\n",
      "ACC_ACC_AC_44-001.jpg\r\n",
      "ACC_ACC_AC_494-001.jpg\r\n",
      "ACC_ACC_AC_5026-001.jpg\r\n",
      "ACC_ACC_AC_5289-001.jpg\r\n",
      "ACC_ACC_AC_5319-001.jpg\r\n",
      "ACC_ACC_AC_5356-001.jpg\r\n",
      "ACC_ACC_AC_5392-001.jpg\r\n",
      "ACC_ACC_AC_5394-001.jpg\r\n",
      "ACC_ACC_AC_5449-001.jpg\r\n",
      "ACC_ACC_AC_5487-001.jpg\r\n",
      "ACC_ACC_AC_5502-001.jpg\r\n",
      "ACC_ACC_AC_5504-001.jpg\r\n",
      "ACC_ACC_AC_598-001.jpg\r\n",
      "ACC_ACC_AC_62-001.jpg\r\n",
      "ACC_ACC_AC_622-001.jpg\r\n",
      "ACC_ACC_AC_67-001.jpg\r\n",
      "ACC_ACC_AC_704-001.jpg\r\n",
      "ACC_ACC_AC_77-001.jpg\r\n",
      "ACC_ACC_AC_79-001.jpg\r\n",
      "ACC_ACC_AC_817-001.jpg\r\n",
      "ACC_ACC_AC_97-001.jpg\r\n",
      "ACNMW_ACNMW_56_494_7-001.jpg\r\n",
      "ACNMW_ACNMW_80_121I-001.jpg\r\n",
      "ACNMW_ACNMW_DA000308-001.jpg\r\n",
      "ACNMW_ACNMW_DA000309-001.jpg\r\n",
      "ACNMW_ACNMW_DA000377-001.jpg\r\n",
      "ACNMW_ACNMW_DA000398-001.jpg\r\n",
      "ACNMW_ACNMW_DA000642-001.jpg\r\n",
      "ACNMW_ACNMW_DA000660-001.jpg\r\n",
      "ACNMW_ACNMW_DA000672-001.jpg\r\n",
      "ACNMW_ACNMW_DA001036-001.jpg\r\n",
      "ACNMW_ACNMW_DA006465-001.jpg\r\n",
      "ACNMW_ACNMW_DA006524-001.jpg\r\n",
      "ACNMW_ACNMW_DI003426-001.jpg\r\n",
      "ACNMW_ACNMW_DI007082-001.jpg\r\n",
      "ACNMW_ACNMW_DI007084-001.jpg\r\n",
      "ACNMW_ACNMW_NMWA10075-001.jpg\r\n",
      "ACNMW_ACNMW_NMWA25730-001.jpg\r\n",
      "ACNMW_ACNMW_NMWA3006-001.jpg\r\n",
      "ACNMW_ACNMW_NMWA4967-001.jpg\r\n",
      "ACNMW_ACNMW_NMWA4997-001.jpg\r\n",
      "ACNMW_ACNMW_NMWA5116-001.jpg\r\n",
      "ACNMW_ACNMW_P_456_1-001.jpg\r\n",
      "ASH_ASHM_WA1851_21-001.jpg\r\n",
      "ASH_ASHM_WA1940_2_47-001.jpg\r\n",
      "ASH_ASHM_WA1950_26-001.jpg\r\n",
      "ASH_ASHM_WA1957_59_2-001.jpg\r\n",
      "ASH_ASHM_WA1968_27-001.jpg\r\n",
      "ASH_ASHM_WA1969_21-001.jpg\r\n",
      "BBO_CHQ_131-001.jpg\r\n",
      "BBO_CHQ_193-001.jpg\r\n",
      "BBO_CMM_4P-001.jpg\r\n",
      "BBO_DA_20081-001.jpg\r\n",
      "BBO_DA_6-001.jpg\r\n",
      "BBO_HL_2-001.jpg\r\n",
      "BBO_HWM_80-001.jpg\r\n",
      "BBO_HWM_90-001.jpg\r\n",
      "BBO_MERL_M_22-001.jpg\r\n",
      "BBO_MERL_M_24-001.jpg\r\n",
      "BBO_MERL_M_26-001.jpg\r\n",
      "BBO_MERL_M_28-001.jpg\r\n",
      "BBO_MERL_M_35-001.jpg\r\n",
      "BBO_MERL_M_44-001.jpg\r\n",
      "BBO_MKGH_27-001.jpg\r\n",
      "BBO_ORH_JR13-001.jpg\r\n",
      "BBO_ORH_JR57-001.jpg\r\n",
      "BBO_OXBTC_16-001.jpg\r\n",
      "BBO_RM_112-001.jpg\r\n",
      "BBO_SSGA_01-001.jpg\r\n",
      "BBO_SSGA_04-001.jpg\r\n",
      "BBO_UOR_116-001.jpg\r\n",
      "BCN_BBC_FP_131-001.jpg\r\n",
      "BCN_BBC_FP_140-001.jpg\r\n",
      "BCN_BBC_FP_148-001.jpg\r\n",
      "BCN_BBC_FP_149-001.jpg\r\n",
      "BCN_BLA_X306_64-001.jpg\r\n",
      "BCN_BMC_PCF4-001.jpg\r\n",
      "BCN_CPS_1-001.jpg\r\n",
      "BCN_CS_6-001.jpg\r\n",
      "BCN_ELYM_1989_25-001.jpg\r\n",
      "BCN_ELYM_1999_091-001.jpg\r\n",
      "BCN_ELYM_PCF3-001.jpg\r\n",
      "BCN_FAT_1-001.jpg\r\n",
      "BCN_FAT_2-001.jpg\r\n",
      "BCN_HFTC_02-001.jpg\r\n",
      "BCN_PCC_3-001.jpg\r\n",
      "BCO_BCO_P5053-001.jpg\r\n",
      "BRM_BIFA_43_1-001.jpg\r\n",
      "BRM_BIFA_54_7-001.jpg\r\n",
      "BRM_BMAG_1885P2486-001.jpg\r\n",
      "BRM_BMAG_1892P41_10-001.jpg\r\n",
      "BRM_BMAG_1935P72-001.jpg\r\n",
      "BRM_BMAG_1944P169-001.jpg\r\n",
      "BRM_BMAG_1946P19-001.jpg\r\n",
      "BRM_BMAG_1953P29-001.jpg\r\n",
      "BRM_BMAG_1988V1837-001.jpg\r\n",
      "BRM_UCE_UA_GG_009-001.jpg\r\n",
      "BST_BMAGG_K1421-001.jpg\r\n",
      "BST_BMAGG_K2416-001.jpg\r\n",
      "BST_BMAGG_K2926-001.jpg\r\n",
      "BST_BMAGG_K5109-001.jpg\r\n",
      "BST_BMAGG_K932-001.jpg\r\n",
      "BST_BUNHS_PCF8-001.jpg\r\n",
      "BST_BUNHS_PCF9-001.jpg\r\n",
      "BST_NSMH_F0134-001.jpg\r\n",
      "BST_RWA_1201-001.jpg\r\n",
      "BST_RWA_189-001.jpg\r\n",
      "BST_RWA_743-001.jpg\r\n",
      "BST_RWA_755-001.jpg\r\n",
      "BST_RWA_PCF30-001.jpg\r\n",
      "CAM_CCF_0305-001.jpg\r\n",
      "CAM_CCF_0363-001.jpg\r\n",
      "CAM_CCF_0609A-001.jpg\r\n",
      "CAM_CCF_13-001.jpg\r\n",
      "CAM_CCF_361-001.jpg\r\n",
      "CAM_CCF_450-001.jpg\r\n",
      "CAM_CCF_KCL_DELA2-001.jpg\r\n",
      "CAM_CCF_PD_150_1985-001.jpg\r\n",
      "CAM_CCF_PD_37_1992-001.jpg\r\n",
      "CAM_CCF_PD_57_1996-001.jpg\r\n",
      "CAM_CCF_PD_68_1974-001.jpg\r\n",
      "CAM_CCF_PD_69_1948-001.jpg\r\n",
      "CAM_CCF_PD_9_1988-001.jpg\r\n",
      "CBR_CUC_PCF_2001_45-001.jpg\r\n",
      "CBR_DMB_08031-001.jpg\r\n",
      "CBR_HTM_WOKTM_T524.jpg\r\n",
      "CBR_KMAG_KESMG_3714-001.jpg\r\n",
      "CBR_PEM_PEQPM_PD1989_6-001.jpg\r\n",
      "CBR_PEM_PEQPM_PD1989_9-001.jpg\r\n",
      "CBR_THMA_1932_4-001.jpg\r\n",
      "CBR_THMA_1975_146_1-001.jpg\r\n",
      "CBR_THMA_2002_114-001.jpg\r\n",
      "CBR_WOT_2011_23_2-001.jpg\r\n",
      "CDNII_BRL_F866-001.jpg\r\n",
      "CDNII_BRL_WD2209_fol_16-001.jpg\r\n",
      "CDNII_BUG_1994_33-001.jpg\r\n",
      "CDNII_KEN_J910563-001.jpg\r\n",
      "CDNII_KEN_K991042-001.jpg\r\n",
      "CDNII_RAS_01_013-001.jpg\r\n",
      "CDN_CLS_086493-001.jpg\r\n",
      "CDN_LBCN_28-001.jpg\r\n",
      "CDN_LBCN_426-001.jpg\r\n",
      "CDN_RFH_A161-001.jpg\r\n",
      "CDN_RFH_A164-001.jpg\r\n",
      "CDN_SJS_SM_P189-001.jpg\r\n",
      "CDN_UCLH_UCLHARTS_EDH_325-001.jpg\r\n",
      "CDN_WELL_581877i-001.jpg\r\n",
      "CDN_WELL_L_27950-001.jpg\r\n",
      "CDN_WELL_L_42104-001.jpg\r\n",
      "CDN_WELL_V_17128-001.jpg\r\n",
      "CHE_CGM_1966_22-001.jpg\r\n",
      "CHE_CRHC_PCF40-001.jpg\r\n",
      "CHE_CRHC_PCF77-001.jpg\r\n",
      "CHE_NANM_1999_66-001.jpg\r\n",
      "CHE_TAB_201_1-001.jpg\r\n",
      "CHE_TAB_209_2-001.jpg\r\n",
      "CHE_WAGA_1877_86-001.jpg\r\n",
      "CHE_WAGA_1931_35-001.jpg\r\n",
      "CHE_WAGA_1978_224-001.jpg\r\n",
      "CHE_WAGA_RD_2266-001.jpg\r\n",
      "CHE_WAGA_RD_2483-001.jpg\r\n",
      "CHE_WAGA_RD_2700-001.jpg\r\n",
      "CHE_WAGA_RD_2701-001.jpg\r\n",
      "CHE_WHMW_1996_1_1-001.jpg\r\n",
      "CHE_WHMW_1996_1_2-001.jpg\r\n",
      "CIA_CIA_P_1947_LF_109_6-001.jpg\r\n",
      "CIA_CIA_P_1948_SC_410-001.jpg\r\n",
      "CIA_CIA_P_1982_LB_412-001.jpg\r\n",
      "CIA_CIA_P_2000_XX_2-001.jpg\r\n",
      "CI_GMAG_GMAG_1987_190-001.jpg\r\n",
      "CI_GMAG_GMAG_2009_72-001.jpg\r\n",
      "CI_GMAG_GMAG_4299-001.jpg\r\n",
      "CI_GMAG_GMAG_4814-001.jpg\r\n",
      "CI_GPEH_38-001.jpg\r\n",
      "CI_JEM_BLEMAGJ_SJA_0000_00073-001.jpg\r\n",
      "CI_JEM_JHT_1997_00166-001.jpg\r\n",
      "CI_JEM_PW_0000_00115-001.jpg\r\n",
      "CI_JEM_SJA_0000_00005-001.jpg\r\n",
      "CI_JEM_SJA_0000_00131-001.jpg\r\n",
      "CI_JEM_SJA_0000_00388-001.jpg\r\n",
      "CI_JEM_SJA_0000_01069_A-001.jpg\r\n",
      "CI_JEM_SJA_0000_01069_B-001.jpg\r\n",
      "CI_JEM_SJA_0000_01376-001.jpg\r\n",
      "CI_JEM_SJA_0000_03015-001.jpg\r\n",
      "CI_RJAH_11-001.jpg\r\n",
      "CI_RJAH_12-001.jpg\r\n",
      "CI_RJAH_9-001.jpg\r\n",
      "CI_SFCG_JHT_1984_01057-001.jpg\r\n",
      "CI_SFCG_JHT_1984_01076-001.jpg\r\n",
      "CI_SHTJ_16-001.jpg\r\n",
      "COL_BOE_0504-001.jpg\r\n",
      "COL_BOE_0844-001.jpg\r\n",
      "COL_GAG_2131-001.jpg\r\n",
      "COL_GAG_3710-001.jpg\r\n",
      "COL_GAG_3720-001.jpg\r\n",
      "COL_GAG_3801-001.jpg\r\n",
      "COL_GAG_4104-001.jpg\r\n",
      "COL_GAG_4222-001.jpg\r\n",
      "COL_GAG_687-001.jpg\r\n",
      "CSF_FIFE_CUPMS_1983_0261-001.jpg\r\n",
      "CSF_FIFE_DUFDM_1969_003-001.jpg\r\n",
      "CSF_FIFE_DUFDM_1975_0058-001.jpg\r\n",
      "CSF_FIFE_KIRMG_568-001.jpg\r\n",
      "CSF_FIFE_PCF_142-001.jpg\r\n",
      "CSF_MCK_PCF_412-001.jpg\r\n",
      "CSF_SAU_HC_2000_16-001.jpg\r\n",
      "CSF_SFM_ANSFM_1991_59-001.jpg\r\n",
      "CSF_SFM_ANSFM_1991_60-001.jpg\r\n",
      "CSF_SPT_SAAPT_1071-001.jpg\r\n",
      "CSF_STG_04814_013_2-001.jpg\r\n",
      "CSF_STG_04814_016_2-001.jpg\r\n",
      "CSF_STG_04814_050_1-001.jpg\r\n",
      "CSF_STG_04814_050_2-001.jpg\r\n",
      "CSF_STG_04814_050_3-001.jpg\r\n",
      "CSF_STG_11042_000-001.jpg\r\n",
      "CSF_STG_11074_000-001.jpg\r\n",
      "CSF_STG_18002_032-001.jpg\r\n",
      "CSF_STG_18002_036-001.jpg\r\n",
      "CSF_STG_18003_042-001.jpg\r\n",
      "CSF_STG_4814_031-001.jpg\r\n",
      "CSF_STG_4814_047-001.jpg\r\n",
      "CSF_STG_5700_000-001.jpg\r\n",
      "CSF_STG_5952_000-001.jpg\r\n",
      "CSF_STG_8027_000-001.jpg\r\n",
      "CSF_STG_8316_000-001.jpg\r\n",
      "CSF_STU_1000_4-001.jpg\r\n",
      "CSF_STU_1976_1-001.jpg\r\n",
      "CUII_COCC_III-001.jpg\r\n",
      "CUII_COCC_XX-001.jpg\r\n",
      "CUII_DCO_143-001.jpg\r\n",
      "CUII_GIC_138-001.jpg\r\n",
      "CUII_GIC_343-001.jpg\r\n",
      "CUII_GIC_566-001.jpg\r\n",
      "CUII_NCO_VPC_PP_041-001.jpg\r\n",
      "CUII_NCO_VPC_PP_042-001.jpg\r\n",
      "CUII_NCO_VPC_PP_053-001.jpg\r\n",
      "CUII_NCO_VPC_PP_058-001.jpg\r\n",
      "CUII_PEC_PD0143-001.jpg\r\n",
      "CUII_PEC_PD0144-001.jpg\r\n",
      "CU_KY_AW105-001.jpg\r\n",
      "CU_KY_AW111-001.jpg\r\n",
      "CU_KY_AW114-001.jpg\r\n",
      "CU_KY_AW15_A-001.jpg\r\n",
      "CU_KY_AW15_B-001.jpg\r\n",
      "CU_KY_AW17-001.jpg\r\n",
      "CU_KY_AW18-001.jpg\r\n",
      "CU_KY_AW25-001.jpg\r\n",
      "CU_KY_AW58A-001.jpg\r\n",
      "CU_KY_AW5_B-001.jpg\r\n",
      "CU_KY_AW71-001.jpg\r\n",
      "CU_KY_AW82-001.jpg\r\n",
      "CU_KY_CW6-001.jpg\r\n",
      "CU_SJ_17-001.jpg\r\n",
      "CU_SJ_262-001.jpg\r\n",
      "CU_TRH_31-001.jpg\r\n",
      "CU_TRIC_NP_2-001.jpg\r\n",
      "CW_BTC_BTC_02-001.jpg\r\n",
      "CW_BTC_BTC_07-001.jpg\r\n",
      "CW_CCC_CCP014-001.jpg\r\n",
      "CW_CCC_CCP018-001.jpg\r\n",
      "CW_CCC_CCP047-001.jpg\r\n",
      "CW_CCC_CCP067-001.jpg\r\n",
      "CW_CSL_CSL02-001.jpg\r\n",
      "CW_CSM_109-001.jpg\r\n",
      "CW_CSM_117-001.jpg\r\n",
      "CW_CSM_118-001.jpg\r\n",
      "CW_DCL_1615-001.jpg\r\n",
      "CW_FAG_FAMAG_1000_11-001.jpg\r\n",
      "CW_FAG_FAMAG_1000_14-001.jpg\r\n",
      "CW_FAG_FAMAG_1000_28-001.jpg\r\n",
      "CW_FAG_FAMAG_1000_30-001.jpg\r\n",
      "CW_FAG_FAMAG_1000_5-001.jpg\r\n",
      "CW_FAG_FAMAG_1000_50-001.jpg\r\n",
      "CW_FAG_FAMAG_1000_6-001.jpg\r\n",
      "CW_FAG_FAMAG_1000_8-001.jpg\r\n",
      "CW_FAG_FAMAG_1921_1-001.jpg\r\n",
      "CW_FAG_FAMAG_1923_17-001.jpg\r\n",
      "CW_FAG_FAMAG_1940_1-001.jpg\r\n",
      "CW_FAG_FAMAG_1993_2-001.jpg\r\n",
      "CW_FAG_FAMAG_2002_17-001.jpg\r\n",
      "CW_FAG_FAMAG_2002_9_11-001.jpg\r\n",
      "CW_FAG_FAMAG_2002_9_12-001.jpg\r\n",
      "CW_FAG_FAMAG_2002_9_14-001.jpg\r\n",
      "CW_FAG_FAMAG_2002_9_28-001.jpg\r\n",
      "CW_FAG_FAMAG_2004_17_2_1-001.jpg\r\n",
      "CW_FAG_FAMAG_2004_18_2-001.jpg\r\n",
      "CW_FAG_FAMAG_2006_17_3-001.jpg\r\n",
      "CW_FAG_FAMAG_2006_1_1-001.jpg\r\n",
      "CW_FAG_FAMAG_2006_33-001.jpg\r\n",
      "CW_FAG_FAMAG_2006_5-001.jpg\r\n",
      "CW_FTM_01-001.jpg\r\n",
      "CW_HAY_HAY06-001.jpg\r\n",
      "CW_HAY_HAY10-001.jpg\r\n",
      "CW_IOS_RN1253-001.jpg\r\n",
      "CW_IOS_RN5052-001.jpg\r\n",
      "CW_LHM_LHM_14-001.jpg\r\n",
      "CW_LHM_LHM_18-001.jpg\r\n",
      "CW_LTC_LTC_01-001.jpg\r\n",
      "CW_MTE_1-001.jpg\r\n",
      "CW_MTE_12-001.jpg\r\n",
      "CW_MTE_20-001.jpg\r\n",
      "CW_MTE_21-001.jpg\r\n",
      "CW_MTE_22-001.jpg\r\n",
      "CW_MTE_23-001.jpg\r\n",
      "CW_MTE_28-001.jpg\r\n",
      "CW_MTE_29-001.jpg\r\n",
      "CW_MTE_35-001.jpg\r\n",
      "CW_MTE_36-001.jpg\r\n",
      "CW_MTE_39-001.jpg\r\n",
      "CW_MTE_45-001.jpg\r\n",
      "CW_MTE_46-001.jpg\r\n",
      "CW_MTE_48-001.jpg\r\n",
      "CW_MTE_58-001.jpg\r\n",
      "CW_MTE_LOAN_02-001.jpg\r\n",
      "CW_NAG_PC211-001.jpg\r\n",
      "CW_NAG_PC212-001.jpg\r\n",
      "CW_NAG_PC218-001.jpg\r\n",
      "CW_NAG_R13-001.jpg\r\n",
      "CW_NAG_R31-001.jpg\r\n",
      "CW_NMM_261-001.jpg\r\n",
      "CW_NMM_617-001.jpg\r\n",
      "CW_NMM_703-001.jpg\r\n",
      "CW_NMM_865-001.jpg\r\n",
      "CW_NQH_18-001.jpg\r\n",
      "CW_NQH_19-001.jpg\r\n",
      "CW_PAD_PAD04-001.jpg\r\n",
      "CW_PHG_NELNG_1995_1-001.jpg\r\n",
      "CW_PHG_PEZPH_1989_37-001.jpg\r\n",
      "CW_PHG_PEZPH_1989_42-001.jpg\r\n",
      "CW_PHG_PEZPH_1989_43-001.jpg\r\n",
      "CW_PHG_PEZPH_1989_44-001.jpg\r\n",
      "CW_PHG_PEZPH_1989_45-001.jpg\r\n",
      "CW_PHG_PEZPH_1989_53-001.jpg\r\n",
      "CW_PHG_PEZPH_1989_56-001.jpg\r\n",
      "CW_PHG_PEZPH_1989_70-001.jpg\r\n",
      "CW_PHG_PEZPH_1989_79-001.jpg\r\n",
      "CW_PHG_PEZPH_1991_L1065-001.jpg\r\n",
      "CW_PHG_PEZPH_1996_291-001.jpg\r\n",
      "CW_PHG_PEZPH_1996_L3-001.jpg\r\n",
      "CW_PHG_PEZPH_2000_61-001.jpg\r\n",
      "CW_PHG_PEZPH_2000_67-001.jpg\r\n",
      "CW_PHG_PEZPH_2002_L5-001.jpg\r\n",
      "CW_PHG_PEZPH_2004_63-001.jpg\r\n",
      "CW_PHG_PEZPH_2004_67-001.jpg\r\n",
      "CW_PHG_PEZPH_2005_40-001.jpg\r\n",
      "CW_RCH_RCH35-001.jpg\r\n",
      "CW_RCM_PCF_59_06-001.jpg\r\n",
      "CW_RCM_TRURI_1000_117-001.jpg\r\n",
      "CW_RCM_TRURI_1000_121-001.jpg\r\n",
      "CW_RCM_TRURI_1000_24-001.jpg\r\n",
      "CW_RCM_TRURI_1000_273-001.jpg\r\n",
      "CW_RCM_TRURI_1000_41-001.jpg\r\n",
      "CW_RCM_TRURI_1000_47-001.jpg\r\n",
      "CW_RCM_TRURI_1000_55-001.jpg\r\n",
      "CW_RCM_TRURI_1000_62-001.jpg\r\n",
      "CW_RCM_TRURI_1000_70-001.jpg\r\n",
      "CW_RCM_TRURI_1000_88-001.jpg\r\n",
      "CW_RCM_TRURI_1913_10-001.jpg\r\n",
      "CW_RCM_TRURI_1914_7-001.jpg\r\n",
      "CW_RCM_TRURI_1915_19_1-001.jpg\r\n",
      "CW_RCM_TRURI_1915_19_2-001.jpg\r\n",
      "CW_RCM_TRURI_1916_23-001.jpg\r\n",
      "CW_RCM_TRURI_1920_3-001.jpg\r\n",
      "CW_RCM_TRURI_1920_45-001.jpg\r\n",
      "CW_RCM_TRURI_1921_31-001.jpg\r\n",
      "CW_RCM_TRURI_1921_31_2-001.jpg\r\n",
      "CW_RCM_TRURI_1922_69-001.jpg\r\n",
      "CW_RCM_TRURI_1924_86-001.jpg\r\n",
      "CW_RCM_TRURI_1925_1-001.jpg\r\n",
      "CW_RCM_TRURI_1927_68-001.jpg\r\n",
      "CW_RCM_TRURI_1928_48-001.jpg\r\n",
      "CW_RCM_TRURI_1928_51-001.jpg\r\n",
      "CW_RCM_TRURI_1939_99-001.jpg\r\n",
      "CW_RCM_TRURI_1946_119-001.jpg\r\n",
      "CW_RCM_TRURI_1947_10-001.jpg\r\n",
      "CW_RCM_TRURI_1947_30-001.jpg\r\n",
      "CW_RCM_TRURI_1958_44-001.jpg\r\n",
      "CW_RCM_TRURI_1958_60-001.jpg\r\n",
      "CW_RCM_TRURI_1963_8-001.jpg\r\n",
      "CW_RCM_TRURI_1986_67_5-001.jpg\r\n",
      "CW_RCM_TRURI_1986_68_7-001.jpg\r\n",
      "CW_RCM_TRURI_1995_7-001.jpg\r\n",
      "CW_RCM_TRURI_1996_97_1-001.jpg\r\n",
      "CW_RCM_TRURI_1997_36-001.jpg\r\n",
      "CW_RCM_TRURI_2003_21-001.jpg\r\n",
      "CW_RCM_TRURI_2004_3_13-001.jpg\r\n",
      "CW_RCM_TRURI_LOAN_152i_2-001.jpg\r\n",
      "CW_RCM_TRURI_LOAN_261_7-001.jpg\r\n",
      "CW_RCP_A134-001.jpg\r\n",
      "CW_RCP_A36_-001.jpg\r\n",
      "CW_RCP_A80-001.jpg\r\n",
      "CW_SATC_G_3-001.jpg\r\n",
      "CW_SIT_16-001.jpg\r\n",
      "CW_SIT_18-001.jpg\r\n",
      "CW_SIT_23-001.jpg\r\n",
      "CW_TCC_TCC_01-001.jpg\r\n",
      "CW_UCF_05-001.jpg\r\n",
      "CW_UCF_08-001.jpg\r\n",
      "CW_UCF_21-001.jpg\r\n",
      "CW_WCH_WCH11-001.jpg\r\n",
      "DBY_BXMAG_DERSB_3794-001.jpg\r\n",
      "DBY_BXMAG_DERSB_B126-001.jpg\r\n",
      "DBY_DEMAG_1936_619_55-001.jpg\r\n",
      "DBY_DEMAG_1955_278_1-001.jpg\r\n",
      "DBY_HMRS_P55-001.jpg\r\n",
      "DBY_PRCL_RPYPR_2005_4-001.jpg\r\n",
      "DBY_SLS_F2103-001.jpg\r\n",
      "DEV_APL_PCF4-001.jpg\r\n",
      "DEV_BAGM_1992_85-001.jpg\r\n",
      "DEV_BARN_2007_149-001.jpg\r\n",
      "DEV_DAW_1998_21_1-001.jpg\r\n",
      "DEV_DAW_1998_21_2-001.jpg\r\n",
      "DEV_DAW_PCF15-001.jpg\r\n",
      "DEV_FHT_PCF106-001.jpg\r\n",
      "DEV_FHT_PCF202_P2-001.jpg\r\n",
      "DEV_FHT_PCF202_P3-001.jpg\r\n",
      "DEV_FHT_PCF60-001.jpg\r\n",
      "DEV_GTM_PCF6-001.jpg\r\n",
      "DEV_NDMM_2002_77-001.jpg\r\n",
      "DEV_NDMM_2002_86-001.jpg\r\n",
      "DEV_OSMHOSP_PCF2-001.jpg\r\n",
      "DEV_RAMM_239-001.jpg\r\n",
      "DEV_RAMM_257-001.jpg\r\n",
      "DEV_TEGNM_1369-001.jpg\r\n",
      "DEV_TEIGNTC_PCF1-001.jpg\r\n",
      "DEV_TEIGNTC_PCF6-001.jpg\r\n",
      "DOR_BRC_BORGM_00193-001.jpg\r\n",
      "DOR_BRC_BORGM_00539-001.jpg\r\n",
      "DOR_BRC_BORGM_00542-001.jpg\r\n",
      "DOR_BRC_BORGM_01080-001.jpg\r\n",
      "DOR_BRC_BORGM_01173-001.jpg\r\n",
      "DOR_BRC_BORGM_01178-001.jpg\r\n",
      "DOR_BRC_BORGM_01246-001.jpg\r\n",
      "DOR_BRC_BORGM_01308-001.jpg\r\n",
      "DOR_BRC_BORGM_01317-001.jpg\r\n",
      "DOR_BRC_BORGM_01478-001.jpg\r",
      "\r\n",
      "DOR_BRC_BORGM_01554-001.jpg\r\n",
      "DOR_BRC_BORGM_02157-001.jpg\r\n",
      "DOR_BRC_BORGM_02160-001.jpg\r\n",
      "DOR_BRC_BORGM_02609-001.jpg\r\n",
      "DOR_BRC_T30_7_2007_2-001.jpg\r\n",
      "DOR_DCH_PCF44-001.jpg\r\n",
      "DOR_DCH_PCF46-001.jpg\r\n",
      "DOR_DCMA_1993_285_233-001.jpg\r\n",
      "DOR_DCMA_ART2297-001.jpg\r\n",
      "DOR_DCMA_ART2299-001.jpg\r\n",
      "DOR_DCMA_ART2325-001.jpg\r\n",
      "DOR_DCMA_ART2332-001.jpg\r\n",
      "DOR_PLH_PCF88-001.jpg\r\n",
      "DOR_PWM_96_1849-001.jpg\r\n",
      "DOR_PWM_96_692-001.jpg\r\n",
      "DOR_PWM_98_127-001.jpg\r\n",
      "DOR_PWM_99_083-001.jpg\r\n",
      "DOR_SWMH_PCF_5-001.jpg\r\n",
      "DOR_WECH_PCF4-001.jpg\r\n",
      "DOR_WECH_PCF5-001.jpg\r\n",
      "DOR_WECH_PCF7-001.jpg\r\n",
      "DOR_WTM_E1992_116_3-001.jpg\r\n",
      "DOR_WVH_PCF1-001.jpg\r\n",
      "DUN_DAGMO_272_1987_118-001.jpg\r\n",
      "DUN_DAGMO_272_1987_188-001.jpg\r\n",
      "DUN_DAGMO_272_1987_189-001.jpg\r\n",
      "DUN_DAGMO_272_1987_52-001.jpg\r\n",
      "DUN_DAGM_10_1912-001.jpg\r\n",
      "DUN_DAGM_18_1912-001.jpg\r\n",
      "DUN_DAGM_2_1964-001.jpg\r\n",
      "DUN_DAGM_32_1912-001.jpg\r\n",
      "DUN_DAGM_6_1953-001.jpg\r\n",
      "DUN_DAGM_9_1989-001.jpg\r\n",
      "DUN_DAGM_9a_1939-001.jpg\r\n",
      "DUN_DAGM_B_H_1971_165-001.jpg\r\n",
      "DUN_DMD_ARTS_2838-001.jpg\r\n",
      "DUN_DNHS_56-001.jpg\r\n",
      "DUN_UODJ_ARTS_1698-001.jpg\r\n",
      "DUN_UODJ_ARTS_1702-001.jpg\r\n",
      "DUN_UODJ_ARTS_1780-001.jpg\r\n",
      "DUN_UODJ_ARTS_2054-001.jpg\r\n",
      "DUN_UODJ_ARTS_2066-001.jpg\r\n",
      "DUN_UODJ_ARTS_2157-001.jpg\r\n",
      "DUN_UOD_ARTS_2520-001.jpg\r\n",
      "DUR_B_1972_261-001.jpg\r\n",
      "DUR_B_1984_7-001.jpg\r\n",
      "DUR_B_1995_20_5-001.jpg\r\n",
      "DUR_B_GS_15_02_1985_2-001.jpg\r\n",
      "DUR_DBM_1078-001.jpg\r\n",
      "DUR_DBM_124-001.jpg\r\n",
      "DUR_DBM_193-001.jpg\r\n",
      "DUR_DBM_2007_6-001.jpg\r\n",
      "DUR_DBM_219-001.jpg\r\n",
      "DUR_DBM_283-001.jpg\r\n",
      "DUR_DBM_374-001.jpg\r\n",
      "DUR_DBM_392-001.jpg\r\n",
      "DUR_DBM_401-001.jpg\r\n",
      "DUR_DBM_426-001.jpg\r\n",
      "DUR_DBM_533-001.jpg\r\n",
      "DUR_DBM_645-001.jpg\r\n",
      "DUR_DBM_710-001.jpg\r\n",
      "DUR_DBM_715-001.jpg\r\n",
      "DUR_DBM_762-001.jpg\r\n",
      "DUR_DBM_769-001.jpg\r\n",
      "DUR_DBM_770-001.jpg\r\n",
      "DUR_DBM_874-001.jpg\r\n",
      "DUR_DBM_900-001.jpg\r\n",
      "DUR_DBM_910-001.jpg\r\n",
      "DUR_DBM_911-001.jpg\r\n",
      "DUR_DBM_912-001.jpg\r\n",
      "DUR_DBM_913-001.jpg\r\n",
      "DUR_DBM_935-001.jpg\r\n",
      "DUR_DCC_1048-001.jpg\r\n",
      "DUR_DCC_317-001.jpg\r\n",
      "DUR_DDBC_227-001.jpg\r\n",
      "DUR_DDBC_228-001.jpg\r\n",
      "DUR_DDBC_330-001.jpg\r\n",
      "DUR_DRM_1998_64-001.jpg\r\n",
      "DUR_DU_18_1230-001.jpg\r\n",
      "DUR_DU_18_693-001.jpg\r\n",
      "DUR_DU_18_720-001.jpg\r\n",
      "DUR_DU_18_741-001.jpg\r\n",
      "DUR_DU_21_13-001.jpg\r\n",
      "DUR_DU_21_24-001.jpg\r\n",
      "EDII_AIH_G544-001.jpg\r\n",
      "EDII_AIH_OB_1137-001.jpg\r\n",
      "EDII_AIH_OB_328L-001.jpg\r\n",
      "EDII_AIH_OB_662-001.jpg\r\n",
      "EDII_AIH_V_P1009-001.jpg\r\n",
      "EDII_AIH_V_P1010-001.jpg\r\n",
      "EDII_ECA_PCF115-001.jpg\r\n",
      "EDII_ECA_PCF223-001.jpg\r\n",
      "EDII_ECA_PTG_0023-001.jpg\r\n",
      "EDII_ECA_PTG_0048-001.jpg\r\n",
      "EDII_ECA_PTG_0256-001.jpg\r\n",
      "EDII_ECA_PTG_0706-001.jpg\r\n",
      "EDII_LBF_PCF_09-001.jpg\r\n",
      "EDII_NHSL_AA_546-001.jpg\r\n",
      "EDII_NHSL_AA_900-001.jpg\r\n",
      "EDII_NHSL_PCF_119-001.jpg\r\n",
      "EDII_NHSL_PCF_26-001.jpg\r\n",
      "EDII_NHSL_SJ_214-001.jpg\r\n",
      "EDII_NHSL_SJ_216-001.jpg\r\n",
      "EDII_NHSL_SJ_218-001.jpg\r\n",
      "EDII_NHSL_WG_1595-001.jpg\r\n",
      "EDII_NMUS_H_OD106-001.jpg\r\n",
      "EDII_RCPY_PCF_84-001.jpg\r\n",
      "EDII_RSA_1992_035-001.jpg\r\n",
      "EDII_RSA_1992_051-001.jpg\r\n",
      "EDII_RSA_1992_103-001.jpg\r\n",
      "EDII_RSA_1993_245-001.jpg\r\n",
      "EDII_RSA_1993_254-001.jpg\r\n",
      "EDII_RSA_G_1991_561-001.jpg\r\n",
      "EDII_RSA_G_1991_840-001.jpg\r\n",
      "EDII_RSA_G_2004_001-001.jpg\r\n",
      "EDII_SCGB_PCF_1-001.jpg\r\n",
      "EDII_SCGB_PCF_11-001.jpg\r\n",
      "EDI_CITY_CAC_15_1988-001.jpg\r\n",
      "EDI_CITY_CAC_1966_4-001.jpg\r\n",
      "EDI_CITY_CAC_1978_1236-001.jpg\r\n",
      "EDI_CITY_CAC_1978_274-001.jpg\r\n",
      "EDI_CITY_CAC_1978_3-001.jpg\r\n",
      "EDI_CITY_CAC_1978_78-001.jpg\r\n",
      "EDI_CITY_CAC_1995_L1_2-001.jpg\r\n",
      "EDI_CITY_CAC_2008_8-001.jpg\r\n",
      "EDI_CITY_CAC_275_1964-001.jpg\r\n",
      "EDI_CITY_HH_1464_1953-001.jpg\r\n",
      "EDI_CITY_HH_3345_1969-001.jpg\r\n",
      "EDI_CITY_MC_4124_1961-001.jpg\r\n",
      "EDI_HSE_TRH_004-001.jpg\r\n",
      "EDI_UNI_EU_0744-001.jpg\r\n",
      "ERY_BAGG_1997_100-001.jpg\r\n",
      "ERY_BAGG_1997_39-001.jpg\r\n",
      "ERY_BAGG_PCF512-001.jpg\r\n",
      "ERY_FG_2005_4722-001.jpg\r\n",
      "ERY_FG_2005_4802-001.jpg\r\n",
      "ERY_FG_2005_4907-001.jpg\r\n",
      "ERY_FG_2005_5032-001.jpg\r\n",
      "ERY_FG_2005_5033-001.jpg\r\n",
      "ERY_FG_2005_5059-001.jpg\r\n",
      "ERY_FG_2005_5123-001.jpg\r\n",
      "ERY_FG_2005_6102-001.jpg\r\n",
      "ERY_FG_4727-001.jpg\r\n",
      "ERY_FUP_U102-001.jpg\r\n",
      "ERY_FUP_U2007_4-001.jpg\r\n",
      "ERY_FUP_U49-001.jpg\r\n",
      "ERY_FUP_U53-001.jpg\r\n",
      "ERY_FUP_U56-001.jpg\r\n",
      "ERY_FUP_U69-001.jpg\r\n",
      "ERY_FUP_U95-001.jpg\r\n",
      "ERY_HORN_2009_4-001.jpg\r\n",
      "ERY_HUAC_146-001.jpg\r\n",
      "ERY_HUMM_1982_32-001.jpg\r\n",
      "ERY_HUMM_1982_35-001.jpg\r\n",
      "ERY_HUMM_2007_1038-001.jpg\r\n",
      "ERY_HUMM_2007_2188-001.jpg\r\n",
      "ERY_HUMM_2007_2274-001.jpg\r\n",
      "ERY_SEW_1993_59-001.jpg\r\n",
      "ERY_WF_2006_9118_5-001.jpg\r\n",
      "ERY_WLM_2009_4-001.jpg\r\n",
      "ESX_AM_113-001.jpg\r\n",
      "ESX_AM_141-001.jpg\r\n",
      "ESX_AM_168-001.jpg\r\n",
      "ESX_AM_174A-001.jpg\r\n",
      "ESX_AM_184-001.jpg\r\n",
      "ESX_AM_187-001.jpg\r\n",
      "ESX_AM_241-001.jpg\r\n",
      "ESX_AM_258-001.jpg\r\n",
      "ESX_AM_262-001.jpg\r\n",
      "ESX_AM_265-001.jpg\r\n",
      "ESX_AM_266-001.jpg\r\n",
      "ESX_AM_268-001.jpg\r\n",
      "ESX_AM_274-001.jpg\r\n",
      "ESX_AM_295-001.jpg\r\n",
      "ESX_AM_332-001.jpg\r\n",
      "ESX_AM_340-001.jpg\r\n",
      "ESX_AM_394-001.jpg\r\n",
      "ESX_AM_397-001.jpg\r\n",
      "ESX_AM_400-001.jpg\r\n",
      "ESX_AM_416-001.jpg\r\n",
      "ESX_AM_417-001.jpg\r\n",
      "ESX_AM_42-001.jpg\r\n",
      "ESX_AM_424-001.jpg\r\n",
      "ESX_AM_425-001.jpg\r\n",
      "ESX_AM_443-001.jpg\r\n",
      "ESX_AM_448-001.jpg\r\n",
      "ESX_AM_449-001.jpg\r\n",
      "ESX_AM_451-001.jpg\r\n",
      "ESX_AM_455-001.jpg\r\n",
      "ESX_AM_457-001.jpg\r\n",
      "ESX_AM_477-001.jpg\r\n",
      "ESX_AM_52-001.jpg\r\n",
      "ESX_AM_590-001.jpg\r\n",
      "ESX_AM_618-001.jpg\r\n",
      "ESX_AM_634-001.jpg\r\n",
      "ESX_AM_637-001.jpg\r\n",
      "ESX_AM_74-001.jpg\r\n",
      "ESX_AM_NM7-001.jpg\r\n",
      "ESX_BAG_SOUAG_TS11-001.jpg\r\n",
      "ESX_BAG_SOUAG_TS430-001.jpg\r\n",
      "ESX_BAG_SOUAG_TS844-001.jpg\r\n",
      "ESX_BAG_SOUAG_TS919-001.jpg\r\n",
      "ESX_CHM_1985_080-001.jpg\r\n",
      "ESX_COM_COLEM_1966_OS_273-001.jpg\r\n",
      "ESX_COM_COLEM_1972_125-001.jpg\r\n",
      "ESX_COM_COLEM_1985_145-001.jpg\r\n",
      "ESX_COM_COLEM_1985_146-001.jpg\r\n",
      "ESX_MLL_1-001.jpg\r\n",
      "ESX_VBL_304_P_84-001.jpg\r\n",
      "ES_BRHM_BM_001090-001.jpg\r\n",
      "ES_BRHM_BNS_004_02A-001.jpg\r\n",
      "ES_BRHM_BNS_010_31A-001.jpg\r\n",
      "ES_BRHM_BNS_033_030A-001.jpg\r\n",
      "ES_BRHM_BNS_035_003-001.jpg\r\n",
      "ES_BRHM_BNS_039_011-001.jpg\r\n",
      "ES_BRHM_BNS_040_030-001.jpg\r\n",
      "ES_BRHM_BNS_049_030-001.jpg\r\n",
      "ES_BRHM_BNS_053_019A-001.jpg\r\n",
      "ES_BRHM_BNS_060_004A-001.jpg\r\n",
      "ES_BRHM_BNS_062_022-001.jpg\r\n",
      "ES_BRHM_BNS_081_16A-001.jpg\r\n",
      "ES_BRHM_BPV_001031-001.jpg\r\n",
      "ES_BRHM_BPV_001032-001.jpg\r\n",
      "ES_BRHM_BPV_001084-001.jpg\r\n",
      "ES_BRHM_BPV_001088-001.jpg\r\n",
      "ES_BRHM_BPV_001091-001.jpg\r\n",
      "ES_BRHM_BPV_001_02-001.jpg\r\n",
      "ES_BRHM_BPV_001_06-001.jpg\r\n",
      "ES_BRHM_BPV_001_12-001.jpg\r\n",
      "ES_BRHM_BPV_001_16-001.jpg\r\n",
      "ES_BRHM_BPV_001_19-001.jpg\r\n",
      "ES_BRHM_BPV_001_30-001.jpg\r\n",
      "ES_BRHM_BPV_001_33-001.jpg\r\n",
      "ES_BRHM_BPV_001_36-001.jpg\r\n",
      "ES_BRHM_BPV_005_30A-001.jpg\r\n",
      "ES_BRHM_BPV_006_03-001.jpg\r\n",
      "ES_BRHM_BPV_006_06-001.jpg\r\n",
      "ES_BRHM_BPV_006_09-001.jpg\r\n",
      "ES_BRHM_BPV_006_31-001.jpg\r\n",
      "ES_BRHM_BPV_007_30A-001.jpg\r\n",
      "ES_BRHM_BPV_007_33A-001.jpg\r\n",
      "ES_BRHM_BPV_007_36A-001.jpg\r\n",
      "ES_BRHM_BRM_000004-001.jpg\r\n",
      "ES_BRHM_BRM_FA000107-001.jpg\r\n",
      "ES_BRHM_BTH_001_30-001.jpg\r\n",
      "ES_CHL_009_07-001.jpg\r\n",
      "ES_HFMU_1994_495-001.jpg\r\n",
      "ES_HFMU_1998_325-001.jpg\r\n",
      "ES_HFMU_2002_133-001.jpg\r\n",
      "ES_HFMU_994_498-001.jpg\r\n",
      "ES_RAG_BAR24-001.jpg\r\n",
      "ES_RAG_STO1-001.jpg\r\n",
      "ES_RAG_STOH43-001.jpg\r\n",
      "ES_RAG_UNK_5-001.jpg\r\n",
      "ES_TAG_EASTG1242-001.jpg\r\n",
      "ES_TAG_EASTG1256-001.jpg\r\n",
      "ES_TAG_EASTG1265-001.jpg\r\n",
      "ES_TAG_EASTG1363-001.jpg\r\n",
      "ES_TAG_EASTG1557_TB7-001.jpg\r\n",
      "ES_TAG_EASTG1559_TB5-001.jpg\r\n",
      "ES_TAG_EASTG_1124-001.jpg\r\n",
      "ES_TAG_UNC99-001.jpg\r\n",
      "ES_UOS_190PTG-001.jpg\r\n",
      "GAC_GAC_0_710-001.jpg\r\n",
      "GAC_GAC_0_728-001.jpg\r\n",
      "GAC_GAC_0_749-001.jpg\r\n",
      "GAC_GAC_11669-001.jpg\r\n",
      "GAC_GAC_13166-001.jpg\r\n",
      "GAC_GAC_1457-001.jpg\r\n",
      "GAC_GAC_14779-001.jpg\r\n",
      "GAC_GAC_14965-001.jpg\r\n",
      "GAC_GAC_16732-001.jpg\r\n",
      "GAC_GAC_1721-001.jpg\r\n",
      "GAC_GAC_17758-001.jpg\r\n",
      "GAC_GAC_1842-001.jpg\r\n",
      "GAC_GAC_2050-001.jpg\r\n",
      "GAC_GAC_2274-001.jpg\r\n",
      "GAC_GAC_2681-001.jpg\r\n",
      "GAC_GAC_3069-001.jpg\r\n",
      "GAC_GAC_3375-001.jpg\r\n",
      "GAC_GAC_3409-001.jpg\r\n",
      "GAC_GAC_3893-001.jpg\r\n",
      "GAC_GAC_540-001.jpg\r\n",
      "GAC_GAC_5744-001.jpg\r\n",
      "GAC_GAC_6413-001.jpg\r\n",
      "GAC_GAC_6656-001.jpg\r\n",
      "GLA_CGLC_PCF_1-001.jpg\r\n",
      "GLA_CLG_GLAEX_A689-001.jpg\r\n",
      "GLA_GCU_GCU_WoA_06-001.jpg\r\n",
      "GLA_GSA_NMC583-001.jpg\r\n",
      "GLA_GSA_NMC842-001.jpg\r\n",
      "GLA_HAG_43903-001.jpg\r\n",
      "GLA_HAG_44003-001.jpg\r\n",
      "GLA_HAG_46380-001.jpg\r\n",
      "GLA_HAG_46414-001.jpg\r\n",
      "GLA_HAG_46426-001.jpg\r\n",
      "GLA_RHF_PCF_10-001.jpg\r\n",
      "GLW_CBCA_1899_1_7-001.jpg\r\n",
      "GLW_CBCA_1913_56_1-001.jpg\r\n",
      "GLW_CBCA_1918_168_7-001.jpg\r\n",
      "GLW_CBCA_1940_184-001.jpg\r\n",
      "GLW_CBCA_1947_60-001.jpg\r\n",
      "GLW_CBCA_1953_17-001.jpg\r\n",
      "GLW_CBCA_1963_177-001.jpg\r\n",
      "GLW_CBCA_1965_1-001.jpg\r\n",
      "GLW_CBCA_1965_3-001.jpg\r\n",
      "GLW_CBCA_1965_4-001.jpg\r\n",
      "GLW_CBCA_1967_179-001.jpg\r\n",
      "GLW_CBCA_1976_151-001.jpg\r\n",
      "GLW_GCIT_ART01881-001.jpg\r\n",
      "GLW_GCIT_ART01882-001.jpg\r\n",
      "GLW_GCIT_ART01883-001.jpg\r\n",
      "GLW_GCIT_ART01884-001.jpg\r\n",
      "GLW_GCIT_ART01885-001.jpg\r\n",
      "GLW_GCIT_ART01886-001.jpg\r\n",
      "GLW_GCIT_ART01887-001.jpg\r\n",
      "GLW_GCIT_ART01888-001.jpg\r\n",
      "GLW_GCIT_ART01889-001.jpg\r\n",
      "GLW_GCIT_ART01890-001.jpg\r\n",
      "GLW_GCIT_ART01892-001.jpg\r\n",
      "GLW_GCIT_ART01893-001.jpg\r\n",
      "GLW_GCIT_ART01894-001.jpg\r\n",
      "GLW_GCIT_ART01895-001.jpg\r\n",
      "GLW_GCIT_ART01896-001.jpg\r\n",
      "GLW_GCIT_ART01897-001.jpg\r\n",
      "GLW_GCIT_ART01898-001.jpg\r\n",
      "GLW_GCIT_ART01899-001.jpg\r\n",
      "GLW_GCIT_ART01900-001.jpg\r\n",
      "GLW_GCIT_ART01901-001.jpg\r\n",
      "GLW_GHFT_PCF16-001.jpg\r\n",
      "GLW_JEN_PCF3-001.jpg\r\n",
      "GLW_KATM_K5732-001.jpg\r\n",
      "GLW_MIP_1967_119_1-001.jpg\r\n",
      "GLW_MIP_1968_15_2-001.jpg\r\n",
      "GLW_MIP_2008_54_174-001.jpg\r\n",
      "GLW_NAWM_PCF6-001.jpg\r\n",
      "GLW_NAWM_PCF7-001.jpg\r\n",
      "GLW_NAWM_W3_69-001.jpg\r\n",
      "GLW_RAC_OC198-001.jpg\r\n",
      "GLW_RAC_PCF19_1-001.jpg\r\n",
      "GLW_SBYWM_1996R_3116-001.jpg\r\n",
      "GLW_SBY_SLG7-001.jpg\r\n",
      "GLW_SWAG_AG95-001.jpg\r\n",
      "GLW_THON_TBYDM_08_007_1-001.jpg\r\n",
      "GLW_TTCO_PCF13-001.jpg\r\n",
      "GL_GM_1276-001.jpg\r\n",
      "GL_GM_1455-001.jpg\r\n",
      "GL_GM_2112-001.jpg\r\n",
      "GL_GM_22-001.jpg\r\n",
      "GL_GM_2231-001.jpg\r\n",
      "GL_GM_2357-001.jpg\r\n",
      "GL_GM_2837-001.jpg\r\n",
      "GL_GM_3022-001.jpg\r\n",
      "GL_GM_3035-001.jpg\r\n",
      "GL_GM_3272-001.jpg\r\n",
      "GL_GM_3549-001.jpg\r\n",
      "GL_GM_35_271-001.jpg\r\n",
      "GL_GM_35_371-001.jpg\r\n",
      "GL_GM_35_72-001.jpg\r\n",
      "GL_GM_421-001.jpg\r\n",
      "GL_GM_424-001.jpg\r\n",
      "GL_GM_444-001.jpg\r\n",
      "GL_GM_565-001.jpg\r\n",
      "GL_GM_627-001.jpg\r\n",
      "GL_GM_716-001.jpg\r\n",
      "GL_GM_803-001.jpg\r\n",
      "GL_GM_822-001.jpg\r\n",
      "GL_GM_99-001.jpg\r\n",
      "GL_GM_NR_26-001.jpg\r\n",
      "GL_GM_PCF_MOT_3-001.jpg\r\n",
      "GL_GM_PC_94-001.jpg\r\n",
      "GL_GM_PL_87-001.jpg\r\n",
      "GL_GM_PR_1963_1_aq-001.jpg\r\n",
      "GL_GM_TEMP_14964-001.jpg\r\n",
      "GL_GM_TEMP_15491-001.jpg\r\n",
      "GL_GM_TEMP_15492-001.jpg\r\n",
      "GL_GM_TEMP_15519-001.jpg\r\n",
      "GL_GM_T_1976_04-001.jpg\r\n",
      "GL_GM_T_1995_46_489-001.jpg\r\n",
      "GMIII_CMFT_PCF37-001.jpg\r\n",
      "GMIII_MCAG_1896_12-001.jpg\r\n",
      "GMIII_MCAG_1908_39-001.jpg\r\n",
      "GMIII_MCAG_1908_5-001.jpg\r\n",
      "GMIII_MCAG_1928_87-001.jpg\r\n",
      "GMIII_MCAG_1928_89-001.jpg\r\n",
      "GMIII_MCAG_1930_178-001.jpg\r\n",
      "GMIII_MCAG_1933_120-001.jpg\r\n",
      "GMIII_MCAG_1933_57-001.jpg\r\n",
      "GMIII_MCAG_1935_157-001.jpg\r\n",
      "GMIII_MCAG_1937_763-001.jpg\r\n",
      "GMIII_MCAG_1941_4-001.jpg\r\n",
      "GMIII_MCAG_1944_47-001.jpg\r\n",
      "GMIII_MCAG_1945_268-001.jpg\r\n",
      "GMIII_MCAG_1947_93-001.jpg\r\n",
      "GMIII_MCAG_1951_392-001.jpg\r\n",
      "GMIII_MCAG_1955_106-001.jpg\r\n",
      "GMIII_MCAG_1963_296-001.jpg\r\n",
      "GMIII_MCAG_1963_297-001.jpg\r\n",
      "GMIII_MCAG_1978_261-001.jpg\r\n",
      "GMIII_MCAG_1979_445-001.jpg\r\n",
      "GMIII_MCAG_1979_475-001.jpg\r\n",
      "GMIII_MCAG_1979_481-001.jpg\r\n",
      "GMIII_MCAG_1979_502-001.jpg\r\n",
      "GMIII_MCAG_2003_43-001.jpg\r\n",
      "GMIII_MMUS_HAR_643-001.jpg\r\n",
      "GMIII_MMUS_HAR_650-001.jpg\r\n",
      "GMIII_MOSI_A1978_72_1-001.jpg\r\n",
      "GMIII_MOSI_A1978_72_3-001.jpg\r\n",
      "GMIII_PAHT_PCF30-001.jpg\r\n",
      "GMIII_PAHT_PCF4-001.jpg\r\n",
      "GMIII_PHM_PCF153-001.jpg\r\n",
      "GMIII_PHM_PCF60-001.jpg\r\n",
      "GMIII_PHM_PCF67-001.jpg\r\n",
      "GMIII_WHAG_O_1983_5-001.jpg\r\n",
      "GMIII_WICH_PCF10-001.jpg\r\n",
      "GMIII_WICH_PCF14-001.jpg\r\n",
      "GMIII_WICH_PCF24-001.jpg\r\n",
      "GMII_BAM_0303_1915-001.jpg\r\n",
      "GMII_BAM_0304_1915-001.jpg\r\n",
      "GMII_BAM_0400_1928-001.jpg\r\n",
      "GMII_BAM_0677_1956-001.jpg\r\n",
      "GMII_BAM_0788_1975-001.jpg\r\n",
      "GMII_BAM_0817_1983-001.jpg\r\n",
      "GMII_BAM_0909_1993-001.jpg\r\n",
      "GMII_SAHS_177_1971-001.jpg\r\n",
      "GMII_SAHS_1899_96-001.jpg\r\n",
      "GMII_SAHS_1947_176-001.jpg\r\n",
      "GMII_SAHS_1947_188-001.jpg\r\n",
      "GMII_SAHS_1947_232-001.jpg\r\n",
      "GMII_SAHS_1949_100-001.jpg\r\n",
      "GMII_SAHS_1951_9-001.jpg\r\n",
      "GMII_SAHS_F16_1975-001.jpg\r\n",
      "GMII_SAHS_F22_1975-001.jpg\r\n",
      "GMII_SAHS_F51_1975-001.jpg\r\n",
      "GMII_SAHS_F67_1975-001.jpg\r\n",
      "GMII_SAHS_PCF82-001.jpg\r\n",
      "GMII_SAHS_PCF93-001.jpg\r\n",
      "GMII_WIG_B21_3-001.jpg\r\n",
      "GMII_WIG_B23_8-001.jpg\r\n",
      "GMII_WIG_B25_4-001.jpg\r\n",
      "GMII_WIG_B28_3-001.jpg\r\n",
      "GMII_WIG_B54_007-001.jpg\r\n",
      "GMI_OLD_2_9-001.jpg\r\n",
      "GMI_OLD_G651-001.jpg\r\n",
      "GMI_SHS_RD_11190-001.jpg\r\n",
      "GMI_SHS_RD_12729-001.jpg\r\n",
      "GMI_SHS_STOPM_1948_1_4-001.jpg\r\n",
      "GMI_SHS_STOPM_1950_6_1-001.jpg\r\n",
      "GMI_SHS_STOPM_1950_6_2-001.jpg\r\n",
      "GMI_SHS_STOPM_KX_8-001.jpg\r\n",
      "GMI_TMG_ASTAC1962_2-001.jpg\r\n",
      "GMI_TMG_ASTAC1992_93-001.jpg\r\n",
      "GMI_TMG_ASTAC1992_97-001.jpg\r\n",
      "GMI_TORO_1029-001.jpg\r\n",
      "GMI_TORO_46-001.jpg\r\n",
      "GMI_TORO_671-001.jpg\r\n",
      "HMPS_IWNHS_1666-001.jpg\r\n",
      "HMPS_IWNHS_238-001.jpg\r\n",
      "HMPS_IWNHS_32-001.jpg\r\n",
      "HMPS_SCAG_1115-001.jpg\r\n",
      "HMPS_SCAG_1246-001.jpg\r\n",
      "HMPS_SCAG_1266-001.jpg\r\n",
      "HMPS_SCAG_1270-001.jpg\r\n",
      "HMPS_SCAG_171-001.jpg\r\n",
      "HMPS_SCAG_19_2002-001.jpg\r\n",
      "HMPS_SCAG_414-001.jpg\r\n",
      "HMPS_SCAG_420-001.jpg\r\n",
      "HMPS_SCAG_568-001.jpg\r\n",
      "HMPS_SCAG_644-001.jpg\r\n",
      "HMPS_SCAG_660-001.jpg\r\n",
      "HMPS_SCAG_720-001.jpg\r\n",
      "HMPS_SCAG_723-001.jpg\r\n",
      "HMPS_SCAG_893-001.jpg\r\n",
      "HMPS_SMA_26-001.jpg\r\n",
      "HMPS_SOTLS_M13530-001.jpg\r\n",
      "HMPS_SUHT_20-001.jpg\r\n",
      "HMPS_SUHT_263-001.jpg\r\n",
      "HMPS_SUHT_270-001.jpg\r\n",
      "HMP_BWA_5_1-001.jpg\r\n",
      "HMP_BWA_5_2-001.jpg\r\n",
      "HMP_HDC_3-001.jpg\r\n",
      "HMP_HMCMS_FA1991_43-001.jpg\r\n",
      "HMP_HMCMS_FA1997_27-001.jpg\r\n",
      "HMP_HMCMS_FA1999_122-001.jpg\r\n",
      "HMP_HMCMS_FA2006_608-001.jpg\r\n",
      "HMP_HMCMS_FA2006_609-001.jpg\r\n",
      "HMP_HMCMS_FA2007_72-001.jpg\r\n",
      "HMP_HMCMS_GOS1985_28-001.jpg\r\n",
      "HRT_BUSMT_1991_122_1-001.jpg\r\n",
      "HRT_BUSMT_1991_61_4-001.jpg\r\n",
      "HRT_BUSMT_1991_81_103-001.jpg\r\n",
      "HRT_BUSMT_1991_81_98-001.jpg\r\n",
      "HRT_BUSMT_1993_70-001.jpg\r\n",
      "HRT_BUSMT_1999_28-001.jpg\r\n",
      "HRT_BUSMT_1999_63-001.jpg\r\n",
      "HRT_BUSMT_2000_22-001.jpg\r\n",
      "HRT_BUSMT_2002_156_4-001.jpg\r\n",
      "HRT_BUSMT_2004_108_2-001.jpg\r\n",
      "HRT_BUSMT_2007_120_2-001.jpg\r\n",
      "HRT_BUSMT_2007_14_2-001.jpg\r\n",
      "HRT_BUSRL_1986_97_9-001.jpg\r\n",
      "HRT_HETFM_5841_6-001.jpg\r\n",
      "HRT_LETMG_6049_01-001.jpg\r\n",
      "HRT_LETMG_7886-001.jpg\r\n",
      "HRT_LETMG_8_1993-001.jpg\r\n",
      "HRT_STEVM_29_2000_S-001.jpg\r\n",
      "HRT_WATMC_2004_573-001.jpg\r\n",
      "HRT_WATMC_2004_89-001.jpg\r\n",
      "HSW_BEW_1974_278K-001.jpg\r\n",
      "HSW_BEW_1974_289K-001.jpg\r\n",
      "HSW_BRRM_BR1999_25-001.jpg\r\n",
      "HSW_DMAG_1937_142-001.jpg\r\n",
      "HSW_DMAG_1979_14-001.jpg\r\n",
      "HSW_DMAG_1999_3-001.jpg\r\n",
      "HSW_HMAG_1993_51_1-001.jpg\r\n",
      "HSW_HMAG_208-001.jpg\r\n",
      "HSW_HMAG_9354-001.jpg\r\n",
      "HSW_IGM_Temp06-001.jpg\r\n",
      "HSW_OTM_O_Pa_5-001.jpg\r\n",
      "HSW_RAH_PCF03-001.jpg\r\n",
      "HSW_RAH_PCF16-001.jpg\r\n",
      "HSW_RJH_PCF22.jpg\r\n",
      "HSW_RSH_PCF05-001.jpg\r\n",
      "HSW_SHCC_E2777_053-001.jpg\r\n",
      "HSW_WMAG_1976_244-001.jpg\r\n",
      "HSW_WMAG_FA032-001.jpg\r\n",
      "IOM_MNH_1954_2501_052-001.jpg\r\n",
      "IOM_MNH_1954_2501_053-001.jpg\r\n",
      "IOM_MNH_1954_6134-001.jpg\r\n",
      "IOM_MNH_1954_7450-001.jpg\r\n",
      "IOM_MNH_1957_0086-001.jpg\r\n",
      "IOM_MNH_1962_0235-001.jpg\r\n",
      "IOM_MNH_1963_0113-001.jpg\r\n",
      "IOM_MNH_1972_0205-001.jpg\r\n",
      "IOM_MNH_1991_0167-001.jpg\r\n",
      "IOM_MNH_1992_0003-001.jpg\r\n",
      "IOM_MNH_1994_0260-001.jpg\r\n",
      "IOM_MTT_PCF54-001.jpg\r\n",
      "IOM_MTT_PCF69-001.jpg\r\n",
      "IOM_MTT_PCF77-001.jpg\r\n",
      "IWM_IWM_1299-001.jpg\r\n",
      "IWM_IWM_1362-001.jpg\r\n",
      "IWM_IWM_16211-001.jpg\r\n",
      "IWM_IWM_16413-001.jpg\r\n",
      "IWM_IWM_16491-001.jpg\r\n",
      "IWM_IWM_1931-001.jpg\r\n",
      "IWM_IWM_2661-001.jpg\r\n",
      "IWM_IWM_3073-001.jpg\r\n",
      "IWM_IWM_3258-001.jpg\r\n",
      "IWM_IWM_LD_1561-001.jpg\r\n",
      "IWM_IWM_LD_3125-001.jpg\r\n",
      "IWM_IWM_LD_3286-001.jpg\r\n",
      "IWM_IWM_LD_3530-001.jpg\r\n",
      "IWM_IWM_LD_3769-001.jpg\r\n",
      "IWM_IWM_LD_5509-001.jpg\r\n",
      "IWM_IWM_LD_5626-001.jpg\r\n",
      "IWM_IWM_LD_6049-001.jpg\r\n",
      "IWM_IWM_LD_7453-001.jpg\r\n",
      "KT_CCMG_HRN_02_001-001.jpg\r\n",
      "KT_CCMG_HRN_08_003-001.jpg\r",
      "\r\n",
      "KT_CCMG_ROY_014-001.jpg\r\n",
      "KT_CCMG_ROY_039_018-001.jpg\r\n",
      "KT_CCMG_ROY_044_006-001.jpg\r\n",
      "KT_CCMG_ROY_044_034-001.jpg\r\n",
      "KT_CCMG_ROY_047_020-001.jpg\r\n",
      "KT_CCMG_ROY_241_21A-001.jpg\r\n",
      "KT_CCMG_WMG_003_005-001.jpg\r\n",
      "KT_DOV_026_002-001.jpg\r\n",
      "KT_DOV_034_002-001.jpg\r\n",
      "KT_DOV_504_024-001.jpg\r\n",
      "KT_FK_09_002-001.jpg\r\n",
      "KT_GMR_05_016-001.jpg\r\n",
      "KT_MET_03_006-001.jpg\r\n",
      "KT_MMB_06_014-001.jpg\r\n",
      "KT_MMB_06_029-001.jpg\r\n",
      "KT_MMB_22_031-001.jpg\r\n",
      "KT_MMB_30_019-001.jpg\r\n",
      "KT_MMB_B_MAI_44989-001.jpg\r\n",
      "KT_MMB_B_MAI_46513-001.jpg\r\n",
      "KT_MMB_F14-001.jpg\r\n",
      "LAN_ASTL_1922_53-001.jpg\r\n",
      "LAN_ASTL_1979_113-001.jpg\r\n",
      "LAN_BLAG_1188-001.jpg\r\n",
      "LAN_BLAG_611-001.jpg\r\n",
      "LAN_BPOOLTH_3-001.jpg\r\n",
      "LAN_FYLD_1-001.jpg\r\n",
      "LAN_FYLD_6-001.jpg\r\n",
      "LAN_GRUN_G283-001.jpg\r\n",
      "LAN_GRUN_G368-001.jpg\r\n",
      "LAN_HARR_PRSMG_2011_98-001.jpg\r\n",
      "LAN_HARR_PRSMG_P1111-001.jpg\r\n",
      "LAN_HARR_PRSMG_P14-001.jpg\r\n",
      "LAN_HARR_PRSMG_P1414-001.jpg\r\n",
      "LAN_HARR_PRSMG_P15-001.jpg\r\n",
      "LAN_HARR_PRSMG_P1502-001.jpg\r\n",
      "LAN_HARR_PRSMG_P1536-001.jpg\r\n",
      "LAN_HARR_PRSMG_P1539-001.jpg\r\n",
      "LAN_HARR_PRSMG_P229-001.jpg\r\n",
      "LAN_HARR_PRSMG_P74-001.jpg\r\n",
      "LAN_HARR_PRSMG_P910-001.jpg\r\n",
      "LAN_LANCM_LANLM_1947_7_14-001.jpg\r\n",
      "LAN_LANCM_LANLM_1960_7_1-001.jpg\r\n",
      "LAN_LANCM_LANLM_1991_11_4-001.jpg\r\n",
      "LAN_LANCM_LANLM_1996_50_11-001.jpg\r\n",
      "LAN_LCMS_LANMS_1985_294_338-001.jpg\r\n",
      "LAN_LCMS_LANMS_2011_45_4_1-001.jpg\r\n",
      "LAN_LCMS_LANMS_2011_45_5_1-001.jpg\r\n",
      "LAN_ROSS_2001_08_03-001.jpg\r\n",
      "LAN_ROSS_2001_08_04-001.jpg\r\n",
      "LAN_ROSS_PA_112-001.jpg\r\n",
      "LAN_ROSS_PA_252-001.jpg\r\n",
      "LAN_TOWN_BURGM_paoil115-001.jpg\r\n",
      "LAN_TOWN_BURGM_paoil234_2-001.jpg\r\n",
      "LAN_TOWN_BURGM_paoil72-001.jpg\r\n",
      "LAN_TOWN_BURGM_paoil79-001.jpg\r\n",
      "LAN_TURT_PCF21-001.jpg\r\n",
      "LAN_UCLAN_PCF_UCL_2-001.jpg\r\n",
      "LDUCS_UCLAC_PC5294-001.jpg\r\n",
      "LDUCS_UCLAC_PC5360-001.jpg\r\n",
      "LDUCS_UCLAC_PC5468-001.jpg\r\n",
      "LDUCS_UCLAC_UCLDW_E0015-001.jpg\r\n",
      "LLR_AWC_0044-001.jpg\r\n",
      "LLR_AWC_0045-001.jpg\r\n",
      "LLR_AWC_0065-001.jpg\r\n",
      "LLR_AWC_0104-001.jpg\r\n",
      "LLR_AWC_0143-001.jpg\r\n",
      "LLR_AWC_0165-001.jpg\r\n",
      "LLR_AWC_0173-001.jpg\r\n",
      "LLR_AWC_0223-001.jpg\r\n",
      "LLR_AWC_0226-001.jpg\r\n",
      "LLR_AWC_0247-001.jpg\r\n",
      "LLR_AWC_0271-001.jpg\r\n",
      "LLR_AWC_0311-001.jpg\r\n",
      "LLR_AWC_0669-001.jpg\r\n",
      "LLR_AWC_0917-001.jpg\r\n",
      "LLR_AWC_0971-001.jpg\r\n",
      "LLR_BEAUH_1-001.jpg\r\n",
      "LLR_BEAUH_26-001.jpg\r\n",
      "LLR_BOBC_1926_83-001.jpg\r\n",
      "LLR_BOBC_1977_719-001.jpg\r\n",
      "LLR_BOBC_1987_19-001.jpg\r\n",
      "LLR_BOBC_1995_16-001.jpg\r\n",
      "LLR_BOBC_1996_40-001.jpg\r\n",
      "LLR_FYH_3-001.jpg\r\n",
      "LLR_GOH_GANOH4198-001.jpg\r\n",
      "LLR_GOH_GANOH4199-001.jpg\r\n",
      "LLR_GRIN_PCF6-001.jpg\r\n",
      "LLR_JCC_2-001.jpg\r\n",
      "LLR_JCC_9-001.jpg\r\n",
      "LLR_LAMS_L_F10_1882_0_0-001.jpg\r\n",
      "LLR_LAMS_L_F10_1991_0_0-001.jpg\r\n",
      "LLR_LAMS_L_F110_1988_0_0-001.jpg\r\n",
      "LLR_LAMS_L_F11_1891_0_0-001.jpg\r\n",
      "LLR_LAMS_L_F12_1919_0_0-001.jpg\r\n",
      "LLR_LAMS_L_F146_1964_0_0-001.jpg\r\n",
      "LLR_LAMS_L_F1_1890_0_0-001.jpg\r\n",
      "LLR_LAMS_L_F1_1943_0_0-001.jpg\r\n",
      "LLR_LAMS_L_F20_1935_11_0-001.jpg\r\n",
      "LLR_LAMS_L_F20_1935_14_0-001.jpg\r\n",
      "LLR_LAMS_L_F20_1935_1_1-001.jpg\r\n",
      "LLR_LAMS_L_F23_1991_0_0-001.jpg\r\n",
      "LLR_LAMS_L_F2_1907_0_0-001.jpg\r\n",
      "LLR_LAMS_L_F2_1918_0_0-001.jpg\r\n",
      "LLR_LAMS_L_F2_1989_0_0B-001.jpg\r\n",
      "LLR_LAMS_L_F34_1953_0_0-001.jpg\r\n",
      "LLR_LAMS_L_F36_1990_0_0-001.jpg\r\n",
      "LLR_LAMS_L_F3_1891_0_0-001.jpg\r\n",
      "LLR_LAMS_L_F3_1943_0_0-001.jpg\r\n",
      "LLR_LAMS_L_F454_1977_0_0-001.jpg\r\n",
      "LLR_LAMS_L_F45_1936_1_0-001.jpg\r\n",
      "LLR_LAMS_L_F4_1946_0_0-001.jpg\r\n",
      "LLR_LAMS_L_F4_1983_0_0-001.jpg\r\n",
      "LLR_LAMS_L_F56_1955_0_0-001.jpg\r\n",
      "LLR_LAMS_L_F5_1887_0_0-001.jpg\r\n",
      "LLR_LAMS_L_F75_1955_0_0-001.jpg\r\n",
      "LLR_LAMS_L_F7_1890_0_0-001.jpg\r\n",
      "LLR_LAMS_L_F7_1891_0_0-001.jpg\r\n",
      "LLR_LAMS_L_F7_1892_0_0-001.jpg\r\n",
      "LLR_LAMS_L_F8_1886_0_0-001.jpg\r\n",
      "LLR_LAMS_L_F8_1953_7_0-001.jpg\r\n",
      "LLR_LAMS_L_F98_1955_0_0-001.jpg\r\n",
      "LLR_LAMS_L_F9_1890_0_0-001.jpg\r\n",
      "LLR_LAMS_Y_F38_1949_0_0-001.jpg\r\n",
      "LLR_LAMS_Y_F3_2005_0_0-001.jpg\r\n",
      "LLR_LAMS_Y_F6_1997_0_0-001.jpg\r\n",
      "LLR_LBUN_28-001.jpg\r\n",
      "LLR_LCCC_1988_1-001.jpg\r\n",
      "LLR_LCNGR_1995_3588-001.jpg\r\n",
      "LLR_LCNST_5600-001.jpg\r\n",
      "LLR_LCNUG_1927_1586-001.jpg\r\n",
      "LLR_LCNUG_1927_1750-001.jpg\r\n",
      "LLR_LCNUG_1927_1843-001.jpg\r\n",
      "LLR_LCNUG_1927_2285-001.jpg\r\n",
      "LLR_LCNUG_1927_237-001.jpg\r\n",
      "LLR_LCNUG_1927_2395-001.jpg\r\n",
      "LLR_LCNUG_1927_2396-001.jpg\r\n",
      "LLR_LCNUG_1927_241-001.jpg\r\n",
      "LLR_LCNUG_1927_49-001.jpg\r\n",
      "LLR_LCNUG_1927_911-001.jpg\r\n",
      "LLR_LCNUG_1927_915-001.jpg\r\n",
      "LLR_LCNUG_1975_61-001.jpg\r\n",
      "LLR_LCNUG_1976_14-001.jpg\r\n",
      "LLR_LCNUG_1985_63-001.jpg\r\n",
      "LLR_LCNUG_1988_29-001.jpg\r\n",
      "LLR_LCNUG_1988_44-001.jpg\r\n",
      "LLR_LCNUG_1995_58-001.jpg\r\n",
      "LLR_LCNUG_1995_6-001.jpg\r\n",
      "LLR_LCNUG_1996_9-001.jpg\r\n",
      "LLR_LCNUG_2001_1-001.jpg\r\n",
      "LLR_LCNUG_2007_3-001.jpg\r\n",
      "LLR_LECC_L_F12_1950_0_0-001.jpg\r\n",
      "LLR_LECC_L_F151_1957_0_0-001.jpg\r\n",
      "LLR_LECC_L_F183_1981_0_0-001.jpg\r\n",
      "LLR_LECC_L_F20_1935_16_3-001.jpg\r\n",
      "LLR_LECC_L_F20_1935_16_4-001.jpg\r\n",
      "LLR_LECC_L_F20_1935_17_0-001.jpg\r\n",
      "LLR_LECC_L_F346_1956_0_0-001.jpg\r\n",
      "LLR_LECC_L_F38_1968_0_0-001.jpg\r\n",
      "LLR_LECC_L_F46_1938_0_0-001.jpg\r\n",
      "LLR_LECC_L_F49_1990_0_0-001.jpg\r\n",
      "LLR_LECC_L_F4_1994_0_0-001.jpg\r\n",
      "LLR_LECC_L_F5_1957_0_0-001.jpg\r\n",
      "LLR_LECC_L_F6_1890_0_0-001.jpg\r\n",
      "LLR_LECC_L_F7_1972_0_0-001.jpg\r\n",
      "LLR_LECC_L_F8_1958_0_0-001.jpg\r\n",
      "LLR_LECC_L_H80_1994_5_0-001.jpg\r\n",
      "LLR_LECOCO_5-001.jpg\r\n",
      "LLR_LOOM_W30-001.jpg\r\n",
      "LLR_MULL_1972_725-001.jpg\r\n",
      "LLR_MULL_1985_15-001.jpg\r\n",
      "LLR_NELMS_A_103-001.jpg\r\n",
      "LLR_NELMS_A_105-001.jpg\r\n",
      "LLR_NELMS_A_116-001.jpg\r\n",
      "LLR_NELMS_A_129-001.jpg\r\n",
      "LLR_NELMS_A_13-001.jpg\r\n",
      "LLR_NELMS_A_137-001.jpg\r\n",
      "LLR_NELMS_A_153-001.jpg\r\n",
      "LLR_NELMS_A_211-001.jpg\r\n",
      "LLR_NELMS_A_241-001.jpg\r\n",
      "LLR_NELMS_A_27-001.jpg\r\n",
      "LLR_NELMS_A_37-001.jpg\r\n",
      "LLR_NELMS_A_38-001.jpg\r\n",
      "LLR_NELMS_A_413-001.jpg\r\n",
      "LLR_NELMS_A_432-001.jpg\r\n",
      "LLR_NELMS_A_433-001.jpg\r\n",
      "LLR_NELMS_A_67-001.jpg\r\n",
      "LLR_NELMS_PCF16-001.jpg\r\n",
      "LLR_NTLMS_1943_148-001.jpg\r\n",
      "LLR_NTLMS_1963_031_3-001.jpg\r\n",
      "LLR_NTLMS_1965_065_5-001.jpg\r\n",
      "LLR_NTLMS_1965_094_1-001.jpg\r\n",
      "LLR_NTLMS_1966_029_2-001.jpg\r\n",
      "LLR_NTLMS_1968_207_4-001.jpg\r\n",
      "LLR_NTLMS_1970_056-001.jpg\r\n",
      "LLR_NTLMS_1975_126-001.jpg\r\n",
      "LLR_NTLMS_1975_166_6-001.jpg\r\n",
      "LLR_NTLMS_1991_002_2-001.jpg\r\n",
      "LLR_NTLMS_PCF2-001.jpg\r\n",
      "LLR_RLRH_L_H38_1988_3_0-001.jpg\r\n",
      "LLR_RNIBC_7-001.jpg\r\n",
      "LLR_THLCC_L_F12-001.jpg\r\n",
      "LLR_THLCC_L_F35_1949_0_0-001.jpg\r\n",
      "LLR_THLCC_L_F36_1949_0_0-001.jpg\r\n",
      "LLR_THLCC_L_F7-001.jpg\r\n",
      "LNE_BCMU_LDBCM_INV_1547-001.jpg\r\n",
      "LNE_BCMU_LDBCM_INV_1549-001.jpg\r\n",
      "LNE_BCMU_LDBCM_INV_1551-001.jpg\r\n",
      "LNE_BCMU_LDBCM_INV_74-001.jpg\r\n",
      "LNE_BPMA_PCF11-001.jpg\r\n",
      "LNE_ECOH_PCF01-001.jpg\r\n",
      "LNE_ECOH_PCF05-001.jpg\r\n",
      "LNE_HMCC_CH1996_14-001.jpg\r\n",
      "LNE_HMCC_CNV00026-001.jpg\r\n",
      "LNE_ILHC_B232_B4678-001.jpg\r\n",
      "LNE_ILHC_X_HIC_X1007-001.jpg\r\n",
      "LNE_RAFM_FA00044-001.jpg\r\n",
      "LNE_RAFM_FA00335-001.jpg\r\n",
      "LNE_RAFM_FA02650-001.jpg\r\n",
      "LNE_RAFM_FA02998-001.jpg\r\n",
      "LNE_RAFM_FA03005-001.jpg\r\n",
      "LNE_RAFM_FA03021-001.jpg\r\n",
      "LNE_RAFM_FA03121-001.jpg\r\n",
      "LNE_RAFM_FA03409-001.jpg\r\n",
      "LNE_RAFM_FA03515-001.jpg\r\n",
      "LNE_RAFM_FA03538-001.jpg\r\n",
      "LNE_RAFM_FA04023-001.jpg\r\n",
      "LNE_RAFM_FA04343-001.jpg\r\n",
      "LNE_RAFM_FA04381-001.jpg\r\n",
      "LNE_RAFM_FA04443-001.jpg\r\n",
      "LNE_RAFM_X001_2074-001.jpg\r\n",
      "LNE_RAFM_X003_2135-001.jpg\r\n",
      "LNE_RAFM_X003_2154-001.jpg\r\n",
      "LSE_BRHAM_LDBTH_704-001.jpg\r\n",
      "LSE_BRHAM_LDBTH_801-001.jpg\r\n",
      "LSE_DPG_DPG037-001.jpg\r\n",
      "LSE_DPG_DPG048-001.jpg\r\n",
      "LSE_DPG_DPG051-001.jpg\r\n",
      "LSE_DPG_DPG063-001.jpg\r\n",
      "LSE_DPG_DPG073-001.jpg\r\n",
      "LSE_DPG_DPG092-001.jpg\r\n",
      "LSE_DPG_DPG128-001.jpg\r\n",
      "LSE_DPG_DPG327-001.jpg\r\n",
      "LSE_DPG_DPG334-001.jpg\r\n",
      "LSE_DPG_DPG342-001.jpg\r\n",
      "LSE_DPG_DPG343-001.jpg\r\n",
      "LSE_HOM_1980_299-001.jpg\r\n",
      "LSE_SKAC_GA0681-001.jpg\r\n",
      "LSE_SKAC_GA1813-001.jpg\r\n",
      "LSW_CROY_M_1993_228b-001.jpg\r\n",
      "LSW_CROY_M_1993_229-001.jpg\r\n",
      "LSW_DHM_0093-001.jpg\r\n",
      "LSW_NAK_INF3_38-001.jpg\r\n",
      "LSW_NAK_INF3_41-001.jpg\r\n",
      "LSW_NAK_INF3_45-001.jpg\r\n",
      "LSW_QMH_81-001.jpg\r\n",
      "LSW_QMH_85_1-001.jpg\r\n",
      "LSW_QMH_85_2-001.jpg\r\n",
      "LSW_QMH_85_3-001.jpg\r\n",
      "LSW_RBGM_MN_CD1_015-001.jpg\r\n",
      "LSW_RBGM_MN_CD1_047-001.jpg\r\n",
      "LSW_RBGM_MN_CD1_059-001.jpg\r\n",
      "LSW_RBGM_MN_CD1_097-001.jpg\r\n",
      "LSW_RBGM_MN_CD2_108-001.jpg\r\n",
      "LSW_RBGM_MN_CD2_119-001.jpg\r\n",
      "LSW_RBGM_MN_CD2_123-001.jpg\r\n",
      "LSW_RBGM_MN_CD2_190-001.jpg\r\n",
      "LSW_RBGM_MN_CD3_282-001.jpg\r\n",
      "LSW_RBGM_MN_CD4_348-001.jpg\r\n",
      "LSW_RBGM_MN_CD8_720-001.jpg\r\n",
      "LSW_RBGM_MN_CD8_724-001.jpg\r\n",
      "LSW_RBGM_NOR_M_030_Tuc_Ber_070302pl001934-001.jpg\r\n",
      "LSW_SGH_170941_12_2-001.jpg\r\n",
      "LSW_SGH_170987_231-001.jpg\r\n",
      "LSW_SGH_170987_90_PCF_10-001.jpg\r\n",
      "LSW_SGH_170987_90_PCF_11-001.jpg\r\n",
      "LSW_WADM_WM_2010_041-001.jpg\r\n",
      "LW_CFB_cf42-001.jpg\r\n",
      "LW_CTHA_9-001.jpg\r\n",
      "LW_ECSH_J920011-001.jpg\r\n",
      "LW_ELHC_377-001.jpg\r\n",
      "LW_HFA_148-001.jpg\r\n",
      "LW_HFA_174-001.jpg\r\n",
      "LW_HILS_B5333B-001.jpg\r\n",
      "LW_NARM_1013665-001.jpg\r\n",
      "LW_NARM_1013954-001.jpg\r\n",
      "LW_NARM_1014017-001.jpg\r\n",
      "LW_NARM_1014116-001.jpg\r\n",
      "LW_NARM_1014617-001.jpg\r\n",
      "LW_NARM_1015494-001.jpg\r\n",
      "LW_NARM_131900-001.jpg\r\n",
      "LW_NARM_131925-001.jpg\r\n",
      "LW_NARM_1987_04_6-001.jpg\r\n",
      "LW_NARM_1993_11_43_1-001.jpg\r\n",
      "LW_NGP_WC_PCF6-001.jpg\r\n",
      "LW_NHIM_004302_IA-001.jpg\r\n",
      "LW_SCMU_1961_244-001.jpg\r\n",
      "LW_SCMU_1972_0222-001.jpg\r\n",
      "MER_LWH_PCF_17-001.jpg\r\n",
      "MER_SEC_1005-001.jpg\r\n",
      "MER_SEC_1843-001.jpg\r\n",
      "MER_SEC_560-001.jpg\r\n",
      "MER_SEC_PCF_63-001.jpg\r\n",
      "MER_VGM_2103-001.jpg\r\n",
      "MER_VGM_323-001.jpg\r\n",
      "MER_VGM_73-001.jpg\r\n",
      "MER_VGM_802-001.jpg\r\n",
      "MER_VGM_PCF_20-001.jpg\r\n",
      "MER_VGM_PCF_42-001.jpg\r\n",
      "MER_VGM_W66-001.jpg\r\n",
      "MER_WGM_1162-001.jpg\r\n",
      "MER_WGM_1228-001.jpg\r\n",
      "MER_WGM_203D-001.jpg\r\n",
      "MER_WGM_206S-001.jpg\r\n",
      "MER_WGM_209G-001.jpg\r\n",
      "MER_WGM_212F-001.jpg\r\n",
      "MER_WGM_2202-001.jpg\r\n",
      "MER_WGM_2306-001.jpg\r\n",
      "MER_WGM_2779-001.jpg\r\n",
      "MER_WGM_3233-001.jpg\r\n",
      "MER_WGM_3360-001.jpg\r\n",
      "MER_WGM_5171-001.jpg\r\n",
      "MER_WGM_5766-001.jpg\r\n",
      "MER_WGM_6670-001.jpg\r\n",
      "MER_WGM_7675-001.jpg\r\n",
      "MER_WGM_PCF_157-001.jpg\r\n",
      "MER_WGM_W13-001.jpg\r\n",
      "MER_WGM_W207-001.jpg\r\n",
      "MER_WGM_W22-001.jpg\r\n",
      "MER_WGM_W518-001.jpg\r\n",
      "MER_WGM_W531-001.jpg\r\n",
      "MER_WGM_W832-001.jpg\r\n",
      "NFK_BSM_BSM2-001.jpg\r\n",
      "NFK_GTY_GRYEH_1965_19-001.jpg\r\n",
      "NFK_GTY_GRYEH_2005_122-001.jpg\r\n",
      "NFK_KLM_KILLM_1967_34-001.jpg\r\n",
      "NFK_NCM_1973_161_2-001.jpg\r\n",
      "NFK_NCM_NWHCM_1894_68-001.jpg\r\n",
      "NFK_NCM_NWHCM_1899_4_12-001.jpg\r\n",
      "NFK_NCM_NWHCM_1926_64_1-001.jpg\r\n",
      "NFK_NCM_NWHCM_1939_141_13-001.jpg\r\n",
      "NFK_NCM_NWHCM_1940_118_2-001.jpg\r\n",
      "NFK_NCM_NWHCM_1940_118_8-001.jpg\r\n",
      "NFK_NCM_NWHCM_1946_88_4-001.jpg\r\n",
      "NFK_NCM_NWHCM_1947_93-001.jpg\r\n",
      "NFK_NCM_NWHCM_1951_235_1009-001.jpg\r\n",
      "NFK_NCM_NWHCM_1951_235_115-001.jpg\r\n",
      "NFK_NCM_NWHCM_1951_235_1195-001.jpg\r\n",
      "NFK_NCM_NWHCM_1951_235_1270-001.jpg\r\n",
      "NFK_NCM_NWHCM_1951_235_1304-001.jpg\r\n",
      "NFK_NCM_NWHCM_1951_235_96-001.jpg\r\n",
      "NFK_NCM_NWHCM_1952_59_2-001.jpg\r\n",
      "NFK_NCM_NWHCM_1962_198-001.jpg\r\n",
      "NFK_NCM_NWHCM_1971_55_145-001.jpg\r\n",
      "NFK_NCM_NWHCM_1972_536-001.jpg\r\n",
      "NFK_NCM_NWHCM_1977_481_6-001.jpg\r\n",
      "NFK_NCM_NWHCM_1982_197_1-001.jpg\r\n",
      "NFK_NCM_NWHCM_1982_197_2-001.jpg\r\n",
      "NFK_NCM_NWHCM_1989_41-001.jpg\r\n",
      "NFK_NCM_NWHCM_1991_1_16-001.jpg\r\n",
      "NFK_NCM_NWHCM_1991_1_34-001.jpg\r\n",
      "NFK_NCM_NWHCM_1991_1_37-001.jpg\r\n",
      "NFK_NCM_NWHCM_2003_12_3-001.jpg\r\n",
      "NFK_NCM_NWHCM_2009_163-001.jpg\r\n",
      "NFK_RNL_CR2002_42-001.jpg\r\n",
      "NFK_SHM_SHMMT_1998_172-001.jpg\r\n",
      "NFK_SHM_SHMMT_1998_173-001.jpg\r\n",
      "NFK_SHM_SHMMT_1999_38-001.jpg\r\n",
      "NFK_THE_THEHM_1976_513-001.jpg\r\n",
      "NFK_THE_THEHM_DS95-001.jpg\r\n",
      "NGS_NGS_GMA_1036-001.jpg\r\n",
      "NGS_NGS_GMA_1722-001.jpg\r\n",
      "NGS_NGS_GMA_1949-001.jpg\r\n",
      "NGS_NGS_GMA_3481-001.jpg\r\n",
      "NGS_NGS_GMA_3980-001.jpg\r\n",
      "NGS_NGS_GMA_818-001.jpg\r\n",
      "NGS_NGS_NG_1193_F-001.jpg\r\n",
      "NGS_NGS_NG_1236-001.jpg\r\n",
      "NGS_NGS_NG_2165-001.jpg\r\n",
      "NGS_NGS_NG_2196-001.jpg\r\n",
      "NGS_NGS_NG_2197-001.jpg\r\n",
      "NGS_NGS_NG_2351-001.jpg\r\n",
      "NGS_NGS_NG_2423-001.jpg\r\n",
      "NGS_NGS_NG_2821-001.jpg\r\n",
      "NGS_NGS_NG_329-001.jpg\r\n",
      "NGS_NGS_NG_708-001.jpg\r\n",
      "NGS_NGS_NG_994-001.jpg\r\n",
      "NG_NG_NG1003-001.jpg\r\n",
      "NG_NG_NG1009-001.jpg\r\n",
      "NG_NG_NG1015-001.jpg\r\n",
      "NG_NG_NG1074-001.jpg\r\n",
      "NG_NG_NG1081-001.jpg\r\n",
      "NG_NG_NG1096-001.jpg\r\n",
      "NG_NG_NG1222-001.jpg\r\n",
      "NG_NG_NG1278-001.jpg\r\n",
      "NG_NG_NG1326-001.jpg\r\n",
      "NG_NG_NG1342-001.jpg\r\n",
      "NG_NG_NG1344-001.jpg\r\n",
      "NG_NG_NG1345-001.jpg\r\n",
      "NG_NG_NG1347-001.jpg\r\n",
      "NG_NG_NG1683-001.jpg\r\n",
      "NG_NG_NG1699-001.jpg\r\n",
      "NG_NG_NG1903-001.jpg\r\n",
      "NG_NG_NG2130-001.jpg\r\n",
      "NG_NG_NG2145-001.jpg\r\n",
      "NG_NG_NG2283-001.jpg\r\n",
      "NG_NG_NG238-001.jpg\r\n",
      "NG_NG_NG2532-001.jpg\r\n",
      "NG_NG_NG2537-001.jpg\r\n",
      "NG_NG_NG2541-001.jpg\r\n",
      "NG_NG_NG2547-001.jpg\r\n",
      "NG_NG_NG2548-001.jpg\r\n",
      "NG_NG_NG2554-001.jpg\r\n",
      "NG_NG_NG2572-001.jpg\r\n",
      "NG_NG_NG2583-001.jpg\r\n",
      "NG_NG_NG2630-001.jpg\r\n",
      "NG_NG_NG2710-001.jpg\r\n",
      "NG_NG_NG3261-001.jpg\r\n",
      "NG_NG_NG3314-001.jpg\r\n",
      "NG_NG_NG3529-001.jpg\r\n",
      "NG_NG_NG3591-001.jpg\r\n",
      "NG_NG_NG3879-001.jpg\r\n",
      "NG_NG_NG3881-001.jpg\r\n",
      "NG_NG_NG3941-001.jpg\r\n",
      "NG_NG_NG4927-001.jpg\r\n",
      "NG_NG_NG53-001.jpg\r\n",
      "NG_NG_NG5583-001.jpg\r\n",
      "NG_NG_NG622-001.jpg\r\n",
      "NG_NG_NG6358-001.jpg\r\n",
      "NG_NG_NG6423-001.jpg\r\n",
      "NG_NG_NG6600-001.jpg\r\n",
      "NG_NG_NG670-001.jpg\r\n",
      "NG_NG_NG818-001.jpg\r\n",
      "NG_NG_NG821-001.jpg\r\n",
      "NG_NG_NG822-001.jpg\r\n",
      "NG_NG_NG823-001.jpg\r\n",
      "NG_NG_NG828-001.jpg\r\n",
      "NG_NG_NG838-001.jpg\r\n",
      "NG_NG_NG844-001.jpg\r\n",
      "NG_NG_NG845-001.jpg\r\n",
      "NG_NG_NG849-001.jpg\r\n",
      "NG_NG_NG861-001.jpg\r\n",
      "NG_NG_NG867-001.jpg\r\n",
      "NG_NG_NG881-001.jpg\r\n",
      "NG_NG_NG882-001.jpg\r\n",
      "NG_NG_NG883-001.jpg\r\n",
      "NG_NG_NG933-001.jpg\r\n",
      "NG_NG_NG961-001.jpg\r\n",
      "NG_NG_NG962-001.jpg\r\n",
      "NG_NG_NG969-001.jpg\r\n",
      "NG_NG_NG971-001.jpg\r\n",
      "NG_NG_NG980-001.jpg\r\n",
      "NG_NG_NG983-001.jpg\r\n",
      "NID_BFC_PCF11-001.jpg\r\n",
      "NID_HIC_1112B-001.jpg\r\n",
      "NID_LIBC_BC_2007_006-001.jpg\r\n",
      "NID_MSMAN_2004_1159-001.jpg\r\n",
      "NID_MSMAN_2004_1167-001.jpg\r\n",
      "NID_MSMAN_2004_1180-001.jpg\r\n",
      "NID_MSMAN_2004_1181-001.jpg\r\n",
      "NID_MSMAN_2004_1185-001.jpg\r\n",
      "NID_MSMAN_2004_1188-001.jpg\r\n",
      "NID_MSMAN_2004_665-001.jpg\r\n",
      "NID_NDIM_1056-001.jpg\r\n",
      "NID_NDIM_1415-001.jpg\r\n",
      "NID_NICS_0343-001.jpg\r\n",
      "NID_NICS_0475-001.jpg\r\n",
      "NID_NICS_0543-001.jpg\r\n",
      "NID_NICS_0544-001.jpg\r\n",
      "NID_NICS_0602-001.jpg\r\n",
      "NID_NICS_0712-001.jpg\r\n",
      "NID_NICS_0723-001.jpg\r\n",
      "NID_NICS_0878-001.jpg\r\n",
      "NID_NICS_0912-001.jpg\r\n",
      "NID_NICS_0916-001.jpg\r\n",
      "NID_NICS_1071-001.jpg\r\n",
      "NID_NICS_1074-001.jpg\r\n",
      "NID_NICS_1269-001.jpg\r\n",
      "NID_NICS_1323-001.jpg\r\n",
      "NID_QUB_QUB_264-001.jpg\r\n",
      "NID_RUA_PCF36-001.jpg\r\n",
      "NLW_NLW_gcf00949-001.jpg\r\n",
      "NLW_NLW_gcf02260-001.jpg\r\n",
      "NLW_NLW_gcf02880-001.jpg\r\n",
      "NLW_NLW_gcf06198-001.jpg\r\n",
      "NLW_NLW_gcf10167-001.jpg\r\n",
      "NLW_NLW_gcf10185-001.jpg\r\n",
      "NLW_NLW_gcf10202-001.jpg\r\n",
      "NLW_NLW_gcf10253-001.jpg\r\n",
      "NLW_NLW_gcf10268-001.jpg\r\n",
      "NLW_NLW_gcf10270-001.jpg\r\n",
      "NLW_NLW_kwf00085-001.jpg\r\n",
      "NLW_NLW_kwf00088-001.jpg\r\n",
      "NLW_NLW_kwf00264-001.jpg\r\n",
      "NML_CAE_CENM1996_24-001.jpg\r\n",
      "NML_LLG_LL_3154-001.jpg\r\n",
      "NML_LLG_LL_3418-001.jpg\r\n",
      "NML_LLG_LL_3708-001.jpg\r\n",
      "NML_LLG_LL_3718-001.jpg\r\n",
      "NML_MMM_MMM_1984_44-001.jpg\r\n",
      "NML_SUD_WAG_184-001.jpg\r\n",
      "NML_SUD_WAG_188-001.jpg\r\n",
      "NML_SUD_WAG_217-001.jpg\r\n",
      "NML_SUD_WAG_249-001.jpg\r\n",
      "NML_SUD_WAG_255-001.jpg\r\n",
      "NML_SUD_WAG_278-001.jpg\r\n",
      "NML_SUD_WAG_319-001.jpg\r\n",
      "NML_WARG_PCF_3-001.jpg\r\n",
      "NML_WARG_WAG_102251.jpg\r\n",
      "NML_WARG_WAG_10226-001.jpg\r\n",
      "NML_WARG_WAG_10231-001.jpg\r\n",
      "NML_WARG_WAG_10233-001.jpg\r\n",
      "NML_WARG_WAG_10360-001.jpg\r\n",
      "NML_WARG_WAG_134-001.jpg\r\n",
      "NML_WARG_WAG_2160-001.jpg\r\n",
      "NML_WARG_WAG_2294-001.jpg\r\n",
      "NML_WARG_WAG_2295-001.jpg\r\n",
      "NML_WARG_WAG_2296-001.jpg\r\n",
      "NML_WARG_WAG_2302-001.jpg\r\n",
      "NML_WARG_WAG_2311-001.jpg\r\n",
      "NML_WARG_WAG_2313-001.jpg\r\n",
      "NML_WARG_WAG_2347-001.jpg\r\n",
      "NML_WARG_WAG_2387-001.jpg\r\n",
      "NML_WARG_WAG_2391-001.jpg\r\n",
      "NML_WARG_WAG_2392-001.jpg\r\n",
      "NML_WARG_WAG_2394-001.jpg\r\n",
      "NML_WARG_WAG_2421-001.jpg\r\n",
      "NML_WARG_WAG_346-001.jpg\r\n",
      "NML_WARG_WAG_419-001.jpg\r\n",
      "NML_WARG_WAG_450-001.jpg\r\n",
      "NML_WARG_WAG_6107-001.jpg\r\n",
      "NML_WARG_WAG_6259-001.jpg\r\n",
      "NML_WARG_WAG_7626-001.jpg\r\n",
      "NML_WARG_WAG_8636-001.jpg\r\n",
      "NML_WARG_WAG_9525-001.jpg\r\n",
      "NML_WARG_WAG_9526-001.jpg\r\n",
      "NML_WARG_WAG_9528-001.jpg\r\n",
      "NML_WARG_WAG_9529-001.jpg\r\n",
      "NML_WARG_WAG_9533-001.jpg\r\n",
      "NML_WARG_WAG_9535-001.jpg\r\n",
      "NML_WARG_WAG_9536-001.jpg\r\n",
      "NML_WARG_WAG_9540-001.jpg\r\n",
      "NML_WARG_WAG_9541-001.jpg\r\n",
      "NML_WARG_WAG_9551-001.jpg\r\n",
      "NML_WARG_WAG_95541.jpg\r\n",
      "NML_WARG_WAG_9555-001.jpg\r\n",
      "NML_WARG_WAG_9560-001.jpg\r\n",
      "NML_WARG_WAG_9565-001.jpg\r\n",
      "NML_WARG_WAG_9569-001.jpg\r\n",
      "NML_WARG_WAG_9585-001.jpg\r\n",
      "NML_WARG_WAG_9586-001.jpg\r\n",
      "NML_WARG_WAG_9816-001.jpg\r\n",
      "NML_WARG_WAG_9817-001.jpg\r\n",
      "NMM_NMMG_BHC0715-001.jpg\r\n",
      "NMM_NMMG_BHC0716-001.jpg\r\n",
      "NMM_NMMG_BHC0717-001.jpg\r\n",
      "NMM_NMMG_BHC0760-001.jpg\r\n",
      "NMM_NMMG_BHC0772-001.jpg\r\n",
      "NMM_NMMG_BHC0775-001.jpg\r\n",
      "NMM_NMMG_BHC0786-001.jpg\r\n",
      "NMM_NMMG_BHC0791-001.jpg\r\n",
      "NMM_NMMG_BHC0806-001.jpg\r\n",
      "NMM_NMMG_BHC0817-001.jpg\r\n",
      "NMM_NMMG_BHC0820-001.jpg\r\n",
      "NMM_NMMG_BHC0837-001.jpg\r\n",
      "NMM_NMMG_BHC0839-001.jpg\r\n",
      "NMM_NMMG_BHC0841-001.jpg\r\n",
      "NMM_NMMG_BHC0934-001.jpg\r\n",
      "NMM_NMMG_BHC0943-001.jpg\r\n",
      "NMM_NMMG_BHC1000-001.jpg\r\n",
      "NMM_NMMG_BHC1075-001.jpg\r\n",
      "NMM_NMMG_BHC1081-001.jpg\r\n",
      "NMM_NMMG_BHC1099-001.jpg\r\n",
      "NMM_NMMG_BHC1110-001.jpg\r\n",
      "NMM_NMMG_BHC1120-001.jpg\r\n",
      "NMM_NMMG_BHC1138-001.jpg\r\n",
      "NMM_NMMG_BHC1154-001.jpg\r\n",
      "NMM_NMMG_BHC1174-001.jpg\r\n",
      "NMM_NMMG_BHC1175-001.jpg\r\n",
      "NMM_NMMG_BHC1201-001.jpg\r\n",
      "NMM_NMMG_BHC1219-001.jpg\r\n",
      "NMM_NMMG_BHC1220-001.jpg\r\n",
      "NMM_NMMG_BHC1252-001.jpg\r\n",
      "NMM_NMMG_BHC1266-001.jpg\r\n",
      "NMM_NMMG_BHC1297-001.jpg\r\n",
      "NMM_NMMG_BHC1298-001.jpg\r\n",
      "NMM_NMMG_BHC1299-001.jpg\r\n",
      "NMM_NMMG_BHC1300-001.jpg\r\n",
      "NMM_NMMG_BHC1301-001.jpg\r\n",
      "NMM_NMMG_BHC1302-001.jpg\r\n",
      "NMM_NMMG_BHC1304-001.jpg\r\n",
      "NMM_NMMG_BHC1305-001.jpg\r\n",
      "NMM_NMMG_BHC1306-001.jpg\r\n",
      "NMM_NMMG_BHC1307-001.jpg\r\n",
      "NMM_NMMG_BHC1308-001.jpg\r\n",
      "NMM_NMMG_BHC1350-001.jpg\r\n",
      "NMM_NMMG_BHC1415-001.jpg\r\n",
      "NMM_NMMG_BHC1416-001.jpg\r\n",
      "NMM_NMMG_BHC1417-001.jpg\r\n",
      "NMM_NMMG_BHC1550-001.jpg\r\n",
      "NMM_NMMG_BHC1568-001.jpg\r\n",
      "NMM_NMMG_BHC1569-001.jpg\r\n",
      "NMM_NMMG_BHC1604-001.jpg\r\n",
      "NMM_NMMG_BHC2338-001.jpg\r\n",
      "NMM_NMMG_BHC2496-001.jpg\r\n",
      "NMM_NMMG_BHC3484-001.jpg\r\n",
      "NMM_NMMG_ZBA2145-001.jpg\r\n",
      "NOT_BADC_A24-001.jpg\r\n",
      "NOT_BADC_A46-001.jpg\r\n",
      "NOT_BADC_A53-001.jpg\r\n",
      "NOT_BADC_A61-001.jpg\r\n",
      "NOT_BADC_A72-001.jpg\r\n",
      "NOT_BADC_A76-001.jpg\r\n",
      "NOT_BADC_art_2006_2050-001.jpg\r\n",
      "NOT_CMHT_48-001.jpg\r\n",
      "NOT_MASMG_38-001.jpg\r\n",
      "NOT_MASMG_Pa_30a-001.jpg\r\n",
      "NOT_NCCL_AM_2000_227-001.jpg\r\n",
      "NOT_NCL_tempNCL7-001.jpg\r\n",
      "NOT_NCMG_1880_2-001.jpg\r\n",
      "NOT_NCMG_1882_568-001.jpg\r\n",
      "NOT_NCMG_1882_85-001.jpg\r\n",
      "NOT_NCMG_1888_259-001.jpg\r\n",
      "NOT_NCMG_1889_7-001.jpg\r\n",
      "NOT_NCMG_1890_1164-001.jpg\r\n",
      "NOT_NCMG_1890_1203-001.jpg\r\n",
      "NOT_NCMG_1890_1214-001.jpg\r\n",
      "NOT_NCMG_1891_185-001.jpg\r\n",
      "NOT_NCMG_1892_49-001.jpg\r\n",
      "NOT_NCMG_1893_75-001.jpg\r\n",
      "NOT_NCMG_1897_60-001.jpg\r\n",
      "NOT_NCMG_1904_17-001.jpg\r\n",
      "NOT_NCMG_1904_24-001.jpg\r\n",
      "NOT_NCMG_1904_27-001.jpg\r\n",
      "NOT_NCMG_1904_78-001.jpg\r\n",
      "NOT_NCMG_1904_91-001.jpg\r\n",
      "NOT_NCMG_1904_92-001.jpg\r\n",
      "NOT_NCMG_1908_13-001.jpg\r\n",
      "NOT_NCMG_1908_14-001.jpg\r\n",
      "NOT_NCMG_1909_41-001.jpg\r\n",
      "NOT_NCMG_1909_52-001.jpg\r\n",
      "NOT_NCMG_1910_55-001.jpg\r\n",
      "NOT_NCMG_1911_48-001.jpg\r\n",
      "NOT_NCMG_1911_50-001.jpg\r\n",
      "NOT_NCMG_1916_3-001.jpg\r\n",
      "NOT_NCMG_1917_1-001.jpg\r\n",
      "NOT_NCMG_1924_27-001.jpg\r\n",
      "NOT_NCMG_1927_36-001.jpg\r\n",
      "NOT_NCMG_1930_20-001.jpg\r\n",
      "NOT_NCMG_1932_44-001.jpg\r\n",
      "NOT_NCMG_1933_247-001.jpg\r\n",
      "NOT_NCMG_1933_248-001.jpg\r\n",
      "NOT_NCMG_1933_249-001.jpg\r\n",
      "NOT_NCMG_1933_253-001.jpg\r\n",
      "NOT_NCMG_1933_254-001.jpg\r\n",
      "NOT_NCMG_1934_33-001.jpg\r\n",
      "NOT_NCMG_1938_128R-001.jpg\r\n",
      "NOT_NCMG_1938_142-001.jpg\r\n",
      "NOT_NCMG_1940_17-001.jpg\r\n",
      "NOT_NCMG_1941_23-001.jpg\r\n",
      "NOT_NCMG_1944_1-001.jpg\r\n",
      "NOT_NCMG_1944_29-001.jpg\r\n",
      "NOT_NCMG_1944_32-001.jpg\r\n",
      "NOT_NCMG_1946_262-001.jpg\r\n",
      "NOT_NCMG_1946_271-001.jpg\r\n",
      "NOT_NCMG_1947_26-001.jpg\r\n",
      "NOT_NCMG_1948_41-001.jpg\r\n",
      "NOT_NCMG_1949_87-001.jpg\r\n",
      "NOT_NCMG_1951_56-001.jpg\r\n",
      "NOT_NCMG_1952_8-001.jpg\r\n",
      "NOT_NCMG_1953_112-001.jpg\r\n",
      "NOT_NCMG_1954_36-001.jpg\r\n",
      "NOT_NCMG_1966_62-001.jpg\r\n",
      "NOT_NCMG_1966_72-001.jpg\r\n",
      "NOT_NCMG_1985_1375-001.jpg\r\n",
      "NOT_NCMG_1985_1377-001.jpg\r\n",
      "NOT_NCMG_1990_626-001.jpg\r\n",
      "NOT_NCMG_A_X_22-001.jpg\r\n",
      "NOT_NCMG_NA_2000_35-001.jpg\r\n",
      "NOT_NCMG_NA_252-001.jpg\r\n",
      "NOT_NCMG_NA_501-001.jpg\r\n",
      "NOT_NCMG_NA_996-001.jpg\r\n",
      "NOT_NCMG_WH_temp1-001.jpg\r\n",
      "NOT_NOCCH_CH0021-001.jpg\r\n",
      "NOT_NOCCL_ALIB2-001.jpg\r\n",
      "NOT_NOCCL_HKLIB4-001.jpg\r\n",
      "NOT_NOCCL_RTLIB1-001.jpg\r\n",
      "NOT_NSDC_109_2-001.jpg\r\n",
      "NOT_NSDC_110_2-001.jpg\r\n",
      "NOT_NTMAG_1997_14-001.jpg\r\n",
      "NOT_NTMAG_1997_19-001.jpg\r\n",
      "NOT_NTMAG_1997_277-001.jpg\r\n",
      "NOT_NTMAG_1997_31-001.jpg\r\n",
      "NOT_NTMAG_1997_8-001.jpg\r\n",
      "NOT_NTMAG_1997_9-001.jpg\r\n",
      "NOT_NTMAG_2008_17-001.jpg\r\n",
      "NOT_RTH_RTH01-001.jpg\r\n",
      "NOT_SFHT_NWK2-001.jpg\r\n",
      "NOT_THOC_ex_2008_02-001.jpg\r\n",
      "NOT_UHMT_UP5-001.jpg\r\n",
      "NOT_UON_110-001.jpg\r\n",
      "NOT_UON_119-001.jpg\r\n",
      "NOT_UON_126-001.jpg\r\n",
      "NOT_UON_173-001.jpg\r\n",
      "NOT_UON_174-001.jpg\r\n",
      "NOT_UON_31-001.jpg\r\n",
      "NOT_UON_37-001.jpg\r\n",
      "NOT_UON_53-001.jpg\r\n",
      "NOT_UON_99-001.jpg\r\n",
      "NSC_ABC_105_PIC-001.jpg\r\n",
      "NSC_ABC_CAPTM_1997_010-001.jpg\r\n",
      "NSC_ABMS_PEHAH_1984_229-001.jpg\r\n",
      "NSC_ABMS_PEHMS_B5229-001.jpg\r\n",
      "NSC_ABMS_PEHMS_P11735-001.jpg\r\n",
      "NSC_ABMS_PEHMS_P11744-001.jpg\r\n",
      "NSC_ABMS_PEHMS_P11758-001.jpg\r\n",
      "NSC_IMAG_HCEU_EU_SAC_118-001.jpg\r\n",
      "NSC_LAC_LAC023-001.jpg\r\n",
      "NSC_OIC_PCF_8_V-001.jpg\r\n",
      "NSC_SHMA_ART_2010_135-001.jpg\r\n",
      "NSC_SHMA_ART_2010_321-001.jpg\r\n",
      "NSC_SHMA_ART_8052-001.jpg\r\n",
      "NSC_UHI_LCCArt0017-001.jpg\r\n",
      "NTIII_ANG_515442-001.jpg\r\n",
      "NTIII_ANG_515469-001.jpg\r\n",
      "NTIII_ANG_515470-001.jpg\r\n",
      "NTIII_ANG_515471-001.jpg\r\n",
      "NTIII_ANG_515472-001.jpg\r\n",
      "NTIII_ANG_515473-001.jpg\r\n",
      "NTIII_ANG_515474-001.jpg\r\n",
      "NTIII_ANG_515475-001.jpg\r\n",
      "NTIII_ANG_515476-001.jpg\r\n",
      "NTIII_ANG_515477-001.jpg\r\n",
      "NTIII_ANG_515491-001.jpg\r\n",
      "NTIII_ANG_515514_4-001.jpg\r\n",
      "NTIII_ANG_515514_5-001.jpg\r\n",
      "NTIII_ANG_515514_6-001.jpg\r\n",
      "NTIII_ANG_515515_1-001.jpg\r\n",
      "NTIII_ANG_515518_1-001.jpg\r\n",
      "NTIII_ANG_515518_2-001.jpg\r\n",
      "NTIII_ANG_515518_6-001.jpg\r\n",
      "NTIII_ANG_515518_7-001.jpg\r\n",
      "NTIII_ANG_515519_5-001.jpg\r\n",
      "NTIII_ANG_515519_9-001.jpg\r\n",
      "NTIII_ANG_515520_6-001.jpg\r\n",
      "NTIII_ANG_515520_7-001.jpg\r\n",
      "NTIII_ANG_515536-001.jpg\r\n",
      "NTIII_ANG_515543-001.jpg\r\n",
      "NTIII_ANG_515601-001.jpg\r\n",
      "NTIII_ANG_515615-001.jpg\r\n",
      "NTIII_ANG_515718-001.jpg\r\n",
      "NTIII_ANG_515719-001.jpg\r\n",
      "NTIII_ANG_515720_5-001.jpg\r\n",
      "NTIII_ANG_515721_2-001.jpg\r\n",
      "NTIII_ANG_515722_3-001.jpg\r\n",
      "NTIII_ANG_515723_2-001.jpg\r\n",
      "NTIII_ANG_515723_8-001.jpg\r\n",
      "NTIII_ANG_515756-001.jpg\r\n",
      "NTIII_ANG_515824-001.jpg\r\n",
      "NTIII_BELT_436013-001.jpg\r\n",
      "NTIII_BLI_355576-001.jpg\r\n",
      "NTIII_BLI_355596-001.jpg\r\n",
      "NTIII_BLI_PCF12-001.jpg\r\n",
      "NTIII_CAL_290204-001.jpg\r\n",
      "NTIII_CAL_290224-001.jpg\r\n",
      "NTIII_CAL_290231-001.jpg\r\n",
      "NTIII_CAL_290242-001.jpg\r\n",
      "NTIII_CAL_290260-001.jpg\r\n",
      "NTIII_CAL_290295-001.jpg\r\n",
      "NTIII_CAL_290296-001.jpg\r\n",
      "NTIII_CAL_290301_1-001.jpg\r\n",
      "NTIII_CAL_290351-001.jpg\r\n",
      "NTIII_CAL_290352-001.jpg\r\n",
      "NTIII_CAL_290364-001.jpg\r\n",
      "NTIII_CAL_290442-001.jpg\r\n",
      "NTIII_CAL_290471-001.jpg\r\n",
      "NTIII_CAL_290472-001.jpg\r\n",
      "NTIII_CAL_290473-001.jpg\r\n",
      "NTIII_CAL_290477-001.jpg\r\n",
      "NTIII_CAL_290483-001.jpg\r\n",
      "NTIII_CAL_290484-001.jpg\r\n",
      "NTIII_CAL_TEMP4-001.jpg\r\n",
      "NTIII_CAS_494935-001.jpg\r\n",
      "NTIII_CRAG_1230255-001.jpg\r\n",
      "NTIII_ERH_201457-001.jpg\r\n",
      "NTIII_ERH_201463-001.jpg\r\n",
      "NTIII_ERH_201464-001.jpg\r\n",
      "NTIII_FEL_1401221-001.jpg\r\n",
      "NTIII_FEL_1401305-001.jpg\r\n",
      "NTIII_GUN_637651-001.jpg\r\n",
      "NTIII_ICK_851702-001.jpg\r\n",
      "NTIII_ICK_851849-001.jpg\r\n",
      "NTIII_KEDH_108884-001.jpg\r\n",
      "NTIII_KEDH_108890-001.jpg\r\n",
      "NTIII_KEDH_108891-001.jpg\r\n",
      "NTIII_KEDH_108911-001.jpg\r\n",
      "NTIII_KEDH_108913-001.jpg\r\n",
      "NTIII_KEDH_108921-001.jpg\r\n",
      "NTIII_KEDH_108928-001.jpg\r\n",
      "NTIII_MEL_926887_1-001.jpg\r\n",
      "NTIII_MRSH_744009-001.jpg\r\n",
      "NTIII_NOST_959471_1-001.jpg\r\n",
      "NTIII_NOST_959471_2-001.jpg\r\n",
      "NTIII_NOST_959496-001.jpg\r\n",
      "NTIII_NOST_959523-001.jpg\r\n",
      "NTIII_NOST_960240-001.jpg\r\n",
      "NTIII_NUNH_979337-001.jpg\r\n",
      "NTIII_NUNH_980583_B-001.jpg\r\n",
      "NTIII_SEDV_1276839-001.jpg\r\n",
      "NTIII_SHER_800610_4-001.jpg\r\n",
      "NTIII_SHER_800691-001.jpg\r\n",
      "NTIII_SUDH_652417-001.jpg\r\n",
      "NTIII_WALL_584409-001.jpg\r\n",
      "NTIII_WALL_584497-001.jpg\r\n",
      "NTIII_WIM_207785-001.jpg\r\n",
      "NTIII_WIM_207810-001.jpg\r\n",
      "NTIII_WIM_207920-001.jpg\r\n",
      "NTIII_WIM_207921-001.jpg\r\n",
      "NTII_ARD_247860-001.jpg\r\n",
      "NTII_ARGY_564834-001.jpg\r\n",
      "NTII_ARGY_564856-001.jpg\r\n",
      "NTII_ATT_608987-001.jpg\r\n",
      "NTII_ATT_608999-001.jpg\r\n",
      "NTII_ATT_609052-001.jpg\r\n",
      "NTII_ATT_609104-001.jpg\r\n",
      "NTII_ATT_609107-001.jpg\r\n",
      "NTII_ATT_609109-001.jpg\r\n",
      "NTII_ATT_609110-001.jpg\r\n",
      "NTII_ATT_609111-001.jpg\r\n",
      "NTII_ATT_609112-001.jpg\r\n",
      "NTII_ATT_609113-001.jpg\r\n",
      "NTII_ATT_609116-001.jpg\r\n",
      "NTII_ATT_609117-001.jpg\r\n",
      "NTII_ATT_609121-001.jpg\r\n",
      "NTII_CCP_533858-001.jpg\r\n",
      "NTII_CCP_533872-001.jpg\r\n",
      "NTII_CCS_537731-001.jpg\r\n",
      "NTII_DMS_814178-001.jpg\r\n",
      "NTII_DMS_814197-001.jpg\r\n",
      "NTII_DMS_814198-001.jpg\r\n",
      "NTII_DMS_814201-001.jpg\r\n",
      "NTII_DMS_814210-001.jpg\r\n",
      "NTII_DNMS_932343-001.jpg\r\n",
      "NTII_DNMS_932383-001.jpg\r\n",
      "NTII_FCC_631059-001.jpg\r\n",
      "NTII_FCC_631072_2-001.jpg\r\n",
      "NTII_FCC_631114-001.jpg\r\n",
      "NTII_FCC_631125-001.jpg\r\n",
      "NTII_FCC_631130-001.jpg\r\n",
      "NTII_GCH_445527-001.jpg\r\n",
      "NTII_GVH_622743-001.jpg\r\n",
      "NTII_GYF_443611-001.jpg\r\n",
      "NTII_LYP_500007-001.jpg\r\n",
      "NTII_LYP_500008-001.jpg\r\n",
      "NTII_LYP_500009-001.jpg\r\n",
      "NTII_LYP_500453-001.jpg\r\n",
      "NTII_LYP_500458-001.jpg\r\n",
      "NTII_MNS_1219966-001.jpg\r\n",
      "NTII_MNS_1219968-001.jpg\r\n",
      "NTII_MNS_1219974-001.jpg\r\n",
      "NTII_MNS_1219975-001.jpg\r\n",
      "NTII_MNS_1219987-001.jpg\r\n",
      "NTII_MNS_1221337-001.jpg\r\n",
      "NTII_MNS_1221338-001.jpg\r\n",
      "NTII_MNS_1221340-001.jpg\r\n",
      "NTII_MNS_1221342-001.jpg\r\n",
      "NTII_MNS_1221344-001.jpg\r\n",
      "NTII_MNS_1221347-001.jpg\r\n",
      "NTII_MNS_1221395-001.jpg\r\n",
      "NTII_QBM_1452204-001.jpg\r\n",
      "NTII_RFOH_784667-001.jpg\r\n",
      "NTII_SGB_1271048-001.jpg\r\n",
      "NTII_SGB_1271050-001.jpg\r\n",
      "NTII_SGB_1271083-001.jpg\r\n",
      "NTII_SGB_1271092-001.jpg\r\n",
      "NTII_SGB_1271105-001.jpg\r\n",
      "NTII_SGB_1271514-001.jpg\r\n",
      "NTII_SGB_1271515-001.jpg\r\n",
      "NTII_SGB_1271516-001.jpg\r\n",
      "NTII_SKH_1196041-001.jpg\r\n",
      "NTII_SKH_1196043-001.jpg\r\n",
      "NTII_SPR_216422-001.jpg\r\n",
      "NTII_SUNY_1319323-001.jpg\r\n",
      "NTII_TTT_1298858-001.jpg\r\n",
      "NTII_TWE_478841-001.jpg\r\n",
      "NTII_UPH_446660-001.jpg\r\n",
      "NTII_UPH_446677c-001.jpg\r\n",
      "NTII_UPH_446677d-001.jpg\r\n",
      "NTII_UPH_446687-001.jpg\r\n",
      "NTII_UPH_446719-001.jpg\r\n",
      "NTII_UPH_446720-001.jpg\r\n",
      "NTII_UPH_446728-001.jpg\r\n",
      "NTII_WGMA_1288969-001.jpg\r\n",
      "NTII_WOH_866463-001.jpg\r\n",
      "NTIV_ASCT_1535103-001.jpg\r\n",
      "NTIV_ASCT_43341-001.jpg\r\n",
      "NTIV_BASP_TEMP3-001.jpg\r\n",
      "NTIV_CAR_154006-001.jpg\r\n",
      "NTIV_CHAH_1430460-001.jpg\r\n",
      "NTIV_CHAH_1430497-001.jpg\r\n",
      "NTIV_CHAH_1430522-001.jpg\r\n",
      "NTIV_CHAH_1430545-001.jpg\r\n",
      "NTIV_CHAH_PCF33-001.jpg\r\n",
      "NTIV_CHAH_PCF34-001.jpg\r\n",
      "NTIV_CHAW_1102559-001.jpg\r\n",
      "NTIV_CLPK_1441513-001.jpg\r\n",
      "NTIV_DORN_1507725-001.jpg\r\n",
      "NTIV_FENT_10425-001.jpg\r\n",
      "NTIV_HACH_PCF30-001.jpg\r\n",
      "NTIV_HAMH_1140020-001.jpg\r\n",
      "NTIV_HAMH_1140158-001.jpg\r\n",
      "NTIV_HAMH_1140159-001.jpg\r\n",
      "NTIV_HAMH_1140174-001.jpg\r\n",
      "NTIV_HAMH_1140179-001.jpg\r\n",
      "NTIV_HARTM_TEMP12-001.jpg\r\n",
      "NTIV_HARTM_TEMP13-001.jpg\r\n",
      "NTIV_HART_1548008-001.jpg\r\n",
      "NTIV_HART_1548010-001.jpg\r\n",
      "NTIV_HART_1548079-001.jpg\r\n",
      "NTIV_HINT_1530121-001.jpg\r\n",
      "NTIV_KHA_445331-001.jpg\r\n",
      "NTIV_KHA_445332-001.jpg\r\n",
      "NTIV_KHA_445333-001.jpg\r\n",
      "NTIV_MONH_768420-001.jpg\r\n",
      "NTIV_MONH_768431-001.jpg\r\n",
      "NTIV_MOTM_1412314-001.jpg\r\n",
      "NTIV_MOTT_769763-001.jpg\r\n",
      "NTIV_NUFF_1963_2246_1-001.jpg\r\n",
      "NTIV_NUFF_1963_297_1-001.jpg\r\n",
      "NTIV_NUFF_1963_300_1-001.jpg\r\n",
      "NTIV_NUFF_PCF1-001.jpg\r\n",
      "NTIV_OWL_1411104-001.jpg\r\n",
      "NTIV_OWL_1411105-001.jpg\r\n",
      "NTIV_PET_25787-001.jpg\r\n",
      "NTIV_PET_485151-001.jpg\r\n",
      "NTIV_PET_486196-001.jpg\r\n",
      "NTIV_PET_486277-001.jpg\r\n",
      "NTIV_POLY_1246537-001.jpg\r\n",
      "NTIV_POLY_29952-001.jpg\r\n",
      "NTIV_UPP_138312-001.jpg\r\n",
      "NTIV_UPP_30924-001.jpg\r\n",
      "NTIV_VYN_27595-001.jpg\r\n",
      "NTIV_WADD_120_1995-001.jpg\r\n",
      "NTIV_WADD_2200-001.jpg\r\n",
      "NTIV_WADD_2563-001.jpg\r\n",
      "NTIV_WADD_550-001.jpg\r\n",
      "NTIV_WADD_551_1-001.jpg\r\n",
      "NTIV_WADD_8089-001.jpg\r\n",
      "NTI_ANT_352392-001.jpg\r\n",
      "NTI_ANT_353107-001.jpg\r\n",
      "NTI_ANT_353115-001.jpg\r\n",
      "NTI_ANT_353117-001.jpg\r\n",
      "NTI_ANT_353123-001.jpg\r\n",
      "NTI_ANT_353124-001.jpg\r\n",
      "NTI_ANT_353125-001.jpg\r\n",
      "NTI_ANT_353126-001.jpg\r\n",
      "NTI_ANT_353127-001.jpg\r\n",
      "NTI_ANT_353159-001.jpg\r\n",
      "NTI_ARC_987421-001.jpg\r\n",
      "NTI_BMN_830806-001.jpg\r\n",
      "NTI_BSC_1145084-001.jpg\r\n",
      "NTI_DPH_1439061-001.jpg\r\n",
      "NTI_DYP_453798-001.jpg\r\n",
      "NTI_DYP_453812-001.jpg\r\n",
      "NTI_DYP_453828-001.jpg\r\n",
      "NTI_EDG_1151295-001.jpg\r\n",
      "NTI_EDG_1151310-001.jpg\r\n",
      "NTI_EDG_1151422-001.jpg\r\n",
      "NTI_EDG_1151441-001.jpg\r\n",
      "NTI_GNY_121365-001.jpg\r\n",
      "NTI_KHC_541141-001.jpg\r\n",
      "NTI_KHC_541165-001.jpg\r\n",
      "NTI_KLA_1257188-001.jpg\r\n",
      "NTI_KLA_1257193-001.jpg\r\n",
      "NTI_KLA_1257213-001.jpg\r\n",
      "NTI_KLA_1257232-001.jpg\r\n",
      "NTI_LDK_884912-001.jpg\r\n",
      "NTI_LLN_461455-001.jpg\r\n",
      "NTI_LLN_461461-001.jpg\r\n",
      "NTI_MPH_724321-001.jpg\r\n",
      "NTI_MPH_724341-001.jpg\r\n",
      "NTI_OBK_1413432-001.jpg\r\n",
      "NTI_PCA_2900003-001.jpg\r\n",
      "NTI_PCA_2900004-001.jpg\r\n",
      "NTI_PCA_2900005-001.jpg\r\n",
      "NTI_PCA_2900006-001.jpg\r\n",
      "NTI_PCA_2900007-001.jpg\r\n",
      "NTI_PCA_2900008-001.jpg\r\n",
      "NTI_PCA_2900009-001.jpg\r\n",
      "NTI_PNC_1420370-001.jpg\r\n",
      "NTI_PNC_1420371-001.jpg\r\n",
      "NTI_PNC_1420372-001.jpg\r\n",
      "NTI_PNW_1175975-001.jpg\r\n",
      "NTI_PNW_1175976-001.jpg\r\n",
      "NTI_PNW_1176291-001.jpg\r\n",
      "NTI_PNW_171498-001.jpg\r\n",
      "NTI_PNW_44765-001.jpg\r\n",
      "NTI_PYR_648436-001.jpg\r\n",
      "NTI_SLP_SHE_P_63-001.jpg\r\n",
      "NTI_STM_872098-001.jpg\r\n",
      "NTI_STM_872120-001.jpg\r\n",
      "NTI_STO_732093-001.jpg\r\n",
      "NTI_STO_732220-001.jpg\r\n",
      "NTI_STO_732337-001.jpg\r\n",
      "NTI_TRR_337061-001.jpg\r\n",
      "NTI_TRR_337062-001.jpg\r\n",
      "NTI_TYD_13754-001.jpg\r\n",
      "NTI_TYD_13756-001.jpg\r\n",
      "NTI_TYD_21092-001.jpg\r\n",
      "NTI_TYD_21144-001.jpg\r\n",
      "NTI_TYD_21146-001.jpg\r\n",
      "NTI_TYD_27420-001.jpg\r\n",
      "NTI_TYD_28390-001.jpg\r\n",
      "NTS_BROD_2009_537_1-001.jpg\r\n",
      "NTS_BROD_2009_541-001.jpg\r\n",
      "NTS_BROD_2009_542-001.jpg\r\n",
      "NTS_BROD_2009_563_2-001.jpg\r\n",
      "NTS_BROD_2010_1879_1-001.jpg\r\n",
      "NTS_BROD_2010_1882-001.jpg\r\n",
      "NTS_BROE_73_101-001.jpg\r\n",
      "NTS_BROE_73_157_1-001.jpg\r\n",
      "NTS_BROE_73_157_2-001.jpg\r\n",
      "NTS_BROE_73_18-001.jpg\r\n",
      "NTS_BROE_73_23-001.jpg\r\n",
      "NTS_BROE_73_25-001.jpg\r\n",
      "NTS_BROE_73_511-001.jpg\r\n",
      "NTS_BROE_73_67-001.jpg\r\n",
      "NTS_BROE_73_75-001.jpg\r\n",
      "NTS_BROE_73_93-001.jpg\r\n",
      "NTS_BTN_5_3166-001.jpg\r\n",
      "NTS_BTN_5_98-001.jpg\r\n",
      "NTS_CFR_89_25918-001.jpg\r\n",
      "NTS_CZN_73_181_2-001.jpg\r\n",
      "NTS_CZN_95_46-001.jpg\r\n",
      "NTS_GNH_75_206-001.jpg\r\n",
      "NTS_HAD_79_67-001.jpg\r\n",
      "NTS_HAD_79_71-001.jpg\r\n",
      "NTS_HAIL_21_15-001.jpg\r\n",
      "NTS_HAIL_21_60-001.jpg\r\n",
      "NTS_HDUN_88_133_2-001.jpg\r\n",
      "NTS_LEI_2011_544-001.jpg\r\n",
      "NTS_MAR_200_293-001.jpg\r\n",
      "NTS_MAR_200_297_B-001.jpg\r\n",
      "NTS_MAR_98_212-001.jpg\r\n",
      "NTS_MAR_98_430-001.jpg\r\n",
      "NTS_TAR_49_246-001.jpg\r\n",
      "NTS_TAS_26_1-001.jpg\r\n",
      "NTV_BMG_118-001.jpg\r\n",
      "NTV_HAP_148-001.jpg\r\n",
      "NTV_HAP_149-001.jpg\r\n",
      "NTV_HAP_65-001.jpg\r\n",
      "NTV_HG_018-001.jpg\r\n",
      "NTV_HG_131-001.jpg\r\n",
      "NTV_HG_197-001.jpg\r\n",
      "NTV_HG_198-001.jpg\r\n",
      "NTV_HG_203-001.jpg\r\n",
      "NTV_HG_222-001.jpg\r\n",
      "NTV_HG_225-001.jpg\r\n",
      "NTV_HG_229-001.jpg\r\n",
      "NTV_MM_247-001.jpg\r\n",
      "NTV_MM_252-001.jpg\r\n",
      "NTV_MM_41-001.jpg\r\n",
      "NTV_NCLB_2A-001.jpg\r\n",
      "NTV_NECC_3-001.jpg\r\n",
      "NTV_NU_20-001.jpg\r\n",
      "NTV_PH_12-001.jpg\r\n",
      "NTV_PH_37-001.jpg\r\n",
      "NTV_PH_44-001.jpg\r\n",
      "NTV_PH_9-001.jpg\r\n",
      "NTV_UNN_12-001.jpg\r\n",
      "NTV_UNN_28-001.jpg\r\n",
      "NTV_UNN_42-001.jpg\r\n",
      "NWM_AU_OP161-001.jpg\r\n",
      "NWM_AU_OP193-001.jpg\r\n",
      "NWM_BCUHB_60-001.jpg\r\n",
      "NWM_BCUHB_BF_PCF5-001.jpg\r\n",
      "NWM_BCUHB_YE_26-001.jpg\r\n",
      "NWM_BSI_PCF1-001.jpg\r\n",
      "NWM_BSI_PCF2-001.jpg\r\n",
      "NWM_BU_OL00015-001.jpg\r\n",
      "NWM_BU_OL00025-001.jpg\r\n",
      "NWM_BU_OL00061-001.jpg\r\n",
      "NWM_BU_OL00224-001.jpg\r\n",
      "NWM_CDGM_1977_93_10-001.jpg\r\n",
      "NWM_CHCC_2002_0756-001.jpg\r\n",
      "NWM_COTC_PCF6-001.jpg\r\n",
      "NWM_GRH_0047_48_49-001.jpg\r\n",
      "NWM_GRH_0050_51_52_53-001.jpg\r\n",
      "NWM_GRH_0164-001.jpg\r\n",
      "NWM_GRH_0165_66-001.jpg\r\n",
      "NWM_GRH_0169-001.jpg\r\n",
      "NWM_GRH_0174-001.jpg\r\n",
      "NWM_GRH_0192-001.jpg\r\n",
      "NWM_GRH_0195_96-001.jpg\r\n",
      "NWM_GRH_PCF8-001.jpg\r\n",
      "NWM_LLD_LLDMG_PCF5-001.jpg\r\n",
      "NWM_MHM_1996_0514-001.jpg\r\n",
      "NWM_PMS_1984_758-001.jpg\r\n",
      "NWM_PST_AC2011_A_0024-001.jpg\r\n",
      "NWM_PUS_PCF1-001.jpg\r\n",
      "NWM_RAD_NTLMS_1960_114-001.jpg\r\n",
      "NWM_RAD_NTLMS_1970_137-001.jpg\r\n",
      "NWM_RAD_PCF10-001.jpg\r\n",
      "NWM_SCP_SCO_FA_MM_004-001.jpg\r\n",
      "NWM_SCP_SCO_FA_OP_099-001.jpg\r\n",
      "NWM_SCP_SCO_FA_OP_102-001.jpg\r\n",
      "NWM_SCP_SCO_FA_OP_174-001.jpg\r\n",
      "NWM_SCP_SCO_FA_OP_218-001.jpg\r\n",
      "NY_BH_2-001.jpg\r\n",
      "NY_BH_3-001.jpg\r\n",
      "NY_CCMM_10093-001.jpg\r\n",
      "NY_CCMM_10218-001.jpg\r\n",
      "NY_ECM_TEMP16-001.jpg\r\n",
      "NY_ECM_TEMP9-001.jpg\r\n",
      "NY_FM_TEMP2-001.jpg\r\n",
      "NY_GHM_11-001.jpg\r\n",
      "NY_MAG_HARAG_100-001.jpg\r\n",
      "NY_MAG_HARAG_1005-001.jpg\r\n",
      "NY_MAG_HARAG_101-001.jpg\r\n",
      "NY_MAG_HARAG_104-001.jpg\r\n",
      "NY_MAG_HARAG_105-001.jpg\r\n",
      "NY_MAG_HARAG_1085-001.jpg\r\n",
      "NY_MAG_HARAG_132-001.jpg\r\n",
      "NY_MAG_HARAG_14-001.jpg\r\n",
      "NY_MAG_HARAG_180-001.jpg\r\n",
      "NY_MAG_HARAG_1890-001.jpg\r\n",
      "NY_MAG_HARAG_1932-001.jpg\r\n",
      "NY_MAG_HARAG_1970-001.jpg\r\n",
      "NY_MAG_HARAG_20-001.jpg\r\n",
      "NY_MAG_HARAG_2003-001.jpg\r\n",
      "NY_MAG_HARAG_2171-001.jpg\r\n",
      "NY_MAG_HARAG_241-001.jpg\r\n",
      "NY_MAG_HARAG_2446-001.jpg\r\n",
      "NY_MAG_HARAG_26-001.jpg\r\n",
      "NY_MAG_HARAG_314-001.jpg\r\n",
      "NY_MAG_HARAG_338-001.jpg\r\n",
      "NY_MAG_HARAG_343-001.jpg\r\n",
      "NY_MAG_HARAG_364-001.jpg\r\n",
      "NY_MAG_HARAG_48-001.jpg\r\n",
      "NY_MAG_HARAG_757-001.jpg\r\n",
      "NY_MAG_HARAG_765-001.jpg\r\n",
      "NY_MAG_HARAG_86-001.jpg\r\n",
      "NY_MAG_HARAG_9-001.jpg\r\n",
      "NY_MAG_HARAG_92-001.jpg\r\n",
      "NY_MAG_HARAG_94-001.jpg\r\n",
      "NY_MAG_HARAG_967-001.jpg\r\n",
      "NY_MAG_HARAG_97-001.jpg\r\n",
      "NY_MAG_HARAG_970-001.jpg\r\n",
      "NY_MAG_HARAG_972-001.jpg\r\n",
      "NY_MAG_HARAG_976-001.jpg\r\n",
      "NY_MAG_HARAG_977-001.jpg\r\n",
      "NY_MAG_HARAG_981-001.jpg\r\n",
      "NY_MAG_HARAG_983-001.jpg\r\n",
      "NY_MAG_HARAG_99-001.jpg\r\n",
      "NY_MAG_HARAG_PIC003A-001.jpg\r\n",
      "NY_MNC_SETCL_NC_02_02-001.jpg\r\n",
      "NY_NRM_1973_334-001.jpg\r\n",
      "NY_NRM_1975_8497-001.jpg\r\n",
      "NY_NRM_1975_8507-001.jpg\r\n",
      "NY_NRM_1975_8510-001.jpg\r\n",
      "NY_NRM_1975_8514-001.jpg\r\n",
      "NY_NRM_1975_8517-001.jpg\r\n",
      "NY_NRM_1976_9305-001.jpg\r\n",
      "NY_NRM_1976_9317-001.jpg\r\n",
      "NY_NRM_1976_9320-001.jpg\r\n",
      "NY_NRM_1976_9325-001.jpg\r\n",
      "NY_NRM_1976_9334-001.jpg\r\n",
      "NY_NRM_1976_9340-001.jpg\r\n",
      "NY_NRM_1976_9381-001.jpg\r\n",
      "NY_NRM_1976_9382-001.jpg\r\n",
      "NY_NRM_1976_9384-001.jpg\r\n",
      "NY_NRM_1976_9385-001.jpg\r\n",
      "NY_NRM_1976_9386-001.jpg\r\n",
      "NY_NRM_1976_9388-001.jpg\r\n",
      "NY_NRM_1976_9399-001.jpg\r\n",
      "NY_NRM_1976_9404-001.jpg\r\n",
      "NY_NRM_1976_9410-001.jpg\r\n",
      "NY_NRM_1976_9412-001.jpg\r\n",
      "NY_NRM_1976_9415-001.jpg\r\n",
      "NY_NRM_1977_5711-001.jpg\r\n",
      "NY_NRM_1977_5732-001.jpg\r\n",
      "NY_NRM_1977_5760-001.jpg\r\n",
      "NY_NRM_1977_5772-001.jpg\r\n",
      "NY_NRM_1977_5776-001.jpg\r\n",
      "NY_NRM_1977_5777-001.jpg\r\n",
      "NY_NRM_1977_5786-001.jpg\r\n",
      "NY_NRM_1977_5787-001.jpg\r\n",
      "NY_NRM_1977_5791-001.jpg\r\n",
      "NY_NRM_1977_5798-001.jpg\r\n",
      "NY_NRM_1977_5803-001.jpg\r\n",
      "NY_NRM_1977_5809-001.jpg\r\n",
      "NY_NRM_1977_5818-001.jpg\r\n",
      "NY_NRM_1977_5834-001.jpg\r\n",
      "NY_NRM_1978_1327-001.jpg\r\n",
      "NY_NRM_1978_1483-001.jpg\r\n",
      "NY_NRM_1978_1583-001.jpg\r\n",
      "NY_NRM_1978_1644-001.jpg\r\n",
      "NY_NRM_1979_7953-001.jpg\r\n",
      "NY_NRM_1979_7958-001.jpg\r\n",
      "NY_NRM_1979_7964-001.jpg\r\n",
      "NY_NRM_1979_7966-001.jpg\r\n",
      "NY_NRM_1979_7980-001.jpg\r\n",
      "NY_NRM_1979_8000-001.jpg\r\n",
      "NY_NRM_1979_8001-001.jpg\r\n",
      "NY_NRM_1979_8018-001.jpg\r\n",
      "NY_NRM_1982_7298-001.jpg\r\n",
      "NY_NRM_1986_9402-001.jpg\r\n",
      "NY_NRM_1986_9418-001.jpg\r\n",
      "NY_NRM_1986_9421-001.jpg\r\n",
      "NY_NRM_1986_9424-001.jpg\r\n",
      "NY_NRM_1986_9425-001.jpg\r\n",
      "NY_NRM_1986_9426-001.jpg\r\n",
      "NY_NRM_1986_9427-001.jpg\r\n",
      "NY_NRM_1986_9429-001.jpg\r\n",
      "NY_NRM_1986_9433-001.jpg\r\n",
      "NY_NRM_1986_9434-001.jpg\r\n",
      "NY_NRM_1986_9435-001.jpg\r\n",
      "NY_NRM_1986_9438-001.jpg\r\n",
      "NY_NRM_1988_8138-001.jpg\r\n",
      "NY_NRM_1988_8158-001.jpg\r\n",
      "NY_NRM_1990_0670-001.jpg\r\n",
      "NY_NRM_1990_0671-001.jpg\r\n",
      "NY_NRM_1991_7079-001.jpg\r\n",
      "NY_NRM_1991_7164-001.jpg\r\n",
      "NY_NRM_1991_7168-001.jpg\r\n",
      "NY_NRM_1991_7184-001.jpg\r\n",
      "NY_NRM_1994_8794-001.jpg\r\n",
      "NY_NRM_1995_7843-001.jpg\r\n",
      "NY_NRM_1996_7045-001.jpg\r\n",
      "NY_NRM_1996_7077-001.jpg\r\n",
      "NY_NRM_1996_7370-001.jpg\r\n",
      "NY_NRM_1996_7371-001.jpg\r\n",
      "NY_NRM_1996_7372-001.jpg\r\n",
      "NY_NRM_1996_7374-001.jpg\r\n",
      "NY_NRM_1996_7376-001.jpg\r\n",
      "NY_NRM_1996_7379-001.jpg\r\n",
      "NY_NRM_1996_7400-001.jpg\r\n",
      "NY_NRM_1997_7134-001.jpg\r\n",
      "NY_NRM_1997_8474-001.jpg\r\n",
      "NY_NRM_1998_10349-001.jpg\r\n",
      "NY_NRM_1998_8606-001.jpg\r\n",
      "NY_NRM_1998_8750-001.jpg\r\n",
      "NY_NRM_1999_7446-001.jpg\r\n",
      "NY_NRM_2000_7496-001.jpg\r\n",
      "NY_NRM_2002_7145-001.jpg\r\n",
      "NY_NRM_2002_7147-001.jpg\r\n",
      "NY_NRM_2004_7308-001.jpg\r\n",
      "NY_NRM_2004_7349-001.jpg\r\n",
      "NY_NRM_2004_7356-001.jpg\r\n",
      "NY_NRM_2004_7365-001.jpg\r\n",
      "NY_NRM_2004_7374-001.jpg\r\n",
      "NY_NRM_2005_7423-001.jpg\r\n",
      "NY_NRM_2005_7427-001.jpg\r\n",
      "NY_PPA_005-001.jpg\r\n",
      "NY_PPA_009-001.jpg\r\n",
      "NY_PPA_011-001.jpg\r\n",
      "NY_PPA_013-001.jpg\r\n",
      "NY_PPA_018-001.jpg\r\n",
      "NY_PPA_022-001.jpg\r\n",
      "NY_PPA_027-001.jpg\r\n",
      "NY_PPA_032-001.jpg\r\n",
      "NY_PPA_035-001.jpg\r\n",
      "NY_PPA_039-001.jpg\r\n",
      "NY_PPA_042-001.jpg\r\n",
      "NY_PPA_060-001.jpg\r\n",
      "NY_PPA_062-001.jpg\r\n",
      "NY_PPA_063-001.jpg\r\n",
      "NY_PPA_072-001.jpg\r\n",
      "NY_PPA_087_a-001.jpg\r\n",
      "NY_PPA_102-001.jpg\r\n",
      "NY_PPA_112-001.jpg\r\n",
      "NY_PWO_TEMP1-001.jpg\r\n",
      "NY_PWO_TEMP3-001.jpg\r\n",
      "NY_RDG_1919-001.jpg\r\n",
      "NY_RTC_TH_001-001.jpg\r\n",
      "NY_RTC_TH_007-001.jpg\r\n",
      "NY_RTC_TH_010-001.jpg\r\n",
      "NY_RTC_TH_011-001.jpg\r\n",
      "NY_SKTC_003-001.jpg\r\n",
      "NY_SMG_1984_40-001.jpg\r\n",
      "NY_SMG_233-001.jpg\r\n",
      "NY_SMG_261-001.jpg\r\n",
      "NY_SMG_3-001.jpg\r\n",
      "NY_SMG_506-001.jpg\r\n",
      "NY_SMG_603-001.jpg\r\n",
      "NY_SMG_618-001.jpg\r\n",
      "NY_SMG_647-001.jpg\r\n",
      "NY_SMG_692_33-001.jpg\r\n",
      "NY_SMG_PIC018-001.jpg\r\n",
      "NY_SMG_SAG_107-001.jpg\r\n",
      "NY_SMG_SAG_132-001.jpg\r\n",
      "NY_SMG_SAG_1981_36-001.jpg\r\n",
      "NY_SMG_SAG_1983_69-001.jpg\r\n",
      "NY_SMG_SAG_1984_3-001.jpg\r\n",
      "NY_SMG_SAG_247-001.jpg\r\n",
      "NY_SMG_SAG_262-001.jpg\r\n",
      "NY_SMG_SAG_513-001.jpg\r\n",
      "NY_SMG_SAG_61-001.jpg\r\n",
      "NY_SMG_SAG_617-001.jpg\r\n",
      "NY_TRC_CDC_036_A-001.jpg\r\n",
      "NY_TRC_CDC_040-001.jpg\r\n",
      "NY_TRC_CDC_PIC007-001.jpg\r\n",
      "NY_WTB_2002_50-001.jpg\r\n",
      "NY_WTB_PEF102-001.jpg\r\n",
      "NY_WTB_PEF135-001.jpg\r\n",
      "NY_WTB_PEF155-001.jpg\r\n",
      "NY_WTB_PEF172-001.jpg\r\n",
      "NY_WTB_PEF197-001.jpg\r\n",
      "NY_WTB_PEF244-001.jpg\r\n",
      "NY_WTB_PEF25_1-001.jpg\r\n",
      "NY_WTB_PEF26-001.jpg\r\n",
      "NY_WTB_PEF270-001.jpg\r\n",
      "NY_WTB_PEF277-001.jpg\r\n",
      "NY_WTB_PEF37-001.jpg\r\n",
      "NY_WTB_PEF430-001.jpg\r\n",
      "NY_WTB_PEF432-001.jpg\r\n",
      "NY_YAG_YORAG_1010-001.jpg\r\n",
      "NY_YAG_YORAG_1014-001.jpg\r\n",
      "NY_YAG_YORAG_1020-001.jpg\r\n",
      "NY_YAG_YORAG_1027-001.jpg\r\n",
      "NY_YAG_YORAG_1035-001.jpg\r\n",
      "NY_YAG_YORAG_1038-001.jpg\r\n",
      "NY_YAG_YORAG_1042-001.jpg\r\n",
      "NY_YAG_YORAG_1117-001.jpg\r\n",
      "NY_YAG_YORAG_1141-001.jpg\r\n",
      "NY_YAG_YORAG_1148-001.jpg\r\n",
      "NY_YAG_YORAG_1172-001.jpg\r\n",
      "NY_YAG_YORAG_1179-001.jpg\r\n",
      "NY_YAG_YORAG_119-001.jpg\r\n",
      "NY_YAG_YORAG_121-001.jpg\r\n",
      "NY_YAG_YORAG_1259-001.jpg\r\n",
      "NY_YAG_YORAG_1288-001.jpg\r\n",
      "NY_YAG_YORAG_132-001.jpg\r\n",
      "NY_YAG_YORAG_134-001.jpg\r\n",
      "NY_YAG_YORAG_135-001.jpg\r\n",
      "NY_YAG_YORAG_1364-001.jpg\r\n",
      "NY_YAG_YORAG_138-001.jpg\r\n",
      "NY_YAG_YORAG_1381-001.jpg\r\n",
      "NY_YAG_YORAG_1443-001.jpg\r\n",
      "NY_YAG_YORAG_147-001.jpg\r\n",
      "NY_YAG_YORAG_1487-001.jpg\r\n",
      "NY_YAG_YORAG_1494-001.jpg\r\n",
      "NY_YAG_YORAG_155-001.jpg\r\n",
      "NY_YAG_YORAG_158-001.jpg\r\n",
      "NY_YAG_YORAG_165-001.jpg\r\n",
      "NY_YAG_YORAG_17-001.jpg\r\n",
      "NY_YAG_YORAG_178-001.jpg\r\n",
      "NY_YAG_YORAG_179-001.jpg\r\n",
      "NY_YAG_YORAG_18-001.jpg\r\n",
      "NY_YAG_YORAG_181-001.jpg\r\n",
      "NY_YAG_YORAG_183-001.jpg\r\n",
      "NY_YAG_YORAG_187-001.jpg\r\n",
      "NY_YAG_YORAG_188-001.jpg\r\n",
      "NY_YAG_YORAG_19-001.jpg\r\n",
      "NY_YAG_YORAG_194-001.jpg\r\n",
      "NY_YAG_YORAG_195-001.jpg\r\n",
      "NY_YAG_YORAG_196-001.jpg\r\n",
      "NY_YAG_YORAG_2001_40-001.jpg\r\n",
      "NY_YAG_YORAG_2001_42-001.jpg\r\n",
      "NY_YAG_YORAG_2001_52-001.jpg\r\n",
      "NY_YAG_YORAG_201-001.jpg\r\n",
      "NY_YAG_YORAG_208-001.jpg\r\n",
      "NY_YAG_YORAG_213-001.jpg\r\n",
      "NY_YAG_YORAG_220-001.jpg\r\n",
      "NY_YAG_YORAG_245-001.jpg\r\n",
      "NY_YAG_YORAG_248-001.jpg\r\n",
      "NY_YAG_YORAG_257-001.jpg\r\n",
      "NY_YAG_YORAG_258-001.jpg\r\n",
      "NY_YAG_YORAG_274-001.jpg\r\n",
      "NY_YAG_YORAG_28-001.jpg\r\n",
      "NY_YAG_YORAG_280-001.jpg\r\n",
      "NY_YAG_YORAG_289-001.jpg\r\n",
      "NY_YAG_YORAG_294-001.jpg\r\n",
      "NY_YAG_YORAG_298-001.jpg\r\n",
      "NY_YAG_YORAG_301-001.jpg\r\n",
      "NY_YAG_YORAG_306-001.jpg\r\n",
      "NY_YAG_YORAG_307-001.jpg\r\n",
      "NY_YAG_YORAG_309-001.jpg\r\n",
      "NY_YAG_YORAG_315-001.jpg\r\n",
      "NY_YAG_YORAG_316-001.jpg\r\n",
      "NY_YAG_YORAG_32-001.jpg\r\n",
      "NY_YAG_YORAG_326-001.jpg\r\n",
      "NY_YAG_YORAG_327-001.jpg\r\n",
      "NY_YAG_YORAG_329-001.jpg\r\n",
      "NY_YAG_YORAG_330-001.jpg\r\n",
      "NY_YAG_YORAG_337-001.jpg\r\n",
      "NY_YAG_YORAG_338-001.jpg\r\n",
      "NY_YAG_YORAG_339-001.jpg\r\n",
      "NY_YAG_YORAG_341-001.jpg\r\n",
      "NY_YAG_YORAG_344-001.jpg\r\n",
      "NY_YAG_YORAG_349-001.jpg\r\n",
      "NY_YAG_YORAG_35-001.jpg\r\n",
      "NY_YAG_YORAG_352-001.jpg\r\n",
      "NY_YAG_YORAG_353-001.jpg\r\n",
      "NY_YAG_YORAG_355-001.jpg\r\n",
      "NY_YAG_YORAG_359-001.jpg\r\n",
      "NY_YAG_YORAG_363-001.jpg\r\n",
      "NY_YAG_YORAG_375-001.jpg\r\n",
      "NY_YAG_YORAG_37_a-001.jpg\r\n",
      "NY_YAG_YORAG_37_b-001.jpg\r\n",
      "NY_YAG_YORAG_383-001.jpg\r\n",
      "NY_YAG_YORAG_384-001.jpg\r\n",
      "NY_YAG_YORAG_387-001.jpg\r\n",
      "NY_YAG_YORAG_39-001.jpg\r\n",
      "NY_YAG_YORAG_390-001.jpg\r\n",
      "NY_YAG_YORAG_398-001.jpg\r\n",
      "NY_YAG_YORAG_416-001.jpg\r\n",
      "NY_YAG_YORAG_422-001.jpg\r\n",
      "NY_YAG_YORAG_423-001.jpg\r\n",
      "NY_YAG_YORAG_427-001.jpg\r\n",
      "NY_YAG_YORAG_449-001.jpg\r\n",
      "NY_YAG_YORAG_45-001.jpg\r\n",
      "NY_YAG_YORAG_452-001.jpg\r\n",
      "NY_YAG_YORAG_453-001.jpg\r\n",
      "NY_YAG_YORAG_455-001.jpg\r\n",
      "NY_YAG_YORAG_459-001.jpg\r\n",
      "NY_YAG_YORAG_485-001.jpg\r\n",
      "NY_YAG_YORAG_50-001.jpg\r\n",
      "NY_YAG_YORAG_500-001.jpg\r\n",
      "NY_YAG_YORAG_502-001.jpg\r\n",
      "NY_YAG_YORAG_51-001.jpg\r\n",
      "NY_YAG_YORAG_567-001.jpg\r\n",
      "NY_YAG_YORAG_650-001.jpg\r\n",
      "NY_YAG_YORAG_66-001.jpg\r\n",
      "NY_YAG_YORAG_669-001.jpg\r\n",
      "NY_YAG_YORAG_677-001.jpg\r\n",
      "NY_YAG_YORAG_698-001.jpg\r\n",
      "NY_YAG_YORAG_732-001.jpg\r\n",
      "NY_YAG_YORAG_745-001.jpg\r\n",
      "NY_YAG_YORAG_75-001.jpg\r\n",
      "NY_YAG_YORAG_761-001.jpg\r\n",
      "NY_YAG_YORAG_778-001.jpg\r\n",
      "NY_YAG_YORAG_802-001.jpg\r\n",
      "NY_YAG_YORAG_809-001.jpg\r\n",
      "NY_YAG_YORAG_81-001.jpg\r\n",
      "NY_YAG_YORAG_818-001.jpg\r\n",
      "NY_YAG_YORAG_828-001.jpg\r\n",
      "NY_YAG_YORAG_841-001.jpg\r\n",
      "NY_YAG_YORAG_854_B-001.jpg\r\n",
      "NY_YAG_YORAG_906-001.jpg\r\n",
      "NY_YAG_YORAG_91-001.jpg\r\n",
      "NY_YAG_YORAG_919-001.jpg\r\n",
      "NY_YAG_YORAG_92-001.jpg\r\n",
      "NY_YAG_YORAG_929-001.jpg\r\n",
      "NY_YAG_YORAG_93-001.jpg\r\n",
      "NY_YAG_YORAG_995-001.jpg\r\n",
      "NY_YAG_YORAG_PIC013-001.jpg\r\n",
      "NY_YAG_YORCM_AA9919-001.jpg\r\n",
      "NY_YAG_YORCM_DA1060-001.jpg\r\n",
      "NY_YAG_YORCM_DA1164-001.jpg\r\n",
      "NY_YAG_YORCM_DA1283-001.jpg\r\n",
      "NY_YAG_YORCM_DA1467-001.jpg\r\n",
      "NY_YAM_260108-001.jpg\r\n",
      "NY_YAM_260148-001.jpg\r\n",
      "NY_YAM_260154-001.jpg\r\n",
      "NY_YAM_260155-001.jpg\r\n",
      "NY_YAM_260159-001.jpg\r\n",
      "NY_YAM_260207-001.jpg\r\n",
      "NY_YAM_260230-001.jpg\r\n",
      "NY_YAM_260243-001.jpg\r\n",
      "NY_YAM_260313-001.jpg\r\n",
      "NY_YAM_260330-001.jpg\r\n",
      "NY_YAM_260332-001.jpg\r\n",
      "NY_YAM_260333-001.jpg\r\n",
      "NY_YAM_260367-001.jpg\r\n",
      "NY_YAM_260368-001.jpg\r\n",
      "NY_YAM_260373-001.jpg\r\n",
      "NY_YAM_260483-001.jpg\r\n",
      "NY_YAM_260669-001.jpg\r\n",
      "NY_YAM_TEMP1-001.jpg\r\n",
      "NY_YFH_CT1984_295-001.jpg\r\n",
      "NY_YFH_NT1984_001A-001.jpg\r\n",
      "NY_YFH_NT1984_001B-001.jpg\r\n",
      "NY_YFH_NT1984_002-001.jpg\r\n",
      "NY_YFH_NT1984_004-001.jpg\r\n",
      "NY_YFH_NT1984_007A-001.jpg\r\n",
      "NY_YFH_NT1984_007B-001.jpg\r\n",
      "NY_YFH_NT1984_011-001.jpg\r\n",
      "NY_YFH_NT1984_016-001.jpg\r\n",
      "NY_YFH_NT1984_017-001.jpg\r\n",
      "NY_YFH_NT1984_033-001.jpg\r\n",
      "NY_YFH_NT1984_040-001.jpg\r\n",
      "NY_YFH_TC1984_005-001.jpg\r\n",
      "NY_YFH_TC1990_219-001.jpg\r\n",
      "NY_YMA_344-001.jpg\r\n",
      "NY_YMA_444-001.jpg\r\n",
      "NY_YMA_520-001.jpg\r\n",
      "NY_YMH_MHCPA_1758_1-001.jpg\r\n",
      "NY_YMH_MHCPA_1770_1-001.jpg\r\n",
      "NY_YMH_MHCPA_1848_1-001.jpg\r\n",
      "NY_YMH_MHCPA_1860_1-001.jpg\r\n",
      "NY_YMH_MHCPA_1870_1-001.jpg\r\n",
      "NY_YMH_MHCPA_1897_1-001.jpg\r\n",
      "NY_YMH_MHCPA_1910_1-001.jpg\r\n",
      "NY_YMH_MHCPA_1960_1-001.jpg\r\n",
      "NY_YOU_192A-001.jpg\r\n",
      "NY_YOU_192B-001.jpg\r\n",
      "NY_YOU_575-001.jpg\r\n",
      "NY_YOU_649-001.jpg\r\n",
      "NY_YOU_651-001.jpg\r\n",
      "NY_YOU_696-001.jpg\r\n",
      "OU_BRAC_PCF14-001.jpg\r\n",
      "OU_CAMH_PCF5-001.jpg\r\n",
      "OU_CHCH_169-001.jpg\r\n",
      "OU_KBC_PCF5-001.jpg\r\n",
      "OU_KBC_PCF7-001.jpg\r\n",
      "OU_NEW_993-001.jpg\r\n",
      "OU_NEW_NCO_292167-001.jpg\r\n",
      "OU_NEW_NCO_292173-001.jpg\r\n",
      "OU_SHLD_PCF35-001.jpg\r\n",
      "OU_SJNC_SR03-001.jpg\r\n",
      "OU_SMV_35-001.jpg\r\n",
      "OU_WFCC_PCF50-001.jpg\r\n",
      "OU_WRCC_148-001.jpg\r\n",
      "OU_WRCC_20-001.jpg\r\n",
      "OU_WRCC_471-001.jpg\r\n",
      "OU_WRCC_50-001.jpg\r\n",
      "PKA_ACO_F1978_297-001.jpg\r\n",
      "PKA_HOS_H5414-001.jpg\r\n",
      "PKA_HOS_H5475-001.jpg\r\n",
      "PKA_HOS_PCF2-001.jpg\r\n",
      "PKA_HOS_PCF73-001.jpg\r\n",
      "PKA_HOS_PCF74-001.jpg\r\n",
      "PKA_MAS_PCF3-001.jpg\r\n",
      "PKA_PKC_10_49-001.jpg\r\n",
      "PKA_PKC_1992_123-001.jpg\r\n",
      "PKA_PKC_1_173-001.jpg\r\n",
      "PKA_PKC_1_182-001.jpg\r\n",
      "PKA_PKC_1_232-001.jpg\r\n",
      "PKA_PKC_1_63D-001.jpg\r\n",
      "PKA_PKC_2007_200-001.jpg\r\n",
      "PKA_PKC_2011_99-001.jpg\r\n",
      "PKA_PKC_2_138B-001.jpg\r\n",
      "PKA_PKC_2_173-001.jpg\r\n",
      "PKA_PKC_FA48_78-001.jpg\r\n",
      "PKA_PKC_FA76_78-001.jpg\r\n",
      "PKA_PKC_PCF11-001.jpg\r\n",
      "POW_POW_2550-001.jpg\r\n",
      "POW_POW_5684-001.jpg\r\n",
      "PTB_PLM_PLYME_P23-001.jpg\r\n",
      "PTB_PLM_PLYMG_1935_19-001.jpg\r\n",
      "PTB_PLM_PLYMG_1937_81_418-001.jpg\r\n",
      "PTB_PLM_PLYMG_1946_14-001.jpg\r\n",
      "PTB_PLM_PLYMG_1957_87-001.jpg\r\n",
      "PTB_PLM_PLYMG_1967_22-001.jpg\r\n",
      "PTB_PLM_PLYMG_1968_67-001.jpg\r\n",
      "PTB_PLM_PLYMG_1972_9b_recto-001.jpg\r\n",
      "PTB_PLM_PLYMG_PCF80-001.jpg\r\n",
      "PTB_THOSP_PCF11-001.jpg\r\n",
      "PTB_THOSP_PCF27-001.jpg\r\n",
      "PTB_THOSP_PCF29-001.jpg\r\n",
      "PTB_THOSP_PCF6-001.jpg\r\n",
      "PTB_TORRE_A254-001.jpg\r\n",
      "SFK_CCM_C_019-001.jpg\r\n",
      "SFK_CCM_R_1931_28_4-001.jpg\r\n",
      "SFK_CCM_R_1936_86_15-001.jpg\r\n",
      "SFK_CCM_R_1945_97_F11-001.jpg\r\n",
      "SFK_CCM_R_1960_187-001.jpg\r\n",
      "SFK_CCM_R_1967_98-001.jpg\r\n",
      "SFK_CCM_R_1970_130-001.jpg\r\n",
      "SFK_CCM_R_1971_14-001.jpg\r\n",
      "SFK_CCM_R_1987_134-001.jpg\r\n",
      "SFK_CCM_R_1990_58_29-001.jpg\r\n",
      "SFK_CCM_R_1990_80-001.jpg\r\n",
      "SFK_CCM_R_1993_68_3-001.jpg\r\n",
      "SFK_LMS_2004_149-001.jpg\r\n",
      "SFK_LMS_2004_150-001.jpg\r\n",
      "SFK_NHM_1986_004-001.jpg\r\n",
      "SFK_SED_MA_1988_117-001.jpg\r\n",
      "SFK_SOWM_SOWDM_1965_505-001.jpg\r\n",
      "SFK_SOWM_SOWDM_2003_24_2-001.jpg\r\n",
      "SFK_SPH_PG_06-001.jpg\r\n",
      "SFK_SPH_PG_07-001.jpg\r\n",
      "SFK_SPH_PG_14-001.jpg\r\n",
      "SFK_SPH_PG_26-001.jpg\r\n",
      "SFK_SPH_PG_LN_18-001.jpg\r\n",
      "SFK_SWR_R_03-001.jpg\r\n",
      "SHEF_MSH_1415-001.jpg\r\n",
      "SHEF_MSH_VIS_1330-001.jpg\r\n",
      "SHEF_MSH_VIS_1502-001.jpg\r\n",
      "SHEF_MSH_VIS_1517-001.jpg\r\n",
      "SHEF_MSH_VIS_1594-001.jpg\r\n",
      "SHEF_MSH_VIS_1620-001.jpg\r\n",
      "SHEF_MSH_VIS_195-001.jpg\r\n",
      "SHEF_MSH_VIS_1972-001.jpg\r\n",
      "SHEF_MSH_VIS_2716-001.jpg\r\n",
      "SHEF_MSH_VIS_2727-001.jpg\r\n",
      "SHEF_MSH_VIS_3004-001.jpg\r\n",
      "SHEF_MSH_VIS_3006-001.jpg\r\n",
      "SHEF_MSH_VIS_321-001.jpg\r\n",
      "SHEF_MSH_VIS_332-001.jpg\r\n",
      "SHEF_MSH_VIS_3831-001.jpg\r\n",
      "SHEF_MSH_VIS_4015-001.jpg\r\n",
      "SHEF_MSH_VIS_4680-001.jpg\r\n",
      "SHEF_MSH_VIS_4710-001.jpg\r\n",
      "SHEF_MSH_VIS_542-001.jpg\r\n",
      "SHEF_MSH_VIS_601-001.jpg\r\n",
      "SHEF_MSH_VIS_616-001.jpg\r\n",
      "SHEF_MSH_VIS_653-001.jpg\r\n",
      "SHEF_MSH_VIS_960-001.jpg\r\n",
      "SHEF_MSH_VIS_997-001.jpg\r\n",
      "SOM_AFL_316-001.jpg\r\n",
      "SOM_AL_PCF4-001.jpg\r\n",
      "SOM_AMB_99_124-001.jpg\r\n",
      "SOM_CRE_BPT_156L-001.jpg\r\n",
      "SOM_HM_A104-001.jpg\r\n",
      "SOM_HM_A24-001.jpg\r\n",
      "SOM_HM_A363-001.jpg\r\n",
      "SOM_HM_A5-001.jpg\r\n",
      "SOM_SCMS_18_1995_30-001.jpg\r\n",
      "SOM_SCMS_282_2001_2-001.jpg\r\n",
      "SOM_SCMS_51_1987_1-001.jpg\r\n",
      "SOM_SCMS_51_1987_12-001.jpg\r\n",
      "SOM_SCMS_FH_51_1987_26-001.jpg\r",
      "\r\n",
      "SOM_VAG_BATVG_P_1909_275-001.jpg\r\n",
      "SOM_VAG_BATVG_P_1909_285_18-001.jpg\r\n",
      "SOM_VAG_BATVG_P_1909_285_23-001.jpg\r\n",
      "SOM_VAG_BATVG_P_1909_285_24-001.jpg\r\n",
      "SOM_VAG_BATVG_P_1909_285_8-001.jpg\r\n",
      "SOM_VAG_BATVG_P_1939_147-001.jpg\r\n",
      "SOM_VAG_BATVG_P_1947_71-001.jpg\r\n",
      "SOM_WAT_PCF5-001.jpg\r\n",
      "SOM_YEORN_E01557-001.jpg\r\n",
      "SRY_BLM_D3410_1-001.jpg\r\n",
      "SRY_BLM_D548-001.jpg\r\n",
      "SRY_CHYM_0_1986_17-001.jpg\r\n",
      "SRY_CHYM_0_1986_18-001.jpg\r\n",
      "SRY_DKM_1023_-001.jpg\r\n",
      "SRY_DKM_1617_-001.jpg\r\n",
      "SRY_DKM_169_-001.jpg\r\n",
      "SRY_DKM_180_-001.jpg\r\n",
      "SRY_DKM_1837C_-001.jpg\r\n",
      "SRY_DKM_1837D-001.jpg\r\n",
      "SRY_EGM_PR339-001.jpg\r\n",
      "SRY_ELM_16_1986_48-001.jpg\r\n",
      "SRY_ELM_23_1985-001.jpg\r\n",
      "SRY_FHM_A979_616-001.jpg\r\n",
      "SRY_GFG_755-001.jpg\r\n",
      "SRY_RBC_5-001.jpg\r\n",
      "SRY_RHU_P0194-001.jpg\r\n",
      "SRY_RHU_THC0075-001.jpg\r\n",
      "SRY_RLM_CAYLC_T_2213-001.jpg\r\n",
      "SRY_SCA_2-001.jpg\r\n",
      "SRY_SCC_2-001.jpg\r\n",
      "SRY_SSG_V-001.jpg\r\n",
      "SRY_SUHM_1996_34_66-001.jpg\r\n",
      "SRY_SUHM_SHM1996_34_10-001.jpg\r\n",
      "SRY_SUHM_SHM1996_34_10REVERSE-001.jpg\r\n",
      "SRY_TNC_3-001.jpg\r\n",
      "SRY_UVS_131-001.jpg\r\n",
      "SRY_WTG_580-001.jpg\r\n",
      "SS_ANHS_PCF_03-001.jpg\r\n",
      "SS_DGD_0198_483-001.jpg\r",
      "\r\n",
      "SS_DGG_DGGAC_449L-001.jpg\r\n",
      "SS_DGS_WIWMS_F1987_60-001.jpg\r\n",
      "SS_DPE_PCF_04-001.jpg\r\n",
      "SS_ELC_10722_000-001.jpg\r\n",
      "SS_ELC_1995_891-001.jpg\r\n",
      "SS_ELC_H141-001.jpg\r\n",
      "SS_ELC_PCF_84-001.jpg\r\n",
      "SS_NACO_1996_108-001.jpg\r\n",
      "SS_NACO_IRVGV_2000_0010-001.jpg\r\n",
      "SS_NACO_SATAM_1992_0042b-001.jpg\r\n",
      "SS_NMOF_T_1988_106-001.jpg\r\n",
      "SS_SAB_T_AT_3367-001.jpg\r\n",
      "SS_SAYC_AYRRH_000287-001.jpg\r\n",
      "SS_SAYC_AYRRH_000727-001.jpg\r\n",
      "SS_SAYC_AYRRH_000728-001.jpg\r\n",
      "SS_SAYC_AYRRH_001169-001.jpg\r\n",
      "SS_SAYC_AYRRH_2012_0010-001.jpg\r\n",
      "SS_SAYC_AYRRH_2012_0044_02-001.jpg\r\n",
      "SS_SAYC_AYRRH_2012_0044_07-001.jpg\r\n",
      "SS_SAYC_AYRRH_2012_0044_08-001.jpg\r\n",
      "SS_SBCO_PEEBM_6457-001.jpg\r\n",
      "SS_SMMU_ART2011_014-001.jpg\r\n",
      "SS_SMMU_ART2011_020-001.jpg\r\n",
      "STC_BMT_PA_184-001.jpg\r\n",
      "STC_BMT_PA_190-001.jpg\r\n",
      "STC_BMT_PA_191-001.jpg\r\n",
      "STC_BMT_PA_204-001.jpg\r\n",
      "STC_EDS_CIVIC_EDC_AE_2002_01-001.jpg\r\n",
      "STC_EDS_CIVIC_EDC_AE_2006_01-001.jpg\r\n",
      "STC_EDS_KITAK_2009_38-001.jpg\r\n",
      "STC_EDS_KITAK_2009_86-001.jpg\r\n",
      "STC_EDS_MINAG_1984_24-001.jpg\r\n",
      "STC_EDS_MINAG_1991_6-001.jpg\r\n",
      "STC_EDS_MINAG_1998_22-001.jpg\r\n",
      "STC_EDS_MINAG_1998_25-001.jpg\r\n",
      "STC_EDS_R_L_94_23-001.jpg\r\n",
      "STC_ERC_ERC1007-001.jpg\r\n",
      "STC_ERC_ERC1018-001.jpg\r\n",
      "STC_ERC_ERC1022-001.jpg\r\n",
      "STC_ERC_ERC1024-001.jpg\r\n",
      "STC_INV_1977_526-001.jpg\r\n",
      "STC_INV_1992_18-001.jpg\r\n",
      "STC_INV_2011_3-001.jpg\r\n",
      "STC_NMS_H_OD_119-001.jpg\r\n",
      "STC_NMS_W_1999_225_11_R-001.jpg\r\n",
      "STC_NMS_W_1999_225_14_R-001.jpg\r\n",
      "STC_PAI_A0296-001.jpg\r\n",
      "STC_REN_A0068A-001.jpg\r\n",
      "STC_REN_PCF_61-001.jpg\r\n",
      "STC_REN_PCF_88-001.jpg\r\n",
      "STC_SLK_419-001.jpg\r\n",
      "STF_CVR_2-001.jpg\r\n",
      "STF_IH_1-001.jpg\r\n",
      "STF_IH_18-001.jpg\r\n",
      "STF_KU_14-001.jpg\r\n",
      "STF_NECH_17-001.jpg\r\n",
      "STF_NECH_2-001.jpg\r\n",
      "STF_NUL_PAC_151_88-001.jpg\r\n",
      "STF_NUL_PAC_180_88-001.jpg\r\n",
      "STF_NUL_PAC_211_88-001.jpg\r\n",
      "STF_NUL_PAC_251_88-001.jpg\r\n",
      "STF_NUL_PAC_252_88-001.jpg\r\n",
      "STF_SAMS_66_082_0001-001.jpg\r\n",
      "STF_SAMS_95_050_0002-001.jpg\r\n",
      "STF_SAMS_G94_026_0001-001.jpg\r\n",
      "STF_SAMS_G94_146_0001-001.jpg\r\n",
      "STF_SAMS_G94_328_0001-001.jpg\r\n",
      "STF_SAMS_G95_006_0001-001.jpg\r\n",
      "STF_SAMS_G95_007_0001-001.jpg\r\n",
      "STF_SAMS_G95_025_0001-001.jpg\r\n",
      "STF_SAMS_G95_183_0001-001.jpg\r\n",
      "STF_SAMS_G97_009_0001-001.jpg\r\n",
      "STF_SAMS_G97_016_0001-001.jpg\r\n",
      "STF_SJB_2000_281-001.jpg\r\n",
      "STF_SMBC_1-001.jpg\r\n",
      "STF_SMT_02-001.jpg\r\n",
      "STF_STCC_10-001.jpg\r\n",
      "STF_STCC_23-001.jpg\r\n",
      "STF_STCC_6-001.jpg\r\n",
      "STF_STKMG_013-001.jpg\r\n",
      "STF_STKMG_048-001.jpg\r\n",
      "STF_STKMG_058-001.jpg\r\n",
      "STF_STKMG_1953_FA_13-001.jpg\r\n",
      "STF_STKMG_1953_FA_29-001.jpg\r\n",
      "STF_STKMG_1954_FA_132-001.jpg\r\n",
      "STF_STKMG_1954_FA_158-001.jpg\r\n",
      "STF_STKMG_1954_FA_96-001.jpg\r\n",
      "STF_STKMG_1955_FA_5-001.jpg\r\n",
      "STF_STKMG_1958_FA_108-001.jpg\r\n",
      "STF_STKMG_1958_FA_48-001.jpg\r\n",
      "STF_STKMG_1960_FA_112-001.jpg\r\n",
      "STF_STKMG_1961_FA_68-001.jpg\r\n",
      "STF_STKMG_1961_FA_69-001.jpg\r\n",
      "STF_STKMG_1961_FA_70-001.jpg\r\n",
      "STF_STKMG_1961_FA_71-001.jpg\r\n",
      "STF_STKMG_1963_FA_81-001.jpg\r\n",
      "STF_STKMG_1964_FA_1A-001.jpg\r\n",
      "STF_STKMG_1965_FA_47-001.jpg\r\n",
      "STF_STKMG_1967_FA_37-001.jpg\r\n",
      "STF_STKMG_1973_FA_7A-001.jpg\r\n",
      "STF_STKMG_1978_FA_6-001.jpg\r\n",
      "STF_STKMG_1980_FA_32-001.jpg\r\n",
      "STF_STKMG_1983_FA_1_1437-001.jpg\r\n",
      "STF_STKMG_1983_FA_1_1440-001.jpg\r\n",
      "STF_STKMG_1983_FA_1_1442-001.jpg\r\n",
      "STF_STKMG_1983_FA_1_1445-001.jpg\r\n",
      "STF_STKMG_1987_FA_37-001.jpg\r\n",
      "STF_STKMG_1989_FA_22-001.jpg\r\n",
      "STF_STKMG_1993_FA_1-001.jpg\r\n",
      "STF_STKMG_1996_FA_34-001.jpg\r\n",
      "STF_STKMG_1996_FA_47-001.jpg\r\n",
      "STF_STRM_832-001.jpg\r\n",
      "STF_TC_23-001.jpg\r\n",
      "STF_WAG_OP133-001.jpg\r\n",
      "STF_WAG_OP162-001.jpg\r\n",
      "STF_WAG_OP167-001.jpg\r\n",
      "STF_WAG_OP19-001.jpg\r\n",
      "STF_WAG_OP191-001.jpg\r\n",
      "STF_WAG_OP204-001.jpg\r\n",
      "STF_WAG_OP211-001.jpg\r\n",
      "STF_WAG_OP241-001.jpg\r\n",
      "STF_WAG_OP254-001.jpg\r\n",
      "STF_WAG_OP271-001.jpg\r\n",
      "STF_WAG_OP278-001.jpg\r\n",
      "STF_WAG_OP298-001.jpg\r\n",
      "STF_WAG_OP320-001.jpg\r\n",
      "STF_WAG_OP348-001.jpg\r\n",
      "STF_WAG_OP356-001.jpg\r\n",
      "STF_WAG_OP371-001.jpg\r\n",
      "STF_WAG_OP378-001.jpg\r\n",
      "STF_WAG_OP38-001.jpg\r\n",
      "STF_WAG_OP398-001.jpg\r\n",
      "STF_WAG_OP403-001.jpg\r\n",
      "STF_WAG_OP415-001.jpg\r\n",
      "STF_WAG_OP452-001.jpg\r\n",
      "STF_WAG_OP465-001.jpg\r\n",
      "STF_WAG_OP468-001.jpg\r\n",
      "STF_WAG_OP536-001.jpg\r\n",
      "STF_WAG_OP549-001.jpg\r\n",
      "STF_WAG_OP571-001.jpg\r\n",
      "STF_WAG_OP59-001.jpg\r\n",
      "STF_WAG_OP660-001.jpg\r\n",
      "STF_WAG_OP70-001.jpg\r\n",
      "STF_WAG_OP704-001.jpg\r\n",
      "STF_WAG_OP708-001.jpg\r\n",
      "STF_WAG_OP802_II-001.jpg\r\n",
      "STF_WAG_OP806-001.jpg\r\n",
      "STF_WAG_OP815-001.jpg\r\n",
      "STF_WAG_OP874-001.jpg\r\n",
      "STF_WAG_OP883-001.jpg\r\n",
      "STF_WAG_OP901-001.jpg\r\n",
      "STF_WAG_OP909-001.jpg\r\n",
      "STF_WALG_GB_109-001.jpg\r\n",
      "STF_WALG_GB_250-001.jpg\r\n",
      "STF_WALG_GR_117-001.jpg\r\n",
      "STF_WALG_P12_76-001.jpg\r\n",
      "STF_WALG_P16_76-001.jpg\r\n",
      "STF_WALG_P171_76-001.jpg\r\n",
      "STF_WALG_P18_02-001.jpg\r\n",
      "STF_WALG_P21_76-001.jpg\r\n",
      "STF_WALG_P227_76-001.jpg\r\n",
      "STF_WALG_P29_76-001.jpg\r\n",
      "STF_WALG_P31_76-001.jpg\r\n",
      "STF_WALG_P323_76-001.jpg\r\n",
      "STF_WALG_P344_76-001.jpg\r\n",
      "STF_WALG_P46_76-001.jpg\r\n",
      "STF_WALG_P47_76-001.jpg\r\n",
      "STF_WALG_P5_76-001.jpg\r\n",
      "STF_WALG_P6_85-001.jpg\r\n",
      "STF_WEDSD_68-001.jpg\r\n",
      "STF_WEDSD_P_107-001.jpg\r\n",
      "STF_WEDSD_P_108-001.jpg\r\n",
      "STF_WEDSD_P_152-001.jpg\r\n",
      "STF_WEDSD_P_154-001.jpg\r\n",
      "STF_WEDSD_P_179-001.jpg\r\n",
      "STF_WEDSD_P_189-001.jpg\r\n",
      "STF_WEDSD_P_202-001.jpg\r\n",
      "STF_WEDSD_P_73-001.jpg\r\n",
      "STF_WEDSD_P_97-001.jpg\r\n",
      "SW_ABERTMUS_PCF3-001.jpg\r\n",
      "SW_ABERTMUS_PCF5-001.jpg\r\n",
      "SW_ABM_PCF105-002.jpg\r\n",
      "SW_ABM_PCF55-001.jpg\r\n",
      "SW_ABM_PCF69_1-001.jpg\r\n",
      "SW_ABM_PCF70_1-001.jpg\r\n",
      "SW_ABM_PCF94-001.jpg\r\n",
      "SW_ANEUR_RG_PCF2-001.jpg\r\n",
      "SW_CCITC_CCC_PCF28-001.jpg\r\n",
      "SW_CCITC_CCC_PCF58-001.jpg\r\n",
      "SW_CCITC_CCC_PCF77-001.jpg\r\n",
      "SW_CCITC_CCC_PCF87-001.jpg\r\n",
      "SW_CCITC_CCC_PCF92-001.jpg\r\n",
      "SW_CTHB_PCF11-001.jpg\r\n",
      "SW_CUNIV_56-001.jpg\r\n",
      "SW_CVUHB_PCF101-001.jpg\r\n",
      "SW_CVUHB_PCF73-001.jpg\r\n",
      "SW_CVUHB_PCF74-001.jpg\r\n",
      "SW_CVUHB_PCF8_D1-001.jpg\r\n",
      "SW_CVUHB_PCF_B-001.jpg\r\n",
      "SW_CVUHB_PCF_D-001.jpg\r\n",
      "SW_CVUHB_PCF_G_D2-001.jpg\r\n",
      "SW_GV_GV1921_340-001.jpg\r\n",
      "SW_GV_GV1975_12-001.jpg\r\n",
      "SW_GV_GV1994_124-001.jpg\r\n",
      "SW_LG_P0025-001.jpg\r\n",
      "SW_MONMS_ABER_A1982_767-001.jpg\r\n",
      "SW_MONMS_MCHEP_DH_83_38-001.jpg\r\n",
      "SW_MTM_165_990-001.jpg\r\n",
      "SW_MTM_23_991-001.jpg\r\n",
      "SW_NPMAG_1919_16-001.jpg\r\n",
      "SW_NPMAG_1924_18_DUP-001.jpg\r\n",
      "SW_NPMAG_1973_18-001.jpg\r\n",
      "SW_SCSM_2011_57-001.jpg\r\n",
      "SW_SCSM_MI_3015-001.jpg\r\n",
      "SW_TOMT_POPMS_1982_74_3-001.jpg\r\n",
      "SW_UOG_LOAN_R106-001.jpg\r\n",
      "SW_UOG_LOAN_R113-001.jpg\r\n",
      "SW_UOG_PCF_LOAN1-001.jpg\r\n",
      "SYO_BHA_90003665-001.jpg\r\n",
      "SYO_BHA_90003666-001.jpg\r\n",
      "SYO_BHA_90003699-001.jpg\r\n",
      "SYO_BHA_90004080-001.jpg\r\n",
      "SYO_BHA_90009742-001.jpg\r\n",
      "SYO_BHA_90009745-001.jpg\r\n",
      "SYO_CAN_A_1938-001.jpg\r\n",
      "SYO_CAN_A_1955-001.jpg\r\n",
      "SYO_CAN_A_2165_001-001.jpg\r\n",
      "SYO_CG_CP_TR_152-001.jpg\r\n",
      "SYO_CG_CP_TR_156-001.jpg\r\n",
      "SYO_CG_CP_TR_179-001.jpg\r\n",
      "SYO_CG_CP_TR_368-001.jpg\r\n",
      "SYO_DON_DONMG_2008_59-001.jpg\r\n",
      "SYO_DON_DONMG_446_62-001.jpg\r\n",
      "SYO_DON_DONMG_487_63-001.jpg\r\n",
      "SYO_DON_DONMG_715_75-001.jpg\r\n",
      "SYO_DON_DONMG_743_76-001.jpg\r\n",
      "SYO_DON_DONMG_746_76-001.jpg\r\n",
      "SYO_DON_DONMG_753_76-001.jpg\r\n",
      "SYO_DON_DONMG_TEMP_005_VERSO-001.jpg\r\n",
      "SYO_ROTMG_OP_1977_118-001.jpg\r\n",
      "SYO_ROTMG_OP_1977_40-001.jpg\r\n",
      "TATE_TATE_N00309_10-001.jpg\r\n",
      "TATE_TATE_N00347_10-001.jpg\r\n",
      "TATE_TATE_N00447_10-001.jpg\r\n",
      "TATE_TATE_N00536_10-001.jpg\r\n",
      "TATE_TATE_N00607_10-001.jpg\r\n",
      "TATE_TATE_N01043_10-001.jpg\r\n",
      "TATE_TATE_N01627_10-001.jpg\r\n",
      "TATE_TATE_N01968_10-001.jpg\r\n",
      "TATE_TATE_N02425_10-001.jpg\r\n",
      "TATE_TATE_N02698_10-001.jpg\r\n",
      "TATE_TATE_N03386_10-001.jpg\r\n",
      "TATE_TATE_N04657_10-001.jpg\r\n",
      "TATE_TATE_N04696_10-001.jpg\r\n",
      "TATE_TATE_N05977_10-001.jpg\r\n",
      "TATE_TATE_N06039_10-001.jpg\r\n",
      "TATE_TATE_T00195_10-001.jpg\r\n",
      "TATE_TATE_T00489_10-001.jpg\r\n",
      "TATE_TATE_T00888_10-001.jpg\r\n",
      "TATE_TATE_T01192_10-001.jpg\r\n",
      "TATE_TATE_T02058_10-001.jpg\r\n",
      "TATE_TATE_T02215_10-001.jpg\r\n",
      "TATE_TATE_T02265_10-001.jpg\r\n",
      "TATE_TATE_T02360_10-001.jpg\r\n",
      "TATE_TATE_T03960_10-001.jpg\r\n",
      "TATE_TATE_T06488_10-001.jpg\r\n",
      "TATE_TATE_T06554_10-001.jpg\r\n",
      "TATE_TATE_T06869_10-001.jpg\r\n",
      "TATE_TATE_T06878_10-001.jpg\r\n",
      "TATE_TATE_T06900_10-001.jpg\r\n",
      "TATE_TATE_T07145_10-001.jpg\r\n",
      "TATE_TATE_T07799_10-001.jpg\r\n",
      "TATE_TATE_T07924_10-001.jpg\r\n",
      "TATE_TATE_T11790_10-001.jpg\r\n",
      "TWMS_LAG_TWCMS_B6667-001.jpg\r\n",
      "TWMS_LAG_TWCMS_C10044-001.jpg\r\n",
      "TWMS_LAG_TWCMS_C13499-001.jpg\r\n",
      "TWMS_LAG_TWCMS_D1283-001.jpg\r\n",
      "TWMS_LAG_TWCMS_G1305-001.jpg\r\n",
      "TWMS_LAG_TWCMS_G2834-001.jpg\r\n",
      "TWMS_LAG_TWCMS_G3858-001.jpg\r\n",
      "TWMS_LAG_TWCMS_G4182-001.jpg\r\n",
      "TWMS_LAG_TWCMS_G524-001.jpg\r\n",
      "TWMS_SAG_TWCMS_B3230-001.jpg\r\n",
      "TWMS_SAG_TWCMS_B3238-001.jpg\r\n",
      "TWMS_SAG_TWCMS_B3241-001.jpg\r\n",
      "TWMS_SAG_TWCMS_B3751-001.jpg\r\n",
      "TWMS_SAG_TWCMS_B3762-001.jpg\r\n",
      "TWMS_SAG_TWCMS_B4249-001.jpg\r\n",
      "TWMS_SAG_TWCMS_B4944-001.jpg\r\n",
      "TWMS_SAG_TWCMS_B4950-001.jpg\r\n",
      "TWMS_SAG_TWCMS_B6206-001.jpg\r\n",
      "TWMS_SAG_TWCMS_B6219-001.jpg\r\n",
      "TWMS_SAG_TWCMS_B6221-001.jpg\r\n",
      "TWMS_SAG_TWCMS_B6227-001.jpg\r\n",
      "TWMS_SAG_TWCMS_B8427-001.jpg\r\n",
      "TWMS_SAG_TWCMS_C7373-001.jpg\r\n",
      "TWMS_SAG_TWCMS_F9358-001.jpg\r\n",
      "TWMS_SUN_TWCMS_B2516-001.jpg\r\n",
      "TWMS_SUN_TWCMS_B4555-001.jpg\r\n",
      "TWMS_SUN_TWCMS_B9197-001.jpg\r\n",
      "TWMS_SUN_TWCMS_B9434-001.jpg\r\n",
      "VA_FC_2007BP3886-001.jpg\r\n",
      "VA_PC_2006AG3565-001.jpg\r\n",
      "VA_PC_2006AG3583-001.jpg\r\n",
      "VA_PC_2006AG3584-001.jpg\r\n",
      "VA_PC_2006AJ4644-001.jpg\r\n",
      "VA_PC_2006AJ5061-001.jpg\r\n",
      "VA_PC_2006AM1874-001.jpg\r\n",
      "VA_PC_2006AP9856-001.jpg\r\n",
      "VA_PC_2006AT0494-001.jpg\r\n",
      "VA_PC_2006AW0793-001.jpg\r\n",
      "VA_PC_2006BD7883-001.jpg\r\n",
      "VA_PC_2006BF3354-001.jpg\r\n",
      "VA_PC_2006BH7403-001.jpg\r\n",
      "VA_PC_2006BH7444-001.jpg\r\n",
      "VA_PC_2006BH7571-001.jpg\r\n",
      "VA_PC_2006BH7572-001.jpg\r\n",
      "VA_PC_2006BH7586-001.jpg\r\n",
      "VA_PC_2006BH7591-001.jpg\r\n",
      "VA_PC_2006BH7593-001.jpg\r\n",
      "VA_PC_2006BH7597-001.jpg\r\n",
      "VA_PC_2006BH7614-001.jpg\r\n",
      "VA_PC_2006BH7699-001.jpg\r\n",
      "VA_PC_2006BH7712-001.jpg\r\n",
      "VA_PC_2006BH7787-001.jpg\r\n",
      "VA_PC_2007BM8472-001.jpg\r\n",
      "VA_PC_2007BM8473-001.jpg\r\n",
      "VA_PC_2007BM8479-001.jpg\r\n",
      "VA_PC_2007BM8482-001.jpg\r\n",
      "VA_PC_2007BM8484-001.jpg\r\n",
      "VA_PC_2007BM8487-001.jpg\r\n",
      "VA_PC_2007BM8489-001.jpg\r\n",
      "VA_PC_2007BM8492-001.jpg\r\n",
      "VA_PC_2007BN3331-001.jpg\r\n",
      "VA_PC_2007BN5727-001.jpg\r\n",
      "VA_PC_2007BN6088-001.jpg\r\n",
      "VA_PC_2007BP0645-001.jpg\r\n",
      "VA_PC_2007BP0728-001.jpg\r\n",
      "VA_PC_2007BP0848-001.jpg\r\n",
      "VA_PC_2007BP0860-001.jpg\r\n",
      "VA_PC_2007BP0935-001.jpg\r\n",
      "VA_PC_2007BP1189-001.jpg\r\n",
      "VA_PC_2007BP1195-001.jpg\r\n",
      "VA_PC_2007BP1335-001.jpg\r\n",
      "VA_PC_2007BP2348-001.jpg\r\n",
      "VA_PC_2007BP2349-001.jpg\r\n",
      "VA_PC_2007BP2389-001.jpg\r\n",
      "WAR_BMIHT_14-001.jpg\r\n",
      "WAR_COMP_12-001.jpg\r\n",
      "WAR_COMP_14-001.jpg\r\n",
      "WAR_COMP_16-001.jpg\r\n",
      "WAR_COMP_17-001.jpg\r\n",
      "WAR_COMP_18-001.jpg\r\n",
      "WAR_COMP_19-001.jpg\r\n",
      "WAR_COMP_21-001.jpg\r\n",
      "WAR_COMP_23-001.jpg\r\n",
      "WAR_COMP_25-001.jpg\r\n",
      "WAR_COMP_28-001.jpg\r\n",
      "WAR_COMP_30-001.jpg\r\n",
      "WAR_COMP_32-001.jpg\r\n",
      "WAR_COMP_36-001.jpg\r\n",
      "WAR_COMP_4-001.jpg\r\n",
      "WAR_COMP_40-001.jpg\r\n",
      "WAR_COMP_5-001.jpg\r\n",
      "WAR_COMP_6-001.jpg\r\n",
      "WAR_COMP_8-001.jpg\r\n",
      "WAR_COMP_9-001.jpg\r\n",
      "WAR_COMP_92-001.jpg\r\n",
      "WAR_COVUNI_84-001.jpg\r\n",
      "WAR_COVUNI_86-001.jpg\r\n",
      "WAR_HERB_104-001.jpg\r\n",
      "WAR_HERB_143-001.jpg\r\n",
      "WAR_HERB_149-001.jpg\r\n",
      "WAR_HERB_155-001.jpg\r\n",
      "WAR_HERB_158-001.jpg\r\n",
      "WAR_HERB_168-001.jpg\r\n",
      "WAR_HERB_171-001.jpg\r\n",
      "WAR_HERB_173-001.jpg\r\n",
      "WAR_HERB_188-001.jpg\r\n",
      "WAR_HERB_192-001.jpg\r\n",
      "WAR_HERB_195-001.jpg\r\n",
      "WAR_HERB_197-001.jpg\r\n",
      "WAR_HERB_20-001.jpg\r\n",
      "WAR_HERB_201-001.jpg\r\n",
      "WAR_HERB_221-001.jpg\r\n",
      "WAR_HERB_238-001.jpg\r\n",
      "WAR_HERB_244-001.jpg\r\n",
      "WAR_HERB_273-001.jpg\r\n",
      "WAR_HERB_276-001.jpg\r\n",
      "WAR_HERB_284-001.jpg\r\n",
      "WAR_HERB_295-001.jpg\r\n",
      "WAR_HERB_305-001.jpg\r\n",
      "WAR_HERB_310-001.jpg\r\n",
      "WAR_HERB_35-001.jpg\r\n",
      "WAR_HERB_36-001.jpg\r\n",
      "WAR_HERB_38-001.jpg\r\n",
      "WAR_HERB_386-001.jpg\r\n",
      "WAR_HERB_39-001.jpg\r\n",
      "WAR_HERB_41-001.jpg\r\n",
      "WAR_HERB_418-001.jpg\r\n",
      "WAR_HERB_424-001.jpg\r\n",
      "WAR_HERB_430a-001.jpg\r\n",
      "WAR_HERB_439-001.jpg\r\n",
      "WAR_HERB_46-001.jpg\r\n",
      "WAR_HERB_510-001.jpg\r\n",
      "WAR_HERB_515-001.jpg\r\n",
      "WAR_HERB_520-001.jpg\r\n",
      "WAR_HERB_522-001.jpg\r\n",
      "WAR_HERB_532-001.jpg\r\n",
      "WAR_HERB_537-001.jpg\r\n",
      "WAR_HERB_64-001.jpg\r\n",
      "WAR_HERB_67-001.jpg\r\n",
      "WAR_HERB_85-001.jpg\r\n",
      "WAR_HERB_89-001.jpg\r\n",
      "WAR_JDHT_15-001.jpg\r\n",
      "WAR_LEAMG_171-001.jpg\r\n",
      "WAR_LEAMG_184-001.jpg\r\n",
      "WAR_LEAMG_188-001.jpg\r\n",
      "WAR_LEAMG_192-001.jpg\r\n",
      "WAR_LEAMG_207-001.jpg\r\n",
      "WAR_LEAMG_224-001.jpg\r\n",
      "WAR_LEAMG_229-001.jpg\r\n",
      "WAR_LEAMG_283-001.jpg\r\n",
      "WAR_LEAMG_296-001.jpg\r\n",
      "WAR_LEAMG_310-001.jpg\r\n",
      "WAR_LEAMG_343-001.jpg\r\n",
      "WAR_LEAMG_347-001.jpg\r\n",
      "WAR_LEAMG_352-001.jpg\r\n",
      "WAR_LEAMG_354-001.jpg\r\n",
      "WAR_LEAMG_361-001.jpg\r\n",
      "WAR_LEAMG_389-001.jpg\r\n",
      "WAR_LEAMG_44-001.jpg\r\n",
      "WAR_LEAMG_49-001.jpg\r\n",
      "WAR_LEAMG_66-001.jpg\r\n",
      "WAR_LEAMG_86-001.jpg\r\n",
      "WAR_LEAMG_91-001.jpg\r\n",
      "WAR_LEAMG_99-001.jpg\r\n",
      "WAR_NMAG_137-001.jpg\r\n",
      "WAR_NMAG_21-001.jpg\r\n",
      "WAR_NMAG_29-001.jpg\r\n",
      "WAR_NMAG_31-001.jpg\r\n",
      "WAR_NMAG_34-001.jpg\r\n",
      "WAR_NMAG_42-001.jpg\r\n",
      "WAR_NMAG_46-001.jpg\r\n",
      "WAR_NMAG_55-001.jpg\r\n",
      "WAR_NMAG_57-001.jpg\r\n",
      "WAR_NMAG_78-001.jpg\r\n",
      "WAR_NMAG_85-001.jpg\r\n",
      "WAR_NMAG_9-001.jpg\r\n",
      "WAR_NMAG_91-001.jpg\r\n",
      "WAR_RAGM_38-001.jpg\r\n",
      "WAR_RAGM_47-001.jpg\r\n",
      "WAR_RAGM_LC008_TOWNHALL-001.jpg\r\n",
      "WAR_RAGM_LC024_TOWNHALL-001.jpg\r\n",
      "WAR_RRF_3-001.jpg\r\n",
      "WAR_RSCC_1-001.jpg\r\n",
      "WAR_RSCC_111-001.jpg\r\n",
      "WAR_RSCC_131-001.jpg\r\n",
      "WAR_RSCC_25-001.jpg\r\n",
      "WAR_RSCC_27-001.jpg\r\n",
      "WAR_RSCC_42-001.jpg\r\n",
      "WAR_RSCC_52-001.jpg\r\n",
      "WAR_RSCC_58-001.jpg\r\n",
      "WAR_RSCC_67-001.jpg\r\n",
      "WAR_RSCC_68-001.jpg\r\n",
      "WAR_SBT_10-001.jpg\r\n",
      "WAR_SBT_11-001.jpg\r\n",
      "WAR_SBT_111-001.jpg\r\n",
      "WAR_SBT_29-001.jpg\r\n",
      "WAR_SBT_30-001.jpg\r\n",
      "WAR_SBT_6A-001.jpg\r\n",
      "WAR_SBT_74-001.jpg\r\n",
      "WAR_SBT_90-001.jpg\r\n",
      "WAR_SBT_91-001.jpg\r\n",
      "WAR_SMHC_3-001.jpg\r\n",
      "WAR_SMHC_8-001.jpg\r\n",
      "WAR_SOLIB_15-001.jpg\r\n",
      "WAR_UOWA_PCF32-001.jpg\r\n",
      "WAR_UOWA_PCF69-001.jpg\r\n",
      "WAR_WARMS_11-001.jpg\r\n",
      "WAR_WARMS_38-001.jpg\r\n",
      "WAR_WARMS_46-001.jpg\r\n",
      "WAR_WARSH_18-001.jpg\r\n",
      "WAR_WARSH_20-001.jpg\r\n",
      "WAR_WARSH_26-001.jpg\r\n",
      "WAR_WARSH_27-001.jpg\r\n",
      "WAR_WARSH_28-001.jpg\r\n",
      "WAR_WARSH_49-001.jpg\r\n",
      "WAR_WARSH_52-001.jpg\r\n",
      "WLC_WLC_P103-001.jpg\r\n",
      "WLC_WLC_P143-001.jpg\r\n",
      "WLC_WLC_P145-001.jpg\r\n",
      "WLC_WLC_P192-001.jpg\r\n",
      "WLC_WLC_P221-001.jpg\r\n",
      "WLC_WLC_P233-001.jpg\r\n",
      "WLC_WLC_P250-001.jpg\r\n",
      "WLC_WLC_P260-001.jpg\r\n",
      "WLC_WLC_P365-001.jpg\r\n",
      "WLC_WLC_P419-001.jpg\r\n",
      "WLC_WLC_P579-001.jpg\r\n",
      "WLC_WLC_P594-001.jpg\r\n",
      "WLC_WLC_P625-001.jpg\r\n",
      "WLC_WLC_P628-001.jpg\r\n",
      "WLC_WLC_P83-001.jpg\r\n",
      "WLC_WLC_P87-001.jpg\r\n",
      "WLC_WLC_P98-001.jpg\r\n",
      "WMRII_BBCO_1739-001.jpg\r\n",
      "WMRII_FWF_102929-001.jpg\r\n",
      "WMRII_FWF_145696-001.jpg\r\n",
      "WMRII_ICH_HH1884-001.jpg\r\n",
      "WMRII_ICH_HH343-001.jpg\r\n",
      "WMRII_ICH_HH812-001.jpg\r\n",
      "WMRII_RCOP_P003-001.jpg\r\n",
      "WMRII_RCV_C31-001.jpg\r\n",
      "WMR_APH_N070467-001.jpg\r\n",
      "WMR_RAA_PL000534-001.jpg\r\n",
      "WMR_RAOM_2003_1057-001.jpg\r\n",
      "WMR_RCS_RCSSC_P_277-001.jpg\r\n",
      "WMR_RCS_RCSSC_P_280-001.jpg\r\n",
      "WMR_RCS_RCSSC_P_281-001.jpg\r\n",
      "WMR_RCS_RCSSC_P_282-001.jpg\r\n",
      "WMR_RCS_RCSSC_P_286-001.jpg\r\n",
      "WS_CHF_004_008-001.jpg\r\n",
      "WS_MMP_002_009A-001.jpg\r\n",
      "WS_MMP_301_033-001.jpg\r\n",
      "WS_PALG_UN_004-001.jpg\r\n",
      "WS_UBO_007_030-001.jpg\r\n",
      "WS_UBO_008_035-001.jpg\r\n",
      "WYL_LMG_006_23-001.jpg\r\n",
      "WYL_LMG_006_26-001.jpg\r\n",
      "WYL_LMG_006_34-001.jpg\r\n",
      "WYL_LMG_023_20-001.jpg\r\n",
      "WYL_LMG_028_14-001.jpg\r\n",
      "WYL_LMG_032_02-001.jpg\r\n",
      "WYL_LMG_043_06-001.jpg\r\n",
      "WYL_LMG_077_05-001.jpg\r\n",
      "WYL_LMG_077_07-001.jpg\r\n",
      "WYL_LMG_077_10-001.jpg\r\n",
      "WYL_LMG_077_27-001.jpg\r\n",
      "WYL_LMG_080_11-001.jpg\r\n",
      "WYL_LMG_080_21-001.jpg\r\n",
      "WYL_LMG_111_25-001.jpg\r\n",
      "WYL_LMG_114_25-001.jpg\r\n",
      "WYL_LMG_122_20-001.jpg\r\n",
      "WYL_LMG_130_08-001.jpg\r\n",
      "WYL_LMG_157820-001.jpg\r\n",
      "WYL_LMG_157827-001.jpg\r\n",
      "WYL_LMG_157850-001.jpg\r\n",
      "WYL_LMG_17_20-001.jpg\r\n",
      "WYR_BMGH_140_1967_2-001.jpg\r\n",
      "WYR_BMGH_1906_034-001.jpg\r\n",
      "WYR_BMGH_1947_038-001.jpg\r\n",
      "WYR_BMGH_1950_002-001.jpg\r\n",
      "WYR_BMGH_1964_009-001.jpg\r\n",
      "WYR_BMGH_1975_002-001.jpg\r\n",
      "WYR_BMGH_1977_073-001.jpg\r\n",
      "WYR_BMGH_6_1967_3-001.jpg\r\n",
      "WYR_BMGH_7_1939_4-001.jpg\r\n",
      "WYR_CMBC_1960_82-001.jpg\r\n",
      "WYR_CMBC_1974_420-001.jpg\r\n",
      "WYR_CMBC_2001_401-001.jpg\r\n",
      "WYR_CMBC_2001_420-001.jpg\r\n",
      "WYR_KLMUS_1983_1572-001.jpg\r\n",
      "WYR_KLMUS_1983_440-001.jpg\r\n",
      "WYR_KLMUS_1983_734-001.jpg\r\n",
      "WYR_KLMUS_1985_2548-001.jpg\r\n",
      "WYR_KLMUS_1985_2562-001.jpg\r\n",
      "WYR_KLMUS_1989_149-001.jpg\r\n",
      "WYR_KLMUS_1989_63-001.jpg\r\n",
      "WYR_WAGY_A1_1359-001.jpg\r\n",
      "WYR_WAGY_A1_192A-001.jpg\r\n",
      "WYR_WAGY_A1_330-001.jpg\r\n",
      "WYR_WAGY_A1_503-001.jpg\r\n",
      "alfred-wallis-four-boats-by-a-lighthouse.jpg\r\n",
      "rol02_x01_diogenes_and_belle_at_prayer_with_chairs._1974_0.jpg\r\n",
      "winifred-nicholson-ben-with-slinky.jpg\r\n"
     ]
    }
   ],
   "source": [
    "%cd ../raw_data/yourpaintings_sm\n",
    "%ls"
   ]
  },
  {
   "cell_type": "code",
   "execution_count": 13,
   "id": "5ab789e7",
   "metadata": {
    "ExecuteTime": {
     "end_time": "2022-09-10T06:25:35.982408Z",
     "start_time": "2022-09-10T06:25:35.872156Z"
    }
   },
   "outputs": [
    {
     "ename": "FileNotFoundError",
     "evalue": "[Errno 2] No such file or directory: '../raw_data/yourpaintings/df_yourpaintings.csv'",
     "output_type": "error",
     "traceback": [
      "\u001b[0;31m---------------------------------------------------------------------------\u001b[0m",
      "\u001b[0;31mFileNotFoundError\u001b[0m                         Traceback (most recent call last)",
      "Input \u001b[0;32mIn [13]\u001b[0m, in \u001b[0;36m<cell line: 1>\u001b[0;34m()\u001b[0m\n\u001b[0;32m----> 1\u001b[0m imgs, df \u001b[38;5;241m=\u001b[39m \u001b[43mutils\u001b[49m\u001b[38;5;241;43m.\u001b[39;49m\u001b[43mresize_rescale\u001b[49m\u001b[43m(\u001b[49m\u001b[43m)\u001b[49m\n",
      "File \u001b[0;32m~/code/erniesg/art_api/art_api/utils.py:17\u001b[0m, in \u001b[0;36mresize_rescale\u001b[0;34m()\u001b[0m\n\u001b[1;32m     15\u001b[0m \u001b[38;5;28;01mdef\u001b[39;00m \u001b[38;5;21mresize_rescale\u001b[39m():\n\u001b[1;32m     16\u001b[0m     imgs \u001b[38;5;241m=\u001b[39m []\n\u001b[0;32m---> 17\u001b[0m     df \u001b[38;5;241m=\u001b[39m \u001b[43mpd\u001b[49m\u001b[38;5;241;43m.\u001b[39;49m\u001b[43mread_csv\u001b[49m\u001b[43m(\u001b[49m\u001b[43mconfig\u001b[49m\u001b[38;5;241;43m.\u001b[39;49m\u001b[43mPATH_FILE\u001b[49m\u001b[43m)\u001b[49m\n\u001b[1;32m     19\u001b[0m     \u001b[38;5;28;01mfor\u001b[39;00m index, row \u001b[38;5;129;01min\u001b[39;00m df\u001b[38;5;241m.\u001b[39miterrows():\n\u001b[1;32m     20\u001b[0m         img_file \u001b[38;5;241m=\u001b[39m \u001b[38;5;28mstr\u001b[39m(row[\u001b[38;5;124m\"\u001b[39m\u001b[38;5;124mfilename\u001b[39m\u001b[38;5;124m\"\u001b[39m])\n",
      "File \u001b[0;32m~/.pyenv/versions/lewagon/lib/python3.8/site-packages/pandas/util/_decorators.py:311\u001b[0m, in \u001b[0;36mdeprecate_nonkeyword_arguments.<locals>.decorate.<locals>.wrapper\u001b[0;34m(*args, **kwargs)\u001b[0m\n\u001b[1;32m    305\u001b[0m \u001b[38;5;28;01mif\u001b[39;00m \u001b[38;5;28mlen\u001b[39m(args) \u001b[38;5;241m>\u001b[39m num_allow_args:\n\u001b[1;32m    306\u001b[0m     warnings\u001b[38;5;241m.\u001b[39mwarn(\n\u001b[1;32m    307\u001b[0m         msg\u001b[38;5;241m.\u001b[39mformat(arguments\u001b[38;5;241m=\u001b[39marguments),\n\u001b[1;32m    308\u001b[0m         \u001b[38;5;167;01mFutureWarning\u001b[39;00m,\n\u001b[1;32m    309\u001b[0m         stacklevel\u001b[38;5;241m=\u001b[39mstacklevel,\n\u001b[1;32m    310\u001b[0m     )\n\u001b[0;32m--> 311\u001b[0m \u001b[38;5;28;01mreturn\u001b[39;00m \u001b[43mfunc\u001b[49m\u001b[43m(\u001b[49m\u001b[38;5;241;43m*\u001b[39;49m\u001b[43margs\u001b[49m\u001b[43m,\u001b[49m\u001b[43m \u001b[49m\u001b[38;5;241;43m*\u001b[39;49m\u001b[38;5;241;43m*\u001b[39;49m\u001b[43mkwargs\u001b[49m\u001b[43m)\u001b[49m\n",
      "File \u001b[0;32m~/.pyenv/versions/lewagon/lib/python3.8/site-packages/pandas/io/parsers/readers.py:680\u001b[0m, in \u001b[0;36mread_csv\u001b[0;34m(filepath_or_buffer, sep, delimiter, header, names, index_col, usecols, squeeze, prefix, mangle_dupe_cols, dtype, engine, converters, true_values, false_values, skipinitialspace, skiprows, skipfooter, nrows, na_values, keep_default_na, na_filter, verbose, skip_blank_lines, parse_dates, infer_datetime_format, keep_date_col, date_parser, dayfirst, cache_dates, iterator, chunksize, compression, thousands, decimal, lineterminator, quotechar, quoting, doublequote, escapechar, comment, encoding, encoding_errors, dialect, error_bad_lines, warn_bad_lines, on_bad_lines, delim_whitespace, low_memory, memory_map, float_precision, storage_options)\u001b[0m\n\u001b[1;32m    665\u001b[0m kwds_defaults \u001b[38;5;241m=\u001b[39m _refine_defaults_read(\n\u001b[1;32m    666\u001b[0m     dialect,\n\u001b[1;32m    667\u001b[0m     delimiter,\n\u001b[0;32m   (...)\u001b[0m\n\u001b[1;32m    676\u001b[0m     defaults\u001b[38;5;241m=\u001b[39m{\u001b[38;5;124m\"\u001b[39m\u001b[38;5;124mdelimiter\u001b[39m\u001b[38;5;124m\"\u001b[39m: \u001b[38;5;124m\"\u001b[39m\u001b[38;5;124m,\u001b[39m\u001b[38;5;124m\"\u001b[39m},\n\u001b[1;32m    677\u001b[0m )\n\u001b[1;32m    678\u001b[0m kwds\u001b[38;5;241m.\u001b[39mupdate(kwds_defaults)\n\u001b[0;32m--> 680\u001b[0m \u001b[38;5;28;01mreturn\u001b[39;00m \u001b[43m_read\u001b[49m\u001b[43m(\u001b[49m\u001b[43mfilepath_or_buffer\u001b[49m\u001b[43m,\u001b[49m\u001b[43m \u001b[49m\u001b[43mkwds\u001b[49m\u001b[43m)\u001b[49m\n",
      "File \u001b[0;32m~/.pyenv/versions/lewagon/lib/python3.8/site-packages/pandas/io/parsers/readers.py:575\u001b[0m, in \u001b[0;36m_read\u001b[0;34m(filepath_or_buffer, kwds)\u001b[0m\n\u001b[1;32m    572\u001b[0m _validate_names(kwds\u001b[38;5;241m.\u001b[39mget(\u001b[38;5;124m\"\u001b[39m\u001b[38;5;124mnames\u001b[39m\u001b[38;5;124m\"\u001b[39m, \u001b[38;5;28;01mNone\u001b[39;00m))\n\u001b[1;32m    574\u001b[0m \u001b[38;5;66;03m# Create the parser.\u001b[39;00m\n\u001b[0;32m--> 575\u001b[0m parser \u001b[38;5;241m=\u001b[39m \u001b[43mTextFileReader\u001b[49m\u001b[43m(\u001b[49m\u001b[43mfilepath_or_buffer\u001b[49m\u001b[43m,\u001b[49m\u001b[43m \u001b[49m\u001b[38;5;241;43m*\u001b[39;49m\u001b[38;5;241;43m*\u001b[39;49m\u001b[43mkwds\u001b[49m\u001b[43m)\u001b[49m\n\u001b[1;32m    577\u001b[0m \u001b[38;5;28;01mif\u001b[39;00m chunksize \u001b[38;5;129;01mor\u001b[39;00m iterator:\n\u001b[1;32m    578\u001b[0m     \u001b[38;5;28;01mreturn\u001b[39;00m parser\n",
      "File \u001b[0;32m~/.pyenv/versions/lewagon/lib/python3.8/site-packages/pandas/io/parsers/readers.py:934\u001b[0m, in \u001b[0;36mTextFileReader.__init__\u001b[0;34m(self, f, engine, **kwds)\u001b[0m\n\u001b[1;32m    931\u001b[0m     \u001b[38;5;28mself\u001b[39m\u001b[38;5;241m.\u001b[39moptions[\u001b[38;5;124m\"\u001b[39m\u001b[38;5;124mhas_index_names\u001b[39m\u001b[38;5;124m\"\u001b[39m] \u001b[38;5;241m=\u001b[39m kwds[\u001b[38;5;124m\"\u001b[39m\u001b[38;5;124mhas_index_names\u001b[39m\u001b[38;5;124m\"\u001b[39m]\n\u001b[1;32m    933\u001b[0m \u001b[38;5;28mself\u001b[39m\u001b[38;5;241m.\u001b[39mhandles: IOHandles \u001b[38;5;241m|\u001b[39m \u001b[38;5;28;01mNone\u001b[39;00m \u001b[38;5;241m=\u001b[39m \u001b[38;5;28;01mNone\u001b[39;00m\n\u001b[0;32m--> 934\u001b[0m \u001b[38;5;28mself\u001b[39m\u001b[38;5;241m.\u001b[39m_engine \u001b[38;5;241m=\u001b[39m \u001b[38;5;28;43mself\u001b[39;49m\u001b[38;5;241;43m.\u001b[39;49m\u001b[43m_make_engine\u001b[49m\u001b[43m(\u001b[49m\u001b[43mf\u001b[49m\u001b[43m,\u001b[49m\u001b[43m \u001b[49m\u001b[38;5;28;43mself\u001b[39;49m\u001b[38;5;241;43m.\u001b[39;49m\u001b[43mengine\u001b[49m\u001b[43m)\u001b[49m\n",
      "File \u001b[0;32m~/.pyenv/versions/lewagon/lib/python3.8/site-packages/pandas/io/parsers/readers.py:1218\u001b[0m, in \u001b[0;36mTextFileReader._make_engine\u001b[0;34m(self, f, engine)\u001b[0m\n\u001b[1;32m   1214\u001b[0m     mode \u001b[38;5;241m=\u001b[39m \u001b[38;5;124m\"\u001b[39m\u001b[38;5;124mrb\u001b[39m\u001b[38;5;124m\"\u001b[39m\n\u001b[1;32m   1215\u001b[0m \u001b[38;5;66;03m# error: No overload variant of \"get_handle\" matches argument types\u001b[39;00m\n\u001b[1;32m   1216\u001b[0m \u001b[38;5;66;03m# \"Union[str, PathLike[str], ReadCsvBuffer[bytes], ReadCsvBuffer[str]]\"\u001b[39;00m\n\u001b[1;32m   1217\u001b[0m \u001b[38;5;66;03m# , \"str\", \"bool\", \"Any\", \"Any\", \"Any\", \"Any\", \"Any\"\u001b[39;00m\n\u001b[0;32m-> 1218\u001b[0m \u001b[38;5;28mself\u001b[39m\u001b[38;5;241m.\u001b[39mhandles \u001b[38;5;241m=\u001b[39m \u001b[43mget_handle\u001b[49m\u001b[43m(\u001b[49m\u001b[43m  \u001b[49m\u001b[38;5;66;43;03m# type: ignore[call-overload]\u001b[39;49;00m\n\u001b[1;32m   1219\u001b[0m \u001b[43m    \u001b[49m\u001b[43mf\u001b[49m\u001b[43m,\u001b[49m\n\u001b[1;32m   1220\u001b[0m \u001b[43m    \u001b[49m\u001b[43mmode\u001b[49m\u001b[43m,\u001b[49m\n\u001b[1;32m   1221\u001b[0m \u001b[43m    \u001b[49m\u001b[43mencoding\u001b[49m\u001b[38;5;241;43m=\u001b[39;49m\u001b[38;5;28;43mself\u001b[39;49m\u001b[38;5;241;43m.\u001b[39;49m\u001b[43moptions\u001b[49m\u001b[38;5;241;43m.\u001b[39;49m\u001b[43mget\u001b[49m\u001b[43m(\u001b[49m\u001b[38;5;124;43m\"\u001b[39;49m\u001b[38;5;124;43mencoding\u001b[39;49m\u001b[38;5;124;43m\"\u001b[39;49m\u001b[43m,\u001b[49m\u001b[43m \u001b[49m\u001b[38;5;28;43;01mNone\u001b[39;49;00m\u001b[43m)\u001b[49m\u001b[43m,\u001b[49m\n\u001b[1;32m   1222\u001b[0m \u001b[43m    \u001b[49m\u001b[43mcompression\u001b[49m\u001b[38;5;241;43m=\u001b[39;49m\u001b[38;5;28;43mself\u001b[39;49m\u001b[38;5;241;43m.\u001b[39;49m\u001b[43moptions\u001b[49m\u001b[38;5;241;43m.\u001b[39;49m\u001b[43mget\u001b[49m\u001b[43m(\u001b[49m\u001b[38;5;124;43m\"\u001b[39;49m\u001b[38;5;124;43mcompression\u001b[39;49m\u001b[38;5;124;43m\"\u001b[39;49m\u001b[43m,\u001b[49m\u001b[43m \u001b[49m\u001b[38;5;28;43;01mNone\u001b[39;49;00m\u001b[43m)\u001b[49m\u001b[43m,\u001b[49m\n\u001b[1;32m   1223\u001b[0m \u001b[43m    \u001b[49m\u001b[43mmemory_map\u001b[49m\u001b[38;5;241;43m=\u001b[39;49m\u001b[38;5;28;43mself\u001b[39;49m\u001b[38;5;241;43m.\u001b[39;49m\u001b[43moptions\u001b[49m\u001b[38;5;241;43m.\u001b[39;49m\u001b[43mget\u001b[49m\u001b[43m(\u001b[49m\u001b[38;5;124;43m\"\u001b[39;49m\u001b[38;5;124;43mmemory_map\u001b[39;49m\u001b[38;5;124;43m\"\u001b[39;49m\u001b[43m,\u001b[49m\u001b[43m \u001b[49m\u001b[38;5;28;43;01mFalse\u001b[39;49;00m\u001b[43m)\u001b[49m\u001b[43m,\u001b[49m\n\u001b[1;32m   1224\u001b[0m \u001b[43m    \u001b[49m\u001b[43mis_text\u001b[49m\u001b[38;5;241;43m=\u001b[39;49m\u001b[43mis_text\u001b[49m\u001b[43m,\u001b[49m\n\u001b[1;32m   1225\u001b[0m \u001b[43m    \u001b[49m\u001b[43merrors\u001b[49m\u001b[38;5;241;43m=\u001b[39;49m\u001b[38;5;28;43mself\u001b[39;49m\u001b[38;5;241;43m.\u001b[39;49m\u001b[43moptions\u001b[49m\u001b[38;5;241;43m.\u001b[39;49m\u001b[43mget\u001b[49m\u001b[43m(\u001b[49m\u001b[38;5;124;43m\"\u001b[39;49m\u001b[38;5;124;43mencoding_errors\u001b[39;49m\u001b[38;5;124;43m\"\u001b[39;49m\u001b[43m,\u001b[49m\u001b[43m \u001b[49m\u001b[38;5;124;43m\"\u001b[39;49m\u001b[38;5;124;43mstrict\u001b[39;49m\u001b[38;5;124;43m\"\u001b[39;49m\u001b[43m)\u001b[49m\u001b[43m,\u001b[49m\n\u001b[1;32m   1226\u001b[0m \u001b[43m    \u001b[49m\u001b[43mstorage_options\u001b[49m\u001b[38;5;241;43m=\u001b[39;49m\u001b[38;5;28;43mself\u001b[39;49m\u001b[38;5;241;43m.\u001b[39;49m\u001b[43moptions\u001b[49m\u001b[38;5;241;43m.\u001b[39;49m\u001b[43mget\u001b[49m\u001b[43m(\u001b[49m\u001b[38;5;124;43m\"\u001b[39;49m\u001b[38;5;124;43mstorage_options\u001b[39;49m\u001b[38;5;124;43m\"\u001b[39;49m\u001b[43m,\u001b[49m\u001b[43m \u001b[49m\u001b[38;5;28;43;01mNone\u001b[39;49;00m\u001b[43m)\u001b[49m\u001b[43m,\u001b[49m\n\u001b[1;32m   1227\u001b[0m \u001b[43m\u001b[49m\u001b[43m)\u001b[49m\n\u001b[1;32m   1228\u001b[0m \u001b[38;5;28;01massert\u001b[39;00m \u001b[38;5;28mself\u001b[39m\u001b[38;5;241m.\u001b[39mhandles \u001b[38;5;129;01mis\u001b[39;00m \u001b[38;5;129;01mnot\u001b[39;00m \u001b[38;5;28;01mNone\u001b[39;00m\n\u001b[1;32m   1229\u001b[0m f \u001b[38;5;241m=\u001b[39m \u001b[38;5;28mself\u001b[39m\u001b[38;5;241m.\u001b[39mhandles\u001b[38;5;241m.\u001b[39mhandle\n",
      "File \u001b[0;32m~/.pyenv/versions/lewagon/lib/python3.8/site-packages/pandas/io/common.py:786\u001b[0m, in \u001b[0;36mget_handle\u001b[0;34m(path_or_buf, mode, encoding, compression, memory_map, is_text, errors, storage_options)\u001b[0m\n\u001b[1;32m    781\u001b[0m \u001b[38;5;28;01melif\u001b[39;00m \u001b[38;5;28misinstance\u001b[39m(handle, \u001b[38;5;28mstr\u001b[39m):\n\u001b[1;32m    782\u001b[0m     \u001b[38;5;66;03m# Check whether the filename is to be opened in binary mode.\u001b[39;00m\n\u001b[1;32m    783\u001b[0m     \u001b[38;5;66;03m# Binary mode does not support 'encoding' and 'newline'.\u001b[39;00m\n\u001b[1;32m    784\u001b[0m     \u001b[38;5;28;01mif\u001b[39;00m ioargs\u001b[38;5;241m.\u001b[39mencoding \u001b[38;5;129;01mand\u001b[39;00m \u001b[38;5;124m\"\u001b[39m\u001b[38;5;124mb\u001b[39m\u001b[38;5;124m\"\u001b[39m \u001b[38;5;129;01mnot\u001b[39;00m \u001b[38;5;129;01min\u001b[39;00m ioargs\u001b[38;5;241m.\u001b[39mmode:\n\u001b[1;32m    785\u001b[0m         \u001b[38;5;66;03m# Encoding\u001b[39;00m\n\u001b[0;32m--> 786\u001b[0m         handle \u001b[38;5;241m=\u001b[39m \u001b[38;5;28;43mopen\u001b[39;49m\u001b[43m(\u001b[49m\n\u001b[1;32m    787\u001b[0m \u001b[43m            \u001b[49m\u001b[43mhandle\u001b[49m\u001b[43m,\u001b[49m\n\u001b[1;32m    788\u001b[0m \u001b[43m            \u001b[49m\u001b[43mioargs\u001b[49m\u001b[38;5;241;43m.\u001b[39;49m\u001b[43mmode\u001b[49m\u001b[43m,\u001b[49m\n\u001b[1;32m    789\u001b[0m \u001b[43m            \u001b[49m\u001b[43mencoding\u001b[49m\u001b[38;5;241;43m=\u001b[39;49m\u001b[43mioargs\u001b[49m\u001b[38;5;241;43m.\u001b[39;49m\u001b[43mencoding\u001b[49m\u001b[43m,\u001b[49m\n\u001b[1;32m    790\u001b[0m \u001b[43m            \u001b[49m\u001b[43merrors\u001b[49m\u001b[38;5;241;43m=\u001b[39;49m\u001b[43merrors\u001b[49m\u001b[43m,\u001b[49m\n\u001b[1;32m    791\u001b[0m \u001b[43m            \u001b[49m\u001b[43mnewline\u001b[49m\u001b[38;5;241;43m=\u001b[39;49m\u001b[38;5;124;43m\"\u001b[39;49m\u001b[38;5;124;43m\"\u001b[39;49m\u001b[43m,\u001b[49m\n\u001b[1;32m    792\u001b[0m \u001b[43m        \u001b[49m\u001b[43m)\u001b[49m\n\u001b[1;32m    793\u001b[0m     \u001b[38;5;28;01melse\u001b[39;00m:\n\u001b[1;32m    794\u001b[0m         \u001b[38;5;66;03m# Binary mode\u001b[39;00m\n\u001b[1;32m    795\u001b[0m         handle \u001b[38;5;241m=\u001b[39m \u001b[38;5;28mopen\u001b[39m(handle, ioargs\u001b[38;5;241m.\u001b[39mmode)\n",
      "\u001b[0;31mFileNotFoundError\u001b[0m: [Errno 2] No such file or directory: '../raw_data/yourpaintings/df_yourpaintings.csv'"
     ]
    }
   ],
   "source": [
    "imgs, df = utils.resize_rescale()"
   ]
  },
  {
   "cell_type": "code",
   "execution_count": 3,
   "id": "0d602f4a",
   "metadata": {
    "ExecuteTime": {
     "end_time": "2022-09-10T06:00:00.762676Z",
     "start_time": "2022-09-10T05:59:59.156216Z"
    }
   },
   "outputs": [
    {
     "ename": "FileNotFoundError",
     "evalue": "[Errno 2] No such file or directory: '../raw_data/yourpaintings_sm/NID_QUB_QUB_264-001.jpg'",
     "output_type": "error",
     "traceback": [
      "\u001b[0;31m---------------------------------------------------------------------------\u001b[0m",
      "\u001b[0;31mFileNotFoundError\u001b[0m                         Traceback (most recent call last)",
      "Input \u001b[0;32mIn [3]\u001b[0m, in \u001b[0;36m<cell line: 1>\u001b[0;34m()\u001b[0m\n\u001b[0;32m----> 1\u001b[0m X, y \u001b[38;5;241m=\u001b[39m \u001b[43mutils\u001b[49m\u001b[38;5;241;43m.\u001b[39;49m\u001b[43mload_data\u001b[49m\u001b[43m(\u001b[49m\u001b[43m)\u001b[49m\n",
      "File \u001b[0;32m~/code/erniesg/art_api/art_api/utils.py:22\u001b[0m, in \u001b[0;36mload_data\u001b[0;34m()\u001b[0m\n\u001b[1;32m     20\u001b[0m \u001b[38;5;28;01mfor\u001b[39;00m index, row \u001b[38;5;129;01min\u001b[39;00m df\u001b[38;5;241m.\u001b[39miterrows():\n\u001b[1;32m     21\u001b[0m     img_file \u001b[38;5;241m=\u001b[39m \u001b[38;5;28mstr\u001b[39m(row[\u001b[38;5;124m\"\u001b[39m\u001b[38;5;124mfilename\u001b[39m\u001b[38;5;124m\"\u001b[39m])\n\u001b[0;32m---> 22\u001b[0m     image \u001b[38;5;241m=\u001b[39m \u001b[43mImage\u001b[49m\u001b[38;5;241;43m.\u001b[39;49m\u001b[43mopen\u001b[49m\u001b[43m(\u001b[49m\u001b[43mos\u001b[49m\u001b[38;5;241;43m.\u001b[39;49m\u001b[43mpath\u001b[49m\u001b[38;5;241;43m.\u001b[39;49m\u001b[43mjoin\u001b[49m\u001b[43m(\u001b[49m\u001b[43mconfig\u001b[49m\u001b[38;5;241;43m.\u001b[39;49m\u001b[43mPATH_YOURPAINTINGS_SM\u001b[49m\u001b[43m,\u001b[49m\u001b[43m \u001b[49m\u001b[43mimg_file\u001b[49m\u001b[43m)\u001b[49m\u001b[43m)\u001b[49m   \n\u001b[1;32m     23\u001b[0m     imgs\u001b[38;5;241m.\u001b[39mappend(np\u001b[38;5;241m.\u001b[39marray(image))\n\u001b[1;32m     24\u001b[0m     X \u001b[38;5;241m=\u001b[39m np\u001b[38;5;241m.\u001b[39marray(imgs)\n",
      "File \u001b[0;32m~/.pyenv/versions/lewagon/lib/python3.8/site-packages/PIL/Image.py:3092\u001b[0m, in \u001b[0;36mopen\u001b[0;34m(fp, mode, formats)\u001b[0m\n\u001b[1;32m   3089\u001b[0m     filename \u001b[38;5;241m=\u001b[39m fp\n\u001b[1;32m   3091\u001b[0m \u001b[38;5;28;01mif\u001b[39;00m filename:\n\u001b[0;32m-> 3092\u001b[0m     fp \u001b[38;5;241m=\u001b[39m \u001b[43mbuiltins\u001b[49m\u001b[38;5;241;43m.\u001b[39;49m\u001b[43mopen\u001b[49m\u001b[43m(\u001b[49m\u001b[43mfilename\u001b[49m\u001b[43m,\u001b[49m\u001b[43m \u001b[49m\u001b[38;5;124;43m\"\u001b[39;49m\u001b[38;5;124;43mrb\u001b[39;49m\u001b[38;5;124;43m\"\u001b[39;49m\u001b[43m)\u001b[49m\n\u001b[1;32m   3093\u001b[0m     exclusive_fp \u001b[38;5;241m=\u001b[39m \u001b[38;5;28;01mTrue\u001b[39;00m\n\u001b[1;32m   3095\u001b[0m \u001b[38;5;28;01mtry\u001b[39;00m:\n",
      "\u001b[0;31mFileNotFoundError\u001b[0m: [Errno 2] No such file or directory: '../raw_data/yourpaintings_sm/NID_QUB_QUB_264-001.jpg'"
     ]
    }
   ],
   "source": [
    "X, y = utils.load_data()"
   ]
  },
  {
   "cell_type": "code",
   "execution_count": 11,
   "id": "f1fb73df",
   "metadata": {
    "ExecuteTime": {
     "end_time": "2022-09-10T06:18:30.528681Z",
     "start_time": "2022-09-10T06:18:30.378644Z"
    }
   },
   "outputs": [],
   "source": [
    "!cd ../raw_data/yourpaintings"
   ]
  },
  {
   "cell_type": "code",
   "execution_count": 16,
   "id": "56c1c23b",
   "metadata": {
    "ExecuteTime": {
     "end_time": "2022-09-10T04:12:31.106803Z",
     "start_time": "2022-09-10T04:12:31.077324Z"
    }
   },
   "outputs": [
    {
     "data": {
      "text/plain": [
       "aeroplane       195\n",
       "bird            781\n",
       "boat           2050\n",
       "chair          1147\n",
       "cow             603\n",
       "diningtable    1161\n",
       "dog            1108\n",
       "horse          1448\n",
       "sheep           721\n",
       "train           324\n",
       "dtype: int64"
      ]
     },
     "execution_count": 16,
     "metadata": {},
     "output_type": "execute_result"
    }
   ],
   "source": [
    "df.drop(columns=['Image URL', 'Web page URL', 'Subset', 'Labels', 'filename',\n",
    "       'labels']).sum()"
   ]
  },
  {
   "cell_type": "code",
   "execution_count": 15,
   "id": "993d5f46",
   "metadata": {
    "ExecuteTime": {
     "end_time": "2022-09-10T03:23:18.954313Z",
     "start_time": "2022-09-10T03:23:18.924689Z"
    }
   },
   "outputs": [
    {
     "data": {
      "text/plain": [
       "['Image URL', 'Web page URL', 'filename']"
      ]
     },
     "execution_count": 15,
     "metadata": {},
     "output_type": "execute_result"
    }
   ],
   "source": [
    "mlsmote.get_tail_label(df)"
   ]
  },
  {
   "cell_type": "code",
   "execution_count": 12,
   "id": "9baa7e86",
   "metadata": {
    "ExecuteTime": {
     "end_time": "2022-09-10T07:18:59.915900Z",
     "start_time": "2022-09-10T07:18:59.858166Z"
    }
   },
   "outputs": [],
   "source": [
    "X_, y_ = mlsmote.create_dataset()"
   ]
  },
  {
   "cell_type": "code",
   "execution_count": 13,
   "id": "a0b3db63",
   "metadata": {
    "ExecuteTime": {
     "end_time": "2022-09-10T07:19:00.305055Z",
     "start_time": "2022-09-10T07:19:00.298831Z"
    }
   },
   "outputs": [
    {
     "data": {
      "text/plain": [
       "(1000, 5)"
      ]
     },
     "execution_count": 13,
     "metadata": {},
     "output_type": "execute_result"
    }
   ],
   "source": [
    "X_.shape\n",
    "y_.shape"
   ]
  },
  {
   "cell_type": "code",
   "execution_count": 14,
   "id": "f4cbc51a",
   "metadata": {
    "ExecuteTime": {
     "end_time": "2022-09-10T07:19:01.196638Z",
     "start_time": "2022-09-10T07:19:01.188799Z"
    }
   },
   "outputs": [
    {
     "data": {
      "text/plain": [
       "(1000, 10)"
      ]
     },
     "execution_count": 14,
     "metadata": {},
     "output_type": "execute_result"
    }
   ],
   "source": [
    "X_.shape"
   ]
  },
  {
   "cell_type": "code",
   "execution_count": 24,
   "id": "51011d6b",
   "metadata": {
    "ExecuteTime": {
     "end_time": "2022-09-10T07:24:46.375327Z",
     "start_time": "2022-09-10T07:24:46.347828Z"
    }
   },
   "outputs": [
    {
     "data": {
      "text/html": [
       "<div>\n",
       "<style scoped>\n",
       "    .dataframe tbody tr th:only-of-type {\n",
       "        vertical-align: middle;\n",
       "    }\n",
       "\n",
       "    .dataframe tbody tr th {\n",
       "        vertical-align: top;\n",
       "    }\n",
       "\n",
       "    .dataframe thead th {\n",
       "        text-align: right;\n",
       "    }\n",
       "</style>\n",
       "<table border=\"1\" class=\"dataframe\">\n",
       "  <thead>\n",
       "    <tr style=\"text-align: right;\">\n",
       "      <th></th>\n",
       "      <th>0</th>\n",
       "      <th>1</th>\n",
       "      <th>2</th>\n",
       "      <th>3</th>\n",
       "      <th>4</th>\n",
       "      <th>5</th>\n",
       "      <th>6</th>\n",
       "      <th>7</th>\n",
       "      <th>8</th>\n",
       "      <th>9</th>\n",
       "    </tr>\n",
       "  </thead>\n",
       "  <tbody>\n",
       "    <tr>\n",
       "      <th>0</th>\n",
       "      <td>-1.700263</td>\n",
       "      <td>0.602477</td>\n",
       "      <td>-2.478509</td>\n",
       "      <td>0.433484</td>\n",
       "      <td>1.109780</td>\n",
       "      <td>-0.246891</td>\n",
       "      <td>0.525389</td>\n",
       "      <td>-1.902413</td>\n",
       "      <td>1.991422</td>\n",
       "      <td>-1.848972</td>\n",
       "    </tr>\n",
       "    <tr>\n",
       "      <th>1</th>\n",
       "      <td>2.267874</td>\n",
       "      <td>-0.350847</td>\n",
       "      <td>2.187252</td>\n",
       "      <td>-0.769722</td>\n",
       "      <td>0.601022</td>\n",
       "      <td>-0.234049</td>\n",
       "      <td>-1.844444</td>\n",
       "      <td>2.092082</td>\n",
       "      <td>2.299990</td>\n",
       "      <td>-2.585919</td>\n",
       "    </tr>\n",
       "    <tr>\n",
       "      <th>2</th>\n",
       "      <td>-1.207028</td>\n",
       "      <td>0.230167</td>\n",
       "      <td>-2.035403</td>\n",
       "      <td>-0.401339</td>\n",
       "      <td>0.595955</td>\n",
       "      <td>2.066251</td>\n",
       "      <td>-2.311038</td>\n",
       "      <td>-1.804673</td>\n",
       "      <td>2.197500</td>\n",
       "      <td>-2.106087</td>\n",
       "    </tr>\n",
       "    <tr>\n",
       "      <th>3</th>\n",
       "      <td>-1.326205</td>\n",
       "      <td>-1.417870</td>\n",
       "      <td>2.085587</td>\n",
       "      <td>-0.453313</td>\n",
       "      <td>0.457689</td>\n",
       "      <td>0.868153</td>\n",
       "      <td>0.784653</td>\n",
       "      <td>2.348514</td>\n",
       "      <td>2.546447</td>\n",
       "      <td>-2.829462</td>\n",
       "    </tr>\n",
       "    <tr>\n",
       "      <th>4</th>\n",
       "      <td>-0.781795</td>\n",
       "      <td>1.495530</td>\n",
       "      <td>-2.194913</td>\n",
       "      <td>-0.264658</td>\n",
       "      <td>0.906237</td>\n",
       "      <td>-0.633937</td>\n",
       "      <td>-0.907535</td>\n",
       "      <td>-2.706511</td>\n",
       "      <td>1.255595</td>\n",
       "      <td>-1.120307</td>\n",
       "    </tr>\n",
       "    <tr>\n",
       "      <th>...</th>\n",
       "      <td>...</td>\n",
       "      <td>...</td>\n",
       "      <td>...</td>\n",
       "      <td>...</td>\n",
       "      <td>...</td>\n",
       "      <td>...</td>\n",
       "      <td>...</td>\n",
       "      <td>...</td>\n",
       "      <td>...</td>\n",
       "      <td>...</td>\n",
       "    </tr>\n",
       "    <tr>\n",
       "      <th>995</th>\n",
       "      <td>-2.287050</td>\n",
       "      <td>-0.298746</td>\n",
       "      <td>1.586469</td>\n",
       "      <td>-0.464742</td>\n",
       "      <td>1.103363</td>\n",
       "      <td>1.050799</td>\n",
       "      <td>0.960210</td>\n",
       "      <td>-2.157864</td>\n",
       "      <td>2.600376</td>\n",
       "      <td>-2.887021</td>\n",
       "    </tr>\n",
       "    <tr>\n",
       "      <th>996</th>\n",
       "      <td>-0.027245</td>\n",
       "      <td>1.842409</td>\n",
       "      <td>1.793464</td>\n",
       "      <td>0.013021</td>\n",
       "      <td>0.980886</td>\n",
       "      <td>-0.037242</td>\n",
       "      <td>-0.309943</td>\n",
       "      <td>-2.104098</td>\n",
       "      <td>-2.168505</td>\n",
       "      <td>2.055803</td>\n",
       "    </tr>\n",
       "    <tr>\n",
       "      <th>997</th>\n",
       "      <td>0.833553</td>\n",
       "      <td>-0.130508</td>\n",
       "      <td>-1.954786</td>\n",
       "      <td>-0.074340</td>\n",
       "      <td>-0.410230</td>\n",
       "      <td>0.837448</td>\n",
       "      <td>-1.627014</td>\n",
       "      <td>-1.333642</td>\n",
       "      <td>2.935449</td>\n",
       "      <td>-2.876682</td>\n",
       "    </tr>\n",
       "    <tr>\n",
       "      <th>998</th>\n",
       "      <td>-1.088050</td>\n",
       "      <td>-0.213819</td>\n",
       "      <td>-2.207270</td>\n",
       "      <td>-1.106803</td>\n",
       "      <td>-1.096291</td>\n",
       "      <td>0.722919</td>\n",
       "      <td>0.833781</td>\n",
       "      <td>-2.433188</td>\n",
       "      <td>1.347741</td>\n",
       "      <td>-1.211900</td>\n",
       "    </tr>\n",
       "    <tr>\n",
       "      <th>999</th>\n",
       "      <td>-1.362358</td>\n",
       "      <td>-0.403978</td>\n",
       "      <td>1.259684</td>\n",
       "      <td>0.577863</td>\n",
       "      <td>-0.195878</td>\n",
       "      <td>0.978582</td>\n",
       "      <td>-0.365017</td>\n",
       "      <td>-1.288222</td>\n",
       "      <td>0.725782</td>\n",
       "      <td>-0.894189</td>\n",
       "    </tr>\n",
       "  </tbody>\n",
       "</table>\n",
       "<p>1000 rows × 10 columns</p>\n",
       "</div>"
      ],
      "text/plain": [
       "            0         1         2         3         4         5         6  \\\n",
       "0   -1.700263  0.602477 -2.478509  0.433484  1.109780 -0.246891  0.525389   \n",
       "1    2.267874 -0.350847  2.187252 -0.769722  0.601022 -0.234049 -1.844444   \n",
       "2   -1.207028  0.230167 -2.035403 -0.401339  0.595955  2.066251 -2.311038   \n",
       "3   -1.326205 -1.417870  2.085587 -0.453313  0.457689  0.868153  0.784653   \n",
       "4   -0.781795  1.495530 -2.194913 -0.264658  0.906237 -0.633937 -0.907535   \n",
       "..        ...       ...       ...       ...       ...       ...       ...   \n",
       "995 -2.287050 -0.298746  1.586469 -0.464742  1.103363  1.050799  0.960210   \n",
       "996 -0.027245  1.842409  1.793464  0.013021  0.980886 -0.037242 -0.309943   \n",
       "997  0.833553 -0.130508 -1.954786 -0.074340 -0.410230  0.837448 -1.627014   \n",
       "998 -1.088050 -0.213819 -2.207270 -1.106803 -1.096291  0.722919  0.833781   \n",
       "999 -1.362358 -0.403978  1.259684  0.577863 -0.195878  0.978582 -0.365017   \n",
       "\n",
       "            7         8         9  \n",
       "0   -1.902413  1.991422 -1.848972  \n",
       "1    2.092082  2.299990 -2.585919  \n",
       "2   -1.804673  2.197500 -2.106087  \n",
       "3    2.348514  2.546447 -2.829462  \n",
       "4   -2.706511  1.255595 -1.120307  \n",
       "..        ...       ...       ...  \n",
       "995 -2.157864  2.600376 -2.887021  \n",
       "996 -2.104098 -2.168505  2.055803  \n",
       "997 -1.333642  2.935449 -2.876682  \n",
       "998 -2.433188  1.347741 -1.211900  \n",
       "999 -1.288222  0.725782 -0.894189  \n",
       "\n",
       "[1000 rows x 10 columns]"
      ]
     },
     "execution_count": 24,
     "metadata": {},
     "output_type": "execute_result"
    }
   ],
   "source": [
    "X_"
   ]
  },
  {
   "cell_type": "code",
   "execution_count": 15,
   "id": "71dc41c6",
   "metadata": {
    "ExecuteTime": {
     "end_time": "2022-09-10T07:19:02.012602Z",
     "start_time": "2022-09-10T07:19:01.998326Z"
    }
   },
   "outputs": [
    {
     "data": {
      "text/html": [
       "<div>\n",
       "<style scoped>\n",
       "    .dataframe tbody tr th:only-of-type {\n",
       "        vertical-align: middle;\n",
       "    }\n",
       "\n",
       "    .dataframe tbody tr th {\n",
       "        vertical-align: top;\n",
       "    }\n",
       "\n",
       "    .dataframe thead th {\n",
       "        text-align: right;\n",
       "    }\n",
       "</style>\n",
       "<table border=\"1\" class=\"dataframe\">\n",
       "  <thead>\n",
       "    <tr style=\"text-align: right;\">\n",
       "      <th></th>\n",
       "      <th>class_0</th>\n",
       "      <th>class_1</th>\n",
       "      <th>class_2</th>\n",
       "      <th>class_3</th>\n",
       "      <th>class_4</th>\n",
       "    </tr>\n",
       "  </thead>\n",
       "  <tbody>\n",
       "    <tr>\n",
       "      <th>0</th>\n",
       "      <td>0</td>\n",
       "      <td>0</td>\n",
       "      <td>0</td>\n",
       "      <td>0</td>\n",
       "      <td>1</td>\n",
       "    </tr>\n",
       "    <tr>\n",
       "      <th>1</th>\n",
       "      <td>0</td>\n",
       "      <td>0</td>\n",
       "      <td>1</td>\n",
       "      <td>0</td>\n",
       "      <td>0</td>\n",
       "    </tr>\n",
       "    <tr>\n",
       "      <th>2</th>\n",
       "      <td>0</td>\n",
       "      <td>0</td>\n",
       "      <td>0</td>\n",
       "      <td>0</td>\n",
       "      <td>1</td>\n",
       "    </tr>\n",
       "    <tr>\n",
       "      <th>3</th>\n",
       "      <td>0</td>\n",
       "      <td>0</td>\n",
       "      <td>1</td>\n",
       "      <td>0</td>\n",
       "      <td>0</td>\n",
       "    </tr>\n",
       "    <tr>\n",
       "      <th>4</th>\n",
       "      <td>0</td>\n",
       "      <td>0</td>\n",
       "      <td>0</td>\n",
       "      <td>0</td>\n",
       "      <td>1</td>\n",
       "    </tr>\n",
       "    <tr>\n",
       "      <th>...</th>\n",
       "      <td>...</td>\n",
       "      <td>...</td>\n",
       "      <td>...</td>\n",
       "      <td>...</td>\n",
       "      <td>...</td>\n",
       "    </tr>\n",
       "    <tr>\n",
       "      <th>995</th>\n",
       "      <td>1</td>\n",
       "      <td>0</td>\n",
       "      <td>0</td>\n",
       "      <td>0</td>\n",
       "      <td>0</td>\n",
       "    </tr>\n",
       "    <tr>\n",
       "      <th>996</th>\n",
       "      <td>0</td>\n",
       "      <td>1</td>\n",
       "      <td>0</td>\n",
       "      <td>0</td>\n",
       "      <td>0</td>\n",
       "    </tr>\n",
       "    <tr>\n",
       "      <th>997</th>\n",
       "      <td>0</td>\n",
       "      <td>0</td>\n",
       "      <td>0</td>\n",
       "      <td>0</td>\n",
       "      <td>1</td>\n",
       "    </tr>\n",
       "    <tr>\n",
       "      <th>998</th>\n",
       "      <td>0</td>\n",
       "      <td>0</td>\n",
       "      <td>0</td>\n",
       "      <td>0</td>\n",
       "      <td>1</td>\n",
       "    </tr>\n",
       "    <tr>\n",
       "      <th>999</th>\n",
       "      <td>1</td>\n",
       "      <td>0</td>\n",
       "      <td>0</td>\n",
       "      <td>0</td>\n",
       "      <td>0</td>\n",
       "    </tr>\n",
       "  </tbody>\n",
       "</table>\n",
       "<p>1000 rows × 5 columns</p>\n",
       "</div>"
      ],
      "text/plain": [
       "     class_0  class_1  class_2  class_3  class_4\n",
       "0          0        0        0        0        1\n",
       "1          0        0        1        0        0\n",
       "2          0        0        0        0        1\n",
       "3          0        0        1        0        0\n",
       "4          0        0        0        0        1\n",
       "..       ...      ...      ...      ...      ...\n",
       "995        1        0        0        0        0\n",
       "996        0        1        0        0        0\n",
       "997        0        0        0        0        1\n",
       "998        0        0        0        0        1\n",
       "999        1        0        0        0        0\n",
       "\n",
       "[1000 rows x 5 columns]"
      ]
     },
     "execution_count": 15,
     "metadata": {},
     "output_type": "execute_result"
    }
   ],
   "source": [
    "y_"
   ]
  },
  {
   "cell_type": "code",
   "execution_count": 16,
   "id": "99c79b8e",
   "metadata": {
    "ExecuteTime": {
     "end_time": "2022-09-10T07:19:03.657857Z",
     "start_time": "2022-09-10T07:19:03.639767Z"
    }
   },
   "outputs": [
    {
     "data": {
      "text/plain": [
       "['class_1', 'class_3']"
      ]
     },
     "execution_count": 16,
     "metadata": {},
     "output_type": "execute_result"
    }
   ],
   "source": [
    "mlsmote.get_tail_label(y_)"
   ]
  },
  {
   "cell_type": "code",
   "execution_count": 23,
   "id": "d3ceea07",
   "metadata": {
    "ExecuteTime": {
     "end_time": "2022-09-10T07:22:49.500707Z",
     "start_time": "2022-09-10T07:22:49.321735Z"
    }
   },
   "outputs": [],
   "source": [
    "X_sub, y_sub = mlsmote.get_minority_instace(X_, y_)\n",
    "X_res, y_res = mlsmote.MLSMOTE(X_sub, y_sub, 100)"
   ]
  },
  {
   "cell_type": "code",
   "execution_count": 17,
   "id": "6b7ebbd0",
   "metadata": {
    "ExecuteTime": {
     "end_time": "2022-09-10T07:19:06.894013Z",
     "start_time": "2022-09-10T07:19:06.880690Z"
    }
   },
   "outputs": [
    {
     "data": {
      "text/plain": [
       "['aeroplane', 'cow', 'train']"
      ]
     },
     "execution_count": 17,
     "metadata": {},
     "output_type": "execute_result"
    }
   ],
   "source": [
    "mlsmote.get_tail_label(y)"
   ]
  },
  {
   "cell_type": "code",
   "execution_count": 6,
   "id": "b4cfd7f6",
   "metadata": {
    "ExecuteTime": {
     "end_time": "2022-09-10T07:42:17.503821Z",
     "start_time": "2022-09-10T07:42:17.498237Z"
    }
   },
   "outputs": [
    {
     "name": "stdout",
     "output_type": "stream",
     "text": [
      "<class 'numpy.ndarray'>\n",
      "<class 'pandas.core.frame.DataFrame'>\n"
     ]
    }
   ],
   "source": [
    "print(type(X))\n",
    "print(type(y))\n",
    "X = pd.DataFrame(X)"
   ]
  },
  {
   "cell_type": "code",
   "execution_count": 8,
   "id": "8f63f05a",
   "metadata": {
    "ExecuteTime": {
     "end_time": "2022-09-10T07:42:46.196557Z",
     "start_time": "2022-09-10T07:42:33.244835Z"
    }
   },
   "outputs": [
    {
     "data": {
      "text/html": [
       "<div>\n",
       "<style scoped>\n",
       "    .dataframe tbody tr th:only-of-type {\n",
       "        vertical-align: middle;\n",
       "    }\n",
       "\n",
       "    .dataframe tbody tr th {\n",
       "        vertical-align: top;\n",
       "    }\n",
       "\n",
       "    .dataframe thead th {\n",
       "        text-align: right;\n",
       "    }\n",
       "</style>\n",
       "<table border=\"1\" class=\"dataframe\">\n",
       "  <thead>\n",
       "    <tr style=\"text-align: right;\">\n",
       "      <th></th>\n",
       "      <th>0</th>\n",
       "    </tr>\n",
       "  </thead>\n",
       "  <tbody>\n",
       "    <tr>\n",
       "      <th>0</th>\n",
       "      <td>[[[255, 145, 8], [255, 147, 10], [255, 149, 12...</td>\n",
       "    </tr>\n",
       "    <tr>\n",
       "      <th>1</th>\n",
       "      <td>[[[174, 166, 145], [172, 164, 145], [170, 161,...</td>\n",
       "    </tr>\n",
       "    <tr>\n",
       "      <th>2</th>\n",
       "      <td>[[[107, 174, 165], [107, 174, 165], [108, 174,...</td>\n",
       "    </tr>\n",
       "    <tr>\n",
       "      <th>3</th>\n",
       "      <td>[[[87, 94, 113], [87, 94, 113], [89, 95, 117],...</td>\n",
       "    </tr>\n",
       "    <tr>\n",
       "      <th>4</th>\n",
       "      <td>[[[151, 170, 166], [151, 170, 166], [151, 170,...</td>\n",
       "    </tr>\n",
       "  </tbody>\n",
       "</table>\n",
       "</div>"
      ],
      "text/plain": [
       "                                                   0\n",
       "0  [[[255, 145, 8], [255, 147, 10], [255, 149, 12...\n",
       "1  [[[174, 166, 145], [172, 164, 145], [170, 161,...\n",
       "2  [[[107, 174, 165], [107, 174, 165], [108, 174,...\n",
       "3  [[[87, 94, 113], [87, 94, 113], [89, 95, 117],...\n",
       "4  [[[151, 170, 166], [151, 170, 166], [151, 170,..."
      ]
     },
     "execution_count": 8,
     "metadata": {},
     "output_type": "execute_result"
    }
   ],
   "source": [
    "X.head()"
   ]
  },
  {
   "cell_type": "code",
   "execution_count": 9,
   "id": "3763034e",
   "metadata": {
    "ExecuteTime": {
     "end_time": "2022-09-10T07:42:46.213258Z",
     "start_time": "2022-09-10T07:42:46.199599Z"
    }
   },
   "outputs": [],
   "source": [
    "from art_api import mlsmote\n",
    "\n",
    "X_sub, y_sub = mlsmote.get_minority_instace(X, y)\n",
    "#X_res, y_res = mlsmote.MLSMOTE(X_sub, y_sub, 100)"
   ]
  },
  {
   "cell_type": "code",
   "execution_count": 10,
   "id": "a82f6849",
   "metadata": {
    "ExecuteTime": {
     "end_time": "2022-09-10T07:43:16.700874Z",
     "start_time": "2022-09-10T07:42:51.518156Z"
    }
   },
   "outputs": [
    {
     "data": {
      "text/html": [
       "<div>\n",
       "<style scoped>\n",
       "    .dataframe tbody tr th:only-of-type {\n",
       "        vertical-align: middle;\n",
       "    }\n",
       "\n",
       "    .dataframe tbody tr th {\n",
       "        vertical-align: top;\n",
       "    }\n",
       "\n",
       "    .dataframe thead th {\n",
       "        text-align: right;\n",
       "    }\n",
       "</style>\n",
       "<table border=\"1\" class=\"dataframe\">\n",
       "  <thead>\n",
       "    <tr style=\"text-align: right;\">\n",
       "      <th></th>\n",
       "      <th>0</th>\n",
       "    </tr>\n",
       "  </thead>\n",
       "  <tbody>\n",
       "    <tr>\n",
       "      <th>0</th>\n",
       "      <td>[[[255, 145, 8], [255, 147, 10], [255, 149, 12...</td>\n",
       "    </tr>\n",
       "    <tr>\n",
       "      <th>1</th>\n",
       "      <td>[[[174, 166, 145], [172, 164, 145], [170, 161,...</td>\n",
       "    </tr>\n",
       "    <tr>\n",
       "      <th>2</th>\n",
       "      <td>[[[107, 174, 165], [107, 174, 165], [108, 174,...</td>\n",
       "    </tr>\n",
       "    <tr>\n",
       "      <th>3</th>\n",
       "      <td>[[[87, 94, 113], [87, 94, 113], [89, 95, 117],...</td>\n",
       "    </tr>\n",
       "    <tr>\n",
       "      <th>4</th>\n",
       "      <td>[[[171, 102, 61], [187, 120, 78], [182, 115, 7...</td>\n",
       "    </tr>\n",
       "    <tr>\n",
       "      <th>...</th>\n",
       "      <td>...</td>\n",
       "    </tr>\n",
       "    <tr>\n",
       "      <th>1114</th>\n",
       "      <td>[[[136, 136, 102], [137, 137, 103], [132, 132,...</td>\n",
       "    </tr>\n",
       "    <tr>\n",
       "      <th>1115</th>\n",
       "      <td>[[[236, 234, 219], [236, 234, 221], [236, 234,...</td>\n",
       "    </tr>\n",
       "    <tr>\n",
       "      <th>1116</th>\n",
       "      <td>[[[242, 253, 247], [242, 253, 247], [242, 253,...</td>\n",
       "    </tr>\n",
       "    <tr>\n",
       "      <th>1117</th>\n",
       "      <td>[[[37, 29, 6], [40, 32, 11], [51, 43, 24], [51...</td>\n",
       "    </tr>\n",
       "    <tr>\n",
       "      <th>1118</th>\n",
       "      <td>[[[103, 116, 124], [102, 115, 123], [100, 113,...</td>\n",
       "    </tr>\n",
       "  </tbody>\n",
       "</table>\n",
       "<p>1119 rows × 1 columns</p>\n",
       "</div>"
      ],
      "text/plain": [
       "                                                      0\n",
       "0     [[[255, 145, 8], [255, 147, 10], [255, 149, 12...\n",
       "1     [[[174, 166, 145], [172, 164, 145], [170, 161,...\n",
       "2     [[[107, 174, 165], [107, 174, 165], [108, 174,...\n",
       "3     [[[87, 94, 113], [87, 94, 113], [89, 95, 117],...\n",
       "4     [[[171, 102, 61], [187, 120, 78], [182, 115, 7...\n",
       "...                                                 ...\n",
       "1114  [[[136, 136, 102], [137, 137, 103], [132, 132,...\n",
       "1115  [[[236, 234, 219], [236, 234, 221], [236, 234,...\n",
       "1116  [[[242, 253, 247], [242, 253, 247], [242, 253,...\n",
       "1117  [[[37, 29, 6], [40, 32, 11], [51, 43, 24], [51...\n",
       "1118  [[[103, 116, 124], [102, 115, 123], [100, 113,...\n",
       "\n",
       "[1119 rows x 1 columns]"
      ]
     },
     "execution_count": 10,
     "metadata": {},
     "output_type": "execute_result"
    }
   ],
   "source": [
    "X_sub"
   ]
  },
  {
   "cell_type": "code",
   "execution_count": 16,
   "id": "ea9d6a26",
   "metadata": {
    "ExecuteTime": {
     "end_time": "2022-09-10T07:44:39.326268Z",
     "start_time": "2022-09-10T07:44:26.230652Z"
    }
   },
   "outputs": [
    {
     "data": {
      "text/plain": [
       "0       [[[255, 145, 8], [255, 147, 10], [255, 149, 12...\n",
       "1       [[[174, 166, 145], [172, 164, 145], [170, 161,...\n",
       "2       [[[107, 174, 165], [107, 174, 165], [108, 174,...\n",
       "3       [[[87, 94, 113], [87, 94, 113], [89, 95, 117],...\n",
       "4       [[[171, 102, 61], [187, 120, 78], [182, 115, 7...\n",
       "                              ...                        \n",
       "1114    [[[136, 136, 102], [137, 137, 103], [132, 132,...\n",
       "1115    [[[236, 234, 219], [236, 234, 221], [236, 234,...\n",
       "1116    [[[242, 253, 247], [242, 253, 247], [242, 253,...\n",
       "1117    [[[37, 29, 6], [40, 32, 11], [51, 43, 24], [51...\n",
       "1118    [[[103, 116, 124], [102, 115, 123], [100, 113,...\n",
       "Name: 0, Length: 1119, dtype: object"
      ]
     },
     "execution_count": 16,
     "metadata": {},
     "output_type": "execute_result"
    }
   ],
   "source": [
    "X_sub[0]"
   ]
  },
  {
   "cell_type": "code",
   "execution_count": 17,
   "id": "5a662d8f",
   "metadata": {
    "ExecuteTime": {
     "end_time": "2022-09-10T07:44:39.337189Z",
     "start_time": "2022-09-10T07:44:39.329771Z"
    }
   },
   "outputs": [
    {
     "data": {
      "text/plain": [
       "(1119,)"
      ]
     },
     "execution_count": 17,
     "metadata": {},
     "output_type": "execute_result"
    }
   ],
   "source": [
    "X_sub[0].shape"
   ]
  },
  {
   "cell_type": "code",
   "execution_count": 32,
   "id": "270a23f9",
   "metadata": {
    "ExecuteTime": {
     "end_time": "2022-09-10T07:30:12.881773Z",
     "start_time": "2022-09-10T07:30:12.870293Z"
    }
   },
   "outputs": [
    {
     "data": {
      "text/plain": [
       "aeroplane      195\n",
       "bird            31\n",
       "boat            35\n",
       "chair            5\n",
       "cow            603\n",
       "diningtable      9\n",
       "dog             52\n",
       "horse           62\n",
       "sheep           86\n",
       "train          324\n",
       "dtype: int64"
      ]
     },
     "execution_count": 32,
     "metadata": {},
     "output_type": "execute_result"
    }
   ],
   "source": [
    "y_sub.sum()"
   ]
  },
  {
   "cell_type": "code",
   "execution_count": 35,
   "id": "a86b9db4",
   "metadata": {
    "ExecuteTime": {
     "end_time": "2022-09-10T07:32:52.716486Z",
     "start_time": "2022-09-10T07:32:52.585950Z"
    }
   },
   "outputs": [
    {
     "ename": "ValueError",
     "evalue": "setting an array element with a sequence.",
     "output_type": "error",
     "traceback": [
      "\u001b[0;31m---------------------------------------------------------------------------\u001b[0m",
      "\u001b[0;31mTypeError\u001b[0m                                 Traceback (most recent call last)",
      "\u001b[0;31mTypeError\u001b[0m: only size-1 arrays can be converted to Python scalars",
      "\nThe above exception was the direct cause of the following exception:\n",
      "\u001b[0;31mValueError\u001b[0m                                Traceback (most recent call last)",
      "Input \u001b[0;32mIn [35]\u001b[0m, in \u001b[0;36m<cell line: 1>\u001b[0;34m()\u001b[0m\n\u001b[0;32m----> 1\u001b[0m X_res, y_res \u001b[38;5;241m=\u001b[39m \u001b[43mmlsmote\u001b[49m\u001b[38;5;241;43m.\u001b[39;49m\u001b[43mMLSMOTE\u001b[49m\u001b[43m(\u001b[49m\u001b[43mX_sub\u001b[49m\u001b[43m,\u001b[49m\u001b[43m \u001b[49m\u001b[43my_sub\u001b[49m\u001b[43m,\u001b[49m\u001b[43m \u001b[49m\u001b[38;5;241;43m100\u001b[39;49m\u001b[43m)\u001b[49m\n",
      "File \u001b[0;32m~/code/erniesg/art_api/art_api/mlsmote.py:108\u001b[0m, in \u001b[0;36mMLSMOTE\u001b[0;34m(X, y, n_sample)\u001b[0m\n\u001b[1;32m     95\u001b[0m \u001b[38;5;28;01mdef\u001b[39;00m \u001b[38;5;21mMLSMOTE\u001b[39m(X,y, n_sample):\n\u001b[1;32m     96\u001b[0m     \u001b[38;5;124;03m\"\"\"\u001b[39;00m\n\u001b[1;32m     97\u001b[0m \u001b[38;5;124;03m    Give the augmented data using MLSMOTE algorithm\u001b[39;00m\n\u001b[1;32m     98\u001b[0m \u001b[38;5;124;03m    \u001b[39;00m\n\u001b[0;32m   (...)\u001b[0m\n\u001b[1;32m    106\u001b[0m \u001b[38;5;124;03m    target: pandas.DataFrame, augmented target vector data\u001b[39;00m\n\u001b[1;32m    107\u001b[0m \u001b[38;5;124;03m    \"\"\"\u001b[39;00m\n\u001b[0;32m--> 108\u001b[0m     indices2 \u001b[38;5;241m=\u001b[39m \u001b[43mnearest_neighbour\u001b[49m\u001b[43m(\u001b[49m\u001b[43mX\u001b[49m\u001b[43m)\u001b[49m\n\u001b[1;32m    109\u001b[0m     n \u001b[38;5;241m=\u001b[39m \u001b[38;5;28mlen\u001b[39m(indices2)\n\u001b[1;32m    110\u001b[0m     new_X \u001b[38;5;241m=\u001b[39m np\u001b[38;5;241m.\u001b[39mzeros((n_sample, X\u001b[38;5;241m.\u001b[39mshape[\u001b[38;5;241m1\u001b[39m]))\n",
      "File \u001b[0;32m~/code/erniesg/art_api/art_api/mlsmote.py:91\u001b[0m, in \u001b[0;36mnearest_neighbour\u001b[0;34m(X)\u001b[0m\n\u001b[1;32m     81\u001b[0m \u001b[38;5;28;01mdef\u001b[39;00m \u001b[38;5;21mnearest_neighbour\u001b[39m(X):\n\u001b[1;32m     82\u001b[0m     \u001b[38;5;124;03m\"\"\"\u001b[39;00m\n\u001b[1;32m     83\u001b[0m \u001b[38;5;124;03m    Give index of 5 nearest neighbor of all the instance\u001b[39;00m\n\u001b[1;32m     84\u001b[0m \u001b[38;5;124;03m    \u001b[39;00m\n\u001b[0;32m   (...)\u001b[0m\n\u001b[1;32m     89\u001b[0m \u001b[38;5;124;03m    indices: list of list, index of 5 NN of each element in X\u001b[39;00m\n\u001b[1;32m     90\u001b[0m \u001b[38;5;124;03m    \"\"\"\u001b[39;00m\n\u001b[0;32m---> 91\u001b[0m     nbs\u001b[38;5;241m=\u001b[39m\u001b[43mNearestNeighbors\u001b[49m\u001b[43m(\u001b[49m\u001b[43mn_neighbors\u001b[49m\u001b[38;5;241;43m=\u001b[39;49m\u001b[38;5;241;43m5\u001b[39;49m\u001b[43m,\u001b[49m\u001b[43mmetric\u001b[49m\u001b[38;5;241;43m=\u001b[39;49m\u001b[38;5;124;43m'\u001b[39;49m\u001b[38;5;124;43meuclidean\u001b[39;49m\u001b[38;5;124;43m'\u001b[39;49m\u001b[43m,\u001b[49m\u001b[43malgorithm\u001b[49m\u001b[38;5;241;43m=\u001b[39;49m\u001b[38;5;124;43m'\u001b[39;49m\u001b[38;5;124;43mkd_tree\u001b[39;49m\u001b[38;5;124;43m'\u001b[39;49m\u001b[43m)\u001b[49m\u001b[38;5;241;43m.\u001b[39;49m\u001b[43mfit\u001b[49m\u001b[43m(\u001b[49m\u001b[43mX\u001b[49m\u001b[43m)\u001b[49m\n\u001b[1;32m     92\u001b[0m     euclidean,indices\u001b[38;5;241m=\u001b[39m nbs\u001b[38;5;241m.\u001b[39mkneighbors(X)\n\u001b[1;32m     93\u001b[0m     \u001b[38;5;28;01mreturn\u001b[39;00m indices\n",
      "File \u001b[0;32m~/.pyenv/versions/lewagon/lib/python3.8/site-packages/sklearn/neighbors/_unsupervised.py:175\u001b[0m, in \u001b[0;36mNearestNeighbors.fit\u001b[0;34m(self, X, y)\u001b[0m\n\u001b[1;32m    158\u001b[0m \u001b[38;5;28;01mdef\u001b[39;00m \u001b[38;5;21mfit\u001b[39m(\u001b[38;5;28mself\u001b[39m, X, y\u001b[38;5;241m=\u001b[39m\u001b[38;5;28;01mNone\u001b[39;00m):\n\u001b[1;32m    159\u001b[0m     \u001b[38;5;124;03m\"\"\"Fit the nearest neighbors estimator from the training dataset.\u001b[39;00m\n\u001b[1;32m    160\u001b[0m \n\u001b[1;32m    161\u001b[0m \u001b[38;5;124;03m    Parameters\u001b[39;00m\n\u001b[0;32m   (...)\u001b[0m\n\u001b[1;32m    173\u001b[0m \u001b[38;5;124;03m        The fitted nearest neighbors estimator.\u001b[39;00m\n\u001b[1;32m    174\u001b[0m \u001b[38;5;124;03m    \"\"\"\u001b[39;00m\n\u001b[0;32m--> 175\u001b[0m     \u001b[38;5;28;01mreturn\u001b[39;00m \u001b[38;5;28;43mself\u001b[39;49m\u001b[38;5;241;43m.\u001b[39;49m\u001b[43m_fit\u001b[49m\u001b[43m(\u001b[49m\u001b[43mX\u001b[49m\u001b[43m)\u001b[49m\n",
      "File \u001b[0;32m~/.pyenv/versions/lewagon/lib/python3.8/site-packages/sklearn/neighbors/_base.py:444\u001b[0m, in \u001b[0;36mNeighborsBase._fit\u001b[0;34m(self, X, y)\u001b[0m\n\u001b[1;32m    442\u001b[0m \u001b[38;5;28;01melse\u001b[39;00m:\n\u001b[1;32m    443\u001b[0m     \u001b[38;5;28;01mif\u001b[39;00m \u001b[38;5;129;01mnot\u001b[39;00m \u001b[38;5;28misinstance\u001b[39m(X, (KDTree, BallTree, NeighborsBase)):\n\u001b[0;32m--> 444\u001b[0m         X \u001b[38;5;241m=\u001b[39m \u001b[38;5;28;43mself\u001b[39;49m\u001b[38;5;241;43m.\u001b[39;49m\u001b[43m_validate_data\u001b[49m\u001b[43m(\u001b[49m\u001b[43mX\u001b[49m\u001b[43m,\u001b[49m\u001b[43m \u001b[49m\u001b[43maccept_sparse\u001b[49m\u001b[38;5;241;43m=\u001b[39;49m\u001b[38;5;124;43m\"\u001b[39;49m\u001b[38;5;124;43mcsr\u001b[39;49m\u001b[38;5;124;43m\"\u001b[39;49m\u001b[43m,\u001b[49m\u001b[43m \u001b[49m\u001b[43morder\u001b[49m\u001b[38;5;241;43m=\u001b[39;49m\u001b[38;5;124;43m\"\u001b[39;49m\u001b[38;5;124;43mC\u001b[39;49m\u001b[38;5;124;43m\"\u001b[39;49m\u001b[43m)\u001b[49m\n\u001b[1;32m    446\u001b[0m \u001b[38;5;28mself\u001b[39m\u001b[38;5;241m.\u001b[39m_check_algorithm_metric()\n\u001b[1;32m    447\u001b[0m \u001b[38;5;28;01mif\u001b[39;00m \u001b[38;5;28mself\u001b[39m\u001b[38;5;241m.\u001b[39mmetric_params \u001b[38;5;129;01mis\u001b[39;00m \u001b[38;5;28;01mNone\u001b[39;00m:\n",
      "File \u001b[0;32m~/.pyenv/versions/lewagon/lib/python3.8/site-packages/sklearn/base.py:577\u001b[0m, in \u001b[0;36mBaseEstimator._validate_data\u001b[0;34m(self, X, y, reset, validate_separately, **check_params)\u001b[0m\n\u001b[1;32m    575\u001b[0m     \u001b[38;5;28;01mraise\u001b[39;00m \u001b[38;5;167;01mValueError\u001b[39;00m(\u001b[38;5;124m\"\u001b[39m\u001b[38;5;124mValidation should be done on X, y or both.\u001b[39m\u001b[38;5;124m\"\u001b[39m)\n\u001b[1;32m    576\u001b[0m \u001b[38;5;28;01melif\u001b[39;00m \u001b[38;5;129;01mnot\u001b[39;00m no_val_X \u001b[38;5;129;01mand\u001b[39;00m no_val_y:\n\u001b[0;32m--> 577\u001b[0m     X \u001b[38;5;241m=\u001b[39m \u001b[43mcheck_array\u001b[49m\u001b[43m(\u001b[49m\u001b[43mX\u001b[49m\u001b[43m,\u001b[49m\u001b[43m \u001b[49m\u001b[43minput_name\u001b[49m\u001b[38;5;241;43m=\u001b[39;49m\u001b[38;5;124;43m\"\u001b[39;49m\u001b[38;5;124;43mX\u001b[39;49m\u001b[38;5;124;43m\"\u001b[39;49m\u001b[43m,\u001b[49m\u001b[43m \u001b[49m\u001b[38;5;241;43m*\u001b[39;49m\u001b[38;5;241;43m*\u001b[39;49m\u001b[43mcheck_params\u001b[49m\u001b[43m)\u001b[49m\n\u001b[1;32m    578\u001b[0m     out \u001b[38;5;241m=\u001b[39m X\n\u001b[1;32m    579\u001b[0m \u001b[38;5;28;01melif\u001b[39;00m no_val_X \u001b[38;5;129;01mand\u001b[39;00m \u001b[38;5;129;01mnot\u001b[39;00m no_val_y:\n",
      "File \u001b[0;32m~/.pyenv/versions/lewagon/lib/python3.8/site-packages/sklearn/utils/validation.py:856\u001b[0m, in \u001b[0;36mcheck_array\u001b[0;34m(array, accept_sparse, accept_large_sparse, dtype, order, copy, force_all_finite, ensure_2d, allow_nd, ensure_min_samples, ensure_min_features, estimator, input_name)\u001b[0m\n\u001b[1;32m    854\u001b[0m         array \u001b[38;5;241m=\u001b[39m array\u001b[38;5;241m.\u001b[39mastype(dtype, casting\u001b[38;5;241m=\u001b[39m\u001b[38;5;124m\"\u001b[39m\u001b[38;5;124munsafe\u001b[39m\u001b[38;5;124m\"\u001b[39m, copy\u001b[38;5;241m=\u001b[39m\u001b[38;5;28;01mFalse\u001b[39;00m)\n\u001b[1;32m    855\u001b[0m     \u001b[38;5;28;01melse\u001b[39;00m:\n\u001b[0;32m--> 856\u001b[0m         array \u001b[38;5;241m=\u001b[39m \u001b[43mnp\u001b[49m\u001b[38;5;241;43m.\u001b[39;49m\u001b[43masarray\u001b[49m\u001b[43m(\u001b[49m\u001b[43marray\u001b[49m\u001b[43m,\u001b[49m\u001b[43m \u001b[49m\u001b[43morder\u001b[49m\u001b[38;5;241;43m=\u001b[39;49m\u001b[43morder\u001b[49m\u001b[43m,\u001b[49m\u001b[43m \u001b[49m\u001b[43mdtype\u001b[49m\u001b[38;5;241;43m=\u001b[39;49m\u001b[43mdtype\u001b[49m\u001b[43m)\u001b[49m\n\u001b[1;32m    857\u001b[0m \u001b[38;5;28;01mexcept\u001b[39;00m ComplexWarning \u001b[38;5;28;01mas\u001b[39;00m complex_warning:\n\u001b[1;32m    858\u001b[0m     \u001b[38;5;28;01mraise\u001b[39;00m \u001b[38;5;167;01mValueError\u001b[39;00m(\n\u001b[1;32m    859\u001b[0m         \u001b[38;5;124m\"\u001b[39m\u001b[38;5;124mComplex data not supported\u001b[39m\u001b[38;5;130;01m\\n\u001b[39;00m\u001b[38;5;132;01m{}\u001b[39;00m\u001b[38;5;130;01m\\n\u001b[39;00m\u001b[38;5;124m\"\u001b[39m\u001b[38;5;241m.\u001b[39mformat(array)\n\u001b[1;32m    860\u001b[0m     ) \u001b[38;5;28;01mfrom\u001b[39;00m \u001b[38;5;21;01mcomplex_warning\u001b[39;00m\n",
      "File \u001b[0;32m~/.pyenv/versions/lewagon/lib/python3.8/site-packages/pandas/core/generic.py:2064\u001b[0m, in \u001b[0;36mNDFrame.__array__\u001b[0;34m(self, dtype)\u001b[0m\n\u001b[1;32m   2063\u001b[0m \u001b[38;5;28;01mdef\u001b[39;00m \u001b[38;5;21m__array__\u001b[39m(\u001b[38;5;28mself\u001b[39m, dtype: npt\u001b[38;5;241m.\u001b[39mDTypeLike \u001b[38;5;241m|\u001b[39m \u001b[38;5;28;01mNone\u001b[39;00m \u001b[38;5;241m=\u001b[39m \u001b[38;5;28;01mNone\u001b[39;00m) \u001b[38;5;241m-\u001b[39m\u001b[38;5;241m>\u001b[39m np\u001b[38;5;241m.\u001b[39mndarray:\n\u001b[0;32m-> 2064\u001b[0m     \u001b[38;5;28;01mreturn\u001b[39;00m \u001b[43mnp\u001b[49m\u001b[38;5;241;43m.\u001b[39;49m\u001b[43masarray\u001b[49m\u001b[43m(\u001b[49m\u001b[38;5;28;43mself\u001b[39;49m\u001b[38;5;241;43m.\u001b[39;49m\u001b[43m_values\u001b[49m\u001b[43m,\u001b[49m\u001b[43m \u001b[49m\u001b[43mdtype\u001b[49m\u001b[38;5;241;43m=\u001b[39;49m\u001b[43mdtype\u001b[49m\u001b[43m)\u001b[49m\n",
      "\u001b[0;31mValueError\u001b[0m: setting an array element with a sequence."
     ]
    }
   ],
   "source": [
    "X_res, y_res = mlsmote.MLSMOTE(X_sub, y_sub, 100)"
   ]
  },
  {
   "cell_type": "code",
   "execution_count": null,
   "id": "c80bfb3b",
   "metadata": {},
   "outputs": [],
   "source": []
  }
 ],
 "metadata": {
  "kernelspec": {
   "display_name": "Python 3 (ipykernel)",
   "language": "python",
   "name": "python3"
  },
  "language_info": {
   "codemirror_mode": {
    "name": "ipython",
    "version": 3
   },
   "file_extension": ".py",
   "mimetype": "text/x-python",
   "name": "python",
   "nbconvert_exporter": "python",
   "pygments_lexer": "ipython3",
   "version": "3.8.12"
  },
  "toc": {
   "base_numbering": 1,
   "nav_menu": {},
   "number_sections": true,
   "sideBar": true,
   "skip_h1_title": false,
   "title_cell": "Table of Contents",
   "title_sidebar": "Contents",
   "toc_cell": false,
   "toc_position": {},
   "toc_section_display": true,
   "toc_window_display": false
  }
 },
 "nbformat": 4,
 "nbformat_minor": 5
}

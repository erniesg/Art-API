{
 "cells": [
  {
   "cell_type": "code",
   "execution_count": 1,
   "id": "3fcd160b",
   "metadata": {
    "ExecuteTime": {
     "end_time": "2022-09-30T16:17:59.150928Z",
     "start_time": "2022-09-30T16:17:58.963010Z"
    }
   },
   "outputs": [],
   "source": [
    "import pandas as pd"
   ]
  },
  {
   "cell_type": "code",
   "execution_count": 3,
   "id": "b71a20dc",
   "metadata": {
    "ExecuteTime": {
     "end_time": "2022-09-30T16:18:44.796703Z",
     "start_time": "2022-09-30T16:18:44.792065Z"
    }
   },
   "outputs": [],
   "source": [
    "report = pd.read_csv(\"../raw_data/models/resnet_12_classes/classification_report_0.5.csv\")"
   ]
  },
  {
   "cell_type": "code",
   "execution_count": 9,
   "id": "4a025173",
   "metadata": {
    "ExecuteTime": {
     "end_time": "2022-09-30T16:19:17.138183Z",
     "start_time": "2022-09-30T16:19:17.132744Z"
    }
   },
   "outputs": [
    {
     "data": {
      "text/html": [
       "<div>\n",
       "<style scoped>\n",
       "    .dataframe tbody tr th:only-of-type {\n",
       "        vertical-align: middle;\n",
       "    }\n",
       "\n",
       "    .dataframe tbody tr th {\n",
       "        vertical-align: top;\n",
       "    }\n",
       "\n",
       "    .dataframe thead th {\n",
       "        text-align: right;\n",
       "    }\n",
       "</style>\n",
       "<table border=\"1\" class=\"dataframe\">\n",
       "  <thead>\n",
       "    <tr style=\"text-align: right;\">\n",
       "      <th></th>\n",
       "      <th>Unnamed: 0</th>\n",
       "      <th>class</th>\n",
       "      <th>scores</th>\n",
       "    </tr>\n",
       "  </thead>\n",
       "  <tbody>\n",
       "    <tr>\n",
       "      <th>0</th>\n",
       "      <td>0</td>\n",
       "      <td>aeroplane</td>\n",
       "      <td>{'precision': 0.8285714285714286, 'recall': 0....</td>\n",
       "    </tr>\n",
       "    <tr>\n",
       "      <th>1</th>\n",
       "      <td>1</td>\n",
       "      <td>bird</td>\n",
       "      <td>{'precision': 0.5333333333333333, 'recall': 0....</td>\n",
       "    </tr>\n",
       "    <tr>\n",
       "      <th>2</th>\n",
       "      <td>2</td>\n",
       "      <td>boat</td>\n",
       "      <td>{'precision': 0.7619047619047619, 'recall': 0....</td>\n",
       "    </tr>\n",
       "    <tr>\n",
       "      <th>3</th>\n",
       "      <td>3</td>\n",
       "      <td>chair</td>\n",
       "      <td>{'precision': 0.85, 'recall': 0.25757575757575...</td>\n",
       "    </tr>\n",
       "    <tr>\n",
       "      <th>4</th>\n",
       "      <td>4</td>\n",
       "      <td>cow</td>\n",
       "      <td>{'precision': 0.7241379310344828, 'recall': 0....</td>\n",
       "    </tr>\n",
       "    <tr>\n",
       "      <th>5</th>\n",
       "      <td>5</td>\n",
       "      <td>diningtable</td>\n",
       "      <td>{'precision': 0.6666666666666666, 'recall': 0....</td>\n",
       "    </tr>\n",
       "    <tr>\n",
       "      <th>6</th>\n",
       "      <td>6</td>\n",
       "      <td>dog</td>\n",
       "      <td>{'precision': 0.7, 'recall': 0.215384615384615...</td>\n",
       "    </tr>\n",
       "    <tr>\n",
       "      <th>7</th>\n",
       "      <td>7</td>\n",
       "      <td>horse</td>\n",
       "      <td>{'precision': 0.7619047619047619, 'recall': 0....</td>\n",
       "    </tr>\n",
       "    <tr>\n",
       "      <th>8</th>\n",
       "      <td>8</td>\n",
       "      <td>sheep</td>\n",
       "      <td>{'precision': 0.6410256410256411, 'recall': 0....</td>\n",
       "    </tr>\n",
       "    <tr>\n",
       "      <th>9</th>\n",
       "      <td>9</td>\n",
       "      <td>train</td>\n",
       "      <td>{'precision': 0.8571428571428571, 'recall': 0....</td>\n",
       "    </tr>\n",
       "    <tr>\n",
       "      <th>10</th>\n",
       "      <td>10</td>\n",
       "      <td>building</td>\n",
       "      <td>{'precision': 0.6176470588235294, 'recall': 0....</td>\n",
       "    </tr>\n",
       "    <tr>\n",
       "      <th>11</th>\n",
       "      <td>11</td>\n",
       "      <td>figure</td>\n",
       "      <td>{'precision': 0.875, 'recall': 0.5, 'f1-score'...</td>\n",
       "    </tr>\n",
       "    <tr>\n",
       "      <th>12</th>\n",
       "      <td>12</td>\n",
       "      <td>micro avg</td>\n",
       "      <td>{'precision': 0.7309941520467836, 'recall': 0....</td>\n",
       "    </tr>\n",
       "    <tr>\n",
       "      <th>13</th>\n",
       "      <td>13</td>\n",
       "      <td>macro avg</td>\n",
       "      <td>{'precision': 0.7347778700339552, 'recall': 0....</td>\n",
       "    </tr>\n",
       "    <tr>\n",
       "      <th>14</th>\n",
       "      <td>14</td>\n",
       "      <td>weighted avg</td>\n",
       "      <td>{'precision': 0.7344312043602105, 'recall': 0....</td>\n",
       "    </tr>\n",
       "    <tr>\n",
       "      <th>15</th>\n",
       "      <td>15</td>\n",
       "      <td>samples avg</td>\n",
       "      <td>{'precision': 0.4772108843537415, 'recall': 0....</td>\n",
       "    </tr>\n",
       "  </tbody>\n",
       "</table>\n",
       "</div>"
      ],
      "text/plain": [
       "    Unnamed: 0         class  \\\n",
       "0            0     aeroplane   \n",
       "1            1          bird   \n",
       "2            2          boat   \n",
       "3            3         chair   \n",
       "4            4           cow   \n",
       "5            5   diningtable   \n",
       "6            6           dog   \n",
       "7            7         horse   \n",
       "8            8         sheep   \n",
       "9            9         train   \n",
       "10          10      building   \n",
       "11          11        figure   \n",
       "12          12     micro avg   \n",
       "13          13     macro avg   \n",
       "14          14  weighted avg   \n",
       "15          15   samples avg   \n",
       "\n",
       "                                               scores  \n",
       "0   {'precision': 0.8285714285714286, 'recall': 0....  \n",
       "1   {'precision': 0.5333333333333333, 'recall': 0....  \n",
       "2   {'precision': 0.7619047619047619, 'recall': 0....  \n",
       "3   {'precision': 0.85, 'recall': 0.25757575757575...  \n",
       "4   {'precision': 0.7241379310344828, 'recall': 0....  \n",
       "5   {'precision': 0.6666666666666666, 'recall': 0....  \n",
       "6   {'precision': 0.7, 'recall': 0.215384615384615...  \n",
       "7   {'precision': 0.7619047619047619, 'recall': 0....  \n",
       "8   {'precision': 0.6410256410256411, 'recall': 0....  \n",
       "9   {'precision': 0.8571428571428571, 'recall': 0....  \n",
       "10  {'precision': 0.6176470588235294, 'recall': 0....  \n",
       "11  {'precision': 0.875, 'recall': 0.5, 'f1-score'...  \n",
       "12  {'precision': 0.7309941520467836, 'recall': 0....  \n",
       "13  {'precision': 0.7347778700339552, 'recall': 0....  \n",
       "14  {'precision': 0.7344312043602105, 'recall': 0....  \n",
       "15  {'precision': 0.4772108843537415, 'recall': 0....  "
      ]
     },
     "execution_count": 9,
     "metadata": {},
     "output_type": "execute_result"
    }
   ],
   "source": [
    "report"
   ]
  },
  {
   "cell_type": "code",
   "execution_count": 10,
   "id": "d9c4b324",
   "metadata": {
    "ExecuteTime": {
     "end_time": "2022-09-30T16:19:28.974713Z",
     "start_time": "2022-09-30T16:19:28.970951Z"
    }
   },
   "outputs": [
    {
     "data": {
      "text/plain": [
       "0     {'precision': 0.8285714285714286, 'recall': 0....\n",
       "1     {'precision': 0.5333333333333333, 'recall': 0....\n",
       "2     {'precision': 0.7619047619047619, 'recall': 0....\n",
       "3     {'precision': 0.85, 'recall': 0.25757575757575...\n",
       "4     {'precision': 0.7241379310344828, 'recall': 0....\n",
       "5     {'precision': 0.6666666666666666, 'recall': 0....\n",
       "6     {'precision': 0.7, 'recall': 0.215384615384615...\n",
       "7     {'precision': 0.7619047619047619, 'recall': 0....\n",
       "8     {'precision': 0.6410256410256411, 'recall': 0....\n",
       "9     {'precision': 0.8571428571428571, 'recall': 0....\n",
       "10    {'precision': 0.6176470588235294, 'recall': 0....\n",
       "11    {'precision': 0.875, 'recall': 0.5, 'f1-score'...\n",
       "12    {'precision': 0.7309941520467836, 'recall': 0....\n",
       "13    {'precision': 0.7347778700339552, 'recall': 0....\n",
       "14    {'precision': 0.7344312043602105, 'recall': 0....\n",
       "15    {'precision': 0.4772108843537415, 'recall': 0....\n",
       "Name: scores, dtype: object"
      ]
     },
     "execution_count": 10,
     "metadata": {},
     "output_type": "execute_result"
    }
   ],
   "source": [
    "report['scores']"
   ]
  },
  {
   "cell_type": "code",
   "execution_count": null,
   "id": "f0fbdc99",
   "metadata": {},
   "outputs": [],
   "source": []
  }
 ],
 "metadata": {
  "kernelspec": {
   "display_name": "Python 3 (ipykernel)",
   "language": "python",
   "name": "python3"
  },
  "language_info": {
   "codemirror_mode": {
    "name": "ipython",
    "version": 3
   },
   "file_extension": ".py",
   "mimetype": "text/x-python",
   "name": "python",
   "nbconvert_exporter": "python",
   "pygments_lexer": "ipython3",
   "version": "3.8.12"
  },
  "toc": {
   "base_numbering": 1,
   "nav_menu": {},
   "number_sections": true,
   "sideBar": true,
   "skip_h1_title": false,
   "title_cell": "Table of Contents",
   "title_sidebar": "Contents",
   "toc_cell": false,
   "toc_position": {},
   "toc_section_display": true,
   "toc_window_display": false
  }
 },
 "nbformat": 4,
 "nbformat_minor": 5
}
